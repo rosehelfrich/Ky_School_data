{
  "cells": [
    {
      "cell_type": "code",
      "source": [
        "!pip install datatable"
      ],
      "metadata": {
        "colab": {
          "base_uri": "https://localhost:8080/"
        },
        "id": "yHevnZXBee24",
        "outputId": "8fe07ed9-ebc7-433b-b392-1f9095afb22d"
      },
      "execution_count": 1,
      "outputs": [
        {
          "output_type": "stream",
          "name": "stdout",
          "text": [
            "Requirement already satisfied: datatable in /usr/local/lib/python3.10/dist-packages (1.1.0)\n"
          ]
        }
      ]
    },
    {
      "cell_type": "code",
      "execution_count": 2,
      "metadata": {
        "id": "37X_5UYLZKv6",
        "colab": {
          "base_uri": "https://localhost:8080/",
          "height": 17
        },
        "outputId": "cb46f315-a27c-41bb-b08a-1dd3f8161cff"
      },
      "outputs": [
        {
          "output_type": "display_data",
          "data": {
            "text/plain": [
              "<IPython.core.display.HTML object>"
            ],
            "text/html": [
              "<style type='text/css'>\n",
              ".datatable table.frame { margin-bottom: 0; }\n",
              ".datatable table.frame thead { border-bottom: none; }\n",
              ".datatable table.frame tr.coltypes td {  color: #FFFFFF;  line-height: 6px;  padding: 0 0.5em;}\n",
              ".datatable .bool    { background: #DDDD99; }\n",
              ".datatable .object  { background: #565656; }\n",
              ".datatable .int     { background: #5D9E5D; }\n",
              ".datatable .float   { background: #4040CC; }\n",
              ".datatable .str     { background: #CC4040; }\n",
              ".datatable .time    { background: #40CC40; }\n",
              ".datatable .row_index {  background: var(--jp-border-color3);  border-right: 1px solid var(--jp-border-color0);  color: var(--jp-ui-font-color3);  font-size: 9px;}\n",
              ".datatable .frame tbody td { text-align: left; }\n",
              ".datatable .frame tr.coltypes .row_index {  background: var(--jp-border-color0);}\n",
              ".datatable th:nth-child(2) { padding-left: 12px; }\n",
              ".datatable .hellipsis {  color: var(--jp-cell-editor-border-color);}\n",
              ".datatable .vellipsis {  background: var(--jp-layout-color0);  color: var(--jp-cell-editor-border-color);}\n",
              ".datatable .na {  color: var(--jp-cell-editor-border-color);  font-size: 80%;}\n",
              ".datatable .sp {  opacity: 0.25;}\n",
              ".datatable .footer { font-size: 9px; }\n",
              ".datatable .frame_dimensions {  background: var(--jp-border-color3);  border-top: 1px solid var(--jp-border-color0);  color: var(--jp-ui-font-color3);  display: inline-block;  opacity: 0.6;  padding: 1px 10px 1px 5px;}\n",
              "</style>\n"
            ]
          },
          "metadata": {}
        }
      ],
      "source": [
        "import pandas as pd\n",
        "import numpy as np\n",
        "import datatable as dt"
      ]
    },
    {
      "cell_type": "code",
      "execution_count": 3,
      "metadata": {
        "colab": {
          "base_uri": "https://localhost:8080/"
        },
        "id": "CHrkeD4_aXu7",
        "outputId": "3bbaedf2-aa2b-4a1b-91a8-2d86d0e34c40"
      },
      "outputs": [
        {
          "output_type": "stream",
          "name": "stdout",
          "text": [
            "Drive already mounted at /content/drive; to attempt to forcibly remount, call drive.mount(\"/content/drive\", force_remount=True).\n"
          ]
        }
      ],
      "source": [
        "from google.colab import drive\n",
        "drive.mount('/content/drive')"
      ]
    },
    {
      "cell_type": "code",
      "source": [
        "header = dt.fread('/content/drive/MyDrive/Colab Data/KY EPSB/All Years/df_header.csv').to_pandas().loc[:,['District Code', 'District', 'School', 'School Code', 'Level']]"
      ],
      "metadata": {
        "id": "xa4lng4hXMkA"
      },
      "execution_count": 4,
      "outputs": []
    },
    {
      "cell_type": "code",
      "source": [
        "def to_int(df, columns):\n",
        "  for column in columns:\n",
        "    df[column] = pd.to_numeric(df[column]).round(0).astype('Int64')"
      ],
      "metadata": {
        "id": "eF4RGepmqpOr"
      },
      "execution_count": 5,
      "outputs": []
    },
    {
      "cell_type": "markdown",
      "source": [
        "Changed the approach from importing all files at the start to enhance code readability."
      ],
      "metadata": {
        "id": "4to61RISPkoP"
      }
    },
    {
      "cell_type": "markdown",
      "metadata": {
        "id": "Zvgx0-aET84G"
      },
      "source": [
        "# Standardize School Data"
      ]
    },
    {
      "cell_type": "code",
      "source": [
        "# Rename the columns and replace the year to be the end year\n",
        "# Use df_header to select relevant schools and provide consistency across years\n",
        "\n",
        "def format_school_data(df, year):\n",
        "    df.columns = ['End Year', 'School Code', 'Reported Spending per student',\n",
        "                  'Student Count', 'Educator Count', 'Years of experience']\n",
        "    df['End Year'] = year\n",
        "\n",
        "    new_df = header.merge(df, on=['School Code'], how='inner').dropna(thresh=7).reset_index(drop=True)\n",
        "\n",
        "    return new_df"
      ],
      "metadata": {
        "id": "DybBdH9sUYE8"
      },
      "execution_count": 6,
      "outputs": []
    },
    {
      "cell_type": "markdown",
      "source": [
        "## Individual years"
      ],
      "metadata": {
        "id": "XSsg8vjBpEod"
      }
    },
    {
      "cell_type": "markdown",
      "source": [
        "Import and format columns for 2012-2017 data.  Column names changed each year so it had to be done individually."
      ],
      "metadata": {
        "id": "Tf2rKqF9q6im"
      }
    },
    {
      "cell_type": "code",
      "source": [
        "link_2012 = '/content/drive/MyDrive/Colab Data/KY EPSB/2011-2012/LEARNING_ENVIRONMENT_STUDENTS-TEACHERS.csv'\n",
        "raw_2012 = dt.fread(link_2012).to_pandas().loc[:,['SCH_YEAR', 'SCH_CD', 'SPENDING_PER_STDNT', 'MEMBERSHIP_TOTAL','FULLTIME_TCH_TOTAL', 'AVG_YRS_TCH_EXP']]\n",
        "envir_2012 = format_school_data(raw_2012, 2012)"
      ],
      "metadata": {
        "id": "nkVHgaNZzjWD"
      },
      "execution_count": 7,
      "outputs": []
    },
    {
      "cell_type": "code",
      "execution_count": 8,
      "metadata": {
        "id": "QID0kapQUIiJ"
      },
      "outputs": [],
      "source": [
        "link_2013 = '/content/drive/MyDrive/Colab Data/KY EPSB/2012-2013/LEARNING_ENVIRONMENT_STUDENTS-TEACHERS.csv'\n",
        "raw_2013 = dt.fread(link_2013).to_pandas().loc[:,['SCH_YEAR', 'SCH_CD', 'SPENDING_PER_STDNT', 'ENROLLMENT_TOTAL', 'FTE_TCH_TOTAL', 'AVG_YRS_TCH_EXP']]\n",
        "envir_2013 = format_school_data(raw_2013, 2013)"
      ]
    },
    {
      "cell_type": "code",
      "execution_count": 9,
      "metadata": {
        "id": "gDETIwz38PvA"
      },
      "outputs": [],
      "source": [
        "link_2014 = '/content/drive/MyDrive/Colab Data/KY EPSB/2013-2014/LEARNING_ENVIRONMENT_STUDENTS-TEACHERS.csv'\n",
        "raw_2014 = dt.fread(link_2014).to_pandas().loc[:,['SCH_YEAR', 'SCH_CD', 'SPENDING_PER_STDNT', 'MEMBERSHIP_TOTAL', 'FTE_TCH_TOTAL', 'AVG_YRS_TCH_EXP']]\n",
        "envir_2014 = format_school_data(raw_2014, 2014)"
      ]
    },
    {
      "cell_type": "code",
      "execution_count": 10,
      "metadata": {
        "id": "xQr1yjC2ZWNt"
      },
      "outputs": [],
      "source": [
        "link_2015 = '/content/drive/MyDrive/Colab Data/KY EPSB/2014-2015/LEARNING_ENVIRONMENT_STUDENTS-TEACHERS.csv'\n",
        "raw_2015 = dt.fread(link_2015).to_pandas().loc[:,['SCH_YEAR', 'SCH_CD', 'SPENDING_PER_STDNT', 'MEMBERSHIP_TOTAL', 'FTE_TCH_TOTAL', 'AVG_YRS_TCH_EXP']]\n",
        "envir_2015 = format_school_data(raw_2015, 2015)"
      ]
    },
    {
      "cell_type": "code",
      "execution_count": 11,
      "metadata": {
        "id": "NYSrq0GKbvoN"
      },
      "outputs": [],
      "source": [
        "link_2016 = '/content/drive/MyDrive/Colab Data/KY EPSB/2015-2016/LEARNING_ENVIRONMENT_STUDENTS-TEACHERS.csv'\n",
        "raw_2016 = dt.fread(link_2016).to_pandas().loc[:,['SCH_YEAR', 'SCH_CD', 'SPENDING_PER_STDNT', 'MEMBERSHIP_TOTAL', 'FTE_TCH_TOTAL', 'AVG_YRS_TCH_EXP']]\n",
        "envir_2016 = format_school_data(raw_2016, 2016)"
      ]
    },
    {
      "cell_type": "code",
      "execution_count": 12,
      "metadata": {
        "id": "XCyULrDkdhTF"
      },
      "outputs": [],
      "source": [
        "link_2017 = '/content/drive/MyDrive/Colab Data/KY EPSB/2016-2017/LEARNING_ENVIRONMENT_STUDENTS-TEACHERS.csv'\n",
        "raw_2017 = dt.fread(link_2017).to_pandas().loc[:,['SCH_YEAR', 'SCH_CD', 'SPENDING_PER_STDNT', 'MEMBERSHIP_TOTAL', 'FTE_TCH_TOTAL', 'AVG_YRS_TCH_EXP']]\n",
        "envir_2017 = format_school_data(raw_2017, 2017)"
      ]
    },
    {
      "cell_type": "markdown",
      "source": [
        "Load and format columns for 2018 - 2019 data. To retrieve the same data, three files had to be imported per year."
      ],
      "metadata": {
        "id": "zdA97JPnrEDp"
      }
    },
    {
      "cell_type": "code",
      "source": [
        "def format_2018_2019_data(spending, students, teacher):\n",
        "  df_spending = dt.fread(spending).to_pandas().loc[:, ['SCH_YEAR', 'DIST_NUMBER', 'SCH_NUMBER', 'TOTAL_PER_STU_ALLFUNDS']]\n",
        "  df_spending['School Code'] = (df_spending['DIST_NUMBER'] * 1000 + df_spending['SCH_NUMBER'])\n",
        "\n",
        "  df_students = dt.fread(students).to_pandas().loc[:,['DIST_NUMBER', 'SCH_NUMBER', 'MEMBERSHIP_TOTAL']]\n",
        "  df_students['School Code'] = (df_students['DIST_NUMBER'] * 1000 + df_students['SCH_NUMBER'])\n",
        "\n",
        "  spending_and_students = df_spending.merge(df_students, how='left', on='School Code')\n",
        "\n",
        "  df_teacher = dt.fread(teacher).to_pandas().loc[:,['SCH_CD','Teacher Count','AVGEXPERIENCEYEARS']]\n",
        "\n",
        "  new_df = spending_and_students.merge(df_teacher, left_on='School Code', right_on='SCH_CD', how='left').loc[:, ['SCH_YEAR', 'School Code', 'TOTAL_PER_STU_ALLFUNDS', 'MEMBERSHIP_TOTAL', 'Teacher Count', 'AVGEXPERIENCEYEARS']]\n",
        "\n",
        "  return new_df"
      ],
      "metadata": {
        "id": "3cZLKFE5RzUj"
      },
      "execution_count": 13,
      "outputs": []
    },
    {
      "cell_type": "code",
      "source": [
        "spending_2018_link = '/content/drive/MyDrive/Colab Data/KY EPSB/2017-2018/SPENDING_PER_STUDENT.csv'\n",
        "student_2018_link = '/content/drive/MyDrive/Colab Data/KY EPSB/2017-2018/STUDENT_DEMOGRAPHIC_RACE_GENDER.csv'\n",
        "teacher_2018_link = '/content/drive/MyDrive/Colab Data/KY EPSB/2017-2018/SCHOOL_EXPERIENCE.csv'\n",
        "\n",
        "all_2018 = format_2018_2019_data(spending_2018_link, student_2018_link, teacher_2018_link)\n",
        "envir_2018 = format_school_data(all_2018, 2018)\n"
      ],
      "metadata": {
        "id": "MMlakjVfX7iw"
      },
      "execution_count": 14,
      "outputs": []
    },
    {
      "cell_type": "code",
      "source": [
        "spending_2019_link = '/content/drive/MyDrive/Colab Data/KY EPSB/2017-2018/SPENDING_PER_STUDENT.csv'\n",
        "student_2019_link = '/content/drive/MyDrive/Colab Data/KY EPSB/2017-2018/STUDENT_DEMOGRAPHIC_RACE_GENDER.csv'\n",
        "teacher_2019_link = '/content/drive/MyDrive/Colab Data/KY EPSB/2017-2018/SCHOOL_EXPERIENCE.csv'\n",
        "\n",
        "all_2019 = format_2018_2019_data(spending_2019_link, student_2019_link, teacher_2019_link)\n",
        "envir_2019 = format_school_data(all_2019, 2019)"
      ],
      "metadata": {
        "id": "lWk4eatmaluw"
      },
      "execution_count": 15,
      "outputs": []
    },
    {
      "cell_type": "markdown",
      "source": [
        "2020 data is eventually excluded because no data exist for 2020 school test scores."
      ],
      "metadata": {
        "id": "Ch7j5u9YsVxY"
      }
    },
    {
      "cell_type": "code",
      "execution_count": 16,
      "metadata": {
        "id": "y0uQsy1jhUwU"
      },
      "outputs": [],
      "source": [
        "spending_and_students_2020 = dt.fread('/content/drive/MyDrive/Colab Data/KY EPSB/2019-2020/spending_per_student_2020.csv').to_pandas().loc[:,['SCHOOL YEAR', 'SCHOOL CODE', 'Total Spending per Student - All Fund Sources', 'MEMBERSHIP']]\n",
        "teacher_2020 = dt.fread('/content/drive/MyDrive/Colab Data/KY EPSB/2019-2020/average_years_school_experience_2020.csv').to_pandas().loc[:,['SCHOOL CODE', 'EDUCATOR COUNT', 'AVERAGE YEARS OF EXPERIENCE']]\n",
        "\n",
        "all_2020 = spending_and_students_2020.merge(teacher_2020, left_on='SCHOOL CODE', right_on='SCHOOL CODE', how='left')\n",
        "envir_2020 = format_school_data(all_2020, 2020)\n"
      ]
    },
    {
      "cell_type": "markdown",
      "source": [
        "Two files are needed for the 2021 and 2022 data."
      ],
      "metadata": {
        "id": "l-roAEmsEcmv"
      }
    },
    {
      "cell_type": "code",
      "execution_count": 17,
      "metadata": {
        "id": "qmLbmcQhlt29"
      },
      "outputs": [],
      "source": [
        "# 2021 data\n",
        "spending_and_students_2021 = dt.fread('/content/drive/MyDrive/Colab Data/KY EPSB/2020-2021/spending_per_student_2021_by_school.csv').to_pandas().loc[:,['SCHOOL YEAR', 'SCHOOL CODE', 'Total Spending per Student - All Fund Sources', 'MEMBERSHIP']]\n",
        "teacher_2021 = dt.fread('/content/drive/MyDrive/Colab Data/KY EPSB/2020-2021/average_years_school_experience_2021_by_school.csv').to_pandas().loc[:,['SCHOOL CODE','EDUCATOR COUNT', 'AVERAGE YEARS OF EXPERIENCE']]\n",
        "\n",
        "all_2021 = spending_and_students_2021.merge(teacher_2021, on='SCHOOL CODE', how='left')\n",
        "envir_2021 = format_school_data(all_2021, 2021)"
      ]
    },
    {
      "cell_type": "code",
      "source": [
        "#2022 data\n",
        "spending_and_students_2022 = dt.fread('/content/drive/MyDrive/Colab Data/KY EPSB/2021-2022/spending_per_student_2022.csv').to_pandas().loc[:,['SCHOOL YEAR', 'SCHOOL CODE', 'Total Spending per Student - All Fund Sources', 'MEMBERSHIP']]\n",
        "teacher_2022 = dt.fread('/content/drive/MyDrive/Colab Data/KY EPSB/2021-2022/average_years_school_experience_2022.csv').to_pandas().loc[:,['SCHOOL CODE', 'EDUCATOR COUNT', 'AVERAGE YEARS OF EXPERIENCE']]\n",
        "\n",
        "all_2022 = spending_and_students_2022.merge(teacher_2022, how='left', on='SCHOOL CODE')\n",
        "envir_2022 = format_school_data(all_2022, 2022)"
      ],
      "metadata": {
        "id": "wglv1yNwAy9H"
      },
      "execution_count": 18,
      "outputs": []
    },
    {
      "cell_type": "code",
      "source": [
        "# Need 2023 spending data\n",
        "#.loc[:,['SCHOOL YEAR', 'SCHOOL CODE', 'Total Spending per Student - All Fund Sources', 'MEMBERSHIP']]\n",
        "\n",
        "teacher_2023 = dt.fread('/content/drive/MyDrive/Colab Data/KY EPSB/2022-2023/average_years_school_experience_2023.csv').to_pandas().loc[:,['SCHOOL CODE', 'EDUCATOR COUNT', 'AVERAGE YEARS OF EXPERIENCE']]"
      ],
      "metadata": {
        "id": "bC3_VeajkCdP"
      },
      "execution_count": 19,
      "outputs": []
    },
    {
      "cell_type": "markdown",
      "source": [
        "## Compile school data"
      ],
      "metadata": {
        "id": "Ez9faMZPpaf7"
      }
    },
    {
      "cell_type": "code",
      "source": [
        "# Combine years into one df\n",
        "school_envir = pd.concat([envir_2012, envir_2013, envir_2014, envir_2015, envir_2016,\n",
        "                       envir_2017, envir_2018, envir_2019, envir_2020, envir_2021, envir_2022],\n",
        "                       axis=0, ignore_index=True)\n"
      ],
      "metadata": {
        "id": "zqENyLJBwjiD"
      },
      "execution_count": 20,
      "outputs": []
    },
    {
      "cell_type": "code",
      "source": [
        "to_int(school_envir, ['Reported Spending per student', 'Student Count', 'Educator Count', 'Years of experience'])"
      ],
      "metadata": {
        "colab": {
          "base_uri": "https://localhost:8080/"
        },
        "id": "2J_HxczKnkLq",
        "outputId": "f94e730f-b444-4387-a883-4278ebfb8c67"
      },
      "execution_count": 21,
      "outputs": [
        {
          "output_type": "stream",
          "name": "stderr",
          "text": [
            "/usr/local/lib/python3.10/dist-packages/pandas/core/series.py:2602: RuntimeWarning: invalid value encountered in rint\n",
            "  result = self._values.round(decimals)\n"
          ]
        }
      ]
    },
    {
      "cell_type": "code",
      "source": [
        "school_envir.to_csv('/content/drive/MyDrive/Colab Data/KY EPSB/All Years/Unpublished/school_envir.csv', index = False)"
      ],
      "metadata": {
        "id": "whFlArIoEvS4"
      },
      "execution_count": 22,
      "outputs": []
    },
    {
      "cell_type": "code",
      "source": [
        "school_envir.info()"
      ],
      "metadata": {
        "colab": {
          "base_uri": "https://localhost:8080/"
        },
        "id": "SMrXN8HXyJZi",
        "outputId": "e4f5e51b-e9c9-4b8e-b5a3-e7dc7e7002f5"
      },
      "execution_count": 23,
      "outputs": [
        {
          "output_type": "stream",
          "name": "stdout",
          "text": [
            "<class 'pandas.core.frame.DataFrame'>\n",
            "RangeIndex: 15984 entries, 0 to 15983\n",
            "Data columns (total 10 columns):\n",
            " #   Column                         Non-Null Count  Dtype \n",
            "---  ------                         --------------  ----- \n",
            " 0   District Code                  15984 non-null  int32 \n",
            " 1   District                       15984 non-null  object\n",
            " 2   School                         15984 non-null  object\n",
            " 3   School Code                    15984 non-null  int32 \n",
            " 4   Level                          15984 non-null  object\n",
            " 5   End Year                       15984 non-null  int64 \n",
            " 6   Reported Spending per student  14929 non-null  Int64 \n",
            " 7   Student Count                  15938 non-null  Int64 \n",
            " 8   Educator Count                 15744 non-null  Int64 \n",
            " 9   Years of experience            15678 non-null  Int64 \n",
            "dtypes: Int64(4), int32(2), int64(1), object(3)\n",
            "memory usage: 1.2+ MB\n"
          ]
        }
      ]
    },
    {
      "cell_type": "markdown",
      "metadata": {
        "id": "uwXBvI1a5Y3-"
      },
      "source": [
        "# District Salary Information"
      ]
    },
    {
      "cell_type": "code",
      "source": [
        "# process teacher salaries per year, per district, and format salaries for further analysis\n",
        "\n",
        "def salary_schedule(schedule, year):\n",
        "    # Select only rows where the Rank is II\n",
        "    schedule = schedule[schedule['Rank'] == 'II'].copy()\n",
        "\n",
        "    # Compute the maximum salary for Rank II\n",
        "    salary = schedule[['I', 'II', 'III']].max(numeric_only=True ,axis=1)\n",
        "\n",
        "    # Add the 'Salary' column\n",
        "    schedule['Salary'] = salary\n",
        "\n",
        "    # Split the 'District' column into two columns and convert 'DISTRICT NUMBER' to integer\n",
        "    schedule[['District Code', 'District']] = schedule['District'].str.split(n=1, expand=True)\n",
        "    schedule['District Code'] = schedule['District Code'].astype(int)\n",
        "\n",
        "    # Select only the necessary columns\n",
        "    new_schedule = schedule.loc[:,['Fiscal Year', 'Years', 'District Code', 'District', 'Salary']].copy()\n",
        "\n",
        "    # Rename the columns\n",
        "    new_schedule = new_schedule.rename(columns={\n",
        "        'Fiscal Year': 'End Year',\n",
        "        'Years': 'Years of experience',\n",
        "        'Salary': 'Teacher salary based on experience'})\n",
        "\n",
        "    new_schedule['End Year'] = year\n",
        "\n",
        "    return new_schedule\n"
      ],
      "metadata": {
        "id": "nFpfcNWIs1nP"
      },
      "execution_count": 24,
      "outputs": []
    },
    {
      "cell_type": "code",
      "source": [
        "# Use to locate the district teacher salary average\n",
        "\n",
        "def get_district_average(row):\n",
        "    district_code = row['District Code']\n",
        "    end_year = row['End Year']\n",
        "    return avg_salary.loc[district_code, end_year]"
      ],
      "metadata": {
        "id": "xvpEBARYGpk9"
      },
      "execution_count": 25,
      "outputs": []
    },
    {
      "cell_type": "markdown",
      "source": [
        "## Salary Schedule by experience"
      ],
      "metadata": {
        "id": "lWKdS-sl6ks_"
      }
    },
    {
      "cell_type": "code",
      "source": [
        "# Import yearly salary information\n",
        "\n",
        "raw_2010_salary = dt.fread('/content/drive/MyDrive/Colab Data/KY EPSB/Salary schedules/fy 09-10 salary schedule.csv').to_pandas()\n",
        "raw_2011_salary = dt.fread('/content/drive/MyDrive/Colab Data/KY EPSB/Salary schedules/fy 10-11 salary schedule.csv').to_pandas()\n",
        "raw_2012_salary = dt.fread('/content/drive/MyDrive/Colab Data/KY EPSB/Salary schedules/fy 11-12 salary schedule.csv').to_pandas()\n",
        "raw_2013_salary = dt.fread('/content/drive/MyDrive/Colab Data/KY EPSB/Salary schedules/fy 12-13 salary schedule.csv').to_pandas()\n",
        "raw_2014_salary = dt.fread('/content/drive/MyDrive/Colab Data/KY EPSB/Salary schedules/fy 13-14 salary schedule.csv').to_pandas()\n",
        "raw_2015_salary = dt.fread('/content/drive/MyDrive/Colab Data/KY EPSB/Salary schedules/fy 14-15 salary schedule.csv').to_pandas()\n",
        "raw_2016_salary = dt.fread('/content/drive/MyDrive/Colab Data/KY EPSB/Salary schedules/fy 15-16 salary schedule.csv').to_pandas()\n",
        "raw_2017_salary = dt.fread('/content/drive/MyDrive/Colab Data/KY EPSB/Salary schedules/fy 16-17 salary schedule.csv').to_pandas()\n",
        "raw_2018_salary = dt.fread('/content/drive/MyDrive/Colab Data/KY EPSB/Salary schedules/fy 17-18 salary schedule.csv').to_pandas()\n",
        "raw_2019_salary = dt.fread('/content/drive/MyDrive/Colab Data/KY EPSB/Salary schedules/fy 18-19 salary schedule.csv').to_pandas()\n",
        "raw_2020_salary = dt.fread('/content/drive/MyDrive/Colab Data/KY EPSB/Salary schedules/fy 19-20 salary schedule.csv').to_pandas()\n",
        "raw_2021_salary = dt.fread('/content/drive/MyDrive/Colab Data/KY EPSB/Salary schedules/fy 20-21 salary schedule.csv').to_pandas()\n",
        "raw_2022_salary = dt.fread('/content/drive/MyDrive/Colab Data/KY EPSB/Salary schedules/fy 21-22 salary schedule.csv').to_pandas()\n",
        "\n",
        "raw_2024_salary = dt.fread('/content/drive/MyDrive/Colab Data/KY EPSB/Salary schedules/fy 23-24 salary schedule.csv').to_pandas()"
      ],
      "metadata": {
        "id": "FqJSpG196R_Y"
      },
      "execution_count": 26,
      "outputs": []
    },
    {
      "cell_type": "code",
      "source": [
        "years = list(range(2010, 2023))\n",
        "\n",
        "# Grab all the raw salary data and put them into this list\n",
        "salary_list = [salary_schedule(globals()[f'raw_{year}_salary'], year) for year in years]\n",
        "\n",
        "# Concatenate into a single DataFrame\n",
        "salary_by_experience = pd.concat(salary_list).drop_duplicates(ignore_index=True)\n"
      ],
      "metadata": {
        "id": "hsayCdAy3k9b"
      },
      "execution_count": 27,
      "outputs": []
    },
    {
      "cell_type": "code",
      "source": [
        "# Convert to Int64\n",
        "to_int(salary_by_experience, ['Years of experience', 'Teacher salary based on experience'])"
      ],
      "metadata": {
        "id": "VYyStnvSuDEJ"
      },
      "execution_count": 28,
      "outputs": []
    },
    {
      "cell_type": "code",
      "source": [
        "salary_by_experience.info()"
      ],
      "metadata": {
        "colab": {
          "base_uri": "https://localhost:8080/"
        },
        "id": "W13cFwYguPwp",
        "outputId": "99c7e284-672f-44e9-95a0-9354c8a5dd6b"
      },
      "execution_count": 29,
      "outputs": [
        {
          "output_type": "stream",
          "name": "stdout",
          "text": [
            "<class 'pandas.core.frame.DataFrame'>\n",
            "RangeIndex: 91143 entries, 0 to 91142\n",
            "Data columns (total 5 columns):\n",
            " #   Column                              Non-Null Count  Dtype \n",
            "---  ------                              --------------  ----- \n",
            " 0   End Year                            91143 non-null  int64 \n",
            " 1   Years of experience                 91143 non-null  Int64 \n",
            " 2   District Code                       91143 non-null  int64 \n",
            " 3   District                            91143 non-null  object\n",
            " 4   Teacher salary based on experience  84132 non-null  Int64 \n",
            "dtypes: Int64(2), int64(2), object(1)\n",
            "memory usage: 3.7+ MB\n"
          ]
        }
      ]
    },
    {
      "cell_type": "markdown",
      "source": [
        "## Teacher salary average per district"
      ],
      "metadata": {
        "id": "j2n8rV606tFv"
      }
    },
    {
      "cell_type": "code",
      "source": [
        "dist_salary_link = '/content/drive/MyDrive/Colab Data/KY EPSB/Per District/Average Classroom Teacher Salaries (1989-2024) ADA.csv'\n",
        "\n",
        "avg_salary = dt.fread(dist_salary_link).to_pandas().loc[:, ['Dist No', '2009-10', '2010-11', '2011-12',\n",
        "                                               '2012-13', '2013-14', '2014-15', '2015-16', '2016-17',\n",
        "                                               '2017-18', '2018-19', '2019-20', '2020-21', '2021-22',\n",
        "                                               '2022-23', '2023-24']]\n",
        "\n",
        "# Rename the columns\n",
        "new_column_names = ['District Code'] + list(range(2010, 2025))\n",
        "avg_salary.columns = new_column_names\n",
        "\n",
        "avg_salary.dropna(inplace=True)\n",
        "\n",
        "# Round to whole number then convert to Int64\n",
        "to_int(avg_salary, list(range(2010, 2025)))\n",
        "\n",
        "# Set district code to index\n",
        "avg_salary.set_index('District Code', drop=True, inplace=True)"
      ],
      "metadata": {
        "colab": {
          "base_uri": "https://localhost:8080/"
        },
        "id": "P3RDv-kg7TSd",
        "outputId": "d0145ee0-075f-4dc8-f334-8d6c94b7847f"
      },
      "execution_count": 30,
      "outputs": [
        {
          "output_type": "stream",
          "name": "stderr",
          "text": [
            "DatatableWarning: Duplicate column names found, and were assigned unique names: '% CHG' -> '% CHG.0', '% CHG' -> '% CHG.1', ..., '% CHG' -> '% CHG.32'\n"
          ]
        }
      ]
    },
    {
      "cell_type": "code",
      "execution_count": 31,
      "metadata": {
        "id": "sDg9WEzymPQ1"
      },
      "outputs": [],
      "source": [
        "# Combine district avg salary with salaries by experience per year\n",
        "# This will be used to create an estimate of money spent per school.\n",
        "\n",
        "df_salary = salary_by_experience.copy()\n",
        "df_salary['District teacher salary average'] = df_salary.apply(get_district_average, axis=1)\n",
        "df_salary.drop(['District'], axis =1, inplace=True)"
      ]
    },
    {
      "cell_type": "code",
      "source": [
        "# Convert to Int64\n",
        "to_int(df_salary, ['District teacher salary average'])"
      ],
      "metadata": {
        "id": "9xm2oS7iv1lH"
      },
      "execution_count": 32,
      "outputs": []
    },
    {
      "cell_type": "code",
      "source": [
        "df_salary.info()"
      ],
      "metadata": {
        "colab": {
          "base_uri": "https://localhost:8080/"
        },
        "id": "Z_vBGWuVtwCH",
        "outputId": "87e45956-2fc4-4fa6-f231-0991afb37f6c"
      },
      "execution_count": 33,
      "outputs": [
        {
          "output_type": "stream",
          "name": "stdout",
          "text": [
            "<class 'pandas.core.frame.DataFrame'>\n",
            "RangeIndex: 91143 entries, 0 to 91142\n",
            "Data columns (total 5 columns):\n",
            " #   Column                              Non-Null Count  Dtype\n",
            "---  ------                              --------------  -----\n",
            " 0   End Year                            91143 non-null  int64\n",
            " 1   Years of experience                 91143 non-null  Int64\n",
            " 2   District Code                       91143 non-null  int64\n",
            " 3   Teacher salary based on experience  84132 non-null  Int64\n",
            " 4   District teacher salary average     91143 non-null  Int64\n",
            "dtypes: Int64(3), int64(2)\n",
            "memory usage: 3.7 MB\n"
          ]
        }
      ]
    },
    {
      "cell_type": "markdown",
      "source": [
        "# School and District"
      ],
      "metadata": {
        "id": "d_NrR82Pl6pA"
      }
    },
    {
      "cell_type": "code",
      "execution_count": 34,
      "metadata": {
        "id": "TrmrZjBASW2i"
      },
      "outputs": [],
      "source": [
        "#Merge the school and district data.\n",
        "df_preprocessed = pd.merge(school_envir, df_salary, on=['End Year', 'District Code', 'Years of experience'], how='left')\n",
        "\n",
        "# Create codes for level and end year\n",
        "df_preprocessed['Level Code'] = df_preprocessed['Level'].replace(['ES', 'MS', 'HS'], [0, 1, 2])\n",
        "df_preprocessed['End Year Code'] = df_preprocessed['End Year'] - 2012\n",
        "\n",
        "#Reorders the columns\n",
        "reordered_columns = ['End Year', 'End Year Code', 'District Code', 'District', 'School Code',\n",
        "                    'School', 'Level', 'Level Code', 'Reported Spending per student', 'Student Count',\n",
        "                    'Educator Count', 'Years of experience', 'Teacher salary based on experience',\n",
        "                    'District teacher salary average']\n",
        "df_preprocessed = df_preprocessed[reordered_columns]\n",
        "\n",
        "# In case duplicates occur.  Right now these don't actually drop any rows.\n",
        "df_preprocessed.drop_duplicates(inplace=True)\n",
        "df_preprocessed.dropna(subset=['End Year', 'Level'], inplace=True)\n",
        "df_preprocessed.reset_index(drop=True, inplace=True)"
      ]
    },
    {
      "cell_type": "code",
      "source": [
        "# Replace the values that appear incorrect with np.Nan\n",
        "df_preprocessed.loc[df_preprocessed['Reported Spending per student'] < 2000, 'Reported Spending per student'] = np.NaN\n",
        "df_preprocessed.loc[df_preprocessed['Educator Count'] < 2, 'Educator Count'] = np.NaN\n",
        "df_preprocessed.loc[df_preprocessed['Student Count'] < 10, 'Student Count'] = np.NaN\n",
        "\n",
        "#Replace empty values with np.nan (doesn't remove data)\n",
        "null_mask = pd.isnull(df_preprocessed ['Reported Spending per student'])\n",
        "df_preprocessed.loc[null_mask, ['Money Difference per school', 'Money Difference per student']] = np.nan"
      ],
      "metadata": {
        "id": "nirL8ZxwmWeY"
      },
      "execution_count": 35,
      "outputs": []
    },
    {
      "cell_type": "code",
      "source": [
        "# Calculated estimated spending\n",
        "df_preprocessed['Money Difference per school'] = ((df_preprocessed['Teacher salary based on experience'] - df_preprocessed['District teacher salary average']) * df_preprocessed['Educator Count'])\n",
        "df_preprocessed['Money Difference per student'] = (df_preprocessed['Money Difference per school'] / df_preprocessed['Student Count'])\n",
        "df_preprocessed['Estimated Spending per student'] = (df_preprocessed['Reported Spending per student'] + df_preprocessed['Money Difference per student'])\n",
        "\n",
        "# Convert to Int64\n",
        "to_int(df_preprocessed, ['Level Code', 'Money Difference per school', 'Money Difference per student', 'Estimated Spending per student'])\n"
      ],
      "metadata": {
        "id": "0KP5K623mJf_"
      },
      "execution_count": 36,
      "outputs": []
    },
    {
      "cell_type": "code",
      "source": [
        "df_preprocessed.to_csv('/content/drive/MyDrive/Colab Data/KY EPSB/All Years/Unpublished/preprocessed_df.csv', index = False)"
      ],
      "metadata": {
        "id": "FB4ZgLgRmJnR"
      },
      "execution_count": 37,
      "outputs": []
    },
    {
      "cell_type": "code",
      "source": [
        "df_preprocessed"
      ],
      "metadata": {
        "colab": {
          "base_uri": "https://localhost:8080/",
          "height": 912
        },
        "id": "38KLjp3Ox2cq",
        "outputId": "87a474ed-96dd-4e93-c5ab-c5ff8971b60b"
      },
      "execution_count": 38,
      "outputs": [
        {
          "output_type": "execute_result",
          "data": {
            "text/plain": [
              "       End Year  End Year Code  District Code         District  School Code  \\\n",
              "0          2012              0              1     Adair County         1010   \n",
              "1          2012              0              1     Adair County         1013   \n",
              "2          2012              0              1     Adair County         1014   \n",
              "3          2012              0              1     Adair County         1016   \n",
              "4          2012              0              5     Allen County         5010   \n",
              "...         ...            ...            ...              ...          ...   \n",
              "15979      2022             10            601  Woodford County       601075   \n",
              "15980      2022             10            601  Woodford County       601084   \n",
              "15981      2022             10            601  Woodford County       601085   \n",
              "15982      2022             10            601  Woodford County       601090   \n",
              "15983      2022             10            601  Woodford County       601120   \n",
              "\n",
              "                               School Level  Level Code  \\\n",
              "0            Adair County High School    HS           2   \n",
              "1      John Adair Intermediate School    ES           0   \n",
              "2          Adair County Middle School    MS           1   \n",
              "3      Adair County Elementary School    ES           0   \n",
              "4         Allen County Primary Center    ES           0   \n",
              "...                               ...   ...         ...   \n",
              "15979       Simmons Elementary School    ES           0   \n",
              "15980     Woodford County High School    HS           2   \n",
              "15981   Woodford County Middle School    MS           1   \n",
              "15982    Huntertown Elementary School    ES           0   \n",
              "15983     Northside Elementary School    ES           0   \n",
              "\n",
              "       Reported Spending per student  Student Count  Educator Count  \\\n",
              "0                               6457            698              42   \n",
              "1                               7198            356              23   \n",
              "2                               6719            386              24   \n",
              "3                               7261            597              39   \n",
              "4                               7927            907              63   \n",
              "...                              ...            ...             ...   \n",
              "15979                          15848            372              21   \n",
              "15980                          13453           1267              70   \n",
              "15981                          12258            904              54   \n",
              "15982                          14956            414              24   \n",
              "15983                          15041            328              19   \n",
              "\n",
              "       Years of experience  Teacher salary based on experience  \\\n",
              "0                       17                               47186   \n",
              "1                       18                               47186   \n",
              "2                       14                               45733   \n",
              "3                       19                               47186   \n",
              "4                       12                               49759   \n",
              "...                    ...                                 ...   \n",
              "15979                   14                               55495   \n",
              "15980                   11                               53771   \n",
              "15981                    9                               51077   \n",
              "15982                   12                               54283   \n",
              "15983                   16                               56574   \n",
              "\n",
              "       District teacher salary average  Money Difference per school  \\\n",
              "0                                48053                       -36414   \n",
              "1                                48053                       -19941   \n",
              "2                                48053                       -55680   \n",
              "3                                48053                       -33813   \n",
              "4                                46735                       190512   \n",
              "...                                ...                          ...   \n",
              "15979                            54266                        25809   \n",
              "15980                            54266                       -34650   \n",
              "15981                            54266                      -172206   \n",
              "15982                            54266                          408   \n",
              "15983                            54266                        43852   \n",
              "\n",
              "       Money Difference per student  Estimated Spending per student  \n",
              "0                               -52                            6405  \n",
              "1                               -56                            7142  \n",
              "2                              -144                            6575  \n",
              "3                               -57                            7204  \n",
              "4                               210                            8137  \n",
              "...                             ...                             ...  \n",
              "15979                            69                           15917  \n",
              "15980                           -27                           13426  \n",
              "15981                          -190                           12068  \n",
              "15982                             1                           14957  \n",
              "15983                           134                           15175  \n",
              "\n",
              "[15984 rows x 17 columns]"
            ],
            "text/html": [
              "\n",
              "  <div id=\"df-d8ed446f-7ab6-4647-94e3-0c2d211033e8\" class=\"colab-df-container\">\n",
              "    <div>\n",
              "<style scoped>\n",
              "    .dataframe tbody tr th:only-of-type {\n",
              "        vertical-align: middle;\n",
              "    }\n",
              "\n",
              "    .dataframe tbody tr th {\n",
              "        vertical-align: top;\n",
              "    }\n",
              "\n",
              "    .dataframe thead th {\n",
              "        text-align: right;\n",
              "    }\n",
              "</style>\n",
              "<table border=\"1\" class=\"dataframe\">\n",
              "  <thead>\n",
              "    <tr style=\"text-align: right;\">\n",
              "      <th></th>\n",
              "      <th>End Year</th>\n",
              "      <th>End Year Code</th>\n",
              "      <th>District Code</th>\n",
              "      <th>District</th>\n",
              "      <th>School Code</th>\n",
              "      <th>School</th>\n",
              "      <th>Level</th>\n",
              "      <th>Level Code</th>\n",
              "      <th>Reported Spending per student</th>\n",
              "      <th>Student Count</th>\n",
              "      <th>Educator Count</th>\n",
              "      <th>Years of experience</th>\n",
              "      <th>Teacher salary based on experience</th>\n",
              "      <th>District teacher salary average</th>\n",
              "      <th>Money Difference per school</th>\n",
              "      <th>Money Difference per student</th>\n",
              "      <th>Estimated Spending per student</th>\n",
              "    </tr>\n",
              "  </thead>\n",
              "  <tbody>\n",
              "    <tr>\n",
              "      <th>0</th>\n",
              "      <td>2012</td>\n",
              "      <td>0</td>\n",
              "      <td>1</td>\n",
              "      <td>Adair County</td>\n",
              "      <td>1010</td>\n",
              "      <td>Adair County High School</td>\n",
              "      <td>HS</td>\n",
              "      <td>2</td>\n",
              "      <td>6457</td>\n",
              "      <td>698</td>\n",
              "      <td>42</td>\n",
              "      <td>17</td>\n",
              "      <td>47186</td>\n",
              "      <td>48053</td>\n",
              "      <td>-36414</td>\n",
              "      <td>-52</td>\n",
              "      <td>6405</td>\n",
              "    </tr>\n",
              "    <tr>\n",
              "      <th>1</th>\n",
              "      <td>2012</td>\n",
              "      <td>0</td>\n",
              "      <td>1</td>\n",
              "      <td>Adair County</td>\n",
              "      <td>1013</td>\n",
              "      <td>John Adair Intermediate School</td>\n",
              "      <td>ES</td>\n",
              "      <td>0</td>\n",
              "      <td>7198</td>\n",
              "      <td>356</td>\n",
              "      <td>23</td>\n",
              "      <td>18</td>\n",
              "      <td>47186</td>\n",
              "      <td>48053</td>\n",
              "      <td>-19941</td>\n",
              "      <td>-56</td>\n",
              "      <td>7142</td>\n",
              "    </tr>\n",
              "    <tr>\n",
              "      <th>2</th>\n",
              "      <td>2012</td>\n",
              "      <td>0</td>\n",
              "      <td>1</td>\n",
              "      <td>Adair County</td>\n",
              "      <td>1014</td>\n",
              "      <td>Adair County Middle School</td>\n",
              "      <td>MS</td>\n",
              "      <td>1</td>\n",
              "      <td>6719</td>\n",
              "      <td>386</td>\n",
              "      <td>24</td>\n",
              "      <td>14</td>\n",
              "      <td>45733</td>\n",
              "      <td>48053</td>\n",
              "      <td>-55680</td>\n",
              "      <td>-144</td>\n",
              "      <td>6575</td>\n",
              "    </tr>\n",
              "    <tr>\n",
              "      <th>3</th>\n",
              "      <td>2012</td>\n",
              "      <td>0</td>\n",
              "      <td>1</td>\n",
              "      <td>Adair County</td>\n",
              "      <td>1016</td>\n",
              "      <td>Adair County Elementary School</td>\n",
              "      <td>ES</td>\n",
              "      <td>0</td>\n",
              "      <td>7261</td>\n",
              "      <td>597</td>\n",
              "      <td>39</td>\n",
              "      <td>19</td>\n",
              "      <td>47186</td>\n",
              "      <td>48053</td>\n",
              "      <td>-33813</td>\n",
              "      <td>-57</td>\n",
              "      <td>7204</td>\n",
              "    </tr>\n",
              "    <tr>\n",
              "      <th>4</th>\n",
              "      <td>2012</td>\n",
              "      <td>0</td>\n",
              "      <td>5</td>\n",
              "      <td>Allen County</td>\n",
              "      <td>5010</td>\n",
              "      <td>Allen County Primary Center</td>\n",
              "      <td>ES</td>\n",
              "      <td>0</td>\n",
              "      <td>7927</td>\n",
              "      <td>907</td>\n",
              "      <td>63</td>\n",
              "      <td>12</td>\n",
              "      <td>49759</td>\n",
              "      <td>46735</td>\n",
              "      <td>190512</td>\n",
              "      <td>210</td>\n",
              "      <td>8137</td>\n",
              "    </tr>\n",
              "    <tr>\n",
              "      <th>...</th>\n",
              "      <td>...</td>\n",
              "      <td>...</td>\n",
              "      <td>...</td>\n",
              "      <td>...</td>\n",
              "      <td>...</td>\n",
              "      <td>...</td>\n",
              "      <td>...</td>\n",
              "      <td>...</td>\n",
              "      <td>...</td>\n",
              "      <td>...</td>\n",
              "      <td>...</td>\n",
              "      <td>...</td>\n",
              "      <td>...</td>\n",
              "      <td>...</td>\n",
              "      <td>...</td>\n",
              "      <td>...</td>\n",
              "      <td>...</td>\n",
              "    </tr>\n",
              "    <tr>\n",
              "      <th>15979</th>\n",
              "      <td>2022</td>\n",
              "      <td>10</td>\n",
              "      <td>601</td>\n",
              "      <td>Woodford County</td>\n",
              "      <td>601075</td>\n",
              "      <td>Simmons Elementary School</td>\n",
              "      <td>ES</td>\n",
              "      <td>0</td>\n",
              "      <td>15848</td>\n",
              "      <td>372</td>\n",
              "      <td>21</td>\n",
              "      <td>14</td>\n",
              "      <td>55495</td>\n",
              "      <td>54266</td>\n",
              "      <td>25809</td>\n",
              "      <td>69</td>\n",
              "      <td>15917</td>\n",
              "    </tr>\n",
              "    <tr>\n",
              "      <th>15980</th>\n",
              "      <td>2022</td>\n",
              "      <td>10</td>\n",
              "      <td>601</td>\n",
              "      <td>Woodford County</td>\n",
              "      <td>601084</td>\n",
              "      <td>Woodford County High School</td>\n",
              "      <td>HS</td>\n",
              "      <td>2</td>\n",
              "      <td>13453</td>\n",
              "      <td>1267</td>\n",
              "      <td>70</td>\n",
              "      <td>11</td>\n",
              "      <td>53771</td>\n",
              "      <td>54266</td>\n",
              "      <td>-34650</td>\n",
              "      <td>-27</td>\n",
              "      <td>13426</td>\n",
              "    </tr>\n",
              "    <tr>\n",
              "      <th>15981</th>\n",
              "      <td>2022</td>\n",
              "      <td>10</td>\n",
              "      <td>601</td>\n",
              "      <td>Woodford County</td>\n",
              "      <td>601085</td>\n",
              "      <td>Woodford County Middle School</td>\n",
              "      <td>MS</td>\n",
              "      <td>1</td>\n",
              "      <td>12258</td>\n",
              "      <td>904</td>\n",
              "      <td>54</td>\n",
              "      <td>9</td>\n",
              "      <td>51077</td>\n",
              "      <td>54266</td>\n",
              "      <td>-172206</td>\n",
              "      <td>-190</td>\n",
              "      <td>12068</td>\n",
              "    </tr>\n",
              "    <tr>\n",
              "      <th>15982</th>\n",
              "      <td>2022</td>\n",
              "      <td>10</td>\n",
              "      <td>601</td>\n",
              "      <td>Woodford County</td>\n",
              "      <td>601090</td>\n",
              "      <td>Huntertown Elementary School</td>\n",
              "      <td>ES</td>\n",
              "      <td>0</td>\n",
              "      <td>14956</td>\n",
              "      <td>414</td>\n",
              "      <td>24</td>\n",
              "      <td>12</td>\n",
              "      <td>54283</td>\n",
              "      <td>54266</td>\n",
              "      <td>408</td>\n",
              "      <td>1</td>\n",
              "      <td>14957</td>\n",
              "    </tr>\n",
              "    <tr>\n",
              "      <th>15983</th>\n",
              "      <td>2022</td>\n",
              "      <td>10</td>\n",
              "      <td>601</td>\n",
              "      <td>Woodford County</td>\n",
              "      <td>601120</td>\n",
              "      <td>Northside Elementary School</td>\n",
              "      <td>ES</td>\n",
              "      <td>0</td>\n",
              "      <td>15041</td>\n",
              "      <td>328</td>\n",
              "      <td>19</td>\n",
              "      <td>16</td>\n",
              "      <td>56574</td>\n",
              "      <td>54266</td>\n",
              "      <td>43852</td>\n",
              "      <td>134</td>\n",
              "      <td>15175</td>\n",
              "    </tr>\n",
              "  </tbody>\n",
              "</table>\n",
              "<p>15984 rows × 17 columns</p>\n",
              "</div>\n",
              "    <div class=\"colab-df-buttons\">\n",
              "\n",
              "  <div class=\"colab-df-container\">\n",
              "    <button class=\"colab-df-convert\" onclick=\"convertToInteractive('df-d8ed446f-7ab6-4647-94e3-0c2d211033e8')\"\n",
              "            title=\"Convert this dataframe to an interactive table.\"\n",
              "            style=\"display:none;\">\n",
              "\n",
              "  <svg xmlns=\"http://www.w3.org/2000/svg\" height=\"24px\" viewBox=\"0 -960 960 960\">\n",
              "    <path d=\"M120-120v-720h720v720H120Zm60-500h600v-160H180v160Zm220 220h160v-160H400v160Zm0 220h160v-160H400v160ZM180-400h160v-160H180v160Zm440 0h160v-160H620v160ZM180-180h160v-160H180v160Zm440 0h160v-160H620v160Z\"/>\n",
              "  </svg>\n",
              "    </button>\n",
              "\n",
              "  <style>\n",
              "    .colab-df-container {\n",
              "      display:flex;\n",
              "      gap: 12px;\n",
              "    }\n",
              "\n",
              "    .colab-df-convert {\n",
              "      background-color: #E8F0FE;\n",
              "      border: none;\n",
              "      border-radius: 50%;\n",
              "      cursor: pointer;\n",
              "      display: none;\n",
              "      fill: #1967D2;\n",
              "      height: 32px;\n",
              "      padding: 0 0 0 0;\n",
              "      width: 32px;\n",
              "    }\n",
              "\n",
              "    .colab-df-convert:hover {\n",
              "      background-color: #E2EBFA;\n",
              "      box-shadow: 0px 1px 2px rgba(60, 64, 67, 0.3), 0px 1px 3px 1px rgba(60, 64, 67, 0.15);\n",
              "      fill: #174EA6;\n",
              "    }\n",
              "\n",
              "    .colab-df-buttons div {\n",
              "      margin-bottom: 4px;\n",
              "    }\n",
              "\n",
              "    [theme=dark] .colab-df-convert {\n",
              "      background-color: #3B4455;\n",
              "      fill: #D2E3FC;\n",
              "    }\n",
              "\n",
              "    [theme=dark] .colab-df-convert:hover {\n",
              "      background-color: #434B5C;\n",
              "      box-shadow: 0px 1px 3px 1px rgba(0, 0, 0, 0.15);\n",
              "      filter: drop-shadow(0px 1px 2px rgba(0, 0, 0, 0.3));\n",
              "      fill: #FFFFFF;\n",
              "    }\n",
              "  </style>\n",
              "\n",
              "    <script>\n",
              "      const buttonEl =\n",
              "        document.querySelector('#df-d8ed446f-7ab6-4647-94e3-0c2d211033e8 button.colab-df-convert');\n",
              "      buttonEl.style.display =\n",
              "        google.colab.kernel.accessAllowed ? 'block' : 'none';\n",
              "\n",
              "      async function convertToInteractive(key) {\n",
              "        const element = document.querySelector('#df-d8ed446f-7ab6-4647-94e3-0c2d211033e8');\n",
              "        const dataTable =\n",
              "          await google.colab.kernel.invokeFunction('convertToInteractive',\n",
              "                                                    [key], {});\n",
              "        if (!dataTable) return;\n",
              "\n",
              "        const docLinkHtml = 'Like what you see? Visit the ' +\n",
              "          '<a target=\"_blank\" href=https://colab.research.google.com/notebooks/data_table.ipynb>data table notebook</a>'\n",
              "          + ' to learn more about interactive tables.';\n",
              "        element.innerHTML = '';\n",
              "        dataTable['output_type'] = 'display_data';\n",
              "        await google.colab.output.renderOutput(dataTable, element);\n",
              "        const docLink = document.createElement('div');\n",
              "        docLink.innerHTML = docLinkHtml;\n",
              "        element.appendChild(docLink);\n",
              "      }\n",
              "    </script>\n",
              "  </div>\n",
              "\n",
              "\n",
              "<div id=\"df-938a577f-38e8-438c-9346-a676ecd33cd0\">\n",
              "  <button class=\"colab-df-quickchart\" onclick=\"quickchart('df-938a577f-38e8-438c-9346-a676ecd33cd0')\"\n",
              "            title=\"Suggest charts\"\n",
              "            style=\"display:none;\">\n",
              "\n",
              "<svg xmlns=\"http://www.w3.org/2000/svg\" height=\"24px\"viewBox=\"0 0 24 24\"\n",
              "     width=\"24px\">\n",
              "    <g>\n",
              "        <path d=\"M19 3H5c-1.1 0-2 .9-2 2v14c0 1.1.9 2 2 2h14c1.1 0 2-.9 2-2V5c0-1.1-.9-2-2-2zM9 17H7v-7h2v7zm4 0h-2V7h2v10zm4 0h-2v-4h2v4z\"/>\n",
              "    </g>\n",
              "</svg>\n",
              "  </button>\n",
              "\n",
              "<style>\n",
              "  .colab-df-quickchart {\n",
              "      --bg-color: #E8F0FE;\n",
              "      --fill-color: #1967D2;\n",
              "      --hover-bg-color: #E2EBFA;\n",
              "      --hover-fill-color: #174EA6;\n",
              "      --disabled-fill-color: #AAA;\n",
              "      --disabled-bg-color: #DDD;\n",
              "  }\n",
              "\n",
              "  [theme=dark] .colab-df-quickchart {\n",
              "      --bg-color: #3B4455;\n",
              "      --fill-color: #D2E3FC;\n",
              "      --hover-bg-color: #434B5C;\n",
              "      --hover-fill-color: #FFFFFF;\n",
              "      --disabled-bg-color: #3B4455;\n",
              "      --disabled-fill-color: #666;\n",
              "  }\n",
              "\n",
              "  .colab-df-quickchart {\n",
              "    background-color: var(--bg-color);\n",
              "    border: none;\n",
              "    border-radius: 50%;\n",
              "    cursor: pointer;\n",
              "    display: none;\n",
              "    fill: var(--fill-color);\n",
              "    height: 32px;\n",
              "    padding: 0;\n",
              "    width: 32px;\n",
              "  }\n",
              "\n",
              "  .colab-df-quickchart:hover {\n",
              "    background-color: var(--hover-bg-color);\n",
              "    box-shadow: 0 1px 2px rgba(60, 64, 67, 0.3), 0 1px 3px 1px rgba(60, 64, 67, 0.15);\n",
              "    fill: var(--button-hover-fill-color);\n",
              "  }\n",
              "\n",
              "  .colab-df-quickchart-complete:disabled,\n",
              "  .colab-df-quickchart-complete:disabled:hover {\n",
              "    background-color: var(--disabled-bg-color);\n",
              "    fill: var(--disabled-fill-color);\n",
              "    box-shadow: none;\n",
              "  }\n",
              "\n",
              "  .colab-df-spinner {\n",
              "    border: 2px solid var(--fill-color);\n",
              "    border-color: transparent;\n",
              "    border-bottom-color: var(--fill-color);\n",
              "    animation:\n",
              "      spin 1s steps(1) infinite;\n",
              "  }\n",
              "\n",
              "  @keyframes spin {\n",
              "    0% {\n",
              "      border-color: transparent;\n",
              "      border-bottom-color: var(--fill-color);\n",
              "      border-left-color: var(--fill-color);\n",
              "    }\n",
              "    20% {\n",
              "      border-color: transparent;\n",
              "      border-left-color: var(--fill-color);\n",
              "      border-top-color: var(--fill-color);\n",
              "    }\n",
              "    30% {\n",
              "      border-color: transparent;\n",
              "      border-left-color: var(--fill-color);\n",
              "      border-top-color: var(--fill-color);\n",
              "      border-right-color: var(--fill-color);\n",
              "    }\n",
              "    40% {\n",
              "      border-color: transparent;\n",
              "      border-right-color: var(--fill-color);\n",
              "      border-top-color: var(--fill-color);\n",
              "    }\n",
              "    60% {\n",
              "      border-color: transparent;\n",
              "      border-right-color: var(--fill-color);\n",
              "    }\n",
              "    80% {\n",
              "      border-color: transparent;\n",
              "      border-right-color: var(--fill-color);\n",
              "      border-bottom-color: var(--fill-color);\n",
              "    }\n",
              "    90% {\n",
              "      border-color: transparent;\n",
              "      border-bottom-color: var(--fill-color);\n",
              "    }\n",
              "  }\n",
              "</style>\n",
              "\n",
              "  <script>\n",
              "    async function quickchart(key) {\n",
              "      const quickchartButtonEl =\n",
              "        document.querySelector('#' + key + ' button');\n",
              "      quickchartButtonEl.disabled = true;  // To prevent multiple clicks.\n",
              "      quickchartButtonEl.classList.add('colab-df-spinner');\n",
              "      try {\n",
              "        const charts = await google.colab.kernel.invokeFunction(\n",
              "            'suggestCharts', [key], {});\n",
              "      } catch (error) {\n",
              "        console.error('Error during call to suggestCharts:', error);\n",
              "      }\n",
              "      quickchartButtonEl.classList.remove('colab-df-spinner');\n",
              "      quickchartButtonEl.classList.add('colab-df-quickchart-complete');\n",
              "    }\n",
              "    (() => {\n",
              "      let quickchartButtonEl =\n",
              "        document.querySelector('#df-938a577f-38e8-438c-9346-a676ecd33cd0 button');\n",
              "      quickchartButtonEl.style.display =\n",
              "        google.colab.kernel.accessAllowed ? 'block' : 'none';\n",
              "    })();\n",
              "  </script>\n",
              "</div>\n",
              "\n",
              "  <div id=\"id_19914189-e219-49d7-b167-9a37053eea47\">\n",
              "    <style>\n",
              "      .colab-df-generate {\n",
              "        background-color: #E8F0FE;\n",
              "        border: none;\n",
              "        border-radius: 50%;\n",
              "        cursor: pointer;\n",
              "        display: none;\n",
              "        fill: #1967D2;\n",
              "        height: 32px;\n",
              "        padding: 0 0 0 0;\n",
              "        width: 32px;\n",
              "      }\n",
              "\n",
              "      .colab-df-generate:hover {\n",
              "        background-color: #E2EBFA;\n",
              "        box-shadow: 0px 1px 2px rgba(60, 64, 67, 0.3), 0px 1px 3px 1px rgba(60, 64, 67, 0.15);\n",
              "        fill: #174EA6;\n",
              "      }\n",
              "\n",
              "      [theme=dark] .colab-df-generate {\n",
              "        background-color: #3B4455;\n",
              "        fill: #D2E3FC;\n",
              "      }\n",
              "\n",
              "      [theme=dark] .colab-df-generate:hover {\n",
              "        background-color: #434B5C;\n",
              "        box-shadow: 0px 1px 3px 1px rgba(0, 0, 0, 0.15);\n",
              "        filter: drop-shadow(0px 1px 2px rgba(0, 0, 0, 0.3));\n",
              "        fill: #FFFFFF;\n",
              "      }\n",
              "    </style>\n",
              "    <button class=\"colab-df-generate\" onclick=\"generateWithVariable('df_preprocessed')\"\n",
              "            title=\"Generate code using this dataframe.\"\n",
              "            style=\"display:none;\">\n",
              "\n",
              "  <svg xmlns=\"http://www.w3.org/2000/svg\" height=\"24px\"viewBox=\"0 0 24 24\"\n",
              "       width=\"24px\">\n",
              "    <path d=\"M7,19H8.4L18.45,9,17,7.55,7,17.6ZM5,21V16.75L18.45,3.32a2,2,0,0,1,2.83,0l1.4,1.43a1.91,1.91,0,0,1,.58,1.4,1.91,1.91,0,0,1-.58,1.4L9.25,21ZM18.45,9,17,7.55Zm-12,3A5.31,5.31,0,0,0,4.9,8.1,5.31,5.31,0,0,0,1,6.5,5.31,5.31,0,0,0,4.9,4.9,5.31,5.31,0,0,0,6.5,1,5.31,5.31,0,0,0,8.1,4.9,5.31,5.31,0,0,0,12,6.5,5.46,5.46,0,0,0,6.5,12Z\"/>\n",
              "  </svg>\n",
              "    </button>\n",
              "    <script>\n",
              "      (() => {\n",
              "      const buttonEl =\n",
              "        document.querySelector('#id_19914189-e219-49d7-b167-9a37053eea47 button.colab-df-generate');\n",
              "      buttonEl.style.display =\n",
              "        google.colab.kernel.accessAllowed ? 'block' : 'none';\n",
              "\n",
              "      buttonEl.onclick = () => {\n",
              "        google.colab.notebook.generateWithVariable('df_preprocessed');\n",
              "      }\n",
              "      })();\n",
              "    </script>\n",
              "  </div>\n",
              "\n",
              "    </div>\n",
              "  </div>\n"
            ]
          },
          "metadata": {},
          "execution_count": 38
        }
      ]
    },
    {
      "cell_type": "code",
      "source": [
        "df_preprocessed.info()"
      ],
      "metadata": {
        "colab": {
          "base_uri": "https://localhost:8080/"
        },
        "id": "MLOt-XAj3w13",
        "outputId": "97933ddd-b613-4ddb-9ca2-340135518985"
      },
      "execution_count": 39,
      "outputs": [
        {
          "output_type": "stream",
          "name": "stdout",
          "text": [
            "<class 'pandas.core.frame.DataFrame'>\n",
            "RangeIndex: 15984 entries, 0 to 15983\n",
            "Data columns (total 17 columns):\n",
            " #   Column                              Non-Null Count  Dtype \n",
            "---  ------                              --------------  ----- \n",
            " 0   End Year                            15984 non-null  int64 \n",
            " 1   End Year Code                       15984 non-null  int64 \n",
            " 2   District Code                       15984 non-null  int32 \n",
            " 3   District                            15984 non-null  object\n",
            " 4   School Code                         15984 non-null  int32 \n",
            " 5   School                              15984 non-null  object\n",
            " 6   Level                               15984 non-null  object\n",
            " 7   Level Code                          15979 non-null  Int64 \n",
            " 8   Reported Spending per student       14873 non-null  Int64 \n",
            " 9   Student Count                       15734 non-null  Int64 \n",
            " 10  Educator Count                      15501 non-null  Int64 \n",
            " 11  Years of experience                 15678 non-null  Int64 \n",
            " 12  Teacher salary based on experience  14150 non-null  Int64 \n",
            " 13  District teacher salary average     15627 non-null  Int64 \n",
            " 14  Money Difference per school         13946 non-null  Int64 \n",
            " 15  Money Difference per student        13881 non-null  Int64 \n",
            " 16  Estimated Spending per student      13378 non-null  Int64 \n",
            "dtypes: Int64(10), int32(2), int64(2), object(3)\n",
            "memory usage: 2.1+ MB\n"
          ]
        }
      ]
    },
    {
      "cell_type": "code",
      "source": [
        "df_preprocessed.nunique()"
      ],
      "metadata": {
        "colab": {
          "base_uri": "https://localhost:8080/"
        },
        "id": "PCGiVNNzgyIe",
        "outputId": "9dbba04e-d485-4c8e-80e5-3bb21a8c5cd2"
      },
      "execution_count": 40,
      "outputs": [
        {
          "output_type": "execute_result",
          "data": {
            "text/plain": [
              "End Year                                 11\n",
              "End Year Code                            11\n",
              "District Code                           174\n",
              "District                                174\n",
              "School Code                            1485\n",
              "School                                 1455\n",
              "Level                                     4\n",
              "Level Code                                3\n",
              "Reported Spending per student          8085\n",
              "Student Count                          1514\n",
              "Educator Count                          136\n",
              "Years of experience                      38\n",
              "Teacher salary based on experience     3928\n",
              "District teacher salary average        1746\n",
              "Money Difference per school           11214\n",
              "Money Difference per student           1443\n",
              "Estimated Spending per student         8009\n",
              "dtype: int64"
            ]
          },
          "metadata": {},
          "execution_count": 40
        }
      ]
    }
  ],
  "metadata": {
    "colab": {
      "provenance": [],
      "toc_visible": true,
      "authorship_tag": "ABX9TyPOV9HX6LpV3MCA1flchucJ"
    },
    "kernelspec": {
      "display_name": "Python 3",
      "name": "python3"
    },
    "language_info": {
      "name": "python"
    }
  },
  "nbformat": 4,
  "nbformat_minor": 0
}