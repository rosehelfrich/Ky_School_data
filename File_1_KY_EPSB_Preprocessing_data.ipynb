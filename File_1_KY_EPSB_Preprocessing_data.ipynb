{
  "cells": [
    {
      "cell_type": "code",
      "execution_count": 1,
      "metadata": {
        "id": "37X_5UYLZKv6",
        "colab": {
          "base_uri": "https://localhost:8080/",
          "height": 17
        },
        "outputId": "7e7d4045-fd5d-472c-8e34-79ab01134dcc"
      },
      "outputs": [
        {
          "output_type": "display_data",
          "data": {
            "text/plain": [
              "<IPython.core.display.HTML object>"
            ],
            "text/html": [
              "<style type='text/css'>\n",
              ".datatable table.frame { margin-bottom: 0; }\n",
              ".datatable table.frame thead { border-bottom: none; }\n",
              ".datatable table.frame tr.coltypes td {  color: #FFFFFF;  line-height: 6px;  padding: 0 0.5em;}\n",
              ".datatable .bool    { background: #DDDD99; }\n",
              ".datatable .object  { background: #565656; }\n",
              ".datatable .int     { background: #5D9E5D; }\n",
              ".datatable .float   { background: #4040CC; }\n",
              ".datatable .str     { background: #CC4040; }\n",
              ".datatable .time    { background: #40CC40; }\n",
              ".datatable .row_index {  background: var(--jp-border-color3);  border-right: 1px solid var(--jp-border-color0);  color: var(--jp-ui-font-color3);  font-size: 9px;}\n",
              ".datatable .frame tbody td { text-align: left; }\n",
              ".datatable .frame tr.coltypes .row_index {  background: var(--jp-border-color0);}\n",
              ".datatable th:nth-child(2) { padding-left: 12px; }\n",
              ".datatable .hellipsis {  color: var(--jp-cell-editor-border-color);}\n",
              ".datatable .vellipsis {  background: var(--jp-layout-color0);  color: var(--jp-cell-editor-border-color);}\n",
              ".datatable .na {  color: var(--jp-cell-editor-border-color);  font-size: 80%;}\n",
              ".datatable .sp {  opacity: 0.25;}\n",
              ".datatable .footer { font-size: 9px; }\n",
              ".datatable .frame_dimensions {  background: var(--jp-border-color3);  border-top: 1px solid var(--jp-border-color0);  color: var(--jp-ui-font-color3);  display: inline-block;  opacity: 0.6;  padding: 1px 10px 1px 5px;}\n",
              "</style>\n"
            ]
          },
          "metadata": {}
        }
      ],
      "source": [
        "import pandas as pd\n",
        "import numpy as np\n",
        "import datatable as dt"
      ]
    },
    {
      "cell_type": "code",
      "execution_count": 2,
      "metadata": {
        "colab": {
          "base_uri": "https://localhost:8080/"
        },
        "id": "CHrkeD4_aXu7",
        "outputId": "fee6be5f-4b8e-402c-f9c8-1adac35e14c8"
      },
      "outputs": [
        {
          "output_type": "stream",
          "name": "stdout",
          "text": [
            "Drive already mounted at /content/drive; to attempt to forcibly remount, call drive.mount(\"/content/drive\", force_remount=True).\n"
          ]
        }
      ],
      "source": [
        "from google.colab import drive\n",
        "drive.mount('/content/drive')"
      ]
    },
    {
      "cell_type": "code",
      "source": [
        "header = dt.fread('/content/drive/MyDrive/Colab Data/KY EPSB/All Years/df_header.csv').to_pandas().loc[:,['District Code', 'District', 'School', 'School Code', 'Level']]"
      ],
      "metadata": {
        "id": "xa4lng4hXMkA"
      },
      "execution_count": 3,
      "outputs": []
    },
    {
      "cell_type": "markdown",
      "source": [
        "Changed the approach from importing all files at the start to enhance code readability."
      ],
      "metadata": {
        "id": "4to61RISPkoP"
      }
    },
    {
      "cell_type": "markdown",
      "metadata": {
        "id": "Zvgx0-aET84G"
      },
      "source": [
        "# Standardize School Data"
      ]
    },
    {
      "cell_type": "code",
      "source": [
        "# Rename the columns and replace the year to be the end year\n",
        "# Use header to select relevant schools and provide consistency across years\n",
        "\n",
        "def select_schools(df, year):\n",
        "    df.columns = ['End Year', 'School Code', 'Reported Spending per student',\n",
        "                  'Student Count', 'Educator Count', 'Years of experience']\n",
        "    df['End Year'] = year\n",
        "\n",
        "    new_df = header.merge(df, on=['School Code'], how='inner').dropna(thresh=7).reset_index(drop=True)\n",
        "\n",
        "    return new_df"
      ],
      "metadata": {
        "id": "DybBdH9sUYE8"
      },
      "execution_count": 4,
      "outputs": []
    },
    {
      "cell_type": "markdown",
      "source": [
        "Import and format columns for 2012-2017 data.  Column names changed each year so it had to be done individually."
      ],
      "metadata": {
        "id": "Tf2rKqF9q6im"
      }
    },
    {
      "cell_type": "code",
      "source": [
        "link_2012 = '/content/drive/MyDrive/Colab Data/KY EPSB/2011-2012/LEARNING_ENVIRONMENT_STUDENTS-TEACHERS.csv'\n",
        "raw_2012 = dt.fread(link_2012).to_pandas().loc[:,['SCH_YEAR', 'SCH_CD', 'SPENDING_PER_STDNT', 'MEMBERSHIP_TOTAL','FULLTIME_TCH_TOTAL', 'AVG_YRS_TCH_EXP']]\n",
        "envir_2012 = select_schools(raw_2012, 2012)"
      ],
      "metadata": {
        "id": "nkVHgaNZzjWD"
      },
      "execution_count": 5,
      "outputs": []
    },
    {
      "cell_type": "code",
      "execution_count": 6,
      "metadata": {
        "id": "QID0kapQUIiJ"
      },
      "outputs": [],
      "source": [
        "link_2013 = '/content/drive/MyDrive/Colab Data/KY EPSB/2012-2013/LEARNING_ENVIRONMENT_STUDENTS-TEACHERS.csv'\n",
        "raw_2013 = dt.fread(link_2013).to_pandas().loc[:,['SCH_YEAR', 'SCH_CD', 'SPENDING_PER_STDNT', 'ENROLLMENT_TOTAL', 'FTE_TCH_TOTAL', 'AVG_YRS_TCH_EXP']]\n",
        "envir_2013 = select_schools(raw_2013, 2013)"
      ]
    },
    {
      "cell_type": "code",
      "execution_count": 7,
      "metadata": {
        "id": "gDETIwz38PvA"
      },
      "outputs": [],
      "source": [
        "link_2014 = '/content/drive/MyDrive/Colab Data/KY EPSB/2013-2014/LEARNING_ENVIRONMENT_STUDENTS-TEACHERS.csv'\n",
        "raw_2014 = dt.fread(link_2014).to_pandas().loc[:,['SCH_YEAR', 'SCH_CD', 'SPENDING_PER_STDNT', 'MEMBERSHIP_TOTAL', 'FTE_TCH_TOTAL', 'AVG_YRS_TCH_EXP']]\n",
        "envir_2014 = select_schools(raw_2014, 2014)"
      ]
    },
    {
      "cell_type": "code",
      "execution_count": 8,
      "metadata": {
        "id": "xQr1yjC2ZWNt"
      },
      "outputs": [],
      "source": [
        "link_2015 = '/content/drive/MyDrive/Colab Data/KY EPSB/2014-2015/LEARNING_ENVIRONMENT_STUDENTS-TEACHERS.csv'\n",
        "raw_2015 = dt.fread(link_2015).to_pandas().loc[:,['SCH_YEAR', 'SCH_CD', 'SPENDING_PER_STDNT', 'MEMBERSHIP_TOTAL', 'FTE_TCH_TOTAL', 'AVG_YRS_TCH_EXP']]\n",
        "envir_2015 = select_schools(raw_2015, 2015)"
      ]
    },
    {
      "cell_type": "code",
      "execution_count": 9,
      "metadata": {
        "id": "NYSrq0GKbvoN"
      },
      "outputs": [],
      "source": [
        "link_2016 = '/content/drive/MyDrive/Colab Data/KY EPSB/2015-2016/LEARNING_ENVIRONMENT_STUDENTS-TEACHERS.csv'\n",
        "raw_2016 = dt.fread(link_2016).to_pandas().loc[:,['SCH_YEAR', 'SCH_CD', 'SPENDING_PER_STDNT', 'MEMBERSHIP_TOTAL', 'FTE_TCH_TOTAL', 'AVG_YRS_TCH_EXP']]\n",
        "envir_2016 = select_schools(raw_2016, 2016)"
      ]
    },
    {
      "cell_type": "code",
      "execution_count": 10,
      "metadata": {
        "id": "XCyULrDkdhTF"
      },
      "outputs": [],
      "source": [
        "link_2017 = '/content/drive/MyDrive/Colab Data/KY EPSB/2016-2017/LEARNING_ENVIRONMENT_STUDENTS-TEACHERS.csv'\n",
        "raw_2017 = dt.fread(link_2017).to_pandas().loc[:,['SCH_YEAR', 'SCH_CD', 'SPENDING_PER_STDNT', 'MEMBERSHIP_TOTAL', 'FTE_TCH_TOTAL', 'AVG_YRS_TCH_EXP']]\n",
        "envir_2017 = select_schools(raw_2017, 2017)"
      ]
    },
    {
      "cell_type": "markdown",
      "source": [
        "Load and format columns for 2018 - 2019 data. To retrieve the same data, three files had to be imported per year."
      ],
      "metadata": {
        "id": "zdA97JPnrEDp"
      }
    },
    {
      "cell_type": "code",
      "source": [
        "def format_raw_data(spending, students, teacher):\n",
        "  df_spending = dt.fread(spending).to_pandas().loc[:, ['SCH_YEAR', 'DIST_NUMBER', 'SCH_NUMBER', 'TOTAL_PER_STU_ALLFUNDS']]\n",
        "  df_spending['School Code'] = (df_spending['DIST_NUMBER'] * 1000 + df_spending['SCH_NUMBER'])\n",
        "\n",
        "  df_students = dt.fread(students).to_pandas().loc[:,['DIST_NUMBER', 'SCH_NUMBER', 'MEMBERSHIP_TOTAL']]\n",
        "  df_students['School Code'] = (df_students['DIST_NUMBER'] * 1000 + df_students['SCH_NUMBER'])\n",
        "\n",
        "  spending_and_students = df_spending.merge(df_students, how='left', on='School Code')\n",
        "\n",
        "  df_teacher = dt.fread(teacher).to_pandas().loc[:,['SCH_CD','Teacher Count','AVGEXPERIENCEYEARS']]\n",
        "\n",
        "  new_df = spending_and_students.merge(df_teacher, left_on='School Code', right_on='SCH_CD', how='left').loc[:, ['SCH_YEAR', 'School Code', 'TOTAL_PER_STU_ALLFUNDS', 'MEMBERSHIP_TOTAL', 'Teacher Count', 'AVGEXPERIENCEYEARS']]\n",
        "\n",
        "  return new_df"
      ],
      "metadata": {
        "id": "3cZLKFE5RzUj"
      },
      "execution_count": 11,
      "outputs": []
    },
    {
      "cell_type": "code",
      "source": [
        "spending_2018_link = '/content/drive/MyDrive/Colab Data/KY EPSB/2017-2018/SPENDING_PER_STUDENT.csv'\n",
        "student_2018_link = '/content/drive/MyDrive/Colab Data/KY EPSB/2017-2018/STUDENT_DEMOGRAPHIC_RACE_GENDER.csv'\n",
        "teacher_2018_link = '/content/drive/MyDrive/Colab Data/KY EPSB/2017-2018/SCHOOL_EXPERIENCE.csv'\n",
        "\n",
        "all_2018 = format_raw_data(spending_2018_link, student_2018_link, teacher_2018_link)\n",
        "envir_2018 = select_schools(all_2018, 2018)\n"
      ],
      "metadata": {
        "id": "MMlakjVfX7iw"
      },
      "execution_count": 12,
      "outputs": []
    },
    {
      "cell_type": "code",
      "source": [
        "spending_2019_link = '/content/drive/MyDrive/Colab Data/KY EPSB/2017-2018/SPENDING_PER_STUDENT.csv'\n",
        "student_2019_link = '/content/drive/MyDrive/Colab Data/KY EPSB/2017-2018/STUDENT_DEMOGRAPHIC_RACE_GENDER.csv'\n",
        "teacher_2019_link = '/content/drive/MyDrive/Colab Data/KY EPSB/2017-2018/SCHOOL_EXPERIENCE.csv'\n",
        "\n",
        "all_2019 = format_raw_data(spending_2019_link, student_2019_link, teacher_2019_link)\n",
        "envir_2019 = select_schools(all_2019, 2019)"
      ],
      "metadata": {
        "id": "lWk4eatmaluw"
      },
      "execution_count": 13,
      "outputs": []
    },
    {
      "cell_type": "markdown",
      "source": [
        "2020 data is eventually excluded because no data exist for 2020 school test scores."
      ],
      "metadata": {
        "id": "Ch7j5u9YsVxY"
      }
    },
    {
      "cell_type": "code",
      "execution_count": 14,
      "metadata": {
        "id": "y0uQsy1jhUwU"
      },
      "outputs": [],
      "source": [
        "spending_and_students_2020 = dt.fread('/content/drive/MyDrive/Colab Data/KY EPSB/2019-2020/spending_per_student_2020.csv').to_pandas().loc[:,['SCHOOL YEAR', 'SCHOOL CODE', 'Total Spending per Student - All Fund Sources', 'MEMBERSHIP']]\n",
        "teacher_2020 = dt.fread('/content/drive/MyDrive/Colab Data/KY EPSB/2019-2020/average_years_school_experience_2020.csv').to_pandas().loc[:,['SCHOOL CODE', 'EDUCATOR COUNT', 'AVERAGE YEARS OF EXPERIENCE']]\n",
        "\n",
        "all_2020 = spending_and_students_2020.merge(teacher_2020, left_on='SCHOOL CODE', right_on='SCHOOL CODE', how='left')\n",
        "envir_2020 = select_schools(all_2020, 2020)\n"
      ]
    },
    {
      "cell_type": "markdown",
      "source": [
        "Two files are needed for the 2021 and 2022 data."
      ],
      "metadata": {
        "id": "l-roAEmsEcmv"
      }
    },
    {
      "cell_type": "code",
      "execution_count": 15,
      "metadata": {
        "id": "qmLbmcQhlt29"
      },
      "outputs": [],
      "source": [
        "# 2021 data\n",
        "spending_and_students_2021 = dt.fread('/content/drive/MyDrive/Colab Data/KY EPSB/2020-2021/spending_per_student_2021_by_school.csv').to_pandas().loc[:,['SCHOOL YEAR', 'SCHOOL CODE', 'Total Spending per Student - All Fund Sources', 'MEMBERSHIP']]\n",
        "teacher_2021 = dt.fread('/content/drive/MyDrive/Colab Data/KY EPSB/2020-2021/average_years_school_experience_2021_by_school.csv').to_pandas().loc[:,['SCHOOL CODE','EDUCATOR COUNT', 'AVERAGE YEARS OF EXPERIENCE']]\n",
        "\n",
        "all_2021 = spending_and_students_2021.merge(teacher_2021, on='SCHOOL CODE', how='left')\n",
        "envir_2021 = select_schools(all_2021, 2021)"
      ]
    },
    {
      "cell_type": "code",
      "source": [
        "#2022 data\n",
        "spending_and_students_2022 = dt.fread('/content/drive/MyDrive/Colab Data/KY EPSB/2021-2022/spending_per_student_2022.csv').to_pandas().loc[:,['SCHOOL YEAR', 'SCHOOL CODE', 'Total Spending per Student - All Fund Sources', 'MEMBERSHIP']]\n",
        "teacher_2022 = dt.fread('/content/drive/MyDrive/Colab Data/KY EPSB/2021-2022/average_years_school_experience_2022.csv').to_pandas().loc[:,['SCHOOL CODE', 'EDUCATOR COUNT', 'AVERAGE YEARS OF EXPERIENCE']]\n",
        "\n",
        "all_2022 = spending_and_students_2022.merge(teacher_2022, how='left', on='SCHOOL CODE')\n",
        "envir_2022 = select_schools(all_2022, 2022)"
      ],
      "metadata": {
        "id": "wglv1yNwAy9H"
      },
      "execution_count": 16,
      "outputs": []
    },
    {
      "cell_type": "code",
      "source": [
        "# Combine years into one df\n",
        "school_envir = pd.concat([envir_2012, envir_2013, envir_2014, envir_2015, envir_2016,\n",
        "                       envir_2017, envir_2018, envir_2019, envir_2020, envir_2021, envir_2022],\n",
        "                       axis=0, ignore_index=True)\n"
      ],
      "metadata": {
        "id": "zqENyLJBwjiD"
      },
      "execution_count": 17,
      "outputs": []
    },
    {
      "cell_type": "code",
      "source": [
        "school_envir = school_envir.round({'Reported Spending per student':0, 'Student Count':0, 'Educator Count':0, 'Years of experience':0})"
      ],
      "metadata": {
        "id": "RDhRrjFF-Gy8",
        "colab": {
          "base_uri": "https://localhost:8080/"
        },
        "outputId": "d5acca64-6fde-49d5-8fd0-a0cc20dbb2b8"
      },
      "execution_count": 18,
      "outputs": [
        {
          "output_type": "stream",
          "name": "stderr",
          "text": [
            "/usr/local/lib/python3.10/dist-packages/pandas/core/series.py:2602: RuntimeWarning: invalid value encountered in rint\n",
            "  result = self._values.round(decimals)\n"
          ]
        }
      ]
    },
    {
      "cell_type": "code",
      "source": [
        "school_envir.to_csv('/content/drive/MyDrive/Colab Data/KY EPSB/All Years/Unpublished/school_envir.csv', index = False)"
      ],
      "metadata": {
        "id": "whFlArIoEvS4"
      },
      "execution_count": 19,
      "outputs": []
    },
    {
      "cell_type": "markdown",
      "metadata": {
        "id": "uwXBvI1a5Y3-"
      },
      "source": [
        "# District Salary Information"
      ]
    },
    {
      "cell_type": "code",
      "execution_count": 20,
      "metadata": {
        "id": "0s2JOEj65kpT"
      },
      "outputs": [],
      "source": [
        "# Import yearly salary information\n",
        "\n",
        "raw_2010_salary = pd.read_csv('/content/drive/MyDrive/Colab Data/KY EPSB/Salary schedules/fy 09-10 salary schedule.csv', skipfooter=1, engine='python')\n",
        "raw_2011_salary = pd.read_csv('/content/drive/MyDrive/Colab Data/KY EPSB/Salary schedules/fy 10-11 salary schedule.csv', skipfooter=1, engine='python')\n",
        "raw_2012_salary = pd.read_csv('/content/drive/MyDrive/Colab Data/KY EPSB/Salary schedules/fy 11-12 salary schedule.csv', skipfooter=1, engine='python')\n",
        "raw_2013_salary = pd.read_csv('/content/drive/MyDrive/Colab Data/KY EPSB/Salary schedules/fy 12-13 salary schedule.csv', skipfooter=1, engine='python')\n",
        "raw_2014_salary = pd.read_csv('/content/drive/MyDrive/Colab Data/KY EPSB/Salary schedules/fy 13-14 salary schedule.csv', skipfooter=1, engine='python')\n",
        "raw_2015_salary = pd.read_csv('/content/drive/MyDrive/Colab Data/KY EPSB/Salary schedules/fy 14-15 salary schedule.csv', skipfooter=1, engine='python')\n",
        "raw_2016_salary = pd.read_csv('/content/drive/MyDrive/Colab Data/KY EPSB/Salary schedules/fy 15-16 salary schedule.csv', skipfooter=1, engine='python')\n",
        "raw_2017_salary = pd.read_csv('/content/drive/MyDrive/Colab Data/KY EPSB/Salary schedules/fy 16-17 salary schedule.csv', skipfooter=1, engine='python')\n",
        "raw_2018_salary = pd.read_csv('/content/drive/MyDrive/Colab Data/KY EPSB/Salary schedules/fy 17-18 salary schedule.csv', skipfooter=1, engine='python')\n",
        "raw_2019_salary = pd.read_csv('/content/drive/MyDrive/Colab Data/KY EPSB/Salary schedules/fy 18-19 salary schedule.csv', skipfooter=1, engine='python')\n",
        "raw_2020_salary = pd.read_csv('/content/drive/MyDrive/Colab Data/KY EPSB/Salary schedules/fy 19-20 salary schedule.csv', skipfooter=1, engine='python')\n",
        "raw_2021_salary = pd.read_csv('/content/drive/MyDrive/Colab Data/KY EPSB/Salary schedules/fy 20-21 salary schedule.csv', skipfooter=9, engine='python')\n",
        "raw_2022_salary = pd.read_csv('/content/drive/MyDrive/Colab Data/KY EPSB/Salary schedules/fy 21-22 salary schedule.csv', skipfooter=1, engine='python')"
      ]
    },
    {
      "cell_type": "code",
      "source": [
        "# process teacher salaries per year, per district, and format salaries for further analysis\n",
        "\n",
        "def salary_schedule(schedule, year):\n",
        "    # Select only rows where the Rank is II\n",
        "    schedule = schedule[schedule['Rank'] == 'II'].copy()\n",
        "\n",
        "    # Compute the maximum salary for Rank II\n",
        "    salary = schedule[['I', 'II', 'III']].max(numeric_only=True ,axis=1)\n",
        "\n",
        "    # Add the 'Salary' column\n",
        "    schedule['Salary'] = salary\n",
        "\n",
        "    # Split the 'District' column into two columns and convert 'DISTRICT NUMBER' to integer\n",
        "    schedule[['District Code', 'District']] = schedule['District'].str.split(n=1, expand=True)\n",
        "    schedule['District Code'] = schedule['District Code'].astype(int)\n",
        "\n",
        "    # Select only the necessary columns\n",
        "    new_schedule = schedule.loc[:,['Fiscal Year', 'Years', 'District Code', 'District', 'Salary']].copy()\n",
        "\n",
        "    # Rename the columns\n",
        "    new_schedule = new_schedule.rename(columns={\n",
        "        'Fiscal Year': 'End Year',\n",
        "        'Years': 'Years of experience',\n",
        "        'Salary': 'Teacher salary based on experience'})\n",
        "\n",
        "    new_schedule['End Year'] = year\n",
        "\n",
        "    return new_schedule\n"
      ],
      "metadata": {
        "id": "nFpfcNWIs1nP"
      },
      "execution_count": 21,
      "outputs": []
    },
    {
      "cell_type": "code",
      "source": [
        "# Use to locate the district teacher salary average\n",
        "\n",
        "def get_district_average(row):\n",
        "    district_code = row['District Code']\n",
        "    end_year = row['End Year']\n",
        "    return avg_salary.loc[district_code, end_year]"
      ],
      "metadata": {
        "id": "xvpEBARYGpk9"
      },
      "execution_count": 22,
      "outputs": []
    },
    {
      "cell_type": "code",
      "source": [
        "years = list(range(2010, 2023))\n",
        "\n",
        "# Grab all the raw salary data and put them into this list\n",
        "salary_list = [salary_schedule(globals()[f'raw_{year}_salary'], year) for year in years]\n",
        "\n",
        "# Concatenate into a single DataFrame\n",
        "salary_by_experience = pd.concat(salary_list).drop_duplicates(ignore_index=True)\n"
      ],
      "metadata": {
        "id": "hsayCdAy3k9b"
      },
      "execution_count": 23,
      "outputs": []
    },
    {
      "cell_type": "code",
      "source": [
        "dist_salary_link = '/content/drive/MyDrive/Colab Data/KY EPSB/Per District/Average Classroom Teacher Salaries (1989-2022) ADA.csv'\n",
        "\n",
        "# Load the district average teacher salaries, and select the desired columns\n",
        "avg_salary = pd.read_csv(dist_salary_link, skipfooter=16, engine='python').loc[:, ['Dist No', 'District name', '2009-10', '2010-11', '2011-12',\n",
        "                                                                                    '2012-13', '2013-14', '2014-15', '2015-16', '2016-17',\n",
        "                                                                                    '2017-18', '2018-19', '2019-20', '2020-21', '2021-22']]\n",
        "\n",
        "# Rename the columns\n",
        "new_column_names = ['District Code', 'District'] + list(range(2010, 2023))\n",
        "avg_salary.columns = new_column_names\n",
        "\n",
        "for year in range(2010, 2023):\n",
        "    avg_salary[year] = avg_salary[year].astype('Int64')\n",
        "\n",
        "# This is the avg teacher salaries per district per year.\n",
        "avg_salary.set_index('District Code', drop=True, inplace=True)\n"
      ],
      "metadata": {
        "id": "9LVWirczADIZ"
      },
      "execution_count": 24,
      "outputs": []
    },
    {
      "cell_type": "code",
      "execution_count": 25,
      "metadata": {
        "id": "sDg9WEzymPQ1"
      },
      "outputs": [],
      "source": [
        "# Combine district avg salary with salaries by experience per year\n",
        "# This will be used to create an estimate of money spent per school.\n",
        "\n",
        "df_salary = salary_by_experience.copy()\n",
        "df_salary['District teacher salary average'] = df_salary.apply(get_district_average, axis=1)\n",
        "df_salary.to_csv('/content/drive/MyDrive/Colab Data/KY EPSB/All Years/Unpublished/district_salary.csv', index = False)\n",
        "df_salary.drop(['District'], axis =1, inplace=True)"
      ]
    },
    {
      "cell_type": "markdown",
      "source": [
        "# School and District"
      ],
      "metadata": {
        "id": "d_NrR82Pl6pA"
      }
    },
    {
      "cell_type": "code",
      "execution_count": 26,
      "metadata": {
        "id": "TrmrZjBASW2i"
      },
      "outputs": [],
      "source": [
        "#Merge the school and district data.\n",
        "df_preprocessed = pd.merge(school_envir, df_salary, on=['End Year', 'District Code', 'Years of experience'], how='left')\n",
        "\n",
        "df_preprocessed.drop_duplicates(inplace=True) #drops 7 of 1 school\n",
        "df_preprocessed.dropna(subset=['End Year', 'Level'], inplace=True) # Drops two unique schools that had no other data.\n",
        "df_preprocessed.reset_index(drop=True, inplace=True)\n",
        "\n",
        "#Reorders the columns\n",
        "reordered_columns = ['End Year', 'District Code', 'District', 'School Code',\n",
        "                    'School', 'Level', 'Reported Spending per student', 'Student Count',\n",
        "                    'Educator Count', 'Years of experience', 'Teacher salary based on experience',\n",
        "                    'District teacher salary average']\n",
        "\n",
        "df_preprocessed = df_preprocessed[reordered_columns]"
      ]
    },
    {
      "cell_type": "code",
      "source": [
        "# Replace the values that appear incorrect with np.Nan\n",
        "df_preprocessed.loc[df_preprocessed['Reported Spending per student'] < 2000, 'Reported Spending per student'] = np.NaN\n",
        "df_preprocessed.loc[df_preprocessed['Educator Count'] < 2, 'Educator Count'] = np.NaN\n",
        "df_preprocessed.loc[df_preprocessed['Student Count'] < 10, 'Student Count'] = np.NaN\n",
        "\n",
        "#Replace empty values with np.nan (doesn't remove data)\n",
        "null_mask = pd.isnull(df_preprocessed ['Reported Spending per student'])\n",
        "df_preprocessed.loc[null_mask, ['Money Difference per school', 'Money Difference per student']] = np.nan"
      ],
      "metadata": {
        "id": "nirL8ZxwmWeY"
      },
      "execution_count": 27,
      "outputs": []
    },
    {
      "cell_type": "code",
      "source": [
        "# Calculated estimated spending\n",
        "df_preprocessed['Money Difference per school'] = ((df_preprocessed['Teacher salary based on experience'] - df_preprocessed['District teacher salary average']) * df_preprocessed['Educator Count'])\n",
        "df_preprocessed['Money Difference per student'] = (df_preprocessed['Money Difference per school'] / df_preprocessed['Student Count'])\n",
        "df_preprocessed['Estimated Spending per student'] = (df_preprocessed['Reported Spending per student'] + df_preprocessed['Money Difference per student'])\n",
        "df_preprocessed = df_preprocessed.round({'Money Difference per school': 0, 'Money Difference per student': 0, 'Estimated Spending per student': 0})"
      ],
      "metadata": {
        "id": "0KP5K623mJf_"
      },
      "execution_count": 28,
      "outputs": []
    },
    {
      "cell_type": "code",
      "source": [
        "df_preprocessed.to_csv('/content/drive/MyDrive/Colab Data/KY EPSB/All Years/Unpublished/preprocessed_df.csv', index = False)"
      ],
      "metadata": {
        "id": "FB4ZgLgRmJnR"
      },
      "execution_count": 29,
      "outputs": []
    },
    {
      "cell_type": "code",
      "source": [
        "df_preprocessed"
      ],
      "metadata": {
        "colab": {
          "base_uri": "https://localhost:8080/",
          "height": 912
        },
        "id": "MLOt-XAj3w13",
        "outputId": "d33d6f21-d78d-4899-fba6-0f7373e697ad"
      },
      "execution_count": 30,
      "outputs": [
        {
          "output_type": "execute_result",
          "data": {
            "text/plain": [
              "       End Year  District Code         District  School Code  \\\n",
              "0          2012              1     Adair County         1010   \n",
              "1          2012              1     Adair County         1013   \n",
              "2          2012              1     Adair County         1014   \n",
              "3          2012              1     Adair County         1016   \n",
              "4          2012              5     Allen County         5010   \n",
              "...         ...            ...              ...          ...   \n",
              "16089      2022            601  Woodford County       601075   \n",
              "16090      2022            601  Woodford County       601084   \n",
              "16091      2022            601  Woodford County       601085   \n",
              "16092      2022            601  Woodford County       601090   \n",
              "16093      2022            601  Woodford County       601120   \n",
              "\n",
              "                               School Level  Reported Spending per student  \\\n",
              "0            Adair County High School    HS                         6457.0   \n",
              "1      John Adair Intermediate School    ES                         7198.0   \n",
              "2          Adair County Middle School    MS                         6719.0   \n",
              "3      Adair County Elementary School    ES                         7261.0   \n",
              "4         Allen County Primary Center    ES                         7927.0   \n",
              "...                               ...   ...                            ...   \n",
              "16089       Simmons Elementary School    ES                        15848.0   \n",
              "16090     Woodford County High School    HS                        13453.0   \n",
              "16091   Woodford County Middle School    MS                        12258.0   \n",
              "16092    Huntertown Elementary School    ES                        14956.0   \n",
              "16093     Northside Elementary School    ES                        15041.0   \n",
              "\n",
              "       Student Count  Educator Count  Years of experience  \\\n",
              "0              698.0            42.0                 17.0   \n",
              "1              356.0            23.0                 18.0   \n",
              "2              386.0            24.0                 14.0   \n",
              "3              597.0            39.0                 19.0   \n",
              "4              907.0            63.0                 12.0   \n",
              "...              ...             ...                  ...   \n",
              "16089          372.0            21.0                 14.0   \n",
              "16090         1267.0            70.0                 11.0   \n",
              "16091          904.0            54.0                  9.0   \n",
              "16092          414.0            24.0                 12.0   \n",
              "16093          328.0            19.0                 16.0   \n",
              "\n",
              "       Teacher salary based on experience  District teacher salary average  \\\n",
              "0                                 47186.0                          48053.0   \n",
              "1                                 47186.0                          48053.0   \n",
              "2                                 45733.0                          48053.0   \n",
              "3                                 47186.0                          48053.0   \n",
              "4                                 49759.0                          46735.0   \n",
              "...                                   ...                              ...   \n",
              "16089                             55495.0                          54266.0   \n",
              "16090                             53771.0                          54266.0   \n",
              "16091                             51077.0                          54266.0   \n",
              "16092                             54283.0                          54266.0   \n",
              "16093                             56574.0                          54266.0   \n",
              "\n",
              "       Money Difference per school  Money Difference per student  \\\n",
              "0                         -36414.0                         -52.0   \n",
              "1                         -19941.0                         -56.0   \n",
              "2                         -55680.0                        -144.0   \n",
              "3                         -33813.0                         -57.0   \n",
              "4                         190512.0                         210.0   \n",
              "...                            ...                           ...   \n",
              "16089                      25809.0                          69.0   \n",
              "16090                     -34650.0                         -27.0   \n",
              "16091                    -172206.0                        -190.0   \n",
              "16092                        408.0                           1.0   \n",
              "16093                      43852.0                         134.0   \n",
              "\n",
              "       Estimated Spending per student  \n",
              "0                              6405.0  \n",
              "1                              7142.0  \n",
              "2                              6575.0  \n",
              "3                              7204.0  \n",
              "4                              8137.0  \n",
              "...                               ...  \n",
              "16089                         15917.0  \n",
              "16090                         13426.0  \n",
              "16091                         12068.0  \n",
              "16092                         14957.0  \n",
              "16093                         15175.0  \n",
              "\n",
              "[16094 rows x 15 columns]"
            ],
            "text/html": [
              "\n",
              "  <div id=\"df-b8ecc4cf-4881-472a-8932-3acc5225637e\" class=\"colab-df-container\">\n",
              "    <div>\n",
              "<style scoped>\n",
              "    .dataframe tbody tr th:only-of-type {\n",
              "        vertical-align: middle;\n",
              "    }\n",
              "\n",
              "    .dataframe tbody tr th {\n",
              "        vertical-align: top;\n",
              "    }\n",
              "\n",
              "    .dataframe thead th {\n",
              "        text-align: right;\n",
              "    }\n",
              "</style>\n",
              "<table border=\"1\" class=\"dataframe\">\n",
              "  <thead>\n",
              "    <tr style=\"text-align: right;\">\n",
              "      <th></th>\n",
              "      <th>End Year</th>\n",
              "      <th>District Code</th>\n",
              "      <th>District</th>\n",
              "      <th>School Code</th>\n",
              "      <th>School</th>\n",
              "      <th>Level</th>\n",
              "      <th>Reported Spending per student</th>\n",
              "      <th>Student Count</th>\n",
              "      <th>Educator Count</th>\n",
              "      <th>Years of experience</th>\n",
              "      <th>Teacher salary based on experience</th>\n",
              "      <th>District teacher salary average</th>\n",
              "      <th>Money Difference per school</th>\n",
              "      <th>Money Difference per student</th>\n",
              "      <th>Estimated Spending per student</th>\n",
              "    </tr>\n",
              "  </thead>\n",
              "  <tbody>\n",
              "    <tr>\n",
              "      <th>0</th>\n",
              "      <td>2012</td>\n",
              "      <td>1</td>\n",
              "      <td>Adair County</td>\n",
              "      <td>1010</td>\n",
              "      <td>Adair County High School</td>\n",
              "      <td>HS</td>\n",
              "      <td>6457.0</td>\n",
              "      <td>698.0</td>\n",
              "      <td>42.0</td>\n",
              "      <td>17.0</td>\n",
              "      <td>47186.0</td>\n",
              "      <td>48053.0</td>\n",
              "      <td>-36414.0</td>\n",
              "      <td>-52.0</td>\n",
              "      <td>6405.0</td>\n",
              "    </tr>\n",
              "    <tr>\n",
              "      <th>1</th>\n",
              "      <td>2012</td>\n",
              "      <td>1</td>\n",
              "      <td>Adair County</td>\n",
              "      <td>1013</td>\n",
              "      <td>John Adair Intermediate School</td>\n",
              "      <td>ES</td>\n",
              "      <td>7198.0</td>\n",
              "      <td>356.0</td>\n",
              "      <td>23.0</td>\n",
              "      <td>18.0</td>\n",
              "      <td>47186.0</td>\n",
              "      <td>48053.0</td>\n",
              "      <td>-19941.0</td>\n",
              "      <td>-56.0</td>\n",
              "      <td>7142.0</td>\n",
              "    </tr>\n",
              "    <tr>\n",
              "      <th>2</th>\n",
              "      <td>2012</td>\n",
              "      <td>1</td>\n",
              "      <td>Adair County</td>\n",
              "      <td>1014</td>\n",
              "      <td>Adair County Middle School</td>\n",
              "      <td>MS</td>\n",
              "      <td>6719.0</td>\n",
              "      <td>386.0</td>\n",
              "      <td>24.0</td>\n",
              "      <td>14.0</td>\n",
              "      <td>45733.0</td>\n",
              "      <td>48053.0</td>\n",
              "      <td>-55680.0</td>\n",
              "      <td>-144.0</td>\n",
              "      <td>6575.0</td>\n",
              "    </tr>\n",
              "    <tr>\n",
              "      <th>3</th>\n",
              "      <td>2012</td>\n",
              "      <td>1</td>\n",
              "      <td>Adair County</td>\n",
              "      <td>1016</td>\n",
              "      <td>Adair County Elementary School</td>\n",
              "      <td>ES</td>\n",
              "      <td>7261.0</td>\n",
              "      <td>597.0</td>\n",
              "      <td>39.0</td>\n",
              "      <td>19.0</td>\n",
              "      <td>47186.0</td>\n",
              "      <td>48053.0</td>\n",
              "      <td>-33813.0</td>\n",
              "      <td>-57.0</td>\n",
              "      <td>7204.0</td>\n",
              "    </tr>\n",
              "    <tr>\n",
              "      <th>4</th>\n",
              "      <td>2012</td>\n",
              "      <td>5</td>\n",
              "      <td>Allen County</td>\n",
              "      <td>5010</td>\n",
              "      <td>Allen County Primary Center</td>\n",
              "      <td>ES</td>\n",
              "      <td>7927.0</td>\n",
              "      <td>907.0</td>\n",
              "      <td>63.0</td>\n",
              "      <td>12.0</td>\n",
              "      <td>49759.0</td>\n",
              "      <td>46735.0</td>\n",
              "      <td>190512.0</td>\n",
              "      <td>210.0</td>\n",
              "      <td>8137.0</td>\n",
              "    </tr>\n",
              "    <tr>\n",
              "      <th>...</th>\n",
              "      <td>...</td>\n",
              "      <td>...</td>\n",
              "      <td>...</td>\n",
              "      <td>...</td>\n",
              "      <td>...</td>\n",
              "      <td>...</td>\n",
              "      <td>...</td>\n",
              "      <td>...</td>\n",
              "      <td>...</td>\n",
              "      <td>...</td>\n",
              "      <td>...</td>\n",
              "      <td>...</td>\n",
              "      <td>...</td>\n",
              "      <td>...</td>\n",
              "      <td>...</td>\n",
              "    </tr>\n",
              "    <tr>\n",
              "      <th>16089</th>\n",
              "      <td>2022</td>\n",
              "      <td>601</td>\n",
              "      <td>Woodford County</td>\n",
              "      <td>601075</td>\n",
              "      <td>Simmons Elementary School</td>\n",
              "      <td>ES</td>\n",
              "      <td>15848.0</td>\n",
              "      <td>372.0</td>\n",
              "      <td>21.0</td>\n",
              "      <td>14.0</td>\n",
              "      <td>55495.0</td>\n",
              "      <td>54266.0</td>\n",
              "      <td>25809.0</td>\n",
              "      <td>69.0</td>\n",
              "      <td>15917.0</td>\n",
              "    </tr>\n",
              "    <tr>\n",
              "      <th>16090</th>\n",
              "      <td>2022</td>\n",
              "      <td>601</td>\n",
              "      <td>Woodford County</td>\n",
              "      <td>601084</td>\n",
              "      <td>Woodford County High School</td>\n",
              "      <td>HS</td>\n",
              "      <td>13453.0</td>\n",
              "      <td>1267.0</td>\n",
              "      <td>70.0</td>\n",
              "      <td>11.0</td>\n",
              "      <td>53771.0</td>\n",
              "      <td>54266.0</td>\n",
              "      <td>-34650.0</td>\n",
              "      <td>-27.0</td>\n",
              "      <td>13426.0</td>\n",
              "    </tr>\n",
              "    <tr>\n",
              "      <th>16091</th>\n",
              "      <td>2022</td>\n",
              "      <td>601</td>\n",
              "      <td>Woodford County</td>\n",
              "      <td>601085</td>\n",
              "      <td>Woodford County Middle School</td>\n",
              "      <td>MS</td>\n",
              "      <td>12258.0</td>\n",
              "      <td>904.0</td>\n",
              "      <td>54.0</td>\n",
              "      <td>9.0</td>\n",
              "      <td>51077.0</td>\n",
              "      <td>54266.0</td>\n",
              "      <td>-172206.0</td>\n",
              "      <td>-190.0</td>\n",
              "      <td>12068.0</td>\n",
              "    </tr>\n",
              "    <tr>\n",
              "      <th>16092</th>\n",
              "      <td>2022</td>\n",
              "      <td>601</td>\n",
              "      <td>Woodford County</td>\n",
              "      <td>601090</td>\n",
              "      <td>Huntertown Elementary School</td>\n",
              "      <td>ES</td>\n",
              "      <td>14956.0</td>\n",
              "      <td>414.0</td>\n",
              "      <td>24.0</td>\n",
              "      <td>12.0</td>\n",
              "      <td>54283.0</td>\n",
              "      <td>54266.0</td>\n",
              "      <td>408.0</td>\n",
              "      <td>1.0</td>\n",
              "      <td>14957.0</td>\n",
              "    </tr>\n",
              "    <tr>\n",
              "      <th>16093</th>\n",
              "      <td>2022</td>\n",
              "      <td>601</td>\n",
              "      <td>Woodford County</td>\n",
              "      <td>601120</td>\n",
              "      <td>Northside Elementary School</td>\n",
              "      <td>ES</td>\n",
              "      <td>15041.0</td>\n",
              "      <td>328.0</td>\n",
              "      <td>19.0</td>\n",
              "      <td>16.0</td>\n",
              "      <td>56574.0</td>\n",
              "      <td>54266.0</td>\n",
              "      <td>43852.0</td>\n",
              "      <td>134.0</td>\n",
              "      <td>15175.0</td>\n",
              "    </tr>\n",
              "  </tbody>\n",
              "</table>\n",
              "<p>16094 rows × 15 columns</p>\n",
              "</div>\n",
              "    <div class=\"colab-df-buttons\">\n",
              "\n",
              "  <div class=\"colab-df-container\">\n",
              "    <button class=\"colab-df-convert\" onclick=\"convertToInteractive('df-b8ecc4cf-4881-472a-8932-3acc5225637e')\"\n",
              "            title=\"Convert this dataframe to an interactive table.\"\n",
              "            style=\"display:none;\">\n",
              "\n",
              "  <svg xmlns=\"http://www.w3.org/2000/svg\" height=\"24px\" viewBox=\"0 -960 960 960\">\n",
              "    <path d=\"M120-120v-720h720v720H120Zm60-500h600v-160H180v160Zm220 220h160v-160H400v160Zm0 220h160v-160H400v160ZM180-400h160v-160H180v160Zm440 0h160v-160H620v160ZM180-180h160v-160H180v160Zm440 0h160v-160H620v160Z\"/>\n",
              "  </svg>\n",
              "    </button>\n",
              "\n",
              "  <style>\n",
              "    .colab-df-container {\n",
              "      display:flex;\n",
              "      gap: 12px;\n",
              "    }\n",
              "\n",
              "    .colab-df-convert {\n",
              "      background-color: #E8F0FE;\n",
              "      border: none;\n",
              "      border-radius: 50%;\n",
              "      cursor: pointer;\n",
              "      display: none;\n",
              "      fill: #1967D2;\n",
              "      height: 32px;\n",
              "      padding: 0 0 0 0;\n",
              "      width: 32px;\n",
              "    }\n",
              "\n",
              "    .colab-df-convert:hover {\n",
              "      background-color: #E2EBFA;\n",
              "      box-shadow: 0px 1px 2px rgba(60, 64, 67, 0.3), 0px 1px 3px 1px rgba(60, 64, 67, 0.15);\n",
              "      fill: #174EA6;\n",
              "    }\n",
              "\n",
              "    .colab-df-buttons div {\n",
              "      margin-bottom: 4px;\n",
              "    }\n",
              "\n",
              "    [theme=dark] .colab-df-convert {\n",
              "      background-color: #3B4455;\n",
              "      fill: #D2E3FC;\n",
              "    }\n",
              "\n",
              "    [theme=dark] .colab-df-convert:hover {\n",
              "      background-color: #434B5C;\n",
              "      box-shadow: 0px 1px 3px 1px rgba(0, 0, 0, 0.15);\n",
              "      filter: drop-shadow(0px 1px 2px rgba(0, 0, 0, 0.3));\n",
              "      fill: #FFFFFF;\n",
              "    }\n",
              "  </style>\n",
              "\n",
              "    <script>\n",
              "      const buttonEl =\n",
              "        document.querySelector('#df-b8ecc4cf-4881-472a-8932-3acc5225637e button.colab-df-convert');\n",
              "      buttonEl.style.display =\n",
              "        google.colab.kernel.accessAllowed ? 'block' : 'none';\n",
              "\n",
              "      async function convertToInteractive(key) {\n",
              "        const element = document.querySelector('#df-b8ecc4cf-4881-472a-8932-3acc5225637e');\n",
              "        const dataTable =\n",
              "          await google.colab.kernel.invokeFunction('convertToInteractive',\n",
              "                                                    [key], {});\n",
              "        if (!dataTable) return;\n",
              "\n",
              "        const docLinkHtml = 'Like what you see? Visit the ' +\n",
              "          '<a target=\"_blank\" href=https://colab.research.google.com/notebooks/data_table.ipynb>data table notebook</a>'\n",
              "          + ' to learn more about interactive tables.';\n",
              "        element.innerHTML = '';\n",
              "        dataTable['output_type'] = 'display_data';\n",
              "        await google.colab.output.renderOutput(dataTable, element);\n",
              "        const docLink = document.createElement('div');\n",
              "        docLink.innerHTML = docLinkHtml;\n",
              "        element.appendChild(docLink);\n",
              "      }\n",
              "    </script>\n",
              "  </div>\n",
              "\n",
              "\n",
              "<div id=\"df-2f7c4d82-49fc-4098-b117-54b06e5450ad\">\n",
              "  <button class=\"colab-df-quickchart\" onclick=\"quickchart('df-2f7c4d82-49fc-4098-b117-54b06e5450ad')\"\n",
              "            title=\"Suggest charts\"\n",
              "            style=\"display:none;\">\n",
              "\n",
              "<svg xmlns=\"http://www.w3.org/2000/svg\" height=\"24px\"viewBox=\"0 0 24 24\"\n",
              "     width=\"24px\">\n",
              "    <g>\n",
              "        <path d=\"M19 3H5c-1.1 0-2 .9-2 2v14c0 1.1.9 2 2 2h14c1.1 0 2-.9 2-2V5c0-1.1-.9-2-2-2zM9 17H7v-7h2v7zm4 0h-2V7h2v10zm4 0h-2v-4h2v4z\"/>\n",
              "    </g>\n",
              "</svg>\n",
              "  </button>\n",
              "\n",
              "<style>\n",
              "  .colab-df-quickchart {\n",
              "      --bg-color: #E8F0FE;\n",
              "      --fill-color: #1967D2;\n",
              "      --hover-bg-color: #E2EBFA;\n",
              "      --hover-fill-color: #174EA6;\n",
              "      --disabled-fill-color: #AAA;\n",
              "      --disabled-bg-color: #DDD;\n",
              "  }\n",
              "\n",
              "  [theme=dark] .colab-df-quickchart {\n",
              "      --bg-color: #3B4455;\n",
              "      --fill-color: #D2E3FC;\n",
              "      --hover-bg-color: #434B5C;\n",
              "      --hover-fill-color: #FFFFFF;\n",
              "      --disabled-bg-color: #3B4455;\n",
              "      --disabled-fill-color: #666;\n",
              "  }\n",
              "\n",
              "  .colab-df-quickchart {\n",
              "    background-color: var(--bg-color);\n",
              "    border: none;\n",
              "    border-radius: 50%;\n",
              "    cursor: pointer;\n",
              "    display: none;\n",
              "    fill: var(--fill-color);\n",
              "    height: 32px;\n",
              "    padding: 0;\n",
              "    width: 32px;\n",
              "  }\n",
              "\n",
              "  .colab-df-quickchart:hover {\n",
              "    background-color: var(--hover-bg-color);\n",
              "    box-shadow: 0 1px 2px rgba(60, 64, 67, 0.3), 0 1px 3px 1px rgba(60, 64, 67, 0.15);\n",
              "    fill: var(--button-hover-fill-color);\n",
              "  }\n",
              "\n",
              "  .colab-df-quickchart-complete:disabled,\n",
              "  .colab-df-quickchart-complete:disabled:hover {\n",
              "    background-color: var(--disabled-bg-color);\n",
              "    fill: var(--disabled-fill-color);\n",
              "    box-shadow: none;\n",
              "  }\n",
              "\n",
              "  .colab-df-spinner {\n",
              "    border: 2px solid var(--fill-color);\n",
              "    border-color: transparent;\n",
              "    border-bottom-color: var(--fill-color);\n",
              "    animation:\n",
              "      spin 1s steps(1) infinite;\n",
              "  }\n",
              "\n",
              "  @keyframes spin {\n",
              "    0% {\n",
              "      border-color: transparent;\n",
              "      border-bottom-color: var(--fill-color);\n",
              "      border-left-color: var(--fill-color);\n",
              "    }\n",
              "    20% {\n",
              "      border-color: transparent;\n",
              "      border-left-color: var(--fill-color);\n",
              "      border-top-color: var(--fill-color);\n",
              "    }\n",
              "    30% {\n",
              "      border-color: transparent;\n",
              "      border-left-color: var(--fill-color);\n",
              "      border-top-color: var(--fill-color);\n",
              "      border-right-color: var(--fill-color);\n",
              "    }\n",
              "    40% {\n",
              "      border-color: transparent;\n",
              "      border-right-color: var(--fill-color);\n",
              "      border-top-color: var(--fill-color);\n",
              "    }\n",
              "    60% {\n",
              "      border-color: transparent;\n",
              "      border-right-color: var(--fill-color);\n",
              "    }\n",
              "    80% {\n",
              "      border-color: transparent;\n",
              "      border-right-color: var(--fill-color);\n",
              "      border-bottom-color: var(--fill-color);\n",
              "    }\n",
              "    90% {\n",
              "      border-color: transparent;\n",
              "      border-bottom-color: var(--fill-color);\n",
              "    }\n",
              "  }\n",
              "</style>\n",
              "\n",
              "  <script>\n",
              "    async function quickchart(key) {\n",
              "      const quickchartButtonEl =\n",
              "        document.querySelector('#' + key + ' button');\n",
              "      quickchartButtonEl.disabled = true;  // To prevent multiple clicks.\n",
              "      quickchartButtonEl.classList.add('colab-df-spinner');\n",
              "      try {\n",
              "        const charts = await google.colab.kernel.invokeFunction(\n",
              "            'suggestCharts', [key], {});\n",
              "      } catch (error) {\n",
              "        console.error('Error during call to suggestCharts:', error);\n",
              "      }\n",
              "      quickchartButtonEl.classList.remove('colab-df-spinner');\n",
              "      quickchartButtonEl.classList.add('colab-df-quickchart-complete');\n",
              "    }\n",
              "    (() => {\n",
              "      let quickchartButtonEl =\n",
              "        document.querySelector('#df-2f7c4d82-49fc-4098-b117-54b06e5450ad button');\n",
              "      quickchartButtonEl.style.display =\n",
              "        google.colab.kernel.accessAllowed ? 'block' : 'none';\n",
              "    })();\n",
              "  </script>\n",
              "</div>\n",
              "\n",
              "  <div id=\"id_6a1dfd5e-4205-4bd4-965d-cac76d012693\">\n",
              "    <style>\n",
              "      .colab-df-generate {\n",
              "        background-color: #E8F0FE;\n",
              "        border: none;\n",
              "        border-radius: 50%;\n",
              "        cursor: pointer;\n",
              "        display: none;\n",
              "        fill: #1967D2;\n",
              "        height: 32px;\n",
              "        padding: 0 0 0 0;\n",
              "        width: 32px;\n",
              "      }\n",
              "\n",
              "      .colab-df-generate:hover {\n",
              "        background-color: #E2EBFA;\n",
              "        box-shadow: 0px 1px 2px rgba(60, 64, 67, 0.3), 0px 1px 3px 1px rgba(60, 64, 67, 0.15);\n",
              "        fill: #174EA6;\n",
              "      }\n",
              "\n",
              "      [theme=dark] .colab-df-generate {\n",
              "        background-color: #3B4455;\n",
              "        fill: #D2E3FC;\n",
              "      }\n",
              "\n",
              "      [theme=dark] .colab-df-generate:hover {\n",
              "        background-color: #434B5C;\n",
              "        box-shadow: 0px 1px 3px 1px rgba(0, 0, 0, 0.15);\n",
              "        filter: drop-shadow(0px 1px 2px rgba(0, 0, 0, 0.3));\n",
              "        fill: #FFFFFF;\n",
              "      }\n",
              "    </style>\n",
              "    <button class=\"colab-df-generate\" onclick=\"generateWithVariable('df_preprocessed')\"\n",
              "            title=\"Generate code using this dataframe.\"\n",
              "            style=\"display:none;\">\n",
              "\n",
              "  <svg xmlns=\"http://www.w3.org/2000/svg\" height=\"24px\"viewBox=\"0 0 24 24\"\n",
              "       width=\"24px\">\n",
              "    <path d=\"M7,19H8.4L18.45,9,17,7.55,7,17.6ZM5,21V16.75L18.45,3.32a2,2,0,0,1,2.83,0l1.4,1.43a1.91,1.91,0,0,1,.58,1.4,1.91,1.91,0,0,1-.58,1.4L9.25,21ZM18.45,9,17,7.55Zm-12,3A5.31,5.31,0,0,0,4.9,8.1,5.31,5.31,0,0,0,1,6.5,5.31,5.31,0,0,0,4.9,4.9,5.31,5.31,0,0,0,6.5,1,5.31,5.31,0,0,0,8.1,4.9,5.31,5.31,0,0,0,12,6.5,5.46,5.46,0,0,0,6.5,12Z\"/>\n",
              "  </svg>\n",
              "    </button>\n",
              "    <script>\n",
              "      (() => {\n",
              "      const buttonEl =\n",
              "        document.querySelector('#id_6a1dfd5e-4205-4bd4-965d-cac76d012693 button.colab-df-generate');\n",
              "      buttonEl.style.display =\n",
              "        google.colab.kernel.accessAllowed ? 'block' : 'none';\n",
              "\n",
              "      buttonEl.onclick = () => {\n",
              "        google.colab.notebook.generateWithVariable('df_preprocessed');\n",
              "      }\n",
              "      })();\n",
              "    </script>\n",
              "  </div>\n",
              "\n",
              "    </div>\n",
              "  </div>\n"
            ]
          },
          "metadata": {},
          "execution_count": 30
        }
      ]
    }
  ],
  "metadata": {
    "colab": {
      "provenance": [],
      "toc_visible": true,
      "authorship_tag": "ABX9TyMWvQqb2hfjmeDll3a4InU/"
    },
    "kernelspec": {
      "display_name": "Python 3",
      "name": "python3"
    },
    "language_info": {
      "name": "python"
    }
  },
  "nbformat": 4,
  "nbformat_minor": 0
}