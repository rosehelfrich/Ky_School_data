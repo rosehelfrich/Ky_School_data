{
  "nbformat": 4,
  "nbformat_minor": 0,
  "metadata": {
    "colab": {
      "provenance": [],
      "collapsed_sections": [
        "xpakTgq2e2WC"
      ],
      "toc_visible": true,
      "authorship_tag": "ABX9TyNkj40/g29RKzgVLGgBqWsF",
      "include_colab_link": true
    },
    "kernelspec": {
      "name": "python3",
      "display_name": "Python 3"
    },
    "language_info": {
      "name": "python"
    }
  },
  "cells": [
    {
      "cell_type": "markdown",
      "metadata": {
        "id": "view-in-github",
        "colab_type": "text"
      },
      "source": [
        "<a href=\"https://colab.research.google.com/github/rosehelfrich/Ky_School_data/blob/main/Predict_Classification%2C_and_Highly_Impacted_Schools.ipynb\" target=\"_parent\"><img src=\"https://colab.research.google.com/assets/colab-badge.svg\" alt=\"Open In Colab\"/></a>"
      ]
    },
    {
      "cell_type": "code",
      "execution_count": 1,
      "metadata": {
        "id": "mPbt9W2-tujY"
      },
      "outputs": [],
      "source": [
        "import pandas as pd\n",
        "import numpy as np\n",
        "import tensorflow as tf\n",
        "\n",
        "import seaborn as sns\n",
        "import matplotlib.pyplot as plt"
      ]
    },
    {
      "cell_type": "code",
      "source": [
        "from google.colab import drive\n",
        "drive.mount('/content/drive')"
      ],
      "metadata": {
        "colab": {
          "base_uri": "https://localhost:8080/"
        },
        "id": "kl7kadJNt5Pr",
        "outputId": "8992d7e0-00b7-4126-cb74-0364601d528f"
      },
      "execution_count": 2,
      "outputs": [
        {
          "output_type": "stream",
          "name": "stdout",
          "text": [
            "Mounted at /content/drive\n"
          ]
        }
      ]
    },
    {
      "cell_type": "code",
      "source": [
        "# Column / Row options\n",
        "pd.options.display.max_columns = None\n",
        "pd.options.display.max_rows = 20\n",
        "\n",
        "# Two decimal places and the thousands separator\n",
        "pd.options.display.float_format = '{:,.2f}'.format"
      ],
      "metadata": {
        "id": "0PIbEaZVE2sd"
      },
      "execution_count": 3,
      "outputs": []
    },
    {
      "cell_type": "markdown",
      "source": [
        "# KY df - load and clean"
      ],
      "metadata": {
        "id": "VZvOAbpDsZ3n"
      }
    },
    {
      "cell_type": "code",
      "source": [
        "# Load dfs\n",
        "df_scores = pd.read_csv('/content/drive/MyDrive/Colab Data/KY EPSB/All Years/df_scores.csv')\n",
        "ky_spending_df = pd.read_csv('/content/drive/MyDrive/Colab Data/KY EPSB/All Years/published_ky_df_all.csv')\n",
        "ky_spending_df = ky_spending_df.loc[:,['End Year', 'School Code', 'Level', 'Reported Spending per student', 'Money Difference per school',\n",
        "       'Money Difference per student', 'Estimated Spending per student']]\n",
        "\n",
        "# Duplicate classification columns\n",
        "df_scores['Rating'] = df_scores['Classification']\n",
        "\n",
        "# Reorder columns\n",
        "reordered_columns = ['End Year', 'District Code', 'District', 'School Code', 'School', 'Level', 'Proficiency Rate', 'Classification', 'Rating']\n",
        "df_scores = df_scores[reordered_columns]\n",
        "\n"
      ],
      "metadata": {
        "id": "rQt8IcwgE22V"
      },
      "execution_count": 4,
      "outputs": []
    },
    {
      "cell_type": "code",
      "source": [
        "# Merge into one df\n",
        "df = pd.merge(df_scores, ky_spending_df, on=['End Year', 'School Code', 'Level'], how='left')\n",
        "\n",
        "# Sort df & Reset index\n",
        "df.sort_values(by=['End Year','District','School'], inplace=True)\n",
        "df.reset_index(drop=True, inplace=True)"
      ],
      "metadata": {
        "id": "Nj4bodyzJ43A"
      },
      "execution_count": 5,
      "outputs": []
    },
    {
      "cell_type": "code",
      "source": [
        "# Take out \"/Progressing\"\n",
        "df.replace(['Distinguished/Progressing', 'Proficient/Progressing', 'Needs Improvement/Progressing'], \n",
        "           ['Distinguished', 'Proficient', 'Needs Improvement'], inplace=True)\n",
        "\n",
        "df['Rating'].replace(['Distinguished', 'Proficient', 'Needs Improvement'], np.NaN,inplace=True)\n",
        "\n",
        "df = df.round({'Proficiency Rate': 0, 'Reported Spending per student': -1, 'Money Difference per school': -2, \n",
        "                               'Money Difference per student':-1, 'Estimated Spending per student': 1})"
      ],
      "metadata": {
        "id": "zEUuozLJg7hL"
      },
      "execution_count": 6,
      "outputs": []
    },
    {
      "cell_type": "code",
      "source": [
        "# This df now keeps the original data.\n",
        "df.info()"
      ],
      "metadata": {
        "colab": {
          "base_uri": "https://localhost:8080/"
        },
        "id": "ZmXuDEE9WAQf",
        "outputId": "82e4b328-477c-4ae3-8cb4-3abbc16aefa1"
      },
      "execution_count": 7,
      "outputs": [
        {
          "output_type": "stream",
          "name": "stdout",
          "text": [
            "<class 'pandas.core.frame.DataFrame'>\n",
            "RangeIndex: 10919 entries, 0 to 10918\n",
            "Data columns (total 13 columns):\n",
            " #   Column                          Non-Null Count  Dtype  \n",
            "---  ------                          --------------  -----  \n",
            " 0   End Year                        10919 non-null  float64\n",
            " 1   District Code                   10919 non-null  int64  \n",
            " 2   District                        10919 non-null  object \n",
            " 3   School Code                     10919 non-null  int64  \n",
            " 4   School                          10919 non-null  object \n",
            " 5   Level                           10919 non-null  object \n",
            " 6   Proficiency Rate                10919 non-null  float64\n",
            " 7   Classification                  8468 non-null   object \n",
            " 8   Rating                          2510 non-null   object \n",
            " 9   Reported Spending per student   7753 non-null   float64\n",
            " 10  Money Difference per school     7753 non-null   float64\n",
            " 11  Money Difference per student    7753 non-null   float64\n",
            " 12  Estimated Spending per student  7753 non-null   float64\n",
            "dtypes: float64(6), int64(2), object(5)\n",
            "memory usage: 1.1+ MB\n"
          ]
        }
      ]
    },
    {
      "cell_type": "code",
      "source": [
        "df['Classification'].value_counts(dropna=False)"
      ],
      "metadata": {
        "id": "bPpdwu7swwYx",
        "colab": {
          "base_uri": "https://localhost:8080/"
        },
        "outputId": "f2ca5791-3568-4676-c64c-13440d2d8bd6"
      },
      "execution_count": 8,
      "outputs": [
        {
          "output_type": "execute_result",
          "data": {
            "text/plain": [
              "Needs Improvement    3059\n",
              "NaN                  2451\n",
              "Proficient           1505\n",
              "Distinguished        1394\n",
              "Medium                814\n",
              "Low                   751\n",
              "High                  527\n",
              "Very High             212\n",
              "Very Low              206\n",
              "Name: Classification, dtype: int64"
            ]
          },
          "metadata": {},
          "execution_count": 8
        }
      ]
    },
    {
      "cell_type": "code",
      "source": [
        "df['Level'].value_counts(dropna=False)"
      ],
      "metadata": {
        "colab": {
          "base_uri": "https://localhost:8080/"
        },
        "id": "Ljn04PIAWz03",
        "outputId": "2d855b64-1f12-4702-c02f-2066c885fd7a"
      },
      "execution_count": 9,
      "outputs": [
        {
          "output_type": "execute_result",
          "data": {
            "text/plain": [
              "ES    6187\n",
              "MS    2737\n",
              "HS    1995\n",
              "Name: Level, dtype: int64"
            ]
          },
          "metadata": {},
          "execution_count": 9
        }
      ]
    },
    {
      "cell_type": "code",
      "source": [
        "df[df['School'].str.contains(\"Knight Middle\")]"
      ],
      "metadata": {
        "colab": {
          "base_uri": "https://localhost:8080/",
          "height": 604
        },
        "id": "f40KNCl0gTWd",
        "outputId": "1c571dc2-be6f-490f-f9c0-d1d9bd891544"
      },
      "execution_count": 10,
      "outputs": [
        {
          "output_type": "execute_result",
          "data": {
            "text/plain": [
              "       End Year  District Code          District  School Code         School  \\\n",
              "600    2,012.00            275  Jefferson County       275163  Knight Middle   \n",
              "1781   2,013.00            275  Jefferson County       275163  Knight Middle   \n",
              "2963   2,014.00            275  Jefferson County       275163  Knight Middle   \n",
              "4163   2,015.00            275  Jefferson County       275163  Knight Middle   \n",
              "5365   2,016.00            275  Jefferson County       275163  Knight Middle   \n",
              "6572   2,017.00            275  Jefferson County       275163  Knight Middle   \n",
              "7797   2,018.00            275  Jefferson County       275163  Knight Middle   \n",
              "9040   2,019.00            275  Jefferson County       275163  Knight Middle   \n",
              "10295  2,022.00            275  Jefferson County       275163  Knight Middle   \n",
              "\n",
              "      Level  Proficiency Rate     Classification    Rating  \\\n",
              "600      MS             36.00  Needs Improvement       NaN   \n",
              "1781     MS             34.00  Needs Improvement       NaN   \n",
              "2963     MS             45.00  Needs Improvement       NaN   \n",
              "4163     MS             52.00  Needs Improvement       NaN   \n",
              "5365     MS             53.00  Needs Improvement       NaN   \n",
              "6572     MS             48.00                NaN       NaN   \n",
              "7797     MS             44.00                NaN       NaN   \n",
              "9040     MS             49.00           Very Low  Very Low   \n",
              "10295    MS             33.00           Very Low  Very Low   \n",
              "\n",
              "       Reported Spending per student  Money Difference per school  \\\n",
              "600                        10,120.00                  -298,300.00   \n",
              "1781                       11,300.00                  -274,800.00   \n",
              "2963                       11,850.00                  -229,900.00   \n",
              "4163                       10,350.00                  -268,100.00   \n",
              "5365                       13,990.00                  -246,800.00   \n",
              "6572                       14,970.00                  -273,400.00   \n",
              "7797                       16,380.00                  -226,500.00   \n",
              "9040                       16,640.00                  -304,300.00   \n",
              "10295                            NaN                          NaN   \n",
              "\n",
              "       Money Difference per student  Estimated Spending per student  \n",
              "600                         -690.00                        9,427.00  \n",
              "1781                        -620.00                       10,677.00  \n",
              "2963                        -560.00                       11,289.00  \n",
              "4163                        -640.00                        9,710.00  \n",
              "5365                        -590.00                       13,404.00  \n",
              "6572                        -680.00                       14,296.00  \n",
              "7797                        -520.00                       15,858.00  \n",
              "9040                        -690.00                       15,952.00  \n",
              "10295                           NaN                             NaN  "
            ],
            "text/html": [
              "\n",
              "  <div id=\"df-ba21ada6-2ee7-438c-b0d6-b2ab1d6f4d86\">\n",
              "    <div class=\"colab-df-container\">\n",
              "      <div>\n",
              "<style scoped>\n",
              "    .dataframe tbody tr th:only-of-type {\n",
              "        vertical-align: middle;\n",
              "    }\n",
              "\n",
              "    .dataframe tbody tr th {\n",
              "        vertical-align: top;\n",
              "    }\n",
              "\n",
              "    .dataframe thead th {\n",
              "        text-align: right;\n",
              "    }\n",
              "</style>\n",
              "<table border=\"1\" class=\"dataframe\">\n",
              "  <thead>\n",
              "    <tr style=\"text-align: right;\">\n",
              "      <th></th>\n",
              "      <th>End Year</th>\n",
              "      <th>District Code</th>\n",
              "      <th>District</th>\n",
              "      <th>School Code</th>\n",
              "      <th>School</th>\n",
              "      <th>Level</th>\n",
              "      <th>Proficiency Rate</th>\n",
              "      <th>Classification</th>\n",
              "      <th>Rating</th>\n",
              "      <th>Reported Spending per student</th>\n",
              "      <th>Money Difference per school</th>\n",
              "      <th>Money Difference per student</th>\n",
              "      <th>Estimated Spending per student</th>\n",
              "    </tr>\n",
              "  </thead>\n",
              "  <tbody>\n",
              "    <tr>\n",
              "      <th>600</th>\n",
              "      <td>2,012.00</td>\n",
              "      <td>275</td>\n",
              "      <td>Jefferson County</td>\n",
              "      <td>275163</td>\n",
              "      <td>Knight Middle</td>\n",
              "      <td>MS</td>\n",
              "      <td>36.00</td>\n",
              "      <td>Needs Improvement</td>\n",
              "      <td>NaN</td>\n",
              "      <td>10,120.00</td>\n",
              "      <td>-298,300.00</td>\n",
              "      <td>-690.00</td>\n",
              "      <td>9,427.00</td>\n",
              "    </tr>\n",
              "    <tr>\n",
              "      <th>1781</th>\n",
              "      <td>2,013.00</td>\n",
              "      <td>275</td>\n",
              "      <td>Jefferson County</td>\n",
              "      <td>275163</td>\n",
              "      <td>Knight Middle</td>\n",
              "      <td>MS</td>\n",
              "      <td>34.00</td>\n",
              "      <td>Needs Improvement</td>\n",
              "      <td>NaN</td>\n",
              "      <td>11,300.00</td>\n",
              "      <td>-274,800.00</td>\n",
              "      <td>-620.00</td>\n",
              "      <td>10,677.00</td>\n",
              "    </tr>\n",
              "    <tr>\n",
              "      <th>2963</th>\n",
              "      <td>2,014.00</td>\n",
              "      <td>275</td>\n",
              "      <td>Jefferson County</td>\n",
              "      <td>275163</td>\n",
              "      <td>Knight Middle</td>\n",
              "      <td>MS</td>\n",
              "      <td>45.00</td>\n",
              "      <td>Needs Improvement</td>\n",
              "      <td>NaN</td>\n",
              "      <td>11,850.00</td>\n",
              "      <td>-229,900.00</td>\n",
              "      <td>-560.00</td>\n",
              "      <td>11,289.00</td>\n",
              "    </tr>\n",
              "    <tr>\n",
              "      <th>4163</th>\n",
              "      <td>2,015.00</td>\n",
              "      <td>275</td>\n",
              "      <td>Jefferson County</td>\n",
              "      <td>275163</td>\n",
              "      <td>Knight Middle</td>\n",
              "      <td>MS</td>\n",
              "      <td>52.00</td>\n",
              "      <td>Needs Improvement</td>\n",
              "      <td>NaN</td>\n",
              "      <td>10,350.00</td>\n",
              "      <td>-268,100.00</td>\n",
              "      <td>-640.00</td>\n",
              "      <td>9,710.00</td>\n",
              "    </tr>\n",
              "    <tr>\n",
              "      <th>5365</th>\n",
              "      <td>2,016.00</td>\n",
              "      <td>275</td>\n",
              "      <td>Jefferson County</td>\n",
              "      <td>275163</td>\n",
              "      <td>Knight Middle</td>\n",
              "      <td>MS</td>\n",
              "      <td>53.00</td>\n",
              "      <td>Needs Improvement</td>\n",
              "      <td>NaN</td>\n",
              "      <td>13,990.00</td>\n",
              "      <td>-246,800.00</td>\n",
              "      <td>-590.00</td>\n",
              "      <td>13,404.00</td>\n",
              "    </tr>\n",
              "    <tr>\n",
              "      <th>6572</th>\n",
              "      <td>2,017.00</td>\n",
              "      <td>275</td>\n",
              "      <td>Jefferson County</td>\n",
              "      <td>275163</td>\n",
              "      <td>Knight Middle</td>\n",
              "      <td>MS</td>\n",
              "      <td>48.00</td>\n",
              "      <td>NaN</td>\n",
              "      <td>NaN</td>\n",
              "      <td>14,970.00</td>\n",
              "      <td>-273,400.00</td>\n",
              "      <td>-680.00</td>\n",
              "      <td>14,296.00</td>\n",
              "    </tr>\n",
              "    <tr>\n",
              "      <th>7797</th>\n",
              "      <td>2,018.00</td>\n",
              "      <td>275</td>\n",
              "      <td>Jefferson County</td>\n",
              "      <td>275163</td>\n",
              "      <td>Knight Middle</td>\n",
              "      <td>MS</td>\n",
              "      <td>44.00</td>\n",
              "      <td>NaN</td>\n",
              "      <td>NaN</td>\n",
              "      <td>16,380.00</td>\n",
              "      <td>-226,500.00</td>\n",
              "      <td>-520.00</td>\n",
              "      <td>15,858.00</td>\n",
              "    </tr>\n",
              "    <tr>\n",
              "      <th>9040</th>\n",
              "      <td>2,019.00</td>\n",
              "      <td>275</td>\n",
              "      <td>Jefferson County</td>\n",
              "      <td>275163</td>\n",
              "      <td>Knight Middle</td>\n",
              "      <td>MS</td>\n",
              "      <td>49.00</td>\n",
              "      <td>Very Low</td>\n",
              "      <td>Very Low</td>\n",
              "      <td>16,640.00</td>\n",
              "      <td>-304,300.00</td>\n",
              "      <td>-690.00</td>\n",
              "      <td>15,952.00</td>\n",
              "    </tr>\n",
              "    <tr>\n",
              "      <th>10295</th>\n",
              "      <td>2,022.00</td>\n",
              "      <td>275</td>\n",
              "      <td>Jefferson County</td>\n",
              "      <td>275163</td>\n",
              "      <td>Knight Middle</td>\n",
              "      <td>MS</td>\n",
              "      <td>33.00</td>\n",
              "      <td>Very Low</td>\n",
              "      <td>Very Low</td>\n",
              "      <td>NaN</td>\n",
              "      <td>NaN</td>\n",
              "      <td>NaN</td>\n",
              "      <td>NaN</td>\n",
              "    </tr>\n",
              "  </tbody>\n",
              "</table>\n",
              "</div>\n",
              "      <button class=\"colab-df-convert\" onclick=\"convertToInteractive('df-ba21ada6-2ee7-438c-b0d6-b2ab1d6f4d86')\"\n",
              "              title=\"Convert this dataframe to an interactive table.\"\n",
              "              style=\"display:none;\">\n",
              "        \n",
              "  <svg xmlns=\"http://www.w3.org/2000/svg\" height=\"24px\"viewBox=\"0 0 24 24\"\n",
              "       width=\"24px\">\n",
              "    <path d=\"M0 0h24v24H0V0z\" fill=\"none\"/>\n",
              "    <path d=\"M18.56 5.44l.94 2.06.94-2.06 2.06-.94-2.06-.94-.94-2.06-.94 2.06-2.06.94zm-11 1L8.5 8.5l.94-2.06 2.06-.94-2.06-.94L8.5 2.5l-.94 2.06-2.06.94zm10 10l.94 2.06.94-2.06 2.06-.94-2.06-.94-.94-2.06-.94 2.06-2.06.94z\"/><path d=\"M17.41 7.96l-1.37-1.37c-.4-.4-.92-.59-1.43-.59-.52 0-1.04.2-1.43.59L10.3 9.45l-7.72 7.72c-.78.78-.78 2.05 0 2.83L4 21.41c.39.39.9.59 1.41.59.51 0 1.02-.2 1.41-.59l7.78-7.78 2.81-2.81c.8-.78.8-2.07 0-2.86zM5.41 20L4 18.59l7.72-7.72 1.47 1.35L5.41 20z\"/>\n",
              "  </svg>\n",
              "      </button>\n",
              "      \n",
              "  <style>\n",
              "    .colab-df-container {\n",
              "      display:flex;\n",
              "      flex-wrap:wrap;\n",
              "      gap: 12px;\n",
              "    }\n",
              "\n",
              "    .colab-df-convert {\n",
              "      background-color: #E8F0FE;\n",
              "      border: none;\n",
              "      border-radius: 50%;\n",
              "      cursor: pointer;\n",
              "      display: none;\n",
              "      fill: #1967D2;\n",
              "      height: 32px;\n",
              "      padding: 0 0 0 0;\n",
              "      width: 32px;\n",
              "    }\n",
              "\n",
              "    .colab-df-convert:hover {\n",
              "      background-color: #E2EBFA;\n",
              "      box-shadow: 0px 1px 2px rgba(60, 64, 67, 0.3), 0px 1px 3px 1px rgba(60, 64, 67, 0.15);\n",
              "      fill: #174EA6;\n",
              "    }\n",
              "\n",
              "    [theme=dark] .colab-df-convert {\n",
              "      background-color: #3B4455;\n",
              "      fill: #D2E3FC;\n",
              "    }\n",
              "\n",
              "    [theme=dark] .colab-df-convert:hover {\n",
              "      background-color: #434B5C;\n",
              "      box-shadow: 0px 1px 3px 1px rgba(0, 0, 0, 0.15);\n",
              "      filter: drop-shadow(0px 1px 2px rgba(0, 0, 0, 0.3));\n",
              "      fill: #FFFFFF;\n",
              "    }\n",
              "  </style>\n",
              "\n",
              "      <script>\n",
              "        const buttonEl =\n",
              "          document.querySelector('#df-ba21ada6-2ee7-438c-b0d6-b2ab1d6f4d86 button.colab-df-convert');\n",
              "        buttonEl.style.display =\n",
              "          google.colab.kernel.accessAllowed ? 'block' : 'none';\n",
              "\n",
              "        async function convertToInteractive(key) {\n",
              "          const element = document.querySelector('#df-ba21ada6-2ee7-438c-b0d6-b2ab1d6f4d86');\n",
              "          const dataTable =\n",
              "            await google.colab.kernel.invokeFunction('convertToInteractive',\n",
              "                                                     [key], {});\n",
              "          if (!dataTable) return;\n",
              "\n",
              "          const docLinkHtml = 'Like what you see? Visit the ' +\n",
              "            '<a target=\"_blank\" href=https://colab.research.google.com/notebooks/data_table.ipynb>data table notebook</a>'\n",
              "            + ' to learn more about interactive tables.';\n",
              "          element.innerHTML = '';\n",
              "          dataTable['output_type'] = 'display_data';\n",
              "          await google.colab.output.renderOutput(dataTable, element);\n",
              "          const docLink = document.createElement('div');\n",
              "          docLink.innerHTML = docLinkHtml;\n",
              "          element.appendChild(docLink);\n",
              "        }\n",
              "      </script>\n",
              "    </div>\n",
              "  </div>\n",
              "  "
            ]
          },
          "metadata": {},
          "execution_count": 10
        }
      ]
    },
    {
      "cell_type": "markdown",
      "source": [
        "# Predict classification "
      ],
      "metadata": {
        "id": "Nc5nEWiItzSE"
      }
    },
    {
      "cell_type": "code",
      "source": [
        "# from sklearn import preprocessing\n",
        "from sklearn.preprocessing import StandardScaler\n",
        "from sklearn.model_selection import train_test_split"
      ],
      "metadata": {
        "id": "9v137r5eYtAL"
      },
      "execution_count": 11,
      "outputs": []
    },
    {
      "cell_type": "code",
      "source": [
        "predict_df = df.copy()\n",
        "\n",
        "# Rationalization: The top and bottom data has the least room for error. \n",
        "predict_df['Classification'].replace(['Very High', 'High', 'Medium', 'Low', 'Very Low'],\n",
        "                     ['Distinguished', np.NaN, np.NaN, np.NaN,'Needs Improvement'], inplace=True)\n"
      ],
      "metadata": {
        "id": "ENpjqqJnyK1j"
      },
      "execution_count": 12,
      "outputs": []
    },
    {
      "cell_type": "code",
      "source": [
        "predict_df['Classification'].value_counts(dropna=False)"
      ],
      "metadata": {
        "colab": {
          "base_uri": "https://localhost:8080/"
        },
        "id": "eMPx5Q0sI64F",
        "outputId": "044f2be3-b2bc-4b0b-f908-cdfc21f29e40"
      },
      "execution_count": 13,
      "outputs": [
        {
          "output_type": "execute_result",
          "data": {
            "text/plain": [
              "NaN                  4543\n",
              "Needs Improvement    3265\n",
              "Distinguished        1606\n",
              "Proficient           1505\n",
              "Name: Classification, dtype: int64"
            ]
          },
          "metadata": {},
          "execution_count": 13
        }
      ]
    },
    {
      "cell_type": "code",
      "source": [
        "predict_df['Classification'].value_counts(dropna=False)"
      ],
      "metadata": {
        "colab": {
          "base_uri": "https://localhost:8080/"
        },
        "id": "MYBEjQ23JMnM",
        "outputId": "7844b7b0-d929-4d2f-bfe8-4a4d61d0ccea"
      },
      "execution_count": 14,
      "outputs": [
        {
          "output_type": "execute_result",
          "data": {
            "text/plain": [
              "NaN                  4543\n",
              "Needs Improvement    3265\n",
              "Distinguished        1606\n",
              "Proficient           1505\n",
              "Name: Classification, dtype: int64"
            ]
          },
          "metadata": {},
          "execution_count": 14
        }
      ]
    },
    {
      "cell_type": "code",
      "source": [
        "predict_df.info()"
      ],
      "metadata": {
        "colab": {
          "base_uri": "https://localhost:8080/"
        },
        "id": "1qEuvhnTI_b_",
        "outputId": "c1fba37c-822b-4eee-c398-aa240c1948e9"
      },
      "execution_count": 15,
      "outputs": [
        {
          "output_type": "stream",
          "name": "stdout",
          "text": [
            "<class 'pandas.core.frame.DataFrame'>\n",
            "RangeIndex: 10919 entries, 0 to 10918\n",
            "Data columns (total 13 columns):\n",
            " #   Column                          Non-Null Count  Dtype  \n",
            "---  ------                          --------------  -----  \n",
            " 0   End Year                        10919 non-null  float64\n",
            " 1   District Code                   10919 non-null  int64  \n",
            " 2   District                        10919 non-null  object \n",
            " 3   School Code                     10919 non-null  int64  \n",
            " 4   School                          10919 non-null  object \n",
            " 5   Level                           10919 non-null  object \n",
            " 6   Proficiency Rate                10919 non-null  float64\n",
            " 7   Classification                  6376 non-null   object \n",
            " 8   Rating                          2510 non-null   object \n",
            " 9   Reported Spending per student   7753 non-null   float64\n",
            " 10  Money Difference per school     7753 non-null   float64\n",
            " 11  Money Difference per student    7753 non-null   float64\n",
            " 12  Estimated Spending per student  7753 non-null   float64\n",
            "dtypes: float64(6), int64(2), object(5)\n",
            "memory usage: 1.1+ MB\n"
          ]
        }
      ]
    },
    {
      "cell_type": "code",
      "source": [
        "def fill_nulls_w_avg(column):\n",
        "  avg_by_school_code = predict_df.groupby(['School Code']).mean()\n",
        "  rows_to_update = predict_df[predict_df[column].isnull()]\n",
        "\n",
        "  for index in rows_to_update.index:\n",
        "    school_code = rows_to_update['School Code'][index]\n",
        "    avg = avg_by_school_code.loc[school_code, column]\n",
        "    predict_df.loc[index, column] = avg\n",
        "\n",
        "# Use function to fill in select columns with the average school information. \n",
        "fill_nulls_w_avg('Reported Spending per student')\n",
        "fill_nulls_w_avg('Money Difference per school')\n",
        "fill_nulls_w_avg('Money Difference per student')\n",
        "fill_nulls_w_avg('Estimated Spending per student')"
      ],
      "metadata": {
        "id": "cGT_ncjCjD8b"
      },
      "execution_count": 16,
      "outputs": []
    },
    {
      "cell_type": "code",
      "source": [
        "# Convert objects to floats\n",
        "\n",
        "predict_df['Classification'].replace(['Distinguished', 'Proficient', 'Needs Improvement'], [0, 1, 2], inplace=True)\n",
        "\n",
        "predict_df['Level'].replace(['ES', 'MS', 'HS', np.NaN], [0, 1, 2, 3], inplace=True)"
      ],
      "metadata": {
        "id": "FXRcdOlCmihb"
      },
      "execution_count": 17,
      "outputs": []
    },
    {
      "cell_type": "markdown",
      "source": [
        "## Shuffle, Balance, Split, Scale"
      ],
      "metadata": {
        "id": "GxWh9f-BqbvG"
      }
    },
    {
      "cell_type": "code",
      "source": [
        "unscaled_df = predict_df.loc[:,['End Year', 'Proficiency Rate', 'Reported Spending per student', \n",
        "             'Money Difference per school', 'Level', 'Classification']]\n",
        "\n",
        "unscaled_df.dropna(axis =0, inplace=True)\n",
        "unscaled_df.reset_index(drop=True, inplace=True)\n",
        "\n",
        "#Shuffle df\n",
        "unscaled_df = unscaled_df.sample(frac=1, random_state=15)"
      ],
      "metadata": {
        "id": "OxHPfwd3Tob7"
      },
      "execution_count": 18,
      "outputs": []
    },
    {
      "cell_type": "code",
      "source": [
        "# Balance the data\n",
        "balanced_df = unscaled_df.iloc[0:0]\n",
        "\n",
        "for i in unscaled_df['Classification'].unique():  \n",
        "  min_target_size = unscaled_df['Classification'].value_counts().min()\n",
        "  target_values = unscaled_df[unscaled_df['Classification']==i] \n",
        "  fraction = round(min_target_size / target_values.shape[0], 2)\n",
        "  sample_data = target_values.sample(frac=fraction, random_state=8)\n",
        "  balanced_df = pd.concat([balanced_df, sample_data])\n",
        "\n",
        "# Shuffle the data\n",
        "balanced_df = balanced_df.sample(frac=1, random_state=3)"
      ],
      "metadata": {
        "id": "KQo7n4mMJh_3"
      },
      "execution_count": 19,
      "outputs": []
    },
    {
      "cell_type": "code",
      "source": [
        "balanced_df['Classification'].value_counts(dropna=False)"
      ],
      "metadata": {
        "colab": {
          "base_uri": "https://localhost:8080/"
        },
        "id": "Uo4bpgjhN_hy",
        "outputId": "1c0c9b42-67e8-4919-ddee-406db6d1d419"
      },
      "execution_count": 20,
      "outputs": [
        {
          "output_type": "execute_result",
          "data": {
            "text/plain": [
              "2.00    1380\n",
              "1.00    1366\n",
              "0.00    1365\n",
              "Name: Classification, dtype: int64"
            ]
          },
          "metadata": {},
          "execution_count": 20
        }
      ]
    },
    {
      "cell_type": "code",
      "source": [
        "unscaled_inputs = balanced_df.values[:,:-1]"
      ],
      "metadata": {
        "id": "b0SLLubKqzxg"
      },
      "execution_count": 21,
      "outputs": []
    },
    {
      "cell_type": "code",
      "source": [
        "targets = balanced_df.values[:,-1]"
      ],
      "metadata": {
        "id": "IP-tneR3qz0o"
      },
      "execution_count": 22,
      "outputs": []
    },
    {
      "cell_type": "code",
      "source": [
        "# Split into training, validation, and test sets\n",
        "\n",
        "unscaled_X_train, unscaled_X_set, y_train, y_set = train_test_split(unscaled_inputs, targets, test_size=0.2, random_state=15)\n",
        "unscaled_X_valid, unscaled_X_test, y_valid, y_test = train_test_split(unscaled_X_set, y_set, test_size=0.5, random_state=13)"
      ],
      "metadata": {
        "id": "gi7cn2ppM4dv"
      },
      "execution_count": 23,
      "outputs": []
    },
    {
      "cell_type": "code",
      "source": [
        "# Scale data\n",
        "epsb_scaler = StandardScaler()\n",
        "\n",
        "# Calculate and store the mean and sd\n",
        "epsb_scaler.fit(unscaled_X_train)\n",
        "\n",
        "# Apply the scaler\n",
        "scaled_X_train = epsb_scaler.transform(unscaled_X_train)\n",
        "scaled_X_valid = epsb_scaler.transform(unscaled_X_valid)\n",
        "scaled_X_test = epsb_scaler.transform(unscaled_X_test)"
      ],
      "metadata": {
        "id": "WAQ-xMkwMz22"
      },
      "execution_count": 24,
      "outputs": []
    },
    {
      "cell_type": "code",
      "source": [
        "scaled_X_train.shape"
      ],
      "metadata": {
        "colab": {
          "base_uri": "https://localhost:8080/"
        },
        "id": "RUTB3WPnM4mU",
        "outputId": "b453575f-1960-4eb7-c5a3-f201bef8ea8f"
      },
      "execution_count": 25,
      "outputs": [
        {
          "output_type": "execute_result",
          "data": {
            "text/plain": [
              "(3288, 5)"
            ]
          },
          "metadata": {},
          "execution_count": 25
        }
      ]
    },
    {
      "cell_type": "markdown",
      "source": [
        "## Model"
      ],
      "metadata": {
        "id": "22iLAmwjZhWX"
      }
    },
    {
      "cell_type": "code",
      "source": [
        "# Create the model\n",
        "# Ran different rounds of the below model.  Some of the options I put in comments to the right.\n",
        "\n",
        "input_size = 5\n",
        "output_size = 3\n",
        "hidden_layer_size = 15 # for this problem, optimal results were between 10-20 layers\n",
        "\n",
        "model = tf.keras.Sequential([\n",
        "    tf.keras.layers.Dense(hidden_layer_size, activation='tanh'),    # attempted to make this linear, only use the proficency in the input layers, and it only came to 77% valid accuracy or less\n",
        "    tf.keras.layers.Dense(hidden_layer_size, activation='tanh'),\n",
        "    tf.keras.layers.Dense(output_size, activation='softmax') # the sigmoid function made the model decrease in accuracy\n",
        "    ])\n",
        "\n",
        "model.compile(optimizer='adam', loss='sparse_categorical_crossentropy', metrics=['accuracy'])\n"
      ],
      "metadata": {
        "id": "tkeoXJwLGtRf"
      },
      "execution_count": 26,
      "outputs": []
    },
    {
      "cell_type": "code",
      "source": [
        "# Fit the model\n",
        "\n",
        "batch_size = 50  # started with batch size 25\n",
        "max_epochs = 100 # started with 20 epochs\n",
        "\n",
        "#early_stopping = tf.keras.callbacks.EarlyStopping(patience=5) \n",
        "\n",
        "model.fit(scaled_X_train, \n",
        "          y_train, \n",
        "          batch_size=batch_size,\n",
        "          epochs = max_epochs,\n",
        "          #callbacks = [early_stopping],\n",
        "          validation_data = (scaled_X_valid, y_valid),\n",
        "          verbose =2)\n",
        "\n",
        "# Ran rounds using a multi-index of School Code & End Year.  But didn't get above a 78% validation accuracy"
      ],
      "metadata": {
        "colab": {
          "base_uri": "https://localhost:8080/"
        },
        "id": "BG2ubwNvGtW2",
        "outputId": "ff0c1452-501d-4c44-fe2d-b7dfc972f7b8"
      },
      "execution_count": 27,
      "outputs": [
        {
          "output_type": "stream",
          "name": "stdout",
          "text": [
            "Epoch 1/100\n",
            "66/66 - 1s - loss: 1.0511 - accuracy: 0.4349 - val_loss: 0.8916 - val_accuracy: 0.5693 - 1s/epoch - 16ms/step\n",
            "Epoch 2/100\n",
            "66/66 - 0s - loss: 0.7896 - accuracy: 0.6448 - val_loss: 0.7155 - val_accuracy: 0.6691 - 138ms/epoch - 2ms/step\n",
            "Epoch 3/100\n",
            "66/66 - 0s - loss: 0.6471 - accuracy: 0.7144 - val_loss: 0.6002 - val_accuracy: 0.7397 - 145ms/epoch - 2ms/step\n",
            "Epoch 4/100\n",
            "66/66 - 0s - loss: 0.5576 - accuracy: 0.7497 - val_loss: 0.5301 - val_accuracy: 0.7664 - 154ms/epoch - 2ms/step\n",
            "Epoch 5/100\n",
            "66/66 - 0s - loss: 0.5020 - accuracy: 0.7844 - val_loss: 0.4832 - val_accuracy: 0.7932 - 150ms/epoch - 2ms/step\n",
            "Epoch 6/100\n",
            "66/66 - 0s - loss: 0.4653 - accuracy: 0.8014 - val_loss: 0.4528 - val_accuracy: 0.8054 - 143ms/epoch - 2ms/step\n",
            "Epoch 7/100\n",
            "66/66 - 0s - loss: 0.4416 - accuracy: 0.8123 - val_loss: 0.4311 - val_accuracy: 0.8127 - 148ms/epoch - 2ms/step\n",
            "Epoch 8/100\n",
            "66/66 - 0s - loss: 0.4251 - accuracy: 0.8206 - val_loss: 0.4126 - val_accuracy: 0.8200 - 140ms/epoch - 2ms/step\n",
            "Epoch 9/100\n",
            "66/66 - 0s - loss: 0.4140 - accuracy: 0.8215 - val_loss: 0.4048 - val_accuracy: 0.8248 - 156ms/epoch - 2ms/step\n",
            "Epoch 10/100\n",
            "66/66 - 0s - loss: 0.4041 - accuracy: 0.8209 - val_loss: 0.3936 - val_accuracy: 0.8273 - 148ms/epoch - 2ms/step\n",
            "Epoch 11/100\n",
            "66/66 - 0s - loss: 0.3964 - accuracy: 0.8269 - val_loss: 0.3868 - val_accuracy: 0.8321 - 143ms/epoch - 2ms/step\n",
            "Epoch 12/100\n",
            "66/66 - 0s - loss: 0.3893 - accuracy: 0.8327 - val_loss: 0.3807 - val_accuracy: 0.8297 - 134ms/epoch - 2ms/step\n",
            "Epoch 13/100\n",
            "66/66 - 0s - loss: 0.3833 - accuracy: 0.8300 - val_loss: 0.3742 - val_accuracy: 0.8491 - 137ms/epoch - 2ms/step\n",
            "Epoch 14/100\n",
            "66/66 - 0s - loss: 0.3768 - accuracy: 0.8373 - val_loss: 0.3688 - val_accuracy: 0.8443 - 127ms/epoch - 2ms/step\n",
            "Epoch 15/100\n",
            "66/66 - 0s - loss: 0.3701 - accuracy: 0.8352 - val_loss: 0.3601 - val_accuracy: 0.8467 - 136ms/epoch - 2ms/step\n",
            "Epoch 16/100\n",
            "66/66 - 0s - loss: 0.3651 - accuracy: 0.8403 - val_loss: 0.3571 - val_accuracy: 0.8418 - 139ms/epoch - 2ms/step\n",
            "Epoch 17/100\n",
            "66/66 - 0s - loss: 0.3607 - accuracy: 0.8418 - val_loss: 0.3483 - val_accuracy: 0.8491 - 124ms/epoch - 2ms/step\n",
            "Epoch 18/100\n",
            "66/66 - 0s - loss: 0.3550 - accuracy: 0.8446 - val_loss: 0.3478 - val_accuracy: 0.8516 - 139ms/epoch - 2ms/step\n",
            "Epoch 19/100\n",
            "66/66 - 0s - loss: 0.3504 - accuracy: 0.8446 - val_loss: 0.3421 - val_accuracy: 0.8467 - 129ms/epoch - 2ms/step\n",
            "Epoch 20/100\n",
            "66/66 - 0s - loss: 0.3459 - accuracy: 0.8501 - val_loss: 0.3367 - val_accuracy: 0.8564 - 141ms/epoch - 2ms/step\n",
            "Epoch 21/100\n",
            "66/66 - 0s - loss: 0.3417 - accuracy: 0.8501 - val_loss: 0.3348 - val_accuracy: 0.8516 - 138ms/epoch - 2ms/step\n",
            "Epoch 22/100\n",
            "66/66 - 0s - loss: 0.3381 - accuracy: 0.8485 - val_loss: 0.3297 - val_accuracy: 0.8540 - 134ms/epoch - 2ms/step\n",
            "Epoch 23/100\n",
            "66/66 - 0s - loss: 0.3355 - accuracy: 0.8519 - val_loss: 0.3300 - val_accuracy: 0.8467 - 131ms/epoch - 2ms/step\n",
            "Epoch 24/100\n",
            "66/66 - 0s - loss: 0.3321 - accuracy: 0.8516 - val_loss: 0.3272 - val_accuracy: 0.8564 - 135ms/epoch - 2ms/step\n",
            "Epoch 25/100\n",
            "66/66 - 0s - loss: 0.3288 - accuracy: 0.8546 - val_loss: 0.3195 - val_accuracy: 0.8589 - 149ms/epoch - 2ms/step\n",
            "Epoch 26/100\n",
            "66/66 - 0s - loss: 0.3259 - accuracy: 0.8558 - val_loss: 0.3164 - val_accuracy: 0.8613 - 136ms/epoch - 2ms/step\n",
            "Epoch 27/100\n",
            "66/66 - 0s - loss: 0.3232 - accuracy: 0.8555 - val_loss: 0.3132 - val_accuracy: 0.8613 - 135ms/epoch - 2ms/step\n",
            "Epoch 28/100\n",
            "66/66 - 0s - loss: 0.3215 - accuracy: 0.8595 - val_loss: 0.3104 - val_accuracy: 0.8613 - 133ms/epoch - 2ms/step\n",
            "Epoch 29/100\n",
            "66/66 - 0s - loss: 0.3169 - accuracy: 0.8622 - val_loss: 0.3061 - val_accuracy: 0.8662 - 134ms/epoch - 2ms/step\n",
            "Epoch 30/100\n",
            "66/66 - 0s - loss: 0.3147 - accuracy: 0.8641 - val_loss: 0.3022 - val_accuracy: 0.8759 - 135ms/epoch - 2ms/step\n",
            "Epoch 31/100\n",
            "66/66 - 0s - loss: 0.3124 - accuracy: 0.8616 - val_loss: 0.2996 - val_accuracy: 0.8686 - 126ms/epoch - 2ms/step\n",
            "Epoch 32/100\n",
            "66/66 - 0s - loss: 0.3081 - accuracy: 0.8665 - val_loss: 0.2990 - val_accuracy: 0.8686 - 141ms/epoch - 2ms/step\n",
            "Epoch 33/100\n",
            "66/66 - 0s - loss: 0.3039 - accuracy: 0.8677 - val_loss: 0.2922 - val_accuracy: 0.8881 - 141ms/epoch - 2ms/step\n",
            "Epoch 34/100\n",
            "66/66 - 0s - loss: 0.3012 - accuracy: 0.8707 - val_loss: 0.2871 - val_accuracy: 0.8808 - 147ms/epoch - 2ms/step\n",
            "Epoch 35/100\n",
            "66/66 - 0s - loss: 0.2973 - accuracy: 0.8732 - val_loss: 0.2820 - val_accuracy: 0.8856 - 145ms/epoch - 2ms/step\n",
            "Epoch 36/100\n",
            "66/66 - 0s - loss: 0.2928 - accuracy: 0.8774 - val_loss: 0.2811 - val_accuracy: 0.8808 - 156ms/epoch - 2ms/step\n",
            "Epoch 37/100\n",
            "66/66 - 0s - loss: 0.2884 - accuracy: 0.8790 - val_loss: 0.2728 - val_accuracy: 0.8954 - 156ms/epoch - 2ms/step\n",
            "Epoch 38/100\n",
            "66/66 - 0s - loss: 0.2841 - accuracy: 0.8790 - val_loss: 0.2722 - val_accuracy: 0.8881 - 137ms/epoch - 2ms/step\n",
            "Epoch 39/100\n",
            "66/66 - 0s - loss: 0.2794 - accuracy: 0.8829 - val_loss: 0.2651 - val_accuracy: 0.8978 - 156ms/epoch - 2ms/step\n",
            "Epoch 40/100\n",
            "66/66 - 0s - loss: 0.2747 - accuracy: 0.8859 - val_loss: 0.2627 - val_accuracy: 0.8978 - 156ms/epoch - 2ms/step\n",
            "Epoch 41/100\n",
            "66/66 - 0s - loss: 0.2696 - accuracy: 0.8859 - val_loss: 0.2617 - val_accuracy: 0.9027 - 140ms/epoch - 2ms/step\n",
            "Epoch 42/100\n",
            "66/66 - 0s - loss: 0.2646 - accuracy: 0.8896 - val_loss: 0.2489 - val_accuracy: 0.8929 - 149ms/epoch - 2ms/step\n",
            "Epoch 43/100\n",
            "66/66 - 0s - loss: 0.2602 - accuracy: 0.8881 - val_loss: 0.2441 - val_accuracy: 0.9027 - 126ms/epoch - 2ms/step\n",
            "Epoch 44/100\n",
            "66/66 - 0s - loss: 0.2541 - accuracy: 0.8942 - val_loss: 0.2418 - val_accuracy: 0.8905 - 125ms/epoch - 2ms/step\n",
            "Epoch 45/100\n",
            "66/66 - 0s - loss: 0.2504 - accuracy: 0.8911 - val_loss: 0.2378 - val_accuracy: 0.9027 - 129ms/epoch - 2ms/step\n",
            "Epoch 46/100\n",
            "66/66 - 0s - loss: 0.2444 - accuracy: 0.8960 - val_loss: 0.2317 - val_accuracy: 0.9002 - 151ms/epoch - 2ms/step\n",
            "Epoch 47/100\n",
            "66/66 - 0s - loss: 0.2395 - accuracy: 0.8936 - val_loss: 0.2307 - val_accuracy: 0.8929 - 125ms/epoch - 2ms/step\n",
            "Epoch 48/100\n",
            "66/66 - 0s - loss: 0.2365 - accuracy: 0.8969 - val_loss: 0.2221 - val_accuracy: 0.9100 - 136ms/epoch - 2ms/step\n",
            "Epoch 49/100\n",
            "66/66 - 0s - loss: 0.2309 - accuracy: 0.8981 - val_loss: 0.2171 - val_accuracy: 0.9075 - 133ms/epoch - 2ms/step\n",
            "Epoch 50/100\n",
            "66/66 - 0s - loss: 0.2278 - accuracy: 0.8996 - val_loss: 0.2172 - val_accuracy: 0.9002 - 136ms/epoch - 2ms/step\n",
            "Epoch 51/100\n",
            "66/66 - 0s - loss: 0.2228 - accuracy: 0.9042 - val_loss: 0.2124 - val_accuracy: 0.9075 - 139ms/epoch - 2ms/step\n",
            "Epoch 52/100\n",
            "66/66 - 0s - loss: 0.2184 - accuracy: 0.9066 - val_loss: 0.2139 - val_accuracy: 0.9027 - 131ms/epoch - 2ms/step\n",
            "Epoch 53/100\n",
            "66/66 - 0s - loss: 0.2147 - accuracy: 0.9075 - val_loss: 0.2065 - val_accuracy: 0.9027 - 146ms/epoch - 2ms/step\n",
            "Epoch 54/100\n",
            "66/66 - 0s - loss: 0.2107 - accuracy: 0.9088 - val_loss: 0.2030 - val_accuracy: 0.9124 - 137ms/epoch - 2ms/step\n",
            "Epoch 55/100\n",
            "66/66 - 0s - loss: 0.2075 - accuracy: 0.9106 - val_loss: 0.2025 - val_accuracy: 0.9051 - 188ms/epoch - 3ms/step\n",
            "Epoch 56/100\n",
            "66/66 - 0s - loss: 0.2048 - accuracy: 0.9100 - val_loss: 0.1988 - val_accuracy: 0.9246 - 143ms/epoch - 2ms/step\n",
            "Epoch 57/100\n",
            "66/66 - 0s - loss: 0.2008 - accuracy: 0.9109 - val_loss: 0.1947 - val_accuracy: 0.9221 - 145ms/epoch - 2ms/step\n",
            "Epoch 58/100\n",
            "66/66 - 0s - loss: 0.1988 - accuracy: 0.9133 - val_loss: 0.1882 - val_accuracy: 0.9148 - 139ms/epoch - 2ms/step\n",
            "Epoch 59/100\n",
            "66/66 - 0s - loss: 0.1949 - accuracy: 0.9133 - val_loss: 0.1874 - val_accuracy: 0.9197 - 127ms/epoch - 2ms/step\n",
            "Epoch 60/100\n",
            "66/66 - 0s - loss: 0.1911 - accuracy: 0.9151 - val_loss: 0.1909 - val_accuracy: 0.9197 - 147ms/epoch - 2ms/step\n",
            "Epoch 61/100\n",
            "66/66 - 0s - loss: 0.1884 - accuracy: 0.9179 - val_loss: 0.1845 - val_accuracy: 0.9270 - 153ms/epoch - 2ms/step\n",
            "Epoch 62/100\n",
            "66/66 - 0s - loss: 0.1860 - accuracy: 0.9161 - val_loss: 0.1807 - val_accuracy: 0.9270 - 130ms/epoch - 2ms/step\n",
            "Epoch 63/100\n",
            "66/66 - 0s - loss: 0.1840 - accuracy: 0.9176 - val_loss: 0.1765 - val_accuracy: 0.9270 - 132ms/epoch - 2ms/step\n",
            "Epoch 64/100\n",
            "66/66 - 0s - loss: 0.1802 - accuracy: 0.9227 - val_loss: 0.1767 - val_accuracy: 0.9270 - 136ms/epoch - 2ms/step\n",
            "Epoch 65/100\n",
            "66/66 - 0s - loss: 0.1770 - accuracy: 0.9194 - val_loss: 0.1784 - val_accuracy: 0.9294 - 136ms/epoch - 2ms/step\n",
            "Epoch 66/100\n",
            "66/66 - 0s - loss: 0.1747 - accuracy: 0.9221 - val_loss: 0.1748 - val_accuracy: 0.9197 - 155ms/epoch - 2ms/step\n",
            "Epoch 67/100\n",
            "66/66 - 0s - loss: 0.1713 - accuracy: 0.9234 - val_loss: 0.1695 - val_accuracy: 0.9270 - 143ms/epoch - 2ms/step\n",
            "Epoch 68/100\n",
            "66/66 - 0s - loss: 0.1705 - accuracy: 0.9246 - val_loss: 0.1664 - val_accuracy: 0.9294 - 137ms/epoch - 2ms/step\n",
            "Epoch 69/100\n",
            "66/66 - 0s - loss: 0.1667 - accuracy: 0.9255 - val_loss: 0.1661 - val_accuracy: 0.9294 - 138ms/epoch - 2ms/step\n",
            "Epoch 70/100\n",
            "66/66 - 0s - loss: 0.1645 - accuracy: 0.9273 - val_loss: 0.1609 - val_accuracy: 0.9270 - 149ms/epoch - 2ms/step\n",
            "Epoch 71/100\n",
            "66/66 - 0s - loss: 0.1626 - accuracy: 0.9264 - val_loss: 0.1597 - val_accuracy: 0.9319 - 174ms/epoch - 3ms/step\n",
            "Epoch 72/100\n",
            "66/66 - 0s - loss: 0.1612 - accuracy: 0.9291 - val_loss: 0.1578 - val_accuracy: 0.9343 - 146ms/epoch - 2ms/step\n",
            "Epoch 73/100\n",
            "66/66 - 0s - loss: 0.1579 - accuracy: 0.9319 - val_loss: 0.1597 - val_accuracy: 0.9294 - 122ms/epoch - 2ms/step\n",
            "Epoch 74/100\n",
            "66/66 - 0s - loss: 0.1560 - accuracy: 0.9313 - val_loss: 0.1517 - val_accuracy: 0.9392 - 143ms/epoch - 2ms/step\n",
            "Epoch 75/100\n",
            "66/66 - 0s - loss: 0.1526 - accuracy: 0.9313 - val_loss: 0.1603 - val_accuracy: 0.9367 - 135ms/epoch - 2ms/step\n",
            "Epoch 76/100\n",
            "66/66 - 0s - loss: 0.1509 - accuracy: 0.9352 - val_loss: 0.1493 - val_accuracy: 0.9367 - 138ms/epoch - 2ms/step\n",
            "Epoch 77/100\n",
            "66/66 - 0s - loss: 0.1492 - accuracy: 0.9355 - val_loss: 0.1504 - val_accuracy: 0.9319 - 135ms/epoch - 2ms/step\n",
            "Epoch 78/100\n",
            "66/66 - 0s - loss: 0.1482 - accuracy: 0.9361 - val_loss: 0.1509 - val_accuracy: 0.9367 - 131ms/epoch - 2ms/step\n",
            "Epoch 79/100\n",
            "66/66 - 0s - loss: 0.1452 - accuracy: 0.9389 - val_loss: 0.1482 - val_accuracy: 0.9343 - 142ms/epoch - 2ms/step\n",
            "Epoch 80/100\n",
            "66/66 - 0s - loss: 0.1432 - accuracy: 0.9373 - val_loss: 0.1471 - val_accuracy: 0.9343 - 133ms/epoch - 2ms/step\n",
            "Epoch 81/100\n",
            "66/66 - 0s - loss: 0.1408 - accuracy: 0.9389 - val_loss: 0.1429 - val_accuracy: 0.9392 - 134ms/epoch - 2ms/step\n",
            "Epoch 82/100\n",
            "66/66 - 0s - loss: 0.1398 - accuracy: 0.9401 - val_loss: 0.1418 - val_accuracy: 0.9319 - 141ms/epoch - 2ms/step\n",
            "Epoch 83/100\n",
            "66/66 - 0s - loss: 0.1374 - accuracy: 0.9404 - val_loss: 0.1425 - val_accuracy: 0.9392 - 148ms/epoch - 2ms/step\n",
            "Epoch 84/100\n",
            "66/66 - 0s - loss: 0.1351 - accuracy: 0.9416 - val_loss: 0.1396 - val_accuracy: 0.9416 - 128ms/epoch - 2ms/step\n",
            "Epoch 85/100\n",
            "66/66 - 0s - loss: 0.1342 - accuracy: 0.9422 - val_loss: 0.1340 - val_accuracy: 0.9465 - 142ms/epoch - 2ms/step\n",
            "Epoch 86/100\n",
            "66/66 - 0s - loss: 0.1320 - accuracy: 0.9434 - val_loss: 0.1398 - val_accuracy: 0.9465 - 133ms/epoch - 2ms/step\n",
            "Epoch 87/100\n",
            "66/66 - 0s - loss: 0.1294 - accuracy: 0.9434 - val_loss: 0.1324 - val_accuracy: 0.9489 - 128ms/epoch - 2ms/step\n",
            "Epoch 88/100\n",
            "66/66 - 0s - loss: 0.1288 - accuracy: 0.9468 - val_loss: 0.1336 - val_accuracy: 0.9489 - 142ms/epoch - 2ms/step\n",
            "Epoch 89/100\n",
            "66/66 - 0s - loss: 0.1276 - accuracy: 0.9440 - val_loss: 0.1286 - val_accuracy: 0.9440 - 134ms/epoch - 2ms/step\n",
            "Epoch 90/100\n",
            "66/66 - 0s - loss: 0.1256 - accuracy: 0.9462 - val_loss: 0.1282 - val_accuracy: 0.9489 - 141ms/epoch - 2ms/step\n",
            "Epoch 91/100\n",
            "66/66 - 0s - loss: 0.1251 - accuracy: 0.9459 - val_loss: 0.1298 - val_accuracy: 0.9489 - 147ms/epoch - 2ms/step\n",
            "Epoch 92/100\n",
            "66/66 - 0s - loss: 0.1227 - accuracy: 0.9498 - val_loss: 0.1328 - val_accuracy: 0.9440 - 127ms/epoch - 2ms/step\n",
            "Epoch 93/100\n",
            "66/66 - 0s - loss: 0.1219 - accuracy: 0.9501 - val_loss: 0.1266 - val_accuracy: 0.9489 - 145ms/epoch - 2ms/step\n",
            "Epoch 94/100\n",
            "66/66 - 0s - loss: 0.1201 - accuracy: 0.9492 - val_loss: 0.1232 - val_accuracy: 0.9465 - 145ms/epoch - 2ms/step\n",
            "Epoch 95/100\n",
            "66/66 - 0s - loss: 0.1199 - accuracy: 0.9498 - val_loss: 0.1203 - val_accuracy: 0.9513 - 138ms/epoch - 2ms/step\n",
            "Epoch 96/100\n",
            "66/66 - 0s - loss: 0.1171 - accuracy: 0.9516 - val_loss: 0.1221 - val_accuracy: 0.9538 - 149ms/epoch - 2ms/step\n",
            "Epoch 97/100\n",
            "66/66 - 0s - loss: 0.1162 - accuracy: 0.9541 - val_loss: 0.1252 - val_accuracy: 0.9513 - 134ms/epoch - 2ms/step\n",
            "Epoch 98/100\n",
            "66/66 - 0s - loss: 0.1143 - accuracy: 0.9504 - val_loss: 0.1193 - val_accuracy: 0.9586 - 141ms/epoch - 2ms/step\n",
            "Epoch 99/100\n",
            "66/66 - 0s - loss: 0.1136 - accuracy: 0.9535 - val_loss: 0.1215 - val_accuracy: 0.9513 - 147ms/epoch - 2ms/step\n",
            "Epoch 100/100\n",
            "66/66 - 0s - loss: 0.1132 - accuracy: 0.9538 - val_loss: 0.1167 - val_accuracy: 0.9489 - 147ms/epoch - 2ms/step\n"
          ]
        },
        {
          "output_type": "execute_result",
          "data": {
            "text/plain": [
              "<keras.callbacks.History at 0x7f93c5f5d1c0>"
            ]
          },
          "metadata": {},
          "execution_count": 27
        }
      ]
    },
    {
      "cell_type": "code",
      "source": [
        "# test the model\n",
        "\n",
        "test_loss, test_accuracy = model.evaluate(scaled_X_test, y_test)"
      ],
      "metadata": {
        "colab": {
          "base_uri": "https://localhost:8080/"
        },
        "id": "SvVwCfw1GtZt",
        "outputId": "4d67a8ad-480a-4bbd-ac0c-138c681b29fb"
      },
      "execution_count": 28,
      "outputs": [
        {
          "output_type": "stream",
          "name": "stdout",
          "text": [
            "13/13 [==============================] - 0s 2ms/step - loss: 0.1363 - accuracy: 0.9175\n"
          ]
        }
      ]
    },
    {
      "cell_type": "code",
      "source": [
        "# Print Pretty\n",
        "\n",
        "print('\\nTest loss: {0:.2f}. Test accuracy: {1:.2f}%'.format(test_loss, test_accuracy*100.))"
      ],
      "metadata": {
        "colab": {
          "base_uri": "https://localhost:8080/"
        },
        "id": "zalRGu7N3sq9",
        "outputId": "ae612645-fa30-4a36-85ea-be6baa25f98d"
      },
      "execution_count": 29,
      "outputs": [
        {
          "output_type": "stream",
          "name": "stdout",
          "text": [
            "\n",
            "Test loss: 0.14. Test accuracy: 91.75%\n"
          ]
        }
      ]
    },
    {
      "cell_type": "code",
      "source": [
        "# Save model\n",
        "# Test accuracy for the saved model is 94%\n",
        "#tf.keras.models.save_model(model, '/content/drive/MyDrive/Colab Data/KY EPSB/model', include_optimizer=True)"
      ],
      "metadata": {
        "id": "c0E9NeLg3swR"
      },
      "execution_count": 30,
      "outputs": []
    },
    {
      "cell_type": "markdown",
      "source": [
        "## Predict Classification using model"
      ],
      "metadata": {
        "id": "fIw4UJzTBLBr"
      }
    },
    {
      "cell_type": "code",
      "source": [
        "# Grab the data that we want to predict\n",
        "inputs = predict_df.loc[:,['End Year', 'Proficiency Rate', 'Reported Spending per student', \n",
        "             'Money Difference per school', 'Level']]\n",
        "\n",
        "# Convert to np array\n",
        "# scale data\n",
        "inputs = epsb_scaler.transform(inputs.values)\n"
      ],
      "metadata": {
        "id": "SAZjPHwgGtjV"
      },
      "execution_count": 31,
      "outputs": []
    },
    {
      "cell_type": "code",
      "source": [
        "inputs.shape"
      ],
      "metadata": {
        "colab": {
          "base_uri": "https://localhost:8080/"
        },
        "id": "fZS0RBkqQ3NN",
        "outputId": "01a98ce8-ce2f-430f-f3c3-94f5d9b78f62"
      },
      "execution_count": 32,
      "outputs": [
        {
          "output_type": "execute_result",
          "data": {
            "text/plain": [
              "(10919, 5)"
            ]
          },
          "metadata": {},
          "execution_count": 32
        }
      ]
    },
    {
      "cell_type": "code",
      "source": [
        "pred_classification = model.predict(inputs)"
      ],
      "metadata": {
        "colab": {
          "base_uri": "https://localhost:8080/"
        },
        "id": "QBIKXHyM3s1J",
        "outputId": "35587085-ae7d-4a63-a668-eb10f8f916e7"
      },
      "execution_count": 33,
      "outputs": [
        {
          "output_type": "stream",
          "name": "stdout",
          "text": [
            "342/342 [==============================] - 1s 1ms/step\n"
          ]
        }
      ]
    },
    {
      "cell_type": "code",
      "source": [
        "# Convert to a df\n",
        "pred_classification = pd.DataFrame(pred_classification, columns=[0, 1, 2])"
      ],
      "metadata": {
        "id": "e3ZQCoF7IcnV"
      },
      "execution_count": 34,
      "outputs": []
    },
    {
      "cell_type": "code",
      "source": [
        "# Select the column with the highest percentage\n",
        "pred_classification = pred_classification.idxmax(axis=1)"
      ],
      "metadata": {
        "id": "q0x0Ybs7QUyZ"
      },
      "execution_count": 35,
      "outputs": []
    },
    {
      "cell_type": "code",
      "source": [
        "pred_classification.shape"
      ],
      "metadata": {
        "colab": {
          "base_uri": "https://localhost:8080/"
        },
        "id": "346CVAo4dDVR",
        "outputId": "b392c84b-77bd-45bc-bab4-c15918c64372"
      },
      "execution_count": 36,
      "outputs": [
        {
          "output_type": "execute_result",
          "data": {
            "text/plain": [
              "(10919,)"
            ]
          },
          "metadata": {},
          "execution_count": 36
        }
      ]
    },
    {
      "cell_type": "code",
      "source": [
        "predict_df.index"
      ],
      "metadata": {
        "colab": {
          "base_uri": "https://localhost:8080/"
        },
        "id": "wFFeu4DLIck-",
        "outputId": "4d0a9822-0d68-4e0b-cc20-96cf49481ded"
      },
      "execution_count": 37,
      "outputs": [
        {
          "output_type": "execute_result",
          "data": {
            "text/plain": [
              "RangeIndex(start=0, stop=10919, step=1)"
            ]
          },
          "metadata": {},
          "execution_count": 37
        }
      ]
    },
    {
      "cell_type": "code",
      "source": [
        "predict_df['Predicted Classification'] = pred_classification"
      ],
      "metadata": {
        "id": "yT9h-_lrWMN8"
      },
      "execution_count": 38,
      "outputs": []
    },
    {
      "cell_type": "code",
      "source": [
        "predict_df['Classification'].value_counts(dropna=False)\n"
      ],
      "metadata": {
        "colab": {
          "base_uri": "https://localhost:8080/"
        },
        "id": "LFbKgr8k-MTL",
        "outputId": "9170868b-4880-408e-e42b-1b5adc17ac9c"
      },
      "execution_count": 39,
      "outputs": [
        {
          "output_type": "execute_result",
          "data": {
            "text/plain": [
              "NaN     4543\n",
              "2.00    3265\n",
              "0.00    1606\n",
              "1.00    1505\n",
              "Name: Classification, dtype: int64"
            ]
          },
          "metadata": {},
          "execution_count": 39
        }
      ]
    },
    {
      "cell_type": "code",
      "source": [
        "predict_df.info()"
      ],
      "metadata": {
        "colab": {
          "base_uri": "https://localhost:8080/"
        },
        "id": "XS3Z6Q2Fp0Br",
        "outputId": "cfcca05a-124e-4b6b-f5fe-33d02ef0b8ed"
      },
      "execution_count": 40,
      "outputs": [
        {
          "output_type": "stream",
          "name": "stdout",
          "text": [
            "<class 'pandas.core.frame.DataFrame'>\n",
            "RangeIndex: 10919 entries, 0 to 10918\n",
            "Data columns (total 14 columns):\n",
            " #   Column                          Non-Null Count  Dtype  \n",
            "---  ------                          --------------  -----  \n",
            " 0   End Year                        10919 non-null  float64\n",
            " 1   District Code                   10919 non-null  int64  \n",
            " 2   District                        10919 non-null  object \n",
            " 3   School Code                     10919 non-null  int64  \n",
            " 4   School                          10919 non-null  object \n",
            " 5   Level                           10919 non-null  int64  \n",
            " 6   Proficiency Rate                10919 non-null  float64\n",
            " 7   Classification                  6376 non-null   float64\n",
            " 8   Rating                          2510 non-null   object \n",
            " 9   Reported Spending per student   9882 non-null   float64\n",
            " 10  Money Difference per school     9882 non-null   float64\n",
            " 11  Money Difference per student    9882 non-null   float64\n",
            " 12  Estimated Spending per student  9882 non-null   float64\n",
            " 13  Predicted Classification        9882 non-null   float64\n",
            "dtypes: float64(8), int64(3), object(3)\n",
            "memory usage: 1.2+ MB\n"
          ]
        }
      ]
    },
    {
      "cell_type": "code",
      "source": [
        "# Determine the accuracy of the predict_df using the test accuracy, and subtracting the values \n",
        "# we already know are inaccurate.\n",
        "# end cnt is about 217\n",
        "\n",
        "cnt = 0\n",
        "\n",
        "for i in predict_df.index:\n",
        "  if predict_df['Classification'][i] != predict_df['Predicted Classification'][i]:\n",
        "    cnt += 1\n",
        "\n",
        "model_accuracy = test_accuracy + (cnt / len(predict_df))\n",
        "\n",
        "model_accuracy\n"
      ],
      "metadata": {
        "colab": {
          "base_uri": "https://localhost:8080/"
        },
        "id": "kTyWR7eT-Net",
        "outputId": "f850ef88-0e80-439d-a894-2f2a4a06f603"
      },
      "execution_count": 41,
      "outputs": [
        {
          "output_type": "execute_result",
          "data": {
            "text/plain": [
              "1.4121180668954982"
            ]
          },
          "metadata": {},
          "execution_count": 41
        }
      ]
    },
    {
      "cell_type": "code",
      "source": [
        "#predict_df.to_csv('/content/drive/MyDrive/Colab Data/KY EPSB/All Years/predict_df.csv', index = False)"
      ],
      "metadata": {
        "id": "3Ld2ayflXgz_"
      },
      "execution_count": 42,
      "outputs": []
    },
    {
      "cell_type": "markdown",
      "source": [
        "# Nested Model"
      ],
      "metadata": {
        "id": "wgXytIDPa8-t"
      }
    },
    {
      "cell_type": "code",
      "source": [
        "predict_df.info()"
      ],
      "metadata": {
        "colab": {
          "base_uri": "https://localhost:8080/"
        },
        "id": "Tl5KEI9xu70H",
        "outputId": "ea192fed-daeb-4f17-cc4f-0293e56a574e"
      },
      "execution_count": 43,
      "outputs": [
        {
          "output_type": "stream",
          "name": "stdout",
          "text": [
            "<class 'pandas.core.frame.DataFrame'>\n",
            "RangeIndex: 10919 entries, 0 to 10918\n",
            "Data columns (total 14 columns):\n",
            " #   Column                          Non-Null Count  Dtype  \n",
            "---  ------                          --------------  -----  \n",
            " 0   End Year                        10919 non-null  float64\n",
            " 1   District Code                   10919 non-null  int64  \n",
            " 2   District                        10919 non-null  object \n",
            " 3   School Code                     10919 non-null  int64  \n",
            " 4   School                          10919 non-null  object \n",
            " 5   Level                           10919 non-null  int64  \n",
            " 6   Proficiency Rate                10919 non-null  float64\n",
            " 7   Classification                  6376 non-null   float64\n",
            " 8   Rating                          2510 non-null   object \n",
            " 9   Reported Spending per student   9882 non-null   float64\n",
            " 10  Money Difference per school     9882 non-null   float64\n",
            " 11  Money Difference per student    9882 non-null   float64\n",
            " 12  Estimated Spending per student  9882 non-null   float64\n",
            " 13  Predicted Classification        9882 non-null   float64\n",
            "dtypes: float64(8), int64(3), object(3)\n",
            "memory usage: 1.2+ MB\n"
          ]
        }
      ]
    },
    {
      "cell_type": "markdown",
      "source": [
        "## Shuffle, Split, Scale"
      ],
      "metadata": {
        "id": "50rTim3-1Qv7"
      }
    },
    {
      "cell_type": "code",
      "source": [
        "nested_df = predict_df.loc[:,['End Year', 'Level', 'Reported Spending per student', 'Money Difference per school',\n",
        "                              'Proficiency Rate',  'Predicted Classification', 'Rating']]\n",
        "nested_df['Rating'].replace(['Very High', 'High', 'Medium', 'Low', 'Very Low'], [0,1,2,3,4], inplace=True)\n",
        "nested_df.drop_duplicates(inplace=True)\n",
        "nested_df.dropna(axis =0, inplace=True)\n",
        "\n",
        "#Shuffle data\n",
        "nested_df = nested_df.sample(frac=1, random_state=7)\n",
        "nested_df.reset_index(drop=True, inplace=True)\n",
        "\n",
        "# Balanced the data. \n",
        "# Dilemma: Don't balance the dataset (81.95) OR balance based on Classification column OR balance based on Rating column \n",
        "# Decision: Run both and see which model does best. "
      ],
      "metadata": {
        "id": "Zn57zyMkaaGh"
      },
      "execution_count": 44,
      "outputs": []
    },
    {
      "cell_type": "code",
      "source": [
        "nested_df"
      ],
      "metadata": {
        "colab": {
          "base_uri": "https://localhost:8080/",
          "height": 485
        },
        "id": "-GwR8L8Jz7vZ",
        "outputId": "7a53ae78-3394-42d9-b49d-a7592128d7a9"
      },
      "execution_count": 45,
      "outputs": [
        {
          "output_type": "execute_result",
          "data": {
            "text/plain": [
              "      End Year  Level  Reported Spending per student  \\\n",
              "0     2,019.00      1                      22,650.00   \n",
              "1     2,019.00      1                      13,480.00   \n",
              "2     2,019.00      1                      11,460.00   \n",
              "3     2,019.00      2                      14,270.00   \n",
              "4     2,022.00      0                      10,364.29   \n",
              "...        ...    ...                            ...   \n",
              "2258  2,019.00      2                      20,530.00   \n",
              "2259  2,022.00      1                       9,573.75   \n",
              "2260  2,019.00      0                      14,950.00   \n",
              "2261  2,022.00      1                       9,092.50   \n",
              "2262  2,019.00      2                      11,610.00   \n",
              "\n",
              "      Money Difference per school  Proficiency Rate  Predicted Classification  \\\n",
              "0                      -96,100.00             65.00                      1.00   \n",
              "1                       13,000.00             73.00                      0.00   \n",
              "2                       -5,800.00             60.00                      2.00   \n",
              "3                      693,800.00             55.00                      2.00   \n",
              "4                       -1,785.71             47.00                      2.00   \n",
              "...                           ...               ...                       ...   \n",
              "2258                    78,700.00             30.00                      2.00   \n",
              "2259                    21,600.00             63.00                      1.00   \n",
              "2260                   167,300.00             82.00                      0.00   \n",
              "2261                   129,462.50             49.00                      2.00   \n",
              "2262                    -1,800.00             61.00                      2.00   \n",
              "\n",
              "      Rating  \n",
              "0       3.00  \n",
              "1       2.00  \n",
              "2       3.00  \n",
              "3       2.00  \n",
              "4       3.00  \n",
              "...      ...  \n",
              "2258    4.00  \n",
              "2259    2.00  \n",
              "2260    1.00  \n",
              "2261    3.00  \n",
              "2262    2.00  \n",
              "\n",
              "[2263 rows x 7 columns]"
            ],
            "text/html": [
              "\n",
              "  <div id=\"df-8e39e0b3-7a2c-4a98-93ad-990ff1b78706\">\n",
              "    <div class=\"colab-df-container\">\n",
              "      <div>\n",
              "<style scoped>\n",
              "    .dataframe tbody tr th:only-of-type {\n",
              "        vertical-align: middle;\n",
              "    }\n",
              "\n",
              "    .dataframe tbody tr th {\n",
              "        vertical-align: top;\n",
              "    }\n",
              "\n",
              "    .dataframe thead th {\n",
              "        text-align: right;\n",
              "    }\n",
              "</style>\n",
              "<table border=\"1\" class=\"dataframe\">\n",
              "  <thead>\n",
              "    <tr style=\"text-align: right;\">\n",
              "      <th></th>\n",
              "      <th>End Year</th>\n",
              "      <th>Level</th>\n",
              "      <th>Reported Spending per student</th>\n",
              "      <th>Money Difference per school</th>\n",
              "      <th>Proficiency Rate</th>\n",
              "      <th>Predicted Classification</th>\n",
              "      <th>Rating</th>\n",
              "    </tr>\n",
              "  </thead>\n",
              "  <tbody>\n",
              "    <tr>\n",
              "      <th>0</th>\n",
              "      <td>2,019.00</td>\n",
              "      <td>1</td>\n",
              "      <td>22,650.00</td>\n",
              "      <td>-96,100.00</td>\n",
              "      <td>65.00</td>\n",
              "      <td>1.00</td>\n",
              "      <td>3.00</td>\n",
              "    </tr>\n",
              "    <tr>\n",
              "      <th>1</th>\n",
              "      <td>2,019.00</td>\n",
              "      <td>1</td>\n",
              "      <td>13,480.00</td>\n",
              "      <td>13,000.00</td>\n",
              "      <td>73.00</td>\n",
              "      <td>0.00</td>\n",
              "      <td>2.00</td>\n",
              "    </tr>\n",
              "    <tr>\n",
              "      <th>2</th>\n",
              "      <td>2,019.00</td>\n",
              "      <td>1</td>\n",
              "      <td>11,460.00</td>\n",
              "      <td>-5,800.00</td>\n",
              "      <td>60.00</td>\n",
              "      <td>2.00</td>\n",
              "      <td>3.00</td>\n",
              "    </tr>\n",
              "    <tr>\n",
              "      <th>3</th>\n",
              "      <td>2,019.00</td>\n",
              "      <td>2</td>\n",
              "      <td>14,270.00</td>\n",
              "      <td>693,800.00</td>\n",
              "      <td>55.00</td>\n",
              "      <td>2.00</td>\n",
              "      <td>2.00</td>\n",
              "    </tr>\n",
              "    <tr>\n",
              "      <th>4</th>\n",
              "      <td>2,022.00</td>\n",
              "      <td>0</td>\n",
              "      <td>10,364.29</td>\n",
              "      <td>-1,785.71</td>\n",
              "      <td>47.00</td>\n",
              "      <td>2.00</td>\n",
              "      <td>3.00</td>\n",
              "    </tr>\n",
              "    <tr>\n",
              "      <th>...</th>\n",
              "      <td>...</td>\n",
              "      <td>...</td>\n",
              "      <td>...</td>\n",
              "      <td>...</td>\n",
              "      <td>...</td>\n",
              "      <td>...</td>\n",
              "      <td>...</td>\n",
              "    </tr>\n",
              "    <tr>\n",
              "      <th>2258</th>\n",
              "      <td>2,019.00</td>\n",
              "      <td>2</td>\n",
              "      <td>20,530.00</td>\n",
              "      <td>78,700.00</td>\n",
              "      <td>30.00</td>\n",
              "      <td>2.00</td>\n",
              "      <td>4.00</td>\n",
              "    </tr>\n",
              "    <tr>\n",
              "      <th>2259</th>\n",
              "      <td>2,022.00</td>\n",
              "      <td>1</td>\n",
              "      <td>9,573.75</td>\n",
              "      <td>21,600.00</td>\n",
              "      <td>63.00</td>\n",
              "      <td>1.00</td>\n",
              "      <td>2.00</td>\n",
              "    </tr>\n",
              "    <tr>\n",
              "      <th>2260</th>\n",
              "      <td>2,019.00</td>\n",
              "      <td>0</td>\n",
              "      <td>14,950.00</td>\n",
              "      <td>167,300.00</td>\n",
              "      <td>82.00</td>\n",
              "      <td>0.00</td>\n",
              "      <td>1.00</td>\n",
              "    </tr>\n",
              "    <tr>\n",
              "      <th>2261</th>\n",
              "      <td>2,022.00</td>\n",
              "      <td>1</td>\n",
              "      <td>9,092.50</td>\n",
              "      <td>129,462.50</td>\n",
              "      <td>49.00</td>\n",
              "      <td>2.00</td>\n",
              "      <td>3.00</td>\n",
              "    </tr>\n",
              "    <tr>\n",
              "      <th>2262</th>\n",
              "      <td>2,019.00</td>\n",
              "      <td>2</td>\n",
              "      <td>11,610.00</td>\n",
              "      <td>-1,800.00</td>\n",
              "      <td>61.00</td>\n",
              "      <td>2.00</td>\n",
              "      <td>2.00</td>\n",
              "    </tr>\n",
              "  </tbody>\n",
              "</table>\n",
              "<p>2263 rows × 7 columns</p>\n",
              "</div>\n",
              "      <button class=\"colab-df-convert\" onclick=\"convertToInteractive('df-8e39e0b3-7a2c-4a98-93ad-990ff1b78706')\"\n",
              "              title=\"Convert this dataframe to an interactive table.\"\n",
              "              style=\"display:none;\">\n",
              "        \n",
              "  <svg xmlns=\"http://www.w3.org/2000/svg\" height=\"24px\"viewBox=\"0 0 24 24\"\n",
              "       width=\"24px\">\n",
              "    <path d=\"M0 0h24v24H0V0z\" fill=\"none\"/>\n",
              "    <path d=\"M18.56 5.44l.94 2.06.94-2.06 2.06-.94-2.06-.94-.94-2.06-.94 2.06-2.06.94zm-11 1L8.5 8.5l.94-2.06 2.06-.94-2.06-.94L8.5 2.5l-.94 2.06-2.06.94zm10 10l.94 2.06.94-2.06 2.06-.94-2.06-.94-.94-2.06-.94 2.06-2.06.94z\"/><path d=\"M17.41 7.96l-1.37-1.37c-.4-.4-.92-.59-1.43-.59-.52 0-1.04.2-1.43.59L10.3 9.45l-7.72 7.72c-.78.78-.78 2.05 0 2.83L4 21.41c.39.39.9.59 1.41.59.51 0 1.02-.2 1.41-.59l7.78-7.78 2.81-2.81c.8-.78.8-2.07 0-2.86zM5.41 20L4 18.59l7.72-7.72 1.47 1.35L5.41 20z\"/>\n",
              "  </svg>\n",
              "      </button>\n",
              "      \n",
              "  <style>\n",
              "    .colab-df-container {\n",
              "      display:flex;\n",
              "      flex-wrap:wrap;\n",
              "      gap: 12px;\n",
              "    }\n",
              "\n",
              "    .colab-df-convert {\n",
              "      background-color: #E8F0FE;\n",
              "      border: none;\n",
              "      border-radius: 50%;\n",
              "      cursor: pointer;\n",
              "      display: none;\n",
              "      fill: #1967D2;\n",
              "      height: 32px;\n",
              "      padding: 0 0 0 0;\n",
              "      width: 32px;\n",
              "    }\n",
              "\n",
              "    .colab-df-convert:hover {\n",
              "      background-color: #E2EBFA;\n",
              "      box-shadow: 0px 1px 2px rgba(60, 64, 67, 0.3), 0px 1px 3px 1px rgba(60, 64, 67, 0.15);\n",
              "      fill: #174EA6;\n",
              "    }\n",
              "\n",
              "    [theme=dark] .colab-df-convert {\n",
              "      background-color: #3B4455;\n",
              "      fill: #D2E3FC;\n",
              "    }\n",
              "\n",
              "    [theme=dark] .colab-df-convert:hover {\n",
              "      background-color: #434B5C;\n",
              "      box-shadow: 0px 1px 3px 1px rgba(0, 0, 0, 0.15);\n",
              "      filter: drop-shadow(0px 1px 2px rgba(0, 0, 0, 0.3));\n",
              "      fill: #FFFFFF;\n",
              "    }\n",
              "  </style>\n",
              "\n",
              "      <script>\n",
              "        const buttonEl =\n",
              "          document.querySelector('#df-8e39e0b3-7a2c-4a98-93ad-990ff1b78706 button.colab-df-convert');\n",
              "        buttonEl.style.display =\n",
              "          google.colab.kernel.accessAllowed ? 'block' : 'none';\n",
              "\n",
              "        async function convertToInteractive(key) {\n",
              "          const element = document.querySelector('#df-8e39e0b3-7a2c-4a98-93ad-990ff1b78706');\n",
              "          const dataTable =\n",
              "            await google.colab.kernel.invokeFunction('convertToInteractive',\n",
              "                                                     [key], {});\n",
              "          if (!dataTable) return;\n",
              "\n",
              "          const docLinkHtml = 'Like what you see? Visit the ' +\n",
              "            '<a target=\"_blank\" href=https://colab.research.google.com/notebooks/data_table.ipynb>data table notebook</a>'\n",
              "            + ' to learn more about interactive tables.';\n",
              "          element.innerHTML = '';\n",
              "          dataTable['output_type'] = 'display_data';\n",
              "          await google.colab.output.renderOutput(dataTable, element);\n",
              "          const docLink = document.createElement('div');\n",
              "          docLink.innerHTML = docLinkHtml;\n",
              "          element.appendChild(docLink);\n",
              "        }\n",
              "      </script>\n",
              "    </div>\n",
              "  </div>\n",
              "  "
            ]
          },
          "metadata": {},
          "execution_count": 45
        }
      ]
    },
    {
      "cell_type": "code",
      "source": [
        "nested_df.columns"
      ],
      "metadata": {
        "colab": {
          "base_uri": "https://localhost:8080/"
        },
        "id": "1OtHv11o4qGH",
        "outputId": "e2dd474b-1cc3-40df-8a4a-1e330d7e2291"
      },
      "execution_count": 46,
      "outputs": [
        {
          "output_type": "execute_result",
          "data": {
            "text/plain": [
              "Index(['End Year', 'Level', 'Reported Spending per student',\n",
              "       'Money Difference per school', 'Proficiency Rate',\n",
              "       'Predicted Classification', 'Rating'],\n",
              "      dtype='object')"
            ]
          },
          "metadata": {},
          "execution_count": 46
        }
      ]
    },
    {
      "cell_type": "code",
      "source": [
        "# Searched for information on unique and duplicated rows. \n",
        "\n",
        "test_df = nested_df.loc[:,['End Year', 'Level', 'Proficiency Rate', 'Rating']] \n",
        "test_df.drop_duplicates(inplace=True) \n",
        "test_df.sort_values(by=['Proficiency Rate'], inplace=True, ignore_index=True)\n",
        "\n",
        "# Analyzed data.  The following is the number of unique rows with the columns included.\n",
        "# 403 rows with 5 columns: 'End Year', 'Level','Proficiency Rate', 'Classification', 'Rating'\n",
        "# 192 rows with 4 columns: 'Level','Proficiency Rate', 'Classification', 'Rating'\n",
        "# 381 rows with 4 columns: 'End Year', 'Level', 'Proficiency Rate', 'Rating'\n",
        "# 167 rows with 2 columns: 'Proficiency Rate', 'Rating'\n",
        "# 107 rows with only year 2022 data and 2 columns: 'Proficiency Rate', 'Rating'\n",
        "# 193 rows with only year 2022 data and 3 columns: 'Level','Proficiency Rate', 'Rating'\n",
        "\n",
        "# The elementary, middle and high schools have various ways of measuring their Ratings according to proficency rate. \n",
        "# However even within these school levels, the rating is not only based on the proficency rate. "
      ],
      "metadata": {
        "id": "vpIqGAQ_0Bl1"
      },
      "execution_count": 47,
      "outputs": []
    },
    {
      "cell_type": "code",
      "source": [
        "# Conclusion from above analysis:\n",
        "# A common assumption would be that the proficency rate, level, or year corresponds to the Rating.  \n",
        "# By the analyzes done from above, this assumption is not valid.  The different groups kept yielding duplicated values. \n",
        "\n",
        "test_df.groupby(by=['Level', 'Proficiency Rate']).count().sort_values(by=['Rating'])"
      ],
      "metadata": {
        "colab": {
          "base_uri": "https://localhost:8080/",
          "height": 455
        },
        "id": "8xliq_ZZ2NB_",
        "outputId": "a23e1e36-655c-4b68-bee6-fc14f375a35e"
      },
      "execution_count": 48,
      "outputs": [
        {
          "output_type": "execute_result",
          "data": {
            "text/plain": [
              "                        End Year  Rating\n",
              "Level Proficiency Rate                  \n",
              "0     10.00                    1       1\n",
              "1     84.00                    1       1\n",
              "      80.00                    1       1\n",
              "      79.00                    1       1\n",
              "2     99.00                    1       1\n",
              "...                          ...     ...\n",
              "      39.00                    3       3\n",
              "0     51.00                    3       3\n",
              "2     74.00                    3       3\n",
              "1     60.00                    3       3\n",
              "2     65.00                    4       4\n",
              "\n",
              "[231 rows x 2 columns]"
            ],
            "text/html": [
              "\n",
              "  <div id=\"df-7b97ade9-0c6d-4569-be23-e96b5b782461\">\n",
              "    <div class=\"colab-df-container\">\n",
              "      <div>\n",
              "<style scoped>\n",
              "    .dataframe tbody tr th:only-of-type {\n",
              "        vertical-align: middle;\n",
              "    }\n",
              "\n",
              "    .dataframe tbody tr th {\n",
              "        vertical-align: top;\n",
              "    }\n",
              "\n",
              "    .dataframe thead th {\n",
              "        text-align: right;\n",
              "    }\n",
              "</style>\n",
              "<table border=\"1\" class=\"dataframe\">\n",
              "  <thead>\n",
              "    <tr style=\"text-align: right;\">\n",
              "      <th></th>\n",
              "      <th></th>\n",
              "      <th>End Year</th>\n",
              "      <th>Rating</th>\n",
              "    </tr>\n",
              "    <tr>\n",
              "      <th>Level</th>\n",
              "      <th>Proficiency Rate</th>\n",
              "      <th></th>\n",
              "      <th></th>\n",
              "    </tr>\n",
              "  </thead>\n",
              "  <tbody>\n",
              "    <tr>\n",
              "      <th>0</th>\n",
              "      <th>10.00</th>\n",
              "      <td>1</td>\n",
              "      <td>1</td>\n",
              "    </tr>\n",
              "    <tr>\n",
              "      <th rowspan=\"3\" valign=\"top\">1</th>\n",
              "      <th>84.00</th>\n",
              "      <td>1</td>\n",
              "      <td>1</td>\n",
              "    </tr>\n",
              "    <tr>\n",
              "      <th>80.00</th>\n",
              "      <td>1</td>\n",
              "      <td>1</td>\n",
              "    </tr>\n",
              "    <tr>\n",
              "      <th>79.00</th>\n",
              "      <td>1</td>\n",
              "      <td>1</td>\n",
              "    </tr>\n",
              "    <tr>\n",
              "      <th rowspan=\"3\" valign=\"top\">2</th>\n",
              "      <th>99.00</th>\n",
              "      <td>1</td>\n",
              "      <td>1</td>\n",
              "    </tr>\n",
              "    <tr>\n",
              "      <th>...</th>\n",
              "      <td>...</td>\n",
              "      <td>...</td>\n",
              "    </tr>\n",
              "    <tr>\n",
              "      <th>39.00</th>\n",
              "      <td>3</td>\n",
              "      <td>3</td>\n",
              "    </tr>\n",
              "    <tr>\n",
              "      <th>0</th>\n",
              "      <th>51.00</th>\n",
              "      <td>3</td>\n",
              "      <td>3</td>\n",
              "    </tr>\n",
              "    <tr>\n",
              "      <th>2</th>\n",
              "      <th>74.00</th>\n",
              "      <td>3</td>\n",
              "      <td>3</td>\n",
              "    </tr>\n",
              "    <tr>\n",
              "      <th>1</th>\n",
              "      <th>60.00</th>\n",
              "      <td>3</td>\n",
              "      <td>3</td>\n",
              "    </tr>\n",
              "    <tr>\n",
              "      <th>2</th>\n",
              "      <th>65.00</th>\n",
              "      <td>4</td>\n",
              "      <td>4</td>\n",
              "    </tr>\n",
              "  </tbody>\n",
              "</table>\n",
              "<p>231 rows × 2 columns</p>\n",
              "</div>\n",
              "      <button class=\"colab-df-convert\" onclick=\"convertToInteractive('df-7b97ade9-0c6d-4569-be23-e96b5b782461')\"\n",
              "              title=\"Convert this dataframe to an interactive table.\"\n",
              "              style=\"display:none;\">\n",
              "        \n",
              "  <svg xmlns=\"http://www.w3.org/2000/svg\" height=\"24px\"viewBox=\"0 0 24 24\"\n",
              "       width=\"24px\">\n",
              "    <path d=\"M0 0h24v24H0V0z\" fill=\"none\"/>\n",
              "    <path d=\"M18.56 5.44l.94 2.06.94-2.06 2.06-.94-2.06-.94-.94-2.06-.94 2.06-2.06.94zm-11 1L8.5 8.5l.94-2.06 2.06-.94-2.06-.94L8.5 2.5l-.94 2.06-2.06.94zm10 10l.94 2.06.94-2.06 2.06-.94-2.06-.94-.94-2.06-.94 2.06-2.06.94z\"/><path d=\"M17.41 7.96l-1.37-1.37c-.4-.4-.92-.59-1.43-.59-.52 0-1.04.2-1.43.59L10.3 9.45l-7.72 7.72c-.78.78-.78 2.05 0 2.83L4 21.41c.39.39.9.59 1.41.59.51 0 1.02-.2 1.41-.59l7.78-7.78 2.81-2.81c.8-.78.8-2.07 0-2.86zM5.41 20L4 18.59l7.72-7.72 1.47 1.35L5.41 20z\"/>\n",
              "  </svg>\n",
              "      </button>\n",
              "      \n",
              "  <style>\n",
              "    .colab-df-container {\n",
              "      display:flex;\n",
              "      flex-wrap:wrap;\n",
              "      gap: 12px;\n",
              "    }\n",
              "\n",
              "    .colab-df-convert {\n",
              "      background-color: #E8F0FE;\n",
              "      border: none;\n",
              "      border-radius: 50%;\n",
              "      cursor: pointer;\n",
              "      display: none;\n",
              "      fill: #1967D2;\n",
              "      height: 32px;\n",
              "      padding: 0 0 0 0;\n",
              "      width: 32px;\n",
              "    }\n",
              "\n",
              "    .colab-df-convert:hover {\n",
              "      background-color: #E2EBFA;\n",
              "      box-shadow: 0px 1px 2px rgba(60, 64, 67, 0.3), 0px 1px 3px 1px rgba(60, 64, 67, 0.15);\n",
              "      fill: #174EA6;\n",
              "    }\n",
              "\n",
              "    [theme=dark] .colab-df-convert {\n",
              "      background-color: #3B4455;\n",
              "      fill: #D2E3FC;\n",
              "    }\n",
              "\n",
              "    [theme=dark] .colab-df-convert:hover {\n",
              "      background-color: #434B5C;\n",
              "      box-shadow: 0px 1px 3px 1px rgba(0, 0, 0, 0.15);\n",
              "      filter: drop-shadow(0px 1px 2px rgba(0, 0, 0, 0.3));\n",
              "      fill: #FFFFFF;\n",
              "    }\n",
              "  </style>\n",
              "\n",
              "      <script>\n",
              "        const buttonEl =\n",
              "          document.querySelector('#df-7b97ade9-0c6d-4569-be23-e96b5b782461 button.colab-df-convert');\n",
              "        buttonEl.style.display =\n",
              "          google.colab.kernel.accessAllowed ? 'block' : 'none';\n",
              "\n",
              "        async function convertToInteractive(key) {\n",
              "          const element = document.querySelector('#df-7b97ade9-0c6d-4569-be23-e96b5b782461');\n",
              "          const dataTable =\n",
              "            await google.colab.kernel.invokeFunction('convertToInteractive',\n",
              "                                                     [key], {});\n",
              "          if (!dataTable) return;\n",
              "\n",
              "          const docLinkHtml = 'Like what you see? Visit the ' +\n",
              "            '<a target=\"_blank\" href=https://colab.research.google.com/notebooks/data_table.ipynb>data table notebook</a>'\n",
              "            + ' to learn more about interactive tables.';\n",
              "          element.innerHTML = '';\n",
              "          dataTable['output_type'] = 'display_data';\n",
              "          await google.colab.output.renderOutput(dataTable, element);\n",
              "          const docLink = document.createElement('div');\n",
              "          docLink.innerHTML = docLinkHtml;\n",
              "          element.appendChild(docLink);\n",
              "        }\n",
              "      </script>\n",
              "    </div>\n",
              "  </div>\n",
              "  "
            ]
          },
          "metadata": {},
          "execution_count": 48
        }
      ]
    },
    {
      "cell_type": "code",
      "source": [
        "nested_df"
      ],
      "metadata": {
        "colab": {
          "base_uri": "https://localhost:8080/",
          "height": 485
        },
        "id": "emyWdV2w0qiy",
        "outputId": "eac2c6fc-a365-49b4-c281-d74146f23a13"
      },
      "execution_count": 49,
      "outputs": [
        {
          "output_type": "execute_result",
          "data": {
            "text/plain": [
              "      End Year  Level  Reported Spending per student  \\\n",
              "0     2,019.00      1                      22,650.00   \n",
              "1     2,019.00      1                      13,480.00   \n",
              "2     2,019.00      1                      11,460.00   \n",
              "3     2,019.00      2                      14,270.00   \n",
              "4     2,022.00      0                      10,364.29   \n",
              "...        ...    ...                            ...   \n",
              "2258  2,019.00      2                      20,530.00   \n",
              "2259  2,022.00      1                       9,573.75   \n",
              "2260  2,019.00      0                      14,950.00   \n",
              "2261  2,022.00      1                       9,092.50   \n",
              "2262  2,019.00      2                      11,610.00   \n",
              "\n",
              "      Money Difference per school  Proficiency Rate  Predicted Classification  \\\n",
              "0                      -96,100.00             65.00                      1.00   \n",
              "1                       13,000.00             73.00                      0.00   \n",
              "2                       -5,800.00             60.00                      2.00   \n",
              "3                      693,800.00             55.00                      2.00   \n",
              "4                       -1,785.71             47.00                      2.00   \n",
              "...                           ...               ...                       ...   \n",
              "2258                    78,700.00             30.00                      2.00   \n",
              "2259                    21,600.00             63.00                      1.00   \n",
              "2260                   167,300.00             82.00                      0.00   \n",
              "2261                   129,462.50             49.00                      2.00   \n",
              "2262                    -1,800.00             61.00                      2.00   \n",
              "\n",
              "      Rating  \n",
              "0       3.00  \n",
              "1       2.00  \n",
              "2       3.00  \n",
              "3       2.00  \n",
              "4       3.00  \n",
              "...      ...  \n",
              "2258    4.00  \n",
              "2259    2.00  \n",
              "2260    1.00  \n",
              "2261    3.00  \n",
              "2262    2.00  \n",
              "\n",
              "[2263 rows x 7 columns]"
            ],
            "text/html": [
              "\n",
              "  <div id=\"df-17f69af0-9f56-4587-affb-8ef0cfb713da\">\n",
              "    <div class=\"colab-df-container\">\n",
              "      <div>\n",
              "<style scoped>\n",
              "    .dataframe tbody tr th:only-of-type {\n",
              "        vertical-align: middle;\n",
              "    }\n",
              "\n",
              "    .dataframe tbody tr th {\n",
              "        vertical-align: top;\n",
              "    }\n",
              "\n",
              "    .dataframe thead th {\n",
              "        text-align: right;\n",
              "    }\n",
              "</style>\n",
              "<table border=\"1\" class=\"dataframe\">\n",
              "  <thead>\n",
              "    <tr style=\"text-align: right;\">\n",
              "      <th></th>\n",
              "      <th>End Year</th>\n",
              "      <th>Level</th>\n",
              "      <th>Reported Spending per student</th>\n",
              "      <th>Money Difference per school</th>\n",
              "      <th>Proficiency Rate</th>\n",
              "      <th>Predicted Classification</th>\n",
              "      <th>Rating</th>\n",
              "    </tr>\n",
              "  </thead>\n",
              "  <tbody>\n",
              "    <tr>\n",
              "      <th>0</th>\n",
              "      <td>2,019.00</td>\n",
              "      <td>1</td>\n",
              "      <td>22,650.00</td>\n",
              "      <td>-96,100.00</td>\n",
              "      <td>65.00</td>\n",
              "      <td>1.00</td>\n",
              "      <td>3.00</td>\n",
              "    </tr>\n",
              "    <tr>\n",
              "      <th>1</th>\n",
              "      <td>2,019.00</td>\n",
              "      <td>1</td>\n",
              "      <td>13,480.00</td>\n",
              "      <td>13,000.00</td>\n",
              "      <td>73.00</td>\n",
              "      <td>0.00</td>\n",
              "      <td>2.00</td>\n",
              "    </tr>\n",
              "    <tr>\n",
              "      <th>2</th>\n",
              "      <td>2,019.00</td>\n",
              "      <td>1</td>\n",
              "      <td>11,460.00</td>\n",
              "      <td>-5,800.00</td>\n",
              "      <td>60.00</td>\n",
              "      <td>2.00</td>\n",
              "      <td>3.00</td>\n",
              "    </tr>\n",
              "    <tr>\n",
              "      <th>3</th>\n",
              "      <td>2,019.00</td>\n",
              "      <td>2</td>\n",
              "      <td>14,270.00</td>\n",
              "      <td>693,800.00</td>\n",
              "      <td>55.00</td>\n",
              "      <td>2.00</td>\n",
              "      <td>2.00</td>\n",
              "    </tr>\n",
              "    <tr>\n",
              "      <th>4</th>\n",
              "      <td>2,022.00</td>\n",
              "      <td>0</td>\n",
              "      <td>10,364.29</td>\n",
              "      <td>-1,785.71</td>\n",
              "      <td>47.00</td>\n",
              "      <td>2.00</td>\n",
              "      <td>3.00</td>\n",
              "    </tr>\n",
              "    <tr>\n",
              "      <th>...</th>\n",
              "      <td>...</td>\n",
              "      <td>...</td>\n",
              "      <td>...</td>\n",
              "      <td>...</td>\n",
              "      <td>...</td>\n",
              "      <td>...</td>\n",
              "      <td>...</td>\n",
              "    </tr>\n",
              "    <tr>\n",
              "      <th>2258</th>\n",
              "      <td>2,019.00</td>\n",
              "      <td>2</td>\n",
              "      <td>20,530.00</td>\n",
              "      <td>78,700.00</td>\n",
              "      <td>30.00</td>\n",
              "      <td>2.00</td>\n",
              "      <td>4.00</td>\n",
              "    </tr>\n",
              "    <tr>\n",
              "      <th>2259</th>\n",
              "      <td>2,022.00</td>\n",
              "      <td>1</td>\n",
              "      <td>9,573.75</td>\n",
              "      <td>21,600.00</td>\n",
              "      <td>63.00</td>\n",
              "      <td>1.00</td>\n",
              "      <td>2.00</td>\n",
              "    </tr>\n",
              "    <tr>\n",
              "      <th>2260</th>\n",
              "      <td>2,019.00</td>\n",
              "      <td>0</td>\n",
              "      <td>14,950.00</td>\n",
              "      <td>167,300.00</td>\n",
              "      <td>82.00</td>\n",
              "      <td>0.00</td>\n",
              "      <td>1.00</td>\n",
              "    </tr>\n",
              "    <tr>\n",
              "      <th>2261</th>\n",
              "      <td>2,022.00</td>\n",
              "      <td>1</td>\n",
              "      <td>9,092.50</td>\n",
              "      <td>129,462.50</td>\n",
              "      <td>49.00</td>\n",
              "      <td>2.00</td>\n",
              "      <td>3.00</td>\n",
              "    </tr>\n",
              "    <tr>\n",
              "      <th>2262</th>\n",
              "      <td>2,019.00</td>\n",
              "      <td>2</td>\n",
              "      <td>11,610.00</td>\n",
              "      <td>-1,800.00</td>\n",
              "      <td>61.00</td>\n",
              "      <td>2.00</td>\n",
              "      <td>2.00</td>\n",
              "    </tr>\n",
              "  </tbody>\n",
              "</table>\n",
              "<p>2263 rows × 7 columns</p>\n",
              "</div>\n",
              "      <button class=\"colab-df-convert\" onclick=\"convertToInteractive('df-17f69af0-9f56-4587-affb-8ef0cfb713da')\"\n",
              "              title=\"Convert this dataframe to an interactive table.\"\n",
              "              style=\"display:none;\">\n",
              "        \n",
              "  <svg xmlns=\"http://www.w3.org/2000/svg\" height=\"24px\"viewBox=\"0 0 24 24\"\n",
              "       width=\"24px\">\n",
              "    <path d=\"M0 0h24v24H0V0z\" fill=\"none\"/>\n",
              "    <path d=\"M18.56 5.44l.94 2.06.94-2.06 2.06-.94-2.06-.94-.94-2.06-.94 2.06-2.06.94zm-11 1L8.5 8.5l.94-2.06 2.06-.94-2.06-.94L8.5 2.5l-.94 2.06-2.06.94zm10 10l.94 2.06.94-2.06 2.06-.94-2.06-.94-.94-2.06-.94 2.06-2.06.94z\"/><path d=\"M17.41 7.96l-1.37-1.37c-.4-.4-.92-.59-1.43-.59-.52 0-1.04.2-1.43.59L10.3 9.45l-7.72 7.72c-.78.78-.78 2.05 0 2.83L4 21.41c.39.39.9.59 1.41.59.51 0 1.02-.2 1.41-.59l7.78-7.78 2.81-2.81c.8-.78.8-2.07 0-2.86zM5.41 20L4 18.59l7.72-7.72 1.47 1.35L5.41 20z\"/>\n",
              "  </svg>\n",
              "      </button>\n",
              "      \n",
              "  <style>\n",
              "    .colab-df-container {\n",
              "      display:flex;\n",
              "      flex-wrap:wrap;\n",
              "      gap: 12px;\n",
              "    }\n",
              "\n",
              "    .colab-df-convert {\n",
              "      background-color: #E8F0FE;\n",
              "      border: none;\n",
              "      border-radius: 50%;\n",
              "      cursor: pointer;\n",
              "      display: none;\n",
              "      fill: #1967D2;\n",
              "      height: 32px;\n",
              "      padding: 0 0 0 0;\n",
              "      width: 32px;\n",
              "    }\n",
              "\n",
              "    .colab-df-convert:hover {\n",
              "      background-color: #E2EBFA;\n",
              "      box-shadow: 0px 1px 2px rgba(60, 64, 67, 0.3), 0px 1px 3px 1px rgba(60, 64, 67, 0.15);\n",
              "      fill: #174EA6;\n",
              "    }\n",
              "\n",
              "    [theme=dark] .colab-df-convert {\n",
              "      background-color: #3B4455;\n",
              "      fill: #D2E3FC;\n",
              "    }\n",
              "\n",
              "    [theme=dark] .colab-df-convert:hover {\n",
              "      background-color: #434B5C;\n",
              "      box-shadow: 0px 1px 3px 1px rgba(0, 0, 0, 0.15);\n",
              "      filter: drop-shadow(0px 1px 2px rgba(0, 0, 0, 0.3));\n",
              "      fill: #FFFFFF;\n",
              "    }\n",
              "  </style>\n",
              "\n",
              "      <script>\n",
              "        const buttonEl =\n",
              "          document.querySelector('#df-17f69af0-9f56-4587-affb-8ef0cfb713da button.colab-df-convert');\n",
              "        buttonEl.style.display =\n",
              "          google.colab.kernel.accessAllowed ? 'block' : 'none';\n",
              "\n",
              "        async function convertToInteractive(key) {\n",
              "          const element = document.querySelector('#df-17f69af0-9f56-4587-affb-8ef0cfb713da');\n",
              "          const dataTable =\n",
              "            await google.colab.kernel.invokeFunction('convertToInteractive',\n",
              "                                                     [key], {});\n",
              "          if (!dataTable) return;\n",
              "\n",
              "          const docLinkHtml = 'Like what you see? Visit the ' +\n",
              "            '<a target=\"_blank\" href=https://colab.research.google.com/notebooks/data_table.ipynb>data table notebook</a>'\n",
              "            + ' to learn more about interactive tables.';\n",
              "          element.innerHTML = '';\n",
              "          dataTable['output_type'] = 'display_data';\n",
              "          await google.colab.output.renderOutput(dataTable, element);\n",
              "          const docLink = document.createElement('div');\n",
              "          docLink.innerHTML = docLinkHtml;\n",
              "          element.appendChild(docLink);\n",
              "        }\n",
              "      </script>\n",
              "    </div>\n",
              "  </div>\n",
              "  "
            ]
          },
          "metadata": {},
          "execution_count": 49
        }
      ]
    },
    {
      "cell_type": "code",
      "source": [
        "# Determine whether the data needs to be balanced. \n",
        "# The high values 0 & 1 are 0.3, medium 0.33, and the low values .037\n",
        "\n",
        "nested_df['Rating'].value_counts(normalize=True)"
      ],
      "metadata": {
        "colab": {
          "base_uri": "https://localhost:8080/"
        },
        "id": "lSqCzM2AOH0K",
        "outputId": "5a14edf1-4935-407a-ac4d-631dfdbbe8ef"
      },
      "execution_count": 50,
      "outputs": [
        {
          "output_type": "execute_result",
          "data": {
            "text/plain": [
              "2.00   0.32\n",
              "3.00   0.30\n",
              "1.00   0.20\n",
              "0.00   0.09\n",
              "4.00   0.08\n",
              "Name: Rating, dtype: float64"
            ]
          },
          "metadata": {},
          "execution_count": 50
        }
      ]
    },
    {
      "cell_type": "code",
      "source": [
        "nested_df['End Year'].value_counts() "
      ],
      "metadata": {
        "colab": {
          "base_uri": "https://localhost:8080/"
        },
        "id": "Q_ANrSVguWDF",
        "outputId": "4648b393-9945-4adc-813d-1ee35a78791b"
      },
      "execution_count": 51,
      "outputs": [
        {
          "output_type": "execute_result",
          "data": {
            "text/plain": [
              "2,019.00    1133\n",
              "2,022.00    1130\n",
              "Name: End Year, dtype: int64"
            ]
          },
          "metadata": {},
          "execution_count": 51
        }
      ]
    },
    {
      "cell_type": "code",
      "source": [
        "nested_df.info()"
      ],
      "metadata": {
        "colab": {
          "base_uri": "https://localhost:8080/"
        },
        "id": "RnFmCHJ9kt1x",
        "outputId": "f0aecd71-d531-40e4-b632-b9daa1cea03d"
      },
      "execution_count": 52,
      "outputs": [
        {
          "output_type": "stream",
          "name": "stdout",
          "text": [
            "<class 'pandas.core.frame.DataFrame'>\n",
            "RangeIndex: 2263 entries, 0 to 2262\n",
            "Data columns (total 7 columns):\n",
            " #   Column                         Non-Null Count  Dtype  \n",
            "---  ------                         --------------  -----  \n",
            " 0   End Year                       2263 non-null   float64\n",
            " 1   Level                          2263 non-null   int64  \n",
            " 2   Reported Spending per student  2263 non-null   float64\n",
            " 3   Money Difference per school    2263 non-null   float64\n",
            " 4   Proficiency Rate               2263 non-null   float64\n",
            " 5   Predicted Classification       2263 non-null   float64\n",
            " 6   Rating                         2263 non-null   float64\n",
            "dtypes: float64(6), int64(1)\n",
            "memory usage: 123.9 KB\n"
          ]
        }
      ]
    },
    {
      "cell_type": "code",
      "source": [
        "nested_df"
      ],
      "metadata": {
        "colab": {
          "base_uri": "https://localhost:8080/",
          "height": 485
        },
        "id": "fvOPGHxUkt4W",
        "outputId": "a960a2e1-bc9b-403a-a5c8-1a0ffad25d03"
      },
      "execution_count": 53,
      "outputs": [
        {
          "output_type": "execute_result",
          "data": {
            "text/plain": [
              "      End Year  Level  Reported Spending per student  \\\n",
              "0     2,019.00      1                      22,650.00   \n",
              "1     2,019.00      1                      13,480.00   \n",
              "2     2,019.00      1                      11,460.00   \n",
              "3     2,019.00      2                      14,270.00   \n",
              "4     2,022.00      0                      10,364.29   \n",
              "...        ...    ...                            ...   \n",
              "2258  2,019.00      2                      20,530.00   \n",
              "2259  2,022.00      1                       9,573.75   \n",
              "2260  2,019.00      0                      14,950.00   \n",
              "2261  2,022.00      1                       9,092.50   \n",
              "2262  2,019.00      2                      11,610.00   \n",
              "\n",
              "      Money Difference per school  Proficiency Rate  Predicted Classification  \\\n",
              "0                      -96,100.00             65.00                      1.00   \n",
              "1                       13,000.00             73.00                      0.00   \n",
              "2                       -5,800.00             60.00                      2.00   \n",
              "3                      693,800.00             55.00                      2.00   \n",
              "4                       -1,785.71             47.00                      2.00   \n",
              "...                           ...               ...                       ...   \n",
              "2258                    78,700.00             30.00                      2.00   \n",
              "2259                    21,600.00             63.00                      1.00   \n",
              "2260                   167,300.00             82.00                      0.00   \n",
              "2261                   129,462.50             49.00                      2.00   \n",
              "2262                    -1,800.00             61.00                      2.00   \n",
              "\n",
              "      Rating  \n",
              "0       3.00  \n",
              "1       2.00  \n",
              "2       3.00  \n",
              "3       2.00  \n",
              "4       3.00  \n",
              "...      ...  \n",
              "2258    4.00  \n",
              "2259    2.00  \n",
              "2260    1.00  \n",
              "2261    3.00  \n",
              "2262    2.00  \n",
              "\n",
              "[2263 rows x 7 columns]"
            ],
            "text/html": [
              "\n",
              "  <div id=\"df-bbc43711-a90e-4870-baac-d1687c556f9e\">\n",
              "    <div class=\"colab-df-container\">\n",
              "      <div>\n",
              "<style scoped>\n",
              "    .dataframe tbody tr th:only-of-type {\n",
              "        vertical-align: middle;\n",
              "    }\n",
              "\n",
              "    .dataframe tbody tr th {\n",
              "        vertical-align: top;\n",
              "    }\n",
              "\n",
              "    .dataframe thead th {\n",
              "        text-align: right;\n",
              "    }\n",
              "</style>\n",
              "<table border=\"1\" class=\"dataframe\">\n",
              "  <thead>\n",
              "    <tr style=\"text-align: right;\">\n",
              "      <th></th>\n",
              "      <th>End Year</th>\n",
              "      <th>Level</th>\n",
              "      <th>Reported Spending per student</th>\n",
              "      <th>Money Difference per school</th>\n",
              "      <th>Proficiency Rate</th>\n",
              "      <th>Predicted Classification</th>\n",
              "      <th>Rating</th>\n",
              "    </tr>\n",
              "  </thead>\n",
              "  <tbody>\n",
              "    <tr>\n",
              "      <th>0</th>\n",
              "      <td>2,019.00</td>\n",
              "      <td>1</td>\n",
              "      <td>22,650.00</td>\n",
              "      <td>-96,100.00</td>\n",
              "      <td>65.00</td>\n",
              "      <td>1.00</td>\n",
              "      <td>3.00</td>\n",
              "    </tr>\n",
              "    <tr>\n",
              "      <th>1</th>\n",
              "      <td>2,019.00</td>\n",
              "      <td>1</td>\n",
              "      <td>13,480.00</td>\n",
              "      <td>13,000.00</td>\n",
              "      <td>73.00</td>\n",
              "      <td>0.00</td>\n",
              "      <td>2.00</td>\n",
              "    </tr>\n",
              "    <tr>\n",
              "      <th>2</th>\n",
              "      <td>2,019.00</td>\n",
              "      <td>1</td>\n",
              "      <td>11,460.00</td>\n",
              "      <td>-5,800.00</td>\n",
              "      <td>60.00</td>\n",
              "      <td>2.00</td>\n",
              "      <td>3.00</td>\n",
              "    </tr>\n",
              "    <tr>\n",
              "      <th>3</th>\n",
              "      <td>2,019.00</td>\n",
              "      <td>2</td>\n",
              "      <td>14,270.00</td>\n",
              "      <td>693,800.00</td>\n",
              "      <td>55.00</td>\n",
              "      <td>2.00</td>\n",
              "      <td>2.00</td>\n",
              "    </tr>\n",
              "    <tr>\n",
              "      <th>4</th>\n",
              "      <td>2,022.00</td>\n",
              "      <td>0</td>\n",
              "      <td>10,364.29</td>\n",
              "      <td>-1,785.71</td>\n",
              "      <td>47.00</td>\n",
              "      <td>2.00</td>\n",
              "      <td>3.00</td>\n",
              "    </tr>\n",
              "    <tr>\n",
              "      <th>...</th>\n",
              "      <td>...</td>\n",
              "      <td>...</td>\n",
              "      <td>...</td>\n",
              "      <td>...</td>\n",
              "      <td>...</td>\n",
              "      <td>...</td>\n",
              "      <td>...</td>\n",
              "    </tr>\n",
              "    <tr>\n",
              "      <th>2258</th>\n",
              "      <td>2,019.00</td>\n",
              "      <td>2</td>\n",
              "      <td>20,530.00</td>\n",
              "      <td>78,700.00</td>\n",
              "      <td>30.00</td>\n",
              "      <td>2.00</td>\n",
              "      <td>4.00</td>\n",
              "    </tr>\n",
              "    <tr>\n",
              "      <th>2259</th>\n",
              "      <td>2,022.00</td>\n",
              "      <td>1</td>\n",
              "      <td>9,573.75</td>\n",
              "      <td>21,600.00</td>\n",
              "      <td>63.00</td>\n",
              "      <td>1.00</td>\n",
              "      <td>2.00</td>\n",
              "    </tr>\n",
              "    <tr>\n",
              "      <th>2260</th>\n",
              "      <td>2,019.00</td>\n",
              "      <td>0</td>\n",
              "      <td>14,950.00</td>\n",
              "      <td>167,300.00</td>\n",
              "      <td>82.00</td>\n",
              "      <td>0.00</td>\n",
              "      <td>1.00</td>\n",
              "    </tr>\n",
              "    <tr>\n",
              "      <th>2261</th>\n",
              "      <td>2,022.00</td>\n",
              "      <td>1</td>\n",
              "      <td>9,092.50</td>\n",
              "      <td>129,462.50</td>\n",
              "      <td>49.00</td>\n",
              "      <td>2.00</td>\n",
              "      <td>3.00</td>\n",
              "    </tr>\n",
              "    <tr>\n",
              "      <th>2262</th>\n",
              "      <td>2,019.00</td>\n",
              "      <td>2</td>\n",
              "      <td>11,610.00</td>\n",
              "      <td>-1,800.00</td>\n",
              "      <td>61.00</td>\n",
              "      <td>2.00</td>\n",
              "      <td>2.00</td>\n",
              "    </tr>\n",
              "  </tbody>\n",
              "</table>\n",
              "<p>2263 rows × 7 columns</p>\n",
              "</div>\n",
              "      <button class=\"colab-df-convert\" onclick=\"convertToInteractive('df-bbc43711-a90e-4870-baac-d1687c556f9e')\"\n",
              "              title=\"Convert this dataframe to an interactive table.\"\n",
              "              style=\"display:none;\">\n",
              "        \n",
              "  <svg xmlns=\"http://www.w3.org/2000/svg\" height=\"24px\"viewBox=\"0 0 24 24\"\n",
              "       width=\"24px\">\n",
              "    <path d=\"M0 0h24v24H0V0z\" fill=\"none\"/>\n",
              "    <path d=\"M18.56 5.44l.94 2.06.94-2.06 2.06-.94-2.06-.94-.94-2.06-.94 2.06-2.06.94zm-11 1L8.5 8.5l.94-2.06 2.06-.94-2.06-.94L8.5 2.5l-.94 2.06-2.06.94zm10 10l.94 2.06.94-2.06 2.06-.94-2.06-.94-.94-2.06-.94 2.06-2.06.94z\"/><path d=\"M17.41 7.96l-1.37-1.37c-.4-.4-.92-.59-1.43-.59-.52 0-1.04.2-1.43.59L10.3 9.45l-7.72 7.72c-.78.78-.78 2.05 0 2.83L4 21.41c.39.39.9.59 1.41.59.51 0 1.02-.2 1.41-.59l7.78-7.78 2.81-2.81c.8-.78.8-2.07 0-2.86zM5.41 20L4 18.59l7.72-7.72 1.47 1.35L5.41 20z\"/>\n",
              "  </svg>\n",
              "      </button>\n",
              "      \n",
              "  <style>\n",
              "    .colab-df-container {\n",
              "      display:flex;\n",
              "      flex-wrap:wrap;\n",
              "      gap: 12px;\n",
              "    }\n",
              "\n",
              "    .colab-df-convert {\n",
              "      background-color: #E8F0FE;\n",
              "      border: none;\n",
              "      border-radius: 50%;\n",
              "      cursor: pointer;\n",
              "      display: none;\n",
              "      fill: #1967D2;\n",
              "      height: 32px;\n",
              "      padding: 0 0 0 0;\n",
              "      width: 32px;\n",
              "    }\n",
              "\n",
              "    .colab-df-convert:hover {\n",
              "      background-color: #E2EBFA;\n",
              "      box-shadow: 0px 1px 2px rgba(60, 64, 67, 0.3), 0px 1px 3px 1px rgba(60, 64, 67, 0.15);\n",
              "      fill: #174EA6;\n",
              "    }\n",
              "\n",
              "    [theme=dark] .colab-df-convert {\n",
              "      background-color: #3B4455;\n",
              "      fill: #D2E3FC;\n",
              "    }\n",
              "\n",
              "    [theme=dark] .colab-df-convert:hover {\n",
              "      background-color: #434B5C;\n",
              "      box-shadow: 0px 1px 3px 1px rgba(0, 0, 0, 0.15);\n",
              "      filter: drop-shadow(0px 1px 2px rgba(0, 0, 0, 0.3));\n",
              "      fill: #FFFFFF;\n",
              "    }\n",
              "  </style>\n",
              "\n",
              "      <script>\n",
              "        const buttonEl =\n",
              "          document.querySelector('#df-bbc43711-a90e-4870-baac-d1687c556f9e button.colab-df-convert');\n",
              "        buttonEl.style.display =\n",
              "          google.colab.kernel.accessAllowed ? 'block' : 'none';\n",
              "\n",
              "        async function convertToInteractive(key) {\n",
              "          const element = document.querySelector('#df-bbc43711-a90e-4870-baac-d1687c556f9e');\n",
              "          const dataTable =\n",
              "            await google.colab.kernel.invokeFunction('convertToInteractive',\n",
              "                                                     [key], {});\n",
              "          if (!dataTable) return;\n",
              "\n",
              "          const docLinkHtml = 'Like what you see? Visit the ' +\n",
              "            '<a target=\"_blank\" href=https://colab.research.google.com/notebooks/data_table.ipynb>data table notebook</a>'\n",
              "            + ' to learn more about interactive tables.';\n",
              "          element.innerHTML = '';\n",
              "          dataTable['output_type'] = 'display_data';\n",
              "          await google.colab.output.renderOutput(dataTable, element);\n",
              "          const docLink = document.createElement('div');\n",
              "          docLink.innerHTML = docLinkHtml;\n",
              "          element.appendChild(docLink);\n",
              "        }\n",
              "      </script>\n",
              "    </div>\n",
              "  </div>\n",
              "  "
            ]
          },
          "metadata": {},
          "execution_count": 53
        }
      ]
    },
    {
      "cell_type": "code",
      "source": [
        "nested_inputs = nested_df.values[:,:-1]\n",
        "nested_targets = nested_df.values[:,-1]"
      ],
      "metadata": {
        "id": "AnerFc_GxThJ"
      },
      "execution_count": 54,
      "outputs": []
    },
    {
      "cell_type": "code",
      "source": [
        "x_train, x_set, y_train, y_set = train_test_split(nested_inputs, nested_targets, test_size=0.2, random_state=3)\n",
        "x_valid, x_test, y_valid, y_test = train_test_split(x_set, y_set, test_size=0.5, random_state=16)"
      ],
      "metadata": {
        "id": "vBHjZV-RtbGz"
      },
      "execution_count": 55,
      "outputs": []
    },
    {
      "cell_type": "code",
      "source": [
        "# Scale data\n",
        "nested_model_scaler = StandardScaler()\n",
        "\n",
        "# Calculate and store the mean and sd\n",
        "nested_model_scaler.fit(x_train)\n",
        "\n",
        "# Apply the scaler\n",
        "x_train = nested_model_scaler.transform(x_train)\n",
        "x_valid = nested_model_scaler.transform(x_valid)\n",
        "x_test = nested_model_scaler.transform(x_test)"
      ],
      "metadata": {
        "id": "ur3VDezy3EEC"
      },
      "execution_count": 56,
      "outputs": []
    },
    {
      "cell_type": "code",
      "source": [
        "x_train.shape"
      ],
      "metadata": {
        "colab": {
          "base_uri": "https://localhost:8080/"
        },
        "id": "OVnye7Ue3EJU",
        "outputId": "9105c526-16d1-4979-9c93-eca16ecd26ed"
      },
      "execution_count": 57,
      "outputs": [
        {
          "output_type": "execute_result",
          "data": {
            "text/plain": [
              "(1810, 6)"
            ]
          },
          "metadata": {},
          "execution_count": 57
        }
      ]
    },
    {
      "cell_type": "code",
      "source": [
        "y_train.shape"
      ],
      "metadata": {
        "colab": {
          "base_uri": "https://localhost:8080/"
        },
        "id": "McxFR5Li3EME",
        "outputId": "e4ed8e94-f4d2-4510-d240-097baf229ae7"
      },
      "execution_count": 58,
      "outputs": [
        {
          "output_type": "execute_result",
          "data": {
            "text/plain": [
              "(1810,)"
            ]
          },
          "metadata": {},
          "execution_count": 58
        }
      ]
    },
    {
      "cell_type": "markdown",
      "source": [
        "## Model"
      ],
      "metadata": {
        "id": "BnuZeBNMvXrV"
      }
    },
    {
      "cell_type": "code",
      "source": [
        "# Create the model\n",
        "# Ran different rounds of the below model.  Some of the options I put in comments to the right.\n",
        "\n",
        "input_size = 6\n",
        "output_size = 5\n",
        "hidden_layer_size = 15 # also tried 20, 50, 10\n",
        "\n",
        "nested_model = tf.keras.Sequential([\n",
        "    tf.keras.layers.Dense(hidden_layer_size, activation='relu'),    \n",
        "    tf.keras.layers.Dense(hidden_layer_size, activation='relu'),\n",
        "    tf.keras.layers.Dense(output_size, activation='softmax') \n",
        "    ])\n",
        "\n",
        "nested_model.compile(optimizer='adam', loss='sparse_categorical_crossentropy', metrics=['accuracy'])\n",
        "\n",
        "# tanh, tanh, softmax - val accuracy .922\n",
        "# relu, relu, softmax - val accuracy .9366\n",
        "# relu, tanh, softmax - val accuracy .9317\n",
        "# relu, linear, softmax - val accuracy .9415\n",
        "# linear, softmax - val accuracy .8048\n",
        "# relu, softmax - val accuracy .8098"
      ],
      "metadata": {
        "id": "rd57uxxm63b-"
      },
      "execution_count": 59,
      "outputs": []
    },
    {
      "cell_type": "code",
      "source": [
        "# Fit the model\n",
        "\n",
        "batch_size = 50  # alternatives tried 200(.89), 20(.95), 50(.94), 40(.94), 100(.92)\n",
        "max_epochs = 100 \n",
        "\n",
        "early_stopping = tf.keras.callbacks.EarlyStopping(patience=2) \n",
        "\n",
        "nested_model.fit(x_train, y_train, \n",
        "          batch_size=batch_size,\n",
        "          epochs = max_epochs,\n",
        "          callbacks = [early_stopping],\n",
        "          validation_data = (x_valid, y_valid),\n",
        "          verbose =2)\n"
      ],
      "metadata": {
        "colab": {
          "base_uri": "https://localhost:8080/"
        },
        "id": "sy2pmZmE63ej",
        "outputId": "54ff973c-6a2c-4d5f-b712-a29fa9018422"
      },
      "execution_count": 60,
      "outputs": [
        {
          "output_type": "stream",
          "name": "stdout",
          "text": [
            "Epoch 1/100\n",
            "37/37 - 1s - loss: 1.4502 - accuracy: 0.4254 - val_loss: 1.4075 - val_accuracy: 0.4779 - 742ms/epoch - 20ms/step\n",
            "Epoch 2/100\n",
            "37/37 - 0s - loss: 1.3093 - accuracy: 0.4729 - val_loss: 1.2953 - val_accuracy: 0.5088 - 97ms/epoch - 3ms/step\n",
            "Epoch 3/100\n",
            "37/37 - 0s - loss: 1.2014 - accuracy: 0.5403 - val_loss: 1.1881 - val_accuracy: 0.5619 - 87ms/epoch - 2ms/step\n",
            "Epoch 4/100\n",
            "37/37 - 0s - loss: 1.1107 - accuracy: 0.5718 - val_loss: 1.0943 - val_accuracy: 0.5929 - 101ms/epoch - 3ms/step\n",
            "Epoch 5/100\n",
            "37/37 - 0s - loss: 1.0349 - accuracy: 0.5950 - val_loss: 1.0204 - val_accuracy: 0.6327 - 92ms/epoch - 2ms/step\n",
            "Epoch 6/100\n",
            "37/37 - 0s - loss: 0.9720 - accuracy: 0.6193 - val_loss: 0.9520 - val_accuracy: 0.6814 - 101ms/epoch - 3ms/step\n",
            "Epoch 7/100\n",
            "37/37 - 0s - loss: 0.9167 - accuracy: 0.6381 - val_loss: 0.8917 - val_accuracy: 0.7035 - 104ms/epoch - 3ms/step\n",
            "Epoch 8/100\n",
            "37/37 - 0s - loss: 0.8643 - accuracy: 0.6525 - val_loss: 0.8329 - val_accuracy: 0.6858 - 94ms/epoch - 3ms/step\n",
            "Epoch 9/100\n",
            "37/37 - 0s - loss: 0.8158 - accuracy: 0.6613 - val_loss: 0.7799 - val_accuracy: 0.6991 - 88ms/epoch - 2ms/step\n",
            "Epoch 10/100\n",
            "37/37 - 0s - loss: 0.7712 - accuracy: 0.6917 - val_loss: 0.7284 - val_accuracy: 0.7080 - 105ms/epoch - 3ms/step\n",
            "Epoch 11/100\n",
            "37/37 - 0s - loss: 0.7273 - accuracy: 0.6989 - val_loss: 0.6830 - val_accuracy: 0.7478 - 106ms/epoch - 3ms/step\n",
            "Epoch 12/100\n",
            "37/37 - 0s - loss: 0.6870 - accuracy: 0.7138 - val_loss: 0.6432 - val_accuracy: 0.7389 - 112ms/epoch - 3ms/step\n",
            "Epoch 13/100\n",
            "37/37 - 0s - loss: 0.6471 - accuracy: 0.7508 - val_loss: 0.5986 - val_accuracy: 0.7788 - 88ms/epoch - 2ms/step\n",
            "Epoch 14/100\n",
            "37/37 - 0s - loss: 0.6094 - accuracy: 0.7740 - val_loss: 0.5592 - val_accuracy: 0.7920 - 107ms/epoch - 3ms/step\n",
            "Epoch 15/100\n",
            "37/37 - 0s - loss: 0.5726 - accuracy: 0.7934 - val_loss: 0.5264 - val_accuracy: 0.8186 - 107ms/epoch - 3ms/step\n",
            "Epoch 16/100\n",
            "37/37 - 0s - loss: 0.5389 - accuracy: 0.8193 - val_loss: 0.4953 - val_accuracy: 0.8186 - 127ms/epoch - 3ms/step\n",
            "Epoch 17/100\n",
            "37/37 - 0s - loss: 0.5087 - accuracy: 0.8304 - val_loss: 0.4651 - val_accuracy: 0.8451 - 106ms/epoch - 3ms/step\n",
            "Epoch 18/100\n",
            "37/37 - 0s - loss: 0.4824 - accuracy: 0.8414 - val_loss: 0.4410 - val_accuracy: 0.8407 - 91ms/epoch - 2ms/step\n",
            "Epoch 19/100\n",
            "37/37 - 0s - loss: 0.4581 - accuracy: 0.8403 - val_loss: 0.4163 - val_accuracy: 0.8584 - 84ms/epoch - 2ms/step\n",
            "Epoch 20/100\n",
            "37/37 - 0s - loss: 0.4364 - accuracy: 0.8497 - val_loss: 0.3990 - val_accuracy: 0.8673 - 99ms/epoch - 3ms/step\n",
            "Epoch 21/100\n",
            "37/37 - 0s - loss: 0.4169 - accuracy: 0.8575 - val_loss: 0.3761 - val_accuracy: 0.8717 - 110ms/epoch - 3ms/step\n",
            "Epoch 22/100\n",
            "37/37 - 0s - loss: 0.3989 - accuracy: 0.8602 - val_loss: 0.3627 - val_accuracy: 0.8850 - 99ms/epoch - 3ms/step\n",
            "Epoch 23/100\n",
            "37/37 - 0s - loss: 0.3833 - accuracy: 0.8652 - val_loss: 0.3443 - val_accuracy: 0.8894 - 105ms/epoch - 3ms/step\n",
            "Epoch 24/100\n",
            "37/37 - 0s - loss: 0.3678 - accuracy: 0.8735 - val_loss: 0.3344 - val_accuracy: 0.8938 - 102ms/epoch - 3ms/step\n",
            "Epoch 25/100\n",
            "37/37 - 0s - loss: 0.3555 - accuracy: 0.8790 - val_loss: 0.3209 - val_accuracy: 0.9071 - 100ms/epoch - 3ms/step\n",
            "Epoch 26/100\n",
            "37/37 - 0s - loss: 0.3432 - accuracy: 0.8829 - val_loss: 0.3116 - val_accuracy: 0.9115 - 121ms/epoch - 3ms/step\n",
            "Epoch 27/100\n",
            "37/37 - 0s - loss: 0.3308 - accuracy: 0.8873 - val_loss: 0.2978 - val_accuracy: 0.9159 - 91ms/epoch - 2ms/step\n",
            "Epoch 28/100\n",
            "37/37 - 0s - loss: 0.3216 - accuracy: 0.8867 - val_loss: 0.2913 - val_accuracy: 0.9115 - 88ms/epoch - 2ms/step\n",
            "Epoch 29/100\n",
            "37/37 - 0s - loss: 0.3119 - accuracy: 0.8961 - val_loss: 0.2842 - val_accuracy: 0.9115 - 87ms/epoch - 2ms/step\n",
            "Epoch 30/100\n",
            "37/37 - 0s - loss: 0.3037 - accuracy: 0.8961 - val_loss: 0.2740 - val_accuracy: 0.9115 - 104ms/epoch - 3ms/step\n",
            "Epoch 31/100\n",
            "37/37 - 0s - loss: 0.2933 - accuracy: 0.9000 - val_loss: 0.2628 - val_accuracy: 0.9204 - 95ms/epoch - 3ms/step\n",
            "Epoch 32/100\n",
            "37/37 - 0s - loss: 0.2866 - accuracy: 0.9066 - val_loss: 0.2564 - val_accuracy: 0.9204 - 85ms/epoch - 2ms/step\n",
            "Epoch 33/100\n",
            "37/37 - 0s - loss: 0.2774 - accuracy: 0.9088 - val_loss: 0.2515 - val_accuracy: 0.9292 - 92ms/epoch - 2ms/step\n",
            "Epoch 34/100\n",
            "37/37 - 0s - loss: 0.2723 - accuracy: 0.9088 - val_loss: 0.2434 - val_accuracy: 0.9204 - 94ms/epoch - 3ms/step\n",
            "Epoch 35/100\n",
            "37/37 - 0s - loss: 0.2644 - accuracy: 0.9127 - val_loss: 0.2356 - val_accuracy: 0.9292 - 120ms/epoch - 3ms/step\n",
            "Epoch 36/100\n",
            "37/37 - 0s - loss: 0.2580 - accuracy: 0.9166 - val_loss: 0.2317 - val_accuracy: 0.9381 - 97ms/epoch - 3ms/step\n",
            "Epoch 37/100\n",
            "37/37 - 0s - loss: 0.2534 - accuracy: 0.9149 - val_loss: 0.2257 - val_accuracy: 0.9381 - 110ms/epoch - 3ms/step\n",
            "Epoch 38/100\n",
            "37/37 - 0s - loss: 0.2474 - accuracy: 0.9210 - val_loss: 0.2222 - val_accuracy: 0.9381 - 105ms/epoch - 3ms/step\n",
            "Epoch 39/100\n",
            "37/37 - 0s - loss: 0.2398 - accuracy: 0.9238 - val_loss: 0.2154 - val_accuracy: 0.9425 - 99ms/epoch - 3ms/step\n",
            "Epoch 40/100\n",
            "37/37 - 0s - loss: 0.2356 - accuracy: 0.9265 - val_loss: 0.2121 - val_accuracy: 0.9469 - 120ms/epoch - 3ms/step\n",
            "Epoch 41/100\n",
            "37/37 - 0s - loss: 0.2309 - accuracy: 0.9254 - val_loss: 0.2066 - val_accuracy: 0.9469 - 95ms/epoch - 3ms/step\n",
            "Epoch 42/100\n",
            "37/37 - 0s - loss: 0.2259 - accuracy: 0.9249 - val_loss: 0.2029 - val_accuracy: 0.9469 - 98ms/epoch - 3ms/step\n",
            "Epoch 43/100\n",
            "37/37 - 0s - loss: 0.2219 - accuracy: 0.9320 - val_loss: 0.1990 - val_accuracy: 0.9558 - 120ms/epoch - 3ms/step\n",
            "Epoch 44/100\n",
            "37/37 - 0s - loss: 0.2177 - accuracy: 0.9287 - val_loss: 0.1934 - val_accuracy: 0.9425 - 102ms/epoch - 3ms/step\n",
            "Epoch 45/100\n",
            "37/37 - 0s - loss: 0.2136 - accuracy: 0.9315 - val_loss: 0.1907 - val_accuracy: 0.9425 - 120ms/epoch - 3ms/step\n",
            "Epoch 46/100\n",
            "37/37 - 0s - loss: 0.2090 - accuracy: 0.9354 - val_loss: 0.1905 - val_accuracy: 0.9425 - 114ms/epoch - 3ms/step\n",
            "Epoch 47/100\n",
            "37/37 - 0s - loss: 0.2052 - accuracy: 0.9365 - val_loss: 0.1876 - val_accuracy: 0.9469 - 85ms/epoch - 2ms/step\n",
            "Epoch 48/100\n",
            "37/37 - 0s - loss: 0.2013 - accuracy: 0.9387 - val_loss: 0.1777 - val_accuracy: 0.9513 - 99ms/epoch - 3ms/step\n",
            "Epoch 49/100\n",
            "37/37 - 0s - loss: 0.1980 - accuracy: 0.9370 - val_loss: 0.1808 - val_accuracy: 0.9425 - 90ms/epoch - 2ms/step\n",
            "Epoch 50/100\n",
            "37/37 - 0s - loss: 0.1947 - accuracy: 0.9381 - val_loss: 0.1735 - val_accuracy: 0.9513 - 96ms/epoch - 3ms/step\n",
            "Epoch 51/100\n",
            "37/37 - 0s - loss: 0.1911 - accuracy: 0.9392 - val_loss: 0.1713 - val_accuracy: 0.9469 - 93ms/epoch - 3ms/step\n",
            "Epoch 52/100\n",
            "37/37 - 0s - loss: 0.1886 - accuracy: 0.9381 - val_loss: 0.1723 - val_accuracy: 0.9558 - 100ms/epoch - 3ms/step\n",
            "Epoch 53/100\n",
            "37/37 - 0s - loss: 0.1865 - accuracy: 0.9381 - val_loss: 0.1647 - val_accuracy: 0.9469 - 107ms/epoch - 3ms/step\n",
            "Epoch 54/100\n",
            "37/37 - 0s - loss: 0.1811 - accuracy: 0.9409 - val_loss: 0.1699 - val_accuracy: 0.9513 - 93ms/epoch - 3ms/step\n",
            "Epoch 55/100\n",
            "37/37 - 0s - loss: 0.1792 - accuracy: 0.9436 - val_loss: 0.1627 - val_accuracy: 0.9558 - 102ms/epoch - 3ms/step\n",
            "Epoch 56/100\n",
            "37/37 - 0s - loss: 0.1755 - accuracy: 0.9436 - val_loss: 0.1600 - val_accuracy: 0.9602 - 114ms/epoch - 3ms/step\n",
            "Epoch 57/100\n",
            "37/37 - 0s - loss: 0.1732 - accuracy: 0.9448 - val_loss: 0.1603 - val_accuracy: 0.9602 - 85ms/epoch - 2ms/step\n",
            "Epoch 58/100\n",
            "37/37 - 0s - loss: 0.1703 - accuracy: 0.9470 - val_loss: 0.1545 - val_accuracy: 0.9513 - 107ms/epoch - 3ms/step\n",
            "Epoch 59/100\n",
            "37/37 - 0s - loss: 0.1672 - accuracy: 0.9475 - val_loss: 0.1554 - val_accuracy: 0.9602 - 109ms/epoch - 3ms/step\n",
            "Epoch 60/100\n",
            "37/37 - 0s - loss: 0.1651 - accuracy: 0.9508 - val_loss: 0.1522 - val_accuracy: 0.9513 - 107ms/epoch - 3ms/step\n",
            "Epoch 61/100\n",
            "37/37 - 0s - loss: 0.1632 - accuracy: 0.9541 - val_loss: 0.1478 - val_accuracy: 0.9602 - 116ms/epoch - 3ms/step\n",
            "Epoch 62/100\n",
            "37/37 - 0s - loss: 0.1609 - accuracy: 0.9536 - val_loss: 0.1470 - val_accuracy: 0.9602 - 99ms/epoch - 3ms/step\n",
            "Epoch 63/100\n",
            "37/37 - 0s - loss: 0.1578 - accuracy: 0.9536 - val_loss: 0.1437 - val_accuracy: 0.9646 - 85ms/epoch - 2ms/step\n",
            "Epoch 64/100\n",
            "37/37 - 0s - loss: 0.1548 - accuracy: 0.9525 - val_loss: 0.1464 - val_accuracy: 0.9602 - 92ms/epoch - 2ms/step\n",
            "Epoch 65/100\n",
            "37/37 - 0s - loss: 0.1528 - accuracy: 0.9552 - val_loss: 0.1415 - val_accuracy: 0.9690 - 89ms/epoch - 2ms/step\n",
            "Epoch 66/100\n",
            "37/37 - 0s - loss: 0.1522 - accuracy: 0.9547 - val_loss: 0.1415 - val_accuracy: 0.9558 - 86ms/epoch - 2ms/step\n",
            "Epoch 67/100\n",
            "37/37 - 0s - loss: 0.1514 - accuracy: 0.9503 - val_loss: 0.1402 - val_accuracy: 0.9602 - 90ms/epoch - 2ms/step\n",
            "Epoch 68/100\n",
            "37/37 - 0s - loss: 0.1509 - accuracy: 0.9514 - val_loss: 0.1381 - val_accuracy: 0.9602 - 101ms/epoch - 3ms/step\n",
            "Epoch 69/100\n",
            "37/37 - 0s - loss: 0.1465 - accuracy: 0.9514 - val_loss: 0.1363 - val_accuracy: 0.9690 - 90ms/epoch - 2ms/step\n",
            "Epoch 70/100\n",
            "37/37 - 0s - loss: 0.1447 - accuracy: 0.9503 - val_loss: 0.1369 - val_accuracy: 0.9690 - 109ms/epoch - 3ms/step\n",
            "Epoch 71/100\n",
            "37/37 - 0s - loss: 0.1430 - accuracy: 0.9569 - val_loss: 0.1345 - val_accuracy: 0.9646 - 114ms/epoch - 3ms/step\n",
            "Epoch 72/100\n",
            "37/37 - 0s - loss: 0.1401 - accuracy: 0.9580 - val_loss: 0.1320 - val_accuracy: 0.9646 - 111ms/epoch - 3ms/step\n",
            "Epoch 73/100\n",
            "37/37 - 0s - loss: 0.1400 - accuracy: 0.9580 - val_loss: 0.1339 - val_accuracy: 0.9690 - 96ms/epoch - 3ms/step\n",
            "Epoch 74/100\n",
            "37/37 - 0s - loss: 0.1365 - accuracy: 0.9580 - val_loss: 0.1317 - val_accuracy: 0.9558 - 119ms/epoch - 3ms/step\n",
            "Epoch 75/100\n",
            "37/37 - 0s - loss: 0.1396 - accuracy: 0.9547 - val_loss: 0.1274 - val_accuracy: 0.9602 - 109ms/epoch - 3ms/step\n",
            "Epoch 76/100\n",
            "37/37 - 0s - loss: 0.1338 - accuracy: 0.9602 - val_loss: 0.1273 - val_accuracy: 0.9558 - 96ms/epoch - 3ms/step\n",
            "Epoch 77/100\n",
            "37/37 - 0s - loss: 0.1338 - accuracy: 0.9569 - val_loss: 0.1267 - val_accuracy: 0.9558 - 89ms/epoch - 2ms/step\n",
            "Epoch 78/100\n",
            "37/37 - 0s - loss: 0.1309 - accuracy: 0.9575 - val_loss: 0.1274 - val_accuracy: 0.9646 - 102ms/epoch - 3ms/step\n",
            "Epoch 79/100\n",
            "37/37 - 0s - loss: 0.1303 - accuracy: 0.9597 - val_loss: 0.1255 - val_accuracy: 0.9558 - 107ms/epoch - 3ms/step\n",
            "Epoch 80/100\n",
            "37/37 - 0s - loss: 0.1277 - accuracy: 0.9591 - val_loss: 0.1249 - val_accuracy: 0.9646 - 110ms/epoch - 3ms/step\n",
            "Epoch 81/100\n",
            "37/37 - 0s - loss: 0.1298 - accuracy: 0.9586 - val_loss: 0.1249 - val_accuracy: 0.9558 - 91ms/epoch - 2ms/step\n",
            "Epoch 82/100\n",
            "37/37 - 0s - loss: 0.1258 - accuracy: 0.9597 - val_loss: 0.1230 - val_accuracy: 0.9558 - 91ms/epoch - 2ms/step\n",
            "Epoch 83/100\n",
            "37/37 - 0s - loss: 0.1248 - accuracy: 0.9669 - val_loss: 0.1219 - val_accuracy: 0.9646 - 93ms/epoch - 3ms/step\n",
            "Epoch 84/100\n",
            "37/37 - 0s - loss: 0.1242 - accuracy: 0.9608 - val_loss: 0.1205 - val_accuracy: 0.9558 - 102ms/epoch - 3ms/step\n",
            "Epoch 85/100\n",
            "37/37 - 0s - loss: 0.1228 - accuracy: 0.9602 - val_loss: 0.1243 - val_accuracy: 0.9602 - 111ms/epoch - 3ms/step\n",
            "Epoch 86/100\n",
            "37/37 - 0s - loss: 0.1228 - accuracy: 0.9641 - val_loss: 0.1242 - val_accuracy: 0.9513 - 91ms/epoch - 2ms/step\n"
          ]
        },
        {
          "output_type": "execute_result",
          "data": {
            "text/plain": [
              "<keras.callbacks.History at 0x7f93ca59c2e0>"
            ]
          },
          "metadata": {},
          "execution_count": 60
        }
      ]
    },
    {
      "cell_type": "code",
      "source": [
        "# test the model\n",
        "nested_test_loss, nested_test_accuracy = nested_model.evaluate(x_test, y_test)\n",
        "\n",
        "\n",
        "# Print Pretty\n",
        "print('\\nNested Test loss: {0:.2f}. Nested Test accuracy: {1:.2f}%'.format(nested_test_loss, nested_test_accuracy*100.))"
      ],
      "metadata": {
        "colab": {
          "base_uri": "https://localhost:8080/"
        },
        "id": "5Hh0hkpX63g5",
        "outputId": "4293f643-aa37-4488-c872-24bf160de5a1"
      },
      "execution_count": 61,
      "outputs": [
        {
          "output_type": "stream",
          "name": "stdout",
          "text": [
            "8/8 [==============================] - 0s 3ms/step - loss: 0.1517 - accuracy: 0.9251\n",
            "\n",
            "Nested Test loss: 0.15. Nested Test accuracy: 92.51%\n"
          ]
        }
      ]
    },
    {
      "cell_type": "code",
      "source": [
        "# Save model\n",
        "# Test accuracy for the saved model is 92.72%\n",
        "#tf.keras.models.save_model(nested_model, '/content/drive/MyDrive/Colab Data/KY EPSB/nested_model', include_optimizer=True)"
      ],
      "metadata": {
        "id": "7yQKv1AN63jP"
      },
      "execution_count": 62,
      "outputs": []
    },
    {
      "cell_type": "markdown",
      "source": [
        "## Nested Predict"
      ],
      "metadata": {
        "id": "r-qUzl4bL2zk"
      }
    },
    {
      "cell_type": "code",
      "source": [
        "nested_inputs = predict_df.loc[:,['End Year', 'Level', 'Reported Spending per student', 'Money Difference per school',\n",
        "                                  'Proficiency Rate',  'Predicted Classification']]"
      ],
      "metadata": {
        "id": "jd6WyixiL-P2"
      },
      "execution_count": 63,
      "outputs": []
    },
    {
      "cell_type": "code",
      "source": [
        "# Apply the scaler   \n",
        "nested_inputs = nested_model_scaler.transform(nested_inputs.values)\n",
        "\n",
        "# Predict Ky Rating\n",
        "predict_rating = nested_model.predict(nested_inputs)"
      ],
      "metadata": {
        "id": "f4_eD4weL-SH",
        "colab": {
          "base_uri": "https://localhost:8080/"
        },
        "outputId": "5aa92914-1b69-49e8-e2ac-576f44b1162c"
      },
      "execution_count": 64,
      "outputs": [
        {
          "output_type": "stream",
          "name": "stdout",
          "text": [
            "342/342 [==============================] - 1s 1ms/step\n"
          ]
        }
      ]
    },
    {
      "cell_type": "code",
      "source": [
        "predict_rating.shape"
      ],
      "metadata": {
        "colab": {
          "base_uri": "https://localhost:8080/"
        },
        "id": "XXXLEw4L63ma",
        "outputId": "a8d1074f-bc49-4b49-a4cd-46c278c1e476"
      },
      "execution_count": 65,
      "outputs": [
        {
          "output_type": "execute_result",
          "data": {
            "text/plain": [
              "(10919, 5)"
            ]
          },
          "metadata": {},
          "execution_count": 65
        }
      ]
    },
    {
      "cell_type": "code",
      "source": [
        "# Convert to a df\n",
        "predict_rating = pd.DataFrame(predict_rating, columns=['*Very High', '*High', '*Medium', '*Low', '*Very Low'])\n",
        "# The * stands for predicted data"
      ],
      "metadata": {
        "id": "NEn60mmaLk9n"
      },
      "execution_count": 66,
      "outputs": []
    },
    {
      "cell_type": "code",
      "source": [
        "# Select the column with the highest percentage\n",
        "predict_rating = predict_rating.idxmax(axis=1)\n",
        "\n",
        "# Create the Predicted Rating column\n",
        "predict_df['Predicted Rating'] = predict_rating"
      ],
      "metadata": {
        "id": "PKz6yN9vsFBW"
      },
      "execution_count": 67,
      "outputs": []
    },
    {
      "cell_type": "code",
      "source": [
        "# Reformat into categories\n",
        "\n",
        "predict_df['Classification'].replace([0, 1, 2], ['Distinguished', 'Proficient', 'Needs Improvement'], inplace=True)\n",
        "predict_df['Predicted Classification'].replace([0, 1, 2], ['*Distinguished', '*Proficient', '*Needs Improvement'], inplace=True)\n",
        "# The * stands for predicted data. \n",
        "predict_df['Level'].replace([0, 1, 2, 3], ['ES', 'MS', 'HS', np.NaN], inplace=True)"
      ],
      "metadata": {
        "id": "rha0BEQfcYhu"
      },
      "execution_count": 68,
      "outputs": []
    },
    {
      "cell_type": "code",
      "source": [
        "# Fill in the values with the predicted classification /rating\n",
        "predict_df['Classification'].fillna(predict_df['Predicted Classification'], inplace = True)\n",
        "predict_df['Rating'].fillna(predict_df['Predicted Rating'], inplace = True)\n",
        "\n",
        "# Drop the Predicted columns\n",
        "predict_df.drop(['Predicted Classification', 'Predicted Rating'], axis=1, inplace=True)"
      ],
      "metadata": {
        "id": "bhPNiJeyUeDv"
      },
      "execution_count": 69,
      "outputs": []
    },
    {
      "cell_type": "code",
      "source": [
        "predict_df['Classification'].value_counts(dropna=False)"
      ],
      "metadata": {
        "colab": {
          "base_uri": "https://localhost:8080/"
        },
        "id": "M0rBwh8JbqQc",
        "outputId": "dacb3227-a8c0-4885-f414-35611276aacf"
      },
      "execution_count": 70,
      "outputs": [
        {
          "output_type": "execute_result",
          "data": {
            "text/plain": [
              "Needs Improvement     3265\n",
              "*Needs Improvement    1981\n",
              "Distinguished         1606\n",
              "*Distinguished        1585\n",
              "Proficient            1505\n",
              "*Proficient            529\n",
              "NaN                    448\n",
              "Name: Classification, dtype: int64"
            ]
          },
          "metadata": {},
          "execution_count": 70
        }
      ]
    },
    {
      "cell_type": "code",
      "source": [
        "predict_df['Rating'].value_counts(normalize=True, dropna=False)"
      ],
      "metadata": {
        "colab": {
          "base_uri": "https://localhost:8080/"
        },
        "id": "EoWedAiJUeI3",
        "outputId": "4dc319f8-dfe8-41f1-d5ee-a98afdb5816f"
      },
      "execution_count": 71,
      "outputs": [
        {
          "output_type": "execute_result",
          "data": {
            "text/plain": [
              "*Low         0.58\n",
              "Medium       0.07\n",
              "NaN          0.07\n",
              "Low          0.07\n",
              "High         0.05\n",
              "*High        0.04\n",
              "*Very Low    0.04\n",
              "*Medium      0.03\n",
              "Very High    0.02\n",
              "Very Low     0.02\n",
              "*Very High   0.01\n",
              "Name: Rating, dtype: float64"
            ]
          },
          "metadata": {},
          "execution_count": 71
        }
      ]
    },
    {
      "cell_type": "code",
      "source": [
        "predict_df"
      ],
      "metadata": {
        "colab": {
          "base_uri": "https://localhost:8080/",
          "height": 956
        },
        "id": "VoxiUbm6biGn",
        "outputId": "6d8e2b52-28de-45c2-80bf-89b24d7c849e"
      },
      "execution_count": 72,
      "outputs": [
        {
          "output_type": "execute_result",
          "data": {
            "text/plain": [
              "       End Year  District Code         District  School Code  \\\n",
              "0      2,012.00              1     Adair County         1016   \n",
              "1      2,012.00              1     Adair County         1010   \n",
              "2      2,012.00              1     Adair County         1014   \n",
              "3      2,012.00              5     Allen County         5060   \n",
              "4      2,012.00              5     Allen County         5010   \n",
              "...         ...            ...              ...          ...   \n",
              "10914  2,022.00            601  Woodford County       601090   \n",
              "10915  2,022.00            601  Woodford County       601120   \n",
              "10916  2,022.00            601  Woodford County       601075   \n",
              "10917  2,022.00            601  Woodford County       601050   \n",
              "10918  2,022.00            601  Woodford County       601084   \n",
              "\n",
              "                                 School Level  Proficiency Rate  \\\n",
              "0        Adair County Elementary School    ES             63.00   \n",
              "1              Adair County High School    HS             55.00   \n",
              "2            Adair County Middle School    MS             48.00   \n",
              "3      Allen County Intermediate Center    ES             56.00   \n",
              "4           Allen County Primary Center    ES             50.00   \n",
              "...                                 ...   ...               ...   \n",
              "10914      Huntertown Elementary School    ES             77.00   \n",
              "10915       Northside Elementary School    ES             69.00   \n",
              "10916         Simmons Elementary School    ES             70.00   \n",
              "10917       Southside Elementary School    ES             75.00   \n",
              "10918       Woodford County High School    HS             68.00   \n",
              "\n",
              "          Classification  Rating  Reported Spending per student  \\\n",
              "0             Proficient    *Low                       7,260.00   \n",
              "1      Needs Improvement    *Low                       6,460.00   \n",
              "2      Needs Improvement    *Low                       6,720.00   \n",
              "3      Needs Improvement     NaN                            NaN   \n",
              "4      Needs Improvement    *Low                       7,930.00   \n",
              "...                  ...     ...                            ...   \n",
              "10914     *Distinguished    High                      10,847.50   \n",
              "10915        *Proficient  Medium                      12,173.75   \n",
              "10916        *Proficient  Medium                      12,065.00   \n",
              "10917     *Distinguished    High                      10,725.00   \n",
              "10918        *Proficient    High                       9,492.50   \n",
              "\n",
              "       Money Difference per school  Money Difference per student  \\\n",
              "0                       -33,800.00                        -60.00   \n",
              "1                       -36,400.00                        -50.00   \n",
              "2                       -55,700.00                       -140.00   \n",
              "3                              NaN                           NaN   \n",
              "4                       190,500.00                        210.00   \n",
              "...                            ...                           ...   \n",
              "10914                   115,625.00                        247.50   \n",
              "10915                    47,887.50                        151.25   \n",
              "10916                   -14,650.00                        -30.00   \n",
              "10917                    70,762.50                        136.25   \n",
              "10918                    28,962.50                         23.75   \n",
              "\n",
              "       Estimated Spending per student  \n",
              "0                            7,204.00  \n",
              "1                            6,405.00  \n",
              "2                            6,575.00  \n",
              "3                                 NaN  \n",
              "4                            8,137.00  \n",
              "...                               ...  \n",
              "10914                       11,094.25  \n",
              "10915                       12,324.50  \n",
              "10916                       12,033.38  \n",
              "10917                       10,861.75  \n",
              "10918                        9,515.38  \n",
              "\n",
              "[10919 rows x 13 columns]"
            ],
            "text/html": [
              "\n",
              "  <div id=\"df-62a05dea-36c0-4fe7-9ca6-9cc556d119c4\">\n",
              "    <div class=\"colab-df-container\">\n",
              "      <div>\n",
              "<style scoped>\n",
              "    .dataframe tbody tr th:only-of-type {\n",
              "        vertical-align: middle;\n",
              "    }\n",
              "\n",
              "    .dataframe tbody tr th {\n",
              "        vertical-align: top;\n",
              "    }\n",
              "\n",
              "    .dataframe thead th {\n",
              "        text-align: right;\n",
              "    }\n",
              "</style>\n",
              "<table border=\"1\" class=\"dataframe\">\n",
              "  <thead>\n",
              "    <tr style=\"text-align: right;\">\n",
              "      <th></th>\n",
              "      <th>End Year</th>\n",
              "      <th>District Code</th>\n",
              "      <th>District</th>\n",
              "      <th>School Code</th>\n",
              "      <th>School</th>\n",
              "      <th>Level</th>\n",
              "      <th>Proficiency Rate</th>\n",
              "      <th>Classification</th>\n",
              "      <th>Rating</th>\n",
              "      <th>Reported Spending per student</th>\n",
              "      <th>Money Difference per school</th>\n",
              "      <th>Money Difference per student</th>\n",
              "      <th>Estimated Spending per student</th>\n",
              "    </tr>\n",
              "  </thead>\n",
              "  <tbody>\n",
              "    <tr>\n",
              "      <th>0</th>\n",
              "      <td>2,012.00</td>\n",
              "      <td>1</td>\n",
              "      <td>Adair County</td>\n",
              "      <td>1016</td>\n",
              "      <td>Adair County Elementary School</td>\n",
              "      <td>ES</td>\n",
              "      <td>63.00</td>\n",
              "      <td>Proficient</td>\n",
              "      <td>*Low</td>\n",
              "      <td>7,260.00</td>\n",
              "      <td>-33,800.00</td>\n",
              "      <td>-60.00</td>\n",
              "      <td>7,204.00</td>\n",
              "    </tr>\n",
              "    <tr>\n",
              "      <th>1</th>\n",
              "      <td>2,012.00</td>\n",
              "      <td>1</td>\n",
              "      <td>Adair County</td>\n",
              "      <td>1010</td>\n",
              "      <td>Adair County High School</td>\n",
              "      <td>HS</td>\n",
              "      <td>55.00</td>\n",
              "      <td>Needs Improvement</td>\n",
              "      <td>*Low</td>\n",
              "      <td>6,460.00</td>\n",
              "      <td>-36,400.00</td>\n",
              "      <td>-50.00</td>\n",
              "      <td>6,405.00</td>\n",
              "    </tr>\n",
              "    <tr>\n",
              "      <th>2</th>\n",
              "      <td>2,012.00</td>\n",
              "      <td>1</td>\n",
              "      <td>Adair County</td>\n",
              "      <td>1014</td>\n",
              "      <td>Adair County Middle School</td>\n",
              "      <td>MS</td>\n",
              "      <td>48.00</td>\n",
              "      <td>Needs Improvement</td>\n",
              "      <td>*Low</td>\n",
              "      <td>6,720.00</td>\n",
              "      <td>-55,700.00</td>\n",
              "      <td>-140.00</td>\n",
              "      <td>6,575.00</td>\n",
              "    </tr>\n",
              "    <tr>\n",
              "      <th>3</th>\n",
              "      <td>2,012.00</td>\n",
              "      <td>5</td>\n",
              "      <td>Allen County</td>\n",
              "      <td>5060</td>\n",
              "      <td>Allen County Intermediate Center</td>\n",
              "      <td>ES</td>\n",
              "      <td>56.00</td>\n",
              "      <td>Needs Improvement</td>\n",
              "      <td>NaN</td>\n",
              "      <td>NaN</td>\n",
              "      <td>NaN</td>\n",
              "      <td>NaN</td>\n",
              "      <td>NaN</td>\n",
              "    </tr>\n",
              "    <tr>\n",
              "      <th>4</th>\n",
              "      <td>2,012.00</td>\n",
              "      <td>5</td>\n",
              "      <td>Allen County</td>\n",
              "      <td>5010</td>\n",
              "      <td>Allen County Primary Center</td>\n",
              "      <td>ES</td>\n",
              "      <td>50.00</td>\n",
              "      <td>Needs Improvement</td>\n",
              "      <td>*Low</td>\n",
              "      <td>7,930.00</td>\n",
              "      <td>190,500.00</td>\n",
              "      <td>210.00</td>\n",
              "      <td>8,137.00</td>\n",
              "    </tr>\n",
              "    <tr>\n",
              "      <th>...</th>\n",
              "      <td>...</td>\n",
              "      <td>...</td>\n",
              "      <td>...</td>\n",
              "      <td>...</td>\n",
              "      <td>...</td>\n",
              "      <td>...</td>\n",
              "      <td>...</td>\n",
              "      <td>...</td>\n",
              "      <td>...</td>\n",
              "      <td>...</td>\n",
              "      <td>...</td>\n",
              "      <td>...</td>\n",
              "      <td>...</td>\n",
              "    </tr>\n",
              "    <tr>\n",
              "      <th>10914</th>\n",
              "      <td>2,022.00</td>\n",
              "      <td>601</td>\n",
              "      <td>Woodford County</td>\n",
              "      <td>601090</td>\n",
              "      <td>Huntertown Elementary School</td>\n",
              "      <td>ES</td>\n",
              "      <td>77.00</td>\n",
              "      <td>*Distinguished</td>\n",
              "      <td>High</td>\n",
              "      <td>10,847.50</td>\n",
              "      <td>115,625.00</td>\n",
              "      <td>247.50</td>\n",
              "      <td>11,094.25</td>\n",
              "    </tr>\n",
              "    <tr>\n",
              "      <th>10915</th>\n",
              "      <td>2,022.00</td>\n",
              "      <td>601</td>\n",
              "      <td>Woodford County</td>\n",
              "      <td>601120</td>\n",
              "      <td>Northside Elementary School</td>\n",
              "      <td>ES</td>\n",
              "      <td>69.00</td>\n",
              "      <td>*Proficient</td>\n",
              "      <td>Medium</td>\n",
              "      <td>12,173.75</td>\n",
              "      <td>47,887.50</td>\n",
              "      <td>151.25</td>\n",
              "      <td>12,324.50</td>\n",
              "    </tr>\n",
              "    <tr>\n",
              "      <th>10916</th>\n",
              "      <td>2,022.00</td>\n",
              "      <td>601</td>\n",
              "      <td>Woodford County</td>\n",
              "      <td>601075</td>\n",
              "      <td>Simmons Elementary School</td>\n",
              "      <td>ES</td>\n",
              "      <td>70.00</td>\n",
              "      <td>*Proficient</td>\n",
              "      <td>Medium</td>\n",
              "      <td>12,065.00</td>\n",
              "      <td>-14,650.00</td>\n",
              "      <td>-30.00</td>\n",
              "      <td>12,033.38</td>\n",
              "    </tr>\n",
              "    <tr>\n",
              "      <th>10917</th>\n",
              "      <td>2,022.00</td>\n",
              "      <td>601</td>\n",
              "      <td>Woodford County</td>\n",
              "      <td>601050</td>\n",
              "      <td>Southside Elementary School</td>\n",
              "      <td>ES</td>\n",
              "      <td>75.00</td>\n",
              "      <td>*Distinguished</td>\n",
              "      <td>High</td>\n",
              "      <td>10,725.00</td>\n",
              "      <td>70,762.50</td>\n",
              "      <td>136.25</td>\n",
              "      <td>10,861.75</td>\n",
              "    </tr>\n",
              "    <tr>\n",
              "      <th>10918</th>\n",
              "      <td>2,022.00</td>\n",
              "      <td>601</td>\n",
              "      <td>Woodford County</td>\n",
              "      <td>601084</td>\n",
              "      <td>Woodford County High School</td>\n",
              "      <td>HS</td>\n",
              "      <td>68.00</td>\n",
              "      <td>*Proficient</td>\n",
              "      <td>High</td>\n",
              "      <td>9,492.50</td>\n",
              "      <td>28,962.50</td>\n",
              "      <td>23.75</td>\n",
              "      <td>9,515.38</td>\n",
              "    </tr>\n",
              "  </tbody>\n",
              "</table>\n",
              "<p>10919 rows × 13 columns</p>\n",
              "</div>\n",
              "      <button class=\"colab-df-convert\" onclick=\"convertToInteractive('df-62a05dea-36c0-4fe7-9ca6-9cc556d119c4')\"\n",
              "              title=\"Convert this dataframe to an interactive table.\"\n",
              "              style=\"display:none;\">\n",
              "        \n",
              "  <svg xmlns=\"http://www.w3.org/2000/svg\" height=\"24px\"viewBox=\"0 0 24 24\"\n",
              "       width=\"24px\">\n",
              "    <path d=\"M0 0h24v24H0V0z\" fill=\"none\"/>\n",
              "    <path d=\"M18.56 5.44l.94 2.06.94-2.06 2.06-.94-2.06-.94-.94-2.06-.94 2.06-2.06.94zm-11 1L8.5 8.5l.94-2.06 2.06-.94-2.06-.94L8.5 2.5l-.94 2.06-2.06.94zm10 10l.94 2.06.94-2.06 2.06-.94-2.06-.94-.94-2.06-.94 2.06-2.06.94z\"/><path d=\"M17.41 7.96l-1.37-1.37c-.4-.4-.92-.59-1.43-.59-.52 0-1.04.2-1.43.59L10.3 9.45l-7.72 7.72c-.78.78-.78 2.05 0 2.83L4 21.41c.39.39.9.59 1.41.59.51 0 1.02-.2 1.41-.59l7.78-7.78 2.81-2.81c.8-.78.8-2.07 0-2.86zM5.41 20L4 18.59l7.72-7.72 1.47 1.35L5.41 20z\"/>\n",
              "  </svg>\n",
              "      </button>\n",
              "      \n",
              "  <style>\n",
              "    .colab-df-container {\n",
              "      display:flex;\n",
              "      flex-wrap:wrap;\n",
              "      gap: 12px;\n",
              "    }\n",
              "\n",
              "    .colab-df-convert {\n",
              "      background-color: #E8F0FE;\n",
              "      border: none;\n",
              "      border-radius: 50%;\n",
              "      cursor: pointer;\n",
              "      display: none;\n",
              "      fill: #1967D2;\n",
              "      height: 32px;\n",
              "      padding: 0 0 0 0;\n",
              "      width: 32px;\n",
              "    }\n",
              "\n",
              "    .colab-df-convert:hover {\n",
              "      background-color: #E2EBFA;\n",
              "      box-shadow: 0px 1px 2px rgba(60, 64, 67, 0.3), 0px 1px 3px 1px rgba(60, 64, 67, 0.15);\n",
              "      fill: #174EA6;\n",
              "    }\n",
              "\n",
              "    [theme=dark] .colab-df-convert {\n",
              "      background-color: #3B4455;\n",
              "      fill: #D2E3FC;\n",
              "    }\n",
              "\n",
              "    [theme=dark] .colab-df-convert:hover {\n",
              "      background-color: #434B5C;\n",
              "      box-shadow: 0px 1px 3px 1px rgba(0, 0, 0, 0.15);\n",
              "      filter: drop-shadow(0px 1px 2px rgba(0, 0, 0, 0.3));\n",
              "      fill: #FFFFFF;\n",
              "    }\n",
              "  </style>\n",
              "\n",
              "      <script>\n",
              "        const buttonEl =\n",
              "          document.querySelector('#df-62a05dea-36c0-4fe7-9ca6-9cc556d119c4 button.colab-df-convert');\n",
              "        buttonEl.style.display =\n",
              "          google.colab.kernel.accessAllowed ? 'block' : 'none';\n",
              "\n",
              "        async function convertToInteractive(key) {\n",
              "          const element = document.querySelector('#df-62a05dea-36c0-4fe7-9ca6-9cc556d119c4');\n",
              "          const dataTable =\n",
              "            await google.colab.kernel.invokeFunction('convertToInteractive',\n",
              "                                                     [key], {});\n",
              "          if (!dataTable) return;\n",
              "\n",
              "          const docLinkHtml = 'Like what you see? Visit the ' +\n",
              "            '<a target=\"_blank\" href=https://colab.research.google.com/notebooks/data_table.ipynb>data table notebook</a>'\n",
              "            + ' to learn more about interactive tables.';\n",
              "          element.innerHTML = '';\n",
              "          dataTable['output_type'] = 'display_data';\n",
              "          await google.colab.output.renderOutput(dataTable, element);\n",
              "          const docLink = document.createElement('div');\n",
              "          docLink.innerHTML = docLinkHtml;\n",
              "          element.appendChild(docLink);\n",
              "        }\n",
              "      </script>\n",
              "    </div>\n",
              "  </div>\n",
              "  "
            ]
          },
          "metadata": {},
          "execution_count": 72
        }
      ]
    },
    {
      "cell_type": "code",
      "source": [
        "predict_df.to_csv('/content/drive/MyDrive/Colab Data/KY EPSB/All Years/predict_df.csv', index = False)"
      ],
      "metadata": {
        "id": "keY41StVemDh"
      },
      "execution_count": 73,
      "outputs": []
    },
    {
      "cell_type": "code",
      "source": [
        "# Pull all the rows that have this in the School column\n",
        "predict_df[predict_df['School'].str.contains(\"Male\")]"
      ],
      "metadata": {
        "id": "VRfy5AYIemF5",
        "colab": {
          "base_uri": "https://localhost:8080/",
          "height": 760
        },
        "outputId": "405d09be-971e-4bb8-a27a-fde29d72ffd9"
      },
      "execution_count": 74,
      "outputs": [
        {
          "output_type": "execute_result",
          "data": {
            "text/plain": [
              "       End Year  District Code          District  School Code  \\\n",
              "605    2,012.00            275  Jefferson County       275047   \n",
              "1786   2,013.00            275  Jefferson County       275047   \n",
              "2968   2,014.00            275  Jefferson County       275047   \n",
              "4168   2,015.00            275  Jefferson County       275047   \n",
              "5370   2,016.00            275  Jefferson County       275047   \n",
              "6577   2,017.00            275  Jefferson County       275047   \n",
              "7802   2,018.00            275  Jefferson County       275047   \n",
              "9045   2,019.00            275  Jefferson County       275047   \n",
              "10300  2,022.00            275  Jefferson County       275047   \n",
              "\n",
              "                     School Level  Proficiency Rate  Classification  \\\n",
              "605    Louisville Male High    HS             77.00   Distinguished   \n",
              "1786   Louisville Male High    HS             79.00   Distinguished   \n",
              "2968   Louisville Male High    HS             86.00   Distinguished   \n",
              "4168   Louisville Male High    HS             86.00   Distinguished   \n",
              "5370   Louisville Male High    HS             89.00   Distinguished   \n",
              "6577   Louisville Male High    HS             91.00  *Distinguished   \n",
              "7802   Louisville Male High    HS             82.00  *Distinguished   \n",
              "9045   Louisville Male High    HS             78.00   Distinguished   \n",
              "10300  Louisville Male High    HS             71.00  *Distinguished   \n",
              "\n",
              "           Rating  Reported Spending per student  Money Difference per school  \\\n",
              "605          *Low                       6,170.00                   256,000.00   \n",
              "1786         *Low                       6,370.00                   412,400.00   \n",
              "2968         *Low                       6,520.00                   545,500.00   \n",
              "4168        *High                       6,480.00                   588,600.00   \n",
              "5370        *High                       9,510.00                   691,000.00   \n",
              "6577   *Very High                      10,770.00                   638,200.00   \n",
              "7802   *Very High                      12,610.00                   801,900.00   \n",
              "9045    Very High                      12,640.00                 1,071,800.00   \n",
              "10300        High                       8,883.75                   625,675.00   \n",
              "\n",
              "       Money Difference per student  Estimated Spending per student  \n",
              "605                          150.00                        6,324.00  \n",
              "1786                         240.00                        6,615.00  \n",
              "2968                         320.00                        6,840.00  \n",
              "4168                         330.00                        6,818.00  \n",
              "5370                         390.00                        9,900.00  \n",
              "6577                         340.00                       11,115.00  \n",
              "7802                         420.00                       13,023.00  \n",
              "9045                         560.00                       13,196.00  \n",
              "10300                        343.75                        9,228.88  "
            ],
            "text/html": [
              "\n",
              "  <div id=\"df-2fb95f07-fe78-4f75-ac2f-36ceb8a2fd21\">\n",
              "    <div class=\"colab-df-container\">\n",
              "      <div>\n",
              "<style scoped>\n",
              "    .dataframe tbody tr th:only-of-type {\n",
              "        vertical-align: middle;\n",
              "    }\n",
              "\n",
              "    .dataframe tbody tr th {\n",
              "        vertical-align: top;\n",
              "    }\n",
              "\n",
              "    .dataframe thead th {\n",
              "        text-align: right;\n",
              "    }\n",
              "</style>\n",
              "<table border=\"1\" class=\"dataframe\">\n",
              "  <thead>\n",
              "    <tr style=\"text-align: right;\">\n",
              "      <th></th>\n",
              "      <th>End Year</th>\n",
              "      <th>District Code</th>\n",
              "      <th>District</th>\n",
              "      <th>School Code</th>\n",
              "      <th>School</th>\n",
              "      <th>Level</th>\n",
              "      <th>Proficiency Rate</th>\n",
              "      <th>Classification</th>\n",
              "      <th>Rating</th>\n",
              "      <th>Reported Spending per student</th>\n",
              "      <th>Money Difference per school</th>\n",
              "      <th>Money Difference per student</th>\n",
              "      <th>Estimated Spending per student</th>\n",
              "    </tr>\n",
              "  </thead>\n",
              "  <tbody>\n",
              "    <tr>\n",
              "      <th>605</th>\n",
              "      <td>2,012.00</td>\n",
              "      <td>275</td>\n",
              "      <td>Jefferson County</td>\n",
              "      <td>275047</td>\n",
              "      <td>Louisville Male High</td>\n",
              "      <td>HS</td>\n",
              "      <td>77.00</td>\n",
              "      <td>Distinguished</td>\n",
              "      <td>*Low</td>\n",
              "      <td>6,170.00</td>\n",
              "      <td>256,000.00</td>\n",
              "      <td>150.00</td>\n",
              "      <td>6,324.00</td>\n",
              "    </tr>\n",
              "    <tr>\n",
              "      <th>1786</th>\n",
              "      <td>2,013.00</td>\n",
              "      <td>275</td>\n",
              "      <td>Jefferson County</td>\n",
              "      <td>275047</td>\n",
              "      <td>Louisville Male High</td>\n",
              "      <td>HS</td>\n",
              "      <td>79.00</td>\n",
              "      <td>Distinguished</td>\n",
              "      <td>*Low</td>\n",
              "      <td>6,370.00</td>\n",
              "      <td>412,400.00</td>\n",
              "      <td>240.00</td>\n",
              "      <td>6,615.00</td>\n",
              "    </tr>\n",
              "    <tr>\n",
              "      <th>2968</th>\n",
              "      <td>2,014.00</td>\n",
              "      <td>275</td>\n",
              "      <td>Jefferson County</td>\n",
              "      <td>275047</td>\n",
              "      <td>Louisville Male High</td>\n",
              "      <td>HS</td>\n",
              "      <td>86.00</td>\n",
              "      <td>Distinguished</td>\n",
              "      <td>*Low</td>\n",
              "      <td>6,520.00</td>\n",
              "      <td>545,500.00</td>\n",
              "      <td>320.00</td>\n",
              "      <td>6,840.00</td>\n",
              "    </tr>\n",
              "    <tr>\n",
              "      <th>4168</th>\n",
              "      <td>2,015.00</td>\n",
              "      <td>275</td>\n",
              "      <td>Jefferson County</td>\n",
              "      <td>275047</td>\n",
              "      <td>Louisville Male High</td>\n",
              "      <td>HS</td>\n",
              "      <td>86.00</td>\n",
              "      <td>Distinguished</td>\n",
              "      <td>*High</td>\n",
              "      <td>6,480.00</td>\n",
              "      <td>588,600.00</td>\n",
              "      <td>330.00</td>\n",
              "      <td>6,818.00</td>\n",
              "    </tr>\n",
              "    <tr>\n",
              "      <th>5370</th>\n",
              "      <td>2,016.00</td>\n",
              "      <td>275</td>\n",
              "      <td>Jefferson County</td>\n",
              "      <td>275047</td>\n",
              "      <td>Louisville Male High</td>\n",
              "      <td>HS</td>\n",
              "      <td>89.00</td>\n",
              "      <td>Distinguished</td>\n",
              "      <td>*High</td>\n",
              "      <td>9,510.00</td>\n",
              "      <td>691,000.00</td>\n",
              "      <td>390.00</td>\n",
              "      <td>9,900.00</td>\n",
              "    </tr>\n",
              "    <tr>\n",
              "      <th>6577</th>\n",
              "      <td>2,017.00</td>\n",
              "      <td>275</td>\n",
              "      <td>Jefferson County</td>\n",
              "      <td>275047</td>\n",
              "      <td>Louisville Male High</td>\n",
              "      <td>HS</td>\n",
              "      <td>91.00</td>\n",
              "      <td>*Distinguished</td>\n",
              "      <td>*Very High</td>\n",
              "      <td>10,770.00</td>\n",
              "      <td>638,200.00</td>\n",
              "      <td>340.00</td>\n",
              "      <td>11,115.00</td>\n",
              "    </tr>\n",
              "    <tr>\n",
              "      <th>7802</th>\n",
              "      <td>2,018.00</td>\n",
              "      <td>275</td>\n",
              "      <td>Jefferson County</td>\n",
              "      <td>275047</td>\n",
              "      <td>Louisville Male High</td>\n",
              "      <td>HS</td>\n",
              "      <td>82.00</td>\n",
              "      <td>*Distinguished</td>\n",
              "      <td>*Very High</td>\n",
              "      <td>12,610.00</td>\n",
              "      <td>801,900.00</td>\n",
              "      <td>420.00</td>\n",
              "      <td>13,023.00</td>\n",
              "    </tr>\n",
              "    <tr>\n",
              "      <th>9045</th>\n",
              "      <td>2,019.00</td>\n",
              "      <td>275</td>\n",
              "      <td>Jefferson County</td>\n",
              "      <td>275047</td>\n",
              "      <td>Louisville Male High</td>\n",
              "      <td>HS</td>\n",
              "      <td>78.00</td>\n",
              "      <td>Distinguished</td>\n",
              "      <td>Very High</td>\n",
              "      <td>12,640.00</td>\n",
              "      <td>1,071,800.00</td>\n",
              "      <td>560.00</td>\n",
              "      <td>13,196.00</td>\n",
              "    </tr>\n",
              "    <tr>\n",
              "      <th>10300</th>\n",
              "      <td>2,022.00</td>\n",
              "      <td>275</td>\n",
              "      <td>Jefferson County</td>\n",
              "      <td>275047</td>\n",
              "      <td>Louisville Male High</td>\n",
              "      <td>HS</td>\n",
              "      <td>71.00</td>\n",
              "      <td>*Distinguished</td>\n",
              "      <td>High</td>\n",
              "      <td>8,883.75</td>\n",
              "      <td>625,675.00</td>\n",
              "      <td>343.75</td>\n",
              "      <td>9,228.88</td>\n",
              "    </tr>\n",
              "  </tbody>\n",
              "</table>\n",
              "</div>\n",
              "      <button class=\"colab-df-convert\" onclick=\"convertToInteractive('df-2fb95f07-fe78-4f75-ac2f-36ceb8a2fd21')\"\n",
              "              title=\"Convert this dataframe to an interactive table.\"\n",
              "              style=\"display:none;\">\n",
              "        \n",
              "  <svg xmlns=\"http://www.w3.org/2000/svg\" height=\"24px\"viewBox=\"0 0 24 24\"\n",
              "       width=\"24px\">\n",
              "    <path d=\"M0 0h24v24H0V0z\" fill=\"none\"/>\n",
              "    <path d=\"M18.56 5.44l.94 2.06.94-2.06 2.06-.94-2.06-.94-.94-2.06-.94 2.06-2.06.94zm-11 1L8.5 8.5l.94-2.06 2.06-.94-2.06-.94L8.5 2.5l-.94 2.06-2.06.94zm10 10l.94 2.06.94-2.06 2.06-.94-2.06-.94-.94-2.06-.94 2.06-2.06.94z\"/><path d=\"M17.41 7.96l-1.37-1.37c-.4-.4-.92-.59-1.43-.59-.52 0-1.04.2-1.43.59L10.3 9.45l-7.72 7.72c-.78.78-.78 2.05 0 2.83L4 21.41c.39.39.9.59 1.41.59.51 0 1.02-.2 1.41-.59l7.78-7.78 2.81-2.81c.8-.78.8-2.07 0-2.86zM5.41 20L4 18.59l7.72-7.72 1.47 1.35L5.41 20z\"/>\n",
              "  </svg>\n",
              "      </button>\n",
              "      \n",
              "  <style>\n",
              "    .colab-df-container {\n",
              "      display:flex;\n",
              "      flex-wrap:wrap;\n",
              "      gap: 12px;\n",
              "    }\n",
              "\n",
              "    .colab-df-convert {\n",
              "      background-color: #E8F0FE;\n",
              "      border: none;\n",
              "      border-radius: 50%;\n",
              "      cursor: pointer;\n",
              "      display: none;\n",
              "      fill: #1967D2;\n",
              "      height: 32px;\n",
              "      padding: 0 0 0 0;\n",
              "      width: 32px;\n",
              "    }\n",
              "\n",
              "    .colab-df-convert:hover {\n",
              "      background-color: #E2EBFA;\n",
              "      box-shadow: 0px 1px 2px rgba(60, 64, 67, 0.3), 0px 1px 3px 1px rgba(60, 64, 67, 0.15);\n",
              "      fill: #174EA6;\n",
              "    }\n",
              "\n",
              "    [theme=dark] .colab-df-convert {\n",
              "      background-color: #3B4455;\n",
              "      fill: #D2E3FC;\n",
              "    }\n",
              "\n",
              "    [theme=dark] .colab-df-convert:hover {\n",
              "      background-color: #434B5C;\n",
              "      box-shadow: 0px 1px 3px 1px rgba(0, 0, 0, 0.15);\n",
              "      filter: drop-shadow(0px 1px 2px rgba(0, 0, 0, 0.3));\n",
              "      fill: #FFFFFF;\n",
              "    }\n",
              "  </style>\n",
              "\n",
              "      <script>\n",
              "        const buttonEl =\n",
              "          document.querySelector('#df-2fb95f07-fe78-4f75-ac2f-36ceb8a2fd21 button.colab-df-convert');\n",
              "        buttonEl.style.display =\n",
              "          google.colab.kernel.accessAllowed ? 'block' : 'none';\n",
              "\n",
              "        async function convertToInteractive(key) {\n",
              "          const element = document.querySelector('#df-2fb95f07-fe78-4f75-ac2f-36ceb8a2fd21');\n",
              "          const dataTable =\n",
              "            await google.colab.kernel.invokeFunction('convertToInteractive',\n",
              "                                                     [key], {});\n",
              "          if (!dataTable) return;\n",
              "\n",
              "          const docLinkHtml = 'Like what you see? Visit the ' +\n",
              "            '<a target=\"_blank\" href=https://colab.research.google.com/notebooks/data_table.ipynb>data table notebook</a>'\n",
              "            + ' to learn more about interactive tables.';\n",
              "          element.innerHTML = '';\n",
              "          dataTable['output_type'] = 'display_data';\n",
              "          await google.colab.output.renderOutput(dataTable, element);\n",
              "          const docLink = document.createElement('div');\n",
              "          docLink.innerHTML = docLinkHtml;\n",
              "          element.appendChild(docLink);\n",
              "        }\n",
              "      </script>\n",
              "    </div>\n",
              "  </div>\n",
              "  "
            ]
          },
          "metadata": {},
          "execution_count": 74
        }
      ]
    },
    {
      "cell_type": "markdown",
      "source": [
        "# Most Impacted schools"
      ],
      "metadata": {
        "id": "UbO8I6LSsqr0"
      }
    },
    {
      "cell_type": "code",
      "source": [
        "# This makes us start with the predict_df. \n",
        "\n",
        "published_ky_df = predict_df.copy()\n",
        "published_ky_df.reset_index(drop=True, inplace=True)"
      ],
      "metadata": {
        "id": "3L2vXWsbl0yr"
      },
      "execution_count": 75,
      "outputs": []
    },
    {
      "cell_type": "code",
      "source": [
        "published_ky_df.index"
      ],
      "metadata": {
        "colab": {
          "base_uri": "https://localhost:8080/"
        },
        "id": "7sfQwOI2cI1O",
        "outputId": "6710fe90-9b81-45a2-99c0-fa2d1ef7676d"
      },
      "execution_count": 76,
      "outputs": [
        {
          "output_type": "execute_result",
          "data": {
            "text/plain": [
              "RangeIndex(start=0, stop=10919, step=1)"
            ]
          },
          "metadata": {},
          "execution_count": 76
        }
      ]
    },
    {
      "cell_type": "markdown",
      "source": [
        "## Top/Bottom Percentile"
      ],
      "metadata": {
        "id": "BsSiCfScQMad"
      }
    },
    {
      "cell_type": "code",
      "source": [
        "# Select value between 0-100. The selected value will be changed to a percent.  Then used to pull the data below. \n",
        "\n",
        "select_percent = 5\n",
        "selected_percentile = (100 - select_percent) / 100"
      ],
      "metadata": {
        "id": "W9q5vElltDPE"
      },
      "execution_count": 77,
      "outputs": []
    },
    {
      "cell_type": "code",
      "source": [
        "published_ky_df[published_ky_df['End Year']==2018].quantile(q=selected_percentile)"
      ],
      "metadata": {
        "colab": {
          "base_uri": "https://localhost:8080/"
        },
        "id": "DB7Cj4sHvTkA",
        "outputId": "3285c6ac-4fba-4e97-fd39-348ce9d75cc4"
      },
      "execution_count": 78,
      "outputs": [
        {
          "output_type": "execute_result",
          "data": {
            "text/plain": [
              "End Year                           2,018.00\n",
              "District Code                        567.40\n",
              "School Code                      567,418.20\n",
              "Proficiency Rate                      91.00\n",
              "Reported Spending per student     21,706.00\n",
              "Money Difference per school      175,320.00\n",
              "Money Difference per student         290.00\n",
              "Estimated Spending per student    21,769.40\n",
              "Name: 0.95, dtype: float64"
            ]
          },
          "metadata": {},
          "execution_count": 78
        }
      ]
    },
    {
      "cell_type": "code",
      "source": [
        "# Creates / Resets df\n",
        "highly_impacted_schools = published_ky_df.iloc[0:0,:]\n",
        "\n",
        "# Append highest/lowest pctl to df based on the year\n",
        "for i in published_ky_df.index:\n",
        "  year = published_ky_df['End Year'][i]\n",
        "  highest_pctl = published_ky_df[published_ky_df['End Year']==year].quantile(q=selected_percentile)\n",
        "  lowest_pctl = published_ky_df[published_ky_df['End Year']==year].quantile(q=(1-selected_percentile))\n",
        "\n",
        "  if published_ky_df['Money Difference per school'][i] > highest_pctl['Money Difference per school'] or published_ky_df['Money Difference per school'][i] < lowest_pctl['Money Difference per school']:\n",
        "    highly_impacted_schools = highly_impacted_schools.append(published_ky_df.loc[i,])\n",
        "  elif published_ky_df['Estimated Spending per student'][i] > highest_pctl['Estimated Spending per student'] or published_ky_df['Estimated Spending per student'][i] < lowest_pctl['Estimated Spending per student']:\n",
        "    highly_impacted_schools = highly_impacted_schools.append(published_ky_df.loc[i,])\n",
        "  elif published_ky_df['Proficiency Rate'][i] > highest_pctl['Proficiency Rate'] or published_ky_df['Proficiency Rate'][i] < lowest_pctl['Proficiency Rate']:\n",
        "    highly_impacted_schools = highly_impacted_schools.append(published_ky_df.loc[i,])\n",
        "\n",
        "# Drop duplicated rows\n",
        "highly_impacted_schools.drop_duplicates(inplace=True)\n",
        "\n",
        "# Reset index\n",
        "highly_impacted_schools.reset_index(drop=True, inplace=True)"
      ],
      "metadata": {
        "id": "vcAsl3gavuUc"
      },
      "execution_count": 79,
      "outputs": []
    },
    {
      "cell_type": "code",
      "source": [
        "# Without including the Proficeny Rate high and low, there were 1941 records, and 701 schools.\n",
        "# Including the proficency rate raises the number of records to 2483 from 817 schools.\n",
        "\n",
        "highly_impacted_schools.info()"
      ],
      "metadata": {
        "id": "gZNrI4vU1rX7",
        "colab": {
          "base_uri": "https://localhost:8080/"
        },
        "outputId": "3187e6db-c08c-4bb7-fc28-fd0a2b00e711"
      },
      "execution_count": 80,
      "outputs": [
        {
          "output_type": "stream",
          "name": "stdout",
          "text": [
            "<class 'pandas.core.frame.DataFrame'>\n",
            "RangeIndex: 2540 entries, 0 to 2539\n",
            "Data columns (total 13 columns):\n",
            " #   Column                          Non-Null Count  Dtype  \n",
            "---  ------                          --------------  -----  \n",
            " 0   End Year                        2540 non-null   float64\n",
            " 1   District Code                   2540 non-null   int64  \n",
            " 2   District                        2540 non-null   object \n",
            " 3   School Code                     2540 non-null   int64  \n",
            " 4   School                          2540 non-null   object \n",
            " 5   Level                           2540 non-null   object \n",
            " 6   Proficiency Rate                2540 non-null   float64\n",
            " 7   Classification                  2525 non-null   object \n",
            " 8   Rating                          2481 non-null   object \n",
            " 9   Reported Spending per student   2469 non-null   float64\n",
            " 10  Money Difference per school     2469 non-null   float64\n",
            " 11  Money Difference per student    2469 non-null   float64\n",
            " 12  Estimated Spending per student  2469 non-null   float64\n",
            "dtypes: float64(6), int64(2), object(5)\n",
            "memory usage: 258.1+ KB\n"
          ]
        }
      ]
    },
    {
      "cell_type": "code",
      "source": [
        "highly_impacted_schools.nunique()"
      ],
      "metadata": {
        "id": "5SIThKZF1svK",
        "colab": {
          "base_uri": "https://localhost:8080/"
        },
        "outputId": "bfcec0ed-8d57-4212-dfcf-f57ef1d02685"
      },
      "execution_count": 81,
      "outputs": [
        {
          "output_type": "execute_result",
          "data": {
            "text/plain": [
              "End Year                             9\n",
              "District Code                      158\n",
              "District                           158\n",
              "School Code                        713\n",
              "School                             706\n",
              "Level                                3\n",
              "Proficiency Rate                    99\n",
              "Classification                       6\n",
              "Rating                              10\n",
              "Reported Spending per student     1381\n",
              "Money Difference per school       1914\n",
              "Money Difference per student       396\n",
              "Estimated Spending per student    2114\n",
              "dtype: int64"
            ]
          },
          "metadata": {},
          "execution_count": 81
        }
      ]
    },
    {
      "cell_type": "code",
      "source": [
        "highly_impacted_schools.sort_values(by=['Money Difference per school'], inplace=True)"
      ],
      "metadata": {
        "id": "oIuZ9P5EDVpr"
      },
      "execution_count": 82,
      "outputs": []
    },
    {
      "cell_type": "markdown",
      "source": [
        "## Multiple Years Impacted - Detailed"
      ],
      "metadata": {
        "id": "xpakTgq2e2WC"
      }
    },
    {
      "cell_type": "code",
      "source": [
        "# If school code frequency is >= 5, then they remain.  \n",
        "# Then the rest of their 10 year data is pulled. "
      ],
      "metadata": {
        "id": "2uFz8FcWn7LR"
      },
      "execution_count": 83,
      "outputs": []
    },
    {
      "cell_type": "code",
      "source": [
        "id_freq_schools = highly_impacted_schools.groupby('School Code').count()"
      ],
      "metadata": {
        "id": "4xji5owN1zm1"
      },
      "execution_count": 84,
      "outputs": []
    },
    {
      "cell_type": "code",
      "source": [
        "id_freq_schools"
      ],
      "metadata": {
        "id": "4eDAD7AVOYpS",
        "colab": {
          "base_uri": "https://localhost:8080/",
          "height": 588
        },
        "outputId": "255f78c1-f995-41ad-8d98-e92c03a7cc3c"
      },
      "execution_count": 85,
      "outputs": [
        {
          "output_type": "execute_result",
          "data": {
            "text/plain": [
              "             End Year  District Code  District  School  Level  \\\n",
              "School Code                                                     \n",
              "5010                2              2         2       2      2   \n",
              "5015                2              2         2       2      2   \n",
              "5020                3              3         3       3      3   \n",
              "6010               18             18        18      18     18   \n",
              "11020               3              3         3       3      3   \n",
              "...               ...            ...       ...     ...    ...   \n",
              "595320              3              3         3       3      3   \n",
              "601050              1              1         1       1      1   \n",
              "601075              1              1         1       1      1   \n",
              "601084              1              1         1       1      1   \n",
              "601120              1              1         1       1      1   \n",
              "\n",
              "             Proficiency Rate  Classification  Rating  \\\n",
              "School Code                                             \n",
              "5010                        2               2       2   \n",
              "5015                        2               2       2   \n",
              "5020                        3               3       3   \n",
              "6010                       18              18      18   \n",
              "11020                       3               3       3   \n",
              "...                       ...             ...     ...   \n",
              "595320                      3               3       3   \n",
              "601050                      1               1       1   \n",
              "601075                      1               1       1   \n",
              "601084                      1               1       1   \n",
              "601120                      1               1       1   \n",
              "\n",
              "             Reported Spending per student  Money Difference per school  \\\n",
              "School Code                                                               \n",
              "5010                                     2                            2   \n",
              "5015                                     2                            2   \n",
              "5020                                     3                            3   \n",
              "6010                                    18                           18   \n",
              "11020                                    3                            3   \n",
              "...                                    ...                          ...   \n",
              "595320                                   3                            3   \n",
              "601050                                   1                            1   \n",
              "601075                                   1                            1   \n",
              "601084                                   1                            1   \n",
              "601120                                   1                            1   \n",
              "\n",
              "             Money Difference per student  Estimated Spending per student  \n",
              "School Code                                                                \n",
              "5010                                    2                               2  \n",
              "5015                                    2                               2  \n",
              "5020                                    3                               3  \n",
              "6010                                   18                              18  \n",
              "11020                                   3                               3  \n",
              "...                                   ...                             ...  \n",
              "595320                                  3                               3  \n",
              "601050                                  1                               1  \n",
              "601075                                  1                               1  \n",
              "601084                                  1                               1  \n",
              "601120                                  1                               1  \n",
              "\n",
              "[713 rows x 12 columns]"
            ],
            "text/html": [
              "\n",
              "  <div id=\"df-e7f65988-99db-46f6-aabe-16911d00122d\">\n",
              "    <div class=\"colab-df-container\">\n",
              "      <div>\n",
              "<style scoped>\n",
              "    .dataframe tbody tr th:only-of-type {\n",
              "        vertical-align: middle;\n",
              "    }\n",
              "\n",
              "    .dataframe tbody tr th {\n",
              "        vertical-align: top;\n",
              "    }\n",
              "\n",
              "    .dataframe thead th {\n",
              "        text-align: right;\n",
              "    }\n",
              "</style>\n",
              "<table border=\"1\" class=\"dataframe\">\n",
              "  <thead>\n",
              "    <tr style=\"text-align: right;\">\n",
              "      <th></th>\n",
              "      <th>End Year</th>\n",
              "      <th>District Code</th>\n",
              "      <th>District</th>\n",
              "      <th>School</th>\n",
              "      <th>Level</th>\n",
              "      <th>Proficiency Rate</th>\n",
              "      <th>Classification</th>\n",
              "      <th>Rating</th>\n",
              "      <th>Reported Spending per student</th>\n",
              "      <th>Money Difference per school</th>\n",
              "      <th>Money Difference per student</th>\n",
              "      <th>Estimated Spending per student</th>\n",
              "    </tr>\n",
              "    <tr>\n",
              "      <th>School Code</th>\n",
              "      <th></th>\n",
              "      <th></th>\n",
              "      <th></th>\n",
              "      <th></th>\n",
              "      <th></th>\n",
              "      <th></th>\n",
              "      <th></th>\n",
              "      <th></th>\n",
              "      <th></th>\n",
              "      <th></th>\n",
              "      <th></th>\n",
              "      <th></th>\n",
              "    </tr>\n",
              "  </thead>\n",
              "  <tbody>\n",
              "    <tr>\n",
              "      <th>5010</th>\n",
              "      <td>2</td>\n",
              "      <td>2</td>\n",
              "      <td>2</td>\n",
              "      <td>2</td>\n",
              "      <td>2</td>\n",
              "      <td>2</td>\n",
              "      <td>2</td>\n",
              "      <td>2</td>\n",
              "      <td>2</td>\n",
              "      <td>2</td>\n",
              "      <td>2</td>\n",
              "      <td>2</td>\n",
              "    </tr>\n",
              "    <tr>\n",
              "      <th>5015</th>\n",
              "      <td>2</td>\n",
              "      <td>2</td>\n",
              "      <td>2</td>\n",
              "      <td>2</td>\n",
              "      <td>2</td>\n",
              "      <td>2</td>\n",
              "      <td>2</td>\n",
              "      <td>2</td>\n",
              "      <td>2</td>\n",
              "      <td>2</td>\n",
              "      <td>2</td>\n",
              "      <td>2</td>\n",
              "    </tr>\n",
              "    <tr>\n",
              "      <th>5020</th>\n",
              "      <td>3</td>\n",
              "      <td>3</td>\n",
              "      <td>3</td>\n",
              "      <td>3</td>\n",
              "      <td>3</td>\n",
              "      <td>3</td>\n",
              "      <td>3</td>\n",
              "      <td>3</td>\n",
              "      <td>3</td>\n",
              "      <td>3</td>\n",
              "      <td>3</td>\n",
              "      <td>3</td>\n",
              "    </tr>\n",
              "    <tr>\n",
              "      <th>6010</th>\n",
              "      <td>18</td>\n",
              "      <td>18</td>\n",
              "      <td>18</td>\n",
              "      <td>18</td>\n",
              "      <td>18</td>\n",
              "      <td>18</td>\n",
              "      <td>18</td>\n",
              "      <td>18</td>\n",
              "      <td>18</td>\n",
              "      <td>18</td>\n",
              "      <td>18</td>\n",
              "      <td>18</td>\n",
              "    </tr>\n",
              "    <tr>\n",
              "      <th>11020</th>\n",
              "      <td>3</td>\n",
              "      <td>3</td>\n",
              "      <td>3</td>\n",
              "      <td>3</td>\n",
              "      <td>3</td>\n",
              "      <td>3</td>\n",
              "      <td>3</td>\n",
              "      <td>3</td>\n",
              "      <td>3</td>\n",
              "      <td>3</td>\n",
              "      <td>3</td>\n",
              "      <td>3</td>\n",
              "    </tr>\n",
              "    <tr>\n",
              "      <th>...</th>\n",
              "      <td>...</td>\n",
              "      <td>...</td>\n",
              "      <td>...</td>\n",
              "      <td>...</td>\n",
              "      <td>...</td>\n",
              "      <td>...</td>\n",
              "      <td>...</td>\n",
              "      <td>...</td>\n",
              "      <td>...</td>\n",
              "      <td>...</td>\n",
              "      <td>...</td>\n",
              "      <td>...</td>\n",
              "    </tr>\n",
              "    <tr>\n",
              "      <th>595320</th>\n",
              "      <td>3</td>\n",
              "      <td>3</td>\n",
              "      <td>3</td>\n",
              "      <td>3</td>\n",
              "      <td>3</td>\n",
              "      <td>3</td>\n",
              "      <td>3</td>\n",
              "      <td>3</td>\n",
              "      <td>3</td>\n",
              "      <td>3</td>\n",
              "      <td>3</td>\n",
              "      <td>3</td>\n",
              "    </tr>\n",
              "    <tr>\n",
              "      <th>601050</th>\n",
              "      <td>1</td>\n",
              "      <td>1</td>\n",
              "      <td>1</td>\n",
              "      <td>1</td>\n",
              "      <td>1</td>\n",
              "      <td>1</td>\n",
              "      <td>1</td>\n",
              "      <td>1</td>\n",
              "      <td>1</td>\n",
              "      <td>1</td>\n",
              "      <td>1</td>\n",
              "      <td>1</td>\n",
              "    </tr>\n",
              "    <tr>\n",
              "      <th>601075</th>\n",
              "      <td>1</td>\n",
              "      <td>1</td>\n",
              "      <td>1</td>\n",
              "      <td>1</td>\n",
              "      <td>1</td>\n",
              "      <td>1</td>\n",
              "      <td>1</td>\n",
              "      <td>1</td>\n",
              "      <td>1</td>\n",
              "      <td>1</td>\n",
              "      <td>1</td>\n",
              "      <td>1</td>\n",
              "    </tr>\n",
              "    <tr>\n",
              "      <th>601084</th>\n",
              "      <td>1</td>\n",
              "      <td>1</td>\n",
              "      <td>1</td>\n",
              "      <td>1</td>\n",
              "      <td>1</td>\n",
              "      <td>1</td>\n",
              "      <td>1</td>\n",
              "      <td>1</td>\n",
              "      <td>1</td>\n",
              "      <td>1</td>\n",
              "      <td>1</td>\n",
              "      <td>1</td>\n",
              "    </tr>\n",
              "    <tr>\n",
              "      <th>601120</th>\n",
              "      <td>1</td>\n",
              "      <td>1</td>\n",
              "      <td>1</td>\n",
              "      <td>1</td>\n",
              "      <td>1</td>\n",
              "      <td>1</td>\n",
              "      <td>1</td>\n",
              "      <td>1</td>\n",
              "      <td>1</td>\n",
              "      <td>1</td>\n",
              "      <td>1</td>\n",
              "      <td>1</td>\n",
              "    </tr>\n",
              "  </tbody>\n",
              "</table>\n",
              "<p>713 rows × 12 columns</p>\n",
              "</div>\n",
              "      <button class=\"colab-df-convert\" onclick=\"convertToInteractive('df-e7f65988-99db-46f6-aabe-16911d00122d')\"\n",
              "              title=\"Convert this dataframe to an interactive table.\"\n",
              "              style=\"display:none;\">\n",
              "        \n",
              "  <svg xmlns=\"http://www.w3.org/2000/svg\" height=\"24px\"viewBox=\"0 0 24 24\"\n",
              "       width=\"24px\">\n",
              "    <path d=\"M0 0h24v24H0V0z\" fill=\"none\"/>\n",
              "    <path d=\"M18.56 5.44l.94 2.06.94-2.06 2.06-.94-2.06-.94-.94-2.06-.94 2.06-2.06.94zm-11 1L8.5 8.5l.94-2.06 2.06-.94-2.06-.94L8.5 2.5l-.94 2.06-2.06.94zm10 10l.94 2.06.94-2.06 2.06-.94-2.06-.94-.94-2.06-.94 2.06-2.06.94z\"/><path d=\"M17.41 7.96l-1.37-1.37c-.4-.4-.92-.59-1.43-.59-.52 0-1.04.2-1.43.59L10.3 9.45l-7.72 7.72c-.78.78-.78 2.05 0 2.83L4 21.41c.39.39.9.59 1.41.59.51 0 1.02-.2 1.41-.59l7.78-7.78 2.81-2.81c.8-.78.8-2.07 0-2.86zM5.41 20L4 18.59l7.72-7.72 1.47 1.35L5.41 20z\"/>\n",
              "  </svg>\n",
              "      </button>\n",
              "      \n",
              "  <style>\n",
              "    .colab-df-container {\n",
              "      display:flex;\n",
              "      flex-wrap:wrap;\n",
              "      gap: 12px;\n",
              "    }\n",
              "\n",
              "    .colab-df-convert {\n",
              "      background-color: #E8F0FE;\n",
              "      border: none;\n",
              "      border-radius: 50%;\n",
              "      cursor: pointer;\n",
              "      display: none;\n",
              "      fill: #1967D2;\n",
              "      height: 32px;\n",
              "      padding: 0 0 0 0;\n",
              "      width: 32px;\n",
              "    }\n",
              "\n",
              "    .colab-df-convert:hover {\n",
              "      background-color: #E2EBFA;\n",
              "      box-shadow: 0px 1px 2px rgba(60, 64, 67, 0.3), 0px 1px 3px 1px rgba(60, 64, 67, 0.15);\n",
              "      fill: #174EA6;\n",
              "    }\n",
              "\n",
              "    [theme=dark] .colab-df-convert {\n",
              "      background-color: #3B4455;\n",
              "      fill: #D2E3FC;\n",
              "    }\n",
              "\n",
              "    [theme=dark] .colab-df-convert:hover {\n",
              "      background-color: #434B5C;\n",
              "      box-shadow: 0px 1px 3px 1px rgba(0, 0, 0, 0.15);\n",
              "      filter: drop-shadow(0px 1px 2px rgba(0, 0, 0, 0.3));\n",
              "      fill: #FFFFFF;\n",
              "    }\n",
              "  </style>\n",
              "\n",
              "      <script>\n",
              "        const buttonEl =\n",
              "          document.querySelector('#df-e7f65988-99db-46f6-aabe-16911d00122d button.colab-df-convert');\n",
              "        buttonEl.style.display =\n",
              "          google.colab.kernel.accessAllowed ? 'block' : 'none';\n",
              "\n",
              "        async function convertToInteractive(key) {\n",
              "          const element = document.querySelector('#df-e7f65988-99db-46f6-aabe-16911d00122d');\n",
              "          const dataTable =\n",
              "            await google.colab.kernel.invokeFunction('convertToInteractive',\n",
              "                                                     [key], {});\n",
              "          if (!dataTable) return;\n",
              "\n",
              "          const docLinkHtml = 'Like what you see? Visit the ' +\n",
              "            '<a target=\"_blank\" href=https://colab.research.google.com/notebooks/data_table.ipynb>data table notebook</a>'\n",
              "            + ' to learn more about interactive tables.';\n",
              "          element.innerHTML = '';\n",
              "          dataTable['output_type'] = 'display_data';\n",
              "          await google.colab.output.renderOutput(dataTable, element);\n",
              "          const docLink = document.createElement('div');\n",
              "          docLink.innerHTML = docLinkHtml;\n",
              "          element.appendChild(docLink);\n",
              "        }\n",
              "      </script>\n",
              "    </div>\n",
              "  </div>\n",
              "  "
            ]
          },
          "metadata": {},
          "execution_count": 85
        }
      ]
    },
    {
      "cell_type": "code",
      "source": [
        "sns.countplot(id_freq_schools['End Year'], label='count')"
      ],
      "metadata": {
        "id": "2waB27JSOIcH",
        "colab": {
          "base_uri": "https://localhost:8080/",
          "height": 351
        },
        "outputId": "b97536d7-c3fe-41ca-c5f7-ba456f6302c6"
      },
      "execution_count": 86,
      "outputs": [
        {
          "output_type": "stream",
          "name": "stderr",
          "text": [
            "/usr/local/lib/python3.8/dist-packages/seaborn/_decorators.py:36: FutureWarning: Pass the following variable as a keyword arg: x. From version 0.12, the only valid positional argument will be `data`, and passing other arguments without an explicit keyword will result in an error or misinterpretation.\n",
            "  warnings.warn(\n"
          ]
        },
        {
          "output_type": "execute_result",
          "data": {
            "text/plain": [
              "<matplotlib.axes._subplots.AxesSubplot at 0x7f93c1754220>"
            ]
          },
          "metadata": {},
          "execution_count": 86
        },
        {
          "output_type": "display_data",
          "data": {
            "text/plain": [
              "<Figure size 432x288 with 1 Axes>"
            ],
            "image/png": "[encoded data removed]"
          },
          "metadata": {
            "needs_background": "light"
          }
        }
      ]
    },
    {
      "cell_type": "code",
      "source": [
        "# Select frequency that a school appears in either the top or bottom percentile of the highly impacted schools\n",
        "# There should be a default selected. \n",
        "\n",
        "select_frequency = 5\n",
        "\n",
        "# If school code frequency is >= 5 years, then they remain. Unless above variable is updated to a different number.   \n",
        "\n",
        "for i in id_freq_schools.index:\n",
        "  if id_freq_schools['End Year'][i] < select_frequency:\n",
        "    id_freq_schools.drop([i], axis= 0, inplace=True)\n",
        "\n",
        "freq_school_code = id_freq_schools.index.unique().sort_values()"
      ],
      "metadata": {
        "id": "PTNMBs3DrIhY"
      },
      "execution_count": 87,
      "outputs": []
    },
    {
      "cell_type": "code",
      "source": [
        "freq_school_code"
      ],
      "metadata": {
        "colab": {
          "base_uri": "https://localhost:8080/"
        },
        "id": "hdbCv_um2Tqa",
        "outputId": "ca01e501-64c9-41be-c39a-9ae78bf753e8"
      },
      "execution_count": 88,
      "outputs": [
        {
          "output_type": "execute_result",
          "data": {
            "text/plain": [
              "Int64Index([  6010,  11022,  11025,  16011,  21027,  21050,  26010,  26020,\n",
              "             31180,  35011,\n",
              "            ...\n",
              "            501390, 501395, 505010, 525014, 537010, 567020, 571002, 571230,\n",
              "            585125, 585130],\n",
              "           dtype='int64', name='School Code', length=203)"
            ]
          },
          "metadata": {},
          "execution_count": 88
        }
      ]
    },
    {
      "cell_type": "code",
      "source": [
        "# This is the detailed schools who are repeatedly in the top/bottom.\n",
        "# Pulls all of their school data. \n",
        "\n",
        "ten_year_impacted = published_ky_df.iloc[0:0,:]\n",
        "\n",
        "for code in freq_school_code:\n",
        "  school_ten_year = published_ky_df[published_ky_df['School Code'] == code]\n",
        "  ten_year_impacted = ten_year_impacted.append(school_ten_year)\n"
      ],
      "metadata": {
        "id": "mp_YTum1mQ8L"
      },
      "execution_count": 89,
      "outputs": []
    },
    {
      "cell_type": "code",
      "source": [
        "ten_year_impacted.sort_values(by=['Money Difference per school'], inplace=True)"
      ],
      "metadata": {
        "id": "kbnMp6tmhxVp"
      },
      "execution_count": 90,
      "outputs": []
    },
    {
      "cell_type": "code",
      "source": [
        "ten_year_impacted"
      ],
      "metadata": {
        "id": "14J-CnFNy0qc",
        "colab": {
          "base_uri": "https://localhost:8080/",
          "height": 887
        },
        "outputId": "7809a1a1-f5d7-4502-bc7e-17c697c3981c"
      },
      "execution_count": 91,
      "outputs": [
        {
          "output_type": "execute_result",
          "data": {
            "text/plain": [
              "       End Year  District Code             District  School Code  \\\n",
              "572    2,012.00            275     Jefferson County       275620   \n",
              "9048   2,019.00            275     Jefferson County       275155   \n",
              "4210   2,015.00            275     Jefferson County       275033   \n",
              "6580   2,017.00            275     Jefferson County       275155   \n",
              "645    2,012.00            275     Jefferson County       275033   \n",
              "...         ...            ...                  ...          ...   \n",
              "5692   2,016.00            452  Newport Independent       452040   \n",
              "6904   2,017.00            452  Newport Independent       452040   \n",
              "8135   2,018.00            452  Newport Independent       452040   \n",
              "9379   2,019.00            452  Newport Independent       452040   \n",
              "10638  2,022.00            452  Newport Independent       452040   \n",
              "\n",
              "                                    School Level  Proficiency Rate  \\\n",
              "572    Frederick Law Olmsted Academy North    MS             34.00   \n",
              "9048                Marion C. Moore School    HS             31.00   \n",
              "4210                           Valley High    HS             59.00   \n",
              "6580                Marion C. Moore School    HS             45.00   \n",
              "645                            Valley High    HS             31.00   \n",
              "...                                    ...   ...               ...   \n",
              "5692           Newport Intermediate School    ES             52.00   \n",
              "6904           Newport Intermediate School    ES             45.00   \n",
              "8135           Newport Intermediate School    ES             51.00   \n",
              "9379           Newport Intermediate School    ES             44.00   \n",
              "10638          Newport Intermediate School    ES             38.00   \n",
              "\n",
              "           Classification    Rating  Reported Spending per student  \\\n",
              "572     Needs Improvement      *Low                      10,980.00   \n",
              "9048    Needs Improvement  Very Low                      14,030.00   \n",
              "4210    Needs Improvement      *Low                      10,270.00   \n",
              "6580   *Needs Improvement      *Low                      12,230.00   \n",
              "645     Needs Improvement      *Low                      10,290.00   \n",
              "...                   ...       ...                            ...   \n",
              "5692    Needs Improvement       NaN                            NaN   \n",
              "6904                  NaN       NaN                            NaN   \n",
              "8135                  NaN       NaN                            NaN   \n",
              "9379    Needs Improvement  Very Low                            NaN   \n",
              "10638                 NaN       Low                            NaN   \n",
              "\n",
              "       Money Difference per school  Money Difference per student  \\\n",
              "572                    -666,200.00                       -880.00   \n",
              "9048                   -643,000.00                       -290.00   \n",
              "4210                   -634,200.00                       -450.00   \n",
              "6580                   -621,500.00                       -310.00   \n",
              "645                    -551,700.00                       -600.00   \n",
              "...                            ...                           ...   \n",
              "5692                           NaN                           NaN   \n",
              "6904                           NaN                           NaN   \n",
              "8135                           NaN                           NaN   \n",
              "9379                           NaN                           NaN   \n",
              "10638                          NaN                           NaN   \n",
              "\n",
              "       Estimated Spending per student  \n",
              "572                         10,097.00  \n",
              "9048                        13,743.00  \n",
              "4210                         9,822.00  \n",
              "6580                        11,921.00  \n",
              "645                          9,685.00  \n",
              "...                               ...  \n",
              "5692                              NaN  \n",
              "6904                              NaN  \n",
              "8135                              NaN  \n",
              "9379                              NaN  \n",
              "10638                             NaN  \n",
              "\n",
              "[2109 rows x 13 columns]"
            ],
            "text/html": [
              "\n",
              "  <div id=\"df-4ed1ca65-c91d-4246-8d91-636f1ad60720\">\n",
              "    <div class=\"colab-df-container\">\n",
              "      <div>\n",
              "<style scoped>\n",
              "    .dataframe tbody tr th:only-of-type {\n",
              "        vertical-align: middle;\n",
              "    }\n",
              "\n",
              "    .dataframe tbody tr th {\n",
              "        vertical-align: top;\n",
              "    }\n",
              "\n",
              "    .dataframe thead th {\n",
              "        text-align: right;\n",
              "    }\n",
              "</style>\n",
              "<table border=\"1\" class=\"dataframe\">\n",
              "  <thead>\n",
              "    <tr style=\"text-align: right;\">\n",
              "      <th></th>\n",
              "      <th>End Year</th>\n",
              "      <th>District Code</th>\n",
              "      <th>District</th>\n",
              "      <th>School Code</th>\n",
              "      <th>School</th>\n",
              "      <th>Level</th>\n",
              "      <th>Proficiency Rate</th>\n",
              "      <th>Classification</th>\n",
              "      <th>Rating</th>\n",
              "      <th>Reported Spending per student</th>\n",
              "      <th>Money Difference per school</th>\n",
              "      <th>Money Difference per student</th>\n",
              "      <th>Estimated Spending per student</th>\n",
              "    </tr>\n",
              "  </thead>\n",
              "  <tbody>\n",
              "    <tr>\n",
              "      <th>572</th>\n",
              "      <td>2,012.00</td>\n",
              "      <td>275</td>\n",
              "      <td>Jefferson County</td>\n",
              "      <td>275620</td>\n",
              "      <td>Frederick Law Olmsted Academy North</td>\n",
              "      <td>MS</td>\n",
              "      <td>34.00</td>\n",
              "      <td>Needs Improvement</td>\n",
              "      <td>*Low</td>\n",
              "      <td>10,980.00</td>\n",
              "      <td>-666,200.00</td>\n",
              "      <td>-880.00</td>\n",
              "      <td>10,097.00</td>\n",
              "    </tr>\n",
              "    <tr>\n",
              "      <th>9048</th>\n",
              "      <td>2,019.00</td>\n",
              "      <td>275</td>\n",
              "      <td>Jefferson County</td>\n",
              "      <td>275155</td>\n",
              "      <td>Marion C. Moore School</td>\n",
              "      <td>HS</td>\n",
              "      <td>31.00</td>\n",
              "      <td>Needs Improvement</td>\n",
              "      <td>Very Low</td>\n",
              "      <td>14,030.00</td>\n",
              "      <td>-643,000.00</td>\n",
              "      <td>-290.00</td>\n",
              "      <td>13,743.00</td>\n",
              "    </tr>\n",
              "    <tr>\n",
              "      <th>4210</th>\n",
              "      <td>2,015.00</td>\n",
              "      <td>275</td>\n",
              "      <td>Jefferson County</td>\n",
              "      <td>275033</td>\n",
              "      <td>Valley High</td>\n",
              "      <td>HS</td>\n",
              "      <td>59.00</td>\n",
              "      <td>Needs Improvement</td>\n",
              "      <td>*Low</td>\n",
              "      <td>10,270.00</td>\n",
              "      <td>-634,200.00</td>\n",
              "      <td>-450.00</td>\n",
              "      <td>9,822.00</td>\n",
              "    </tr>\n",
              "    <tr>\n",
              "      <th>6580</th>\n",
              "      <td>2,017.00</td>\n",
              "      <td>275</td>\n",
              "      <td>Jefferson County</td>\n",
              "      <td>275155</td>\n",
              "      <td>Marion C. Moore School</td>\n",
              "      <td>HS</td>\n",
              "      <td>45.00</td>\n",
              "      <td>*Needs Improvement</td>\n",
              "      <td>*Low</td>\n",
              "      <td>12,230.00</td>\n",
              "      <td>-621,500.00</td>\n",
              "      <td>-310.00</td>\n",
              "      <td>11,921.00</td>\n",
              "    </tr>\n",
              "    <tr>\n",
              "      <th>645</th>\n",
              "      <td>2,012.00</td>\n",
              "      <td>275</td>\n",
              "      <td>Jefferson County</td>\n",
              "      <td>275033</td>\n",
              "      <td>Valley High</td>\n",
              "      <td>HS</td>\n",
              "      <td>31.00</td>\n",
              "      <td>Needs Improvement</td>\n",
              "      <td>*Low</td>\n",
              "      <td>10,290.00</td>\n",
              "      <td>-551,700.00</td>\n",
              "      <td>-600.00</td>\n",
              "      <td>9,685.00</td>\n",
              "    </tr>\n",
              "    <tr>\n",
              "      <th>...</th>\n",
              "      <td>...</td>\n",
              "      <td>...</td>\n",
              "      <td>...</td>\n",
              "      <td>...</td>\n",
              "      <td>...</td>\n",
              "      <td>...</td>\n",
              "      <td>...</td>\n",
              "      <td>...</td>\n",
              "      <td>...</td>\n",
              "      <td>...</td>\n",
              "      <td>...</td>\n",
              "      <td>...</td>\n",
              "      <td>...</td>\n",
              "    </tr>\n",
              "    <tr>\n",
              "      <th>5692</th>\n",
              "      <td>2,016.00</td>\n",
              "      <td>452</td>\n",
              "      <td>Newport Independent</td>\n",
              "      <td>452040</td>\n",
              "      <td>Newport Intermediate School</td>\n",
              "      <td>ES</td>\n",
              "      <td>52.00</td>\n",
              "      <td>Needs Improvement</td>\n",
              "      <td>NaN</td>\n",
              "      <td>NaN</td>\n",
              "      <td>NaN</td>\n",
              "      <td>NaN</td>\n",
              "      <td>NaN</td>\n",
              "    </tr>\n",
              "    <tr>\n",
              "      <th>6904</th>\n",
              "      <td>2,017.00</td>\n",
              "      <td>452</td>\n",
              "      <td>Newport Independent</td>\n",
              "      <td>452040</td>\n",
              "      <td>Newport Intermediate School</td>\n",
              "      <td>ES</td>\n",
              "      <td>45.00</td>\n",
              "      <td>NaN</td>\n",
              "      <td>NaN</td>\n",
              "      <td>NaN</td>\n",
              "      <td>NaN</td>\n",
              "      <td>NaN</td>\n",
              "      <td>NaN</td>\n",
              "    </tr>\n",
              "    <tr>\n",
              "      <th>8135</th>\n",
              "      <td>2,018.00</td>\n",
              "      <td>452</td>\n",
              "      <td>Newport Independent</td>\n",
              "      <td>452040</td>\n",
              "      <td>Newport Intermediate School</td>\n",
              "      <td>ES</td>\n",
              "      <td>51.00</td>\n",
              "      <td>NaN</td>\n",
              "      <td>NaN</td>\n",
              "      <td>NaN</td>\n",
              "      <td>NaN</td>\n",
              "      <td>NaN</td>\n",
              "      <td>NaN</td>\n",
              "    </tr>\n",
              "    <tr>\n",
              "      <th>9379</th>\n",
              "      <td>2,019.00</td>\n",
              "      <td>452</td>\n",
              "      <td>Newport Independent</td>\n",
              "      <td>452040</td>\n",
              "      <td>Newport Intermediate School</td>\n",
              "      <td>ES</td>\n",
              "      <td>44.00</td>\n",
              "      <td>Needs Improvement</td>\n",
              "      <td>Very Low</td>\n",
              "      <td>NaN</td>\n",
              "      <td>NaN</td>\n",
              "      <td>NaN</td>\n",
              "      <td>NaN</td>\n",
              "    </tr>\n",
              "    <tr>\n",
              "      <th>10638</th>\n",
              "      <td>2,022.00</td>\n",
              "      <td>452</td>\n",
              "      <td>Newport Independent</td>\n",
              "      <td>452040</td>\n",
              "      <td>Newport Intermediate School</td>\n",
              "      <td>ES</td>\n",
              "      <td>38.00</td>\n",
              "      <td>NaN</td>\n",
              "      <td>Low</td>\n",
              "      <td>NaN</td>\n",
              "      <td>NaN</td>\n",
              "      <td>NaN</td>\n",
              "      <td>NaN</td>\n",
              "    </tr>\n",
              "  </tbody>\n",
              "</table>\n",
              "<p>2109 rows × 13 columns</p>\n",
              "</div>\n",
              "      <button class=\"colab-df-convert\" onclick=\"convertToInteractive('df-4ed1ca65-c91d-4246-8d91-636f1ad60720')\"\n",
              "              title=\"Convert this dataframe to an interactive table.\"\n",
              "              style=\"display:none;\">\n",
              "        \n",
              "  <svg xmlns=\"http://www.w3.org/2000/svg\" height=\"24px\"viewBox=\"0 0 24 24\"\n",
              "       width=\"24px\">\n",
              "    <path d=\"M0 0h24v24H0V0z\" fill=\"none\"/>\n",
              "    <path d=\"M18.56 5.44l.94 2.06.94-2.06 2.06-.94-2.06-.94-.94-2.06-.94 2.06-2.06.94zm-11 1L8.5 8.5l.94-2.06 2.06-.94-2.06-.94L8.5 2.5l-.94 2.06-2.06.94zm10 10l.94 2.06.94-2.06 2.06-.94-2.06-.94-.94-2.06-.94 2.06-2.06.94z\"/><path d=\"M17.41 7.96l-1.37-1.37c-.4-.4-.92-.59-1.43-.59-.52 0-1.04.2-1.43.59L10.3 9.45l-7.72 7.72c-.78.78-.78 2.05 0 2.83L4 21.41c.39.39.9.59 1.41.59.51 0 1.02-.2 1.41-.59l7.78-7.78 2.81-2.81c.8-.78.8-2.07 0-2.86zM5.41 20L4 18.59l7.72-7.72 1.47 1.35L5.41 20z\"/>\n",
              "  </svg>\n",
              "      </button>\n",
              "      \n",
              "  <style>\n",
              "    .colab-df-container {\n",
              "      display:flex;\n",
              "      flex-wrap:wrap;\n",
              "      gap: 12px;\n",
              "    }\n",
              "\n",
              "    .colab-df-convert {\n",
              "      background-color: #E8F0FE;\n",
              "      border: none;\n",
              "      border-radius: 50%;\n",
              "      cursor: pointer;\n",
              "      display: none;\n",
              "      fill: #1967D2;\n",
              "      height: 32px;\n",
              "      padding: 0 0 0 0;\n",
              "      width: 32px;\n",
              "    }\n",
              "\n",
              "    .colab-df-convert:hover {\n",
              "      background-color: #E2EBFA;\n",
              "      box-shadow: 0px 1px 2px rgba(60, 64, 67, 0.3), 0px 1px 3px 1px rgba(60, 64, 67, 0.15);\n",
              "      fill: #174EA6;\n",
              "    }\n",
              "\n",
              "    [theme=dark] .colab-df-convert {\n",
              "      background-color: #3B4455;\n",
              "      fill: #D2E3FC;\n",
              "    }\n",
              "\n",
              "    [theme=dark] .colab-df-convert:hover {\n",
              "      background-color: #434B5C;\n",
              "      box-shadow: 0px 1px 3px 1px rgba(0, 0, 0, 0.15);\n",
              "      filter: drop-shadow(0px 1px 2px rgba(0, 0, 0, 0.3));\n",
              "      fill: #FFFFFF;\n",
              "    }\n",
              "  </style>\n",
              "\n",
              "      <script>\n",
              "        const buttonEl =\n",
              "          document.querySelector('#df-4ed1ca65-c91d-4246-8d91-636f1ad60720 button.colab-df-convert');\n",
              "        buttonEl.style.display =\n",
              "          google.colab.kernel.accessAllowed ? 'block' : 'none';\n",
              "\n",
              "        async function convertToInteractive(key) {\n",
              "          const element = document.querySelector('#df-4ed1ca65-c91d-4246-8d91-636f1ad60720');\n",
              "          const dataTable =\n",
              "            await google.colab.kernel.invokeFunction('convertToInteractive',\n",
              "                                                     [key], {});\n",
              "          if (!dataTable) return;\n",
              "\n",
              "          const docLinkHtml = 'Like what you see? Visit the ' +\n",
              "            '<a target=\"_blank\" href=https://colab.research.google.com/notebooks/data_table.ipynb>data table notebook</a>'\n",
              "            + ' to learn more about interactive tables.';\n",
              "          element.innerHTML = '';\n",
              "          dataTable['output_type'] = 'display_data';\n",
              "          await google.colab.output.renderOutput(dataTable, element);\n",
              "          const docLink = document.createElement('div');\n",
              "          docLink.innerHTML = docLinkHtml;\n",
              "          element.appendChild(docLink);\n",
              "        }\n",
              "      </script>\n",
              "    </div>\n",
              "  </div>\n",
              "  "
            ]
          },
          "metadata": {},
          "execution_count": 91
        }
      ]
    },
    {
      "cell_type": "code",
      "source": [],
      "metadata": {
        "id": "BXKmJRNavgBQ"
      },
      "execution_count": 91,
      "outputs": []
    },
    {
      "cell_type": "code",
      "source": [],
      "metadata": {
        "id": "OTv_GQtAvgEH"
      },
      "execution_count": 91,
      "outputs": []
    }
  ]
}