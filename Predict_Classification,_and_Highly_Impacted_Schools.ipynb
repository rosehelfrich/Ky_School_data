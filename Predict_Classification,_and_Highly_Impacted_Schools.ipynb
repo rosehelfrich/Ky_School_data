{
  "nbformat": 4,
  "nbformat_minor": 0,
  "metadata": {
    "colab": {
      "provenance": [],
      "collapsed_sections": [
        "xpakTgq2e2WC"
      ],
      "toc_visible": true,
      "authorship_tag": "ABX9TyNJO0OPocE5xWZvMQZ1rXAf",
      "include_colab_link": true
    },
    "kernelspec": {
      "name": "python3",
      "display_name": "Python 3"
    },
    "language_info": {
      "name": "python"
    }
  },
  "cells": [
    {
      "cell_type": "markdown",
      "metadata": {
        "id": "view-in-github",
        "colab_type": "text"
      },
      "source": [
        "<a href=\"https://colab.research.google.com/github/rosehelfrich/Ky_School_data/blob/main/Predict_Classification%2C_and_Highly_Impacted_Schools.ipynb\" target=\"_parent\"><img src=\"https://colab.research.google.com/assets/colab-badge.svg\" alt=\"Open In Colab\"/></a>"
      ]
    },
    {
      "cell_type": "code",
      "execution_count": 1,
      "metadata": {
        "id": "mPbt9W2-tujY"
      },
      "outputs": [],
      "source": [
        "import pandas as pd\n",
        "import numpy as np\n",
        "import tensorflow as tf\n",
        "\n",
        "import seaborn as sns\n",
        "import matplotlib.pyplot as plt"
      ]
    },
    {
      "cell_type": "code",
      "source": [
        "from google.colab import drive\n",
        "drive.mount('/content/drive')"
      ],
      "metadata": {
        "colab": {
          "base_uri": "https://localhost:8080/"
        },
        "id": "kl7kadJNt5Pr",
        "outputId": "56c6c2d7-693a-4645-bc7d-f69c1a01d355"
      },
      "execution_count": 2,
      "outputs": [
        {
          "output_type": "stream",
          "name": "stdout",
          "text": [
            "Drive already mounted at /content/drive; to attempt to forcibly remount, call drive.mount(\"/content/drive\", force_remount=True).\n"
          ]
        }
      ]
    },
    {
      "cell_type": "code",
      "source": [
        "# Column / Row options\n",
        "pd.options.display.max_columns = None\n",
        "pd.options.display.max_rows = 20\n",
        "\n",
        "# Two decimal places and the thousands separator\n",
        "pd.options.display.float_format = '{:,.2f}'.format"
      ],
      "metadata": {
        "id": "0PIbEaZVE2sd"
      },
      "execution_count": 3,
      "outputs": []
    },
    {
      "cell_type": "markdown",
      "source": [
        "# Merge scores with KY df"
      ],
      "metadata": {
        "id": "VZvOAbpDsZ3n"
      }
    },
    {
      "cell_type": "code",
      "source": [
        "df_scores = pd.read_csv('/content/drive/MyDrive/Colab Data/KY EPSB/All Years/df_scores.csv')"
      ],
      "metadata": {
        "id": "rQt8IcwgE22V"
      },
      "execution_count": 4,
      "outputs": []
    },
    {
      "cell_type": "code",
      "source": [
        "ky_spending_df = pd.read_csv('/content/drive/MyDrive/Colab Data/KY EPSB/All Years/published_ky_df_all.csv')"
      ],
      "metadata": {
        "id": "BGo2xpQoaqro"
      },
      "execution_count": 5,
      "outputs": []
    },
    {
      "cell_type": "code",
      "source": [
        "ky_spending_df = ky_spending_df.loc[:,['End Year', 'School Code', 'Reported Spending per student', 'Money Difference per school',\n",
        "       'Money Difference per student', 'Estimated Spending per student']]"
      ],
      "metadata": {
        "id": "J47qxVBwa0S3"
      },
      "execution_count": 6,
      "outputs": []
    },
    {
      "cell_type": "code",
      "source": [
        "df = pd.merge(df_scores, ky_spending_df, on=['End Year', 'School Code'], how='left')"
      ],
      "metadata": {
        "id": "EEpaGphGQyXx"
      },
      "execution_count": 7,
      "outputs": []
    },
    {
      "cell_type": "code",
      "source": [
        "df.drop_duplicates(inplace=True)\n",
        "\n",
        "# Reset index\n",
        "df.reset_index(drop=True, inplace=True)\n",
        "\n",
        "df.index"
      ],
      "metadata": {
        "id": "P3F23OHZiSji",
        "colab": {
          "base_uri": "https://localhost:8080/"
        },
        "outputId": "0cc45ba2-485a-41b4-f0f8-5dce3a2d28d8"
      },
      "execution_count": 8,
      "outputs": [
        {
          "output_type": "execute_result",
          "data": {
            "text/plain": [
              "RangeIndex(start=0, stop=9892, step=1)"
            ]
          },
          "metadata": {},
          "execution_count": 8
        }
      ]
    },
    {
      "cell_type": "code",
      "source": [
        "columns_df = ['End Year', 'District Code', 'School Code', 'Proficiency Rate', \n",
        "              'Reported Spending per student', 'Money Difference per school', \n",
        "              'Money Difference per student', 'Estimated Spending per student']\n",
        "\n",
        "for column in columns_df:\n",
        "  df = df.round({column:0})\n",
        "  df[column] = df[column].astype(int, errors='ignore')"
      ],
      "metadata": {
        "id": "8R5fkpGrgW3D"
      },
      "execution_count": 9,
      "outputs": []
    },
    {
      "cell_type": "code",
      "source": [
        "df"
      ],
      "metadata": {
        "id": "z_qni_Q358qD",
        "colab": {
          "base_uri": "https://localhost:8080/",
          "height": 974
        },
        "outputId": "7c9d0225-a7cc-442c-b8d8-ba44e416d4af"
      },
      "execution_count": 10,
      "outputs": [
        {
          "output_type": "execute_result",
          "data": {
            "text/plain": [
              "      End Year  District Code         District  School Code  \\\n",
              "0         2012              1     Adair County         1010   \n",
              "1         2013              1     Adair County         1010   \n",
              "2         2014              1     Adair County         1010   \n",
              "3         2015              1     Adair County         1010   \n",
              "4         2016              1     Adair County         1010   \n",
              "...        ...            ...              ...          ...   \n",
              "9887      2016            601  Woodford County       601120   \n",
              "9888      2017            601  Woodford County       601120   \n",
              "9889      2018            601  Woodford County       601120   \n",
              "9890      2019            601  Woodford County       601120   \n",
              "9891      2022            601  Woodford County       601120   \n",
              "\n",
              "                           School  Proficiency Rate          KY Rank/Rating  \\\n",
              "0        Adair County High School                55                      57   \n",
              "1        Adair County High School                54                      48   \n",
              "2        Adair County High School                69                      65   \n",
              "3        Adair County High School                71                      73   \n",
              "4        Adair County High School                72  Proficient/Progressing   \n",
              "...                           ...               ...                     ...   \n",
              "9887  Northside Elementary School                60       Needs Improvement   \n",
              "9888  Northside Elementary School                75                     NaN   \n",
              "9889  Northside Elementary School                73                     NaN   \n",
              "9890  Northside Elementary School                76                    High   \n",
              "9891  Northside Elementary School                68                  Medium   \n",
              "\n",
              "                     Classification  Reported Spending per student  \\\n",
              "0                 Needs Improvement                       6,457.00   \n",
              "1                 Needs Improvement                       6,377.00   \n",
              "2     Needs Improvement/Progressing                       6,970.00   \n",
              "3            Proficient/Progressing                       9,486.00   \n",
              "4                               NaN                      10,270.00   \n",
              "...                             ...                            ...   \n",
              "9887                            NaN                      12,046.00   \n",
              "9888                            NaN                       9,940.00   \n",
              "9889                            NaN                      13,641.00   \n",
              "9890                            NaN                      11,865.00   \n",
              "9891                            NaN                            NaN   \n",
              "\n",
              "      Money Difference per school  Money Difference per student  \\\n",
              "0                      -36,414.00                        -52.00   \n",
              "1                      -37,044.00                        -49.00   \n",
              "2                      -13,146.00                        -18.00   \n",
              "3                      -42,096.00                        -55.00   \n",
              "4                      -19,228.00                        -25.00   \n",
              "...                           ...                           ...   \n",
              "9887                    34,017.00                        107.00   \n",
              "9888                    17,446.00                         53.00   \n",
              "9889                    51,768.00                        150.00   \n",
              "9890                    48,399.00                        142.00   \n",
              "9891                          NaN                           NaN   \n",
              "\n",
              "      Estimated Spending per student  \n",
              "0                           6,405.00  \n",
              "1                           6,328.00  \n",
              "2                           6,952.00  \n",
              "3                           9,431.00  \n",
              "4                          10,245.00  \n",
              "...                              ...  \n",
              "9887                       12,153.00  \n",
              "9888                        9,993.00  \n",
              "9889                       13,791.00  \n",
              "9890                       12,007.00  \n",
              "9891                             NaN  \n",
              "\n",
              "[9892 rows x 12 columns]"
            ],
            "text/html": [
              "\n",
              "  <div id=\"df-ea32934e-f5d9-46b2-bb6b-fe4a0a3041f6\">\n",
              "    <div class=\"colab-df-container\">\n",
              "      <div>\n",
              "<style scoped>\n",
              "    .dataframe tbody tr th:only-of-type {\n",
              "        vertical-align: middle;\n",
              "    }\n",
              "\n",
              "    .dataframe tbody tr th {\n",
              "        vertical-align: top;\n",
              "    }\n",
              "\n",
              "    .dataframe thead th {\n",
              "        text-align: right;\n",
              "    }\n",
              "</style>\n",
              "<table border=\"1\" class=\"dataframe\">\n",
              "  <thead>\n",
              "    <tr style=\"text-align: right;\">\n",
              "      <th></th>\n",
              "      <th>End Year</th>\n",
              "      <th>District Code</th>\n",
              "      <th>District</th>\n",
              "      <th>School Code</th>\n",
              "      <th>School</th>\n",
              "      <th>Proficiency Rate</th>\n",
              "      <th>KY Rank/Rating</th>\n",
              "      <th>Classification</th>\n",
              "      <th>Reported Spending per student</th>\n",
              "      <th>Money Difference per school</th>\n",
              "      <th>Money Difference per student</th>\n",
              "      <th>Estimated Spending per student</th>\n",
              "    </tr>\n",
              "  </thead>\n",
              "  <tbody>\n",
              "    <tr>\n",
              "      <th>0</th>\n",
              "      <td>2012</td>\n",
              "      <td>1</td>\n",
              "      <td>Adair County</td>\n",
              "      <td>1010</td>\n",
              "      <td>Adair County High School</td>\n",
              "      <td>55</td>\n",
              "      <td>57</td>\n",
              "      <td>Needs Improvement</td>\n",
              "      <td>6,457.00</td>\n",
              "      <td>-36,414.00</td>\n",
              "      <td>-52.00</td>\n",
              "      <td>6,405.00</td>\n",
              "    </tr>\n",
              "    <tr>\n",
              "      <th>1</th>\n",
              "      <td>2013</td>\n",
              "      <td>1</td>\n",
              "      <td>Adair County</td>\n",
              "      <td>1010</td>\n",
              "      <td>Adair County High School</td>\n",
              "      <td>54</td>\n",
              "      <td>48</td>\n",
              "      <td>Needs Improvement</td>\n",
              "      <td>6,377.00</td>\n",
              "      <td>-37,044.00</td>\n",
              "      <td>-49.00</td>\n",
              "      <td>6,328.00</td>\n",
              "    </tr>\n",
              "    <tr>\n",
              "      <th>2</th>\n",
              "      <td>2014</td>\n",
              "      <td>1</td>\n",
              "      <td>Adair County</td>\n",
              "      <td>1010</td>\n",
              "      <td>Adair County High School</td>\n",
              "      <td>69</td>\n",
              "      <td>65</td>\n",
              "      <td>Needs Improvement/Progressing</td>\n",
              "      <td>6,970.00</td>\n",
              "      <td>-13,146.00</td>\n",
              "      <td>-18.00</td>\n",
              "      <td>6,952.00</td>\n",
              "    </tr>\n",
              "    <tr>\n",
              "      <th>3</th>\n",
              "      <td>2015</td>\n",
              "      <td>1</td>\n",
              "      <td>Adair County</td>\n",
              "      <td>1010</td>\n",
              "      <td>Adair County High School</td>\n",
              "      <td>71</td>\n",
              "      <td>73</td>\n",
              "      <td>Proficient/Progressing</td>\n",
              "      <td>9,486.00</td>\n",
              "      <td>-42,096.00</td>\n",
              "      <td>-55.00</td>\n",
              "      <td>9,431.00</td>\n",
              "    </tr>\n",
              "    <tr>\n",
              "      <th>4</th>\n",
              "      <td>2016</td>\n",
              "      <td>1</td>\n",
              "      <td>Adair County</td>\n",
              "      <td>1010</td>\n",
              "      <td>Adair County High School</td>\n",
              "      <td>72</td>\n",
              "      <td>Proficient/Progressing</td>\n",
              "      <td>NaN</td>\n",
              "      <td>10,270.00</td>\n",
              "      <td>-19,228.00</td>\n",
              "      <td>-25.00</td>\n",
              "      <td>10,245.00</td>\n",
              "    </tr>\n",
              "    <tr>\n",
              "      <th>...</th>\n",
              "      <td>...</td>\n",
              "      <td>...</td>\n",
              "      <td>...</td>\n",
              "      <td>...</td>\n",
              "      <td>...</td>\n",
              "      <td>...</td>\n",
              "      <td>...</td>\n",
              "      <td>...</td>\n",
              "      <td>...</td>\n",
              "      <td>...</td>\n",
              "      <td>...</td>\n",
              "      <td>...</td>\n",
              "    </tr>\n",
              "    <tr>\n",
              "      <th>9887</th>\n",
              "      <td>2016</td>\n",
              "      <td>601</td>\n",
              "      <td>Woodford County</td>\n",
              "      <td>601120</td>\n",
              "      <td>Northside Elementary School</td>\n",
              "      <td>60</td>\n",
              "      <td>Needs Improvement</td>\n",
              "      <td>NaN</td>\n",
              "      <td>12,046.00</td>\n",
              "      <td>34,017.00</td>\n",
              "      <td>107.00</td>\n",
              "      <td>12,153.00</td>\n",
              "    </tr>\n",
              "    <tr>\n",
              "      <th>9888</th>\n",
              "      <td>2017</td>\n",
              "      <td>601</td>\n",
              "      <td>Woodford County</td>\n",
              "      <td>601120</td>\n",
              "      <td>Northside Elementary School</td>\n",
              "      <td>75</td>\n",
              "      <td>NaN</td>\n",
              "      <td>NaN</td>\n",
              "      <td>9,940.00</td>\n",
              "      <td>17,446.00</td>\n",
              "      <td>53.00</td>\n",
              "      <td>9,993.00</td>\n",
              "    </tr>\n",
              "    <tr>\n",
              "      <th>9889</th>\n",
              "      <td>2018</td>\n",
              "      <td>601</td>\n",
              "      <td>Woodford County</td>\n",
              "      <td>601120</td>\n",
              "      <td>Northside Elementary School</td>\n",
              "      <td>73</td>\n",
              "      <td>NaN</td>\n",
              "      <td>NaN</td>\n",
              "      <td>13,641.00</td>\n",
              "      <td>51,768.00</td>\n",
              "      <td>150.00</td>\n",
              "      <td>13,791.00</td>\n",
              "    </tr>\n",
              "    <tr>\n",
              "      <th>9890</th>\n",
              "      <td>2019</td>\n",
              "      <td>601</td>\n",
              "      <td>Woodford County</td>\n",
              "      <td>601120</td>\n",
              "      <td>Northside Elementary School</td>\n",
              "      <td>76</td>\n",
              "      <td>High</td>\n",
              "      <td>NaN</td>\n",
              "      <td>11,865.00</td>\n",
              "      <td>48,399.00</td>\n",
              "      <td>142.00</td>\n",
              "      <td>12,007.00</td>\n",
              "    </tr>\n",
              "    <tr>\n",
              "      <th>9891</th>\n",
              "      <td>2022</td>\n",
              "      <td>601</td>\n",
              "      <td>Woodford County</td>\n",
              "      <td>601120</td>\n",
              "      <td>Northside Elementary School</td>\n",
              "      <td>68</td>\n",
              "      <td>Medium</td>\n",
              "      <td>NaN</td>\n",
              "      <td>NaN</td>\n",
              "      <td>NaN</td>\n",
              "      <td>NaN</td>\n",
              "      <td>NaN</td>\n",
              "    </tr>\n",
              "  </tbody>\n",
              "</table>\n",
              "<p>9892 rows × 12 columns</p>\n",
              "</div>\n",
              "      <button class=\"colab-df-convert\" onclick=\"convertToInteractive('df-ea32934e-f5d9-46b2-bb6b-fe4a0a3041f6')\"\n",
              "              title=\"Convert this dataframe to an interactive table.\"\n",
              "              style=\"display:none;\">\n",
              "        \n",
              "  <svg xmlns=\"http://www.w3.org/2000/svg\" height=\"24px\"viewBox=\"0 0 24 24\"\n",
              "       width=\"24px\">\n",
              "    <path d=\"M0 0h24v24H0V0z\" fill=\"none\"/>\n",
              "    <path d=\"M18.56 5.44l.94 2.06.94-2.06 2.06-.94-2.06-.94-.94-2.06-.94 2.06-2.06.94zm-11 1L8.5 8.5l.94-2.06 2.06-.94-2.06-.94L8.5 2.5l-.94 2.06-2.06.94zm10 10l.94 2.06.94-2.06 2.06-.94-2.06-.94-.94-2.06-.94 2.06-2.06.94z\"/><path d=\"M17.41 7.96l-1.37-1.37c-.4-.4-.92-.59-1.43-.59-.52 0-1.04.2-1.43.59L10.3 9.45l-7.72 7.72c-.78.78-.78 2.05 0 2.83L4 21.41c.39.39.9.59 1.41.59.51 0 1.02-.2 1.41-.59l7.78-7.78 2.81-2.81c.8-.78.8-2.07 0-2.86zM5.41 20L4 18.59l7.72-7.72 1.47 1.35L5.41 20z\"/>\n",
              "  </svg>\n",
              "      </button>\n",
              "      \n",
              "  <style>\n",
              "    .colab-df-container {\n",
              "      display:flex;\n",
              "      flex-wrap:wrap;\n",
              "      gap: 12px;\n",
              "    }\n",
              "\n",
              "    .colab-df-convert {\n",
              "      background-color: #E8F0FE;\n",
              "      border: none;\n",
              "      border-radius: 50%;\n",
              "      cursor: pointer;\n",
              "      display: none;\n",
              "      fill: #1967D2;\n",
              "      height: 32px;\n",
              "      padding: 0 0 0 0;\n",
              "      width: 32px;\n",
              "    }\n",
              "\n",
              "    .colab-df-convert:hover {\n",
              "      background-color: #E2EBFA;\n",
              "      box-shadow: 0px 1px 2px rgba(60, 64, 67, 0.3), 0px 1px 3px 1px rgba(60, 64, 67, 0.15);\n",
              "      fill: #174EA6;\n",
              "    }\n",
              "\n",
              "    [theme=dark] .colab-df-convert {\n",
              "      background-color: #3B4455;\n",
              "      fill: #D2E3FC;\n",
              "    }\n",
              "\n",
              "    [theme=dark] .colab-df-convert:hover {\n",
              "      background-color: #434B5C;\n",
              "      box-shadow: 0px 1px 3px 1px rgba(0, 0, 0, 0.15);\n",
              "      filter: drop-shadow(0px 1px 2px rgba(0, 0, 0, 0.3));\n",
              "      fill: #FFFFFF;\n",
              "    }\n",
              "  </style>\n",
              "\n",
              "      <script>\n",
              "        const buttonEl =\n",
              "          document.querySelector('#df-ea32934e-f5d9-46b2-bb6b-fe4a0a3041f6 button.colab-df-convert');\n",
              "        buttonEl.style.display =\n",
              "          google.colab.kernel.accessAllowed ? 'block' : 'none';\n",
              "\n",
              "        async function convertToInteractive(key) {\n",
              "          const element = document.querySelector('#df-ea32934e-f5d9-46b2-bb6b-fe4a0a3041f6');\n",
              "          const dataTable =\n",
              "            await google.colab.kernel.invokeFunction('convertToInteractive',\n",
              "                                                     [key], {});\n",
              "          if (!dataTable) return;\n",
              "\n",
              "          const docLinkHtml = 'Like what you see? Visit the ' +\n",
              "            '<a target=\"_blank\" href=https://colab.research.google.com/notebooks/data_table.ipynb>data table notebook</a>'\n",
              "            + ' to learn more about interactive tables.';\n",
              "          element.innerHTML = '';\n",
              "          dataTable['output_type'] = 'display_data';\n",
              "          await google.colab.output.renderOutput(dataTable, element);\n",
              "          const docLink = document.createElement('div');\n",
              "          docLink.innerHTML = docLinkHtml;\n",
              "          element.appendChild(docLink);\n",
              "        }\n",
              "      </script>\n",
              "    </div>\n",
              "  </div>\n",
              "  "
            ]
          },
          "metadata": {},
          "execution_count": 10
        }
      ]
    },
    {
      "cell_type": "code",
      "source": [
        "df.info()"
      ],
      "metadata": {
        "colab": {
          "base_uri": "https://localhost:8080/"
        },
        "id": "v-pdUJB2QylF",
        "outputId": "d0936c82-4c3f-4416-c3ef-f2d4e7042d0c"
      },
      "execution_count": 11,
      "outputs": [
        {
          "output_type": "stream",
          "name": "stdout",
          "text": [
            "<class 'pandas.core.frame.DataFrame'>\n",
            "RangeIndex: 9892 entries, 0 to 9891\n",
            "Data columns (total 12 columns):\n",
            " #   Column                          Non-Null Count  Dtype  \n",
            "---  ------                          --------------  -----  \n",
            " 0   End Year                        9892 non-null   int64  \n",
            " 1   District Code                   9892 non-null   int64  \n",
            " 2   District                        9892 non-null   object \n",
            " 3   School Code                     9892 non-null   int64  \n",
            " 4   School                          9892 non-null   object \n",
            " 5   Proficiency Rate                9892 non-null   int64  \n",
            " 6   KY Rank/Rating                  7673 non-null   object \n",
            " 7   Classification                  4309 non-null   object \n",
            " 8   Reported Spending per student   8637 non-null   float64\n",
            " 9   Money Difference per school     8637 non-null   float64\n",
            " 10  Money Difference per student    8637 non-null   float64\n",
            " 11  Estimated Spending per student  8637 non-null   float64\n",
            "dtypes: float64(4), int64(4), object(4)\n",
            "memory usage: 927.5+ KB\n"
          ]
        }
      ]
    },
    {
      "cell_type": "code",
      "source": [],
      "metadata": {
        "id": "bPpdwu7swwYx"
      },
      "execution_count": 11,
      "outputs": []
    },
    {
      "cell_type": "markdown",
      "source": [
        "# Predict classification "
      ],
      "metadata": {
        "id": "Nc5nEWiItzSE"
      }
    },
    {
      "cell_type": "code",
      "source": [
        "# from sklearn import preprocessing\n",
        "from sklearn.preprocessing import StandardScaler\n",
        "from sklearn.model_selection import train_test_split"
      ],
      "metadata": {
        "id": "9v137r5eYtAL"
      },
      "execution_count": 12,
      "outputs": []
    },
    {
      "cell_type": "code",
      "source": [
        "predict_df = df.copy()"
      ],
      "metadata": {
        "id": "ENpjqqJnyK1j"
      },
      "execution_count": 13,
      "outputs": []
    },
    {
      "cell_type": "code",
      "source": [
        "# Use replace to take out \"/Progressing\"\n",
        "predict_df.replace('Distinguished/Progressing', 'Distinguished', inplace=True)\n",
        "predict_df.replace('Proficient/Progressing', 'Proficient', inplace=True)\n",
        "predict_df.replace('Needs Improvement/Progressing', 'Needs Improvement', inplace=True)\n",
        "\n",
        "\n",
        "# In the Ky Rank column, make this common language.\n",
        "predict_df.replace('Very High', 'Distinguished', inplace=True)\n",
        "predict_df.replace('High', 'Distinguished', inplace=True)\n",
        "predict_df.replace('Medium', 'Proficient', inplace=True)\n",
        "predict_df.replace('Low', 'Needs Improvement', inplace=True)\n",
        "predict_df.replace('Very Low', 'Needs Improvement', inplace=True)"
      ],
      "metadata": {
        "id": "byqfg-RBtyBp"
      },
      "execution_count": 14,
      "outputs": []
    },
    {
      "cell_type": "code",
      "source": [
        "predict_df['Proficiency Rate'] = predict_df['Proficiency Rate'].astype(int)"
      ],
      "metadata": {
        "id": "Y0HAyGfXeuTF"
      },
      "execution_count": 15,
      "outputs": []
    },
    {
      "cell_type": "code",
      "source": [
        "# Modify the Ky Rank / Rating column so that it contains only number values\n",
        "# Put the string values into the Classification column \n",
        "for i in predict_df.index:\n",
        "  if predict_df['KY Rank/Rating'][i] == 'Distinguished':\n",
        "    predict_df.at[i,'Classification'] = str('Distinguished')\n",
        "  elif predict_df['KY Rank/Rating'][i] == 'Proficient':\n",
        "    predict_df.at[i,'Classification'] = str('Proficient')\n",
        "  elif predict_df['KY Rank/Rating'][i] == 'Needs Improvement':\n",
        "    predict_df.at[i,'Classification'] = str('Needs Improvement')\n"
      ],
      "metadata": {
        "id": "l9Uko4QkPhBf"
      },
      "execution_count": 16,
      "outputs": []
    },
    {
      "cell_type": "code",
      "source": [
        "predict_df.drop(['KY Rank/Rating'], axis=1, inplace=True)"
      ],
      "metadata": {
        "id": "vCjuxKnHpvDX"
      },
      "execution_count": 17,
      "outputs": []
    },
    {
      "cell_type": "code",
      "source": [
        "predict_df = predict_df.round({'Reported Spending per student': -1, 'Money Difference per school': -2, \n",
        "                               'Money Difference per student':-1, 'Estimated Spending per student': 1})"
      ],
      "metadata": {
        "id": "3DmLQUkCfewZ"
      },
      "execution_count": 18,
      "outputs": []
    },
    {
      "cell_type": "code",
      "source": [
        "unscaled_df = predict_df.copy()"
      ],
      "metadata": {
        "id": "OxHPfwd3Tob7"
      },
      "execution_count": 19,
      "outputs": []
    },
    {
      "cell_type": "code",
      "source": [
        "unscaled_df.drop(['District', 'District Code', 'School Code', 'School', 'Money Difference per student', \n",
        "                  'Estimated Spending per student'], axis=1, inplace=True)"
      ],
      "metadata": {
        "id": "qV1HGb3IKEK9"
      },
      "execution_count": 20,
      "outputs": []
    },
    {
      "cell_type": "code",
      "source": [
        "unscaled_df.dropna(inplace=True) #here\n",
        "unscaled_df.reset_index(drop=True, inplace=True)"
      ],
      "metadata": {
        "id": "JTdatzX5ne4_"
      },
      "execution_count": 21,
      "outputs": []
    },
    {
      "cell_type": "code",
      "source": [
        "# Reorder columns\n",
        "\n",
        "unscaled_df = unscaled_df[['End Year', 'Proficiency Rate', 'Reported Spending per student', 'Money Difference per school', 'Classification']]"
      ],
      "metadata": {
        "id": "_LLQrkTDvrrj"
      },
      "execution_count": 22,
      "outputs": []
    },
    {
      "cell_type": "code",
      "source": [
        "unscaled_df['Classification'] = unscaled_df['Classification'].map({'Distinguished': 0, 'Proficient':1, 'Needs Improvement':2})"
      ],
      "metadata": {
        "id": "vXmUSiiwyQz6"
      },
      "execution_count": 23,
      "outputs": []
    },
    {
      "cell_type": "code",
      "source": [
        "unscaled_df[['End Year', 'Proficiency Rate', 'Reported Spending per student', \n",
        "             'Money Difference per school', 'Classification']]"
      ],
      "metadata": {
        "colab": {
          "base_uri": "https://localhost:8080/",
          "height": 424
        },
        "id": "32plM5q3wQr4",
        "outputId": "891500e1-10a6-4d34-ecf4-64209ec5ffee"
      },
      "execution_count": 24,
      "outputs": [
        {
          "output_type": "execute_result",
          "data": {
            "text/plain": [
              "      End Year  Proficiency Rate  Reported Spending per student  \\\n",
              "0         2012                55                       6,460.00   \n",
              "1         2013                54                       6,380.00   \n",
              "2         2014                69                       6,970.00   \n",
              "3         2015                71                       9,490.00   \n",
              "4         2016                72                      10,270.00   \n",
              "...        ...               ...                            ...   \n",
              "6414      2013                63                      11,970.00   \n",
              "6415      2014                71                      11,210.00   \n",
              "6416      2015                70                      12,260.00   \n",
              "6417      2016                60                      12,050.00   \n",
              "6418      2019                76                      11,860.00   \n",
              "\n",
              "      Money Difference per school  Classification  \n",
              "0                      -36,400.00               2  \n",
              "1                      -37,000.00               2  \n",
              "2                      -13,100.00               2  \n",
              "3                      -42,100.00               1  \n",
              "4                      -19,200.00               1  \n",
              "...                           ...             ...  \n",
              "6414                    66,200.00               1  \n",
              "6415                    43,600.00               1  \n",
              "6416                    33,000.00               1  \n",
              "6417                    34,000.00               2  \n",
              "6418                    48,400.00               0  \n",
              "\n",
              "[6419 rows x 5 columns]"
            ],
            "text/html": [
              "\n",
              "  <div id=\"df-1fa75f38-079d-4826-b4fc-f6ccbe9af04b\">\n",
              "    <div class=\"colab-df-container\">\n",
              "      <div>\n",
              "<style scoped>\n",
              "    .dataframe tbody tr th:only-of-type {\n",
              "        vertical-align: middle;\n",
              "    }\n",
              "\n",
              "    .dataframe tbody tr th {\n",
              "        vertical-align: top;\n",
              "    }\n",
              "\n",
              "    .dataframe thead th {\n",
              "        text-align: right;\n",
              "    }\n",
              "</style>\n",
              "<table border=\"1\" class=\"dataframe\">\n",
              "  <thead>\n",
              "    <tr style=\"text-align: right;\">\n",
              "      <th></th>\n",
              "      <th>End Year</th>\n",
              "      <th>Proficiency Rate</th>\n",
              "      <th>Reported Spending per student</th>\n",
              "      <th>Money Difference per school</th>\n",
              "      <th>Classification</th>\n",
              "    </tr>\n",
              "  </thead>\n",
              "  <tbody>\n",
              "    <tr>\n",
              "      <th>0</th>\n",
              "      <td>2012</td>\n",
              "      <td>55</td>\n",
              "      <td>6,460.00</td>\n",
              "      <td>-36,400.00</td>\n",
              "      <td>2</td>\n",
              "    </tr>\n",
              "    <tr>\n",
              "      <th>1</th>\n",
              "      <td>2013</td>\n",
              "      <td>54</td>\n",
              "      <td>6,380.00</td>\n",
              "      <td>-37,000.00</td>\n",
              "      <td>2</td>\n",
              "    </tr>\n",
              "    <tr>\n",
              "      <th>2</th>\n",
              "      <td>2014</td>\n",
              "      <td>69</td>\n",
              "      <td>6,970.00</td>\n",
              "      <td>-13,100.00</td>\n",
              "      <td>2</td>\n",
              "    </tr>\n",
              "    <tr>\n",
              "      <th>3</th>\n",
              "      <td>2015</td>\n",
              "      <td>71</td>\n",
              "      <td>9,490.00</td>\n",
              "      <td>-42,100.00</td>\n",
              "      <td>1</td>\n",
              "    </tr>\n",
              "    <tr>\n",
              "      <th>4</th>\n",
              "      <td>2016</td>\n",
              "      <td>72</td>\n",
              "      <td>10,270.00</td>\n",
              "      <td>-19,200.00</td>\n",
              "      <td>1</td>\n",
              "    </tr>\n",
              "    <tr>\n",
              "      <th>...</th>\n",
              "      <td>...</td>\n",
              "      <td>...</td>\n",
              "      <td>...</td>\n",
              "      <td>...</td>\n",
              "      <td>...</td>\n",
              "    </tr>\n",
              "    <tr>\n",
              "      <th>6414</th>\n",
              "      <td>2013</td>\n",
              "      <td>63</td>\n",
              "      <td>11,970.00</td>\n",
              "      <td>66,200.00</td>\n",
              "      <td>1</td>\n",
              "    </tr>\n",
              "    <tr>\n",
              "      <th>6415</th>\n",
              "      <td>2014</td>\n",
              "      <td>71</td>\n",
              "      <td>11,210.00</td>\n",
              "      <td>43,600.00</td>\n",
              "      <td>1</td>\n",
              "    </tr>\n",
              "    <tr>\n",
              "      <th>6416</th>\n",
              "      <td>2015</td>\n",
              "      <td>70</td>\n",
              "      <td>12,260.00</td>\n",
              "      <td>33,000.00</td>\n",
              "      <td>1</td>\n",
              "    </tr>\n",
              "    <tr>\n",
              "      <th>6417</th>\n",
              "      <td>2016</td>\n",
              "      <td>60</td>\n",
              "      <td>12,050.00</td>\n",
              "      <td>34,000.00</td>\n",
              "      <td>2</td>\n",
              "    </tr>\n",
              "    <tr>\n",
              "      <th>6418</th>\n",
              "      <td>2019</td>\n",
              "      <td>76</td>\n",
              "      <td>11,860.00</td>\n",
              "      <td>48,400.00</td>\n",
              "      <td>0</td>\n",
              "    </tr>\n",
              "  </tbody>\n",
              "</table>\n",
              "<p>6419 rows × 5 columns</p>\n",
              "</div>\n",
              "      <button class=\"colab-df-convert\" onclick=\"convertToInteractive('df-1fa75f38-079d-4826-b4fc-f6ccbe9af04b')\"\n",
              "              title=\"Convert this dataframe to an interactive table.\"\n",
              "              style=\"display:none;\">\n",
              "        \n",
              "  <svg xmlns=\"http://www.w3.org/2000/svg\" height=\"24px\"viewBox=\"0 0 24 24\"\n",
              "       width=\"24px\">\n",
              "    <path d=\"M0 0h24v24H0V0z\" fill=\"none\"/>\n",
              "    <path d=\"M18.56 5.44l.94 2.06.94-2.06 2.06-.94-2.06-.94-.94-2.06-.94 2.06-2.06.94zm-11 1L8.5 8.5l.94-2.06 2.06-.94-2.06-.94L8.5 2.5l-.94 2.06-2.06.94zm10 10l.94 2.06.94-2.06 2.06-.94-2.06-.94-.94-2.06-.94 2.06-2.06.94z\"/><path d=\"M17.41 7.96l-1.37-1.37c-.4-.4-.92-.59-1.43-.59-.52 0-1.04.2-1.43.59L10.3 9.45l-7.72 7.72c-.78.78-.78 2.05 0 2.83L4 21.41c.39.39.9.59 1.41.59.51 0 1.02-.2 1.41-.59l7.78-7.78 2.81-2.81c.8-.78.8-2.07 0-2.86zM5.41 20L4 18.59l7.72-7.72 1.47 1.35L5.41 20z\"/>\n",
              "  </svg>\n",
              "      </button>\n",
              "      \n",
              "  <style>\n",
              "    .colab-df-container {\n",
              "      display:flex;\n",
              "      flex-wrap:wrap;\n",
              "      gap: 12px;\n",
              "    }\n",
              "\n",
              "    .colab-df-convert {\n",
              "      background-color: #E8F0FE;\n",
              "      border: none;\n",
              "      border-radius: 50%;\n",
              "      cursor: pointer;\n",
              "      display: none;\n",
              "      fill: #1967D2;\n",
              "      height: 32px;\n",
              "      padding: 0 0 0 0;\n",
              "      width: 32px;\n",
              "    }\n",
              "\n",
              "    .colab-df-convert:hover {\n",
              "      background-color: #E2EBFA;\n",
              "      box-shadow: 0px 1px 2px rgba(60, 64, 67, 0.3), 0px 1px 3px 1px rgba(60, 64, 67, 0.15);\n",
              "      fill: #174EA6;\n",
              "    }\n",
              "\n",
              "    [theme=dark] .colab-df-convert {\n",
              "      background-color: #3B4455;\n",
              "      fill: #D2E3FC;\n",
              "    }\n",
              "\n",
              "    [theme=dark] .colab-df-convert:hover {\n",
              "      background-color: #434B5C;\n",
              "      box-shadow: 0px 1px 3px 1px rgba(0, 0, 0, 0.15);\n",
              "      filter: drop-shadow(0px 1px 2px rgba(0, 0, 0, 0.3));\n",
              "      fill: #FFFFFF;\n",
              "    }\n",
              "  </style>\n",
              "\n",
              "      <script>\n",
              "        const buttonEl =\n",
              "          document.querySelector('#df-1fa75f38-079d-4826-b4fc-f6ccbe9af04b button.colab-df-convert');\n",
              "        buttonEl.style.display =\n",
              "          google.colab.kernel.accessAllowed ? 'block' : 'none';\n",
              "\n",
              "        async function convertToInteractive(key) {\n",
              "          const element = document.querySelector('#df-1fa75f38-079d-4826-b4fc-f6ccbe9af04b');\n",
              "          const dataTable =\n",
              "            await google.colab.kernel.invokeFunction('convertToInteractive',\n",
              "                                                     [key], {});\n",
              "          if (!dataTable) return;\n",
              "\n",
              "          const docLinkHtml = 'Like what you see? Visit the ' +\n",
              "            '<a target=\"_blank\" href=https://colab.research.google.com/notebooks/data_table.ipynb>data table notebook</a>'\n",
              "            + ' to learn more about interactive tables.';\n",
              "          element.innerHTML = '';\n",
              "          dataTable['output_type'] = 'display_data';\n",
              "          await google.colab.output.renderOutput(dataTable, element);\n",
              "          const docLink = document.createElement('div');\n",
              "          docLink.innerHTML = docLinkHtml;\n",
              "          element.appendChild(docLink);\n",
              "        }\n",
              "      </script>\n",
              "    </div>\n",
              "  </div>\n",
              "  "
            ]
          },
          "metadata": {},
          "execution_count": 24
        }
      ]
    },
    {
      "cell_type": "code",
      "source": [
        "unscaled_columns = ['End Year', 'Proficiency Rate', 'Classification',\n",
        "       'Reported Spending per student', 'Money Difference per school']\n",
        "\n",
        "for column in unscaled_df.columns:\n",
        "  unscaled_df[column] = unscaled_df[column].astype(np.float32)"
      ],
      "metadata": {
        "id": "rPZaZ4holZyZ"
      },
      "execution_count": 25,
      "outputs": []
    },
    {
      "cell_type": "code",
      "source": [],
      "metadata": {
        "id": "v0nKKR-4lZ4V"
      },
      "execution_count": 25,
      "outputs": []
    },
    {
      "cell_type": "code",
      "source": [],
      "metadata": {
        "id": "nq-BAHrjoVOB"
      },
      "execution_count": 25,
      "outputs": []
    },
    {
      "cell_type": "markdown",
      "source": [
        "## Shuffle, Balance, Split, Scale"
      ],
      "metadata": {
        "id": "GxWh9f-BqbvG"
      }
    },
    {
      "cell_type": "code",
      "source": [
        "#Shuffle df\n",
        "unscaled_df = unscaled_df.sample(frac=1, random_state=15)\n",
        "\n",
        "# Save indices\n",
        "shuffled_indices = unscaled_df.index"
      ],
      "metadata": {
        "id": "OTODCJFaFh2e"
      },
      "execution_count": 26,
      "outputs": []
    },
    {
      "cell_type": "code",
      "source": [
        "unscaled_df['Classification'].value_counts()"
      ],
      "metadata": {
        "colab": {
          "base_uri": "https://localhost:8080/"
        },
        "id": "oRqb9RpZBZPx",
        "outputId": "e704166f-9d6c-48cf-a07e-be769f38df7c"
      },
      "execution_count": 27,
      "outputs": [
        {
          "output_type": "execute_result",
          "data": {
            "text/plain": [
              "2.00    3195\n",
              "1.00    1667\n",
              "0.00    1557\n",
              "Name: Classification, dtype: int64"
            ]
          },
          "metadata": {},
          "execution_count": 27
        }
      ]
    },
    {
      "cell_type": "code",
      "source": [
        "# Balance the data\n",
        "balanced_df = unscaled_df.iloc[0:0]\n",
        "\n",
        "for i in unscaled_df['Classification'].unique():   #unscaled_df.index:\n",
        "  min_target_size = unscaled_df['Classification'].value_counts().min()\n",
        "  #value_target = unscaled_df['Classification'][i]\n",
        "  target_values = unscaled_df[unscaled_df['Classification']==i]  #value_target]\n",
        "  fraction = round(min_target_size / target_values.shape[0], 2)\n",
        "  sample_data = target_values.sample(frac=fraction, random_state=8)\n",
        "  balanced_df = pd.concat([balanced_df, sample_data])\n",
        "\n",
        "# Shuffle the data\n",
        "balanced_df = balanced_df.sample(frac=1, random_state=3)"
      ],
      "metadata": {
        "id": "KQo7n4mMJh_3"
      },
      "execution_count": 28,
      "outputs": []
    },
    {
      "cell_type": "code",
      "source": [
        "# Just in case we need the indices later. \n",
        "\n",
        "shuffled_indices = balanced_df.index"
      ],
      "metadata": {
        "id": "YL8o3GrEMz5v"
      },
      "execution_count": 29,
      "outputs": []
    },
    {
      "cell_type": "code",
      "source": [
        "balanced_df['Classification'].value_counts()"
      ],
      "metadata": {
        "colab": {
          "base_uri": "https://localhost:8080/"
        },
        "id": "Uo4bpgjhN_hy",
        "outputId": "76cd3b5b-83e4-4554-c498-1410ded3e1ce"
      },
      "execution_count": 30,
      "outputs": [
        {
          "output_type": "execute_result",
          "data": {
            "text/plain": [
              "2.00    1566\n",
              "0.00    1557\n",
              "1.00    1550\n",
              "Name: Classification, dtype: int64"
            ]
          },
          "metadata": {},
          "execution_count": 30
        }
      ]
    },
    {
      "cell_type": "code",
      "source": [
        "balanced_df[balanced_df.isnull().any(axis=1)]"
      ],
      "metadata": {
        "colab": {
          "base_uri": "https://localhost:8080/",
          "height": 49
        },
        "id": "T8cntVx7pmi4",
        "outputId": "0f505e3e-f851-4007-ebda-2d8fe7fd1111"
      },
      "execution_count": 31,
      "outputs": [
        {
          "output_type": "execute_result",
          "data": {
            "text/plain": [
              "Empty DataFrame\n",
              "Columns: [End Year, Proficiency Rate, Reported Spending per student, Money Difference per school, Classification]\n",
              "Index: []"
            ],
            "text/html": [
              "\n",
              "  <div id=\"df-16acf86f-278b-47c5-b8e3-76350c112b1b\">\n",
              "    <div class=\"colab-df-container\">\n",
              "      <div>\n",
              "<style scoped>\n",
              "    .dataframe tbody tr th:only-of-type {\n",
              "        vertical-align: middle;\n",
              "    }\n",
              "\n",
              "    .dataframe tbody tr th {\n",
              "        vertical-align: top;\n",
              "    }\n",
              "\n",
              "    .dataframe thead th {\n",
              "        text-align: right;\n",
              "    }\n",
              "</style>\n",
              "<table border=\"1\" class=\"dataframe\">\n",
              "  <thead>\n",
              "    <tr style=\"text-align: right;\">\n",
              "      <th></th>\n",
              "      <th>End Year</th>\n",
              "      <th>Proficiency Rate</th>\n",
              "      <th>Reported Spending per student</th>\n",
              "      <th>Money Difference per school</th>\n",
              "      <th>Classification</th>\n",
              "    </tr>\n",
              "  </thead>\n",
              "  <tbody>\n",
              "  </tbody>\n",
              "</table>\n",
              "</div>\n",
              "      <button class=\"colab-df-convert\" onclick=\"convertToInteractive('df-16acf86f-278b-47c5-b8e3-76350c112b1b')\"\n",
              "              title=\"Convert this dataframe to an interactive table.\"\n",
              "              style=\"display:none;\">\n",
              "        \n",
              "  <svg xmlns=\"http://www.w3.org/2000/svg\" height=\"24px\"viewBox=\"0 0 24 24\"\n",
              "       width=\"24px\">\n",
              "    <path d=\"M0 0h24v24H0V0z\" fill=\"none\"/>\n",
              "    <path d=\"M18.56 5.44l.94 2.06.94-2.06 2.06-.94-2.06-.94-.94-2.06-.94 2.06-2.06.94zm-11 1L8.5 8.5l.94-2.06 2.06-.94-2.06-.94L8.5 2.5l-.94 2.06-2.06.94zm10 10l.94 2.06.94-2.06 2.06-.94-2.06-.94-.94-2.06-.94 2.06-2.06.94z\"/><path d=\"M17.41 7.96l-1.37-1.37c-.4-.4-.92-.59-1.43-.59-.52 0-1.04.2-1.43.59L10.3 9.45l-7.72 7.72c-.78.78-.78 2.05 0 2.83L4 21.41c.39.39.9.59 1.41.59.51 0 1.02-.2 1.41-.59l7.78-7.78 2.81-2.81c.8-.78.8-2.07 0-2.86zM5.41 20L4 18.59l7.72-7.72 1.47 1.35L5.41 20z\"/>\n",
              "  </svg>\n",
              "      </button>\n",
              "      \n",
              "  <style>\n",
              "    .colab-df-container {\n",
              "      display:flex;\n",
              "      flex-wrap:wrap;\n",
              "      gap: 12px;\n",
              "    }\n",
              "\n",
              "    .colab-df-convert {\n",
              "      background-color: #E8F0FE;\n",
              "      border: none;\n",
              "      border-radius: 50%;\n",
              "      cursor: pointer;\n",
              "      display: none;\n",
              "      fill: #1967D2;\n",
              "      height: 32px;\n",
              "      padding: 0 0 0 0;\n",
              "      width: 32px;\n",
              "    }\n",
              "\n",
              "    .colab-df-convert:hover {\n",
              "      background-color: #E2EBFA;\n",
              "      box-shadow: 0px 1px 2px rgba(60, 64, 67, 0.3), 0px 1px 3px 1px rgba(60, 64, 67, 0.15);\n",
              "      fill: #174EA6;\n",
              "    }\n",
              "\n",
              "    [theme=dark] .colab-df-convert {\n",
              "      background-color: #3B4455;\n",
              "      fill: #D2E3FC;\n",
              "    }\n",
              "\n",
              "    [theme=dark] .colab-df-convert:hover {\n",
              "      background-color: #434B5C;\n",
              "      box-shadow: 0px 1px 3px 1px rgba(0, 0, 0, 0.15);\n",
              "      filter: drop-shadow(0px 1px 2px rgba(0, 0, 0, 0.3));\n",
              "      fill: #FFFFFF;\n",
              "    }\n",
              "  </style>\n",
              "\n",
              "      <script>\n",
              "        const buttonEl =\n",
              "          document.querySelector('#df-16acf86f-278b-47c5-b8e3-76350c112b1b button.colab-df-convert');\n",
              "        buttonEl.style.display =\n",
              "          google.colab.kernel.accessAllowed ? 'block' : 'none';\n",
              "\n",
              "        async function convertToInteractive(key) {\n",
              "          const element = document.querySelector('#df-16acf86f-278b-47c5-b8e3-76350c112b1b');\n",
              "          const dataTable =\n",
              "            await google.colab.kernel.invokeFunction('convertToInteractive',\n",
              "                                                     [key], {});\n",
              "          if (!dataTable) return;\n",
              "\n",
              "          const docLinkHtml = 'Like what you see? Visit the ' +\n",
              "            '<a target=\"_blank\" href=https://colab.research.google.com/notebooks/data_table.ipynb>data table notebook</a>'\n",
              "            + ' to learn more about interactive tables.';\n",
              "          element.innerHTML = '';\n",
              "          dataTable['output_type'] = 'display_data';\n",
              "          await google.colab.output.renderOutput(dataTable, element);\n",
              "          const docLink = document.createElement('div');\n",
              "          docLink.innerHTML = docLinkHtml;\n",
              "          element.appendChild(docLink);\n",
              "        }\n",
              "      </script>\n",
              "    </div>\n",
              "  </div>\n",
              "  "
            ]
          },
          "metadata": {},
          "execution_count": 31
        }
      ]
    },
    {
      "cell_type": "code",
      "source": [
        "unscaled_inputs = balanced_df.values[:,:-1]"
      ],
      "metadata": {
        "id": "b0SLLubKqzxg"
      },
      "execution_count": 32,
      "outputs": []
    },
    {
      "cell_type": "code",
      "source": [
        "targets = balanced_df.values[:,-1]"
      ],
      "metadata": {
        "id": "IP-tneR3qz0o"
      },
      "execution_count": 33,
      "outputs": []
    },
    {
      "cell_type": "code",
      "source": [
        "# Split into training, validation, and test sets\n",
        "\n",
        "unscaled_X_train, unscaled_X_set, y_train, y_set = train_test_split(unscaled_inputs, targets, test_size=0.2, random_state=15)\n",
        "unscaled_X_valid, unscaled_X_test, y_valid, y_test = train_test_split(unscaled_X_set, y_set, test_size=0.5, random_state=13)"
      ],
      "metadata": {
        "id": "gi7cn2ppM4dv"
      },
      "execution_count": 34,
      "outputs": []
    },
    {
      "cell_type": "code",
      "source": [
        "# Scale data\n",
        "\n",
        "epsb_scaler = StandardScaler()\n",
        "\n",
        "# Calculate and store the mean and sd\n",
        "epsb_scaler.fit(unscaled_X_train)\n",
        "\n",
        "# Apply the scaler\n",
        "scaled_X_train = epsb_scaler.transform(unscaled_X_train)\n",
        "scaled_X_valid = epsb_scaler.transform(unscaled_X_valid)\n",
        "scaled_X_test = epsb_scaler.transform(unscaled_X_test)"
      ],
      "metadata": {
        "id": "WAQ-xMkwMz22"
      },
      "execution_count": 35,
      "outputs": []
    },
    {
      "cell_type": "code",
      "source": [
        "scaled_X_train.shape"
      ],
      "metadata": {
        "colab": {
          "base_uri": "https://localhost:8080/"
        },
        "id": "RUTB3WPnM4mU",
        "outputId": "16af2ba5-4710-4470-f0a1-a48f250354bf"
      },
      "execution_count": 36,
      "outputs": [
        {
          "output_type": "execute_result",
          "data": {
            "text/plain": [
              "(3738, 4)"
            ]
          },
          "metadata": {},
          "execution_count": 36
        }
      ]
    },
    {
      "cell_type": "code",
      "source": [
        "y_train"
      ],
      "metadata": {
        "colab": {
          "base_uri": "https://localhost:8080/"
        },
        "id": "FdYQwy0jr01b",
        "outputId": "ff949b88-8d57-4f03-f9e0-e1e686791dfc"
      },
      "execution_count": 37,
      "outputs": [
        {
          "output_type": "execute_result",
          "data": {
            "text/plain": [
              "array([2., 1., 0., ..., 1., 2., 0.], dtype=float32)"
            ]
          },
          "metadata": {},
          "execution_count": 37
        }
      ]
    },
    {
      "cell_type": "code",
      "source": [
        "scaled_X_valid.shape"
      ],
      "metadata": {
        "colab": {
          "base_uri": "https://localhost:8080/"
        },
        "id": "YEsOUSBQsPQf",
        "outputId": "d2d6e4af-cbc7-4f18-fba8-9248645c8bce"
      },
      "execution_count": 38,
      "outputs": [
        {
          "output_type": "execute_result",
          "data": {
            "text/plain": [
              "(467, 4)"
            ]
          },
          "metadata": {},
          "execution_count": 38
        }
      ]
    },
    {
      "cell_type": "code",
      "source": [
        "y_valid.shape"
      ],
      "metadata": {
        "colab": {
          "base_uri": "https://localhost:8080/"
        },
        "id": "NO_XLr7XsPUH",
        "outputId": "4bb61d7b-734c-4b2c-ac37-334fe8263d02"
      },
      "execution_count": 39,
      "outputs": [
        {
          "output_type": "execute_result",
          "data": {
            "text/plain": [
              "(467,)"
            ]
          },
          "metadata": {},
          "execution_count": 39
        }
      ]
    },
    {
      "cell_type": "code",
      "source": [
        "scaled_X_test.shape"
      ],
      "metadata": {
        "colab": {
          "base_uri": "https://localhost:8080/"
        },
        "id": "XCdZClZNRI_m",
        "outputId": "5de76c50-0993-4f81-8f24-d70901bf5e12"
      },
      "execution_count": 40,
      "outputs": [
        {
          "output_type": "execute_result",
          "data": {
            "text/plain": [
              "(468, 4)"
            ]
          },
          "metadata": {},
          "execution_count": 40
        }
      ]
    },
    {
      "cell_type": "code",
      "source": [
        "y_test.shape"
      ],
      "metadata": {
        "colab": {
          "base_uri": "https://localhost:8080/"
        },
        "id": "d6PEs79HsAiU",
        "outputId": "933e1435-5584-494f-e215-c0ffb8a9df4a"
      },
      "execution_count": 41,
      "outputs": [
        {
          "output_type": "execute_result",
          "data": {
            "text/plain": [
              "(468,)"
            ]
          },
          "metadata": {},
          "execution_count": 41
        }
      ]
    },
    {
      "cell_type": "code",
      "source": [],
      "metadata": {
        "id": "eFF1xL3DshXJ"
      },
      "execution_count": 41,
      "outputs": []
    },
    {
      "cell_type": "markdown",
      "source": [
        "## Model"
      ],
      "metadata": {
        "id": "22iLAmwjZhWX"
      }
    },
    {
      "cell_type": "code",
      "source": [
        "# Create the model\n",
        "# Ran different rounds of the below model.  Some of the options I put in comments to the right.\n",
        "\n",
        "input_size = 4\n",
        "output_size = 3\n",
        "hidden_layer_size = 15 # for this problem, optimal results were between 10-20 layers\n",
        "\n",
        "model = tf.keras.Sequential([\n",
        "    tf.keras.layers.Dense(hidden_layer_size, activation='tanh'),    # attempted to make this linear, only use the proficency in the input layers, and it only came to 77% valid accuracy or less\n",
        "    tf.keras.layers.Dense(hidden_layer_size, activation='tanh'),\n",
        "    tf.keras.layers.Dense(output_size, activation='softmax') # the sigmoid function made the model decrease in accuracy\n",
        "    ])\n",
        "\n",
        "model.compile(optimizer='adam', loss='sparse_categorical_crossentropy', metrics=['accuracy'])\n"
      ],
      "metadata": {
        "id": "tkeoXJwLGtRf"
      },
      "execution_count": 42,
      "outputs": []
    },
    {
      "cell_type": "code",
      "source": [
        "# Fit the model\n",
        "\n",
        "batch_size = 50  # started with batch size 25\n",
        "max_epochs = 100 # started with 20 epochs\n",
        "\n",
        "early_stopping = tf.keras.callbacks.EarlyStopping(patience=5) # the adam optimizer has a learning rate of 0.001, so I added more patience \n",
        "\n",
        "model.fit(scaled_X_train, \n",
        "          y_train, \n",
        "          batch_size=batch_size,\n",
        "          epochs = max_epochs,\n",
        "          callbacks = [early_stopping],\n",
        "          validation_data = (scaled_X_valid, y_valid),\n",
        "          verbose =2)\n",
        "\n",
        "\n",
        "# Ran rounds using a multi-index of School Code & End Year.  But didn't get above a 78% validation accuracy\n",
        "# Added in the string values from KY rank/rating column, and the model went up to 89.6% validation accuracy\n",
        "\n"
      ],
      "metadata": {
        "colab": {
          "base_uri": "https://localhost:8080/"
        },
        "id": "BG2ubwNvGtW2",
        "outputId": "9826b097-c771-49a6-937a-02c38e46d42e"
      },
      "execution_count": 43,
      "outputs": [
        {
          "output_type": "stream",
          "name": "stdout",
          "text": [
            "Epoch 1/100\n",
            "75/75 - 2s - loss: 0.8928 - accuracy: 0.5979 - val_loss: 0.7722 - val_accuracy: 0.6317 - 2s/epoch - 23ms/step\n",
            "Epoch 2/100\n",
            "75/75 - 0s - loss: 0.6964 - accuracy: 0.6672 - val_loss: 0.6706 - val_accuracy: 0.6488 - 291ms/epoch - 4ms/step\n",
            "Epoch 3/100\n",
            "75/75 - 0s - loss: 0.6197 - accuracy: 0.6982 - val_loss: 0.6160 - val_accuracy: 0.6852 - 364ms/epoch - 5ms/step\n",
            "Epoch 4/100\n",
            "75/75 - 0s - loss: 0.5784 - accuracy: 0.7263 - val_loss: 0.5854 - val_accuracy: 0.7131 - 393ms/epoch - 5ms/step\n",
            "Epoch 5/100\n",
            "75/75 - 0s - loss: 0.5556 - accuracy: 0.7352 - val_loss: 0.5686 - val_accuracy: 0.7302 - 322ms/epoch - 4ms/step\n",
            "Epoch 6/100\n",
            "75/75 - 0s - loss: 0.5419 - accuracy: 0.7493 - val_loss: 0.5572 - val_accuracy: 0.7430 - 330ms/epoch - 4ms/step\n",
            "Epoch 7/100\n",
            "75/75 - 0s - loss: 0.5309 - accuracy: 0.7517 - val_loss: 0.5479 - val_accuracy: 0.7452 - 368ms/epoch - 5ms/step\n",
            "Epoch 8/100\n",
            "75/75 - 0s - loss: 0.5212 - accuracy: 0.7616 - val_loss: 0.5430 - val_accuracy: 0.7452 - 262ms/epoch - 3ms/step\n",
            "Epoch 9/100\n",
            "75/75 - 0s - loss: 0.5121 - accuracy: 0.7697 - val_loss: 0.5313 - val_accuracy: 0.7495 - 387ms/epoch - 5ms/step\n",
            "Epoch 10/100\n",
            "75/75 - 0s - loss: 0.5040 - accuracy: 0.7755 - val_loss: 0.5214 - val_accuracy: 0.7559 - 415ms/epoch - 6ms/step\n",
            "Epoch 11/100\n",
            "75/75 - 0s - loss: 0.4957 - accuracy: 0.7769 - val_loss: 0.5137 - val_accuracy: 0.7580 - 360ms/epoch - 5ms/step\n",
            "Epoch 12/100\n",
            "75/75 - 0s - loss: 0.4865 - accuracy: 0.7871 - val_loss: 0.5041 - val_accuracy: 0.7559 - 341ms/epoch - 5ms/step\n",
            "Epoch 13/100\n",
            "75/75 - 0s - loss: 0.4789 - accuracy: 0.7892 - val_loss: 0.4964 - val_accuracy: 0.7645 - 315ms/epoch - 4ms/step\n",
            "Epoch 14/100\n",
            "75/75 - 0s - loss: 0.4721 - accuracy: 0.7924 - val_loss: 0.4870 - val_accuracy: 0.7730 - 370ms/epoch - 5ms/step\n",
            "Epoch 15/100\n",
            "75/75 - 0s - loss: 0.4652 - accuracy: 0.7978 - val_loss: 0.4850 - val_accuracy: 0.7794 - 372ms/epoch - 5ms/step\n",
            "Epoch 16/100\n",
            "75/75 - 0s - loss: 0.4598 - accuracy: 0.7988 - val_loss: 0.4780 - val_accuracy: 0.7816 - 395ms/epoch - 5ms/step\n",
            "Epoch 17/100\n",
            "75/75 - 0s - loss: 0.4537 - accuracy: 0.8028 - val_loss: 0.4694 - val_accuracy: 0.7859 - 330ms/epoch - 4ms/step\n",
            "Epoch 18/100\n",
            "75/75 - 0s - loss: 0.4479 - accuracy: 0.8060 - val_loss: 0.4651 - val_accuracy: 0.7880 - 354ms/epoch - 5ms/step\n",
            "Epoch 19/100\n",
            "75/75 - 0s - loss: 0.4435 - accuracy: 0.8106 - val_loss: 0.4597 - val_accuracy: 0.7901 - 308ms/epoch - 4ms/step\n",
            "Epoch 20/100\n",
            "75/75 - 0s - loss: 0.4385 - accuracy: 0.8114 - val_loss: 0.4578 - val_accuracy: 0.7901 - 297ms/epoch - 4ms/step\n",
            "Epoch 21/100\n",
            "75/75 - 1s - loss: 0.4339 - accuracy: 0.8125 - val_loss: 0.4545 - val_accuracy: 0.7966 - 521ms/epoch - 7ms/step\n",
            "Epoch 22/100\n",
            "75/75 - 0s - loss: 0.4292 - accuracy: 0.8141 - val_loss: 0.4521 - val_accuracy: 0.7966 - 274ms/epoch - 4ms/step\n",
            "Epoch 23/100\n",
            "75/75 - 0s - loss: 0.4266 - accuracy: 0.8205 - val_loss: 0.4464 - val_accuracy: 0.7987 - 268ms/epoch - 4ms/step\n",
            "Epoch 24/100\n",
            "75/75 - 0s - loss: 0.4232 - accuracy: 0.8189 - val_loss: 0.4443 - val_accuracy: 0.7987 - 306ms/epoch - 4ms/step\n",
            "Epoch 25/100\n",
            "75/75 - 0s - loss: 0.4193 - accuracy: 0.8194 - val_loss: 0.4407 - val_accuracy: 0.8051 - 261ms/epoch - 3ms/step\n",
            "Epoch 26/100\n",
            "75/75 - 0s - loss: 0.4179 - accuracy: 0.8197 - val_loss: 0.4420 - val_accuracy: 0.8009 - 398ms/epoch - 5ms/step\n",
            "Epoch 27/100\n",
            "75/75 - 0s - loss: 0.4140 - accuracy: 0.8234 - val_loss: 0.4376 - val_accuracy: 0.8030 - 417ms/epoch - 6ms/step\n",
            "Epoch 28/100\n",
            "75/75 - 0s - loss: 0.4109 - accuracy: 0.8240 - val_loss: 0.4371 - val_accuracy: 0.8051 - 322ms/epoch - 4ms/step\n",
            "Epoch 29/100\n",
            "75/75 - 0s - loss: 0.4085 - accuracy: 0.8264 - val_loss: 0.4350 - val_accuracy: 0.7966 - 369ms/epoch - 5ms/step\n",
            "Epoch 30/100\n",
            "75/75 - 0s - loss: 0.4066 - accuracy: 0.8240 - val_loss: 0.4344 - val_accuracy: 0.8051 - 257ms/epoch - 3ms/step\n",
            "Epoch 31/100\n",
            "75/75 - 0s - loss: 0.4043 - accuracy: 0.8264 - val_loss: 0.4365 - val_accuracy: 0.7859 - 240ms/epoch - 3ms/step\n",
            "Epoch 32/100\n",
            "75/75 - 0s - loss: 0.4021 - accuracy: 0.8283 - val_loss: 0.4313 - val_accuracy: 0.7966 - 414ms/epoch - 6ms/step\n",
            "Epoch 33/100\n",
            "75/75 - 0s - loss: 0.4009 - accuracy: 0.8253 - val_loss: 0.4372 - val_accuracy: 0.7923 - 352ms/epoch - 5ms/step\n",
            "Epoch 34/100\n",
            "75/75 - 0s - loss: 0.3987 - accuracy: 0.8272 - val_loss: 0.4297 - val_accuracy: 0.8051 - 333ms/epoch - 4ms/step\n",
            "Epoch 35/100\n",
            "75/75 - 0s - loss: 0.3958 - accuracy: 0.8301 - val_loss: 0.4289 - val_accuracy: 0.8094 - 334ms/epoch - 4ms/step\n",
            "Epoch 36/100\n",
            "75/75 - 0s - loss: 0.3938 - accuracy: 0.8304 - val_loss: 0.4296 - val_accuracy: 0.8030 - 305ms/epoch - 4ms/step\n",
            "Epoch 37/100\n",
            "75/75 - 0s - loss: 0.3929 - accuracy: 0.8333 - val_loss: 0.4274 - val_accuracy: 0.8030 - 379ms/epoch - 5ms/step\n",
            "Epoch 38/100\n",
            "75/75 - 1s - loss: 0.3902 - accuracy: 0.8328 - val_loss: 0.4256 - val_accuracy: 0.8116 - 525ms/epoch - 7ms/step\n",
            "Epoch 39/100\n",
            "75/75 - 1s - loss: 0.3886 - accuracy: 0.8317 - val_loss: 0.4235 - val_accuracy: 0.8073 - 515ms/epoch - 7ms/step\n",
            "Epoch 40/100\n",
            "75/75 - 0s - loss: 0.3876 - accuracy: 0.8323 - val_loss: 0.4231 - val_accuracy: 0.8158 - 284ms/epoch - 4ms/step\n",
            "Epoch 41/100\n",
            "75/75 - 0s - loss: 0.3869 - accuracy: 0.8341 - val_loss: 0.4235 - val_accuracy: 0.8223 - 299ms/epoch - 4ms/step\n",
            "Epoch 42/100\n",
            "75/75 - 0s - loss: 0.3836 - accuracy: 0.8344 - val_loss: 0.4194 - val_accuracy: 0.8180 - 267ms/epoch - 4ms/step\n",
            "Epoch 43/100\n",
            "75/75 - 0s - loss: 0.3819 - accuracy: 0.8344 - val_loss: 0.4199 - val_accuracy: 0.8180 - 176ms/epoch - 2ms/step\n",
            "Epoch 44/100\n",
            "75/75 - 0s - loss: 0.3799 - accuracy: 0.8357 - val_loss: 0.4198 - val_accuracy: 0.8158 - 149ms/epoch - 2ms/step\n",
            "Epoch 45/100\n",
            "75/75 - 0s - loss: 0.3784 - accuracy: 0.8360 - val_loss: 0.4177 - val_accuracy: 0.8180 - 148ms/epoch - 2ms/step\n",
            "Epoch 46/100\n",
            "75/75 - 0s - loss: 0.3773 - accuracy: 0.8384 - val_loss: 0.4196 - val_accuracy: 0.8158 - 152ms/epoch - 2ms/step\n",
            "Epoch 47/100\n",
            "75/75 - 0s - loss: 0.3774 - accuracy: 0.8363 - val_loss: 0.4142 - val_accuracy: 0.8180 - 155ms/epoch - 2ms/step\n",
            "Epoch 48/100\n",
            "75/75 - 0s - loss: 0.3743 - accuracy: 0.8414 - val_loss: 0.4149 - val_accuracy: 0.8158 - 158ms/epoch - 2ms/step\n",
            "Epoch 49/100\n",
            "75/75 - 0s - loss: 0.3744 - accuracy: 0.8381 - val_loss: 0.4135 - val_accuracy: 0.8180 - 155ms/epoch - 2ms/step\n",
            "Epoch 50/100\n",
            "75/75 - 0s - loss: 0.3720 - accuracy: 0.8398 - val_loss: 0.4112 - val_accuracy: 0.8223 - 167ms/epoch - 2ms/step\n",
            "Epoch 51/100\n",
            "75/75 - 0s - loss: 0.3712 - accuracy: 0.8395 - val_loss: 0.4110 - val_accuracy: 0.8201 - 159ms/epoch - 2ms/step\n",
            "Epoch 52/100\n",
            "75/75 - 0s - loss: 0.3696 - accuracy: 0.8403 - val_loss: 0.4104 - val_accuracy: 0.8180 - 155ms/epoch - 2ms/step\n",
            "Epoch 53/100\n",
            "75/75 - 0s - loss: 0.3680 - accuracy: 0.8416 - val_loss: 0.4106 - val_accuracy: 0.8180 - 158ms/epoch - 2ms/step\n",
            "Epoch 54/100\n",
            "75/75 - 0s - loss: 0.3682 - accuracy: 0.8419 - val_loss: 0.4080 - val_accuracy: 0.8180 - 173ms/epoch - 2ms/step\n",
            "Epoch 55/100\n",
            "75/75 - 0s - loss: 0.3668 - accuracy: 0.8398 - val_loss: 0.4073 - val_accuracy: 0.8180 - 161ms/epoch - 2ms/step\n",
            "Epoch 56/100\n",
            "75/75 - 0s - loss: 0.3654 - accuracy: 0.8419 - val_loss: 0.4070 - val_accuracy: 0.8180 - 160ms/epoch - 2ms/step\n",
            "Epoch 57/100\n",
            "75/75 - 0s - loss: 0.3646 - accuracy: 0.8435 - val_loss: 0.4052 - val_accuracy: 0.8201 - 169ms/epoch - 2ms/step\n",
            "Epoch 58/100\n",
            "75/75 - 0s - loss: 0.3636 - accuracy: 0.8430 - val_loss: 0.4075 - val_accuracy: 0.8094 - 158ms/epoch - 2ms/step\n",
            "Epoch 59/100\n",
            "75/75 - 0s - loss: 0.3622 - accuracy: 0.8430 - val_loss: 0.4068 - val_accuracy: 0.8266 - 161ms/epoch - 2ms/step\n",
            "Epoch 60/100\n",
            "75/75 - 0s - loss: 0.3626 - accuracy: 0.8411 - val_loss: 0.4027 - val_accuracy: 0.8201 - 159ms/epoch - 2ms/step\n",
            "Epoch 61/100\n",
            "75/75 - 0s - loss: 0.3616 - accuracy: 0.8416 - val_loss: 0.4024 - val_accuracy: 0.8180 - 169ms/epoch - 2ms/step\n",
            "Epoch 62/100\n",
            "75/75 - 0s - loss: 0.3609 - accuracy: 0.8408 - val_loss: 0.4024 - val_accuracy: 0.8180 - 169ms/epoch - 2ms/step\n",
            "Epoch 63/100\n",
            "75/75 - 0s - loss: 0.3601 - accuracy: 0.8411 - val_loss: 0.4026 - val_accuracy: 0.8201 - 147ms/epoch - 2ms/step\n",
            "Epoch 64/100\n",
            "75/75 - 0s - loss: 0.3589 - accuracy: 0.8414 - val_loss: 0.3995 - val_accuracy: 0.8201 - 153ms/epoch - 2ms/step\n",
            "Epoch 65/100\n",
            "75/75 - 0s - loss: 0.3574 - accuracy: 0.8384 - val_loss: 0.4002 - val_accuracy: 0.8180 - 154ms/epoch - 2ms/step\n",
            "Epoch 66/100\n",
            "75/75 - 0s - loss: 0.3574 - accuracy: 0.8443 - val_loss: 0.3978 - val_accuracy: 0.8266 - 152ms/epoch - 2ms/step\n",
            "Epoch 67/100\n",
            "75/75 - 0s - loss: 0.3565 - accuracy: 0.8424 - val_loss: 0.3980 - val_accuracy: 0.8223 - 159ms/epoch - 2ms/step\n",
            "Epoch 68/100\n",
            "75/75 - 0s - loss: 0.3555 - accuracy: 0.8432 - val_loss: 0.3966 - val_accuracy: 0.8201 - 154ms/epoch - 2ms/step\n",
            "Epoch 69/100\n",
            "75/75 - 0s - loss: 0.3542 - accuracy: 0.8427 - val_loss: 0.3985 - val_accuracy: 0.8201 - 178ms/epoch - 2ms/step\n",
            "Epoch 70/100\n",
            "75/75 - 0s - loss: 0.3540 - accuracy: 0.8440 - val_loss: 0.3973 - val_accuracy: 0.8223 - 147ms/epoch - 2ms/step\n",
            "Epoch 71/100\n",
            "75/75 - 0s - loss: 0.3546 - accuracy: 0.8446 - val_loss: 0.3948 - val_accuracy: 0.8266 - 148ms/epoch - 2ms/step\n",
            "Epoch 72/100\n",
            "75/75 - 0s - loss: 0.3538 - accuracy: 0.8440 - val_loss: 0.3933 - val_accuracy: 0.8244 - 160ms/epoch - 2ms/step\n",
            "Epoch 73/100\n",
            "75/75 - 0s - loss: 0.3522 - accuracy: 0.8451 - val_loss: 0.3943 - val_accuracy: 0.8244 - 168ms/epoch - 2ms/step\n",
            "Epoch 74/100\n",
            "75/75 - 0s - loss: 0.3514 - accuracy: 0.8451 - val_loss: 0.3938 - val_accuracy: 0.8287 - 149ms/epoch - 2ms/step\n",
            "Epoch 75/100\n",
            "75/75 - 0s - loss: 0.3517 - accuracy: 0.8443 - val_loss: 0.3934 - val_accuracy: 0.8266 - 147ms/epoch - 2ms/step\n",
            "Epoch 76/100\n",
            "75/75 - 0s - loss: 0.3499 - accuracy: 0.8451 - val_loss: 0.3937 - val_accuracy: 0.8244 - 163ms/epoch - 2ms/step\n",
            "Epoch 77/100\n",
            "75/75 - 0s - loss: 0.3498 - accuracy: 0.8456 - val_loss: 0.3919 - val_accuracy: 0.8266 - 163ms/epoch - 2ms/step\n",
            "Epoch 78/100\n",
            "75/75 - 0s - loss: 0.3489 - accuracy: 0.8462 - val_loss: 0.3920 - val_accuracy: 0.8158 - 158ms/epoch - 2ms/step\n",
            "Epoch 79/100\n",
            "75/75 - 0s - loss: 0.3488 - accuracy: 0.8475 - val_loss: 0.3895 - val_accuracy: 0.8244 - 173ms/epoch - 2ms/step\n",
            "Epoch 80/100\n",
            "75/75 - 0s - loss: 0.3484 - accuracy: 0.8424 - val_loss: 0.3920 - val_accuracy: 0.8287 - 159ms/epoch - 2ms/step\n",
            "Epoch 81/100\n",
            "75/75 - 0s - loss: 0.3479 - accuracy: 0.8427 - val_loss: 0.3913 - val_accuracy: 0.8223 - 153ms/epoch - 2ms/step\n",
            "Epoch 82/100\n",
            "75/75 - 0s - loss: 0.3490 - accuracy: 0.8438 - val_loss: 0.3881 - val_accuracy: 0.8266 - 146ms/epoch - 2ms/step\n",
            "Epoch 83/100\n",
            "75/75 - 0s - loss: 0.3473 - accuracy: 0.8448 - val_loss: 0.3870 - val_accuracy: 0.8287 - 150ms/epoch - 2ms/step\n",
            "Epoch 84/100\n",
            "75/75 - 0s - loss: 0.3465 - accuracy: 0.8451 - val_loss: 0.3876 - val_accuracy: 0.8201 - 153ms/epoch - 2ms/step\n",
            "Epoch 85/100\n",
            "75/75 - 0s - loss: 0.3469 - accuracy: 0.8459 - val_loss: 0.3862 - val_accuracy: 0.8244 - 156ms/epoch - 2ms/step\n",
            "Epoch 86/100\n",
            "75/75 - 0s - loss: 0.3466 - accuracy: 0.8427 - val_loss: 0.3868 - val_accuracy: 0.8308 - 168ms/epoch - 2ms/step\n",
            "Epoch 87/100\n",
            "75/75 - 0s - loss: 0.3462 - accuracy: 0.8475 - val_loss: 0.3865 - val_accuracy: 0.8223 - 157ms/epoch - 2ms/step\n",
            "Epoch 88/100\n",
            "75/75 - 0s - loss: 0.3451 - accuracy: 0.8448 - val_loss: 0.3877 - val_accuracy: 0.8201 - 156ms/epoch - 2ms/step\n",
            "Epoch 89/100\n",
            "75/75 - 0s - loss: 0.3454 - accuracy: 0.8462 - val_loss: 0.3860 - val_accuracy: 0.8244 - 149ms/epoch - 2ms/step\n",
            "Epoch 90/100\n",
            "75/75 - 0s - loss: 0.3441 - accuracy: 0.8470 - val_loss: 0.3869 - val_accuracy: 0.8266 - 159ms/epoch - 2ms/step\n",
            "Epoch 91/100\n",
            "75/75 - 0s - loss: 0.3433 - accuracy: 0.8472 - val_loss: 0.3854 - val_accuracy: 0.8308 - 155ms/epoch - 2ms/step\n",
            "Epoch 92/100\n",
            "75/75 - 0s - loss: 0.3438 - accuracy: 0.8480 - val_loss: 0.3867 - val_accuracy: 0.8201 - 167ms/epoch - 2ms/step\n",
            "Epoch 93/100\n",
            "75/75 - 0s - loss: 0.3427 - accuracy: 0.8470 - val_loss: 0.3835 - val_accuracy: 0.8266 - 156ms/epoch - 2ms/step\n",
            "Epoch 94/100\n",
            "75/75 - 0s - loss: 0.3418 - accuracy: 0.8470 - val_loss: 0.3848 - val_accuracy: 0.8287 - 153ms/epoch - 2ms/step\n",
            "Epoch 95/100\n",
            "75/75 - 0s - loss: 0.3418 - accuracy: 0.8467 - val_loss: 0.3830 - val_accuracy: 0.8244 - 150ms/epoch - 2ms/step\n",
            "Epoch 96/100\n",
            "75/75 - 0s - loss: 0.3418 - accuracy: 0.8451 - val_loss: 0.3846 - val_accuracy: 0.8244 - 164ms/epoch - 2ms/step\n",
            "Epoch 97/100\n",
            "75/75 - 0s - loss: 0.3413 - accuracy: 0.8483 - val_loss: 0.3817 - val_accuracy: 0.8308 - 153ms/epoch - 2ms/step\n",
            "Epoch 98/100\n",
            "75/75 - 0s - loss: 0.3415 - accuracy: 0.8491 - val_loss: 0.3836 - val_accuracy: 0.8244 - 178ms/epoch - 2ms/step\n",
            "Epoch 99/100\n",
            "75/75 - 0s - loss: 0.3406 - accuracy: 0.8483 - val_loss: 0.3821 - val_accuracy: 0.8266 - 152ms/epoch - 2ms/step\n",
            "Epoch 100/100\n",
            "75/75 - 0s - loss: 0.3399 - accuracy: 0.8467 - val_loss: 0.3817 - val_accuracy: 0.8244 - 158ms/epoch - 2ms/step\n"
          ]
        },
        {
          "output_type": "execute_result",
          "data": {
            "text/plain": [
              "<keras.callbacks.History at 0x7f0a39da0880>"
            ]
          },
          "metadata": {},
          "execution_count": 43
        }
      ]
    },
    {
      "cell_type": "code",
      "source": [
        "# test the model\n",
        "\n",
        "test_loss, test_accuracy = model.evaluate(scaled_X_test, y_test)"
      ],
      "metadata": {
        "colab": {
          "base_uri": "https://localhost:8080/"
        },
        "id": "SvVwCfw1GtZt",
        "outputId": "f7a8f81e-1396-4e34-a25e-2cc46deb16e0"
      },
      "execution_count": 44,
      "outputs": [
        {
          "output_type": "stream",
          "name": "stdout",
          "text": [
            "15/15 [==============================] - 0s 2ms/step - loss: 0.3638 - accuracy: 0.8248\n"
          ]
        }
      ]
    },
    {
      "cell_type": "code",
      "source": [
        "# Print Pretty\n",
        "\n",
        "print('\\nTest loss: {0:.2f}. Test accuracy: {1:.2f}%'.format(test_loss, test_accuracy*100.))"
      ],
      "metadata": {
        "colab": {
          "base_uri": "https://localhost:8080/"
        },
        "id": "zalRGu7N3sq9",
        "outputId": "07b40e0a-ebf3-478f-f1ed-9cf8f694371c"
      },
      "execution_count": 45,
      "outputs": [
        {
          "output_type": "stream",
          "name": "stdout",
          "text": [
            "\n",
            "Test loss: 0.36. Test accuracy: 82.48%\n"
          ]
        }
      ]
    },
    {
      "cell_type": "code",
      "source": [
        "# Save model\n",
        "# Test accuracy for the saved model is 87.19%\n",
        "#tf.keras.models.save_model(model, '/content/drive/MyDrive/Colab Data/KY EPSB/model', include_optimizer=True)"
      ],
      "metadata": {
        "id": "c0E9NeLg3swR"
      },
      "execution_count": 46,
      "outputs": []
    },
    {
      "cell_type": "code",
      "source": [],
      "metadata": {
        "id": "thLv_fMJ3stj"
      },
      "execution_count": 46,
      "outputs": []
    },
    {
      "cell_type": "markdown",
      "source": [
        "## Predict Classification using model"
      ],
      "metadata": {
        "id": "fIw4UJzTBLBr"
      }
    },
    {
      "cell_type": "code",
      "source": [
        "# Grab the data that we want to predict\n",
        "inputs = predict_df.loc[:,['End Year', 'Reported Spending per student', 'Money Difference per school', 'Proficiency Rate']]\n",
        "\n",
        "# Convert to np array\n",
        "# scale data\n",
        "inputs = epsb_scaler.transform(inputs.values)\n"
      ],
      "metadata": {
        "id": "SAZjPHwgGtjV"
      },
      "execution_count": 47,
      "outputs": []
    },
    {
      "cell_type": "code",
      "source": [
        "pred_classification = model.predict(inputs)"
      ],
      "metadata": {
        "colab": {
          "base_uri": "https://localhost:8080/"
        },
        "id": "QBIKXHyM3s1J",
        "outputId": "086e73a8-5d87-4cab-9940-e31f24f39afa"
      },
      "execution_count": 48,
      "outputs": [
        {
          "output_type": "stream",
          "name": "stdout",
          "text": [
            "310/310 [==============================] - 1s 1ms/step\n"
          ]
        }
      ]
    },
    {
      "cell_type": "code",
      "source": [
        "pred_classification.shape"
      ],
      "metadata": {
        "colab": {
          "base_uri": "https://localhost:8080/"
        },
        "id": "8ZFlF95KIchn",
        "outputId": "1698fa0e-0fd4-4756-9e00-a9e2e35f4369"
      },
      "execution_count": 49,
      "outputs": [
        {
          "output_type": "execute_result",
          "data": {
            "text/plain": [
              "(9892, 3)"
            ]
          },
          "metadata": {},
          "execution_count": 49
        }
      ]
    },
    {
      "cell_type": "code",
      "source": [
        "pred_classification = pd.DataFrame(pred_classification, columns=['Distinguished', 'Proficient', 'Needs Improvement'])"
      ],
      "metadata": {
        "id": "e3ZQCoF7IcnV"
      },
      "execution_count": 50,
      "outputs": []
    },
    {
      "cell_type": "code",
      "source": [
        "pred_classification = pred_classification.idxmax(axis=1)"
      ],
      "metadata": {
        "id": "q0x0Ybs7QUyZ"
      },
      "execution_count": 51,
      "outputs": []
    },
    {
      "cell_type": "code",
      "source": [
        "pred_classification"
      ],
      "metadata": {
        "colab": {
          "base_uri": "https://localhost:8080/"
        },
        "id": "oDIer6XfPkBC",
        "outputId": "9fbed93b-1c55-424f-adc3-046d9e702410"
      },
      "execution_count": 52,
      "outputs": [
        {
          "output_type": "execute_result",
          "data": {
            "text/plain": [
              "0       Distinguished\n",
              "1       Distinguished\n",
              "2       Distinguished\n",
              "3       Distinguished\n",
              "4       Distinguished\n",
              "            ...      \n",
              "9887    Distinguished\n",
              "9888    Distinguished\n",
              "9889    Distinguished\n",
              "9890    Distinguished\n",
              "9891              NaN\n",
              "Length: 9892, dtype: object"
            ]
          },
          "metadata": {},
          "execution_count": 52
        }
      ]
    },
    {
      "cell_type": "code",
      "source": [
        "pred_classification.shape"
      ],
      "metadata": {
        "colab": {
          "base_uri": "https://localhost:8080/"
        },
        "id": "346CVAo4dDVR",
        "outputId": "ebfc85d9-fbd0-4259-fead-fb543b1454fc"
      },
      "execution_count": 53,
      "outputs": [
        {
          "output_type": "execute_result",
          "data": {
            "text/plain": [
              "(9892,)"
            ]
          },
          "metadata": {},
          "execution_count": 53
        }
      ]
    },
    {
      "cell_type": "code",
      "source": [
        "predict_df.index"
      ],
      "metadata": {
        "colab": {
          "base_uri": "https://localhost:8080/"
        },
        "id": "wFFeu4DLIck-",
        "outputId": "4f6fd997-eeaf-41cc-89b2-a0298a953cd3"
      },
      "execution_count": 54,
      "outputs": [
        {
          "output_type": "execute_result",
          "data": {
            "text/plain": [
              "RangeIndex(start=0, stop=9892, step=1)"
            ]
          },
          "metadata": {},
          "execution_count": 54
        }
      ]
    },
    {
      "cell_type": "code",
      "source": [
        "predict_df['Predicted Classification'] = pred_classification"
      ],
      "metadata": {
        "id": "yT9h-_lrWMN8"
      },
      "execution_count": 55,
      "outputs": []
    },
    {
      "cell_type": "code",
      "source": [
        "predict_df['Classification'].fillna(predict_df['Predicted Classification'], inplace = True)"
      ],
      "metadata": {
        "id": "h1tbSSBtahJA"
      },
      "execution_count": 56,
      "outputs": []
    },
    {
      "cell_type": "code",
      "source": [
        "predict_df.drop(['Predicted Classification'], axis=1, inplace=True)"
      ],
      "metadata": {
        "id": "Gu3FpG6peJE6"
      },
      "execution_count": 57,
      "outputs": []
    },
    {
      "cell_type": "code",
      "source": [
        "predict_df['Classification'].value_counts()"
      ],
      "metadata": {
        "colab": {
          "base_uri": "https://localhost:8080/"
        },
        "id": "BhHG-rD3ed8L",
        "outputId": "10138949-2167-465c-a585-97561c4e4ec8"
      },
      "execution_count": 58,
      "outputs": [
        {
          "output_type": "execute_result",
          "data": {
            "text/plain": [
              "Distinguished        4078\n",
              "Needs Improvement    3660\n",
              "Proficient           2153\n",
              "Name: Classification, dtype: int64"
            ]
          },
          "metadata": {},
          "execution_count": 58
        }
      ]
    },
    {
      "cell_type": "code",
      "source": [
        "predict_df.corr()['Proficiency Rate'].sort_values()"
      ],
      "metadata": {
        "colab": {
          "base_uri": "https://localhost:8080/"
        },
        "id": "zSahtkRIq_MZ",
        "outputId": "0ac6a13f-9a89-48ba-c49a-86529f260fc8"
      },
      "execution_count": 59,
      "outputs": [
        {
          "output_type": "execute_result",
          "data": {
            "text/plain": [
              "Reported Spending per student    -0.02\n",
              "Estimated Spending per student   -0.01\n",
              "School Code                       0.01\n",
              "District Code                     0.01\n",
              "End Year                          0.04\n",
              "Money Difference per student      0.25\n",
              "Money Difference per school       0.28\n",
              "Proficiency Rate                  1.00\n",
              "Name: Proficiency Rate, dtype: float64"
            ]
          },
          "metadata": {},
          "execution_count": 59
        }
      ]
    },
    {
      "cell_type": "code",
      "source": [
        "predict_df['Classification'].value_counts()"
      ],
      "metadata": {
        "colab": {
          "base_uri": "https://localhost:8080/"
        },
        "id": "bIq-Y0DgQU_H",
        "outputId": "732e136d-73eb-4206-e9d4-060d2259e972"
      },
      "execution_count": 60,
      "outputs": [
        {
          "output_type": "execute_result",
          "data": {
            "text/plain": [
              "Distinguished        4078\n",
              "Needs Improvement    3660\n",
              "Proficient           2153\n",
              "Name: Classification, dtype: int64"
            ]
          },
          "metadata": {},
          "execution_count": 60
        }
      ]
    },
    {
      "cell_type": "code",
      "source": [
        "predict_df"
      ],
      "metadata": {
        "id": "b0UZNpBeQVBu",
        "colab": {
          "base_uri": "https://localhost:8080/",
          "height": 763
        },
        "outputId": "d76e2f58-7e3c-4df1-bcee-fc682230a440"
      },
      "execution_count": 61,
      "outputs": [
        {
          "output_type": "execute_result",
          "data": {
            "text/plain": [
              "      End Year  District Code         District  School Code  \\\n",
              "0         2012              1     Adair County         1010   \n",
              "1         2013              1     Adair County         1010   \n",
              "2         2014              1     Adair County         1010   \n",
              "3         2015              1     Adair County         1010   \n",
              "4         2016              1     Adair County         1010   \n",
              "...        ...            ...              ...          ...   \n",
              "9887      2016            601  Woodford County       601120   \n",
              "9888      2017            601  Woodford County       601120   \n",
              "9889      2018            601  Woodford County       601120   \n",
              "9890      2019            601  Woodford County       601120   \n",
              "9891      2022            601  Woodford County       601120   \n",
              "\n",
              "                           School  Proficiency Rate     Classification  \\\n",
              "0        Adair County High School                55  Needs Improvement   \n",
              "1        Adair County High School                54  Needs Improvement   \n",
              "2        Adair County High School                69  Needs Improvement   \n",
              "3        Adair County High School                71         Proficient   \n",
              "4        Adair County High School                72         Proficient   \n",
              "...                           ...               ...                ...   \n",
              "9887  Northside Elementary School                60  Needs Improvement   \n",
              "9888  Northside Elementary School                75      Distinguished   \n",
              "9889  Northside Elementary School                73      Distinguished   \n",
              "9890  Northside Elementary School                76      Distinguished   \n",
              "9891  Northside Elementary School                68         Proficient   \n",
              "\n",
              "      Reported Spending per student  Money Difference per school  \\\n",
              "0                          6,460.00                   -36,400.00   \n",
              "1                          6,380.00                   -37,000.00   \n",
              "2                          6,970.00                   -13,100.00   \n",
              "3                          9,490.00                   -42,100.00   \n",
              "4                         10,270.00                   -19,200.00   \n",
              "...                             ...                          ...   \n",
              "9887                      12,050.00                    34,000.00   \n",
              "9888                       9,940.00                    17,400.00   \n",
              "9889                      13,640.00                    51,800.00   \n",
              "9890                      11,860.00                    48,400.00   \n",
              "9891                            NaN                          NaN   \n",
              "\n",
              "      Money Difference per student  Estimated Spending per student  \n",
              "0                           -50.00                        6,405.00  \n",
              "1                           -50.00                        6,328.00  \n",
              "2                           -20.00                        6,952.00  \n",
              "3                           -60.00                        9,431.00  \n",
              "4                           -20.00                       10,245.00  \n",
              "...                            ...                             ...  \n",
              "9887                        110.00                       12,153.00  \n",
              "9888                         50.00                        9,993.00  \n",
              "9889                        150.00                       13,791.00  \n",
              "9890                        140.00                       12,007.00  \n",
              "9891                           NaN                             NaN  \n",
              "\n",
              "[9892 rows x 11 columns]"
            ],
            "text/html": [
              "\n",
              "  <div id=\"df-0a5cf82e-dd54-445b-aea8-da4a96a88663\">\n",
              "    <div class=\"colab-df-container\">\n",
              "      <div>\n",
              "<style scoped>\n",
              "    .dataframe tbody tr th:only-of-type {\n",
              "        vertical-align: middle;\n",
              "    }\n",
              "\n",
              "    .dataframe tbody tr th {\n",
              "        vertical-align: top;\n",
              "    }\n",
              "\n",
              "    .dataframe thead th {\n",
              "        text-align: right;\n",
              "    }\n",
              "</style>\n",
              "<table border=\"1\" class=\"dataframe\">\n",
              "  <thead>\n",
              "    <tr style=\"text-align: right;\">\n",
              "      <th></th>\n",
              "      <th>End Year</th>\n",
              "      <th>District Code</th>\n",
              "      <th>District</th>\n",
              "      <th>School Code</th>\n",
              "      <th>School</th>\n",
              "      <th>Proficiency Rate</th>\n",
              "      <th>Classification</th>\n",
              "      <th>Reported Spending per student</th>\n",
              "      <th>Money Difference per school</th>\n",
              "      <th>Money Difference per student</th>\n",
              "      <th>Estimated Spending per student</th>\n",
              "    </tr>\n",
              "  </thead>\n",
              "  <tbody>\n",
              "    <tr>\n",
              "      <th>0</th>\n",
              "      <td>2012</td>\n",
              "      <td>1</td>\n",
              "      <td>Adair County</td>\n",
              "      <td>1010</td>\n",
              "      <td>Adair County High School</td>\n",
              "      <td>55</td>\n",
              "      <td>Needs Improvement</td>\n",
              "      <td>6,460.00</td>\n",
              "      <td>-36,400.00</td>\n",
              "      <td>-50.00</td>\n",
              "      <td>6,405.00</td>\n",
              "    </tr>\n",
              "    <tr>\n",
              "      <th>1</th>\n",
              "      <td>2013</td>\n",
              "      <td>1</td>\n",
              "      <td>Adair County</td>\n",
              "      <td>1010</td>\n",
              "      <td>Adair County High School</td>\n",
              "      <td>54</td>\n",
              "      <td>Needs Improvement</td>\n",
              "      <td>6,380.00</td>\n",
              "      <td>-37,000.00</td>\n",
              "      <td>-50.00</td>\n",
              "      <td>6,328.00</td>\n",
              "    </tr>\n",
              "    <tr>\n",
              "      <th>2</th>\n",
              "      <td>2014</td>\n",
              "      <td>1</td>\n",
              "      <td>Adair County</td>\n",
              "      <td>1010</td>\n",
              "      <td>Adair County High School</td>\n",
              "      <td>69</td>\n",
              "      <td>Needs Improvement</td>\n",
              "      <td>6,970.00</td>\n",
              "      <td>-13,100.00</td>\n",
              "      <td>-20.00</td>\n",
              "      <td>6,952.00</td>\n",
              "    </tr>\n",
              "    <tr>\n",
              "      <th>3</th>\n",
              "      <td>2015</td>\n",
              "      <td>1</td>\n",
              "      <td>Adair County</td>\n",
              "      <td>1010</td>\n",
              "      <td>Adair County High School</td>\n",
              "      <td>71</td>\n",
              "      <td>Proficient</td>\n",
              "      <td>9,490.00</td>\n",
              "      <td>-42,100.00</td>\n",
              "      <td>-60.00</td>\n",
              "      <td>9,431.00</td>\n",
              "    </tr>\n",
              "    <tr>\n",
              "      <th>4</th>\n",
              "      <td>2016</td>\n",
              "      <td>1</td>\n",
              "      <td>Adair County</td>\n",
              "      <td>1010</td>\n",
              "      <td>Adair County High School</td>\n",
              "      <td>72</td>\n",
              "      <td>Proficient</td>\n",
              "      <td>10,270.00</td>\n",
              "      <td>-19,200.00</td>\n",
              "      <td>-20.00</td>\n",
              "      <td>10,245.00</td>\n",
              "    </tr>\n",
              "    <tr>\n",
              "      <th>...</th>\n",
              "      <td>...</td>\n",
              "      <td>...</td>\n",
              "      <td>...</td>\n",
              "      <td>...</td>\n",
              "      <td>...</td>\n",
              "      <td>...</td>\n",
              "      <td>...</td>\n",
              "      <td>...</td>\n",
              "      <td>...</td>\n",
              "      <td>...</td>\n",
              "      <td>...</td>\n",
              "    </tr>\n",
              "    <tr>\n",
              "      <th>9887</th>\n",
              "      <td>2016</td>\n",
              "      <td>601</td>\n",
              "      <td>Woodford County</td>\n",
              "      <td>601120</td>\n",
              "      <td>Northside Elementary School</td>\n",
              "      <td>60</td>\n",
              "      <td>Needs Improvement</td>\n",
              "      <td>12,050.00</td>\n",
              "      <td>34,000.00</td>\n",
              "      <td>110.00</td>\n",
              "      <td>12,153.00</td>\n",
              "    </tr>\n",
              "    <tr>\n",
              "      <th>9888</th>\n",
              "      <td>2017</td>\n",
              "      <td>601</td>\n",
              "      <td>Woodford County</td>\n",
              "      <td>601120</td>\n",
              "      <td>Northside Elementary School</td>\n",
              "      <td>75</td>\n",
              "      <td>Distinguished</td>\n",
              "      <td>9,940.00</td>\n",
              "      <td>17,400.00</td>\n",
              "      <td>50.00</td>\n",
              "      <td>9,993.00</td>\n",
              "    </tr>\n",
              "    <tr>\n",
              "      <th>9889</th>\n",
              "      <td>2018</td>\n",
              "      <td>601</td>\n",
              "      <td>Woodford County</td>\n",
              "      <td>601120</td>\n",
              "      <td>Northside Elementary School</td>\n",
              "      <td>73</td>\n",
              "      <td>Distinguished</td>\n",
              "      <td>13,640.00</td>\n",
              "      <td>51,800.00</td>\n",
              "      <td>150.00</td>\n",
              "      <td>13,791.00</td>\n",
              "    </tr>\n",
              "    <tr>\n",
              "      <th>9890</th>\n",
              "      <td>2019</td>\n",
              "      <td>601</td>\n",
              "      <td>Woodford County</td>\n",
              "      <td>601120</td>\n",
              "      <td>Northside Elementary School</td>\n",
              "      <td>76</td>\n",
              "      <td>Distinguished</td>\n",
              "      <td>11,860.00</td>\n",
              "      <td>48,400.00</td>\n",
              "      <td>140.00</td>\n",
              "      <td>12,007.00</td>\n",
              "    </tr>\n",
              "    <tr>\n",
              "      <th>9891</th>\n",
              "      <td>2022</td>\n",
              "      <td>601</td>\n",
              "      <td>Woodford County</td>\n",
              "      <td>601120</td>\n",
              "      <td>Northside Elementary School</td>\n",
              "      <td>68</td>\n",
              "      <td>Proficient</td>\n",
              "      <td>NaN</td>\n",
              "      <td>NaN</td>\n",
              "      <td>NaN</td>\n",
              "      <td>NaN</td>\n",
              "    </tr>\n",
              "  </tbody>\n",
              "</table>\n",
              "<p>9892 rows × 11 columns</p>\n",
              "</div>\n",
              "      <button class=\"colab-df-convert\" onclick=\"convertToInteractive('df-0a5cf82e-dd54-445b-aea8-da4a96a88663')\"\n",
              "              title=\"Convert this dataframe to an interactive table.\"\n",
              "              style=\"display:none;\">\n",
              "        \n",
              "  <svg xmlns=\"http://www.w3.org/2000/svg\" height=\"24px\"viewBox=\"0 0 24 24\"\n",
              "       width=\"24px\">\n",
              "    <path d=\"M0 0h24v24H0V0z\" fill=\"none\"/>\n",
              "    <path d=\"M18.56 5.44l.94 2.06.94-2.06 2.06-.94-2.06-.94-.94-2.06-.94 2.06-2.06.94zm-11 1L8.5 8.5l.94-2.06 2.06-.94-2.06-.94L8.5 2.5l-.94 2.06-2.06.94zm10 10l.94 2.06.94-2.06 2.06-.94-2.06-.94-.94-2.06-.94 2.06-2.06.94z\"/><path d=\"M17.41 7.96l-1.37-1.37c-.4-.4-.92-.59-1.43-.59-.52 0-1.04.2-1.43.59L10.3 9.45l-7.72 7.72c-.78.78-.78 2.05 0 2.83L4 21.41c.39.39.9.59 1.41.59.51 0 1.02-.2 1.41-.59l7.78-7.78 2.81-2.81c.8-.78.8-2.07 0-2.86zM5.41 20L4 18.59l7.72-7.72 1.47 1.35L5.41 20z\"/>\n",
              "  </svg>\n",
              "      </button>\n",
              "      \n",
              "  <style>\n",
              "    .colab-df-container {\n",
              "      display:flex;\n",
              "      flex-wrap:wrap;\n",
              "      gap: 12px;\n",
              "    }\n",
              "\n",
              "    .colab-df-convert {\n",
              "      background-color: #E8F0FE;\n",
              "      border: none;\n",
              "      border-radius: 50%;\n",
              "      cursor: pointer;\n",
              "      display: none;\n",
              "      fill: #1967D2;\n",
              "      height: 32px;\n",
              "      padding: 0 0 0 0;\n",
              "      width: 32px;\n",
              "    }\n",
              "\n",
              "    .colab-df-convert:hover {\n",
              "      background-color: #E2EBFA;\n",
              "      box-shadow: 0px 1px 2px rgba(60, 64, 67, 0.3), 0px 1px 3px 1px rgba(60, 64, 67, 0.15);\n",
              "      fill: #174EA6;\n",
              "    }\n",
              "\n",
              "    [theme=dark] .colab-df-convert {\n",
              "      background-color: #3B4455;\n",
              "      fill: #D2E3FC;\n",
              "    }\n",
              "\n",
              "    [theme=dark] .colab-df-convert:hover {\n",
              "      background-color: #434B5C;\n",
              "      box-shadow: 0px 1px 3px 1px rgba(0, 0, 0, 0.15);\n",
              "      filter: drop-shadow(0px 1px 2px rgba(0, 0, 0, 0.3));\n",
              "      fill: #FFFFFF;\n",
              "    }\n",
              "  </style>\n",
              "\n",
              "      <script>\n",
              "        const buttonEl =\n",
              "          document.querySelector('#df-0a5cf82e-dd54-445b-aea8-da4a96a88663 button.colab-df-convert');\n",
              "        buttonEl.style.display =\n",
              "          google.colab.kernel.accessAllowed ? 'block' : 'none';\n",
              "\n",
              "        async function convertToInteractive(key) {\n",
              "          const element = document.querySelector('#df-0a5cf82e-dd54-445b-aea8-da4a96a88663');\n",
              "          const dataTable =\n",
              "            await google.colab.kernel.invokeFunction('convertToInteractive',\n",
              "                                                     [key], {});\n",
              "          if (!dataTable) return;\n",
              "\n",
              "          const docLinkHtml = 'Like what you see? Visit the ' +\n",
              "            '<a target=\"_blank\" href=https://colab.research.google.com/notebooks/data_table.ipynb>data table notebook</a>'\n",
              "            + ' to learn more about interactive tables.';\n",
              "          element.innerHTML = '';\n",
              "          dataTable['output_type'] = 'display_data';\n",
              "          await google.colab.output.renderOutput(dataTable, element);\n",
              "          const docLink = document.createElement('div');\n",
              "          docLink.innerHTML = docLinkHtml;\n",
              "          element.appendChild(docLink);\n",
              "        }\n",
              "      </script>\n",
              "    </div>\n",
              "  </div>\n",
              "  "
            ]
          },
          "metadata": {},
          "execution_count": 61
        }
      ]
    },
    {
      "cell_type": "code",
      "source": [
        "predict_df.to_csv('/content/drive/MyDrive/Colab Data/KY EPSB/All Years/predict_df.csv', index = False)"
      ],
      "metadata": {
        "id": "3Ld2ayflXgz_"
      },
      "execution_count": 62,
      "outputs": []
    },
    {
      "cell_type": "markdown",
      "source": [
        "# Most Impacted schools"
      ],
      "metadata": {
        "id": "UbO8I6LSsqr0"
      }
    },
    {
      "cell_type": "code",
      "source": [
        "# This makes us start with the predict_df. \n",
        "\n",
        "published_ky_df = predict_df.copy()"
      ],
      "metadata": {
        "id": "3L2vXWsbl0yr"
      },
      "execution_count": 63,
      "outputs": []
    },
    {
      "cell_type": "code",
      "source": [
        "published_ky_df.index"
      ],
      "metadata": {
        "colab": {
          "base_uri": "https://localhost:8080/"
        },
        "id": "qICrLtHFvTap",
        "outputId": "d1ba4d4d-fc47-4216-8bce-f366a15db812"
      },
      "execution_count": 64,
      "outputs": [
        {
          "output_type": "execute_result",
          "data": {
            "text/plain": [
              "RangeIndex(start=0, stop=9892, step=1)"
            ]
          },
          "metadata": {},
          "execution_count": 64
        }
      ]
    },
    {
      "cell_type": "markdown",
      "source": [
        "## Top/Bottom Percentile"
      ],
      "metadata": {
        "id": "BsSiCfScQMad"
      }
    },
    {
      "cell_type": "code",
      "source": [
        "# Select value between 0-100. The selected value will be changed to a percent.  Then used to pull the data below. \n",
        "\n",
        "select_percent = 5\n",
        "selected_percentile = (100 - select_percent) / 100"
      ],
      "metadata": {
        "id": "W9q5vElltDPE"
      },
      "execution_count": 65,
      "outputs": []
    },
    {
      "cell_type": "code",
      "source": [
        "published_ky_df[published_ky_df['End Year']==2018].quantile(q=selected_percentile)"
      ],
      "metadata": {
        "colab": {
          "base_uri": "https://localhost:8080/"
        },
        "id": "DB7Cj4sHvTkA",
        "outputId": "e6a8d0e2-02d8-4a75-a32b-834c17542805"
      },
      "execution_count": 66,
      "outputs": [
        {
          "output_type": "execute_result",
          "data": {
            "text/plain": [
              "End Year                           2,018.00\n",
              "District Code                        571.00\n",
              "School Code                      571,009.65\n",
              "Proficiency Rate                      91.00\n",
              "Reported Spending per student     21,880.00\n",
              "Money Difference per school      175,800.00\n",
              "Money Difference per student         310.00\n",
              "Estimated Spending per student    21,943.00\n",
              "Name: 0.95, dtype: float64"
            ]
          },
          "metadata": {},
          "execution_count": 66
        }
      ]
    },
    {
      "cell_type": "code",
      "source": [
        "# Creates / Resets df\n",
        "highly_impacted_schools = published_ky_df.iloc[0:0,:]\n",
        "\n",
        "# Append highest/lowest pctl to df based on the year\n",
        "for i in published_ky_df.index:\n",
        "  year = published_ky_df['End Year'][i]\n",
        "  highest_pctl = published_ky_df[published_ky_df['End Year']==year].quantile(q=selected_percentile)\n",
        "  lowest_pctl = published_ky_df[published_ky_df['End Year']==year].quantile(q=(1-selected_percentile))\n",
        "\n",
        "  if published_ky_df['Money Difference per school'][i] > highest_pctl['Money Difference per school'] or published_ky_df['Money Difference per school'][i] < lowest_pctl['Money Difference per school']:\n",
        "    highly_impacted_schools = highly_impacted_schools.append(published_ky_df.loc[i,])\n",
        "  elif published_ky_df['Estimated Spending per student'][i] > highest_pctl['Estimated Spending per student'] or published_ky_df['Estimated Spending per student'][i] < lowest_pctl['Estimated Spending per student']:\n",
        "    highly_impacted_schools = highly_impacted_schools.append(published_ky_df.loc[i,])\n",
        "  elif published_ky_df['Proficiency Rate'][i] > highest_pctl['Proficiency Rate'] or published_ky_df['Proficiency Rate'][i] < lowest_pctl['Proficiency Rate']:\n",
        "    highly_impacted_schools = highly_impacted_schools.append(published_ky_df.loc[i,])\n",
        "\n",
        "# Drop duplicated rows\n",
        "highly_impacted_schools.drop_duplicates(inplace=True)\n",
        "\n",
        "# Reset index\n",
        "highly_impacted_schools.reset_index(drop=True, inplace=True)"
      ],
      "metadata": {
        "id": "vcAsl3gavuUc"
      },
      "execution_count": 67,
      "outputs": []
    },
    {
      "cell_type": "code",
      "source": [
        "# Without including the Proficeny Rate high and low, there were 1941 records, and 701 schools.\n",
        "# Including the proficency rate raises the number of records to 2483 from 817 schools.\n",
        "\n",
        "highly_impacted_schools.info()"
      ],
      "metadata": {
        "id": "gZNrI4vU1rX7",
        "colab": {
          "base_uri": "https://localhost:8080/"
        },
        "outputId": "565b18d4-8ce4-4836-bb60-09e92fa73091"
      },
      "execution_count": 68,
      "outputs": [
        {
          "output_type": "stream",
          "name": "stdout",
          "text": [
            "<class 'pandas.core.frame.DataFrame'>\n",
            "RangeIndex: 2256 entries, 0 to 2255\n",
            "Data columns (total 11 columns):\n",
            " #   Column                          Non-Null Count  Dtype  \n",
            "---  ------                          --------------  -----  \n",
            " 0   End Year                        2256 non-null   int64  \n",
            " 1   District Code                   2256 non-null   int64  \n",
            " 2   District                        2256 non-null   object \n",
            " 3   School Code                     2256 non-null   int64  \n",
            " 4   School                          2256 non-null   object \n",
            " 5   Proficiency Rate                2256 non-null   int64  \n",
            " 6   Classification                  2256 non-null   object \n",
            " 7   Reported Spending per student   2133 non-null   float64\n",
            " 8   Money Difference per school     2133 non-null   float64\n",
            " 9   Money Difference per student    2133 non-null   float64\n",
            " 10  Estimated Spending per student  2133 non-null   float64\n",
            "dtypes: float64(4), int64(4), object(3)\n",
            "memory usage: 194.0+ KB\n"
          ]
        }
      ]
    },
    {
      "cell_type": "code",
      "source": [
        "highly_impacted_schools.nunique()"
      ],
      "metadata": {
        "id": "5SIThKZF1svK",
        "colab": {
          "base_uri": "https://localhost:8080/"
        },
        "outputId": "eaa50592-08f8-4b42-f91b-6845ceeef4d1"
      },
      "execution_count": 69,
      "outputs": [
        {
          "output_type": "execute_result",
          "data": {
            "text/plain": [
              "End Year                             9\n",
              "District Code                      155\n",
              "District                           155\n",
              "School Code                        729\n",
              "School                             719\n",
              "Proficiency Rate                    88\n",
              "Classification                       3\n",
              "Reported Spending per student     1143\n",
              "Money Difference per school       1736\n",
              "Money Difference per student       179\n",
              "Estimated Spending per student    1963\n",
              "dtype: int64"
            ]
          },
          "metadata": {},
          "execution_count": 69
        }
      ]
    },
    {
      "cell_type": "code",
      "source": [
        "highly_impacted_schools.sort_values(by=['Money Difference per school'], inplace=True)"
      ],
      "metadata": {
        "id": "oIuZ9P5EDVpr"
      },
      "execution_count": 70,
      "outputs": []
    },
    {
      "cell_type": "markdown",
      "source": [
        "## Multiple Years Impacted - Detailed"
      ],
      "metadata": {
        "id": "xpakTgq2e2WC"
      }
    },
    {
      "cell_type": "code",
      "source": [
        "# If school code frequency is >= 5, then they remain.  \n",
        "# Then the rest of their 10 year data is pulled. "
      ],
      "metadata": {
        "id": "2uFz8FcWn7LR"
      },
      "execution_count": 71,
      "outputs": []
    },
    {
      "cell_type": "code",
      "source": [
        "id_freq_schools = highly_impacted_schools.groupby('School Code').count()"
      ],
      "metadata": {
        "id": "4xji5owN1zm1"
      },
      "execution_count": 72,
      "outputs": []
    },
    {
      "cell_type": "code",
      "source": [
        "id_freq_schools"
      ],
      "metadata": {
        "id": "4eDAD7AVOYpS",
        "colab": {
          "base_uri": "https://localhost:8080/",
          "height": 551
        },
        "outputId": "72e019a3-93a0-41bd-a0aa-216852288dd6"
      },
      "execution_count": 73,
      "outputs": [
        {
          "output_type": "execute_result",
          "data": {
            "text/plain": [
              "             End Year  District Code  District  School  Proficiency Rate  \\\n",
              "School Code                                                                \n",
              "5010                2              2         2       2                 2   \n",
              "5015                2              2         2       2                 2   \n",
              "5020                3              3         3       3                 3   \n",
              "5060                1              1         1       1                 1   \n",
              "6010                9              9         9       9                 9   \n",
              "...               ...            ...       ...     ...               ...   \n",
              "601050              1              1         1       1                 1   \n",
              "601075              1              1         1       1                 1   \n",
              "601084              1              1         1       1                 1   \n",
              "601090              1              1         1       1                 1   \n",
              "601120              3              3         3       3                 3   \n",
              "\n",
              "             Classification  Reported Spending per student  \\\n",
              "School Code                                                  \n",
              "5010                      2                              2   \n",
              "5015                      2                              2   \n",
              "5020                      3                              3   \n",
              "5060                      1                              1   \n",
              "6010                      9                              8   \n",
              "...                     ...                            ...   \n",
              "601050                    1                              1   \n",
              "601075                    1                              1   \n",
              "601084                    1                              1   \n",
              "601090                    1                              1   \n",
              "601120                    3                              3   \n",
              "\n",
              "             Money Difference per school  Money Difference per student  \\\n",
              "School Code                                                              \n",
              "5010                                   2                             2   \n",
              "5015                                   2                             2   \n",
              "5020                                   3                             3   \n",
              "5060                                   1                             1   \n",
              "6010                                   8                             8   \n",
              "...                                  ...                           ...   \n",
              "601050                                 1                             1   \n",
              "601075                                 1                             1   \n",
              "601084                                 1                             1   \n",
              "601090                                 1                             1   \n",
              "601120                                 3                             3   \n",
              "\n",
              "             Estimated Spending per student  \n",
              "School Code                                  \n",
              "5010                                      2  \n",
              "5015                                      2  \n",
              "5020                                      3  \n",
              "5060                                      1  \n",
              "6010                                      8  \n",
              "...                                     ...  \n",
              "601050                                    1  \n",
              "601075                                    1  \n",
              "601084                                    1  \n",
              "601090                                    1  \n",
              "601120                                    3  \n",
              "\n",
              "[729 rows x 10 columns]"
            ],
            "text/html": [
              "\n",
              "  <div id=\"df-1c3ea24d-482b-455a-8fe2-029a67baaced\">\n",
              "    <div class=\"colab-df-container\">\n",
              "      <div>\n",
              "<style scoped>\n",
              "    .dataframe tbody tr th:only-of-type {\n",
              "        vertical-align: middle;\n",
              "    }\n",
              "\n",
              "    .dataframe tbody tr th {\n",
              "        vertical-align: top;\n",
              "    }\n",
              "\n",
              "    .dataframe thead th {\n",
              "        text-align: right;\n",
              "    }\n",
              "</style>\n",
              "<table border=\"1\" class=\"dataframe\">\n",
              "  <thead>\n",
              "    <tr style=\"text-align: right;\">\n",
              "      <th></th>\n",
              "      <th>End Year</th>\n",
              "      <th>District Code</th>\n",
              "      <th>District</th>\n",
              "      <th>School</th>\n",
              "      <th>Proficiency Rate</th>\n",
              "      <th>Classification</th>\n",
              "      <th>Reported Spending per student</th>\n",
              "      <th>Money Difference per school</th>\n",
              "      <th>Money Difference per student</th>\n",
              "      <th>Estimated Spending per student</th>\n",
              "    </tr>\n",
              "    <tr>\n",
              "      <th>School Code</th>\n",
              "      <th></th>\n",
              "      <th></th>\n",
              "      <th></th>\n",
              "      <th></th>\n",
              "      <th></th>\n",
              "      <th></th>\n",
              "      <th></th>\n",
              "      <th></th>\n",
              "      <th></th>\n",
              "      <th></th>\n",
              "    </tr>\n",
              "  </thead>\n",
              "  <tbody>\n",
              "    <tr>\n",
              "      <th>5010</th>\n",
              "      <td>2</td>\n",
              "      <td>2</td>\n",
              "      <td>2</td>\n",
              "      <td>2</td>\n",
              "      <td>2</td>\n",
              "      <td>2</td>\n",
              "      <td>2</td>\n",
              "      <td>2</td>\n",
              "      <td>2</td>\n",
              "      <td>2</td>\n",
              "    </tr>\n",
              "    <tr>\n",
              "      <th>5015</th>\n",
              "      <td>2</td>\n",
              "      <td>2</td>\n",
              "      <td>2</td>\n",
              "      <td>2</td>\n",
              "      <td>2</td>\n",
              "      <td>2</td>\n",
              "      <td>2</td>\n",
              "      <td>2</td>\n",
              "      <td>2</td>\n",
              "      <td>2</td>\n",
              "    </tr>\n",
              "    <tr>\n",
              "      <th>5020</th>\n",
              "      <td>3</td>\n",
              "      <td>3</td>\n",
              "      <td>3</td>\n",
              "      <td>3</td>\n",
              "      <td>3</td>\n",
              "      <td>3</td>\n",
              "      <td>3</td>\n",
              "      <td>3</td>\n",
              "      <td>3</td>\n",
              "      <td>3</td>\n",
              "    </tr>\n",
              "    <tr>\n",
              "      <th>5060</th>\n",
              "      <td>1</td>\n",
              "      <td>1</td>\n",
              "      <td>1</td>\n",
              "      <td>1</td>\n",
              "      <td>1</td>\n",
              "      <td>1</td>\n",
              "      <td>1</td>\n",
              "      <td>1</td>\n",
              "      <td>1</td>\n",
              "      <td>1</td>\n",
              "    </tr>\n",
              "    <tr>\n",
              "      <th>6010</th>\n",
              "      <td>9</td>\n",
              "      <td>9</td>\n",
              "      <td>9</td>\n",
              "      <td>9</td>\n",
              "      <td>9</td>\n",
              "      <td>9</td>\n",
              "      <td>8</td>\n",
              "      <td>8</td>\n",
              "      <td>8</td>\n",
              "      <td>8</td>\n",
              "    </tr>\n",
              "    <tr>\n",
              "      <th>...</th>\n",
              "      <td>...</td>\n",
              "      <td>...</td>\n",
              "      <td>...</td>\n",
              "      <td>...</td>\n",
              "      <td>...</td>\n",
              "      <td>...</td>\n",
              "      <td>...</td>\n",
              "      <td>...</td>\n",
              "      <td>...</td>\n",
              "      <td>...</td>\n",
              "    </tr>\n",
              "    <tr>\n",
              "      <th>601050</th>\n",
              "      <td>1</td>\n",
              "      <td>1</td>\n",
              "      <td>1</td>\n",
              "      <td>1</td>\n",
              "      <td>1</td>\n",
              "      <td>1</td>\n",
              "      <td>1</td>\n",
              "      <td>1</td>\n",
              "      <td>1</td>\n",
              "      <td>1</td>\n",
              "    </tr>\n",
              "    <tr>\n",
              "      <th>601075</th>\n",
              "      <td>1</td>\n",
              "      <td>1</td>\n",
              "      <td>1</td>\n",
              "      <td>1</td>\n",
              "      <td>1</td>\n",
              "      <td>1</td>\n",
              "      <td>1</td>\n",
              "      <td>1</td>\n",
              "      <td>1</td>\n",
              "      <td>1</td>\n",
              "    </tr>\n",
              "    <tr>\n",
              "      <th>601084</th>\n",
              "      <td>1</td>\n",
              "      <td>1</td>\n",
              "      <td>1</td>\n",
              "      <td>1</td>\n",
              "      <td>1</td>\n",
              "      <td>1</td>\n",
              "      <td>1</td>\n",
              "      <td>1</td>\n",
              "      <td>1</td>\n",
              "      <td>1</td>\n",
              "    </tr>\n",
              "    <tr>\n",
              "      <th>601090</th>\n",
              "      <td>1</td>\n",
              "      <td>1</td>\n",
              "      <td>1</td>\n",
              "      <td>1</td>\n",
              "      <td>1</td>\n",
              "      <td>1</td>\n",
              "      <td>1</td>\n",
              "      <td>1</td>\n",
              "      <td>1</td>\n",
              "      <td>1</td>\n",
              "    </tr>\n",
              "    <tr>\n",
              "      <th>601120</th>\n",
              "      <td>3</td>\n",
              "      <td>3</td>\n",
              "      <td>3</td>\n",
              "      <td>3</td>\n",
              "      <td>3</td>\n",
              "      <td>3</td>\n",
              "      <td>3</td>\n",
              "      <td>3</td>\n",
              "      <td>3</td>\n",
              "      <td>3</td>\n",
              "    </tr>\n",
              "  </tbody>\n",
              "</table>\n",
              "<p>729 rows × 10 columns</p>\n",
              "</div>\n",
              "      <button class=\"colab-df-convert\" onclick=\"convertToInteractive('df-1c3ea24d-482b-455a-8fe2-029a67baaced')\"\n",
              "              title=\"Convert this dataframe to an interactive table.\"\n",
              "              style=\"display:none;\">\n",
              "        \n",
              "  <svg xmlns=\"http://www.w3.org/2000/svg\" height=\"24px\"viewBox=\"0 0 24 24\"\n",
              "       width=\"24px\">\n",
              "    <path d=\"M0 0h24v24H0V0z\" fill=\"none\"/>\n",
              "    <path d=\"M18.56 5.44l.94 2.06.94-2.06 2.06-.94-2.06-.94-.94-2.06-.94 2.06-2.06.94zm-11 1L8.5 8.5l.94-2.06 2.06-.94-2.06-.94L8.5 2.5l-.94 2.06-2.06.94zm10 10l.94 2.06.94-2.06 2.06-.94-2.06-.94-.94-2.06-.94 2.06-2.06.94z\"/><path d=\"M17.41 7.96l-1.37-1.37c-.4-.4-.92-.59-1.43-.59-.52 0-1.04.2-1.43.59L10.3 9.45l-7.72 7.72c-.78.78-.78 2.05 0 2.83L4 21.41c.39.39.9.59 1.41.59.51 0 1.02-.2 1.41-.59l7.78-7.78 2.81-2.81c.8-.78.8-2.07 0-2.86zM5.41 20L4 18.59l7.72-7.72 1.47 1.35L5.41 20z\"/>\n",
              "  </svg>\n",
              "      </button>\n",
              "      \n",
              "  <style>\n",
              "    .colab-df-container {\n",
              "      display:flex;\n",
              "      flex-wrap:wrap;\n",
              "      gap: 12px;\n",
              "    }\n",
              "\n",
              "    .colab-df-convert {\n",
              "      background-color: #E8F0FE;\n",
              "      border: none;\n",
              "      border-radius: 50%;\n",
              "      cursor: pointer;\n",
              "      display: none;\n",
              "      fill: #1967D2;\n",
              "      height: 32px;\n",
              "      padding: 0 0 0 0;\n",
              "      width: 32px;\n",
              "    }\n",
              "\n",
              "    .colab-df-convert:hover {\n",
              "      background-color: #E2EBFA;\n",
              "      box-shadow: 0px 1px 2px rgba(60, 64, 67, 0.3), 0px 1px 3px 1px rgba(60, 64, 67, 0.15);\n",
              "      fill: #174EA6;\n",
              "    }\n",
              "\n",
              "    [theme=dark] .colab-df-convert {\n",
              "      background-color: #3B4455;\n",
              "      fill: #D2E3FC;\n",
              "    }\n",
              "\n",
              "    [theme=dark] .colab-df-convert:hover {\n",
              "      background-color: #434B5C;\n",
              "      box-shadow: 0px 1px 3px 1px rgba(0, 0, 0, 0.15);\n",
              "      filter: drop-shadow(0px 1px 2px rgba(0, 0, 0, 0.3));\n",
              "      fill: #FFFFFF;\n",
              "    }\n",
              "  </style>\n",
              "\n",
              "      <script>\n",
              "        const buttonEl =\n",
              "          document.querySelector('#df-1c3ea24d-482b-455a-8fe2-029a67baaced button.colab-df-convert');\n",
              "        buttonEl.style.display =\n",
              "          google.colab.kernel.accessAllowed ? 'block' : 'none';\n",
              "\n",
              "        async function convertToInteractive(key) {\n",
              "          const element = document.querySelector('#df-1c3ea24d-482b-455a-8fe2-029a67baaced');\n",
              "          const dataTable =\n",
              "            await google.colab.kernel.invokeFunction('convertToInteractive',\n",
              "                                                     [key], {});\n",
              "          if (!dataTable) return;\n",
              "\n",
              "          const docLinkHtml = 'Like what you see? Visit the ' +\n",
              "            '<a target=\"_blank\" href=https://colab.research.google.com/notebooks/data_table.ipynb>data table notebook</a>'\n",
              "            + ' to learn more about interactive tables.';\n",
              "          element.innerHTML = '';\n",
              "          dataTable['output_type'] = 'display_data';\n",
              "          await google.colab.output.renderOutput(dataTable, element);\n",
              "          const docLink = document.createElement('div');\n",
              "          docLink.innerHTML = docLinkHtml;\n",
              "          element.appendChild(docLink);\n",
              "        }\n",
              "      </script>\n",
              "    </div>\n",
              "  </div>\n",
              "  "
            ]
          },
          "metadata": {},
          "execution_count": 73
        }
      ]
    },
    {
      "cell_type": "code",
      "source": [
        "sns.countplot(id_freq_schools['End Year'], label='count')"
      ],
      "metadata": {
        "id": "2waB27JSOIcH",
        "colab": {
          "base_uri": "https://localhost:8080/",
          "height": 352
        },
        "outputId": "8f54e380-7ab2-4ae5-812c-1ed1a7c9e0cb"
      },
      "execution_count": 74,
      "outputs": [
        {
          "output_type": "stream",
          "name": "stderr",
          "text": [
            "/usr/local/lib/python3.8/dist-packages/seaborn/_decorators.py:36: FutureWarning: Pass the following variable as a keyword arg: x. From version 0.12, the only valid positional argument will be `data`, and passing other arguments without an explicit keyword will result in an error or misinterpretation.\n",
            "  warnings.warn(\n"
          ]
        },
        {
          "output_type": "execute_result",
          "data": {
            "text/plain": [
              "<matplotlib.axes._subplots.AxesSubplot at 0x7f0a3e818b20>"
            ]
          },
          "metadata": {},
          "execution_count": 74
        },
        {
          "output_type": "display_data",
          "data": {
            "text/plain": [
              "<Figure size 432x288 with 1 Axes>"
            ],
            "image/png": "[encoded data removed]"
          },
          "metadata": {
            "needs_background": "light"
          }
        }
      ]
    },
    {
      "cell_type": "code",
      "source": [
        "# Select frequency that a school appears in either the top or bottom percentile of the highly impacted schools\n",
        "# There should be a default selected. \n",
        "\n",
        "select_frequency = 5\n",
        "\n",
        "# If school code frequency is >= 5 years, then they remain. Unless above variable is updated to a different number.   \n",
        "\n",
        "for i in id_freq_schools.index:\n",
        "  if id_freq_schools['End Year'][i] < select_frequency:\n",
        "    id_freq_schools.drop([i], axis= 0, inplace=True)\n",
        "\n",
        "freq_school_code = id_freq_schools.index.unique().sort_values()"
      ],
      "metadata": {
        "id": "PTNMBs3DrIhY"
      },
      "execution_count": 75,
      "outputs": []
    },
    {
      "cell_type": "code",
      "source": [
        "freq_school_code"
      ],
      "metadata": {
        "colab": {
          "base_uri": "https://localhost:8080/"
        },
        "id": "hdbCv_um2Tqa",
        "outputId": "154a35a1-d96c-4454-fb88-44558b0b7144"
      },
      "execution_count": 76,
      "outputs": [
        {
          "output_type": "execute_result",
          "data": {
            "text/plain": [
              "Int64Index([  6010,  11022,  11025,  21014,  21027,  26010,  35011,  35015,\n",
              "             35065,  51080,\n",
              "            ...\n",
              "            501395, 505010, 525035, 567020, 571002, 571230, 585050, 585125,\n",
              "            591061, 591062],\n",
              "           dtype='int64', name='School Code', length=160)"
            ]
          },
          "metadata": {},
          "execution_count": 76
        }
      ]
    },
    {
      "cell_type": "code",
      "source": [
        "# This is the detailed schools who are repeatedly in the top/bottom.\n",
        "# Pulls all of their school data. \n",
        "\n",
        "ten_year_impacted = published_ky_df.iloc[0:0,:]\n",
        "\n",
        "for code in freq_school_code:\n",
        "  school_ten_year = published_ky_df[published_ky_df['School Code'] == code]\n",
        "  ten_year_impacted = ten_year_impacted.append(school_ten_year)\n"
      ],
      "metadata": {
        "id": "mp_YTum1mQ8L"
      },
      "execution_count": 77,
      "outputs": []
    },
    {
      "cell_type": "code",
      "source": [
        "ten_year_impacted.sort_values(by=['Money Difference per school'], inplace=True)"
      ],
      "metadata": {
        "id": "kbnMp6tmhxVp"
      },
      "execution_count": 78,
      "outputs": []
    },
    {
      "cell_type": "code",
      "source": [
        "ten_year_impacted"
      ],
      "metadata": {
        "id": "14J-CnFNy0qc",
        "colab": {
          "base_uri": "https://localhost:8080/",
          "height": 763
        },
        "outputId": "fc30fa1b-9202-49ec-905a-151759341d2b"
      },
      "execution_count": 79,
      "outputs": [
        {
          "output_type": "execute_result",
          "data": {
            "text/plain": [
              "      End Year  District Code          District  School Code  \\\n",
              "5570      2012            275  Jefferson County       275620   \n",
              "5199      2019            275  Jefferson County       275155   \n",
              "4574      2015            275  Jefferson County       275033   \n",
              "5197      2017            275  Jefferson County       275155   \n",
              "4571      2012            275  Jefferson County       275033   \n",
              "...        ...            ...               ...          ...   \n",
              "9573      2022            571     Warren County       571230   \n",
              "9657      2022            585    Webster County       585050   \n",
              "9681      2022            585    Webster County       585125   \n",
              "9708      2022            591    Whitley County       591061   \n",
              "9717      2022            591    Whitley County       591062   \n",
              "\n",
              "                                     School  Proficiency Rate  \\\n",
              "5570    Frederick Law Olmsted Academy North                34   \n",
              "5199                 Marion C. Moore School                40   \n",
              "4574                            Valley High                42   \n",
              "5197                 Marion C. Moore School                45   \n",
              "4571                            Valley High                31   \n",
              "...                                     ...               ...   \n",
              "9573                  Greenwood High School                74   \n",
              "9657                Dixon Elementary School                55   \n",
              "9681           Webster County Middle School                53   \n",
              "9708    Whitley Central Intermediate School                75   \n",
              "9717  Whitley County East Elementary School                85   \n",
              "\n",
              "         Classification  Reported Spending per student  \\\n",
              "5570  Needs Improvement                      10,980.00   \n",
              "5199  Needs Improvement                      14,030.00   \n",
              "4574  Needs Improvement                      10,270.00   \n",
              "5197      Distinguished                      12,230.00   \n",
              "4571  Needs Improvement                      10,290.00   \n",
              "...                 ...                            ...   \n",
              "9573      Distinguished                            NaN   \n",
              "9657         Proficient                            NaN   \n",
              "9681         Proficient                            NaN   \n",
              "9708      Distinguished                            NaN   \n",
              "9717      Distinguished                            NaN   \n",
              "\n",
              "      Money Difference per school  Money Difference per student  \\\n",
              "5570                  -666,200.00                       -880.00   \n",
              "5199                  -643,000.00                       -290.00   \n",
              "4574                  -634,200.00                       -450.00   \n",
              "5197                  -621,500.00                       -310.00   \n",
              "4571                  -551,700.00                       -600.00   \n",
              "...                           ...                           ...   \n",
              "9573                          NaN                           NaN   \n",
              "9657                          NaN                           NaN   \n",
              "9681                          NaN                           NaN   \n",
              "9708                          NaN                           NaN   \n",
              "9717                          NaN                           NaN   \n",
              "\n",
              "      Estimated Spending per student  \n",
              "5570                       10,097.00  \n",
              "5199                       13,743.00  \n",
              "4574                        9,822.00  \n",
              "5197                       11,921.00  \n",
              "4571                        9,685.00  \n",
              "...                              ...  \n",
              "9573                             NaN  \n",
              "9657                             NaN  \n",
              "9681                             NaN  \n",
              "9708                             NaN  \n",
              "9717                             NaN  \n",
              "\n",
              "[1437 rows x 11 columns]"
            ],
            "text/html": [
              "\n",
              "  <div id=\"df-6ad12d7b-81c0-40dd-97e3-39ce182249d2\">\n",
              "    <div class=\"colab-df-container\">\n",
              "      <div>\n",
              "<style scoped>\n",
              "    .dataframe tbody tr th:only-of-type {\n",
              "        vertical-align: middle;\n",
              "    }\n",
              "\n",
              "    .dataframe tbody tr th {\n",
              "        vertical-align: top;\n",
              "    }\n",
              "\n",
              "    .dataframe thead th {\n",
              "        text-align: right;\n",
              "    }\n",
              "</style>\n",
              "<table border=\"1\" class=\"dataframe\">\n",
              "  <thead>\n",
              "    <tr style=\"text-align: right;\">\n",
              "      <th></th>\n",
              "      <th>End Year</th>\n",
              "      <th>District Code</th>\n",
              "      <th>District</th>\n",
              "      <th>School Code</th>\n",
              "      <th>School</th>\n",
              "      <th>Proficiency Rate</th>\n",
              "      <th>Classification</th>\n",
              "      <th>Reported Spending per student</th>\n",
              "      <th>Money Difference per school</th>\n",
              "      <th>Money Difference per student</th>\n",
              "      <th>Estimated Spending per student</th>\n",
              "    </tr>\n",
              "  </thead>\n",
              "  <tbody>\n",
              "    <tr>\n",
              "      <th>5570</th>\n",
              "      <td>2012</td>\n",
              "      <td>275</td>\n",
              "      <td>Jefferson County</td>\n",
              "      <td>275620</td>\n",
              "      <td>Frederick Law Olmsted Academy North</td>\n",
              "      <td>34</td>\n",
              "      <td>Needs Improvement</td>\n",
              "      <td>10,980.00</td>\n",
              "      <td>-666,200.00</td>\n",
              "      <td>-880.00</td>\n",
              "      <td>10,097.00</td>\n",
              "    </tr>\n",
              "    <tr>\n",
              "      <th>5199</th>\n",
              "      <td>2019</td>\n",
              "      <td>275</td>\n",
              "      <td>Jefferson County</td>\n",
              "      <td>275155</td>\n",
              "      <td>Marion C. Moore School</td>\n",
              "      <td>40</td>\n",
              "      <td>Needs Improvement</td>\n",
              "      <td>14,030.00</td>\n",
              "      <td>-643,000.00</td>\n",
              "      <td>-290.00</td>\n",
              "      <td>13,743.00</td>\n",
              "    </tr>\n",
              "    <tr>\n",
              "      <th>4574</th>\n",
              "      <td>2015</td>\n",
              "      <td>275</td>\n",
              "      <td>Jefferson County</td>\n",
              "      <td>275033</td>\n",
              "      <td>Valley High</td>\n",
              "      <td>42</td>\n",
              "      <td>Needs Improvement</td>\n",
              "      <td>10,270.00</td>\n",
              "      <td>-634,200.00</td>\n",
              "      <td>-450.00</td>\n",
              "      <td>9,822.00</td>\n",
              "    </tr>\n",
              "    <tr>\n",
              "      <th>5197</th>\n",
              "      <td>2017</td>\n",
              "      <td>275</td>\n",
              "      <td>Jefferson County</td>\n",
              "      <td>275155</td>\n",
              "      <td>Marion C. Moore School</td>\n",
              "      <td>45</td>\n",
              "      <td>Distinguished</td>\n",
              "      <td>12,230.00</td>\n",
              "      <td>-621,500.00</td>\n",
              "      <td>-310.00</td>\n",
              "      <td>11,921.00</td>\n",
              "    </tr>\n",
              "    <tr>\n",
              "      <th>4571</th>\n",
              "      <td>2012</td>\n",
              "      <td>275</td>\n",
              "      <td>Jefferson County</td>\n",
              "      <td>275033</td>\n",
              "      <td>Valley High</td>\n",
              "      <td>31</td>\n",
              "      <td>Needs Improvement</td>\n",
              "      <td>10,290.00</td>\n",
              "      <td>-551,700.00</td>\n",
              "      <td>-600.00</td>\n",
              "      <td>9,685.00</td>\n",
              "    </tr>\n",
              "    <tr>\n",
              "      <th>...</th>\n",
              "      <td>...</td>\n",
              "      <td>...</td>\n",
              "      <td>...</td>\n",
              "      <td>...</td>\n",
              "      <td>...</td>\n",
              "      <td>...</td>\n",
              "      <td>...</td>\n",
              "      <td>...</td>\n",
              "      <td>...</td>\n",
              "      <td>...</td>\n",
              "      <td>...</td>\n",
              "    </tr>\n",
              "    <tr>\n",
              "      <th>9573</th>\n",
              "      <td>2022</td>\n",
              "      <td>571</td>\n",
              "      <td>Warren County</td>\n",
              "      <td>571230</td>\n",
              "      <td>Greenwood High School</td>\n",
              "      <td>74</td>\n",
              "      <td>Distinguished</td>\n",
              "      <td>NaN</td>\n",
              "      <td>NaN</td>\n",
              "      <td>NaN</td>\n",
              "      <td>NaN</td>\n",
              "    </tr>\n",
              "    <tr>\n",
              "      <th>9657</th>\n",
              "      <td>2022</td>\n",
              "      <td>585</td>\n",
              "      <td>Webster County</td>\n",
              "      <td>585050</td>\n",
              "      <td>Dixon Elementary School</td>\n",
              "      <td>55</td>\n",
              "      <td>Proficient</td>\n",
              "      <td>NaN</td>\n",
              "      <td>NaN</td>\n",
              "      <td>NaN</td>\n",
              "      <td>NaN</td>\n",
              "    </tr>\n",
              "    <tr>\n",
              "      <th>9681</th>\n",
              "      <td>2022</td>\n",
              "      <td>585</td>\n",
              "      <td>Webster County</td>\n",
              "      <td>585125</td>\n",
              "      <td>Webster County Middle School</td>\n",
              "      <td>53</td>\n",
              "      <td>Proficient</td>\n",
              "      <td>NaN</td>\n",
              "      <td>NaN</td>\n",
              "      <td>NaN</td>\n",
              "      <td>NaN</td>\n",
              "    </tr>\n",
              "    <tr>\n",
              "      <th>9708</th>\n",
              "      <td>2022</td>\n",
              "      <td>591</td>\n",
              "      <td>Whitley County</td>\n",
              "      <td>591061</td>\n",
              "      <td>Whitley Central Intermediate School</td>\n",
              "      <td>75</td>\n",
              "      <td>Distinguished</td>\n",
              "      <td>NaN</td>\n",
              "      <td>NaN</td>\n",
              "      <td>NaN</td>\n",
              "      <td>NaN</td>\n",
              "    </tr>\n",
              "    <tr>\n",
              "      <th>9717</th>\n",
              "      <td>2022</td>\n",
              "      <td>591</td>\n",
              "      <td>Whitley County</td>\n",
              "      <td>591062</td>\n",
              "      <td>Whitley County East Elementary School</td>\n",
              "      <td>85</td>\n",
              "      <td>Distinguished</td>\n",
              "      <td>NaN</td>\n",
              "      <td>NaN</td>\n",
              "      <td>NaN</td>\n",
              "      <td>NaN</td>\n",
              "    </tr>\n",
              "  </tbody>\n",
              "</table>\n",
              "<p>1437 rows × 11 columns</p>\n",
              "</div>\n",
              "      <button class=\"colab-df-convert\" onclick=\"convertToInteractive('df-6ad12d7b-81c0-40dd-97e3-39ce182249d2')\"\n",
              "              title=\"Convert this dataframe to an interactive table.\"\n",
              "              style=\"display:none;\">\n",
              "        \n",
              "  <svg xmlns=\"http://www.w3.org/2000/svg\" height=\"24px\"viewBox=\"0 0 24 24\"\n",
              "       width=\"24px\">\n",
              "    <path d=\"M0 0h24v24H0V0z\" fill=\"none\"/>\n",
              "    <path d=\"M18.56 5.44l.94 2.06.94-2.06 2.06-.94-2.06-.94-.94-2.06-.94 2.06-2.06.94zm-11 1L8.5 8.5l.94-2.06 2.06-.94-2.06-.94L8.5 2.5l-.94 2.06-2.06.94zm10 10l.94 2.06.94-2.06 2.06-.94-2.06-.94-.94-2.06-.94 2.06-2.06.94z\"/><path d=\"M17.41 7.96l-1.37-1.37c-.4-.4-.92-.59-1.43-.59-.52 0-1.04.2-1.43.59L10.3 9.45l-7.72 7.72c-.78.78-.78 2.05 0 2.83L4 21.41c.39.39.9.59 1.41.59.51 0 1.02-.2 1.41-.59l7.78-7.78 2.81-2.81c.8-.78.8-2.07 0-2.86zM5.41 20L4 18.59l7.72-7.72 1.47 1.35L5.41 20z\"/>\n",
              "  </svg>\n",
              "      </button>\n",
              "      \n",
              "  <style>\n",
              "    .colab-df-container {\n",
              "      display:flex;\n",
              "      flex-wrap:wrap;\n",
              "      gap: 12px;\n",
              "    }\n",
              "\n",
              "    .colab-df-convert {\n",
              "      background-color: #E8F0FE;\n",
              "      border: none;\n",
              "      border-radius: 50%;\n",
              "      cursor: pointer;\n",
              "      display: none;\n",
              "      fill: #1967D2;\n",
              "      height: 32px;\n",
              "      padding: 0 0 0 0;\n",
              "      width: 32px;\n",
              "    }\n",
              "\n",
              "    .colab-df-convert:hover {\n",
              "      background-color: #E2EBFA;\n",
              "      box-shadow: 0px 1px 2px rgba(60, 64, 67, 0.3), 0px 1px 3px 1px rgba(60, 64, 67, 0.15);\n",
              "      fill: #174EA6;\n",
              "    }\n",
              "\n",
              "    [theme=dark] .colab-df-convert {\n",
              "      background-color: #3B4455;\n",
              "      fill: #D2E3FC;\n",
              "    }\n",
              "\n",
              "    [theme=dark] .colab-df-convert:hover {\n",
              "      background-color: #434B5C;\n",
              "      box-shadow: 0px 1px 3px 1px rgba(0, 0, 0, 0.15);\n",
              "      filter: drop-shadow(0px 1px 2px rgba(0, 0, 0, 0.3));\n",
              "      fill: #FFFFFF;\n",
              "    }\n",
              "  </style>\n",
              "\n",
              "      <script>\n",
              "        const buttonEl =\n",
              "          document.querySelector('#df-6ad12d7b-81c0-40dd-97e3-39ce182249d2 button.colab-df-convert');\n",
              "        buttonEl.style.display =\n",
              "          google.colab.kernel.accessAllowed ? 'block' : 'none';\n",
              "\n",
              "        async function convertToInteractive(key) {\n",
              "          const element = document.querySelector('#df-6ad12d7b-81c0-40dd-97e3-39ce182249d2');\n",
              "          const dataTable =\n",
              "            await google.colab.kernel.invokeFunction('convertToInteractive',\n",
              "                                                     [key], {});\n",
              "          if (!dataTable) return;\n",
              "\n",
              "          const docLinkHtml = 'Like what you see? Visit the ' +\n",
              "            '<a target=\"_blank\" href=https://colab.research.google.com/notebooks/data_table.ipynb>data table notebook</a>'\n",
              "            + ' to learn more about interactive tables.';\n",
              "          element.innerHTML = '';\n",
              "          dataTable['output_type'] = 'display_data';\n",
              "          await google.colab.output.renderOutput(dataTable, element);\n",
              "          const docLink = document.createElement('div');\n",
              "          docLink.innerHTML = docLinkHtml;\n",
              "          element.appendChild(docLink);\n",
              "        }\n",
              "      </script>\n",
              "    </div>\n",
              "  </div>\n",
              "  "
            ]
          },
          "metadata": {},
          "execution_count": 79
        }
      ]
    }
  ]
}