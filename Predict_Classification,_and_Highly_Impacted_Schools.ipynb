{
  "nbformat": 4,
  "nbformat_minor": 0,
  "metadata": {
    "colab": {
      "provenance": [],
      "collapsed_sections": [
        "xpakTgq2e2WC"
      ],
      "toc_visible": true,
      "authorship_tag": "ABX9TyMZSBfiEOUfRFqs/QCZ1U2m",
      "include_colab_link": true
    },
    "kernelspec": {
      "name": "python3",
      "display_name": "Python 3"
    },
    "language_info": {
      "name": "python"
    }
  },
  "cells": [
    {
      "cell_type": "markdown",
      "metadata": {
        "id": "view-in-github",
        "colab_type": "text"
      },
      "source": [
        "<a href=\"https://colab.research.google.com/github/rosehelfrich/Ky_School_data/blob/main/Predict_Classification%2C_and_Highly_Impacted_Schools.ipynb\" target=\"_parent\"><img src=\"https://colab.research.google.com/assets/colab-badge.svg\" alt=\"Open In Colab\"/></a>"
      ]
    },
    {
      "cell_type": "code",
      "execution_count": 1,
      "metadata": {
        "id": "mPbt9W2-tujY"
      },
      "outputs": [],
      "source": [
        "import pandas as pd\n",
        "import numpy as np\n",
        "import tensorflow as tf\n",
        "\n",
        "import seaborn as sns\n",
        "import matplotlib.pyplot as plt"
      ]
    },
    {
      "cell_type": "code",
      "source": [
        "from google.colab import drive\n",
        "drive.mount('/content/drive')"
      ],
      "metadata": {
        "colab": {
          "base_uri": "https://localhost:8080/"
        },
        "id": "kl7kadJNt5Pr",
        "outputId": "af7a4096-1230-4c87-f031-7e76bbf89111"
      },
      "execution_count": 2,
      "outputs": [
        {
          "output_type": "stream",
          "name": "stdout",
          "text": [
            "Drive already mounted at /content/drive; to attempt to forcibly remount, call drive.mount(\"/content/drive\", force_remount=True).\n"
          ]
        }
      ]
    },
    {
      "cell_type": "code",
      "source": [
        "# Column / Row options\n",
        "pd.options.display.max_columns = None\n",
        "pd.options.display.max_rows = 20\n",
        "\n",
        "# Two decimal places and the thousands separator\n",
        "pd.options.display.float_format = '{:,.2f}'.format"
      ],
      "metadata": {
        "id": "0PIbEaZVE2sd"
      },
      "execution_count": 3,
      "outputs": []
    },
    {
      "cell_type": "markdown",
      "source": [
        "# Merge scores with KY df"
      ],
      "metadata": {
        "id": "VZvOAbpDsZ3n"
      }
    },
    {
      "cell_type": "code",
      "source": [
        "df_scores = pd.read_csv('/content/drive/MyDrive/Colab Data/KY EPSB/All Years/df_scores.csv')"
      ],
      "metadata": {
        "id": "rQt8IcwgE22V"
      },
      "execution_count": 4,
      "outputs": []
    },
    {
      "cell_type": "code",
      "source": [
        "ky_spending_df = pd.read_csv('/content/drive/MyDrive/Colab Data/KY EPSB/All Years/published_ky_df_all.csv')"
      ],
      "metadata": {
        "id": "BGo2xpQoaqro"
      },
      "execution_count": 5,
      "outputs": []
    },
    {
      "cell_type": "code",
      "source": [
        "ky_spending_df = ky_spending_df.loc[:,['End Year', 'School Code', 'Reported Spending per student', 'Money Difference per school',\n",
        "       'Money Difference per student', 'Estimated Spending per student']]"
      ],
      "metadata": {
        "id": "J47qxVBwa0S3"
      },
      "execution_count": 6,
      "outputs": []
    },
    {
      "cell_type": "code",
      "source": [
        "df = pd.merge(df_scores, ky_spending_df, on=['End Year', 'School Code'], how='left')"
      ],
      "metadata": {
        "id": "EEpaGphGQyXx"
      },
      "execution_count": 7,
      "outputs": []
    },
    {
      "cell_type": "code",
      "source": [
        "df.drop_duplicates(inplace=True)\n",
        "\n",
        "# Reset index\n",
        "df.reset_index(drop=True, inplace=True)\n",
        "\n",
        "df.index"
      ],
      "metadata": {
        "id": "P3F23OHZiSji",
        "colab": {
          "base_uri": "https://localhost:8080/"
        },
        "outputId": "b7cd6939-a3f5-4081-aa95-d1cb0956eefa"
      },
      "execution_count": 8,
      "outputs": [
        {
          "output_type": "execute_result",
          "data": {
            "text/plain": [
              "RangeIndex(start=0, stop=9892, step=1)"
            ]
          },
          "metadata": {},
          "execution_count": 8
        }
      ]
    },
    {
      "cell_type": "code",
      "source": [
        "columns_df = ['End Year', 'District Code', 'School Code', 'Proficiency Rate', \n",
        "              'Reported Spending per student', 'Money Difference per school', \n",
        "              'Money Difference per student', 'Estimated Spending per student']\n",
        "\n",
        "for column in columns_df:\n",
        "  df = df.round({column:0})\n",
        "  df[column] = df[column].astype(int, errors='ignore')"
      ],
      "metadata": {
        "id": "8R5fkpGrgW3D"
      },
      "execution_count": 9,
      "outputs": []
    },
    {
      "cell_type": "code",
      "source": [
        "# Take out \"/Progressing\"\n",
        "df.replace('Distinguished/Progressing', 'Distinguished', inplace=True)\n",
        "df.replace('Proficient/Progressing', 'Proficient', inplace=True)\n",
        "df.replace('Needs Improvement/Progressing', 'Needs Improvement', inplace=True)"
      ],
      "metadata": {
        "id": "zEUuozLJg7hL"
      },
      "execution_count": 10,
      "outputs": []
    },
    {
      "cell_type": "code",
      "source": [
        "df"
      ],
      "metadata": {
        "id": "z_qni_Q358qD",
        "colab": {
          "base_uri": "https://localhost:8080/",
          "height": 973
        },
        "outputId": "a1e687c5-bd74-4d6f-f9cd-4ddd17add8d0"
      },
      "execution_count": 11,
      "outputs": [
        {
          "output_type": "execute_result",
          "data": {
            "text/plain": [
              "      End Year  District Code         District  School Code  \\\n",
              "0         2012              1     Adair County         1010   \n",
              "1         2013              1     Adair County         1010   \n",
              "2         2014              1     Adair County         1010   \n",
              "3         2015              1     Adair County         1010   \n",
              "4         2016              1     Adair County         1010   \n",
              "...        ...            ...              ...          ...   \n",
              "9887      2016            601  Woodford County       601120   \n",
              "9888      2017            601  Woodford County       601120   \n",
              "9889      2018            601  Woodford County       601120   \n",
              "9890      2019            601  Woodford County       601120   \n",
              "9891      2022            601  Woodford County       601120   \n",
              "\n",
              "                           School  Proficiency Rate     KY Rank/Rating  \\\n",
              "0        Adair County High School                55                 57   \n",
              "1        Adair County High School                54                 48   \n",
              "2        Adair County High School                69                 65   \n",
              "3        Adair County High School                71                 73   \n",
              "4        Adair County High School                72         Proficient   \n",
              "...                           ...               ...                ...   \n",
              "9887  Northside Elementary School                60  Needs Improvement   \n",
              "9888  Northside Elementary School                75                NaN   \n",
              "9889  Northside Elementary School                73                NaN   \n",
              "9890  Northside Elementary School                76               High   \n",
              "9891  Northside Elementary School                68             Medium   \n",
              "\n",
              "         Classification  Reported Spending per student  \\\n",
              "0     Needs Improvement                       6,457.00   \n",
              "1     Needs Improvement                       6,377.00   \n",
              "2     Needs Improvement                       6,970.00   \n",
              "3            Proficient                       9,486.00   \n",
              "4                   NaN                      10,270.00   \n",
              "...                 ...                            ...   \n",
              "9887                NaN                      12,046.00   \n",
              "9888                NaN                       9,940.00   \n",
              "9889                NaN                      13,641.00   \n",
              "9890                NaN                      11,865.00   \n",
              "9891                NaN                            NaN   \n",
              "\n",
              "      Money Difference per school  Money Difference per student  \\\n",
              "0                      -36,414.00                        -52.00   \n",
              "1                      -37,044.00                        -49.00   \n",
              "2                      -13,146.00                        -18.00   \n",
              "3                      -42,096.00                        -55.00   \n",
              "4                      -19,228.00                        -25.00   \n",
              "...                           ...                           ...   \n",
              "9887                    34,017.00                        107.00   \n",
              "9888                    17,446.00                         53.00   \n",
              "9889                    51,768.00                        150.00   \n",
              "9890                    48,399.00                        142.00   \n",
              "9891                          NaN                           NaN   \n",
              "\n",
              "      Estimated Spending per student  \n",
              "0                           6,405.00  \n",
              "1                           6,328.00  \n",
              "2                           6,952.00  \n",
              "3                           9,431.00  \n",
              "4                          10,245.00  \n",
              "...                              ...  \n",
              "9887                       12,153.00  \n",
              "9888                        9,993.00  \n",
              "9889                       13,791.00  \n",
              "9890                       12,007.00  \n",
              "9891                             NaN  \n",
              "\n",
              "[9892 rows x 12 columns]"
            ],
            "text/html": [
              "\n",
              "  <div id=\"df-b41b9c84-389f-4fa3-a357-3feb4cbcae00\">\n",
              "    <div class=\"colab-df-container\">\n",
              "      <div>\n",
              "<style scoped>\n",
              "    .dataframe tbody tr th:only-of-type {\n",
              "        vertical-align: middle;\n",
              "    }\n",
              "\n",
              "    .dataframe tbody tr th {\n",
              "        vertical-align: top;\n",
              "    }\n",
              "\n",
              "    .dataframe thead th {\n",
              "        text-align: right;\n",
              "    }\n",
              "</style>\n",
              "<table border=\"1\" class=\"dataframe\">\n",
              "  <thead>\n",
              "    <tr style=\"text-align: right;\">\n",
              "      <th></th>\n",
              "      <th>End Year</th>\n",
              "      <th>District Code</th>\n",
              "      <th>District</th>\n",
              "      <th>School Code</th>\n",
              "      <th>School</th>\n",
              "      <th>Proficiency Rate</th>\n",
              "      <th>KY Rank/Rating</th>\n",
              "      <th>Classification</th>\n",
              "      <th>Reported Spending per student</th>\n",
              "      <th>Money Difference per school</th>\n",
              "      <th>Money Difference per student</th>\n",
              "      <th>Estimated Spending per student</th>\n",
              "    </tr>\n",
              "  </thead>\n",
              "  <tbody>\n",
              "    <tr>\n",
              "      <th>0</th>\n",
              "      <td>2012</td>\n",
              "      <td>1</td>\n",
              "      <td>Adair County</td>\n",
              "      <td>1010</td>\n",
              "      <td>Adair County High School</td>\n",
              "      <td>55</td>\n",
              "      <td>57</td>\n",
              "      <td>Needs Improvement</td>\n",
              "      <td>6,457.00</td>\n",
              "      <td>-36,414.00</td>\n",
              "      <td>-52.00</td>\n",
              "      <td>6,405.00</td>\n",
              "    </tr>\n",
              "    <tr>\n",
              "      <th>1</th>\n",
              "      <td>2013</td>\n",
              "      <td>1</td>\n",
              "      <td>Adair County</td>\n",
              "      <td>1010</td>\n",
              "      <td>Adair County High School</td>\n",
              "      <td>54</td>\n",
              "      <td>48</td>\n",
              "      <td>Needs Improvement</td>\n",
              "      <td>6,377.00</td>\n",
              "      <td>-37,044.00</td>\n",
              "      <td>-49.00</td>\n",
              "      <td>6,328.00</td>\n",
              "    </tr>\n",
              "    <tr>\n",
              "      <th>2</th>\n",
              "      <td>2014</td>\n",
              "      <td>1</td>\n",
              "      <td>Adair County</td>\n",
              "      <td>1010</td>\n",
              "      <td>Adair County High School</td>\n",
              "      <td>69</td>\n",
              "      <td>65</td>\n",
              "      <td>Needs Improvement</td>\n",
              "      <td>6,970.00</td>\n",
              "      <td>-13,146.00</td>\n",
              "      <td>-18.00</td>\n",
              "      <td>6,952.00</td>\n",
              "    </tr>\n",
              "    <tr>\n",
              "      <th>3</th>\n",
              "      <td>2015</td>\n",
              "      <td>1</td>\n",
              "      <td>Adair County</td>\n",
              "      <td>1010</td>\n",
              "      <td>Adair County High School</td>\n",
              "      <td>71</td>\n",
              "      <td>73</td>\n",
              "      <td>Proficient</td>\n",
              "      <td>9,486.00</td>\n",
              "      <td>-42,096.00</td>\n",
              "      <td>-55.00</td>\n",
              "      <td>9,431.00</td>\n",
              "    </tr>\n",
              "    <tr>\n",
              "      <th>4</th>\n",
              "      <td>2016</td>\n",
              "      <td>1</td>\n",
              "      <td>Adair County</td>\n",
              "      <td>1010</td>\n",
              "      <td>Adair County High School</td>\n",
              "      <td>72</td>\n",
              "      <td>Proficient</td>\n",
              "      <td>NaN</td>\n",
              "      <td>10,270.00</td>\n",
              "      <td>-19,228.00</td>\n",
              "      <td>-25.00</td>\n",
              "      <td>10,245.00</td>\n",
              "    </tr>\n",
              "    <tr>\n",
              "      <th>...</th>\n",
              "      <td>...</td>\n",
              "      <td>...</td>\n",
              "      <td>...</td>\n",
              "      <td>...</td>\n",
              "      <td>...</td>\n",
              "      <td>...</td>\n",
              "      <td>...</td>\n",
              "      <td>...</td>\n",
              "      <td>...</td>\n",
              "      <td>...</td>\n",
              "      <td>...</td>\n",
              "      <td>...</td>\n",
              "    </tr>\n",
              "    <tr>\n",
              "      <th>9887</th>\n",
              "      <td>2016</td>\n",
              "      <td>601</td>\n",
              "      <td>Woodford County</td>\n",
              "      <td>601120</td>\n",
              "      <td>Northside Elementary School</td>\n",
              "      <td>60</td>\n",
              "      <td>Needs Improvement</td>\n",
              "      <td>NaN</td>\n",
              "      <td>12,046.00</td>\n",
              "      <td>34,017.00</td>\n",
              "      <td>107.00</td>\n",
              "      <td>12,153.00</td>\n",
              "    </tr>\n",
              "    <tr>\n",
              "      <th>9888</th>\n",
              "      <td>2017</td>\n",
              "      <td>601</td>\n",
              "      <td>Woodford County</td>\n",
              "      <td>601120</td>\n",
              "      <td>Northside Elementary School</td>\n",
              "      <td>75</td>\n",
              "      <td>NaN</td>\n",
              "      <td>NaN</td>\n",
              "      <td>9,940.00</td>\n",
              "      <td>17,446.00</td>\n",
              "      <td>53.00</td>\n",
              "      <td>9,993.00</td>\n",
              "    </tr>\n",
              "    <tr>\n",
              "      <th>9889</th>\n",
              "      <td>2018</td>\n",
              "      <td>601</td>\n",
              "      <td>Woodford County</td>\n",
              "      <td>601120</td>\n",
              "      <td>Northside Elementary School</td>\n",
              "      <td>73</td>\n",
              "      <td>NaN</td>\n",
              "      <td>NaN</td>\n",
              "      <td>13,641.00</td>\n",
              "      <td>51,768.00</td>\n",
              "      <td>150.00</td>\n",
              "      <td>13,791.00</td>\n",
              "    </tr>\n",
              "    <tr>\n",
              "      <th>9890</th>\n",
              "      <td>2019</td>\n",
              "      <td>601</td>\n",
              "      <td>Woodford County</td>\n",
              "      <td>601120</td>\n",
              "      <td>Northside Elementary School</td>\n",
              "      <td>76</td>\n",
              "      <td>High</td>\n",
              "      <td>NaN</td>\n",
              "      <td>11,865.00</td>\n",
              "      <td>48,399.00</td>\n",
              "      <td>142.00</td>\n",
              "      <td>12,007.00</td>\n",
              "    </tr>\n",
              "    <tr>\n",
              "      <th>9891</th>\n",
              "      <td>2022</td>\n",
              "      <td>601</td>\n",
              "      <td>Woodford County</td>\n",
              "      <td>601120</td>\n",
              "      <td>Northside Elementary School</td>\n",
              "      <td>68</td>\n",
              "      <td>Medium</td>\n",
              "      <td>NaN</td>\n",
              "      <td>NaN</td>\n",
              "      <td>NaN</td>\n",
              "      <td>NaN</td>\n",
              "      <td>NaN</td>\n",
              "    </tr>\n",
              "  </tbody>\n",
              "</table>\n",
              "<p>9892 rows × 12 columns</p>\n",
              "</div>\n",
              "      <button class=\"colab-df-convert\" onclick=\"convertToInteractive('df-b41b9c84-389f-4fa3-a357-3feb4cbcae00')\"\n",
              "              title=\"Convert this dataframe to an interactive table.\"\n",
              "              style=\"display:none;\">\n",
              "        \n",
              "  <svg xmlns=\"http://www.w3.org/2000/svg\" height=\"24px\"viewBox=\"0 0 24 24\"\n",
              "       width=\"24px\">\n",
              "    <path d=\"M0 0h24v24H0V0z\" fill=\"none\"/>\n",
              "    <path d=\"M18.56 5.44l.94 2.06.94-2.06 2.06-.94-2.06-.94-.94-2.06-.94 2.06-2.06.94zm-11 1L8.5 8.5l.94-2.06 2.06-.94-2.06-.94L8.5 2.5l-.94 2.06-2.06.94zm10 10l.94 2.06.94-2.06 2.06-.94-2.06-.94-.94-2.06-.94 2.06-2.06.94z\"/><path d=\"M17.41 7.96l-1.37-1.37c-.4-.4-.92-.59-1.43-.59-.52 0-1.04.2-1.43.59L10.3 9.45l-7.72 7.72c-.78.78-.78 2.05 0 2.83L4 21.41c.39.39.9.59 1.41.59.51 0 1.02-.2 1.41-.59l7.78-7.78 2.81-2.81c.8-.78.8-2.07 0-2.86zM5.41 20L4 18.59l7.72-7.72 1.47 1.35L5.41 20z\"/>\n",
              "  </svg>\n",
              "      </button>\n",
              "      \n",
              "  <style>\n",
              "    .colab-df-container {\n",
              "      display:flex;\n",
              "      flex-wrap:wrap;\n",
              "      gap: 12px;\n",
              "    }\n",
              "\n",
              "    .colab-df-convert {\n",
              "      background-color: #E8F0FE;\n",
              "      border: none;\n",
              "      border-radius: 50%;\n",
              "      cursor: pointer;\n",
              "      display: none;\n",
              "      fill: #1967D2;\n",
              "      height: 32px;\n",
              "      padding: 0 0 0 0;\n",
              "      width: 32px;\n",
              "    }\n",
              "\n",
              "    .colab-df-convert:hover {\n",
              "      background-color: #E2EBFA;\n",
              "      box-shadow: 0px 1px 2px rgba(60, 64, 67, 0.3), 0px 1px 3px 1px rgba(60, 64, 67, 0.15);\n",
              "      fill: #174EA6;\n",
              "    }\n",
              "\n",
              "    [theme=dark] .colab-df-convert {\n",
              "      background-color: #3B4455;\n",
              "      fill: #D2E3FC;\n",
              "    }\n",
              "\n",
              "    [theme=dark] .colab-df-convert:hover {\n",
              "      background-color: #434B5C;\n",
              "      box-shadow: 0px 1px 3px 1px rgba(0, 0, 0, 0.15);\n",
              "      filter: drop-shadow(0px 1px 2px rgba(0, 0, 0, 0.3));\n",
              "      fill: #FFFFFF;\n",
              "    }\n",
              "  </style>\n",
              "\n",
              "      <script>\n",
              "        const buttonEl =\n",
              "          document.querySelector('#df-b41b9c84-389f-4fa3-a357-3feb4cbcae00 button.colab-df-convert');\n",
              "        buttonEl.style.display =\n",
              "          google.colab.kernel.accessAllowed ? 'block' : 'none';\n",
              "\n",
              "        async function convertToInteractive(key) {\n",
              "          const element = document.querySelector('#df-b41b9c84-389f-4fa3-a357-3feb4cbcae00');\n",
              "          const dataTable =\n",
              "            await google.colab.kernel.invokeFunction('convertToInteractive',\n",
              "                                                     [key], {});\n",
              "          if (!dataTable) return;\n",
              "\n",
              "          const docLinkHtml = 'Like what you see? Visit the ' +\n",
              "            '<a target=\"_blank\" href=https://colab.research.google.com/notebooks/data_table.ipynb>data table notebook</a>'\n",
              "            + ' to learn more about interactive tables.';\n",
              "          element.innerHTML = '';\n",
              "          dataTable['output_type'] = 'display_data';\n",
              "          await google.colab.output.renderOutput(dataTable, element);\n",
              "          const docLink = document.createElement('div');\n",
              "          docLink.innerHTML = docLinkHtml;\n",
              "          element.appendChild(docLink);\n",
              "        }\n",
              "      </script>\n",
              "    </div>\n",
              "  </div>\n",
              "  "
            ]
          },
          "metadata": {},
          "execution_count": 11
        }
      ]
    },
    {
      "cell_type": "code",
      "source": [
        "df.info()"
      ],
      "metadata": {
        "colab": {
          "base_uri": "https://localhost:8080/"
        },
        "id": "v-pdUJB2QylF",
        "outputId": "082e4f6e-109d-4de1-da25-de95af5241e4"
      },
      "execution_count": 12,
      "outputs": [
        {
          "output_type": "stream",
          "name": "stdout",
          "text": [
            "<class 'pandas.core.frame.DataFrame'>\n",
            "RangeIndex: 9892 entries, 0 to 9891\n",
            "Data columns (total 12 columns):\n",
            " #   Column                          Non-Null Count  Dtype  \n",
            "---  ------                          --------------  -----  \n",
            " 0   End Year                        9892 non-null   int64  \n",
            " 1   District Code                   9892 non-null   int64  \n",
            " 2   District                        9892 non-null   object \n",
            " 3   School Code                     9892 non-null   int64  \n",
            " 4   School                          9892 non-null   object \n",
            " 5   Proficiency Rate                9892 non-null   int64  \n",
            " 6   KY Rank/Rating                  7673 non-null   object \n",
            " 7   Classification                  4309 non-null   object \n",
            " 8   Reported Spending per student   8637 non-null   float64\n",
            " 9   Money Difference per school     8637 non-null   float64\n",
            " 10  Money Difference per student    8637 non-null   float64\n",
            " 11  Estimated Spending per student  8637 non-null   float64\n",
            "dtypes: float64(4), int64(4), object(4)\n",
            "memory usage: 927.5+ KB\n"
          ]
        }
      ]
    },
    {
      "cell_type": "code",
      "source": [
        "df['Classification'].value_counts(dropna=False)"
      ],
      "metadata": {
        "id": "bPpdwu7swwYx",
        "colab": {
          "base_uri": "https://localhost:8080/"
        },
        "outputId": "83348096-42b5-45bb-abcc-794070ba39a4"
      },
      "execution_count": 13,
      "outputs": [
        {
          "output_type": "execute_result",
          "data": {
            "text/plain": [
              "NaN                  5583\n",
              "Needs Improvement    2408\n",
              "Proficient           1108\n",
              "Distinguished         793\n",
              "Name: Classification, dtype: int64"
            ]
          },
          "metadata": {},
          "execution_count": 13
        }
      ]
    },
    {
      "cell_type": "code",
      "source": [
        "df['KY Rank/Rating'].value_counts().head(12)"
      ],
      "metadata": {
        "colab": {
          "base_uri": "https://localhost:8080/"
        },
        "id": "EJGfbN2LgTQP",
        "outputId": "5b98f9bd-0646-4bbf-90b8-661bb9b14a3c"
      },
      "execution_count": 14,
      "outputs": [
        {
          "output_type": "execute_result",
          "data": {
            "text/plain": [
              "Medium               783\n",
              "Low                  646\n",
              "High                 483\n",
              "Distinguished        416\n",
              "Needs Improvement    413\n",
              "Proficient           262\n",
              "Very Low             193\n",
              "Very High            168\n",
              "99                   113\n",
              "94                   112\n",
              "91                    88\n",
              "98                    86\n",
              "Name: KY Rank/Rating, dtype: int64"
            ]
          },
          "metadata": {},
          "execution_count": 14
        }
      ]
    },
    {
      "cell_type": "code",
      "source": [
        "df[df['School']=='Knight Middle']"
      ],
      "metadata": {
        "colab": {
          "base_uri": "https://localhost:8080/",
          "height": 604
        },
        "id": "f40KNCl0gTWd",
        "outputId": "04510c15-2e17-4807-8519-c60b4843d858"
      },
      "execution_count": 15,
      "outputs": [
        {
          "output_type": "execute_result",
          "data": {
            "text/plain": [
              "      End Year  District Code          District  School Code         School  \\\n",
              "5219      2012            275  Jefferson County       275163  Knight Middle   \n",
              "5220      2013            275  Jefferson County       275163  Knight Middle   \n",
              "5221      2014            275  Jefferson County       275163  Knight Middle   \n",
              "5222      2015            275  Jefferson County       275163  Knight Middle   \n",
              "5223      2016            275  Jefferson County       275163  Knight Middle   \n",
              "5224      2017            275  Jefferson County       275163  Knight Middle   \n",
              "5225      2018            275  Jefferson County       275163  Knight Middle   \n",
              "5226      2019            275  Jefferson County       275163  Knight Middle   \n",
              "5227      2022            275  Jefferson County       275163  Knight Middle   \n",
              "\n",
              "      Proficiency Rate     KY Rank/Rating     Classification  \\\n",
              "5219                36                  3  Needs Improvement   \n",
              "5220                34                  2  Needs Improvement   \n",
              "5221                45                  5  Needs Improvement   \n",
              "5222                52                 16  Needs Improvement   \n",
              "5223                53  Needs Improvement                NaN   \n",
              "5224                48                NaN                NaN   \n",
              "5225                44                NaN                NaN   \n",
              "5226                48           Very Low                NaN   \n",
              "5227                34           Very Low                NaN   \n",
              "\n",
              "      Reported Spending per student  Money Difference per school  \\\n",
              "5219                      10,116.00                  -298,320.00   \n",
              "5220                      11,297.00                  -274,758.00   \n",
              "5221                      11,846.00                  -229,908.00   \n",
              "5222                      10,348.00                  -268,100.00   \n",
              "5223                      13,993.00                  -246,825.00   \n",
              "5224                      14,973.00                  -273,364.00   \n",
              "5225                      16,380.00                  -226,464.00   \n",
              "5226                      16,642.00                  -304,260.00   \n",
              "5227                            NaN                          NaN   \n",
              "\n",
              "      Money Difference per student  Estimated Spending per student  \n",
              "5219                       -689.00                        9,427.00  \n",
              "5220                       -620.00                       10,677.00  \n",
              "5221                       -557.00                       11,289.00  \n",
              "5222                       -638.00                        9,710.00  \n",
              "5223                       -589.00                       13,404.00  \n",
              "5224                       -677.00                       14,296.00  \n",
              "5225                       -522.00                       15,858.00  \n",
              "5226                       -690.00                       15,952.00  \n",
              "5227                           NaN                             NaN  "
            ],
            "text/html": [
              "\n",
              "  <div id=\"df-43212159-c84b-461b-a521-54a28a817b85\">\n",
              "    <div class=\"colab-df-container\">\n",
              "      <div>\n",
              "<style scoped>\n",
              "    .dataframe tbody tr th:only-of-type {\n",
              "        vertical-align: middle;\n",
              "    }\n",
              "\n",
              "    .dataframe tbody tr th {\n",
              "        vertical-align: top;\n",
              "    }\n",
              "\n",
              "    .dataframe thead th {\n",
              "        text-align: right;\n",
              "    }\n",
              "</style>\n",
              "<table border=\"1\" class=\"dataframe\">\n",
              "  <thead>\n",
              "    <tr style=\"text-align: right;\">\n",
              "      <th></th>\n",
              "      <th>End Year</th>\n",
              "      <th>District Code</th>\n",
              "      <th>District</th>\n",
              "      <th>School Code</th>\n",
              "      <th>School</th>\n",
              "      <th>Proficiency Rate</th>\n",
              "      <th>KY Rank/Rating</th>\n",
              "      <th>Classification</th>\n",
              "      <th>Reported Spending per student</th>\n",
              "      <th>Money Difference per school</th>\n",
              "      <th>Money Difference per student</th>\n",
              "      <th>Estimated Spending per student</th>\n",
              "    </tr>\n",
              "  </thead>\n",
              "  <tbody>\n",
              "    <tr>\n",
              "      <th>5219</th>\n",
              "      <td>2012</td>\n",
              "      <td>275</td>\n",
              "      <td>Jefferson County</td>\n",
              "      <td>275163</td>\n",
              "      <td>Knight Middle</td>\n",
              "      <td>36</td>\n",
              "      <td>3</td>\n",
              "      <td>Needs Improvement</td>\n",
              "      <td>10,116.00</td>\n",
              "      <td>-298,320.00</td>\n",
              "      <td>-689.00</td>\n",
              "      <td>9,427.00</td>\n",
              "    </tr>\n",
              "    <tr>\n",
              "      <th>5220</th>\n",
              "      <td>2013</td>\n",
              "      <td>275</td>\n",
              "      <td>Jefferson County</td>\n",
              "      <td>275163</td>\n",
              "      <td>Knight Middle</td>\n",
              "      <td>34</td>\n",
              "      <td>2</td>\n",
              "      <td>Needs Improvement</td>\n",
              "      <td>11,297.00</td>\n",
              "      <td>-274,758.00</td>\n",
              "      <td>-620.00</td>\n",
              "      <td>10,677.00</td>\n",
              "    </tr>\n",
              "    <tr>\n",
              "      <th>5221</th>\n",
              "      <td>2014</td>\n",
              "      <td>275</td>\n",
              "      <td>Jefferson County</td>\n",
              "      <td>275163</td>\n",
              "      <td>Knight Middle</td>\n",
              "      <td>45</td>\n",
              "      <td>5</td>\n",
              "      <td>Needs Improvement</td>\n",
              "      <td>11,846.00</td>\n",
              "      <td>-229,908.00</td>\n",
              "      <td>-557.00</td>\n",
              "      <td>11,289.00</td>\n",
              "    </tr>\n",
              "    <tr>\n",
              "      <th>5222</th>\n",
              "      <td>2015</td>\n",
              "      <td>275</td>\n",
              "      <td>Jefferson County</td>\n",
              "      <td>275163</td>\n",
              "      <td>Knight Middle</td>\n",
              "      <td>52</td>\n",
              "      <td>16</td>\n",
              "      <td>Needs Improvement</td>\n",
              "      <td>10,348.00</td>\n",
              "      <td>-268,100.00</td>\n",
              "      <td>-638.00</td>\n",
              "      <td>9,710.00</td>\n",
              "    </tr>\n",
              "    <tr>\n",
              "      <th>5223</th>\n",
              "      <td>2016</td>\n",
              "      <td>275</td>\n",
              "      <td>Jefferson County</td>\n",
              "      <td>275163</td>\n",
              "      <td>Knight Middle</td>\n",
              "      <td>53</td>\n",
              "      <td>Needs Improvement</td>\n",
              "      <td>NaN</td>\n",
              "      <td>13,993.00</td>\n",
              "      <td>-246,825.00</td>\n",
              "      <td>-589.00</td>\n",
              "      <td>13,404.00</td>\n",
              "    </tr>\n",
              "    <tr>\n",
              "      <th>5224</th>\n",
              "      <td>2017</td>\n",
              "      <td>275</td>\n",
              "      <td>Jefferson County</td>\n",
              "      <td>275163</td>\n",
              "      <td>Knight Middle</td>\n",
              "      <td>48</td>\n",
              "      <td>NaN</td>\n",
              "      <td>NaN</td>\n",
              "      <td>14,973.00</td>\n",
              "      <td>-273,364.00</td>\n",
              "      <td>-677.00</td>\n",
              "      <td>14,296.00</td>\n",
              "    </tr>\n",
              "    <tr>\n",
              "      <th>5225</th>\n",
              "      <td>2018</td>\n",
              "      <td>275</td>\n",
              "      <td>Jefferson County</td>\n",
              "      <td>275163</td>\n",
              "      <td>Knight Middle</td>\n",
              "      <td>44</td>\n",
              "      <td>NaN</td>\n",
              "      <td>NaN</td>\n",
              "      <td>16,380.00</td>\n",
              "      <td>-226,464.00</td>\n",
              "      <td>-522.00</td>\n",
              "      <td>15,858.00</td>\n",
              "    </tr>\n",
              "    <tr>\n",
              "      <th>5226</th>\n",
              "      <td>2019</td>\n",
              "      <td>275</td>\n",
              "      <td>Jefferson County</td>\n",
              "      <td>275163</td>\n",
              "      <td>Knight Middle</td>\n",
              "      <td>48</td>\n",
              "      <td>Very Low</td>\n",
              "      <td>NaN</td>\n",
              "      <td>16,642.00</td>\n",
              "      <td>-304,260.00</td>\n",
              "      <td>-690.00</td>\n",
              "      <td>15,952.00</td>\n",
              "    </tr>\n",
              "    <tr>\n",
              "      <th>5227</th>\n",
              "      <td>2022</td>\n",
              "      <td>275</td>\n",
              "      <td>Jefferson County</td>\n",
              "      <td>275163</td>\n",
              "      <td>Knight Middle</td>\n",
              "      <td>34</td>\n",
              "      <td>Very Low</td>\n",
              "      <td>NaN</td>\n",
              "      <td>NaN</td>\n",
              "      <td>NaN</td>\n",
              "      <td>NaN</td>\n",
              "      <td>NaN</td>\n",
              "    </tr>\n",
              "  </tbody>\n",
              "</table>\n",
              "</div>\n",
              "      <button class=\"colab-df-convert\" onclick=\"convertToInteractive('df-43212159-c84b-461b-a521-54a28a817b85')\"\n",
              "              title=\"Convert this dataframe to an interactive table.\"\n",
              "              style=\"display:none;\">\n",
              "        \n",
              "  <svg xmlns=\"http://www.w3.org/2000/svg\" height=\"24px\"viewBox=\"0 0 24 24\"\n",
              "       width=\"24px\">\n",
              "    <path d=\"M0 0h24v24H0V0z\" fill=\"none\"/>\n",
              "    <path d=\"M18.56 5.44l.94 2.06.94-2.06 2.06-.94-2.06-.94-.94-2.06-.94 2.06-2.06.94zm-11 1L8.5 8.5l.94-2.06 2.06-.94-2.06-.94L8.5 2.5l-.94 2.06-2.06.94zm10 10l.94 2.06.94-2.06 2.06-.94-2.06-.94-.94-2.06-.94 2.06-2.06.94z\"/><path d=\"M17.41 7.96l-1.37-1.37c-.4-.4-.92-.59-1.43-.59-.52 0-1.04.2-1.43.59L10.3 9.45l-7.72 7.72c-.78.78-.78 2.05 0 2.83L4 21.41c.39.39.9.59 1.41.59.51 0 1.02-.2 1.41-.59l7.78-7.78 2.81-2.81c.8-.78.8-2.07 0-2.86zM5.41 20L4 18.59l7.72-7.72 1.47 1.35L5.41 20z\"/>\n",
              "  </svg>\n",
              "      </button>\n",
              "      \n",
              "  <style>\n",
              "    .colab-df-container {\n",
              "      display:flex;\n",
              "      flex-wrap:wrap;\n",
              "      gap: 12px;\n",
              "    }\n",
              "\n",
              "    .colab-df-convert {\n",
              "      background-color: #E8F0FE;\n",
              "      border: none;\n",
              "      border-radius: 50%;\n",
              "      cursor: pointer;\n",
              "      display: none;\n",
              "      fill: #1967D2;\n",
              "      height: 32px;\n",
              "      padding: 0 0 0 0;\n",
              "      width: 32px;\n",
              "    }\n",
              "\n",
              "    .colab-df-convert:hover {\n",
              "      background-color: #E2EBFA;\n",
              "      box-shadow: 0px 1px 2px rgba(60, 64, 67, 0.3), 0px 1px 3px 1px rgba(60, 64, 67, 0.15);\n",
              "      fill: #174EA6;\n",
              "    }\n",
              "\n",
              "    [theme=dark] .colab-df-convert {\n",
              "      background-color: #3B4455;\n",
              "      fill: #D2E3FC;\n",
              "    }\n",
              "\n",
              "    [theme=dark] .colab-df-convert:hover {\n",
              "      background-color: #434B5C;\n",
              "      box-shadow: 0px 1px 3px 1px rgba(0, 0, 0, 0.15);\n",
              "      filter: drop-shadow(0px 1px 2px rgba(0, 0, 0, 0.3));\n",
              "      fill: #FFFFFF;\n",
              "    }\n",
              "  </style>\n",
              "\n",
              "      <script>\n",
              "        const buttonEl =\n",
              "          document.querySelector('#df-43212159-c84b-461b-a521-54a28a817b85 button.colab-df-convert');\n",
              "        buttonEl.style.display =\n",
              "          google.colab.kernel.accessAllowed ? 'block' : 'none';\n",
              "\n",
              "        async function convertToInteractive(key) {\n",
              "          const element = document.querySelector('#df-43212159-c84b-461b-a521-54a28a817b85');\n",
              "          const dataTable =\n",
              "            await google.colab.kernel.invokeFunction('convertToInteractive',\n",
              "                                                     [key], {});\n",
              "          if (!dataTable) return;\n",
              "\n",
              "          const docLinkHtml = 'Like what you see? Visit the ' +\n",
              "            '<a target=\"_blank\" href=https://colab.research.google.com/notebooks/data_table.ipynb>data table notebook</a>'\n",
              "            + ' to learn more about interactive tables.';\n",
              "          element.innerHTML = '';\n",
              "          dataTable['output_type'] = 'display_data';\n",
              "          await google.colab.output.renderOutput(dataTable, element);\n",
              "          const docLink = document.createElement('div');\n",
              "          docLink.innerHTML = docLinkHtml;\n",
              "          element.appendChild(docLink);\n",
              "        }\n",
              "      </script>\n",
              "    </div>\n",
              "  </div>\n",
              "  "
            ]
          },
          "metadata": {},
          "execution_count": 15
        }
      ]
    },
    {
      "cell_type": "code",
      "source": [
        "df.info()"
      ],
      "metadata": {
        "colab": {
          "base_uri": "https://localhost:8080/"
        },
        "id": "pvqzir_kgTZE",
        "outputId": "0bca1347-216c-4d3e-8255-8db8b930390f"
      },
      "execution_count": 16,
      "outputs": [
        {
          "output_type": "stream",
          "name": "stdout",
          "text": [
            "<class 'pandas.core.frame.DataFrame'>\n",
            "RangeIndex: 9892 entries, 0 to 9891\n",
            "Data columns (total 12 columns):\n",
            " #   Column                          Non-Null Count  Dtype  \n",
            "---  ------                          --------------  -----  \n",
            " 0   End Year                        9892 non-null   int64  \n",
            " 1   District Code                   9892 non-null   int64  \n",
            " 2   District                        9892 non-null   object \n",
            " 3   School Code                     9892 non-null   int64  \n",
            " 4   School                          9892 non-null   object \n",
            " 5   Proficiency Rate                9892 non-null   int64  \n",
            " 6   KY Rank/Rating                  7673 non-null   object \n",
            " 7   Classification                  4309 non-null   object \n",
            " 8   Reported Spending per student   8637 non-null   float64\n",
            " 9   Money Difference per school     8637 non-null   float64\n",
            " 10  Money Difference per student    8637 non-null   float64\n",
            " 11  Estimated Spending per student  8637 non-null   float64\n",
            "dtypes: float64(4), int64(4), object(4)\n",
            "memory usage: 927.5+ KB\n"
          ]
        }
      ]
    },
    {
      "cell_type": "code",
      "source": [],
      "metadata": {
        "id": "HNLuISOhgTkQ"
      },
      "execution_count": 16,
      "outputs": []
    },
    {
      "cell_type": "code",
      "source": [],
      "metadata": {
        "id": "mC0vzmbCgTmm"
      },
      "execution_count": 16,
      "outputs": []
    },
    {
      "cell_type": "code",
      "source": [],
      "metadata": {
        "id": "3110IaY_gTo8"
      },
      "execution_count": 16,
      "outputs": []
    },
    {
      "cell_type": "markdown",
      "source": [
        "# Predict classification "
      ],
      "metadata": {
        "id": "Nc5nEWiItzSE"
      }
    },
    {
      "cell_type": "code",
      "source": [
        "# from sklearn import preprocessing\n",
        "from sklearn.preprocessing import StandardScaler\n",
        "from sklearn.model_selection import train_test_split"
      ],
      "metadata": {
        "id": "9v137r5eYtAL"
      },
      "execution_count": 17,
      "outputs": []
    },
    {
      "cell_type": "code",
      "source": [
        "predict_df = df.copy()"
      ],
      "metadata": {
        "id": "ENpjqqJnyK1j"
      },
      "execution_count": 18,
      "outputs": []
    },
    {
      "cell_type": "code",
      "source": [
        "# In the Ky Rank column, make this common language.\n",
        "predict_df.replace('Very High', 'Distinguished', inplace=True)\n",
        "predict_df.replace('High', 'Distinguished', inplace=True)\n",
        "predict_df.replace('Medium', 'Proficient', inplace=True)\n",
        "predict_df.replace('Low', 'Needs Improvement', inplace=True)\n",
        "predict_df.replace('Very Low', 'Needs Improvement', inplace=True)"
      ],
      "metadata": {
        "id": "byqfg-RBtyBp"
      },
      "execution_count": 19,
      "outputs": []
    },
    {
      "cell_type": "code",
      "source": [
        "predict_df = predict_df.round({'Reported Spending per student': -1, 'Money Difference per school': -2, \n",
        "                               'Money Difference per student':-1, 'Estimated Spending per student': 1})"
      ],
      "metadata": {
        "id": "vCjuxKnHpvDX"
      },
      "execution_count": 20,
      "outputs": []
    },
    {
      "cell_type": "code",
      "source": [
        "predict_df"
      ],
      "metadata": {
        "colab": {
          "base_uri": "https://localhost:8080/",
          "height": 973
        },
        "id": "hBhBwjoKj48I",
        "outputId": "9072579a-571e-40bf-9229-492084eb4425"
      },
      "execution_count": 21,
      "outputs": [
        {
          "output_type": "execute_result",
          "data": {
            "text/plain": [
              "      End Year  District Code         District  School Code  \\\n",
              "0         2012              1     Adair County         1010   \n",
              "1         2013              1     Adair County         1010   \n",
              "2         2014              1     Adair County         1010   \n",
              "3         2015              1     Adair County         1010   \n",
              "4         2016              1     Adair County         1010   \n",
              "...        ...            ...              ...          ...   \n",
              "9887      2016            601  Woodford County       601120   \n",
              "9888      2017            601  Woodford County       601120   \n",
              "9889      2018            601  Woodford County       601120   \n",
              "9890      2019            601  Woodford County       601120   \n",
              "9891      2022            601  Woodford County       601120   \n",
              "\n",
              "                           School  Proficiency Rate     KY Rank/Rating  \\\n",
              "0        Adair County High School                55                 57   \n",
              "1        Adair County High School                54                 48   \n",
              "2        Adair County High School                69                 65   \n",
              "3        Adair County High School                71                 73   \n",
              "4        Adair County High School                72         Proficient   \n",
              "...                           ...               ...                ...   \n",
              "9887  Northside Elementary School                60  Needs Improvement   \n",
              "9888  Northside Elementary School                75                NaN   \n",
              "9889  Northside Elementary School                73                NaN   \n",
              "9890  Northside Elementary School                76      Distinguished   \n",
              "9891  Northside Elementary School                68         Proficient   \n",
              "\n",
              "         Classification  Reported Spending per student  \\\n",
              "0     Needs Improvement                       6,460.00   \n",
              "1     Needs Improvement                       6,380.00   \n",
              "2     Needs Improvement                       6,970.00   \n",
              "3            Proficient                       9,490.00   \n",
              "4                   NaN                      10,270.00   \n",
              "...                 ...                            ...   \n",
              "9887                NaN                      12,050.00   \n",
              "9888                NaN                       9,940.00   \n",
              "9889                NaN                      13,640.00   \n",
              "9890                NaN                      11,860.00   \n",
              "9891                NaN                            NaN   \n",
              "\n",
              "      Money Difference per school  Money Difference per student  \\\n",
              "0                      -36,400.00                        -50.00   \n",
              "1                      -37,000.00                        -50.00   \n",
              "2                      -13,100.00                        -20.00   \n",
              "3                      -42,100.00                        -60.00   \n",
              "4                      -19,200.00                        -20.00   \n",
              "...                           ...                           ...   \n",
              "9887                    34,000.00                        110.00   \n",
              "9888                    17,400.00                         50.00   \n",
              "9889                    51,800.00                        150.00   \n",
              "9890                    48,400.00                        140.00   \n",
              "9891                          NaN                           NaN   \n",
              "\n",
              "      Estimated Spending per student  \n",
              "0                           6,405.00  \n",
              "1                           6,328.00  \n",
              "2                           6,952.00  \n",
              "3                           9,431.00  \n",
              "4                          10,245.00  \n",
              "...                              ...  \n",
              "9887                       12,153.00  \n",
              "9888                        9,993.00  \n",
              "9889                       13,791.00  \n",
              "9890                       12,007.00  \n",
              "9891                             NaN  \n",
              "\n",
              "[9892 rows x 12 columns]"
            ],
            "text/html": [
              "\n",
              "  <div id=\"df-19578ae4-5b5b-46f3-b1eb-0a80ce77cb16\">\n",
              "    <div class=\"colab-df-container\">\n",
              "      <div>\n",
              "<style scoped>\n",
              "    .dataframe tbody tr th:only-of-type {\n",
              "        vertical-align: middle;\n",
              "    }\n",
              "\n",
              "    .dataframe tbody tr th {\n",
              "        vertical-align: top;\n",
              "    }\n",
              "\n",
              "    .dataframe thead th {\n",
              "        text-align: right;\n",
              "    }\n",
              "</style>\n",
              "<table border=\"1\" class=\"dataframe\">\n",
              "  <thead>\n",
              "    <tr style=\"text-align: right;\">\n",
              "      <th></th>\n",
              "      <th>End Year</th>\n",
              "      <th>District Code</th>\n",
              "      <th>District</th>\n",
              "      <th>School Code</th>\n",
              "      <th>School</th>\n",
              "      <th>Proficiency Rate</th>\n",
              "      <th>KY Rank/Rating</th>\n",
              "      <th>Classification</th>\n",
              "      <th>Reported Spending per student</th>\n",
              "      <th>Money Difference per school</th>\n",
              "      <th>Money Difference per student</th>\n",
              "      <th>Estimated Spending per student</th>\n",
              "    </tr>\n",
              "  </thead>\n",
              "  <tbody>\n",
              "    <tr>\n",
              "      <th>0</th>\n",
              "      <td>2012</td>\n",
              "      <td>1</td>\n",
              "      <td>Adair County</td>\n",
              "      <td>1010</td>\n",
              "      <td>Adair County High School</td>\n",
              "      <td>55</td>\n",
              "      <td>57</td>\n",
              "      <td>Needs Improvement</td>\n",
              "      <td>6,460.00</td>\n",
              "      <td>-36,400.00</td>\n",
              "      <td>-50.00</td>\n",
              "      <td>6,405.00</td>\n",
              "    </tr>\n",
              "    <tr>\n",
              "      <th>1</th>\n",
              "      <td>2013</td>\n",
              "      <td>1</td>\n",
              "      <td>Adair County</td>\n",
              "      <td>1010</td>\n",
              "      <td>Adair County High School</td>\n",
              "      <td>54</td>\n",
              "      <td>48</td>\n",
              "      <td>Needs Improvement</td>\n",
              "      <td>6,380.00</td>\n",
              "      <td>-37,000.00</td>\n",
              "      <td>-50.00</td>\n",
              "      <td>6,328.00</td>\n",
              "    </tr>\n",
              "    <tr>\n",
              "      <th>2</th>\n",
              "      <td>2014</td>\n",
              "      <td>1</td>\n",
              "      <td>Adair County</td>\n",
              "      <td>1010</td>\n",
              "      <td>Adair County High School</td>\n",
              "      <td>69</td>\n",
              "      <td>65</td>\n",
              "      <td>Needs Improvement</td>\n",
              "      <td>6,970.00</td>\n",
              "      <td>-13,100.00</td>\n",
              "      <td>-20.00</td>\n",
              "      <td>6,952.00</td>\n",
              "    </tr>\n",
              "    <tr>\n",
              "      <th>3</th>\n",
              "      <td>2015</td>\n",
              "      <td>1</td>\n",
              "      <td>Adair County</td>\n",
              "      <td>1010</td>\n",
              "      <td>Adair County High School</td>\n",
              "      <td>71</td>\n",
              "      <td>73</td>\n",
              "      <td>Proficient</td>\n",
              "      <td>9,490.00</td>\n",
              "      <td>-42,100.00</td>\n",
              "      <td>-60.00</td>\n",
              "      <td>9,431.00</td>\n",
              "    </tr>\n",
              "    <tr>\n",
              "      <th>4</th>\n",
              "      <td>2016</td>\n",
              "      <td>1</td>\n",
              "      <td>Adair County</td>\n",
              "      <td>1010</td>\n",
              "      <td>Adair County High School</td>\n",
              "      <td>72</td>\n",
              "      <td>Proficient</td>\n",
              "      <td>NaN</td>\n",
              "      <td>10,270.00</td>\n",
              "      <td>-19,200.00</td>\n",
              "      <td>-20.00</td>\n",
              "      <td>10,245.00</td>\n",
              "    </tr>\n",
              "    <tr>\n",
              "      <th>...</th>\n",
              "      <td>...</td>\n",
              "      <td>...</td>\n",
              "      <td>...</td>\n",
              "      <td>...</td>\n",
              "      <td>...</td>\n",
              "      <td>...</td>\n",
              "      <td>...</td>\n",
              "      <td>...</td>\n",
              "      <td>...</td>\n",
              "      <td>...</td>\n",
              "      <td>...</td>\n",
              "      <td>...</td>\n",
              "    </tr>\n",
              "    <tr>\n",
              "      <th>9887</th>\n",
              "      <td>2016</td>\n",
              "      <td>601</td>\n",
              "      <td>Woodford County</td>\n",
              "      <td>601120</td>\n",
              "      <td>Northside Elementary School</td>\n",
              "      <td>60</td>\n",
              "      <td>Needs Improvement</td>\n",
              "      <td>NaN</td>\n",
              "      <td>12,050.00</td>\n",
              "      <td>34,000.00</td>\n",
              "      <td>110.00</td>\n",
              "      <td>12,153.00</td>\n",
              "    </tr>\n",
              "    <tr>\n",
              "      <th>9888</th>\n",
              "      <td>2017</td>\n",
              "      <td>601</td>\n",
              "      <td>Woodford County</td>\n",
              "      <td>601120</td>\n",
              "      <td>Northside Elementary School</td>\n",
              "      <td>75</td>\n",
              "      <td>NaN</td>\n",
              "      <td>NaN</td>\n",
              "      <td>9,940.00</td>\n",
              "      <td>17,400.00</td>\n",
              "      <td>50.00</td>\n",
              "      <td>9,993.00</td>\n",
              "    </tr>\n",
              "    <tr>\n",
              "      <th>9889</th>\n",
              "      <td>2018</td>\n",
              "      <td>601</td>\n",
              "      <td>Woodford County</td>\n",
              "      <td>601120</td>\n",
              "      <td>Northside Elementary School</td>\n",
              "      <td>73</td>\n",
              "      <td>NaN</td>\n",
              "      <td>NaN</td>\n",
              "      <td>13,640.00</td>\n",
              "      <td>51,800.00</td>\n",
              "      <td>150.00</td>\n",
              "      <td>13,791.00</td>\n",
              "    </tr>\n",
              "    <tr>\n",
              "      <th>9890</th>\n",
              "      <td>2019</td>\n",
              "      <td>601</td>\n",
              "      <td>Woodford County</td>\n",
              "      <td>601120</td>\n",
              "      <td>Northside Elementary School</td>\n",
              "      <td>76</td>\n",
              "      <td>Distinguished</td>\n",
              "      <td>NaN</td>\n",
              "      <td>11,860.00</td>\n",
              "      <td>48,400.00</td>\n",
              "      <td>140.00</td>\n",
              "      <td>12,007.00</td>\n",
              "    </tr>\n",
              "    <tr>\n",
              "      <th>9891</th>\n",
              "      <td>2022</td>\n",
              "      <td>601</td>\n",
              "      <td>Woodford County</td>\n",
              "      <td>601120</td>\n",
              "      <td>Northside Elementary School</td>\n",
              "      <td>68</td>\n",
              "      <td>Proficient</td>\n",
              "      <td>NaN</td>\n",
              "      <td>NaN</td>\n",
              "      <td>NaN</td>\n",
              "      <td>NaN</td>\n",
              "      <td>NaN</td>\n",
              "    </tr>\n",
              "  </tbody>\n",
              "</table>\n",
              "<p>9892 rows × 12 columns</p>\n",
              "</div>\n",
              "      <button class=\"colab-df-convert\" onclick=\"convertToInteractive('df-19578ae4-5b5b-46f3-b1eb-0a80ce77cb16')\"\n",
              "              title=\"Convert this dataframe to an interactive table.\"\n",
              "              style=\"display:none;\">\n",
              "        \n",
              "  <svg xmlns=\"http://www.w3.org/2000/svg\" height=\"24px\"viewBox=\"0 0 24 24\"\n",
              "       width=\"24px\">\n",
              "    <path d=\"M0 0h24v24H0V0z\" fill=\"none\"/>\n",
              "    <path d=\"M18.56 5.44l.94 2.06.94-2.06 2.06-.94-2.06-.94-.94-2.06-.94 2.06-2.06.94zm-11 1L8.5 8.5l.94-2.06 2.06-.94-2.06-.94L8.5 2.5l-.94 2.06-2.06.94zm10 10l.94 2.06.94-2.06 2.06-.94-2.06-.94-.94-2.06-.94 2.06-2.06.94z\"/><path d=\"M17.41 7.96l-1.37-1.37c-.4-.4-.92-.59-1.43-.59-.52 0-1.04.2-1.43.59L10.3 9.45l-7.72 7.72c-.78.78-.78 2.05 0 2.83L4 21.41c.39.39.9.59 1.41.59.51 0 1.02-.2 1.41-.59l7.78-7.78 2.81-2.81c.8-.78.8-2.07 0-2.86zM5.41 20L4 18.59l7.72-7.72 1.47 1.35L5.41 20z\"/>\n",
              "  </svg>\n",
              "      </button>\n",
              "      \n",
              "  <style>\n",
              "    .colab-df-container {\n",
              "      display:flex;\n",
              "      flex-wrap:wrap;\n",
              "      gap: 12px;\n",
              "    }\n",
              "\n",
              "    .colab-df-convert {\n",
              "      background-color: #E8F0FE;\n",
              "      border: none;\n",
              "      border-radius: 50%;\n",
              "      cursor: pointer;\n",
              "      display: none;\n",
              "      fill: #1967D2;\n",
              "      height: 32px;\n",
              "      padding: 0 0 0 0;\n",
              "      width: 32px;\n",
              "    }\n",
              "\n",
              "    .colab-df-convert:hover {\n",
              "      background-color: #E2EBFA;\n",
              "      box-shadow: 0px 1px 2px rgba(60, 64, 67, 0.3), 0px 1px 3px 1px rgba(60, 64, 67, 0.15);\n",
              "      fill: #174EA6;\n",
              "    }\n",
              "\n",
              "    [theme=dark] .colab-df-convert {\n",
              "      background-color: #3B4455;\n",
              "      fill: #D2E3FC;\n",
              "    }\n",
              "\n",
              "    [theme=dark] .colab-df-convert:hover {\n",
              "      background-color: #434B5C;\n",
              "      box-shadow: 0px 1px 3px 1px rgba(0, 0, 0, 0.15);\n",
              "      filter: drop-shadow(0px 1px 2px rgba(0, 0, 0, 0.3));\n",
              "      fill: #FFFFFF;\n",
              "    }\n",
              "  </style>\n",
              "\n",
              "      <script>\n",
              "        const buttonEl =\n",
              "          document.querySelector('#df-19578ae4-5b5b-46f3-b1eb-0a80ce77cb16 button.colab-df-convert');\n",
              "        buttonEl.style.display =\n",
              "          google.colab.kernel.accessAllowed ? 'block' : 'none';\n",
              "\n",
              "        async function convertToInteractive(key) {\n",
              "          const element = document.querySelector('#df-19578ae4-5b5b-46f3-b1eb-0a80ce77cb16');\n",
              "          const dataTable =\n",
              "            await google.colab.kernel.invokeFunction('convertToInteractive',\n",
              "                                                     [key], {});\n",
              "          if (!dataTable) return;\n",
              "\n",
              "          const docLinkHtml = 'Like what you see? Visit the ' +\n",
              "            '<a target=\"_blank\" href=https://colab.research.google.com/notebooks/data_table.ipynb>data table notebook</a>'\n",
              "            + ' to learn more about interactive tables.';\n",
              "          element.innerHTML = '';\n",
              "          dataTable['output_type'] = 'display_data';\n",
              "          await google.colab.output.renderOutput(dataTable, element);\n",
              "          const docLink = document.createElement('div');\n",
              "          docLink.innerHTML = docLinkHtml;\n",
              "          element.appendChild(docLink);\n",
              "        }\n",
              "      </script>\n",
              "    </div>\n",
              "  </div>\n",
              "  "
            ]
          },
          "metadata": {},
          "execution_count": 21
        }
      ]
    },
    {
      "cell_type": "code",
      "source": [
        "unscaled_df = predict_df[['End Year', 'Proficiency Rate', 'Reported Spending per student', \n",
        "             'Money Difference per school', 'Classification']]"
      ],
      "metadata": {
        "id": "OxHPfwd3Tob7"
      },
      "execution_count": 22,
      "outputs": []
    },
    {
      "cell_type": "code",
      "source": [
        "unscaled_df.dropna(inplace=True) #here\n",
        "unscaled_df.reset_index(drop=True, inplace=True)"
      ],
      "metadata": {
        "id": "JTdatzX5ne4_",
        "colab": {
          "base_uri": "https://localhost:8080/"
        },
        "outputId": "c02a1386-15be-4017-fb03-9c0483647922"
      },
      "execution_count": 23,
      "outputs": [
        {
          "output_type": "stream",
          "name": "stderr",
          "text": [
            "/usr/local/lib/python3.8/dist-packages/pandas/util/_decorators.py:311: SettingWithCopyWarning: \n",
            "A value is trying to be set on a copy of a slice from a DataFrame\n",
            "\n",
            "See the caveats in the documentation: https://pandas.pydata.org/pandas-docs/stable/user_guide/indexing.html#returning-a-view-versus-a-copy\n",
            "  return func(*args, **kwargs)\n"
          ]
        }
      ]
    },
    {
      "cell_type": "code",
      "source": [
        "unscaled_df['Classification'] = unscaled_df['Classification'].map({'Distinguished': 0, 'Proficient':1, 'Needs Improvement':2})"
      ],
      "metadata": {
        "id": "vXmUSiiwyQz6",
        "colab": {
          "base_uri": "https://localhost:8080/"
        },
        "outputId": "b82ab782-0dbf-48cf-8a98-82913b2e6960"
      },
      "execution_count": 24,
      "outputs": [
        {
          "output_type": "stream",
          "name": "stderr",
          "text": [
            "<ipython-input-24-c885bb568317>:1: SettingWithCopyWarning: \n",
            "A value is trying to be set on a copy of a slice from a DataFrame.\n",
            "Try using .loc[row_indexer,col_indexer] = value instead\n",
            "\n",
            "See the caveats in the documentation: https://pandas.pydata.org/pandas-docs/stable/user_guide/indexing.html#returning-a-view-versus-a-copy\n",
            "  unscaled_df['Classification'] = unscaled_df['Classification'].map({'Distinguished': 0, 'Proficient':1, 'Needs Improvement':2})\n"
          ]
        }
      ]
    },
    {
      "cell_type": "code",
      "source": [
        "unscaled_columns = ['End Year', 'Proficiency Rate', 'Reported Spending per student', 'Money Difference per school', 'Classification']\n",
        "\n",
        "for column in unscaled_df.columns:\n",
        "  unscaled_df[column] = unscaled_df[column].astype(np.float32)"
      ],
      "metadata": {
        "id": "rPZaZ4holZyZ",
        "colab": {
          "base_uri": "https://localhost:8080/"
        },
        "outputId": "4f6616fd-4f76-4680-f884-431b1a459669"
      },
      "execution_count": 25,
      "outputs": [
        {
          "output_type": "stream",
          "name": "stderr",
          "text": [
            "<ipython-input-25-f2a71d598106>:4: SettingWithCopyWarning: \n",
            "A value is trying to be set on a copy of a slice from a DataFrame.\n",
            "Try using .loc[row_indexer,col_indexer] = value instead\n",
            "\n",
            "See the caveats in the documentation: https://pandas.pydata.org/pandas-docs/stable/user_guide/indexing.html#returning-a-view-versus-a-copy\n",
            "  unscaled_df[column] = unscaled_df[column].astype(np.float32)\n"
          ]
        }
      ]
    },
    {
      "cell_type": "code",
      "source": [
        "unscaled_df"
      ],
      "metadata": {
        "id": "v0nKKR-4lZ4V",
        "colab": {
          "base_uri": "https://localhost:8080/",
          "height": 423
        },
        "outputId": "414fcaa0-befc-477b-bb83-1a71f6a90fb4"
      },
      "execution_count": 26,
      "outputs": [
        {
          "output_type": "execute_result",
          "data": {
            "text/plain": [
              "      End Year  Proficiency Rate  Reported Spending per student  \\\n",
              "0     2,012.00             55.00                       6,460.00   \n",
              "1     2,013.00             54.00                       6,380.00   \n",
              "2     2,014.00             69.00                       6,970.00   \n",
              "3     2,015.00             71.00                       9,490.00   \n",
              "4     2,012.00             48.00                       6,720.00   \n",
              "...        ...               ...                            ...   \n",
              "4193  2,015.00             76.00                       9,370.00   \n",
              "4194  2,012.00             64.00                      14,460.00   \n",
              "4195  2,013.00             63.00                      11,970.00   \n",
              "4196  2,014.00             71.00                      11,210.00   \n",
              "4197  2,015.00             70.00                      12,260.00   \n",
              "\n",
              "      Money Difference per school  Classification  \n",
              "0                      -36,400.00            2.00  \n",
              "1                      -37,000.00            2.00  \n",
              "2                      -13,100.00            2.00  \n",
              "3                      -42,100.00            1.00  \n",
              "4                      -55,700.00            2.00  \n",
              "...                           ...             ...  \n",
              "4193                   131,700.00            0.00  \n",
              "4194                    88,700.00            1.00  \n",
              "4195                    66,200.00            1.00  \n",
              "4196                    43,600.00            1.00  \n",
              "4197                    33,000.00            1.00  \n",
              "\n",
              "[4198 rows x 5 columns]"
            ],
            "text/html": [
              "\n",
              "  <div id=\"df-65ad0dbc-90de-4365-a3f0-c1012abac35f\">\n",
              "    <div class=\"colab-df-container\">\n",
              "      <div>\n",
              "<style scoped>\n",
              "    .dataframe tbody tr th:only-of-type {\n",
              "        vertical-align: middle;\n",
              "    }\n",
              "\n",
              "    .dataframe tbody tr th {\n",
              "        vertical-align: top;\n",
              "    }\n",
              "\n",
              "    .dataframe thead th {\n",
              "        text-align: right;\n",
              "    }\n",
              "</style>\n",
              "<table border=\"1\" class=\"dataframe\">\n",
              "  <thead>\n",
              "    <tr style=\"text-align: right;\">\n",
              "      <th></th>\n",
              "      <th>End Year</th>\n",
              "      <th>Proficiency Rate</th>\n",
              "      <th>Reported Spending per student</th>\n",
              "      <th>Money Difference per school</th>\n",
              "      <th>Classification</th>\n",
              "    </tr>\n",
              "  </thead>\n",
              "  <tbody>\n",
              "    <tr>\n",
              "      <th>0</th>\n",
              "      <td>2,012.00</td>\n",
              "      <td>55.00</td>\n",
              "      <td>6,460.00</td>\n",
              "      <td>-36,400.00</td>\n",
              "      <td>2.00</td>\n",
              "    </tr>\n",
              "    <tr>\n",
              "      <th>1</th>\n",
              "      <td>2,013.00</td>\n",
              "      <td>54.00</td>\n",
              "      <td>6,380.00</td>\n",
              "      <td>-37,000.00</td>\n",
              "      <td>2.00</td>\n",
              "    </tr>\n",
              "    <tr>\n",
              "      <th>2</th>\n",
              "      <td>2,014.00</td>\n",
              "      <td>69.00</td>\n",
              "      <td>6,970.00</td>\n",
              "      <td>-13,100.00</td>\n",
              "      <td>2.00</td>\n",
              "    </tr>\n",
              "    <tr>\n",
              "      <th>3</th>\n",
              "      <td>2,015.00</td>\n",
              "      <td>71.00</td>\n",
              "      <td>9,490.00</td>\n",
              "      <td>-42,100.00</td>\n",
              "      <td>1.00</td>\n",
              "    </tr>\n",
              "    <tr>\n",
              "      <th>4</th>\n",
              "      <td>2,012.00</td>\n",
              "      <td>48.00</td>\n",
              "      <td>6,720.00</td>\n",
              "      <td>-55,700.00</td>\n",
              "      <td>2.00</td>\n",
              "    </tr>\n",
              "    <tr>\n",
              "      <th>...</th>\n",
              "      <td>...</td>\n",
              "      <td>...</td>\n",
              "      <td>...</td>\n",
              "      <td>...</td>\n",
              "      <td>...</td>\n",
              "    </tr>\n",
              "    <tr>\n",
              "      <th>4193</th>\n",
              "      <td>2,015.00</td>\n",
              "      <td>76.00</td>\n",
              "      <td>9,370.00</td>\n",
              "      <td>131,700.00</td>\n",
              "      <td>0.00</td>\n",
              "    </tr>\n",
              "    <tr>\n",
              "      <th>4194</th>\n",
              "      <td>2,012.00</td>\n",
              "      <td>64.00</td>\n",
              "      <td>14,460.00</td>\n",
              "      <td>88,700.00</td>\n",
              "      <td>1.00</td>\n",
              "    </tr>\n",
              "    <tr>\n",
              "      <th>4195</th>\n",
              "      <td>2,013.00</td>\n",
              "      <td>63.00</td>\n",
              "      <td>11,970.00</td>\n",
              "      <td>66,200.00</td>\n",
              "      <td>1.00</td>\n",
              "    </tr>\n",
              "    <tr>\n",
              "      <th>4196</th>\n",
              "      <td>2,014.00</td>\n",
              "      <td>71.00</td>\n",
              "      <td>11,210.00</td>\n",
              "      <td>43,600.00</td>\n",
              "      <td>1.00</td>\n",
              "    </tr>\n",
              "    <tr>\n",
              "      <th>4197</th>\n",
              "      <td>2,015.00</td>\n",
              "      <td>70.00</td>\n",
              "      <td>12,260.00</td>\n",
              "      <td>33,000.00</td>\n",
              "      <td>1.00</td>\n",
              "    </tr>\n",
              "  </tbody>\n",
              "</table>\n",
              "<p>4198 rows × 5 columns</p>\n",
              "</div>\n",
              "      <button class=\"colab-df-convert\" onclick=\"convertToInteractive('df-65ad0dbc-90de-4365-a3f0-c1012abac35f')\"\n",
              "              title=\"Convert this dataframe to an interactive table.\"\n",
              "              style=\"display:none;\">\n",
              "        \n",
              "  <svg xmlns=\"http://www.w3.org/2000/svg\" height=\"24px\"viewBox=\"0 0 24 24\"\n",
              "       width=\"24px\">\n",
              "    <path d=\"M0 0h24v24H0V0z\" fill=\"none\"/>\n",
              "    <path d=\"M18.56 5.44l.94 2.06.94-2.06 2.06-.94-2.06-.94-.94-2.06-.94 2.06-2.06.94zm-11 1L8.5 8.5l.94-2.06 2.06-.94-2.06-.94L8.5 2.5l-.94 2.06-2.06.94zm10 10l.94 2.06.94-2.06 2.06-.94-2.06-.94-.94-2.06-.94 2.06-2.06.94z\"/><path d=\"M17.41 7.96l-1.37-1.37c-.4-.4-.92-.59-1.43-.59-.52 0-1.04.2-1.43.59L10.3 9.45l-7.72 7.72c-.78.78-.78 2.05 0 2.83L4 21.41c.39.39.9.59 1.41.59.51 0 1.02-.2 1.41-.59l7.78-7.78 2.81-2.81c.8-.78.8-2.07 0-2.86zM5.41 20L4 18.59l7.72-7.72 1.47 1.35L5.41 20z\"/>\n",
              "  </svg>\n",
              "      </button>\n",
              "      \n",
              "  <style>\n",
              "    .colab-df-container {\n",
              "      display:flex;\n",
              "      flex-wrap:wrap;\n",
              "      gap: 12px;\n",
              "    }\n",
              "\n",
              "    .colab-df-convert {\n",
              "      background-color: #E8F0FE;\n",
              "      border: none;\n",
              "      border-radius: 50%;\n",
              "      cursor: pointer;\n",
              "      display: none;\n",
              "      fill: #1967D2;\n",
              "      height: 32px;\n",
              "      padding: 0 0 0 0;\n",
              "      width: 32px;\n",
              "    }\n",
              "\n",
              "    .colab-df-convert:hover {\n",
              "      background-color: #E2EBFA;\n",
              "      box-shadow: 0px 1px 2px rgba(60, 64, 67, 0.3), 0px 1px 3px 1px rgba(60, 64, 67, 0.15);\n",
              "      fill: #174EA6;\n",
              "    }\n",
              "\n",
              "    [theme=dark] .colab-df-convert {\n",
              "      background-color: #3B4455;\n",
              "      fill: #D2E3FC;\n",
              "    }\n",
              "\n",
              "    [theme=dark] .colab-df-convert:hover {\n",
              "      background-color: #434B5C;\n",
              "      box-shadow: 0px 1px 3px 1px rgba(0, 0, 0, 0.15);\n",
              "      filter: drop-shadow(0px 1px 2px rgba(0, 0, 0, 0.3));\n",
              "      fill: #FFFFFF;\n",
              "    }\n",
              "  </style>\n",
              "\n",
              "      <script>\n",
              "        const buttonEl =\n",
              "          document.querySelector('#df-65ad0dbc-90de-4365-a3f0-c1012abac35f button.colab-df-convert');\n",
              "        buttonEl.style.display =\n",
              "          google.colab.kernel.accessAllowed ? 'block' : 'none';\n",
              "\n",
              "        async function convertToInteractive(key) {\n",
              "          const element = document.querySelector('#df-65ad0dbc-90de-4365-a3f0-c1012abac35f');\n",
              "          const dataTable =\n",
              "            await google.colab.kernel.invokeFunction('convertToInteractive',\n",
              "                                                     [key], {});\n",
              "          if (!dataTable) return;\n",
              "\n",
              "          const docLinkHtml = 'Like what you see? Visit the ' +\n",
              "            '<a target=\"_blank\" href=https://colab.research.google.com/notebooks/data_table.ipynb>data table notebook</a>'\n",
              "            + ' to learn more about interactive tables.';\n",
              "          element.innerHTML = '';\n",
              "          dataTable['output_type'] = 'display_data';\n",
              "          await google.colab.output.renderOutput(dataTable, element);\n",
              "          const docLink = document.createElement('div');\n",
              "          docLink.innerHTML = docLinkHtml;\n",
              "          element.appendChild(docLink);\n",
              "        }\n",
              "      </script>\n",
              "    </div>\n",
              "  </div>\n",
              "  "
            ]
          },
          "metadata": {},
          "execution_count": 26
        }
      ]
    },
    {
      "cell_type": "code",
      "source": [],
      "metadata": {
        "id": "nq-BAHrjoVOB"
      },
      "execution_count": 26,
      "outputs": []
    },
    {
      "cell_type": "markdown",
      "source": [
        "## Shuffle, Balance, Split, Scale"
      ],
      "metadata": {
        "id": "GxWh9f-BqbvG"
      }
    },
    {
      "cell_type": "code",
      "source": [
        "#Shuffle df\n",
        "unscaled_df = unscaled_df.sample(frac=1, random_state=15)\n",
        "\n",
        "# Save indices\n",
        "#shuffled_indices = unscaled_df.index"
      ],
      "metadata": {
        "id": "OTODCJFaFh2e"
      },
      "execution_count": 27,
      "outputs": []
    },
    {
      "cell_type": "code",
      "source": [
        "unscaled_df['Classification'].value_counts()"
      ],
      "metadata": {
        "colab": {
          "base_uri": "https://localhost:8080/"
        },
        "id": "oRqb9RpZBZPx",
        "outputId": "e8745a66-a482-445c-c53d-1b1ab8c4a478"
      },
      "execution_count": 28,
      "outputs": [
        {
          "output_type": "execute_result",
          "data": {
            "text/plain": [
              "2.00    2347\n",
              "1.00    1078\n",
              "0.00     773\n",
              "Name: Classification, dtype: int64"
            ]
          },
          "metadata": {},
          "execution_count": 28
        }
      ]
    },
    {
      "cell_type": "code",
      "source": [
        "# Balance the data\n",
        "balanced_df = unscaled_df.iloc[0:0]\n",
        "\n",
        "for i in unscaled_df['Classification'].unique():   #unscaled_df.index:\n",
        "  min_target_size = unscaled_df['Classification'].value_counts().min()\n",
        "  #value_target = unscaled_df['Classification'][i]\n",
        "  target_values = unscaled_df[unscaled_df['Classification']==i]  #value_target]\n",
        "  fraction = round(min_target_size / target_values.shape[0], 2)\n",
        "  sample_data = target_values.sample(frac=fraction, random_state=8)\n",
        "  balanced_df = pd.concat([balanced_df, sample_data])\n",
        "\n",
        "# Shuffle the data\n",
        "balanced_df = balanced_df.sample(frac=1, random_state=3)"
      ],
      "metadata": {
        "id": "KQo7n4mMJh_3"
      },
      "execution_count": 29,
      "outputs": []
    },
    {
      "cell_type": "code",
      "source": [
        "# Just in case we need the indices later. \n",
        "\n",
        "#shuffled_indices = balanced_df.index"
      ],
      "metadata": {
        "id": "YL8o3GrEMz5v"
      },
      "execution_count": 30,
      "outputs": []
    },
    {
      "cell_type": "code",
      "source": [
        "balanced_df['Classification'].value_counts()"
      ],
      "metadata": {
        "colab": {
          "base_uri": "https://localhost:8080/"
        },
        "id": "Uo4bpgjhN_hy",
        "outputId": "a07a351e-b6a0-4947-836f-56de061b64ce"
      },
      "execution_count": 31,
      "outputs": [
        {
          "output_type": "execute_result",
          "data": {
            "text/plain": [
              "1.00    776\n",
              "2.00    775\n",
              "0.00    773\n",
              "Name: Classification, dtype: int64"
            ]
          },
          "metadata": {},
          "execution_count": 31
        }
      ]
    },
    {
      "cell_type": "code",
      "source": [
        "balanced_df[balanced_df.isnull().any(axis=1)]"
      ],
      "metadata": {
        "colab": {
          "base_uri": "https://localhost:8080/",
          "height": 49
        },
        "id": "T8cntVx7pmi4",
        "outputId": "3ae772fe-0654-4f4e-e1dd-2383abb8ad22"
      },
      "execution_count": 32,
      "outputs": [
        {
          "output_type": "execute_result",
          "data": {
            "text/plain": [
              "Empty DataFrame\n",
              "Columns: [End Year, Proficiency Rate, Reported Spending per student, Money Difference per school, Classification]\n",
              "Index: []"
            ],
            "text/html": [
              "\n",
              "  <div id=\"df-e7e3f2b8-1295-4f89-b5ff-7a131a456d9a\">\n",
              "    <div class=\"colab-df-container\">\n",
              "      <div>\n",
              "<style scoped>\n",
              "    .dataframe tbody tr th:only-of-type {\n",
              "        vertical-align: middle;\n",
              "    }\n",
              "\n",
              "    .dataframe tbody tr th {\n",
              "        vertical-align: top;\n",
              "    }\n",
              "\n",
              "    .dataframe thead th {\n",
              "        text-align: right;\n",
              "    }\n",
              "</style>\n",
              "<table border=\"1\" class=\"dataframe\">\n",
              "  <thead>\n",
              "    <tr style=\"text-align: right;\">\n",
              "      <th></th>\n",
              "      <th>End Year</th>\n",
              "      <th>Proficiency Rate</th>\n",
              "      <th>Reported Spending per student</th>\n",
              "      <th>Money Difference per school</th>\n",
              "      <th>Classification</th>\n",
              "    </tr>\n",
              "  </thead>\n",
              "  <tbody>\n",
              "  </tbody>\n",
              "</table>\n",
              "</div>\n",
              "      <button class=\"colab-df-convert\" onclick=\"convertToInteractive('df-e7e3f2b8-1295-4f89-b5ff-7a131a456d9a')\"\n",
              "              title=\"Convert this dataframe to an interactive table.\"\n",
              "              style=\"display:none;\">\n",
              "        \n",
              "  <svg xmlns=\"http://www.w3.org/2000/svg\" height=\"24px\"viewBox=\"0 0 24 24\"\n",
              "       width=\"24px\">\n",
              "    <path d=\"M0 0h24v24H0V0z\" fill=\"none\"/>\n",
              "    <path d=\"M18.56 5.44l.94 2.06.94-2.06 2.06-.94-2.06-.94-.94-2.06-.94 2.06-2.06.94zm-11 1L8.5 8.5l.94-2.06 2.06-.94-2.06-.94L8.5 2.5l-.94 2.06-2.06.94zm10 10l.94 2.06.94-2.06 2.06-.94-2.06-.94-.94-2.06-.94 2.06-2.06.94z\"/><path d=\"M17.41 7.96l-1.37-1.37c-.4-.4-.92-.59-1.43-.59-.52 0-1.04.2-1.43.59L10.3 9.45l-7.72 7.72c-.78.78-.78 2.05 0 2.83L4 21.41c.39.39.9.59 1.41.59.51 0 1.02-.2 1.41-.59l7.78-7.78 2.81-2.81c.8-.78.8-2.07 0-2.86zM5.41 20L4 18.59l7.72-7.72 1.47 1.35L5.41 20z\"/>\n",
              "  </svg>\n",
              "      </button>\n",
              "      \n",
              "  <style>\n",
              "    .colab-df-container {\n",
              "      display:flex;\n",
              "      flex-wrap:wrap;\n",
              "      gap: 12px;\n",
              "    }\n",
              "\n",
              "    .colab-df-convert {\n",
              "      background-color: #E8F0FE;\n",
              "      border: none;\n",
              "      border-radius: 50%;\n",
              "      cursor: pointer;\n",
              "      display: none;\n",
              "      fill: #1967D2;\n",
              "      height: 32px;\n",
              "      padding: 0 0 0 0;\n",
              "      width: 32px;\n",
              "    }\n",
              "\n",
              "    .colab-df-convert:hover {\n",
              "      background-color: #E2EBFA;\n",
              "      box-shadow: 0px 1px 2px rgba(60, 64, 67, 0.3), 0px 1px 3px 1px rgba(60, 64, 67, 0.15);\n",
              "      fill: #174EA6;\n",
              "    }\n",
              "\n",
              "    [theme=dark] .colab-df-convert {\n",
              "      background-color: #3B4455;\n",
              "      fill: #D2E3FC;\n",
              "    }\n",
              "\n",
              "    [theme=dark] .colab-df-convert:hover {\n",
              "      background-color: #434B5C;\n",
              "      box-shadow: 0px 1px 3px 1px rgba(0, 0, 0, 0.15);\n",
              "      filter: drop-shadow(0px 1px 2px rgba(0, 0, 0, 0.3));\n",
              "      fill: #FFFFFF;\n",
              "    }\n",
              "  </style>\n",
              "\n",
              "      <script>\n",
              "        const buttonEl =\n",
              "          document.querySelector('#df-e7e3f2b8-1295-4f89-b5ff-7a131a456d9a button.colab-df-convert');\n",
              "        buttonEl.style.display =\n",
              "          google.colab.kernel.accessAllowed ? 'block' : 'none';\n",
              "\n",
              "        async function convertToInteractive(key) {\n",
              "          const element = document.querySelector('#df-e7e3f2b8-1295-4f89-b5ff-7a131a456d9a');\n",
              "          const dataTable =\n",
              "            await google.colab.kernel.invokeFunction('convertToInteractive',\n",
              "                                                     [key], {});\n",
              "          if (!dataTable) return;\n",
              "\n",
              "          const docLinkHtml = 'Like what you see? Visit the ' +\n",
              "            '<a target=\"_blank\" href=https://colab.research.google.com/notebooks/data_table.ipynb>data table notebook</a>'\n",
              "            + ' to learn more about interactive tables.';\n",
              "          element.innerHTML = '';\n",
              "          dataTable['output_type'] = 'display_data';\n",
              "          await google.colab.output.renderOutput(dataTable, element);\n",
              "          const docLink = document.createElement('div');\n",
              "          docLink.innerHTML = docLinkHtml;\n",
              "          element.appendChild(docLink);\n",
              "        }\n",
              "      </script>\n",
              "    </div>\n",
              "  </div>\n",
              "  "
            ]
          },
          "metadata": {},
          "execution_count": 32
        }
      ]
    },
    {
      "cell_type": "code",
      "source": [
        "balanced_df.columns"
      ],
      "metadata": {
        "colab": {
          "base_uri": "https://localhost:8080/"
        },
        "id": "5Mk5pKgWlilq",
        "outputId": "46d3970a-de54-4c88-d48e-8abe407c0995"
      },
      "execution_count": 33,
      "outputs": [
        {
          "output_type": "execute_result",
          "data": {
            "text/plain": [
              "Index(['End Year', 'Proficiency Rate', 'Reported Spending per student',\n",
              "       'Money Difference per school', 'Classification'],\n",
              "      dtype='object')"
            ]
          },
          "metadata": {},
          "execution_count": 33
        }
      ]
    },
    {
      "cell_type": "code",
      "source": [
        "unscaled_inputs = balanced_df.values[:,:-1]"
      ],
      "metadata": {
        "id": "b0SLLubKqzxg"
      },
      "execution_count": 34,
      "outputs": []
    },
    {
      "cell_type": "code",
      "source": [
        "targets = balanced_df.values[:,-1]"
      ],
      "metadata": {
        "id": "IP-tneR3qz0o"
      },
      "execution_count": 35,
      "outputs": []
    },
    {
      "cell_type": "code",
      "source": [
        "# Split into training, validation, and test sets\n",
        "\n",
        "unscaled_X_train, unscaled_X_set, y_train, y_set = train_test_split(unscaled_inputs, targets, test_size=0.2, random_state=15)\n",
        "unscaled_X_valid, unscaled_X_test, y_valid, y_test = train_test_split(unscaled_X_set, y_set, test_size=0.5, random_state=13)"
      ],
      "metadata": {
        "id": "gi7cn2ppM4dv"
      },
      "execution_count": 36,
      "outputs": []
    },
    {
      "cell_type": "code",
      "source": [
        "# Scale data\n",
        "\n",
        "epsb_scaler = StandardScaler()\n",
        "\n",
        "# Calculate and store the mean and sd\n",
        "epsb_scaler.fit(unscaled_X_train)\n",
        "\n",
        "# Apply the scaler\n",
        "scaled_X_train = epsb_scaler.transform(unscaled_X_train)\n",
        "scaled_X_valid = epsb_scaler.transform(unscaled_X_valid)\n",
        "scaled_X_test = epsb_scaler.transform(unscaled_X_test)"
      ],
      "metadata": {
        "id": "WAQ-xMkwMz22"
      },
      "execution_count": 37,
      "outputs": []
    },
    {
      "cell_type": "code",
      "source": [
        "scaled_X_train.shape"
      ],
      "metadata": {
        "colab": {
          "base_uri": "https://localhost:8080/"
        },
        "id": "RUTB3WPnM4mU",
        "outputId": "ad8ba631-d31b-453b-c35e-65afc5c94009"
      },
      "execution_count": 38,
      "outputs": [
        {
          "output_type": "execute_result",
          "data": {
            "text/plain": [
              "(1859, 4)"
            ]
          },
          "metadata": {},
          "execution_count": 38
        }
      ]
    },
    {
      "cell_type": "code",
      "source": [
        "y_train"
      ],
      "metadata": {
        "colab": {
          "base_uri": "https://localhost:8080/"
        },
        "id": "FdYQwy0jr01b",
        "outputId": "dcdeb620-dcc3-4436-fa12-8d2a9ff41ce9"
      },
      "execution_count": 39,
      "outputs": [
        {
          "output_type": "execute_result",
          "data": {
            "text/plain": [
              "array([0., 2., 2., ..., 2., 1., 0.], dtype=float32)"
            ]
          },
          "metadata": {},
          "execution_count": 39
        }
      ]
    },
    {
      "cell_type": "code",
      "source": [
        "scaled_X_valid.shape"
      ],
      "metadata": {
        "colab": {
          "base_uri": "https://localhost:8080/"
        },
        "id": "YEsOUSBQsPQf",
        "outputId": "a322f51e-44dd-4fdc-dd62-c8b914f3e9bc"
      },
      "execution_count": 40,
      "outputs": [
        {
          "output_type": "execute_result",
          "data": {
            "text/plain": [
              "(232, 4)"
            ]
          },
          "metadata": {},
          "execution_count": 40
        }
      ]
    },
    {
      "cell_type": "code",
      "source": [
        "y_valid.shape"
      ],
      "metadata": {
        "colab": {
          "base_uri": "https://localhost:8080/"
        },
        "id": "NO_XLr7XsPUH",
        "outputId": "4c7de603-7478-4f2b-af15-9855822e9870"
      },
      "execution_count": 41,
      "outputs": [
        {
          "output_type": "execute_result",
          "data": {
            "text/plain": [
              "(232,)"
            ]
          },
          "metadata": {},
          "execution_count": 41
        }
      ]
    },
    {
      "cell_type": "code",
      "source": [
        "scaled_X_test.shape"
      ],
      "metadata": {
        "colab": {
          "base_uri": "https://localhost:8080/"
        },
        "id": "XCdZClZNRI_m",
        "outputId": "9c1219e0-5c93-46d3-a4b4-d8086723594a"
      },
      "execution_count": 42,
      "outputs": [
        {
          "output_type": "execute_result",
          "data": {
            "text/plain": [
              "(233, 4)"
            ]
          },
          "metadata": {},
          "execution_count": 42
        }
      ]
    },
    {
      "cell_type": "code",
      "source": [
        "y_test.shape"
      ],
      "metadata": {
        "colab": {
          "base_uri": "https://localhost:8080/"
        },
        "id": "d6PEs79HsAiU",
        "outputId": "efb1a2e5-84dd-4460-e63c-f83c68435e10"
      },
      "execution_count": 43,
      "outputs": [
        {
          "output_type": "execute_result",
          "data": {
            "text/plain": [
              "(233,)"
            ]
          },
          "metadata": {},
          "execution_count": 43
        }
      ]
    },
    {
      "cell_type": "code",
      "source": [],
      "metadata": {
        "id": "eFF1xL3DshXJ"
      },
      "execution_count": 43,
      "outputs": []
    },
    {
      "cell_type": "markdown",
      "source": [
        "## Model"
      ],
      "metadata": {
        "id": "22iLAmwjZhWX"
      }
    },
    {
      "cell_type": "code",
      "source": [
        "# Create the model\n",
        "# Ran different rounds of the below model.  Some of the options I put in comments to the right.\n",
        "\n",
        "input_size = 4\n",
        "output_size = 3\n",
        "hidden_layer_size = 15 # for this problem, optimal results were between 10-20 layers\n",
        "\n",
        "model = tf.keras.Sequential([\n",
        "    tf.keras.layers.Dense(hidden_layer_size, activation='tanh'),    # attempted to make this linear, only use the proficency in the input layers, and it only came to 77% valid accuracy or less\n",
        "    tf.keras.layers.Dense(hidden_layer_size, activation='tanh'),\n",
        "    tf.keras.layers.Dense(output_size, activation='softmax') # the sigmoid function made the model decrease in accuracy\n",
        "    ])\n",
        "\n",
        "model.compile(optimizer='adam', loss='sparse_categorical_crossentropy', metrics=['accuracy'])\n"
      ],
      "metadata": {
        "id": "tkeoXJwLGtRf"
      },
      "execution_count": 44,
      "outputs": []
    },
    {
      "cell_type": "code",
      "source": [
        "# Fit the model\n",
        "\n",
        "batch_size = 50  # started with batch size 25\n",
        "max_epochs = 100 # started with 20 epochs\n",
        "\n",
        "early_stopping = tf.keras.callbacks.EarlyStopping(patience=5) # the adam optimizer has a learning rate of 0.001, so I added more patience \n",
        "\n",
        "model.fit(scaled_X_train, \n",
        "          y_train, \n",
        "          batch_size=batch_size,\n",
        "          epochs = max_epochs,\n",
        "          callbacks = [early_stopping],\n",
        "          validation_data = (scaled_X_valid, y_valid),\n",
        "          verbose =2)\n",
        "\n",
        "\n",
        "# Ran rounds using a multi-index of School Code & End Year.  But didn't get above a 78% validation accuracy\n",
        "# Added in the string values from KY rank/rating column, and the model went up to 89.6% validation accuracy\n",
        "\n"
      ],
      "metadata": {
        "colab": {
          "base_uri": "https://localhost:8080/"
        },
        "id": "BG2ubwNvGtW2",
        "outputId": "04f589b0-e5fd-4968-ea2c-207d695268ac"
      },
      "execution_count": 45,
      "outputs": [
        {
          "output_type": "stream",
          "name": "stdout",
          "text": [
            "Epoch 1/100\n",
            "38/38 - 1s - loss: 1.0240 - accuracy: 0.4389 - val_loss: 0.9647 - val_accuracy: 0.4698 - 1s/epoch - 33ms/step\n",
            "Epoch 2/100\n",
            "38/38 - 0s - loss: 0.9015 - accuracy: 0.5282 - val_loss: 0.8618 - val_accuracy: 0.5603 - 139ms/epoch - 4ms/step\n",
            "Epoch 3/100\n",
            "38/38 - 0s - loss: 0.7998 - accuracy: 0.6170 - val_loss: 0.7660 - val_accuracy: 0.6250 - 131ms/epoch - 3ms/step\n",
            "Epoch 4/100\n",
            "38/38 - 0s - loss: 0.7078 - accuracy: 0.6719 - val_loss: 0.6782 - val_accuracy: 0.6897 - 132ms/epoch - 3ms/step\n",
            "Epoch 5/100\n",
            "38/38 - 0s - loss: 0.6329 - accuracy: 0.7208 - val_loss: 0.6115 - val_accuracy: 0.7371 - 123ms/epoch - 3ms/step\n",
            "Epoch 6/100\n",
            "38/38 - 0s - loss: 0.5765 - accuracy: 0.7569 - val_loss: 0.5593 - val_accuracy: 0.7802 - 135ms/epoch - 4ms/step\n",
            "Epoch 7/100\n",
            "38/38 - 0s - loss: 0.5369 - accuracy: 0.7881 - val_loss: 0.5227 - val_accuracy: 0.7931 - 121ms/epoch - 3ms/step\n",
            "Epoch 8/100\n",
            "38/38 - 0s - loss: 0.5095 - accuracy: 0.7875 - val_loss: 0.4998 - val_accuracy: 0.7974 - 191ms/epoch - 5ms/step\n",
            "Epoch 9/100\n",
            "38/38 - 0s - loss: 0.4920 - accuracy: 0.7983 - val_loss: 0.4836 - val_accuracy: 0.8060 - 182ms/epoch - 5ms/step\n",
            "Epoch 10/100\n",
            "38/38 - 0s - loss: 0.4796 - accuracy: 0.7999 - val_loss: 0.4698 - val_accuracy: 0.8103 - 129ms/epoch - 3ms/step\n",
            "Epoch 11/100\n",
            "38/38 - 0s - loss: 0.4715 - accuracy: 0.8010 - val_loss: 0.4612 - val_accuracy: 0.8103 - 216ms/epoch - 6ms/step\n",
            "Epoch 12/100\n",
            "38/38 - 0s - loss: 0.4648 - accuracy: 0.8010 - val_loss: 0.4555 - val_accuracy: 0.8147 - 112ms/epoch - 3ms/step\n",
            "Epoch 13/100\n",
            "38/38 - 0s - loss: 0.4604 - accuracy: 0.8020 - val_loss: 0.4522 - val_accuracy: 0.8103 - 102ms/epoch - 3ms/step\n",
            "Epoch 14/100\n",
            "38/38 - 0s - loss: 0.4583 - accuracy: 0.8020 - val_loss: 0.4494 - val_accuracy: 0.8190 - 140ms/epoch - 4ms/step\n",
            "Epoch 15/100\n",
            "38/38 - 0s - loss: 0.4551 - accuracy: 0.8042 - val_loss: 0.4460 - val_accuracy: 0.8147 - 174ms/epoch - 5ms/step\n",
            "Epoch 16/100\n",
            "38/38 - 0s - loss: 0.4535 - accuracy: 0.8031 - val_loss: 0.4458 - val_accuracy: 0.8147 - 246ms/epoch - 6ms/step\n",
            "Epoch 17/100\n",
            "38/38 - 0s - loss: 0.4509 - accuracy: 0.8063 - val_loss: 0.4435 - val_accuracy: 0.8190 - 136ms/epoch - 4ms/step\n",
            "Epoch 18/100\n",
            "38/38 - 0s - loss: 0.4496 - accuracy: 0.8042 - val_loss: 0.4418 - val_accuracy: 0.8017 - 132ms/epoch - 3ms/step\n",
            "Epoch 19/100\n",
            "38/38 - 0s - loss: 0.4494 - accuracy: 0.8037 - val_loss: 0.4399 - val_accuracy: 0.8147 - 107ms/epoch - 3ms/step\n",
            "Epoch 20/100\n",
            "38/38 - 0s - loss: 0.4477 - accuracy: 0.8042 - val_loss: 0.4412 - val_accuracy: 0.8103 - 110ms/epoch - 3ms/step\n",
            "Epoch 21/100\n",
            "38/38 - 0s - loss: 0.4479 - accuracy: 0.8047 - val_loss: 0.4392 - val_accuracy: 0.8233 - 108ms/epoch - 3ms/step\n",
            "Epoch 22/100\n",
            "38/38 - 0s - loss: 0.4464 - accuracy: 0.8026 - val_loss: 0.4373 - val_accuracy: 0.8233 - 110ms/epoch - 3ms/step\n",
            "Epoch 23/100\n",
            "38/38 - 0s - loss: 0.4461 - accuracy: 0.8074 - val_loss: 0.4375 - val_accuracy: 0.8103 - 157ms/epoch - 4ms/step\n",
            "Epoch 24/100\n",
            "38/38 - 0s - loss: 0.4446 - accuracy: 0.8058 - val_loss: 0.4340 - val_accuracy: 0.8233 - 169ms/epoch - 4ms/step\n",
            "Epoch 25/100\n",
            "38/38 - 0s - loss: 0.4444 - accuracy: 0.8058 - val_loss: 0.4365 - val_accuracy: 0.8233 - 161ms/epoch - 4ms/step\n",
            "Epoch 26/100\n",
            "38/38 - 0s - loss: 0.4450 - accuracy: 0.8063 - val_loss: 0.4358 - val_accuracy: 0.8147 - 177ms/epoch - 5ms/step\n",
            "Epoch 27/100\n",
            "38/38 - 0s - loss: 0.4431 - accuracy: 0.8090 - val_loss: 0.4363 - val_accuracy: 0.8103 - 127ms/epoch - 3ms/step\n",
            "Epoch 28/100\n",
            "38/38 - 0s - loss: 0.4420 - accuracy: 0.8080 - val_loss: 0.4325 - val_accuracy: 0.8147 - 179ms/epoch - 5ms/step\n",
            "Epoch 29/100\n",
            "38/38 - 0s - loss: 0.4409 - accuracy: 0.8133 - val_loss: 0.4331 - val_accuracy: 0.8190 - 283ms/epoch - 7ms/step\n",
            "Epoch 30/100\n",
            "38/38 - 0s - loss: 0.4406 - accuracy: 0.8123 - val_loss: 0.4333 - val_accuracy: 0.8190 - 214ms/epoch - 6ms/step\n",
            "Epoch 31/100\n",
            "38/38 - 0s - loss: 0.4395 - accuracy: 0.8096 - val_loss: 0.4333 - val_accuracy: 0.8233 - 143ms/epoch - 4ms/step\n",
            "Epoch 32/100\n",
            "38/38 - 0s - loss: 0.4387 - accuracy: 0.8096 - val_loss: 0.4314 - val_accuracy: 0.8190 - 111ms/epoch - 3ms/step\n",
            "Epoch 33/100\n",
            "38/38 - 0s - loss: 0.4385 - accuracy: 0.8112 - val_loss: 0.4306 - val_accuracy: 0.8190 - 123ms/epoch - 3ms/step\n",
            "Epoch 34/100\n",
            "38/38 - 0s - loss: 0.4378 - accuracy: 0.8074 - val_loss: 0.4298 - val_accuracy: 0.8147 - 135ms/epoch - 4ms/step\n",
            "Epoch 35/100\n",
            "38/38 - 0s - loss: 0.4362 - accuracy: 0.8139 - val_loss: 0.4300 - val_accuracy: 0.8103 - 168ms/epoch - 4ms/step\n",
            "Epoch 36/100\n",
            "38/38 - 0s - loss: 0.4357 - accuracy: 0.8107 - val_loss: 0.4297 - val_accuracy: 0.8190 - 156ms/epoch - 4ms/step\n",
            "Epoch 37/100\n",
            "38/38 - 0s - loss: 0.4349 - accuracy: 0.8112 - val_loss: 0.4284 - val_accuracy: 0.8190 - 99ms/epoch - 3ms/step\n",
            "Epoch 38/100\n",
            "38/38 - 0s - loss: 0.4344 - accuracy: 0.8053 - val_loss: 0.4276 - val_accuracy: 0.8233 - 117ms/epoch - 3ms/step\n",
            "Epoch 39/100\n",
            "38/38 - 0s - loss: 0.4333 - accuracy: 0.8155 - val_loss: 0.4300 - val_accuracy: 0.8147 - 134ms/epoch - 4ms/step\n",
            "Epoch 40/100\n",
            "38/38 - 0s - loss: 0.4332 - accuracy: 0.8128 - val_loss: 0.4269 - val_accuracy: 0.8190 - 163ms/epoch - 4ms/step\n",
            "Epoch 41/100\n",
            "38/38 - 0s - loss: 0.4308 - accuracy: 0.8155 - val_loss: 0.4264 - val_accuracy: 0.8103 - 95ms/epoch - 3ms/step\n",
            "Epoch 42/100\n",
            "38/38 - 0s - loss: 0.4295 - accuracy: 0.8160 - val_loss: 0.4233 - val_accuracy: 0.8233 - 120ms/epoch - 3ms/step\n",
            "Epoch 43/100\n",
            "38/38 - 0s - loss: 0.4283 - accuracy: 0.8133 - val_loss: 0.4239 - val_accuracy: 0.8147 - 178ms/epoch - 5ms/step\n",
            "Epoch 44/100\n",
            "38/38 - 0s - loss: 0.4272 - accuracy: 0.8182 - val_loss: 0.4224 - val_accuracy: 0.8147 - 187ms/epoch - 5ms/step\n",
            "Epoch 45/100\n",
            "38/38 - 0s - loss: 0.4243 - accuracy: 0.8182 - val_loss: 0.4165 - val_accuracy: 0.8276 - 142ms/epoch - 4ms/step\n",
            "Epoch 46/100\n",
            "38/38 - 0s - loss: 0.4234 - accuracy: 0.8209 - val_loss: 0.4175 - val_accuracy: 0.8276 - 115ms/epoch - 3ms/step\n",
            "Epoch 47/100\n",
            "38/38 - 0s - loss: 0.4206 - accuracy: 0.8182 - val_loss: 0.4186 - val_accuracy: 0.8190 - 300ms/epoch - 8ms/step\n",
            "Epoch 48/100\n",
            "38/38 - 0s - loss: 0.4191 - accuracy: 0.8171 - val_loss: 0.4176 - val_accuracy: 0.8060 - 195ms/epoch - 5ms/step\n",
            "Epoch 49/100\n",
            "38/38 - 0s - loss: 0.4149 - accuracy: 0.8209 - val_loss: 0.4109 - val_accuracy: 0.8362 - 165ms/epoch - 4ms/step\n",
            "Epoch 50/100\n",
            "38/38 - 0s - loss: 0.4160 - accuracy: 0.8176 - val_loss: 0.4109 - val_accuracy: 0.8190 - 125ms/epoch - 3ms/step\n",
            "Epoch 51/100\n",
            "38/38 - 0s - loss: 0.4104 - accuracy: 0.8203 - val_loss: 0.4064 - val_accuracy: 0.8190 - 118ms/epoch - 3ms/step\n",
            "Epoch 52/100\n",
            "38/38 - 0s - loss: 0.4056 - accuracy: 0.8246 - val_loss: 0.4060 - val_accuracy: 0.8276 - 195ms/epoch - 5ms/step\n",
            "Epoch 53/100\n",
            "38/38 - 0s - loss: 0.4031 - accuracy: 0.8257 - val_loss: 0.4018 - val_accuracy: 0.8276 - 71ms/epoch - 2ms/step\n",
            "Epoch 54/100\n",
            "38/38 - 0s - loss: 0.3995 - accuracy: 0.8263 - val_loss: 0.3990 - val_accuracy: 0.8190 - 73ms/epoch - 2ms/step\n",
            "Epoch 55/100\n",
            "38/38 - 0s - loss: 0.3959 - accuracy: 0.8268 - val_loss: 0.3927 - val_accuracy: 0.8362 - 79ms/epoch - 2ms/step\n",
            "Epoch 56/100\n",
            "38/38 - 0s - loss: 0.3933 - accuracy: 0.8273 - val_loss: 0.3905 - val_accuracy: 0.8233 - 63ms/epoch - 2ms/step\n",
            "Epoch 57/100\n",
            "38/38 - 0s - loss: 0.3892 - accuracy: 0.8289 - val_loss: 0.3888 - val_accuracy: 0.8319 - 80ms/epoch - 2ms/step\n",
            "Epoch 58/100\n",
            "38/38 - 0s - loss: 0.3835 - accuracy: 0.8370 - val_loss: 0.3837 - val_accuracy: 0.8190 - 79ms/epoch - 2ms/step\n",
            "Epoch 59/100\n",
            "38/38 - 0s - loss: 0.3804 - accuracy: 0.8354 - val_loss: 0.3834 - val_accuracy: 0.8276 - 63ms/epoch - 2ms/step\n",
            "Epoch 60/100\n",
            "38/38 - 0s - loss: 0.3774 - accuracy: 0.8306 - val_loss: 0.3773 - val_accuracy: 0.8319 - 65ms/epoch - 2ms/step\n",
            "Epoch 61/100\n",
            "38/38 - 0s - loss: 0.3728 - accuracy: 0.8365 - val_loss: 0.3728 - val_accuracy: 0.8362 - 67ms/epoch - 2ms/step\n",
            "Epoch 62/100\n",
            "38/38 - 0s - loss: 0.3685 - accuracy: 0.8386 - val_loss: 0.3688 - val_accuracy: 0.8276 - 60ms/epoch - 2ms/step\n",
            "Epoch 63/100\n",
            "38/38 - 0s - loss: 0.3635 - accuracy: 0.8435 - val_loss: 0.3681 - val_accuracy: 0.8319 - 78ms/epoch - 2ms/step\n",
            "Epoch 64/100\n",
            "38/38 - 0s - loss: 0.3598 - accuracy: 0.8408 - val_loss: 0.3661 - val_accuracy: 0.8276 - 82ms/epoch - 2ms/step\n",
            "Epoch 65/100\n",
            "38/38 - 0s - loss: 0.3559 - accuracy: 0.8440 - val_loss: 0.3635 - val_accuracy: 0.8276 - 83ms/epoch - 2ms/step\n",
            "Epoch 66/100\n",
            "38/38 - 0s - loss: 0.3526 - accuracy: 0.8451 - val_loss: 0.3560 - val_accuracy: 0.8319 - 72ms/epoch - 2ms/step\n",
            "Epoch 67/100\n",
            "38/38 - 0s - loss: 0.3494 - accuracy: 0.8435 - val_loss: 0.3568 - val_accuracy: 0.8319 - 59ms/epoch - 2ms/step\n",
            "Epoch 68/100\n",
            "38/38 - 0s - loss: 0.3482 - accuracy: 0.8419 - val_loss: 0.3512 - val_accuracy: 0.8405 - 60ms/epoch - 2ms/step\n",
            "Epoch 69/100\n",
            "38/38 - 0s - loss: 0.3436 - accuracy: 0.8483 - val_loss: 0.3525 - val_accuracy: 0.8362 - 75ms/epoch - 2ms/step\n",
            "Epoch 70/100\n",
            "38/38 - 0s - loss: 0.3408 - accuracy: 0.8510 - val_loss: 0.3486 - val_accuracy: 0.8276 - 61ms/epoch - 2ms/step\n",
            "Epoch 71/100\n",
            "38/38 - 0s - loss: 0.3383 - accuracy: 0.8542 - val_loss: 0.3472 - val_accuracy: 0.8448 - 69ms/epoch - 2ms/step\n",
            "Epoch 72/100\n",
            "38/38 - 0s - loss: 0.3370 - accuracy: 0.8488 - val_loss: 0.3464 - val_accuracy: 0.8405 - 97ms/epoch - 3ms/step\n",
            "Epoch 73/100\n",
            "38/38 - 0s - loss: 0.3329 - accuracy: 0.8548 - val_loss: 0.3395 - val_accuracy: 0.8448 - 73ms/epoch - 2ms/step\n",
            "Epoch 74/100\n",
            "38/38 - 0s - loss: 0.3297 - accuracy: 0.8542 - val_loss: 0.3372 - val_accuracy: 0.8534 - 65ms/epoch - 2ms/step\n",
            "Epoch 75/100\n",
            "38/38 - 0s - loss: 0.3284 - accuracy: 0.8521 - val_loss: 0.3402 - val_accuracy: 0.8448 - 93ms/epoch - 2ms/step\n",
            "Epoch 76/100\n",
            "38/38 - 0s - loss: 0.3268 - accuracy: 0.8510 - val_loss: 0.3382 - val_accuracy: 0.8491 - 77ms/epoch - 2ms/step\n",
            "Epoch 77/100\n",
            "38/38 - 0s - loss: 0.3253 - accuracy: 0.8510 - val_loss: 0.3382 - val_accuracy: 0.8491 - 66ms/epoch - 2ms/step\n",
            "Epoch 78/100\n",
            "38/38 - 0s - loss: 0.3236 - accuracy: 0.8580 - val_loss: 0.3339 - val_accuracy: 0.8491 - 61ms/epoch - 2ms/step\n",
            "Epoch 79/100\n",
            "38/38 - 0s - loss: 0.3215 - accuracy: 0.8564 - val_loss: 0.3364 - val_accuracy: 0.8491 - 73ms/epoch - 2ms/step\n",
            "Epoch 80/100\n",
            "38/38 - 0s - loss: 0.3188 - accuracy: 0.8591 - val_loss: 0.3301 - val_accuracy: 0.8491 - 66ms/epoch - 2ms/step\n",
            "Epoch 81/100\n",
            "38/38 - 0s - loss: 0.3194 - accuracy: 0.8564 - val_loss: 0.3358 - val_accuracy: 0.8448 - 72ms/epoch - 2ms/step\n",
            "Epoch 82/100\n",
            "38/38 - 0s - loss: 0.3156 - accuracy: 0.8596 - val_loss: 0.3327 - val_accuracy: 0.8362 - 71ms/epoch - 2ms/step\n",
            "Epoch 83/100\n",
            "38/38 - 0s - loss: 0.3151 - accuracy: 0.8601 - val_loss: 0.3317 - val_accuracy: 0.8534 - 86ms/epoch - 2ms/step\n",
            "Epoch 84/100\n",
            "38/38 - 0s - loss: 0.3141 - accuracy: 0.8585 - val_loss: 0.3351 - val_accuracy: 0.8448 - 78ms/epoch - 2ms/step\n",
            "Epoch 85/100\n",
            "38/38 - 0s - loss: 0.3133 - accuracy: 0.8612 - val_loss: 0.3281 - val_accuracy: 0.8405 - 84ms/epoch - 2ms/step\n",
            "Epoch 86/100\n",
            "38/38 - 0s - loss: 0.3115 - accuracy: 0.8618 - val_loss: 0.3300 - val_accuracy: 0.8448 - 84ms/epoch - 2ms/step\n",
            "Epoch 87/100\n",
            "38/38 - 0s - loss: 0.3104 - accuracy: 0.8650 - val_loss: 0.3274 - val_accuracy: 0.8362 - 61ms/epoch - 2ms/step\n",
            "Epoch 88/100\n",
            "38/38 - 0s - loss: 0.3097 - accuracy: 0.8601 - val_loss: 0.3281 - val_accuracy: 0.8448 - 73ms/epoch - 2ms/step\n",
            "Epoch 89/100\n",
            "38/38 - 0s - loss: 0.3091 - accuracy: 0.8596 - val_loss: 0.3296 - val_accuracy: 0.8491 - 71ms/epoch - 2ms/step\n",
            "Epoch 90/100\n",
            "38/38 - 0s - loss: 0.3073 - accuracy: 0.8612 - val_loss: 0.3230 - val_accuracy: 0.8448 - 60ms/epoch - 2ms/step\n",
            "Epoch 91/100\n",
            "38/38 - 0s - loss: 0.3084 - accuracy: 0.8639 - val_loss: 0.3310 - val_accuracy: 0.8448 - 79ms/epoch - 2ms/step\n",
            "Epoch 92/100\n",
            "38/38 - 0s - loss: 0.3053 - accuracy: 0.8623 - val_loss: 0.3233 - val_accuracy: 0.8448 - 74ms/epoch - 2ms/step\n",
            "Epoch 93/100\n",
            "38/38 - 0s - loss: 0.3049 - accuracy: 0.8618 - val_loss: 0.3249 - val_accuracy: 0.8491 - 64ms/epoch - 2ms/step\n",
            "Epoch 94/100\n",
            "38/38 - 0s - loss: 0.3040 - accuracy: 0.8607 - val_loss: 0.3199 - val_accuracy: 0.8448 - 66ms/epoch - 2ms/step\n",
            "Epoch 95/100\n",
            "38/38 - 0s - loss: 0.3062 - accuracy: 0.8612 - val_loss: 0.3237 - val_accuracy: 0.8491 - 78ms/epoch - 2ms/step\n",
            "Epoch 96/100\n",
            "38/38 - 0s - loss: 0.3040 - accuracy: 0.8607 - val_loss: 0.3242 - val_accuracy: 0.8491 - 60ms/epoch - 2ms/step\n",
            "Epoch 97/100\n",
            "38/38 - 0s - loss: 0.3037 - accuracy: 0.8644 - val_loss: 0.3212 - val_accuracy: 0.8578 - 57ms/epoch - 1ms/step\n",
            "Epoch 98/100\n",
            "38/38 - 0s - loss: 0.3025 - accuracy: 0.8607 - val_loss: 0.3243 - val_accuracy: 0.8491 - 74ms/epoch - 2ms/step\n",
            "Epoch 99/100\n",
            "38/38 - 0s - loss: 0.3025 - accuracy: 0.8666 - val_loss: 0.3258 - val_accuracy: 0.8534 - 80ms/epoch - 2ms/step\n"
          ]
        },
        {
          "output_type": "execute_result",
          "data": {
            "text/plain": [
              "<keras.callbacks.History at 0x7f3b0384b8e0>"
            ]
          },
          "metadata": {},
          "execution_count": 45
        }
      ]
    },
    {
      "cell_type": "code",
      "source": [
        "# test the model\n",
        "\n",
        "test_loss, test_accuracy = model.evaluate(scaled_X_test, y_test)"
      ],
      "metadata": {
        "colab": {
          "base_uri": "https://localhost:8080/"
        },
        "id": "SvVwCfw1GtZt",
        "outputId": "9c147f24-68c0-4806-f8f7-306f65afeb75"
      },
      "execution_count": 46,
      "outputs": [
        {
          "output_type": "stream",
          "name": "stdout",
          "text": [
            "8/8 [==============================] - 0s 2ms/step - loss: 0.3305 - accuracy: 0.8455\n"
          ]
        }
      ]
    },
    {
      "cell_type": "code",
      "source": [
        "# Print Pretty\n",
        "\n",
        "print('\\nTest loss: {0:.2f}. Test accuracy: {1:.2f}%'.format(test_loss, test_accuracy*100.))"
      ],
      "metadata": {
        "colab": {
          "base_uri": "https://localhost:8080/"
        },
        "id": "zalRGu7N3sq9",
        "outputId": "b5d47ad9-6051-4bd6-bc6f-0ef37752f825"
      },
      "execution_count": 47,
      "outputs": [
        {
          "output_type": "stream",
          "name": "stdout",
          "text": [
            "\n",
            "Test loss: 0.33. Test accuracy: 84.55%\n"
          ]
        }
      ]
    },
    {
      "cell_type": "code",
      "source": [
        "# Save model\n",
        "# Test accuracy for the saved model is 87.19%\n",
        "#tf.keras.models.save_model(model, '/content/drive/MyDrive/Colab Data/KY EPSB/model', include_optimizer=True)"
      ],
      "metadata": {
        "id": "c0E9NeLg3swR"
      },
      "execution_count": 48,
      "outputs": []
    },
    {
      "cell_type": "markdown",
      "source": [
        "## Predict Classification using model"
      ],
      "metadata": {
        "id": "fIw4UJzTBLBr"
      }
    },
    {
      "cell_type": "code",
      "source": [
        "# Grab the data that we want to predict\n",
        "inputs = predict_df.loc[:,['End Year', 'Proficiency Rate', 'Reported Spending per student', \n",
        "             'Money Difference per school']]\n",
        "\n",
        "# Convert to np array\n",
        "# scale data\n",
        "inputs = epsb_scaler.transform(inputs.values)\n"
      ],
      "metadata": {
        "id": "SAZjPHwgGtjV"
      },
      "execution_count": 49,
      "outputs": []
    },
    {
      "cell_type": "code",
      "source": [
        "pred_classification = model.predict(inputs)"
      ],
      "metadata": {
        "colab": {
          "base_uri": "https://localhost:8080/"
        },
        "id": "QBIKXHyM3s1J",
        "outputId": "d338a3b2-cf8e-4e7d-d78c-a2c7d58bccf9"
      },
      "execution_count": 50,
      "outputs": [
        {
          "output_type": "stream",
          "name": "stdout",
          "text": [
            "310/310 [==============================] - 0s 976us/step\n"
          ]
        }
      ]
    },
    {
      "cell_type": "code",
      "source": [
        "pred_classification.shape"
      ],
      "metadata": {
        "colab": {
          "base_uri": "https://localhost:8080/"
        },
        "id": "8ZFlF95KIchn",
        "outputId": "a7e80591-13ca-4663-8560-e9de8be03621"
      },
      "execution_count": 51,
      "outputs": [
        {
          "output_type": "execute_result",
          "data": {
            "text/plain": [
              "(9892, 3)"
            ]
          },
          "metadata": {},
          "execution_count": 51
        }
      ]
    },
    {
      "cell_type": "code",
      "source": [
        "pred_classification"
      ],
      "metadata": {
        "colab": {
          "base_uri": "https://localhost:8080/"
        },
        "id": "v6TrNSRMoElh",
        "outputId": "f89304df-9af6-4816-bdcd-1fb83271dd30"
      },
      "execution_count": 52,
      "outputs": [
        {
          "output_type": "execute_result",
          "data": {
            "text/plain": [
              "array([[2.2237109e-05, 1.6372092e-02, 9.8360562e-01],\n",
              "       [2.4577268e-05, 9.7400453e-03, 9.9023545e-01],\n",
              "       [9.7998325e-03, 7.4220484e-01, 2.4799535e-01],\n",
              "       ...,\n",
              "       [8.8675892e-01, 1.1296465e-01, 2.7645187e-04],\n",
              "       [9.9345642e-01, 6.5396577e-03, 3.9604547e-06],\n",
              "       [          nan,           nan,           nan]], dtype=float32)"
            ]
          },
          "metadata": {},
          "execution_count": 52
        }
      ]
    },
    {
      "cell_type": "code",
      "source": [
        "# Convert to a df\n",
        "pred_classification = pd.DataFrame(pred_classification, columns=['Distinguished', 'Proficient', 'Needs Improvement'])"
      ],
      "metadata": {
        "id": "e3ZQCoF7IcnV"
      },
      "execution_count": 54,
      "outputs": []
    },
    {
      "cell_type": "code",
      "source": [
        "# Select the column with the highest percentage\n",
        "pred_classification = pred_classification.idxmax(axis=1)"
      ],
      "metadata": {
        "id": "q0x0Ybs7QUyZ"
      },
      "execution_count": 55,
      "outputs": []
    },
    {
      "cell_type": "code",
      "source": [
        "pred_classification"
      ],
      "metadata": {
        "colab": {
          "base_uri": "https://localhost:8080/"
        },
        "id": "oDIer6XfPkBC",
        "outputId": "b82f6db9-34d0-42f6-be57-4060cdb27e15"
      },
      "execution_count": 56,
      "outputs": [
        {
          "output_type": "execute_result",
          "data": {
            "text/plain": [
              "0       Needs Improvement\n",
              "1       Needs Improvement\n",
              "2              Proficient\n",
              "3              Proficient\n",
              "4           Distinguished\n",
              "              ...        \n",
              "9887    Needs Improvement\n",
              "9888        Distinguished\n",
              "9889        Distinguished\n",
              "9890        Distinguished\n",
              "9891                  NaN\n",
              "Length: 9892, dtype: object"
            ]
          },
          "metadata": {},
          "execution_count": 56
        }
      ]
    },
    {
      "cell_type": "code",
      "source": [
        "pred_classification.shape"
      ],
      "metadata": {
        "colab": {
          "base_uri": "https://localhost:8080/"
        },
        "id": "346CVAo4dDVR",
        "outputId": "699a4f6e-950c-4155-efd4-2f8f653c2570"
      },
      "execution_count": 57,
      "outputs": [
        {
          "output_type": "execute_result",
          "data": {
            "text/plain": [
              "(9892,)"
            ]
          },
          "metadata": {},
          "execution_count": 57
        }
      ]
    },
    {
      "cell_type": "code",
      "source": [
        "predict_df.index"
      ],
      "metadata": {
        "colab": {
          "base_uri": "https://localhost:8080/"
        },
        "id": "wFFeu4DLIck-",
        "outputId": "e8aeff80-1794-4c6e-d070-38528ff1ae20"
      },
      "execution_count": 58,
      "outputs": [
        {
          "output_type": "execute_result",
          "data": {
            "text/plain": [
              "RangeIndex(start=0, stop=9892, step=1)"
            ]
          },
          "metadata": {},
          "execution_count": 58
        }
      ]
    },
    {
      "cell_type": "code",
      "source": [
        "predict_df['Predicted Classification'] = pred_classification"
      ],
      "metadata": {
        "id": "yT9h-_lrWMN8"
      },
      "execution_count": 59,
      "outputs": []
    },
    {
      "cell_type": "code",
      "source": [
        "predict_df['Predicted Classification'].value_counts(dropna=False)"
      ],
      "metadata": {
        "colab": {
          "base_uri": "https://localhost:8080/"
        },
        "id": "dsBIJyNEpXeb",
        "outputId": "51232565-af4b-45a4-9b8a-1cc6edb43c1f"
      },
      "execution_count": 60,
      "outputs": [
        {
          "output_type": "execute_result",
          "data": {
            "text/plain": [
              "Needs Improvement    3866\n",
              "Distinguished        2739\n",
              "Proficient           2032\n",
              "NaN                  1255\n",
              "Name: Predicted Classification, dtype: int64"
            ]
          },
          "metadata": {},
          "execution_count": 60
        }
      ]
    },
    {
      "cell_type": "code",
      "source": [
        "predict_df"
      ],
      "metadata": {
        "colab": {
          "base_uri": "https://localhost:8080/",
          "height": 973
        },
        "id": "XS3Z6Q2Fp0Br",
        "outputId": "39bebdc4-0e86-467c-9444-bbb99b90c2cc"
      },
      "execution_count": 61,
      "outputs": [
        {
          "output_type": "execute_result",
          "data": {
            "text/plain": [
              "      End Year  District Code         District  School Code  \\\n",
              "0         2012              1     Adair County         1010   \n",
              "1         2013              1     Adair County         1010   \n",
              "2         2014              1     Adair County         1010   \n",
              "3         2015              1     Adair County         1010   \n",
              "4         2016              1     Adair County         1010   \n",
              "...        ...            ...              ...          ...   \n",
              "9887      2016            601  Woodford County       601120   \n",
              "9888      2017            601  Woodford County       601120   \n",
              "9889      2018            601  Woodford County       601120   \n",
              "9890      2019            601  Woodford County       601120   \n",
              "9891      2022            601  Woodford County       601120   \n",
              "\n",
              "                           School  Proficiency Rate     KY Rank/Rating  \\\n",
              "0        Adair County High School                55                 57   \n",
              "1        Adair County High School                54                 48   \n",
              "2        Adair County High School                69                 65   \n",
              "3        Adair County High School                71                 73   \n",
              "4        Adair County High School                72         Proficient   \n",
              "...                           ...               ...                ...   \n",
              "9887  Northside Elementary School                60  Needs Improvement   \n",
              "9888  Northside Elementary School                75                NaN   \n",
              "9889  Northside Elementary School                73                NaN   \n",
              "9890  Northside Elementary School                76      Distinguished   \n",
              "9891  Northside Elementary School                68         Proficient   \n",
              "\n",
              "         Classification  Reported Spending per student  \\\n",
              "0     Needs Improvement                       6,460.00   \n",
              "1     Needs Improvement                       6,380.00   \n",
              "2     Needs Improvement                       6,970.00   \n",
              "3            Proficient                       9,490.00   \n",
              "4                   NaN                      10,270.00   \n",
              "...                 ...                            ...   \n",
              "9887                NaN                      12,050.00   \n",
              "9888                NaN                       9,940.00   \n",
              "9889                NaN                      13,640.00   \n",
              "9890                NaN                      11,860.00   \n",
              "9891                NaN                            NaN   \n",
              "\n",
              "      Money Difference per school  Money Difference per student  \\\n",
              "0                      -36,400.00                        -50.00   \n",
              "1                      -37,000.00                        -50.00   \n",
              "2                      -13,100.00                        -20.00   \n",
              "3                      -42,100.00                        -60.00   \n",
              "4                      -19,200.00                        -20.00   \n",
              "...                           ...                           ...   \n",
              "9887                    34,000.00                        110.00   \n",
              "9888                    17,400.00                         50.00   \n",
              "9889                    51,800.00                        150.00   \n",
              "9890                    48,400.00                        140.00   \n",
              "9891                          NaN                           NaN   \n",
              "\n",
              "      Estimated Spending per student Predicted Classification  \n",
              "0                           6,405.00        Needs Improvement  \n",
              "1                           6,328.00        Needs Improvement  \n",
              "2                           6,952.00               Proficient  \n",
              "3                           9,431.00               Proficient  \n",
              "4                          10,245.00            Distinguished  \n",
              "...                              ...                      ...  \n",
              "9887                       12,153.00        Needs Improvement  \n",
              "9888                        9,993.00            Distinguished  \n",
              "9889                       13,791.00            Distinguished  \n",
              "9890                       12,007.00            Distinguished  \n",
              "9891                             NaN                      NaN  \n",
              "\n",
              "[9892 rows x 13 columns]"
            ],
            "text/html": [
              "\n",
              "  <div id=\"df-10e2caf9-8f03-44bd-988f-08352be1bbed\">\n",
              "    <div class=\"colab-df-container\">\n",
              "      <div>\n",
              "<style scoped>\n",
              "    .dataframe tbody tr th:only-of-type {\n",
              "        vertical-align: middle;\n",
              "    }\n",
              "\n",
              "    .dataframe tbody tr th {\n",
              "        vertical-align: top;\n",
              "    }\n",
              "\n",
              "    .dataframe thead th {\n",
              "        text-align: right;\n",
              "    }\n",
              "</style>\n",
              "<table border=\"1\" class=\"dataframe\">\n",
              "  <thead>\n",
              "    <tr style=\"text-align: right;\">\n",
              "      <th></th>\n",
              "      <th>End Year</th>\n",
              "      <th>District Code</th>\n",
              "      <th>District</th>\n",
              "      <th>School Code</th>\n",
              "      <th>School</th>\n",
              "      <th>Proficiency Rate</th>\n",
              "      <th>KY Rank/Rating</th>\n",
              "      <th>Classification</th>\n",
              "      <th>Reported Spending per student</th>\n",
              "      <th>Money Difference per school</th>\n",
              "      <th>Money Difference per student</th>\n",
              "      <th>Estimated Spending per student</th>\n",
              "      <th>Predicted Classification</th>\n",
              "    </tr>\n",
              "  </thead>\n",
              "  <tbody>\n",
              "    <tr>\n",
              "      <th>0</th>\n",
              "      <td>2012</td>\n",
              "      <td>1</td>\n",
              "      <td>Adair County</td>\n",
              "      <td>1010</td>\n",
              "      <td>Adair County High School</td>\n",
              "      <td>55</td>\n",
              "      <td>57</td>\n",
              "      <td>Needs Improvement</td>\n",
              "      <td>6,460.00</td>\n",
              "      <td>-36,400.00</td>\n",
              "      <td>-50.00</td>\n",
              "      <td>6,405.00</td>\n",
              "      <td>Needs Improvement</td>\n",
              "    </tr>\n",
              "    <tr>\n",
              "      <th>1</th>\n",
              "      <td>2013</td>\n",
              "      <td>1</td>\n",
              "      <td>Adair County</td>\n",
              "      <td>1010</td>\n",
              "      <td>Adair County High School</td>\n",
              "      <td>54</td>\n",
              "      <td>48</td>\n",
              "      <td>Needs Improvement</td>\n",
              "      <td>6,380.00</td>\n",
              "      <td>-37,000.00</td>\n",
              "      <td>-50.00</td>\n",
              "      <td>6,328.00</td>\n",
              "      <td>Needs Improvement</td>\n",
              "    </tr>\n",
              "    <tr>\n",
              "      <th>2</th>\n",
              "      <td>2014</td>\n",
              "      <td>1</td>\n",
              "      <td>Adair County</td>\n",
              "      <td>1010</td>\n",
              "      <td>Adair County High School</td>\n",
              "      <td>69</td>\n",
              "      <td>65</td>\n",
              "      <td>Needs Improvement</td>\n",
              "      <td>6,970.00</td>\n",
              "      <td>-13,100.00</td>\n",
              "      <td>-20.00</td>\n",
              "      <td>6,952.00</td>\n",
              "      <td>Proficient</td>\n",
              "    </tr>\n",
              "    <tr>\n",
              "      <th>3</th>\n",
              "      <td>2015</td>\n",
              "      <td>1</td>\n",
              "      <td>Adair County</td>\n",
              "      <td>1010</td>\n",
              "      <td>Adair County High School</td>\n",
              "      <td>71</td>\n",
              "      <td>73</td>\n",
              "      <td>Proficient</td>\n",
              "      <td>9,490.00</td>\n",
              "      <td>-42,100.00</td>\n",
              "      <td>-60.00</td>\n",
              "      <td>9,431.00</td>\n",
              "      <td>Proficient</td>\n",
              "    </tr>\n",
              "    <tr>\n",
              "      <th>4</th>\n",
              "      <td>2016</td>\n",
              "      <td>1</td>\n",
              "      <td>Adair County</td>\n",
              "      <td>1010</td>\n",
              "      <td>Adair County High School</td>\n",
              "      <td>72</td>\n",
              "      <td>Proficient</td>\n",
              "      <td>NaN</td>\n",
              "      <td>10,270.00</td>\n",
              "      <td>-19,200.00</td>\n",
              "      <td>-20.00</td>\n",
              "      <td>10,245.00</td>\n",
              "      <td>Distinguished</td>\n",
              "    </tr>\n",
              "    <tr>\n",
              "      <th>...</th>\n",
              "      <td>...</td>\n",
              "      <td>...</td>\n",
              "      <td>...</td>\n",
              "      <td>...</td>\n",
              "      <td>...</td>\n",
              "      <td>...</td>\n",
              "      <td>...</td>\n",
              "      <td>...</td>\n",
              "      <td>...</td>\n",
              "      <td>...</td>\n",
              "      <td>...</td>\n",
              "      <td>...</td>\n",
              "      <td>...</td>\n",
              "    </tr>\n",
              "    <tr>\n",
              "      <th>9887</th>\n",
              "      <td>2016</td>\n",
              "      <td>601</td>\n",
              "      <td>Woodford County</td>\n",
              "      <td>601120</td>\n",
              "      <td>Northside Elementary School</td>\n",
              "      <td>60</td>\n",
              "      <td>Needs Improvement</td>\n",
              "      <td>NaN</td>\n",
              "      <td>12,050.00</td>\n",
              "      <td>34,000.00</td>\n",
              "      <td>110.00</td>\n",
              "      <td>12,153.00</td>\n",
              "      <td>Needs Improvement</td>\n",
              "    </tr>\n",
              "    <tr>\n",
              "      <th>9888</th>\n",
              "      <td>2017</td>\n",
              "      <td>601</td>\n",
              "      <td>Woodford County</td>\n",
              "      <td>601120</td>\n",
              "      <td>Northside Elementary School</td>\n",
              "      <td>75</td>\n",
              "      <td>NaN</td>\n",
              "      <td>NaN</td>\n",
              "      <td>9,940.00</td>\n",
              "      <td>17,400.00</td>\n",
              "      <td>50.00</td>\n",
              "      <td>9,993.00</td>\n",
              "      <td>Distinguished</td>\n",
              "    </tr>\n",
              "    <tr>\n",
              "      <th>9889</th>\n",
              "      <td>2018</td>\n",
              "      <td>601</td>\n",
              "      <td>Woodford County</td>\n",
              "      <td>601120</td>\n",
              "      <td>Northside Elementary School</td>\n",
              "      <td>73</td>\n",
              "      <td>NaN</td>\n",
              "      <td>NaN</td>\n",
              "      <td>13,640.00</td>\n",
              "      <td>51,800.00</td>\n",
              "      <td>150.00</td>\n",
              "      <td>13,791.00</td>\n",
              "      <td>Distinguished</td>\n",
              "    </tr>\n",
              "    <tr>\n",
              "      <th>9890</th>\n",
              "      <td>2019</td>\n",
              "      <td>601</td>\n",
              "      <td>Woodford County</td>\n",
              "      <td>601120</td>\n",
              "      <td>Northside Elementary School</td>\n",
              "      <td>76</td>\n",
              "      <td>Distinguished</td>\n",
              "      <td>NaN</td>\n",
              "      <td>11,860.00</td>\n",
              "      <td>48,400.00</td>\n",
              "      <td>140.00</td>\n",
              "      <td>12,007.00</td>\n",
              "      <td>Distinguished</td>\n",
              "    </tr>\n",
              "    <tr>\n",
              "      <th>9891</th>\n",
              "      <td>2022</td>\n",
              "      <td>601</td>\n",
              "      <td>Woodford County</td>\n",
              "      <td>601120</td>\n",
              "      <td>Northside Elementary School</td>\n",
              "      <td>68</td>\n",
              "      <td>Proficient</td>\n",
              "      <td>NaN</td>\n",
              "      <td>NaN</td>\n",
              "      <td>NaN</td>\n",
              "      <td>NaN</td>\n",
              "      <td>NaN</td>\n",
              "      <td>NaN</td>\n",
              "    </tr>\n",
              "  </tbody>\n",
              "</table>\n",
              "<p>9892 rows × 13 columns</p>\n",
              "</div>\n",
              "      <button class=\"colab-df-convert\" onclick=\"convertToInteractive('df-10e2caf9-8f03-44bd-988f-08352be1bbed')\"\n",
              "              title=\"Convert this dataframe to an interactive table.\"\n",
              "              style=\"display:none;\">\n",
              "        \n",
              "  <svg xmlns=\"http://www.w3.org/2000/svg\" height=\"24px\"viewBox=\"0 0 24 24\"\n",
              "       width=\"24px\">\n",
              "    <path d=\"M0 0h24v24H0V0z\" fill=\"none\"/>\n",
              "    <path d=\"M18.56 5.44l.94 2.06.94-2.06 2.06-.94-2.06-.94-.94-2.06-.94 2.06-2.06.94zm-11 1L8.5 8.5l.94-2.06 2.06-.94-2.06-.94L8.5 2.5l-.94 2.06-2.06.94zm10 10l.94 2.06.94-2.06 2.06-.94-2.06-.94-.94-2.06-.94 2.06-2.06.94z\"/><path d=\"M17.41 7.96l-1.37-1.37c-.4-.4-.92-.59-1.43-.59-.52 0-1.04.2-1.43.59L10.3 9.45l-7.72 7.72c-.78.78-.78 2.05 0 2.83L4 21.41c.39.39.9.59 1.41.59.51 0 1.02-.2 1.41-.59l7.78-7.78 2.81-2.81c.8-.78.8-2.07 0-2.86zM5.41 20L4 18.59l7.72-7.72 1.47 1.35L5.41 20z\"/>\n",
              "  </svg>\n",
              "      </button>\n",
              "      \n",
              "  <style>\n",
              "    .colab-df-container {\n",
              "      display:flex;\n",
              "      flex-wrap:wrap;\n",
              "      gap: 12px;\n",
              "    }\n",
              "\n",
              "    .colab-df-convert {\n",
              "      background-color: #E8F0FE;\n",
              "      border: none;\n",
              "      border-radius: 50%;\n",
              "      cursor: pointer;\n",
              "      display: none;\n",
              "      fill: #1967D2;\n",
              "      height: 32px;\n",
              "      padding: 0 0 0 0;\n",
              "      width: 32px;\n",
              "    }\n",
              "\n",
              "    .colab-df-convert:hover {\n",
              "      background-color: #E2EBFA;\n",
              "      box-shadow: 0px 1px 2px rgba(60, 64, 67, 0.3), 0px 1px 3px 1px rgba(60, 64, 67, 0.15);\n",
              "      fill: #174EA6;\n",
              "    }\n",
              "\n",
              "    [theme=dark] .colab-df-convert {\n",
              "      background-color: #3B4455;\n",
              "      fill: #D2E3FC;\n",
              "    }\n",
              "\n",
              "    [theme=dark] .colab-df-convert:hover {\n",
              "      background-color: #434B5C;\n",
              "      box-shadow: 0px 1px 3px 1px rgba(0, 0, 0, 0.15);\n",
              "      filter: drop-shadow(0px 1px 2px rgba(0, 0, 0, 0.3));\n",
              "      fill: #FFFFFF;\n",
              "    }\n",
              "  </style>\n",
              "\n",
              "      <script>\n",
              "        const buttonEl =\n",
              "          document.querySelector('#df-10e2caf9-8f03-44bd-988f-08352be1bbed button.colab-df-convert');\n",
              "        buttonEl.style.display =\n",
              "          google.colab.kernel.accessAllowed ? 'block' : 'none';\n",
              "\n",
              "        async function convertToInteractive(key) {\n",
              "          const element = document.querySelector('#df-10e2caf9-8f03-44bd-988f-08352be1bbed');\n",
              "          const dataTable =\n",
              "            await google.colab.kernel.invokeFunction('convertToInteractive',\n",
              "                                                     [key], {});\n",
              "          if (!dataTable) return;\n",
              "\n",
              "          const docLinkHtml = 'Like what you see? Visit the ' +\n",
              "            '<a target=\"_blank\" href=https://colab.research.google.com/notebooks/data_table.ipynb>data table notebook</a>'\n",
              "            + ' to learn more about interactive tables.';\n",
              "          element.innerHTML = '';\n",
              "          dataTable['output_type'] = 'display_data';\n",
              "          await google.colab.output.renderOutput(dataTable, element);\n",
              "          const docLink = document.createElement('div');\n",
              "          docLink.innerHTML = docLinkHtml;\n",
              "          element.appendChild(docLink);\n",
              "        }\n",
              "      </script>\n",
              "    </div>\n",
              "  </div>\n",
              "  "
            ]
          },
          "metadata": {},
          "execution_count": 61
        }
      ]
    },
    {
      "cell_type": "code",
      "source": [
        "predict_df['Classification'].fillna(predict_df['Predicted Classification'], inplace = True)"
      ],
      "metadata": {
        "id": "h1tbSSBtahJA"
      },
      "execution_count": 62,
      "outputs": []
    },
    {
      "cell_type": "code",
      "source": [
        "predict_df.drop(['KY Rank/Rating', 'Predicted Classification'], axis=1, inplace=True)"
      ],
      "metadata": {
        "id": "Gu3FpG6peJE6"
      },
      "execution_count": 63,
      "outputs": []
    },
    {
      "cell_type": "code",
      "source": [
        "predict_df['Classification'].value_counts()"
      ],
      "metadata": {
        "colab": {
          "base_uri": "https://localhost:8080/"
        },
        "id": "BhHG-rD3ed8L",
        "outputId": "46feb91b-b163-40c4-b508-3798b78adbdc"
      },
      "execution_count": 64,
      "outputs": [
        {
          "output_type": "execute_result",
          "data": {
            "text/plain": [
              "Needs Improvement    4050\n",
              "Distinguished        2753\n",
              "Proficient           1945\n",
              "Name: Classification, dtype: int64"
            ]
          },
          "metadata": {},
          "execution_count": 64
        }
      ]
    },
    {
      "cell_type": "code",
      "source": [
        "predict_df.corr()['Proficiency Rate'].sort_values()"
      ],
      "metadata": {
        "colab": {
          "base_uri": "https://localhost:8080/"
        },
        "id": "zSahtkRIq_MZ",
        "outputId": "61d01148-0437-43a9-d390-e2c65e7677a8"
      },
      "execution_count": 65,
      "outputs": [
        {
          "output_type": "execute_result",
          "data": {
            "text/plain": [
              "Reported Spending per student    -0.02\n",
              "Estimated Spending per student   -0.01\n",
              "School Code                       0.01\n",
              "District Code                     0.01\n",
              "End Year                          0.04\n",
              "Money Difference per student      0.25\n",
              "Money Difference per school       0.28\n",
              "Proficiency Rate                  1.00\n",
              "Name: Proficiency Rate, dtype: float64"
            ]
          },
          "metadata": {},
          "execution_count": 65
        }
      ]
    },
    {
      "cell_type": "code",
      "source": [
        "predict_df['Classification'].value_counts()"
      ],
      "metadata": {
        "colab": {
          "base_uri": "https://localhost:8080/"
        },
        "id": "bIq-Y0DgQU_H",
        "outputId": "d4ca58e1-7c6b-4d88-fe45-0351f01ca40a"
      },
      "execution_count": 66,
      "outputs": [
        {
          "output_type": "execute_result",
          "data": {
            "text/plain": [
              "Needs Improvement    4050\n",
              "Distinguished        2753\n",
              "Proficient           1945\n",
              "Name: Classification, dtype: int64"
            ]
          },
          "metadata": {},
          "execution_count": 66
        }
      ]
    },
    {
      "cell_type": "code",
      "source": [
        "predict_df[predict_df['School'] == 'Knight Middle']"
      ],
      "metadata": {
        "id": "Hjw8et2XnnUb",
        "outputId": "5e298f86-b8fe-408c-bce1-fe379d08752d",
        "colab": {
          "base_uri": "https://localhost:8080/",
          "height": 584
        }
      },
      "execution_count": 67,
      "outputs": [
        {
          "output_type": "execute_result",
          "data": {
            "text/plain": [
              "      End Year  District Code          District  School Code         School  \\\n",
              "5219      2012            275  Jefferson County       275163  Knight Middle   \n",
              "5220      2013            275  Jefferson County       275163  Knight Middle   \n",
              "5221      2014            275  Jefferson County       275163  Knight Middle   \n",
              "5222      2015            275  Jefferson County       275163  Knight Middle   \n",
              "5223      2016            275  Jefferson County       275163  Knight Middle   \n",
              "5224      2017            275  Jefferson County       275163  Knight Middle   \n",
              "5225      2018            275  Jefferson County       275163  Knight Middle   \n",
              "5226      2019            275  Jefferson County       275163  Knight Middle   \n",
              "5227      2022            275  Jefferson County       275163  Knight Middle   \n",
              "\n",
              "      Proficiency Rate     Classification  Reported Spending per student  \\\n",
              "5219                36  Needs Improvement                      10,120.00   \n",
              "5220                34  Needs Improvement                      11,300.00   \n",
              "5221                45  Needs Improvement                      11,850.00   \n",
              "5222                52  Needs Improvement                      10,350.00   \n",
              "5223                53  Needs Improvement                      13,990.00   \n",
              "5224                48  Needs Improvement                      14,970.00   \n",
              "5225                44  Needs Improvement                      16,380.00   \n",
              "5226                48  Needs Improvement                      16,640.00   \n",
              "5227                34                NaN                            NaN   \n",
              "\n",
              "      Money Difference per school  Money Difference per student  \\\n",
              "5219                  -298,300.00                       -690.00   \n",
              "5220                  -274,800.00                       -620.00   \n",
              "5221                  -229,900.00                       -560.00   \n",
              "5222                  -268,100.00                       -640.00   \n",
              "5223                  -246,800.00                       -590.00   \n",
              "5224                  -273,400.00                       -680.00   \n",
              "5225                  -226,500.00                       -520.00   \n",
              "5226                  -304,300.00                       -690.00   \n",
              "5227                          NaN                           NaN   \n",
              "\n",
              "      Estimated Spending per student  \n",
              "5219                        9,427.00  \n",
              "5220                       10,677.00  \n",
              "5221                       11,289.00  \n",
              "5222                        9,710.00  \n",
              "5223                       13,404.00  \n",
              "5224                       14,296.00  \n",
              "5225                       15,858.00  \n",
              "5226                       15,952.00  \n",
              "5227                             NaN  "
            ],
            "text/html": [
              "\n",
              "  <div id=\"df-04a9850b-46d0-4756-b44b-4710f1d7c36c\">\n",
              "    <div class=\"colab-df-container\">\n",
              "      <div>\n",
              "<style scoped>\n",
              "    .dataframe tbody tr th:only-of-type {\n",
              "        vertical-align: middle;\n",
              "    }\n",
              "\n",
              "    .dataframe tbody tr th {\n",
              "        vertical-align: top;\n",
              "    }\n",
              "\n",
              "    .dataframe thead th {\n",
              "        text-align: right;\n",
              "    }\n",
              "</style>\n",
              "<table border=\"1\" class=\"dataframe\">\n",
              "  <thead>\n",
              "    <tr style=\"text-align: right;\">\n",
              "      <th></th>\n",
              "      <th>End Year</th>\n",
              "      <th>District Code</th>\n",
              "      <th>District</th>\n",
              "      <th>School Code</th>\n",
              "      <th>School</th>\n",
              "      <th>Proficiency Rate</th>\n",
              "      <th>Classification</th>\n",
              "      <th>Reported Spending per student</th>\n",
              "      <th>Money Difference per school</th>\n",
              "      <th>Money Difference per student</th>\n",
              "      <th>Estimated Spending per student</th>\n",
              "    </tr>\n",
              "  </thead>\n",
              "  <tbody>\n",
              "    <tr>\n",
              "      <th>5219</th>\n",
              "      <td>2012</td>\n",
              "      <td>275</td>\n",
              "      <td>Jefferson County</td>\n",
              "      <td>275163</td>\n",
              "      <td>Knight Middle</td>\n",
              "      <td>36</td>\n",
              "      <td>Needs Improvement</td>\n",
              "      <td>10,120.00</td>\n",
              "      <td>-298,300.00</td>\n",
              "      <td>-690.00</td>\n",
              "      <td>9,427.00</td>\n",
              "    </tr>\n",
              "    <tr>\n",
              "      <th>5220</th>\n",
              "      <td>2013</td>\n",
              "      <td>275</td>\n",
              "      <td>Jefferson County</td>\n",
              "      <td>275163</td>\n",
              "      <td>Knight Middle</td>\n",
              "      <td>34</td>\n",
              "      <td>Needs Improvement</td>\n",
              "      <td>11,300.00</td>\n",
              "      <td>-274,800.00</td>\n",
              "      <td>-620.00</td>\n",
              "      <td>10,677.00</td>\n",
              "    </tr>\n",
              "    <tr>\n",
              "      <th>5221</th>\n",
              "      <td>2014</td>\n",
              "      <td>275</td>\n",
              "      <td>Jefferson County</td>\n",
              "      <td>275163</td>\n",
              "      <td>Knight Middle</td>\n",
              "      <td>45</td>\n",
              "      <td>Needs Improvement</td>\n",
              "      <td>11,850.00</td>\n",
              "      <td>-229,900.00</td>\n",
              "      <td>-560.00</td>\n",
              "      <td>11,289.00</td>\n",
              "    </tr>\n",
              "    <tr>\n",
              "      <th>5222</th>\n",
              "      <td>2015</td>\n",
              "      <td>275</td>\n",
              "      <td>Jefferson County</td>\n",
              "      <td>275163</td>\n",
              "      <td>Knight Middle</td>\n",
              "      <td>52</td>\n",
              "      <td>Needs Improvement</td>\n",
              "      <td>10,350.00</td>\n",
              "      <td>-268,100.00</td>\n",
              "      <td>-640.00</td>\n",
              "      <td>9,710.00</td>\n",
              "    </tr>\n",
              "    <tr>\n",
              "      <th>5223</th>\n",
              "      <td>2016</td>\n",
              "      <td>275</td>\n",
              "      <td>Jefferson County</td>\n",
              "      <td>275163</td>\n",
              "      <td>Knight Middle</td>\n",
              "      <td>53</td>\n",
              "      <td>Needs Improvement</td>\n",
              "      <td>13,990.00</td>\n",
              "      <td>-246,800.00</td>\n",
              "      <td>-590.00</td>\n",
              "      <td>13,404.00</td>\n",
              "    </tr>\n",
              "    <tr>\n",
              "      <th>5224</th>\n",
              "      <td>2017</td>\n",
              "      <td>275</td>\n",
              "      <td>Jefferson County</td>\n",
              "      <td>275163</td>\n",
              "      <td>Knight Middle</td>\n",
              "      <td>48</td>\n",
              "      <td>Needs Improvement</td>\n",
              "      <td>14,970.00</td>\n",
              "      <td>-273,400.00</td>\n",
              "      <td>-680.00</td>\n",
              "      <td>14,296.00</td>\n",
              "    </tr>\n",
              "    <tr>\n",
              "      <th>5225</th>\n",
              "      <td>2018</td>\n",
              "      <td>275</td>\n",
              "      <td>Jefferson County</td>\n",
              "      <td>275163</td>\n",
              "      <td>Knight Middle</td>\n",
              "      <td>44</td>\n",
              "      <td>Needs Improvement</td>\n",
              "      <td>16,380.00</td>\n",
              "      <td>-226,500.00</td>\n",
              "      <td>-520.00</td>\n",
              "      <td>15,858.00</td>\n",
              "    </tr>\n",
              "    <tr>\n",
              "      <th>5226</th>\n",
              "      <td>2019</td>\n",
              "      <td>275</td>\n",
              "      <td>Jefferson County</td>\n",
              "      <td>275163</td>\n",
              "      <td>Knight Middle</td>\n",
              "      <td>48</td>\n",
              "      <td>Needs Improvement</td>\n",
              "      <td>16,640.00</td>\n",
              "      <td>-304,300.00</td>\n",
              "      <td>-690.00</td>\n",
              "      <td>15,952.00</td>\n",
              "    </tr>\n",
              "    <tr>\n",
              "      <th>5227</th>\n",
              "      <td>2022</td>\n",
              "      <td>275</td>\n",
              "      <td>Jefferson County</td>\n",
              "      <td>275163</td>\n",
              "      <td>Knight Middle</td>\n",
              "      <td>34</td>\n",
              "      <td>NaN</td>\n",
              "      <td>NaN</td>\n",
              "      <td>NaN</td>\n",
              "      <td>NaN</td>\n",
              "      <td>NaN</td>\n",
              "    </tr>\n",
              "  </tbody>\n",
              "</table>\n",
              "</div>\n",
              "      <button class=\"colab-df-convert\" onclick=\"convertToInteractive('df-04a9850b-46d0-4756-b44b-4710f1d7c36c')\"\n",
              "              title=\"Convert this dataframe to an interactive table.\"\n",
              "              style=\"display:none;\">\n",
              "        \n",
              "  <svg xmlns=\"http://www.w3.org/2000/svg\" height=\"24px\"viewBox=\"0 0 24 24\"\n",
              "       width=\"24px\">\n",
              "    <path d=\"M0 0h24v24H0V0z\" fill=\"none\"/>\n",
              "    <path d=\"M18.56 5.44l.94 2.06.94-2.06 2.06-.94-2.06-.94-.94-2.06-.94 2.06-2.06.94zm-11 1L8.5 8.5l.94-2.06 2.06-.94-2.06-.94L8.5 2.5l-.94 2.06-2.06.94zm10 10l.94 2.06.94-2.06 2.06-.94-2.06-.94-.94-2.06-.94 2.06-2.06.94z\"/><path d=\"M17.41 7.96l-1.37-1.37c-.4-.4-.92-.59-1.43-.59-.52 0-1.04.2-1.43.59L10.3 9.45l-7.72 7.72c-.78.78-.78 2.05 0 2.83L4 21.41c.39.39.9.59 1.41.59.51 0 1.02-.2 1.41-.59l7.78-7.78 2.81-2.81c.8-.78.8-2.07 0-2.86zM5.41 20L4 18.59l7.72-7.72 1.47 1.35L5.41 20z\"/>\n",
              "  </svg>\n",
              "      </button>\n",
              "      \n",
              "  <style>\n",
              "    .colab-df-container {\n",
              "      display:flex;\n",
              "      flex-wrap:wrap;\n",
              "      gap: 12px;\n",
              "    }\n",
              "\n",
              "    .colab-df-convert {\n",
              "      background-color: #E8F0FE;\n",
              "      border: none;\n",
              "      border-radius: 50%;\n",
              "      cursor: pointer;\n",
              "      display: none;\n",
              "      fill: #1967D2;\n",
              "      height: 32px;\n",
              "      padding: 0 0 0 0;\n",
              "      width: 32px;\n",
              "    }\n",
              "\n",
              "    .colab-df-convert:hover {\n",
              "      background-color: #E2EBFA;\n",
              "      box-shadow: 0px 1px 2px rgba(60, 64, 67, 0.3), 0px 1px 3px 1px rgba(60, 64, 67, 0.15);\n",
              "      fill: #174EA6;\n",
              "    }\n",
              "\n",
              "    [theme=dark] .colab-df-convert {\n",
              "      background-color: #3B4455;\n",
              "      fill: #D2E3FC;\n",
              "    }\n",
              "\n",
              "    [theme=dark] .colab-df-convert:hover {\n",
              "      background-color: #434B5C;\n",
              "      box-shadow: 0px 1px 3px 1px rgba(0, 0, 0, 0.15);\n",
              "      filter: drop-shadow(0px 1px 2px rgba(0, 0, 0, 0.3));\n",
              "      fill: #FFFFFF;\n",
              "    }\n",
              "  </style>\n",
              "\n",
              "      <script>\n",
              "        const buttonEl =\n",
              "          document.querySelector('#df-04a9850b-46d0-4756-b44b-4710f1d7c36c button.colab-df-convert');\n",
              "        buttonEl.style.display =\n",
              "          google.colab.kernel.accessAllowed ? 'block' : 'none';\n",
              "\n",
              "        async function convertToInteractive(key) {\n",
              "          const element = document.querySelector('#df-04a9850b-46d0-4756-b44b-4710f1d7c36c');\n",
              "          const dataTable =\n",
              "            await google.colab.kernel.invokeFunction('convertToInteractive',\n",
              "                                                     [key], {});\n",
              "          if (!dataTable) return;\n",
              "\n",
              "          const docLinkHtml = 'Like what you see? Visit the ' +\n",
              "            '<a target=\"_blank\" href=https://colab.research.google.com/notebooks/data_table.ipynb>data table notebook</a>'\n",
              "            + ' to learn more about interactive tables.';\n",
              "          element.innerHTML = '';\n",
              "          dataTable['output_type'] = 'display_data';\n",
              "          await google.colab.output.renderOutput(dataTable, element);\n",
              "          const docLink = document.createElement('div');\n",
              "          docLink.innerHTML = docLinkHtml;\n",
              "          element.appendChild(docLink);\n",
              "        }\n",
              "      </script>\n",
              "    </div>\n",
              "  </div>\n",
              "  "
            ]
          },
          "metadata": {},
          "execution_count": 67
        }
      ]
    },
    {
      "cell_type": "code",
      "source": [
        "predict_df"
      ],
      "metadata": {
        "id": "b0UZNpBeQVBu",
        "colab": {
          "base_uri": "https://localhost:8080/",
          "height": 953
        },
        "outputId": "de006c64-3e6e-40dc-ddb4-d273ff56f816"
      },
      "execution_count": 68,
      "outputs": [
        {
          "output_type": "execute_result",
          "data": {
            "text/plain": [
              "      End Year  District Code         District  School Code  \\\n",
              "0         2012              1     Adair County         1010   \n",
              "1         2013              1     Adair County         1010   \n",
              "2         2014              1     Adair County         1010   \n",
              "3         2015              1     Adair County         1010   \n",
              "4         2016              1     Adair County         1010   \n",
              "...        ...            ...              ...          ...   \n",
              "9887      2016            601  Woodford County       601120   \n",
              "9888      2017            601  Woodford County       601120   \n",
              "9889      2018            601  Woodford County       601120   \n",
              "9890      2019            601  Woodford County       601120   \n",
              "9891      2022            601  Woodford County       601120   \n",
              "\n",
              "                           School  Proficiency Rate     Classification  \\\n",
              "0        Adair County High School                55  Needs Improvement   \n",
              "1        Adair County High School                54  Needs Improvement   \n",
              "2        Adair County High School                69  Needs Improvement   \n",
              "3        Adair County High School                71         Proficient   \n",
              "4        Adair County High School                72      Distinguished   \n",
              "...                           ...               ...                ...   \n",
              "9887  Northside Elementary School                60  Needs Improvement   \n",
              "9888  Northside Elementary School                75      Distinguished   \n",
              "9889  Northside Elementary School                73      Distinguished   \n",
              "9890  Northside Elementary School                76      Distinguished   \n",
              "9891  Northside Elementary School                68                NaN   \n",
              "\n",
              "      Reported Spending per student  Money Difference per school  \\\n",
              "0                          6,460.00                   -36,400.00   \n",
              "1                          6,380.00                   -37,000.00   \n",
              "2                          6,970.00                   -13,100.00   \n",
              "3                          9,490.00                   -42,100.00   \n",
              "4                         10,270.00                   -19,200.00   \n",
              "...                             ...                          ...   \n",
              "9887                      12,050.00                    34,000.00   \n",
              "9888                       9,940.00                    17,400.00   \n",
              "9889                      13,640.00                    51,800.00   \n",
              "9890                      11,860.00                    48,400.00   \n",
              "9891                            NaN                          NaN   \n",
              "\n",
              "      Money Difference per student  Estimated Spending per student  \n",
              "0                           -50.00                        6,405.00  \n",
              "1                           -50.00                        6,328.00  \n",
              "2                           -20.00                        6,952.00  \n",
              "3                           -60.00                        9,431.00  \n",
              "4                           -20.00                       10,245.00  \n",
              "...                            ...                             ...  \n",
              "9887                        110.00                       12,153.00  \n",
              "9888                         50.00                        9,993.00  \n",
              "9889                        150.00                       13,791.00  \n",
              "9890                        140.00                       12,007.00  \n",
              "9891                           NaN                             NaN  \n",
              "\n",
              "[9892 rows x 11 columns]"
            ],
            "text/html": [
              "\n",
              "  <div id=\"df-6d9f2114-a982-4e2d-b5b0-aee87068dfe5\">\n",
              "    <div class=\"colab-df-container\">\n",
              "      <div>\n",
              "<style scoped>\n",
              "    .dataframe tbody tr th:only-of-type {\n",
              "        vertical-align: middle;\n",
              "    }\n",
              "\n",
              "    .dataframe tbody tr th {\n",
              "        vertical-align: top;\n",
              "    }\n",
              "\n",
              "    .dataframe thead th {\n",
              "        text-align: right;\n",
              "    }\n",
              "</style>\n",
              "<table border=\"1\" class=\"dataframe\">\n",
              "  <thead>\n",
              "    <tr style=\"text-align: right;\">\n",
              "      <th></th>\n",
              "      <th>End Year</th>\n",
              "      <th>District Code</th>\n",
              "      <th>District</th>\n",
              "      <th>School Code</th>\n",
              "      <th>School</th>\n",
              "      <th>Proficiency Rate</th>\n",
              "      <th>Classification</th>\n",
              "      <th>Reported Spending per student</th>\n",
              "      <th>Money Difference per school</th>\n",
              "      <th>Money Difference per student</th>\n",
              "      <th>Estimated Spending per student</th>\n",
              "    </tr>\n",
              "  </thead>\n",
              "  <tbody>\n",
              "    <tr>\n",
              "      <th>0</th>\n",
              "      <td>2012</td>\n",
              "      <td>1</td>\n",
              "      <td>Adair County</td>\n",
              "      <td>1010</td>\n",
              "      <td>Adair County High School</td>\n",
              "      <td>55</td>\n",
              "      <td>Needs Improvement</td>\n",
              "      <td>6,460.00</td>\n",
              "      <td>-36,400.00</td>\n",
              "      <td>-50.00</td>\n",
              "      <td>6,405.00</td>\n",
              "    </tr>\n",
              "    <tr>\n",
              "      <th>1</th>\n",
              "      <td>2013</td>\n",
              "      <td>1</td>\n",
              "      <td>Adair County</td>\n",
              "      <td>1010</td>\n",
              "      <td>Adair County High School</td>\n",
              "      <td>54</td>\n",
              "      <td>Needs Improvement</td>\n",
              "      <td>6,380.00</td>\n",
              "      <td>-37,000.00</td>\n",
              "      <td>-50.00</td>\n",
              "      <td>6,328.00</td>\n",
              "    </tr>\n",
              "    <tr>\n",
              "      <th>2</th>\n",
              "      <td>2014</td>\n",
              "      <td>1</td>\n",
              "      <td>Adair County</td>\n",
              "      <td>1010</td>\n",
              "      <td>Adair County High School</td>\n",
              "      <td>69</td>\n",
              "      <td>Needs Improvement</td>\n",
              "      <td>6,970.00</td>\n",
              "      <td>-13,100.00</td>\n",
              "      <td>-20.00</td>\n",
              "      <td>6,952.00</td>\n",
              "    </tr>\n",
              "    <tr>\n",
              "      <th>3</th>\n",
              "      <td>2015</td>\n",
              "      <td>1</td>\n",
              "      <td>Adair County</td>\n",
              "      <td>1010</td>\n",
              "      <td>Adair County High School</td>\n",
              "      <td>71</td>\n",
              "      <td>Proficient</td>\n",
              "      <td>9,490.00</td>\n",
              "      <td>-42,100.00</td>\n",
              "      <td>-60.00</td>\n",
              "      <td>9,431.00</td>\n",
              "    </tr>\n",
              "    <tr>\n",
              "      <th>4</th>\n",
              "      <td>2016</td>\n",
              "      <td>1</td>\n",
              "      <td>Adair County</td>\n",
              "      <td>1010</td>\n",
              "      <td>Adair County High School</td>\n",
              "      <td>72</td>\n",
              "      <td>Distinguished</td>\n",
              "      <td>10,270.00</td>\n",
              "      <td>-19,200.00</td>\n",
              "      <td>-20.00</td>\n",
              "      <td>10,245.00</td>\n",
              "    </tr>\n",
              "    <tr>\n",
              "      <th>...</th>\n",
              "      <td>...</td>\n",
              "      <td>...</td>\n",
              "      <td>...</td>\n",
              "      <td>...</td>\n",
              "      <td>...</td>\n",
              "      <td>...</td>\n",
              "      <td>...</td>\n",
              "      <td>...</td>\n",
              "      <td>...</td>\n",
              "      <td>...</td>\n",
              "      <td>...</td>\n",
              "    </tr>\n",
              "    <tr>\n",
              "      <th>9887</th>\n",
              "      <td>2016</td>\n",
              "      <td>601</td>\n",
              "      <td>Woodford County</td>\n",
              "      <td>601120</td>\n",
              "      <td>Northside Elementary School</td>\n",
              "      <td>60</td>\n",
              "      <td>Needs Improvement</td>\n",
              "      <td>12,050.00</td>\n",
              "      <td>34,000.00</td>\n",
              "      <td>110.00</td>\n",
              "      <td>12,153.00</td>\n",
              "    </tr>\n",
              "    <tr>\n",
              "      <th>9888</th>\n",
              "      <td>2017</td>\n",
              "      <td>601</td>\n",
              "      <td>Woodford County</td>\n",
              "      <td>601120</td>\n",
              "      <td>Northside Elementary School</td>\n",
              "      <td>75</td>\n",
              "      <td>Distinguished</td>\n",
              "      <td>9,940.00</td>\n",
              "      <td>17,400.00</td>\n",
              "      <td>50.00</td>\n",
              "      <td>9,993.00</td>\n",
              "    </tr>\n",
              "    <tr>\n",
              "      <th>9889</th>\n",
              "      <td>2018</td>\n",
              "      <td>601</td>\n",
              "      <td>Woodford County</td>\n",
              "      <td>601120</td>\n",
              "      <td>Northside Elementary School</td>\n",
              "      <td>73</td>\n",
              "      <td>Distinguished</td>\n",
              "      <td>13,640.00</td>\n",
              "      <td>51,800.00</td>\n",
              "      <td>150.00</td>\n",
              "      <td>13,791.00</td>\n",
              "    </tr>\n",
              "    <tr>\n",
              "      <th>9890</th>\n",
              "      <td>2019</td>\n",
              "      <td>601</td>\n",
              "      <td>Woodford County</td>\n",
              "      <td>601120</td>\n",
              "      <td>Northside Elementary School</td>\n",
              "      <td>76</td>\n",
              "      <td>Distinguished</td>\n",
              "      <td>11,860.00</td>\n",
              "      <td>48,400.00</td>\n",
              "      <td>140.00</td>\n",
              "      <td>12,007.00</td>\n",
              "    </tr>\n",
              "    <tr>\n",
              "      <th>9891</th>\n",
              "      <td>2022</td>\n",
              "      <td>601</td>\n",
              "      <td>Woodford County</td>\n",
              "      <td>601120</td>\n",
              "      <td>Northside Elementary School</td>\n",
              "      <td>68</td>\n",
              "      <td>NaN</td>\n",
              "      <td>NaN</td>\n",
              "      <td>NaN</td>\n",
              "      <td>NaN</td>\n",
              "      <td>NaN</td>\n",
              "    </tr>\n",
              "  </tbody>\n",
              "</table>\n",
              "<p>9892 rows × 11 columns</p>\n",
              "</div>\n",
              "      <button class=\"colab-df-convert\" onclick=\"convertToInteractive('df-6d9f2114-a982-4e2d-b5b0-aee87068dfe5')\"\n",
              "              title=\"Convert this dataframe to an interactive table.\"\n",
              "              style=\"display:none;\">\n",
              "        \n",
              "  <svg xmlns=\"http://www.w3.org/2000/svg\" height=\"24px\"viewBox=\"0 0 24 24\"\n",
              "       width=\"24px\">\n",
              "    <path d=\"M0 0h24v24H0V0z\" fill=\"none\"/>\n",
              "    <path d=\"M18.56 5.44l.94 2.06.94-2.06 2.06-.94-2.06-.94-.94-2.06-.94 2.06-2.06.94zm-11 1L8.5 8.5l.94-2.06 2.06-.94-2.06-.94L8.5 2.5l-.94 2.06-2.06.94zm10 10l.94 2.06.94-2.06 2.06-.94-2.06-.94-.94-2.06-.94 2.06-2.06.94z\"/><path d=\"M17.41 7.96l-1.37-1.37c-.4-.4-.92-.59-1.43-.59-.52 0-1.04.2-1.43.59L10.3 9.45l-7.72 7.72c-.78.78-.78 2.05 0 2.83L4 21.41c.39.39.9.59 1.41.59.51 0 1.02-.2 1.41-.59l7.78-7.78 2.81-2.81c.8-.78.8-2.07 0-2.86zM5.41 20L4 18.59l7.72-7.72 1.47 1.35L5.41 20z\"/>\n",
              "  </svg>\n",
              "      </button>\n",
              "      \n",
              "  <style>\n",
              "    .colab-df-container {\n",
              "      display:flex;\n",
              "      flex-wrap:wrap;\n",
              "      gap: 12px;\n",
              "    }\n",
              "\n",
              "    .colab-df-convert {\n",
              "      background-color: #E8F0FE;\n",
              "      border: none;\n",
              "      border-radius: 50%;\n",
              "      cursor: pointer;\n",
              "      display: none;\n",
              "      fill: #1967D2;\n",
              "      height: 32px;\n",
              "      padding: 0 0 0 0;\n",
              "      width: 32px;\n",
              "    }\n",
              "\n",
              "    .colab-df-convert:hover {\n",
              "      background-color: #E2EBFA;\n",
              "      box-shadow: 0px 1px 2px rgba(60, 64, 67, 0.3), 0px 1px 3px 1px rgba(60, 64, 67, 0.15);\n",
              "      fill: #174EA6;\n",
              "    }\n",
              "\n",
              "    [theme=dark] .colab-df-convert {\n",
              "      background-color: #3B4455;\n",
              "      fill: #D2E3FC;\n",
              "    }\n",
              "\n",
              "    [theme=dark] .colab-df-convert:hover {\n",
              "      background-color: #434B5C;\n",
              "      box-shadow: 0px 1px 3px 1px rgba(0, 0, 0, 0.15);\n",
              "      filter: drop-shadow(0px 1px 2px rgba(0, 0, 0, 0.3));\n",
              "      fill: #FFFFFF;\n",
              "    }\n",
              "  </style>\n",
              "\n",
              "      <script>\n",
              "        const buttonEl =\n",
              "          document.querySelector('#df-6d9f2114-a982-4e2d-b5b0-aee87068dfe5 button.colab-df-convert');\n",
              "        buttonEl.style.display =\n",
              "          google.colab.kernel.accessAllowed ? 'block' : 'none';\n",
              "\n",
              "        async function convertToInteractive(key) {\n",
              "          const element = document.querySelector('#df-6d9f2114-a982-4e2d-b5b0-aee87068dfe5');\n",
              "          const dataTable =\n",
              "            await google.colab.kernel.invokeFunction('convertToInteractive',\n",
              "                                                     [key], {});\n",
              "          if (!dataTable) return;\n",
              "\n",
              "          const docLinkHtml = 'Like what you see? Visit the ' +\n",
              "            '<a target=\"_blank\" href=https://colab.research.google.com/notebooks/data_table.ipynb>data table notebook</a>'\n",
              "            + ' to learn more about interactive tables.';\n",
              "          element.innerHTML = '';\n",
              "          dataTable['output_type'] = 'display_data';\n",
              "          await google.colab.output.renderOutput(dataTable, element);\n",
              "          const docLink = document.createElement('div');\n",
              "          docLink.innerHTML = docLinkHtml;\n",
              "          element.appendChild(docLink);\n",
              "        }\n",
              "      </script>\n",
              "    </div>\n",
              "  </div>\n",
              "  "
            ]
          },
          "metadata": {},
          "execution_count": 68
        }
      ]
    },
    {
      "cell_type": "code",
      "source": [
        "predict_df.to_csv('/content/drive/MyDrive/Colab Data/KY EPSB/All Years/predict_df.csv', index = False)"
      ],
      "metadata": {
        "id": "3Ld2ayflXgz_"
      },
      "execution_count": 69,
      "outputs": []
    },
    {
      "cell_type": "markdown",
      "source": [
        "# Most Impacted schools"
      ],
      "metadata": {
        "id": "UbO8I6LSsqr0"
      }
    },
    {
      "cell_type": "code",
      "source": [
        "# This makes us start with the predict_df. \n",
        "\n",
        "published_ky_df = predict_df.copy()"
      ],
      "metadata": {
        "id": "3L2vXWsbl0yr"
      },
      "execution_count": 70,
      "outputs": []
    },
    {
      "cell_type": "code",
      "source": [
        "published_ky_df.index"
      ],
      "metadata": {
        "colab": {
          "base_uri": "https://localhost:8080/"
        },
        "id": "qICrLtHFvTap",
        "outputId": "05ae5b27-5307-428b-9a68-62764acd447b"
      },
      "execution_count": 71,
      "outputs": [
        {
          "output_type": "execute_result",
          "data": {
            "text/plain": [
              "RangeIndex(start=0, stop=9892, step=1)"
            ]
          },
          "metadata": {},
          "execution_count": 71
        }
      ]
    },
    {
      "cell_type": "markdown",
      "source": [
        "## Top/Bottom Percentile"
      ],
      "metadata": {
        "id": "BsSiCfScQMad"
      }
    },
    {
      "cell_type": "code",
      "source": [
        "# Select value between 0-100. The selected value will be changed to a percent.  Then used to pull the data below. \n",
        "\n",
        "select_percent = 5\n",
        "selected_percentile = (100 - select_percent) / 100"
      ],
      "metadata": {
        "id": "W9q5vElltDPE"
      },
      "execution_count": 72,
      "outputs": []
    },
    {
      "cell_type": "code",
      "source": [
        "published_ky_df[published_ky_df['End Year']==2018].quantile(q=selected_percentile)"
      ],
      "metadata": {
        "colab": {
          "base_uri": "https://localhost:8080/"
        },
        "id": "DB7Cj4sHvTkA",
        "outputId": "0b6b2b7e-a531-4404-81c0-1c7861ecda40"
      },
      "execution_count": 73,
      "outputs": [
        {
          "output_type": "execute_result",
          "data": {
            "text/plain": [
              "End Year                           2,018.00\n",
              "District Code                        571.00\n",
              "School Code                      571,009.65\n",
              "Proficiency Rate                      91.00\n",
              "Reported Spending per student     21,880.00\n",
              "Money Difference per school      175,800.00\n",
              "Money Difference per student         310.00\n",
              "Estimated Spending per student    21,943.00\n",
              "Name: 0.95, dtype: float64"
            ]
          },
          "metadata": {},
          "execution_count": 73
        }
      ]
    },
    {
      "cell_type": "code",
      "source": [
        "# Creates / Resets df\n",
        "highly_impacted_schools = published_ky_df.iloc[0:0,:]\n",
        "\n",
        "# Append highest/lowest pctl to df based on the year\n",
        "for i in published_ky_df.index:\n",
        "  year = published_ky_df['End Year'][i]\n",
        "  highest_pctl = published_ky_df[published_ky_df['End Year']==year].quantile(q=selected_percentile)\n",
        "  lowest_pctl = published_ky_df[published_ky_df['End Year']==year].quantile(q=(1-selected_percentile))\n",
        "\n",
        "  if published_ky_df['Money Difference per school'][i] > highest_pctl['Money Difference per school'] or published_ky_df['Money Difference per school'][i] < lowest_pctl['Money Difference per school']:\n",
        "    highly_impacted_schools = highly_impacted_schools.append(published_ky_df.loc[i,])\n",
        "  elif published_ky_df['Estimated Spending per student'][i] > highest_pctl['Estimated Spending per student'] or published_ky_df['Estimated Spending per student'][i] < lowest_pctl['Estimated Spending per student']:\n",
        "    highly_impacted_schools = highly_impacted_schools.append(published_ky_df.loc[i,])\n",
        "  elif published_ky_df['Proficiency Rate'][i] > highest_pctl['Proficiency Rate'] or published_ky_df['Proficiency Rate'][i] < lowest_pctl['Proficiency Rate']:\n",
        "    highly_impacted_schools = highly_impacted_schools.append(published_ky_df.loc[i,])\n",
        "\n",
        "# Drop duplicated rows\n",
        "highly_impacted_schools.drop_duplicates(inplace=True)\n",
        "\n",
        "# Reset index\n",
        "highly_impacted_schools.reset_index(drop=True, inplace=True)"
      ],
      "metadata": {
        "id": "vcAsl3gavuUc"
      },
      "execution_count": 74,
      "outputs": []
    },
    {
      "cell_type": "code",
      "source": [
        "# Without including the Proficeny Rate high and low, there were 1941 records, and 701 schools.\n",
        "# Including the proficency rate raises the number of records to 2483 from 817 schools.\n",
        "\n",
        "highly_impacted_schools.info()"
      ],
      "metadata": {
        "id": "gZNrI4vU1rX7",
        "colab": {
          "base_uri": "https://localhost:8080/"
        },
        "outputId": "90b13084-2e8d-4850-d916-dda960bcfd9e"
      },
      "execution_count": 75,
      "outputs": [
        {
          "output_type": "stream",
          "name": "stdout",
          "text": [
            "<class 'pandas.core.frame.DataFrame'>\n",
            "RangeIndex: 2256 entries, 0 to 2255\n",
            "Data columns (total 11 columns):\n",
            " #   Column                          Non-Null Count  Dtype  \n",
            "---  ------                          --------------  -----  \n",
            " 0   End Year                        2256 non-null   int64  \n",
            " 1   District Code                   2256 non-null   int64  \n",
            " 2   District                        2256 non-null   object \n",
            " 3   School Code                     2256 non-null   int64  \n",
            " 4   School                          2256 non-null   object \n",
            " 5   Proficiency Rate                2256 non-null   int64  \n",
            " 6   Classification                  2143 non-null   object \n",
            " 7   Reported Spending per student   2133 non-null   float64\n",
            " 8   Money Difference per school     2133 non-null   float64\n",
            " 9   Money Difference per student    2133 non-null   float64\n",
            " 10  Estimated Spending per student  2133 non-null   float64\n",
            "dtypes: float64(4), int64(4), object(3)\n",
            "memory usage: 194.0+ KB\n"
          ]
        }
      ]
    },
    {
      "cell_type": "code",
      "source": [
        "highly_impacted_schools.nunique()"
      ],
      "metadata": {
        "id": "5SIThKZF1svK",
        "colab": {
          "base_uri": "https://localhost:8080/"
        },
        "outputId": "59fa7a33-97c3-4116-d17d-8c3c647e26cd"
      },
      "execution_count": 76,
      "outputs": [
        {
          "output_type": "execute_result",
          "data": {
            "text/plain": [
              "End Year                             9\n",
              "District Code                      155\n",
              "District                           155\n",
              "School Code                        729\n",
              "School                             719\n",
              "Proficiency Rate                    88\n",
              "Classification                       3\n",
              "Reported Spending per student     1143\n",
              "Money Difference per school       1736\n",
              "Money Difference per student       179\n",
              "Estimated Spending per student    1963\n",
              "dtype: int64"
            ]
          },
          "metadata": {},
          "execution_count": 76
        }
      ]
    },
    {
      "cell_type": "code",
      "source": [
        "highly_impacted_schools.sort_values(by=['Money Difference per school'], inplace=True)"
      ],
      "metadata": {
        "id": "oIuZ9P5EDVpr"
      },
      "execution_count": 77,
      "outputs": []
    },
    {
      "cell_type": "markdown",
      "source": [
        "## Multiple Years Impacted - Detailed"
      ],
      "metadata": {
        "id": "xpakTgq2e2WC"
      }
    },
    {
      "cell_type": "code",
      "source": [
        "# If school code frequency is >= 5, then they remain.  \n",
        "# Then the rest of their 10 year data is pulled. "
      ],
      "metadata": {
        "id": "2uFz8FcWn7LR"
      },
      "execution_count": 78,
      "outputs": []
    },
    {
      "cell_type": "code",
      "source": [
        "id_freq_schools = highly_impacted_schools.groupby('School Code').count()"
      ],
      "metadata": {
        "id": "4xji5owN1zm1"
      },
      "execution_count": 79,
      "outputs": []
    },
    {
      "cell_type": "code",
      "source": [
        "id_freq_schools"
      ],
      "metadata": {
        "id": "4eDAD7AVOYpS",
        "colab": {
          "base_uri": "https://localhost:8080/",
          "height": 568
        },
        "outputId": "a3948bbf-6abf-4927-d71a-f424f0a0ffb9"
      },
      "execution_count": 80,
      "outputs": [
        {
          "output_type": "execute_result",
          "data": {
            "text/plain": [
              "             End Year  District Code  District  School  Proficiency Rate  \\\n",
              "School Code                                                                \n",
              "5010                2              2         2       2                 2   \n",
              "5015                2              2         2       2                 2   \n",
              "5020                3              3         3       3                 3   \n",
              "5060                1              1         1       1                 1   \n",
              "6010                9              9         9       9                 9   \n",
              "...               ...            ...       ...     ...               ...   \n",
              "601050              1              1         1       1                 1   \n",
              "601075              1              1         1       1                 1   \n",
              "601084              1              1         1       1                 1   \n",
              "601090              1              1         1       1                 1   \n",
              "601120              3              3         3       3                 3   \n",
              "\n",
              "             Classification  Reported Spending per student  \\\n",
              "School Code                                                  \n",
              "5010                      2                              2   \n",
              "5015                      2                              2   \n",
              "5020                      3                              3   \n",
              "5060                      1                              1   \n",
              "6010                      8                              8   \n",
              "...                     ...                            ...   \n",
              "601050                    1                              1   \n",
              "601075                    1                              1   \n",
              "601084                    1                              1   \n",
              "601090                    1                              1   \n",
              "601120                    3                              3   \n",
              "\n",
              "             Money Difference per school  Money Difference per student  \\\n",
              "School Code                                                              \n",
              "5010                                   2                             2   \n",
              "5015                                   2                             2   \n",
              "5020                                   3                             3   \n",
              "5060                                   1                             1   \n",
              "6010                                   8                             8   \n",
              "...                                  ...                           ...   \n",
              "601050                                 1                             1   \n",
              "601075                                 1                             1   \n",
              "601084                                 1                             1   \n",
              "601090                                 1                             1   \n",
              "601120                                 3                             3   \n",
              "\n",
              "             Estimated Spending per student  \n",
              "School Code                                  \n",
              "5010                                      2  \n",
              "5015                                      2  \n",
              "5020                                      3  \n",
              "5060                                      1  \n",
              "6010                                      8  \n",
              "...                                     ...  \n",
              "601050                                    1  \n",
              "601075                                    1  \n",
              "601084                                    1  \n",
              "601090                                    1  \n",
              "601120                                    3  \n",
              "\n",
              "[729 rows x 10 columns]"
            ],
            "text/html": [
              "\n",
              "  <div id=\"df-d587cdea-de4c-4c7a-9ab3-150fb08389f4\">\n",
              "    <div class=\"colab-df-container\">\n",
              "      <div>\n",
              "<style scoped>\n",
              "    .dataframe tbody tr th:only-of-type {\n",
              "        vertical-align: middle;\n",
              "    }\n",
              "\n",
              "    .dataframe tbody tr th {\n",
              "        vertical-align: top;\n",
              "    }\n",
              "\n",
              "    .dataframe thead th {\n",
              "        text-align: right;\n",
              "    }\n",
              "</style>\n",
              "<table border=\"1\" class=\"dataframe\">\n",
              "  <thead>\n",
              "    <tr style=\"text-align: right;\">\n",
              "      <th></th>\n",
              "      <th>End Year</th>\n",
              "      <th>District Code</th>\n",
              "      <th>District</th>\n",
              "      <th>School</th>\n",
              "      <th>Proficiency Rate</th>\n",
              "      <th>Classification</th>\n",
              "      <th>Reported Spending per student</th>\n",
              "      <th>Money Difference per school</th>\n",
              "      <th>Money Difference per student</th>\n",
              "      <th>Estimated Spending per student</th>\n",
              "    </tr>\n",
              "    <tr>\n",
              "      <th>School Code</th>\n",
              "      <th></th>\n",
              "      <th></th>\n",
              "      <th></th>\n",
              "      <th></th>\n",
              "      <th></th>\n",
              "      <th></th>\n",
              "      <th></th>\n",
              "      <th></th>\n",
              "      <th></th>\n",
              "      <th></th>\n",
              "    </tr>\n",
              "  </thead>\n",
              "  <tbody>\n",
              "    <tr>\n",
              "      <th>5010</th>\n",
              "      <td>2</td>\n",
              "      <td>2</td>\n",
              "      <td>2</td>\n",
              "      <td>2</td>\n",
              "      <td>2</td>\n",
              "      <td>2</td>\n",
              "      <td>2</td>\n",
              "      <td>2</td>\n",
              "      <td>2</td>\n",
              "      <td>2</td>\n",
              "    </tr>\n",
              "    <tr>\n",
              "      <th>5015</th>\n",
              "      <td>2</td>\n",
              "      <td>2</td>\n",
              "      <td>2</td>\n",
              "      <td>2</td>\n",
              "      <td>2</td>\n",
              "      <td>2</td>\n",
              "      <td>2</td>\n",
              "      <td>2</td>\n",
              "      <td>2</td>\n",
              "      <td>2</td>\n",
              "    </tr>\n",
              "    <tr>\n",
              "      <th>5020</th>\n",
              "      <td>3</td>\n",
              "      <td>3</td>\n",
              "      <td>3</td>\n",
              "      <td>3</td>\n",
              "      <td>3</td>\n",
              "      <td>3</td>\n",
              "      <td>3</td>\n",
              "      <td>3</td>\n",
              "      <td>3</td>\n",
              "      <td>3</td>\n",
              "    </tr>\n",
              "    <tr>\n",
              "      <th>5060</th>\n",
              "      <td>1</td>\n",
              "      <td>1</td>\n",
              "      <td>1</td>\n",
              "      <td>1</td>\n",
              "      <td>1</td>\n",
              "      <td>1</td>\n",
              "      <td>1</td>\n",
              "      <td>1</td>\n",
              "      <td>1</td>\n",
              "      <td>1</td>\n",
              "    </tr>\n",
              "    <tr>\n",
              "      <th>6010</th>\n",
              "      <td>9</td>\n",
              "      <td>9</td>\n",
              "      <td>9</td>\n",
              "      <td>9</td>\n",
              "      <td>9</td>\n",
              "      <td>8</td>\n",
              "      <td>8</td>\n",
              "      <td>8</td>\n",
              "      <td>8</td>\n",
              "      <td>8</td>\n",
              "    </tr>\n",
              "    <tr>\n",
              "      <th>...</th>\n",
              "      <td>...</td>\n",
              "      <td>...</td>\n",
              "      <td>...</td>\n",
              "      <td>...</td>\n",
              "      <td>...</td>\n",
              "      <td>...</td>\n",
              "      <td>...</td>\n",
              "      <td>...</td>\n",
              "      <td>...</td>\n",
              "      <td>...</td>\n",
              "    </tr>\n",
              "    <tr>\n",
              "      <th>601050</th>\n",
              "      <td>1</td>\n",
              "      <td>1</td>\n",
              "      <td>1</td>\n",
              "      <td>1</td>\n",
              "      <td>1</td>\n",
              "      <td>1</td>\n",
              "      <td>1</td>\n",
              "      <td>1</td>\n",
              "      <td>1</td>\n",
              "      <td>1</td>\n",
              "    </tr>\n",
              "    <tr>\n",
              "      <th>601075</th>\n",
              "      <td>1</td>\n",
              "      <td>1</td>\n",
              "      <td>1</td>\n",
              "      <td>1</td>\n",
              "      <td>1</td>\n",
              "      <td>1</td>\n",
              "      <td>1</td>\n",
              "      <td>1</td>\n",
              "      <td>1</td>\n",
              "      <td>1</td>\n",
              "    </tr>\n",
              "    <tr>\n",
              "      <th>601084</th>\n",
              "      <td>1</td>\n",
              "      <td>1</td>\n",
              "      <td>1</td>\n",
              "      <td>1</td>\n",
              "      <td>1</td>\n",
              "      <td>1</td>\n",
              "      <td>1</td>\n",
              "      <td>1</td>\n",
              "      <td>1</td>\n",
              "      <td>1</td>\n",
              "    </tr>\n",
              "    <tr>\n",
              "      <th>601090</th>\n",
              "      <td>1</td>\n",
              "      <td>1</td>\n",
              "      <td>1</td>\n",
              "      <td>1</td>\n",
              "      <td>1</td>\n",
              "      <td>1</td>\n",
              "      <td>1</td>\n",
              "      <td>1</td>\n",
              "      <td>1</td>\n",
              "      <td>1</td>\n",
              "    </tr>\n",
              "    <tr>\n",
              "      <th>601120</th>\n",
              "      <td>3</td>\n",
              "      <td>3</td>\n",
              "      <td>3</td>\n",
              "      <td>3</td>\n",
              "      <td>3</td>\n",
              "      <td>3</td>\n",
              "      <td>3</td>\n",
              "      <td>3</td>\n",
              "      <td>3</td>\n",
              "      <td>3</td>\n",
              "    </tr>\n",
              "  </tbody>\n",
              "</table>\n",
              "<p>729 rows × 10 columns</p>\n",
              "</div>\n",
              "      <button class=\"colab-df-convert\" onclick=\"convertToInteractive('df-d587cdea-de4c-4c7a-9ab3-150fb08389f4')\"\n",
              "              title=\"Convert this dataframe to an interactive table.\"\n",
              "              style=\"display:none;\">\n",
              "        \n",
              "  <svg xmlns=\"http://www.w3.org/2000/svg\" height=\"24px\"viewBox=\"0 0 24 24\"\n",
              "       width=\"24px\">\n",
              "    <path d=\"M0 0h24v24H0V0z\" fill=\"none\"/>\n",
              "    <path d=\"M18.56 5.44l.94 2.06.94-2.06 2.06-.94-2.06-.94-.94-2.06-.94 2.06-2.06.94zm-11 1L8.5 8.5l.94-2.06 2.06-.94-2.06-.94L8.5 2.5l-.94 2.06-2.06.94zm10 10l.94 2.06.94-2.06 2.06-.94-2.06-.94-.94-2.06-.94 2.06-2.06.94z\"/><path d=\"M17.41 7.96l-1.37-1.37c-.4-.4-.92-.59-1.43-.59-.52 0-1.04.2-1.43.59L10.3 9.45l-7.72 7.72c-.78.78-.78 2.05 0 2.83L4 21.41c.39.39.9.59 1.41.59.51 0 1.02-.2 1.41-.59l7.78-7.78 2.81-2.81c.8-.78.8-2.07 0-2.86zM5.41 20L4 18.59l7.72-7.72 1.47 1.35L5.41 20z\"/>\n",
              "  </svg>\n",
              "      </button>\n",
              "      \n",
              "  <style>\n",
              "    .colab-df-container {\n",
              "      display:flex;\n",
              "      flex-wrap:wrap;\n",
              "      gap: 12px;\n",
              "    }\n",
              "\n",
              "    .colab-df-convert {\n",
              "      background-color: #E8F0FE;\n",
              "      border: none;\n",
              "      border-radius: 50%;\n",
              "      cursor: pointer;\n",
              "      display: none;\n",
              "      fill: #1967D2;\n",
              "      height: 32px;\n",
              "      padding: 0 0 0 0;\n",
              "      width: 32px;\n",
              "    }\n",
              "\n",
              "    .colab-df-convert:hover {\n",
              "      background-color: #E2EBFA;\n",
              "      box-shadow: 0px 1px 2px rgba(60, 64, 67, 0.3), 0px 1px 3px 1px rgba(60, 64, 67, 0.15);\n",
              "      fill: #174EA6;\n",
              "    }\n",
              "\n",
              "    [theme=dark] .colab-df-convert {\n",
              "      background-color: #3B4455;\n",
              "      fill: #D2E3FC;\n",
              "    }\n",
              "\n",
              "    [theme=dark] .colab-df-convert:hover {\n",
              "      background-color: #434B5C;\n",
              "      box-shadow: 0px 1px 3px 1px rgba(0, 0, 0, 0.15);\n",
              "      filter: drop-shadow(0px 1px 2px rgba(0, 0, 0, 0.3));\n",
              "      fill: #FFFFFF;\n",
              "    }\n",
              "  </style>\n",
              "\n",
              "      <script>\n",
              "        const buttonEl =\n",
              "          document.querySelector('#df-d587cdea-de4c-4c7a-9ab3-150fb08389f4 button.colab-df-convert');\n",
              "        buttonEl.style.display =\n",
              "          google.colab.kernel.accessAllowed ? 'block' : 'none';\n",
              "\n",
              "        async function convertToInteractive(key) {\n",
              "          const element = document.querySelector('#df-d587cdea-de4c-4c7a-9ab3-150fb08389f4');\n",
              "          const dataTable =\n",
              "            await google.colab.kernel.invokeFunction('convertToInteractive',\n",
              "                                                     [key], {});\n",
              "          if (!dataTable) return;\n",
              "\n",
              "          const docLinkHtml = 'Like what you see? Visit the ' +\n",
              "            '<a target=\"_blank\" href=https://colab.research.google.com/notebooks/data_table.ipynb>data table notebook</a>'\n",
              "            + ' to learn more about interactive tables.';\n",
              "          element.innerHTML = '';\n",
              "          dataTable['output_type'] = 'display_data';\n",
              "          await google.colab.output.renderOutput(dataTable, element);\n",
              "          const docLink = document.createElement('div');\n",
              "          docLink.innerHTML = docLinkHtml;\n",
              "          element.appendChild(docLink);\n",
              "        }\n",
              "      </script>\n",
              "    </div>\n",
              "  </div>\n",
              "  "
            ]
          },
          "metadata": {},
          "execution_count": 80
        }
      ]
    },
    {
      "cell_type": "code",
      "source": [
        "sns.countplot(id_freq_schools['End Year'], label='count')"
      ],
      "metadata": {
        "id": "2waB27JSOIcH",
        "colab": {
          "base_uri": "https://localhost:8080/",
          "height": 351
        },
        "outputId": "456607d0-7bba-4ae6-ad15-fd81d3ef6974"
      },
      "execution_count": 81,
      "outputs": [
        {
          "output_type": "stream",
          "name": "stderr",
          "text": [
            "/usr/local/lib/python3.8/dist-packages/seaborn/_decorators.py:36: FutureWarning: Pass the following variable as a keyword arg: x. From version 0.12, the only valid positional argument will be `data`, and passing other arguments without an explicit keyword will result in an error or misinterpretation.\n",
            "  warnings.warn(\n"
          ]
        },
        {
          "output_type": "execute_result",
          "data": {
            "text/plain": [
              "<matplotlib.axes._subplots.AxesSubplot at 0x7f3aff03c3d0>"
            ]
          },
          "metadata": {},
          "execution_count": 81
        },
        {
          "output_type": "display_data",
          "data": {
            "text/plain": [
              "<Figure size 432x288 with 1 Axes>"
            ],
            "image/png": "[encoded data removed]"
          },
          "metadata": {
            "needs_background": "light"
          }
        }
      ]
    },
    {
      "cell_type": "code",
      "source": [
        "# Select frequency that a school appears in either the top or bottom percentile of the highly impacted schools\n",
        "# There should be a default selected. \n",
        "\n",
        "select_frequency = 5\n",
        "\n",
        "# If school code frequency is >= 5 years, then they remain. Unless above variable is updated to a different number.   \n",
        "\n",
        "for i in id_freq_schools.index:\n",
        "  if id_freq_schools['End Year'][i] < select_frequency:\n",
        "    id_freq_schools.drop([i], axis= 0, inplace=True)\n",
        "\n",
        "freq_school_code = id_freq_schools.index.unique().sort_values()"
      ],
      "metadata": {
        "id": "PTNMBs3DrIhY"
      },
      "execution_count": 82,
      "outputs": []
    },
    {
      "cell_type": "code",
      "source": [
        "freq_school_code"
      ],
      "metadata": {
        "colab": {
          "base_uri": "https://localhost:8080/"
        },
        "id": "hdbCv_um2Tqa",
        "outputId": "9ac6125f-065b-454b-e89e-912078bbc08e"
      },
      "execution_count": 83,
      "outputs": [
        {
          "output_type": "execute_result",
          "data": {
            "text/plain": [
              "Int64Index([  6010,  11022,  11025,  21014,  21027,  26010,  35011,  35015,\n",
              "             35065,  51080,\n",
              "            ...\n",
              "            501395, 505010, 525035, 567020, 571002, 571230, 585050, 585125,\n",
              "            591061, 591062],\n",
              "           dtype='int64', name='School Code', length=160)"
            ]
          },
          "metadata": {},
          "execution_count": 83
        }
      ]
    },
    {
      "cell_type": "code",
      "source": [
        "# This is the detailed schools who are repeatedly in the top/bottom.\n",
        "# Pulls all of their school data. \n",
        "\n",
        "ten_year_impacted = published_ky_df.iloc[0:0,:]\n",
        "\n",
        "for code in freq_school_code:\n",
        "  school_ten_year = published_ky_df[published_ky_df['School Code'] == code]\n",
        "  ten_year_impacted = ten_year_impacted.append(school_ten_year)\n"
      ],
      "metadata": {
        "id": "mp_YTum1mQ8L"
      },
      "execution_count": 84,
      "outputs": []
    },
    {
      "cell_type": "code",
      "source": [
        "ten_year_impacted.sort_values(by=['Money Difference per school'], inplace=True)"
      ],
      "metadata": {
        "id": "kbnMp6tmhxVp"
      },
      "execution_count": 85,
      "outputs": []
    },
    {
      "cell_type": "code",
      "source": [
        "ten_year_impacted"
      ],
      "metadata": {
        "id": "14J-CnFNy0qc",
        "colab": {
          "base_uri": "https://localhost:8080/",
          "height": 901
        },
        "outputId": "97fd3ec2-17ff-47df-8a5a-61f94450e496"
      },
      "execution_count": 86,
      "outputs": [
        {
          "output_type": "execute_result",
          "data": {
            "text/plain": [
              "      End Year  District Code          District  School Code  \\\n",
              "5570      2012            275  Jefferson County       275620   \n",
              "5199      2019            275  Jefferson County       275155   \n",
              "4574      2015            275  Jefferson County       275033   \n",
              "5197      2017            275  Jefferson County       275155   \n",
              "4571      2012            275  Jefferson County       275033   \n",
              "...        ...            ...               ...          ...   \n",
              "9573      2022            571     Warren County       571230   \n",
              "9657      2022            585    Webster County       585050   \n",
              "9681      2022            585    Webster County       585125   \n",
              "9708      2022            591    Whitley County       591061   \n",
              "9717      2022            591    Whitley County       591062   \n",
              "\n",
              "                                     School  Proficiency Rate  \\\n",
              "5570    Frederick Law Olmsted Academy North                34   \n",
              "5199                 Marion C. Moore School                40   \n",
              "4574                            Valley High                42   \n",
              "5197                 Marion C. Moore School                45   \n",
              "4571                            Valley High                31   \n",
              "...                                     ...               ...   \n",
              "9573                  Greenwood High School                74   \n",
              "9657                Dixon Elementary School                55   \n",
              "9681           Webster County Middle School                53   \n",
              "9708    Whitley Central Intermediate School                75   \n",
              "9717  Whitley County East Elementary School                85   \n",
              "\n",
              "         Classification  Reported Spending per student  \\\n",
              "5570  Needs Improvement                      10,980.00   \n",
              "5199  Needs Improvement                      14,030.00   \n",
              "4574  Needs Improvement                      10,270.00   \n",
              "5197  Needs Improvement                      12,230.00   \n",
              "4571  Needs Improvement                      10,290.00   \n",
              "...                 ...                            ...   \n",
              "9573                NaN                            NaN   \n",
              "9657                NaN                            NaN   \n",
              "9681                NaN                            NaN   \n",
              "9708                NaN                            NaN   \n",
              "9717                NaN                            NaN   \n",
              "\n",
              "      Money Difference per school  Money Difference per student  \\\n",
              "5570                  -666,200.00                       -880.00   \n",
              "5199                  -643,000.00                       -290.00   \n",
              "4574                  -634,200.00                       -450.00   \n",
              "5197                  -621,500.00                       -310.00   \n",
              "4571                  -551,700.00                       -600.00   \n",
              "...                           ...                           ...   \n",
              "9573                          NaN                           NaN   \n",
              "9657                          NaN                           NaN   \n",
              "9681                          NaN                           NaN   \n",
              "9708                          NaN                           NaN   \n",
              "9717                          NaN                           NaN   \n",
              "\n",
              "      Estimated Spending per student  \n",
              "5570                       10,097.00  \n",
              "5199                       13,743.00  \n",
              "4574                        9,822.00  \n",
              "5197                       11,921.00  \n",
              "4571                        9,685.00  \n",
              "...                              ...  \n",
              "9573                             NaN  \n",
              "9657                             NaN  \n",
              "9681                             NaN  \n",
              "9708                             NaN  \n",
              "9717                             NaN  \n",
              "\n",
              "[1437 rows x 11 columns]"
            ],
            "text/html": [
              "\n",
              "  <div id=\"df-d28a73b8-e46d-4796-8dc2-8b1136bbe369\">\n",
              "    <div class=\"colab-df-container\">\n",
              "      <div>\n",
              "<style scoped>\n",
              "    .dataframe tbody tr th:only-of-type {\n",
              "        vertical-align: middle;\n",
              "    }\n",
              "\n",
              "    .dataframe tbody tr th {\n",
              "        vertical-align: top;\n",
              "    }\n",
              "\n",
              "    .dataframe thead th {\n",
              "        text-align: right;\n",
              "    }\n",
              "</style>\n",
              "<table border=\"1\" class=\"dataframe\">\n",
              "  <thead>\n",
              "    <tr style=\"text-align: right;\">\n",
              "      <th></th>\n",
              "      <th>End Year</th>\n",
              "      <th>District Code</th>\n",
              "      <th>District</th>\n",
              "      <th>School Code</th>\n",
              "      <th>School</th>\n",
              "      <th>Proficiency Rate</th>\n",
              "      <th>Classification</th>\n",
              "      <th>Reported Spending per student</th>\n",
              "      <th>Money Difference per school</th>\n",
              "      <th>Money Difference per student</th>\n",
              "      <th>Estimated Spending per student</th>\n",
              "    </tr>\n",
              "  </thead>\n",
              "  <tbody>\n",
              "    <tr>\n",
              "      <th>5570</th>\n",
              "      <td>2012</td>\n",
              "      <td>275</td>\n",
              "      <td>Jefferson County</td>\n",
              "      <td>275620</td>\n",
              "      <td>Frederick Law Olmsted Academy North</td>\n",
              "      <td>34</td>\n",
              "      <td>Needs Improvement</td>\n",
              "      <td>10,980.00</td>\n",
              "      <td>-666,200.00</td>\n",
              "      <td>-880.00</td>\n",
              "      <td>10,097.00</td>\n",
              "    </tr>\n",
              "    <tr>\n",
              "      <th>5199</th>\n",
              "      <td>2019</td>\n",
              "      <td>275</td>\n",
              "      <td>Jefferson County</td>\n",
              "      <td>275155</td>\n",
              "      <td>Marion C. Moore School</td>\n",
              "      <td>40</td>\n",
              "      <td>Needs Improvement</td>\n",
              "      <td>14,030.00</td>\n",
              "      <td>-643,000.00</td>\n",
              "      <td>-290.00</td>\n",
              "      <td>13,743.00</td>\n",
              "    </tr>\n",
              "    <tr>\n",
              "      <th>4574</th>\n",
              "      <td>2015</td>\n",
              "      <td>275</td>\n",
              "      <td>Jefferson County</td>\n",
              "      <td>275033</td>\n",
              "      <td>Valley High</td>\n",
              "      <td>42</td>\n",
              "      <td>Needs Improvement</td>\n",
              "      <td>10,270.00</td>\n",
              "      <td>-634,200.00</td>\n",
              "      <td>-450.00</td>\n",
              "      <td>9,822.00</td>\n",
              "    </tr>\n",
              "    <tr>\n",
              "      <th>5197</th>\n",
              "      <td>2017</td>\n",
              "      <td>275</td>\n",
              "      <td>Jefferson County</td>\n",
              "      <td>275155</td>\n",
              "      <td>Marion C. Moore School</td>\n",
              "      <td>45</td>\n",
              "      <td>Needs Improvement</td>\n",
              "      <td>12,230.00</td>\n",
              "      <td>-621,500.00</td>\n",
              "      <td>-310.00</td>\n",
              "      <td>11,921.00</td>\n",
              "    </tr>\n",
              "    <tr>\n",
              "      <th>4571</th>\n",
              "      <td>2012</td>\n",
              "      <td>275</td>\n",
              "      <td>Jefferson County</td>\n",
              "      <td>275033</td>\n",
              "      <td>Valley High</td>\n",
              "      <td>31</td>\n",
              "      <td>Needs Improvement</td>\n",
              "      <td>10,290.00</td>\n",
              "      <td>-551,700.00</td>\n",
              "      <td>-600.00</td>\n",
              "      <td>9,685.00</td>\n",
              "    </tr>\n",
              "    <tr>\n",
              "      <th>...</th>\n",
              "      <td>...</td>\n",
              "      <td>...</td>\n",
              "      <td>...</td>\n",
              "      <td>...</td>\n",
              "      <td>...</td>\n",
              "      <td>...</td>\n",
              "      <td>...</td>\n",
              "      <td>...</td>\n",
              "      <td>...</td>\n",
              "      <td>...</td>\n",
              "      <td>...</td>\n",
              "    </tr>\n",
              "    <tr>\n",
              "      <th>9573</th>\n",
              "      <td>2022</td>\n",
              "      <td>571</td>\n",
              "      <td>Warren County</td>\n",
              "      <td>571230</td>\n",
              "      <td>Greenwood High School</td>\n",
              "      <td>74</td>\n",
              "      <td>NaN</td>\n",
              "      <td>NaN</td>\n",
              "      <td>NaN</td>\n",
              "      <td>NaN</td>\n",
              "      <td>NaN</td>\n",
              "    </tr>\n",
              "    <tr>\n",
              "      <th>9657</th>\n",
              "      <td>2022</td>\n",
              "      <td>585</td>\n",
              "      <td>Webster County</td>\n",
              "      <td>585050</td>\n",
              "      <td>Dixon Elementary School</td>\n",
              "      <td>55</td>\n",
              "      <td>NaN</td>\n",
              "      <td>NaN</td>\n",
              "      <td>NaN</td>\n",
              "      <td>NaN</td>\n",
              "      <td>NaN</td>\n",
              "    </tr>\n",
              "    <tr>\n",
              "      <th>9681</th>\n",
              "      <td>2022</td>\n",
              "      <td>585</td>\n",
              "      <td>Webster County</td>\n",
              "      <td>585125</td>\n",
              "      <td>Webster County Middle School</td>\n",
              "      <td>53</td>\n",
              "      <td>NaN</td>\n",
              "      <td>NaN</td>\n",
              "      <td>NaN</td>\n",
              "      <td>NaN</td>\n",
              "      <td>NaN</td>\n",
              "    </tr>\n",
              "    <tr>\n",
              "      <th>9708</th>\n",
              "      <td>2022</td>\n",
              "      <td>591</td>\n",
              "      <td>Whitley County</td>\n",
              "      <td>591061</td>\n",
              "      <td>Whitley Central Intermediate School</td>\n",
              "      <td>75</td>\n",
              "      <td>NaN</td>\n",
              "      <td>NaN</td>\n",
              "      <td>NaN</td>\n",
              "      <td>NaN</td>\n",
              "      <td>NaN</td>\n",
              "    </tr>\n",
              "    <tr>\n",
              "      <th>9717</th>\n",
              "      <td>2022</td>\n",
              "      <td>591</td>\n",
              "      <td>Whitley County</td>\n",
              "      <td>591062</td>\n",
              "      <td>Whitley County East Elementary School</td>\n",
              "      <td>85</td>\n",
              "      <td>NaN</td>\n",
              "      <td>NaN</td>\n",
              "      <td>NaN</td>\n",
              "      <td>NaN</td>\n",
              "      <td>NaN</td>\n",
              "    </tr>\n",
              "  </tbody>\n",
              "</table>\n",
              "<p>1437 rows × 11 columns</p>\n",
              "</div>\n",
              "      <button class=\"colab-df-convert\" onclick=\"convertToInteractive('df-d28a73b8-e46d-4796-8dc2-8b1136bbe369')\"\n",
              "              title=\"Convert this dataframe to an interactive table.\"\n",
              "              style=\"display:none;\">\n",
              "        \n",
              "  <svg xmlns=\"http://www.w3.org/2000/svg\" height=\"24px\"viewBox=\"0 0 24 24\"\n",
              "       width=\"24px\">\n",
              "    <path d=\"M0 0h24v24H0V0z\" fill=\"none\"/>\n",
              "    <path d=\"M18.56 5.44l.94 2.06.94-2.06 2.06-.94-2.06-.94-.94-2.06-.94 2.06-2.06.94zm-11 1L8.5 8.5l.94-2.06 2.06-.94-2.06-.94L8.5 2.5l-.94 2.06-2.06.94zm10 10l.94 2.06.94-2.06 2.06-.94-2.06-.94-.94-2.06-.94 2.06-2.06.94z\"/><path d=\"M17.41 7.96l-1.37-1.37c-.4-.4-.92-.59-1.43-.59-.52 0-1.04.2-1.43.59L10.3 9.45l-7.72 7.72c-.78.78-.78 2.05 0 2.83L4 21.41c.39.39.9.59 1.41.59.51 0 1.02-.2 1.41-.59l7.78-7.78 2.81-2.81c.8-.78.8-2.07 0-2.86zM5.41 20L4 18.59l7.72-7.72 1.47 1.35L5.41 20z\"/>\n",
              "  </svg>\n",
              "      </button>\n",
              "      \n",
              "  <style>\n",
              "    .colab-df-container {\n",
              "      display:flex;\n",
              "      flex-wrap:wrap;\n",
              "      gap: 12px;\n",
              "    }\n",
              "\n",
              "    .colab-df-convert {\n",
              "      background-color: #E8F0FE;\n",
              "      border: none;\n",
              "      border-radius: 50%;\n",
              "      cursor: pointer;\n",
              "      display: none;\n",
              "      fill: #1967D2;\n",
              "      height: 32px;\n",
              "      padding: 0 0 0 0;\n",
              "      width: 32px;\n",
              "    }\n",
              "\n",
              "    .colab-df-convert:hover {\n",
              "      background-color: #E2EBFA;\n",
              "      box-shadow: 0px 1px 2px rgba(60, 64, 67, 0.3), 0px 1px 3px 1px rgba(60, 64, 67, 0.15);\n",
              "      fill: #174EA6;\n",
              "    }\n",
              "\n",
              "    [theme=dark] .colab-df-convert {\n",
              "      background-color: #3B4455;\n",
              "      fill: #D2E3FC;\n",
              "    }\n",
              "\n",
              "    [theme=dark] .colab-df-convert:hover {\n",
              "      background-color: #434B5C;\n",
              "      box-shadow: 0px 1px 3px 1px rgba(0, 0, 0, 0.15);\n",
              "      filter: drop-shadow(0px 1px 2px rgba(0, 0, 0, 0.3));\n",
              "      fill: #FFFFFF;\n",
              "    }\n",
              "  </style>\n",
              "\n",
              "      <script>\n",
              "        const buttonEl =\n",
              "          document.querySelector('#df-d28a73b8-e46d-4796-8dc2-8b1136bbe369 button.colab-df-convert');\n",
              "        buttonEl.style.display =\n",
              "          google.colab.kernel.accessAllowed ? 'block' : 'none';\n",
              "\n",
              "        async function convertToInteractive(key) {\n",
              "          const element = document.querySelector('#df-d28a73b8-e46d-4796-8dc2-8b1136bbe369');\n",
              "          const dataTable =\n",
              "            await google.colab.kernel.invokeFunction('convertToInteractive',\n",
              "                                                     [key], {});\n",
              "          if (!dataTable) return;\n",
              "\n",
              "          const docLinkHtml = 'Like what you see? Visit the ' +\n",
              "            '<a target=\"_blank\" href=https://colab.research.google.com/notebooks/data_table.ipynb>data table notebook</a>'\n",
              "            + ' to learn more about interactive tables.';\n",
              "          element.innerHTML = '';\n",
              "          dataTable['output_type'] = 'display_data';\n",
              "          await google.colab.output.renderOutput(dataTable, element);\n",
              "          const docLink = document.createElement('div');\n",
              "          docLink.innerHTML = docLinkHtml;\n",
              "          element.appendChild(docLink);\n",
              "        }\n",
              "      </script>\n",
              "    </div>\n",
              "  </div>\n",
              "  "
            ]
          },
          "metadata": {},
          "execution_count": 86
        }
      ]
    },
    {
      "cell_type": "code",
      "source": [],
      "metadata": {
        "id": "BXKmJRNavgBQ"
      },
      "execution_count": null,
      "outputs": []
    },
    {
      "cell_type": "code",
      "source": [],
      "metadata": {
        "id": "OTv_GQtAvgEH"
      },
      "execution_count": null,
      "outputs": []
    }
  ]
}