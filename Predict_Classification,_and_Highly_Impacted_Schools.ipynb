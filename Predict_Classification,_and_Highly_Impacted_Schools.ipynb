{
  "nbformat": 4,
  "nbformat_minor": 0,
  "metadata": {
    "colab": {
      "provenance": [],
      "collapsed_sections": [
        "xpakTgq2e2WC"
      ],
      "toc_visible": true,
      "authorship_tag": "ABX9TyOJG9JOtmiYcquvMHgmWS9N",
      "include_colab_link": true
    },
    "kernelspec": {
      "name": "python3",
      "display_name": "Python 3"
    },
    "language_info": {
      "name": "python"
    }
  },
  "cells": [
    {
      "cell_type": "markdown",
      "metadata": {
        "id": "view-in-github",
        "colab_type": "text"
      },
      "source": [
        "<a href=\"https://colab.research.google.com/github/rosehelfrich/Ky_School_data/blob/main/Predict_Classification%2C_and_Highly_Impacted_Schools.ipynb\" target=\"_parent\"><img src=\"https://colab.research.google.com/assets/colab-badge.svg\" alt=\"Open In Colab\"/></a>"
      ]
    },
    {
      "cell_type": "code",
      "execution_count": 1,
      "metadata": {
        "id": "mPbt9W2-tujY"
      },
      "outputs": [],
      "source": [
        "import pandas as pd\n",
        "import numpy as np\n",
        "import tensorflow as tf\n",
        "\n",
        "import seaborn as sns\n",
        "import matplotlib.pyplot as plt"
      ]
    },
    {
      "cell_type": "code",
      "source": [
        "from google.colab import drive\n",
        "drive.mount('/content/drive')"
      ],
      "metadata": {
        "colab": {
          "base_uri": "https://localhost:8080/"
        },
        "id": "kl7kadJNt5Pr",
        "outputId": "7f199e24-dd97-4f7e-8389-afc5926a7b39"
      },
      "execution_count": 2,
      "outputs": [
        {
          "output_type": "stream",
          "name": "stdout",
          "text": [
            "Drive already mounted at /content/drive; to attempt to forcibly remount, call drive.mount(\"/content/drive\", force_remount=True).\n"
          ]
        }
      ]
    },
    {
      "cell_type": "code",
      "source": [
        "# Column / Row options\n",
        "pd.options.display.max_columns = None\n",
        "pd.options.display.max_rows = 20\n",
        "\n",
        "# Two decimal places and the thousands separator\n",
        "pd.options.display.float_format = '{:,.2f}'.format"
      ],
      "metadata": {
        "id": "0PIbEaZVE2sd"
      },
      "execution_count": 3,
      "outputs": []
    },
    {
      "cell_type": "markdown",
      "source": [
        "# Merge scores with KY df"
      ],
      "metadata": {
        "id": "VZvOAbpDsZ3n"
      }
    },
    {
      "cell_type": "code",
      "source": [
        "df_scores = pd.read_csv('/content/drive/MyDrive/Colab Data/KY EPSB/All Years/df_scores.csv')"
      ],
      "metadata": {
        "id": "rQt8IcwgE22V"
      },
      "execution_count": 4,
      "outputs": []
    },
    {
      "cell_type": "code",
      "source": [
        "ky_spending_df = pd.read_csv('/content/drive/MyDrive/Colab Data/KY EPSB/All Years/published_ky_df_all.csv')"
      ],
      "metadata": {
        "id": "BGo2xpQoaqro"
      },
      "execution_count": 5,
      "outputs": []
    },
    {
      "cell_type": "code",
      "source": [
        "ky_spending_df = ky_spending_df.loc[:,['End Year', 'School Code', 'Reported Spending per student', 'Money Difference per school',\n",
        "       'Money Difference per student', 'Estimated Spending per student']]"
      ],
      "metadata": {
        "id": "J47qxVBwa0S3"
      },
      "execution_count": 6,
      "outputs": []
    },
    {
      "cell_type": "code",
      "source": [
        "df = pd.merge(df_scores, ky_spending_df, on=['End Year', 'School Code'], how='left')"
      ],
      "metadata": {
        "id": "EEpaGphGQyXx"
      },
      "execution_count": 7,
      "outputs": []
    },
    {
      "cell_type": "code",
      "source": [
        "df.drop_duplicates(inplace=True)\n",
        "\n",
        "# Reset index\n",
        "df.reset_index(drop=True, inplace=True)\n",
        "\n",
        "df.index"
      ],
      "metadata": {
        "id": "P3F23OHZiSji",
        "colab": {
          "base_uri": "https://localhost:8080/"
        },
        "outputId": "b0539472-07ad-4a14-e87f-933bfc46d998"
      },
      "execution_count": 8,
      "outputs": [
        {
          "output_type": "execute_result",
          "data": {
            "text/plain": [
              "RangeIndex(start=0, stop=9892, step=1)"
            ]
          },
          "metadata": {},
          "execution_count": 8
        }
      ]
    },
    {
      "cell_type": "code",
      "source": [
        "columns_df = ['End Year', 'District Code', 'School Code', 'Proficiency Rate', \n",
        "              'Reported Spending per student', 'Money Difference per school', \n",
        "              'Money Difference per student', 'Estimated Spending per student']\n",
        "\n",
        "for column in columns_df:\n",
        "  df = df.round({column:0})\n",
        "  df[column] = df[column].astype(int, errors='ignore')"
      ],
      "metadata": {
        "id": "8R5fkpGrgW3D"
      },
      "execution_count": 9,
      "outputs": []
    },
    {
      "cell_type": "code",
      "source": [
        "# Take out \"/Progressing\"\n",
        "df.replace('Distinguished/Progressing', 'Distinguished', inplace=True)\n",
        "df.replace('Proficient/Progressing', 'Proficient', inplace=True)\n",
        "df.replace('Needs Improvement/Progressing', 'Needs Improvement', inplace=True)"
      ],
      "metadata": {
        "id": "zEUuozLJg7hL"
      },
      "execution_count": 10,
      "outputs": []
    },
    {
      "cell_type": "code",
      "source": [
        "df"
      ],
      "metadata": {
        "id": "z_qni_Q358qD",
        "colab": {
          "base_uri": "https://localhost:8080/",
          "height": 973
        },
        "outputId": "8d2856e0-dc79-4fed-8097-a757c1ebe6ed"
      },
      "execution_count": 11,
      "outputs": [
        {
          "output_type": "execute_result",
          "data": {
            "text/plain": [
              "      End Year  District Code         District  School Code  \\\n",
              "0         2012              1     Adair County         1010   \n",
              "1         2013              1     Adair County         1010   \n",
              "2         2014              1     Adair County         1010   \n",
              "3         2015              1     Adair County         1010   \n",
              "4         2016              1     Adair County         1010   \n",
              "...        ...            ...              ...          ...   \n",
              "9887      2016            601  Woodford County       601120   \n",
              "9888      2017            601  Woodford County       601120   \n",
              "9889      2018            601  Woodford County       601120   \n",
              "9890      2019            601  Woodford County       601120   \n",
              "9891      2022            601  Woodford County       601120   \n",
              "\n",
              "                           School  Proficiency Rate  KY Rank/Rating  \\\n",
              "0        Adair County High School                55           57.00   \n",
              "1        Adair County High School                54           48.00   \n",
              "2        Adair County High School                69           65.00   \n",
              "3        Adair County High School                71           73.00   \n",
              "4        Adair County High School                72             NaN   \n",
              "...                           ...               ...             ...   \n",
              "9887  Northside Elementary School                60             NaN   \n",
              "9888  Northside Elementary School                75             NaN   \n",
              "9889  Northside Elementary School                73             NaN   \n",
              "9890  Northside Elementary School                76             NaN   \n",
              "9891  Northside Elementary School                68             NaN   \n",
              "\n",
              "         Classification  Reported Spending per student  \\\n",
              "0     Needs Improvement                       6,457.00   \n",
              "1     Needs Improvement                       6,377.00   \n",
              "2     Needs Improvement                       6,970.00   \n",
              "3            Proficient                       9,486.00   \n",
              "4            Proficient                      10,270.00   \n",
              "...                 ...                            ...   \n",
              "9887  Needs Improvement                      12,046.00   \n",
              "9888                NaN                       9,940.00   \n",
              "9889                NaN                      13,641.00   \n",
              "9890               High                      11,865.00   \n",
              "9891             Medium                            NaN   \n",
              "\n",
              "      Money Difference per school  Money Difference per student  \\\n",
              "0                      -36,414.00                        -52.00   \n",
              "1                      -37,044.00                        -49.00   \n",
              "2                      -13,146.00                        -18.00   \n",
              "3                      -42,096.00                        -55.00   \n",
              "4                      -19,228.00                        -25.00   \n",
              "...                           ...                           ...   \n",
              "9887                    34,017.00                        107.00   \n",
              "9888                    17,446.00                         53.00   \n",
              "9889                    51,768.00                        150.00   \n",
              "9890                    48,399.00                        142.00   \n",
              "9891                          NaN                           NaN   \n",
              "\n",
              "      Estimated Spending per student  \n",
              "0                           6,405.00  \n",
              "1                           6,328.00  \n",
              "2                           6,952.00  \n",
              "3                           9,431.00  \n",
              "4                          10,245.00  \n",
              "...                              ...  \n",
              "9887                       12,153.00  \n",
              "9888                        9,993.00  \n",
              "9889                       13,791.00  \n",
              "9890                       12,007.00  \n",
              "9891                             NaN  \n",
              "\n",
              "[9892 rows x 12 columns]"
            ],
            "text/html": [
              "\n",
              "  <div id=\"df-b0fbf8e3-54d3-4596-a4ce-f12c77b41a45\">\n",
              "    <div class=\"colab-df-container\">\n",
              "      <div>\n",
              "<style scoped>\n",
              "    .dataframe tbody tr th:only-of-type {\n",
              "        vertical-align: middle;\n",
              "    }\n",
              "\n",
              "    .dataframe tbody tr th {\n",
              "        vertical-align: top;\n",
              "    }\n",
              "\n",
              "    .dataframe thead th {\n",
              "        text-align: right;\n",
              "    }\n",
              "</style>\n",
              "<table border=\"1\" class=\"dataframe\">\n",
              "  <thead>\n",
              "    <tr style=\"text-align: right;\">\n",
              "      <th></th>\n",
              "      <th>End Year</th>\n",
              "      <th>District Code</th>\n",
              "      <th>District</th>\n",
              "      <th>School Code</th>\n",
              "      <th>School</th>\n",
              "      <th>Proficiency Rate</th>\n",
              "      <th>KY Rank/Rating</th>\n",
              "      <th>Classification</th>\n",
              "      <th>Reported Spending per student</th>\n",
              "      <th>Money Difference per school</th>\n",
              "      <th>Money Difference per student</th>\n",
              "      <th>Estimated Spending per student</th>\n",
              "    </tr>\n",
              "  </thead>\n",
              "  <tbody>\n",
              "    <tr>\n",
              "      <th>0</th>\n",
              "      <td>2012</td>\n",
              "      <td>1</td>\n",
              "      <td>Adair County</td>\n",
              "      <td>1010</td>\n",
              "      <td>Adair County High School</td>\n",
              "      <td>55</td>\n",
              "      <td>57.00</td>\n",
              "      <td>Needs Improvement</td>\n",
              "      <td>6,457.00</td>\n",
              "      <td>-36,414.00</td>\n",
              "      <td>-52.00</td>\n",
              "      <td>6,405.00</td>\n",
              "    </tr>\n",
              "    <tr>\n",
              "      <th>1</th>\n",
              "      <td>2013</td>\n",
              "      <td>1</td>\n",
              "      <td>Adair County</td>\n",
              "      <td>1010</td>\n",
              "      <td>Adair County High School</td>\n",
              "      <td>54</td>\n",
              "      <td>48.00</td>\n",
              "      <td>Needs Improvement</td>\n",
              "      <td>6,377.00</td>\n",
              "      <td>-37,044.00</td>\n",
              "      <td>-49.00</td>\n",
              "      <td>6,328.00</td>\n",
              "    </tr>\n",
              "    <tr>\n",
              "      <th>2</th>\n",
              "      <td>2014</td>\n",
              "      <td>1</td>\n",
              "      <td>Adair County</td>\n",
              "      <td>1010</td>\n",
              "      <td>Adair County High School</td>\n",
              "      <td>69</td>\n",
              "      <td>65.00</td>\n",
              "      <td>Needs Improvement</td>\n",
              "      <td>6,970.00</td>\n",
              "      <td>-13,146.00</td>\n",
              "      <td>-18.00</td>\n",
              "      <td>6,952.00</td>\n",
              "    </tr>\n",
              "    <tr>\n",
              "      <th>3</th>\n",
              "      <td>2015</td>\n",
              "      <td>1</td>\n",
              "      <td>Adair County</td>\n",
              "      <td>1010</td>\n",
              "      <td>Adair County High School</td>\n",
              "      <td>71</td>\n",
              "      <td>73.00</td>\n",
              "      <td>Proficient</td>\n",
              "      <td>9,486.00</td>\n",
              "      <td>-42,096.00</td>\n",
              "      <td>-55.00</td>\n",
              "      <td>9,431.00</td>\n",
              "    </tr>\n",
              "    <tr>\n",
              "      <th>4</th>\n",
              "      <td>2016</td>\n",
              "      <td>1</td>\n",
              "      <td>Adair County</td>\n",
              "      <td>1010</td>\n",
              "      <td>Adair County High School</td>\n",
              "      <td>72</td>\n",
              "      <td>NaN</td>\n",
              "      <td>Proficient</td>\n",
              "      <td>10,270.00</td>\n",
              "      <td>-19,228.00</td>\n",
              "      <td>-25.00</td>\n",
              "      <td>10,245.00</td>\n",
              "    </tr>\n",
              "    <tr>\n",
              "      <th>...</th>\n",
              "      <td>...</td>\n",
              "      <td>...</td>\n",
              "      <td>...</td>\n",
              "      <td>...</td>\n",
              "      <td>...</td>\n",
              "      <td>...</td>\n",
              "      <td>...</td>\n",
              "      <td>...</td>\n",
              "      <td>...</td>\n",
              "      <td>...</td>\n",
              "      <td>...</td>\n",
              "      <td>...</td>\n",
              "    </tr>\n",
              "    <tr>\n",
              "      <th>9887</th>\n",
              "      <td>2016</td>\n",
              "      <td>601</td>\n",
              "      <td>Woodford County</td>\n",
              "      <td>601120</td>\n",
              "      <td>Northside Elementary School</td>\n",
              "      <td>60</td>\n",
              "      <td>NaN</td>\n",
              "      <td>Needs Improvement</td>\n",
              "      <td>12,046.00</td>\n",
              "      <td>34,017.00</td>\n",
              "      <td>107.00</td>\n",
              "      <td>12,153.00</td>\n",
              "    </tr>\n",
              "    <tr>\n",
              "      <th>9888</th>\n",
              "      <td>2017</td>\n",
              "      <td>601</td>\n",
              "      <td>Woodford County</td>\n",
              "      <td>601120</td>\n",
              "      <td>Northside Elementary School</td>\n",
              "      <td>75</td>\n",
              "      <td>NaN</td>\n",
              "      <td>NaN</td>\n",
              "      <td>9,940.00</td>\n",
              "      <td>17,446.00</td>\n",
              "      <td>53.00</td>\n",
              "      <td>9,993.00</td>\n",
              "    </tr>\n",
              "    <tr>\n",
              "      <th>9889</th>\n",
              "      <td>2018</td>\n",
              "      <td>601</td>\n",
              "      <td>Woodford County</td>\n",
              "      <td>601120</td>\n",
              "      <td>Northside Elementary School</td>\n",
              "      <td>73</td>\n",
              "      <td>NaN</td>\n",
              "      <td>NaN</td>\n",
              "      <td>13,641.00</td>\n",
              "      <td>51,768.00</td>\n",
              "      <td>150.00</td>\n",
              "      <td>13,791.00</td>\n",
              "    </tr>\n",
              "    <tr>\n",
              "      <th>9890</th>\n",
              "      <td>2019</td>\n",
              "      <td>601</td>\n",
              "      <td>Woodford County</td>\n",
              "      <td>601120</td>\n",
              "      <td>Northside Elementary School</td>\n",
              "      <td>76</td>\n",
              "      <td>NaN</td>\n",
              "      <td>High</td>\n",
              "      <td>11,865.00</td>\n",
              "      <td>48,399.00</td>\n",
              "      <td>142.00</td>\n",
              "      <td>12,007.00</td>\n",
              "    </tr>\n",
              "    <tr>\n",
              "      <th>9891</th>\n",
              "      <td>2022</td>\n",
              "      <td>601</td>\n",
              "      <td>Woodford County</td>\n",
              "      <td>601120</td>\n",
              "      <td>Northside Elementary School</td>\n",
              "      <td>68</td>\n",
              "      <td>NaN</td>\n",
              "      <td>Medium</td>\n",
              "      <td>NaN</td>\n",
              "      <td>NaN</td>\n",
              "      <td>NaN</td>\n",
              "      <td>NaN</td>\n",
              "    </tr>\n",
              "  </tbody>\n",
              "</table>\n",
              "<p>9892 rows × 12 columns</p>\n",
              "</div>\n",
              "      <button class=\"colab-df-convert\" onclick=\"convertToInteractive('df-b0fbf8e3-54d3-4596-a4ce-f12c77b41a45')\"\n",
              "              title=\"Convert this dataframe to an interactive table.\"\n",
              "              style=\"display:none;\">\n",
              "        \n",
              "  <svg xmlns=\"http://www.w3.org/2000/svg\" height=\"24px\"viewBox=\"0 0 24 24\"\n",
              "       width=\"24px\">\n",
              "    <path d=\"M0 0h24v24H0V0z\" fill=\"none\"/>\n",
              "    <path d=\"M18.56 5.44l.94 2.06.94-2.06 2.06-.94-2.06-.94-.94-2.06-.94 2.06-2.06.94zm-11 1L8.5 8.5l.94-2.06 2.06-.94-2.06-.94L8.5 2.5l-.94 2.06-2.06.94zm10 10l.94 2.06.94-2.06 2.06-.94-2.06-.94-.94-2.06-.94 2.06-2.06.94z\"/><path d=\"M17.41 7.96l-1.37-1.37c-.4-.4-.92-.59-1.43-.59-.52 0-1.04.2-1.43.59L10.3 9.45l-7.72 7.72c-.78.78-.78 2.05 0 2.83L4 21.41c.39.39.9.59 1.41.59.51 0 1.02-.2 1.41-.59l7.78-7.78 2.81-2.81c.8-.78.8-2.07 0-2.86zM5.41 20L4 18.59l7.72-7.72 1.47 1.35L5.41 20z\"/>\n",
              "  </svg>\n",
              "      </button>\n",
              "      \n",
              "  <style>\n",
              "    .colab-df-container {\n",
              "      display:flex;\n",
              "      flex-wrap:wrap;\n",
              "      gap: 12px;\n",
              "    }\n",
              "\n",
              "    .colab-df-convert {\n",
              "      background-color: #E8F0FE;\n",
              "      border: none;\n",
              "      border-radius: 50%;\n",
              "      cursor: pointer;\n",
              "      display: none;\n",
              "      fill: #1967D2;\n",
              "      height: 32px;\n",
              "      padding: 0 0 0 0;\n",
              "      width: 32px;\n",
              "    }\n",
              "\n",
              "    .colab-df-convert:hover {\n",
              "      background-color: #E2EBFA;\n",
              "      box-shadow: 0px 1px 2px rgba(60, 64, 67, 0.3), 0px 1px 3px 1px rgba(60, 64, 67, 0.15);\n",
              "      fill: #174EA6;\n",
              "    }\n",
              "\n",
              "    [theme=dark] .colab-df-convert {\n",
              "      background-color: #3B4455;\n",
              "      fill: #D2E3FC;\n",
              "    }\n",
              "\n",
              "    [theme=dark] .colab-df-convert:hover {\n",
              "      background-color: #434B5C;\n",
              "      box-shadow: 0px 1px 3px 1px rgba(0, 0, 0, 0.15);\n",
              "      filter: drop-shadow(0px 1px 2px rgba(0, 0, 0, 0.3));\n",
              "      fill: #FFFFFF;\n",
              "    }\n",
              "  </style>\n",
              "\n",
              "      <script>\n",
              "        const buttonEl =\n",
              "          document.querySelector('#df-b0fbf8e3-54d3-4596-a4ce-f12c77b41a45 button.colab-df-convert');\n",
              "        buttonEl.style.display =\n",
              "          google.colab.kernel.accessAllowed ? 'block' : 'none';\n",
              "\n",
              "        async function convertToInteractive(key) {\n",
              "          const element = document.querySelector('#df-b0fbf8e3-54d3-4596-a4ce-f12c77b41a45');\n",
              "          const dataTable =\n",
              "            await google.colab.kernel.invokeFunction('convertToInteractive',\n",
              "                                                     [key], {});\n",
              "          if (!dataTable) return;\n",
              "\n",
              "          const docLinkHtml = 'Like what you see? Visit the ' +\n",
              "            '<a target=\"_blank\" href=https://colab.research.google.com/notebooks/data_table.ipynb>data table notebook</a>'\n",
              "            + ' to learn more about interactive tables.';\n",
              "          element.innerHTML = '';\n",
              "          dataTable['output_type'] = 'display_data';\n",
              "          await google.colab.output.renderOutput(dataTable, element);\n",
              "          const docLink = document.createElement('div');\n",
              "          docLink.innerHTML = docLinkHtml;\n",
              "          element.appendChild(docLink);\n",
              "        }\n",
              "      </script>\n",
              "    </div>\n",
              "  </div>\n",
              "  "
            ]
          },
          "metadata": {},
          "execution_count": 11
        }
      ]
    },
    {
      "cell_type": "code",
      "source": [
        "df.info()"
      ],
      "metadata": {
        "colab": {
          "base_uri": "https://localhost:8080/"
        },
        "id": "v-pdUJB2QylF",
        "outputId": "e36c84ff-fd46-42b9-e9c7-a0346fdb0339"
      },
      "execution_count": 12,
      "outputs": [
        {
          "output_type": "stream",
          "name": "stdout",
          "text": [
            "<class 'pandas.core.frame.DataFrame'>\n",
            "RangeIndex: 9892 entries, 0 to 9891\n",
            "Data columns (total 12 columns):\n",
            " #   Column                          Non-Null Count  Dtype  \n",
            "---  ------                          --------------  -----  \n",
            " 0   End Year                        9892 non-null   int64  \n",
            " 1   District Code                   9892 non-null   int64  \n",
            " 2   District                        9892 non-null   object \n",
            " 3   School Code                     9892 non-null   int64  \n",
            " 4   School                          9892 non-null   object \n",
            " 5   Proficiency Rate                9892 non-null   int64  \n",
            " 6   KY Rank/Rating                  4309 non-null   float64\n",
            " 7   Classification                  7673 non-null   object \n",
            " 8   Reported Spending per student   8637 non-null   float64\n",
            " 9   Money Difference per school     8637 non-null   float64\n",
            " 10  Money Difference per student    8637 non-null   float64\n",
            " 11  Estimated Spending per student  8637 non-null   float64\n",
            "dtypes: float64(5), int64(4), object(3)\n",
            "memory usage: 927.5+ KB\n"
          ]
        }
      ]
    },
    {
      "cell_type": "code",
      "source": [
        "df['Classification'].value_counts(dropna=False)"
      ],
      "metadata": {
        "id": "bPpdwu7swwYx",
        "colab": {
          "base_uri": "https://localhost:8080/"
        },
        "outputId": "ba6c8e8d-c3b2-41d7-de1e-17b0b5859eaf"
      },
      "execution_count": 13,
      "outputs": [
        {
          "output_type": "execute_result",
          "data": {
            "text/plain": [
              "Needs Improvement    2821\n",
              "NaN                  2219\n",
              "Proficient           1370\n",
              "Distinguished        1209\n",
              "Medium                783\n",
              "Low                   646\n",
              "High                  483\n",
              "Very Low              193\n",
              "Very High             168\n",
              "Name: Classification, dtype: int64"
            ]
          },
          "metadata": {},
          "execution_count": 13
        }
      ]
    },
    {
      "cell_type": "code",
      "source": [
        "df['KY Rank/Rating'].value_counts().head(12)"
      ],
      "metadata": {
        "colab": {
          "base_uri": "https://localhost:8080/"
        },
        "id": "EJGfbN2LgTQP",
        "outputId": "6fb4e671-3bf8-4f1d-fbc8-157c7c217f7f"
      },
      "execution_count": 14,
      "outputs": [
        {
          "output_type": "execute_result",
          "data": {
            "text/plain": [
              "99.00    113\n",
              "94.00    112\n",
              "91.00     88\n",
              "98.00     86\n",
              "96.00     76\n",
              "95.00     73\n",
              "90.00     70\n",
              "64.00     68\n",
              "73.00     68\n",
              "88.00     66\n",
              "77.00     64\n",
              "87.00     64\n",
              "Name: KY Rank/Rating, dtype: int64"
            ]
          },
          "metadata": {},
          "execution_count": 14
        }
      ]
    },
    {
      "cell_type": "code",
      "source": [
        "df[df['School']=='Knight Middle']"
      ],
      "metadata": {
        "colab": {
          "base_uri": "https://localhost:8080/",
          "height": 604
        },
        "id": "f40KNCl0gTWd",
        "outputId": "055037ac-aa51-4810-8853-6102e1474f09"
      },
      "execution_count": 15,
      "outputs": [
        {
          "output_type": "execute_result",
          "data": {
            "text/plain": [
              "      End Year  District Code          District  School Code         School  \\\n",
              "5219      2012            275  Jefferson County       275163  Knight Middle   \n",
              "5220      2013            275  Jefferson County       275163  Knight Middle   \n",
              "5221      2014            275  Jefferson County       275163  Knight Middle   \n",
              "5222      2015            275  Jefferson County       275163  Knight Middle   \n",
              "5223      2016            275  Jefferson County       275163  Knight Middle   \n",
              "5224      2017            275  Jefferson County       275163  Knight Middle   \n",
              "5225      2018            275  Jefferson County       275163  Knight Middle   \n",
              "5226      2019            275  Jefferson County       275163  Knight Middle   \n",
              "5227      2022            275  Jefferson County       275163  Knight Middle   \n",
              "\n",
              "      Proficiency Rate  KY Rank/Rating     Classification  \\\n",
              "5219                36            3.00  Needs Improvement   \n",
              "5220                34            2.00  Needs Improvement   \n",
              "5221                45            5.00  Needs Improvement   \n",
              "5222                52           16.00  Needs Improvement   \n",
              "5223                53             NaN  Needs Improvement   \n",
              "5224                48             NaN                NaN   \n",
              "5225                44             NaN                NaN   \n",
              "5226                48             NaN           Very Low   \n",
              "5227                34             NaN           Very Low   \n",
              "\n",
              "      Reported Spending per student  Money Difference per school  \\\n",
              "5219                      10,116.00                  -298,320.00   \n",
              "5220                      11,297.00                  -274,758.00   \n",
              "5221                      11,846.00                  -229,908.00   \n",
              "5222                      10,348.00                  -268,100.00   \n",
              "5223                      13,993.00                  -246,825.00   \n",
              "5224                      14,973.00                  -273,364.00   \n",
              "5225                      16,380.00                  -226,464.00   \n",
              "5226                      16,642.00                  -304,260.00   \n",
              "5227                            NaN                          NaN   \n",
              "\n",
              "      Money Difference per student  Estimated Spending per student  \n",
              "5219                       -689.00                        9,427.00  \n",
              "5220                       -620.00                       10,677.00  \n",
              "5221                       -557.00                       11,289.00  \n",
              "5222                       -638.00                        9,710.00  \n",
              "5223                       -589.00                       13,404.00  \n",
              "5224                       -677.00                       14,296.00  \n",
              "5225                       -522.00                       15,858.00  \n",
              "5226                       -690.00                       15,952.00  \n",
              "5227                           NaN                             NaN  "
            ],
            "text/html": [
              "\n",
              "  <div id=\"df-e0114095-b123-42ec-8f33-2515424c1bbb\">\n",
              "    <div class=\"colab-df-container\">\n",
              "      <div>\n",
              "<style scoped>\n",
              "    .dataframe tbody tr th:only-of-type {\n",
              "        vertical-align: middle;\n",
              "    }\n",
              "\n",
              "    .dataframe tbody tr th {\n",
              "        vertical-align: top;\n",
              "    }\n",
              "\n",
              "    .dataframe thead th {\n",
              "        text-align: right;\n",
              "    }\n",
              "</style>\n",
              "<table border=\"1\" class=\"dataframe\">\n",
              "  <thead>\n",
              "    <tr style=\"text-align: right;\">\n",
              "      <th></th>\n",
              "      <th>End Year</th>\n",
              "      <th>District Code</th>\n",
              "      <th>District</th>\n",
              "      <th>School Code</th>\n",
              "      <th>School</th>\n",
              "      <th>Proficiency Rate</th>\n",
              "      <th>KY Rank/Rating</th>\n",
              "      <th>Classification</th>\n",
              "      <th>Reported Spending per student</th>\n",
              "      <th>Money Difference per school</th>\n",
              "      <th>Money Difference per student</th>\n",
              "      <th>Estimated Spending per student</th>\n",
              "    </tr>\n",
              "  </thead>\n",
              "  <tbody>\n",
              "    <tr>\n",
              "      <th>5219</th>\n",
              "      <td>2012</td>\n",
              "      <td>275</td>\n",
              "      <td>Jefferson County</td>\n",
              "      <td>275163</td>\n",
              "      <td>Knight Middle</td>\n",
              "      <td>36</td>\n",
              "      <td>3.00</td>\n",
              "      <td>Needs Improvement</td>\n",
              "      <td>10,116.00</td>\n",
              "      <td>-298,320.00</td>\n",
              "      <td>-689.00</td>\n",
              "      <td>9,427.00</td>\n",
              "    </tr>\n",
              "    <tr>\n",
              "      <th>5220</th>\n",
              "      <td>2013</td>\n",
              "      <td>275</td>\n",
              "      <td>Jefferson County</td>\n",
              "      <td>275163</td>\n",
              "      <td>Knight Middle</td>\n",
              "      <td>34</td>\n",
              "      <td>2.00</td>\n",
              "      <td>Needs Improvement</td>\n",
              "      <td>11,297.00</td>\n",
              "      <td>-274,758.00</td>\n",
              "      <td>-620.00</td>\n",
              "      <td>10,677.00</td>\n",
              "    </tr>\n",
              "    <tr>\n",
              "      <th>5221</th>\n",
              "      <td>2014</td>\n",
              "      <td>275</td>\n",
              "      <td>Jefferson County</td>\n",
              "      <td>275163</td>\n",
              "      <td>Knight Middle</td>\n",
              "      <td>45</td>\n",
              "      <td>5.00</td>\n",
              "      <td>Needs Improvement</td>\n",
              "      <td>11,846.00</td>\n",
              "      <td>-229,908.00</td>\n",
              "      <td>-557.00</td>\n",
              "      <td>11,289.00</td>\n",
              "    </tr>\n",
              "    <tr>\n",
              "      <th>5222</th>\n",
              "      <td>2015</td>\n",
              "      <td>275</td>\n",
              "      <td>Jefferson County</td>\n",
              "      <td>275163</td>\n",
              "      <td>Knight Middle</td>\n",
              "      <td>52</td>\n",
              "      <td>16.00</td>\n",
              "      <td>Needs Improvement</td>\n",
              "      <td>10,348.00</td>\n",
              "      <td>-268,100.00</td>\n",
              "      <td>-638.00</td>\n",
              "      <td>9,710.00</td>\n",
              "    </tr>\n",
              "    <tr>\n",
              "      <th>5223</th>\n",
              "      <td>2016</td>\n",
              "      <td>275</td>\n",
              "      <td>Jefferson County</td>\n",
              "      <td>275163</td>\n",
              "      <td>Knight Middle</td>\n",
              "      <td>53</td>\n",
              "      <td>NaN</td>\n",
              "      <td>Needs Improvement</td>\n",
              "      <td>13,993.00</td>\n",
              "      <td>-246,825.00</td>\n",
              "      <td>-589.00</td>\n",
              "      <td>13,404.00</td>\n",
              "    </tr>\n",
              "    <tr>\n",
              "      <th>5224</th>\n",
              "      <td>2017</td>\n",
              "      <td>275</td>\n",
              "      <td>Jefferson County</td>\n",
              "      <td>275163</td>\n",
              "      <td>Knight Middle</td>\n",
              "      <td>48</td>\n",
              "      <td>NaN</td>\n",
              "      <td>NaN</td>\n",
              "      <td>14,973.00</td>\n",
              "      <td>-273,364.00</td>\n",
              "      <td>-677.00</td>\n",
              "      <td>14,296.00</td>\n",
              "    </tr>\n",
              "    <tr>\n",
              "      <th>5225</th>\n",
              "      <td>2018</td>\n",
              "      <td>275</td>\n",
              "      <td>Jefferson County</td>\n",
              "      <td>275163</td>\n",
              "      <td>Knight Middle</td>\n",
              "      <td>44</td>\n",
              "      <td>NaN</td>\n",
              "      <td>NaN</td>\n",
              "      <td>16,380.00</td>\n",
              "      <td>-226,464.00</td>\n",
              "      <td>-522.00</td>\n",
              "      <td>15,858.00</td>\n",
              "    </tr>\n",
              "    <tr>\n",
              "      <th>5226</th>\n",
              "      <td>2019</td>\n",
              "      <td>275</td>\n",
              "      <td>Jefferson County</td>\n",
              "      <td>275163</td>\n",
              "      <td>Knight Middle</td>\n",
              "      <td>48</td>\n",
              "      <td>NaN</td>\n",
              "      <td>Very Low</td>\n",
              "      <td>16,642.00</td>\n",
              "      <td>-304,260.00</td>\n",
              "      <td>-690.00</td>\n",
              "      <td>15,952.00</td>\n",
              "    </tr>\n",
              "    <tr>\n",
              "      <th>5227</th>\n",
              "      <td>2022</td>\n",
              "      <td>275</td>\n",
              "      <td>Jefferson County</td>\n",
              "      <td>275163</td>\n",
              "      <td>Knight Middle</td>\n",
              "      <td>34</td>\n",
              "      <td>NaN</td>\n",
              "      <td>Very Low</td>\n",
              "      <td>NaN</td>\n",
              "      <td>NaN</td>\n",
              "      <td>NaN</td>\n",
              "      <td>NaN</td>\n",
              "    </tr>\n",
              "  </tbody>\n",
              "</table>\n",
              "</div>\n",
              "      <button class=\"colab-df-convert\" onclick=\"convertToInteractive('df-e0114095-b123-42ec-8f33-2515424c1bbb')\"\n",
              "              title=\"Convert this dataframe to an interactive table.\"\n",
              "              style=\"display:none;\">\n",
              "        \n",
              "  <svg xmlns=\"http://www.w3.org/2000/svg\" height=\"24px\"viewBox=\"0 0 24 24\"\n",
              "       width=\"24px\">\n",
              "    <path d=\"M0 0h24v24H0V0z\" fill=\"none\"/>\n",
              "    <path d=\"M18.56 5.44l.94 2.06.94-2.06 2.06-.94-2.06-.94-.94-2.06-.94 2.06-2.06.94zm-11 1L8.5 8.5l.94-2.06 2.06-.94-2.06-.94L8.5 2.5l-.94 2.06-2.06.94zm10 10l.94 2.06.94-2.06 2.06-.94-2.06-.94-.94-2.06-.94 2.06-2.06.94z\"/><path d=\"M17.41 7.96l-1.37-1.37c-.4-.4-.92-.59-1.43-.59-.52 0-1.04.2-1.43.59L10.3 9.45l-7.72 7.72c-.78.78-.78 2.05 0 2.83L4 21.41c.39.39.9.59 1.41.59.51 0 1.02-.2 1.41-.59l7.78-7.78 2.81-2.81c.8-.78.8-2.07 0-2.86zM5.41 20L4 18.59l7.72-7.72 1.47 1.35L5.41 20z\"/>\n",
              "  </svg>\n",
              "      </button>\n",
              "      \n",
              "  <style>\n",
              "    .colab-df-container {\n",
              "      display:flex;\n",
              "      flex-wrap:wrap;\n",
              "      gap: 12px;\n",
              "    }\n",
              "\n",
              "    .colab-df-convert {\n",
              "      background-color: #E8F0FE;\n",
              "      border: none;\n",
              "      border-radius: 50%;\n",
              "      cursor: pointer;\n",
              "      display: none;\n",
              "      fill: #1967D2;\n",
              "      height: 32px;\n",
              "      padding: 0 0 0 0;\n",
              "      width: 32px;\n",
              "    }\n",
              "\n",
              "    .colab-df-convert:hover {\n",
              "      background-color: #E2EBFA;\n",
              "      box-shadow: 0px 1px 2px rgba(60, 64, 67, 0.3), 0px 1px 3px 1px rgba(60, 64, 67, 0.15);\n",
              "      fill: #174EA6;\n",
              "    }\n",
              "\n",
              "    [theme=dark] .colab-df-convert {\n",
              "      background-color: #3B4455;\n",
              "      fill: #D2E3FC;\n",
              "    }\n",
              "\n",
              "    [theme=dark] .colab-df-convert:hover {\n",
              "      background-color: #434B5C;\n",
              "      box-shadow: 0px 1px 3px 1px rgba(0, 0, 0, 0.15);\n",
              "      filter: drop-shadow(0px 1px 2px rgba(0, 0, 0, 0.3));\n",
              "      fill: #FFFFFF;\n",
              "    }\n",
              "  </style>\n",
              "\n",
              "      <script>\n",
              "        const buttonEl =\n",
              "          document.querySelector('#df-e0114095-b123-42ec-8f33-2515424c1bbb button.colab-df-convert');\n",
              "        buttonEl.style.display =\n",
              "          google.colab.kernel.accessAllowed ? 'block' : 'none';\n",
              "\n",
              "        async function convertToInteractive(key) {\n",
              "          const element = document.querySelector('#df-e0114095-b123-42ec-8f33-2515424c1bbb');\n",
              "          const dataTable =\n",
              "            await google.colab.kernel.invokeFunction('convertToInteractive',\n",
              "                                                     [key], {});\n",
              "          if (!dataTable) return;\n",
              "\n",
              "          const docLinkHtml = 'Like what you see? Visit the ' +\n",
              "            '<a target=\"_blank\" href=https://colab.research.google.com/notebooks/data_table.ipynb>data table notebook</a>'\n",
              "            + ' to learn more about interactive tables.';\n",
              "          element.innerHTML = '';\n",
              "          dataTable['output_type'] = 'display_data';\n",
              "          await google.colab.output.renderOutput(dataTable, element);\n",
              "          const docLink = document.createElement('div');\n",
              "          docLink.innerHTML = docLinkHtml;\n",
              "          element.appendChild(docLink);\n",
              "        }\n",
              "      </script>\n",
              "    </div>\n",
              "  </div>\n",
              "  "
            ]
          },
          "metadata": {},
          "execution_count": 15
        }
      ]
    },
    {
      "cell_type": "code",
      "source": [
        "df.info()"
      ],
      "metadata": {
        "colab": {
          "base_uri": "https://localhost:8080/"
        },
        "id": "pvqzir_kgTZE",
        "outputId": "525dd200-a19c-4376-a8f6-30539fe98c34"
      },
      "execution_count": 16,
      "outputs": [
        {
          "output_type": "stream",
          "name": "stdout",
          "text": [
            "<class 'pandas.core.frame.DataFrame'>\n",
            "RangeIndex: 9892 entries, 0 to 9891\n",
            "Data columns (total 12 columns):\n",
            " #   Column                          Non-Null Count  Dtype  \n",
            "---  ------                          --------------  -----  \n",
            " 0   End Year                        9892 non-null   int64  \n",
            " 1   District Code                   9892 non-null   int64  \n",
            " 2   District                        9892 non-null   object \n",
            " 3   School Code                     9892 non-null   int64  \n",
            " 4   School                          9892 non-null   object \n",
            " 5   Proficiency Rate                9892 non-null   int64  \n",
            " 6   KY Rank/Rating                  4309 non-null   float64\n",
            " 7   Classification                  7673 non-null   object \n",
            " 8   Reported Spending per student   8637 non-null   float64\n",
            " 9   Money Difference per school     8637 non-null   float64\n",
            " 10  Money Difference per student    8637 non-null   float64\n",
            " 11  Estimated Spending per student  8637 non-null   float64\n",
            "dtypes: float64(5), int64(4), object(3)\n",
            "memory usage: 927.5+ KB\n"
          ]
        }
      ]
    },
    {
      "cell_type": "code",
      "source": [
        "df['Classification'].unique()"
      ],
      "metadata": {
        "id": "HNLuISOhgTkQ",
        "colab": {
          "base_uri": "https://localhost:8080/"
        },
        "outputId": "edfb72df-f639-49e0-e566-42b5bd1a6c77"
      },
      "execution_count": 17,
      "outputs": [
        {
          "output_type": "execute_result",
          "data": {
            "text/plain": [
              "array(['Needs Improvement', 'Proficient', nan, 'Medium', 'High', 'Low',\n",
              "       'Distinguished', 'Very High', 'Very Low'], dtype=object)"
            ]
          },
          "metadata": {},
          "execution_count": 17
        }
      ]
    },
    {
      "cell_type": "code",
      "source": [
        "df['KY Rank/Rating'].unique()"
      ],
      "metadata": {
        "id": "mC0vzmbCgTmm",
        "colab": {
          "base_uri": "https://localhost:8080/"
        },
        "outputId": "1656de64-ed34-4beb-ad15-6d06231d0a59"
      },
      "execution_count": 18,
      "outputs": [
        {
          "output_type": "execute_result",
          "data": {
            "text/plain": [
              "array([57., 48., 65., 73., nan, 25., 46., 58., 71., 40., 22., 56., 75.,\n",
              "       60., 64., 89., 84., 27., 81., 74., 45., 52., 93., 99., 98., 76.,\n",
              "       79., 62., 80., 44., 49., 34., 70., 72., 68., 55., 92., 86., 85.,\n",
              "       59., 77., 17., 43., 88., 67., 12., 32., 94., 95., 36., 53., 10.,\n",
              "        9., 37., 29., 26., 42., 66., 63., 23., 50., 87., 91., 83., 96.,\n",
              "       54., 47., 78., 39., 16., 51., 90., 31., 15., 13.,  3., 14., 19.,\n",
              "       33.,  6., 28., 20.,  5., 38., 61., 97., 82., 21., 24., 35., 69.,\n",
              "       18.,  8., 41., 30.,  7., 11.,  1.,  4.,  2.])"
            ]
          },
          "metadata": {},
          "execution_count": 18
        }
      ]
    },
    {
      "cell_type": "code",
      "source": [
        "df['Classification'].value_counts(dropna=False)"
      ],
      "metadata": {
        "id": "3110IaY_gTo8",
        "colab": {
          "base_uri": "https://localhost:8080/"
        },
        "outputId": "41f73360-6655-46ff-9ffd-d8698ec91dd3"
      },
      "execution_count": 19,
      "outputs": [
        {
          "output_type": "execute_result",
          "data": {
            "text/plain": [
              "Needs Improvement    2821\n",
              "NaN                  2219\n",
              "Proficient           1370\n",
              "Distinguished        1209\n",
              "Medium                783\n",
              "Low                   646\n",
              "High                  483\n",
              "Very Low              193\n",
              "Very High             168\n",
              "Name: Classification, dtype: int64"
            ]
          },
          "metadata": {},
          "execution_count": 19
        }
      ]
    },
    {
      "cell_type": "markdown",
      "source": [
        "# Predict classification "
      ],
      "metadata": {
        "id": "Nc5nEWiItzSE"
      }
    },
    {
      "cell_type": "code",
      "source": [
        "# from sklearn import preprocessing\n",
        "from sklearn.preprocessing import StandardScaler\n",
        "from sklearn.model_selection import train_test_split"
      ],
      "metadata": {
        "id": "9v137r5eYtAL"
      },
      "execution_count": 20,
      "outputs": []
    },
    {
      "cell_type": "code",
      "source": [
        "predict_df = df.copy()"
      ],
      "metadata": {
        "id": "ENpjqqJnyK1j"
      },
      "execution_count": 21,
      "outputs": []
    },
    {
      "cell_type": "code",
      "source": [
        "# In the Ky Rank column, make this common language.\n",
        "predict_df.replace('Very High', 'Distinguished', inplace=True)\n",
        "predict_df.replace('High', 'Distinguished', inplace=True)\n",
        "predict_df.replace('Medium', 'Proficient', inplace=True)\n",
        "predict_df.replace('Low', 'Needs Improvement', inplace=True)\n",
        "predict_df.replace('Very Low', 'Needs Improvement', inplace=True)"
      ],
      "metadata": {
        "id": "byqfg-RBtyBp"
      },
      "execution_count": 22,
      "outputs": []
    },
    {
      "cell_type": "code",
      "source": [
        "predict_df = predict_df.round({'Reported Spending per student': -1, 'Money Difference per school': -2, \n",
        "                               'Money Difference per student':-1, 'Estimated Spending per student': 1})"
      ],
      "metadata": {
        "id": "vCjuxKnHpvDX"
      },
      "execution_count": 23,
      "outputs": []
    },
    {
      "cell_type": "code",
      "source": [
        "def fill_nulls_w_avg(column):\n",
        "  avg_by_school_code = predict_df.groupby(['School Code']).mean()\n",
        "  rows_to_update = predict_df[predict_df[column].isnull()]\n",
        "\n",
        "  for index in rows_to_update.index:\n",
        "    school_code = rows_to_update['School Code'][index]\n",
        "    avg = avg_by_school_code.loc[school_code, column]\n",
        "    predict_df.loc[index, column] = avg"
      ],
      "metadata": {
        "id": "cGT_ncjCjD8b"
      },
      "execution_count": 24,
      "outputs": []
    },
    {
      "cell_type": "code",
      "source": [
        "# Use function to fill in select columns with the average school information. \n",
        "fill_nulls_w_avg('Reported Spending per student')\n",
        "fill_nulls_w_avg('Money Difference per school')\n",
        "fill_nulls_w_avg('Money Difference per student')\n",
        "fill_nulls_w_avg('Estimated Spending per student')"
      ],
      "metadata": {
        "id": "FXRcdOlCmihb"
      },
      "execution_count": 25,
      "outputs": []
    },
    {
      "cell_type": "code",
      "source": [
        "predict_df"
      ],
      "metadata": {
        "colab": {
          "base_uri": "https://localhost:8080/",
          "height": 973
        },
        "id": "a6KONeftmrS2",
        "outputId": "f9d58a31-b633-4324-8f9d-93ba02027781"
      },
      "execution_count": 26,
      "outputs": [
        {
          "output_type": "execute_result",
          "data": {
            "text/plain": [
              "      End Year  District Code         District  School Code  \\\n",
              "0         2012              1     Adair County         1010   \n",
              "1         2013              1     Adair County         1010   \n",
              "2         2014              1     Adair County         1010   \n",
              "3         2015              1     Adair County         1010   \n",
              "4         2016              1     Adair County         1010   \n",
              "...        ...            ...              ...          ...   \n",
              "9887      2016            601  Woodford County       601120   \n",
              "9888      2017            601  Woodford County       601120   \n",
              "9889      2018            601  Woodford County       601120   \n",
              "9890      2019            601  Woodford County       601120   \n",
              "9891      2022            601  Woodford County       601120   \n",
              "\n",
              "                           School  Proficiency Rate  KY Rank/Rating  \\\n",
              "0        Adair County High School                55           57.00   \n",
              "1        Adair County High School                54           48.00   \n",
              "2        Adair County High School                69           65.00   \n",
              "3        Adair County High School                71           73.00   \n",
              "4        Adair County High School                72             NaN   \n",
              "...                           ...               ...             ...   \n",
              "9887  Northside Elementary School                60             NaN   \n",
              "9888  Northside Elementary School                75             NaN   \n",
              "9889  Northside Elementary School                73             NaN   \n",
              "9890  Northside Elementary School                76             NaN   \n",
              "9891  Northside Elementary School                68             NaN   \n",
              "\n",
              "         Classification  Reported Spending per student  \\\n",
              "0     Needs Improvement                       6,460.00   \n",
              "1     Needs Improvement                       6,380.00   \n",
              "2     Needs Improvement                       6,970.00   \n",
              "3            Proficient                       9,490.00   \n",
              "4            Proficient                      10,270.00   \n",
              "...                 ...                            ...   \n",
              "9887  Needs Improvement                      12,050.00   \n",
              "9888                NaN                       9,940.00   \n",
              "9889                NaN                      13,640.00   \n",
              "9890      Distinguished                      11,860.00   \n",
              "9891         Proficient                      12,173.75   \n",
              "\n",
              "      Money Difference per school  Money Difference per student  \\\n",
              "0                      -36,400.00                        -50.00   \n",
              "1                      -37,000.00                        -50.00   \n",
              "2                      -13,100.00                        -20.00   \n",
              "3                      -42,100.00                        -60.00   \n",
              "4                      -19,200.00                        -20.00   \n",
              "...                           ...                           ...   \n",
              "9887                    34,000.00                        110.00   \n",
              "9888                    17,400.00                         50.00   \n",
              "9889                    51,800.00                        150.00   \n",
              "9890                    48,400.00                        140.00   \n",
              "9891                    47,887.50                        151.25   \n",
              "\n",
              "      Estimated Spending per student  \n",
              "0                           6,405.00  \n",
              "1                           6,328.00  \n",
              "2                           6,952.00  \n",
              "3                           9,431.00  \n",
              "4                          10,245.00  \n",
              "...                              ...  \n",
              "9887                       12,153.00  \n",
              "9888                        9,993.00  \n",
              "9889                       13,791.00  \n",
              "9890                       12,007.00  \n",
              "9891                       12,324.50  \n",
              "\n",
              "[9892 rows x 12 columns]"
            ],
            "text/html": [
              "\n",
              "  <div id=\"df-7928609a-be20-48c2-8ead-cb961486594b\">\n",
              "    <div class=\"colab-df-container\">\n",
              "      <div>\n",
              "<style scoped>\n",
              "    .dataframe tbody tr th:only-of-type {\n",
              "        vertical-align: middle;\n",
              "    }\n",
              "\n",
              "    .dataframe tbody tr th {\n",
              "        vertical-align: top;\n",
              "    }\n",
              "\n",
              "    .dataframe thead th {\n",
              "        text-align: right;\n",
              "    }\n",
              "</style>\n",
              "<table border=\"1\" class=\"dataframe\">\n",
              "  <thead>\n",
              "    <tr style=\"text-align: right;\">\n",
              "      <th></th>\n",
              "      <th>End Year</th>\n",
              "      <th>District Code</th>\n",
              "      <th>District</th>\n",
              "      <th>School Code</th>\n",
              "      <th>School</th>\n",
              "      <th>Proficiency Rate</th>\n",
              "      <th>KY Rank/Rating</th>\n",
              "      <th>Classification</th>\n",
              "      <th>Reported Spending per student</th>\n",
              "      <th>Money Difference per school</th>\n",
              "      <th>Money Difference per student</th>\n",
              "      <th>Estimated Spending per student</th>\n",
              "    </tr>\n",
              "  </thead>\n",
              "  <tbody>\n",
              "    <tr>\n",
              "      <th>0</th>\n",
              "      <td>2012</td>\n",
              "      <td>1</td>\n",
              "      <td>Adair County</td>\n",
              "      <td>1010</td>\n",
              "      <td>Adair County High School</td>\n",
              "      <td>55</td>\n",
              "      <td>57.00</td>\n",
              "      <td>Needs Improvement</td>\n",
              "      <td>6,460.00</td>\n",
              "      <td>-36,400.00</td>\n",
              "      <td>-50.00</td>\n",
              "      <td>6,405.00</td>\n",
              "    </tr>\n",
              "    <tr>\n",
              "      <th>1</th>\n",
              "      <td>2013</td>\n",
              "      <td>1</td>\n",
              "      <td>Adair County</td>\n",
              "      <td>1010</td>\n",
              "      <td>Adair County High School</td>\n",
              "      <td>54</td>\n",
              "      <td>48.00</td>\n",
              "      <td>Needs Improvement</td>\n",
              "      <td>6,380.00</td>\n",
              "      <td>-37,000.00</td>\n",
              "      <td>-50.00</td>\n",
              "      <td>6,328.00</td>\n",
              "    </tr>\n",
              "    <tr>\n",
              "      <th>2</th>\n",
              "      <td>2014</td>\n",
              "      <td>1</td>\n",
              "      <td>Adair County</td>\n",
              "      <td>1010</td>\n",
              "      <td>Adair County High School</td>\n",
              "      <td>69</td>\n",
              "      <td>65.00</td>\n",
              "      <td>Needs Improvement</td>\n",
              "      <td>6,970.00</td>\n",
              "      <td>-13,100.00</td>\n",
              "      <td>-20.00</td>\n",
              "      <td>6,952.00</td>\n",
              "    </tr>\n",
              "    <tr>\n",
              "      <th>3</th>\n",
              "      <td>2015</td>\n",
              "      <td>1</td>\n",
              "      <td>Adair County</td>\n",
              "      <td>1010</td>\n",
              "      <td>Adair County High School</td>\n",
              "      <td>71</td>\n",
              "      <td>73.00</td>\n",
              "      <td>Proficient</td>\n",
              "      <td>9,490.00</td>\n",
              "      <td>-42,100.00</td>\n",
              "      <td>-60.00</td>\n",
              "      <td>9,431.00</td>\n",
              "    </tr>\n",
              "    <tr>\n",
              "      <th>4</th>\n",
              "      <td>2016</td>\n",
              "      <td>1</td>\n",
              "      <td>Adair County</td>\n",
              "      <td>1010</td>\n",
              "      <td>Adair County High School</td>\n",
              "      <td>72</td>\n",
              "      <td>NaN</td>\n",
              "      <td>Proficient</td>\n",
              "      <td>10,270.00</td>\n",
              "      <td>-19,200.00</td>\n",
              "      <td>-20.00</td>\n",
              "      <td>10,245.00</td>\n",
              "    </tr>\n",
              "    <tr>\n",
              "      <th>...</th>\n",
              "      <td>...</td>\n",
              "      <td>...</td>\n",
              "      <td>...</td>\n",
              "      <td>...</td>\n",
              "      <td>...</td>\n",
              "      <td>...</td>\n",
              "      <td>...</td>\n",
              "      <td>...</td>\n",
              "      <td>...</td>\n",
              "      <td>...</td>\n",
              "      <td>...</td>\n",
              "      <td>...</td>\n",
              "    </tr>\n",
              "    <tr>\n",
              "      <th>9887</th>\n",
              "      <td>2016</td>\n",
              "      <td>601</td>\n",
              "      <td>Woodford County</td>\n",
              "      <td>601120</td>\n",
              "      <td>Northside Elementary School</td>\n",
              "      <td>60</td>\n",
              "      <td>NaN</td>\n",
              "      <td>Needs Improvement</td>\n",
              "      <td>12,050.00</td>\n",
              "      <td>34,000.00</td>\n",
              "      <td>110.00</td>\n",
              "      <td>12,153.00</td>\n",
              "    </tr>\n",
              "    <tr>\n",
              "      <th>9888</th>\n",
              "      <td>2017</td>\n",
              "      <td>601</td>\n",
              "      <td>Woodford County</td>\n",
              "      <td>601120</td>\n",
              "      <td>Northside Elementary School</td>\n",
              "      <td>75</td>\n",
              "      <td>NaN</td>\n",
              "      <td>NaN</td>\n",
              "      <td>9,940.00</td>\n",
              "      <td>17,400.00</td>\n",
              "      <td>50.00</td>\n",
              "      <td>9,993.00</td>\n",
              "    </tr>\n",
              "    <tr>\n",
              "      <th>9889</th>\n",
              "      <td>2018</td>\n",
              "      <td>601</td>\n",
              "      <td>Woodford County</td>\n",
              "      <td>601120</td>\n",
              "      <td>Northside Elementary School</td>\n",
              "      <td>73</td>\n",
              "      <td>NaN</td>\n",
              "      <td>NaN</td>\n",
              "      <td>13,640.00</td>\n",
              "      <td>51,800.00</td>\n",
              "      <td>150.00</td>\n",
              "      <td>13,791.00</td>\n",
              "    </tr>\n",
              "    <tr>\n",
              "      <th>9890</th>\n",
              "      <td>2019</td>\n",
              "      <td>601</td>\n",
              "      <td>Woodford County</td>\n",
              "      <td>601120</td>\n",
              "      <td>Northside Elementary School</td>\n",
              "      <td>76</td>\n",
              "      <td>NaN</td>\n",
              "      <td>Distinguished</td>\n",
              "      <td>11,860.00</td>\n",
              "      <td>48,400.00</td>\n",
              "      <td>140.00</td>\n",
              "      <td>12,007.00</td>\n",
              "    </tr>\n",
              "    <tr>\n",
              "      <th>9891</th>\n",
              "      <td>2022</td>\n",
              "      <td>601</td>\n",
              "      <td>Woodford County</td>\n",
              "      <td>601120</td>\n",
              "      <td>Northside Elementary School</td>\n",
              "      <td>68</td>\n",
              "      <td>NaN</td>\n",
              "      <td>Proficient</td>\n",
              "      <td>12,173.75</td>\n",
              "      <td>47,887.50</td>\n",
              "      <td>151.25</td>\n",
              "      <td>12,324.50</td>\n",
              "    </tr>\n",
              "  </tbody>\n",
              "</table>\n",
              "<p>9892 rows × 12 columns</p>\n",
              "</div>\n",
              "      <button class=\"colab-df-convert\" onclick=\"convertToInteractive('df-7928609a-be20-48c2-8ead-cb961486594b')\"\n",
              "              title=\"Convert this dataframe to an interactive table.\"\n",
              "              style=\"display:none;\">\n",
              "        \n",
              "  <svg xmlns=\"http://www.w3.org/2000/svg\" height=\"24px\"viewBox=\"0 0 24 24\"\n",
              "       width=\"24px\">\n",
              "    <path d=\"M0 0h24v24H0V0z\" fill=\"none\"/>\n",
              "    <path d=\"M18.56 5.44l.94 2.06.94-2.06 2.06-.94-2.06-.94-.94-2.06-.94 2.06-2.06.94zm-11 1L8.5 8.5l.94-2.06 2.06-.94-2.06-.94L8.5 2.5l-.94 2.06-2.06.94zm10 10l.94 2.06.94-2.06 2.06-.94-2.06-.94-.94-2.06-.94 2.06-2.06.94z\"/><path d=\"M17.41 7.96l-1.37-1.37c-.4-.4-.92-.59-1.43-.59-.52 0-1.04.2-1.43.59L10.3 9.45l-7.72 7.72c-.78.78-.78 2.05 0 2.83L4 21.41c.39.39.9.59 1.41.59.51 0 1.02-.2 1.41-.59l7.78-7.78 2.81-2.81c.8-.78.8-2.07 0-2.86zM5.41 20L4 18.59l7.72-7.72 1.47 1.35L5.41 20z\"/>\n",
              "  </svg>\n",
              "      </button>\n",
              "      \n",
              "  <style>\n",
              "    .colab-df-container {\n",
              "      display:flex;\n",
              "      flex-wrap:wrap;\n",
              "      gap: 12px;\n",
              "    }\n",
              "\n",
              "    .colab-df-convert {\n",
              "      background-color: #E8F0FE;\n",
              "      border: none;\n",
              "      border-radius: 50%;\n",
              "      cursor: pointer;\n",
              "      display: none;\n",
              "      fill: #1967D2;\n",
              "      height: 32px;\n",
              "      padding: 0 0 0 0;\n",
              "      width: 32px;\n",
              "    }\n",
              "\n",
              "    .colab-df-convert:hover {\n",
              "      background-color: #E2EBFA;\n",
              "      box-shadow: 0px 1px 2px rgba(60, 64, 67, 0.3), 0px 1px 3px 1px rgba(60, 64, 67, 0.15);\n",
              "      fill: #174EA6;\n",
              "    }\n",
              "\n",
              "    [theme=dark] .colab-df-convert {\n",
              "      background-color: #3B4455;\n",
              "      fill: #D2E3FC;\n",
              "    }\n",
              "\n",
              "    [theme=dark] .colab-df-convert:hover {\n",
              "      background-color: #434B5C;\n",
              "      box-shadow: 0px 1px 3px 1px rgba(0, 0, 0, 0.15);\n",
              "      filter: drop-shadow(0px 1px 2px rgba(0, 0, 0, 0.3));\n",
              "      fill: #FFFFFF;\n",
              "    }\n",
              "  </style>\n",
              "\n",
              "      <script>\n",
              "        const buttonEl =\n",
              "          document.querySelector('#df-7928609a-be20-48c2-8ead-cb961486594b button.colab-df-convert');\n",
              "        buttonEl.style.display =\n",
              "          google.colab.kernel.accessAllowed ? 'block' : 'none';\n",
              "\n",
              "        async function convertToInteractive(key) {\n",
              "          const element = document.querySelector('#df-7928609a-be20-48c2-8ead-cb961486594b');\n",
              "          const dataTable =\n",
              "            await google.colab.kernel.invokeFunction('convertToInteractive',\n",
              "                                                     [key], {});\n",
              "          if (!dataTable) return;\n",
              "\n",
              "          const docLinkHtml = 'Like what you see? Visit the ' +\n",
              "            '<a target=\"_blank\" href=https://colab.research.google.com/notebooks/data_table.ipynb>data table notebook</a>'\n",
              "            + ' to learn more about interactive tables.';\n",
              "          element.innerHTML = '';\n",
              "          dataTable['output_type'] = 'display_data';\n",
              "          await google.colab.output.renderOutput(dataTable, element);\n",
              "          const docLink = document.createElement('div');\n",
              "          docLink.innerHTML = docLinkHtml;\n",
              "          element.appendChild(docLink);\n",
              "        }\n",
              "      </script>\n",
              "    </div>\n",
              "  </div>\n",
              "  "
            ]
          },
          "metadata": {},
          "execution_count": 26
        }
      ]
    },
    {
      "cell_type": "code",
      "source": [],
      "metadata": {
        "id": "caQdp7pWbyHq"
      },
      "execution_count": 26,
      "outputs": []
    },
    {
      "cell_type": "code",
      "source": [
        "unscaled_df = predict_df[['End Year', 'Proficiency Rate', 'Reported Spending per student', \n",
        "             'Money Difference per school', 'Classification']]"
      ],
      "metadata": {
        "id": "OxHPfwd3Tob7"
      },
      "execution_count": 27,
      "outputs": []
    },
    {
      "cell_type": "code",
      "source": [
        "unscaled_df.dropna(inplace=True) #here\n",
        "unscaled_df.reset_index(drop=True, inplace=True)"
      ],
      "metadata": {
        "id": "JTdatzX5ne4_",
        "colab": {
          "base_uri": "https://localhost:8080/"
        },
        "outputId": "2fee32a4-39b3-4cda-a9f7-4dce5a828ccd"
      },
      "execution_count": 28,
      "outputs": [
        {
          "output_type": "stream",
          "name": "stderr",
          "text": [
            "/usr/local/lib/python3.8/dist-packages/pandas/util/_decorators.py:311: SettingWithCopyWarning: \n",
            "A value is trying to be set on a copy of a slice from a DataFrame\n",
            "\n",
            "See the caveats in the documentation: https://pandas.pydata.org/pandas-docs/stable/user_guide/indexing.html#returning-a-view-versus-a-copy\n",
            "  return func(*args, **kwargs)\n"
          ]
        }
      ]
    },
    {
      "cell_type": "code",
      "source": [
        "unscaled_df['Classification'] = unscaled_df['Classification'].map({'Distinguished': 0, 'Proficient':1, 'Needs Improvement':2})"
      ],
      "metadata": {
        "id": "vXmUSiiwyQz6",
        "colab": {
          "base_uri": "https://localhost:8080/"
        },
        "outputId": "580a67e9-afd1-4e28-abb7-d2744c840df6"
      },
      "execution_count": 29,
      "outputs": [
        {
          "output_type": "stream",
          "name": "stderr",
          "text": [
            "<ipython-input-29-c885bb568317>:1: SettingWithCopyWarning: \n",
            "A value is trying to be set on a copy of a slice from a DataFrame.\n",
            "Try using .loc[row_indexer,col_indexer] = value instead\n",
            "\n",
            "See the caveats in the documentation: https://pandas.pydata.org/pandas-docs/stable/user_guide/indexing.html#returning-a-view-versus-a-copy\n",
            "  unscaled_df['Classification'] = unscaled_df['Classification'].map({'Distinguished': 0, 'Proficient':1, 'Needs Improvement':2})\n"
          ]
        }
      ]
    },
    {
      "cell_type": "code",
      "source": [
        "unscaled_columns = ['End Year', 'Proficiency Rate', 'Reported Spending per student', 'Money Difference per school', 'Classification']\n",
        "\n",
        "for column in unscaled_df.columns:\n",
        "  unscaled_df[column] = unscaled_df[column].astype(np.float32)"
      ],
      "metadata": {
        "id": "rPZaZ4holZyZ",
        "colab": {
          "base_uri": "https://localhost:8080/"
        },
        "outputId": "386d7fee-07cd-4b1b-89a1-6d1a4f6dfc8e"
      },
      "execution_count": 30,
      "outputs": [
        {
          "output_type": "stream",
          "name": "stderr",
          "text": [
            "<ipython-input-30-f2a71d598106>:4: SettingWithCopyWarning: \n",
            "A value is trying to be set on a copy of a slice from a DataFrame.\n",
            "Try using .loc[row_indexer,col_indexer] = value instead\n",
            "\n",
            "See the caveats in the documentation: https://pandas.pydata.org/pandas-docs/stable/user_guide/indexing.html#returning-a-view-versus-a-copy\n",
            "  unscaled_df[column] = unscaled_df[column].astype(np.float32)\n"
          ]
        }
      ]
    },
    {
      "cell_type": "code",
      "source": [
        "unscaled_df"
      ],
      "metadata": {
        "id": "v0nKKR-4lZ4V",
        "colab": {
          "base_uri": "https://localhost:8080/",
          "height": 423
        },
        "outputId": "dec21c1c-3999-42a9-94eb-b3c28282ca8d"
      },
      "execution_count": 31,
      "outputs": [
        {
          "output_type": "execute_result",
          "data": {
            "text/plain": [
              "      End Year  Proficiency Rate  Reported Spending per student  \\\n",
              "0     2,012.00             55.00                       6,460.00   \n",
              "1     2,013.00             54.00                       6,380.00   \n",
              "2     2,014.00             69.00                       6,970.00   \n",
              "3     2,015.00             71.00                       9,490.00   \n",
              "4     2,016.00             72.00                      10,270.00   \n",
              "...        ...               ...                            ...   \n",
              "7655  2,014.00             71.00                      11,210.00   \n",
              "7656  2,015.00             70.00                      12,260.00   \n",
              "7657  2,016.00             60.00                      12,050.00   \n",
              "7658  2,019.00             76.00                      11,860.00   \n",
              "7659  2,022.00             68.00                      12,173.75   \n",
              "\n",
              "      Money Difference per school  Classification  \n",
              "0                      -36,400.00            2.00  \n",
              "1                      -37,000.00            2.00  \n",
              "2                      -13,100.00            2.00  \n",
              "3                      -42,100.00            1.00  \n",
              "4                      -19,200.00            1.00  \n",
              "...                           ...             ...  \n",
              "7655                    43,600.00            1.00  \n",
              "7656                    33,000.00            1.00  \n",
              "7657                    34,000.00            2.00  \n",
              "7658                    48,400.00            0.00  \n",
              "7659                    47,887.50            1.00  \n",
              "\n",
              "[7660 rows x 5 columns]"
            ],
            "text/html": [
              "\n",
              "  <div id=\"df-a240c543-03b6-46f9-901b-d65f28880fe9\">\n",
              "    <div class=\"colab-df-container\">\n",
              "      <div>\n",
              "<style scoped>\n",
              "    .dataframe tbody tr th:only-of-type {\n",
              "        vertical-align: middle;\n",
              "    }\n",
              "\n",
              "    .dataframe tbody tr th {\n",
              "        vertical-align: top;\n",
              "    }\n",
              "\n",
              "    .dataframe thead th {\n",
              "        text-align: right;\n",
              "    }\n",
              "</style>\n",
              "<table border=\"1\" class=\"dataframe\">\n",
              "  <thead>\n",
              "    <tr style=\"text-align: right;\">\n",
              "      <th></th>\n",
              "      <th>End Year</th>\n",
              "      <th>Proficiency Rate</th>\n",
              "      <th>Reported Spending per student</th>\n",
              "      <th>Money Difference per school</th>\n",
              "      <th>Classification</th>\n",
              "    </tr>\n",
              "  </thead>\n",
              "  <tbody>\n",
              "    <tr>\n",
              "      <th>0</th>\n",
              "      <td>2,012.00</td>\n",
              "      <td>55.00</td>\n",
              "      <td>6,460.00</td>\n",
              "      <td>-36,400.00</td>\n",
              "      <td>2.00</td>\n",
              "    </tr>\n",
              "    <tr>\n",
              "      <th>1</th>\n",
              "      <td>2,013.00</td>\n",
              "      <td>54.00</td>\n",
              "      <td>6,380.00</td>\n",
              "      <td>-37,000.00</td>\n",
              "      <td>2.00</td>\n",
              "    </tr>\n",
              "    <tr>\n",
              "      <th>2</th>\n",
              "      <td>2,014.00</td>\n",
              "      <td>69.00</td>\n",
              "      <td>6,970.00</td>\n",
              "      <td>-13,100.00</td>\n",
              "      <td>2.00</td>\n",
              "    </tr>\n",
              "    <tr>\n",
              "      <th>3</th>\n",
              "      <td>2,015.00</td>\n",
              "      <td>71.00</td>\n",
              "      <td>9,490.00</td>\n",
              "      <td>-42,100.00</td>\n",
              "      <td>1.00</td>\n",
              "    </tr>\n",
              "    <tr>\n",
              "      <th>4</th>\n",
              "      <td>2,016.00</td>\n",
              "      <td>72.00</td>\n",
              "      <td>10,270.00</td>\n",
              "      <td>-19,200.00</td>\n",
              "      <td>1.00</td>\n",
              "    </tr>\n",
              "    <tr>\n",
              "      <th>...</th>\n",
              "      <td>...</td>\n",
              "      <td>...</td>\n",
              "      <td>...</td>\n",
              "      <td>...</td>\n",
              "      <td>...</td>\n",
              "    </tr>\n",
              "    <tr>\n",
              "      <th>7655</th>\n",
              "      <td>2,014.00</td>\n",
              "      <td>71.00</td>\n",
              "      <td>11,210.00</td>\n",
              "      <td>43,600.00</td>\n",
              "      <td>1.00</td>\n",
              "    </tr>\n",
              "    <tr>\n",
              "      <th>7656</th>\n",
              "      <td>2,015.00</td>\n",
              "      <td>70.00</td>\n",
              "      <td>12,260.00</td>\n",
              "      <td>33,000.00</td>\n",
              "      <td>1.00</td>\n",
              "    </tr>\n",
              "    <tr>\n",
              "      <th>7657</th>\n",
              "      <td>2,016.00</td>\n",
              "      <td>60.00</td>\n",
              "      <td>12,050.00</td>\n",
              "      <td>34,000.00</td>\n",
              "      <td>2.00</td>\n",
              "    </tr>\n",
              "    <tr>\n",
              "      <th>7658</th>\n",
              "      <td>2,019.00</td>\n",
              "      <td>76.00</td>\n",
              "      <td>11,860.00</td>\n",
              "      <td>48,400.00</td>\n",
              "      <td>0.00</td>\n",
              "    </tr>\n",
              "    <tr>\n",
              "      <th>7659</th>\n",
              "      <td>2,022.00</td>\n",
              "      <td>68.00</td>\n",
              "      <td>12,173.75</td>\n",
              "      <td>47,887.50</td>\n",
              "      <td>1.00</td>\n",
              "    </tr>\n",
              "  </tbody>\n",
              "</table>\n",
              "<p>7660 rows × 5 columns</p>\n",
              "</div>\n",
              "      <button class=\"colab-df-convert\" onclick=\"convertToInteractive('df-a240c543-03b6-46f9-901b-d65f28880fe9')\"\n",
              "              title=\"Convert this dataframe to an interactive table.\"\n",
              "              style=\"display:none;\">\n",
              "        \n",
              "  <svg xmlns=\"http://www.w3.org/2000/svg\" height=\"24px\"viewBox=\"0 0 24 24\"\n",
              "       width=\"24px\">\n",
              "    <path d=\"M0 0h24v24H0V0z\" fill=\"none\"/>\n",
              "    <path d=\"M18.56 5.44l.94 2.06.94-2.06 2.06-.94-2.06-.94-.94-2.06-.94 2.06-2.06.94zm-11 1L8.5 8.5l.94-2.06 2.06-.94-2.06-.94L8.5 2.5l-.94 2.06-2.06.94zm10 10l.94 2.06.94-2.06 2.06-.94-2.06-.94-.94-2.06-.94 2.06-2.06.94z\"/><path d=\"M17.41 7.96l-1.37-1.37c-.4-.4-.92-.59-1.43-.59-.52 0-1.04.2-1.43.59L10.3 9.45l-7.72 7.72c-.78.78-.78 2.05 0 2.83L4 21.41c.39.39.9.59 1.41.59.51 0 1.02-.2 1.41-.59l7.78-7.78 2.81-2.81c.8-.78.8-2.07 0-2.86zM5.41 20L4 18.59l7.72-7.72 1.47 1.35L5.41 20z\"/>\n",
              "  </svg>\n",
              "      </button>\n",
              "      \n",
              "  <style>\n",
              "    .colab-df-container {\n",
              "      display:flex;\n",
              "      flex-wrap:wrap;\n",
              "      gap: 12px;\n",
              "    }\n",
              "\n",
              "    .colab-df-convert {\n",
              "      background-color: #E8F0FE;\n",
              "      border: none;\n",
              "      border-radius: 50%;\n",
              "      cursor: pointer;\n",
              "      display: none;\n",
              "      fill: #1967D2;\n",
              "      height: 32px;\n",
              "      padding: 0 0 0 0;\n",
              "      width: 32px;\n",
              "    }\n",
              "\n",
              "    .colab-df-convert:hover {\n",
              "      background-color: #E2EBFA;\n",
              "      box-shadow: 0px 1px 2px rgba(60, 64, 67, 0.3), 0px 1px 3px 1px rgba(60, 64, 67, 0.15);\n",
              "      fill: #174EA6;\n",
              "    }\n",
              "\n",
              "    [theme=dark] .colab-df-convert {\n",
              "      background-color: #3B4455;\n",
              "      fill: #D2E3FC;\n",
              "    }\n",
              "\n",
              "    [theme=dark] .colab-df-convert:hover {\n",
              "      background-color: #434B5C;\n",
              "      box-shadow: 0px 1px 3px 1px rgba(0, 0, 0, 0.15);\n",
              "      filter: drop-shadow(0px 1px 2px rgba(0, 0, 0, 0.3));\n",
              "      fill: #FFFFFF;\n",
              "    }\n",
              "  </style>\n",
              "\n",
              "      <script>\n",
              "        const buttonEl =\n",
              "          document.querySelector('#df-a240c543-03b6-46f9-901b-d65f28880fe9 button.colab-df-convert');\n",
              "        buttonEl.style.display =\n",
              "          google.colab.kernel.accessAllowed ? 'block' : 'none';\n",
              "\n",
              "        async function convertToInteractive(key) {\n",
              "          const element = document.querySelector('#df-a240c543-03b6-46f9-901b-d65f28880fe9');\n",
              "          const dataTable =\n",
              "            await google.colab.kernel.invokeFunction('convertToInteractive',\n",
              "                                                     [key], {});\n",
              "          if (!dataTable) return;\n",
              "\n",
              "          const docLinkHtml = 'Like what you see? Visit the ' +\n",
              "            '<a target=\"_blank\" href=https://colab.research.google.com/notebooks/data_table.ipynb>data table notebook</a>'\n",
              "            + ' to learn more about interactive tables.';\n",
              "          element.innerHTML = '';\n",
              "          dataTable['output_type'] = 'display_data';\n",
              "          await google.colab.output.renderOutput(dataTable, element);\n",
              "          const docLink = document.createElement('div');\n",
              "          docLink.innerHTML = docLinkHtml;\n",
              "          element.appendChild(docLink);\n",
              "        }\n",
              "      </script>\n",
              "    </div>\n",
              "  </div>\n",
              "  "
            ]
          },
          "metadata": {},
          "execution_count": 31
        }
      ]
    },
    {
      "cell_type": "code",
      "source": [],
      "metadata": {
        "id": "nq-BAHrjoVOB"
      },
      "execution_count": 31,
      "outputs": []
    },
    {
      "cell_type": "markdown",
      "source": [
        "## Shuffle, Balance, Split, Scale"
      ],
      "metadata": {
        "id": "GxWh9f-BqbvG"
      }
    },
    {
      "cell_type": "code",
      "source": [
        "#Shuffle df\n",
        "unscaled_df = unscaled_df.sample(frac=1, random_state=15)\n",
        "\n",
        "# Save indices\n",
        "#shuffled_indices = unscaled_df.index"
      ],
      "metadata": {
        "id": "OTODCJFaFh2e"
      },
      "execution_count": 32,
      "outputs": []
    },
    {
      "cell_type": "code",
      "source": [
        "unscaled_df['Classification'].value_counts()"
      ],
      "metadata": {
        "colab": {
          "base_uri": "https://localhost:8080/"
        },
        "id": "oRqb9RpZBZPx",
        "outputId": "71ea6802-7ce6-4990-d72f-1fe512eeadf9"
      },
      "execution_count": 33,
      "outputs": [
        {
          "output_type": "execute_result",
          "data": {
            "text/plain": [
              "2.00    3652\n",
              "1.00    2150\n",
              "0.00    1858\n",
              "Name: Classification, dtype: int64"
            ]
          },
          "metadata": {},
          "execution_count": 33
        }
      ]
    },
    {
      "cell_type": "code",
      "source": [
        "# Balance the data\n",
        "balanced_df = unscaled_df.iloc[0:0]\n",
        "\n",
        "for i in unscaled_df['Classification'].unique():   #unscaled_df.index:\n",
        "  min_target_size = unscaled_df['Classification'].value_counts().min()\n",
        "  #value_target = unscaled_df['Classification'][i]\n",
        "  target_values = unscaled_df[unscaled_df['Classification']==i]  #value_target]\n",
        "  fraction = round(min_target_size / target_values.shape[0], 2)\n",
        "  sample_data = target_values.sample(frac=fraction, random_state=8)\n",
        "  balanced_df = pd.concat([balanced_df, sample_data])\n",
        "\n",
        "# Shuffle the data\n",
        "balanced_df = balanced_df.sample(frac=1, random_state=3)"
      ],
      "metadata": {
        "id": "KQo7n4mMJh_3"
      },
      "execution_count": 34,
      "outputs": []
    },
    {
      "cell_type": "code",
      "source": [
        "# Just in case we need the indices later. \n",
        "\n",
        "#shuffled_indices = balanced_df.index"
      ],
      "metadata": {
        "id": "YL8o3GrEMz5v"
      },
      "execution_count": 35,
      "outputs": []
    },
    {
      "cell_type": "code",
      "source": [
        "balanced_df['Classification'].value_counts()"
      ],
      "metadata": {
        "colab": {
          "base_uri": "https://localhost:8080/"
        },
        "id": "Uo4bpgjhN_hy",
        "outputId": "1359e0d8-78c4-4f86-9f71-a2696e5ffed9"
      },
      "execution_count": 36,
      "outputs": [
        {
          "output_type": "execute_result",
          "data": {
            "text/plain": [
              "2.00    1863\n",
              "0.00    1858\n",
              "1.00    1849\n",
              "Name: Classification, dtype: int64"
            ]
          },
          "metadata": {},
          "execution_count": 36
        }
      ]
    },
    {
      "cell_type": "code",
      "source": [
        "balanced_df[balanced_df.isnull().any(axis=1)]"
      ],
      "metadata": {
        "colab": {
          "base_uri": "https://localhost:8080/",
          "height": 49
        },
        "id": "T8cntVx7pmi4",
        "outputId": "68b8132f-7a84-4170-852e-80f4963529a8"
      },
      "execution_count": 37,
      "outputs": [
        {
          "output_type": "execute_result",
          "data": {
            "text/plain": [
              "Empty DataFrame\n",
              "Columns: [End Year, Proficiency Rate, Reported Spending per student, Money Difference per school, Classification]\n",
              "Index: []"
            ],
            "text/html": [
              "\n",
              "  <div id=\"df-e0a8c6c3-3b91-4ff7-8917-bfe80354dcd6\">\n",
              "    <div class=\"colab-df-container\">\n",
              "      <div>\n",
              "<style scoped>\n",
              "    .dataframe tbody tr th:only-of-type {\n",
              "        vertical-align: middle;\n",
              "    }\n",
              "\n",
              "    .dataframe tbody tr th {\n",
              "        vertical-align: top;\n",
              "    }\n",
              "\n",
              "    .dataframe thead th {\n",
              "        text-align: right;\n",
              "    }\n",
              "</style>\n",
              "<table border=\"1\" class=\"dataframe\">\n",
              "  <thead>\n",
              "    <tr style=\"text-align: right;\">\n",
              "      <th></th>\n",
              "      <th>End Year</th>\n",
              "      <th>Proficiency Rate</th>\n",
              "      <th>Reported Spending per student</th>\n",
              "      <th>Money Difference per school</th>\n",
              "      <th>Classification</th>\n",
              "    </tr>\n",
              "  </thead>\n",
              "  <tbody>\n",
              "  </tbody>\n",
              "</table>\n",
              "</div>\n",
              "      <button class=\"colab-df-convert\" onclick=\"convertToInteractive('df-e0a8c6c3-3b91-4ff7-8917-bfe80354dcd6')\"\n",
              "              title=\"Convert this dataframe to an interactive table.\"\n",
              "              style=\"display:none;\">\n",
              "        \n",
              "  <svg xmlns=\"http://www.w3.org/2000/svg\" height=\"24px\"viewBox=\"0 0 24 24\"\n",
              "       width=\"24px\">\n",
              "    <path d=\"M0 0h24v24H0V0z\" fill=\"none\"/>\n",
              "    <path d=\"M18.56 5.44l.94 2.06.94-2.06 2.06-.94-2.06-.94-.94-2.06-.94 2.06-2.06.94zm-11 1L8.5 8.5l.94-2.06 2.06-.94-2.06-.94L8.5 2.5l-.94 2.06-2.06.94zm10 10l.94 2.06.94-2.06 2.06-.94-2.06-.94-.94-2.06-.94 2.06-2.06.94z\"/><path d=\"M17.41 7.96l-1.37-1.37c-.4-.4-.92-.59-1.43-.59-.52 0-1.04.2-1.43.59L10.3 9.45l-7.72 7.72c-.78.78-.78 2.05 0 2.83L4 21.41c.39.39.9.59 1.41.59.51 0 1.02-.2 1.41-.59l7.78-7.78 2.81-2.81c.8-.78.8-2.07 0-2.86zM5.41 20L4 18.59l7.72-7.72 1.47 1.35L5.41 20z\"/>\n",
              "  </svg>\n",
              "      </button>\n",
              "      \n",
              "  <style>\n",
              "    .colab-df-container {\n",
              "      display:flex;\n",
              "      flex-wrap:wrap;\n",
              "      gap: 12px;\n",
              "    }\n",
              "\n",
              "    .colab-df-convert {\n",
              "      background-color: #E8F0FE;\n",
              "      border: none;\n",
              "      border-radius: 50%;\n",
              "      cursor: pointer;\n",
              "      display: none;\n",
              "      fill: #1967D2;\n",
              "      height: 32px;\n",
              "      padding: 0 0 0 0;\n",
              "      width: 32px;\n",
              "    }\n",
              "\n",
              "    .colab-df-convert:hover {\n",
              "      background-color: #E2EBFA;\n",
              "      box-shadow: 0px 1px 2px rgba(60, 64, 67, 0.3), 0px 1px 3px 1px rgba(60, 64, 67, 0.15);\n",
              "      fill: #174EA6;\n",
              "    }\n",
              "\n",
              "    [theme=dark] .colab-df-convert {\n",
              "      background-color: #3B4455;\n",
              "      fill: #D2E3FC;\n",
              "    }\n",
              "\n",
              "    [theme=dark] .colab-df-convert:hover {\n",
              "      background-color: #434B5C;\n",
              "      box-shadow: 0px 1px 3px 1px rgba(0, 0, 0, 0.15);\n",
              "      filter: drop-shadow(0px 1px 2px rgba(0, 0, 0, 0.3));\n",
              "      fill: #FFFFFF;\n",
              "    }\n",
              "  </style>\n",
              "\n",
              "      <script>\n",
              "        const buttonEl =\n",
              "          document.querySelector('#df-e0a8c6c3-3b91-4ff7-8917-bfe80354dcd6 button.colab-df-convert');\n",
              "        buttonEl.style.display =\n",
              "          google.colab.kernel.accessAllowed ? 'block' : 'none';\n",
              "\n",
              "        async function convertToInteractive(key) {\n",
              "          const element = document.querySelector('#df-e0a8c6c3-3b91-4ff7-8917-bfe80354dcd6');\n",
              "          const dataTable =\n",
              "            await google.colab.kernel.invokeFunction('convertToInteractive',\n",
              "                                                     [key], {});\n",
              "          if (!dataTable) return;\n",
              "\n",
              "          const docLinkHtml = 'Like what you see? Visit the ' +\n",
              "            '<a target=\"_blank\" href=https://colab.research.google.com/notebooks/data_table.ipynb>data table notebook</a>'\n",
              "            + ' to learn more about interactive tables.';\n",
              "          element.innerHTML = '';\n",
              "          dataTable['output_type'] = 'display_data';\n",
              "          await google.colab.output.renderOutput(dataTable, element);\n",
              "          const docLink = document.createElement('div');\n",
              "          docLink.innerHTML = docLinkHtml;\n",
              "          element.appendChild(docLink);\n",
              "        }\n",
              "      </script>\n",
              "    </div>\n",
              "  </div>\n",
              "  "
            ]
          },
          "metadata": {},
          "execution_count": 37
        }
      ]
    },
    {
      "cell_type": "code",
      "source": [
        "balanced_df.columns"
      ],
      "metadata": {
        "colab": {
          "base_uri": "https://localhost:8080/"
        },
        "id": "5Mk5pKgWlilq",
        "outputId": "95e05e2f-080a-45b1-c0c8-ba85241e2f53"
      },
      "execution_count": 38,
      "outputs": [
        {
          "output_type": "execute_result",
          "data": {
            "text/plain": [
              "Index(['End Year', 'Proficiency Rate', 'Reported Spending per student',\n",
              "       'Money Difference per school', 'Classification'],\n",
              "      dtype='object')"
            ]
          },
          "metadata": {},
          "execution_count": 38
        }
      ]
    },
    {
      "cell_type": "code",
      "source": [
        "unscaled_inputs = balanced_df.values[:,:-1]"
      ],
      "metadata": {
        "id": "b0SLLubKqzxg"
      },
      "execution_count": 39,
      "outputs": []
    },
    {
      "cell_type": "code",
      "source": [
        "targets = balanced_df.values[:,-1]"
      ],
      "metadata": {
        "id": "IP-tneR3qz0o"
      },
      "execution_count": 40,
      "outputs": []
    },
    {
      "cell_type": "code",
      "source": [
        "# Split into training, validation, and test sets\n",
        "\n",
        "unscaled_X_train, unscaled_X_set, y_train, y_set = train_test_split(unscaled_inputs, targets, test_size=0.2, random_state=15)\n",
        "unscaled_X_valid, unscaled_X_test, y_valid, y_test = train_test_split(unscaled_X_set, y_set, test_size=0.5, random_state=13)"
      ],
      "metadata": {
        "id": "gi7cn2ppM4dv"
      },
      "execution_count": 41,
      "outputs": []
    },
    {
      "cell_type": "code",
      "source": [
        "# Scale data\n",
        "\n",
        "epsb_scaler = StandardScaler()\n",
        "\n",
        "# Calculate and store the mean and sd\n",
        "epsb_scaler.fit(unscaled_X_train)\n",
        "\n",
        "# Apply the scaler\n",
        "scaled_X_train = epsb_scaler.transform(unscaled_X_train)\n",
        "scaled_X_valid = epsb_scaler.transform(unscaled_X_valid)\n",
        "scaled_X_test = epsb_scaler.transform(unscaled_X_test)"
      ],
      "metadata": {
        "id": "WAQ-xMkwMz22"
      },
      "execution_count": 42,
      "outputs": []
    },
    {
      "cell_type": "code",
      "source": [
        "scaled_X_train.shape"
      ],
      "metadata": {
        "colab": {
          "base_uri": "https://localhost:8080/"
        },
        "id": "RUTB3WPnM4mU",
        "outputId": "a6fae623-7d1d-45cf-cd0d-e7ae4fb7a650"
      },
      "execution_count": 43,
      "outputs": [
        {
          "output_type": "execute_result",
          "data": {
            "text/plain": [
              "(4456, 4)"
            ]
          },
          "metadata": {},
          "execution_count": 43
        }
      ]
    },
    {
      "cell_type": "code",
      "source": [
        "y_train"
      ],
      "metadata": {
        "colab": {
          "base_uri": "https://localhost:8080/"
        },
        "id": "FdYQwy0jr01b",
        "outputId": "8ac781c2-c9a9-48f8-9258-905b3b4df628"
      },
      "execution_count": 44,
      "outputs": [
        {
          "output_type": "execute_result",
          "data": {
            "text/plain": [
              "array([1., 2., 2., ..., 1., 2., 1.], dtype=float32)"
            ]
          },
          "metadata": {},
          "execution_count": 44
        }
      ]
    },
    {
      "cell_type": "code",
      "source": [
        "scaled_X_valid.shape"
      ],
      "metadata": {
        "colab": {
          "base_uri": "https://localhost:8080/"
        },
        "id": "YEsOUSBQsPQf",
        "outputId": "ecca222b-4033-4a50-a219-681cc36d3106"
      },
      "execution_count": 45,
      "outputs": [
        {
          "output_type": "execute_result",
          "data": {
            "text/plain": [
              "(557, 4)"
            ]
          },
          "metadata": {},
          "execution_count": 45
        }
      ]
    },
    {
      "cell_type": "code",
      "source": [
        "y_valid.shape"
      ],
      "metadata": {
        "colab": {
          "base_uri": "https://localhost:8080/"
        },
        "id": "NO_XLr7XsPUH",
        "outputId": "264b4f52-1fea-4e34-e770-b633eeca9865"
      },
      "execution_count": 46,
      "outputs": [
        {
          "output_type": "execute_result",
          "data": {
            "text/plain": [
              "(557,)"
            ]
          },
          "metadata": {},
          "execution_count": 46
        }
      ]
    },
    {
      "cell_type": "code",
      "source": [
        "scaled_X_test.shape"
      ],
      "metadata": {
        "colab": {
          "base_uri": "https://localhost:8080/"
        },
        "id": "XCdZClZNRI_m",
        "outputId": "43bb99dc-2c0d-4209-f700-eeed72fdd34b"
      },
      "execution_count": 47,
      "outputs": [
        {
          "output_type": "execute_result",
          "data": {
            "text/plain": [
              "(557, 4)"
            ]
          },
          "metadata": {},
          "execution_count": 47
        }
      ]
    },
    {
      "cell_type": "code",
      "source": [
        "y_test.shape"
      ],
      "metadata": {
        "colab": {
          "base_uri": "https://localhost:8080/"
        },
        "id": "d6PEs79HsAiU",
        "outputId": "9b13fc62-7160-4736-a96d-d839a5530bb4"
      },
      "execution_count": 48,
      "outputs": [
        {
          "output_type": "execute_result",
          "data": {
            "text/plain": [
              "(557,)"
            ]
          },
          "metadata": {},
          "execution_count": 48
        }
      ]
    },
    {
      "cell_type": "code",
      "source": [],
      "metadata": {
        "id": "eFF1xL3DshXJ"
      },
      "execution_count": 48,
      "outputs": []
    },
    {
      "cell_type": "markdown",
      "source": [
        "## Model"
      ],
      "metadata": {
        "id": "22iLAmwjZhWX"
      }
    },
    {
      "cell_type": "code",
      "source": [
        "# Create the model\n",
        "# Ran different rounds of the below model.  Some of the options I put in comments to the right.\n",
        "\n",
        "input_size = 4\n",
        "output_size = 3\n",
        "hidden_layer_size = 15 # for this problem, optimal results were between 10-20 layers\n",
        "\n",
        "model = tf.keras.Sequential([\n",
        "    tf.keras.layers.Dense(hidden_layer_size, activation='tanh'),    # attempted to make this linear, only use the proficency in the input layers, and it only came to 77% valid accuracy or less\n",
        "    tf.keras.layers.Dense(hidden_layer_size, activation='tanh'),\n",
        "    tf.keras.layers.Dense(output_size, activation='softmax') # the sigmoid function made the model decrease in accuracy\n",
        "    ])\n",
        "\n",
        "model.compile(optimizer='adam', loss='sparse_categorical_crossentropy', metrics=['accuracy'])\n"
      ],
      "metadata": {
        "id": "tkeoXJwLGtRf"
      },
      "execution_count": 49,
      "outputs": []
    },
    {
      "cell_type": "code",
      "source": [
        "# Fit the model\n",
        "\n",
        "batch_size = 50  # started with batch size 25\n",
        "max_epochs = 100 # started with 20 epochs\n",
        "\n",
        "early_stopping = tf.keras.callbacks.EarlyStopping(patience=5) # the adam optimizer has a learning rate of 0.001, so I added more patience \n",
        "\n",
        "model.fit(scaled_X_train, \n",
        "          y_train, \n",
        "          batch_size=batch_size,\n",
        "          epochs = max_epochs,\n",
        "          callbacks = [early_stopping],\n",
        "          validation_data = (scaled_X_valid, y_valid),\n",
        "          verbose =2)\n",
        "\n",
        "\n",
        "# Ran rounds using a multi-index of School Code & End Year.  But didn't get above a 78% validation accuracy\n",
        "# Added in the string values from KY rank/rating column, and the model went up to 89.6% validation accuracy\n",
        "\n"
      ],
      "metadata": {
        "colab": {
          "base_uri": "https://localhost:8080/"
        },
        "id": "BG2ubwNvGtW2",
        "outputId": "98bd9222-1e55-4f6a-cd1e-41f9a81d064c"
      },
      "execution_count": 50,
      "outputs": [
        {
          "output_type": "stream",
          "name": "stdout",
          "text": [
            "Epoch 1/100\n",
            "90/90 - 2s - loss: 0.9054 - accuracy: 0.5794 - val_loss: 0.7026 - val_accuracy: 0.6930 - 2s/epoch - 20ms/step\n",
            "Epoch 2/100\n",
            "90/90 - 0s - loss: 0.6598 - accuracy: 0.6872 - val_loss: 0.5735 - val_accuracy: 0.7612 - 360ms/epoch - 4ms/step\n",
            "Epoch 3/100\n",
            "90/90 - 0s - loss: 0.5883 - accuracy: 0.7190 - val_loss: 0.5273 - val_accuracy: 0.7630 - 359ms/epoch - 4ms/step\n",
            "Epoch 4/100\n",
            "90/90 - 0s - loss: 0.5613 - accuracy: 0.7240 - val_loss: 0.5059 - val_accuracy: 0.7648 - 317ms/epoch - 4ms/step\n",
            "Epoch 5/100\n",
            "90/90 - 0s - loss: 0.5490 - accuracy: 0.7289 - val_loss: 0.4964 - val_accuracy: 0.7630 - 463ms/epoch - 5ms/step\n",
            "Epoch 6/100\n",
            "90/90 - 0s - loss: 0.5421 - accuracy: 0.7329 - val_loss: 0.4885 - val_accuracy: 0.7630 - 436ms/epoch - 5ms/step\n",
            "Epoch 7/100\n",
            "90/90 - 1s - loss: 0.5358 - accuracy: 0.7347 - val_loss: 0.4811 - val_accuracy: 0.7738 - 510ms/epoch - 6ms/step\n",
            "Epoch 8/100\n",
            "90/90 - 0s - loss: 0.5295 - accuracy: 0.7395 - val_loss: 0.4744 - val_accuracy: 0.7774 - 403ms/epoch - 4ms/step\n",
            "Epoch 9/100\n",
            "90/90 - 0s - loss: 0.5221 - accuracy: 0.7496 - val_loss: 0.4694 - val_accuracy: 0.7756 - 462ms/epoch - 5ms/step\n",
            "Epoch 10/100\n",
            "90/90 - 0s - loss: 0.5150 - accuracy: 0.7511 - val_loss: 0.4619 - val_accuracy: 0.7899 - 391ms/epoch - 4ms/step\n",
            "Epoch 11/100\n",
            "90/90 - 0s - loss: 0.5060 - accuracy: 0.7554 - val_loss: 0.4546 - val_accuracy: 0.7864 - 314ms/epoch - 3ms/step\n",
            "Epoch 12/100\n",
            "90/90 - 0s - loss: 0.4967 - accuracy: 0.7639 - val_loss: 0.4477 - val_accuracy: 0.7864 - 381ms/epoch - 4ms/step\n",
            "Epoch 13/100\n",
            "90/90 - 0s - loss: 0.4882 - accuracy: 0.7722 - val_loss: 0.4387 - val_accuracy: 0.7917 - 308ms/epoch - 3ms/step\n",
            "Epoch 14/100\n",
            "90/90 - 0s - loss: 0.4798 - accuracy: 0.7756 - val_loss: 0.4320 - val_accuracy: 0.8025 - 334ms/epoch - 4ms/step\n",
            "Epoch 15/100\n",
            "90/90 - 1s - loss: 0.4706 - accuracy: 0.7830 - val_loss: 0.4230 - val_accuracy: 0.8133 - 525ms/epoch - 6ms/step\n",
            "Epoch 16/100\n",
            "90/90 - 0s - loss: 0.4628 - accuracy: 0.7904 - val_loss: 0.4163 - val_accuracy: 0.8097 - 472ms/epoch - 5ms/step\n",
            "Epoch 17/100\n",
            "90/90 - 0s - loss: 0.4560 - accuracy: 0.7944 - val_loss: 0.4103 - val_accuracy: 0.8115 - 369ms/epoch - 4ms/step\n",
            "Epoch 18/100\n",
            "90/90 - 0s - loss: 0.4488 - accuracy: 0.8025 - val_loss: 0.4034 - val_accuracy: 0.8151 - 391ms/epoch - 4ms/step\n",
            "Epoch 19/100\n",
            "90/90 - 0s - loss: 0.4429 - accuracy: 0.8052 - val_loss: 0.3980 - val_accuracy: 0.8169 - 414ms/epoch - 5ms/step\n",
            "Epoch 20/100\n",
            "90/90 - 0s - loss: 0.4370 - accuracy: 0.8070 - val_loss: 0.3948 - val_accuracy: 0.8205 - 462ms/epoch - 5ms/step\n",
            "Epoch 21/100\n",
            "90/90 - 0s - loss: 0.4326 - accuracy: 0.8131 - val_loss: 0.3906 - val_accuracy: 0.8205 - 441ms/epoch - 5ms/step\n",
            "Epoch 22/100\n",
            "90/90 - 0s - loss: 0.4272 - accuracy: 0.8191 - val_loss: 0.3838 - val_accuracy: 0.8223 - 426ms/epoch - 5ms/step\n",
            "Epoch 23/100\n",
            "90/90 - 0s - loss: 0.4234 - accuracy: 0.8187 - val_loss: 0.3820 - val_accuracy: 0.8259 - 342ms/epoch - 4ms/step\n",
            "Epoch 24/100\n",
            "90/90 - 0s - loss: 0.4207 - accuracy: 0.8209 - val_loss: 0.3771 - val_accuracy: 0.8223 - 421ms/epoch - 5ms/step\n",
            "Epoch 25/100\n",
            "90/90 - 0s - loss: 0.4164 - accuracy: 0.8214 - val_loss: 0.3768 - val_accuracy: 0.8151 - 413ms/epoch - 5ms/step\n",
            "Epoch 26/100\n",
            "90/90 - 0s - loss: 0.4148 - accuracy: 0.8234 - val_loss: 0.3714 - val_accuracy: 0.8133 - 357ms/epoch - 4ms/step\n",
            "Epoch 27/100\n",
            "90/90 - 0s - loss: 0.4120 - accuracy: 0.8238 - val_loss: 0.3708 - val_accuracy: 0.8187 - 425ms/epoch - 5ms/step\n",
            "Epoch 28/100\n",
            "90/90 - 0s - loss: 0.4106 - accuracy: 0.8236 - val_loss: 0.3668 - val_accuracy: 0.8259 - 498ms/epoch - 6ms/step\n",
            "Epoch 29/100\n",
            "90/90 - 0s - loss: 0.4073 - accuracy: 0.8281 - val_loss: 0.3662 - val_accuracy: 0.8169 - 426ms/epoch - 5ms/step\n",
            "Epoch 30/100\n",
            "90/90 - 0s - loss: 0.4056 - accuracy: 0.8261 - val_loss: 0.3634 - val_accuracy: 0.8241 - 350ms/epoch - 4ms/step\n",
            "Epoch 31/100\n",
            "90/90 - 0s - loss: 0.4044 - accuracy: 0.8301 - val_loss: 0.3611 - val_accuracy: 0.8187 - 458ms/epoch - 5ms/step\n",
            "Epoch 32/100\n",
            "90/90 - 1s - loss: 0.4037 - accuracy: 0.8308 - val_loss: 0.3606 - val_accuracy: 0.8187 - 583ms/epoch - 6ms/step\n",
            "Epoch 33/100\n",
            "90/90 - 0s - loss: 0.4015 - accuracy: 0.8292 - val_loss: 0.3605 - val_accuracy: 0.8276 - 186ms/epoch - 2ms/step\n",
            "Epoch 34/100\n",
            "90/90 - 0s - loss: 0.4004 - accuracy: 0.8297 - val_loss: 0.3565 - val_accuracy: 0.8241 - 184ms/epoch - 2ms/step\n",
            "Epoch 35/100\n",
            "90/90 - 0s - loss: 0.3993 - accuracy: 0.8317 - val_loss: 0.3560 - val_accuracy: 0.8259 - 175ms/epoch - 2ms/step\n",
            "Epoch 36/100\n",
            "90/90 - 0s - loss: 0.3984 - accuracy: 0.8321 - val_loss: 0.3552 - val_accuracy: 0.8259 - 183ms/epoch - 2ms/step\n",
            "Epoch 37/100\n",
            "90/90 - 0s - loss: 0.3957 - accuracy: 0.8294 - val_loss: 0.3527 - val_accuracy: 0.8312 - 212ms/epoch - 2ms/step\n",
            "Epoch 38/100\n",
            "90/90 - 0s - loss: 0.3955 - accuracy: 0.8333 - val_loss: 0.3521 - val_accuracy: 0.8384 - 194ms/epoch - 2ms/step\n",
            "Epoch 39/100\n",
            "90/90 - 0s - loss: 0.3933 - accuracy: 0.8351 - val_loss: 0.3505 - val_accuracy: 0.8348 - 276ms/epoch - 3ms/step\n",
            "Epoch 40/100\n",
            "90/90 - 0s - loss: 0.3932 - accuracy: 0.8355 - val_loss: 0.3497 - val_accuracy: 0.8276 - 291ms/epoch - 3ms/step\n",
            "Epoch 41/100\n",
            "90/90 - 0s - loss: 0.3920 - accuracy: 0.8308 - val_loss: 0.3494 - val_accuracy: 0.8348 - 270ms/epoch - 3ms/step\n",
            "Epoch 42/100\n",
            "90/90 - 0s - loss: 0.3906 - accuracy: 0.8330 - val_loss: 0.3463 - val_accuracy: 0.8366 - 289ms/epoch - 3ms/step\n",
            "Epoch 43/100\n",
            "90/90 - 0s - loss: 0.3900 - accuracy: 0.8371 - val_loss: 0.3445 - val_accuracy: 0.8384 - 274ms/epoch - 3ms/step\n",
            "Epoch 44/100\n",
            "90/90 - 0s - loss: 0.3883 - accuracy: 0.8357 - val_loss: 0.3438 - val_accuracy: 0.8402 - 322ms/epoch - 4ms/step\n",
            "Epoch 45/100\n",
            "90/90 - 0s - loss: 0.3869 - accuracy: 0.8353 - val_loss: 0.3420 - val_accuracy: 0.8402 - 371ms/epoch - 4ms/step\n",
            "Epoch 46/100\n",
            "90/90 - 0s - loss: 0.3867 - accuracy: 0.8353 - val_loss: 0.3405 - val_accuracy: 0.8348 - 305ms/epoch - 3ms/step\n",
            "Epoch 47/100\n",
            "90/90 - 0s - loss: 0.3845 - accuracy: 0.8346 - val_loss: 0.3397 - val_accuracy: 0.8330 - 285ms/epoch - 3ms/step\n",
            "Epoch 48/100\n",
            "90/90 - 0s - loss: 0.3827 - accuracy: 0.8371 - val_loss: 0.3374 - val_accuracy: 0.8402 - 332ms/epoch - 4ms/step\n",
            "Epoch 49/100\n",
            "90/90 - 0s - loss: 0.3821 - accuracy: 0.8377 - val_loss: 0.3364 - val_accuracy: 0.8348 - 323ms/epoch - 4ms/step\n",
            "Epoch 50/100\n",
            "90/90 - 0s - loss: 0.3806 - accuracy: 0.8395 - val_loss: 0.3352 - val_accuracy: 0.8438 - 311ms/epoch - 3ms/step\n",
            "Epoch 51/100\n",
            "90/90 - 0s - loss: 0.3801 - accuracy: 0.8404 - val_loss: 0.3337 - val_accuracy: 0.8420 - 354ms/epoch - 4ms/step\n",
            "Epoch 52/100\n",
            "90/90 - 0s - loss: 0.3792 - accuracy: 0.8339 - val_loss: 0.3331 - val_accuracy: 0.8402 - 272ms/epoch - 3ms/step\n",
            "Epoch 53/100\n",
            "90/90 - 0s - loss: 0.3773 - accuracy: 0.8393 - val_loss: 0.3336 - val_accuracy: 0.8492 - 178ms/epoch - 2ms/step\n",
            "Epoch 54/100\n",
            "90/90 - 0s - loss: 0.3751 - accuracy: 0.8389 - val_loss: 0.3314 - val_accuracy: 0.8474 - 187ms/epoch - 2ms/step\n",
            "Epoch 55/100\n",
            "90/90 - 0s - loss: 0.3753 - accuracy: 0.8364 - val_loss: 0.3277 - val_accuracy: 0.8438 - 188ms/epoch - 2ms/step\n",
            "Epoch 56/100\n",
            "90/90 - 0s - loss: 0.3736 - accuracy: 0.8411 - val_loss: 0.3267 - val_accuracy: 0.8474 - 204ms/epoch - 2ms/step\n",
            "Epoch 57/100\n",
            "90/90 - 0s - loss: 0.3729 - accuracy: 0.8389 - val_loss: 0.3259 - val_accuracy: 0.8402 - 184ms/epoch - 2ms/step\n",
            "Epoch 58/100\n",
            "90/90 - 0s - loss: 0.3719 - accuracy: 0.8389 - val_loss: 0.3255 - val_accuracy: 0.8456 - 189ms/epoch - 2ms/step\n",
            "Epoch 59/100\n",
            "90/90 - 0s - loss: 0.3702 - accuracy: 0.8411 - val_loss: 0.3249 - val_accuracy: 0.8474 - 189ms/epoch - 2ms/step\n",
            "Epoch 60/100\n",
            "90/90 - 0s - loss: 0.3708 - accuracy: 0.8402 - val_loss: 0.3225 - val_accuracy: 0.8492 - 191ms/epoch - 2ms/step\n",
            "Epoch 61/100\n",
            "90/90 - 0s - loss: 0.3686 - accuracy: 0.8422 - val_loss: 0.3221 - val_accuracy: 0.8510 - 190ms/epoch - 2ms/step\n",
            "Epoch 62/100\n",
            "90/90 - 0s - loss: 0.3664 - accuracy: 0.8440 - val_loss: 0.3231 - val_accuracy: 0.8420 - 173ms/epoch - 2ms/step\n",
            "Epoch 63/100\n",
            "90/90 - 0s - loss: 0.3670 - accuracy: 0.8427 - val_loss: 0.3198 - val_accuracy: 0.8510 - 188ms/epoch - 2ms/step\n",
            "Epoch 64/100\n",
            "90/90 - 0s - loss: 0.3664 - accuracy: 0.8413 - val_loss: 0.3228 - val_accuracy: 0.8420 - 179ms/epoch - 2ms/step\n",
            "Epoch 65/100\n",
            "90/90 - 0s - loss: 0.3654 - accuracy: 0.8429 - val_loss: 0.3199 - val_accuracy: 0.8438 - 176ms/epoch - 2ms/step\n",
            "Epoch 66/100\n",
            "90/90 - 0s - loss: 0.3643 - accuracy: 0.8422 - val_loss: 0.3176 - val_accuracy: 0.8564 - 203ms/epoch - 2ms/step\n",
            "Epoch 67/100\n",
            "90/90 - 0s - loss: 0.3635 - accuracy: 0.8443 - val_loss: 0.3167 - val_accuracy: 0.8492 - 186ms/epoch - 2ms/step\n",
            "Epoch 68/100\n",
            "90/90 - 0s - loss: 0.3624 - accuracy: 0.8431 - val_loss: 0.3185 - val_accuracy: 0.8438 - 184ms/epoch - 2ms/step\n",
            "Epoch 69/100\n",
            "90/90 - 0s - loss: 0.3635 - accuracy: 0.8434 - val_loss: 0.3164 - val_accuracy: 0.8528 - 175ms/epoch - 2ms/step\n",
            "Epoch 70/100\n",
            "90/90 - 0s - loss: 0.3614 - accuracy: 0.8449 - val_loss: 0.3162 - val_accuracy: 0.8528 - 186ms/epoch - 2ms/step\n",
            "Epoch 71/100\n",
            "90/90 - 0s - loss: 0.3604 - accuracy: 0.8485 - val_loss: 0.3141 - val_accuracy: 0.8564 - 173ms/epoch - 2ms/step\n",
            "Epoch 72/100\n",
            "90/90 - 0s - loss: 0.3601 - accuracy: 0.8436 - val_loss: 0.3154 - val_accuracy: 0.8528 - 197ms/epoch - 2ms/step\n",
            "Epoch 73/100\n",
            "90/90 - 0s - loss: 0.3592 - accuracy: 0.8447 - val_loss: 0.3137 - val_accuracy: 0.8546 - 185ms/epoch - 2ms/step\n",
            "Epoch 74/100\n",
            "90/90 - 0s - loss: 0.3582 - accuracy: 0.8445 - val_loss: 0.3125 - val_accuracy: 0.8582 - 176ms/epoch - 2ms/step\n",
            "Epoch 75/100\n",
            "90/90 - 0s - loss: 0.3578 - accuracy: 0.8431 - val_loss: 0.3125 - val_accuracy: 0.8510 - 179ms/epoch - 2ms/step\n",
            "Epoch 76/100\n",
            "90/90 - 0s - loss: 0.3580 - accuracy: 0.8458 - val_loss: 0.3117 - val_accuracy: 0.8492 - 196ms/epoch - 2ms/step\n",
            "Epoch 77/100\n",
            "90/90 - 0s - loss: 0.3563 - accuracy: 0.8456 - val_loss: 0.3108 - val_accuracy: 0.8474 - 182ms/epoch - 2ms/step\n",
            "Epoch 78/100\n",
            "90/90 - 0s - loss: 0.3553 - accuracy: 0.8456 - val_loss: 0.3113 - val_accuracy: 0.8510 - 186ms/epoch - 2ms/step\n",
            "Epoch 79/100\n",
            "90/90 - 0s - loss: 0.3555 - accuracy: 0.8456 - val_loss: 0.3090 - val_accuracy: 0.8510 - 186ms/epoch - 2ms/step\n",
            "Epoch 80/100\n",
            "90/90 - 0s - loss: 0.3551 - accuracy: 0.8436 - val_loss: 0.3088 - val_accuracy: 0.8564 - 181ms/epoch - 2ms/step\n",
            "Epoch 81/100\n",
            "90/90 - 0s - loss: 0.3540 - accuracy: 0.8465 - val_loss: 0.3097 - val_accuracy: 0.8510 - 182ms/epoch - 2ms/step\n",
            "Epoch 82/100\n",
            "90/90 - 0s - loss: 0.3537 - accuracy: 0.8485 - val_loss: 0.3073 - val_accuracy: 0.8528 - 184ms/epoch - 2ms/step\n",
            "Epoch 83/100\n",
            "90/90 - 0s - loss: 0.3523 - accuracy: 0.8472 - val_loss: 0.3079 - val_accuracy: 0.8528 - 200ms/epoch - 2ms/step\n",
            "Epoch 84/100\n",
            "90/90 - 0s - loss: 0.3528 - accuracy: 0.8440 - val_loss: 0.3056 - val_accuracy: 0.8582 - 177ms/epoch - 2ms/step\n",
            "Epoch 85/100\n",
            "90/90 - 0s - loss: 0.3535 - accuracy: 0.8467 - val_loss: 0.3066 - val_accuracy: 0.8474 - 199ms/epoch - 2ms/step\n",
            "Epoch 86/100\n",
            "90/90 - 0s - loss: 0.3506 - accuracy: 0.8476 - val_loss: 0.3055 - val_accuracy: 0.8564 - 181ms/epoch - 2ms/step\n",
            "Epoch 87/100\n",
            "90/90 - 0s - loss: 0.3512 - accuracy: 0.8485 - val_loss: 0.3056 - val_accuracy: 0.8492 - 178ms/epoch - 2ms/step\n",
            "Epoch 88/100\n",
            "90/90 - 0s - loss: 0.3495 - accuracy: 0.8469 - val_loss: 0.3054 - val_accuracy: 0.8474 - 213ms/epoch - 2ms/step\n",
            "Epoch 89/100\n",
            "90/90 - 0s - loss: 0.3502 - accuracy: 0.8458 - val_loss: 0.3036 - val_accuracy: 0.8618 - 171ms/epoch - 2ms/step\n",
            "Epoch 90/100\n",
            "90/90 - 0s - loss: 0.3490 - accuracy: 0.8469 - val_loss: 0.3027 - val_accuracy: 0.8564 - 181ms/epoch - 2ms/step\n",
            "Epoch 91/100\n",
            "90/90 - 0s - loss: 0.3490 - accuracy: 0.8463 - val_loss: 0.3054 - val_accuracy: 0.8564 - 176ms/epoch - 2ms/step\n",
            "Epoch 92/100\n",
            "90/90 - 0s - loss: 0.3486 - accuracy: 0.8445 - val_loss: 0.3017 - val_accuracy: 0.8654 - 198ms/epoch - 2ms/step\n",
            "Epoch 93/100\n",
            "90/90 - 0s - loss: 0.3480 - accuracy: 0.8461 - val_loss: 0.3018 - val_accuracy: 0.8564 - 210ms/epoch - 2ms/step\n",
            "Epoch 94/100\n",
            "90/90 - 0s - loss: 0.3472 - accuracy: 0.8483 - val_loss: 0.3021 - val_accuracy: 0.8582 - 186ms/epoch - 2ms/step\n",
            "Epoch 95/100\n",
            "90/90 - 0s - loss: 0.3463 - accuracy: 0.8472 - val_loss: 0.3023 - val_accuracy: 0.8600 - 189ms/epoch - 2ms/step\n",
            "Epoch 96/100\n",
            "90/90 - 0s - loss: 0.3473 - accuracy: 0.8469 - val_loss: 0.3010 - val_accuracy: 0.8582 - 188ms/epoch - 2ms/step\n",
            "Epoch 97/100\n",
            "90/90 - 0s - loss: 0.3464 - accuracy: 0.8481 - val_loss: 0.3033 - val_accuracy: 0.8564 - 189ms/epoch - 2ms/step\n",
            "Epoch 98/100\n",
            "90/90 - 0s - loss: 0.3460 - accuracy: 0.8461 - val_loss: 0.3002 - val_accuracy: 0.8600 - 230ms/epoch - 3ms/step\n",
            "Epoch 99/100\n",
            "90/90 - 0s - loss: 0.3450 - accuracy: 0.8472 - val_loss: 0.3004 - val_accuracy: 0.8618 - 184ms/epoch - 2ms/step\n",
            "Epoch 100/100\n",
            "90/90 - 0s - loss: 0.3455 - accuracy: 0.8472 - val_loss: 0.2996 - val_accuracy: 0.8564 - 187ms/epoch - 2ms/step\n"
          ]
        },
        {
          "output_type": "execute_result",
          "data": {
            "text/plain": [
              "<keras.callbacks.History at 0x7fb3c2f36250>"
            ]
          },
          "metadata": {},
          "execution_count": 50
        }
      ]
    },
    {
      "cell_type": "code",
      "source": [
        "# test the model\n",
        "\n",
        "test_loss, test_accuracy = model.evaluate(scaled_X_test, y_test)"
      ],
      "metadata": {
        "colab": {
          "base_uri": "https://localhost:8080/"
        },
        "id": "SvVwCfw1GtZt",
        "outputId": "bef911bd-85a8-4c67-f88a-3853ebf36e4e"
      },
      "execution_count": 51,
      "outputs": [
        {
          "output_type": "stream",
          "name": "stdout",
          "text": [
            "18/18 [==============================] - 0s 2ms/step - loss: 0.3287 - accuracy: 0.8636\n"
          ]
        }
      ]
    },
    {
      "cell_type": "code",
      "source": [
        "# Print Pretty\n",
        "\n",
        "print('\\nTest loss: {0:.2f}. Test accuracy: {1:.2f}%'.format(test_loss, test_accuracy*100.))"
      ],
      "metadata": {
        "colab": {
          "base_uri": "https://localhost:8080/"
        },
        "id": "zalRGu7N3sq9",
        "outputId": "6eb58bf7-029a-4076-bb1c-14ba804da15e"
      },
      "execution_count": 52,
      "outputs": [
        {
          "output_type": "stream",
          "name": "stdout",
          "text": [
            "\n",
            "Test loss: 0.33. Test accuracy: 86.36%\n"
          ]
        }
      ]
    },
    {
      "cell_type": "code",
      "source": [
        "# Save model\n",
        "# Test accuracy for the saved model is 87.19%\n",
        "#tf.keras.models.save_model(model, '/content/drive/MyDrive/Colab Data/KY EPSB/model', include_optimizer=True)"
      ],
      "metadata": {
        "id": "c0E9NeLg3swR"
      },
      "execution_count": 53,
      "outputs": []
    },
    {
      "cell_type": "markdown",
      "source": [
        "## Predict Classification using model"
      ],
      "metadata": {
        "id": "fIw4UJzTBLBr"
      }
    },
    {
      "cell_type": "code",
      "source": [
        "# Grab the data that we want to predict\n",
        "inputs = predict_df.loc[:,['End Year', 'Proficiency Rate', 'Reported Spending per student', \n",
        "             'Money Difference per school']]\n",
        "\n",
        "# Convert to np array\n",
        "# scale data\n",
        "inputs = epsb_scaler.transform(inputs.values)\n"
      ],
      "metadata": {
        "id": "SAZjPHwgGtjV"
      },
      "execution_count": 54,
      "outputs": []
    },
    {
      "cell_type": "code",
      "source": [
        "pred_classification = model.predict(inputs)"
      ],
      "metadata": {
        "colab": {
          "base_uri": "https://localhost:8080/"
        },
        "id": "QBIKXHyM3s1J",
        "outputId": "16b45627-92f4-4846-8af6-da794315f4e8"
      },
      "execution_count": 55,
      "outputs": [
        {
          "output_type": "stream",
          "name": "stdout",
          "text": [
            "310/310 [==============================] - 1s 1ms/step\n"
          ]
        }
      ]
    },
    {
      "cell_type": "code",
      "source": [
        "pred_classification.shape"
      ],
      "metadata": {
        "colab": {
          "base_uri": "https://localhost:8080/"
        },
        "id": "8ZFlF95KIchn",
        "outputId": "06aac5ad-20c2-458c-cc0b-05cb48f26ca8"
      },
      "execution_count": 56,
      "outputs": [
        {
          "output_type": "execute_result",
          "data": {
            "text/plain": [
              "(9892, 3)"
            ]
          },
          "metadata": {},
          "execution_count": 56
        }
      ]
    },
    {
      "cell_type": "code",
      "source": [
        "pred_classification"
      ],
      "metadata": {
        "colab": {
          "base_uri": "https://localhost:8080/"
        },
        "id": "v6TrNSRMoElh",
        "outputId": "0ac51086-00d4-41da-be35-f0e12a86d16d"
      },
      "execution_count": 57,
      "outputs": [
        {
          "output_type": "execute_result",
          "data": {
            "text/plain": [
              "array([[8.6352033e-05, 3.9783288e-02, 9.6013027e-01],\n",
              "       [1.9732664e-05, 1.5138632e-02, 9.8484159e-01],\n",
              "       [5.1798224e-02, 6.8692410e-01, 2.6127765e-01],\n",
              "       ...,\n",
              "       [8.2609916e-01, 1.7292324e-01, 9.7763794e-04],\n",
              "       [9.7363949e-01, 2.6308205e-02, 5.2324820e-05],\n",
              "       [5.5912650e-01, 4.3340173e-01, 7.4717100e-03]], dtype=float32)"
            ]
          },
          "metadata": {},
          "execution_count": 57
        }
      ]
    },
    {
      "cell_type": "code",
      "source": [
        "# Convert to a df\n",
        "pred_classification = pd.DataFrame(pred_classification, columns=['Distinguished', 'Proficient', 'Needs Improvement'])"
      ],
      "metadata": {
        "id": "e3ZQCoF7IcnV"
      },
      "execution_count": 58,
      "outputs": []
    },
    {
      "cell_type": "code",
      "source": [
        "# Select the column with the highest percentage\n",
        "pred_classification = pred_classification.idxmax(axis=1)"
      ],
      "metadata": {
        "id": "q0x0Ybs7QUyZ"
      },
      "execution_count": 59,
      "outputs": []
    },
    {
      "cell_type": "code",
      "source": [
        "pred_classification"
      ],
      "metadata": {
        "colab": {
          "base_uri": "https://localhost:8080/"
        },
        "id": "oDIer6XfPkBC",
        "outputId": "f29dbbdb-fe1d-44b3-d681-042944398592"
      },
      "execution_count": 60,
      "outputs": [
        {
          "output_type": "execute_result",
          "data": {
            "text/plain": [
              "0       Needs Improvement\n",
              "1       Needs Improvement\n",
              "2              Proficient\n",
              "3              Proficient\n",
              "4              Proficient\n",
              "              ...        \n",
              "9887    Needs Improvement\n",
              "9888        Distinguished\n",
              "9889        Distinguished\n",
              "9890        Distinguished\n",
              "9891        Distinguished\n",
              "Length: 9892, dtype: object"
            ]
          },
          "metadata": {},
          "execution_count": 60
        }
      ]
    },
    {
      "cell_type": "code",
      "source": [
        "pred_classification.shape"
      ],
      "metadata": {
        "colab": {
          "base_uri": "https://localhost:8080/"
        },
        "id": "346CVAo4dDVR",
        "outputId": "3bd9934b-ad41-4f31-fbdc-77c64698b99c"
      },
      "execution_count": 61,
      "outputs": [
        {
          "output_type": "execute_result",
          "data": {
            "text/plain": [
              "(9892,)"
            ]
          },
          "metadata": {},
          "execution_count": 61
        }
      ]
    },
    {
      "cell_type": "code",
      "source": [
        "predict_df.index"
      ],
      "metadata": {
        "colab": {
          "base_uri": "https://localhost:8080/"
        },
        "id": "wFFeu4DLIck-",
        "outputId": "9450906f-e978-42a3-ddbe-acc3efc0e54d"
      },
      "execution_count": 62,
      "outputs": [
        {
          "output_type": "execute_result",
          "data": {
            "text/plain": [
              "RangeIndex(start=0, stop=9892, step=1)"
            ]
          },
          "metadata": {},
          "execution_count": 62
        }
      ]
    },
    {
      "cell_type": "code",
      "source": [
        "predict_df['Predicted Classification'] = pred_classification"
      ],
      "metadata": {
        "id": "yT9h-_lrWMN8"
      },
      "execution_count": 63,
      "outputs": []
    },
    {
      "cell_type": "code",
      "source": [
        "predict_df['Predicted Classification'].value_counts(dropna=False)"
      ],
      "metadata": {
        "colab": {
          "base_uri": "https://localhost:8080/"
        },
        "id": "dsBIJyNEpXeb",
        "outputId": "7f8e4f15-350d-4fb8-8577-27e488b0b3f3"
      },
      "execution_count": 64,
      "outputs": [
        {
          "output_type": "execute_result",
          "data": {
            "text/plain": [
              "Needs Improvement    4166\n",
              "Proficient           2877\n",
              "Distinguished        2836\n",
              "NaN                    13\n",
              "Name: Predicted Classification, dtype: int64"
            ]
          },
          "metadata": {},
          "execution_count": 64
        }
      ]
    },
    {
      "cell_type": "code",
      "source": [
        "predict_df"
      ],
      "metadata": {
        "colab": {
          "base_uri": "https://localhost:8080/",
          "height": 973
        },
        "id": "XS3Z6Q2Fp0Br",
        "outputId": "5ac63b5d-fdb2-4e22-a75a-b80a0dcd8963"
      },
      "execution_count": 65,
      "outputs": [
        {
          "output_type": "execute_result",
          "data": {
            "text/plain": [
              "      End Year  District Code         District  School Code  \\\n",
              "0         2012              1     Adair County         1010   \n",
              "1         2013              1     Adair County         1010   \n",
              "2         2014              1     Adair County         1010   \n",
              "3         2015              1     Adair County         1010   \n",
              "4         2016              1     Adair County         1010   \n",
              "...        ...            ...              ...          ...   \n",
              "9887      2016            601  Woodford County       601120   \n",
              "9888      2017            601  Woodford County       601120   \n",
              "9889      2018            601  Woodford County       601120   \n",
              "9890      2019            601  Woodford County       601120   \n",
              "9891      2022            601  Woodford County       601120   \n",
              "\n",
              "                           School  Proficiency Rate  KY Rank/Rating  \\\n",
              "0        Adair County High School                55           57.00   \n",
              "1        Adair County High School                54           48.00   \n",
              "2        Adair County High School                69           65.00   \n",
              "3        Adair County High School                71           73.00   \n",
              "4        Adair County High School                72             NaN   \n",
              "...                           ...               ...             ...   \n",
              "9887  Northside Elementary School                60             NaN   \n",
              "9888  Northside Elementary School                75             NaN   \n",
              "9889  Northside Elementary School                73             NaN   \n",
              "9890  Northside Elementary School                76             NaN   \n",
              "9891  Northside Elementary School                68             NaN   \n",
              "\n",
              "         Classification  Reported Spending per student  \\\n",
              "0     Needs Improvement                       6,460.00   \n",
              "1     Needs Improvement                       6,380.00   \n",
              "2     Needs Improvement                       6,970.00   \n",
              "3            Proficient                       9,490.00   \n",
              "4            Proficient                      10,270.00   \n",
              "...                 ...                            ...   \n",
              "9887  Needs Improvement                      12,050.00   \n",
              "9888                NaN                       9,940.00   \n",
              "9889                NaN                      13,640.00   \n",
              "9890      Distinguished                      11,860.00   \n",
              "9891         Proficient                      12,173.75   \n",
              "\n",
              "      Money Difference per school  Money Difference per student  \\\n",
              "0                      -36,400.00                        -50.00   \n",
              "1                      -37,000.00                        -50.00   \n",
              "2                      -13,100.00                        -20.00   \n",
              "3                      -42,100.00                        -60.00   \n",
              "4                      -19,200.00                        -20.00   \n",
              "...                           ...                           ...   \n",
              "9887                    34,000.00                        110.00   \n",
              "9888                    17,400.00                         50.00   \n",
              "9889                    51,800.00                        150.00   \n",
              "9890                    48,400.00                        140.00   \n",
              "9891                    47,887.50                        151.25   \n",
              "\n",
              "      Estimated Spending per student Predicted Classification  \n",
              "0                           6,405.00        Needs Improvement  \n",
              "1                           6,328.00        Needs Improvement  \n",
              "2                           6,952.00               Proficient  \n",
              "3                           9,431.00               Proficient  \n",
              "4                          10,245.00               Proficient  \n",
              "...                              ...                      ...  \n",
              "9887                       12,153.00        Needs Improvement  \n",
              "9888                        9,993.00            Distinguished  \n",
              "9889                       13,791.00            Distinguished  \n",
              "9890                       12,007.00            Distinguished  \n",
              "9891                       12,324.50            Distinguished  \n",
              "\n",
              "[9892 rows x 13 columns]"
            ],
            "text/html": [
              "\n",
              "  <div id=\"df-a4b73ba5-66c2-4e07-b335-252b6a84e30c\">\n",
              "    <div class=\"colab-df-container\">\n",
              "      <div>\n",
              "<style scoped>\n",
              "    .dataframe tbody tr th:only-of-type {\n",
              "        vertical-align: middle;\n",
              "    }\n",
              "\n",
              "    .dataframe tbody tr th {\n",
              "        vertical-align: top;\n",
              "    }\n",
              "\n",
              "    .dataframe thead th {\n",
              "        text-align: right;\n",
              "    }\n",
              "</style>\n",
              "<table border=\"1\" class=\"dataframe\">\n",
              "  <thead>\n",
              "    <tr style=\"text-align: right;\">\n",
              "      <th></th>\n",
              "      <th>End Year</th>\n",
              "      <th>District Code</th>\n",
              "      <th>District</th>\n",
              "      <th>School Code</th>\n",
              "      <th>School</th>\n",
              "      <th>Proficiency Rate</th>\n",
              "      <th>KY Rank/Rating</th>\n",
              "      <th>Classification</th>\n",
              "      <th>Reported Spending per student</th>\n",
              "      <th>Money Difference per school</th>\n",
              "      <th>Money Difference per student</th>\n",
              "      <th>Estimated Spending per student</th>\n",
              "      <th>Predicted Classification</th>\n",
              "    </tr>\n",
              "  </thead>\n",
              "  <tbody>\n",
              "    <tr>\n",
              "      <th>0</th>\n",
              "      <td>2012</td>\n",
              "      <td>1</td>\n",
              "      <td>Adair County</td>\n",
              "      <td>1010</td>\n",
              "      <td>Adair County High School</td>\n",
              "      <td>55</td>\n",
              "      <td>57.00</td>\n",
              "      <td>Needs Improvement</td>\n",
              "      <td>6,460.00</td>\n",
              "      <td>-36,400.00</td>\n",
              "      <td>-50.00</td>\n",
              "      <td>6,405.00</td>\n",
              "      <td>Needs Improvement</td>\n",
              "    </tr>\n",
              "    <tr>\n",
              "      <th>1</th>\n",
              "      <td>2013</td>\n",
              "      <td>1</td>\n",
              "      <td>Adair County</td>\n",
              "      <td>1010</td>\n",
              "      <td>Adair County High School</td>\n",
              "      <td>54</td>\n",
              "      <td>48.00</td>\n",
              "      <td>Needs Improvement</td>\n",
              "      <td>6,380.00</td>\n",
              "      <td>-37,000.00</td>\n",
              "      <td>-50.00</td>\n",
              "      <td>6,328.00</td>\n",
              "      <td>Needs Improvement</td>\n",
              "    </tr>\n",
              "    <tr>\n",
              "      <th>2</th>\n",
              "      <td>2014</td>\n",
              "      <td>1</td>\n",
              "      <td>Adair County</td>\n",
              "      <td>1010</td>\n",
              "      <td>Adair County High School</td>\n",
              "      <td>69</td>\n",
              "      <td>65.00</td>\n",
              "      <td>Needs Improvement</td>\n",
              "      <td>6,970.00</td>\n",
              "      <td>-13,100.00</td>\n",
              "      <td>-20.00</td>\n",
              "      <td>6,952.00</td>\n",
              "      <td>Proficient</td>\n",
              "    </tr>\n",
              "    <tr>\n",
              "      <th>3</th>\n",
              "      <td>2015</td>\n",
              "      <td>1</td>\n",
              "      <td>Adair County</td>\n",
              "      <td>1010</td>\n",
              "      <td>Adair County High School</td>\n",
              "      <td>71</td>\n",
              "      <td>73.00</td>\n",
              "      <td>Proficient</td>\n",
              "      <td>9,490.00</td>\n",
              "      <td>-42,100.00</td>\n",
              "      <td>-60.00</td>\n",
              "      <td>9,431.00</td>\n",
              "      <td>Proficient</td>\n",
              "    </tr>\n",
              "    <tr>\n",
              "      <th>4</th>\n",
              "      <td>2016</td>\n",
              "      <td>1</td>\n",
              "      <td>Adair County</td>\n",
              "      <td>1010</td>\n",
              "      <td>Adair County High School</td>\n",
              "      <td>72</td>\n",
              "      <td>NaN</td>\n",
              "      <td>Proficient</td>\n",
              "      <td>10,270.00</td>\n",
              "      <td>-19,200.00</td>\n",
              "      <td>-20.00</td>\n",
              "      <td>10,245.00</td>\n",
              "      <td>Proficient</td>\n",
              "    </tr>\n",
              "    <tr>\n",
              "      <th>...</th>\n",
              "      <td>...</td>\n",
              "      <td>...</td>\n",
              "      <td>...</td>\n",
              "      <td>...</td>\n",
              "      <td>...</td>\n",
              "      <td>...</td>\n",
              "      <td>...</td>\n",
              "      <td>...</td>\n",
              "      <td>...</td>\n",
              "      <td>...</td>\n",
              "      <td>...</td>\n",
              "      <td>...</td>\n",
              "      <td>...</td>\n",
              "    </tr>\n",
              "    <tr>\n",
              "      <th>9887</th>\n",
              "      <td>2016</td>\n",
              "      <td>601</td>\n",
              "      <td>Woodford County</td>\n",
              "      <td>601120</td>\n",
              "      <td>Northside Elementary School</td>\n",
              "      <td>60</td>\n",
              "      <td>NaN</td>\n",
              "      <td>Needs Improvement</td>\n",
              "      <td>12,050.00</td>\n",
              "      <td>34,000.00</td>\n",
              "      <td>110.00</td>\n",
              "      <td>12,153.00</td>\n",
              "      <td>Needs Improvement</td>\n",
              "    </tr>\n",
              "    <tr>\n",
              "      <th>9888</th>\n",
              "      <td>2017</td>\n",
              "      <td>601</td>\n",
              "      <td>Woodford County</td>\n",
              "      <td>601120</td>\n",
              "      <td>Northside Elementary School</td>\n",
              "      <td>75</td>\n",
              "      <td>NaN</td>\n",
              "      <td>NaN</td>\n",
              "      <td>9,940.00</td>\n",
              "      <td>17,400.00</td>\n",
              "      <td>50.00</td>\n",
              "      <td>9,993.00</td>\n",
              "      <td>Distinguished</td>\n",
              "    </tr>\n",
              "    <tr>\n",
              "      <th>9889</th>\n",
              "      <td>2018</td>\n",
              "      <td>601</td>\n",
              "      <td>Woodford County</td>\n",
              "      <td>601120</td>\n",
              "      <td>Northside Elementary School</td>\n",
              "      <td>73</td>\n",
              "      <td>NaN</td>\n",
              "      <td>NaN</td>\n",
              "      <td>13,640.00</td>\n",
              "      <td>51,800.00</td>\n",
              "      <td>150.00</td>\n",
              "      <td>13,791.00</td>\n",
              "      <td>Distinguished</td>\n",
              "    </tr>\n",
              "    <tr>\n",
              "      <th>9890</th>\n",
              "      <td>2019</td>\n",
              "      <td>601</td>\n",
              "      <td>Woodford County</td>\n",
              "      <td>601120</td>\n",
              "      <td>Northside Elementary School</td>\n",
              "      <td>76</td>\n",
              "      <td>NaN</td>\n",
              "      <td>Distinguished</td>\n",
              "      <td>11,860.00</td>\n",
              "      <td>48,400.00</td>\n",
              "      <td>140.00</td>\n",
              "      <td>12,007.00</td>\n",
              "      <td>Distinguished</td>\n",
              "    </tr>\n",
              "    <tr>\n",
              "      <th>9891</th>\n",
              "      <td>2022</td>\n",
              "      <td>601</td>\n",
              "      <td>Woodford County</td>\n",
              "      <td>601120</td>\n",
              "      <td>Northside Elementary School</td>\n",
              "      <td>68</td>\n",
              "      <td>NaN</td>\n",
              "      <td>Proficient</td>\n",
              "      <td>12,173.75</td>\n",
              "      <td>47,887.50</td>\n",
              "      <td>151.25</td>\n",
              "      <td>12,324.50</td>\n",
              "      <td>Distinguished</td>\n",
              "    </tr>\n",
              "  </tbody>\n",
              "</table>\n",
              "<p>9892 rows × 13 columns</p>\n",
              "</div>\n",
              "      <button class=\"colab-df-convert\" onclick=\"convertToInteractive('df-a4b73ba5-66c2-4e07-b335-252b6a84e30c')\"\n",
              "              title=\"Convert this dataframe to an interactive table.\"\n",
              "              style=\"display:none;\">\n",
              "        \n",
              "  <svg xmlns=\"http://www.w3.org/2000/svg\" height=\"24px\"viewBox=\"0 0 24 24\"\n",
              "       width=\"24px\">\n",
              "    <path d=\"M0 0h24v24H0V0z\" fill=\"none\"/>\n",
              "    <path d=\"M18.56 5.44l.94 2.06.94-2.06 2.06-.94-2.06-.94-.94-2.06-.94 2.06-2.06.94zm-11 1L8.5 8.5l.94-2.06 2.06-.94-2.06-.94L8.5 2.5l-.94 2.06-2.06.94zm10 10l.94 2.06.94-2.06 2.06-.94-2.06-.94-.94-2.06-.94 2.06-2.06.94z\"/><path d=\"M17.41 7.96l-1.37-1.37c-.4-.4-.92-.59-1.43-.59-.52 0-1.04.2-1.43.59L10.3 9.45l-7.72 7.72c-.78.78-.78 2.05 0 2.83L4 21.41c.39.39.9.59 1.41.59.51 0 1.02-.2 1.41-.59l7.78-7.78 2.81-2.81c.8-.78.8-2.07 0-2.86zM5.41 20L4 18.59l7.72-7.72 1.47 1.35L5.41 20z\"/>\n",
              "  </svg>\n",
              "      </button>\n",
              "      \n",
              "  <style>\n",
              "    .colab-df-container {\n",
              "      display:flex;\n",
              "      flex-wrap:wrap;\n",
              "      gap: 12px;\n",
              "    }\n",
              "\n",
              "    .colab-df-convert {\n",
              "      background-color: #E8F0FE;\n",
              "      border: none;\n",
              "      border-radius: 50%;\n",
              "      cursor: pointer;\n",
              "      display: none;\n",
              "      fill: #1967D2;\n",
              "      height: 32px;\n",
              "      padding: 0 0 0 0;\n",
              "      width: 32px;\n",
              "    }\n",
              "\n",
              "    .colab-df-convert:hover {\n",
              "      background-color: #E2EBFA;\n",
              "      box-shadow: 0px 1px 2px rgba(60, 64, 67, 0.3), 0px 1px 3px 1px rgba(60, 64, 67, 0.15);\n",
              "      fill: #174EA6;\n",
              "    }\n",
              "\n",
              "    [theme=dark] .colab-df-convert {\n",
              "      background-color: #3B4455;\n",
              "      fill: #D2E3FC;\n",
              "    }\n",
              "\n",
              "    [theme=dark] .colab-df-convert:hover {\n",
              "      background-color: #434B5C;\n",
              "      box-shadow: 0px 1px 3px 1px rgba(0, 0, 0, 0.15);\n",
              "      filter: drop-shadow(0px 1px 2px rgba(0, 0, 0, 0.3));\n",
              "      fill: #FFFFFF;\n",
              "    }\n",
              "  </style>\n",
              "\n",
              "      <script>\n",
              "        const buttonEl =\n",
              "          document.querySelector('#df-a4b73ba5-66c2-4e07-b335-252b6a84e30c button.colab-df-convert');\n",
              "        buttonEl.style.display =\n",
              "          google.colab.kernel.accessAllowed ? 'block' : 'none';\n",
              "\n",
              "        async function convertToInteractive(key) {\n",
              "          const element = document.querySelector('#df-a4b73ba5-66c2-4e07-b335-252b6a84e30c');\n",
              "          const dataTable =\n",
              "            await google.colab.kernel.invokeFunction('convertToInteractive',\n",
              "                                                     [key], {});\n",
              "          if (!dataTable) return;\n",
              "\n",
              "          const docLinkHtml = 'Like what you see? Visit the ' +\n",
              "            '<a target=\"_blank\" href=https://colab.research.google.com/notebooks/data_table.ipynb>data table notebook</a>'\n",
              "            + ' to learn more about interactive tables.';\n",
              "          element.innerHTML = '';\n",
              "          dataTable['output_type'] = 'display_data';\n",
              "          await google.colab.output.renderOutput(dataTable, element);\n",
              "          const docLink = document.createElement('div');\n",
              "          docLink.innerHTML = docLinkHtml;\n",
              "          element.appendChild(docLink);\n",
              "        }\n",
              "      </script>\n",
              "    </div>\n",
              "  </div>\n",
              "  "
            ]
          },
          "metadata": {},
          "execution_count": 65
        }
      ]
    },
    {
      "cell_type": "code",
      "source": [
        "predict_df['Classification'].fillna(predict_df['Predicted Classification'], inplace = True)"
      ],
      "metadata": {
        "id": "h1tbSSBtahJA"
      },
      "execution_count": 66,
      "outputs": []
    },
    {
      "cell_type": "code",
      "source": [
        "predict_df.drop(['KY Rank/Rating', 'Predicted Classification'], axis=1, inplace=True)"
      ],
      "metadata": {
        "id": "Gu3FpG6peJE6"
      },
      "execution_count": 67,
      "outputs": []
    },
    {
      "cell_type": "code",
      "source": [
        "predict_df['Classification'].value_counts()"
      ],
      "metadata": {
        "colab": {
          "base_uri": "https://localhost:8080/"
        },
        "id": "BhHG-rD3ed8L",
        "outputId": "4d8c0010-2194-4362-d6b1-be36dcf54057"
      },
      "execution_count": 68,
      "outputs": [
        {
          "output_type": "execute_result",
          "data": {
            "text/plain": [
              "Needs Improvement    4424\n",
              "Distinguished        2871\n",
              "Proficient           2597\n",
              "Name: Classification, dtype: int64"
            ]
          },
          "metadata": {},
          "execution_count": 68
        }
      ]
    },
    {
      "cell_type": "code",
      "source": [
        "predict_df.corr()['Proficiency Rate'].sort_values()"
      ],
      "metadata": {
        "colab": {
          "base_uri": "https://localhost:8080/"
        },
        "id": "zSahtkRIq_MZ",
        "outputId": "a98147db-ccac-42e1-fb56-ffe9d66ab387"
      },
      "execution_count": 69,
      "outputs": [
        {
          "output_type": "execute_result",
          "data": {
            "text/plain": [
              "Reported Spending per student    -0.05\n",
              "Estimated Spending per student   -0.03\n",
              "School Code                       0.01\n",
              "District Code                     0.01\n",
              "End Year                          0.04\n",
              "Money Difference per student      0.25\n",
              "Money Difference per school       0.27\n",
              "Proficiency Rate                  1.00\n",
              "Name: Proficiency Rate, dtype: float64"
            ]
          },
          "metadata": {},
          "execution_count": 69
        }
      ]
    },
    {
      "cell_type": "code",
      "source": [
        "predict_df['Classification'].value_counts()"
      ],
      "metadata": {
        "colab": {
          "base_uri": "https://localhost:8080/"
        },
        "id": "bIq-Y0DgQU_H",
        "outputId": "4afa84e5-cd5a-43d0-8456-374e68d3b934"
      },
      "execution_count": 70,
      "outputs": [
        {
          "output_type": "execute_result",
          "data": {
            "text/plain": [
              "Needs Improvement    4424\n",
              "Distinguished        2871\n",
              "Proficient           2597\n",
              "Name: Classification, dtype: int64"
            ]
          },
          "metadata": {},
          "execution_count": 70
        }
      ]
    },
    {
      "cell_type": "code",
      "source": [
        "predict_df[predict_df['School'] == 'Knight Middle']"
      ],
      "metadata": {
        "id": "Hjw8et2XnnUb",
        "outputId": "56827d6c-2173-4bb2-87fd-e0ccf05073d0",
        "colab": {
          "base_uri": "https://localhost:8080/",
          "height": 584
        }
      },
      "execution_count": 71,
      "outputs": [
        {
          "output_type": "execute_result",
          "data": {
            "text/plain": [
              "      End Year  District Code          District  School Code         School  \\\n",
              "5219      2012            275  Jefferson County       275163  Knight Middle   \n",
              "5220      2013            275  Jefferson County       275163  Knight Middle   \n",
              "5221      2014            275  Jefferson County       275163  Knight Middle   \n",
              "5222      2015            275  Jefferson County       275163  Knight Middle   \n",
              "5223      2016            275  Jefferson County       275163  Knight Middle   \n",
              "5224      2017            275  Jefferson County       275163  Knight Middle   \n",
              "5225      2018            275  Jefferson County       275163  Knight Middle   \n",
              "5226      2019            275  Jefferson County       275163  Knight Middle   \n",
              "5227      2022            275  Jefferson County       275163  Knight Middle   \n",
              "\n",
              "      Proficiency Rate     Classification  Reported Spending per student  \\\n",
              "5219                36  Needs Improvement                      10,120.00   \n",
              "5220                34  Needs Improvement                      11,300.00   \n",
              "5221                45  Needs Improvement                      11,850.00   \n",
              "5222                52  Needs Improvement                      10,350.00   \n",
              "5223                53  Needs Improvement                      13,990.00   \n",
              "5224                48  Needs Improvement                      14,970.00   \n",
              "5225                44  Needs Improvement                      16,380.00   \n",
              "5226                48  Needs Improvement                      16,640.00   \n",
              "5227                34  Needs Improvement                      13,200.00   \n",
              "\n",
              "      Money Difference per school  Money Difference per student  \\\n",
              "5219                  -298,300.00                       -690.00   \n",
              "5220                  -274,800.00                       -620.00   \n",
              "5221                  -229,900.00                       -560.00   \n",
              "5222                  -268,100.00                       -640.00   \n",
              "5223                  -246,800.00                       -590.00   \n",
              "5224                  -273,400.00                       -680.00   \n",
              "5225                  -226,500.00                       -520.00   \n",
              "5226                  -304,300.00                       -690.00   \n",
              "5227                  -265,262.50                       -623.75   \n",
              "\n",
              "      Estimated Spending per student  \n",
              "5219                        9,427.00  \n",
              "5220                       10,677.00  \n",
              "5221                       11,289.00  \n",
              "5222                        9,710.00  \n",
              "5223                       13,404.00  \n",
              "5224                       14,296.00  \n",
              "5225                       15,858.00  \n",
              "5226                       15,952.00  \n",
              "5227                       12,576.62  "
            ],
            "text/html": [
              "\n",
              "  <div id=\"df-f3972740-93ad-4eb7-ab00-88d47120a6a8\">\n",
              "    <div class=\"colab-df-container\">\n",
              "      <div>\n",
              "<style scoped>\n",
              "    .dataframe tbody tr th:only-of-type {\n",
              "        vertical-align: middle;\n",
              "    }\n",
              "\n",
              "    .dataframe tbody tr th {\n",
              "        vertical-align: top;\n",
              "    }\n",
              "\n",
              "    .dataframe thead th {\n",
              "        text-align: right;\n",
              "    }\n",
              "</style>\n",
              "<table border=\"1\" class=\"dataframe\">\n",
              "  <thead>\n",
              "    <tr style=\"text-align: right;\">\n",
              "      <th></th>\n",
              "      <th>End Year</th>\n",
              "      <th>District Code</th>\n",
              "      <th>District</th>\n",
              "      <th>School Code</th>\n",
              "      <th>School</th>\n",
              "      <th>Proficiency Rate</th>\n",
              "      <th>Classification</th>\n",
              "      <th>Reported Spending per student</th>\n",
              "      <th>Money Difference per school</th>\n",
              "      <th>Money Difference per student</th>\n",
              "      <th>Estimated Spending per student</th>\n",
              "    </tr>\n",
              "  </thead>\n",
              "  <tbody>\n",
              "    <tr>\n",
              "      <th>5219</th>\n",
              "      <td>2012</td>\n",
              "      <td>275</td>\n",
              "      <td>Jefferson County</td>\n",
              "      <td>275163</td>\n",
              "      <td>Knight Middle</td>\n",
              "      <td>36</td>\n",
              "      <td>Needs Improvement</td>\n",
              "      <td>10,120.00</td>\n",
              "      <td>-298,300.00</td>\n",
              "      <td>-690.00</td>\n",
              "      <td>9,427.00</td>\n",
              "    </tr>\n",
              "    <tr>\n",
              "      <th>5220</th>\n",
              "      <td>2013</td>\n",
              "      <td>275</td>\n",
              "      <td>Jefferson County</td>\n",
              "      <td>275163</td>\n",
              "      <td>Knight Middle</td>\n",
              "      <td>34</td>\n",
              "      <td>Needs Improvement</td>\n",
              "      <td>11,300.00</td>\n",
              "      <td>-274,800.00</td>\n",
              "      <td>-620.00</td>\n",
              "      <td>10,677.00</td>\n",
              "    </tr>\n",
              "    <tr>\n",
              "      <th>5221</th>\n",
              "      <td>2014</td>\n",
              "      <td>275</td>\n",
              "      <td>Jefferson County</td>\n",
              "      <td>275163</td>\n",
              "      <td>Knight Middle</td>\n",
              "      <td>45</td>\n",
              "      <td>Needs Improvement</td>\n",
              "      <td>11,850.00</td>\n",
              "      <td>-229,900.00</td>\n",
              "      <td>-560.00</td>\n",
              "      <td>11,289.00</td>\n",
              "    </tr>\n",
              "    <tr>\n",
              "      <th>5222</th>\n",
              "      <td>2015</td>\n",
              "      <td>275</td>\n",
              "      <td>Jefferson County</td>\n",
              "      <td>275163</td>\n",
              "      <td>Knight Middle</td>\n",
              "      <td>52</td>\n",
              "      <td>Needs Improvement</td>\n",
              "      <td>10,350.00</td>\n",
              "      <td>-268,100.00</td>\n",
              "      <td>-640.00</td>\n",
              "      <td>9,710.00</td>\n",
              "    </tr>\n",
              "    <tr>\n",
              "      <th>5223</th>\n",
              "      <td>2016</td>\n",
              "      <td>275</td>\n",
              "      <td>Jefferson County</td>\n",
              "      <td>275163</td>\n",
              "      <td>Knight Middle</td>\n",
              "      <td>53</td>\n",
              "      <td>Needs Improvement</td>\n",
              "      <td>13,990.00</td>\n",
              "      <td>-246,800.00</td>\n",
              "      <td>-590.00</td>\n",
              "      <td>13,404.00</td>\n",
              "    </tr>\n",
              "    <tr>\n",
              "      <th>5224</th>\n",
              "      <td>2017</td>\n",
              "      <td>275</td>\n",
              "      <td>Jefferson County</td>\n",
              "      <td>275163</td>\n",
              "      <td>Knight Middle</td>\n",
              "      <td>48</td>\n",
              "      <td>Needs Improvement</td>\n",
              "      <td>14,970.00</td>\n",
              "      <td>-273,400.00</td>\n",
              "      <td>-680.00</td>\n",
              "      <td>14,296.00</td>\n",
              "    </tr>\n",
              "    <tr>\n",
              "      <th>5225</th>\n",
              "      <td>2018</td>\n",
              "      <td>275</td>\n",
              "      <td>Jefferson County</td>\n",
              "      <td>275163</td>\n",
              "      <td>Knight Middle</td>\n",
              "      <td>44</td>\n",
              "      <td>Needs Improvement</td>\n",
              "      <td>16,380.00</td>\n",
              "      <td>-226,500.00</td>\n",
              "      <td>-520.00</td>\n",
              "      <td>15,858.00</td>\n",
              "    </tr>\n",
              "    <tr>\n",
              "      <th>5226</th>\n",
              "      <td>2019</td>\n",
              "      <td>275</td>\n",
              "      <td>Jefferson County</td>\n",
              "      <td>275163</td>\n",
              "      <td>Knight Middle</td>\n",
              "      <td>48</td>\n",
              "      <td>Needs Improvement</td>\n",
              "      <td>16,640.00</td>\n",
              "      <td>-304,300.00</td>\n",
              "      <td>-690.00</td>\n",
              "      <td>15,952.00</td>\n",
              "    </tr>\n",
              "    <tr>\n",
              "      <th>5227</th>\n",
              "      <td>2022</td>\n",
              "      <td>275</td>\n",
              "      <td>Jefferson County</td>\n",
              "      <td>275163</td>\n",
              "      <td>Knight Middle</td>\n",
              "      <td>34</td>\n",
              "      <td>Needs Improvement</td>\n",
              "      <td>13,200.00</td>\n",
              "      <td>-265,262.50</td>\n",
              "      <td>-623.75</td>\n",
              "      <td>12,576.62</td>\n",
              "    </tr>\n",
              "  </tbody>\n",
              "</table>\n",
              "</div>\n",
              "      <button class=\"colab-df-convert\" onclick=\"convertToInteractive('df-f3972740-93ad-4eb7-ab00-88d47120a6a8')\"\n",
              "              title=\"Convert this dataframe to an interactive table.\"\n",
              "              style=\"display:none;\">\n",
              "        \n",
              "  <svg xmlns=\"http://www.w3.org/2000/svg\" height=\"24px\"viewBox=\"0 0 24 24\"\n",
              "       width=\"24px\">\n",
              "    <path d=\"M0 0h24v24H0V0z\" fill=\"none\"/>\n",
              "    <path d=\"M18.56 5.44l.94 2.06.94-2.06 2.06-.94-2.06-.94-.94-2.06-.94 2.06-2.06.94zm-11 1L8.5 8.5l.94-2.06 2.06-.94-2.06-.94L8.5 2.5l-.94 2.06-2.06.94zm10 10l.94 2.06.94-2.06 2.06-.94-2.06-.94-.94-2.06-.94 2.06-2.06.94z\"/><path d=\"M17.41 7.96l-1.37-1.37c-.4-.4-.92-.59-1.43-.59-.52 0-1.04.2-1.43.59L10.3 9.45l-7.72 7.72c-.78.78-.78 2.05 0 2.83L4 21.41c.39.39.9.59 1.41.59.51 0 1.02-.2 1.41-.59l7.78-7.78 2.81-2.81c.8-.78.8-2.07 0-2.86zM5.41 20L4 18.59l7.72-7.72 1.47 1.35L5.41 20z\"/>\n",
              "  </svg>\n",
              "      </button>\n",
              "      \n",
              "  <style>\n",
              "    .colab-df-container {\n",
              "      display:flex;\n",
              "      flex-wrap:wrap;\n",
              "      gap: 12px;\n",
              "    }\n",
              "\n",
              "    .colab-df-convert {\n",
              "      background-color: #E8F0FE;\n",
              "      border: none;\n",
              "      border-radius: 50%;\n",
              "      cursor: pointer;\n",
              "      display: none;\n",
              "      fill: #1967D2;\n",
              "      height: 32px;\n",
              "      padding: 0 0 0 0;\n",
              "      width: 32px;\n",
              "    }\n",
              "\n",
              "    .colab-df-convert:hover {\n",
              "      background-color: #E2EBFA;\n",
              "      box-shadow: 0px 1px 2px rgba(60, 64, 67, 0.3), 0px 1px 3px 1px rgba(60, 64, 67, 0.15);\n",
              "      fill: #174EA6;\n",
              "    }\n",
              "\n",
              "    [theme=dark] .colab-df-convert {\n",
              "      background-color: #3B4455;\n",
              "      fill: #D2E3FC;\n",
              "    }\n",
              "\n",
              "    [theme=dark] .colab-df-convert:hover {\n",
              "      background-color: #434B5C;\n",
              "      box-shadow: 0px 1px 3px 1px rgba(0, 0, 0, 0.15);\n",
              "      filter: drop-shadow(0px 1px 2px rgba(0, 0, 0, 0.3));\n",
              "      fill: #FFFFFF;\n",
              "    }\n",
              "  </style>\n",
              "\n",
              "      <script>\n",
              "        const buttonEl =\n",
              "          document.querySelector('#df-f3972740-93ad-4eb7-ab00-88d47120a6a8 button.colab-df-convert');\n",
              "        buttonEl.style.display =\n",
              "          google.colab.kernel.accessAllowed ? 'block' : 'none';\n",
              "\n",
              "        async function convertToInteractive(key) {\n",
              "          const element = document.querySelector('#df-f3972740-93ad-4eb7-ab00-88d47120a6a8');\n",
              "          const dataTable =\n",
              "            await google.colab.kernel.invokeFunction('convertToInteractive',\n",
              "                                                     [key], {});\n",
              "          if (!dataTable) return;\n",
              "\n",
              "          const docLinkHtml = 'Like what you see? Visit the ' +\n",
              "            '<a target=\"_blank\" href=https://colab.research.google.com/notebooks/data_table.ipynb>data table notebook</a>'\n",
              "            + ' to learn more about interactive tables.';\n",
              "          element.innerHTML = '';\n",
              "          dataTable['output_type'] = 'display_data';\n",
              "          await google.colab.output.renderOutput(dataTable, element);\n",
              "          const docLink = document.createElement('div');\n",
              "          docLink.innerHTML = docLinkHtml;\n",
              "          element.appendChild(docLink);\n",
              "        }\n",
              "      </script>\n",
              "    </div>\n",
              "  </div>\n",
              "  "
            ]
          },
          "metadata": {},
          "execution_count": 71
        }
      ]
    },
    {
      "cell_type": "code",
      "source": [
        "predict_df"
      ],
      "metadata": {
        "id": "b0UZNpBeQVBu",
        "colab": {
          "base_uri": "https://localhost:8080/",
          "height": 953
        },
        "outputId": "1b331e2d-42ad-4d4c-fcac-814b9d4632ff"
      },
      "execution_count": 72,
      "outputs": [
        {
          "output_type": "execute_result",
          "data": {
            "text/plain": [
              "      End Year  District Code         District  School Code  \\\n",
              "0         2012              1     Adair County         1010   \n",
              "1         2013              1     Adair County         1010   \n",
              "2         2014              1     Adair County         1010   \n",
              "3         2015              1     Adair County         1010   \n",
              "4         2016              1     Adair County         1010   \n",
              "...        ...            ...              ...          ...   \n",
              "9887      2016            601  Woodford County       601120   \n",
              "9888      2017            601  Woodford County       601120   \n",
              "9889      2018            601  Woodford County       601120   \n",
              "9890      2019            601  Woodford County       601120   \n",
              "9891      2022            601  Woodford County       601120   \n",
              "\n",
              "                           School  Proficiency Rate     Classification  \\\n",
              "0        Adair County High School                55  Needs Improvement   \n",
              "1        Adair County High School                54  Needs Improvement   \n",
              "2        Adair County High School                69  Needs Improvement   \n",
              "3        Adair County High School                71         Proficient   \n",
              "4        Adair County High School                72         Proficient   \n",
              "...                           ...               ...                ...   \n",
              "9887  Northside Elementary School                60  Needs Improvement   \n",
              "9888  Northside Elementary School                75      Distinguished   \n",
              "9889  Northside Elementary School                73      Distinguished   \n",
              "9890  Northside Elementary School                76      Distinguished   \n",
              "9891  Northside Elementary School                68         Proficient   \n",
              "\n",
              "      Reported Spending per student  Money Difference per school  \\\n",
              "0                          6,460.00                   -36,400.00   \n",
              "1                          6,380.00                   -37,000.00   \n",
              "2                          6,970.00                   -13,100.00   \n",
              "3                          9,490.00                   -42,100.00   \n",
              "4                         10,270.00                   -19,200.00   \n",
              "...                             ...                          ...   \n",
              "9887                      12,050.00                    34,000.00   \n",
              "9888                       9,940.00                    17,400.00   \n",
              "9889                      13,640.00                    51,800.00   \n",
              "9890                      11,860.00                    48,400.00   \n",
              "9891                      12,173.75                    47,887.50   \n",
              "\n",
              "      Money Difference per student  Estimated Spending per student  \n",
              "0                           -50.00                        6,405.00  \n",
              "1                           -50.00                        6,328.00  \n",
              "2                           -20.00                        6,952.00  \n",
              "3                           -60.00                        9,431.00  \n",
              "4                           -20.00                       10,245.00  \n",
              "...                            ...                             ...  \n",
              "9887                        110.00                       12,153.00  \n",
              "9888                         50.00                        9,993.00  \n",
              "9889                        150.00                       13,791.00  \n",
              "9890                        140.00                       12,007.00  \n",
              "9891                        151.25                       12,324.50  \n",
              "\n",
              "[9892 rows x 11 columns]"
            ],
            "text/html": [
              "\n",
              "  <div id=\"df-fbc1568b-6ff3-4b57-8746-39684477d8e8\">\n",
              "    <div class=\"colab-df-container\">\n",
              "      <div>\n",
              "<style scoped>\n",
              "    .dataframe tbody tr th:only-of-type {\n",
              "        vertical-align: middle;\n",
              "    }\n",
              "\n",
              "    .dataframe tbody tr th {\n",
              "        vertical-align: top;\n",
              "    }\n",
              "\n",
              "    .dataframe thead th {\n",
              "        text-align: right;\n",
              "    }\n",
              "</style>\n",
              "<table border=\"1\" class=\"dataframe\">\n",
              "  <thead>\n",
              "    <tr style=\"text-align: right;\">\n",
              "      <th></th>\n",
              "      <th>End Year</th>\n",
              "      <th>District Code</th>\n",
              "      <th>District</th>\n",
              "      <th>School Code</th>\n",
              "      <th>School</th>\n",
              "      <th>Proficiency Rate</th>\n",
              "      <th>Classification</th>\n",
              "      <th>Reported Spending per student</th>\n",
              "      <th>Money Difference per school</th>\n",
              "      <th>Money Difference per student</th>\n",
              "      <th>Estimated Spending per student</th>\n",
              "    </tr>\n",
              "  </thead>\n",
              "  <tbody>\n",
              "    <tr>\n",
              "      <th>0</th>\n",
              "      <td>2012</td>\n",
              "      <td>1</td>\n",
              "      <td>Adair County</td>\n",
              "      <td>1010</td>\n",
              "      <td>Adair County High School</td>\n",
              "      <td>55</td>\n",
              "      <td>Needs Improvement</td>\n",
              "      <td>6,460.00</td>\n",
              "      <td>-36,400.00</td>\n",
              "      <td>-50.00</td>\n",
              "      <td>6,405.00</td>\n",
              "    </tr>\n",
              "    <tr>\n",
              "      <th>1</th>\n",
              "      <td>2013</td>\n",
              "      <td>1</td>\n",
              "      <td>Adair County</td>\n",
              "      <td>1010</td>\n",
              "      <td>Adair County High School</td>\n",
              "      <td>54</td>\n",
              "      <td>Needs Improvement</td>\n",
              "      <td>6,380.00</td>\n",
              "      <td>-37,000.00</td>\n",
              "      <td>-50.00</td>\n",
              "      <td>6,328.00</td>\n",
              "    </tr>\n",
              "    <tr>\n",
              "      <th>2</th>\n",
              "      <td>2014</td>\n",
              "      <td>1</td>\n",
              "      <td>Adair County</td>\n",
              "      <td>1010</td>\n",
              "      <td>Adair County High School</td>\n",
              "      <td>69</td>\n",
              "      <td>Needs Improvement</td>\n",
              "      <td>6,970.00</td>\n",
              "      <td>-13,100.00</td>\n",
              "      <td>-20.00</td>\n",
              "      <td>6,952.00</td>\n",
              "    </tr>\n",
              "    <tr>\n",
              "      <th>3</th>\n",
              "      <td>2015</td>\n",
              "      <td>1</td>\n",
              "      <td>Adair County</td>\n",
              "      <td>1010</td>\n",
              "      <td>Adair County High School</td>\n",
              "      <td>71</td>\n",
              "      <td>Proficient</td>\n",
              "      <td>9,490.00</td>\n",
              "      <td>-42,100.00</td>\n",
              "      <td>-60.00</td>\n",
              "      <td>9,431.00</td>\n",
              "    </tr>\n",
              "    <tr>\n",
              "      <th>4</th>\n",
              "      <td>2016</td>\n",
              "      <td>1</td>\n",
              "      <td>Adair County</td>\n",
              "      <td>1010</td>\n",
              "      <td>Adair County High School</td>\n",
              "      <td>72</td>\n",
              "      <td>Proficient</td>\n",
              "      <td>10,270.00</td>\n",
              "      <td>-19,200.00</td>\n",
              "      <td>-20.00</td>\n",
              "      <td>10,245.00</td>\n",
              "    </tr>\n",
              "    <tr>\n",
              "      <th>...</th>\n",
              "      <td>...</td>\n",
              "      <td>...</td>\n",
              "      <td>...</td>\n",
              "      <td>...</td>\n",
              "      <td>...</td>\n",
              "      <td>...</td>\n",
              "      <td>...</td>\n",
              "      <td>...</td>\n",
              "      <td>...</td>\n",
              "      <td>...</td>\n",
              "      <td>...</td>\n",
              "    </tr>\n",
              "    <tr>\n",
              "      <th>9887</th>\n",
              "      <td>2016</td>\n",
              "      <td>601</td>\n",
              "      <td>Woodford County</td>\n",
              "      <td>601120</td>\n",
              "      <td>Northside Elementary School</td>\n",
              "      <td>60</td>\n",
              "      <td>Needs Improvement</td>\n",
              "      <td>12,050.00</td>\n",
              "      <td>34,000.00</td>\n",
              "      <td>110.00</td>\n",
              "      <td>12,153.00</td>\n",
              "    </tr>\n",
              "    <tr>\n",
              "      <th>9888</th>\n",
              "      <td>2017</td>\n",
              "      <td>601</td>\n",
              "      <td>Woodford County</td>\n",
              "      <td>601120</td>\n",
              "      <td>Northside Elementary School</td>\n",
              "      <td>75</td>\n",
              "      <td>Distinguished</td>\n",
              "      <td>9,940.00</td>\n",
              "      <td>17,400.00</td>\n",
              "      <td>50.00</td>\n",
              "      <td>9,993.00</td>\n",
              "    </tr>\n",
              "    <tr>\n",
              "      <th>9889</th>\n",
              "      <td>2018</td>\n",
              "      <td>601</td>\n",
              "      <td>Woodford County</td>\n",
              "      <td>601120</td>\n",
              "      <td>Northside Elementary School</td>\n",
              "      <td>73</td>\n",
              "      <td>Distinguished</td>\n",
              "      <td>13,640.00</td>\n",
              "      <td>51,800.00</td>\n",
              "      <td>150.00</td>\n",
              "      <td>13,791.00</td>\n",
              "    </tr>\n",
              "    <tr>\n",
              "      <th>9890</th>\n",
              "      <td>2019</td>\n",
              "      <td>601</td>\n",
              "      <td>Woodford County</td>\n",
              "      <td>601120</td>\n",
              "      <td>Northside Elementary School</td>\n",
              "      <td>76</td>\n",
              "      <td>Distinguished</td>\n",
              "      <td>11,860.00</td>\n",
              "      <td>48,400.00</td>\n",
              "      <td>140.00</td>\n",
              "      <td>12,007.00</td>\n",
              "    </tr>\n",
              "    <tr>\n",
              "      <th>9891</th>\n",
              "      <td>2022</td>\n",
              "      <td>601</td>\n",
              "      <td>Woodford County</td>\n",
              "      <td>601120</td>\n",
              "      <td>Northside Elementary School</td>\n",
              "      <td>68</td>\n",
              "      <td>Proficient</td>\n",
              "      <td>12,173.75</td>\n",
              "      <td>47,887.50</td>\n",
              "      <td>151.25</td>\n",
              "      <td>12,324.50</td>\n",
              "    </tr>\n",
              "  </tbody>\n",
              "</table>\n",
              "<p>9892 rows × 11 columns</p>\n",
              "</div>\n",
              "      <button class=\"colab-df-convert\" onclick=\"convertToInteractive('df-fbc1568b-6ff3-4b57-8746-39684477d8e8')\"\n",
              "              title=\"Convert this dataframe to an interactive table.\"\n",
              "              style=\"display:none;\">\n",
              "        \n",
              "  <svg xmlns=\"http://www.w3.org/2000/svg\" height=\"24px\"viewBox=\"0 0 24 24\"\n",
              "       width=\"24px\">\n",
              "    <path d=\"M0 0h24v24H0V0z\" fill=\"none\"/>\n",
              "    <path d=\"M18.56 5.44l.94 2.06.94-2.06 2.06-.94-2.06-.94-.94-2.06-.94 2.06-2.06.94zm-11 1L8.5 8.5l.94-2.06 2.06-.94-2.06-.94L8.5 2.5l-.94 2.06-2.06.94zm10 10l.94 2.06.94-2.06 2.06-.94-2.06-.94-.94-2.06-.94 2.06-2.06.94z\"/><path d=\"M17.41 7.96l-1.37-1.37c-.4-.4-.92-.59-1.43-.59-.52 0-1.04.2-1.43.59L10.3 9.45l-7.72 7.72c-.78.78-.78 2.05 0 2.83L4 21.41c.39.39.9.59 1.41.59.51 0 1.02-.2 1.41-.59l7.78-7.78 2.81-2.81c.8-.78.8-2.07 0-2.86zM5.41 20L4 18.59l7.72-7.72 1.47 1.35L5.41 20z\"/>\n",
              "  </svg>\n",
              "      </button>\n",
              "      \n",
              "  <style>\n",
              "    .colab-df-container {\n",
              "      display:flex;\n",
              "      flex-wrap:wrap;\n",
              "      gap: 12px;\n",
              "    }\n",
              "\n",
              "    .colab-df-convert {\n",
              "      background-color: #E8F0FE;\n",
              "      border: none;\n",
              "      border-radius: 50%;\n",
              "      cursor: pointer;\n",
              "      display: none;\n",
              "      fill: #1967D2;\n",
              "      height: 32px;\n",
              "      padding: 0 0 0 0;\n",
              "      width: 32px;\n",
              "    }\n",
              "\n",
              "    .colab-df-convert:hover {\n",
              "      background-color: #E2EBFA;\n",
              "      box-shadow: 0px 1px 2px rgba(60, 64, 67, 0.3), 0px 1px 3px 1px rgba(60, 64, 67, 0.15);\n",
              "      fill: #174EA6;\n",
              "    }\n",
              "\n",
              "    [theme=dark] .colab-df-convert {\n",
              "      background-color: #3B4455;\n",
              "      fill: #D2E3FC;\n",
              "    }\n",
              "\n",
              "    [theme=dark] .colab-df-convert:hover {\n",
              "      background-color: #434B5C;\n",
              "      box-shadow: 0px 1px 3px 1px rgba(0, 0, 0, 0.15);\n",
              "      filter: drop-shadow(0px 1px 2px rgba(0, 0, 0, 0.3));\n",
              "      fill: #FFFFFF;\n",
              "    }\n",
              "  </style>\n",
              "\n",
              "      <script>\n",
              "        const buttonEl =\n",
              "          document.querySelector('#df-fbc1568b-6ff3-4b57-8746-39684477d8e8 button.colab-df-convert');\n",
              "        buttonEl.style.display =\n",
              "          google.colab.kernel.accessAllowed ? 'block' : 'none';\n",
              "\n",
              "        async function convertToInteractive(key) {\n",
              "          const element = document.querySelector('#df-fbc1568b-6ff3-4b57-8746-39684477d8e8');\n",
              "          const dataTable =\n",
              "            await google.colab.kernel.invokeFunction('convertToInteractive',\n",
              "                                                     [key], {});\n",
              "          if (!dataTable) return;\n",
              "\n",
              "          const docLinkHtml = 'Like what you see? Visit the ' +\n",
              "            '<a target=\"_blank\" href=https://colab.research.google.com/notebooks/data_table.ipynb>data table notebook</a>'\n",
              "            + ' to learn more about interactive tables.';\n",
              "          element.innerHTML = '';\n",
              "          dataTable['output_type'] = 'display_data';\n",
              "          await google.colab.output.renderOutput(dataTable, element);\n",
              "          const docLink = document.createElement('div');\n",
              "          docLink.innerHTML = docLinkHtml;\n",
              "          element.appendChild(docLink);\n",
              "        }\n",
              "      </script>\n",
              "    </div>\n",
              "  </div>\n",
              "  "
            ]
          },
          "metadata": {},
          "execution_count": 72
        }
      ]
    },
    {
      "cell_type": "code",
      "source": [
        "predict_df.to_csv('/content/drive/MyDrive/Colab Data/KY EPSB/All Years/predict_df.csv', index = False)"
      ],
      "metadata": {
        "id": "3Ld2ayflXgz_"
      },
      "execution_count": 73,
      "outputs": []
    },
    {
      "cell_type": "markdown",
      "source": [
        "# Most Impacted schools"
      ],
      "metadata": {
        "id": "UbO8I6LSsqr0"
      }
    },
    {
      "cell_type": "code",
      "source": [
        "# This makes us start with the predict_df. \n",
        "\n",
        "published_ky_df = predict_df.copy()"
      ],
      "metadata": {
        "id": "3L2vXWsbl0yr"
      },
      "execution_count": 74,
      "outputs": []
    },
    {
      "cell_type": "code",
      "source": [
        "published_ky_df.index"
      ],
      "metadata": {
        "colab": {
          "base_uri": "https://localhost:8080/"
        },
        "id": "qICrLtHFvTap",
        "outputId": "b4e4eed7-9475-4ca1-b6ec-1b3ce469c5e8"
      },
      "execution_count": 75,
      "outputs": [
        {
          "output_type": "execute_result",
          "data": {
            "text/plain": [
              "RangeIndex(start=0, stop=9892, step=1)"
            ]
          },
          "metadata": {},
          "execution_count": 75
        }
      ]
    },
    {
      "cell_type": "markdown",
      "source": [
        "## Top/Bottom Percentile"
      ],
      "metadata": {
        "id": "BsSiCfScQMad"
      }
    },
    {
      "cell_type": "code",
      "source": [
        "# Select value between 0-100. The selected value will be changed to a percent.  Then used to pull the data below. \n",
        "\n",
        "select_percent = 5\n",
        "selected_percentile = (100 - select_percent) / 100"
      ],
      "metadata": {
        "id": "W9q5vElltDPE"
      },
      "execution_count": 76,
      "outputs": []
    },
    {
      "cell_type": "code",
      "source": [
        "published_ky_df[published_ky_df['End Year']==2018].quantile(q=selected_percentile)"
      ],
      "metadata": {
        "colab": {
          "base_uri": "https://localhost:8080/"
        },
        "id": "DB7Cj4sHvTkA",
        "outputId": "3bb74dca-99c4-4c75-e95f-e4c603b161f2"
      },
      "execution_count": 77,
      "outputs": [
        {
          "output_type": "execute_result",
          "data": {
            "text/plain": [
              "End Year                           2,018.00\n",
              "District Code                        571.00\n",
              "School Code                      571,009.65\n",
              "Proficiency Rate                      91.00\n",
              "Reported Spending per student     21,874.00\n",
              "Money Difference per school      175,780.00\n",
              "Money Difference per student         309.50\n",
              "Estimated Spending per student    21,939.65\n",
              "Name: 0.95, dtype: float64"
            ]
          },
          "metadata": {},
          "execution_count": 77
        }
      ]
    },
    {
      "cell_type": "code",
      "source": [
        "# Creates / Resets df\n",
        "highly_impacted_schools = published_ky_df.iloc[0:0,:]\n",
        "\n",
        "# Append highest/lowest pctl to df based on the year\n",
        "for i in published_ky_df.index:\n",
        "  year = published_ky_df['End Year'][i]\n",
        "  highest_pctl = published_ky_df[published_ky_df['End Year']==year].quantile(q=selected_percentile)\n",
        "  lowest_pctl = published_ky_df[published_ky_df['End Year']==year].quantile(q=(1-selected_percentile))\n",
        "\n",
        "  if published_ky_df['Money Difference per school'][i] > highest_pctl['Money Difference per school'] or published_ky_df['Money Difference per school'][i] < lowest_pctl['Money Difference per school']:\n",
        "    highly_impacted_schools = highly_impacted_schools.append(published_ky_df.loc[i,])\n",
        "  elif published_ky_df['Estimated Spending per student'][i] > highest_pctl['Estimated Spending per student'] or published_ky_df['Estimated Spending per student'][i] < lowest_pctl['Estimated Spending per student']:\n",
        "    highly_impacted_schools = highly_impacted_schools.append(published_ky_df.loc[i,])\n",
        "  elif published_ky_df['Proficiency Rate'][i] > highest_pctl['Proficiency Rate'] or published_ky_df['Proficiency Rate'][i] < lowest_pctl['Proficiency Rate']:\n",
        "    highly_impacted_schools = highly_impacted_schools.append(published_ky_df.loc[i,])\n",
        "\n",
        "# Drop duplicated rows\n",
        "highly_impacted_schools.drop_duplicates(inplace=True)\n",
        "\n",
        "# Reset index\n",
        "highly_impacted_schools.reset_index(drop=True, inplace=True)"
      ],
      "metadata": {
        "id": "vcAsl3gavuUc"
      },
      "execution_count": 78,
      "outputs": []
    },
    {
      "cell_type": "code",
      "source": [
        "# Without including the Proficeny Rate high and low, there were 1941 records, and 701 schools.\n",
        "# Including the proficency rate raises the number of records to 2483 from 817 schools.\n",
        "\n",
        "highly_impacted_schools.info()"
      ],
      "metadata": {
        "id": "gZNrI4vU1rX7",
        "colab": {
          "base_uri": "https://localhost:8080/"
        },
        "outputId": "795e5df4-43e4-4f5d-8943-075fe0e21b5e"
      },
      "execution_count": 79,
      "outputs": [
        {
          "output_type": "stream",
          "name": "stdout",
          "text": [
            "<class 'pandas.core.frame.DataFrame'>\n",
            "RangeIndex: 2446 entries, 0 to 2445\n",
            "Data columns (total 11 columns):\n",
            " #   Column                          Non-Null Count  Dtype  \n",
            "---  ------                          --------------  -----  \n",
            " 0   End Year                        2446 non-null   int64  \n",
            " 1   District Code                   2446 non-null   int64  \n",
            " 2   District                        2446 non-null   object \n",
            " 3   School Code                     2446 non-null   int64  \n",
            " 4   School                          2446 non-null   object \n",
            " 5   Proficiency Rate                2446 non-null   int64  \n",
            " 6   Classification                  2446 non-null   object \n",
            " 7   Reported Spending per student   2446 non-null   float64\n",
            " 8   Money Difference per school     2446 non-null   float64\n",
            " 9   Money Difference per student    2446 non-null   float64\n",
            " 10  Estimated Spending per student  2446 non-null   float64\n",
            "dtypes: float64(4), int64(4), object(3)\n",
            "memory usage: 210.3+ KB\n"
          ]
        }
      ]
    },
    {
      "cell_type": "code",
      "source": [
        "highly_impacted_schools.nunique()"
      ],
      "metadata": {
        "id": "5SIThKZF1svK",
        "colab": {
          "base_uri": "https://localhost:8080/"
        },
        "outputId": "6f5ae430-b394-4d98-c1da-e9e9e7eb6f24"
      },
      "execution_count": 80,
      "outputs": [
        {
          "output_type": "execute_result",
          "data": {
            "text/plain": [
              "End Year                             9\n",
              "District Code                      154\n",
              "District                           154\n",
              "School Code                        736\n",
              "School                             726\n",
              "Proficiency Rate                    88\n",
              "Classification                       3\n",
              "Reported Spending per student     1399\n",
              "Money Difference per school       2016\n",
              "Money Difference per student       396\n",
              "Estimated Spending per student    2252\n",
              "dtype: int64"
            ]
          },
          "metadata": {},
          "execution_count": 80
        }
      ]
    },
    {
      "cell_type": "code",
      "source": [
        "highly_impacted_schools.sort_values(by=['Money Difference per school'], inplace=True)"
      ],
      "metadata": {
        "id": "oIuZ9P5EDVpr"
      },
      "execution_count": 81,
      "outputs": []
    },
    {
      "cell_type": "markdown",
      "source": [
        "## Multiple Years Impacted - Detailed"
      ],
      "metadata": {
        "id": "xpakTgq2e2WC"
      }
    },
    {
      "cell_type": "code",
      "source": [
        "# If school code frequency is >= 5, then they remain.  \n",
        "# Then the rest of their 10 year data is pulled. "
      ],
      "metadata": {
        "id": "2uFz8FcWn7LR"
      },
      "execution_count": 82,
      "outputs": []
    },
    {
      "cell_type": "code",
      "source": [
        "id_freq_schools = highly_impacted_schools.groupby('School Code').count()"
      ],
      "metadata": {
        "id": "4xji5owN1zm1"
      },
      "execution_count": 83,
      "outputs": []
    },
    {
      "cell_type": "code",
      "source": [
        "id_freq_schools"
      ],
      "metadata": {
        "id": "4eDAD7AVOYpS",
        "colab": {
          "base_uri": "https://localhost:8080/",
          "height": 568
        },
        "outputId": "3462d762-5d5c-4e06-9402-514774e01244"
      },
      "execution_count": 84,
      "outputs": [
        {
          "output_type": "execute_result",
          "data": {
            "text/plain": [
              "             End Year  District Code  District  School  Proficiency Rate  \\\n",
              "School Code                                                                \n",
              "5010                2              2         2       2                 2   \n",
              "5015                2              2         2       2                 2   \n",
              "5020                3              3         3       3                 3   \n",
              "5060                1              1         1       1                 1   \n",
              "6010                9              9         9       9                 9   \n",
              "...               ...            ...       ...     ...               ...   \n",
              "601050              1              1         1       1                 1   \n",
              "601075              1              1         1       1                 1   \n",
              "601084              1              1         1       1                 1   \n",
              "601090              1              1         1       1                 1   \n",
              "601120              2              2         2       2                 2   \n",
              "\n",
              "             Classification  Reported Spending per student  \\\n",
              "School Code                                                  \n",
              "5010                      2                              2   \n",
              "5015                      2                              2   \n",
              "5020                      3                              3   \n",
              "5060                      1                              1   \n",
              "6010                      9                              9   \n",
              "...                     ...                            ...   \n",
              "601050                    1                              1   \n",
              "601075                    1                              1   \n",
              "601084                    1                              1   \n",
              "601090                    1                              1   \n",
              "601120                    2                              2   \n",
              "\n",
              "             Money Difference per school  Money Difference per student  \\\n",
              "School Code                                                              \n",
              "5010                                   2                             2   \n",
              "5015                                   2                             2   \n",
              "5020                                   3                             3   \n",
              "5060                                   1                             1   \n",
              "6010                                   9                             9   \n",
              "...                                  ...                           ...   \n",
              "601050                                 1                             1   \n",
              "601075                                 1                             1   \n",
              "601084                                 1                             1   \n",
              "601090                                 1                             1   \n",
              "601120                                 2                             2   \n",
              "\n",
              "             Estimated Spending per student  \n",
              "School Code                                  \n",
              "5010                                      2  \n",
              "5015                                      2  \n",
              "5020                                      3  \n",
              "5060                                      1  \n",
              "6010                                      9  \n",
              "...                                     ...  \n",
              "601050                                    1  \n",
              "601075                                    1  \n",
              "601084                                    1  \n",
              "601090                                    1  \n",
              "601120                                    2  \n",
              "\n",
              "[736 rows x 10 columns]"
            ],
            "text/html": [
              "\n",
              "  <div id=\"df-60b311cb-dfc4-49c4-a6ea-aee570b15625\">\n",
              "    <div class=\"colab-df-container\">\n",
              "      <div>\n",
              "<style scoped>\n",
              "    .dataframe tbody tr th:only-of-type {\n",
              "        vertical-align: middle;\n",
              "    }\n",
              "\n",
              "    .dataframe tbody tr th {\n",
              "        vertical-align: top;\n",
              "    }\n",
              "\n",
              "    .dataframe thead th {\n",
              "        text-align: right;\n",
              "    }\n",
              "</style>\n",
              "<table border=\"1\" class=\"dataframe\">\n",
              "  <thead>\n",
              "    <tr style=\"text-align: right;\">\n",
              "      <th></th>\n",
              "      <th>End Year</th>\n",
              "      <th>District Code</th>\n",
              "      <th>District</th>\n",
              "      <th>School</th>\n",
              "      <th>Proficiency Rate</th>\n",
              "      <th>Classification</th>\n",
              "      <th>Reported Spending per student</th>\n",
              "      <th>Money Difference per school</th>\n",
              "      <th>Money Difference per student</th>\n",
              "      <th>Estimated Spending per student</th>\n",
              "    </tr>\n",
              "    <tr>\n",
              "      <th>School Code</th>\n",
              "      <th></th>\n",
              "      <th></th>\n",
              "      <th></th>\n",
              "      <th></th>\n",
              "      <th></th>\n",
              "      <th></th>\n",
              "      <th></th>\n",
              "      <th></th>\n",
              "      <th></th>\n",
              "      <th></th>\n",
              "    </tr>\n",
              "  </thead>\n",
              "  <tbody>\n",
              "    <tr>\n",
              "      <th>5010</th>\n",
              "      <td>2</td>\n",
              "      <td>2</td>\n",
              "      <td>2</td>\n",
              "      <td>2</td>\n",
              "      <td>2</td>\n",
              "      <td>2</td>\n",
              "      <td>2</td>\n",
              "      <td>2</td>\n",
              "      <td>2</td>\n",
              "      <td>2</td>\n",
              "    </tr>\n",
              "    <tr>\n",
              "      <th>5015</th>\n",
              "      <td>2</td>\n",
              "      <td>2</td>\n",
              "      <td>2</td>\n",
              "      <td>2</td>\n",
              "      <td>2</td>\n",
              "      <td>2</td>\n",
              "      <td>2</td>\n",
              "      <td>2</td>\n",
              "      <td>2</td>\n",
              "      <td>2</td>\n",
              "    </tr>\n",
              "    <tr>\n",
              "      <th>5020</th>\n",
              "      <td>3</td>\n",
              "      <td>3</td>\n",
              "      <td>3</td>\n",
              "      <td>3</td>\n",
              "      <td>3</td>\n",
              "      <td>3</td>\n",
              "      <td>3</td>\n",
              "      <td>3</td>\n",
              "      <td>3</td>\n",
              "      <td>3</td>\n",
              "    </tr>\n",
              "    <tr>\n",
              "      <th>5060</th>\n",
              "      <td>1</td>\n",
              "      <td>1</td>\n",
              "      <td>1</td>\n",
              "      <td>1</td>\n",
              "      <td>1</td>\n",
              "      <td>1</td>\n",
              "      <td>1</td>\n",
              "      <td>1</td>\n",
              "      <td>1</td>\n",
              "      <td>1</td>\n",
              "    </tr>\n",
              "    <tr>\n",
              "      <th>6010</th>\n",
              "      <td>9</td>\n",
              "      <td>9</td>\n",
              "      <td>9</td>\n",
              "      <td>9</td>\n",
              "      <td>9</td>\n",
              "      <td>9</td>\n",
              "      <td>9</td>\n",
              "      <td>9</td>\n",
              "      <td>9</td>\n",
              "      <td>9</td>\n",
              "    </tr>\n",
              "    <tr>\n",
              "      <th>...</th>\n",
              "      <td>...</td>\n",
              "      <td>...</td>\n",
              "      <td>...</td>\n",
              "      <td>...</td>\n",
              "      <td>...</td>\n",
              "      <td>...</td>\n",
              "      <td>...</td>\n",
              "      <td>...</td>\n",
              "      <td>...</td>\n",
              "      <td>...</td>\n",
              "    </tr>\n",
              "    <tr>\n",
              "      <th>601050</th>\n",
              "      <td>1</td>\n",
              "      <td>1</td>\n",
              "      <td>1</td>\n",
              "      <td>1</td>\n",
              "      <td>1</td>\n",
              "      <td>1</td>\n",
              "      <td>1</td>\n",
              "      <td>1</td>\n",
              "      <td>1</td>\n",
              "      <td>1</td>\n",
              "    </tr>\n",
              "    <tr>\n",
              "      <th>601075</th>\n",
              "      <td>1</td>\n",
              "      <td>1</td>\n",
              "      <td>1</td>\n",
              "      <td>1</td>\n",
              "      <td>1</td>\n",
              "      <td>1</td>\n",
              "      <td>1</td>\n",
              "      <td>1</td>\n",
              "      <td>1</td>\n",
              "      <td>1</td>\n",
              "    </tr>\n",
              "    <tr>\n",
              "      <th>601084</th>\n",
              "      <td>1</td>\n",
              "      <td>1</td>\n",
              "      <td>1</td>\n",
              "      <td>1</td>\n",
              "      <td>1</td>\n",
              "      <td>1</td>\n",
              "      <td>1</td>\n",
              "      <td>1</td>\n",
              "      <td>1</td>\n",
              "      <td>1</td>\n",
              "    </tr>\n",
              "    <tr>\n",
              "      <th>601090</th>\n",
              "      <td>1</td>\n",
              "      <td>1</td>\n",
              "      <td>1</td>\n",
              "      <td>1</td>\n",
              "      <td>1</td>\n",
              "      <td>1</td>\n",
              "      <td>1</td>\n",
              "      <td>1</td>\n",
              "      <td>1</td>\n",
              "      <td>1</td>\n",
              "    </tr>\n",
              "    <tr>\n",
              "      <th>601120</th>\n",
              "      <td>2</td>\n",
              "      <td>2</td>\n",
              "      <td>2</td>\n",
              "      <td>2</td>\n",
              "      <td>2</td>\n",
              "      <td>2</td>\n",
              "      <td>2</td>\n",
              "      <td>2</td>\n",
              "      <td>2</td>\n",
              "      <td>2</td>\n",
              "    </tr>\n",
              "  </tbody>\n",
              "</table>\n",
              "<p>736 rows × 10 columns</p>\n",
              "</div>\n",
              "      <button class=\"colab-df-convert\" onclick=\"convertToInteractive('df-60b311cb-dfc4-49c4-a6ea-aee570b15625')\"\n",
              "              title=\"Convert this dataframe to an interactive table.\"\n",
              "              style=\"display:none;\">\n",
              "        \n",
              "  <svg xmlns=\"http://www.w3.org/2000/svg\" height=\"24px\"viewBox=\"0 0 24 24\"\n",
              "       width=\"24px\">\n",
              "    <path d=\"M0 0h24v24H0V0z\" fill=\"none\"/>\n",
              "    <path d=\"M18.56 5.44l.94 2.06.94-2.06 2.06-.94-2.06-.94-.94-2.06-.94 2.06-2.06.94zm-11 1L8.5 8.5l.94-2.06 2.06-.94-2.06-.94L8.5 2.5l-.94 2.06-2.06.94zm10 10l.94 2.06.94-2.06 2.06-.94-2.06-.94-.94-2.06-.94 2.06-2.06.94z\"/><path d=\"M17.41 7.96l-1.37-1.37c-.4-.4-.92-.59-1.43-.59-.52 0-1.04.2-1.43.59L10.3 9.45l-7.72 7.72c-.78.78-.78 2.05 0 2.83L4 21.41c.39.39.9.59 1.41.59.51 0 1.02-.2 1.41-.59l7.78-7.78 2.81-2.81c.8-.78.8-2.07 0-2.86zM5.41 20L4 18.59l7.72-7.72 1.47 1.35L5.41 20z\"/>\n",
              "  </svg>\n",
              "      </button>\n",
              "      \n",
              "  <style>\n",
              "    .colab-df-container {\n",
              "      display:flex;\n",
              "      flex-wrap:wrap;\n",
              "      gap: 12px;\n",
              "    }\n",
              "\n",
              "    .colab-df-convert {\n",
              "      background-color: #E8F0FE;\n",
              "      border: none;\n",
              "      border-radius: 50%;\n",
              "      cursor: pointer;\n",
              "      display: none;\n",
              "      fill: #1967D2;\n",
              "      height: 32px;\n",
              "      padding: 0 0 0 0;\n",
              "      width: 32px;\n",
              "    }\n",
              "\n",
              "    .colab-df-convert:hover {\n",
              "      background-color: #E2EBFA;\n",
              "      box-shadow: 0px 1px 2px rgba(60, 64, 67, 0.3), 0px 1px 3px 1px rgba(60, 64, 67, 0.15);\n",
              "      fill: #174EA6;\n",
              "    }\n",
              "\n",
              "    [theme=dark] .colab-df-convert {\n",
              "      background-color: #3B4455;\n",
              "      fill: #D2E3FC;\n",
              "    }\n",
              "\n",
              "    [theme=dark] .colab-df-convert:hover {\n",
              "      background-color: #434B5C;\n",
              "      box-shadow: 0px 1px 3px 1px rgba(0, 0, 0, 0.15);\n",
              "      filter: drop-shadow(0px 1px 2px rgba(0, 0, 0, 0.3));\n",
              "      fill: #FFFFFF;\n",
              "    }\n",
              "  </style>\n",
              "\n",
              "      <script>\n",
              "        const buttonEl =\n",
              "          document.querySelector('#df-60b311cb-dfc4-49c4-a6ea-aee570b15625 button.colab-df-convert');\n",
              "        buttonEl.style.display =\n",
              "          google.colab.kernel.accessAllowed ? 'block' : 'none';\n",
              "\n",
              "        async function convertToInteractive(key) {\n",
              "          const element = document.querySelector('#df-60b311cb-dfc4-49c4-a6ea-aee570b15625');\n",
              "          const dataTable =\n",
              "            await google.colab.kernel.invokeFunction('convertToInteractive',\n",
              "                                                     [key], {});\n",
              "          if (!dataTable) return;\n",
              "\n",
              "          const docLinkHtml = 'Like what you see? Visit the ' +\n",
              "            '<a target=\"_blank\" href=https://colab.research.google.com/notebooks/data_table.ipynb>data table notebook</a>'\n",
              "            + ' to learn more about interactive tables.';\n",
              "          element.innerHTML = '';\n",
              "          dataTable['output_type'] = 'display_data';\n",
              "          await google.colab.output.renderOutput(dataTable, element);\n",
              "          const docLink = document.createElement('div');\n",
              "          docLink.innerHTML = docLinkHtml;\n",
              "          element.appendChild(docLink);\n",
              "        }\n",
              "      </script>\n",
              "    </div>\n",
              "  </div>\n",
              "  "
            ]
          },
          "metadata": {},
          "execution_count": 84
        }
      ]
    },
    {
      "cell_type": "code",
      "source": [
        "sns.countplot(id_freq_schools['End Year'], label='count')"
      ],
      "metadata": {
        "id": "2waB27JSOIcH",
        "colab": {
          "base_uri": "https://localhost:8080/",
          "height": 351
        },
        "outputId": "972b9ba1-34be-4361-ebd4-7830e69dcc3d"
      },
      "execution_count": 85,
      "outputs": [
        {
          "output_type": "stream",
          "name": "stderr",
          "text": [
            "/usr/local/lib/python3.8/dist-packages/seaborn/_decorators.py:36: FutureWarning: Pass the following variable as a keyword arg: x. From version 0.12, the only valid positional argument will be `data`, and passing other arguments without an explicit keyword will result in an error or misinterpretation.\n",
            "  warnings.warn(\n"
          ]
        },
        {
          "output_type": "execute_result",
          "data": {
            "text/plain": [
              "<matplotlib.axes._subplots.AxesSubplot at 0x7fb3c75b4b20>"
            ]
          },
          "metadata": {},
          "execution_count": 85
        },
        {
          "output_type": "display_data",
          "data": {
            "text/plain": [
              "<Figure size 432x288 with 1 Axes>"
            ],
            "image/png": "[encoded data removed]"
          },
          "metadata": {
            "needs_background": "light"
          }
        }
      ]
    },
    {
      "cell_type": "code",
      "source": [
        "# Select frequency that a school appears in either the top or bottom percentile of the highly impacted schools\n",
        "# There should be a default selected. \n",
        "\n",
        "select_frequency = 5\n",
        "\n",
        "# If school code frequency is >= 5 years, then they remain. Unless above variable is updated to a different number.   \n",
        "\n",
        "for i in id_freq_schools.index:\n",
        "  if id_freq_schools['End Year'][i] < select_frequency:\n",
        "    id_freq_schools.drop([i], axis= 0, inplace=True)\n",
        "\n",
        "freq_school_code = id_freq_schools.index.unique().sort_values()"
      ],
      "metadata": {
        "id": "PTNMBs3DrIhY"
      },
      "execution_count": 86,
      "outputs": []
    },
    {
      "cell_type": "code",
      "source": [
        "freq_school_code"
      ],
      "metadata": {
        "colab": {
          "base_uri": "https://localhost:8080/"
        },
        "id": "hdbCv_um2Tqa",
        "outputId": "23c4af77-9d0e-4517-a942-7a90e2c5a9ba"
      },
      "execution_count": 87,
      "outputs": [
        {
          "output_type": "execute_result",
          "data": {
            "text/plain": [
              "Int64Index([  6010,  11022,  11025,  21014,  21027,  21150,  26010,  35011,\n",
              "             35015,  35020,\n",
              "            ...\n",
              "            537010, 567020, 571002, 571003, 571230, 585050, 585125, 585130,\n",
              "            591061, 591062],\n",
              "           dtype='int64', name='School Code', length=190)"
            ]
          },
          "metadata": {},
          "execution_count": 87
        }
      ]
    },
    {
      "cell_type": "code",
      "source": [
        "# This is the detailed schools who are repeatedly in the top/bottom.\n",
        "# Pulls all of their school data. \n",
        "\n",
        "ten_year_impacted = published_ky_df.iloc[0:0,:]\n",
        "\n",
        "for code in freq_school_code:\n",
        "  school_ten_year = published_ky_df[published_ky_df['School Code'] == code]\n",
        "  ten_year_impacted = ten_year_impacted.append(school_ten_year)\n"
      ],
      "metadata": {
        "id": "mp_YTum1mQ8L"
      },
      "execution_count": 88,
      "outputs": []
    },
    {
      "cell_type": "code",
      "source": [
        "ten_year_impacted.sort_values(by=['Money Difference per school'], inplace=True)"
      ],
      "metadata": {
        "id": "kbnMp6tmhxVp"
      },
      "execution_count": 89,
      "outputs": []
    },
    {
      "cell_type": "code",
      "source": [
        "ten_year_impacted"
      ],
      "metadata": {
        "id": "14J-CnFNy0qc",
        "colab": {
          "base_uri": "https://localhost:8080/",
          "height": 849
        },
        "outputId": "3c583671-57af-43c9-cf4d-2fe616f65325"
      },
      "execution_count": 90,
      "outputs": [
        {
          "output_type": "execute_result",
          "data": {
            "text/plain": [
              "      End Year  District Code          District  School Code  \\\n",
              "5570      2012            275  Jefferson County       275620   \n",
              "5199      2019            275  Jefferson County       275155   \n",
              "4574      2015            275  Jefferson County       275033   \n",
              "5197      2017            275  Jefferson County       275155   \n",
              "4571      2012            275  Jefferson County       275033   \n",
              "...        ...            ...               ...          ...   \n",
              "4641      2019            275  Jefferson County       275047   \n",
              "5300      2016            275  Jefferson County       275200   \n",
              "5301      2017            275  Jefferson County       275200   \n",
              "5302      2018            275  Jefferson County       275200   \n",
              "5303      2019            275  Jefferson County       275200   \n",
              "\n",
              "                                   School  Proficiency Rate  \\\n",
              "5570  Frederick Law Olmsted Academy North                34   \n",
              "5199               Marion C. Moore School                40   \n",
              "4574                          Valley High                42   \n",
              "5197               Marion C. Moore School                45   \n",
              "4571                          Valley High                31   \n",
              "...                                   ...               ...   \n",
              "4641                 Louisville Male High                78   \n",
              "5300                   duPont Manual High                91   \n",
              "5301                   duPont Manual High               100   \n",
              "5302                   duPont Manual High               105   \n",
              "5303                   duPont Manual High                97   \n",
              "\n",
              "         Classification  Reported Spending per student  \\\n",
              "5570  Needs Improvement                      10,980.00   \n",
              "5199  Needs Improvement                      14,030.00   \n",
              "4574  Needs Improvement                      10,270.00   \n",
              "5197  Needs Improvement                      12,230.00   \n",
              "4571  Needs Improvement                      10,290.00   \n",
              "...                 ...                            ...   \n",
              "4641      Distinguished                      12,640.00   \n",
              "5300      Distinguished                      11,740.00   \n",
              "5301      Distinguished                      12,380.00   \n",
              "5302      Distinguished                      13,460.00   \n",
              "5303      Distinguished                      19,210.00   \n",
              "\n",
              "      Money Difference per school  Money Difference per student  \\\n",
              "5570                  -666,200.00                       -880.00   \n",
              "5199                  -643,000.00                       -290.00   \n",
              "4574                  -634,200.00                       -450.00   \n",
              "5197                  -621,500.00                       -310.00   \n",
              "4571                  -551,700.00                       -600.00   \n",
              "...                           ...                           ...   \n",
              "4641                 1,071,800.00                        560.00   \n",
              "5300                 1,258,300.00                        670.00   \n",
              "5301                 1,265,600.00                        670.00   \n",
              "5302                 1,304,000.00                        680.00   \n",
              "5303                 1,497,800.00                        790.00   \n",
              "\n",
              "      Estimated Spending per student  \n",
              "5570                       10,097.00  \n",
              "5199                       13,743.00  \n",
              "4574                        9,822.00  \n",
              "5197                       11,921.00  \n",
              "4571                        9,685.00  \n",
              "...                              ...  \n",
              "4641                       13,196.00  \n",
              "5300                       12,410.00  \n",
              "5301                       13,050.00  \n",
              "5302                       14,138.00  \n",
              "5303                       19,998.00  \n",
              "\n",
              "[1705 rows x 11 columns]"
            ],
            "text/html": [
              "\n",
              "  <div id=\"df-2d152318-8a4b-4a48-a4b4-ab25523fb206\">\n",
              "    <div class=\"colab-df-container\">\n",
              "      <div>\n",
              "<style scoped>\n",
              "    .dataframe tbody tr th:only-of-type {\n",
              "        vertical-align: middle;\n",
              "    }\n",
              "\n",
              "    .dataframe tbody tr th {\n",
              "        vertical-align: top;\n",
              "    }\n",
              "\n",
              "    .dataframe thead th {\n",
              "        text-align: right;\n",
              "    }\n",
              "</style>\n",
              "<table border=\"1\" class=\"dataframe\">\n",
              "  <thead>\n",
              "    <tr style=\"text-align: right;\">\n",
              "      <th></th>\n",
              "      <th>End Year</th>\n",
              "      <th>District Code</th>\n",
              "      <th>District</th>\n",
              "      <th>School Code</th>\n",
              "      <th>School</th>\n",
              "      <th>Proficiency Rate</th>\n",
              "      <th>Classification</th>\n",
              "      <th>Reported Spending per student</th>\n",
              "      <th>Money Difference per school</th>\n",
              "      <th>Money Difference per student</th>\n",
              "      <th>Estimated Spending per student</th>\n",
              "    </tr>\n",
              "  </thead>\n",
              "  <tbody>\n",
              "    <tr>\n",
              "      <th>5570</th>\n",
              "      <td>2012</td>\n",
              "      <td>275</td>\n",
              "      <td>Jefferson County</td>\n",
              "      <td>275620</td>\n",
              "      <td>Frederick Law Olmsted Academy North</td>\n",
              "      <td>34</td>\n",
              "      <td>Needs Improvement</td>\n",
              "      <td>10,980.00</td>\n",
              "      <td>-666,200.00</td>\n",
              "      <td>-880.00</td>\n",
              "      <td>10,097.00</td>\n",
              "    </tr>\n",
              "    <tr>\n",
              "      <th>5199</th>\n",
              "      <td>2019</td>\n",
              "      <td>275</td>\n",
              "      <td>Jefferson County</td>\n",
              "      <td>275155</td>\n",
              "      <td>Marion C. Moore School</td>\n",
              "      <td>40</td>\n",
              "      <td>Needs Improvement</td>\n",
              "      <td>14,030.00</td>\n",
              "      <td>-643,000.00</td>\n",
              "      <td>-290.00</td>\n",
              "      <td>13,743.00</td>\n",
              "    </tr>\n",
              "    <tr>\n",
              "      <th>4574</th>\n",
              "      <td>2015</td>\n",
              "      <td>275</td>\n",
              "      <td>Jefferson County</td>\n",
              "      <td>275033</td>\n",
              "      <td>Valley High</td>\n",
              "      <td>42</td>\n",
              "      <td>Needs Improvement</td>\n",
              "      <td>10,270.00</td>\n",
              "      <td>-634,200.00</td>\n",
              "      <td>-450.00</td>\n",
              "      <td>9,822.00</td>\n",
              "    </tr>\n",
              "    <tr>\n",
              "      <th>5197</th>\n",
              "      <td>2017</td>\n",
              "      <td>275</td>\n",
              "      <td>Jefferson County</td>\n",
              "      <td>275155</td>\n",
              "      <td>Marion C. Moore School</td>\n",
              "      <td>45</td>\n",
              "      <td>Needs Improvement</td>\n",
              "      <td>12,230.00</td>\n",
              "      <td>-621,500.00</td>\n",
              "      <td>-310.00</td>\n",
              "      <td>11,921.00</td>\n",
              "    </tr>\n",
              "    <tr>\n",
              "      <th>4571</th>\n",
              "      <td>2012</td>\n",
              "      <td>275</td>\n",
              "      <td>Jefferson County</td>\n",
              "      <td>275033</td>\n",
              "      <td>Valley High</td>\n",
              "      <td>31</td>\n",
              "      <td>Needs Improvement</td>\n",
              "      <td>10,290.00</td>\n",
              "      <td>-551,700.00</td>\n",
              "      <td>-600.00</td>\n",
              "      <td>9,685.00</td>\n",
              "    </tr>\n",
              "    <tr>\n",
              "      <th>...</th>\n",
              "      <td>...</td>\n",
              "      <td>...</td>\n",
              "      <td>...</td>\n",
              "      <td>...</td>\n",
              "      <td>...</td>\n",
              "      <td>...</td>\n",
              "      <td>...</td>\n",
              "      <td>...</td>\n",
              "      <td>...</td>\n",
              "      <td>...</td>\n",
              "      <td>...</td>\n",
              "    </tr>\n",
              "    <tr>\n",
              "      <th>4641</th>\n",
              "      <td>2019</td>\n",
              "      <td>275</td>\n",
              "      <td>Jefferson County</td>\n",
              "      <td>275047</td>\n",
              "      <td>Louisville Male High</td>\n",
              "      <td>78</td>\n",
              "      <td>Distinguished</td>\n",
              "      <td>12,640.00</td>\n",
              "      <td>1,071,800.00</td>\n",
              "      <td>560.00</td>\n",
              "      <td>13,196.00</td>\n",
              "    </tr>\n",
              "    <tr>\n",
              "      <th>5300</th>\n",
              "      <td>2016</td>\n",
              "      <td>275</td>\n",
              "      <td>Jefferson County</td>\n",
              "      <td>275200</td>\n",
              "      <td>duPont Manual High</td>\n",
              "      <td>91</td>\n",
              "      <td>Distinguished</td>\n",
              "      <td>11,740.00</td>\n",
              "      <td>1,258,300.00</td>\n",
              "      <td>670.00</td>\n",
              "      <td>12,410.00</td>\n",
              "    </tr>\n",
              "    <tr>\n",
              "      <th>5301</th>\n",
              "      <td>2017</td>\n",
              "      <td>275</td>\n",
              "      <td>Jefferson County</td>\n",
              "      <td>275200</td>\n",
              "      <td>duPont Manual High</td>\n",
              "      <td>100</td>\n",
              "      <td>Distinguished</td>\n",
              "      <td>12,380.00</td>\n",
              "      <td>1,265,600.00</td>\n",
              "      <td>670.00</td>\n",
              "      <td>13,050.00</td>\n",
              "    </tr>\n",
              "    <tr>\n",
              "      <th>5302</th>\n",
              "      <td>2018</td>\n",
              "      <td>275</td>\n",
              "      <td>Jefferson County</td>\n",
              "      <td>275200</td>\n",
              "      <td>duPont Manual High</td>\n",
              "      <td>105</td>\n",
              "      <td>Distinguished</td>\n",
              "      <td>13,460.00</td>\n",
              "      <td>1,304,000.00</td>\n",
              "      <td>680.00</td>\n",
              "      <td>14,138.00</td>\n",
              "    </tr>\n",
              "    <tr>\n",
              "      <th>5303</th>\n",
              "      <td>2019</td>\n",
              "      <td>275</td>\n",
              "      <td>Jefferson County</td>\n",
              "      <td>275200</td>\n",
              "      <td>duPont Manual High</td>\n",
              "      <td>97</td>\n",
              "      <td>Distinguished</td>\n",
              "      <td>19,210.00</td>\n",
              "      <td>1,497,800.00</td>\n",
              "      <td>790.00</td>\n",
              "      <td>19,998.00</td>\n",
              "    </tr>\n",
              "  </tbody>\n",
              "</table>\n",
              "<p>1705 rows × 11 columns</p>\n",
              "</div>\n",
              "      <button class=\"colab-df-convert\" onclick=\"convertToInteractive('df-2d152318-8a4b-4a48-a4b4-ab25523fb206')\"\n",
              "              title=\"Convert this dataframe to an interactive table.\"\n",
              "              style=\"display:none;\">\n",
              "        \n",
              "  <svg xmlns=\"http://www.w3.org/2000/svg\" height=\"24px\"viewBox=\"0 0 24 24\"\n",
              "       width=\"24px\">\n",
              "    <path d=\"M0 0h24v24H0V0z\" fill=\"none\"/>\n",
              "    <path d=\"M18.56 5.44l.94 2.06.94-2.06 2.06-.94-2.06-.94-.94-2.06-.94 2.06-2.06.94zm-11 1L8.5 8.5l.94-2.06 2.06-.94-2.06-.94L8.5 2.5l-.94 2.06-2.06.94zm10 10l.94 2.06.94-2.06 2.06-.94-2.06-.94-.94-2.06-.94 2.06-2.06.94z\"/><path d=\"M17.41 7.96l-1.37-1.37c-.4-.4-.92-.59-1.43-.59-.52 0-1.04.2-1.43.59L10.3 9.45l-7.72 7.72c-.78.78-.78 2.05 0 2.83L4 21.41c.39.39.9.59 1.41.59.51 0 1.02-.2 1.41-.59l7.78-7.78 2.81-2.81c.8-.78.8-2.07 0-2.86zM5.41 20L4 18.59l7.72-7.72 1.47 1.35L5.41 20z\"/>\n",
              "  </svg>\n",
              "      </button>\n",
              "      \n",
              "  <style>\n",
              "    .colab-df-container {\n",
              "      display:flex;\n",
              "      flex-wrap:wrap;\n",
              "      gap: 12px;\n",
              "    }\n",
              "\n",
              "    .colab-df-convert {\n",
              "      background-color: #E8F0FE;\n",
              "      border: none;\n",
              "      border-radius: 50%;\n",
              "      cursor: pointer;\n",
              "      display: none;\n",
              "      fill: #1967D2;\n",
              "      height: 32px;\n",
              "      padding: 0 0 0 0;\n",
              "      width: 32px;\n",
              "    }\n",
              "\n",
              "    .colab-df-convert:hover {\n",
              "      background-color: #E2EBFA;\n",
              "      box-shadow: 0px 1px 2px rgba(60, 64, 67, 0.3), 0px 1px 3px 1px rgba(60, 64, 67, 0.15);\n",
              "      fill: #174EA6;\n",
              "    }\n",
              "\n",
              "    [theme=dark] .colab-df-convert {\n",
              "      background-color: #3B4455;\n",
              "      fill: #D2E3FC;\n",
              "    }\n",
              "\n",
              "    [theme=dark] .colab-df-convert:hover {\n",
              "      background-color: #434B5C;\n",
              "      box-shadow: 0px 1px 3px 1px rgba(0, 0, 0, 0.15);\n",
              "      filter: drop-shadow(0px 1px 2px rgba(0, 0, 0, 0.3));\n",
              "      fill: #FFFFFF;\n",
              "    }\n",
              "  </style>\n",
              "\n",
              "      <script>\n",
              "        const buttonEl =\n",
              "          document.querySelector('#df-2d152318-8a4b-4a48-a4b4-ab25523fb206 button.colab-df-convert');\n",
              "        buttonEl.style.display =\n",
              "          google.colab.kernel.accessAllowed ? 'block' : 'none';\n",
              "\n",
              "        async function convertToInteractive(key) {\n",
              "          const element = document.querySelector('#df-2d152318-8a4b-4a48-a4b4-ab25523fb206');\n",
              "          const dataTable =\n",
              "            await google.colab.kernel.invokeFunction('convertToInteractive',\n",
              "                                                     [key], {});\n",
              "          if (!dataTable) return;\n",
              "\n",
              "          const docLinkHtml = 'Like what you see? Visit the ' +\n",
              "            '<a target=\"_blank\" href=https://colab.research.google.com/notebooks/data_table.ipynb>data table notebook</a>'\n",
              "            + ' to learn more about interactive tables.';\n",
              "          element.innerHTML = '';\n",
              "          dataTable['output_type'] = 'display_data';\n",
              "          await google.colab.output.renderOutput(dataTable, element);\n",
              "          const docLink = document.createElement('div');\n",
              "          docLink.innerHTML = docLinkHtml;\n",
              "          element.appendChild(docLink);\n",
              "        }\n",
              "      </script>\n",
              "    </div>\n",
              "  </div>\n",
              "  "
            ]
          },
          "metadata": {},
          "execution_count": 90
        }
      ]
    },
    {
      "cell_type": "code",
      "source": [],
      "metadata": {
        "id": "BXKmJRNavgBQ"
      },
      "execution_count": 90,
      "outputs": []
    },
    {
      "cell_type": "code",
      "source": [],
      "metadata": {
        "id": "OTv_GQtAvgEH"
      },
      "execution_count": 90,
      "outputs": []
    }
  ]
}