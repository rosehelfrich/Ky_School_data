{
  "nbformat": 4,
  "nbformat_minor": 0,
  "metadata": {
    "colab": {
      "provenance": [],
      "toc_visible": true,
      "authorship_tag": "ABX9TyOQuuIk2isi01zNCjQfVltD",
      "include_colab_link": true
    },
    "kernelspec": {
      "name": "python3",
      "display_name": "Python 3"
    },
    "language_info": {
      "name": "python"
    }
  },
  "cells": [
    {
      "cell_type": "markdown",
      "metadata": {
        "id": "view-in-github",
        "colab_type": "text"
      },
      "source": [
        "<a href=\"https://colab.research.google.com/github/rosehelfrich/Ky_School_data/blob/main/Predict_Classification%2C_and_Highly_Impacted_Schools.ipynb\" target=\"_parent\"><img src=\"https://colab.research.google.com/assets/colab-badge.svg\" alt=\"Open In Colab\"/></a>"
      ]
    },
    {
      "cell_type": "code",
      "execution_count": 1,
      "metadata": {
        "id": "mPbt9W2-tujY"
      },
      "outputs": [],
      "source": [
        "import pandas as pd\n",
        "import numpy as np\n",
        "import tensorflow as tf\n",
        "\n",
        "from tensorflow.keras.callbacks import EarlyStopping\n",
        "from sklearn.preprocessing import StandardScaler\n",
        "from sklearn.model_selection import train_test_split\n"
      ]
    },
    {
      "cell_type": "code",
      "source": [
        "from google.colab import drive\n",
        "drive.mount('/content/drive')"
      ],
      "metadata": {
        "colab": {
          "base_uri": "https://localhost:8080/"
        },
        "id": "kl7kadJNt5Pr",
        "outputId": "1015dd0a-1a7e-4844-961f-664834053cdc"
      },
      "execution_count": 2,
      "outputs": [
        {
          "output_type": "stream",
          "name": "stdout",
          "text": [
            "Drive already mounted at /content/drive; to attempt to forcibly remount, call drive.mount(\"/content/drive\", force_remount=True).\n"
          ]
        }
      ]
    },
    {
      "cell_type": "code",
      "source": [
        "# Column / Row options\n",
        "pd.options.display.max_columns = None\n",
        "pd.options.display.max_rows = 20\n",
        "\n",
        "# Two decimal places and the thousands separator\n",
        "pd.options.display.float_format = '{:,.2f}'.format"
      ],
      "metadata": {
        "id": "0PIbEaZVE2sd"
      },
      "execution_count": 3,
      "outputs": []
    },
    {
      "cell_type": "markdown",
      "source": [
        "# KY df - load and polish"
      ],
      "metadata": {
        "id": "VZvOAbpDsZ3n"
      }
    },
    {
      "cell_type": "code",
      "source": [
        "# Load the data frames\n",
        "df_scores = pd.read_csv('/content/drive/MyDrive/Colab Data/KY EPSB/All Years/Unpublished/df_scores.csv')\n",
        "ky_spending_df = pd.read_csv('/content/drive/MyDrive/Colab Data/KY EPSB/All Years/Unpublished/preprocessed_df.csv')\n",
        "\n",
        "# Select only the necessary columns from ky_spending_df\n",
        "ky_spending_df = ky_spending_df.loc[:,['End Year', 'School Code', 'Level',\n",
        "                                       'Reported Spending per student', 'Money Difference per school',\n",
        "                                       ]]\n"
      ],
      "metadata": {
        "id": "xGY0zAERrluS"
      },
      "execution_count": 4,
      "outputs": []
    },
    {
      "cell_type": "code",
      "source": [
        "# Merge into one df\n",
        "df = pd.merge(df_scores, ky_spending_df, on=['End Year', 'School Code', 'Level'], how='left')\n",
        "\n",
        "# Sort df & Reset index\n",
        "df.sort_values(by=['End Year', 'District', 'School Code'], inplace=True)\n",
        "df.reset_index(drop=True, inplace=True)\n",
        "\n",
        "# Create columns with the codes\n",
        "df['Classification Code'] = df['Classification']\n",
        "df['Classification Code'].replace(['Needs Improvement', 'Proficient', 'Distinguished'], [0, 1, 2], inplace=True)\n",
        "\n",
        "df['Level Code'] = df['Level']\n",
        "df['Level Code'].replace(['ES', 'MS', 'HS'], [0, 1, 2], inplace=True)\n",
        "\n",
        "df['End Year Code'] = df['End Year'] - 2012\n",
        "\n",
        "df['Rating'] = df['Rating Code']\n",
        "df['Rating'].replace([0,1,2,3,4], ['Very Low', 'Low', 'Medium', 'High', 'Very High'], inplace=True)\n",
        "\n"
      ],
      "metadata": {
        "id": "Nj4bodyzJ43A"
      },
      "execution_count": 5,
      "outputs": []
    },
    {
      "cell_type": "code",
      "source": [
        "# Reorder the columns of df_scores\n",
        "reordered_columns = ['End Year', 'End Year Code',\n",
        "                     'District', 'District Code',\n",
        "                     'School', 'School Code',\n",
        "                     'Level', 'Level Code',\n",
        "                     'Reported Spending per student', 'Money Difference per school',\n",
        "                     'Proficiency Rate',\n",
        "                     'Classification','Classification Code',\n",
        "                     'Rating', 'Rating Code',]\n",
        "\n",
        "df = df[reordered_columns]"
      ],
      "metadata": {
        "id": "le8xycOUDE8O"
      },
      "execution_count": 6,
      "outputs": []
    },
    {
      "cell_type": "code",
      "source": [
        "# Round\n",
        "df = df.round({'Proficiency Rate': 0, 'Reported Spending per student': -1, 'Money Difference per school': -2})"
      ],
      "metadata": {
        "id": "zEUuozLJg7hL"
      },
      "execution_count": 7,
      "outputs": []
    },
    {
      "cell_type": "code",
      "source": [
        "# This df will hold the predicted values\n",
        "\n",
        "predict_df = df.copy()"
      ],
      "metadata": {
        "id": "ENpjqqJnyK1j"
      },
      "execution_count": 8,
      "outputs": []
    },
    {
      "cell_type": "markdown",
      "source": [
        "# Predict Classification: a NN Model"
      ],
      "metadata": {
        "id": "ohBn_Y_yATis"
      }
    },
    {
      "cell_type": "markdown",
      "source": [
        "## Shuffle, Balance, Split, Scale"
      ],
      "metadata": {
        "id": "GxWh9f-BqbvG"
      }
    },
    {
      "cell_type": "code",
      "source": [
        "unscaled_df = predict_df.loc[:,['End Year Code', 'District Code', 'Level Code',\n",
        "                                'Reported Spending per student', 'Money Difference per school',\n",
        "                                'Proficiency Rate', 'Classification Code', ]]\n",
        "\n",
        "unscaled_df.dropna(axis =0, inplace=True)\n",
        "unscaled_df.reset_index(drop=True, inplace=True)\n",
        "\n",
        "#Shuffle df\n",
        "unscaled_df = unscaled_df.sample(frac=1, random_state=15)"
      ],
      "metadata": {
        "id": "OxHPfwd3Tob7"
      },
      "execution_count": 9,
      "outputs": []
    },
    {
      "cell_type": "code",
      "source": [
        "#Separate into input and targets\n",
        "unscaled_inputs = unscaled_df.values[:,:-1]\n",
        "targets = unscaled_df.values[:,-1]\n",
        "\n",
        "# Split into training, validation, and test sets\n",
        "unscaled_X_train, unscaled_X_set, y_train, y_set = train_test_split(unscaled_inputs, targets,\n",
        "                                                                    test_size=0.2, random_state=15,\n",
        "                                                                    stratify = targets)\n",
        "\n",
        "unscaled_X_valid, unscaled_X_test, y_valid, y_test = train_test_split(unscaled_X_set, y_set,\n",
        "                                                                      test_size=0.5, random_state=13,\n",
        "                                                                      stratify = y_set)"
      ],
      "metadata": {
        "id": "gi7cn2ppM4dv"
      },
      "execution_count": 10,
      "outputs": []
    },
    {
      "cell_type": "code",
      "source": [
        "# Scale data\n",
        "epsb_scaler = StandardScaler()\n",
        "\n",
        "# Calculate and store the mean and sd\n",
        "epsb_scaler.fit(unscaled_X_train)\n",
        "\n",
        "# Apply the scaler\n",
        "scaled_X_train = epsb_scaler.transform(unscaled_X_train)\n",
        "scaled_X_valid = epsb_scaler.transform(unscaled_X_valid)\n",
        "scaled_X_test = epsb_scaler.transform(unscaled_X_test)"
      ],
      "metadata": {
        "id": "WAQ-xMkwMz22"
      },
      "execution_count": 11,
      "outputs": []
    },
    {
      "cell_type": "markdown",
      "source": [
        "## Model"
      ],
      "metadata": {
        "id": "22iLAmwjZhWX"
      }
    },
    {
      "cell_type": "code",
      "source": [
        "# Create the model\n",
        "# Ran different rounds of the below model.  Some of the options I put in comments to the right.\n",
        "\n",
        "input_size = 6\n",
        "output_size = 3\n",
        "hidden_layer_size = 15 # for this problem, optimal results were between 10-20 layers\n",
        "\n",
        "model = tf.keras.Sequential([\n",
        "    tf.keras.layers.Dense(hidden_layer_size, activation='tanh'),  # attempted to make this linear, and it only came to 77% valid accuracy or less\n",
        "    tf.keras.layers.Dense(hidden_layer_size, activation='tanh'),\n",
        "    tf.keras.layers.Dense(output_size, activation='softmax')\n",
        "    ])\n",
        "\n",
        "model.compile(optimizer='adam', loss='sparse_categorical_crossentropy', metrics=['accuracy'])\n"
      ],
      "metadata": {
        "id": "tkeoXJwLGtRf"
      },
      "execution_count": 12,
      "outputs": []
    },
    {
      "cell_type": "code",
      "source": [
        "# Fit the model\n",
        "\n",
        "batch_size = 50  # started with batch size 25\n",
        "max_epochs = 100 # started with 20 epochs\n",
        "\n",
        "early_stopping = EarlyStopping(monitor='val_loss', patience=5, restore_best_weights=True)\n",
        "\n",
        "#early_stopping = tf.keras.callbacks.EarlyStopping(patience=5)\n",
        "\n",
        "model.fit(scaled_X_train,\n",
        "          y_train,\n",
        "          batch_size=batch_size,\n",
        "          epochs = max_epochs,\n",
        "          callbacks = [early_stopping],\n",
        "          validation_data = (scaled_X_valid, y_valid),\n",
        "          verbose =2)\n",
        "\n",
        "# Ran rounds using a multi-index of School Code & End Year.  But didn't get above a 78% validation accuracy"
      ],
      "metadata": {
        "colab": {
          "base_uri": "https://localhost:8080/"
        },
        "id": "BG2ubwNvGtW2",
        "outputId": "73ffbe68-0845-49cf-8d28-4786613c5ede"
      },
      "execution_count": 13,
      "outputs": [
        {
          "output_type": "stream",
          "name": "stdout",
          "text": [
            "Epoch 1/100\n",
            "100/100 - 4s - loss: 0.8642 - accuracy: 0.6223 - val_loss: 0.6572 - val_accuracy: 0.7274 - 4s/epoch - 40ms/step\n",
            "Epoch 2/100\n",
            "100/100 - 1s - loss: 0.5811 - accuracy: 0.7431 - val_loss: 0.5085 - val_accuracy: 0.7613 - 643ms/epoch - 6ms/step\n",
            "Epoch 3/100\n",
            "100/100 - 1s - loss: 0.4781 - accuracy: 0.7760 - val_loss: 0.4460 - val_accuracy: 0.8210 - 617ms/epoch - 6ms/step\n",
            "Epoch 4/100\n",
            "100/100 - 1s - loss: 0.4288 - accuracy: 0.8038 - val_loss: 0.4136 - val_accuracy: 0.8290 - 775ms/epoch - 8ms/step\n",
            "Epoch 5/100\n",
            "100/100 - 1s - loss: 0.4013 - accuracy: 0.8242 - val_loss: 0.3948 - val_accuracy: 0.8435 - 619ms/epoch - 6ms/step\n",
            "Epoch 6/100\n",
            "100/100 - 0s - loss: 0.3839 - accuracy: 0.8314 - val_loss: 0.3845 - val_accuracy: 0.8452 - 366ms/epoch - 4ms/step\n",
            "Epoch 7/100\n",
            "100/100 - 1s - loss: 0.3728 - accuracy: 0.8363 - val_loss: 0.3722 - val_accuracy: 0.8516 - 580ms/epoch - 6ms/step\n",
            "Epoch 8/100\n",
            "100/100 - 1s - loss: 0.3640 - accuracy: 0.8393 - val_loss: 0.3654 - val_accuracy: 0.8500 - 507ms/epoch - 5ms/step\n",
            "Epoch 9/100\n",
            "100/100 - 0s - loss: 0.3553 - accuracy: 0.8425 - val_loss: 0.3575 - val_accuracy: 0.8468 - 445ms/epoch - 4ms/step\n",
            "Epoch 10/100\n",
            "100/100 - 0s - loss: 0.3479 - accuracy: 0.8451 - val_loss: 0.3497 - val_accuracy: 0.8581 - 337ms/epoch - 3ms/step\n",
            "Epoch 11/100\n",
            "100/100 - 0s - loss: 0.3401 - accuracy: 0.8494 - val_loss: 0.3447 - val_accuracy: 0.8645 - 404ms/epoch - 4ms/step\n",
            "Epoch 12/100\n",
            "100/100 - 1s - loss: 0.3329 - accuracy: 0.8506 - val_loss: 0.3370 - val_accuracy: 0.8581 - 587ms/epoch - 6ms/step\n",
            "Epoch 13/100\n",
            "100/100 - 0s - loss: 0.3265 - accuracy: 0.8508 - val_loss: 0.3353 - val_accuracy: 0.8661 - 364ms/epoch - 4ms/step\n",
            "Epoch 14/100\n",
            "100/100 - 1s - loss: 0.3200 - accuracy: 0.8570 - val_loss: 0.3259 - val_accuracy: 0.8726 - 511ms/epoch - 5ms/step\n",
            "Epoch 15/100\n",
            "100/100 - 0s - loss: 0.3137 - accuracy: 0.8586 - val_loss: 0.3198 - val_accuracy: 0.8758 - 468ms/epoch - 5ms/step\n",
            "Epoch 16/100\n",
            "100/100 - 0s - loss: 0.3065 - accuracy: 0.8653 - val_loss: 0.3134 - val_accuracy: 0.8758 - 405ms/epoch - 4ms/step\n",
            "Epoch 17/100\n",
            "100/100 - 0s - loss: 0.2984 - accuracy: 0.8689 - val_loss: 0.3069 - val_accuracy: 0.8694 - 355ms/epoch - 4ms/step\n",
            "Epoch 18/100\n",
            "100/100 - 0s - loss: 0.2899 - accuracy: 0.8754 - val_loss: 0.2989 - val_accuracy: 0.8790 - 388ms/epoch - 4ms/step\n",
            "Epoch 19/100\n",
            "100/100 - 0s - loss: 0.2792 - accuracy: 0.8812 - val_loss: 0.2906 - val_accuracy: 0.8839 - 343ms/epoch - 3ms/step\n",
            "Epoch 20/100\n",
            "100/100 - 0s - loss: 0.2676 - accuracy: 0.8857 - val_loss: 0.2769 - val_accuracy: 0.8935 - 340ms/epoch - 3ms/step\n",
            "Epoch 21/100\n",
            "100/100 - 1s - loss: 0.2557 - accuracy: 0.8907 - val_loss: 0.2648 - val_accuracy: 0.8968 - 601ms/epoch - 6ms/step\n",
            "Epoch 22/100\n",
            "100/100 - 0s - loss: 0.2425 - accuracy: 0.8957 - val_loss: 0.2539 - val_accuracy: 0.9048 - 455ms/epoch - 5ms/step\n",
            "Epoch 23/100\n",
            "100/100 - 0s - loss: 0.2283 - accuracy: 0.9018 - val_loss: 0.2421 - val_accuracy: 0.9032 - 411ms/epoch - 4ms/step\n",
            "Epoch 24/100\n",
            "100/100 - 0s - loss: 0.2163 - accuracy: 0.9103 - val_loss: 0.2314 - val_accuracy: 0.9032 - 423ms/epoch - 4ms/step\n",
            "Epoch 25/100\n",
            "100/100 - 0s - loss: 0.2047 - accuracy: 0.9139 - val_loss: 0.2195 - val_accuracy: 0.9048 - 484ms/epoch - 5ms/step\n",
            "Epoch 26/100\n",
            "100/100 - 1s - loss: 0.1934 - accuracy: 0.9197 - val_loss: 0.2065 - val_accuracy: 0.9097 - 501ms/epoch - 5ms/step\n",
            "Epoch 27/100\n",
            "100/100 - 1s - loss: 0.1824 - accuracy: 0.9238 - val_loss: 0.2027 - val_accuracy: 0.9161 - 994ms/epoch - 10ms/step\n",
            "Epoch 28/100\n",
            "100/100 - 1s - loss: 0.1736 - accuracy: 0.9276 - val_loss: 0.1903 - val_accuracy: 0.9210 - 681ms/epoch - 7ms/step\n",
            "Epoch 29/100\n",
            "100/100 - 1s - loss: 0.1650 - accuracy: 0.9312 - val_loss: 0.1801 - val_accuracy: 0.9210 - 609ms/epoch - 6ms/step\n",
            "Epoch 30/100\n",
            "100/100 - 0s - loss: 0.1571 - accuracy: 0.9355 - val_loss: 0.1733 - val_accuracy: 0.9242 - 487ms/epoch - 5ms/step\n",
            "Epoch 31/100\n",
            "100/100 - 1s - loss: 0.1514 - accuracy: 0.9369 - val_loss: 0.1703 - val_accuracy: 0.9387 - 599ms/epoch - 6ms/step\n",
            "Epoch 32/100\n",
            "100/100 - 0s - loss: 0.1441 - accuracy: 0.9383 - val_loss: 0.1705 - val_accuracy: 0.9274 - 331ms/epoch - 3ms/step\n",
            "Epoch 33/100\n",
            "100/100 - 0s - loss: 0.1393 - accuracy: 0.9419 - val_loss: 0.1559 - val_accuracy: 0.9371 - 328ms/epoch - 3ms/step\n",
            "Epoch 34/100\n",
            "100/100 - 0s - loss: 0.1341 - accuracy: 0.9439 - val_loss: 0.1559 - val_accuracy: 0.9371 - 347ms/epoch - 3ms/step\n",
            "Epoch 35/100\n",
            "100/100 - 0s - loss: 0.1300 - accuracy: 0.9425 - val_loss: 0.1496 - val_accuracy: 0.9387 - 308ms/epoch - 3ms/step\n",
            "Epoch 36/100\n",
            "100/100 - 0s - loss: 0.1262 - accuracy: 0.9488 - val_loss: 0.1447 - val_accuracy: 0.9339 - 335ms/epoch - 3ms/step\n",
            "Epoch 37/100\n",
            "100/100 - 0s - loss: 0.1216 - accuracy: 0.9476 - val_loss: 0.1404 - val_accuracy: 0.9419 - 277ms/epoch - 3ms/step\n",
            "Epoch 38/100\n",
            "100/100 - 0s - loss: 0.1182 - accuracy: 0.9516 - val_loss: 0.1409 - val_accuracy: 0.9435 - 211ms/epoch - 2ms/step\n",
            "Epoch 39/100\n",
            "100/100 - 0s - loss: 0.1155 - accuracy: 0.9536 - val_loss: 0.1348 - val_accuracy: 0.9468 - 201ms/epoch - 2ms/step\n",
            "Epoch 40/100\n",
            "100/100 - 0s - loss: 0.1113 - accuracy: 0.9552 - val_loss: 0.1315 - val_accuracy: 0.9484 - 196ms/epoch - 2ms/step\n",
            "Epoch 41/100\n",
            "100/100 - 0s - loss: 0.1096 - accuracy: 0.9556 - val_loss: 0.1275 - val_accuracy: 0.9468 - 220ms/epoch - 2ms/step\n",
            "Epoch 42/100\n",
            "100/100 - 0s - loss: 0.1072 - accuracy: 0.9566 - val_loss: 0.1257 - val_accuracy: 0.9532 - 208ms/epoch - 2ms/step\n",
            "Epoch 43/100\n",
            "100/100 - 0s - loss: 0.1030 - accuracy: 0.9605 - val_loss: 0.1293 - val_accuracy: 0.9435 - 198ms/epoch - 2ms/step\n",
            "Epoch 44/100\n",
            "100/100 - 0s - loss: 0.1014 - accuracy: 0.9585 - val_loss: 0.1287 - val_accuracy: 0.9419 - 196ms/epoch - 2ms/step\n",
            "Epoch 45/100\n",
            "100/100 - 0s - loss: 0.1008 - accuracy: 0.9593 - val_loss: 0.1216 - val_accuracy: 0.9468 - 212ms/epoch - 2ms/step\n",
            "Epoch 46/100\n",
            "100/100 - 0s - loss: 0.0971 - accuracy: 0.9619 - val_loss: 0.1145 - val_accuracy: 0.9532 - 222ms/epoch - 2ms/step\n",
            "Epoch 47/100\n",
            "100/100 - 0s - loss: 0.0951 - accuracy: 0.9639 - val_loss: 0.1156 - val_accuracy: 0.9500 - 200ms/epoch - 2ms/step\n",
            "Epoch 48/100\n",
            "100/100 - 0s - loss: 0.0929 - accuracy: 0.9627 - val_loss: 0.1119 - val_accuracy: 0.9532 - 196ms/epoch - 2ms/step\n",
            "Epoch 49/100\n",
            "100/100 - 0s - loss: 0.0913 - accuracy: 0.9633 - val_loss: 0.1083 - val_accuracy: 0.9581 - 210ms/epoch - 2ms/step\n",
            "Epoch 50/100\n",
            "100/100 - 0s - loss: 0.0892 - accuracy: 0.9633 - val_loss: 0.1099 - val_accuracy: 0.9581 - 216ms/epoch - 2ms/step\n",
            "Epoch 51/100\n",
            "100/100 - 0s - loss: 0.0875 - accuracy: 0.9635 - val_loss: 0.1096 - val_accuracy: 0.9597 - 211ms/epoch - 2ms/step\n",
            "Epoch 52/100\n",
            "100/100 - 0s - loss: 0.0860 - accuracy: 0.9639 - val_loss: 0.1023 - val_accuracy: 0.9581 - 205ms/epoch - 2ms/step\n",
            "Epoch 53/100\n",
            "100/100 - 0s - loss: 0.0842 - accuracy: 0.9667 - val_loss: 0.1028 - val_accuracy: 0.9532 - 208ms/epoch - 2ms/step\n",
            "Epoch 54/100\n",
            "100/100 - 0s - loss: 0.0822 - accuracy: 0.9673 - val_loss: 0.1044 - val_accuracy: 0.9532 - 204ms/epoch - 2ms/step\n",
            "Epoch 55/100\n",
            "100/100 - 0s - loss: 0.0815 - accuracy: 0.9661 - val_loss: 0.0997 - val_accuracy: 0.9629 - 216ms/epoch - 2ms/step\n",
            "Epoch 56/100\n",
            "100/100 - 0s - loss: 0.0805 - accuracy: 0.9685 - val_loss: 0.0989 - val_accuracy: 0.9548 - 208ms/epoch - 2ms/step\n",
            "Epoch 57/100\n",
            "100/100 - 0s - loss: 0.0777 - accuracy: 0.9679 - val_loss: 0.1041 - val_accuracy: 0.9548 - 213ms/epoch - 2ms/step\n",
            "Epoch 58/100\n",
            "100/100 - 0s - loss: 0.0771 - accuracy: 0.9667 - val_loss: 0.0973 - val_accuracy: 0.9548 - 213ms/epoch - 2ms/step\n",
            "Epoch 59/100\n",
            "100/100 - 0s - loss: 0.0766 - accuracy: 0.9687 - val_loss: 0.0915 - val_accuracy: 0.9613 - 247ms/epoch - 2ms/step\n",
            "Epoch 60/100\n",
            "100/100 - 0s - loss: 0.0760 - accuracy: 0.9687 - val_loss: 0.0956 - val_accuracy: 0.9597 - 216ms/epoch - 2ms/step\n",
            "Epoch 61/100\n",
            "100/100 - 0s - loss: 0.0739 - accuracy: 0.9728 - val_loss: 0.0955 - val_accuracy: 0.9581 - 204ms/epoch - 2ms/step\n",
            "Epoch 62/100\n",
            "100/100 - 0s - loss: 0.0726 - accuracy: 0.9712 - val_loss: 0.0914 - val_accuracy: 0.9565 - 214ms/epoch - 2ms/step\n",
            "Epoch 63/100\n",
            "100/100 - 0s - loss: 0.0713 - accuracy: 0.9720 - val_loss: 0.0925 - val_accuracy: 0.9581 - 246ms/epoch - 2ms/step\n",
            "Epoch 64/100\n",
            "100/100 - 0s - loss: 0.0701 - accuracy: 0.9687 - val_loss: 0.0967 - val_accuracy: 0.9565 - 200ms/epoch - 2ms/step\n",
            "Epoch 65/100\n",
            "100/100 - 0s - loss: 0.0699 - accuracy: 0.9712 - val_loss: 0.0915 - val_accuracy: 0.9597 - 214ms/epoch - 2ms/step\n",
            "Epoch 66/100\n",
            "100/100 - 0s - loss: 0.0688 - accuracy: 0.9718 - val_loss: 0.0864 - val_accuracy: 0.9629 - 217ms/epoch - 2ms/step\n",
            "Epoch 67/100\n",
            "100/100 - 0s - loss: 0.0683 - accuracy: 0.9724 - val_loss: 0.0868 - val_accuracy: 0.9581 - 236ms/epoch - 2ms/step\n",
            "Epoch 68/100\n",
            "100/100 - 0s - loss: 0.0666 - accuracy: 0.9724 - val_loss: 0.0892 - val_accuracy: 0.9597 - 207ms/epoch - 2ms/step\n",
            "Epoch 69/100\n",
            "100/100 - 0s - loss: 0.0671 - accuracy: 0.9716 - val_loss: 0.0840 - val_accuracy: 0.9597 - 224ms/epoch - 2ms/step\n",
            "Epoch 70/100\n",
            "100/100 - 0s - loss: 0.0667 - accuracy: 0.9708 - val_loss: 0.0860 - val_accuracy: 0.9597 - 204ms/epoch - 2ms/step\n",
            "Epoch 71/100\n",
            "100/100 - 0s - loss: 0.0654 - accuracy: 0.9724 - val_loss: 0.0836 - val_accuracy: 0.9548 - 208ms/epoch - 2ms/step\n",
            "Epoch 72/100\n",
            "100/100 - 0s - loss: 0.0637 - accuracy: 0.9732 - val_loss: 0.0886 - val_accuracy: 0.9597 - 240ms/epoch - 2ms/step\n",
            "Epoch 73/100\n",
            "100/100 - 0s - loss: 0.0634 - accuracy: 0.9750 - val_loss: 0.0833 - val_accuracy: 0.9597 - 205ms/epoch - 2ms/step\n",
            "Epoch 74/100\n",
            "100/100 - 0s - loss: 0.0634 - accuracy: 0.9718 - val_loss: 0.0819 - val_accuracy: 0.9629 - 222ms/epoch - 2ms/step\n",
            "Epoch 75/100\n",
            "100/100 - 0s - loss: 0.0618 - accuracy: 0.9746 - val_loss: 0.0837 - val_accuracy: 0.9581 - 214ms/epoch - 2ms/step\n",
            "Epoch 76/100\n",
            "100/100 - 0s - loss: 0.0617 - accuracy: 0.9730 - val_loss: 0.0828 - val_accuracy: 0.9597 - 196ms/epoch - 2ms/step\n",
            "Epoch 77/100\n",
            "100/100 - 0s - loss: 0.0608 - accuracy: 0.9744 - val_loss: 0.0838 - val_accuracy: 0.9597 - 206ms/epoch - 2ms/step\n",
            "Epoch 78/100\n",
            "100/100 - 0s - loss: 0.0601 - accuracy: 0.9752 - val_loss: 0.0867 - val_accuracy: 0.9661 - 208ms/epoch - 2ms/step\n",
            "Epoch 79/100\n",
            "100/100 - 0s - loss: 0.0601 - accuracy: 0.9726 - val_loss: 0.0784 - val_accuracy: 0.9613 - 228ms/epoch - 2ms/step\n",
            "Epoch 80/100\n",
            "100/100 - 0s - loss: 0.0586 - accuracy: 0.9752 - val_loss: 0.0869 - val_accuracy: 0.9597 - 200ms/epoch - 2ms/step\n",
            "Epoch 81/100\n",
            "100/100 - 0s - loss: 0.0581 - accuracy: 0.9756 - val_loss: 0.0843 - val_accuracy: 0.9613 - 204ms/epoch - 2ms/step\n",
            "Epoch 82/100\n",
            "100/100 - 0s - loss: 0.0578 - accuracy: 0.9758 - val_loss: 0.0817 - val_accuracy: 0.9597 - 207ms/epoch - 2ms/step\n",
            "Epoch 83/100\n",
            "100/100 - 0s - loss: 0.0573 - accuracy: 0.9746 - val_loss: 0.0808 - val_accuracy: 0.9597 - 262ms/epoch - 3ms/step\n",
            "Epoch 84/100\n",
            "100/100 - 0s - loss: 0.0564 - accuracy: 0.9750 - val_loss: 0.0874 - val_accuracy: 0.9613 - 347ms/epoch - 3ms/step\n"
          ]
        },
        {
          "output_type": "execute_result",
          "data": {
            "text/plain": [
              "<keras.src.callbacks.History at 0x7fa0863ce1a0>"
            ]
          },
          "metadata": {},
          "execution_count": 13
        }
      ]
    },
    {
      "cell_type": "code",
      "source": [
        "# test the model\n",
        "\n",
        "test_loss, test_accuracy = model.evaluate(scaled_X_test, y_test)"
      ],
      "metadata": {
        "colab": {
          "base_uri": "https://localhost:8080/"
        },
        "id": "SvVwCfw1GtZt",
        "outputId": "38c68701-a3e3-4953-c6df-b2f440383138"
      },
      "execution_count": 14,
      "outputs": [
        {
          "output_type": "stream",
          "name": "stdout",
          "text": [
            "20/20 [==============================] - 0s 2ms/step - loss: 0.0636 - accuracy: 0.9774\n"
          ]
        }
      ]
    },
    {
      "cell_type": "code",
      "source": [
        "# Print Pretty\n",
        "\n",
        "print('\\nTest loss: {0:.2f}. Test accuracy: {1:.2f}%'.format(test_loss, test_accuracy*100.))"
      ],
      "metadata": {
        "colab": {
          "base_uri": "https://localhost:8080/"
        },
        "id": "zalRGu7N3sq9",
        "outputId": "85464c32-7474-4c3a-96bd-95b8cf19cb51"
      },
      "execution_count": 15,
      "outputs": [
        {
          "output_type": "stream",
          "name": "stdout",
          "text": [
            "\n",
            "Test loss: 0.06. Test accuracy: 97.74%\n"
          ]
        }
      ]
    },
    {
      "cell_type": "code",
      "source": [
        "# Save model\n",
        "# Test accuracy for the saved model is 97%\n",
        "#tf.keras.models.save_model(model, '/content/drive/MyDrive/Colab Data/KY EPSB/model', include_optimizer=True)"
      ],
      "metadata": {
        "id": "c0E9NeLg3swR"
      },
      "execution_count": 16,
      "outputs": []
    },
    {
      "cell_type": "markdown",
      "source": [
        "## Predict Classification using model"
      ],
      "metadata": {
        "id": "fIw4UJzTBLBr"
      }
    },
    {
      "cell_type": "code",
      "source": [
        "# Grab the data that we want to predict\n",
        "inputs = predict_df.loc[:,['End Year Code', 'District Code', 'Level Code',\n",
        "                                'Reported Spending per student', 'Money Difference per school',\n",
        "                                'Proficiency Rate', ]]\n",
        "\n",
        "# Convert to np array\n",
        "# scale data\n",
        "inputs = epsb_scaler.transform(inputs.values)"
      ],
      "metadata": {
        "id": "SAZjPHwgGtjV"
      },
      "execution_count": 17,
      "outputs": []
    },
    {
      "cell_type": "code",
      "source": [
        "# Use the model to predict the values\n",
        "pred_multi_col = model.predict(inputs)\n",
        "\n",
        "#Convert to one column\n",
        "pred_classification = pred_multi_col.argmax(axis=1)\n",
        "\n",
        "# Save predictions to predict_df\n",
        "predict_df['Classification Code'] = pred_classification"
      ],
      "metadata": {
        "colab": {
          "base_uri": "https://localhost:8080/"
        },
        "id": "QBIKXHyM3s1J",
        "outputId": "8937b37c-9373-4877-c405-db1278d0aa19"
      },
      "execution_count": 18,
      "outputs": [
        {
          "output_type": "stream",
          "name": "stdout",
          "text": [
            "359/359 [==============================] - 1s 2ms/step\n"
          ]
        }
      ]
    },
    {
      "cell_type": "markdown",
      "source": [
        "# Predict Rating: a NN Model"
      ],
      "metadata": {
        "id": "wgXytIDPa8-t"
      }
    },
    {
      "cell_type": "markdown",
      "source": [
        "## Shuffle, Split, Scale"
      ],
      "metadata": {
        "id": "50rTim3-1Qv7"
      }
    },
    {
      "cell_type": "code",
      "source": [
        "nested_df = predict_df.loc[:,['End Year Code', #'District Code',\n",
        "                              'Level Code',\n",
        "                              'Reported Spending per student', 'Money Difference per school',\n",
        "                              'Proficiency Rate', 'Classification Code', 'Rating Code']]\n",
        "\n",
        "nested_df.dropna(inplace=True)\n",
        "\n",
        "#Shuffle data\n",
        "nested_df = nested_df.sample(frac=1, random_state=7)\n",
        "nested_df.reset_index(drop=True, inplace=True)"
      ],
      "metadata": {
        "id": "ljgq0AOsvf9V"
      },
      "execution_count": 19,
      "outputs": []
    },
    {
      "cell_type": "code",
      "source": [
        "nested_inputs = nested_df.values[:,:-1]\n",
        "nested_targets = nested_df.values[:,-1]"
      ],
      "metadata": {
        "id": "AnerFc_GxThJ"
      },
      "execution_count": 20,
      "outputs": []
    },
    {
      "cell_type": "code",
      "source": [
        "x_train, x_set, y_train, y_set = train_test_split(nested_inputs, nested_targets,\n",
        "                                                  test_size=0.2, random_state=3, stratify = nested_targets)\n",
        "\n",
        "x_valid, x_test, y_valid, y_test = train_test_split(x_set, y_set,\n",
        "                                                    test_size=0.5, random_state=16, stratify = y_set)"
      ],
      "metadata": {
        "id": "vBHjZV-RtbGz"
      },
      "execution_count": 21,
      "outputs": []
    },
    {
      "cell_type": "code",
      "source": [
        "# Scale data\n",
        "nested_model_scaler = StandardScaler()\n",
        "\n",
        "# Calculate and store the mean and sd\n",
        "nested_model_scaler.fit(x_train)\n",
        "\n",
        "# Apply the scaler\n",
        "x_train_scaled = nested_model_scaler.transform(x_train)\n",
        "x_valid_scaled = nested_model_scaler.transform(x_valid)\n",
        "x_test_scaled = nested_model_scaler.transform(x_test)"
      ],
      "metadata": {
        "id": "ur3VDezy3EEC"
      },
      "execution_count": 22,
      "outputs": []
    },
    {
      "cell_type": "markdown",
      "source": [
        "## Model"
      ],
      "metadata": {
        "id": "BnuZeBNMvXrV"
      }
    },
    {
      "cell_type": "code",
      "source": [
        "# Create the model\n",
        "# Ran different rounds of the below model.  Some of the options I put in comments to the right.\n",
        "\n",
        "input_size = 6\n",
        "output_size = 5\n",
        "hidden_layer_size = 10 # also tried 20, 5, 15, 30\n",
        "\n",
        "nested_model = tf.keras.Sequential([\n",
        "    tf.keras.layers.Dense(hidden_layer_size, activation='PReLU'), # relu, elu, PReLU, LeakyReLU, swish     runnerup: swish, PReLU\n",
        "    tf.keras.layers.Dense(hidden_layer_size, activation='elu'), # relu, elu, swish, PReLU, gelu, tanh      runnerup: elu, PReLU\n",
        "    tf.keras.layers.Dense(output_size, activation='softmax')\n",
        "    ])\n",
        "\n",
        "# Create a custom learning rate\n",
        "custom_learning_rate = 0.005 # 0.01, 0.005, 0.001\n",
        "\n",
        "# Compile the model\n",
        "nested_model.compile(optimizer=tf.keras.optimizers.Adam(learning_rate=custom_learning_rate),\n",
        "                     loss='sparse_categorical_crossentropy',\n",
        "                     metrics=['accuracy'])\n",
        "\n",
        "# Fit the model\n",
        "batch_size = 20  # 20, 50, 100, 30\n",
        "max_epochs = 100\n",
        "\n",
        "early_stopping = EarlyStopping(monitor='val_loss', patience=5, restore_best_weights=True)\n",
        "\n",
        "nested_model.fit(x_train_scaled, y_train,\n",
        "          batch_size=batch_size,\n",
        "          epochs = max_epochs,\n",
        "          callbacks = [early_stopping],\n",
        "          validation_data = (x_valid_scaled, y_valid),\n",
        "          verbose = 2)\n"
      ],
      "metadata": {
        "id": "rd57uxxm63b-",
        "colab": {
          "base_uri": "https://localhost:8080/"
        },
        "outputId": "828f184e-0dd3-442f-f4d3-81673e89dca0"
      },
      "execution_count": 23,
      "outputs": [
        {
          "output_type": "stream",
          "name": "stdout",
          "text": [
            "Epoch 1/100\n",
            "102/102 - 2s - loss: 1.2397 - accuracy: 0.4609 - val_loss: 0.8383 - val_accuracy: 0.6601 - 2s/epoch - 19ms/step\n",
            "Epoch 2/100\n",
            "102/102 - 0s - loss: 0.7137 - accuracy: 0.7092 - val_loss: 0.5670 - val_accuracy: 0.8024 - 353ms/epoch - 3ms/step\n",
            "Epoch 3/100\n",
            "102/102 - 0s - loss: 0.5203 - accuracy: 0.8042 - val_loss: 0.4405 - val_accuracy: 0.8261 - 330ms/epoch - 3ms/step\n",
            "Epoch 4/100\n",
            "102/102 - 0s - loss: 0.4328 - accuracy: 0.8318 - val_loss: 0.3797 - val_accuracy: 0.8419 - 331ms/epoch - 3ms/step\n",
            "Epoch 5/100\n",
            "102/102 - 0s - loss: 0.3614 - accuracy: 0.8600 - val_loss: 0.3090 - val_accuracy: 0.8775 - 348ms/epoch - 3ms/step\n",
            "Epoch 6/100\n",
            "102/102 - 0s - loss: 0.3173 - accuracy: 0.8778 - val_loss: 0.2708 - val_accuracy: 0.8893 - 341ms/epoch - 3ms/step\n",
            "Epoch 7/100\n",
            "102/102 - 0s - loss: 0.2767 - accuracy: 0.8927 - val_loss: 0.2664 - val_accuracy: 0.8893 - 362ms/epoch - 4ms/step\n",
            "Epoch 8/100\n",
            "102/102 - 0s - loss: 0.2483 - accuracy: 0.9075 - val_loss: 0.2264 - val_accuracy: 0.9130 - 356ms/epoch - 3ms/step\n",
            "Epoch 9/100\n",
            "102/102 - 0s - loss: 0.2273 - accuracy: 0.9080 - val_loss: 0.2085 - val_accuracy: 0.9209 - 271ms/epoch - 3ms/step\n",
            "Epoch 10/100\n",
            "102/102 - 0s - loss: 0.2393 - accuracy: 0.9036 - val_loss: 0.1934 - val_accuracy: 0.8972 - 219ms/epoch - 2ms/step\n",
            "Epoch 11/100\n",
            "102/102 - 0s - loss: 0.2060 - accuracy: 0.9070 - val_loss: 0.2024 - val_accuracy: 0.9012 - 216ms/epoch - 2ms/step\n",
            "Epoch 12/100\n",
            "102/102 - 0s - loss: 0.2004 - accuracy: 0.9164 - val_loss: 0.1757 - val_accuracy: 0.9249 - 210ms/epoch - 2ms/step\n",
            "Epoch 13/100\n",
            "102/102 - 0s - loss: 0.1806 - accuracy: 0.9238 - val_loss: 0.1495 - val_accuracy: 0.9368 - 218ms/epoch - 2ms/step\n",
            "Epoch 14/100\n",
            "102/102 - 0s - loss: 0.1878 - accuracy: 0.9179 - val_loss: 0.1726 - val_accuracy: 0.9209 - 231ms/epoch - 2ms/step\n",
            "Epoch 15/100\n",
            "102/102 - 0s - loss: 0.1734 - accuracy: 0.9243 - val_loss: 0.1589 - val_accuracy: 0.9486 - 219ms/epoch - 2ms/step\n",
            "Epoch 16/100\n",
            "102/102 - 0s - loss: 0.1668 - accuracy: 0.9278 - val_loss: 0.1528 - val_accuracy: 0.9447 - 266ms/epoch - 3ms/step\n",
            "Epoch 17/100\n",
            "102/102 - 0s - loss: 0.1526 - accuracy: 0.9372 - val_loss: 0.1512 - val_accuracy: 0.9486 - 210ms/epoch - 2ms/step\n",
            "Epoch 18/100\n",
            "102/102 - 0s - loss: 0.1508 - accuracy: 0.9337 - val_loss: 0.1580 - val_accuracy: 0.9328 - 235ms/epoch - 2ms/step\n"
          ]
        },
        {
          "output_type": "execute_result",
          "data": {
            "text/plain": [
              "<keras.src.callbacks.History at 0x7fa076ab1090>"
            ]
          },
          "metadata": {},
          "execution_count": 23
        }
      ]
    },
    {
      "cell_type": "code",
      "source": [
        "# test the model\n",
        "nested_test_loss, nested_test_accuracy = nested_model.evaluate(x_test_scaled, y_test)\n",
        "\n",
        "# Print Pretty\n",
        "print('\\nNested Test loss: {0:.2f}. Nested Test accuracy: {1:.2f}%'.format(nested_test_loss, nested_test_accuracy*100.))"
      ],
      "metadata": {
        "colab": {
          "base_uri": "https://localhost:8080/"
        },
        "id": "5Hh0hkpX63g5",
        "outputId": "91026391-2343-492f-cfc8-d8da414b31eb"
      },
      "execution_count": 24,
      "outputs": [
        {
          "output_type": "stream",
          "name": "stdout",
          "text": [
            "8/8 [==============================] - 0s 3ms/step - loss: 0.1747 - accuracy: 0.9328\n",
            "\n",
            "Nested Test loss: 0.17. Nested Test accuracy: 93.28%\n"
          ]
        }
      ]
    },
    {
      "cell_type": "code",
      "source": [
        "# Save model\n",
        "# Test accuracy for the saved model is 95%\n",
        "# tf.keras.models.save_model(nested_model, '/content/drive/MyDrive/Colab Data/KY EPSB/nested_model', include_optimizer=True)"
      ],
      "metadata": {
        "id": "7yQKv1AN63jP"
      },
      "execution_count": 25,
      "outputs": []
    },
    {
      "cell_type": "markdown",
      "source": [
        "## Nested Predict"
      ],
      "metadata": {
        "id": "r-qUzl4bL2zk"
      }
    },
    {
      "cell_type": "code",
      "source": [
        "nested_inputs = predict_df.loc[:,['End Year Code', #'District Code',\n",
        "                              'Level Code',\n",
        "                              'Reported Spending per student', 'Money Difference per school',\n",
        "                              'Proficiency Rate', 'Classification Code', ]]\n",
        "\n",
        "# Apply the scaler\n",
        "nested_inputs = nested_model_scaler.transform(nested_inputs.values)\n",
        "\n",
        "# Predict Ky Rating\n",
        "predict_rate_multi = nested_model.predict(nested_inputs)\n",
        "\n",
        "# Convert to one column\n",
        "predict_rating = predict_rate_multi.argmax(axis=1)\n",
        "\n",
        "# Save predictions to predict_df\n",
        "predict_df['Rating Code'] = predict_rating"
      ],
      "metadata": {
        "id": "jd6WyixiL-P2",
        "colab": {
          "base_uri": "https://localhost:8080/"
        },
        "outputId": "c43d1bbe-6b3c-49c7-8421-a4b1b8f05d92"
      },
      "execution_count": 26,
      "outputs": [
        {
          "output_type": "stream",
          "name": "stdout",
          "text": [
            "359/359 [==============================] - 1s 2ms/step\n"
          ]
        }
      ]
    },
    {
      "cell_type": "markdown",
      "source": [
        "# Prep & export df"
      ],
      "metadata": {
        "id": "mShc_oPaQdUX"
      }
    },
    {
      "cell_type": "code",
      "source": [
        "#Fill in the missing values, and convert to words\n",
        "\n",
        "predict_df.loc[predict_df['Rating'].isna(), 'Rating'] = predict_df['Rating Code']\n",
        "predict_df.loc[predict_df['Classification'].isna(), 'Classification'] = predict_df['Classification Code']\n",
        "\n",
        "predict_df['Classification'].replace([0, 1, 2], ['Needs Improvement', 'Proficient', 'Distinguished'], inplace=True)\n",
        "predict_df['Rating'].replace([0,1,2,3,4], ['Very Low', 'Low', 'Medium', 'High', 'Very High'], inplace=True)"
      ],
      "metadata": {
        "id": "7yHPgZUrjgMs"
      },
      "execution_count": 27,
      "outputs": []
    },
    {
      "cell_type": "code",
      "source": [
        "# Convert to categories for data visualization\n",
        "cat_columns = ['End Year', 'End Year Code',\n",
        "               'District Code', 'District',\n",
        "               'Level', 'Level Code',\n",
        "               'Classification', 'Classification Code',\n",
        "               'Rating', 'Rating Code']\n",
        "\n",
        "predict_df[cat_columns] = predict_df[cat_columns].astype('category')"
      ],
      "metadata": {
        "id": "WO70oiadj_qf"
      },
      "execution_count": 28,
      "outputs": []
    },
    {
      "cell_type": "code",
      "source": [
        "predict_df.to_csv('/content/drive/MyDrive/Colab Data/KY EPSB/All Years/predict_df.csv', index = False)"
      ],
      "metadata": {
        "id": "keY41StVemDh"
      },
      "execution_count": 29,
      "outputs": []
    },
    {
      "cell_type": "markdown",
      "source": [
        "# Most Impacted schools"
      ],
      "metadata": {
        "id": "UbO8I6LSsqr0"
      }
    },
    {
      "cell_type": "code",
      "source": [
        "def major_impacts(df, percentile):\n",
        "    # Making sure the upper and lower is higher and lower, respectively\n",
        "    upper, lower = (percentile, round(1 - percentile, 2)) if percentile >= (1 - percentile) else (round(1 - percentile, 2), percentile)\n",
        "    cols = ['Money Difference per school', 'Proficiency Rate']\n",
        "\n",
        "    # For each column per year, get the literal values of the upper / lower by using the percents\n",
        "    quantiles = df.groupby('End Year')[cols].apply(lambda x: x.quantile([upper, lower]))\n",
        "\n",
        "    impacted_schools = pd.DataFrame()\n",
        "\n",
        "    # Selects the rows with the corresponding year, and the literal high/ low values\n",
        "    for year in df['End Year'].unique():\n",
        "        year_df = df[df['End Year'] == year]\n",
        "        high = quantiles.loc[(year, upper)]\n",
        "        low = quantiles.loc[(year, lower)]\n",
        "\n",
        "        # Uses the high / low values to select the rows that are on the outside of those values\n",
        "        # Does this for each column x.name is the column name.  The output is a T/F column\n",
        "        not_between_mask = ~year_df[cols].apply(lambda x: x.between(low[x.name], high[x.name], inclusive='neither'))\n",
        "\n",
        "        # Takes the T/F column and selects the row for any row that has T.\n",
        "        selected_rows = not_between_mask.any(axis=1)\n",
        "        impacted_schools = pd.concat([impacted_schools, year_df[selected_rows]])\n",
        "\n",
        "    return impacted_schools.reset_index(drop=True)\n"
      ],
      "metadata": {
        "id": "YlFlerDQuEoV"
      },
      "execution_count": 30,
      "outputs": []
    },
    {
      "cell_type": "code",
      "source": [
        "major_impacts(predict_df, 0.05)"
      ],
      "metadata": {
        "colab": {
          "base_uri": "https://localhost:8080/",
          "height": 930
        },
        "id": "HCnfN8ZzcjOj",
        "outputId": "1959a8d4-8f09-4f51-de7e-7e951158fc1e"
      },
      "execution_count": 31,
      "outputs": [
        {
          "output_type": "execute_result",
          "data": {
            "text/plain": [
              "     End Year End Year Code               District District Code  \\\n",
              "0        2012             0           Allen County             5   \n",
              "1        2012             0           Allen County             5   \n",
              "2        2012             0  Anchorage Independent             6   \n",
              "3        2012             0    Ashland Independent            12   \n",
              "4        2012             0          Barren County            21   \n",
              "...       ...           ...                    ...           ...   \n",
              "2267     2022            10          Warren County           571   \n",
              "2268     2022            10          Warren County           571   \n",
              "2269     2022            10         Whitley County           591   \n",
              "2270     2022            10           Wolfe County           595   \n",
              "2271     2022            10        Woodford County           601   \n",
              "\n",
              "                                     School  School Code Level Level Code  \\\n",
              "0               Allen County Primary Center         5010    ES          0   \n",
              "1      Allen County-Scottsville High School         5020    HS          2   \n",
              "2       Anchorage Independent Public School         6010    MS          1   \n",
              "3                   Hager Elementary School        12080    ES          0   \n",
              "4                  North Jackson Elementary        21014    ES          0   \n",
              "...                                     ...          ...   ...        ...   \n",
              "2267             Warren Central High School       571210    HS          2   \n",
              "2268                  Greenwood High School       571230    HS          2   \n",
              "2269  Whitley County East Elementary School       591062    ES          0   \n",
              "2270     Red River Valley Elementary School       595205    ES          0   \n",
              "2271          Woodford County Middle School       601085    MS          1   \n",
              "\n",
              "      Reported Spending per student  Money Difference per school  \\\n",
              "0                          7,930.00                   190,500.00   \n",
              "1                          8,500.00                   157,000.00   \n",
              "2                         19,850.00                    50,100.00   \n",
              "3                          6,450.00                    31,900.00   \n",
              "4                          7,390.00                    31,400.00   \n",
              "...                             ...                          ...   \n",
              "2267                      15,500.00                  -201,800.00   \n",
              "2268                      14,070.00                   222,800.00   \n",
              "2269                      17,400.00                  -116,100.00   \n",
              "2270                      19,690.00                    -4,400.00   \n",
              "2271                      12,260.00                  -172,200.00   \n",
              "\n",
              "      Proficiency Rate     Classification Classification Code     Rating  \\\n",
              "0                50.00  Needs Improvement                   0   Very Low   \n",
              "1                51.00  Needs Improvement                   0        Low   \n",
              "2                92.00      Distinguished                   2     Medium   \n",
              "3                76.00      Distinguished                   2     Medium   \n",
              "4                72.00      Distinguished                   2        Low   \n",
              "...                ...                ...                 ...        ...   \n",
              "2267             49.00  Needs Improvement                   0        Low   \n",
              "2268             74.00         Proficient                   1       High   \n",
              "2269             85.00      Distinguished                   2  Very High   \n",
              "2270             33.00  Needs Improvement                   0   Very Low   \n",
              "2271             63.00  Needs Improvement                   0       High   \n",
              "\n",
              "     Rating Code  \n",
              "0              0  \n",
              "1              1  \n",
              "2              2  \n",
              "3              2  \n",
              "4              1  \n",
              "...          ...  \n",
              "2267           1  \n",
              "2268           3  \n",
              "2269           4  \n",
              "2270           0  \n",
              "2271           2  \n",
              "\n",
              "[2272 rows x 15 columns]"
            ],
            "text/html": [
              "\n",
              "  <div id=\"df-6bcd7024-2df8-4a5d-8fb3-6c6cf61dd762\" class=\"colab-df-container\">\n",
              "    <div>\n",
              "<style scoped>\n",
              "    .dataframe tbody tr th:only-of-type {\n",
              "        vertical-align: middle;\n",
              "    }\n",
              "\n",
              "    .dataframe tbody tr th {\n",
              "        vertical-align: top;\n",
              "    }\n",
              "\n",
              "    .dataframe thead th {\n",
              "        text-align: right;\n",
              "    }\n",
              "</style>\n",
              "<table border=\"1\" class=\"dataframe\">\n",
              "  <thead>\n",
              "    <tr style=\"text-align: right;\">\n",
              "      <th></th>\n",
              "      <th>End Year</th>\n",
              "      <th>End Year Code</th>\n",
              "      <th>District</th>\n",
              "      <th>District Code</th>\n",
              "      <th>School</th>\n",
              "      <th>School Code</th>\n",
              "      <th>Level</th>\n",
              "      <th>Level Code</th>\n",
              "      <th>Reported Spending per student</th>\n",
              "      <th>Money Difference per school</th>\n",
              "      <th>Proficiency Rate</th>\n",
              "      <th>Classification</th>\n",
              "      <th>Classification Code</th>\n",
              "      <th>Rating</th>\n",
              "      <th>Rating Code</th>\n",
              "    </tr>\n",
              "  </thead>\n",
              "  <tbody>\n",
              "    <tr>\n",
              "      <th>0</th>\n",
              "      <td>2012</td>\n",
              "      <td>0</td>\n",
              "      <td>Allen County</td>\n",
              "      <td>5</td>\n",
              "      <td>Allen County Primary Center</td>\n",
              "      <td>5010</td>\n",
              "      <td>ES</td>\n",
              "      <td>0</td>\n",
              "      <td>7,930.00</td>\n",
              "      <td>190,500.00</td>\n",
              "      <td>50.00</td>\n",
              "      <td>Needs Improvement</td>\n",
              "      <td>0</td>\n",
              "      <td>Very Low</td>\n",
              "      <td>0</td>\n",
              "    </tr>\n",
              "    <tr>\n",
              "      <th>1</th>\n",
              "      <td>2012</td>\n",
              "      <td>0</td>\n",
              "      <td>Allen County</td>\n",
              "      <td>5</td>\n",
              "      <td>Allen County-Scottsville High School</td>\n",
              "      <td>5020</td>\n",
              "      <td>HS</td>\n",
              "      <td>2</td>\n",
              "      <td>8,500.00</td>\n",
              "      <td>157,000.00</td>\n",
              "      <td>51.00</td>\n",
              "      <td>Needs Improvement</td>\n",
              "      <td>0</td>\n",
              "      <td>Low</td>\n",
              "      <td>1</td>\n",
              "    </tr>\n",
              "    <tr>\n",
              "      <th>2</th>\n",
              "      <td>2012</td>\n",
              "      <td>0</td>\n",
              "      <td>Anchorage Independent</td>\n",
              "      <td>6</td>\n",
              "      <td>Anchorage Independent Public School</td>\n",
              "      <td>6010</td>\n",
              "      <td>MS</td>\n",
              "      <td>1</td>\n",
              "      <td>19,850.00</td>\n",
              "      <td>50,100.00</td>\n",
              "      <td>92.00</td>\n",
              "      <td>Distinguished</td>\n",
              "      <td>2</td>\n",
              "      <td>Medium</td>\n",
              "      <td>2</td>\n",
              "    </tr>\n",
              "    <tr>\n",
              "      <th>3</th>\n",
              "      <td>2012</td>\n",
              "      <td>0</td>\n",
              "      <td>Ashland Independent</td>\n",
              "      <td>12</td>\n",
              "      <td>Hager Elementary School</td>\n",
              "      <td>12080</td>\n",
              "      <td>ES</td>\n",
              "      <td>0</td>\n",
              "      <td>6,450.00</td>\n",
              "      <td>31,900.00</td>\n",
              "      <td>76.00</td>\n",
              "      <td>Distinguished</td>\n",
              "      <td>2</td>\n",
              "      <td>Medium</td>\n",
              "      <td>2</td>\n",
              "    </tr>\n",
              "    <tr>\n",
              "      <th>4</th>\n",
              "      <td>2012</td>\n",
              "      <td>0</td>\n",
              "      <td>Barren County</td>\n",
              "      <td>21</td>\n",
              "      <td>North Jackson Elementary</td>\n",
              "      <td>21014</td>\n",
              "      <td>ES</td>\n",
              "      <td>0</td>\n",
              "      <td>7,390.00</td>\n",
              "      <td>31,400.00</td>\n",
              "      <td>72.00</td>\n",
              "      <td>Distinguished</td>\n",
              "      <td>2</td>\n",
              "      <td>Low</td>\n",
              "      <td>1</td>\n",
              "    </tr>\n",
              "    <tr>\n",
              "      <th>...</th>\n",
              "      <td>...</td>\n",
              "      <td>...</td>\n",
              "      <td>...</td>\n",
              "      <td>...</td>\n",
              "      <td>...</td>\n",
              "      <td>...</td>\n",
              "      <td>...</td>\n",
              "      <td>...</td>\n",
              "      <td>...</td>\n",
              "      <td>...</td>\n",
              "      <td>...</td>\n",
              "      <td>...</td>\n",
              "      <td>...</td>\n",
              "      <td>...</td>\n",
              "      <td>...</td>\n",
              "    </tr>\n",
              "    <tr>\n",
              "      <th>2267</th>\n",
              "      <td>2022</td>\n",
              "      <td>10</td>\n",
              "      <td>Warren County</td>\n",
              "      <td>571</td>\n",
              "      <td>Warren Central High School</td>\n",
              "      <td>571210</td>\n",
              "      <td>HS</td>\n",
              "      <td>2</td>\n",
              "      <td>15,500.00</td>\n",
              "      <td>-201,800.00</td>\n",
              "      <td>49.00</td>\n",
              "      <td>Needs Improvement</td>\n",
              "      <td>0</td>\n",
              "      <td>Low</td>\n",
              "      <td>1</td>\n",
              "    </tr>\n",
              "    <tr>\n",
              "      <th>2268</th>\n",
              "      <td>2022</td>\n",
              "      <td>10</td>\n",
              "      <td>Warren County</td>\n",
              "      <td>571</td>\n",
              "      <td>Greenwood High School</td>\n",
              "      <td>571230</td>\n",
              "      <td>HS</td>\n",
              "      <td>2</td>\n",
              "      <td>14,070.00</td>\n",
              "      <td>222,800.00</td>\n",
              "      <td>74.00</td>\n",
              "      <td>Proficient</td>\n",
              "      <td>1</td>\n",
              "      <td>High</td>\n",
              "      <td>3</td>\n",
              "    </tr>\n",
              "    <tr>\n",
              "      <th>2269</th>\n",
              "      <td>2022</td>\n",
              "      <td>10</td>\n",
              "      <td>Whitley County</td>\n",
              "      <td>591</td>\n",
              "      <td>Whitley County East Elementary School</td>\n",
              "      <td>591062</td>\n",
              "      <td>ES</td>\n",
              "      <td>0</td>\n",
              "      <td>17,400.00</td>\n",
              "      <td>-116,100.00</td>\n",
              "      <td>85.00</td>\n",
              "      <td>Distinguished</td>\n",
              "      <td>2</td>\n",
              "      <td>Very High</td>\n",
              "      <td>4</td>\n",
              "    </tr>\n",
              "    <tr>\n",
              "      <th>2270</th>\n",
              "      <td>2022</td>\n",
              "      <td>10</td>\n",
              "      <td>Wolfe County</td>\n",
              "      <td>595</td>\n",
              "      <td>Red River Valley Elementary School</td>\n",
              "      <td>595205</td>\n",
              "      <td>ES</td>\n",
              "      <td>0</td>\n",
              "      <td>19,690.00</td>\n",
              "      <td>-4,400.00</td>\n",
              "      <td>33.00</td>\n",
              "      <td>Needs Improvement</td>\n",
              "      <td>0</td>\n",
              "      <td>Very Low</td>\n",
              "      <td>0</td>\n",
              "    </tr>\n",
              "    <tr>\n",
              "      <th>2271</th>\n",
              "      <td>2022</td>\n",
              "      <td>10</td>\n",
              "      <td>Woodford County</td>\n",
              "      <td>601</td>\n",
              "      <td>Woodford County Middle School</td>\n",
              "      <td>601085</td>\n",
              "      <td>MS</td>\n",
              "      <td>1</td>\n",
              "      <td>12,260.00</td>\n",
              "      <td>-172,200.00</td>\n",
              "      <td>63.00</td>\n",
              "      <td>Needs Improvement</td>\n",
              "      <td>0</td>\n",
              "      <td>High</td>\n",
              "      <td>2</td>\n",
              "    </tr>\n",
              "  </tbody>\n",
              "</table>\n",
              "<p>2272 rows × 15 columns</p>\n",
              "</div>\n",
              "    <div class=\"colab-df-buttons\">\n",
              "\n",
              "  <div class=\"colab-df-container\">\n",
              "    <button class=\"colab-df-convert\" onclick=\"convertToInteractive('df-6bcd7024-2df8-4a5d-8fb3-6c6cf61dd762')\"\n",
              "            title=\"Convert this dataframe to an interactive table.\"\n",
              "            style=\"display:none;\">\n",
              "\n",
              "  <svg xmlns=\"http://www.w3.org/2000/svg\" height=\"24px\" viewBox=\"0 -960 960 960\">\n",
              "    <path d=\"M120-120v-720h720v720H120Zm60-500h600v-160H180v160Zm220 220h160v-160H400v160Zm0 220h160v-160H400v160ZM180-400h160v-160H180v160Zm440 0h160v-160H620v160ZM180-180h160v-160H180v160Zm440 0h160v-160H620v160Z\"/>\n",
              "  </svg>\n",
              "    </button>\n",
              "\n",
              "  <style>\n",
              "    .colab-df-container {\n",
              "      display:flex;\n",
              "      gap: 12px;\n",
              "    }\n",
              "\n",
              "    .colab-df-convert {\n",
              "      background-color: #E8F0FE;\n",
              "      border: none;\n",
              "      border-radius: 50%;\n",
              "      cursor: pointer;\n",
              "      display: none;\n",
              "      fill: #1967D2;\n",
              "      height: 32px;\n",
              "      padding: 0 0 0 0;\n",
              "      width: 32px;\n",
              "    }\n",
              "\n",
              "    .colab-df-convert:hover {\n",
              "      background-color: #E2EBFA;\n",
              "      box-shadow: 0px 1px 2px rgba(60, 64, 67, 0.3), 0px 1px 3px 1px rgba(60, 64, 67, 0.15);\n",
              "      fill: #174EA6;\n",
              "    }\n",
              "\n",
              "    .colab-df-buttons div {\n",
              "      margin-bottom: 4px;\n",
              "    }\n",
              "\n",
              "    [theme=dark] .colab-df-convert {\n",
              "      background-color: #3B4455;\n",
              "      fill: #D2E3FC;\n",
              "    }\n",
              "\n",
              "    [theme=dark] .colab-df-convert:hover {\n",
              "      background-color: #434B5C;\n",
              "      box-shadow: 0px 1px 3px 1px rgba(0, 0, 0, 0.15);\n",
              "      filter: drop-shadow(0px 1px 2px rgba(0, 0, 0, 0.3));\n",
              "      fill: #FFFFFF;\n",
              "    }\n",
              "  </style>\n",
              "\n",
              "    <script>\n",
              "      const buttonEl =\n",
              "        document.querySelector('#df-6bcd7024-2df8-4a5d-8fb3-6c6cf61dd762 button.colab-df-convert');\n",
              "      buttonEl.style.display =\n",
              "        google.colab.kernel.accessAllowed ? 'block' : 'none';\n",
              "\n",
              "      async function convertToInteractive(key) {\n",
              "        const element = document.querySelector('#df-6bcd7024-2df8-4a5d-8fb3-6c6cf61dd762');\n",
              "        const dataTable =\n",
              "          await google.colab.kernel.invokeFunction('convertToInteractive',\n",
              "                                                    [key], {});\n",
              "        if (!dataTable) return;\n",
              "\n",
              "        const docLinkHtml = 'Like what you see? Visit the ' +\n",
              "          '<a target=\"_blank\" href=https://colab.research.google.com/notebooks/data_table.ipynb>data table notebook</a>'\n",
              "          + ' to learn more about interactive tables.';\n",
              "        element.innerHTML = '';\n",
              "        dataTable['output_type'] = 'display_data';\n",
              "        await google.colab.output.renderOutput(dataTable, element);\n",
              "        const docLink = document.createElement('div');\n",
              "        docLink.innerHTML = docLinkHtml;\n",
              "        element.appendChild(docLink);\n",
              "      }\n",
              "    </script>\n",
              "  </div>\n",
              "\n",
              "\n",
              "<div id=\"df-57d6f36a-099c-44cf-b5a5-9a8ff4a635a3\">\n",
              "  <button class=\"colab-df-quickchart\" onclick=\"quickchart('df-57d6f36a-099c-44cf-b5a5-9a8ff4a635a3')\"\n",
              "            title=\"Suggest charts.\"\n",
              "            style=\"display:none;\">\n",
              "\n",
              "<svg xmlns=\"http://www.w3.org/2000/svg\" height=\"24px\"viewBox=\"0 0 24 24\"\n",
              "     width=\"24px\">\n",
              "    <g>\n",
              "        <path d=\"M19 3H5c-1.1 0-2 .9-2 2v14c0 1.1.9 2 2 2h14c1.1 0 2-.9 2-2V5c0-1.1-.9-2-2-2zM9 17H7v-7h2v7zm4 0h-2V7h2v10zm4 0h-2v-4h2v4z\"/>\n",
              "    </g>\n",
              "</svg>\n",
              "  </button>\n",
              "\n",
              "<style>\n",
              "  .colab-df-quickchart {\n",
              "      --bg-color: #E8F0FE;\n",
              "      --fill-color: #1967D2;\n",
              "      --hover-bg-color: #E2EBFA;\n",
              "      --hover-fill-color: #174EA6;\n",
              "      --disabled-fill-color: #AAA;\n",
              "      --disabled-bg-color: #DDD;\n",
              "  }\n",
              "\n",
              "  [theme=dark] .colab-df-quickchart {\n",
              "      --bg-color: #3B4455;\n",
              "      --fill-color: #D2E3FC;\n",
              "      --hover-bg-color: #434B5C;\n",
              "      --hover-fill-color: #FFFFFF;\n",
              "      --disabled-bg-color: #3B4455;\n",
              "      --disabled-fill-color: #666;\n",
              "  }\n",
              "\n",
              "  .colab-df-quickchart {\n",
              "    background-color: var(--bg-color);\n",
              "    border: none;\n",
              "    border-radius: 50%;\n",
              "    cursor: pointer;\n",
              "    display: none;\n",
              "    fill: var(--fill-color);\n",
              "    height: 32px;\n",
              "    padding: 0;\n",
              "    width: 32px;\n",
              "  }\n",
              "\n",
              "  .colab-df-quickchart:hover {\n",
              "    background-color: var(--hover-bg-color);\n",
              "    box-shadow: 0 1px 2px rgba(60, 64, 67, 0.3), 0 1px 3px 1px rgba(60, 64, 67, 0.15);\n",
              "    fill: var(--button-hover-fill-color);\n",
              "  }\n",
              "\n",
              "  .colab-df-quickchart-complete:disabled,\n",
              "  .colab-df-quickchart-complete:disabled:hover {\n",
              "    background-color: var(--disabled-bg-color);\n",
              "    fill: var(--disabled-fill-color);\n",
              "    box-shadow: none;\n",
              "  }\n",
              "\n",
              "  .colab-df-spinner {\n",
              "    border: 2px solid var(--fill-color);\n",
              "    border-color: transparent;\n",
              "    border-bottom-color: var(--fill-color);\n",
              "    animation:\n",
              "      spin 1s steps(1) infinite;\n",
              "  }\n",
              "\n",
              "  @keyframes spin {\n",
              "    0% {\n",
              "      border-color: transparent;\n",
              "      border-bottom-color: var(--fill-color);\n",
              "      border-left-color: var(--fill-color);\n",
              "    }\n",
              "    20% {\n",
              "      border-color: transparent;\n",
              "      border-left-color: var(--fill-color);\n",
              "      border-top-color: var(--fill-color);\n",
              "    }\n",
              "    30% {\n",
              "      border-color: transparent;\n",
              "      border-left-color: var(--fill-color);\n",
              "      border-top-color: var(--fill-color);\n",
              "      border-right-color: var(--fill-color);\n",
              "    }\n",
              "    40% {\n",
              "      border-color: transparent;\n",
              "      border-right-color: var(--fill-color);\n",
              "      border-top-color: var(--fill-color);\n",
              "    }\n",
              "    60% {\n",
              "      border-color: transparent;\n",
              "      border-right-color: var(--fill-color);\n",
              "    }\n",
              "    80% {\n",
              "      border-color: transparent;\n",
              "      border-right-color: var(--fill-color);\n",
              "      border-bottom-color: var(--fill-color);\n",
              "    }\n",
              "    90% {\n",
              "      border-color: transparent;\n",
              "      border-bottom-color: var(--fill-color);\n",
              "    }\n",
              "  }\n",
              "</style>\n",
              "\n",
              "  <script>\n",
              "    async function quickchart(key) {\n",
              "      const quickchartButtonEl =\n",
              "        document.querySelector('#' + key + ' button');\n",
              "      quickchartButtonEl.disabled = true;  // To prevent multiple clicks.\n",
              "      quickchartButtonEl.classList.add('colab-df-spinner');\n",
              "      try {\n",
              "        const charts = await google.colab.kernel.invokeFunction(\n",
              "            'suggestCharts', [key], {});\n",
              "      } catch (error) {\n",
              "        console.error('Error during call to suggestCharts:', error);\n",
              "      }\n",
              "      quickchartButtonEl.classList.remove('colab-df-spinner');\n",
              "      quickchartButtonEl.classList.add('colab-df-quickchart-complete');\n",
              "    }\n",
              "    (() => {\n",
              "      let quickchartButtonEl =\n",
              "        document.querySelector('#df-57d6f36a-099c-44cf-b5a5-9a8ff4a635a3 button');\n",
              "      quickchartButtonEl.style.display =\n",
              "        google.colab.kernel.accessAllowed ? 'block' : 'none';\n",
              "    })();\n",
              "  </script>\n",
              "</div>\n",
              "    </div>\n",
              "  </div>\n"
            ]
          },
          "metadata": {},
          "execution_count": 31
        }
      ]
    }
  ]
}