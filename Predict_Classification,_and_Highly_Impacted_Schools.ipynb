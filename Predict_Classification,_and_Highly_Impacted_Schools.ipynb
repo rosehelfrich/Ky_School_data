{
  "nbformat": 4,
  "nbformat_minor": 0,
  "metadata": {
    "colab": {
      "provenance": [],
      "toc_visible": true,
      "authorship_tag": "ABX9TyNwhtoTNIJXuTsEl2mbqcW/",
      "include_colab_link": true
    },
    "kernelspec": {
      "name": "python3",
      "display_name": "Python 3"
    },
    "language_info": {
      "name": "python"
    }
  },
  "cells": [
    {
      "cell_type": "markdown",
      "metadata": {
        "id": "view-in-github",
        "colab_type": "text"
      },
      "source": [
        "<a href=\"https://colab.research.google.com/github/rosehelfrich/Ky_School_data/blob/main/Predict_Classification%2C_and_Highly_Impacted_Schools.ipynb\" target=\"_parent\"><img src=\"https://colab.research.google.com/assets/colab-badge.svg\" alt=\"Open In Colab\"/></a>"
      ]
    },
    {
      "cell_type": "code",
      "execution_count": 1,
      "metadata": {
        "id": "mPbt9W2-tujY"
      },
      "outputs": [],
      "source": [
        "import pandas as pd\n",
        "import numpy as np\n",
        "import tensorflow as tf\n",
        "\n",
        "from tensorflow.keras.callbacks import EarlyStopping\n",
        "from sklearn.preprocessing import StandardScaler\n",
        "from sklearn.model_selection import train_test_split\n"
      ]
    },
    {
      "cell_type": "code",
      "source": [
        "from google.colab import drive\n",
        "drive.mount('/content/drive')"
      ],
      "metadata": {
        "colab": {
          "base_uri": "https://localhost:8080/"
        },
        "id": "kl7kadJNt5Pr",
        "outputId": "6e584120-9db5-480a-fce0-3a9ea83f0b46"
      },
      "execution_count": 2,
      "outputs": [
        {
          "output_type": "stream",
          "name": "stdout",
          "text": [
            "Drive already mounted at /content/drive; to attempt to forcibly remount, call drive.mount(\"/content/drive\", force_remount=True).\n"
          ]
        }
      ]
    },
    {
      "cell_type": "code",
      "source": [
        "# Column / Row options\n",
        "pd.options.display.max_columns = None\n",
        "pd.options.display.max_rows = 20\n",
        "\n",
        "# Two decimal places and the thousands separator\n",
        "pd.options.display.float_format = '{:,.2f}'.format"
      ],
      "metadata": {
        "id": "0PIbEaZVE2sd"
      },
      "execution_count": 3,
      "outputs": []
    },
    {
      "cell_type": "markdown",
      "source": [
        "# KY df - load and polish"
      ],
      "metadata": {
        "id": "VZvOAbpDsZ3n"
      }
    },
    {
      "cell_type": "code",
      "source": [
        "# Load the data frames\n",
        "df_scores = pd.read_csv('/content/drive/MyDrive/Colab Data/KY EPSB/All Years/df_scores.csv')\n",
        "ky_spending_df = pd.read_csv('/content/drive/MyDrive/Colab Data/KY EPSB/All Years/preprocessed_df.csv')\n",
        "\n",
        "# Select only the necessary columns from ky_spending_df\n",
        "ky_spending_df = ky_spending_df.loc[:,['End Year', 'School Code', 'Level',\n",
        "                                       'Reported Spending per student', 'Money Difference per school',\n",
        "                                       ]]\n"
      ],
      "metadata": {
        "id": "xGY0zAERrluS"
      },
      "execution_count": 4,
      "outputs": []
    },
    {
      "cell_type": "code",
      "source": [
        "# Merge into one df\n",
        "df = pd.merge(df_scores, ky_spending_df, on=['End Year', 'School Code', 'Level'], how='left')\n",
        "\n",
        "# Sort df & Reset index\n",
        "df.sort_values(by=['End Year', 'District', 'School Code'], inplace=True)\n",
        "df.reset_index(drop=True, inplace=True)\n",
        "\n",
        "# Create columns with the codes\n",
        "df['Classification Code'] = df['Classification']\n",
        "df['Classification Code'].replace(['Needs Improvement', 'Proficient', 'Distinguished'], [0, 1, 2], inplace=True)\n",
        "\n",
        "df['Level Code'] = df['Level']\n",
        "df['Level Code'].replace(['ES', 'MS', 'HS'], [0, 1, 2], inplace=True)\n",
        "\n",
        "df['End Year Code'] = df['End Year'] - 2012\n",
        "\n",
        "df['Rating'] = df['Rating Code']\n",
        "df['Rating'].replace([0,1,2,3,4], ['Very Low', 'Low', 'Medium', 'High', 'Very High'], inplace=True)\n",
        "\n"
      ],
      "metadata": {
        "id": "Nj4bodyzJ43A"
      },
      "execution_count": 5,
      "outputs": []
    },
    {
      "cell_type": "code",
      "source": [
        "# Reorder the columns of df_scores\n",
        "reordered_columns = ['End Year', 'End Year Code',\n",
        "                     'District', 'District Code',\n",
        "                     'School', 'School Code',\n",
        "                     'Level', 'Level Code',\n",
        "                     'Reported Spending per student', 'Money Difference per school',\n",
        "                     'Proficiency Rate',\n",
        "                     'Classification','Classification Code',\n",
        "                     'Rating', 'Rating Code',]\n",
        "\n",
        "df = df[reordered_columns]"
      ],
      "metadata": {
        "id": "le8xycOUDE8O"
      },
      "execution_count": 6,
      "outputs": []
    },
    {
      "cell_type": "code",
      "source": [
        "# Round\n",
        "df = df.round({'Proficiency Rate': 0, 'Reported Spending per student': -1, 'Money Difference per school': -2})"
      ],
      "metadata": {
        "id": "zEUuozLJg7hL"
      },
      "execution_count": 7,
      "outputs": []
    },
    {
      "cell_type": "code",
      "source": [
        "# This df will hold the predicted values\n",
        "\n",
        "predict_df = df.copy()"
      ],
      "metadata": {
        "id": "ENpjqqJnyK1j"
      },
      "execution_count": 8,
      "outputs": []
    },
    {
      "cell_type": "markdown",
      "source": [
        "# Predict Classification: a NN Model"
      ],
      "metadata": {
        "id": "ohBn_Y_yATis"
      }
    },
    {
      "cell_type": "markdown",
      "source": [
        "## Shuffle, Balance, Split, Scale"
      ],
      "metadata": {
        "id": "GxWh9f-BqbvG"
      }
    },
    {
      "cell_type": "code",
      "source": [
        "unscaled_df = predict_df.loc[:,['End Year Code', 'District Code', 'Level Code',\n",
        "                                'Reported Spending per student', 'Money Difference per school',\n",
        "                                'Proficiency Rate', 'Classification Code', ]]\n",
        "\n",
        "unscaled_df.dropna(axis =0, inplace=True)\n",
        "unscaled_df.reset_index(drop=True, inplace=True)\n",
        "\n",
        "#Shuffle df\n",
        "unscaled_df = unscaled_df.sample(frac=1, random_state=15)"
      ],
      "metadata": {
        "id": "OxHPfwd3Tob7"
      },
      "execution_count": 9,
      "outputs": []
    },
    {
      "cell_type": "code",
      "source": [
        "#Separate into input and targets\n",
        "unscaled_inputs = unscaled_df.values[:,:-1]\n",
        "targets = unscaled_df.values[:,-1]\n",
        "\n",
        "# Split into training, validation, and test sets\n",
        "unscaled_X_train, unscaled_X_set, y_train, y_set = train_test_split(unscaled_inputs, targets,\n",
        "                                                                    test_size=0.2, random_state=15,\n",
        "                                                                    stratify = targets)\n",
        "\n",
        "unscaled_X_valid, unscaled_X_test, y_valid, y_test = train_test_split(unscaled_X_set, y_set,\n",
        "                                                                      test_size=0.5, random_state=13,\n",
        "                                                                      stratify = y_set)"
      ],
      "metadata": {
        "id": "gi7cn2ppM4dv"
      },
      "execution_count": 10,
      "outputs": []
    },
    {
      "cell_type": "code",
      "source": [
        "# Scale data\n",
        "epsb_scaler = StandardScaler()\n",
        "\n",
        "# Calculate and store the mean and sd\n",
        "epsb_scaler.fit(unscaled_X_train)\n",
        "\n",
        "# Apply the scaler\n",
        "scaled_X_train = epsb_scaler.transform(unscaled_X_train)\n",
        "scaled_X_valid = epsb_scaler.transform(unscaled_X_valid)\n",
        "scaled_X_test = epsb_scaler.transform(unscaled_X_test)"
      ],
      "metadata": {
        "id": "WAQ-xMkwMz22"
      },
      "execution_count": 11,
      "outputs": []
    },
    {
      "cell_type": "markdown",
      "source": [
        "## Model"
      ],
      "metadata": {
        "id": "22iLAmwjZhWX"
      }
    },
    {
      "cell_type": "code",
      "source": [
        "# Create the model\n",
        "# Ran different rounds of the below model.  Some of the options I put in comments to the right.\n",
        "\n",
        "input_size = 6\n",
        "output_size = 3\n",
        "hidden_layer_size = 15 # for this problem, optimal results were between 10-20 layers\n",
        "\n",
        "model = tf.keras.Sequential([\n",
        "    tf.keras.layers.Dense(hidden_layer_size, activation='tanh'),  # attempted to make this linear, and it only came to 77% valid accuracy or less\n",
        "    tf.keras.layers.Dense(hidden_layer_size, activation='tanh'),\n",
        "    tf.keras.layers.Dense(output_size, activation='softmax')\n",
        "    ])\n",
        "\n",
        "model.compile(optimizer='adam', loss='sparse_categorical_crossentropy', metrics=['accuracy'])\n"
      ],
      "metadata": {
        "id": "tkeoXJwLGtRf"
      },
      "execution_count": 12,
      "outputs": []
    },
    {
      "cell_type": "code",
      "source": [
        "# Fit the model\n",
        "\n",
        "batch_size = 50  # started with batch size 25\n",
        "max_epochs = 100 # started with 20 epochs\n",
        "\n",
        "early_stopping = EarlyStopping(monitor='val_loss', patience=5, restore_best_weights=True)\n",
        "\n",
        "#early_stopping = tf.keras.callbacks.EarlyStopping(patience=5)\n",
        "\n",
        "model.fit(scaled_X_train,\n",
        "          y_train,\n",
        "          batch_size=batch_size,\n",
        "          epochs = max_epochs,\n",
        "          callbacks = [early_stopping],\n",
        "          validation_data = (scaled_X_valid, y_valid),\n",
        "          verbose =2)\n",
        "\n",
        "# Ran rounds using a multi-index of School Code & End Year.  But didn't get above a 78% validation accuracy"
      ],
      "metadata": {
        "colab": {
          "base_uri": "https://localhost:8080/"
        },
        "id": "BG2ubwNvGtW2",
        "outputId": "cfdfb2f5-6013-42a3-d971-f17e6a3075eb"
      },
      "execution_count": 13,
      "outputs": [
        {
          "output_type": "stream",
          "name": "stdout",
          "text": [
            "Epoch 1/100\n",
            "100/100 - 3s - loss: 0.7957 - accuracy: 0.6630 - val_loss: 0.6092 - val_accuracy: 0.7452 - 3s/epoch - 28ms/step\n",
            "Epoch 2/100\n",
            "100/100 - 1s - loss: 0.5366 - accuracy: 0.7602 - val_loss: 0.4753 - val_accuracy: 0.8016 - 728ms/epoch - 7ms/step\n",
            "Epoch 3/100\n",
            "100/100 - 1s - loss: 0.4432 - accuracy: 0.8048 - val_loss: 0.4187 - val_accuracy: 0.8323 - 539ms/epoch - 5ms/step\n",
            "Epoch 4/100\n",
            "100/100 - 1s - loss: 0.4013 - accuracy: 0.8209 - val_loss: 0.3903 - val_accuracy: 0.8516 - 576ms/epoch - 6ms/step\n",
            "Epoch 5/100\n",
            "100/100 - 1s - loss: 0.3784 - accuracy: 0.8367 - val_loss: 0.3741 - val_accuracy: 0.8468 - 581ms/epoch - 6ms/step\n",
            "Epoch 6/100\n",
            "100/100 - 0s - loss: 0.3641 - accuracy: 0.8361 - val_loss: 0.3628 - val_accuracy: 0.8500 - 494ms/epoch - 5ms/step\n",
            "Epoch 7/100\n",
            "100/100 - 1s - loss: 0.3527 - accuracy: 0.8425 - val_loss: 0.3548 - val_accuracy: 0.8548 - 545ms/epoch - 5ms/step\n",
            "Epoch 8/100\n",
            "100/100 - 1s - loss: 0.3441 - accuracy: 0.8480 - val_loss: 0.3448 - val_accuracy: 0.8581 - 837ms/epoch - 8ms/step\n",
            "Epoch 9/100\n",
            "100/100 - 1s - loss: 0.3342 - accuracy: 0.8506 - val_loss: 0.3383 - val_accuracy: 0.8597 - 817ms/epoch - 8ms/step\n",
            "Epoch 10/100\n",
            "100/100 - 1s - loss: 0.3246 - accuracy: 0.8534 - val_loss: 0.3275 - val_accuracy: 0.8613 - 989ms/epoch - 10ms/step\n",
            "Epoch 11/100\n",
            "100/100 - 1s - loss: 0.3145 - accuracy: 0.8584 - val_loss: 0.3175 - val_accuracy: 0.8661 - 812ms/epoch - 8ms/step\n",
            "Epoch 12/100\n",
            "100/100 - 1s - loss: 0.3026 - accuracy: 0.8627 - val_loss: 0.3073 - val_accuracy: 0.8742 - 780ms/epoch - 8ms/step\n",
            "Epoch 13/100\n",
            "100/100 - 1s - loss: 0.2899 - accuracy: 0.8711 - val_loss: 0.2931 - val_accuracy: 0.8710 - 657ms/epoch - 7ms/step\n",
            "Epoch 14/100\n",
            "100/100 - 0s - loss: 0.2772 - accuracy: 0.8758 - val_loss: 0.2843 - val_accuracy: 0.8790 - 325ms/epoch - 3ms/step\n",
            "Epoch 15/100\n",
            "100/100 - 0s - loss: 0.2630 - accuracy: 0.8853 - val_loss: 0.2703 - val_accuracy: 0.8903 - 380ms/epoch - 4ms/step\n",
            "Epoch 16/100\n",
            "100/100 - 0s - loss: 0.2483 - accuracy: 0.8955 - val_loss: 0.2542 - val_accuracy: 0.8952 - 344ms/epoch - 3ms/step\n",
            "Epoch 17/100\n",
            "100/100 - 1s - loss: 0.2340 - accuracy: 0.9018 - val_loss: 0.2406 - val_accuracy: 0.9048 - 540ms/epoch - 5ms/step\n",
            "Epoch 18/100\n",
            "100/100 - 0s - loss: 0.2204 - accuracy: 0.9093 - val_loss: 0.2283 - val_accuracy: 0.9113 - 370ms/epoch - 4ms/step\n",
            "Epoch 19/100\n",
            "100/100 - 0s - loss: 0.2057 - accuracy: 0.9163 - val_loss: 0.2164 - val_accuracy: 0.9097 - 383ms/epoch - 4ms/step\n",
            "Epoch 20/100\n",
            "100/100 - 0s - loss: 0.1942 - accuracy: 0.9197 - val_loss: 0.2083 - val_accuracy: 0.9097 - 337ms/epoch - 3ms/step\n",
            "Epoch 21/100\n",
            "100/100 - 0s - loss: 0.1831 - accuracy: 0.9244 - val_loss: 0.1962 - val_accuracy: 0.9161 - 351ms/epoch - 4ms/step\n",
            "Epoch 22/100\n",
            "100/100 - 0s - loss: 0.1726 - accuracy: 0.9312 - val_loss: 0.1831 - val_accuracy: 0.9242 - 475ms/epoch - 5ms/step\n",
            "Epoch 23/100\n",
            "100/100 - 0s - loss: 0.1650 - accuracy: 0.9333 - val_loss: 0.1790 - val_accuracy: 0.9194 - 402ms/epoch - 4ms/step\n",
            "Epoch 24/100\n",
            "100/100 - 0s - loss: 0.1563 - accuracy: 0.9389 - val_loss: 0.1704 - val_accuracy: 0.9226 - 392ms/epoch - 4ms/step\n",
            "Epoch 25/100\n",
            "100/100 - 0s - loss: 0.1492 - accuracy: 0.9409 - val_loss: 0.1638 - val_accuracy: 0.9339 - 346ms/epoch - 3ms/step\n",
            "Epoch 26/100\n",
            "100/100 - 0s - loss: 0.1442 - accuracy: 0.9433 - val_loss: 0.1593 - val_accuracy: 0.9387 - 350ms/epoch - 3ms/step\n",
            "Epoch 27/100\n",
            "100/100 - 0s - loss: 0.1390 - accuracy: 0.9474 - val_loss: 0.1561 - val_accuracy: 0.9258 - 395ms/epoch - 4ms/step\n",
            "Epoch 28/100\n",
            "100/100 - 0s - loss: 0.1351 - accuracy: 0.9486 - val_loss: 0.1492 - val_accuracy: 0.9419 - 356ms/epoch - 4ms/step\n",
            "Epoch 29/100\n",
            "100/100 - 0s - loss: 0.1287 - accuracy: 0.9488 - val_loss: 0.1458 - val_accuracy: 0.9339 - 393ms/epoch - 4ms/step\n",
            "Epoch 30/100\n",
            "100/100 - 0s - loss: 0.1261 - accuracy: 0.9510 - val_loss: 0.1442 - val_accuracy: 0.9371 - 238ms/epoch - 2ms/step\n",
            "Epoch 31/100\n",
            "100/100 - 0s - loss: 0.1220 - accuracy: 0.9528 - val_loss: 0.1391 - val_accuracy: 0.9452 - 205ms/epoch - 2ms/step\n",
            "Epoch 32/100\n",
            "100/100 - 0s - loss: 0.1198 - accuracy: 0.9542 - val_loss: 0.1347 - val_accuracy: 0.9452 - 202ms/epoch - 2ms/step\n",
            "Epoch 33/100\n",
            "100/100 - 0s - loss: 0.1165 - accuracy: 0.9524 - val_loss: 0.1335 - val_accuracy: 0.9435 - 214ms/epoch - 2ms/step\n",
            "Epoch 34/100\n",
            "100/100 - 0s - loss: 0.1148 - accuracy: 0.9538 - val_loss: 0.1308 - val_accuracy: 0.9500 - 206ms/epoch - 2ms/step\n",
            "Epoch 35/100\n",
            "100/100 - 0s - loss: 0.1110 - accuracy: 0.9552 - val_loss: 0.1308 - val_accuracy: 0.9435 - 222ms/epoch - 2ms/step\n",
            "Epoch 36/100\n",
            "100/100 - 0s - loss: 0.1092 - accuracy: 0.9544 - val_loss: 0.1234 - val_accuracy: 0.9403 - 222ms/epoch - 2ms/step\n",
            "Epoch 37/100\n",
            "100/100 - 0s - loss: 0.1070 - accuracy: 0.9538 - val_loss: 0.1200 - val_accuracy: 0.9565 - 194ms/epoch - 2ms/step\n",
            "Epoch 38/100\n",
            "100/100 - 0s - loss: 0.1056 - accuracy: 0.9572 - val_loss: 0.1229 - val_accuracy: 0.9452 - 219ms/epoch - 2ms/step\n",
            "Epoch 39/100\n",
            "100/100 - 0s - loss: 0.1025 - accuracy: 0.9593 - val_loss: 0.1175 - val_accuracy: 0.9597 - 215ms/epoch - 2ms/step\n",
            "Epoch 40/100\n",
            "100/100 - 0s - loss: 0.1012 - accuracy: 0.9597 - val_loss: 0.1197 - val_accuracy: 0.9484 - 256ms/epoch - 3ms/step\n",
            "Epoch 41/100\n",
            "100/100 - 0s - loss: 0.0992 - accuracy: 0.9583 - val_loss: 0.1174 - val_accuracy: 0.9500 - 214ms/epoch - 2ms/step\n",
            "Epoch 42/100\n",
            "100/100 - 0s - loss: 0.0970 - accuracy: 0.9607 - val_loss: 0.1130 - val_accuracy: 0.9500 - 203ms/epoch - 2ms/step\n",
            "Epoch 43/100\n",
            "100/100 - 0s - loss: 0.0950 - accuracy: 0.9625 - val_loss: 0.1167 - val_accuracy: 0.9516 - 216ms/epoch - 2ms/step\n",
            "Epoch 44/100\n",
            "100/100 - 0s - loss: 0.0942 - accuracy: 0.9623 - val_loss: 0.1109 - val_accuracy: 0.9532 - 212ms/epoch - 2ms/step\n",
            "Epoch 45/100\n",
            "100/100 - 0s - loss: 0.0928 - accuracy: 0.9617 - val_loss: 0.1069 - val_accuracy: 0.9581 - 209ms/epoch - 2ms/step\n",
            "Epoch 46/100\n",
            "100/100 - 0s - loss: 0.0919 - accuracy: 0.9621 - val_loss: 0.1080 - val_accuracy: 0.9532 - 282ms/epoch - 3ms/step\n",
            "Epoch 47/100\n",
            "100/100 - 0s - loss: 0.0899 - accuracy: 0.9629 - val_loss: 0.1060 - val_accuracy: 0.9597 - 287ms/epoch - 3ms/step\n",
            "Epoch 48/100\n",
            "100/100 - 0s - loss: 0.0882 - accuracy: 0.9645 - val_loss: 0.1044 - val_accuracy: 0.9532 - 337ms/epoch - 3ms/step\n",
            "Epoch 49/100\n",
            "100/100 - 0s - loss: 0.0876 - accuracy: 0.9653 - val_loss: 0.1047 - val_accuracy: 0.9581 - 328ms/epoch - 3ms/step\n",
            "Epoch 50/100\n",
            "100/100 - 0s - loss: 0.0876 - accuracy: 0.9639 - val_loss: 0.1023 - val_accuracy: 0.9548 - 310ms/epoch - 3ms/step\n",
            "Epoch 51/100\n",
            "100/100 - 0s - loss: 0.0856 - accuracy: 0.9663 - val_loss: 0.0993 - val_accuracy: 0.9581 - 318ms/epoch - 3ms/step\n",
            "Epoch 52/100\n",
            "100/100 - 0s - loss: 0.0844 - accuracy: 0.9645 - val_loss: 0.1040 - val_accuracy: 0.9516 - 280ms/epoch - 3ms/step\n",
            "Epoch 53/100\n",
            "100/100 - 0s - loss: 0.0832 - accuracy: 0.9659 - val_loss: 0.1040 - val_accuracy: 0.9565 - 332ms/epoch - 3ms/step\n",
            "Epoch 54/100\n",
            "100/100 - 0s - loss: 0.0826 - accuracy: 0.9665 - val_loss: 0.0999 - val_accuracy: 0.9581 - 306ms/epoch - 3ms/step\n",
            "Epoch 55/100\n",
            "100/100 - 0s - loss: 0.0812 - accuracy: 0.9667 - val_loss: 0.0984 - val_accuracy: 0.9548 - 351ms/epoch - 4ms/step\n",
            "Epoch 56/100\n",
            "100/100 - 0s - loss: 0.0799 - accuracy: 0.9689 - val_loss: 0.0948 - val_accuracy: 0.9645 - 331ms/epoch - 3ms/step\n",
            "Epoch 57/100\n",
            "100/100 - 0s - loss: 0.0799 - accuracy: 0.9667 - val_loss: 0.0955 - val_accuracy: 0.9613 - 335ms/epoch - 3ms/step\n",
            "Epoch 58/100\n",
            "100/100 - 0s - loss: 0.0790 - accuracy: 0.9689 - val_loss: 0.0968 - val_accuracy: 0.9661 - 327ms/epoch - 3ms/step\n",
            "Epoch 59/100\n",
            "100/100 - 0s - loss: 0.0771 - accuracy: 0.9689 - val_loss: 0.0929 - val_accuracy: 0.9613 - 354ms/epoch - 4ms/step\n",
            "Epoch 60/100\n",
            "100/100 - 0s - loss: 0.0753 - accuracy: 0.9706 - val_loss: 0.0921 - val_accuracy: 0.9613 - 213ms/epoch - 2ms/step\n",
            "Epoch 61/100\n",
            "100/100 - 0s - loss: 0.0757 - accuracy: 0.9685 - val_loss: 0.0930 - val_accuracy: 0.9597 - 258ms/epoch - 3ms/step\n",
            "Epoch 62/100\n",
            "100/100 - 0s - loss: 0.0750 - accuracy: 0.9700 - val_loss: 0.0934 - val_accuracy: 0.9548 - 215ms/epoch - 2ms/step\n",
            "Epoch 63/100\n",
            "100/100 - 0s - loss: 0.0732 - accuracy: 0.9708 - val_loss: 0.0911 - val_accuracy: 0.9565 - 204ms/epoch - 2ms/step\n",
            "Epoch 64/100\n",
            "100/100 - 0s - loss: 0.0745 - accuracy: 0.9696 - val_loss: 0.0892 - val_accuracy: 0.9613 - 217ms/epoch - 2ms/step\n",
            "Epoch 65/100\n",
            "100/100 - 0s - loss: 0.0730 - accuracy: 0.9698 - val_loss: 0.0896 - val_accuracy: 0.9597 - 210ms/epoch - 2ms/step\n",
            "Epoch 66/100\n",
            "100/100 - 0s - loss: 0.0720 - accuracy: 0.9710 - val_loss: 0.0898 - val_accuracy: 0.9581 - 221ms/epoch - 2ms/step\n",
            "Epoch 67/100\n",
            "100/100 - 0s - loss: 0.0713 - accuracy: 0.9710 - val_loss: 0.0918 - val_accuracy: 0.9581 - 214ms/epoch - 2ms/step\n",
            "Epoch 68/100\n",
            "100/100 - 0s - loss: 0.0688 - accuracy: 0.9728 - val_loss: 0.0902 - val_accuracy: 0.9597 - 213ms/epoch - 2ms/step\n",
            "Epoch 69/100\n",
            "100/100 - 0s - loss: 0.0677 - accuracy: 0.9744 - val_loss: 0.0921 - val_accuracy: 0.9565 - 209ms/epoch - 2ms/step\n"
          ]
        },
        {
          "output_type": "execute_result",
          "data": {
            "text/plain": [
              "<keras.callbacks.History at 0x7e2aeff8b9d0>"
            ]
          },
          "metadata": {},
          "execution_count": 13
        }
      ]
    },
    {
      "cell_type": "code",
      "source": [
        "# test the model\n",
        "\n",
        "test_loss, test_accuracy = model.evaluate(scaled_X_test, y_test)"
      ],
      "metadata": {
        "colab": {
          "base_uri": "https://localhost:8080/"
        },
        "id": "SvVwCfw1GtZt",
        "outputId": "9b58f5c9-50a1-49bf-9141-06f4e8fe7039"
      },
      "execution_count": 14,
      "outputs": [
        {
          "output_type": "stream",
          "name": "stdout",
          "text": [
            "20/20 [==============================] - 0s 2ms/step - loss: 0.0807 - accuracy: 0.9661\n"
          ]
        }
      ]
    },
    {
      "cell_type": "code",
      "source": [
        "# Print Pretty\n",
        "\n",
        "print('\\nTest loss: {0:.2f}. Test accuracy: {1:.2f}%'.format(test_loss, test_accuracy*100.))"
      ],
      "metadata": {
        "colab": {
          "base_uri": "https://localhost:8080/"
        },
        "id": "zalRGu7N3sq9",
        "outputId": "c4a83979-f6f2-4841-bf90-50a886373033"
      },
      "execution_count": 15,
      "outputs": [
        {
          "output_type": "stream",
          "name": "stdout",
          "text": [
            "\n",
            "Test loss: 0.08. Test accuracy: 96.61%\n"
          ]
        }
      ]
    },
    {
      "cell_type": "code",
      "source": [
        "# Save model\n",
        "# Test accuracy for the saved model is 96%\n",
        "#tf.keras.models.save_model(model, '/content/drive/MyDrive/Colab Data/KY EPSB/model', include_optimizer=True)"
      ],
      "metadata": {
        "id": "c0E9NeLg3swR"
      },
      "execution_count": 16,
      "outputs": []
    },
    {
      "cell_type": "markdown",
      "source": [
        "## Predict Classification using model"
      ],
      "metadata": {
        "id": "fIw4UJzTBLBr"
      }
    },
    {
      "cell_type": "code",
      "source": [
        "# Grab the data that we want to predict\n",
        "inputs = predict_df.loc[:,['End Year Code', 'District Code', 'Level Code',\n",
        "                                'Reported Spending per student', 'Money Difference per school',\n",
        "                                'Proficiency Rate', ]]\n",
        "\n",
        "# Convert to np array\n",
        "# scale data\n",
        "inputs = epsb_scaler.transform(inputs.values)"
      ],
      "metadata": {
        "id": "SAZjPHwgGtjV"
      },
      "execution_count": 17,
      "outputs": []
    },
    {
      "cell_type": "code",
      "source": [
        "# Use the model to predict the values\n",
        "pred_multi_col = model.predict(inputs)\n",
        "\n",
        "#Convert to one column\n",
        "pred_classification = pred_multi_col.argmax(axis=1)\n",
        "\n",
        "# Save predictions to predict_df\n",
        "predict_df['Classification Code'] = pred_classification"
      ],
      "metadata": {
        "colab": {
          "base_uri": "https://localhost:8080/"
        },
        "id": "QBIKXHyM3s1J",
        "outputId": "a828225a-2faf-4ae9-eefb-66eb21603090"
      },
      "execution_count": 18,
      "outputs": [
        {
          "output_type": "stream",
          "name": "stdout",
          "text": [
            "359/359 [==============================] - 1s 1ms/step\n"
          ]
        }
      ]
    },
    {
      "cell_type": "markdown",
      "source": [
        "# Predict Rating: a NN Model"
      ],
      "metadata": {
        "id": "wgXytIDPa8-t"
      }
    },
    {
      "cell_type": "markdown",
      "source": [
        "## Shuffle, Split, Scale"
      ],
      "metadata": {
        "id": "50rTim3-1Qv7"
      }
    },
    {
      "cell_type": "code",
      "source": [
        "nested_df = predict_df.loc[:,['End Year Code', #'District Code',\n",
        "                              'Level Code',\n",
        "                              'Reported Spending per student', 'Money Difference per school',\n",
        "                              'Proficiency Rate', 'Classification Code', 'Rating Code']]\n",
        "\n",
        "nested_df.dropna(inplace=True)\n",
        "\n",
        "#Shuffle data\n",
        "nested_df = nested_df.sample(frac=1, random_state=7)\n",
        "nested_df.reset_index(drop=True, inplace=True)"
      ],
      "metadata": {
        "id": "ljgq0AOsvf9V"
      },
      "execution_count": 19,
      "outputs": []
    },
    {
      "cell_type": "code",
      "source": [
        "nested_inputs = nested_df.values[:,:-1]\n",
        "nested_targets = nested_df.values[:,-1]"
      ],
      "metadata": {
        "id": "AnerFc_GxThJ"
      },
      "execution_count": 20,
      "outputs": []
    },
    {
      "cell_type": "code",
      "source": [
        "x_train, x_set, y_train, y_set = train_test_split(nested_inputs, nested_targets,\n",
        "                                                  test_size=0.2, random_state=3, stratify = nested_targets)\n",
        "\n",
        "x_valid, x_test, y_valid, y_test = train_test_split(x_set, y_set,\n",
        "                                                    test_size=0.5, random_state=16, stratify = y_set)"
      ],
      "metadata": {
        "id": "vBHjZV-RtbGz"
      },
      "execution_count": 21,
      "outputs": []
    },
    {
      "cell_type": "code",
      "source": [
        "# Scale data\n",
        "nested_model_scaler = StandardScaler()\n",
        "\n",
        "# Calculate and store the mean and sd\n",
        "nested_model_scaler.fit(x_train)\n",
        "\n",
        "# Apply the scaler\n",
        "x_train_scaled = nested_model_scaler.transform(x_train)\n",
        "x_valid_scaled = nested_model_scaler.transform(x_valid)\n",
        "x_test_scaled = nested_model_scaler.transform(x_test)"
      ],
      "metadata": {
        "id": "ur3VDezy3EEC"
      },
      "execution_count": 22,
      "outputs": []
    },
    {
      "cell_type": "markdown",
      "source": [
        "## Model"
      ],
      "metadata": {
        "id": "BnuZeBNMvXrV"
      }
    },
    {
      "cell_type": "code",
      "source": [
        "# Create the model\n",
        "# Ran different rounds of the below model.  Some of the options I put in comments to the right.\n",
        "\n",
        "input_size = 6\n",
        "output_size = 5\n",
        "hidden_layer_size = 10 # also tried 20, 5, 15, 30\n",
        "\n",
        "nested_model = tf.keras.Sequential([\n",
        "    tf.keras.layers.Dense(hidden_layer_size, activation='PReLU'), # relu, elu, PReLU, LeakyReLU, swish     runnerup: swish, PReLU\n",
        "    tf.keras.layers.Dense(hidden_layer_size, activation='elu'), # relu, elu, swish, PReLU, gelu, tanh      runnerup: elu, PReLU\n",
        "    tf.keras.layers.Dense(output_size, activation='softmax')\n",
        "    ])\n",
        "\n",
        "# Create a custom learning rate\n",
        "custom_learning_rate = 0.005 # 0.01, 0.005, 0.001\n",
        "\n",
        "# Compile the model\n",
        "nested_model.compile(optimizer=tf.keras.optimizers.Adam(learning_rate=custom_learning_rate),\n",
        "                     loss='sparse_categorical_crossentropy',\n",
        "                     metrics=['accuracy'])\n",
        "\n",
        "# Fit the model\n",
        "batch_size = 20  # 20, 50, 100, 30\n",
        "max_epochs = 100\n",
        "\n",
        "early_stopping = EarlyStopping(monitor='val_loss', patience=5, restore_best_weights=True)\n",
        "\n",
        "nested_model.fit(x_train_scaled, y_train,\n",
        "          batch_size=batch_size,\n",
        "          epochs = max_epochs,\n",
        "          callbacks = [early_stopping],\n",
        "          validation_data = (x_valid_scaled, y_valid),\n",
        "          verbose = 2)\n"
      ],
      "metadata": {
        "id": "rd57uxxm63b-",
        "colab": {
          "base_uri": "https://localhost:8080/"
        },
        "outputId": "7e26aa0b-4873-45aa-8749-363358a45992"
      },
      "execution_count": 23,
      "outputs": [
        {
          "output_type": "stream",
          "name": "stdout",
          "text": [
            "Epoch 1/100\n",
            "102/102 - 1s - loss: 1.3238 - accuracy: 0.4392 - val_loss: 0.9031 - val_accuracy: 0.6680 - 1s/epoch - 13ms/step\n",
            "Epoch 2/100\n",
            "102/102 - 0s - loss: 0.6929 - accuracy: 0.7453 - val_loss: 0.5322 - val_accuracy: 0.7708 - 221ms/epoch - 2ms/step\n",
            "Epoch 3/100\n",
            "102/102 - 0s - loss: 0.5029 - accuracy: 0.8086 - val_loss: 0.4345 - val_accuracy: 0.8221 - 218ms/epoch - 2ms/step\n",
            "Epoch 4/100\n",
            "102/102 - 0s - loss: 0.4358 - accuracy: 0.8131 - val_loss: 0.3834 - val_accuracy: 0.8261 - 218ms/epoch - 2ms/step\n",
            "Epoch 5/100\n",
            "102/102 - 0s - loss: 0.3943 - accuracy: 0.8383 - val_loss: 0.3562 - val_accuracy: 0.8617 - 246ms/epoch - 2ms/step\n",
            "Epoch 6/100\n",
            "102/102 - 0s - loss: 0.3590 - accuracy: 0.8457 - val_loss: 0.3280 - val_accuracy: 0.8498 - 209ms/epoch - 2ms/step\n",
            "Epoch 7/100\n",
            "102/102 - 0s - loss: 0.3372 - accuracy: 0.8561 - val_loss: 0.3171 - val_accuracy: 0.8735 - 214ms/epoch - 2ms/step\n",
            "Epoch 8/100\n",
            "102/102 - 0s - loss: 0.3121 - accuracy: 0.8739 - val_loss: 0.2815 - val_accuracy: 0.8854 - 261ms/epoch - 3ms/step\n",
            "Epoch 9/100\n",
            "102/102 - 0s - loss: 0.2886 - accuracy: 0.8872 - val_loss: 0.2931 - val_accuracy: 0.8775 - 223ms/epoch - 2ms/step\n",
            "Epoch 10/100\n",
            "102/102 - 0s - loss: 0.2740 - accuracy: 0.8927 - val_loss: 0.2819 - val_accuracy: 0.8696 - 215ms/epoch - 2ms/step\n",
            "Epoch 11/100\n",
            "102/102 - 0s - loss: 0.2588 - accuracy: 0.9001 - val_loss: 0.2484 - val_accuracy: 0.8933 - 220ms/epoch - 2ms/step\n",
            "Epoch 12/100\n",
            "102/102 - 0s - loss: 0.2460 - accuracy: 0.8981 - val_loss: 0.2154 - val_accuracy: 0.9249 - 222ms/epoch - 2ms/step\n",
            "Epoch 13/100\n",
            "102/102 - 0s - loss: 0.2288 - accuracy: 0.9115 - val_loss: 0.2316 - val_accuracy: 0.8972 - 258ms/epoch - 3ms/step\n",
            "Epoch 14/100\n",
            "102/102 - 0s - loss: 0.2183 - accuracy: 0.9135 - val_loss: 0.2111 - val_accuracy: 0.9091 - 225ms/epoch - 2ms/step\n",
            "Epoch 15/100\n",
            "102/102 - 0s - loss: 0.2124 - accuracy: 0.9159 - val_loss: 0.1849 - val_accuracy: 0.9170 - 229ms/epoch - 2ms/step\n",
            "Epoch 16/100\n",
            "102/102 - 0s - loss: 0.1914 - accuracy: 0.9233 - val_loss: 0.1800 - val_accuracy: 0.9407 - 212ms/epoch - 2ms/step\n",
            "Epoch 17/100\n",
            "102/102 - 0s - loss: 0.1894 - accuracy: 0.9243 - val_loss: 0.1595 - val_accuracy: 0.9407 - 206ms/epoch - 2ms/step\n",
            "Epoch 18/100\n",
            "102/102 - 0s - loss: 0.1679 - accuracy: 0.9313 - val_loss: 0.2000 - val_accuracy: 0.8972 - 225ms/epoch - 2ms/step\n",
            "Epoch 19/100\n",
            "102/102 - 0s - loss: 0.1692 - accuracy: 0.9352 - val_loss: 0.1520 - val_accuracy: 0.9289 - 205ms/epoch - 2ms/step\n",
            "Epoch 20/100\n",
            "102/102 - 0s - loss: 0.1665 - accuracy: 0.9248 - val_loss: 0.1792 - val_accuracy: 0.9130 - 248ms/epoch - 2ms/step\n",
            "Epoch 21/100\n",
            "102/102 - 0s - loss: 0.1495 - accuracy: 0.9288 - val_loss: 0.1605 - val_accuracy: 0.9209 - 273ms/epoch - 3ms/step\n",
            "Epoch 22/100\n",
            "102/102 - 0s - loss: 0.1523 - accuracy: 0.9298 - val_loss: 0.1723 - val_accuracy: 0.9130 - 253ms/epoch - 2ms/step\n",
            "Epoch 23/100\n",
            "102/102 - 0s - loss: 0.1430 - accuracy: 0.9407 - val_loss: 0.1614 - val_accuracy: 0.9328 - 224ms/epoch - 2ms/step\n",
            "Epoch 24/100\n",
            "102/102 - 0s - loss: 0.1408 - accuracy: 0.9387 - val_loss: 0.1261 - val_accuracy: 0.9328 - 308ms/epoch - 3ms/step\n",
            "Epoch 25/100\n",
            "102/102 - 0s - loss: 0.1500 - accuracy: 0.9337 - val_loss: 0.1251 - val_accuracy: 0.9447 - 373ms/epoch - 4ms/step\n",
            "Epoch 26/100\n",
            "102/102 - 0s - loss: 0.1363 - accuracy: 0.9392 - val_loss: 0.1393 - val_accuracy: 0.9289 - 355ms/epoch - 3ms/step\n",
            "Epoch 27/100\n",
            "102/102 - 0s - loss: 0.1349 - accuracy: 0.9431 - val_loss: 0.1428 - val_accuracy: 0.9249 - 418ms/epoch - 4ms/step\n",
            "Epoch 28/100\n",
            "102/102 - 0s - loss: 0.1243 - accuracy: 0.9461 - val_loss: 0.1439 - val_accuracy: 0.9249 - 312ms/epoch - 3ms/step\n",
            "Epoch 29/100\n",
            "102/102 - 0s - loss: 0.1289 - accuracy: 0.9421 - val_loss: 0.1084 - val_accuracy: 0.9407 - 353ms/epoch - 3ms/step\n",
            "Epoch 30/100\n",
            "102/102 - 0s - loss: 0.1222 - accuracy: 0.9416 - val_loss: 0.1463 - val_accuracy: 0.9249 - 302ms/epoch - 3ms/step\n",
            "Epoch 31/100\n",
            "102/102 - 0s - loss: 0.1199 - accuracy: 0.9481 - val_loss: 0.1287 - val_accuracy: 0.9368 - 333ms/epoch - 3ms/step\n",
            "Epoch 32/100\n",
            "102/102 - 0s - loss: 0.1265 - accuracy: 0.9456 - val_loss: 0.1110 - val_accuracy: 0.9368 - 318ms/epoch - 3ms/step\n",
            "Epoch 33/100\n",
            "102/102 - 0s - loss: 0.1239 - accuracy: 0.9436 - val_loss: 0.1206 - val_accuracy: 0.9407 - 363ms/epoch - 4ms/step\n",
            "Epoch 34/100\n",
            "102/102 - 0s - loss: 0.1242 - accuracy: 0.9441 - val_loss: 0.1301 - val_accuracy: 0.9328 - 409ms/epoch - 4ms/step\n"
          ]
        },
        {
          "output_type": "execute_result",
          "data": {
            "text/plain": [
              "<keras.callbacks.History at 0x7e2add5ed7e0>"
            ]
          },
          "metadata": {},
          "execution_count": 23
        }
      ]
    },
    {
      "cell_type": "code",
      "source": [
        "# test the model\n",
        "nested_test_loss, nested_test_accuracy = nested_model.evaluate(x_test_scaled, y_test)\n",
        "\n",
        "# Print Pretty\n",
        "print('\\nNested Test loss: {0:.2f}. Nested Test accuracy: {1:.2f}%'.format(nested_test_loss, nested_test_accuracy*100.))"
      ],
      "metadata": {
        "colab": {
          "base_uri": "https://localhost:8080/"
        },
        "id": "5Hh0hkpX63g5",
        "outputId": "6dbe0fc1-afdb-4fa6-f4c5-c19f99c9c3f5"
      },
      "execution_count": 24,
      "outputs": [
        {
          "output_type": "stream",
          "name": "stdout",
          "text": [
            "8/8 [==============================] - 0s 2ms/step - loss: 0.1132 - accuracy: 0.9565\n",
            "\n",
            "Nested Test loss: 0.11. Nested Test accuracy: 95.65%\n"
          ]
        }
      ]
    },
    {
      "cell_type": "code",
      "source": [
        "# Save model\n",
        "# Test accuracy for the saved model is 95%\n",
        "# tf.keras.models.save_model(nested_model, '/content/drive/MyDrive/Colab Data/KY EPSB/nested_model', include_optimizer=True)"
      ],
      "metadata": {
        "id": "7yQKv1AN63jP"
      },
      "execution_count": 25,
      "outputs": []
    },
    {
      "cell_type": "markdown",
      "source": [
        "## Nested Predict"
      ],
      "metadata": {
        "id": "r-qUzl4bL2zk"
      }
    },
    {
      "cell_type": "code",
      "source": [
        "nested_inputs = predict_df.loc[:,['End Year Code', #'District Code',\n",
        "                              'Level Code',\n",
        "                              'Reported Spending per student', 'Money Difference per school',\n",
        "                              'Proficiency Rate', 'Classification Code', ]]\n",
        "\n",
        "# Apply the scaler\n",
        "nested_inputs = nested_model_scaler.transform(nested_inputs.values)\n",
        "\n",
        "# Predict Ky Rating\n",
        "predict_rate_multi = nested_model.predict(nested_inputs)\n",
        "\n",
        "# Convert to one column\n",
        "predict_rating = predict_rate_multi.argmax(axis=1)\n",
        "\n",
        "# Save predictions to predict_df\n",
        "predict_df['Rating Code'] = predict_rating"
      ],
      "metadata": {
        "id": "jd6WyixiL-P2",
        "colab": {
          "base_uri": "https://localhost:8080/"
        },
        "outputId": "7fb96b59-eae4-476b-f46c-84fde61ef7f9"
      },
      "execution_count": 26,
      "outputs": [
        {
          "output_type": "stream",
          "name": "stdout",
          "text": [
            "359/359 [==============================] - 1s 2ms/step\n"
          ]
        }
      ]
    },
    {
      "cell_type": "markdown",
      "source": [
        "# Prep & export df"
      ],
      "metadata": {
        "id": "mShc_oPaQdUX"
      }
    },
    {
      "cell_type": "code",
      "source": [
        "#Fill in the missing values, and convert to words\n",
        "\n",
        "predict_df.loc[predict_df['Rating'].isna(), 'Rating'] = predict_df['Rating Code']\n",
        "predict_df.loc[predict_df['Classification'].isna(), 'Classification'] = predict_df['Classification Code']\n",
        "\n",
        "predict_df['Classification'].replace([0, 1, 2], ['Needs Improvement', 'Proficient', 'Distinguished'], inplace=True)\n",
        "predict_df['Rating'].replace([0,1,2,3,4], ['Very Low', 'Low', 'Medium', 'High', 'Very High'], inplace=True)"
      ],
      "metadata": {
        "id": "7yHPgZUrjgMs"
      },
      "execution_count": 27,
      "outputs": []
    },
    {
      "cell_type": "code",
      "source": [
        "# Convert to categories for data visualization\n",
        "cat_columns = ['End Year', 'End Year Code',\n",
        "               'District Code', 'District',\n",
        "               'Level', 'Level Code',\n",
        "               'Classification', 'Classification Code',\n",
        "               'Rating', 'Rating Code']\n",
        "\n",
        "predict_df[cat_columns] = predict_df[cat_columns].astype('category')"
      ],
      "metadata": {
        "id": "WO70oiadj_qf"
      },
      "execution_count": 28,
      "outputs": []
    },
    {
      "cell_type": "code",
      "source": [
        "#predict_df.to_csv('/content/drive/MyDrive/Colab Data/KY EPSB/All Years/predict_df.csv', index = False)"
      ],
      "metadata": {
        "id": "keY41StVemDh"
      },
      "execution_count": 29,
      "outputs": []
    },
    {
      "cell_type": "markdown",
      "source": [
        "# Most Impacted schools"
      ],
      "metadata": {
        "id": "UbO8I6LSsqr0"
      }
    },
    {
      "cell_type": "code",
      "source": [
        "def major_impacts(df, percentile):\n",
        "    # Making sure the upper and lower is higher and lower, respectively\n",
        "    upper, lower = (percentile, round(1 - percentile, 2)) if percentile >= (1 - percentile) else (round(1 - percentile, 2), percentile)\n",
        "    cols = ['Money Difference per school', 'Proficiency Rate']\n",
        "\n",
        "    # For each column per year, get the literal values of the upper / lower by using the percents\n",
        "    quantiles = df.groupby('End Year')[cols].apply(lambda x: x.quantile([upper, lower]))\n",
        "\n",
        "    impacted_schools = pd.DataFrame()\n",
        "\n",
        "    # Selects the rows with the corresponding year, and the literal high/ low values\n",
        "    for year in df['End Year'].unique():\n",
        "        year_df = df[df['End Year'] == year]\n",
        "        high = quantiles.loc[(year, upper)]\n",
        "        low = quantiles.loc[(year, lower)]\n",
        "\n",
        "        # Uses the high / low values to select the rows that are on the outside of those values\n",
        "        # Does this for each column x.name is the column name.  The output is a T/F column\n",
        "        not_between_mask = ~year_df[cols].apply(lambda x: x.between(low[x.name], high[x.name], inclusive='neither'))\n",
        "\n",
        "        # Takes the T/F column and selects the row for any row that has T.\n",
        "        selected_rows = not_between_mask.any(axis=1)\n",
        "        impacted_schools = pd.concat([impacted_schools, year_df[selected_rows]])\n",
        "\n",
        "    return impacted_schools.reset_index(drop=True)\n"
      ],
      "metadata": {
        "id": "YlFlerDQuEoV"
      },
      "execution_count": 30,
      "outputs": []
    },
    {
      "cell_type": "code",
      "source": [
        "major_impacts(predict_df, 0.95)"
      ],
      "metadata": {
        "colab": {
          "base_uri": "https://localhost:8080/",
          "height": 684
        },
        "id": "HCnfN8ZzcjOj",
        "outputId": "33d4a595-e805-42ff-dae8-504ced43eda1"
      },
      "execution_count": 31,
      "outputs": [
        {
          "output_type": "execute_result",
          "data": {
            "text/plain": [
              "     End Year End Year Code               District District Code  \\\n",
              "0        2012             0           Allen County             5   \n",
              "1        2012             0           Allen County             5   \n",
              "2        2012             0  Anchorage Independent             6   \n",
              "3        2012             0    Ashland Independent            12   \n",
              "4        2012             0          Barren County            21   \n",
              "...       ...           ...                    ...           ...   \n",
              "2270     2022            10          Warren County           571   \n",
              "2271     2022            10          Warren County           571   \n",
              "2272     2022            10         Whitley County           591   \n",
              "2273     2022            10           Wolfe County           595   \n",
              "2274     2022            10        Woodford County           601   \n",
              "\n",
              "                                     School  School Code Level Level Code  \\\n",
              "0               Allen County Primary Center         5010    ES          0   \n",
              "1      Allen County-Scottsville High School         5020    HS          2   \n",
              "2       Anchorage Independent Public School         6010    MS          1   \n",
              "3                   Hager Elementary School        12080    ES          0   \n",
              "4                  North Jackson Elementary        21014    ES          0   \n",
              "...                                     ...          ...   ...        ...   \n",
              "2270             Warren Central High School       571210    HS          2   \n",
              "2271                  Greenwood High School       571230    HS          2   \n",
              "2272  Whitley County East Elementary School       591062    ES          0   \n",
              "2273     Red River Valley Elementary School       595205    ES          0   \n",
              "2274          Woodford County Middle School       601085    MS          1   \n",
              "\n",
              "      Reported Spending per student  Money Difference per school  \\\n",
              "0                          7,930.00                   190,500.00   \n",
              "1                          8,500.00                   157,000.00   \n",
              "2                         19,850.00                    50,100.00   \n",
              "3                          6,450.00                    31,900.00   \n",
              "4                          7,390.00                    31,400.00   \n",
              "...                             ...                          ...   \n",
              "2270                      15,500.00                  -201,800.00   \n",
              "2271                      14,070.00                   222,800.00   \n",
              "2272                      17,400.00                  -116,100.00   \n",
              "2273                      19,690.00                    -4,400.00   \n",
              "2274                      12,260.00                  -172,200.00   \n",
              "\n",
              "      Proficiency Rate     Classification Classification Code     Rating  \\\n",
              "0                50.00  Needs Improvement                   0   Very Low   \n",
              "1                51.00  Needs Improvement                   0        Low   \n",
              "2                92.00      Distinguished                   2       High   \n",
              "3                76.00      Distinguished                   2     Medium   \n",
              "4                72.00      Distinguished                   2        Low   \n",
              "...                ...                ...                 ...        ...   \n",
              "2270             49.00  Needs Improvement                   0        Low   \n",
              "2271             74.00         Proficient                   1       High   \n",
              "2272             85.00      Distinguished                   2  Very High   \n",
              "2273             33.00  Needs Improvement                   0   Very Low   \n",
              "2274             63.00  Needs Improvement                   0       High   \n",
              "\n",
              "     Rating Code  \n",
              "0              0  \n",
              "1              1  \n",
              "2              3  \n",
              "3              2  \n",
              "4              1  \n",
              "...          ...  \n",
              "2270           1  \n",
              "2271           3  \n",
              "2272           4  \n",
              "2273           0  \n",
              "2274           3  \n",
              "\n",
              "[2275 rows x 15 columns]"
            ],
            "text/html": [
              "\n",
              "  <div id=\"df-d993642e-dc98-43db-a53f-a071cec06706\" class=\"colab-df-container\">\n",
              "    <div>\n",
              "<style scoped>\n",
              "    .dataframe tbody tr th:only-of-type {\n",
              "        vertical-align: middle;\n",
              "    }\n",
              "\n",
              "    .dataframe tbody tr th {\n",
              "        vertical-align: top;\n",
              "    }\n",
              "\n",
              "    .dataframe thead th {\n",
              "        text-align: right;\n",
              "    }\n",
              "</style>\n",
              "<table border=\"1\" class=\"dataframe\">\n",
              "  <thead>\n",
              "    <tr style=\"text-align: right;\">\n",
              "      <th></th>\n",
              "      <th>End Year</th>\n",
              "      <th>End Year Code</th>\n",
              "      <th>District</th>\n",
              "      <th>District Code</th>\n",
              "      <th>School</th>\n",
              "      <th>School Code</th>\n",
              "      <th>Level</th>\n",
              "      <th>Level Code</th>\n",
              "      <th>Reported Spending per student</th>\n",
              "      <th>Money Difference per school</th>\n",
              "      <th>Proficiency Rate</th>\n",
              "      <th>Classification</th>\n",
              "      <th>Classification Code</th>\n",
              "      <th>Rating</th>\n",
              "      <th>Rating Code</th>\n",
              "    </tr>\n",
              "  </thead>\n",
              "  <tbody>\n",
              "    <tr>\n",
              "      <th>0</th>\n",
              "      <td>2012</td>\n",
              "      <td>0</td>\n",
              "      <td>Allen County</td>\n",
              "      <td>5</td>\n",
              "      <td>Allen County Primary Center</td>\n",
              "      <td>5010</td>\n",
              "      <td>ES</td>\n",
              "      <td>0</td>\n",
              "      <td>7,930.00</td>\n",
              "      <td>190,500.00</td>\n",
              "      <td>50.00</td>\n",
              "      <td>Needs Improvement</td>\n",
              "      <td>0</td>\n",
              "      <td>Very Low</td>\n",
              "      <td>0</td>\n",
              "    </tr>\n",
              "    <tr>\n",
              "      <th>1</th>\n",
              "      <td>2012</td>\n",
              "      <td>0</td>\n",
              "      <td>Allen County</td>\n",
              "      <td>5</td>\n",
              "      <td>Allen County-Scottsville High School</td>\n",
              "      <td>5020</td>\n",
              "      <td>HS</td>\n",
              "      <td>2</td>\n",
              "      <td>8,500.00</td>\n",
              "      <td>157,000.00</td>\n",
              "      <td>51.00</td>\n",
              "      <td>Needs Improvement</td>\n",
              "      <td>0</td>\n",
              "      <td>Low</td>\n",
              "      <td>1</td>\n",
              "    </tr>\n",
              "    <tr>\n",
              "      <th>2</th>\n",
              "      <td>2012</td>\n",
              "      <td>0</td>\n",
              "      <td>Anchorage Independent</td>\n",
              "      <td>6</td>\n",
              "      <td>Anchorage Independent Public School</td>\n",
              "      <td>6010</td>\n",
              "      <td>MS</td>\n",
              "      <td>1</td>\n",
              "      <td>19,850.00</td>\n",
              "      <td>50,100.00</td>\n",
              "      <td>92.00</td>\n",
              "      <td>Distinguished</td>\n",
              "      <td>2</td>\n",
              "      <td>High</td>\n",
              "      <td>3</td>\n",
              "    </tr>\n",
              "    <tr>\n",
              "      <th>3</th>\n",
              "      <td>2012</td>\n",
              "      <td>0</td>\n",
              "      <td>Ashland Independent</td>\n",
              "      <td>12</td>\n",
              "      <td>Hager Elementary School</td>\n",
              "      <td>12080</td>\n",
              "      <td>ES</td>\n",
              "      <td>0</td>\n",
              "      <td>6,450.00</td>\n",
              "      <td>31,900.00</td>\n",
              "      <td>76.00</td>\n",
              "      <td>Distinguished</td>\n",
              "      <td>2</td>\n",
              "      <td>Medium</td>\n",
              "      <td>2</td>\n",
              "    </tr>\n",
              "    <tr>\n",
              "      <th>4</th>\n",
              "      <td>2012</td>\n",
              "      <td>0</td>\n",
              "      <td>Barren County</td>\n",
              "      <td>21</td>\n",
              "      <td>North Jackson Elementary</td>\n",
              "      <td>21014</td>\n",
              "      <td>ES</td>\n",
              "      <td>0</td>\n",
              "      <td>7,390.00</td>\n",
              "      <td>31,400.00</td>\n",
              "      <td>72.00</td>\n",
              "      <td>Distinguished</td>\n",
              "      <td>2</td>\n",
              "      <td>Low</td>\n",
              "      <td>1</td>\n",
              "    </tr>\n",
              "    <tr>\n",
              "      <th>...</th>\n",
              "      <td>...</td>\n",
              "      <td>...</td>\n",
              "      <td>...</td>\n",
              "      <td>...</td>\n",
              "      <td>...</td>\n",
              "      <td>...</td>\n",
              "      <td>...</td>\n",
              "      <td>...</td>\n",
              "      <td>...</td>\n",
              "      <td>...</td>\n",
              "      <td>...</td>\n",
              "      <td>...</td>\n",
              "      <td>...</td>\n",
              "      <td>...</td>\n",
              "      <td>...</td>\n",
              "    </tr>\n",
              "    <tr>\n",
              "      <th>2270</th>\n",
              "      <td>2022</td>\n",
              "      <td>10</td>\n",
              "      <td>Warren County</td>\n",
              "      <td>571</td>\n",
              "      <td>Warren Central High School</td>\n",
              "      <td>571210</td>\n",
              "      <td>HS</td>\n",
              "      <td>2</td>\n",
              "      <td>15,500.00</td>\n",
              "      <td>-201,800.00</td>\n",
              "      <td>49.00</td>\n",
              "      <td>Needs Improvement</td>\n",
              "      <td>0</td>\n",
              "      <td>Low</td>\n",
              "      <td>1</td>\n",
              "    </tr>\n",
              "    <tr>\n",
              "      <th>2271</th>\n",
              "      <td>2022</td>\n",
              "      <td>10</td>\n",
              "      <td>Warren County</td>\n",
              "      <td>571</td>\n",
              "      <td>Greenwood High School</td>\n",
              "      <td>571230</td>\n",
              "      <td>HS</td>\n",
              "      <td>2</td>\n",
              "      <td>14,070.00</td>\n",
              "      <td>222,800.00</td>\n",
              "      <td>74.00</td>\n",
              "      <td>Proficient</td>\n",
              "      <td>1</td>\n",
              "      <td>High</td>\n",
              "      <td>3</td>\n",
              "    </tr>\n",
              "    <tr>\n",
              "      <th>2272</th>\n",
              "      <td>2022</td>\n",
              "      <td>10</td>\n",
              "      <td>Whitley County</td>\n",
              "      <td>591</td>\n",
              "      <td>Whitley County East Elementary School</td>\n",
              "      <td>591062</td>\n",
              "      <td>ES</td>\n",
              "      <td>0</td>\n",
              "      <td>17,400.00</td>\n",
              "      <td>-116,100.00</td>\n",
              "      <td>85.00</td>\n",
              "      <td>Distinguished</td>\n",
              "      <td>2</td>\n",
              "      <td>Very High</td>\n",
              "      <td>4</td>\n",
              "    </tr>\n",
              "    <tr>\n",
              "      <th>2273</th>\n",
              "      <td>2022</td>\n",
              "      <td>10</td>\n",
              "      <td>Wolfe County</td>\n",
              "      <td>595</td>\n",
              "      <td>Red River Valley Elementary School</td>\n",
              "      <td>595205</td>\n",
              "      <td>ES</td>\n",
              "      <td>0</td>\n",
              "      <td>19,690.00</td>\n",
              "      <td>-4,400.00</td>\n",
              "      <td>33.00</td>\n",
              "      <td>Needs Improvement</td>\n",
              "      <td>0</td>\n",
              "      <td>Very Low</td>\n",
              "      <td>0</td>\n",
              "    </tr>\n",
              "    <tr>\n",
              "      <th>2274</th>\n",
              "      <td>2022</td>\n",
              "      <td>10</td>\n",
              "      <td>Woodford County</td>\n",
              "      <td>601</td>\n",
              "      <td>Woodford County Middle School</td>\n",
              "      <td>601085</td>\n",
              "      <td>MS</td>\n",
              "      <td>1</td>\n",
              "      <td>12,260.00</td>\n",
              "      <td>-172,200.00</td>\n",
              "      <td>63.00</td>\n",
              "      <td>Needs Improvement</td>\n",
              "      <td>0</td>\n",
              "      <td>High</td>\n",
              "      <td>3</td>\n",
              "    </tr>\n",
              "  </tbody>\n",
              "</table>\n",
              "<p>2275 rows × 15 columns</p>\n",
              "</div>\n",
              "    <div class=\"colab-df-buttons\">\n",
              "\n",
              "  <div class=\"colab-df-container\">\n",
              "    <button class=\"colab-df-convert\" onclick=\"convertToInteractive('df-d993642e-dc98-43db-a53f-a071cec06706')\"\n",
              "            title=\"Convert this dataframe to an interactive table.\"\n",
              "            style=\"display:none;\">\n",
              "\n",
              "  <svg xmlns=\"http://www.w3.org/2000/svg\" height=\"24px\" viewBox=\"0 -960 960 960\">\n",
              "    <path d=\"M120-120v-720h720v720H120Zm60-500h600v-160H180v160Zm220 220h160v-160H400v160Zm0 220h160v-160H400v160ZM180-400h160v-160H180v160Zm440 0h160v-160H620v160ZM180-180h160v-160H180v160Zm440 0h160v-160H620v160Z\"/>\n",
              "  </svg>\n",
              "    </button>\n",
              "\n",
              "  <style>\n",
              "    .colab-df-container {\n",
              "      display:flex;\n",
              "      gap: 12px;\n",
              "    }\n",
              "\n",
              "    .colab-df-convert {\n",
              "      background-color: #E8F0FE;\n",
              "      border: none;\n",
              "      border-radius: 50%;\n",
              "      cursor: pointer;\n",
              "      display: none;\n",
              "      fill: #1967D2;\n",
              "      height: 32px;\n",
              "      padding: 0 0 0 0;\n",
              "      width: 32px;\n",
              "    }\n",
              "\n",
              "    .colab-df-convert:hover {\n",
              "      background-color: #E2EBFA;\n",
              "      box-shadow: 0px 1px 2px rgba(60, 64, 67, 0.3), 0px 1px 3px 1px rgba(60, 64, 67, 0.15);\n",
              "      fill: #174EA6;\n",
              "    }\n",
              "\n",
              "    .colab-df-buttons div {\n",
              "      margin-bottom: 4px;\n",
              "    }\n",
              "\n",
              "    [theme=dark] .colab-df-convert {\n",
              "      background-color: #3B4455;\n",
              "      fill: #D2E3FC;\n",
              "    }\n",
              "\n",
              "    [theme=dark] .colab-df-convert:hover {\n",
              "      background-color: #434B5C;\n",
              "      box-shadow: 0px 1px 3px 1px rgba(0, 0, 0, 0.15);\n",
              "      filter: drop-shadow(0px 1px 2px rgba(0, 0, 0, 0.3));\n",
              "      fill: #FFFFFF;\n",
              "    }\n",
              "  </style>\n",
              "\n",
              "    <script>\n",
              "      const buttonEl =\n",
              "        document.querySelector('#df-d993642e-dc98-43db-a53f-a071cec06706 button.colab-df-convert');\n",
              "      buttonEl.style.display =\n",
              "        google.colab.kernel.accessAllowed ? 'block' : 'none';\n",
              "\n",
              "      async function convertToInteractive(key) {\n",
              "        const element = document.querySelector('#df-d993642e-dc98-43db-a53f-a071cec06706');\n",
              "        const dataTable =\n",
              "          await google.colab.kernel.invokeFunction('convertToInteractive',\n",
              "                                                    [key], {});\n",
              "        if (!dataTable) return;\n",
              "\n",
              "        const docLinkHtml = 'Like what you see? Visit the ' +\n",
              "          '<a target=\"_blank\" href=https://colab.research.google.com/notebooks/data_table.ipynb>data table notebook</a>'\n",
              "          + ' to learn more about interactive tables.';\n",
              "        element.innerHTML = '';\n",
              "        dataTable['output_type'] = 'display_data';\n",
              "        await google.colab.output.renderOutput(dataTable, element);\n",
              "        const docLink = document.createElement('div');\n",
              "        docLink.innerHTML = docLinkHtml;\n",
              "        element.appendChild(docLink);\n",
              "      }\n",
              "    </script>\n",
              "  </div>\n",
              "\n",
              "\n",
              "<div id=\"df-1379c387-1c6c-4c4a-b1ab-982eb3df73b4\">\n",
              "  <button class=\"colab-df-quickchart\" onclick=\"quickchart('df-1379c387-1c6c-4c4a-b1ab-982eb3df73b4')\"\n",
              "            title=\"Suggest charts.\"\n",
              "            style=\"display:none;\">\n",
              "\n",
              "<svg xmlns=\"http://www.w3.org/2000/svg\" height=\"24px\"viewBox=\"0 0 24 24\"\n",
              "     width=\"24px\">\n",
              "    <g>\n",
              "        <path d=\"M19 3H5c-1.1 0-2 .9-2 2v14c0 1.1.9 2 2 2h14c1.1 0 2-.9 2-2V5c0-1.1-.9-2-2-2zM9 17H7v-7h2v7zm4 0h-2V7h2v10zm4 0h-2v-4h2v4z\"/>\n",
              "    </g>\n",
              "</svg>\n",
              "  </button>\n",
              "\n",
              "<style>\n",
              "  .colab-df-quickchart {\n",
              "    background-color: #E8F0FE;\n",
              "    border: none;\n",
              "    border-radius: 50%;\n",
              "    cursor: pointer;\n",
              "    display: none;\n",
              "    fill: #1967D2;\n",
              "    height: 32px;\n",
              "    padding: 0 0 0 0;\n",
              "    width: 32px;\n",
              "  }\n",
              "\n",
              "  .colab-df-quickchart:hover {\n",
              "    background-color: #E2EBFA;\n",
              "    box-shadow: 0px 1px 2px rgba(60, 64, 67, 0.3), 0px 1px 3px 1px rgba(60, 64, 67, 0.15);\n",
              "    fill: #174EA6;\n",
              "  }\n",
              "\n",
              "  [theme=dark] .colab-df-quickchart {\n",
              "    background-color: #3B4455;\n",
              "    fill: #D2E3FC;\n",
              "  }\n",
              "\n",
              "  [theme=dark] .colab-df-quickchart:hover {\n",
              "    background-color: #434B5C;\n",
              "    box-shadow: 0px 1px 3px 1px rgba(0, 0, 0, 0.15);\n",
              "    filter: drop-shadow(0px 1px 2px rgba(0, 0, 0, 0.3));\n",
              "    fill: #FFFFFF;\n",
              "  }\n",
              "</style>\n",
              "\n",
              "  <script>\n",
              "    async function quickchart(key) {\n",
              "      const charts = await google.colab.kernel.invokeFunction(\n",
              "          'suggestCharts', [key], {});\n",
              "    }\n",
              "    (() => {\n",
              "      let quickchartButtonEl =\n",
              "        document.querySelector('#df-1379c387-1c6c-4c4a-b1ab-982eb3df73b4 button');\n",
              "      quickchartButtonEl.style.display =\n",
              "        google.colab.kernel.accessAllowed ? 'block' : 'none';\n",
              "    })();\n",
              "  </script>\n",
              "</div>\n",
              "    </div>\n",
              "  </div>\n"
            ]
          },
          "metadata": {},
          "execution_count": 31
        }
      ]
    }
  ]
}