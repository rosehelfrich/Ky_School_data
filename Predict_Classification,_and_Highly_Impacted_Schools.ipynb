{
  "nbformat": 4,
  "nbformat_minor": 0,
  "metadata": {
    "colab": {
      "provenance": [],
      "collapsed_sections": [
        "xpakTgq2e2WC"
      ],
      "toc_visible": true,
      "authorship_tag": "ABX9TyPCns7bsftPzSyMIxAz01Wh",
      "include_colab_link": true
    },
    "kernelspec": {
      "name": "python3",
      "display_name": "Python 3"
    },
    "language_info": {
      "name": "python"
    }
  },
  "cells": [
    {
      "cell_type": "markdown",
      "metadata": {
        "id": "view-in-github",
        "colab_type": "text"
      },
      "source": [
        "<a href=\"https://colab.research.google.com/github/rosehelfrich/Ky_School_data/blob/main/Predict_Classification%2C_and_Highly_Impacted_Schools.ipynb\" target=\"_parent\"><img src=\"https://colab.research.google.com/assets/colab-badge.svg\" alt=\"Open In Colab\"/></a>"
      ]
    },
    {
      "cell_type": "code",
      "execution_count": 1,
      "metadata": {
        "id": "mPbt9W2-tujY"
      },
      "outputs": [],
      "source": [
        "import pandas as pd\n",
        "import numpy as np\n",
        "import tensorflow as tf\n",
        "\n",
        "import seaborn as sns\n",
        "import matplotlib.pyplot as plt"
      ]
    },
    {
      "cell_type": "code",
      "source": [
        "from google.colab import drive\n",
        "drive.mount('/content/drive')"
      ],
      "metadata": {
        "colab": {
          "base_uri": "https://localhost:8080/"
        },
        "id": "kl7kadJNt5Pr",
        "outputId": "6dae7770-e7ed-470f-d503-e8590ea6993d"
      },
      "execution_count": 2,
      "outputs": [
        {
          "output_type": "stream",
          "name": "stdout",
          "text": [
            "Mounted at /content/drive\n"
          ]
        }
      ]
    },
    {
      "cell_type": "code",
      "source": [
        "# Column / Row options\n",
        "pd.options.display.max_columns = None\n",
        "pd.options.display.max_rows = 20\n",
        "\n",
        "# Two decimal places and the thousands separator\n",
        "pd.options.display.float_format = '{:,.2f}'.format"
      ],
      "metadata": {
        "id": "0PIbEaZVE2sd"
      },
      "execution_count": 3,
      "outputs": []
    },
    {
      "cell_type": "markdown",
      "source": [
        "# Merge scores with KY df"
      ],
      "metadata": {
        "id": "VZvOAbpDsZ3n"
      }
    },
    {
      "cell_type": "code",
      "source": [
        "df_scores = pd.read_csv('/content/drive/MyDrive/Colab Data/KY EPSB/All Years/df_scores.csv')"
      ],
      "metadata": {
        "id": "rQt8IcwgE22V"
      },
      "execution_count": 4,
      "outputs": []
    },
    {
      "cell_type": "code",
      "source": [
        "ky_spending_df = pd.read_csv('/content/drive/MyDrive/Colab Data/KY EPSB/All Years/published_ky_df_all.csv')"
      ],
      "metadata": {
        "id": "BGo2xpQoaqro"
      },
      "execution_count": 5,
      "outputs": []
    },
    {
      "cell_type": "code",
      "source": [
        "ky_spending_df = ky_spending_df.loc[:,['End Year', 'School Code', 'Reported Spending per student', 'Money Difference per school',\n",
        "       'Money Difference per student', 'Estimated Spending per student']]"
      ],
      "metadata": {
        "id": "J47qxVBwa0S3"
      },
      "execution_count": 6,
      "outputs": []
    },
    {
      "cell_type": "code",
      "source": [
        "df = pd.merge(df_scores, ky_spending_df, on=['End Year', 'School Code'], how='left')"
      ],
      "metadata": {
        "id": "EEpaGphGQyXx"
      },
      "execution_count": 7,
      "outputs": []
    },
    {
      "cell_type": "code",
      "source": [
        "df.drop_duplicates(inplace=True)\n",
        "\n",
        "# Reset index\n",
        "df.reset_index(drop=True, inplace=True)\n",
        "\n",
        "df.index"
      ],
      "metadata": {
        "id": "P3F23OHZiSji",
        "colab": {
          "base_uri": "https://localhost:8080/"
        },
        "outputId": "19da5b96-07c8-48c3-d473-25dae7ca6741"
      },
      "execution_count": 8,
      "outputs": [
        {
          "output_type": "execute_result",
          "data": {
            "text/plain": [
              "RangeIndex(start=0, stop=9892, step=1)"
            ]
          },
          "metadata": {},
          "execution_count": 8
        }
      ]
    },
    {
      "cell_type": "code",
      "source": [
        "columns_df = ['End Year', 'District Code', 'School Code', 'Proficiency Rate', \n",
        "              'Reported Spending per student', 'Money Difference per school', \n",
        "              'Money Difference per student', 'Estimated Spending per student']\n",
        "\n",
        "for column in columns_df:\n",
        "  df = df.round({column:0})\n",
        "  df[column] = df[column].astype(int, errors='ignore')"
      ],
      "metadata": {
        "id": "8R5fkpGrgW3D"
      },
      "execution_count": 9,
      "outputs": []
    },
    {
      "cell_type": "code",
      "source": [
        "# Take out \"/Progressing\"\n",
        "df.replace('Distinguished/Progressing', 'Distinguished', inplace=True)\n",
        "df.replace('Proficient/Progressing', 'Proficient', inplace=True)\n",
        "df.replace('Needs Improvement/Progressing', 'Needs Improvement', inplace=True)"
      ],
      "metadata": {
        "id": "zEUuozLJg7hL"
      },
      "execution_count": 10,
      "outputs": []
    },
    {
      "cell_type": "code",
      "source": [
        "df"
      ],
      "metadata": {
        "id": "z_qni_Q358qD",
        "colab": {
          "base_uri": "https://localhost:8080/",
          "height": 973
        },
        "outputId": "a229430f-92be-4def-bd52-bb67dbb2f98e"
      },
      "execution_count": 11,
      "outputs": [
        {
          "output_type": "execute_result",
          "data": {
            "text/plain": [
              "      End Year  District Code         District  School Code  \\\n",
              "0         2012              1     Adair County         1010   \n",
              "1         2013              1     Adair County         1010   \n",
              "2         2014              1     Adair County         1010   \n",
              "3         2015              1     Adair County         1010   \n",
              "4         2016              1     Adair County         1010   \n",
              "...        ...            ...              ...          ...   \n",
              "9887      2016            601  Woodford County       601120   \n",
              "9888      2017            601  Woodford County       601120   \n",
              "9889      2018            601  Woodford County       601120   \n",
              "9890      2019            601  Woodford County       601120   \n",
              "9891      2022            601  Woodford County       601120   \n",
              "\n",
              "                           School  Proficiency Rate     KY Rank/Rating  \\\n",
              "0        Adair County High School                55                 57   \n",
              "1        Adair County High School                54                 48   \n",
              "2        Adair County High School                69                 65   \n",
              "3        Adair County High School                71                 73   \n",
              "4        Adair County High School                72         Proficient   \n",
              "...                           ...               ...                ...   \n",
              "9887  Northside Elementary School                60  Needs Improvement   \n",
              "9888  Northside Elementary School                75                NaN   \n",
              "9889  Northside Elementary School                73                NaN   \n",
              "9890  Northside Elementary School                76               High   \n",
              "9891  Northside Elementary School                68             Medium   \n",
              "\n",
              "         Classification  Reported Spending per student  \\\n",
              "0     Needs Improvement                       6,457.00   \n",
              "1     Needs Improvement                       6,377.00   \n",
              "2     Needs Improvement                       6,970.00   \n",
              "3            Proficient                       9,486.00   \n",
              "4                   NaN                      10,270.00   \n",
              "...                 ...                            ...   \n",
              "9887                NaN                      12,046.00   \n",
              "9888                NaN                       9,940.00   \n",
              "9889                NaN                      13,641.00   \n",
              "9890                NaN                      11,865.00   \n",
              "9891                NaN                            NaN   \n",
              "\n",
              "      Money Difference per school  Money Difference per student  \\\n",
              "0                      -36,414.00                        -52.00   \n",
              "1                      -37,044.00                        -49.00   \n",
              "2                      -13,146.00                        -18.00   \n",
              "3                      -42,096.00                        -55.00   \n",
              "4                      -19,228.00                        -25.00   \n",
              "...                           ...                           ...   \n",
              "9887                    34,017.00                        107.00   \n",
              "9888                    17,446.00                         53.00   \n",
              "9889                    51,768.00                        150.00   \n",
              "9890                    48,399.00                        142.00   \n",
              "9891                          NaN                           NaN   \n",
              "\n",
              "      Estimated Spending per student  \n",
              "0                           6,405.00  \n",
              "1                           6,328.00  \n",
              "2                           6,952.00  \n",
              "3                           9,431.00  \n",
              "4                          10,245.00  \n",
              "...                              ...  \n",
              "9887                       12,153.00  \n",
              "9888                        9,993.00  \n",
              "9889                       13,791.00  \n",
              "9890                       12,007.00  \n",
              "9891                             NaN  \n",
              "\n",
              "[9892 rows x 12 columns]"
            ],
            "text/html": [
              "\n",
              "  <div id=\"df-25df1d3e-0e4e-4064-95bd-93f49a4d47ea\">\n",
              "    <div class=\"colab-df-container\">\n",
              "      <div>\n",
              "<style scoped>\n",
              "    .dataframe tbody tr th:only-of-type {\n",
              "        vertical-align: middle;\n",
              "    }\n",
              "\n",
              "    .dataframe tbody tr th {\n",
              "        vertical-align: top;\n",
              "    }\n",
              "\n",
              "    .dataframe thead th {\n",
              "        text-align: right;\n",
              "    }\n",
              "</style>\n",
              "<table border=\"1\" class=\"dataframe\">\n",
              "  <thead>\n",
              "    <tr style=\"text-align: right;\">\n",
              "      <th></th>\n",
              "      <th>End Year</th>\n",
              "      <th>District Code</th>\n",
              "      <th>District</th>\n",
              "      <th>School Code</th>\n",
              "      <th>School</th>\n",
              "      <th>Proficiency Rate</th>\n",
              "      <th>KY Rank/Rating</th>\n",
              "      <th>Classification</th>\n",
              "      <th>Reported Spending per student</th>\n",
              "      <th>Money Difference per school</th>\n",
              "      <th>Money Difference per student</th>\n",
              "      <th>Estimated Spending per student</th>\n",
              "    </tr>\n",
              "  </thead>\n",
              "  <tbody>\n",
              "    <tr>\n",
              "      <th>0</th>\n",
              "      <td>2012</td>\n",
              "      <td>1</td>\n",
              "      <td>Adair County</td>\n",
              "      <td>1010</td>\n",
              "      <td>Adair County High School</td>\n",
              "      <td>55</td>\n",
              "      <td>57</td>\n",
              "      <td>Needs Improvement</td>\n",
              "      <td>6,457.00</td>\n",
              "      <td>-36,414.00</td>\n",
              "      <td>-52.00</td>\n",
              "      <td>6,405.00</td>\n",
              "    </tr>\n",
              "    <tr>\n",
              "      <th>1</th>\n",
              "      <td>2013</td>\n",
              "      <td>1</td>\n",
              "      <td>Adair County</td>\n",
              "      <td>1010</td>\n",
              "      <td>Adair County High School</td>\n",
              "      <td>54</td>\n",
              "      <td>48</td>\n",
              "      <td>Needs Improvement</td>\n",
              "      <td>6,377.00</td>\n",
              "      <td>-37,044.00</td>\n",
              "      <td>-49.00</td>\n",
              "      <td>6,328.00</td>\n",
              "    </tr>\n",
              "    <tr>\n",
              "      <th>2</th>\n",
              "      <td>2014</td>\n",
              "      <td>1</td>\n",
              "      <td>Adair County</td>\n",
              "      <td>1010</td>\n",
              "      <td>Adair County High School</td>\n",
              "      <td>69</td>\n",
              "      <td>65</td>\n",
              "      <td>Needs Improvement</td>\n",
              "      <td>6,970.00</td>\n",
              "      <td>-13,146.00</td>\n",
              "      <td>-18.00</td>\n",
              "      <td>6,952.00</td>\n",
              "    </tr>\n",
              "    <tr>\n",
              "      <th>3</th>\n",
              "      <td>2015</td>\n",
              "      <td>1</td>\n",
              "      <td>Adair County</td>\n",
              "      <td>1010</td>\n",
              "      <td>Adair County High School</td>\n",
              "      <td>71</td>\n",
              "      <td>73</td>\n",
              "      <td>Proficient</td>\n",
              "      <td>9,486.00</td>\n",
              "      <td>-42,096.00</td>\n",
              "      <td>-55.00</td>\n",
              "      <td>9,431.00</td>\n",
              "    </tr>\n",
              "    <tr>\n",
              "      <th>4</th>\n",
              "      <td>2016</td>\n",
              "      <td>1</td>\n",
              "      <td>Adair County</td>\n",
              "      <td>1010</td>\n",
              "      <td>Adair County High School</td>\n",
              "      <td>72</td>\n",
              "      <td>Proficient</td>\n",
              "      <td>NaN</td>\n",
              "      <td>10,270.00</td>\n",
              "      <td>-19,228.00</td>\n",
              "      <td>-25.00</td>\n",
              "      <td>10,245.00</td>\n",
              "    </tr>\n",
              "    <tr>\n",
              "      <th>...</th>\n",
              "      <td>...</td>\n",
              "      <td>...</td>\n",
              "      <td>...</td>\n",
              "      <td>...</td>\n",
              "      <td>...</td>\n",
              "      <td>...</td>\n",
              "      <td>...</td>\n",
              "      <td>...</td>\n",
              "      <td>...</td>\n",
              "      <td>...</td>\n",
              "      <td>...</td>\n",
              "      <td>...</td>\n",
              "    </tr>\n",
              "    <tr>\n",
              "      <th>9887</th>\n",
              "      <td>2016</td>\n",
              "      <td>601</td>\n",
              "      <td>Woodford County</td>\n",
              "      <td>601120</td>\n",
              "      <td>Northside Elementary School</td>\n",
              "      <td>60</td>\n",
              "      <td>Needs Improvement</td>\n",
              "      <td>NaN</td>\n",
              "      <td>12,046.00</td>\n",
              "      <td>34,017.00</td>\n",
              "      <td>107.00</td>\n",
              "      <td>12,153.00</td>\n",
              "    </tr>\n",
              "    <tr>\n",
              "      <th>9888</th>\n",
              "      <td>2017</td>\n",
              "      <td>601</td>\n",
              "      <td>Woodford County</td>\n",
              "      <td>601120</td>\n",
              "      <td>Northside Elementary School</td>\n",
              "      <td>75</td>\n",
              "      <td>NaN</td>\n",
              "      <td>NaN</td>\n",
              "      <td>9,940.00</td>\n",
              "      <td>17,446.00</td>\n",
              "      <td>53.00</td>\n",
              "      <td>9,993.00</td>\n",
              "    </tr>\n",
              "    <tr>\n",
              "      <th>9889</th>\n",
              "      <td>2018</td>\n",
              "      <td>601</td>\n",
              "      <td>Woodford County</td>\n",
              "      <td>601120</td>\n",
              "      <td>Northside Elementary School</td>\n",
              "      <td>73</td>\n",
              "      <td>NaN</td>\n",
              "      <td>NaN</td>\n",
              "      <td>13,641.00</td>\n",
              "      <td>51,768.00</td>\n",
              "      <td>150.00</td>\n",
              "      <td>13,791.00</td>\n",
              "    </tr>\n",
              "    <tr>\n",
              "      <th>9890</th>\n",
              "      <td>2019</td>\n",
              "      <td>601</td>\n",
              "      <td>Woodford County</td>\n",
              "      <td>601120</td>\n",
              "      <td>Northside Elementary School</td>\n",
              "      <td>76</td>\n",
              "      <td>High</td>\n",
              "      <td>NaN</td>\n",
              "      <td>11,865.00</td>\n",
              "      <td>48,399.00</td>\n",
              "      <td>142.00</td>\n",
              "      <td>12,007.00</td>\n",
              "    </tr>\n",
              "    <tr>\n",
              "      <th>9891</th>\n",
              "      <td>2022</td>\n",
              "      <td>601</td>\n",
              "      <td>Woodford County</td>\n",
              "      <td>601120</td>\n",
              "      <td>Northside Elementary School</td>\n",
              "      <td>68</td>\n",
              "      <td>Medium</td>\n",
              "      <td>NaN</td>\n",
              "      <td>NaN</td>\n",
              "      <td>NaN</td>\n",
              "      <td>NaN</td>\n",
              "      <td>NaN</td>\n",
              "    </tr>\n",
              "  </tbody>\n",
              "</table>\n",
              "<p>9892 rows × 12 columns</p>\n",
              "</div>\n",
              "      <button class=\"colab-df-convert\" onclick=\"convertToInteractive('df-25df1d3e-0e4e-4064-95bd-93f49a4d47ea')\"\n",
              "              title=\"Convert this dataframe to an interactive table.\"\n",
              "              style=\"display:none;\">\n",
              "        \n",
              "  <svg xmlns=\"http://www.w3.org/2000/svg\" height=\"24px\"viewBox=\"0 0 24 24\"\n",
              "       width=\"24px\">\n",
              "    <path d=\"M0 0h24v24H0V0z\" fill=\"none\"/>\n",
              "    <path d=\"M18.56 5.44l.94 2.06.94-2.06 2.06-.94-2.06-.94-.94-2.06-.94 2.06-2.06.94zm-11 1L8.5 8.5l.94-2.06 2.06-.94-2.06-.94L8.5 2.5l-.94 2.06-2.06.94zm10 10l.94 2.06.94-2.06 2.06-.94-2.06-.94-.94-2.06-.94 2.06-2.06.94z\"/><path d=\"M17.41 7.96l-1.37-1.37c-.4-.4-.92-.59-1.43-.59-.52 0-1.04.2-1.43.59L10.3 9.45l-7.72 7.72c-.78.78-.78 2.05 0 2.83L4 21.41c.39.39.9.59 1.41.59.51 0 1.02-.2 1.41-.59l7.78-7.78 2.81-2.81c.8-.78.8-2.07 0-2.86zM5.41 20L4 18.59l7.72-7.72 1.47 1.35L5.41 20z\"/>\n",
              "  </svg>\n",
              "      </button>\n",
              "      \n",
              "  <style>\n",
              "    .colab-df-container {\n",
              "      display:flex;\n",
              "      flex-wrap:wrap;\n",
              "      gap: 12px;\n",
              "    }\n",
              "\n",
              "    .colab-df-convert {\n",
              "      background-color: #E8F0FE;\n",
              "      border: none;\n",
              "      border-radius: 50%;\n",
              "      cursor: pointer;\n",
              "      display: none;\n",
              "      fill: #1967D2;\n",
              "      height: 32px;\n",
              "      padding: 0 0 0 0;\n",
              "      width: 32px;\n",
              "    }\n",
              "\n",
              "    .colab-df-convert:hover {\n",
              "      background-color: #E2EBFA;\n",
              "      box-shadow: 0px 1px 2px rgba(60, 64, 67, 0.3), 0px 1px 3px 1px rgba(60, 64, 67, 0.15);\n",
              "      fill: #174EA6;\n",
              "    }\n",
              "\n",
              "    [theme=dark] .colab-df-convert {\n",
              "      background-color: #3B4455;\n",
              "      fill: #D2E3FC;\n",
              "    }\n",
              "\n",
              "    [theme=dark] .colab-df-convert:hover {\n",
              "      background-color: #434B5C;\n",
              "      box-shadow: 0px 1px 3px 1px rgba(0, 0, 0, 0.15);\n",
              "      filter: drop-shadow(0px 1px 2px rgba(0, 0, 0, 0.3));\n",
              "      fill: #FFFFFF;\n",
              "    }\n",
              "  </style>\n",
              "\n",
              "      <script>\n",
              "        const buttonEl =\n",
              "          document.querySelector('#df-25df1d3e-0e4e-4064-95bd-93f49a4d47ea button.colab-df-convert');\n",
              "        buttonEl.style.display =\n",
              "          google.colab.kernel.accessAllowed ? 'block' : 'none';\n",
              "\n",
              "        async function convertToInteractive(key) {\n",
              "          const element = document.querySelector('#df-25df1d3e-0e4e-4064-95bd-93f49a4d47ea');\n",
              "          const dataTable =\n",
              "            await google.colab.kernel.invokeFunction('convertToInteractive',\n",
              "                                                     [key], {});\n",
              "          if (!dataTable) return;\n",
              "\n",
              "          const docLinkHtml = 'Like what you see? Visit the ' +\n",
              "            '<a target=\"_blank\" href=https://colab.research.google.com/notebooks/data_table.ipynb>data table notebook</a>'\n",
              "            + ' to learn more about interactive tables.';\n",
              "          element.innerHTML = '';\n",
              "          dataTable['output_type'] = 'display_data';\n",
              "          await google.colab.output.renderOutput(dataTable, element);\n",
              "          const docLink = document.createElement('div');\n",
              "          docLink.innerHTML = docLinkHtml;\n",
              "          element.appendChild(docLink);\n",
              "        }\n",
              "      </script>\n",
              "    </div>\n",
              "  </div>\n",
              "  "
            ]
          },
          "metadata": {},
          "execution_count": 11
        }
      ]
    },
    {
      "cell_type": "code",
      "source": [
        "df.info()"
      ],
      "metadata": {
        "colab": {
          "base_uri": "https://localhost:8080/"
        },
        "id": "v-pdUJB2QylF",
        "outputId": "e9e52e8b-f520-4fbe-abb0-273c3a3f5d16"
      },
      "execution_count": 12,
      "outputs": [
        {
          "output_type": "stream",
          "name": "stdout",
          "text": [
            "<class 'pandas.core.frame.DataFrame'>\n",
            "RangeIndex: 9892 entries, 0 to 9891\n",
            "Data columns (total 12 columns):\n",
            " #   Column                          Non-Null Count  Dtype  \n",
            "---  ------                          --------------  -----  \n",
            " 0   End Year                        9892 non-null   int64  \n",
            " 1   District Code                   9892 non-null   int64  \n",
            " 2   District                        9892 non-null   object \n",
            " 3   School Code                     9892 non-null   int64  \n",
            " 4   School                          9892 non-null   object \n",
            " 5   Proficiency Rate                9892 non-null   int64  \n",
            " 6   KY Rank/Rating                  7673 non-null   object \n",
            " 7   Classification                  4309 non-null   object \n",
            " 8   Reported Spending per student   8637 non-null   float64\n",
            " 9   Money Difference per school     8637 non-null   float64\n",
            " 10  Money Difference per student    8637 non-null   float64\n",
            " 11  Estimated Spending per student  8637 non-null   float64\n",
            "dtypes: float64(4), int64(4), object(4)\n",
            "memory usage: 927.5+ KB\n"
          ]
        }
      ]
    },
    {
      "cell_type": "code",
      "source": [
        "df['Classification'].value_counts(dropna=False)"
      ],
      "metadata": {
        "id": "bPpdwu7swwYx",
        "colab": {
          "base_uri": "https://localhost:8080/"
        },
        "outputId": "2710e797-bac9-472d-9f3a-0c867e313898"
      },
      "execution_count": 13,
      "outputs": [
        {
          "output_type": "execute_result",
          "data": {
            "text/plain": [
              "NaN                  5583\n",
              "Needs Improvement    2408\n",
              "Proficient           1108\n",
              "Distinguished         793\n",
              "Name: Classification, dtype: int64"
            ]
          },
          "metadata": {},
          "execution_count": 13
        }
      ]
    },
    {
      "cell_type": "code",
      "source": [
        "df['KY Rank/Rating'].value_counts().head(12)"
      ],
      "metadata": {
        "colab": {
          "base_uri": "https://localhost:8080/"
        },
        "id": "EJGfbN2LgTQP",
        "outputId": "fbb951c1-4bac-42c1-bc06-be2f05790591"
      },
      "execution_count": 14,
      "outputs": [
        {
          "output_type": "execute_result",
          "data": {
            "text/plain": [
              "Medium               783\n",
              "Low                  646\n",
              "High                 483\n",
              "Distinguished        416\n",
              "Needs Improvement    413\n",
              "Proficient           262\n",
              "Very Low             193\n",
              "Very High            168\n",
              "99                   113\n",
              "94                   112\n",
              "91                    88\n",
              "98                    86\n",
              "Name: KY Rank/Rating, dtype: int64"
            ]
          },
          "metadata": {},
          "execution_count": 14
        }
      ]
    },
    {
      "cell_type": "code",
      "source": [
        "df[df['School']=='Knight Middle']"
      ],
      "metadata": {
        "colab": {
          "base_uri": "https://localhost:8080/",
          "height": 604
        },
        "id": "f40KNCl0gTWd",
        "outputId": "a548f728-4f79-4750-c716-609e9ca92b60"
      },
      "execution_count": 15,
      "outputs": [
        {
          "output_type": "execute_result",
          "data": {
            "text/plain": [
              "      End Year  District Code          District  School Code         School  \\\n",
              "5219      2012            275  Jefferson County       275163  Knight Middle   \n",
              "5220      2013            275  Jefferson County       275163  Knight Middle   \n",
              "5221      2014            275  Jefferson County       275163  Knight Middle   \n",
              "5222      2015            275  Jefferson County       275163  Knight Middle   \n",
              "5223      2016            275  Jefferson County       275163  Knight Middle   \n",
              "5224      2017            275  Jefferson County       275163  Knight Middle   \n",
              "5225      2018            275  Jefferson County       275163  Knight Middle   \n",
              "5226      2019            275  Jefferson County       275163  Knight Middle   \n",
              "5227      2022            275  Jefferson County       275163  Knight Middle   \n",
              "\n",
              "      Proficiency Rate     KY Rank/Rating     Classification  \\\n",
              "5219                36                  3  Needs Improvement   \n",
              "5220                34                  2  Needs Improvement   \n",
              "5221                45                  5  Needs Improvement   \n",
              "5222                52                 16  Needs Improvement   \n",
              "5223                53  Needs Improvement                NaN   \n",
              "5224                48                NaN                NaN   \n",
              "5225                44                NaN                NaN   \n",
              "5226                48           Very Low                NaN   \n",
              "5227                34           Very Low                NaN   \n",
              "\n",
              "      Reported Spending per student  Money Difference per school  \\\n",
              "5219                      10,116.00                  -298,320.00   \n",
              "5220                      11,297.00                  -274,758.00   \n",
              "5221                      11,846.00                  -229,908.00   \n",
              "5222                      10,348.00                  -268,100.00   \n",
              "5223                      13,993.00                  -246,825.00   \n",
              "5224                      14,973.00                  -273,364.00   \n",
              "5225                      16,380.00                  -226,464.00   \n",
              "5226                      16,642.00                  -304,260.00   \n",
              "5227                            NaN                          NaN   \n",
              "\n",
              "      Money Difference per student  Estimated Spending per student  \n",
              "5219                       -689.00                        9,427.00  \n",
              "5220                       -620.00                       10,677.00  \n",
              "5221                       -557.00                       11,289.00  \n",
              "5222                       -638.00                        9,710.00  \n",
              "5223                       -589.00                       13,404.00  \n",
              "5224                       -677.00                       14,296.00  \n",
              "5225                       -522.00                       15,858.00  \n",
              "5226                       -690.00                       15,952.00  \n",
              "5227                           NaN                             NaN  "
            ],
            "text/html": [
              "\n",
              "  <div id=\"df-c06e3fe9-57e5-424e-9eef-b79cc2407bf2\">\n",
              "    <div class=\"colab-df-container\">\n",
              "      <div>\n",
              "<style scoped>\n",
              "    .dataframe tbody tr th:only-of-type {\n",
              "        vertical-align: middle;\n",
              "    }\n",
              "\n",
              "    .dataframe tbody tr th {\n",
              "        vertical-align: top;\n",
              "    }\n",
              "\n",
              "    .dataframe thead th {\n",
              "        text-align: right;\n",
              "    }\n",
              "</style>\n",
              "<table border=\"1\" class=\"dataframe\">\n",
              "  <thead>\n",
              "    <tr style=\"text-align: right;\">\n",
              "      <th></th>\n",
              "      <th>End Year</th>\n",
              "      <th>District Code</th>\n",
              "      <th>District</th>\n",
              "      <th>School Code</th>\n",
              "      <th>School</th>\n",
              "      <th>Proficiency Rate</th>\n",
              "      <th>KY Rank/Rating</th>\n",
              "      <th>Classification</th>\n",
              "      <th>Reported Spending per student</th>\n",
              "      <th>Money Difference per school</th>\n",
              "      <th>Money Difference per student</th>\n",
              "      <th>Estimated Spending per student</th>\n",
              "    </tr>\n",
              "  </thead>\n",
              "  <tbody>\n",
              "    <tr>\n",
              "      <th>5219</th>\n",
              "      <td>2012</td>\n",
              "      <td>275</td>\n",
              "      <td>Jefferson County</td>\n",
              "      <td>275163</td>\n",
              "      <td>Knight Middle</td>\n",
              "      <td>36</td>\n",
              "      <td>3</td>\n",
              "      <td>Needs Improvement</td>\n",
              "      <td>10,116.00</td>\n",
              "      <td>-298,320.00</td>\n",
              "      <td>-689.00</td>\n",
              "      <td>9,427.00</td>\n",
              "    </tr>\n",
              "    <tr>\n",
              "      <th>5220</th>\n",
              "      <td>2013</td>\n",
              "      <td>275</td>\n",
              "      <td>Jefferson County</td>\n",
              "      <td>275163</td>\n",
              "      <td>Knight Middle</td>\n",
              "      <td>34</td>\n",
              "      <td>2</td>\n",
              "      <td>Needs Improvement</td>\n",
              "      <td>11,297.00</td>\n",
              "      <td>-274,758.00</td>\n",
              "      <td>-620.00</td>\n",
              "      <td>10,677.00</td>\n",
              "    </tr>\n",
              "    <tr>\n",
              "      <th>5221</th>\n",
              "      <td>2014</td>\n",
              "      <td>275</td>\n",
              "      <td>Jefferson County</td>\n",
              "      <td>275163</td>\n",
              "      <td>Knight Middle</td>\n",
              "      <td>45</td>\n",
              "      <td>5</td>\n",
              "      <td>Needs Improvement</td>\n",
              "      <td>11,846.00</td>\n",
              "      <td>-229,908.00</td>\n",
              "      <td>-557.00</td>\n",
              "      <td>11,289.00</td>\n",
              "    </tr>\n",
              "    <tr>\n",
              "      <th>5222</th>\n",
              "      <td>2015</td>\n",
              "      <td>275</td>\n",
              "      <td>Jefferson County</td>\n",
              "      <td>275163</td>\n",
              "      <td>Knight Middle</td>\n",
              "      <td>52</td>\n",
              "      <td>16</td>\n",
              "      <td>Needs Improvement</td>\n",
              "      <td>10,348.00</td>\n",
              "      <td>-268,100.00</td>\n",
              "      <td>-638.00</td>\n",
              "      <td>9,710.00</td>\n",
              "    </tr>\n",
              "    <tr>\n",
              "      <th>5223</th>\n",
              "      <td>2016</td>\n",
              "      <td>275</td>\n",
              "      <td>Jefferson County</td>\n",
              "      <td>275163</td>\n",
              "      <td>Knight Middle</td>\n",
              "      <td>53</td>\n",
              "      <td>Needs Improvement</td>\n",
              "      <td>NaN</td>\n",
              "      <td>13,993.00</td>\n",
              "      <td>-246,825.00</td>\n",
              "      <td>-589.00</td>\n",
              "      <td>13,404.00</td>\n",
              "    </tr>\n",
              "    <tr>\n",
              "      <th>5224</th>\n",
              "      <td>2017</td>\n",
              "      <td>275</td>\n",
              "      <td>Jefferson County</td>\n",
              "      <td>275163</td>\n",
              "      <td>Knight Middle</td>\n",
              "      <td>48</td>\n",
              "      <td>NaN</td>\n",
              "      <td>NaN</td>\n",
              "      <td>14,973.00</td>\n",
              "      <td>-273,364.00</td>\n",
              "      <td>-677.00</td>\n",
              "      <td>14,296.00</td>\n",
              "    </tr>\n",
              "    <tr>\n",
              "      <th>5225</th>\n",
              "      <td>2018</td>\n",
              "      <td>275</td>\n",
              "      <td>Jefferson County</td>\n",
              "      <td>275163</td>\n",
              "      <td>Knight Middle</td>\n",
              "      <td>44</td>\n",
              "      <td>NaN</td>\n",
              "      <td>NaN</td>\n",
              "      <td>16,380.00</td>\n",
              "      <td>-226,464.00</td>\n",
              "      <td>-522.00</td>\n",
              "      <td>15,858.00</td>\n",
              "    </tr>\n",
              "    <tr>\n",
              "      <th>5226</th>\n",
              "      <td>2019</td>\n",
              "      <td>275</td>\n",
              "      <td>Jefferson County</td>\n",
              "      <td>275163</td>\n",
              "      <td>Knight Middle</td>\n",
              "      <td>48</td>\n",
              "      <td>Very Low</td>\n",
              "      <td>NaN</td>\n",
              "      <td>16,642.00</td>\n",
              "      <td>-304,260.00</td>\n",
              "      <td>-690.00</td>\n",
              "      <td>15,952.00</td>\n",
              "    </tr>\n",
              "    <tr>\n",
              "      <th>5227</th>\n",
              "      <td>2022</td>\n",
              "      <td>275</td>\n",
              "      <td>Jefferson County</td>\n",
              "      <td>275163</td>\n",
              "      <td>Knight Middle</td>\n",
              "      <td>34</td>\n",
              "      <td>Very Low</td>\n",
              "      <td>NaN</td>\n",
              "      <td>NaN</td>\n",
              "      <td>NaN</td>\n",
              "      <td>NaN</td>\n",
              "      <td>NaN</td>\n",
              "    </tr>\n",
              "  </tbody>\n",
              "</table>\n",
              "</div>\n",
              "      <button class=\"colab-df-convert\" onclick=\"convertToInteractive('df-c06e3fe9-57e5-424e-9eef-b79cc2407bf2')\"\n",
              "              title=\"Convert this dataframe to an interactive table.\"\n",
              "              style=\"display:none;\">\n",
              "        \n",
              "  <svg xmlns=\"http://www.w3.org/2000/svg\" height=\"24px\"viewBox=\"0 0 24 24\"\n",
              "       width=\"24px\">\n",
              "    <path d=\"M0 0h24v24H0V0z\" fill=\"none\"/>\n",
              "    <path d=\"M18.56 5.44l.94 2.06.94-2.06 2.06-.94-2.06-.94-.94-2.06-.94 2.06-2.06.94zm-11 1L8.5 8.5l.94-2.06 2.06-.94-2.06-.94L8.5 2.5l-.94 2.06-2.06.94zm10 10l.94 2.06.94-2.06 2.06-.94-2.06-.94-.94-2.06-.94 2.06-2.06.94z\"/><path d=\"M17.41 7.96l-1.37-1.37c-.4-.4-.92-.59-1.43-.59-.52 0-1.04.2-1.43.59L10.3 9.45l-7.72 7.72c-.78.78-.78 2.05 0 2.83L4 21.41c.39.39.9.59 1.41.59.51 0 1.02-.2 1.41-.59l7.78-7.78 2.81-2.81c.8-.78.8-2.07 0-2.86zM5.41 20L4 18.59l7.72-7.72 1.47 1.35L5.41 20z\"/>\n",
              "  </svg>\n",
              "      </button>\n",
              "      \n",
              "  <style>\n",
              "    .colab-df-container {\n",
              "      display:flex;\n",
              "      flex-wrap:wrap;\n",
              "      gap: 12px;\n",
              "    }\n",
              "\n",
              "    .colab-df-convert {\n",
              "      background-color: #E8F0FE;\n",
              "      border: none;\n",
              "      border-radius: 50%;\n",
              "      cursor: pointer;\n",
              "      display: none;\n",
              "      fill: #1967D2;\n",
              "      height: 32px;\n",
              "      padding: 0 0 0 0;\n",
              "      width: 32px;\n",
              "    }\n",
              "\n",
              "    .colab-df-convert:hover {\n",
              "      background-color: #E2EBFA;\n",
              "      box-shadow: 0px 1px 2px rgba(60, 64, 67, 0.3), 0px 1px 3px 1px rgba(60, 64, 67, 0.15);\n",
              "      fill: #174EA6;\n",
              "    }\n",
              "\n",
              "    [theme=dark] .colab-df-convert {\n",
              "      background-color: #3B4455;\n",
              "      fill: #D2E3FC;\n",
              "    }\n",
              "\n",
              "    [theme=dark] .colab-df-convert:hover {\n",
              "      background-color: #434B5C;\n",
              "      box-shadow: 0px 1px 3px 1px rgba(0, 0, 0, 0.15);\n",
              "      filter: drop-shadow(0px 1px 2px rgba(0, 0, 0, 0.3));\n",
              "      fill: #FFFFFF;\n",
              "    }\n",
              "  </style>\n",
              "\n",
              "      <script>\n",
              "        const buttonEl =\n",
              "          document.querySelector('#df-c06e3fe9-57e5-424e-9eef-b79cc2407bf2 button.colab-df-convert');\n",
              "        buttonEl.style.display =\n",
              "          google.colab.kernel.accessAllowed ? 'block' : 'none';\n",
              "\n",
              "        async function convertToInteractive(key) {\n",
              "          const element = document.querySelector('#df-c06e3fe9-57e5-424e-9eef-b79cc2407bf2');\n",
              "          const dataTable =\n",
              "            await google.colab.kernel.invokeFunction('convertToInteractive',\n",
              "                                                     [key], {});\n",
              "          if (!dataTable) return;\n",
              "\n",
              "          const docLinkHtml = 'Like what you see? Visit the ' +\n",
              "            '<a target=\"_blank\" href=https://colab.research.google.com/notebooks/data_table.ipynb>data table notebook</a>'\n",
              "            + ' to learn more about interactive tables.';\n",
              "          element.innerHTML = '';\n",
              "          dataTable['output_type'] = 'display_data';\n",
              "          await google.colab.output.renderOutput(dataTable, element);\n",
              "          const docLink = document.createElement('div');\n",
              "          docLink.innerHTML = docLinkHtml;\n",
              "          element.appendChild(docLink);\n",
              "        }\n",
              "      </script>\n",
              "    </div>\n",
              "  </div>\n",
              "  "
            ]
          },
          "metadata": {},
          "execution_count": 15
        }
      ]
    },
    {
      "cell_type": "code",
      "source": [
        "df.info()"
      ],
      "metadata": {
        "colab": {
          "base_uri": "https://localhost:8080/"
        },
        "id": "pvqzir_kgTZE",
        "outputId": "cbe0cb91-8eaa-4614-8cce-66c7f2f3678e"
      },
      "execution_count": 16,
      "outputs": [
        {
          "output_type": "stream",
          "name": "stdout",
          "text": [
            "<class 'pandas.core.frame.DataFrame'>\n",
            "RangeIndex: 9892 entries, 0 to 9891\n",
            "Data columns (total 12 columns):\n",
            " #   Column                          Non-Null Count  Dtype  \n",
            "---  ------                          --------------  -----  \n",
            " 0   End Year                        9892 non-null   int64  \n",
            " 1   District Code                   9892 non-null   int64  \n",
            " 2   District                        9892 non-null   object \n",
            " 3   School Code                     9892 non-null   int64  \n",
            " 4   School                          9892 non-null   object \n",
            " 5   Proficiency Rate                9892 non-null   int64  \n",
            " 6   KY Rank/Rating                  7673 non-null   object \n",
            " 7   Classification                  4309 non-null   object \n",
            " 8   Reported Spending per student   8637 non-null   float64\n",
            " 9   Money Difference per school     8637 non-null   float64\n",
            " 10  Money Difference per student    8637 non-null   float64\n",
            " 11  Estimated Spending per student  8637 non-null   float64\n",
            "dtypes: float64(4), int64(4), object(4)\n",
            "memory usage: 927.5+ KB\n"
          ]
        }
      ]
    },
    {
      "cell_type": "code",
      "source": [],
      "metadata": {
        "id": "HNLuISOhgTkQ"
      },
      "execution_count": 16,
      "outputs": []
    },
    {
      "cell_type": "code",
      "source": [],
      "metadata": {
        "id": "mC0vzmbCgTmm"
      },
      "execution_count": 16,
      "outputs": []
    },
    {
      "cell_type": "code",
      "source": [],
      "metadata": {
        "id": "3110IaY_gTo8"
      },
      "execution_count": 16,
      "outputs": []
    },
    {
      "cell_type": "markdown",
      "source": [
        "# Predict classification "
      ],
      "metadata": {
        "id": "Nc5nEWiItzSE"
      }
    },
    {
      "cell_type": "code",
      "source": [
        "# from sklearn import preprocessing\n",
        "from sklearn.preprocessing import StandardScaler\n",
        "from sklearn.model_selection import train_test_split"
      ],
      "metadata": {
        "id": "9v137r5eYtAL"
      },
      "execution_count": 17,
      "outputs": []
    },
    {
      "cell_type": "code",
      "source": [
        "predict_df = df.copy()"
      ],
      "metadata": {
        "id": "ENpjqqJnyK1j"
      },
      "execution_count": 18,
      "outputs": []
    },
    {
      "cell_type": "code",
      "source": [
        "# In the Ky Rank column, make this common language.\n",
        "predict_df.replace('Very High', 'Distinguished', inplace=True)\n",
        "predict_df.replace('High', 'Distinguished', inplace=True)\n",
        "predict_df.replace('Medium', 'Proficient', inplace=True)\n",
        "predict_df.replace('Low', 'Needs Improvement', inplace=True)\n",
        "predict_df.replace('Very Low', 'Needs Improvement', inplace=True)"
      ],
      "metadata": {
        "id": "byqfg-RBtyBp"
      },
      "execution_count": 19,
      "outputs": []
    },
    {
      "cell_type": "code",
      "source": [
        "predict_df = predict_df.round({'Reported Spending per student': -1, 'Money Difference per school': -2, \n",
        "                               'Money Difference per student':-1, 'Estimated Spending per student': 1})"
      ],
      "metadata": {
        "id": "vCjuxKnHpvDX"
      },
      "execution_count": 20,
      "outputs": []
    },
    {
      "cell_type": "code",
      "source": [
        "def fill_nulls_w_avg(column):\n",
        "  avg_by_school_code = predict_df.groupby(['School Code']).mean()\n",
        "  rows_to_update = predict_df[predict_df[column].isnull()]\n",
        "\n",
        "  for index in rows_to_update.index:\n",
        "    school_code = rows_to_update['School Code'][index]\n",
        "    avg = avg_by_school_code.loc[school_code, column]\n",
        "    predict_df.loc[index, column] = avg"
      ],
      "metadata": {
        "id": "cGT_ncjCjD8b"
      },
      "execution_count": 21,
      "outputs": []
    },
    {
      "cell_type": "code",
      "source": [
        "fill_nulls_w_avg('Reported Spending per student')\n",
        "fill_nulls_w_avg('Money Difference per school')\n",
        "fill_nulls_w_avg('Money Difference per student')\n",
        "fill_nulls_w_avg('Estimated Spending per student')"
      ],
      "metadata": {
        "id": "FXRcdOlCmihb"
      },
      "execution_count": 22,
      "outputs": []
    },
    {
      "cell_type": "code",
      "source": [
        "predict_df"
      ],
      "metadata": {
        "colab": {
          "base_uri": "https://localhost:8080/",
          "height": 973
        },
        "id": "a6KONeftmrS2",
        "outputId": "e95707a3-a987-4a17-fc72-2a6914e2f318"
      },
      "execution_count": 23,
      "outputs": [
        {
          "output_type": "execute_result",
          "data": {
            "text/plain": [
              "      End Year  District Code         District  School Code  \\\n",
              "0         2012              1     Adair County         1010   \n",
              "1         2013              1     Adair County         1010   \n",
              "2         2014              1     Adair County         1010   \n",
              "3         2015              1     Adair County         1010   \n",
              "4         2016              1     Adair County         1010   \n",
              "...        ...            ...              ...          ...   \n",
              "9887      2016            601  Woodford County       601120   \n",
              "9888      2017            601  Woodford County       601120   \n",
              "9889      2018            601  Woodford County       601120   \n",
              "9890      2019            601  Woodford County       601120   \n",
              "9891      2022            601  Woodford County       601120   \n",
              "\n",
              "                           School  Proficiency Rate     KY Rank/Rating  \\\n",
              "0        Adair County High School                55                 57   \n",
              "1        Adair County High School                54                 48   \n",
              "2        Adair County High School                69                 65   \n",
              "3        Adair County High School                71                 73   \n",
              "4        Adair County High School                72         Proficient   \n",
              "...                           ...               ...                ...   \n",
              "9887  Northside Elementary School                60  Needs Improvement   \n",
              "9888  Northside Elementary School                75                NaN   \n",
              "9889  Northside Elementary School                73                NaN   \n",
              "9890  Northside Elementary School                76      Distinguished   \n",
              "9891  Northside Elementary School                68         Proficient   \n",
              "\n",
              "         Classification  Reported Spending per student  \\\n",
              "0     Needs Improvement                       6,460.00   \n",
              "1     Needs Improvement                       6,380.00   \n",
              "2     Needs Improvement                       6,970.00   \n",
              "3            Proficient                       9,490.00   \n",
              "4                   NaN                      10,270.00   \n",
              "...                 ...                            ...   \n",
              "9887                NaN                      12,050.00   \n",
              "9888                NaN                       9,940.00   \n",
              "9889                NaN                      13,640.00   \n",
              "9890                NaN                      11,860.00   \n",
              "9891                NaN                      12,173.75   \n",
              "\n",
              "      Money Difference per school  Money Difference per student  \\\n",
              "0                      -36,400.00                        -50.00   \n",
              "1                      -37,000.00                        -50.00   \n",
              "2                      -13,100.00                        -20.00   \n",
              "3                      -42,100.00                        -60.00   \n",
              "4                      -19,200.00                        -20.00   \n",
              "...                           ...                           ...   \n",
              "9887                    34,000.00                        110.00   \n",
              "9888                    17,400.00                         50.00   \n",
              "9889                    51,800.00                        150.00   \n",
              "9890                    48,400.00                        140.00   \n",
              "9891                    47,887.50                        151.25   \n",
              "\n",
              "      Estimated Spending per student  \n",
              "0                           6,405.00  \n",
              "1                           6,328.00  \n",
              "2                           6,952.00  \n",
              "3                           9,431.00  \n",
              "4                          10,245.00  \n",
              "...                              ...  \n",
              "9887                       12,153.00  \n",
              "9888                        9,993.00  \n",
              "9889                       13,791.00  \n",
              "9890                       12,007.00  \n",
              "9891                       12,324.50  \n",
              "\n",
              "[9892 rows x 12 columns]"
            ],
            "text/html": [
              "\n",
              "  <div id=\"df-4d6b64fe-ac1e-44ea-87d3-ad9f5cda6073\">\n",
              "    <div class=\"colab-df-container\">\n",
              "      <div>\n",
              "<style scoped>\n",
              "    .dataframe tbody tr th:only-of-type {\n",
              "        vertical-align: middle;\n",
              "    }\n",
              "\n",
              "    .dataframe tbody tr th {\n",
              "        vertical-align: top;\n",
              "    }\n",
              "\n",
              "    .dataframe thead th {\n",
              "        text-align: right;\n",
              "    }\n",
              "</style>\n",
              "<table border=\"1\" class=\"dataframe\">\n",
              "  <thead>\n",
              "    <tr style=\"text-align: right;\">\n",
              "      <th></th>\n",
              "      <th>End Year</th>\n",
              "      <th>District Code</th>\n",
              "      <th>District</th>\n",
              "      <th>School Code</th>\n",
              "      <th>School</th>\n",
              "      <th>Proficiency Rate</th>\n",
              "      <th>KY Rank/Rating</th>\n",
              "      <th>Classification</th>\n",
              "      <th>Reported Spending per student</th>\n",
              "      <th>Money Difference per school</th>\n",
              "      <th>Money Difference per student</th>\n",
              "      <th>Estimated Spending per student</th>\n",
              "    </tr>\n",
              "  </thead>\n",
              "  <tbody>\n",
              "    <tr>\n",
              "      <th>0</th>\n",
              "      <td>2012</td>\n",
              "      <td>1</td>\n",
              "      <td>Adair County</td>\n",
              "      <td>1010</td>\n",
              "      <td>Adair County High School</td>\n",
              "      <td>55</td>\n",
              "      <td>57</td>\n",
              "      <td>Needs Improvement</td>\n",
              "      <td>6,460.00</td>\n",
              "      <td>-36,400.00</td>\n",
              "      <td>-50.00</td>\n",
              "      <td>6,405.00</td>\n",
              "    </tr>\n",
              "    <tr>\n",
              "      <th>1</th>\n",
              "      <td>2013</td>\n",
              "      <td>1</td>\n",
              "      <td>Adair County</td>\n",
              "      <td>1010</td>\n",
              "      <td>Adair County High School</td>\n",
              "      <td>54</td>\n",
              "      <td>48</td>\n",
              "      <td>Needs Improvement</td>\n",
              "      <td>6,380.00</td>\n",
              "      <td>-37,000.00</td>\n",
              "      <td>-50.00</td>\n",
              "      <td>6,328.00</td>\n",
              "    </tr>\n",
              "    <tr>\n",
              "      <th>2</th>\n",
              "      <td>2014</td>\n",
              "      <td>1</td>\n",
              "      <td>Adair County</td>\n",
              "      <td>1010</td>\n",
              "      <td>Adair County High School</td>\n",
              "      <td>69</td>\n",
              "      <td>65</td>\n",
              "      <td>Needs Improvement</td>\n",
              "      <td>6,970.00</td>\n",
              "      <td>-13,100.00</td>\n",
              "      <td>-20.00</td>\n",
              "      <td>6,952.00</td>\n",
              "    </tr>\n",
              "    <tr>\n",
              "      <th>3</th>\n",
              "      <td>2015</td>\n",
              "      <td>1</td>\n",
              "      <td>Adair County</td>\n",
              "      <td>1010</td>\n",
              "      <td>Adair County High School</td>\n",
              "      <td>71</td>\n",
              "      <td>73</td>\n",
              "      <td>Proficient</td>\n",
              "      <td>9,490.00</td>\n",
              "      <td>-42,100.00</td>\n",
              "      <td>-60.00</td>\n",
              "      <td>9,431.00</td>\n",
              "    </tr>\n",
              "    <tr>\n",
              "      <th>4</th>\n",
              "      <td>2016</td>\n",
              "      <td>1</td>\n",
              "      <td>Adair County</td>\n",
              "      <td>1010</td>\n",
              "      <td>Adair County High School</td>\n",
              "      <td>72</td>\n",
              "      <td>Proficient</td>\n",
              "      <td>NaN</td>\n",
              "      <td>10,270.00</td>\n",
              "      <td>-19,200.00</td>\n",
              "      <td>-20.00</td>\n",
              "      <td>10,245.00</td>\n",
              "    </tr>\n",
              "    <tr>\n",
              "      <th>...</th>\n",
              "      <td>...</td>\n",
              "      <td>...</td>\n",
              "      <td>...</td>\n",
              "      <td>...</td>\n",
              "      <td>...</td>\n",
              "      <td>...</td>\n",
              "      <td>...</td>\n",
              "      <td>...</td>\n",
              "      <td>...</td>\n",
              "      <td>...</td>\n",
              "      <td>...</td>\n",
              "      <td>...</td>\n",
              "    </tr>\n",
              "    <tr>\n",
              "      <th>9887</th>\n",
              "      <td>2016</td>\n",
              "      <td>601</td>\n",
              "      <td>Woodford County</td>\n",
              "      <td>601120</td>\n",
              "      <td>Northside Elementary School</td>\n",
              "      <td>60</td>\n",
              "      <td>Needs Improvement</td>\n",
              "      <td>NaN</td>\n",
              "      <td>12,050.00</td>\n",
              "      <td>34,000.00</td>\n",
              "      <td>110.00</td>\n",
              "      <td>12,153.00</td>\n",
              "    </tr>\n",
              "    <tr>\n",
              "      <th>9888</th>\n",
              "      <td>2017</td>\n",
              "      <td>601</td>\n",
              "      <td>Woodford County</td>\n",
              "      <td>601120</td>\n",
              "      <td>Northside Elementary School</td>\n",
              "      <td>75</td>\n",
              "      <td>NaN</td>\n",
              "      <td>NaN</td>\n",
              "      <td>9,940.00</td>\n",
              "      <td>17,400.00</td>\n",
              "      <td>50.00</td>\n",
              "      <td>9,993.00</td>\n",
              "    </tr>\n",
              "    <tr>\n",
              "      <th>9889</th>\n",
              "      <td>2018</td>\n",
              "      <td>601</td>\n",
              "      <td>Woodford County</td>\n",
              "      <td>601120</td>\n",
              "      <td>Northside Elementary School</td>\n",
              "      <td>73</td>\n",
              "      <td>NaN</td>\n",
              "      <td>NaN</td>\n",
              "      <td>13,640.00</td>\n",
              "      <td>51,800.00</td>\n",
              "      <td>150.00</td>\n",
              "      <td>13,791.00</td>\n",
              "    </tr>\n",
              "    <tr>\n",
              "      <th>9890</th>\n",
              "      <td>2019</td>\n",
              "      <td>601</td>\n",
              "      <td>Woodford County</td>\n",
              "      <td>601120</td>\n",
              "      <td>Northside Elementary School</td>\n",
              "      <td>76</td>\n",
              "      <td>Distinguished</td>\n",
              "      <td>NaN</td>\n",
              "      <td>11,860.00</td>\n",
              "      <td>48,400.00</td>\n",
              "      <td>140.00</td>\n",
              "      <td>12,007.00</td>\n",
              "    </tr>\n",
              "    <tr>\n",
              "      <th>9891</th>\n",
              "      <td>2022</td>\n",
              "      <td>601</td>\n",
              "      <td>Woodford County</td>\n",
              "      <td>601120</td>\n",
              "      <td>Northside Elementary School</td>\n",
              "      <td>68</td>\n",
              "      <td>Proficient</td>\n",
              "      <td>NaN</td>\n",
              "      <td>12,173.75</td>\n",
              "      <td>47,887.50</td>\n",
              "      <td>151.25</td>\n",
              "      <td>12,324.50</td>\n",
              "    </tr>\n",
              "  </tbody>\n",
              "</table>\n",
              "<p>9892 rows × 12 columns</p>\n",
              "</div>\n",
              "      <button class=\"colab-df-convert\" onclick=\"convertToInteractive('df-4d6b64fe-ac1e-44ea-87d3-ad9f5cda6073')\"\n",
              "              title=\"Convert this dataframe to an interactive table.\"\n",
              "              style=\"display:none;\">\n",
              "        \n",
              "  <svg xmlns=\"http://www.w3.org/2000/svg\" height=\"24px\"viewBox=\"0 0 24 24\"\n",
              "       width=\"24px\">\n",
              "    <path d=\"M0 0h24v24H0V0z\" fill=\"none\"/>\n",
              "    <path d=\"M18.56 5.44l.94 2.06.94-2.06 2.06-.94-2.06-.94-.94-2.06-.94 2.06-2.06.94zm-11 1L8.5 8.5l.94-2.06 2.06-.94-2.06-.94L8.5 2.5l-.94 2.06-2.06.94zm10 10l.94 2.06.94-2.06 2.06-.94-2.06-.94-.94-2.06-.94 2.06-2.06.94z\"/><path d=\"M17.41 7.96l-1.37-1.37c-.4-.4-.92-.59-1.43-.59-.52 0-1.04.2-1.43.59L10.3 9.45l-7.72 7.72c-.78.78-.78 2.05 0 2.83L4 21.41c.39.39.9.59 1.41.59.51 0 1.02-.2 1.41-.59l7.78-7.78 2.81-2.81c.8-.78.8-2.07 0-2.86zM5.41 20L4 18.59l7.72-7.72 1.47 1.35L5.41 20z\"/>\n",
              "  </svg>\n",
              "      </button>\n",
              "      \n",
              "  <style>\n",
              "    .colab-df-container {\n",
              "      display:flex;\n",
              "      flex-wrap:wrap;\n",
              "      gap: 12px;\n",
              "    }\n",
              "\n",
              "    .colab-df-convert {\n",
              "      background-color: #E8F0FE;\n",
              "      border: none;\n",
              "      border-radius: 50%;\n",
              "      cursor: pointer;\n",
              "      display: none;\n",
              "      fill: #1967D2;\n",
              "      height: 32px;\n",
              "      padding: 0 0 0 0;\n",
              "      width: 32px;\n",
              "    }\n",
              "\n",
              "    .colab-df-convert:hover {\n",
              "      background-color: #E2EBFA;\n",
              "      box-shadow: 0px 1px 2px rgba(60, 64, 67, 0.3), 0px 1px 3px 1px rgba(60, 64, 67, 0.15);\n",
              "      fill: #174EA6;\n",
              "    }\n",
              "\n",
              "    [theme=dark] .colab-df-convert {\n",
              "      background-color: #3B4455;\n",
              "      fill: #D2E3FC;\n",
              "    }\n",
              "\n",
              "    [theme=dark] .colab-df-convert:hover {\n",
              "      background-color: #434B5C;\n",
              "      box-shadow: 0px 1px 3px 1px rgba(0, 0, 0, 0.15);\n",
              "      filter: drop-shadow(0px 1px 2px rgba(0, 0, 0, 0.3));\n",
              "      fill: #FFFFFF;\n",
              "    }\n",
              "  </style>\n",
              "\n",
              "      <script>\n",
              "        const buttonEl =\n",
              "          document.querySelector('#df-4d6b64fe-ac1e-44ea-87d3-ad9f5cda6073 button.colab-df-convert');\n",
              "        buttonEl.style.display =\n",
              "          google.colab.kernel.accessAllowed ? 'block' : 'none';\n",
              "\n",
              "        async function convertToInteractive(key) {\n",
              "          const element = document.querySelector('#df-4d6b64fe-ac1e-44ea-87d3-ad9f5cda6073');\n",
              "          const dataTable =\n",
              "            await google.colab.kernel.invokeFunction('convertToInteractive',\n",
              "                                                     [key], {});\n",
              "          if (!dataTable) return;\n",
              "\n",
              "          const docLinkHtml = 'Like what you see? Visit the ' +\n",
              "            '<a target=\"_blank\" href=https://colab.research.google.com/notebooks/data_table.ipynb>data table notebook</a>'\n",
              "            + ' to learn more about interactive tables.';\n",
              "          element.innerHTML = '';\n",
              "          dataTable['output_type'] = 'display_data';\n",
              "          await google.colab.output.renderOutput(dataTable, element);\n",
              "          const docLink = document.createElement('div');\n",
              "          docLink.innerHTML = docLinkHtml;\n",
              "          element.appendChild(docLink);\n",
              "        }\n",
              "      </script>\n",
              "    </div>\n",
              "  </div>\n",
              "  "
            ]
          },
          "metadata": {},
          "execution_count": 23
        }
      ]
    },
    {
      "cell_type": "code",
      "source": [
        "predict_df.info()"
      ],
      "metadata": {
        "colab": {
          "base_uri": "https://localhost:8080/"
        },
        "id": "l3Va72JVjD_j",
        "outputId": "6ab33498-a83d-437c-818a-4b4e6664af14"
      },
      "execution_count": 24,
      "outputs": [
        {
          "output_type": "stream",
          "name": "stdout",
          "text": [
            "<class 'pandas.core.frame.DataFrame'>\n",
            "RangeIndex: 9892 entries, 0 to 9891\n",
            "Data columns (total 12 columns):\n",
            " #   Column                          Non-Null Count  Dtype  \n",
            "---  ------                          --------------  -----  \n",
            " 0   End Year                        9892 non-null   int64  \n",
            " 1   District Code                   9892 non-null   int64  \n",
            " 2   District                        9892 non-null   object \n",
            " 3   School Code                     9892 non-null   int64  \n",
            " 4   School                          9892 non-null   object \n",
            " 5   Proficiency Rate                9892 non-null   int64  \n",
            " 6   KY Rank/Rating                  7673 non-null   object \n",
            " 7   Classification                  4309 non-null   object \n",
            " 8   Reported Spending per student   9879 non-null   float64\n",
            " 9   Money Difference per school     9879 non-null   float64\n",
            " 10  Money Difference per student    9879 non-null   float64\n",
            " 11  Estimated Spending per student  9879 non-null   float64\n",
            "dtypes: float64(4), int64(4), object(4)\n",
            "memory usage: 927.5+ KB\n"
          ]
        }
      ]
    },
    {
      "cell_type": "code",
      "source": [
        "unscaled_df = predict_df[['End Year', 'Proficiency Rate', 'Reported Spending per student', \n",
        "             'Money Difference per school', 'Classification']]"
      ],
      "metadata": {
        "id": "OxHPfwd3Tob7"
      },
      "execution_count": 25,
      "outputs": []
    },
    {
      "cell_type": "code",
      "source": [
        "unscaled_df.dropna(inplace=True) #here\n",
        "unscaled_df.reset_index(drop=True, inplace=True)"
      ],
      "metadata": {
        "id": "JTdatzX5ne4_",
        "colab": {
          "base_uri": "https://localhost:8080/"
        },
        "outputId": "68822526-c244-4adb-f22a-d3e155436528"
      },
      "execution_count": 26,
      "outputs": [
        {
          "output_type": "stream",
          "name": "stderr",
          "text": [
            "/usr/local/lib/python3.8/dist-packages/pandas/util/_decorators.py:311: SettingWithCopyWarning: \n",
            "A value is trying to be set on a copy of a slice from a DataFrame\n",
            "\n",
            "See the caveats in the documentation: https://pandas.pydata.org/pandas-docs/stable/user_guide/indexing.html#returning-a-view-versus-a-copy\n",
            "  return func(*args, **kwargs)\n"
          ]
        }
      ]
    },
    {
      "cell_type": "code",
      "source": [
        "unscaled_df['Classification'] = unscaled_df['Classification'].map({'Distinguished': 0, 'Proficient':1, 'Needs Improvement':2})"
      ],
      "metadata": {
        "id": "vXmUSiiwyQz6",
        "colab": {
          "base_uri": "https://localhost:8080/"
        },
        "outputId": "27597b38-9704-46c1-b516-f31d06df0fc5"
      },
      "execution_count": 27,
      "outputs": [
        {
          "output_type": "stream",
          "name": "stderr",
          "text": [
            "<ipython-input-27-c885bb568317>:1: SettingWithCopyWarning: \n",
            "A value is trying to be set on a copy of a slice from a DataFrame.\n",
            "Try using .loc[row_indexer,col_indexer] = value instead\n",
            "\n",
            "See the caveats in the documentation: https://pandas.pydata.org/pandas-docs/stable/user_guide/indexing.html#returning-a-view-versus-a-copy\n",
            "  unscaled_df['Classification'] = unscaled_df['Classification'].map({'Distinguished': 0, 'Proficient':1, 'Needs Improvement':2})\n"
          ]
        }
      ]
    },
    {
      "cell_type": "code",
      "source": [
        "unscaled_columns = ['End Year', 'Proficiency Rate', 'Reported Spending per student', 'Money Difference per school', 'Classification']\n",
        "\n",
        "for column in unscaled_df.columns:\n",
        "  unscaled_df[column] = unscaled_df[column].astype(np.float32)"
      ],
      "metadata": {
        "id": "rPZaZ4holZyZ",
        "colab": {
          "base_uri": "https://localhost:8080/"
        },
        "outputId": "d2dc0c53-4496-4442-f06e-ec1b30fd9b8e"
      },
      "execution_count": 28,
      "outputs": [
        {
          "output_type": "stream",
          "name": "stderr",
          "text": [
            "<ipython-input-28-f2a71d598106>:4: SettingWithCopyWarning: \n",
            "A value is trying to be set on a copy of a slice from a DataFrame.\n",
            "Try using .loc[row_indexer,col_indexer] = value instead\n",
            "\n",
            "See the caveats in the documentation: https://pandas.pydata.org/pandas-docs/stable/user_guide/indexing.html#returning-a-view-versus-a-copy\n",
            "  unscaled_df[column] = unscaled_df[column].astype(np.float32)\n"
          ]
        }
      ]
    },
    {
      "cell_type": "code",
      "source": [
        "unscaled_df"
      ],
      "metadata": {
        "id": "v0nKKR-4lZ4V",
        "colab": {
          "base_uri": "https://localhost:8080/",
          "height": 485
        },
        "outputId": "52dc0e80-c8ce-4190-e6ee-ab14ee9b8c1d"
      },
      "execution_count": 29,
      "outputs": [
        {
          "output_type": "execute_result",
          "data": {
            "text/plain": [
              "      End Year  Proficiency Rate  Reported Spending per student  \\\n",
              "0     2,012.00             55.00                       6,460.00   \n",
              "1     2,013.00             54.00                       6,380.00   \n",
              "2     2,014.00             69.00                       6,970.00   \n",
              "3     2,015.00             71.00                       9,490.00   \n",
              "4     2,012.00             48.00                       6,720.00   \n",
              "...        ...               ...                            ...   \n",
              "4304  2,015.00             76.00                       9,370.00   \n",
              "4305  2,012.00             64.00                      14,460.00   \n",
              "4306  2,013.00             63.00                      11,970.00   \n",
              "4307  2,014.00             71.00                      11,210.00   \n",
              "4308  2,015.00             70.00                      12,260.00   \n",
              "\n",
              "      Money Difference per school  Classification  \n",
              "0                      -36,400.00            2.00  \n",
              "1                      -37,000.00            2.00  \n",
              "2                      -13,100.00            2.00  \n",
              "3                      -42,100.00            1.00  \n",
              "4                      -55,700.00            2.00  \n",
              "...                           ...             ...  \n",
              "4304                   131,700.00            0.00  \n",
              "4305                    88,700.00            1.00  \n",
              "4306                    66,200.00            1.00  \n",
              "4307                    43,600.00            1.00  \n",
              "4308                    33,000.00            1.00  \n",
              "\n",
              "[4309 rows x 5 columns]"
            ],
            "text/html": [
              "\n",
              "  <div id=\"df-60a4faf1-fb47-4b22-bc31-374606ebcc66\">\n",
              "    <div class=\"colab-df-container\">\n",
              "      <div>\n",
              "<style scoped>\n",
              "    .dataframe tbody tr th:only-of-type {\n",
              "        vertical-align: middle;\n",
              "    }\n",
              "\n",
              "    .dataframe tbody tr th {\n",
              "        vertical-align: top;\n",
              "    }\n",
              "\n",
              "    .dataframe thead th {\n",
              "        text-align: right;\n",
              "    }\n",
              "</style>\n",
              "<table border=\"1\" class=\"dataframe\">\n",
              "  <thead>\n",
              "    <tr style=\"text-align: right;\">\n",
              "      <th></th>\n",
              "      <th>End Year</th>\n",
              "      <th>Proficiency Rate</th>\n",
              "      <th>Reported Spending per student</th>\n",
              "      <th>Money Difference per school</th>\n",
              "      <th>Classification</th>\n",
              "    </tr>\n",
              "  </thead>\n",
              "  <tbody>\n",
              "    <tr>\n",
              "      <th>0</th>\n",
              "      <td>2,012.00</td>\n",
              "      <td>55.00</td>\n",
              "      <td>6,460.00</td>\n",
              "      <td>-36,400.00</td>\n",
              "      <td>2.00</td>\n",
              "    </tr>\n",
              "    <tr>\n",
              "      <th>1</th>\n",
              "      <td>2,013.00</td>\n",
              "      <td>54.00</td>\n",
              "      <td>6,380.00</td>\n",
              "      <td>-37,000.00</td>\n",
              "      <td>2.00</td>\n",
              "    </tr>\n",
              "    <tr>\n",
              "      <th>2</th>\n",
              "      <td>2,014.00</td>\n",
              "      <td>69.00</td>\n",
              "      <td>6,970.00</td>\n",
              "      <td>-13,100.00</td>\n",
              "      <td>2.00</td>\n",
              "    </tr>\n",
              "    <tr>\n",
              "      <th>3</th>\n",
              "      <td>2,015.00</td>\n",
              "      <td>71.00</td>\n",
              "      <td>9,490.00</td>\n",
              "      <td>-42,100.00</td>\n",
              "      <td>1.00</td>\n",
              "    </tr>\n",
              "    <tr>\n",
              "      <th>4</th>\n",
              "      <td>2,012.00</td>\n",
              "      <td>48.00</td>\n",
              "      <td>6,720.00</td>\n",
              "      <td>-55,700.00</td>\n",
              "      <td>2.00</td>\n",
              "    </tr>\n",
              "    <tr>\n",
              "      <th>...</th>\n",
              "      <td>...</td>\n",
              "      <td>...</td>\n",
              "      <td>...</td>\n",
              "      <td>...</td>\n",
              "      <td>...</td>\n",
              "    </tr>\n",
              "    <tr>\n",
              "      <th>4304</th>\n",
              "      <td>2,015.00</td>\n",
              "      <td>76.00</td>\n",
              "      <td>9,370.00</td>\n",
              "      <td>131,700.00</td>\n",
              "      <td>0.00</td>\n",
              "    </tr>\n",
              "    <tr>\n",
              "      <th>4305</th>\n",
              "      <td>2,012.00</td>\n",
              "      <td>64.00</td>\n",
              "      <td>14,460.00</td>\n",
              "      <td>88,700.00</td>\n",
              "      <td>1.00</td>\n",
              "    </tr>\n",
              "    <tr>\n",
              "      <th>4306</th>\n",
              "      <td>2,013.00</td>\n",
              "      <td>63.00</td>\n",
              "      <td>11,970.00</td>\n",
              "      <td>66,200.00</td>\n",
              "      <td>1.00</td>\n",
              "    </tr>\n",
              "    <tr>\n",
              "      <th>4307</th>\n",
              "      <td>2,014.00</td>\n",
              "      <td>71.00</td>\n",
              "      <td>11,210.00</td>\n",
              "      <td>43,600.00</td>\n",
              "      <td>1.00</td>\n",
              "    </tr>\n",
              "    <tr>\n",
              "      <th>4308</th>\n",
              "      <td>2,015.00</td>\n",
              "      <td>70.00</td>\n",
              "      <td>12,260.00</td>\n",
              "      <td>33,000.00</td>\n",
              "      <td>1.00</td>\n",
              "    </tr>\n",
              "  </tbody>\n",
              "</table>\n",
              "<p>4309 rows × 5 columns</p>\n",
              "</div>\n",
              "      <button class=\"colab-df-convert\" onclick=\"convertToInteractive('df-60a4faf1-fb47-4b22-bc31-374606ebcc66')\"\n",
              "              title=\"Convert this dataframe to an interactive table.\"\n",
              "              style=\"display:none;\">\n",
              "        \n",
              "  <svg xmlns=\"http://www.w3.org/2000/svg\" height=\"24px\"viewBox=\"0 0 24 24\"\n",
              "       width=\"24px\">\n",
              "    <path d=\"M0 0h24v24H0V0z\" fill=\"none\"/>\n",
              "    <path d=\"M18.56 5.44l.94 2.06.94-2.06 2.06-.94-2.06-.94-.94-2.06-.94 2.06-2.06.94zm-11 1L8.5 8.5l.94-2.06 2.06-.94-2.06-.94L8.5 2.5l-.94 2.06-2.06.94zm10 10l.94 2.06.94-2.06 2.06-.94-2.06-.94-.94-2.06-.94 2.06-2.06.94z\"/><path d=\"M17.41 7.96l-1.37-1.37c-.4-.4-.92-.59-1.43-.59-.52 0-1.04.2-1.43.59L10.3 9.45l-7.72 7.72c-.78.78-.78 2.05 0 2.83L4 21.41c.39.39.9.59 1.41.59.51 0 1.02-.2 1.41-.59l7.78-7.78 2.81-2.81c.8-.78.8-2.07 0-2.86zM5.41 20L4 18.59l7.72-7.72 1.47 1.35L5.41 20z\"/>\n",
              "  </svg>\n",
              "      </button>\n",
              "      \n",
              "  <style>\n",
              "    .colab-df-container {\n",
              "      display:flex;\n",
              "      flex-wrap:wrap;\n",
              "      gap: 12px;\n",
              "    }\n",
              "\n",
              "    .colab-df-convert {\n",
              "      background-color: #E8F0FE;\n",
              "      border: none;\n",
              "      border-radius: 50%;\n",
              "      cursor: pointer;\n",
              "      display: none;\n",
              "      fill: #1967D2;\n",
              "      height: 32px;\n",
              "      padding: 0 0 0 0;\n",
              "      width: 32px;\n",
              "    }\n",
              "\n",
              "    .colab-df-convert:hover {\n",
              "      background-color: #E2EBFA;\n",
              "      box-shadow: 0px 1px 2px rgba(60, 64, 67, 0.3), 0px 1px 3px 1px rgba(60, 64, 67, 0.15);\n",
              "      fill: #174EA6;\n",
              "    }\n",
              "\n",
              "    [theme=dark] .colab-df-convert {\n",
              "      background-color: #3B4455;\n",
              "      fill: #D2E3FC;\n",
              "    }\n",
              "\n",
              "    [theme=dark] .colab-df-convert:hover {\n",
              "      background-color: #434B5C;\n",
              "      box-shadow: 0px 1px 3px 1px rgba(0, 0, 0, 0.15);\n",
              "      filter: drop-shadow(0px 1px 2px rgba(0, 0, 0, 0.3));\n",
              "      fill: #FFFFFF;\n",
              "    }\n",
              "  </style>\n",
              "\n",
              "      <script>\n",
              "        const buttonEl =\n",
              "          document.querySelector('#df-60a4faf1-fb47-4b22-bc31-374606ebcc66 button.colab-df-convert');\n",
              "        buttonEl.style.display =\n",
              "          google.colab.kernel.accessAllowed ? 'block' : 'none';\n",
              "\n",
              "        async function convertToInteractive(key) {\n",
              "          const element = document.querySelector('#df-60a4faf1-fb47-4b22-bc31-374606ebcc66');\n",
              "          const dataTable =\n",
              "            await google.colab.kernel.invokeFunction('convertToInteractive',\n",
              "                                                     [key], {});\n",
              "          if (!dataTable) return;\n",
              "\n",
              "          const docLinkHtml = 'Like what you see? Visit the ' +\n",
              "            '<a target=\"_blank\" href=https://colab.research.google.com/notebooks/data_table.ipynb>data table notebook</a>'\n",
              "            + ' to learn more about interactive tables.';\n",
              "          element.innerHTML = '';\n",
              "          dataTable['output_type'] = 'display_data';\n",
              "          await google.colab.output.renderOutput(dataTable, element);\n",
              "          const docLink = document.createElement('div');\n",
              "          docLink.innerHTML = docLinkHtml;\n",
              "          element.appendChild(docLink);\n",
              "        }\n",
              "      </script>\n",
              "    </div>\n",
              "  </div>\n",
              "  "
            ]
          },
          "metadata": {},
          "execution_count": 29
        }
      ]
    },
    {
      "cell_type": "code",
      "source": [],
      "metadata": {
        "id": "nq-BAHrjoVOB"
      },
      "execution_count": 29,
      "outputs": []
    },
    {
      "cell_type": "markdown",
      "source": [
        "## Shuffle, Balance, Split, Scale"
      ],
      "metadata": {
        "id": "GxWh9f-BqbvG"
      }
    },
    {
      "cell_type": "code",
      "source": [
        "#Shuffle df\n",
        "unscaled_df = unscaled_df.sample(frac=1, random_state=15)\n",
        "\n",
        "# Save indices\n",
        "#shuffled_indices = unscaled_df.index"
      ],
      "metadata": {
        "id": "OTODCJFaFh2e"
      },
      "execution_count": 30,
      "outputs": []
    },
    {
      "cell_type": "code",
      "source": [
        "unscaled_df['Classification'].value_counts()"
      ],
      "metadata": {
        "colab": {
          "base_uri": "https://localhost:8080/"
        },
        "id": "oRqb9RpZBZPx",
        "outputId": "cbcc6935-0dae-4669-a593-55033d462bee"
      },
      "execution_count": 31,
      "outputs": [
        {
          "output_type": "execute_result",
          "data": {
            "text/plain": [
              "2.00    2408\n",
              "1.00    1108\n",
              "0.00     793\n",
              "Name: Classification, dtype: int64"
            ]
          },
          "metadata": {},
          "execution_count": 31
        }
      ]
    },
    {
      "cell_type": "code",
      "source": [
        "# Balance the data\n",
        "balanced_df = unscaled_df.iloc[0:0]\n",
        "\n",
        "for i in unscaled_df['Classification'].unique():   #unscaled_df.index:\n",
        "  min_target_size = unscaled_df['Classification'].value_counts().min()\n",
        "  #value_target = unscaled_df['Classification'][i]\n",
        "  target_values = unscaled_df[unscaled_df['Classification']==i]  #value_target]\n",
        "  fraction = round(min_target_size / target_values.shape[0], 2)\n",
        "  sample_data = target_values.sample(frac=fraction, random_state=8)\n",
        "  balanced_df = pd.concat([balanced_df, sample_data])\n",
        "\n",
        "# Shuffle the data\n",
        "balanced_df = balanced_df.sample(frac=1, random_state=3)"
      ],
      "metadata": {
        "id": "KQo7n4mMJh_3"
      },
      "execution_count": 32,
      "outputs": []
    },
    {
      "cell_type": "code",
      "source": [
        "# Just in case we need the indices later. \n",
        "\n",
        "#shuffled_indices = balanced_df.index"
      ],
      "metadata": {
        "id": "YL8o3GrEMz5v"
      },
      "execution_count": 33,
      "outputs": []
    },
    {
      "cell_type": "code",
      "source": [
        "balanced_df['Classification'].value_counts()"
      ],
      "metadata": {
        "colab": {
          "base_uri": "https://localhost:8080/"
        },
        "id": "Uo4bpgjhN_hy",
        "outputId": "a65b88b0-c1c9-4a7d-ff77-c0cc4dcc5cc5"
      },
      "execution_count": 34,
      "outputs": [
        {
          "output_type": "execute_result",
          "data": {
            "text/plain": [
              "1.00    798\n",
              "2.00    795\n",
              "0.00    793\n",
              "Name: Classification, dtype: int64"
            ]
          },
          "metadata": {},
          "execution_count": 34
        }
      ]
    },
    {
      "cell_type": "code",
      "source": [
        "balanced_df[balanced_df.isnull().any(axis=1)]"
      ],
      "metadata": {
        "colab": {
          "base_uri": "https://localhost:8080/",
          "height": 111
        },
        "id": "T8cntVx7pmi4",
        "outputId": "5ed5f759-2ee5-4f03-ec63-d3b21bac09d8"
      },
      "execution_count": 35,
      "outputs": [
        {
          "output_type": "execute_result",
          "data": {
            "text/plain": [
              "Empty DataFrame\n",
              "Columns: [End Year, Proficiency Rate, Reported Spending per student, Money Difference per school, Classification]\n",
              "Index: []"
            ],
            "text/html": [
              "\n",
              "  <div id=\"df-019c8acb-23a1-41c5-a49b-e7410e540d1d\">\n",
              "    <div class=\"colab-df-container\">\n",
              "      <div>\n",
              "<style scoped>\n",
              "    .dataframe tbody tr th:only-of-type {\n",
              "        vertical-align: middle;\n",
              "    }\n",
              "\n",
              "    .dataframe tbody tr th {\n",
              "        vertical-align: top;\n",
              "    }\n",
              "\n",
              "    .dataframe thead th {\n",
              "        text-align: right;\n",
              "    }\n",
              "</style>\n",
              "<table border=\"1\" class=\"dataframe\">\n",
              "  <thead>\n",
              "    <tr style=\"text-align: right;\">\n",
              "      <th></th>\n",
              "      <th>End Year</th>\n",
              "      <th>Proficiency Rate</th>\n",
              "      <th>Reported Spending per student</th>\n",
              "      <th>Money Difference per school</th>\n",
              "      <th>Classification</th>\n",
              "    </tr>\n",
              "  </thead>\n",
              "  <tbody>\n",
              "  </tbody>\n",
              "</table>\n",
              "</div>\n",
              "      <button class=\"colab-df-convert\" onclick=\"convertToInteractive('df-019c8acb-23a1-41c5-a49b-e7410e540d1d')\"\n",
              "              title=\"Convert this dataframe to an interactive table.\"\n",
              "              style=\"display:none;\">\n",
              "        \n",
              "  <svg xmlns=\"http://www.w3.org/2000/svg\" height=\"24px\"viewBox=\"0 0 24 24\"\n",
              "       width=\"24px\">\n",
              "    <path d=\"M0 0h24v24H0V0z\" fill=\"none\"/>\n",
              "    <path d=\"M18.56 5.44l.94 2.06.94-2.06 2.06-.94-2.06-.94-.94-2.06-.94 2.06-2.06.94zm-11 1L8.5 8.5l.94-2.06 2.06-.94-2.06-.94L8.5 2.5l-.94 2.06-2.06.94zm10 10l.94 2.06.94-2.06 2.06-.94-2.06-.94-.94-2.06-.94 2.06-2.06.94z\"/><path d=\"M17.41 7.96l-1.37-1.37c-.4-.4-.92-.59-1.43-.59-.52 0-1.04.2-1.43.59L10.3 9.45l-7.72 7.72c-.78.78-.78 2.05 0 2.83L4 21.41c.39.39.9.59 1.41.59.51 0 1.02-.2 1.41-.59l7.78-7.78 2.81-2.81c.8-.78.8-2.07 0-2.86zM5.41 20L4 18.59l7.72-7.72 1.47 1.35L5.41 20z\"/>\n",
              "  </svg>\n",
              "      </button>\n",
              "      \n",
              "  <style>\n",
              "    .colab-df-container {\n",
              "      display:flex;\n",
              "      flex-wrap:wrap;\n",
              "      gap: 12px;\n",
              "    }\n",
              "\n",
              "    .colab-df-convert {\n",
              "      background-color: #E8F0FE;\n",
              "      border: none;\n",
              "      border-radius: 50%;\n",
              "      cursor: pointer;\n",
              "      display: none;\n",
              "      fill: #1967D2;\n",
              "      height: 32px;\n",
              "      padding: 0 0 0 0;\n",
              "      width: 32px;\n",
              "    }\n",
              "\n",
              "    .colab-df-convert:hover {\n",
              "      background-color: #E2EBFA;\n",
              "      box-shadow: 0px 1px 2px rgba(60, 64, 67, 0.3), 0px 1px 3px 1px rgba(60, 64, 67, 0.15);\n",
              "      fill: #174EA6;\n",
              "    }\n",
              "\n",
              "    [theme=dark] .colab-df-convert {\n",
              "      background-color: #3B4455;\n",
              "      fill: #D2E3FC;\n",
              "    }\n",
              "\n",
              "    [theme=dark] .colab-df-convert:hover {\n",
              "      background-color: #434B5C;\n",
              "      box-shadow: 0px 1px 3px 1px rgba(0, 0, 0, 0.15);\n",
              "      filter: drop-shadow(0px 1px 2px rgba(0, 0, 0, 0.3));\n",
              "      fill: #FFFFFF;\n",
              "    }\n",
              "  </style>\n",
              "\n",
              "      <script>\n",
              "        const buttonEl =\n",
              "          document.querySelector('#df-019c8acb-23a1-41c5-a49b-e7410e540d1d button.colab-df-convert');\n",
              "        buttonEl.style.display =\n",
              "          google.colab.kernel.accessAllowed ? 'block' : 'none';\n",
              "\n",
              "        async function convertToInteractive(key) {\n",
              "          const element = document.querySelector('#df-019c8acb-23a1-41c5-a49b-e7410e540d1d');\n",
              "          const dataTable =\n",
              "            await google.colab.kernel.invokeFunction('convertToInteractive',\n",
              "                                                     [key], {});\n",
              "          if (!dataTable) return;\n",
              "\n",
              "          const docLinkHtml = 'Like what you see? Visit the ' +\n",
              "            '<a target=\"_blank\" href=https://colab.research.google.com/notebooks/data_table.ipynb>data table notebook</a>'\n",
              "            + ' to learn more about interactive tables.';\n",
              "          element.innerHTML = '';\n",
              "          dataTable['output_type'] = 'display_data';\n",
              "          await google.colab.output.renderOutput(dataTable, element);\n",
              "          const docLink = document.createElement('div');\n",
              "          docLink.innerHTML = docLinkHtml;\n",
              "          element.appendChild(docLink);\n",
              "        }\n",
              "      </script>\n",
              "    </div>\n",
              "  </div>\n",
              "  "
            ]
          },
          "metadata": {},
          "execution_count": 35
        }
      ]
    },
    {
      "cell_type": "code",
      "source": [
        "balanced_df.columns"
      ],
      "metadata": {
        "colab": {
          "base_uri": "https://localhost:8080/"
        },
        "id": "5Mk5pKgWlilq",
        "outputId": "04ca7460-521f-4410-91d2-f5124676c639"
      },
      "execution_count": 36,
      "outputs": [
        {
          "output_type": "execute_result",
          "data": {
            "text/plain": [
              "Index(['End Year', 'Proficiency Rate', 'Reported Spending per student',\n",
              "       'Money Difference per school', 'Classification'],\n",
              "      dtype='object')"
            ]
          },
          "metadata": {},
          "execution_count": 36
        }
      ]
    },
    {
      "cell_type": "code",
      "source": [
        "unscaled_inputs = balanced_df.values[:,:-1]"
      ],
      "metadata": {
        "id": "b0SLLubKqzxg"
      },
      "execution_count": 37,
      "outputs": []
    },
    {
      "cell_type": "code",
      "source": [
        "targets = balanced_df.values[:,-1]"
      ],
      "metadata": {
        "id": "IP-tneR3qz0o"
      },
      "execution_count": 38,
      "outputs": []
    },
    {
      "cell_type": "code",
      "source": [
        "# Split into training, validation, and test sets\n",
        "\n",
        "unscaled_X_train, unscaled_X_set, y_train, y_set = train_test_split(unscaled_inputs, targets, test_size=0.2, random_state=15)\n",
        "unscaled_X_valid, unscaled_X_test, y_valid, y_test = train_test_split(unscaled_X_set, y_set, test_size=0.5, random_state=13)"
      ],
      "metadata": {
        "id": "gi7cn2ppM4dv"
      },
      "execution_count": 39,
      "outputs": []
    },
    {
      "cell_type": "code",
      "source": [
        "# Scale data\n",
        "\n",
        "epsb_scaler = StandardScaler()\n",
        "\n",
        "# Calculate and store the mean and sd\n",
        "epsb_scaler.fit(unscaled_X_train)\n",
        "\n",
        "# Apply the scaler\n",
        "scaled_X_train = epsb_scaler.transform(unscaled_X_train)\n",
        "scaled_X_valid = epsb_scaler.transform(unscaled_X_valid)\n",
        "scaled_X_test = epsb_scaler.transform(unscaled_X_test)"
      ],
      "metadata": {
        "id": "WAQ-xMkwMz22"
      },
      "execution_count": 40,
      "outputs": []
    },
    {
      "cell_type": "code",
      "source": [
        "scaled_X_train.shape"
      ],
      "metadata": {
        "colab": {
          "base_uri": "https://localhost:8080/"
        },
        "id": "RUTB3WPnM4mU",
        "outputId": "c000c1fc-295e-4d3d-b9fa-a413b13478ab"
      },
      "execution_count": 41,
      "outputs": [
        {
          "output_type": "execute_result",
          "data": {
            "text/plain": [
              "(1908, 4)"
            ]
          },
          "metadata": {},
          "execution_count": 41
        }
      ]
    },
    {
      "cell_type": "code",
      "source": [
        "y_train"
      ],
      "metadata": {
        "colab": {
          "base_uri": "https://localhost:8080/"
        },
        "id": "FdYQwy0jr01b",
        "outputId": "83cb6155-02b0-4f05-af87-7e7abfea34b4"
      },
      "execution_count": 42,
      "outputs": [
        {
          "output_type": "execute_result",
          "data": {
            "text/plain": [
              "array([1., 2., 1., ..., 2., 1., 2.], dtype=float32)"
            ]
          },
          "metadata": {},
          "execution_count": 42
        }
      ]
    },
    {
      "cell_type": "code",
      "source": [
        "scaled_X_valid.shape"
      ],
      "metadata": {
        "colab": {
          "base_uri": "https://localhost:8080/"
        },
        "id": "YEsOUSBQsPQf",
        "outputId": "20e8fd3d-8418-4fa8-8f0f-578e0d331a93"
      },
      "execution_count": 43,
      "outputs": [
        {
          "output_type": "execute_result",
          "data": {
            "text/plain": [
              "(239, 4)"
            ]
          },
          "metadata": {},
          "execution_count": 43
        }
      ]
    },
    {
      "cell_type": "code",
      "source": [
        "y_valid.shape"
      ],
      "metadata": {
        "colab": {
          "base_uri": "https://localhost:8080/"
        },
        "id": "NO_XLr7XsPUH",
        "outputId": "389f0463-08d5-491c-aa95-6c09051d6db5"
      },
      "execution_count": 44,
      "outputs": [
        {
          "output_type": "execute_result",
          "data": {
            "text/plain": [
              "(239,)"
            ]
          },
          "metadata": {},
          "execution_count": 44
        }
      ]
    },
    {
      "cell_type": "code",
      "source": [
        "scaled_X_test.shape"
      ],
      "metadata": {
        "colab": {
          "base_uri": "https://localhost:8080/"
        },
        "id": "XCdZClZNRI_m",
        "outputId": "b391f7f4-6d74-4843-a5c7-36bc28df75ba"
      },
      "execution_count": 45,
      "outputs": [
        {
          "output_type": "execute_result",
          "data": {
            "text/plain": [
              "(239, 4)"
            ]
          },
          "metadata": {},
          "execution_count": 45
        }
      ]
    },
    {
      "cell_type": "code",
      "source": [
        "y_test.shape"
      ],
      "metadata": {
        "colab": {
          "base_uri": "https://localhost:8080/"
        },
        "id": "d6PEs79HsAiU",
        "outputId": "098c7402-4ba6-41ef-a8c6-8e4e921cd856"
      },
      "execution_count": 46,
      "outputs": [
        {
          "output_type": "execute_result",
          "data": {
            "text/plain": [
              "(239,)"
            ]
          },
          "metadata": {},
          "execution_count": 46
        }
      ]
    },
    {
      "cell_type": "code",
      "source": [],
      "metadata": {
        "id": "eFF1xL3DshXJ"
      },
      "execution_count": 46,
      "outputs": []
    },
    {
      "cell_type": "markdown",
      "source": [
        "## Model"
      ],
      "metadata": {
        "id": "22iLAmwjZhWX"
      }
    },
    {
      "cell_type": "code",
      "source": [
        "# Create the model\n",
        "# Ran different rounds of the below model.  Some of the options I put in comments to the right.\n",
        "\n",
        "input_size = 4\n",
        "output_size = 3\n",
        "hidden_layer_size = 15 # for this problem, optimal results were between 10-20 layers\n",
        "\n",
        "model = tf.keras.Sequential([\n",
        "    tf.keras.layers.Dense(hidden_layer_size, activation='tanh'),    # attempted to make this linear, only use the proficency in the input layers, and it only came to 77% valid accuracy or less\n",
        "    tf.keras.layers.Dense(hidden_layer_size, activation='tanh'),\n",
        "    tf.keras.layers.Dense(output_size, activation='softmax') # the sigmoid function made the model decrease in accuracy\n",
        "    ])\n",
        "\n",
        "model.compile(optimizer='adam', loss='sparse_categorical_crossentropy', metrics=['accuracy'])\n"
      ],
      "metadata": {
        "id": "tkeoXJwLGtRf"
      },
      "execution_count": 47,
      "outputs": []
    },
    {
      "cell_type": "code",
      "source": [
        "# Fit the model\n",
        "\n",
        "batch_size = 50  # started with batch size 25\n",
        "max_epochs = 100 # started with 20 epochs\n",
        "\n",
        "early_stopping = tf.keras.callbacks.EarlyStopping(patience=5) # the adam optimizer has a learning rate of 0.001, so I added more patience \n",
        "\n",
        "model.fit(scaled_X_train, \n",
        "          y_train, \n",
        "          batch_size=batch_size,\n",
        "          epochs = max_epochs,\n",
        "          callbacks = [early_stopping],\n",
        "          validation_data = (scaled_X_valid, y_valid),\n",
        "          verbose =2)\n",
        "\n",
        "\n",
        "# Ran rounds using a multi-index of School Code & End Year.  But didn't get above a 78% validation accuracy\n",
        "# Added in the string values from KY rank/rating column, and the model went up to 89.6% validation accuracy\n",
        "\n"
      ],
      "metadata": {
        "colab": {
          "base_uri": "https://localhost:8080/"
        },
        "id": "BG2ubwNvGtW2",
        "outputId": "e019b815-f826-4c6d-8580-5cf655a02786"
      },
      "execution_count": 48,
      "outputs": [
        {
          "output_type": "stream",
          "name": "stdout",
          "text": [
            "Epoch 1/100\n",
            "39/39 - 1s - loss: 1.1260 - accuracy: 0.3590 - val_loss: 1.0089 - val_accuracy: 0.4477 - 965ms/epoch - 25ms/step\n",
            "Epoch 2/100\n",
            "39/39 - 0s - loss: 0.9481 - accuracy: 0.4921 - val_loss: 0.8585 - val_accuracy: 0.6192 - 101ms/epoch - 3ms/step\n",
            "Epoch 3/100\n",
            "39/39 - 0s - loss: 0.8377 - accuracy: 0.6080 - val_loss: 0.7506 - val_accuracy: 0.7280 - 91ms/epoch - 2ms/step\n",
            "Epoch 4/100\n",
            "39/39 - 0s - loss: 0.7503 - accuracy: 0.6766 - val_loss: 0.6652 - val_accuracy: 0.7531 - 88ms/epoch - 2ms/step\n",
            "Epoch 5/100\n",
            "39/39 - 0s - loss: 0.6777 - accuracy: 0.7065 - val_loss: 0.5988 - val_accuracy: 0.7782 - 105ms/epoch - 3ms/step\n",
            "Epoch 6/100\n",
            "39/39 - 0s - loss: 0.6199 - accuracy: 0.7338 - val_loss: 0.5497 - val_accuracy: 0.7950 - 108ms/epoch - 3ms/step\n",
            "Epoch 7/100\n",
            "39/39 - 0s - loss: 0.5762 - accuracy: 0.7558 - val_loss: 0.5112 - val_accuracy: 0.7992 - 83ms/epoch - 2ms/step\n",
            "Epoch 8/100\n",
            "39/39 - 0s - loss: 0.5459 - accuracy: 0.7773 - val_loss: 0.4849 - val_accuracy: 0.8201 - 91ms/epoch - 2ms/step\n",
            "Epoch 9/100\n",
            "39/39 - 0s - loss: 0.5234 - accuracy: 0.7820 - val_loss: 0.4672 - val_accuracy: 0.8201 - 97ms/epoch - 2ms/step\n",
            "Epoch 10/100\n",
            "39/39 - 0s - loss: 0.5085 - accuracy: 0.7846 - val_loss: 0.4548 - val_accuracy: 0.8159 - 91ms/epoch - 2ms/step\n",
            "Epoch 11/100\n",
            "39/39 - 0s - loss: 0.4977 - accuracy: 0.7830 - val_loss: 0.4444 - val_accuracy: 0.8159 - 116ms/epoch - 3ms/step\n",
            "Epoch 12/100\n",
            "39/39 - 0s - loss: 0.4894 - accuracy: 0.7925 - val_loss: 0.4385 - val_accuracy: 0.8201 - 95ms/epoch - 2ms/step\n",
            "Epoch 13/100\n",
            "39/39 - 0s - loss: 0.4834 - accuracy: 0.7961 - val_loss: 0.4301 - val_accuracy: 0.8201 - 99ms/epoch - 3ms/step\n",
            "Epoch 14/100\n",
            "39/39 - 0s - loss: 0.4792 - accuracy: 0.7914 - val_loss: 0.4278 - val_accuracy: 0.8075 - 89ms/epoch - 2ms/step\n",
            "Epoch 15/100\n",
            "39/39 - 0s - loss: 0.4768 - accuracy: 0.7925 - val_loss: 0.4222 - val_accuracy: 0.8159 - 99ms/epoch - 3ms/step\n",
            "Epoch 16/100\n",
            "39/39 - 0s - loss: 0.4736 - accuracy: 0.7930 - val_loss: 0.4220 - val_accuracy: 0.8075 - 87ms/epoch - 2ms/step\n",
            "Epoch 17/100\n",
            "39/39 - 0s - loss: 0.4717 - accuracy: 0.7935 - val_loss: 0.4196 - val_accuracy: 0.7992 - 94ms/epoch - 2ms/step\n",
            "Epoch 18/100\n",
            "39/39 - 0s - loss: 0.4695 - accuracy: 0.7925 - val_loss: 0.4174 - val_accuracy: 0.7992 - 98ms/epoch - 3ms/step\n",
            "Epoch 19/100\n",
            "39/39 - 0s - loss: 0.4691 - accuracy: 0.7940 - val_loss: 0.4179 - val_accuracy: 0.7992 - 96ms/epoch - 2ms/step\n",
            "Epoch 20/100\n",
            "39/39 - 0s - loss: 0.4666 - accuracy: 0.7956 - val_loss: 0.4190 - val_accuracy: 0.7992 - 90ms/epoch - 2ms/step\n",
            "Epoch 21/100\n",
            "39/39 - 0s - loss: 0.4661 - accuracy: 0.7935 - val_loss: 0.4176 - val_accuracy: 0.7992 - 104ms/epoch - 3ms/step\n",
            "Epoch 22/100\n",
            "39/39 - 0s - loss: 0.4648 - accuracy: 0.7888 - val_loss: 0.4125 - val_accuracy: 0.7992 - 87ms/epoch - 2ms/step\n",
            "Epoch 23/100\n",
            "39/39 - 0s - loss: 0.4631 - accuracy: 0.7977 - val_loss: 0.4126 - val_accuracy: 0.7992 - 95ms/epoch - 2ms/step\n",
            "Epoch 24/100\n",
            "39/39 - 0s - loss: 0.4635 - accuracy: 0.7925 - val_loss: 0.4138 - val_accuracy: 0.7950 - 96ms/epoch - 2ms/step\n",
            "Epoch 25/100\n",
            "39/39 - 0s - loss: 0.4615 - accuracy: 0.7945 - val_loss: 0.4128 - val_accuracy: 0.7950 - 101ms/epoch - 3ms/step\n",
            "Epoch 26/100\n",
            "39/39 - 0s - loss: 0.4600 - accuracy: 0.7940 - val_loss: 0.4107 - val_accuracy: 0.7950 - 88ms/epoch - 2ms/step\n",
            "Epoch 27/100\n",
            "39/39 - 0s - loss: 0.4599 - accuracy: 0.7972 - val_loss: 0.4092 - val_accuracy: 0.7992 - 109ms/epoch - 3ms/step\n",
            "Epoch 28/100\n",
            "39/39 - 0s - loss: 0.4580 - accuracy: 0.7919 - val_loss: 0.4081 - val_accuracy: 0.7950 - 145ms/epoch - 4ms/step\n",
            "Epoch 29/100\n",
            "39/39 - 0s - loss: 0.4581 - accuracy: 0.7956 - val_loss: 0.4092 - val_accuracy: 0.7950 - 90ms/epoch - 2ms/step\n",
            "Epoch 30/100\n",
            "39/39 - 0s - loss: 0.4553 - accuracy: 0.7951 - val_loss: 0.4079 - val_accuracy: 0.7992 - 87ms/epoch - 2ms/step\n",
            "Epoch 31/100\n",
            "39/39 - 0s - loss: 0.4545 - accuracy: 0.7961 - val_loss: 0.4072 - val_accuracy: 0.7950 - 122ms/epoch - 3ms/step\n",
            "Epoch 32/100\n",
            "39/39 - 0s - loss: 0.4538 - accuracy: 0.7961 - val_loss: 0.4069 - val_accuracy: 0.7992 - 95ms/epoch - 2ms/step\n",
            "Epoch 33/100\n",
            "39/39 - 0s - loss: 0.4522 - accuracy: 0.7966 - val_loss: 0.4031 - val_accuracy: 0.8033 - 98ms/epoch - 3ms/step\n",
            "Epoch 34/100\n",
            "39/39 - 0s - loss: 0.4500 - accuracy: 0.7951 - val_loss: 0.4070 - val_accuracy: 0.8033 - 87ms/epoch - 2ms/step\n",
            "Epoch 35/100\n",
            "39/39 - 0s - loss: 0.4481 - accuracy: 0.7993 - val_loss: 0.4045 - val_accuracy: 0.8033 - 97ms/epoch - 2ms/step\n",
            "Epoch 36/100\n",
            "39/39 - 0s - loss: 0.4469 - accuracy: 0.7987 - val_loss: 0.4032 - val_accuracy: 0.7992 - 110ms/epoch - 3ms/step\n",
            "Epoch 37/100\n",
            "39/39 - 0s - loss: 0.4449 - accuracy: 0.7998 - val_loss: 0.4031 - val_accuracy: 0.7992 - 91ms/epoch - 2ms/step\n",
            "Epoch 38/100\n",
            "39/39 - 0s - loss: 0.4425 - accuracy: 0.7993 - val_loss: 0.4007 - val_accuracy: 0.8033 - 88ms/epoch - 2ms/step\n",
            "Epoch 39/100\n",
            "39/39 - 0s - loss: 0.4415 - accuracy: 0.8019 - val_loss: 0.4011 - val_accuracy: 0.7992 - 91ms/epoch - 2ms/step\n",
            "Epoch 40/100\n",
            "39/39 - 0s - loss: 0.4401 - accuracy: 0.8040 - val_loss: 0.3967 - val_accuracy: 0.8326 - 98ms/epoch - 3ms/step\n",
            "Epoch 41/100\n",
            "39/39 - 0s - loss: 0.4366 - accuracy: 0.8056 - val_loss: 0.3989 - val_accuracy: 0.8117 - 138ms/epoch - 4ms/step\n",
            "Epoch 42/100\n",
            "39/39 - 0s - loss: 0.4323 - accuracy: 0.8050 - val_loss: 0.3981 - val_accuracy: 0.7992 - 86ms/epoch - 2ms/step\n",
            "Epoch 43/100\n",
            "39/39 - 0s - loss: 0.4299 - accuracy: 0.8071 - val_loss: 0.3972 - val_accuracy: 0.8033 - 100ms/epoch - 3ms/step\n",
            "Epoch 44/100\n",
            "39/39 - 0s - loss: 0.4273 - accuracy: 0.8056 - val_loss: 0.3928 - val_accuracy: 0.8243 - 106ms/epoch - 3ms/step\n",
            "Epoch 45/100\n",
            "39/39 - 0s - loss: 0.4241 - accuracy: 0.8077 - val_loss: 0.3960 - val_accuracy: 0.8201 - 97ms/epoch - 2ms/step\n",
            "Epoch 46/100\n",
            "39/39 - 0s - loss: 0.4213 - accuracy: 0.8097 - val_loss: 0.3870 - val_accuracy: 0.8243 - 112ms/epoch - 3ms/step\n",
            "Epoch 47/100\n",
            "39/39 - 0s - loss: 0.4157 - accuracy: 0.8103 - val_loss: 0.3887 - val_accuracy: 0.8201 - 88ms/epoch - 2ms/step\n",
            "Epoch 48/100\n",
            "39/39 - 0s - loss: 0.4131 - accuracy: 0.8171 - val_loss: 0.3864 - val_accuracy: 0.8243 - 97ms/epoch - 2ms/step\n",
            "Epoch 49/100\n",
            "39/39 - 0s - loss: 0.4084 - accuracy: 0.8160 - val_loss: 0.3799 - val_accuracy: 0.8285 - 86ms/epoch - 2ms/step\n",
            "Epoch 50/100\n",
            "39/39 - 0s - loss: 0.4030 - accuracy: 0.8171 - val_loss: 0.3773 - val_accuracy: 0.8368 - 115ms/epoch - 3ms/step\n",
            "Epoch 51/100\n",
            "39/39 - 0s - loss: 0.3989 - accuracy: 0.8155 - val_loss: 0.3810 - val_accuracy: 0.8243 - 99ms/epoch - 3ms/step\n",
            "Epoch 52/100\n",
            "39/39 - 0s - loss: 0.3942 - accuracy: 0.8260 - val_loss: 0.3706 - val_accuracy: 0.8368 - 90ms/epoch - 2ms/step\n",
            "Epoch 53/100\n",
            "39/39 - 0s - loss: 0.3890 - accuracy: 0.8234 - val_loss: 0.3753 - val_accuracy: 0.8410 - 99ms/epoch - 3ms/step\n",
            "Epoch 54/100\n",
            "39/39 - 0s - loss: 0.3847 - accuracy: 0.8276 - val_loss: 0.3731 - val_accuracy: 0.8285 - 89ms/epoch - 2ms/step\n",
            "Epoch 55/100\n",
            "39/39 - 0s - loss: 0.3803 - accuracy: 0.8286 - val_loss: 0.3653 - val_accuracy: 0.8410 - 100ms/epoch - 3ms/step\n",
            "Epoch 56/100\n",
            "39/39 - 0s - loss: 0.3754 - accuracy: 0.8260 - val_loss: 0.3656 - val_accuracy: 0.8326 - 105ms/epoch - 3ms/step\n",
            "Epoch 57/100\n",
            "39/39 - 0s - loss: 0.3706 - accuracy: 0.8307 - val_loss: 0.3645 - val_accuracy: 0.8368 - 86ms/epoch - 2ms/step\n",
            "Epoch 58/100\n",
            "39/39 - 0s - loss: 0.3682 - accuracy: 0.8297 - val_loss: 0.3635 - val_accuracy: 0.8494 - 93ms/epoch - 2ms/step\n",
            "Epoch 59/100\n",
            "39/39 - 0s - loss: 0.3648 - accuracy: 0.8370 - val_loss: 0.3543 - val_accuracy: 0.8536 - 94ms/epoch - 2ms/step\n",
            "Epoch 60/100\n",
            "39/39 - 0s - loss: 0.3607 - accuracy: 0.8360 - val_loss: 0.3622 - val_accuracy: 0.8368 - 94ms/epoch - 2ms/step\n",
            "Epoch 61/100\n",
            "39/39 - 0s - loss: 0.3563 - accuracy: 0.8307 - val_loss: 0.3552 - val_accuracy: 0.8410 - 106ms/epoch - 3ms/step\n",
            "Epoch 62/100\n",
            "39/39 - 0s - loss: 0.3533 - accuracy: 0.8328 - val_loss: 0.3517 - val_accuracy: 0.8410 - 95ms/epoch - 2ms/step\n",
            "Epoch 63/100\n",
            "39/39 - 0s - loss: 0.3507 - accuracy: 0.8354 - val_loss: 0.3478 - val_accuracy: 0.8410 - 96ms/epoch - 2ms/step\n",
            "Epoch 64/100\n",
            "39/39 - 0s - loss: 0.3489 - accuracy: 0.8344 - val_loss: 0.3525 - val_accuracy: 0.8285 - 94ms/epoch - 2ms/step\n",
            "Epoch 65/100\n",
            "39/39 - 0s - loss: 0.3469 - accuracy: 0.8354 - val_loss: 0.3420 - val_accuracy: 0.8368 - 87ms/epoch - 2ms/step\n",
            "Epoch 66/100\n",
            "39/39 - 0s - loss: 0.3442 - accuracy: 0.8370 - val_loss: 0.3470 - val_accuracy: 0.8243 - 108ms/epoch - 3ms/step\n",
            "Epoch 67/100\n",
            "39/39 - 0s - loss: 0.3439 - accuracy: 0.8360 - val_loss: 0.3484 - val_accuracy: 0.8285 - 93ms/epoch - 2ms/step\n",
            "Epoch 68/100\n",
            "39/39 - 0s - loss: 0.3407 - accuracy: 0.8391 - val_loss: 0.3469 - val_accuracy: 0.8410 - 84ms/epoch - 2ms/step\n",
            "Epoch 69/100\n",
            "39/39 - 0s - loss: 0.3404 - accuracy: 0.8417 - val_loss: 0.3396 - val_accuracy: 0.8368 - 90ms/epoch - 2ms/step\n",
            "Epoch 70/100\n",
            "39/39 - 0s - loss: 0.3374 - accuracy: 0.8412 - val_loss: 0.3508 - val_accuracy: 0.8243 - 98ms/epoch - 3ms/step\n",
            "Epoch 71/100\n",
            "39/39 - 0s - loss: 0.3361 - accuracy: 0.8417 - val_loss: 0.3461 - val_accuracy: 0.8201 - 97ms/epoch - 2ms/step\n",
            "Epoch 72/100\n",
            "39/39 - 0s - loss: 0.3343 - accuracy: 0.8428 - val_loss: 0.3470 - val_accuracy: 0.8243 - 93ms/epoch - 2ms/step\n",
            "Epoch 73/100\n",
            "39/39 - 0s - loss: 0.3330 - accuracy: 0.8449 - val_loss: 0.3425 - val_accuracy: 0.8201 - 97ms/epoch - 2ms/step\n",
            "Epoch 74/100\n",
            "39/39 - 0s - loss: 0.3324 - accuracy: 0.8428 - val_loss: 0.3395 - val_accuracy: 0.8243 - 91ms/epoch - 2ms/step\n",
            "Epoch 75/100\n",
            "39/39 - 0s - loss: 0.3315 - accuracy: 0.8443 - val_loss: 0.3451 - val_accuracy: 0.8285 - 94ms/epoch - 2ms/step\n",
            "Epoch 76/100\n",
            "39/39 - 0s - loss: 0.3301 - accuracy: 0.8417 - val_loss: 0.3435 - val_accuracy: 0.8117 - 106ms/epoch - 3ms/step\n",
            "Epoch 77/100\n",
            "39/39 - 0s - loss: 0.3285 - accuracy: 0.8491 - val_loss: 0.3431 - val_accuracy: 0.8243 - 84ms/epoch - 2ms/step\n",
            "Epoch 78/100\n",
            "39/39 - 0s - loss: 0.3279 - accuracy: 0.8428 - val_loss: 0.3464 - val_accuracy: 0.8201 - 97ms/epoch - 2ms/step\n",
            "Epoch 79/100\n",
            "39/39 - 0s - loss: 0.3270 - accuracy: 0.8459 - val_loss: 0.3429 - val_accuracy: 0.8159 - 101ms/epoch - 3ms/step\n"
          ]
        },
        {
          "output_type": "execute_result",
          "data": {
            "text/plain": [
              "<keras.callbacks.History at 0x7f3e1373e070>"
            ]
          },
          "metadata": {},
          "execution_count": 48
        }
      ]
    },
    {
      "cell_type": "code",
      "source": [
        "# test the model\n",
        "\n",
        "test_loss, test_accuracy = model.evaluate(scaled_X_test, y_test)"
      ],
      "metadata": {
        "colab": {
          "base_uri": "https://localhost:8080/"
        },
        "id": "SvVwCfw1GtZt",
        "outputId": "6306065b-a18f-4728-eecf-b66ec3cf6909"
      },
      "execution_count": 49,
      "outputs": [
        {
          "output_type": "stream",
          "name": "stdout",
          "text": [
            "8/8 [==============================] - 0s 2ms/step - loss: 0.3210 - accuracy: 0.8828\n"
          ]
        }
      ]
    },
    {
      "cell_type": "code",
      "source": [
        "# Print Pretty\n",
        "\n",
        "print('\\nTest loss: {0:.2f}. Test accuracy: {1:.2f}%'.format(test_loss, test_accuracy*100.))"
      ],
      "metadata": {
        "colab": {
          "base_uri": "https://localhost:8080/"
        },
        "id": "zalRGu7N3sq9",
        "outputId": "81ae95d2-360b-4158-b8e2-a0b251f9f26f"
      },
      "execution_count": 50,
      "outputs": [
        {
          "output_type": "stream",
          "name": "stdout",
          "text": [
            "\n",
            "Test loss: 0.32. Test accuracy: 88.28%\n"
          ]
        }
      ]
    },
    {
      "cell_type": "code",
      "source": [
        "# Save model\n",
        "# Test accuracy for the saved model is 87.19%\n",
        "#tf.keras.models.save_model(model, '/content/drive/MyDrive/Colab Data/KY EPSB/model', include_optimizer=True)"
      ],
      "metadata": {
        "id": "c0E9NeLg3swR"
      },
      "execution_count": 51,
      "outputs": []
    },
    {
      "cell_type": "markdown",
      "source": [
        "## Predict Classification using model"
      ],
      "metadata": {
        "id": "fIw4UJzTBLBr"
      }
    },
    {
      "cell_type": "code",
      "source": [
        "# Grab the data that we want to predict\n",
        "inputs = predict_df.loc[:,['End Year', 'Proficiency Rate', 'Reported Spending per student', \n",
        "             'Money Difference per school']]\n",
        "\n",
        "# Convert to np array\n",
        "# scale data\n",
        "inputs = epsb_scaler.transform(inputs.values)\n"
      ],
      "metadata": {
        "id": "SAZjPHwgGtjV"
      },
      "execution_count": 52,
      "outputs": []
    },
    {
      "cell_type": "code",
      "source": [
        "pred_classification = model.predict(inputs)"
      ],
      "metadata": {
        "colab": {
          "base_uri": "https://localhost:8080/"
        },
        "id": "QBIKXHyM3s1J",
        "outputId": "2568a9ad-4769-4601-a8db-9fa788415737"
      },
      "execution_count": 53,
      "outputs": [
        {
          "output_type": "stream",
          "name": "stdout",
          "text": [
            "310/310 [==============================] - 1s 1ms/step\n"
          ]
        }
      ]
    },
    {
      "cell_type": "code",
      "source": [
        "pred_classification.shape"
      ],
      "metadata": {
        "colab": {
          "base_uri": "https://localhost:8080/"
        },
        "id": "8ZFlF95KIchn",
        "outputId": "f7db0a05-574b-4377-cb55-81a92ee0678f"
      },
      "execution_count": 54,
      "outputs": [
        {
          "output_type": "execute_result",
          "data": {
            "text/plain": [
              "(9892, 3)"
            ]
          },
          "metadata": {},
          "execution_count": 54
        }
      ]
    },
    {
      "cell_type": "code",
      "source": [
        "pred_classification"
      ],
      "metadata": {
        "colab": {
          "base_uri": "https://localhost:8080/"
        },
        "id": "v6TrNSRMoElh",
        "outputId": "24f06eeb-4fa3-4f74-de82-d2b4ab12e337"
      },
      "execution_count": 55,
      "outputs": [
        {
          "output_type": "execute_result",
          "data": {
            "text/plain": [
              "array([[6.5071355e-05, 2.1875035e-02, 9.7805983e-01],\n",
              "       [1.1517727e-04, 2.3939809e-02, 9.7594506e-01],\n",
              "       [1.7322358e-02, 7.3107529e-01, 2.5160232e-01],\n",
              "       ...,\n",
              "       [8.9854443e-01, 1.0133552e-01, 1.1998240e-04],\n",
              "       [9.8923886e-01, 1.0754191e-02, 6.9672660e-06],\n",
              "       [7.2617966e-01, 2.7243957e-01, 1.3807534e-03]], dtype=float32)"
            ]
          },
          "metadata": {},
          "execution_count": 55
        }
      ]
    },
    {
      "cell_type": "code",
      "source": [
        "# Convert to a df\n",
        "pred_classification = pd.DataFrame(pred_classification, columns=['Distinguished', 'Proficient', 'Needs Improvement'])"
      ],
      "metadata": {
        "id": "e3ZQCoF7IcnV"
      },
      "execution_count": 56,
      "outputs": []
    },
    {
      "cell_type": "code",
      "source": [
        "# Select the column with the highest percentage\n",
        "pred_classification = pred_classification.idxmax(axis=1)"
      ],
      "metadata": {
        "id": "q0x0Ybs7QUyZ"
      },
      "execution_count": 57,
      "outputs": []
    },
    {
      "cell_type": "code",
      "source": [
        "pred_classification"
      ],
      "metadata": {
        "colab": {
          "base_uri": "https://localhost:8080/"
        },
        "id": "oDIer6XfPkBC",
        "outputId": "3c322c8b-a9ee-41a6-9e1e-a7481fc734a7"
      },
      "execution_count": 58,
      "outputs": [
        {
          "output_type": "execute_result",
          "data": {
            "text/plain": [
              "0       Needs Improvement\n",
              "1       Needs Improvement\n",
              "2              Proficient\n",
              "3              Proficient\n",
              "4           Distinguished\n",
              "              ...        \n",
              "9887    Needs Improvement\n",
              "9888        Distinguished\n",
              "9889        Distinguished\n",
              "9890        Distinguished\n",
              "9891        Distinguished\n",
              "Length: 9892, dtype: object"
            ]
          },
          "metadata": {},
          "execution_count": 58
        }
      ]
    },
    {
      "cell_type": "code",
      "source": [
        "pred_classification.shape"
      ],
      "metadata": {
        "colab": {
          "base_uri": "https://localhost:8080/"
        },
        "id": "346CVAo4dDVR",
        "outputId": "7326a266-b83a-4ddc-e9a0-553c1d869532"
      },
      "execution_count": 59,
      "outputs": [
        {
          "output_type": "execute_result",
          "data": {
            "text/plain": [
              "(9892,)"
            ]
          },
          "metadata": {},
          "execution_count": 59
        }
      ]
    },
    {
      "cell_type": "code",
      "source": [
        "predict_df.index"
      ],
      "metadata": {
        "colab": {
          "base_uri": "https://localhost:8080/"
        },
        "id": "wFFeu4DLIck-",
        "outputId": "12682a42-58c8-4c0f-b145-58367fc3f79e"
      },
      "execution_count": 60,
      "outputs": [
        {
          "output_type": "execute_result",
          "data": {
            "text/plain": [
              "RangeIndex(start=0, stop=9892, step=1)"
            ]
          },
          "metadata": {},
          "execution_count": 60
        }
      ]
    },
    {
      "cell_type": "code",
      "source": [
        "predict_df['Predicted Classification'] = pred_classification"
      ],
      "metadata": {
        "id": "yT9h-_lrWMN8"
      },
      "execution_count": 61,
      "outputs": []
    },
    {
      "cell_type": "code",
      "source": [
        "predict_df['Predicted Classification'].value_counts(dropna=False)"
      ],
      "metadata": {
        "colab": {
          "base_uri": "https://localhost:8080/"
        },
        "id": "dsBIJyNEpXeb",
        "outputId": "48934383-c090-40c7-bc99-051f7acb742e"
      },
      "execution_count": 62,
      "outputs": [
        {
          "output_type": "execute_result",
          "data": {
            "text/plain": [
              "Needs Improvement    4015\n",
              "Distinguished        2983\n",
              "Proficient           2881\n",
              "NaN                    13\n",
              "Name: Predicted Classification, dtype: int64"
            ]
          },
          "metadata": {},
          "execution_count": 62
        }
      ]
    },
    {
      "cell_type": "code",
      "source": [
        "predict_df"
      ],
      "metadata": {
        "colab": {
          "base_uri": "https://localhost:8080/",
          "height": 973
        },
        "id": "XS3Z6Q2Fp0Br",
        "outputId": "500ef66d-2fa7-431c-e4d5-43d5acfd514e"
      },
      "execution_count": 63,
      "outputs": [
        {
          "output_type": "execute_result",
          "data": {
            "text/plain": [
              "      End Year  District Code         District  School Code  \\\n",
              "0         2012              1     Adair County         1010   \n",
              "1         2013              1     Adair County         1010   \n",
              "2         2014              1     Adair County         1010   \n",
              "3         2015              1     Adair County         1010   \n",
              "4         2016              1     Adair County         1010   \n",
              "...        ...            ...              ...          ...   \n",
              "9887      2016            601  Woodford County       601120   \n",
              "9888      2017            601  Woodford County       601120   \n",
              "9889      2018            601  Woodford County       601120   \n",
              "9890      2019            601  Woodford County       601120   \n",
              "9891      2022            601  Woodford County       601120   \n",
              "\n",
              "                           School  Proficiency Rate     KY Rank/Rating  \\\n",
              "0        Adair County High School                55                 57   \n",
              "1        Adair County High School                54                 48   \n",
              "2        Adair County High School                69                 65   \n",
              "3        Adair County High School                71                 73   \n",
              "4        Adair County High School                72         Proficient   \n",
              "...                           ...               ...                ...   \n",
              "9887  Northside Elementary School                60  Needs Improvement   \n",
              "9888  Northside Elementary School                75                NaN   \n",
              "9889  Northside Elementary School                73                NaN   \n",
              "9890  Northside Elementary School                76      Distinguished   \n",
              "9891  Northside Elementary School                68         Proficient   \n",
              "\n",
              "         Classification  Reported Spending per student  \\\n",
              "0     Needs Improvement                       6,460.00   \n",
              "1     Needs Improvement                       6,380.00   \n",
              "2     Needs Improvement                       6,970.00   \n",
              "3            Proficient                       9,490.00   \n",
              "4                   NaN                      10,270.00   \n",
              "...                 ...                            ...   \n",
              "9887                NaN                      12,050.00   \n",
              "9888                NaN                       9,940.00   \n",
              "9889                NaN                      13,640.00   \n",
              "9890                NaN                      11,860.00   \n",
              "9891                NaN                      12,173.75   \n",
              "\n",
              "      Money Difference per school  Money Difference per student  \\\n",
              "0                      -36,400.00                        -50.00   \n",
              "1                      -37,000.00                        -50.00   \n",
              "2                      -13,100.00                        -20.00   \n",
              "3                      -42,100.00                        -60.00   \n",
              "4                      -19,200.00                        -20.00   \n",
              "...                           ...                           ...   \n",
              "9887                    34,000.00                        110.00   \n",
              "9888                    17,400.00                         50.00   \n",
              "9889                    51,800.00                        150.00   \n",
              "9890                    48,400.00                        140.00   \n",
              "9891                    47,887.50                        151.25   \n",
              "\n",
              "      Estimated Spending per student Predicted Classification  \n",
              "0                           6,405.00        Needs Improvement  \n",
              "1                           6,328.00        Needs Improvement  \n",
              "2                           6,952.00               Proficient  \n",
              "3                           9,431.00               Proficient  \n",
              "4                          10,245.00            Distinguished  \n",
              "...                              ...                      ...  \n",
              "9887                       12,153.00        Needs Improvement  \n",
              "9888                        9,993.00            Distinguished  \n",
              "9889                       13,791.00            Distinguished  \n",
              "9890                       12,007.00            Distinguished  \n",
              "9891                       12,324.50            Distinguished  \n",
              "\n",
              "[9892 rows x 13 columns]"
            ],
            "text/html": [
              "\n",
              "  <div id=\"df-c20e5ee3-b973-4233-964f-d48dd6636dc9\">\n",
              "    <div class=\"colab-df-container\">\n",
              "      <div>\n",
              "<style scoped>\n",
              "    .dataframe tbody tr th:only-of-type {\n",
              "        vertical-align: middle;\n",
              "    }\n",
              "\n",
              "    .dataframe tbody tr th {\n",
              "        vertical-align: top;\n",
              "    }\n",
              "\n",
              "    .dataframe thead th {\n",
              "        text-align: right;\n",
              "    }\n",
              "</style>\n",
              "<table border=\"1\" class=\"dataframe\">\n",
              "  <thead>\n",
              "    <tr style=\"text-align: right;\">\n",
              "      <th></th>\n",
              "      <th>End Year</th>\n",
              "      <th>District Code</th>\n",
              "      <th>District</th>\n",
              "      <th>School Code</th>\n",
              "      <th>School</th>\n",
              "      <th>Proficiency Rate</th>\n",
              "      <th>KY Rank/Rating</th>\n",
              "      <th>Classification</th>\n",
              "      <th>Reported Spending per student</th>\n",
              "      <th>Money Difference per school</th>\n",
              "      <th>Money Difference per student</th>\n",
              "      <th>Estimated Spending per student</th>\n",
              "      <th>Predicted Classification</th>\n",
              "    </tr>\n",
              "  </thead>\n",
              "  <tbody>\n",
              "    <tr>\n",
              "      <th>0</th>\n",
              "      <td>2012</td>\n",
              "      <td>1</td>\n",
              "      <td>Adair County</td>\n",
              "      <td>1010</td>\n",
              "      <td>Adair County High School</td>\n",
              "      <td>55</td>\n",
              "      <td>57</td>\n",
              "      <td>Needs Improvement</td>\n",
              "      <td>6,460.00</td>\n",
              "      <td>-36,400.00</td>\n",
              "      <td>-50.00</td>\n",
              "      <td>6,405.00</td>\n",
              "      <td>Needs Improvement</td>\n",
              "    </tr>\n",
              "    <tr>\n",
              "      <th>1</th>\n",
              "      <td>2013</td>\n",
              "      <td>1</td>\n",
              "      <td>Adair County</td>\n",
              "      <td>1010</td>\n",
              "      <td>Adair County High School</td>\n",
              "      <td>54</td>\n",
              "      <td>48</td>\n",
              "      <td>Needs Improvement</td>\n",
              "      <td>6,380.00</td>\n",
              "      <td>-37,000.00</td>\n",
              "      <td>-50.00</td>\n",
              "      <td>6,328.00</td>\n",
              "      <td>Needs Improvement</td>\n",
              "    </tr>\n",
              "    <tr>\n",
              "      <th>2</th>\n",
              "      <td>2014</td>\n",
              "      <td>1</td>\n",
              "      <td>Adair County</td>\n",
              "      <td>1010</td>\n",
              "      <td>Adair County High School</td>\n",
              "      <td>69</td>\n",
              "      <td>65</td>\n",
              "      <td>Needs Improvement</td>\n",
              "      <td>6,970.00</td>\n",
              "      <td>-13,100.00</td>\n",
              "      <td>-20.00</td>\n",
              "      <td>6,952.00</td>\n",
              "      <td>Proficient</td>\n",
              "    </tr>\n",
              "    <tr>\n",
              "      <th>3</th>\n",
              "      <td>2015</td>\n",
              "      <td>1</td>\n",
              "      <td>Adair County</td>\n",
              "      <td>1010</td>\n",
              "      <td>Adair County High School</td>\n",
              "      <td>71</td>\n",
              "      <td>73</td>\n",
              "      <td>Proficient</td>\n",
              "      <td>9,490.00</td>\n",
              "      <td>-42,100.00</td>\n",
              "      <td>-60.00</td>\n",
              "      <td>9,431.00</td>\n",
              "      <td>Proficient</td>\n",
              "    </tr>\n",
              "    <tr>\n",
              "      <th>4</th>\n",
              "      <td>2016</td>\n",
              "      <td>1</td>\n",
              "      <td>Adair County</td>\n",
              "      <td>1010</td>\n",
              "      <td>Adair County High School</td>\n",
              "      <td>72</td>\n",
              "      <td>Proficient</td>\n",
              "      <td>NaN</td>\n",
              "      <td>10,270.00</td>\n",
              "      <td>-19,200.00</td>\n",
              "      <td>-20.00</td>\n",
              "      <td>10,245.00</td>\n",
              "      <td>Distinguished</td>\n",
              "    </tr>\n",
              "    <tr>\n",
              "      <th>...</th>\n",
              "      <td>...</td>\n",
              "      <td>...</td>\n",
              "      <td>...</td>\n",
              "      <td>...</td>\n",
              "      <td>...</td>\n",
              "      <td>...</td>\n",
              "      <td>...</td>\n",
              "      <td>...</td>\n",
              "      <td>...</td>\n",
              "      <td>...</td>\n",
              "      <td>...</td>\n",
              "      <td>...</td>\n",
              "      <td>...</td>\n",
              "    </tr>\n",
              "    <tr>\n",
              "      <th>9887</th>\n",
              "      <td>2016</td>\n",
              "      <td>601</td>\n",
              "      <td>Woodford County</td>\n",
              "      <td>601120</td>\n",
              "      <td>Northside Elementary School</td>\n",
              "      <td>60</td>\n",
              "      <td>Needs Improvement</td>\n",
              "      <td>NaN</td>\n",
              "      <td>12,050.00</td>\n",
              "      <td>34,000.00</td>\n",
              "      <td>110.00</td>\n",
              "      <td>12,153.00</td>\n",
              "      <td>Needs Improvement</td>\n",
              "    </tr>\n",
              "    <tr>\n",
              "      <th>9888</th>\n",
              "      <td>2017</td>\n",
              "      <td>601</td>\n",
              "      <td>Woodford County</td>\n",
              "      <td>601120</td>\n",
              "      <td>Northside Elementary School</td>\n",
              "      <td>75</td>\n",
              "      <td>NaN</td>\n",
              "      <td>NaN</td>\n",
              "      <td>9,940.00</td>\n",
              "      <td>17,400.00</td>\n",
              "      <td>50.00</td>\n",
              "      <td>9,993.00</td>\n",
              "      <td>Distinguished</td>\n",
              "    </tr>\n",
              "    <tr>\n",
              "      <th>9889</th>\n",
              "      <td>2018</td>\n",
              "      <td>601</td>\n",
              "      <td>Woodford County</td>\n",
              "      <td>601120</td>\n",
              "      <td>Northside Elementary School</td>\n",
              "      <td>73</td>\n",
              "      <td>NaN</td>\n",
              "      <td>NaN</td>\n",
              "      <td>13,640.00</td>\n",
              "      <td>51,800.00</td>\n",
              "      <td>150.00</td>\n",
              "      <td>13,791.00</td>\n",
              "      <td>Distinguished</td>\n",
              "    </tr>\n",
              "    <tr>\n",
              "      <th>9890</th>\n",
              "      <td>2019</td>\n",
              "      <td>601</td>\n",
              "      <td>Woodford County</td>\n",
              "      <td>601120</td>\n",
              "      <td>Northside Elementary School</td>\n",
              "      <td>76</td>\n",
              "      <td>Distinguished</td>\n",
              "      <td>NaN</td>\n",
              "      <td>11,860.00</td>\n",
              "      <td>48,400.00</td>\n",
              "      <td>140.00</td>\n",
              "      <td>12,007.00</td>\n",
              "      <td>Distinguished</td>\n",
              "    </tr>\n",
              "    <tr>\n",
              "      <th>9891</th>\n",
              "      <td>2022</td>\n",
              "      <td>601</td>\n",
              "      <td>Woodford County</td>\n",
              "      <td>601120</td>\n",
              "      <td>Northside Elementary School</td>\n",
              "      <td>68</td>\n",
              "      <td>Proficient</td>\n",
              "      <td>NaN</td>\n",
              "      <td>12,173.75</td>\n",
              "      <td>47,887.50</td>\n",
              "      <td>151.25</td>\n",
              "      <td>12,324.50</td>\n",
              "      <td>Distinguished</td>\n",
              "    </tr>\n",
              "  </tbody>\n",
              "</table>\n",
              "<p>9892 rows × 13 columns</p>\n",
              "</div>\n",
              "      <button class=\"colab-df-convert\" onclick=\"convertToInteractive('df-c20e5ee3-b973-4233-964f-d48dd6636dc9')\"\n",
              "              title=\"Convert this dataframe to an interactive table.\"\n",
              "              style=\"display:none;\">\n",
              "        \n",
              "  <svg xmlns=\"http://www.w3.org/2000/svg\" height=\"24px\"viewBox=\"0 0 24 24\"\n",
              "       width=\"24px\">\n",
              "    <path d=\"M0 0h24v24H0V0z\" fill=\"none\"/>\n",
              "    <path d=\"M18.56 5.44l.94 2.06.94-2.06 2.06-.94-2.06-.94-.94-2.06-.94 2.06-2.06.94zm-11 1L8.5 8.5l.94-2.06 2.06-.94-2.06-.94L8.5 2.5l-.94 2.06-2.06.94zm10 10l.94 2.06.94-2.06 2.06-.94-2.06-.94-.94-2.06-.94 2.06-2.06.94z\"/><path d=\"M17.41 7.96l-1.37-1.37c-.4-.4-.92-.59-1.43-.59-.52 0-1.04.2-1.43.59L10.3 9.45l-7.72 7.72c-.78.78-.78 2.05 0 2.83L4 21.41c.39.39.9.59 1.41.59.51 0 1.02-.2 1.41-.59l7.78-7.78 2.81-2.81c.8-.78.8-2.07 0-2.86zM5.41 20L4 18.59l7.72-7.72 1.47 1.35L5.41 20z\"/>\n",
              "  </svg>\n",
              "      </button>\n",
              "      \n",
              "  <style>\n",
              "    .colab-df-container {\n",
              "      display:flex;\n",
              "      flex-wrap:wrap;\n",
              "      gap: 12px;\n",
              "    }\n",
              "\n",
              "    .colab-df-convert {\n",
              "      background-color: #E8F0FE;\n",
              "      border: none;\n",
              "      border-radius: 50%;\n",
              "      cursor: pointer;\n",
              "      display: none;\n",
              "      fill: #1967D2;\n",
              "      height: 32px;\n",
              "      padding: 0 0 0 0;\n",
              "      width: 32px;\n",
              "    }\n",
              "\n",
              "    .colab-df-convert:hover {\n",
              "      background-color: #E2EBFA;\n",
              "      box-shadow: 0px 1px 2px rgba(60, 64, 67, 0.3), 0px 1px 3px 1px rgba(60, 64, 67, 0.15);\n",
              "      fill: #174EA6;\n",
              "    }\n",
              "\n",
              "    [theme=dark] .colab-df-convert {\n",
              "      background-color: #3B4455;\n",
              "      fill: #D2E3FC;\n",
              "    }\n",
              "\n",
              "    [theme=dark] .colab-df-convert:hover {\n",
              "      background-color: #434B5C;\n",
              "      box-shadow: 0px 1px 3px 1px rgba(0, 0, 0, 0.15);\n",
              "      filter: drop-shadow(0px 1px 2px rgba(0, 0, 0, 0.3));\n",
              "      fill: #FFFFFF;\n",
              "    }\n",
              "  </style>\n",
              "\n",
              "      <script>\n",
              "        const buttonEl =\n",
              "          document.querySelector('#df-c20e5ee3-b973-4233-964f-d48dd6636dc9 button.colab-df-convert');\n",
              "        buttonEl.style.display =\n",
              "          google.colab.kernel.accessAllowed ? 'block' : 'none';\n",
              "\n",
              "        async function convertToInteractive(key) {\n",
              "          const element = document.querySelector('#df-c20e5ee3-b973-4233-964f-d48dd6636dc9');\n",
              "          const dataTable =\n",
              "            await google.colab.kernel.invokeFunction('convertToInteractive',\n",
              "                                                     [key], {});\n",
              "          if (!dataTable) return;\n",
              "\n",
              "          const docLinkHtml = 'Like what you see? Visit the ' +\n",
              "            '<a target=\"_blank\" href=https://colab.research.google.com/notebooks/data_table.ipynb>data table notebook</a>'\n",
              "            + ' to learn more about interactive tables.';\n",
              "          element.innerHTML = '';\n",
              "          dataTable['output_type'] = 'display_data';\n",
              "          await google.colab.output.renderOutput(dataTable, element);\n",
              "          const docLink = document.createElement('div');\n",
              "          docLink.innerHTML = docLinkHtml;\n",
              "          element.appendChild(docLink);\n",
              "        }\n",
              "      </script>\n",
              "    </div>\n",
              "  </div>\n",
              "  "
            ]
          },
          "metadata": {},
          "execution_count": 63
        }
      ]
    },
    {
      "cell_type": "code",
      "source": [
        "predict_df['Classification'].fillna(predict_df['Predicted Classification'], inplace = True)"
      ],
      "metadata": {
        "id": "h1tbSSBtahJA"
      },
      "execution_count": 64,
      "outputs": []
    },
    {
      "cell_type": "code",
      "source": [
        "predict_df.drop(['KY Rank/Rating', 'Predicted Classification'], axis=1, inplace=True)"
      ],
      "metadata": {
        "id": "Gu3FpG6peJE6"
      },
      "execution_count": 65,
      "outputs": []
    },
    {
      "cell_type": "code",
      "source": [
        "predict_df['Classification'].value_counts()"
      ],
      "metadata": {
        "colab": {
          "base_uri": "https://localhost:8080/"
        },
        "id": "BhHG-rD3ed8L",
        "outputId": "01e3b01d-96e3-4c16-ab1f-d48359b8d63d"
      },
      "execution_count": 66,
      "outputs": [
        {
          "output_type": "execute_result",
          "data": {
            "text/plain": [
              "Needs Improvement    4170\n",
              "Distinguished        2984\n",
              "Proficient           2725\n",
              "Name: Classification, dtype: int64"
            ]
          },
          "metadata": {},
          "execution_count": 66
        }
      ]
    },
    {
      "cell_type": "code",
      "source": [
        "predict_df.corr()['Proficiency Rate'].sort_values()"
      ],
      "metadata": {
        "colab": {
          "base_uri": "https://localhost:8080/"
        },
        "id": "zSahtkRIq_MZ",
        "outputId": "5e17a47b-fad1-4313-a601-b0869daec488"
      },
      "execution_count": 67,
      "outputs": [
        {
          "output_type": "execute_result",
          "data": {
            "text/plain": [
              "Reported Spending per student    -0.05\n",
              "Estimated Spending per student   -0.03\n",
              "School Code                       0.01\n",
              "District Code                     0.01\n",
              "End Year                          0.04\n",
              "Money Difference per student      0.25\n",
              "Money Difference per school       0.27\n",
              "Proficiency Rate                  1.00\n",
              "Name: Proficiency Rate, dtype: float64"
            ]
          },
          "metadata": {},
          "execution_count": 67
        }
      ]
    },
    {
      "cell_type": "code",
      "source": [
        "predict_df['Classification'].value_counts()"
      ],
      "metadata": {
        "colab": {
          "base_uri": "https://localhost:8080/"
        },
        "id": "bIq-Y0DgQU_H",
        "outputId": "38a88ff7-0658-477f-f93a-2789abed6d88"
      },
      "execution_count": 68,
      "outputs": [
        {
          "output_type": "execute_result",
          "data": {
            "text/plain": [
              "Needs Improvement    4170\n",
              "Distinguished        2984\n",
              "Proficient           2725\n",
              "Name: Classification, dtype: int64"
            ]
          },
          "metadata": {},
          "execution_count": 68
        }
      ]
    },
    {
      "cell_type": "code",
      "source": [
        "predict_df[predict_df['School'] == 'Knight Middle']"
      ],
      "metadata": {
        "id": "Hjw8et2XnnUb",
        "outputId": "3a2c363f-c0d0-412b-d24e-2d4c8b5f38ff",
        "colab": {
          "base_uri": "https://localhost:8080/",
          "height": 604
        }
      },
      "execution_count": 69,
      "outputs": [
        {
          "output_type": "execute_result",
          "data": {
            "text/plain": [
              "      End Year  District Code          District  School Code         School  \\\n",
              "5219      2012            275  Jefferson County       275163  Knight Middle   \n",
              "5220      2013            275  Jefferson County       275163  Knight Middle   \n",
              "5221      2014            275  Jefferson County       275163  Knight Middle   \n",
              "5222      2015            275  Jefferson County       275163  Knight Middle   \n",
              "5223      2016            275  Jefferson County       275163  Knight Middle   \n",
              "5224      2017            275  Jefferson County       275163  Knight Middle   \n",
              "5225      2018            275  Jefferson County       275163  Knight Middle   \n",
              "5226      2019            275  Jefferson County       275163  Knight Middle   \n",
              "5227      2022            275  Jefferson County       275163  Knight Middle   \n",
              "\n",
              "      Proficiency Rate     Classification  Reported Spending per student  \\\n",
              "5219                36  Needs Improvement                      10,120.00   \n",
              "5220                34  Needs Improvement                      11,300.00   \n",
              "5221                45  Needs Improvement                      11,850.00   \n",
              "5222                52  Needs Improvement                      10,350.00   \n",
              "5223                53  Needs Improvement                      13,990.00   \n",
              "5224                48  Needs Improvement                      14,970.00   \n",
              "5225                44  Needs Improvement                      16,380.00   \n",
              "5226                48  Needs Improvement                      16,640.00   \n",
              "5227                34  Needs Improvement                      13,200.00   \n",
              "\n",
              "      Money Difference per school  Money Difference per student  \\\n",
              "5219                  -298,300.00                       -690.00   \n",
              "5220                  -274,800.00                       -620.00   \n",
              "5221                  -229,900.00                       -560.00   \n",
              "5222                  -268,100.00                       -640.00   \n",
              "5223                  -246,800.00                       -590.00   \n",
              "5224                  -273,400.00                       -680.00   \n",
              "5225                  -226,500.00                       -520.00   \n",
              "5226                  -304,300.00                       -690.00   \n",
              "5227                  -265,262.50                       -623.75   \n",
              "\n",
              "      Estimated Spending per student  \n",
              "5219                        9,427.00  \n",
              "5220                       10,677.00  \n",
              "5221                       11,289.00  \n",
              "5222                        9,710.00  \n",
              "5223                       13,404.00  \n",
              "5224                       14,296.00  \n",
              "5225                       15,858.00  \n",
              "5226                       15,952.00  \n",
              "5227                       12,576.62  "
            ],
            "text/html": [
              "\n",
              "  <div id=\"df-1a5c3a71-d27e-4338-8364-7e851800ae67\">\n",
              "    <div class=\"colab-df-container\">\n",
              "      <div>\n",
              "<style scoped>\n",
              "    .dataframe tbody tr th:only-of-type {\n",
              "        vertical-align: middle;\n",
              "    }\n",
              "\n",
              "    .dataframe tbody tr th {\n",
              "        vertical-align: top;\n",
              "    }\n",
              "\n",
              "    .dataframe thead th {\n",
              "        text-align: right;\n",
              "    }\n",
              "</style>\n",
              "<table border=\"1\" class=\"dataframe\">\n",
              "  <thead>\n",
              "    <tr style=\"text-align: right;\">\n",
              "      <th></th>\n",
              "      <th>End Year</th>\n",
              "      <th>District Code</th>\n",
              "      <th>District</th>\n",
              "      <th>School Code</th>\n",
              "      <th>School</th>\n",
              "      <th>Proficiency Rate</th>\n",
              "      <th>Classification</th>\n",
              "      <th>Reported Spending per student</th>\n",
              "      <th>Money Difference per school</th>\n",
              "      <th>Money Difference per student</th>\n",
              "      <th>Estimated Spending per student</th>\n",
              "    </tr>\n",
              "  </thead>\n",
              "  <tbody>\n",
              "    <tr>\n",
              "      <th>5219</th>\n",
              "      <td>2012</td>\n",
              "      <td>275</td>\n",
              "      <td>Jefferson County</td>\n",
              "      <td>275163</td>\n",
              "      <td>Knight Middle</td>\n",
              "      <td>36</td>\n",
              "      <td>Needs Improvement</td>\n",
              "      <td>10,120.00</td>\n",
              "      <td>-298,300.00</td>\n",
              "      <td>-690.00</td>\n",
              "      <td>9,427.00</td>\n",
              "    </tr>\n",
              "    <tr>\n",
              "      <th>5220</th>\n",
              "      <td>2013</td>\n",
              "      <td>275</td>\n",
              "      <td>Jefferson County</td>\n",
              "      <td>275163</td>\n",
              "      <td>Knight Middle</td>\n",
              "      <td>34</td>\n",
              "      <td>Needs Improvement</td>\n",
              "      <td>11,300.00</td>\n",
              "      <td>-274,800.00</td>\n",
              "      <td>-620.00</td>\n",
              "      <td>10,677.00</td>\n",
              "    </tr>\n",
              "    <tr>\n",
              "      <th>5221</th>\n",
              "      <td>2014</td>\n",
              "      <td>275</td>\n",
              "      <td>Jefferson County</td>\n",
              "      <td>275163</td>\n",
              "      <td>Knight Middle</td>\n",
              "      <td>45</td>\n",
              "      <td>Needs Improvement</td>\n",
              "      <td>11,850.00</td>\n",
              "      <td>-229,900.00</td>\n",
              "      <td>-560.00</td>\n",
              "      <td>11,289.00</td>\n",
              "    </tr>\n",
              "    <tr>\n",
              "      <th>5222</th>\n",
              "      <td>2015</td>\n",
              "      <td>275</td>\n",
              "      <td>Jefferson County</td>\n",
              "      <td>275163</td>\n",
              "      <td>Knight Middle</td>\n",
              "      <td>52</td>\n",
              "      <td>Needs Improvement</td>\n",
              "      <td>10,350.00</td>\n",
              "      <td>-268,100.00</td>\n",
              "      <td>-640.00</td>\n",
              "      <td>9,710.00</td>\n",
              "    </tr>\n",
              "    <tr>\n",
              "      <th>5223</th>\n",
              "      <td>2016</td>\n",
              "      <td>275</td>\n",
              "      <td>Jefferson County</td>\n",
              "      <td>275163</td>\n",
              "      <td>Knight Middle</td>\n",
              "      <td>53</td>\n",
              "      <td>Needs Improvement</td>\n",
              "      <td>13,990.00</td>\n",
              "      <td>-246,800.00</td>\n",
              "      <td>-590.00</td>\n",
              "      <td>13,404.00</td>\n",
              "    </tr>\n",
              "    <tr>\n",
              "      <th>5224</th>\n",
              "      <td>2017</td>\n",
              "      <td>275</td>\n",
              "      <td>Jefferson County</td>\n",
              "      <td>275163</td>\n",
              "      <td>Knight Middle</td>\n",
              "      <td>48</td>\n",
              "      <td>Needs Improvement</td>\n",
              "      <td>14,970.00</td>\n",
              "      <td>-273,400.00</td>\n",
              "      <td>-680.00</td>\n",
              "      <td>14,296.00</td>\n",
              "    </tr>\n",
              "    <tr>\n",
              "      <th>5225</th>\n",
              "      <td>2018</td>\n",
              "      <td>275</td>\n",
              "      <td>Jefferson County</td>\n",
              "      <td>275163</td>\n",
              "      <td>Knight Middle</td>\n",
              "      <td>44</td>\n",
              "      <td>Needs Improvement</td>\n",
              "      <td>16,380.00</td>\n",
              "      <td>-226,500.00</td>\n",
              "      <td>-520.00</td>\n",
              "      <td>15,858.00</td>\n",
              "    </tr>\n",
              "    <tr>\n",
              "      <th>5226</th>\n",
              "      <td>2019</td>\n",
              "      <td>275</td>\n",
              "      <td>Jefferson County</td>\n",
              "      <td>275163</td>\n",
              "      <td>Knight Middle</td>\n",
              "      <td>48</td>\n",
              "      <td>Needs Improvement</td>\n",
              "      <td>16,640.00</td>\n",
              "      <td>-304,300.00</td>\n",
              "      <td>-690.00</td>\n",
              "      <td>15,952.00</td>\n",
              "    </tr>\n",
              "    <tr>\n",
              "      <th>5227</th>\n",
              "      <td>2022</td>\n",
              "      <td>275</td>\n",
              "      <td>Jefferson County</td>\n",
              "      <td>275163</td>\n",
              "      <td>Knight Middle</td>\n",
              "      <td>34</td>\n",
              "      <td>Needs Improvement</td>\n",
              "      <td>13,200.00</td>\n",
              "      <td>-265,262.50</td>\n",
              "      <td>-623.75</td>\n",
              "      <td>12,576.62</td>\n",
              "    </tr>\n",
              "  </tbody>\n",
              "</table>\n",
              "</div>\n",
              "      <button class=\"colab-df-convert\" onclick=\"convertToInteractive('df-1a5c3a71-d27e-4338-8364-7e851800ae67')\"\n",
              "              title=\"Convert this dataframe to an interactive table.\"\n",
              "              style=\"display:none;\">\n",
              "        \n",
              "  <svg xmlns=\"http://www.w3.org/2000/svg\" height=\"24px\"viewBox=\"0 0 24 24\"\n",
              "       width=\"24px\">\n",
              "    <path d=\"M0 0h24v24H0V0z\" fill=\"none\"/>\n",
              "    <path d=\"M18.56 5.44l.94 2.06.94-2.06 2.06-.94-2.06-.94-.94-2.06-.94 2.06-2.06.94zm-11 1L8.5 8.5l.94-2.06 2.06-.94-2.06-.94L8.5 2.5l-.94 2.06-2.06.94zm10 10l.94 2.06.94-2.06 2.06-.94-2.06-.94-.94-2.06-.94 2.06-2.06.94z\"/><path d=\"M17.41 7.96l-1.37-1.37c-.4-.4-.92-.59-1.43-.59-.52 0-1.04.2-1.43.59L10.3 9.45l-7.72 7.72c-.78.78-.78 2.05 0 2.83L4 21.41c.39.39.9.59 1.41.59.51 0 1.02-.2 1.41-.59l7.78-7.78 2.81-2.81c.8-.78.8-2.07 0-2.86zM5.41 20L4 18.59l7.72-7.72 1.47 1.35L5.41 20z\"/>\n",
              "  </svg>\n",
              "      </button>\n",
              "      \n",
              "  <style>\n",
              "    .colab-df-container {\n",
              "      display:flex;\n",
              "      flex-wrap:wrap;\n",
              "      gap: 12px;\n",
              "    }\n",
              "\n",
              "    .colab-df-convert {\n",
              "      background-color: #E8F0FE;\n",
              "      border: none;\n",
              "      border-radius: 50%;\n",
              "      cursor: pointer;\n",
              "      display: none;\n",
              "      fill: #1967D2;\n",
              "      height: 32px;\n",
              "      padding: 0 0 0 0;\n",
              "      width: 32px;\n",
              "    }\n",
              "\n",
              "    .colab-df-convert:hover {\n",
              "      background-color: #E2EBFA;\n",
              "      box-shadow: 0px 1px 2px rgba(60, 64, 67, 0.3), 0px 1px 3px 1px rgba(60, 64, 67, 0.15);\n",
              "      fill: #174EA6;\n",
              "    }\n",
              "\n",
              "    [theme=dark] .colab-df-convert {\n",
              "      background-color: #3B4455;\n",
              "      fill: #D2E3FC;\n",
              "    }\n",
              "\n",
              "    [theme=dark] .colab-df-convert:hover {\n",
              "      background-color: #434B5C;\n",
              "      box-shadow: 0px 1px 3px 1px rgba(0, 0, 0, 0.15);\n",
              "      filter: drop-shadow(0px 1px 2px rgba(0, 0, 0, 0.3));\n",
              "      fill: #FFFFFF;\n",
              "    }\n",
              "  </style>\n",
              "\n",
              "      <script>\n",
              "        const buttonEl =\n",
              "          document.querySelector('#df-1a5c3a71-d27e-4338-8364-7e851800ae67 button.colab-df-convert');\n",
              "        buttonEl.style.display =\n",
              "          google.colab.kernel.accessAllowed ? 'block' : 'none';\n",
              "\n",
              "        async function convertToInteractive(key) {\n",
              "          const element = document.querySelector('#df-1a5c3a71-d27e-4338-8364-7e851800ae67');\n",
              "          const dataTable =\n",
              "            await google.colab.kernel.invokeFunction('convertToInteractive',\n",
              "                                                     [key], {});\n",
              "          if (!dataTable) return;\n",
              "\n",
              "          const docLinkHtml = 'Like what you see? Visit the ' +\n",
              "            '<a target=\"_blank\" href=https://colab.research.google.com/notebooks/data_table.ipynb>data table notebook</a>'\n",
              "            + ' to learn more about interactive tables.';\n",
              "          element.innerHTML = '';\n",
              "          dataTable['output_type'] = 'display_data';\n",
              "          await google.colab.output.renderOutput(dataTable, element);\n",
              "          const docLink = document.createElement('div');\n",
              "          docLink.innerHTML = docLinkHtml;\n",
              "          element.appendChild(docLink);\n",
              "        }\n",
              "      </script>\n",
              "    </div>\n",
              "  </div>\n",
              "  "
            ]
          },
          "metadata": {},
          "execution_count": 69
        }
      ]
    },
    {
      "cell_type": "code",
      "source": [
        "predict_df"
      ],
      "metadata": {
        "id": "b0UZNpBeQVBu",
        "colab": {
          "base_uri": "https://localhost:8080/",
          "height": 973
        },
        "outputId": "38ed0bd1-4437-4977-d41c-dbd5dfe2b31b"
      },
      "execution_count": 70,
      "outputs": [
        {
          "output_type": "execute_result",
          "data": {
            "text/plain": [
              "      End Year  District Code         District  School Code  \\\n",
              "0         2012              1     Adair County         1010   \n",
              "1         2013              1     Adair County         1010   \n",
              "2         2014              1     Adair County         1010   \n",
              "3         2015              1     Adair County         1010   \n",
              "4         2016              1     Adair County         1010   \n",
              "...        ...            ...              ...          ...   \n",
              "9887      2016            601  Woodford County       601120   \n",
              "9888      2017            601  Woodford County       601120   \n",
              "9889      2018            601  Woodford County       601120   \n",
              "9890      2019            601  Woodford County       601120   \n",
              "9891      2022            601  Woodford County       601120   \n",
              "\n",
              "                           School  Proficiency Rate     Classification  \\\n",
              "0        Adair County High School                55  Needs Improvement   \n",
              "1        Adair County High School                54  Needs Improvement   \n",
              "2        Adair County High School                69  Needs Improvement   \n",
              "3        Adair County High School                71         Proficient   \n",
              "4        Adair County High School                72      Distinguished   \n",
              "...                           ...               ...                ...   \n",
              "9887  Northside Elementary School                60  Needs Improvement   \n",
              "9888  Northside Elementary School                75      Distinguished   \n",
              "9889  Northside Elementary School                73      Distinguished   \n",
              "9890  Northside Elementary School                76      Distinguished   \n",
              "9891  Northside Elementary School                68      Distinguished   \n",
              "\n",
              "      Reported Spending per student  Money Difference per school  \\\n",
              "0                          6,460.00                   -36,400.00   \n",
              "1                          6,380.00                   -37,000.00   \n",
              "2                          6,970.00                   -13,100.00   \n",
              "3                          9,490.00                   -42,100.00   \n",
              "4                         10,270.00                   -19,200.00   \n",
              "...                             ...                          ...   \n",
              "9887                      12,050.00                    34,000.00   \n",
              "9888                       9,940.00                    17,400.00   \n",
              "9889                      13,640.00                    51,800.00   \n",
              "9890                      11,860.00                    48,400.00   \n",
              "9891                      12,173.75                    47,887.50   \n",
              "\n",
              "      Money Difference per student  Estimated Spending per student  \n",
              "0                           -50.00                        6,405.00  \n",
              "1                           -50.00                        6,328.00  \n",
              "2                           -20.00                        6,952.00  \n",
              "3                           -60.00                        9,431.00  \n",
              "4                           -20.00                       10,245.00  \n",
              "...                            ...                             ...  \n",
              "9887                        110.00                       12,153.00  \n",
              "9888                         50.00                        9,993.00  \n",
              "9889                        150.00                       13,791.00  \n",
              "9890                        140.00                       12,007.00  \n",
              "9891                        151.25                       12,324.50  \n",
              "\n",
              "[9892 rows x 11 columns]"
            ],
            "text/html": [
              "\n",
              "  <div id=\"df-0448c340-f9c0-437f-880a-991bd4e9c795\">\n",
              "    <div class=\"colab-df-container\">\n",
              "      <div>\n",
              "<style scoped>\n",
              "    .dataframe tbody tr th:only-of-type {\n",
              "        vertical-align: middle;\n",
              "    }\n",
              "\n",
              "    .dataframe tbody tr th {\n",
              "        vertical-align: top;\n",
              "    }\n",
              "\n",
              "    .dataframe thead th {\n",
              "        text-align: right;\n",
              "    }\n",
              "</style>\n",
              "<table border=\"1\" class=\"dataframe\">\n",
              "  <thead>\n",
              "    <tr style=\"text-align: right;\">\n",
              "      <th></th>\n",
              "      <th>End Year</th>\n",
              "      <th>District Code</th>\n",
              "      <th>District</th>\n",
              "      <th>School Code</th>\n",
              "      <th>School</th>\n",
              "      <th>Proficiency Rate</th>\n",
              "      <th>Classification</th>\n",
              "      <th>Reported Spending per student</th>\n",
              "      <th>Money Difference per school</th>\n",
              "      <th>Money Difference per student</th>\n",
              "      <th>Estimated Spending per student</th>\n",
              "    </tr>\n",
              "  </thead>\n",
              "  <tbody>\n",
              "    <tr>\n",
              "      <th>0</th>\n",
              "      <td>2012</td>\n",
              "      <td>1</td>\n",
              "      <td>Adair County</td>\n",
              "      <td>1010</td>\n",
              "      <td>Adair County High School</td>\n",
              "      <td>55</td>\n",
              "      <td>Needs Improvement</td>\n",
              "      <td>6,460.00</td>\n",
              "      <td>-36,400.00</td>\n",
              "      <td>-50.00</td>\n",
              "      <td>6,405.00</td>\n",
              "    </tr>\n",
              "    <tr>\n",
              "      <th>1</th>\n",
              "      <td>2013</td>\n",
              "      <td>1</td>\n",
              "      <td>Adair County</td>\n",
              "      <td>1010</td>\n",
              "      <td>Adair County High School</td>\n",
              "      <td>54</td>\n",
              "      <td>Needs Improvement</td>\n",
              "      <td>6,380.00</td>\n",
              "      <td>-37,000.00</td>\n",
              "      <td>-50.00</td>\n",
              "      <td>6,328.00</td>\n",
              "    </tr>\n",
              "    <tr>\n",
              "      <th>2</th>\n",
              "      <td>2014</td>\n",
              "      <td>1</td>\n",
              "      <td>Adair County</td>\n",
              "      <td>1010</td>\n",
              "      <td>Adair County High School</td>\n",
              "      <td>69</td>\n",
              "      <td>Needs Improvement</td>\n",
              "      <td>6,970.00</td>\n",
              "      <td>-13,100.00</td>\n",
              "      <td>-20.00</td>\n",
              "      <td>6,952.00</td>\n",
              "    </tr>\n",
              "    <tr>\n",
              "      <th>3</th>\n",
              "      <td>2015</td>\n",
              "      <td>1</td>\n",
              "      <td>Adair County</td>\n",
              "      <td>1010</td>\n",
              "      <td>Adair County High School</td>\n",
              "      <td>71</td>\n",
              "      <td>Proficient</td>\n",
              "      <td>9,490.00</td>\n",
              "      <td>-42,100.00</td>\n",
              "      <td>-60.00</td>\n",
              "      <td>9,431.00</td>\n",
              "    </tr>\n",
              "    <tr>\n",
              "      <th>4</th>\n",
              "      <td>2016</td>\n",
              "      <td>1</td>\n",
              "      <td>Adair County</td>\n",
              "      <td>1010</td>\n",
              "      <td>Adair County High School</td>\n",
              "      <td>72</td>\n",
              "      <td>Distinguished</td>\n",
              "      <td>10,270.00</td>\n",
              "      <td>-19,200.00</td>\n",
              "      <td>-20.00</td>\n",
              "      <td>10,245.00</td>\n",
              "    </tr>\n",
              "    <tr>\n",
              "      <th>...</th>\n",
              "      <td>...</td>\n",
              "      <td>...</td>\n",
              "      <td>...</td>\n",
              "      <td>...</td>\n",
              "      <td>...</td>\n",
              "      <td>...</td>\n",
              "      <td>...</td>\n",
              "      <td>...</td>\n",
              "      <td>...</td>\n",
              "      <td>...</td>\n",
              "      <td>...</td>\n",
              "    </tr>\n",
              "    <tr>\n",
              "      <th>9887</th>\n",
              "      <td>2016</td>\n",
              "      <td>601</td>\n",
              "      <td>Woodford County</td>\n",
              "      <td>601120</td>\n",
              "      <td>Northside Elementary School</td>\n",
              "      <td>60</td>\n",
              "      <td>Needs Improvement</td>\n",
              "      <td>12,050.00</td>\n",
              "      <td>34,000.00</td>\n",
              "      <td>110.00</td>\n",
              "      <td>12,153.00</td>\n",
              "    </tr>\n",
              "    <tr>\n",
              "      <th>9888</th>\n",
              "      <td>2017</td>\n",
              "      <td>601</td>\n",
              "      <td>Woodford County</td>\n",
              "      <td>601120</td>\n",
              "      <td>Northside Elementary School</td>\n",
              "      <td>75</td>\n",
              "      <td>Distinguished</td>\n",
              "      <td>9,940.00</td>\n",
              "      <td>17,400.00</td>\n",
              "      <td>50.00</td>\n",
              "      <td>9,993.00</td>\n",
              "    </tr>\n",
              "    <tr>\n",
              "      <th>9889</th>\n",
              "      <td>2018</td>\n",
              "      <td>601</td>\n",
              "      <td>Woodford County</td>\n",
              "      <td>601120</td>\n",
              "      <td>Northside Elementary School</td>\n",
              "      <td>73</td>\n",
              "      <td>Distinguished</td>\n",
              "      <td>13,640.00</td>\n",
              "      <td>51,800.00</td>\n",
              "      <td>150.00</td>\n",
              "      <td>13,791.00</td>\n",
              "    </tr>\n",
              "    <tr>\n",
              "      <th>9890</th>\n",
              "      <td>2019</td>\n",
              "      <td>601</td>\n",
              "      <td>Woodford County</td>\n",
              "      <td>601120</td>\n",
              "      <td>Northside Elementary School</td>\n",
              "      <td>76</td>\n",
              "      <td>Distinguished</td>\n",
              "      <td>11,860.00</td>\n",
              "      <td>48,400.00</td>\n",
              "      <td>140.00</td>\n",
              "      <td>12,007.00</td>\n",
              "    </tr>\n",
              "    <tr>\n",
              "      <th>9891</th>\n",
              "      <td>2022</td>\n",
              "      <td>601</td>\n",
              "      <td>Woodford County</td>\n",
              "      <td>601120</td>\n",
              "      <td>Northside Elementary School</td>\n",
              "      <td>68</td>\n",
              "      <td>Distinguished</td>\n",
              "      <td>12,173.75</td>\n",
              "      <td>47,887.50</td>\n",
              "      <td>151.25</td>\n",
              "      <td>12,324.50</td>\n",
              "    </tr>\n",
              "  </tbody>\n",
              "</table>\n",
              "<p>9892 rows × 11 columns</p>\n",
              "</div>\n",
              "      <button class=\"colab-df-convert\" onclick=\"convertToInteractive('df-0448c340-f9c0-437f-880a-991bd4e9c795')\"\n",
              "              title=\"Convert this dataframe to an interactive table.\"\n",
              "              style=\"display:none;\">\n",
              "        \n",
              "  <svg xmlns=\"http://www.w3.org/2000/svg\" height=\"24px\"viewBox=\"0 0 24 24\"\n",
              "       width=\"24px\">\n",
              "    <path d=\"M0 0h24v24H0V0z\" fill=\"none\"/>\n",
              "    <path d=\"M18.56 5.44l.94 2.06.94-2.06 2.06-.94-2.06-.94-.94-2.06-.94 2.06-2.06.94zm-11 1L8.5 8.5l.94-2.06 2.06-.94-2.06-.94L8.5 2.5l-.94 2.06-2.06.94zm10 10l.94 2.06.94-2.06 2.06-.94-2.06-.94-.94-2.06-.94 2.06-2.06.94z\"/><path d=\"M17.41 7.96l-1.37-1.37c-.4-.4-.92-.59-1.43-.59-.52 0-1.04.2-1.43.59L10.3 9.45l-7.72 7.72c-.78.78-.78 2.05 0 2.83L4 21.41c.39.39.9.59 1.41.59.51 0 1.02-.2 1.41-.59l7.78-7.78 2.81-2.81c.8-.78.8-2.07 0-2.86zM5.41 20L4 18.59l7.72-7.72 1.47 1.35L5.41 20z\"/>\n",
              "  </svg>\n",
              "      </button>\n",
              "      \n",
              "  <style>\n",
              "    .colab-df-container {\n",
              "      display:flex;\n",
              "      flex-wrap:wrap;\n",
              "      gap: 12px;\n",
              "    }\n",
              "\n",
              "    .colab-df-convert {\n",
              "      background-color: #E8F0FE;\n",
              "      border: none;\n",
              "      border-radius: 50%;\n",
              "      cursor: pointer;\n",
              "      display: none;\n",
              "      fill: #1967D2;\n",
              "      height: 32px;\n",
              "      padding: 0 0 0 0;\n",
              "      width: 32px;\n",
              "    }\n",
              "\n",
              "    .colab-df-convert:hover {\n",
              "      background-color: #E2EBFA;\n",
              "      box-shadow: 0px 1px 2px rgba(60, 64, 67, 0.3), 0px 1px 3px 1px rgba(60, 64, 67, 0.15);\n",
              "      fill: #174EA6;\n",
              "    }\n",
              "\n",
              "    [theme=dark] .colab-df-convert {\n",
              "      background-color: #3B4455;\n",
              "      fill: #D2E3FC;\n",
              "    }\n",
              "\n",
              "    [theme=dark] .colab-df-convert:hover {\n",
              "      background-color: #434B5C;\n",
              "      box-shadow: 0px 1px 3px 1px rgba(0, 0, 0, 0.15);\n",
              "      filter: drop-shadow(0px 1px 2px rgba(0, 0, 0, 0.3));\n",
              "      fill: #FFFFFF;\n",
              "    }\n",
              "  </style>\n",
              "\n",
              "      <script>\n",
              "        const buttonEl =\n",
              "          document.querySelector('#df-0448c340-f9c0-437f-880a-991bd4e9c795 button.colab-df-convert');\n",
              "        buttonEl.style.display =\n",
              "          google.colab.kernel.accessAllowed ? 'block' : 'none';\n",
              "\n",
              "        async function convertToInteractive(key) {\n",
              "          const element = document.querySelector('#df-0448c340-f9c0-437f-880a-991bd4e9c795');\n",
              "          const dataTable =\n",
              "            await google.colab.kernel.invokeFunction('convertToInteractive',\n",
              "                                                     [key], {});\n",
              "          if (!dataTable) return;\n",
              "\n",
              "          const docLinkHtml = 'Like what you see? Visit the ' +\n",
              "            '<a target=\"_blank\" href=https://colab.research.google.com/notebooks/data_table.ipynb>data table notebook</a>'\n",
              "            + ' to learn more about interactive tables.';\n",
              "          element.innerHTML = '';\n",
              "          dataTable['output_type'] = 'display_data';\n",
              "          await google.colab.output.renderOutput(dataTable, element);\n",
              "          const docLink = document.createElement('div');\n",
              "          docLink.innerHTML = docLinkHtml;\n",
              "          element.appendChild(docLink);\n",
              "        }\n",
              "      </script>\n",
              "    </div>\n",
              "  </div>\n",
              "  "
            ]
          },
          "metadata": {},
          "execution_count": 70
        }
      ]
    },
    {
      "cell_type": "code",
      "source": [
        "predict_df.to_csv('/content/drive/MyDrive/Colab Data/KY EPSB/All Years/predict_df.csv', index = False)"
      ],
      "metadata": {
        "id": "3Ld2ayflXgz_"
      },
      "execution_count": 71,
      "outputs": []
    },
    {
      "cell_type": "markdown",
      "source": [
        "# Most Impacted schools"
      ],
      "metadata": {
        "id": "UbO8I6LSsqr0"
      }
    },
    {
      "cell_type": "code",
      "source": [
        "# This makes us start with the predict_df. \n",
        "\n",
        "published_ky_df = predict_df.copy()"
      ],
      "metadata": {
        "id": "3L2vXWsbl0yr"
      },
      "execution_count": 72,
      "outputs": []
    },
    {
      "cell_type": "code",
      "source": [
        "published_ky_df.index"
      ],
      "metadata": {
        "colab": {
          "base_uri": "https://localhost:8080/"
        },
        "id": "qICrLtHFvTap",
        "outputId": "857d731a-5d2a-45cb-9574-a8a4e49e5e28"
      },
      "execution_count": 73,
      "outputs": [
        {
          "output_type": "execute_result",
          "data": {
            "text/plain": [
              "RangeIndex(start=0, stop=9892, step=1)"
            ]
          },
          "metadata": {},
          "execution_count": 73
        }
      ]
    },
    {
      "cell_type": "markdown",
      "source": [
        "## Top/Bottom Percentile"
      ],
      "metadata": {
        "id": "BsSiCfScQMad"
      }
    },
    {
      "cell_type": "code",
      "source": [
        "# Select value between 0-100. The selected value will be changed to a percent.  Then used to pull the data below. \n",
        "\n",
        "select_percent = 5\n",
        "selected_percentile = (100 - select_percent) / 100"
      ],
      "metadata": {
        "id": "W9q5vElltDPE"
      },
      "execution_count": 74,
      "outputs": []
    },
    {
      "cell_type": "code",
      "source": [
        "published_ky_df[published_ky_df['End Year']==2018].quantile(q=selected_percentile)"
      ],
      "metadata": {
        "colab": {
          "base_uri": "https://localhost:8080/"
        },
        "id": "DB7Cj4sHvTkA",
        "outputId": "8031b6dc-edd0-4a35-b54d-26807d2c84e9"
      },
      "execution_count": 75,
      "outputs": [
        {
          "output_type": "execute_result",
          "data": {
            "text/plain": [
              "End Year                           2,018.00\n",
              "District Code                        571.00\n",
              "School Code                      571,009.65\n",
              "Proficiency Rate                      91.00\n",
              "Reported Spending per student     21,874.00\n",
              "Money Difference per school      175,780.00\n",
              "Money Difference per student         309.50\n",
              "Estimated Spending per student    21,939.65\n",
              "Name: 0.95, dtype: float64"
            ]
          },
          "metadata": {},
          "execution_count": 75
        }
      ]
    },
    {
      "cell_type": "code",
      "source": [
        "# Creates / Resets df\n",
        "highly_impacted_schools = published_ky_df.iloc[0:0,:]\n",
        "\n",
        "# Append highest/lowest pctl to df based on the year\n",
        "for i in published_ky_df.index:\n",
        "  year = published_ky_df['End Year'][i]\n",
        "  highest_pctl = published_ky_df[published_ky_df['End Year']==year].quantile(q=selected_percentile)\n",
        "  lowest_pctl = published_ky_df[published_ky_df['End Year']==year].quantile(q=(1-selected_percentile))\n",
        "\n",
        "  if published_ky_df['Money Difference per school'][i] > highest_pctl['Money Difference per school'] or published_ky_df['Money Difference per school'][i] < lowest_pctl['Money Difference per school']:\n",
        "    highly_impacted_schools = highly_impacted_schools.append(published_ky_df.loc[i,])\n",
        "  elif published_ky_df['Estimated Spending per student'][i] > highest_pctl['Estimated Spending per student'] or published_ky_df['Estimated Spending per student'][i] < lowest_pctl['Estimated Spending per student']:\n",
        "    highly_impacted_schools = highly_impacted_schools.append(published_ky_df.loc[i,])\n",
        "  elif published_ky_df['Proficiency Rate'][i] > highest_pctl['Proficiency Rate'] or published_ky_df['Proficiency Rate'][i] < lowest_pctl['Proficiency Rate']:\n",
        "    highly_impacted_schools = highly_impacted_schools.append(published_ky_df.loc[i,])\n",
        "\n",
        "# Drop duplicated rows\n",
        "highly_impacted_schools.drop_duplicates(inplace=True)\n",
        "\n",
        "# Reset index\n",
        "highly_impacted_schools.reset_index(drop=True, inplace=True)"
      ],
      "metadata": {
        "id": "vcAsl3gavuUc"
      },
      "execution_count": 76,
      "outputs": []
    },
    {
      "cell_type": "code",
      "source": [
        "# Without including the Proficeny Rate high and low, there were 1941 records, and 701 schools.\n",
        "# Including the proficency rate raises the number of records to 2483 from 817 schools.\n",
        "\n",
        "highly_impacted_schools.info()"
      ],
      "metadata": {
        "id": "gZNrI4vU1rX7",
        "colab": {
          "base_uri": "https://localhost:8080/"
        },
        "outputId": "f6b1c6b8-2546-4892-a74a-1c3ec4233345"
      },
      "execution_count": 77,
      "outputs": [
        {
          "output_type": "stream",
          "name": "stdout",
          "text": [
            "<class 'pandas.core.frame.DataFrame'>\n",
            "RangeIndex: 2446 entries, 0 to 2445\n",
            "Data columns (total 11 columns):\n",
            " #   Column                          Non-Null Count  Dtype  \n",
            "---  ------                          --------------  -----  \n",
            " 0   End Year                        2446 non-null   int64  \n",
            " 1   District Code                   2446 non-null   int64  \n",
            " 2   District                        2446 non-null   object \n",
            " 3   School Code                     2446 non-null   int64  \n",
            " 4   School                          2446 non-null   object \n",
            " 5   Proficiency Rate                2446 non-null   int64  \n",
            " 6   Classification                  2446 non-null   object \n",
            " 7   Reported Spending per student   2446 non-null   float64\n",
            " 8   Money Difference per school     2446 non-null   float64\n",
            " 9   Money Difference per student    2446 non-null   float64\n",
            " 10  Estimated Spending per student  2446 non-null   float64\n",
            "dtypes: float64(4), int64(4), object(3)\n",
            "memory usage: 210.3+ KB\n"
          ]
        }
      ]
    },
    {
      "cell_type": "code",
      "source": [
        "highly_impacted_schools.nunique()"
      ],
      "metadata": {
        "id": "5SIThKZF1svK",
        "colab": {
          "base_uri": "https://localhost:8080/"
        },
        "outputId": "771b77ff-f364-494b-b61d-d8b05962c29e"
      },
      "execution_count": 78,
      "outputs": [
        {
          "output_type": "execute_result",
          "data": {
            "text/plain": [
              "End Year                             9\n",
              "District Code                      154\n",
              "District                           154\n",
              "School Code                        736\n",
              "School                             726\n",
              "Proficiency Rate                    88\n",
              "Classification                       3\n",
              "Reported Spending per student     1399\n",
              "Money Difference per school       2016\n",
              "Money Difference per student       396\n",
              "Estimated Spending per student    2252\n",
              "dtype: int64"
            ]
          },
          "metadata": {},
          "execution_count": 78
        }
      ]
    },
    {
      "cell_type": "code",
      "source": [
        "highly_impacted_schools.sort_values(by=['Money Difference per school'], inplace=True)"
      ],
      "metadata": {
        "id": "oIuZ9P5EDVpr"
      },
      "execution_count": 79,
      "outputs": []
    },
    {
      "cell_type": "markdown",
      "source": [
        "## Multiple Years Impacted - Detailed"
      ],
      "metadata": {
        "id": "xpakTgq2e2WC"
      }
    },
    {
      "cell_type": "code",
      "source": [
        "# If school code frequency is >= 5, then they remain.  \n",
        "# Then the rest of their 10 year data is pulled. "
      ],
      "metadata": {
        "id": "2uFz8FcWn7LR"
      },
      "execution_count": 80,
      "outputs": []
    },
    {
      "cell_type": "code",
      "source": [
        "id_freq_schools = highly_impacted_schools.groupby('School Code').count()"
      ],
      "metadata": {
        "id": "4xji5owN1zm1"
      },
      "execution_count": 81,
      "outputs": []
    },
    {
      "cell_type": "code",
      "source": [
        "id_freq_schools"
      ],
      "metadata": {
        "id": "4eDAD7AVOYpS",
        "colab": {
          "base_uri": "https://localhost:8080/",
          "height": 588
        },
        "outputId": "98ad5b9f-8579-4fc9-ec91-a111ef204d21"
      },
      "execution_count": 82,
      "outputs": [
        {
          "output_type": "execute_result",
          "data": {
            "text/plain": [
              "             End Year  District Code  District  School  Proficiency Rate  \\\n",
              "School Code                                                                \n",
              "5010                2              2         2       2                 2   \n",
              "5015                2              2         2       2                 2   \n",
              "5020                3              3         3       3                 3   \n",
              "5060                1              1         1       1                 1   \n",
              "6010                9              9         9       9                 9   \n",
              "...               ...            ...       ...     ...               ...   \n",
              "601050              1              1         1       1                 1   \n",
              "601075              1              1         1       1                 1   \n",
              "601084              1              1         1       1                 1   \n",
              "601090              1              1         1       1                 1   \n",
              "601120              2              2         2       2                 2   \n",
              "\n",
              "             Classification  Reported Spending per student  \\\n",
              "School Code                                                  \n",
              "5010                      2                              2   \n",
              "5015                      2                              2   \n",
              "5020                      3                              3   \n",
              "5060                      1                              1   \n",
              "6010                      9                              9   \n",
              "...                     ...                            ...   \n",
              "601050                    1                              1   \n",
              "601075                    1                              1   \n",
              "601084                    1                              1   \n",
              "601090                    1                              1   \n",
              "601120                    2                              2   \n",
              "\n",
              "             Money Difference per school  Money Difference per student  \\\n",
              "School Code                                                              \n",
              "5010                                   2                             2   \n",
              "5015                                   2                             2   \n",
              "5020                                   3                             3   \n",
              "5060                                   1                             1   \n",
              "6010                                   9                             9   \n",
              "...                                  ...                           ...   \n",
              "601050                                 1                             1   \n",
              "601075                                 1                             1   \n",
              "601084                                 1                             1   \n",
              "601090                                 1                             1   \n",
              "601120                                 2                             2   \n",
              "\n",
              "             Estimated Spending per student  \n",
              "School Code                                  \n",
              "5010                                      2  \n",
              "5015                                      2  \n",
              "5020                                      3  \n",
              "5060                                      1  \n",
              "6010                                      9  \n",
              "...                                     ...  \n",
              "601050                                    1  \n",
              "601075                                    1  \n",
              "601084                                    1  \n",
              "601090                                    1  \n",
              "601120                                    2  \n",
              "\n",
              "[736 rows x 10 columns]"
            ],
            "text/html": [
              "\n",
              "  <div id=\"df-602a538e-7dd1-46b9-8d30-0973e8bd1393\">\n",
              "    <div class=\"colab-df-container\">\n",
              "      <div>\n",
              "<style scoped>\n",
              "    .dataframe tbody tr th:only-of-type {\n",
              "        vertical-align: middle;\n",
              "    }\n",
              "\n",
              "    .dataframe tbody tr th {\n",
              "        vertical-align: top;\n",
              "    }\n",
              "\n",
              "    .dataframe thead th {\n",
              "        text-align: right;\n",
              "    }\n",
              "</style>\n",
              "<table border=\"1\" class=\"dataframe\">\n",
              "  <thead>\n",
              "    <tr style=\"text-align: right;\">\n",
              "      <th></th>\n",
              "      <th>End Year</th>\n",
              "      <th>District Code</th>\n",
              "      <th>District</th>\n",
              "      <th>School</th>\n",
              "      <th>Proficiency Rate</th>\n",
              "      <th>Classification</th>\n",
              "      <th>Reported Spending per student</th>\n",
              "      <th>Money Difference per school</th>\n",
              "      <th>Money Difference per student</th>\n",
              "      <th>Estimated Spending per student</th>\n",
              "    </tr>\n",
              "    <tr>\n",
              "      <th>School Code</th>\n",
              "      <th></th>\n",
              "      <th></th>\n",
              "      <th></th>\n",
              "      <th></th>\n",
              "      <th></th>\n",
              "      <th></th>\n",
              "      <th></th>\n",
              "      <th></th>\n",
              "      <th></th>\n",
              "      <th></th>\n",
              "    </tr>\n",
              "  </thead>\n",
              "  <tbody>\n",
              "    <tr>\n",
              "      <th>5010</th>\n",
              "      <td>2</td>\n",
              "      <td>2</td>\n",
              "      <td>2</td>\n",
              "      <td>2</td>\n",
              "      <td>2</td>\n",
              "      <td>2</td>\n",
              "      <td>2</td>\n",
              "      <td>2</td>\n",
              "      <td>2</td>\n",
              "      <td>2</td>\n",
              "    </tr>\n",
              "    <tr>\n",
              "      <th>5015</th>\n",
              "      <td>2</td>\n",
              "      <td>2</td>\n",
              "      <td>2</td>\n",
              "      <td>2</td>\n",
              "      <td>2</td>\n",
              "      <td>2</td>\n",
              "      <td>2</td>\n",
              "      <td>2</td>\n",
              "      <td>2</td>\n",
              "      <td>2</td>\n",
              "    </tr>\n",
              "    <tr>\n",
              "      <th>5020</th>\n",
              "      <td>3</td>\n",
              "      <td>3</td>\n",
              "      <td>3</td>\n",
              "      <td>3</td>\n",
              "      <td>3</td>\n",
              "      <td>3</td>\n",
              "      <td>3</td>\n",
              "      <td>3</td>\n",
              "      <td>3</td>\n",
              "      <td>3</td>\n",
              "    </tr>\n",
              "    <tr>\n",
              "      <th>5060</th>\n",
              "      <td>1</td>\n",
              "      <td>1</td>\n",
              "      <td>1</td>\n",
              "      <td>1</td>\n",
              "      <td>1</td>\n",
              "      <td>1</td>\n",
              "      <td>1</td>\n",
              "      <td>1</td>\n",
              "      <td>1</td>\n",
              "      <td>1</td>\n",
              "    </tr>\n",
              "    <tr>\n",
              "      <th>6010</th>\n",
              "      <td>9</td>\n",
              "      <td>9</td>\n",
              "      <td>9</td>\n",
              "      <td>9</td>\n",
              "      <td>9</td>\n",
              "      <td>9</td>\n",
              "      <td>9</td>\n",
              "      <td>9</td>\n",
              "      <td>9</td>\n",
              "      <td>9</td>\n",
              "    </tr>\n",
              "    <tr>\n",
              "      <th>...</th>\n",
              "      <td>...</td>\n",
              "      <td>...</td>\n",
              "      <td>...</td>\n",
              "      <td>...</td>\n",
              "      <td>...</td>\n",
              "      <td>...</td>\n",
              "      <td>...</td>\n",
              "      <td>...</td>\n",
              "      <td>...</td>\n",
              "      <td>...</td>\n",
              "    </tr>\n",
              "    <tr>\n",
              "      <th>601050</th>\n",
              "      <td>1</td>\n",
              "      <td>1</td>\n",
              "      <td>1</td>\n",
              "      <td>1</td>\n",
              "      <td>1</td>\n",
              "      <td>1</td>\n",
              "      <td>1</td>\n",
              "      <td>1</td>\n",
              "      <td>1</td>\n",
              "      <td>1</td>\n",
              "    </tr>\n",
              "    <tr>\n",
              "      <th>601075</th>\n",
              "      <td>1</td>\n",
              "      <td>1</td>\n",
              "      <td>1</td>\n",
              "      <td>1</td>\n",
              "      <td>1</td>\n",
              "      <td>1</td>\n",
              "      <td>1</td>\n",
              "      <td>1</td>\n",
              "      <td>1</td>\n",
              "      <td>1</td>\n",
              "    </tr>\n",
              "    <tr>\n",
              "      <th>601084</th>\n",
              "      <td>1</td>\n",
              "      <td>1</td>\n",
              "      <td>1</td>\n",
              "      <td>1</td>\n",
              "      <td>1</td>\n",
              "      <td>1</td>\n",
              "      <td>1</td>\n",
              "      <td>1</td>\n",
              "      <td>1</td>\n",
              "      <td>1</td>\n",
              "    </tr>\n",
              "    <tr>\n",
              "      <th>601090</th>\n",
              "      <td>1</td>\n",
              "      <td>1</td>\n",
              "      <td>1</td>\n",
              "      <td>1</td>\n",
              "      <td>1</td>\n",
              "      <td>1</td>\n",
              "      <td>1</td>\n",
              "      <td>1</td>\n",
              "      <td>1</td>\n",
              "      <td>1</td>\n",
              "    </tr>\n",
              "    <tr>\n",
              "      <th>601120</th>\n",
              "      <td>2</td>\n",
              "      <td>2</td>\n",
              "      <td>2</td>\n",
              "      <td>2</td>\n",
              "      <td>2</td>\n",
              "      <td>2</td>\n",
              "      <td>2</td>\n",
              "      <td>2</td>\n",
              "      <td>2</td>\n",
              "      <td>2</td>\n",
              "    </tr>\n",
              "  </tbody>\n",
              "</table>\n",
              "<p>736 rows × 10 columns</p>\n",
              "</div>\n",
              "      <button class=\"colab-df-convert\" onclick=\"convertToInteractive('df-602a538e-7dd1-46b9-8d30-0973e8bd1393')\"\n",
              "              title=\"Convert this dataframe to an interactive table.\"\n",
              "              style=\"display:none;\">\n",
              "        \n",
              "  <svg xmlns=\"http://www.w3.org/2000/svg\" height=\"24px\"viewBox=\"0 0 24 24\"\n",
              "       width=\"24px\">\n",
              "    <path d=\"M0 0h24v24H0V0z\" fill=\"none\"/>\n",
              "    <path d=\"M18.56 5.44l.94 2.06.94-2.06 2.06-.94-2.06-.94-.94-2.06-.94 2.06-2.06.94zm-11 1L8.5 8.5l.94-2.06 2.06-.94-2.06-.94L8.5 2.5l-.94 2.06-2.06.94zm10 10l.94 2.06.94-2.06 2.06-.94-2.06-.94-.94-2.06-.94 2.06-2.06.94z\"/><path d=\"M17.41 7.96l-1.37-1.37c-.4-.4-.92-.59-1.43-.59-.52 0-1.04.2-1.43.59L10.3 9.45l-7.72 7.72c-.78.78-.78 2.05 0 2.83L4 21.41c.39.39.9.59 1.41.59.51 0 1.02-.2 1.41-.59l7.78-7.78 2.81-2.81c.8-.78.8-2.07 0-2.86zM5.41 20L4 18.59l7.72-7.72 1.47 1.35L5.41 20z\"/>\n",
              "  </svg>\n",
              "      </button>\n",
              "      \n",
              "  <style>\n",
              "    .colab-df-container {\n",
              "      display:flex;\n",
              "      flex-wrap:wrap;\n",
              "      gap: 12px;\n",
              "    }\n",
              "\n",
              "    .colab-df-convert {\n",
              "      background-color: #E8F0FE;\n",
              "      border: none;\n",
              "      border-radius: 50%;\n",
              "      cursor: pointer;\n",
              "      display: none;\n",
              "      fill: #1967D2;\n",
              "      height: 32px;\n",
              "      padding: 0 0 0 0;\n",
              "      width: 32px;\n",
              "    }\n",
              "\n",
              "    .colab-df-convert:hover {\n",
              "      background-color: #E2EBFA;\n",
              "      box-shadow: 0px 1px 2px rgba(60, 64, 67, 0.3), 0px 1px 3px 1px rgba(60, 64, 67, 0.15);\n",
              "      fill: #174EA6;\n",
              "    }\n",
              "\n",
              "    [theme=dark] .colab-df-convert {\n",
              "      background-color: #3B4455;\n",
              "      fill: #D2E3FC;\n",
              "    }\n",
              "\n",
              "    [theme=dark] .colab-df-convert:hover {\n",
              "      background-color: #434B5C;\n",
              "      box-shadow: 0px 1px 3px 1px rgba(0, 0, 0, 0.15);\n",
              "      filter: drop-shadow(0px 1px 2px rgba(0, 0, 0, 0.3));\n",
              "      fill: #FFFFFF;\n",
              "    }\n",
              "  </style>\n",
              "\n",
              "      <script>\n",
              "        const buttonEl =\n",
              "          document.querySelector('#df-602a538e-7dd1-46b9-8d30-0973e8bd1393 button.colab-df-convert');\n",
              "        buttonEl.style.display =\n",
              "          google.colab.kernel.accessAllowed ? 'block' : 'none';\n",
              "\n",
              "        async function convertToInteractive(key) {\n",
              "          const element = document.querySelector('#df-602a538e-7dd1-46b9-8d30-0973e8bd1393');\n",
              "          const dataTable =\n",
              "            await google.colab.kernel.invokeFunction('convertToInteractive',\n",
              "                                                     [key], {});\n",
              "          if (!dataTable) return;\n",
              "\n",
              "          const docLinkHtml = 'Like what you see? Visit the ' +\n",
              "            '<a target=\"_blank\" href=https://colab.research.google.com/notebooks/data_table.ipynb>data table notebook</a>'\n",
              "            + ' to learn more about interactive tables.';\n",
              "          element.innerHTML = '';\n",
              "          dataTable['output_type'] = 'display_data';\n",
              "          await google.colab.output.renderOutput(dataTable, element);\n",
              "          const docLink = document.createElement('div');\n",
              "          docLink.innerHTML = docLinkHtml;\n",
              "          element.appendChild(docLink);\n",
              "        }\n",
              "      </script>\n",
              "    </div>\n",
              "  </div>\n",
              "  "
            ]
          },
          "metadata": {},
          "execution_count": 82
        }
      ]
    },
    {
      "cell_type": "code",
      "source": [
        "sns.countplot(id_freq_schools['End Year'], label='count')"
      ],
      "metadata": {
        "id": "2waB27JSOIcH",
        "colab": {
          "base_uri": "https://localhost:8080/",
          "height": 351
        },
        "outputId": "8ab23e4e-91e8-4079-abaa-120f65a69b1a"
      },
      "execution_count": 83,
      "outputs": [
        {
          "output_type": "stream",
          "name": "stderr",
          "text": [
            "/usr/local/lib/python3.8/dist-packages/seaborn/_decorators.py:36: FutureWarning: Pass the following variable as a keyword arg: x. From version 0.12, the only valid positional argument will be `data`, and passing other arguments without an explicit keyword will result in an error or misinterpretation.\n",
            "  warnings.warn(\n"
          ]
        },
        {
          "output_type": "execute_result",
          "data": {
            "text/plain": [
              "<matplotlib.axes._subplots.AxesSubplot at 0x7f3e17da0760>"
            ]
          },
          "metadata": {},
          "execution_count": 83
        },
        {
          "output_type": "display_data",
          "data": {
            "text/plain": [
              "<Figure size 432x288 with 1 Axes>"
            ],
            "image/png": "[encoded data removed]"
          },
          "metadata": {
            "needs_background": "light"
          }
        }
      ]
    },
    {
      "cell_type": "code",
      "source": [
        "# Select frequency that a school appears in either the top or bottom percentile of the highly impacted schools\n",
        "# There should be a default selected. \n",
        "\n",
        "select_frequency = 5\n",
        "\n",
        "# If school code frequency is >= 5 years, then they remain. Unless above variable is updated to a different number.   \n",
        "\n",
        "for i in id_freq_schools.index:\n",
        "  if id_freq_schools['End Year'][i] < select_frequency:\n",
        "    id_freq_schools.drop([i], axis= 0, inplace=True)\n",
        "\n",
        "freq_school_code = id_freq_schools.index.unique().sort_values()"
      ],
      "metadata": {
        "id": "PTNMBs3DrIhY"
      },
      "execution_count": 84,
      "outputs": []
    },
    {
      "cell_type": "code",
      "source": [
        "freq_school_code"
      ],
      "metadata": {
        "colab": {
          "base_uri": "https://localhost:8080/"
        },
        "id": "hdbCv_um2Tqa",
        "outputId": "262843a4-e08f-4583-8b15-17a554dd2d33"
      },
      "execution_count": 85,
      "outputs": [
        {
          "output_type": "execute_result",
          "data": {
            "text/plain": [
              "Int64Index([  6010,  11022,  11025,  21014,  21027,  21150,  26010,  35011,\n",
              "             35015,  35020,\n",
              "            ...\n",
              "            537010, 567020, 571002, 571003, 571230, 585050, 585125, 585130,\n",
              "            591061, 591062],\n",
              "           dtype='int64', name='School Code', length=190)"
            ]
          },
          "metadata": {},
          "execution_count": 85
        }
      ]
    },
    {
      "cell_type": "code",
      "source": [
        "# This is the detailed schools who are repeatedly in the top/bottom.\n",
        "# Pulls all of their school data. \n",
        "\n",
        "ten_year_impacted = published_ky_df.iloc[0:0,:]\n",
        "\n",
        "for code in freq_school_code:\n",
        "  school_ten_year = published_ky_df[published_ky_df['School Code'] == code]\n",
        "  ten_year_impacted = ten_year_impacted.append(school_ten_year)\n"
      ],
      "metadata": {
        "id": "mp_YTum1mQ8L"
      },
      "execution_count": 86,
      "outputs": []
    },
    {
      "cell_type": "code",
      "source": [
        "ten_year_impacted.sort_values(by=['Money Difference per school'], inplace=True)"
      ],
      "metadata": {
        "id": "kbnMp6tmhxVp"
      },
      "execution_count": 87,
      "outputs": []
    },
    {
      "cell_type": "code",
      "source": [
        "ten_year_impacted"
      ],
      "metadata": {
        "id": "14J-CnFNy0qc",
        "colab": {
          "base_uri": "https://localhost:8080/",
          "height": 887
        },
        "outputId": "bf99bcdc-9dc6-4c23-8b77-f383460acaae"
      },
      "execution_count": 88,
      "outputs": [
        {
          "output_type": "execute_result",
          "data": {
            "text/plain": [
              "      End Year  District Code          District  School Code  \\\n",
              "5570      2012            275  Jefferson County       275620   \n",
              "5199      2019            275  Jefferson County       275155   \n",
              "4574      2015            275  Jefferson County       275033   \n",
              "5197      2017            275  Jefferson County       275155   \n",
              "4571      2012            275  Jefferson County       275033   \n",
              "...        ...            ...               ...          ...   \n",
              "4641      2019            275  Jefferson County       275047   \n",
              "5300      2016            275  Jefferson County       275200   \n",
              "5301      2017            275  Jefferson County       275200   \n",
              "5302      2018            275  Jefferson County       275200   \n",
              "5303      2019            275  Jefferson County       275200   \n",
              "\n",
              "                                   School  Proficiency Rate  \\\n",
              "5570  Frederick Law Olmsted Academy North                34   \n",
              "5199               Marion C. Moore School                40   \n",
              "4574                          Valley High                42   \n",
              "5197               Marion C. Moore School                45   \n",
              "4571                          Valley High                31   \n",
              "...                                   ...               ...   \n",
              "4641                 Louisville Male High                78   \n",
              "5300                   duPont Manual High                91   \n",
              "5301                   duPont Manual High               100   \n",
              "5302                   duPont Manual High               105   \n",
              "5303                   duPont Manual High                97   \n",
              "\n",
              "         Classification  Reported Spending per student  \\\n",
              "5570  Needs Improvement                      10,980.00   \n",
              "5199  Needs Improvement                      14,030.00   \n",
              "4574  Needs Improvement                      10,270.00   \n",
              "5197  Needs Improvement                      12,230.00   \n",
              "4571  Needs Improvement                      10,290.00   \n",
              "...                 ...                            ...   \n",
              "4641      Distinguished                      12,640.00   \n",
              "5300      Distinguished                      11,740.00   \n",
              "5301      Distinguished                      12,380.00   \n",
              "5302      Distinguished                      13,460.00   \n",
              "5303      Distinguished                      19,210.00   \n",
              "\n",
              "      Money Difference per school  Money Difference per student  \\\n",
              "5570                  -666,200.00                       -880.00   \n",
              "5199                  -643,000.00                       -290.00   \n",
              "4574                  -634,200.00                       -450.00   \n",
              "5197                  -621,500.00                       -310.00   \n",
              "4571                  -551,700.00                       -600.00   \n",
              "...                           ...                           ...   \n",
              "4641                 1,071,800.00                        560.00   \n",
              "5300                 1,258,300.00                        670.00   \n",
              "5301                 1,265,600.00                        670.00   \n",
              "5302                 1,304,000.00                        680.00   \n",
              "5303                 1,497,800.00                        790.00   \n",
              "\n",
              "      Estimated Spending per student  \n",
              "5570                       10,097.00  \n",
              "5199                       13,743.00  \n",
              "4574                        9,822.00  \n",
              "5197                       11,921.00  \n",
              "4571                        9,685.00  \n",
              "...                              ...  \n",
              "4641                       13,196.00  \n",
              "5300                       12,410.00  \n",
              "5301                       13,050.00  \n",
              "5302                       14,138.00  \n",
              "5303                       19,998.00  \n",
              "\n",
              "[1705 rows x 11 columns]"
            ],
            "text/html": [
              "\n",
              "  <div id=\"df-ccdfba69-9a0f-4ea5-b030-922c19753987\">\n",
              "    <div class=\"colab-df-container\">\n",
              "      <div>\n",
              "<style scoped>\n",
              "    .dataframe tbody tr th:only-of-type {\n",
              "        vertical-align: middle;\n",
              "    }\n",
              "\n",
              "    .dataframe tbody tr th {\n",
              "        vertical-align: top;\n",
              "    }\n",
              "\n",
              "    .dataframe thead th {\n",
              "        text-align: right;\n",
              "    }\n",
              "</style>\n",
              "<table border=\"1\" class=\"dataframe\">\n",
              "  <thead>\n",
              "    <tr style=\"text-align: right;\">\n",
              "      <th></th>\n",
              "      <th>End Year</th>\n",
              "      <th>District Code</th>\n",
              "      <th>District</th>\n",
              "      <th>School Code</th>\n",
              "      <th>School</th>\n",
              "      <th>Proficiency Rate</th>\n",
              "      <th>Classification</th>\n",
              "      <th>Reported Spending per student</th>\n",
              "      <th>Money Difference per school</th>\n",
              "      <th>Money Difference per student</th>\n",
              "      <th>Estimated Spending per student</th>\n",
              "    </tr>\n",
              "  </thead>\n",
              "  <tbody>\n",
              "    <tr>\n",
              "      <th>5570</th>\n",
              "      <td>2012</td>\n",
              "      <td>275</td>\n",
              "      <td>Jefferson County</td>\n",
              "      <td>275620</td>\n",
              "      <td>Frederick Law Olmsted Academy North</td>\n",
              "      <td>34</td>\n",
              "      <td>Needs Improvement</td>\n",
              "      <td>10,980.00</td>\n",
              "      <td>-666,200.00</td>\n",
              "      <td>-880.00</td>\n",
              "      <td>10,097.00</td>\n",
              "    </tr>\n",
              "    <tr>\n",
              "      <th>5199</th>\n",
              "      <td>2019</td>\n",
              "      <td>275</td>\n",
              "      <td>Jefferson County</td>\n",
              "      <td>275155</td>\n",
              "      <td>Marion C. Moore School</td>\n",
              "      <td>40</td>\n",
              "      <td>Needs Improvement</td>\n",
              "      <td>14,030.00</td>\n",
              "      <td>-643,000.00</td>\n",
              "      <td>-290.00</td>\n",
              "      <td>13,743.00</td>\n",
              "    </tr>\n",
              "    <tr>\n",
              "      <th>4574</th>\n",
              "      <td>2015</td>\n",
              "      <td>275</td>\n",
              "      <td>Jefferson County</td>\n",
              "      <td>275033</td>\n",
              "      <td>Valley High</td>\n",
              "      <td>42</td>\n",
              "      <td>Needs Improvement</td>\n",
              "      <td>10,270.00</td>\n",
              "      <td>-634,200.00</td>\n",
              "      <td>-450.00</td>\n",
              "      <td>9,822.00</td>\n",
              "    </tr>\n",
              "    <tr>\n",
              "      <th>5197</th>\n",
              "      <td>2017</td>\n",
              "      <td>275</td>\n",
              "      <td>Jefferson County</td>\n",
              "      <td>275155</td>\n",
              "      <td>Marion C. Moore School</td>\n",
              "      <td>45</td>\n",
              "      <td>Needs Improvement</td>\n",
              "      <td>12,230.00</td>\n",
              "      <td>-621,500.00</td>\n",
              "      <td>-310.00</td>\n",
              "      <td>11,921.00</td>\n",
              "    </tr>\n",
              "    <tr>\n",
              "      <th>4571</th>\n",
              "      <td>2012</td>\n",
              "      <td>275</td>\n",
              "      <td>Jefferson County</td>\n",
              "      <td>275033</td>\n",
              "      <td>Valley High</td>\n",
              "      <td>31</td>\n",
              "      <td>Needs Improvement</td>\n",
              "      <td>10,290.00</td>\n",
              "      <td>-551,700.00</td>\n",
              "      <td>-600.00</td>\n",
              "      <td>9,685.00</td>\n",
              "    </tr>\n",
              "    <tr>\n",
              "      <th>...</th>\n",
              "      <td>...</td>\n",
              "      <td>...</td>\n",
              "      <td>...</td>\n",
              "      <td>...</td>\n",
              "      <td>...</td>\n",
              "      <td>...</td>\n",
              "      <td>...</td>\n",
              "      <td>...</td>\n",
              "      <td>...</td>\n",
              "      <td>...</td>\n",
              "      <td>...</td>\n",
              "    </tr>\n",
              "    <tr>\n",
              "      <th>4641</th>\n",
              "      <td>2019</td>\n",
              "      <td>275</td>\n",
              "      <td>Jefferson County</td>\n",
              "      <td>275047</td>\n",
              "      <td>Louisville Male High</td>\n",
              "      <td>78</td>\n",
              "      <td>Distinguished</td>\n",
              "      <td>12,640.00</td>\n",
              "      <td>1,071,800.00</td>\n",
              "      <td>560.00</td>\n",
              "      <td>13,196.00</td>\n",
              "    </tr>\n",
              "    <tr>\n",
              "      <th>5300</th>\n",
              "      <td>2016</td>\n",
              "      <td>275</td>\n",
              "      <td>Jefferson County</td>\n",
              "      <td>275200</td>\n",
              "      <td>duPont Manual High</td>\n",
              "      <td>91</td>\n",
              "      <td>Distinguished</td>\n",
              "      <td>11,740.00</td>\n",
              "      <td>1,258,300.00</td>\n",
              "      <td>670.00</td>\n",
              "      <td>12,410.00</td>\n",
              "    </tr>\n",
              "    <tr>\n",
              "      <th>5301</th>\n",
              "      <td>2017</td>\n",
              "      <td>275</td>\n",
              "      <td>Jefferson County</td>\n",
              "      <td>275200</td>\n",
              "      <td>duPont Manual High</td>\n",
              "      <td>100</td>\n",
              "      <td>Distinguished</td>\n",
              "      <td>12,380.00</td>\n",
              "      <td>1,265,600.00</td>\n",
              "      <td>670.00</td>\n",
              "      <td>13,050.00</td>\n",
              "    </tr>\n",
              "    <tr>\n",
              "      <th>5302</th>\n",
              "      <td>2018</td>\n",
              "      <td>275</td>\n",
              "      <td>Jefferson County</td>\n",
              "      <td>275200</td>\n",
              "      <td>duPont Manual High</td>\n",
              "      <td>105</td>\n",
              "      <td>Distinguished</td>\n",
              "      <td>13,460.00</td>\n",
              "      <td>1,304,000.00</td>\n",
              "      <td>680.00</td>\n",
              "      <td>14,138.00</td>\n",
              "    </tr>\n",
              "    <tr>\n",
              "      <th>5303</th>\n",
              "      <td>2019</td>\n",
              "      <td>275</td>\n",
              "      <td>Jefferson County</td>\n",
              "      <td>275200</td>\n",
              "      <td>duPont Manual High</td>\n",
              "      <td>97</td>\n",
              "      <td>Distinguished</td>\n",
              "      <td>19,210.00</td>\n",
              "      <td>1,497,800.00</td>\n",
              "      <td>790.00</td>\n",
              "      <td>19,998.00</td>\n",
              "    </tr>\n",
              "  </tbody>\n",
              "</table>\n",
              "<p>1705 rows × 11 columns</p>\n",
              "</div>\n",
              "      <button class=\"colab-df-convert\" onclick=\"convertToInteractive('df-ccdfba69-9a0f-4ea5-b030-922c19753987')\"\n",
              "              title=\"Convert this dataframe to an interactive table.\"\n",
              "              style=\"display:none;\">\n",
              "        \n",
              "  <svg xmlns=\"http://www.w3.org/2000/svg\" height=\"24px\"viewBox=\"0 0 24 24\"\n",
              "       width=\"24px\">\n",
              "    <path d=\"M0 0h24v24H0V0z\" fill=\"none\"/>\n",
              "    <path d=\"M18.56 5.44l.94 2.06.94-2.06 2.06-.94-2.06-.94-.94-2.06-.94 2.06-2.06.94zm-11 1L8.5 8.5l.94-2.06 2.06-.94-2.06-.94L8.5 2.5l-.94 2.06-2.06.94zm10 10l.94 2.06.94-2.06 2.06-.94-2.06-.94-.94-2.06-.94 2.06-2.06.94z\"/><path d=\"M17.41 7.96l-1.37-1.37c-.4-.4-.92-.59-1.43-.59-.52 0-1.04.2-1.43.59L10.3 9.45l-7.72 7.72c-.78.78-.78 2.05 0 2.83L4 21.41c.39.39.9.59 1.41.59.51 0 1.02-.2 1.41-.59l7.78-7.78 2.81-2.81c.8-.78.8-2.07 0-2.86zM5.41 20L4 18.59l7.72-7.72 1.47 1.35L5.41 20z\"/>\n",
              "  </svg>\n",
              "      </button>\n",
              "      \n",
              "  <style>\n",
              "    .colab-df-container {\n",
              "      display:flex;\n",
              "      flex-wrap:wrap;\n",
              "      gap: 12px;\n",
              "    }\n",
              "\n",
              "    .colab-df-convert {\n",
              "      background-color: #E8F0FE;\n",
              "      border: none;\n",
              "      border-radius: 50%;\n",
              "      cursor: pointer;\n",
              "      display: none;\n",
              "      fill: #1967D2;\n",
              "      height: 32px;\n",
              "      padding: 0 0 0 0;\n",
              "      width: 32px;\n",
              "    }\n",
              "\n",
              "    .colab-df-convert:hover {\n",
              "      background-color: #E2EBFA;\n",
              "      box-shadow: 0px 1px 2px rgba(60, 64, 67, 0.3), 0px 1px 3px 1px rgba(60, 64, 67, 0.15);\n",
              "      fill: #174EA6;\n",
              "    }\n",
              "\n",
              "    [theme=dark] .colab-df-convert {\n",
              "      background-color: #3B4455;\n",
              "      fill: #D2E3FC;\n",
              "    }\n",
              "\n",
              "    [theme=dark] .colab-df-convert:hover {\n",
              "      background-color: #434B5C;\n",
              "      box-shadow: 0px 1px 3px 1px rgba(0, 0, 0, 0.15);\n",
              "      filter: drop-shadow(0px 1px 2px rgba(0, 0, 0, 0.3));\n",
              "      fill: #FFFFFF;\n",
              "    }\n",
              "  </style>\n",
              "\n",
              "      <script>\n",
              "        const buttonEl =\n",
              "          document.querySelector('#df-ccdfba69-9a0f-4ea5-b030-922c19753987 button.colab-df-convert');\n",
              "        buttonEl.style.display =\n",
              "          google.colab.kernel.accessAllowed ? 'block' : 'none';\n",
              "\n",
              "        async function convertToInteractive(key) {\n",
              "          const element = document.querySelector('#df-ccdfba69-9a0f-4ea5-b030-922c19753987');\n",
              "          const dataTable =\n",
              "            await google.colab.kernel.invokeFunction('convertToInteractive',\n",
              "                                                     [key], {});\n",
              "          if (!dataTable) return;\n",
              "\n",
              "          const docLinkHtml = 'Like what you see? Visit the ' +\n",
              "            '<a target=\"_blank\" href=https://colab.research.google.com/notebooks/data_table.ipynb>data table notebook</a>'\n",
              "            + ' to learn more about interactive tables.';\n",
              "          element.innerHTML = '';\n",
              "          dataTable['output_type'] = 'display_data';\n",
              "          await google.colab.output.renderOutput(dataTable, element);\n",
              "          const docLink = document.createElement('div');\n",
              "          docLink.innerHTML = docLinkHtml;\n",
              "          element.appendChild(docLink);\n",
              "        }\n",
              "      </script>\n",
              "    </div>\n",
              "  </div>\n",
              "  "
            ]
          },
          "metadata": {},
          "execution_count": 88
        }
      ]
    },
    {
      "cell_type": "code",
      "source": [],
      "metadata": {
        "id": "BXKmJRNavgBQ"
      },
      "execution_count": 88,
      "outputs": []
    },
    {
      "cell_type": "code",
      "source": [],
      "metadata": {
        "id": "OTv_GQtAvgEH"
      },
      "execution_count": 88,
      "outputs": []
    }
  ]
}