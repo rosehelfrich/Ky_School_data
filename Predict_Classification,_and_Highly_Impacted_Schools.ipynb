{
  "nbformat": 4,
  "nbformat_minor": 0,
  "metadata": {
    "colab": {
      "provenance": [],
      "collapsed_sections": [
        "xpakTgq2e2WC"
      ],
      "toc_visible": true,
      "authorship_tag": "ABX9TyN3AlXgB112vnGcm7vExECu",
      "include_colab_link": true
    },
    "kernelspec": {
      "name": "python3",
      "display_name": "Python 3"
    },
    "language_info": {
      "name": "python"
    }
  },
  "cells": [
    {
      "cell_type": "markdown",
      "metadata": {
        "id": "view-in-github",
        "colab_type": "text"
      },
      "source": [
        "<a href=\"https://colab.research.google.com/github/rosehelfrich/Ky_School_data/blob/main/Predict_Classification%2C_and_Highly_Impacted_Schools.ipynb\" target=\"_parent\"><img src=\"https://colab.research.google.com/assets/colab-badge.svg\" alt=\"Open In Colab\"/></a>"
      ]
    },
    {
      "cell_type": "code",
      "execution_count": 1,
      "metadata": {
        "id": "mPbt9W2-tujY"
      },
      "outputs": [],
      "source": [
        "import pandas as pd\n",
        "import numpy as np\n",
        "import tensorflow as tf\n",
        "\n",
        "import seaborn as sns\n",
        "import matplotlib.pyplot as plt"
      ]
    },
    {
      "cell_type": "code",
      "source": [
        "from google.colab import drive\n",
        "drive.mount('/content/drive')"
      ],
      "metadata": {
        "colab": {
          "base_uri": "https://localhost:8080/"
        },
        "id": "kl7kadJNt5Pr",
        "outputId": "25ff911b-a845-41e5-c77a-14d8350a60c4"
      },
      "execution_count": 2,
      "outputs": [
        {
          "output_type": "stream",
          "name": "stdout",
          "text": [
            "Drive already mounted at /content/drive; to attempt to forcibly remount, call drive.mount(\"/content/drive\", force_remount=True).\n"
          ]
        }
      ]
    },
    {
      "cell_type": "code",
      "source": [
        "# Column / Row options\n",
        "pd.options.display.max_columns = None\n",
        "pd.options.display.max_rows = 20\n",
        "\n",
        "# Two decimal places and the thousands separator\n",
        "pd.options.display.float_format = '{:,.2f}'.format"
      ],
      "metadata": {
        "id": "0PIbEaZVE2sd"
      },
      "execution_count": 3,
      "outputs": []
    },
    {
      "cell_type": "markdown",
      "source": [
        "# Merge scores with KY df"
      ],
      "metadata": {
        "id": "VZvOAbpDsZ3n"
      }
    },
    {
      "cell_type": "code",
      "source": [
        "df_scores = pd.read_csv('/content/drive/MyDrive/Colab Data/KY EPSB/All Years/df_scores.csv')"
      ],
      "metadata": {
        "id": "rQt8IcwgE22V"
      },
      "execution_count": 4,
      "outputs": []
    },
    {
      "cell_type": "code",
      "source": [
        "ky_spending_df = pd.read_csv('/content/drive/MyDrive/Colab Data/KY EPSB/All Years/published_ky_df_all.csv')"
      ],
      "metadata": {
        "id": "BGo2xpQoaqro"
      },
      "execution_count": 5,
      "outputs": []
    },
    {
      "cell_type": "code",
      "source": [
        "ky_spending_df = ky_spending_df.loc[:,['End Year', 'School Code', 'Reported Spending per student', 'Money Difference per school',\n",
        "       'Money Difference per student', 'Estimated Spending per student']]"
      ],
      "metadata": {
        "id": "J47qxVBwa0S3"
      },
      "execution_count": 6,
      "outputs": []
    },
    {
      "cell_type": "code",
      "source": [
        "df = pd.merge(df_scores, ky_spending_df, on=['End Year', 'School Code'], how='left')"
      ],
      "metadata": {
        "id": "EEpaGphGQyXx"
      },
      "execution_count": 7,
      "outputs": []
    },
    {
      "cell_type": "code",
      "source": [
        "df.drop_duplicates(inplace=True)\n",
        "\n",
        "# Reset index\n",
        "df.sort_values(by=['End Year','District','School'], inplace=True)\n",
        "df.reset_index(drop=True, inplace=True)\n",
        "\n",
        "df.index"
      ],
      "metadata": {
        "id": "P3F23OHZiSji",
        "colab": {
          "base_uri": "https://localhost:8080/"
        },
        "outputId": "e170760d-25c4-4833-99a0-3bd042bdd020"
      },
      "execution_count": 8,
      "outputs": [
        {
          "output_type": "execute_result",
          "data": {
            "text/plain": [
              "RangeIndex(start=0, stop=9892, step=1)"
            ]
          },
          "metadata": {},
          "execution_count": 8
        }
      ]
    },
    {
      "cell_type": "code",
      "source": [
        "columns_df = ['End Year', 'District Code', 'School Code', 'Proficiency Rate', \n",
        "              'Reported Spending per student', 'Money Difference per school', \n",
        "              'Money Difference per student', 'Estimated Spending per student']\n",
        "\n",
        "for column in columns_df:\n",
        "  df = df.round({column:0})\n",
        "  df[column] = df[column].astype(int, errors='ignore')"
      ],
      "metadata": {
        "id": "8R5fkpGrgW3D"
      },
      "execution_count": 9,
      "outputs": []
    },
    {
      "cell_type": "code",
      "source": [
        "# Take out \"/Progressing\"\n",
        "df.replace('Distinguished/Progressing', 'Distinguished', inplace=True)\n",
        "df.replace('Proficient/Progressing', 'Proficient', inplace=True)\n",
        "df.replace('Needs Improvement/Progressing', 'Needs Improvement', inplace=True)"
      ],
      "metadata": {
        "id": "zEUuozLJg7hL"
      },
      "execution_count": 10,
      "outputs": []
    },
    {
      "cell_type": "code",
      "source": [
        "df"
      ],
      "metadata": {
        "id": "z_qni_Q358qD",
        "colab": {
          "base_uri": "https://localhost:8080/",
          "height": 797
        },
        "outputId": "8ebe8bd1-4fb2-40ab-c2d9-3f93e764666a"
      },
      "execution_count": 11,
      "outputs": [
        {
          "output_type": "execute_result",
          "data": {
            "text/plain": [
              "      End Year  District Code         District  School Code  \\\n",
              "0         2012              1     Adair County         1016   \n",
              "1         2012              1     Adair County         1010   \n",
              "2         2012              1     Adair County         1014   \n",
              "3         2012              5     Allen County         5060   \n",
              "4         2012              5     Allen County         5010   \n",
              "...        ...            ...              ...          ...   \n",
              "9887      2022            601  Woodford County       601090   \n",
              "9888      2022            601  Woodford County       601120   \n",
              "9889      2022            601  Woodford County       601075   \n",
              "9890      2022            601  Woodford County       601050   \n",
              "9891      2022            601  Woodford County       601084   \n",
              "\n",
              "                                School  Proficiency Rate     Classification  \\\n",
              "0       Adair County Elementary School                63         Proficient   \n",
              "1             Adair County High School                55  Needs Improvement   \n",
              "2           Adair County Middle School                48  Needs Improvement   \n",
              "3     Allen County Intermediate Center                56  Needs Improvement   \n",
              "4          Allen County Primary Center                50  Needs Improvement   \n",
              "...                                ...               ...                ...   \n",
              "9887      Huntertown Elementary School                77               High   \n",
              "9888       Northside Elementary School                69             Medium   \n",
              "9889         Simmons Elementary School                70             Medium   \n",
              "9890       Southside Elementary School                75               High   \n",
              "9891       Woodford County High School                68               High   \n",
              "\n",
              "      Reported Spending per student  Money Difference per school  \\\n",
              "0                          7,261.00                   -33,813.00   \n",
              "1                          6,457.00                   -36,414.00   \n",
              "2                          6,719.00                   -55,680.00   \n",
              "3                          6,568.00                   114,160.00   \n",
              "4                          7,927.00                   190,512.00   \n",
              "...                             ...                          ...   \n",
              "9887                            NaN                          NaN   \n",
              "9888                            NaN                          NaN   \n",
              "9889                            NaN                          NaN   \n",
              "9890                            NaN                          NaN   \n",
              "9891                            NaN                          NaN   \n",
              "\n",
              "      Money Difference per student  Estimated Spending per student  \n",
              "0                           -57.00                        7,204.00  \n",
              "1                           -52.00                        6,405.00  \n",
              "2                          -144.00                        6,575.00  \n",
              "3                           160.00                        6,728.00  \n",
              "4                           210.00                        8,137.00  \n",
              "...                            ...                             ...  \n",
              "9887                           NaN                             NaN  \n",
              "9888                           NaN                             NaN  \n",
              "9889                           NaN                             NaN  \n",
              "9890                           NaN                             NaN  \n",
              "9891                           NaN                             NaN  \n",
              "\n",
              "[9892 rows x 11 columns]"
            ],
            "text/html": [
              "\n",
              "  <div id=\"df-8dd5d3fd-1d66-4c37-a41f-2f4d25c7300a\">\n",
              "    <div class=\"colab-df-container\">\n",
              "      <div>\n",
              "<style scoped>\n",
              "    .dataframe tbody tr th:only-of-type {\n",
              "        vertical-align: middle;\n",
              "    }\n",
              "\n",
              "    .dataframe tbody tr th {\n",
              "        vertical-align: top;\n",
              "    }\n",
              "\n",
              "    .dataframe thead th {\n",
              "        text-align: right;\n",
              "    }\n",
              "</style>\n",
              "<table border=\"1\" class=\"dataframe\">\n",
              "  <thead>\n",
              "    <tr style=\"text-align: right;\">\n",
              "      <th></th>\n",
              "      <th>End Year</th>\n",
              "      <th>District Code</th>\n",
              "      <th>District</th>\n",
              "      <th>School Code</th>\n",
              "      <th>School</th>\n",
              "      <th>Proficiency Rate</th>\n",
              "      <th>Classification</th>\n",
              "      <th>Reported Spending per student</th>\n",
              "      <th>Money Difference per school</th>\n",
              "      <th>Money Difference per student</th>\n",
              "      <th>Estimated Spending per student</th>\n",
              "    </tr>\n",
              "  </thead>\n",
              "  <tbody>\n",
              "    <tr>\n",
              "      <th>0</th>\n",
              "      <td>2012</td>\n",
              "      <td>1</td>\n",
              "      <td>Adair County</td>\n",
              "      <td>1016</td>\n",
              "      <td>Adair County Elementary School</td>\n",
              "      <td>63</td>\n",
              "      <td>Proficient</td>\n",
              "      <td>7,261.00</td>\n",
              "      <td>-33,813.00</td>\n",
              "      <td>-57.00</td>\n",
              "      <td>7,204.00</td>\n",
              "    </tr>\n",
              "    <tr>\n",
              "      <th>1</th>\n",
              "      <td>2012</td>\n",
              "      <td>1</td>\n",
              "      <td>Adair County</td>\n",
              "      <td>1010</td>\n",
              "      <td>Adair County High School</td>\n",
              "      <td>55</td>\n",
              "      <td>Needs Improvement</td>\n",
              "      <td>6,457.00</td>\n",
              "      <td>-36,414.00</td>\n",
              "      <td>-52.00</td>\n",
              "      <td>6,405.00</td>\n",
              "    </tr>\n",
              "    <tr>\n",
              "      <th>2</th>\n",
              "      <td>2012</td>\n",
              "      <td>1</td>\n",
              "      <td>Adair County</td>\n",
              "      <td>1014</td>\n",
              "      <td>Adair County Middle School</td>\n",
              "      <td>48</td>\n",
              "      <td>Needs Improvement</td>\n",
              "      <td>6,719.00</td>\n",
              "      <td>-55,680.00</td>\n",
              "      <td>-144.00</td>\n",
              "      <td>6,575.00</td>\n",
              "    </tr>\n",
              "    <tr>\n",
              "      <th>3</th>\n",
              "      <td>2012</td>\n",
              "      <td>5</td>\n",
              "      <td>Allen County</td>\n",
              "      <td>5060</td>\n",
              "      <td>Allen County Intermediate Center</td>\n",
              "      <td>56</td>\n",
              "      <td>Needs Improvement</td>\n",
              "      <td>6,568.00</td>\n",
              "      <td>114,160.00</td>\n",
              "      <td>160.00</td>\n",
              "      <td>6,728.00</td>\n",
              "    </tr>\n",
              "    <tr>\n",
              "      <th>4</th>\n",
              "      <td>2012</td>\n",
              "      <td>5</td>\n",
              "      <td>Allen County</td>\n",
              "      <td>5010</td>\n",
              "      <td>Allen County Primary Center</td>\n",
              "      <td>50</td>\n",
              "      <td>Needs Improvement</td>\n",
              "      <td>7,927.00</td>\n",
              "      <td>190,512.00</td>\n",
              "      <td>210.00</td>\n",
              "      <td>8,137.00</td>\n",
              "    </tr>\n",
              "    <tr>\n",
              "      <th>...</th>\n",
              "      <td>...</td>\n",
              "      <td>...</td>\n",
              "      <td>...</td>\n",
              "      <td>...</td>\n",
              "      <td>...</td>\n",
              "      <td>...</td>\n",
              "      <td>...</td>\n",
              "      <td>...</td>\n",
              "      <td>...</td>\n",
              "      <td>...</td>\n",
              "      <td>...</td>\n",
              "    </tr>\n",
              "    <tr>\n",
              "      <th>9887</th>\n",
              "      <td>2022</td>\n",
              "      <td>601</td>\n",
              "      <td>Woodford County</td>\n",
              "      <td>601090</td>\n",
              "      <td>Huntertown Elementary School</td>\n",
              "      <td>77</td>\n",
              "      <td>High</td>\n",
              "      <td>NaN</td>\n",
              "      <td>NaN</td>\n",
              "      <td>NaN</td>\n",
              "      <td>NaN</td>\n",
              "    </tr>\n",
              "    <tr>\n",
              "      <th>9888</th>\n",
              "      <td>2022</td>\n",
              "      <td>601</td>\n",
              "      <td>Woodford County</td>\n",
              "      <td>601120</td>\n",
              "      <td>Northside Elementary School</td>\n",
              "      <td>69</td>\n",
              "      <td>Medium</td>\n",
              "      <td>NaN</td>\n",
              "      <td>NaN</td>\n",
              "      <td>NaN</td>\n",
              "      <td>NaN</td>\n",
              "    </tr>\n",
              "    <tr>\n",
              "      <th>9889</th>\n",
              "      <td>2022</td>\n",
              "      <td>601</td>\n",
              "      <td>Woodford County</td>\n",
              "      <td>601075</td>\n",
              "      <td>Simmons Elementary School</td>\n",
              "      <td>70</td>\n",
              "      <td>Medium</td>\n",
              "      <td>NaN</td>\n",
              "      <td>NaN</td>\n",
              "      <td>NaN</td>\n",
              "      <td>NaN</td>\n",
              "    </tr>\n",
              "    <tr>\n",
              "      <th>9890</th>\n",
              "      <td>2022</td>\n",
              "      <td>601</td>\n",
              "      <td>Woodford County</td>\n",
              "      <td>601050</td>\n",
              "      <td>Southside Elementary School</td>\n",
              "      <td>75</td>\n",
              "      <td>High</td>\n",
              "      <td>NaN</td>\n",
              "      <td>NaN</td>\n",
              "      <td>NaN</td>\n",
              "      <td>NaN</td>\n",
              "    </tr>\n",
              "    <tr>\n",
              "      <th>9891</th>\n",
              "      <td>2022</td>\n",
              "      <td>601</td>\n",
              "      <td>Woodford County</td>\n",
              "      <td>601084</td>\n",
              "      <td>Woodford County High School</td>\n",
              "      <td>68</td>\n",
              "      <td>High</td>\n",
              "      <td>NaN</td>\n",
              "      <td>NaN</td>\n",
              "      <td>NaN</td>\n",
              "      <td>NaN</td>\n",
              "    </tr>\n",
              "  </tbody>\n",
              "</table>\n",
              "<p>9892 rows × 11 columns</p>\n",
              "</div>\n",
              "      <button class=\"colab-df-convert\" onclick=\"convertToInteractive('df-8dd5d3fd-1d66-4c37-a41f-2f4d25c7300a')\"\n",
              "              title=\"Convert this dataframe to an interactive table.\"\n",
              "              style=\"display:none;\">\n",
              "        \n",
              "  <svg xmlns=\"http://www.w3.org/2000/svg\" height=\"24px\"viewBox=\"0 0 24 24\"\n",
              "       width=\"24px\">\n",
              "    <path d=\"M0 0h24v24H0V0z\" fill=\"none\"/>\n",
              "    <path d=\"M18.56 5.44l.94 2.06.94-2.06 2.06-.94-2.06-.94-.94-2.06-.94 2.06-2.06.94zm-11 1L8.5 8.5l.94-2.06 2.06-.94-2.06-.94L8.5 2.5l-.94 2.06-2.06.94zm10 10l.94 2.06.94-2.06 2.06-.94-2.06-.94-.94-2.06-.94 2.06-2.06.94z\"/><path d=\"M17.41 7.96l-1.37-1.37c-.4-.4-.92-.59-1.43-.59-.52 0-1.04.2-1.43.59L10.3 9.45l-7.72 7.72c-.78.78-.78 2.05 0 2.83L4 21.41c.39.39.9.59 1.41.59.51 0 1.02-.2 1.41-.59l7.78-7.78 2.81-2.81c.8-.78.8-2.07 0-2.86zM5.41 20L4 18.59l7.72-7.72 1.47 1.35L5.41 20z\"/>\n",
              "  </svg>\n",
              "      </button>\n",
              "      \n",
              "  <style>\n",
              "    .colab-df-container {\n",
              "      display:flex;\n",
              "      flex-wrap:wrap;\n",
              "      gap: 12px;\n",
              "    }\n",
              "\n",
              "    .colab-df-convert {\n",
              "      background-color: #E8F0FE;\n",
              "      border: none;\n",
              "      border-radius: 50%;\n",
              "      cursor: pointer;\n",
              "      display: none;\n",
              "      fill: #1967D2;\n",
              "      height: 32px;\n",
              "      padding: 0 0 0 0;\n",
              "      width: 32px;\n",
              "    }\n",
              "\n",
              "    .colab-df-convert:hover {\n",
              "      background-color: #E2EBFA;\n",
              "      box-shadow: 0px 1px 2px rgba(60, 64, 67, 0.3), 0px 1px 3px 1px rgba(60, 64, 67, 0.15);\n",
              "      fill: #174EA6;\n",
              "    }\n",
              "\n",
              "    [theme=dark] .colab-df-convert {\n",
              "      background-color: #3B4455;\n",
              "      fill: #D2E3FC;\n",
              "    }\n",
              "\n",
              "    [theme=dark] .colab-df-convert:hover {\n",
              "      background-color: #434B5C;\n",
              "      box-shadow: 0px 1px 3px 1px rgba(0, 0, 0, 0.15);\n",
              "      filter: drop-shadow(0px 1px 2px rgba(0, 0, 0, 0.3));\n",
              "      fill: #FFFFFF;\n",
              "    }\n",
              "  </style>\n",
              "\n",
              "      <script>\n",
              "        const buttonEl =\n",
              "          document.querySelector('#df-8dd5d3fd-1d66-4c37-a41f-2f4d25c7300a button.colab-df-convert');\n",
              "        buttonEl.style.display =\n",
              "          google.colab.kernel.accessAllowed ? 'block' : 'none';\n",
              "\n",
              "        async function convertToInteractive(key) {\n",
              "          const element = document.querySelector('#df-8dd5d3fd-1d66-4c37-a41f-2f4d25c7300a');\n",
              "          const dataTable =\n",
              "            await google.colab.kernel.invokeFunction('convertToInteractive',\n",
              "                                                     [key], {});\n",
              "          if (!dataTable) return;\n",
              "\n",
              "          const docLinkHtml = 'Like what you see? Visit the ' +\n",
              "            '<a target=\"_blank\" href=https://colab.research.google.com/notebooks/data_table.ipynb>data table notebook</a>'\n",
              "            + ' to learn more about interactive tables.';\n",
              "          element.innerHTML = '';\n",
              "          dataTable['output_type'] = 'display_data';\n",
              "          await google.colab.output.renderOutput(dataTable, element);\n",
              "          const docLink = document.createElement('div');\n",
              "          docLink.innerHTML = docLinkHtml;\n",
              "          element.appendChild(docLink);\n",
              "        }\n",
              "      </script>\n",
              "    </div>\n",
              "  </div>\n",
              "  "
            ]
          },
          "metadata": {},
          "execution_count": 11
        }
      ]
    },
    {
      "cell_type": "code",
      "source": [
        "df.info()"
      ],
      "metadata": {
        "colab": {
          "base_uri": "https://localhost:8080/"
        },
        "id": "v-pdUJB2QylF",
        "outputId": "6c65abcd-77b6-421a-8ec6-07517a755ba6"
      },
      "execution_count": 12,
      "outputs": [
        {
          "output_type": "stream",
          "name": "stdout",
          "text": [
            "<class 'pandas.core.frame.DataFrame'>\n",
            "RangeIndex: 9892 entries, 0 to 9891\n",
            "Data columns (total 11 columns):\n",
            " #   Column                          Non-Null Count  Dtype  \n",
            "---  ------                          --------------  -----  \n",
            " 0   End Year                        9892 non-null   int64  \n",
            " 1   District Code                   9892 non-null   int64  \n",
            " 2   District                        9892 non-null   object \n",
            " 3   School Code                     9892 non-null   int64  \n",
            " 4   School                          9892 non-null   object \n",
            " 5   Proficiency Rate                9892 non-null   int64  \n",
            " 6   Classification                  6964 non-null   object \n",
            " 7   Reported Spending per student   8637 non-null   float64\n",
            " 8   Money Difference per school     8637 non-null   float64\n",
            " 9   Money Difference per student    8637 non-null   float64\n",
            " 10  Estimated Spending per student  8637 non-null   float64\n",
            "dtypes: float64(4), int64(4), object(3)\n",
            "memory usage: 850.2+ KB\n"
          ]
        }
      ]
    },
    {
      "cell_type": "code",
      "source": [
        "df['Classification'].value_counts(dropna=False)"
      ],
      "metadata": {
        "id": "bPpdwu7swwYx",
        "colab": {
          "base_uri": "https://localhost:8080/"
        },
        "outputId": "43b11283-23b1-4695-f4fc-95b44dce0793"
      },
      "execution_count": 13,
      "outputs": [
        {
          "output_type": "execute_result",
          "data": {
            "text/plain": [
              "NaN                  2928\n",
              "Needs Improvement    2462\n",
              "Proficient           1306\n",
              "Distinguished        1133\n",
              "Medium                689\n",
              "Low                   587\n",
              "High                  449\n",
              "Very Low              175\n",
              "Very High             163\n",
              "Name: Classification, dtype: int64"
            ]
          },
          "metadata": {},
          "execution_count": 13
        }
      ]
    },
    {
      "cell_type": "code",
      "source": [
        "df[df['School'].str.contains(\"Knight\")]"
      ],
      "metadata": {
        "colab": {
          "base_uri": "https://localhost:8080/",
          "height": 816
        },
        "id": "f40KNCl0gTWd",
        "outputId": "893926d2-ceeb-457e-c6f3-7e3fb096e0d0"
      },
      "execution_count": 14,
      "outputs": [
        {
          "output_type": "execute_result",
          "data": {
            "text/plain": [
              "      End Year  District Code          District  School Code  \\\n",
              "550       2012            275  Jefferson County       275163   \n",
              "1620      2013            275  Jefferson County       275163   \n",
              "2693      2014            275  Jefferson County       275163   \n",
              "3780      2015            275  Jefferson County       275163   \n",
              "4870      2016            275  Jefferson County       275163   \n",
              "5964      2017            275  Jefferson County       275163   \n",
              "7073      2018            275  Jefferson County       275163   \n",
              "7277      2018            375     Marion County       375085   \n",
              "8199      2019            275  Jefferson County       275163   \n",
              "8404      2019            375     Marion County       375085   \n",
              "9336      2022            275  Jefferson County       275163   \n",
              "9542      2022            375     Marion County       375085   \n",
              "\n",
              "                            School  Proficiency Rate     Classification  \\\n",
              "550                  Knight Middle                36  Needs Improvement   \n",
              "1620                 Knight Middle                34  Needs Improvement   \n",
              "2693                 Knight Middle                45  Needs Improvement   \n",
              "3780                 Knight Middle                52  Needs Improvement   \n",
              "4870                 Knight Middle                53  Needs Improvement   \n",
              "5964                 Knight Middle                48                NaN   \n",
              "7073                 Knight Middle                44                NaN   \n",
              "7277  Marion County Knight Academy                68                NaN   \n",
              "8199                 Knight Middle                49           Very Low   \n",
              "8404  Marion County Knight Academy                76             Medium   \n",
              "9336                 Knight Middle                33           Very Low   \n",
              "9542  Marion County Knight Academy                42                Low   \n",
              "\n",
              "      Reported Spending per student  Money Difference per school  \\\n",
              "550                       10,116.00                  -298,320.00   \n",
              "1620                      11,297.00                  -274,758.00   \n",
              "2693                      11,846.00                  -229,908.00   \n",
              "3780                      10,348.00                  -268,100.00   \n",
              "4870                      13,993.00                  -246,825.00   \n",
              "5964                      14,973.00                  -273,364.00   \n",
              "7073                      16,380.00                  -226,464.00   \n",
              "7277                      10,733.00                    16,036.00   \n",
              "8199                      16,642.00                  -304,260.00   \n",
              "8404                       9,342.00                     1,271.00   \n",
              "9336                            NaN                          NaN   \n",
              "9542                            NaN                          NaN   \n",
              "\n",
              "      Money Difference per student  Estimated Spending per student  \n",
              "550                        -689.00                        9,427.00  \n",
              "1620                       -620.00                       10,677.00  \n",
              "2693                       -557.00                       11,289.00  \n",
              "3780                       -638.00                        9,710.00  \n",
              "4870                       -589.00                       13,404.00  \n",
              "5964                       -677.00                       14,296.00  \n",
              "7073                       -522.00                       15,858.00  \n",
              "7277                         33.00                       10,766.00  \n",
              "8199                       -690.00                       15,952.00  \n",
              "8404                          3.00                        9,345.00  \n",
              "9336                           NaN                             NaN  \n",
              "9542                           NaN                             NaN  "
            ],
            "text/html": [
              "\n",
              "  <div id=\"df-a6536069-6efc-4809-9852-883d499c18dc\">\n",
              "    <div class=\"colab-df-container\">\n",
              "      <div>\n",
              "<style scoped>\n",
              "    .dataframe tbody tr th:only-of-type {\n",
              "        vertical-align: middle;\n",
              "    }\n",
              "\n",
              "    .dataframe tbody tr th {\n",
              "        vertical-align: top;\n",
              "    }\n",
              "\n",
              "    .dataframe thead th {\n",
              "        text-align: right;\n",
              "    }\n",
              "</style>\n",
              "<table border=\"1\" class=\"dataframe\">\n",
              "  <thead>\n",
              "    <tr style=\"text-align: right;\">\n",
              "      <th></th>\n",
              "      <th>End Year</th>\n",
              "      <th>District Code</th>\n",
              "      <th>District</th>\n",
              "      <th>School Code</th>\n",
              "      <th>School</th>\n",
              "      <th>Proficiency Rate</th>\n",
              "      <th>Classification</th>\n",
              "      <th>Reported Spending per student</th>\n",
              "      <th>Money Difference per school</th>\n",
              "      <th>Money Difference per student</th>\n",
              "      <th>Estimated Spending per student</th>\n",
              "    </tr>\n",
              "  </thead>\n",
              "  <tbody>\n",
              "    <tr>\n",
              "      <th>550</th>\n",
              "      <td>2012</td>\n",
              "      <td>275</td>\n",
              "      <td>Jefferson County</td>\n",
              "      <td>275163</td>\n",
              "      <td>Knight Middle</td>\n",
              "      <td>36</td>\n",
              "      <td>Needs Improvement</td>\n",
              "      <td>10,116.00</td>\n",
              "      <td>-298,320.00</td>\n",
              "      <td>-689.00</td>\n",
              "      <td>9,427.00</td>\n",
              "    </tr>\n",
              "    <tr>\n",
              "      <th>1620</th>\n",
              "      <td>2013</td>\n",
              "      <td>275</td>\n",
              "      <td>Jefferson County</td>\n",
              "      <td>275163</td>\n",
              "      <td>Knight Middle</td>\n",
              "      <td>34</td>\n",
              "      <td>Needs Improvement</td>\n",
              "      <td>11,297.00</td>\n",
              "      <td>-274,758.00</td>\n",
              "      <td>-620.00</td>\n",
              "      <td>10,677.00</td>\n",
              "    </tr>\n",
              "    <tr>\n",
              "      <th>2693</th>\n",
              "      <td>2014</td>\n",
              "      <td>275</td>\n",
              "      <td>Jefferson County</td>\n",
              "      <td>275163</td>\n",
              "      <td>Knight Middle</td>\n",
              "      <td>45</td>\n",
              "      <td>Needs Improvement</td>\n",
              "      <td>11,846.00</td>\n",
              "      <td>-229,908.00</td>\n",
              "      <td>-557.00</td>\n",
              "      <td>11,289.00</td>\n",
              "    </tr>\n",
              "    <tr>\n",
              "      <th>3780</th>\n",
              "      <td>2015</td>\n",
              "      <td>275</td>\n",
              "      <td>Jefferson County</td>\n",
              "      <td>275163</td>\n",
              "      <td>Knight Middle</td>\n",
              "      <td>52</td>\n",
              "      <td>Needs Improvement</td>\n",
              "      <td>10,348.00</td>\n",
              "      <td>-268,100.00</td>\n",
              "      <td>-638.00</td>\n",
              "      <td>9,710.00</td>\n",
              "    </tr>\n",
              "    <tr>\n",
              "      <th>4870</th>\n",
              "      <td>2016</td>\n",
              "      <td>275</td>\n",
              "      <td>Jefferson County</td>\n",
              "      <td>275163</td>\n",
              "      <td>Knight Middle</td>\n",
              "      <td>53</td>\n",
              "      <td>Needs Improvement</td>\n",
              "      <td>13,993.00</td>\n",
              "      <td>-246,825.00</td>\n",
              "      <td>-589.00</td>\n",
              "      <td>13,404.00</td>\n",
              "    </tr>\n",
              "    <tr>\n",
              "      <th>5964</th>\n",
              "      <td>2017</td>\n",
              "      <td>275</td>\n",
              "      <td>Jefferson County</td>\n",
              "      <td>275163</td>\n",
              "      <td>Knight Middle</td>\n",
              "      <td>48</td>\n",
              "      <td>NaN</td>\n",
              "      <td>14,973.00</td>\n",
              "      <td>-273,364.00</td>\n",
              "      <td>-677.00</td>\n",
              "      <td>14,296.00</td>\n",
              "    </tr>\n",
              "    <tr>\n",
              "      <th>7073</th>\n",
              "      <td>2018</td>\n",
              "      <td>275</td>\n",
              "      <td>Jefferson County</td>\n",
              "      <td>275163</td>\n",
              "      <td>Knight Middle</td>\n",
              "      <td>44</td>\n",
              "      <td>NaN</td>\n",
              "      <td>16,380.00</td>\n",
              "      <td>-226,464.00</td>\n",
              "      <td>-522.00</td>\n",
              "      <td>15,858.00</td>\n",
              "    </tr>\n",
              "    <tr>\n",
              "      <th>7277</th>\n",
              "      <td>2018</td>\n",
              "      <td>375</td>\n",
              "      <td>Marion County</td>\n",
              "      <td>375085</td>\n",
              "      <td>Marion County Knight Academy</td>\n",
              "      <td>68</td>\n",
              "      <td>NaN</td>\n",
              "      <td>10,733.00</td>\n",
              "      <td>16,036.00</td>\n",
              "      <td>33.00</td>\n",
              "      <td>10,766.00</td>\n",
              "    </tr>\n",
              "    <tr>\n",
              "      <th>8199</th>\n",
              "      <td>2019</td>\n",
              "      <td>275</td>\n",
              "      <td>Jefferson County</td>\n",
              "      <td>275163</td>\n",
              "      <td>Knight Middle</td>\n",
              "      <td>49</td>\n",
              "      <td>Very Low</td>\n",
              "      <td>16,642.00</td>\n",
              "      <td>-304,260.00</td>\n",
              "      <td>-690.00</td>\n",
              "      <td>15,952.00</td>\n",
              "    </tr>\n",
              "    <tr>\n",
              "      <th>8404</th>\n",
              "      <td>2019</td>\n",
              "      <td>375</td>\n",
              "      <td>Marion County</td>\n",
              "      <td>375085</td>\n",
              "      <td>Marion County Knight Academy</td>\n",
              "      <td>76</td>\n",
              "      <td>Medium</td>\n",
              "      <td>9,342.00</td>\n",
              "      <td>1,271.00</td>\n",
              "      <td>3.00</td>\n",
              "      <td>9,345.00</td>\n",
              "    </tr>\n",
              "    <tr>\n",
              "      <th>9336</th>\n",
              "      <td>2022</td>\n",
              "      <td>275</td>\n",
              "      <td>Jefferson County</td>\n",
              "      <td>275163</td>\n",
              "      <td>Knight Middle</td>\n",
              "      <td>33</td>\n",
              "      <td>Very Low</td>\n",
              "      <td>NaN</td>\n",
              "      <td>NaN</td>\n",
              "      <td>NaN</td>\n",
              "      <td>NaN</td>\n",
              "    </tr>\n",
              "    <tr>\n",
              "      <th>9542</th>\n",
              "      <td>2022</td>\n",
              "      <td>375</td>\n",
              "      <td>Marion County</td>\n",
              "      <td>375085</td>\n",
              "      <td>Marion County Knight Academy</td>\n",
              "      <td>42</td>\n",
              "      <td>Low</td>\n",
              "      <td>NaN</td>\n",
              "      <td>NaN</td>\n",
              "      <td>NaN</td>\n",
              "      <td>NaN</td>\n",
              "    </tr>\n",
              "  </tbody>\n",
              "</table>\n",
              "</div>\n",
              "      <button class=\"colab-df-convert\" onclick=\"convertToInteractive('df-a6536069-6efc-4809-9852-883d499c18dc')\"\n",
              "              title=\"Convert this dataframe to an interactive table.\"\n",
              "              style=\"display:none;\">\n",
              "        \n",
              "  <svg xmlns=\"http://www.w3.org/2000/svg\" height=\"24px\"viewBox=\"0 0 24 24\"\n",
              "       width=\"24px\">\n",
              "    <path d=\"M0 0h24v24H0V0z\" fill=\"none\"/>\n",
              "    <path d=\"M18.56 5.44l.94 2.06.94-2.06 2.06-.94-2.06-.94-.94-2.06-.94 2.06-2.06.94zm-11 1L8.5 8.5l.94-2.06 2.06-.94-2.06-.94L8.5 2.5l-.94 2.06-2.06.94zm10 10l.94 2.06.94-2.06 2.06-.94-2.06-.94-.94-2.06-.94 2.06-2.06.94z\"/><path d=\"M17.41 7.96l-1.37-1.37c-.4-.4-.92-.59-1.43-.59-.52 0-1.04.2-1.43.59L10.3 9.45l-7.72 7.72c-.78.78-.78 2.05 0 2.83L4 21.41c.39.39.9.59 1.41.59.51 0 1.02-.2 1.41-.59l7.78-7.78 2.81-2.81c.8-.78.8-2.07 0-2.86zM5.41 20L4 18.59l7.72-7.72 1.47 1.35L5.41 20z\"/>\n",
              "  </svg>\n",
              "      </button>\n",
              "      \n",
              "  <style>\n",
              "    .colab-df-container {\n",
              "      display:flex;\n",
              "      flex-wrap:wrap;\n",
              "      gap: 12px;\n",
              "    }\n",
              "\n",
              "    .colab-df-convert {\n",
              "      background-color: #E8F0FE;\n",
              "      border: none;\n",
              "      border-radius: 50%;\n",
              "      cursor: pointer;\n",
              "      display: none;\n",
              "      fill: #1967D2;\n",
              "      height: 32px;\n",
              "      padding: 0 0 0 0;\n",
              "      width: 32px;\n",
              "    }\n",
              "\n",
              "    .colab-df-convert:hover {\n",
              "      background-color: #E2EBFA;\n",
              "      box-shadow: 0px 1px 2px rgba(60, 64, 67, 0.3), 0px 1px 3px 1px rgba(60, 64, 67, 0.15);\n",
              "      fill: #174EA6;\n",
              "    }\n",
              "\n",
              "    [theme=dark] .colab-df-convert {\n",
              "      background-color: #3B4455;\n",
              "      fill: #D2E3FC;\n",
              "    }\n",
              "\n",
              "    [theme=dark] .colab-df-convert:hover {\n",
              "      background-color: #434B5C;\n",
              "      box-shadow: 0px 1px 3px 1px rgba(0, 0, 0, 0.15);\n",
              "      filter: drop-shadow(0px 1px 2px rgba(0, 0, 0, 0.3));\n",
              "      fill: #FFFFFF;\n",
              "    }\n",
              "  </style>\n",
              "\n",
              "      <script>\n",
              "        const buttonEl =\n",
              "          document.querySelector('#df-a6536069-6efc-4809-9852-883d499c18dc button.colab-df-convert');\n",
              "        buttonEl.style.display =\n",
              "          google.colab.kernel.accessAllowed ? 'block' : 'none';\n",
              "\n",
              "        async function convertToInteractive(key) {\n",
              "          const element = document.querySelector('#df-a6536069-6efc-4809-9852-883d499c18dc');\n",
              "          const dataTable =\n",
              "            await google.colab.kernel.invokeFunction('convertToInteractive',\n",
              "                                                     [key], {});\n",
              "          if (!dataTable) return;\n",
              "\n",
              "          const docLinkHtml = 'Like what you see? Visit the ' +\n",
              "            '<a target=\"_blank\" href=https://colab.research.google.com/notebooks/data_table.ipynb>data table notebook</a>'\n",
              "            + ' to learn more about interactive tables.';\n",
              "          element.innerHTML = '';\n",
              "          dataTable['output_type'] = 'display_data';\n",
              "          await google.colab.output.renderOutput(dataTable, element);\n",
              "          const docLink = document.createElement('div');\n",
              "          docLink.innerHTML = docLinkHtml;\n",
              "          element.appendChild(docLink);\n",
              "        }\n",
              "      </script>\n",
              "    </div>\n",
              "  </div>\n",
              "  "
            ]
          },
          "metadata": {},
          "execution_count": 14
        }
      ]
    },
    {
      "cell_type": "code",
      "source": [
        "df.info()"
      ],
      "metadata": {
        "colab": {
          "base_uri": "https://localhost:8080/"
        },
        "id": "pvqzir_kgTZE",
        "outputId": "6918915e-fce0-4c25-aa8a-de7bb08946f9"
      },
      "execution_count": 15,
      "outputs": [
        {
          "output_type": "stream",
          "name": "stdout",
          "text": [
            "<class 'pandas.core.frame.DataFrame'>\n",
            "RangeIndex: 9892 entries, 0 to 9891\n",
            "Data columns (total 11 columns):\n",
            " #   Column                          Non-Null Count  Dtype  \n",
            "---  ------                          --------------  -----  \n",
            " 0   End Year                        9892 non-null   int64  \n",
            " 1   District Code                   9892 non-null   int64  \n",
            " 2   District                        9892 non-null   object \n",
            " 3   School Code                     9892 non-null   int64  \n",
            " 4   School                          9892 non-null   object \n",
            " 5   Proficiency Rate                9892 non-null   int64  \n",
            " 6   Classification                  6964 non-null   object \n",
            " 7   Reported Spending per student   8637 non-null   float64\n",
            " 8   Money Difference per school     8637 non-null   float64\n",
            " 9   Money Difference per student    8637 non-null   float64\n",
            " 10  Estimated Spending per student  8637 non-null   float64\n",
            "dtypes: float64(4), int64(4), object(3)\n",
            "memory usage: 850.2+ KB\n"
          ]
        }
      ]
    },
    {
      "cell_type": "code",
      "source": [
        "df['Classification'].unique()"
      ],
      "metadata": {
        "id": "HNLuISOhgTkQ",
        "colab": {
          "base_uri": "https://localhost:8080/"
        },
        "outputId": "fd719417-23de-4876-dd5b-cc18bda44f2c"
      },
      "execution_count": 16,
      "outputs": [
        {
          "output_type": "execute_result",
          "data": {
            "text/plain": [
              "array(['Proficient', 'Needs Improvement', nan, 'Distinguished', 'Medium',\n",
              "       'High', 'Low', 'Very High', 'Very Low'], dtype=object)"
            ]
          },
          "metadata": {},
          "execution_count": 16
        }
      ]
    },
    {
      "cell_type": "code",
      "source": [
        "df['Classification'].value_counts(dropna=False)"
      ],
      "metadata": {
        "id": "3110IaY_gTo8",
        "colab": {
          "base_uri": "https://localhost:8080/"
        },
        "outputId": "50d655ef-24f5-4d8a-e56a-d3e6736176df"
      },
      "execution_count": 17,
      "outputs": [
        {
          "output_type": "execute_result",
          "data": {
            "text/plain": [
              "NaN                  2928\n",
              "Needs Improvement    2462\n",
              "Proficient           1306\n",
              "Distinguished        1133\n",
              "Medium                689\n",
              "Low                   587\n",
              "High                  449\n",
              "Very Low              175\n",
              "Very High             163\n",
              "Name: Classification, dtype: int64"
            ]
          },
          "metadata": {},
          "execution_count": 17
        }
      ]
    },
    {
      "cell_type": "markdown",
      "source": [
        "# Predict classification "
      ],
      "metadata": {
        "id": "Nc5nEWiItzSE"
      }
    },
    {
      "cell_type": "code",
      "source": [
        "# from sklearn import preprocessing\n",
        "from sklearn.preprocessing import StandardScaler\n",
        "from sklearn.model_selection import train_test_split"
      ],
      "metadata": {
        "id": "9v137r5eYtAL"
      },
      "execution_count": 18,
      "outputs": []
    },
    {
      "cell_type": "code",
      "source": [
        "predict_df = df.copy()"
      ],
      "metadata": {
        "id": "ENpjqqJnyK1j"
      },
      "execution_count": 19,
      "outputs": []
    },
    {
      "cell_type": "code",
      "source": [
        "# In the Ky Rank column, make this common language.\n",
        "predict_df.replace('Very High', 'Distinguished', inplace=True)\n",
        "predict_df.replace('High', 'Distinguished', inplace=True)\n",
        "predict_df.replace('Medium', 'Proficient', inplace=True)\n",
        "predict_df.replace('Low', 'Needs Improvement', inplace=True)\n",
        "predict_df.replace('Very Low', 'Needs Improvement', inplace=True)"
      ],
      "metadata": {
        "id": "byqfg-RBtyBp"
      },
      "execution_count": 20,
      "outputs": []
    },
    {
      "cell_type": "code",
      "source": [
        "predict_df = predict_df.round({'Reported Spending per student': -1, 'Money Difference per school': -2, \n",
        "                               'Money Difference per student':-1, 'Estimated Spending per student': 1})"
      ],
      "metadata": {
        "id": "vCjuxKnHpvDX"
      },
      "execution_count": 21,
      "outputs": []
    },
    {
      "cell_type": "code",
      "source": [
        "def fill_nulls_w_avg(column):\n",
        "  avg_by_school_code = predict_df.groupby(['School Code']).mean()\n",
        "  rows_to_update = predict_df[predict_df[column].isnull()]\n",
        "\n",
        "  for index in rows_to_update.index:\n",
        "    school_code = rows_to_update['School Code'][index]\n",
        "    avg = avg_by_school_code.loc[school_code, column]\n",
        "    predict_df.loc[index, column] = avg"
      ],
      "metadata": {
        "id": "cGT_ncjCjD8b"
      },
      "execution_count": 22,
      "outputs": []
    },
    {
      "cell_type": "code",
      "source": [
        "# Use function to fill in select columns with the average school information. \n",
        "fill_nulls_w_avg('Reported Spending per student')\n",
        "fill_nulls_w_avg('Money Difference per school')\n",
        "fill_nulls_w_avg('Money Difference per student')\n",
        "fill_nulls_w_avg('Estimated Spending per student')"
      ],
      "metadata": {
        "id": "FXRcdOlCmihb"
      },
      "execution_count": 23,
      "outputs": []
    },
    {
      "cell_type": "code",
      "source": [
        "predict_df"
      ],
      "metadata": {
        "colab": {
          "base_uri": "https://localhost:8080/",
          "height": 797
        },
        "id": "a6KONeftmrS2",
        "outputId": "e072792b-cf07-4a79-ed4d-c2ff361b9b1d"
      },
      "execution_count": 24,
      "outputs": [
        {
          "output_type": "execute_result",
          "data": {
            "text/plain": [
              "      End Year  District Code         District  School Code  \\\n",
              "0         2012              1     Adair County         1016   \n",
              "1         2012              1     Adair County         1010   \n",
              "2         2012              1     Adair County         1014   \n",
              "3         2012              5     Allen County         5060   \n",
              "4         2012              5     Allen County         5010   \n",
              "...        ...            ...              ...          ...   \n",
              "9887      2022            601  Woodford County       601090   \n",
              "9888      2022            601  Woodford County       601120   \n",
              "9889      2022            601  Woodford County       601075   \n",
              "9890      2022            601  Woodford County       601050   \n",
              "9891      2022            601  Woodford County       601084   \n",
              "\n",
              "                                School  Proficiency Rate     Classification  \\\n",
              "0       Adair County Elementary School                63         Proficient   \n",
              "1             Adair County High School                55  Needs Improvement   \n",
              "2           Adair County Middle School                48  Needs Improvement   \n",
              "3     Allen County Intermediate Center                56  Needs Improvement   \n",
              "4          Allen County Primary Center                50  Needs Improvement   \n",
              "...                                ...               ...                ...   \n",
              "9887      Huntertown Elementary School                77      Distinguished   \n",
              "9888       Northside Elementary School                69         Proficient   \n",
              "9889         Simmons Elementary School                70         Proficient   \n",
              "9890       Southside Elementary School                75      Distinguished   \n",
              "9891       Woodford County High School                68      Distinguished   \n",
              "\n",
              "      Reported Spending per student  Money Difference per school  \\\n",
              "0                          7,260.00                   -33,800.00   \n",
              "1                          6,460.00                   -36,400.00   \n",
              "2                          6,720.00                   -55,700.00   \n",
              "3                          6,570.00                   114,200.00   \n",
              "4                          7,930.00                   190,500.00   \n",
              "...                             ...                          ...   \n",
              "9887                      10,847.50                   115,625.00   \n",
              "9888                      12,173.75                    47,887.50   \n",
              "9889                      12,065.00                   -14,650.00   \n",
              "9890                      10,725.00                    70,762.50   \n",
              "9891                       9,492.50                    28,962.50   \n",
              "\n",
              "      Money Difference per student  Estimated Spending per student  \n",
              "0                           -60.00                        7,204.00  \n",
              "1                           -50.00                        6,405.00  \n",
              "2                          -140.00                        6,575.00  \n",
              "3                           160.00                        6,728.00  \n",
              "4                           210.00                        8,137.00  \n",
              "...                            ...                             ...  \n",
              "9887                        247.50                       11,094.25  \n",
              "9888                        151.25                       12,324.50  \n",
              "9889                        -30.00                       12,033.38  \n",
              "9890                        136.25                       10,861.75  \n",
              "9891                         23.75                        9,515.38  \n",
              "\n",
              "[9892 rows x 11 columns]"
            ],
            "text/html": [
              "\n",
              "  <div id=\"df-9d8c58e2-ee95-4b40-ac13-d73410ba4f65\">\n",
              "    <div class=\"colab-df-container\">\n",
              "      <div>\n",
              "<style scoped>\n",
              "    .dataframe tbody tr th:only-of-type {\n",
              "        vertical-align: middle;\n",
              "    }\n",
              "\n",
              "    .dataframe tbody tr th {\n",
              "        vertical-align: top;\n",
              "    }\n",
              "\n",
              "    .dataframe thead th {\n",
              "        text-align: right;\n",
              "    }\n",
              "</style>\n",
              "<table border=\"1\" class=\"dataframe\">\n",
              "  <thead>\n",
              "    <tr style=\"text-align: right;\">\n",
              "      <th></th>\n",
              "      <th>End Year</th>\n",
              "      <th>District Code</th>\n",
              "      <th>District</th>\n",
              "      <th>School Code</th>\n",
              "      <th>School</th>\n",
              "      <th>Proficiency Rate</th>\n",
              "      <th>Classification</th>\n",
              "      <th>Reported Spending per student</th>\n",
              "      <th>Money Difference per school</th>\n",
              "      <th>Money Difference per student</th>\n",
              "      <th>Estimated Spending per student</th>\n",
              "    </tr>\n",
              "  </thead>\n",
              "  <tbody>\n",
              "    <tr>\n",
              "      <th>0</th>\n",
              "      <td>2012</td>\n",
              "      <td>1</td>\n",
              "      <td>Adair County</td>\n",
              "      <td>1016</td>\n",
              "      <td>Adair County Elementary School</td>\n",
              "      <td>63</td>\n",
              "      <td>Proficient</td>\n",
              "      <td>7,260.00</td>\n",
              "      <td>-33,800.00</td>\n",
              "      <td>-60.00</td>\n",
              "      <td>7,204.00</td>\n",
              "    </tr>\n",
              "    <tr>\n",
              "      <th>1</th>\n",
              "      <td>2012</td>\n",
              "      <td>1</td>\n",
              "      <td>Adair County</td>\n",
              "      <td>1010</td>\n",
              "      <td>Adair County High School</td>\n",
              "      <td>55</td>\n",
              "      <td>Needs Improvement</td>\n",
              "      <td>6,460.00</td>\n",
              "      <td>-36,400.00</td>\n",
              "      <td>-50.00</td>\n",
              "      <td>6,405.00</td>\n",
              "    </tr>\n",
              "    <tr>\n",
              "      <th>2</th>\n",
              "      <td>2012</td>\n",
              "      <td>1</td>\n",
              "      <td>Adair County</td>\n",
              "      <td>1014</td>\n",
              "      <td>Adair County Middle School</td>\n",
              "      <td>48</td>\n",
              "      <td>Needs Improvement</td>\n",
              "      <td>6,720.00</td>\n",
              "      <td>-55,700.00</td>\n",
              "      <td>-140.00</td>\n",
              "      <td>6,575.00</td>\n",
              "    </tr>\n",
              "    <tr>\n",
              "      <th>3</th>\n",
              "      <td>2012</td>\n",
              "      <td>5</td>\n",
              "      <td>Allen County</td>\n",
              "      <td>5060</td>\n",
              "      <td>Allen County Intermediate Center</td>\n",
              "      <td>56</td>\n",
              "      <td>Needs Improvement</td>\n",
              "      <td>6,570.00</td>\n",
              "      <td>114,200.00</td>\n",
              "      <td>160.00</td>\n",
              "      <td>6,728.00</td>\n",
              "    </tr>\n",
              "    <tr>\n",
              "      <th>4</th>\n",
              "      <td>2012</td>\n",
              "      <td>5</td>\n",
              "      <td>Allen County</td>\n",
              "      <td>5010</td>\n",
              "      <td>Allen County Primary Center</td>\n",
              "      <td>50</td>\n",
              "      <td>Needs Improvement</td>\n",
              "      <td>7,930.00</td>\n",
              "      <td>190,500.00</td>\n",
              "      <td>210.00</td>\n",
              "      <td>8,137.00</td>\n",
              "    </tr>\n",
              "    <tr>\n",
              "      <th>...</th>\n",
              "      <td>...</td>\n",
              "      <td>...</td>\n",
              "      <td>...</td>\n",
              "      <td>...</td>\n",
              "      <td>...</td>\n",
              "      <td>...</td>\n",
              "      <td>...</td>\n",
              "      <td>...</td>\n",
              "      <td>...</td>\n",
              "      <td>...</td>\n",
              "      <td>...</td>\n",
              "    </tr>\n",
              "    <tr>\n",
              "      <th>9887</th>\n",
              "      <td>2022</td>\n",
              "      <td>601</td>\n",
              "      <td>Woodford County</td>\n",
              "      <td>601090</td>\n",
              "      <td>Huntertown Elementary School</td>\n",
              "      <td>77</td>\n",
              "      <td>Distinguished</td>\n",
              "      <td>10,847.50</td>\n",
              "      <td>115,625.00</td>\n",
              "      <td>247.50</td>\n",
              "      <td>11,094.25</td>\n",
              "    </tr>\n",
              "    <tr>\n",
              "      <th>9888</th>\n",
              "      <td>2022</td>\n",
              "      <td>601</td>\n",
              "      <td>Woodford County</td>\n",
              "      <td>601120</td>\n",
              "      <td>Northside Elementary School</td>\n",
              "      <td>69</td>\n",
              "      <td>Proficient</td>\n",
              "      <td>12,173.75</td>\n",
              "      <td>47,887.50</td>\n",
              "      <td>151.25</td>\n",
              "      <td>12,324.50</td>\n",
              "    </tr>\n",
              "    <tr>\n",
              "      <th>9889</th>\n",
              "      <td>2022</td>\n",
              "      <td>601</td>\n",
              "      <td>Woodford County</td>\n",
              "      <td>601075</td>\n",
              "      <td>Simmons Elementary School</td>\n",
              "      <td>70</td>\n",
              "      <td>Proficient</td>\n",
              "      <td>12,065.00</td>\n",
              "      <td>-14,650.00</td>\n",
              "      <td>-30.00</td>\n",
              "      <td>12,033.38</td>\n",
              "    </tr>\n",
              "    <tr>\n",
              "      <th>9890</th>\n",
              "      <td>2022</td>\n",
              "      <td>601</td>\n",
              "      <td>Woodford County</td>\n",
              "      <td>601050</td>\n",
              "      <td>Southside Elementary School</td>\n",
              "      <td>75</td>\n",
              "      <td>Distinguished</td>\n",
              "      <td>10,725.00</td>\n",
              "      <td>70,762.50</td>\n",
              "      <td>136.25</td>\n",
              "      <td>10,861.75</td>\n",
              "    </tr>\n",
              "    <tr>\n",
              "      <th>9891</th>\n",
              "      <td>2022</td>\n",
              "      <td>601</td>\n",
              "      <td>Woodford County</td>\n",
              "      <td>601084</td>\n",
              "      <td>Woodford County High School</td>\n",
              "      <td>68</td>\n",
              "      <td>Distinguished</td>\n",
              "      <td>9,492.50</td>\n",
              "      <td>28,962.50</td>\n",
              "      <td>23.75</td>\n",
              "      <td>9,515.38</td>\n",
              "    </tr>\n",
              "  </tbody>\n",
              "</table>\n",
              "<p>9892 rows × 11 columns</p>\n",
              "</div>\n",
              "      <button class=\"colab-df-convert\" onclick=\"convertToInteractive('df-9d8c58e2-ee95-4b40-ac13-d73410ba4f65')\"\n",
              "              title=\"Convert this dataframe to an interactive table.\"\n",
              "              style=\"display:none;\">\n",
              "        \n",
              "  <svg xmlns=\"http://www.w3.org/2000/svg\" height=\"24px\"viewBox=\"0 0 24 24\"\n",
              "       width=\"24px\">\n",
              "    <path d=\"M0 0h24v24H0V0z\" fill=\"none\"/>\n",
              "    <path d=\"M18.56 5.44l.94 2.06.94-2.06 2.06-.94-2.06-.94-.94-2.06-.94 2.06-2.06.94zm-11 1L8.5 8.5l.94-2.06 2.06-.94-2.06-.94L8.5 2.5l-.94 2.06-2.06.94zm10 10l.94 2.06.94-2.06 2.06-.94-2.06-.94-.94-2.06-.94 2.06-2.06.94z\"/><path d=\"M17.41 7.96l-1.37-1.37c-.4-.4-.92-.59-1.43-.59-.52 0-1.04.2-1.43.59L10.3 9.45l-7.72 7.72c-.78.78-.78 2.05 0 2.83L4 21.41c.39.39.9.59 1.41.59.51 0 1.02-.2 1.41-.59l7.78-7.78 2.81-2.81c.8-.78.8-2.07 0-2.86zM5.41 20L4 18.59l7.72-7.72 1.47 1.35L5.41 20z\"/>\n",
              "  </svg>\n",
              "      </button>\n",
              "      \n",
              "  <style>\n",
              "    .colab-df-container {\n",
              "      display:flex;\n",
              "      flex-wrap:wrap;\n",
              "      gap: 12px;\n",
              "    }\n",
              "\n",
              "    .colab-df-convert {\n",
              "      background-color: #E8F0FE;\n",
              "      border: none;\n",
              "      border-radius: 50%;\n",
              "      cursor: pointer;\n",
              "      display: none;\n",
              "      fill: #1967D2;\n",
              "      height: 32px;\n",
              "      padding: 0 0 0 0;\n",
              "      width: 32px;\n",
              "    }\n",
              "\n",
              "    .colab-df-convert:hover {\n",
              "      background-color: #E2EBFA;\n",
              "      box-shadow: 0px 1px 2px rgba(60, 64, 67, 0.3), 0px 1px 3px 1px rgba(60, 64, 67, 0.15);\n",
              "      fill: #174EA6;\n",
              "    }\n",
              "\n",
              "    [theme=dark] .colab-df-convert {\n",
              "      background-color: #3B4455;\n",
              "      fill: #D2E3FC;\n",
              "    }\n",
              "\n",
              "    [theme=dark] .colab-df-convert:hover {\n",
              "      background-color: #434B5C;\n",
              "      box-shadow: 0px 1px 3px 1px rgba(0, 0, 0, 0.15);\n",
              "      filter: drop-shadow(0px 1px 2px rgba(0, 0, 0, 0.3));\n",
              "      fill: #FFFFFF;\n",
              "    }\n",
              "  </style>\n",
              "\n",
              "      <script>\n",
              "        const buttonEl =\n",
              "          document.querySelector('#df-9d8c58e2-ee95-4b40-ac13-d73410ba4f65 button.colab-df-convert');\n",
              "        buttonEl.style.display =\n",
              "          google.colab.kernel.accessAllowed ? 'block' : 'none';\n",
              "\n",
              "        async function convertToInteractive(key) {\n",
              "          const element = document.querySelector('#df-9d8c58e2-ee95-4b40-ac13-d73410ba4f65');\n",
              "          const dataTable =\n",
              "            await google.colab.kernel.invokeFunction('convertToInteractive',\n",
              "                                                     [key], {});\n",
              "          if (!dataTable) return;\n",
              "\n",
              "          const docLinkHtml = 'Like what you see? Visit the ' +\n",
              "            '<a target=\"_blank\" href=https://colab.research.google.com/notebooks/data_table.ipynb>data table notebook</a>'\n",
              "            + ' to learn more about interactive tables.';\n",
              "          element.innerHTML = '';\n",
              "          dataTable['output_type'] = 'display_data';\n",
              "          await google.colab.output.renderOutput(dataTable, element);\n",
              "          const docLink = document.createElement('div');\n",
              "          docLink.innerHTML = docLinkHtml;\n",
              "          element.appendChild(docLink);\n",
              "        }\n",
              "      </script>\n",
              "    </div>\n",
              "  </div>\n",
              "  "
            ]
          },
          "metadata": {},
          "execution_count": 24
        }
      ]
    },
    {
      "cell_type": "code",
      "source": [],
      "metadata": {
        "id": "caQdp7pWbyHq"
      },
      "execution_count": 24,
      "outputs": []
    },
    {
      "cell_type": "markdown",
      "source": [
        "## Shuffle, Balance, Split, Scale"
      ],
      "metadata": {
        "id": "GxWh9f-BqbvG"
      }
    },
    {
      "cell_type": "code",
      "source": [
        "unscaled_df = predict_df[['End Year', 'Proficiency Rate', 'Reported Spending per student', \n",
        "             'Money Difference per school', 'Classification']]\n",
        "\n",
        "unscaled_df.dropna(axis =0, inplace=True)\n",
        "unscaled_df.reset_index(drop=True, inplace=True)\n",
        "\n",
        "unscaled_df['Classification'] = unscaled_df['Classification'].map({'Distinguished': 0, 'Proficient':1, 'Needs Improvement':2})\n",
        "\n",
        "#unscaled_columns = ['End Year', 'Proficiency Rate', 'Reported Spending per student', \n",
        "#                    'Money Difference per school', 'Classification']\n",
        "\n",
        "for column in unscaled_df.columns:\n",
        "  unscaled_df[column] = unscaled_df[column].astype(np.float32)"
      ],
      "metadata": {
        "id": "OxHPfwd3Tob7",
        "colab": {
          "base_uri": "https://localhost:8080/"
        },
        "outputId": "39b8fe64-299f-4134-ae22-e70d4512a781"
      },
      "execution_count": 25,
      "outputs": [
        {
          "output_type": "stream",
          "name": "stderr",
          "text": [
            "/usr/local/lib/python3.8/dist-packages/pandas/util/_decorators.py:311: SettingWithCopyWarning: \n",
            "A value is trying to be set on a copy of a slice from a DataFrame\n",
            "\n",
            "See the caveats in the documentation: https://pandas.pydata.org/pandas-docs/stable/user_guide/indexing.html#returning-a-view-versus-a-copy\n",
            "  return func(*args, **kwargs)\n",
            "<ipython-input-25-8361c069d68f>:7: SettingWithCopyWarning: \n",
            "A value is trying to be set on a copy of a slice from a DataFrame.\n",
            "Try using .loc[row_indexer,col_indexer] = value instead\n",
            "\n",
            "See the caveats in the documentation: https://pandas.pydata.org/pandas-docs/stable/user_guide/indexing.html#returning-a-view-versus-a-copy\n",
            "  unscaled_df['Classification'] = unscaled_df['Classification'].map({'Distinguished': 0, 'Proficient':1, 'Needs Improvement':2})\n",
            "<ipython-input-25-8361c069d68f>:13: SettingWithCopyWarning: \n",
            "A value is trying to be set on a copy of a slice from a DataFrame.\n",
            "Try using .loc[row_indexer,col_indexer] = value instead\n",
            "\n",
            "See the caveats in the documentation: https://pandas.pydata.org/pandas-docs/stable/user_guide/indexing.html#returning-a-view-versus-a-copy\n",
            "  unscaled_df[column] = unscaled_df[column].astype(np.float32)\n"
          ]
        }
      ]
    },
    {
      "cell_type": "code",
      "source": [
        "unscaled_df"
      ],
      "metadata": {
        "id": "v0nKKR-4lZ4V",
        "colab": {
          "base_uri": "https://localhost:8080/",
          "height": 423
        },
        "outputId": "6a5942a3-3e31-486f-98bc-af396c32a8b4"
      },
      "execution_count": 26,
      "outputs": [
        {
          "output_type": "execute_result",
          "data": {
            "text/plain": [
              "      End Year  Proficiency Rate  Reported Spending per student  \\\n",
              "0     2,012.00             63.00                       7,260.00   \n",
              "1     2,012.00             55.00                       6,460.00   \n",
              "2     2,012.00             48.00                       6,720.00   \n",
              "3     2,012.00             56.00                       6,570.00   \n",
              "4     2,012.00             50.00                       7,930.00   \n",
              "...        ...               ...                            ...   \n",
              "6950  2,022.00             77.00                      10,847.50   \n",
              "6951  2,022.00             69.00                      12,173.75   \n",
              "6952  2,022.00             70.00                      12,065.00   \n",
              "6953  2,022.00             75.00                      10,725.00   \n",
              "6954  2,022.00             68.00                       9,492.50   \n",
              "\n",
              "      Money Difference per school  Classification  \n",
              "0                      -33,800.00            1.00  \n",
              "1                      -36,400.00            2.00  \n",
              "2                      -55,700.00            2.00  \n",
              "3                      114,200.00            2.00  \n",
              "4                      190,500.00            2.00  \n",
              "...                           ...             ...  \n",
              "6950                   115,625.00            0.00  \n",
              "6951                    47,887.50            1.00  \n",
              "6952                   -14,650.00            1.00  \n",
              "6953                    70,762.50            0.00  \n",
              "6954                    28,962.50            0.00  \n",
              "\n",
              "[6955 rows x 5 columns]"
            ],
            "text/html": [
              "\n",
              "  <div id=\"df-72331e6d-19b1-42e3-adef-6ed15594a3d5\">\n",
              "    <div class=\"colab-df-container\">\n",
              "      <div>\n",
              "<style scoped>\n",
              "    .dataframe tbody tr th:only-of-type {\n",
              "        vertical-align: middle;\n",
              "    }\n",
              "\n",
              "    .dataframe tbody tr th {\n",
              "        vertical-align: top;\n",
              "    }\n",
              "\n",
              "    .dataframe thead th {\n",
              "        text-align: right;\n",
              "    }\n",
              "</style>\n",
              "<table border=\"1\" class=\"dataframe\">\n",
              "  <thead>\n",
              "    <tr style=\"text-align: right;\">\n",
              "      <th></th>\n",
              "      <th>End Year</th>\n",
              "      <th>Proficiency Rate</th>\n",
              "      <th>Reported Spending per student</th>\n",
              "      <th>Money Difference per school</th>\n",
              "      <th>Classification</th>\n",
              "    </tr>\n",
              "  </thead>\n",
              "  <tbody>\n",
              "    <tr>\n",
              "      <th>0</th>\n",
              "      <td>2,012.00</td>\n",
              "      <td>63.00</td>\n",
              "      <td>7,260.00</td>\n",
              "      <td>-33,800.00</td>\n",
              "      <td>1.00</td>\n",
              "    </tr>\n",
              "    <tr>\n",
              "      <th>1</th>\n",
              "      <td>2,012.00</td>\n",
              "      <td>55.00</td>\n",
              "      <td>6,460.00</td>\n",
              "      <td>-36,400.00</td>\n",
              "      <td>2.00</td>\n",
              "    </tr>\n",
              "    <tr>\n",
              "      <th>2</th>\n",
              "      <td>2,012.00</td>\n",
              "      <td>48.00</td>\n",
              "      <td>6,720.00</td>\n",
              "      <td>-55,700.00</td>\n",
              "      <td>2.00</td>\n",
              "    </tr>\n",
              "    <tr>\n",
              "      <th>3</th>\n",
              "      <td>2,012.00</td>\n",
              "      <td>56.00</td>\n",
              "      <td>6,570.00</td>\n",
              "      <td>114,200.00</td>\n",
              "      <td>2.00</td>\n",
              "    </tr>\n",
              "    <tr>\n",
              "      <th>4</th>\n",
              "      <td>2,012.00</td>\n",
              "      <td>50.00</td>\n",
              "      <td>7,930.00</td>\n",
              "      <td>190,500.00</td>\n",
              "      <td>2.00</td>\n",
              "    </tr>\n",
              "    <tr>\n",
              "      <th>...</th>\n",
              "      <td>...</td>\n",
              "      <td>...</td>\n",
              "      <td>...</td>\n",
              "      <td>...</td>\n",
              "      <td>...</td>\n",
              "    </tr>\n",
              "    <tr>\n",
              "      <th>6950</th>\n",
              "      <td>2,022.00</td>\n",
              "      <td>77.00</td>\n",
              "      <td>10,847.50</td>\n",
              "      <td>115,625.00</td>\n",
              "      <td>0.00</td>\n",
              "    </tr>\n",
              "    <tr>\n",
              "      <th>6951</th>\n",
              "      <td>2,022.00</td>\n",
              "      <td>69.00</td>\n",
              "      <td>12,173.75</td>\n",
              "      <td>47,887.50</td>\n",
              "      <td>1.00</td>\n",
              "    </tr>\n",
              "    <tr>\n",
              "      <th>6952</th>\n",
              "      <td>2,022.00</td>\n",
              "      <td>70.00</td>\n",
              "      <td>12,065.00</td>\n",
              "      <td>-14,650.00</td>\n",
              "      <td>1.00</td>\n",
              "    </tr>\n",
              "    <tr>\n",
              "      <th>6953</th>\n",
              "      <td>2,022.00</td>\n",
              "      <td>75.00</td>\n",
              "      <td>10,725.00</td>\n",
              "      <td>70,762.50</td>\n",
              "      <td>0.00</td>\n",
              "    </tr>\n",
              "    <tr>\n",
              "      <th>6954</th>\n",
              "      <td>2,022.00</td>\n",
              "      <td>68.00</td>\n",
              "      <td>9,492.50</td>\n",
              "      <td>28,962.50</td>\n",
              "      <td>0.00</td>\n",
              "    </tr>\n",
              "  </tbody>\n",
              "</table>\n",
              "<p>6955 rows × 5 columns</p>\n",
              "</div>\n",
              "      <button class=\"colab-df-convert\" onclick=\"convertToInteractive('df-72331e6d-19b1-42e3-adef-6ed15594a3d5')\"\n",
              "              title=\"Convert this dataframe to an interactive table.\"\n",
              "              style=\"display:none;\">\n",
              "        \n",
              "  <svg xmlns=\"http://www.w3.org/2000/svg\" height=\"24px\"viewBox=\"0 0 24 24\"\n",
              "       width=\"24px\">\n",
              "    <path d=\"M0 0h24v24H0V0z\" fill=\"none\"/>\n",
              "    <path d=\"M18.56 5.44l.94 2.06.94-2.06 2.06-.94-2.06-.94-.94-2.06-.94 2.06-2.06.94zm-11 1L8.5 8.5l.94-2.06 2.06-.94-2.06-.94L8.5 2.5l-.94 2.06-2.06.94zm10 10l.94 2.06.94-2.06 2.06-.94-2.06-.94-.94-2.06-.94 2.06-2.06.94z\"/><path d=\"M17.41 7.96l-1.37-1.37c-.4-.4-.92-.59-1.43-.59-.52 0-1.04.2-1.43.59L10.3 9.45l-7.72 7.72c-.78.78-.78 2.05 0 2.83L4 21.41c.39.39.9.59 1.41.59.51 0 1.02-.2 1.41-.59l7.78-7.78 2.81-2.81c.8-.78.8-2.07 0-2.86zM5.41 20L4 18.59l7.72-7.72 1.47 1.35L5.41 20z\"/>\n",
              "  </svg>\n",
              "      </button>\n",
              "      \n",
              "  <style>\n",
              "    .colab-df-container {\n",
              "      display:flex;\n",
              "      flex-wrap:wrap;\n",
              "      gap: 12px;\n",
              "    }\n",
              "\n",
              "    .colab-df-convert {\n",
              "      background-color: #E8F0FE;\n",
              "      border: none;\n",
              "      border-radius: 50%;\n",
              "      cursor: pointer;\n",
              "      display: none;\n",
              "      fill: #1967D2;\n",
              "      height: 32px;\n",
              "      padding: 0 0 0 0;\n",
              "      width: 32px;\n",
              "    }\n",
              "\n",
              "    .colab-df-convert:hover {\n",
              "      background-color: #E2EBFA;\n",
              "      box-shadow: 0px 1px 2px rgba(60, 64, 67, 0.3), 0px 1px 3px 1px rgba(60, 64, 67, 0.15);\n",
              "      fill: #174EA6;\n",
              "    }\n",
              "\n",
              "    [theme=dark] .colab-df-convert {\n",
              "      background-color: #3B4455;\n",
              "      fill: #D2E3FC;\n",
              "    }\n",
              "\n",
              "    [theme=dark] .colab-df-convert:hover {\n",
              "      background-color: #434B5C;\n",
              "      box-shadow: 0px 1px 3px 1px rgba(0, 0, 0, 0.15);\n",
              "      filter: drop-shadow(0px 1px 2px rgba(0, 0, 0, 0.3));\n",
              "      fill: #FFFFFF;\n",
              "    }\n",
              "  </style>\n",
              "\n",
              "      <script>\n",
              "        const buttonEl =\n",
              "          document.querySelector('#df-72331e6d-19b1-42e3-adef-6ed15594a3d5 button.colab-df-convert');\n",
              "        buttonEl.style.display =\n",
              "          google.colab.kernel.accessAllowed ? 'block' : 'none';\n",
              "\n",
              "        async function convertToInteractive(key) {\n",
              "          const element = document.querySelector('#df-72331e6d-19b1-42e3-adef-6ed15594a3d5');\n",
              "          const dataTable =\n",
              "            await google.colab.kernel.invokeFunction('convertToInteractive',\n",
              "                                                     [key], {});\n",
              "          if (!dataTable) return;\n",
              "\n",
              "          const docLinkHtml = 'Like what you see? Visit the ' +\n",
              "            '<a target=\"_blank\" href=https://colab.research.google.com/notebooks/data_table.ipynb>data table notebook</a>'\n",
              "            + ' to learn more about interactive tables.';\n",
              "          element.innerHTML = '';\n",
              "          dataTable['output_type'] = 'display_data';\n",
              "          await google.colab.output.renderOutput(dataTable, element);\n",
              "          const docLink = document.createElement('div');\n",
              "          docLink.innerHTML = docLinkHtml;\n",
              "          element.appendChild(docLink);\n",
              "        }\n",
              "      </script>\n",
              "    </div>\n",
              "  </div>\n",
              "  "
            ]
          },
          "metadata": {},
          "execution_count": 26
        }
      ]
    },
    {
      "cell_type": "code",
      "source": [],
      "metadata": {
        "id": "nq-BAHrjoVOB"
      },
      "execution_count": 26,
      "outputs": []
    },
    {
      "cell_type": "code",
      "source": [
        "#Shuffle df\n",
        "unscaled_df = unscaled_df.sample(frac=1, random_state=15)\n",
        "\n",
        "# Save indices\n",
        "#shuffled_indices = unscaled_df.index"
      ],
      "metadata": {
        "id": "OTODCJFaFh2e"
      },
      "execution_count": 27,
      "outputs": []
    },
    {
      "cell_type": "code",
      "source": [
        "unscaled_df['Classification'].value_counts()"
      ],
      "metadata": {
        "colab": {
          "base_uri": "https://localhost:8080/"
        },
        "id": "oRqb9RpZBZPx",
        "outputId": "37368dfb-aa2c-4a08-f8d0-378202d2aa5a"
      },
      "execution_count": 28,
      "outputs": [
        {
          "output_type": "execute_result",
          "data": {
            "text/plain": [
              "2.00    3220\n",
              "1.00    1992\n",
              "0.00    1743\n",
              "Name: Classification, dtype: int64"
            ]
          },
          "metadata": {},
          "execution_count": 28
        }
      ]
    },
    {
      "cell_type": "code",
      "source": [
        "# Balance the data\n",
        "balanced_df = unscaled_df.iloc[0:0]\n",
        "\n",
        "for i in unscaled_df['Classification'].unique():   #unscaled_df.index:\n",
        "  min_target_size = unscaled_df['Classification'].value_counts().min()\n",
        "  #value_target = unscaled_df['Classification'][i]\n",
        "  target_values = unscaled_df[unscaled_df['Classification']==i]  #value_target]\n",
        "  fraction = round(min_target_size / target_values.shape[0], 2)\n",
        "  sample_data = target_values.sample(frac=fraction, random_state=8)\n",
        "  balanced_df = pd.concat([balanced_df, sample_data])\n",
        "\n",
        "# Shuffle the data\n",
        "balanced_df = balanced_df.sample(frac=1, random_state=3)"
      ],
      "metadata": {
        "id": "KQo7n4mMJh_3"
      },
      "execution_count": 29,
      "outputs": []
    },
    {
      "cell_type": "code",
      "source": [
        "# Just in case we need the indices later. \n",
        "\n",
        "#shuffled_indices = balanced_df.index"
      ],
      "metadata": {
        "id": "YL8o3GrEMz5v"
      },
      "execution_count": 30,
      "outputs": []
    },
    {
      "cell_type": "code",
      "source": [
        "balanced_df['Classification'].value_counts()"
      ],
      "metadata": {
        "colab": {
          "base_uri": "https://localhost:8080/"
        },
        "id": "Uo4bpgjhN_hy",
        "outputId": "e596e260-8ec9-4e26-c3ba-1e41783659f7"
      },
      "execution_count": 31,
      "outputs": [
        {
          "output_type": "execute_result",
          "data": {
            "text/plain": [
              "1.00    1753\n",
              "0.00    1743\n",
              "2.00    1739\n",
              "Name: Classification, dtype: int64"
            ]
          },
          "metadata": {},
          "execution_count": 31
        }
      ]
    },
    {
      "cell_type": "code",
      "source": [
        "balanced_df[balanced_df.isnull().any(axis=1)]"
      ],
      "metadata": {
        "colab": {
          "base_uri": "https://localhost:8080/",
          "height": 49
        },
        "id": "T8cntVx7pmi4",
        "outputId": "24c4c05b-d1bb-4a93-845e-2ba79c4b1544"
      },
      "execution_count": 32,
      "outputs": [
        {
          "output_type": "execute_result",
          "data": {
            "text/plain": [
              "Empty DataFrame\n",
              "Columns: [End Year, Proficiency Rate, Reported Spending per student, Money Difference per school, Classification]\n",
              "Index: []"
            ],
            "text/html": [
              "\n",
              "  <div id=\"df-20cc498a-d722-465c-9935-d87c1a043000\">\n",
              "    <div class=\"colab-df-container\">\n",
              "      <div>\n",
              "<style scoped>\n",
              "    .dataframe tbody tr th:only-of-type {\n",
              "        vertical-align: middle;\n",
              "    }\n",
              "\n",
              "    .dataframe tbody tr th {\n",
              "        vertical-align: top;\n",
              "    }\n",
              "\n",
              "    .dataframe thead th {\n",
              "        text-align: right;\n",
              "    }\n",
              "</style>\n",
              "<table border=\"1\" class=\"dataframe\">\n",
              "  <thead>\n",
              "    <tr style=\"text-align: right;\">\n",
              "      <th></th>\n",
              "      <th>End Year</th>\n",
              "      <th>Proficiency Rate</th>\n",
              "      <th>Reported Spending per student</th>\n",
              "      <th>Money Difference per school</th>\n",
              "      <th>Classification</th>\n",
              "    </tr>\n",
              "  </thead>\n",
              "  <tbody>\n",
              "  </tbody>\n",
              "</table>\n",
              "</div>\n",
              "      <button class=\"colab-df-convert\" onclick=\"convertToInteractive('df-20cc498a-d722-465c-9935-d87c1a043000')\"\n",
              "              title=\"Convert this dataframe to an interactive table.\"\n",
              "              style=\"display:none;\">\n",
              "        \n",
              "  <svg xmlns=\"http://www.w3.org/2000/svg\" height=\"24px\"viewBox=\"0 0 24 24\"\n",
              "       width=\"24px\">\n",
              "    <path d=\"M0 0h24v24H0V0z\" fill=\"none\"/>\n",
              "    <path d=\"M18.56 5.44l.94 2.06.94-2.06 2.06-.94-2.06-.94-.94-2.06-.94 2.06-2.06.94zm-11 1L8.5 8.5l.94-2.06 2.06-.94-2.06-.94L8.5 2.5l-.94 2.06-2.06.94zm10 10l.94 2.06.94-2.06 2.06-.94-2.06-.94-.94-2.06-.94 2.06-2.06.94z\"/><path d=\"M17.41 7.96l-1.37-1.37c-.4-.4-.92-.59-1.43-.59-.52 0-1.04.2-1.43.59L10.3 9.45l-7.72 7.72c-.78.78-.78 2.05 0 2.83L4 21.41c.39.39.9.59 1.41.59.51 0 1.02-.2 1.41-.59l7.78-7.78 2.81-2.81c.8-.78.8-2.07 0-2.86zM5.41 20L4 18.59l7.72-7.72 1.47 1.35L5.41 20z\"/>\n",
              "  </svg>\n",
              "      </button>\n",
              "      \n",
              "  <style>\n",
              "    .colab-df-container {\n",
              "      display:flex;\n",
              "      flex-wrap:wrap;\n",
              "      gap: 12px;\n",
              "    }\n",
              "\n",
              "    .colab-df-convert {\n",
              "      background-color: #E8F0FE;\n",
              "      border: none;\n",
              "      border-radius: 50%;\n",
              "      cursor: pointer;\n",
              "      display: none;\n",
              "      fill: #1967D2;\n",
              "      height: 32px;\n",
              "      padding: 0 0 0 0;\n",
              "      width: 32px;\n",
              "    }\n",
              "\n",
              "    .colab-df-convert:hover {\n",
              "      background-color: #E2EBFA;\n",
              "      box-shadow: 0px 1px 2px rgba(60, 64, 67, 0.3), 0px 1px 3px 1px rgba(60, 64, 67, 0.15);\n",
              "      fill: #174EA6;\n",
              "    }\n",
              "\n",
              "    [theme=dark] .colab-df-convert {\n",
              "      background-color: #3B4455;\n",
              "      fill: #D2E3FC;\n",
              "    }\n",
              "\n",
              "    [theme=dark] .colab-df-convert:hover {\n",
              "      background-color: #434B5C;\n",
              "      box-shadow: 0px 1px 3px 1px rgba(0, 0, 0, 0.15);\n",
              "      filter: drop-shadow(0px 1px 2px rgba(0, 0, 0, 0.3));\n",
              "      fill: #FFFFFF;\n",
              "    }\n",
              "  </style>\n",
              "\n",
              "      <script>\n",
              "        const buttonEl =\n",
              "          document.querySelector('#df-20cc498a-d722-465c-9935-d87c1a043000 button.colab-df-convert');\n",
              "        buttonEl.style.display =\n",
              "          google.colab.kernel.accessAllowed ? 'block' : 'none';\n",
              "\n",
              "        async function convertToInteractive(key) {\n",
              "          const element = document.querySelector('#df-20cc498a-d722-465c-9935-d87c1a043000');\n",
              "          const dataTable =\n",
              "            await google.colab.kernel.invokeFunction('convertToInteractive',\n",
              "                                                     [key], {});\n",
              "          if (!dataTable) return;\n",
              "\n",
              "          const docLinkHtml = 'Like what you see? Visit the ' +\n",
              "            '<a target=\"_blank\" href=https://colab.research.google.com/notebooks/data_table.ipynb>data table notebook</a>'\n",
              "            + ' to learn more about interactive tables.';\n",
              "          element.innerHTML = '';\n",
              "          dataTable['output_type'] = 'display_data';\n",
              "          await google.colab.output.renderOutput(dataTable, element);\n",
              "          const docLink = document.createElement('div');\n",
              "          docLink.innerHTML = docLinkHtml;\n",
              "          element.appendChild(docLink);\n",
              "        }\n",
              "      </script>\n",
              "    </div>\n",
              "  </div>\n",
              "  "
            ]
          },
          "metadata": {},
          "execution_count": 32
        }
      ]
    },
    {
      "cell_type": "code",
      "source": [
        "balanced_df.columns"
      ],
      "metadata": {
        "colab": {
          "base_uri": "https://localhost:8080/"
        },
        "id": "5Mk5pKgWlilq",
        "outputId": "15586ed8-9b22-43d6-bf3e-8cf35e4f7a6d"
      },
      "execution_count": 33,
      "outputs": [
        {
          "output_type": "execute_result",
          "data": {
            "text/plain": [
              "Index(['End Year', 'Proficiency Rate', 'Reported Spending per student',\n",
              "       'Money Difference per school', 'Classification'],\n",
              "      dtype='object')"
            ]
          },
          "metadata": {},
          "execution_count": 33
        }
      ]
    },
    {
      "cell_type": "code",
      "source": [
        "unscaled_inputs = balanced_df.values[:,:-1]"
      ],
      "metadata": {
        "id": "b0SLLubKqzxg"
      },
      "execution_count": 34,
      "outputs": []
    },
    {
      "cell_type": "code",
      "source": [
        "targets = balanced_df.values[:,-1]"
      ],
      "metadata": {
        "id": "IP-tneR3qz0o"
      },
      "execution_count": 35,
      "outputs": []
    },
    {
      "cell_type": "code",
      "source": [
        "# Split into training, validation, and test sets\n",
        "\n",
        "unscaled_X_train, unscaled_X_set, y_train, y_set = train_test_split(unscaled_inputs, targets, test_size=0.2, random_state=15)\n",
        "unscaled_X_valid, unscaled_X_test, y_valid, y_test = train_test_split(unscaled_X_set, y_set, test_size=0.5, random_state=13)"
      ],
      "metadata": {
        "id": "gi7cn2ppM4dv"
      },
      "execution_count": 36,
      "outputs": []
    },
    {
      "cell_type": "code",
      "source": [
        "# Scale data\n",
        "\n",
        "epsb_scaler = StandardScaler()\n",
        "\n",
        "# Calculate and store the mean and sd\n",
        "epsb_scaler.fit(unscaled_X_train)\n",
        "\n",
        "# Apply the scaler\n",
        "scaled_X_train = epsb_scaler.transform(unscaled_X_train)\n",
        "scaled_X_valid = epsb_scaler.transform(unscaled_X_valid)\n",
        "scaled_X_test = epsb_scaler.transform(unscaled_X_test)"
      ],
      "metadata": {
        "id": "WAQ-xMkwMz22"
      },
      "execution_count": 37,
      "outputs": []
    },
    {
      "cell_type": "code",
      "source": [
        "scaled_X_train.shape"
      ],
      "metadata": {
        "colab": {
          "base_uri": "https://localhost:8080/"
        },
        "id": "RUTB3WPnM4mU",
        "outputId": "91f7f8f4-fed4-47c4-dd88-b3d7713a94ef"
      },
      "execution_count": 38,
      "outputs": [
        {
          "output_type": "execute_result",
          "data": {
            "text/plain": [
              "(4188, 4)"
            ]
          },
          "metadata": {},
          "execution_count": 38
        }
      ]
    },
    {
      "cell_type": "code",
      "source": [
        "y_train"
      ],
      "metadata": {
        "colab": {
          "base_uri": "https://localhost:8080/"
        },
        "id": "FdYQwy0jr01b",
        "outputId": "9fde9944-f397-48ac-bd3d-ad46e74a0c4c"
      },
      "execution_count": 39,
      "outputs": [
        {
          "output_type": "execute_result",
          "data": {
            "text/plain": [
              "array([1., 2., 1., ..., 2., 1., 0.], dtype=float32)"
            ]
          },
          "metadata": {},
          "execution_count": 39
        }
      ]
    },
    {
      "cell_type": "code",
      "source": [
        "scaled_X_valid.shape"
      ],
      "metadata": {
        "colab": {
          "base_uri": "https://localhost:8080/"
        },
        "id": "YEsOUSBQsPQf",
        "outputId": "6cd38b0a-e2a7-4642-c834-b4fcca97ce4d"
      },
      "execution_count": 40,
      "outputs": [
        {
          "output_type": "execute_result",
          "data": {
            "text/plain": [
              "(523, 4)"
            ]
          },
          "metadata": {},
          "execution_count": 40
        }
      ]
    },
    {
      "cell_type": "code",
      "source": [
        "y_valid.shape"
      ],
      "metadata": {
        "colab": {
          "base_uri": "https://localhost:8080/"
        },
        "id": "NO_XLr7XsPUH",
        "outputId": "3bad3f6b-2978-4118-e975-78312a128315"
      },
      "execution_count": 41,
      "outputs": [
        {
          "output_type": "execute_result",
          "data": {
            "text/plain": [
              "(523,)"
            ]
          },
          "metadata": {},
          "execution_count": 41
        }
      ]
    },
    {
      "cell_type": "code",
      "source": [
        "scaled_X_test.shape"
      ],
      "metadata": {
        "colab": {
          "base_uri": "https://localhost:8080/"
        },
        "id": "XCdZClZNRI_m",
        "outputId": "fac30e60-f7fe-42a9-f0d2-214468749dd6"
      },
      "execution_count": 42,
      "outputs": [
        {
          "output_type": "execute_result",
          "data": {
            "text/plain": [
              "(524, 4)"
            ]
          },
          "metadata": {},
          "execution_count": 42
        }
      ]
    },
    {
      "cell_type": "code",
      "source": [
        "y_test.shape"
      ],
      "metadata": {
        "colab": {
          "base_uri": "https://localhost:8080/"
        },
        "id": "d6PEs79HsAiU",
        "outputId": "a2d989ab-02a4-4425-868a-a3ab52c28974"
      },
      "execution_count": 43,
      "outputs": [
        {
          "output_type": "execute_result",
          "data": {
            "text/plain": [
              "(524,)"
            ]
          },
          "metadata": {},
          "execution_count": 43
        }
      ]
    },
    {
      "cell_type": "code",
      "source": [],
      "metadata": {
        "id": "eFF1xL3DshXJ"
      },
      "execution_count": 43,
      "outputs": []
    },
    {
      "cell_type": "markdown",
      "source": [
        "## Model"
      ],
      "metadata": {
        "id": "22iLAmwjZhWX"
      }
    },
    {
      "cell_type": "code",
      "source": [
        "# Create the model\n",
        "# Ran different rounds of the below model.  Some of the options I put in comments to the right.\n",
        "\n",
        "input_size = 4\n",
        "output_size = 3\n",
        "hidden_layer_size = 15 # for this problem, optimal results were between 10-20 layers\n",
        "\n",
        "model = tf.keras.Sequential([\n",
        "    tf.keras.layers.Dense(hidden_layer_size, activation='tanh'),    # attempted to make this linear, only use the proficency in the input layers, and it only came to 77% valid accuracy or less\n",
        "    tf.keras.layers.Dense(hidden_layer_size, activation='tanh'),\n",
        "    tf.keras.layers.Dense(output_size, activation='softmax') # the sigmoid function made the model decrease in accuracy\n",
        "    ])\n",
        "\n",
        "model.compile(optimizer='adam', loss='sparse_categorical_crossentropy', metrics=['accuracy'])\n"
      ],
      "metadata": {
        "id": "tkeoXJwLGtRf"
      },
      "execution_count": 44,
      "outputs": []
    },
    {
      "cell_type": "code",
      "source": [
        "# Fit the model\n",
        "\n",
        "batch_size = 50  # started with batch size 25\n",
        "max_epochs = 100 # started with 20 epochs\n",
        "\n",
        "early_stopping = tf.keras.callbacks.EarlyStopping(patience=5) # the adam optimizer has a learning rate of 0.001, so I added more patience \n",
        "\n",
        "model.fit(scaled_X_train, \n",
        "          y_train, \n",
        "          batch_size=batch_size,\n",
        "          epochs = max_epochs,\n",
        "          callbacks = [early_stopping],\n",
        "          validation_data = (scaled_X_valid, y_valid),\n",
        "          verbose =2)\n",
        "\n",
        "\n",
        "# Ran rounds using a multi-index of School Code & End Year.  But didn't get above a 78% validation accuracy\n",
        "# Added in the string values from KY rank/rating column, and the model went up to 89.6% validation accuracy\n",
        "\n"
      ],
      "metadata": {
        "colab": {
          "base_uri": "https://localhost:8080/"
        },
        "id": "BG2ubwNvGtW2",
        "outputId": "dcdb7717-80b0-467d-9086-9cc5d3d77052"
      },
      "execution_count": 45,
      "outputs": [
        {
          "output_type": "stream",
          "name": "stdout",
          "text": [
            "Epoch 1/100\n",
            "84/84 - 2s - loss: 0.9086 - accuracy: 0.5595 - val_loss: 0.7097 - val_accuracy: 0.6807 - 2s/epoch - 19ms/step\n",
            "Epoch 2/100\n",
            "84/84 - 0s - loss: 0.6484 - accuracy: 0.7003 - val_loss: 0.5809 - val_accuracy: 0.7304 - 382ms/epoch - 5ms/step\n",
            "Epoch 3/100\n",
            "84/84 - 0s - loss: 0.5675 - accuracy: 0.7376 - val_loss: 0.5203 - val_accuracy: 0.7648 - 303ms/epoch - 4ms/step\n",
            "Epoch 4/100\n",
            "84/84 - 0s - loss: 0.5303 - accuracy: 0.7488 - val_loss: 0.4867 - val_accuracy: 0.7706 - 304ms/epoch - 4ms/step\n",
            "Epoch 5/100\n",
            "84/84 - 0s - loss: 0.5115 - accuracy: 0.7622 - val_loss: 0.4722 - val_accuracy: 0.7706 - 331ms/epoch - 4ms/step\n",
            "Epoch 6/100\n",
            "84/84 - 0s - loss: 0.5019 - accuracy: 0.7624 - val_loss: 0.4578 - val_accuracy: 0.7725 - 254ms/epoch - 3ms/step\n",
            "Epoch 7/100\n",
            "84/84 - 0s - loss: 0.4932 - accuracy: 0.7667 - val_loss: 0.4516 - val_accuracy: 0.7801 - 450ms/epoch - 5ms/step\n",
            "Epoch 8/100\n",
            "84/84 - 1s - loss: 0.4868 - accuracy: 0.7667 - val_loss: 0.4422 - val_accuracy: 0.7820 - 538ms/epoch - 6ms/step\n",
            "Epoch 9/100\n",
            "84/84 - 1s - loss: 0.4785 - accuracy: 0.7760 - val_loss: 0.4367 - val_accuracy: 0.7859 - 598ms/epoch - 7ms/step\n",
            "Epoch 10/100\n",
            "84/84 - 0s - loss: 0.4711 - accuracy: 0.7787 - val_loss: 0.4267 - val_accuracy: 0.7954 - 440ms/epoch - 5ms/step\n",
            "Epoch 11/100\n",
            "84/84 - 0s - loss: 0.4627 - accuracy: 0.7822 - val_loss: 0.4160 - val_accuracy: 0.8031 - 406ms/epoch - 5ms/step\n",
            "Epoch 12/100\n",
            "84/84 - 1s - loss: 0.4550 - accuracy: 0.7887 - val_loss: 0.4126 - val_accuracy: 0.8069 - 559ms/epoch - 7ms/step\n",
            "Epoch 13/100\n",
            "84/84 - 1s - loss: 0.4475 - accuracy: 0.7932 - val_loss: 0.4049 - val_accuracy: 0.8222 - 537ms/epoch - 6ms/step\n",
            "Epoch 14/100\n",
            "84/84 - 0s - loss: 0.4393 - accuracy: 0.8047 - val_loss: 0.3983 - val_accuracy: 0.8222 - 463ms/epoch - 6ms/step\n",
            "Epoch 15/100\n",
            "84/84 - 1s - loss: 0.4330 - accuracy: 0.8066 - val_loss: 0.3961 - val_accuracy: 0.8279 - 531ms/epoch - 6ms/step\n",
            "Epoch 16/100\n",
            "84/84 - 1s - loss: 0.4264 - accuracy: 0.8109 - val_loss: 0.3891 - val_accuracy: 0.8375 - 526ms/epoch - 6ms/step\n",
            "Epoch 17/100\n",
            "84/84 - 0s - loss: 0.4204 - accuracy: 0.8133 - val_loss: 0.3899 - val_accuracy: 0.8356 - 302ms/epoch - 4ms/step\n",
            "Epoch 18/100\n",
            "84/84 - 0s - loss: 0.4162 - accuracy: 0.8161 - val_loss: 0.3878 - val_accuracy: 0.8298 - 390ms/epoch - 5ms/step\n",
            "Epoch 19/100\n",
            "84/84 - 0s - loss: 0.4129 - accuracy: 0.8181 - val_loss: 0.3891 - val_accuracy: 0.8260 - 405ms/epoch - 5ms/step\n",
            "Epoch 20/100\n",
            "84/84 - 0s - loss: 0.4097 - accuracy: 0.8192 - val_loss: 0.3805 - val_accuracy: 0.8356 - 489ms/epoch - 6ms/step\n",
            "Epoch 21/100\n",
            "84/84 - 0s - loss: 0.4056 - accuracy: 0.8233 - val_loss: 0.3785 - val_accuracy: 0.8317 - 366ms/epoch - 4ms/step\n",
            "Epoch 22/100\n",
            "84/84 - 0s - loss: 0.4041 - accuracy: 0.8226 - val_loss: 0.3776 - val_accuracy: 0.8317 - 314ms/epoch - 4ms/step\n",
            "Epoch 23/100\n",
            "84/84 - 0s - loss: 0.4006 - accuracy: 0.8255 - val_loss: 0.3727 - val_accuracy: 0.8375 - 280ms/epoch - 3ms/step\n",
            "Epoch 24/100\n",
            "84/84 - 0s - loss: 0.4002 - accuracy: 0.8212 - val_loss: 0.3760 - val_accuracy: 0.8298 - 309ms/epoch - 4ms/step\n",
            "Epoch 25/100\n",
            "84/84 - 0s - loss: 0.3986 - accuracy: 0.8235 - val_loss: 0.3789 - val_accuracy: 0.8317 - 275ms/epoch - 3ms/step\n",
            "Epoch 26/100\n",
            "84/84 - 0s - loss: 0.3963 - accuracy: 0.8243 - val_loss: 0.3751 - val_accuracy: 0.8260 - 231ms/epoch - 3ms/step\n",
            "Epoch 27/100\n",
            "84/84 - 0s - loss: 0.3967 - accuracy: 0.8250 - val_loss: 0.3732 - val_accuracy: 0.8317 - 393ms/epoch - 5ms/step\n",
            "Epoch 28/100\n",
            "84/84 - 0s - loss: 0.3957 - accuracy: 0.8302 - val_loss: 0.3752 - val_accuracy: 0.8298 - 284ms/epoch - 3ms/step\n"
          ]
        },
        {
          "output_type": "execute_result",
          "data": {
            "text/plain": [
              "<keras.callbacks.History at 0x7f8db1fa10d0>"
            ]
          },
          "metadata": {},
          "execution_count": 45
        }
      ]
    },
    {
      "cell_type": "code",
      "source": [
        "# test the model\n",
        "\n",
        "test_loss, test_accuracy = model.evaluate(scaled_X_test, y_test)"
      ],
      "metadata": {
        "colab": {
          "base_uri": "https://localhost:8080/"
        },
        "id": "SvVwCfw1GtZt",
        "outputId": "bfba846b-a509-4ba4-ac58-d5e4f9a8a852"
      },
      "execution_count": 46,
      "outputs": [
        {
          "output_type": "stream",
          "name": "stdout",
          "text": [
            "17/17 [==============================] - 0s 3ms/step - loss: 0.3701 - accuracy: 0.8473\n"
          ]
        }
      ]
    },
    {
      "cell_type": "code",
      "source": [
        "# Print Pretty\n",
        "\n",
        "print('\\nTest loss: {0:.2f}. Test accuracy: {1:.2f}%'.format(test_loss, test_accuracy*100.))"
      ],
      "metadata": {
        "colab": {
          "base_uri": "https://localhost:8080/"
        },
        "id": "zalRGu7N3sq9",
        "outputId": "72f311c1-09e5-44e2-8aa9-cb2ea0f7ddaf"
      },
      "execution_count": 47,
      "outputs": [
        {
          "output_type": "stream",
          "name": "stdout",
          "text": [
            "\n",
            "Test loss: 0.37. Test accuracy: 84.73%\n"
          ]
        }
      ]
    },
    {
      "cell_type": "code",
      "source": [
        "# Save model\n",
        "# Test accuracy for the saved model is 87.19%\n",
        "#tf.keras.models.save_model(model, '/content/drive/MyDrive/Colab Data/KY EPSB/model', include_optimizer=True)"
      ],
      "metadata": {
        "id": "c0E9NeLg3swR"
      },
      "execution_count": 48,
      "outputs": []
    },
    {
      "cell_type": "markdown",
      "source": [
        "## Predict Classification using model"
      ],
      "metadata": {
        "id": "fIw4UJzTBLBr"
      }
    },
    {
      "cell_type": "code",
      "source": [
        "# Grab the data that we want to predict\n",
        "inputs = predict_df.loc[:,['End Year', 'Proficiency Rate', 'Reported Spending per student', \n",
        "             'Money Difference per school']]\n",
        "\n",
        "# Convert to np array\n",
        "# scale data\n",
        "inputs = epsb_scaler.transform(inputs.values)\n"
      ],
      "metadata": {
        "id": "SAZjPHwgGtjV"
      },
      "execution_count": 49,
      "outputs": []
    },
    {
      "cell_type": "code",
      "source": [
        "pred_classification = model.predict(inputs)"
      ],
      "metadata": {
        "colab": {
          "base_uri": "https://localhost:8080/"
        },
        "id": "QBIKXHyM3s1J",
        "outputId": "b9039ea1-be1e-40ef-f5f3-dc4d19361c7c"
      },
      "execution_count": 50,
      "outputs": [
        {
          "output_type": "stream",
          "name": "stdout",
          "text": [
            "310/310 [==============================] - 1s 3ms/step\n"
          ]
        }
      ]
    },
    {
      "cell_type": "code",
      "source": [
        "pred_classification.shape"
      ],
      "metadata": {
        "colab": {
          "base_uri": "https://localhost:8080/"
        },
        "id": "8ZFlF95KIchn",
        "outputId": "8e359f4c-af4d-45c9-9cc9-92baff26291b"
      },
      "execution_count": 51,
      "outputs": [
        {
          "output_type": "execute_result",
          "data": {
            "text/plain": [
              "(9892, 3)"
            ]
          },
          "metadata": {},
          "execution_count": 51
        }
      ]
    },
    {
      "cell_type": "code",
      "source": [
        "pred_classification"
      ],
      "metadata": {
        "colab": {
          "base_uri": "https://localhost:8080/"
        },
        "id": "v6TrNSRMoElh",
        "outputId": "77d92a5a-a2f0-45c1-b564-a65c13ddba3e"
      },
      "execution_count": 52,
      "outputs": [
        {
          "output_type": "execute_result",
          "data": {
            "text/plain": [
              "array([[6.5400280e-02, 7.6869291e-01, 1.6590692e-01],\n",
              "       [8.9757686e-04, 1.3056773e-01, 8.6853468e-01],\n",
              "       [1.1593127e-05, 9.2154751e-03, 9.9077302e-01],\n",
              "       ...,\n",
              "       [2.0146270e-01, 7.8577209e-01, 1.2765243e-02],\n",
              "       [8.4829283e-01, 1.5069334e-01, 1.0138715e-03],\n",
              "       [3.4498674e-01, 6.4753294e-01, 7.4803876e-03]], dtype=float32)"
            ]
          },
          "metadata": {},
          "execution_count": 52
        }
      ]
    },
    {
      "cell_type": "code",
      "source": [
        "# Convert to a df\n",
        "pred_classification = pd.DataFrame(pred_classification, columns=['Distinguished', 'Proficient', 'Needs Improvement'])"
      ],
      "metadata": {
        "id": "e3ZQCoF7IcnV"
      },
      "execution_count": 53,
      "outputs": []
    },
    {
      "cell_type": "code",
      "source": [
        "# Select the column with the highest percentage\n",
        "pred_classification = pred_classification.idxmax(axis=1)"
      ],
      "metadata": {
        "id": "q0x0Ybs7QUyZ"
      },
      "execution_count": 54,
      "outputs": []
    },
    {
      "cell_type": "code",
      "source": [
        "pred_classification.shape"
      ],
      "metadata": {
        "colab": {
          "base_uri": "https://localhost:8080/"
        },
        "id": "346CVAo4dDVR",
        "outputId": "5d5e3f44-2199-45dc-f7b3-970c571a1127"
      },
      "execution_count": 55,
      "outputs": [
        {
          "output_type": "execute_result",
          "data": {
            "text/plain": [
              "(9892,)"
            ]
          },
          "metadata": {},
          "execution_count": 55
        }
      ]
    },
    {
      "cell_type": "code",
      "source": [
        "predict_df.index"
      ],
      "metadata": {
        "colab": {
          "base_uri": "https://localhost:8080/"
        },
        "id": "wFFeu4DLIck-",
        "outputId": "e83a481c-0650-4973-fc8b-81ab6cccf6a5"
      },
      "execution_count": 56,
      "outputs": [
        {
          "output_type": "execute_result",
          "data": {
            "text/plain": [
              "RangeIndex(start=0, stop=9892, step=1)"
            ]
          },
          "metadata": {},
          "execution_count": 56
        }
      ]
    },
    {
      "cell_type": "code",
      "source": [
        "predict_df['Predicted Classification'] = pred_classification"
      ],
      "metadata": {
        "id": "yT9h-_lrWMN8"
      },
      "execution_count": 57,
      "outputs": []
    },
    {
      "cell_type": "code",
      "source": [
        "predict_df"
      ],
      "metadata": {
        "colab": {
          "base_uri": "https://localhost:8080/",
          "height": 849
        },
        "id": "XS3Z6Q2Fp0Br",
        "outputId": "44ca01d7-5418-4f79-c2be-a5ab94db85d9"
      },
      "execution_count": 58,
      "outputs": [
        {
          "output_type": "execute_result",
          "data": {
            "text/plain": [
              "      End Year  District Code         District  School Code  \\\n",
              "0         2012              1     Adair County         1016   \n",
              "1         2012              1     Adair County         1010   \n",
              "2         2012              1     Adair County         1014   \n",
              "3         2012              5     Allen County         5060   \n",
              "4         2012              5     Allen County         5010   \n",
              "...        ...            ...              ...          ...   \n",
              "9887      2022            601  Woodford County       601090   \n",
              "9888      2022            601  Woodford County       601120   \n",
              "9889      2022            601  Woodford County       601075   \n",
              "9890      2022            601  Woodford County       601050   \n",
              "9891      2022            601  Woodford County       601084   \n",
              "\n",
              "                                School  Proficiency Rate     Classification  \\\n",
              "0       Adair County Elementary School                63         Proficient   \n",
              "1             Adair County High School                55  Needs Improvement   \n",
              "2           Adair County Middle School                48  Needs Improvement   \n",
              "3     Allen County Intermediate Center                56  Needs Improvement   \n",
              "4          Allen County Primary Center                50  Needs Improvement   \n",
              "...                                ...               ...                ...   \n",
              "9887      Huntertown Elementary School                77      Distinguished   \n",
              "9888       Northside Elementary School                69         Proficient   \n",
              "9889         Simmons Elementary School                70         Proficient   \n",
              "9890       Southside Elementary School                75      Distinguished   \n",
              "9891       Woodford County High School                68      Distinguished   \n",
              "\n",
              "      Reported Spending per student  Money Difference per school  \\\n",
              "0                          7,260.00                   -33,800.00   \n",
              "1                          6,460.00                   -36,400.00   \n",
              "2                          6,720.00                   -55,700.00   \n",
              "3                          6,570.00                   114,200.00   \n",
              "4                          7,930.00                   190,500.00   \n",
              "...                             ...                          ...   \n",
              "9887                      10,847.50                   115,625.00   \n",
              "9888                      12,173.75                    47,887.50   \n",
              "9889                      12,065.00                   -14,650.00   \n",
              "9890                      10,725.00                    70,762.50   \n",
              "9891                       9,492.50                    28,962.50   \n",
              "\n",
              "      Money Difference per student  Estimated Spending per student  \\\n",
              "0                           -60.00                        7,204.00   \n",
              "1                           -50.00                        6,405.00   \n",
              "2                          -140.00                        6,575.00   \n",
              "3                           160.00                        6,728.00   \n",
              "4                           210.00                        8,137.00   \n",
              "...                            ...                             ...   \n",
              "9887                        247.50                       11,094.25   \n",
              "9888                        151.25                       12,324.50   \n",
              "9889                        -30.00                       12,033.38   \n",
              "9890                        136.25                       10,861.75   \n",
              "9891                         23.75                        9,515.38   \n",
              "\n",
              "     Predicted Classification  \n",
              "0                  Proficient  \n",
              "1           Needs Improvement  \n",
              "2           Needs Improvement  \n",
              "3           Needs Improvement  \n",
              "4           Needs Improvement  \n",
              "...                       ...  \n",
              "9887            Distinguished  \n",
              "9888               Proficient  \n",
              "9889               Proficient  \n",
              "9890            Distinguished  \n",
              "9891               Proficient  \n",
              "\n",
              "[9892 rows x 12 columns]"
            ],
            "text/html": [
              "\n",
              "  <div id=\"df-09bef6d7-1ef2-48c0-a1ce-133b072aa9d4\">\n",
              "    <div class=\"colab-df-container\">\n",
              "      <div>\n",
              "<style scoped>\n",
              "    .dataframe tbody tr th:only-of-type {\n",
              "        vertical-align: middle;\n",
              "    }\n",
              "\n",
              "    .dataframe tbody tr th {\n",
              "        vertical-align: top;\n",
              "    }\n",
              "\n",
              "    .dataframe thead th {\n",
              "        text-align: right;\n",
              "    }\n",
              "</style>\n",
              "<table border=\"1\" class=\"dataframe\">\n",
              "  <thead>\n",
              "    <tr style=\"text-align: right;\">\n",
              "      <th></th>\n",
              "      <th>End Year</th>\n",
              "      <th>District Code</th>\n",
              "      <th>District</th>\n",
              "      <th>School Code</th>\n",
              "      <th>School</th>\n",
              "      <th>Proficiency Rate</th>\n",
              "      <th>Classification</th>\n",
              "      <th>Reported Spending per student</th>\n",
              "      <th>Money Difference per school</th>\n",
              "      <th>Money Difference per student</th>\n",
              "      <th>Estimated Spending per student</th>\n",
              "      <th>Predicted Classification</th>\n",
              "    </tr>\n",
              "  </thead>\n",
              "  <tbody>\n",
              "    <tr>\n",
              "      <th>0</th>\n",
              "      <td>2012</td>\n",
              "      <td>1</td>\n",
              "      <td>Adair County</td>\n",
              "      <td>1016</td>\n",
              "      <td>Adair County Elementary School</td>\n",
              "      <td>63</td>\n",
              "      <td>Proficient</td>\n",
              "      <td>7,260.00</td>\n",
              "      <td>-33,800.00</td>\n",
              "      <td>-60.00</td>\n",
              "      <td>7,204.00</td>\n",
              "      <td>Proficient</td>\n",
              "    </tr>\n",
              "    <tr>\n",
              "      <th>1</th>\n",
              "      <td>2012</td>\n",
              "      <td>1</td>\n",
              "      <td>Adair County</td>\n",
              "      <td>1010</td>\n",
              "      <td>Adair County High School</td>\n",
              "      <td>55</td>\n",
              "      <td>Needs Improvement</td>\n",
              "      <td>6,460.00</td>\n",
              "      <td>-36,400.00</td>\n",
              "      <td>-50.00</td>\n",
              "      <td>6,405.00</td>\n",
              "      <td>Needs Improvement</td>\n",
              "    </tr>\n",
              "    <tr>\n",
              "      <th>2</th>\n",
              "      <td>2012</td>\n",
              "      <td>1</td>\n",
              "      <td>Adair County</td>\n",
              "      <td>1014</td>\n",
              "      <td>Adair County Middle School</td>\n",
              "      <td>48</td>\n",
              "      <td>Needs Improvement</td>\n",
              "      <td>6,720.00</td>\n",
              "      <td>-55,700.00</td>\n",
              "      <td>-140.00</td>\n",
              "      <td>6,575.00</td>\n",
              "      <td>Needs Improvement</td>\n",
              "    </tr>\n",
              "    <tr>\n",
              "      <th>3</th>\n",
              "      <td>2012</td>\n",
              "      <td>5</td>\n",
              "      <td>Allen County</td>\n",
              "      <td>5060</td>\n",
              "      <td>Allen County Intermediate Center</td>\n",
              "      <td>56</td>\n",
              "      <td>Needs Improvement</td>\n",
              "      <td>6,570.00</td>\n",
              "      <td>114,200.00</td>\n",
              "      <td>160.00</td>\n",
              "      <td>6,728.00</td>\n",
              "      <td>Needs Improvement</td>\n",
              "    </tr>\n",
              "    <tr>\n",
              "      <th>4</th>\n",
              "      <td>2012</td>\n",
              "      <td>5</td>\n",
              "      <td>Allen County</td>\n",
              "      <td>5010</td>\n",
              "      <td>Allen County Primary Center</td>\n",
              "      <td>50</td>\n",
              "      <td>Needs Improvement</td>\n",
              "      <td>7,930.00</td>\n",
              "      <td>190,500.00</td>\n",
              "      <td>210.00</td>\n",
              "      <td>8,137.00</td>\n",
              "      <td>Needs Improvement</td>\n",
              "    </tr>\n",
              "    <tr>\n",
              "      <th>...</th>\n",
              "      <td>...</td>\n",
              "      <td>...</td>\n",
              "      <td>...</td>\n",
              "      <td>...</td>\n",
              "      <td>...</td>\n",
              "      <td>...</td>\n",
              "      <td>...</td>\n",
              "      <td>...</td>\n",
              "      <td>...</td>\n",
              "      <td>...</td>\n",
              "      <td>...</td>\n",
              "      <td>...</td>\n",
              "    </tr>\n",
              "    <tr>\n",
              "      <th>9887</th>\n",
              "      <td>2022</td>\n",
              "      <td>601</td>\n",
              "      <td>Woodford County</td>\n",
              "      <td>601090</td>\n",
              "      <td>Huntertown Elementary School</td>\n",
              "      <td>77</td>\n",
              "      <td>Distinguished</td>\n",
              "      <td>10,847.50</td>\n",
              "      <td>115,625.00</td>\n",
              "      <td>247.50</td>\n",
              "      <td>11,094.25</td>\n",
              "      <td>Distinguished</td>\n",
              "    </tr>\n",
              "    <tr>\n",
              "      <th>9888</th>\n",
              "      <td>2022</td>\n",
              "      <td>601</td>\n",
              "      <td>Woodford County</td>\n",
              "      <td>601120</td>\n",
              "      <td>Northside Elementary School</td>\n",
              "      <td>69</td>\n",
              "      <td>Proficient</td>\n",
              "      <td>12,173.75</td>\n",
              "      <td>47,887.50</td>\n",
              "      <td>151.25</td>\n",
              "      <td>12,324.50</td>\n",
              "      <td>Proficient</td>\n",
              "    </tr>\n",
              "    <tr>\n",
              "      <th>9889</th>\n",
              "      <td>2022</td>\n",
              "      <td>601</td>\n",
              "      <td>Woodford County</td>\n",
              "      <td>601075</td>\n",
              "      <td>Simmons Elementary School</td>\n",
              "      <td>70</td>\n",
              "      <td>Proficient</td>\n",
              "      <td>12,065.00</td>\n",
              "      <td>-14,650.00</td>\n",
              "      <td>-30.00</td>\n",
              "      <td>12,033.38</td>\n",
              "      <td>Proficient</td>\n",
              "    </tr>\n",
              "    <tr>\n",
              "      <th>9890</th>\n",
              "      <td>2022</td>\n",
              "      <td>601</td>\n",
              "      <td>Woodford County</td>\n",
              "      <td>601050</td>\n",
              "      <td>Southside Elementary School</td>\n",
              "      <td>75</td>\n",
              "      <td>Distinguished</td>\n",
              "      <td>10,725.00</td>\n",
              "      <td>70,762.50</td>\n",
              "      <td>136.25</td>\n",
              "      <td>10,861.75</td>\n",
              "      <td>Distinguished</td>\n",
              "    </tr>\n",
              "    <tr>\n",
              "      <th>9891</th>\n",
              "      <td>2022</td>\n",
              "      <td>601</td>\n",
              "      <td>Woodford County</td>\n",
              "      <td>601084</td>\n",
              "      <td>Woodford County High School</td>\n",
              "      <td>68</td>\n",
              "      <td>Distinguished</td>\n",
              "      <td>9,492.50</td>\n",
              "      <td>28,962.50</td>\n",
              "      <td>23.75</td>\n",
              "      <td>9,515.38</td>\n",
              "      <td>Proficient</td>\n",
              "    </tr>\n",
              "  </tbody>\n",
              "</table>\n",
              "<p>9892 rows × 12 columns</p>\n",
              "</div>\n",
              "      <button class=\"colab-df-convert\" onclick=\"convertToInteractive('df-09bef6d7-1ef2-48c0-a1ce-133b072aa9d4')\"\n",
              "              title=\"Convert this dataframe to an interactive table.\"\n",
              "              style=\"display:none;\">\n",
              "        \n",
              "  <svg xmlns=\"http://www.w3.org/2000/svg\" height=\"24px\"viewBox=\"0 0 24 24\"\n",
              "       width=\"24px\">\n",
              "    <path d=\"M0 0h24v24H0V0z\" fill=\"none\"/>\n",
              "    <path d=\"M18.56 5.44l.94 2.06.94-2.06 2.06-.94-2.06-.94-.94-2.06-.94 2.06-2.06.94zm-11 1L8.5 8.5l.94-2.06 2.06-.94-2.06-.94L8.5 2.5l-.94 2.06-2.06.94zm10 10l.94 2.06.94-2.06 2.06-.94-2.06-.94-.94-2.06-.94 2.06-2.06.94z\"/><path d=\"M17.41 7.96l-1.37-1.37c-.4-.4-.92-.59-1.43-.59-.52 0-1.04.2-1.43.59L10.3 9.45l-7.72 7.72c-.78.78-.78 2.05 0 2.83L4 21.41c.39.39.9.59 1.41.59.51 0 1.02-.2 1.41-.59l7.78-7.78 2.81-2.81c.8-.78.8-2.07 0-2.86zM5.41 20L4 18.59l7.72-7.72 1.47 1.35L5.41 20z\"/>\n",
              "  </svg>\n",
              "      </button>\n",
              "      \n",
              "  <style>\n",
              "    .colab-df-container {\n",
              "      display:flex;\n",
              "      flex-wrap:wrap;\n",
              "      gap: 12px;\n",
              "    }\n",
              "\n",
              "    .colab-df-convert {\n",
              "      background-color: #E8F0FE;\n",
              "      border: none;\n",
              "      border-radius: 50%;\n",
              "      cursor: pointer;\n",
              "      display: none;\n",
              "      fill: #1967D2;\n",
              "      height: 32px;\n",
              "      padding: 0 0 0 0;\n",
              "      width: 32px;\n",
              "    }\n",
              "\n",
              "    .colab-df-convert:hover {\n",
              "      background-color: #E2EBFA;\n",
              "      box-shadow: 0px 1px 2px rgba(60, 64, 67, 0.3), 0px 1px 3px 1px rgba(60, 64, 67, 0.15);\n",
              "      fill: #174EA6;\n",
              "    }\n",
              "\n",
              "    [theme=dark] .colab-df-convert {\n",
              "      background-color: #3B4455;\n",
              "      fill: #D2E3FC;\n",
              "    }\n",
              "\n",
              "    [theme=dark] .colab-df-convert:hover {\n",
              "      background-color: #434B5C;\n",
              "      box-shadow: 0px 1px 3px 1px rgba(0, 0, 0, 0.15);\n",
              "      filter: drop-shadow(0px 1px 2px rgba(0, 0, 0, 0.3));\n",
              "      fill: #FFFFFF;\n",
              "    }\n",
              "  </style>\n",
              "\n",
              "      <script>\n",
              "        const buttonEl =\n",
              "          document.querySelector('#df-09bef6d7-1ef2-48c0-a1ce-133b072aa9d4 button.colab-df-convert');\n",
              "        buttonEl.style.display =\n",
              "          google.colab.kernel.accessAllowed ? 'block' : 'none';\n",
              "\n",
              "        async function convertToInteractive(key) {\n",
              "          const element = document.querySelector('#df-09bef6d7-1ef2-48c0-a1ce-133b072aa9d4');\n",
              "          const dataTable =\n",
              "            await google.colab.kernel.invokeFunction('convertToInteractive',\n",
              "                                                     [key], {});\n",
              "          if (!dataTable) return;\n",
              "\n",
              "          const docLinkHtml = 'Like what you see? Visit the ' +\n",
              "            '<a target=\"_blank\" href=https://colab.research.google.com/notebooks/data_table.ipynb>data table notebook</a>'\n",
              "            + ' to learn more about interactive tables.';\n",
              "          element.innerHTML = '';\n",
              "          dataTable['output_type'] = 'display_data';\n",
              "          await google.colab.output.renderOutput(dataTable, element);\n",
              "          const docLink = document.createElement('div');\n",
              "          docLink.innerHTML = docLinkHtml;\n",
              "          element.appendChild(docLink);\n",
              "        }\n",
              "      </script>\n",
              "    </div>\n",
              "  </div>\n",
              "  "
            ]
          },
          "metadata": {},
          "execution_count": 58
        }
      ]
    },
    {
      "cell_type": "code",
      "source": [
        "predict_df['Classification'].fillna(predict_df['Predicted Classification'], inplace = True)"
      ],
      "metadata": {
        "id": "h1tbSSBtahJA"
      },
      "execution_count": 59,
      "outputs": []
    },
    {
      "cell_type": "code",
      "source": [
        "predict_df['Classification'].value_counts(dropna=False)\n"
      ],
      "metadata": {
        "colab": {
          "base_uri": "https://localhost:8080/"
        },
        "id": "LFbKgr8k-MTL",
        "outputId": "1b1d32cc-16ba-4897-9105-9c6799c606b0"
      },
      "execution_count": 60,
      "outputs": [
        {
          "output_type": "execute_result",
          "data": {
            "text/plain": [
              "Needs Improvement    4454\n",
              "Proficient           2763\n",
              "Distinguished        2671\n",
              "NaN                     4\n",
              "Name: Classification, dtype: int64"
            ]
          },
          "metadata": {},
          "execution_count": 60
        }
      ]
    },
    {
      "cell_type": "code",
      "source": [
        "cnt = 0\n",
        "\n",
        "for i in predict_df.index:\n",
        "  if predict_df['Classification'][i] != predict_df['Predicted Classification'][i]:\n",
        "    cnt += 1\n",
        "\n",
        "# Determine the accuracy of the predict_df using the test accuracy, and subtracting the values we already know are inaccurate. \n",
        "# The simplified equation is as follows:\n",
        "\n",
        "model_accuracy = test_accuracy + (cnt / len(predict_df))\n",
        "\n",
        "model_accuracy"
      ],
      "metadata": {
        "colab": {
          "base_uri": "https://localhost:8080/"
        },
        "id": "kTyWR7eT-Net",
        "outputId": "54c5067f-6866-4720-f8ab-59a8dd363721"
      },
      "execution_count": 61,
      "outputs": [
        {
          "output_type": "execute_result",
          "data": {
            "text/plain": [
              "0.9620674288181269"
            ]
          },
          "metadata": {},
          "execution_count": 61
        }
      ]
    },
    {
      "cell_type": "code",
      "source": [
        "predict_df"
      ],
      "metadata": {
        "colab": {
          "base_uri": "https://localhost:8080/",
          "height": 849
        },
        "id": "hQwzGj9b-Ni3",
        "outputId": "1fe6c7a5-1efd-42d0-b55c-b27a9c17c60f"
      },
      "execution_count": 62,
      "outputs": [
        {
          "output_type": "execute_result",
          "data": {
            "text/plain": [
              "      End Year  District Code         District  School Code  \\\n",
              "0         2012              1     Adair County         1016   \n",
              "1         2012              1     Adair County         1010   \n",
              "2         2012              1     Adair County         1014   \n",
              "3         2012              5     Allen County         5060   \n",
              "4         2012              5     Allen County         5010   \n",
              "...        ...            ...              ...          ...   \n",
              "9887      2022            601  Woodford County       601090   \n",
              "9888      2022            601  Woodford County       601120   \n",
              "9889      2022            601  Woodford County       601075   \n",
              "9890      2022            601  Woodford County       601050   \n",
              "9891      2022            601  Woodford County       601084   \n",
              "\n",
              "                                School  Proficiency Rate     Classification  \\\n",
              "0       Adair County Elementary School                63         Proficient   \n",
              "1             Adair County High School                55  Needs Improvement   \n",
              "2           Adair County Middle School                48  Needs Improvement   \n",
              "3     Allen County Intermediate Center                56  Needs Improvement   \n",
              "4          Allen County Primary Center                50  Needs Improvement   \n",
              "...                                ...               ...                ...   \n",
              "9887      Huntertown Elementary School                77      Distinguished   \n",
              "9888       Northside Elementary School                69         Proficient   \n",
              "9889         Simmons Elementary School                70         Proficient   \n",
              "9890       Southside Elementary School                75      Distinguished   \n",
              "9891       Woodford County High School                68      Distinguished   \n",
              "\n",
              "      Reported Spending per student  Money Difference per school  \\\n",
              "0                          7,260.00                   -33,800.00   \n",
              "1                          6,460.00                   -36,400.00   \n",
              "2                          6,720.00                   -55,700.00   \n",
              "3                          6,570.00                   114,200.00   \n",
              "4                          7,930.00                   190,500.00   \n",
              "...                             ...                          ...   \n",
              "9887                      10,847.50                   115,625.00   \n",
              "9888                      12,173.75                    47,887.50   \n",
              "9889                      12,065.00                   -14,650.00   \n",
              "9890                      10,725.00                    70,762.50   \n",
              "9891                       9,492.50                    28,962.50   \n",
              "\n",
              "      Money Difference per student  Estimated Spending per student  \\\n",
              "0                           -60.00                        7,204.00   \n",
              "1                           -50.00                        6,405.00   \n",
              "2                          -140.00                        6,575.00   \n",
              "3                           160.00                        6,728.00   \n",
              "4                           210.00                        8,137.00   \n",
              "...                            ...                             ...   \n",
              "9887                        247.50                       11,094.25   \n",
              "9888                        151.25                       12,324.50   \n",
              "9889                        -30.00                       12,033.38   \n",
              "9890                        136.25                       10,861.75   \n",
              "9891                         23.75                        9,515.38   \n",
              "\n",
              "     Predicted Classification  \n",
              "0                  Proficient  \n",
              "1           Needs Improvement  \n",
              "2           Needs Improvement  \n",
              "3           Needs Improvement  \n",
              "4           Needs Improvement  \n",
              "...                       ...  \n",
              "9887            Distinguished  \n",
              "9888               Proficient  \n",
              "9889               Proficient  \n",
              "9890            Distinguished  \n",
              "9891               Proficient  \n",
              "\n",
              "[9892 rows x 12 columns]"
            ],
            "text/html": [
              "\n",
              "  <div id=\"df-37fb269d-4ee3-4a61-a330-25fa5a50d884\">\n",
              "    <div class=\"colab-df-container\">\n",
              "      <div>\n",
              "<style scoped>\n",
              "    .dataframe tbody tr th:only-of-type {\n",
              "        vertical-align: middle;\n",
              "    }\n",
              "\n",
              "    .dataframe tbody tr th {\n",
              "        vertical-align: top;\n",
              "    }\n",
              "\n",
              "    .dataframe thead th {\n",
              "        text-align: right;\n",
              "    }\n",
              "</style>\n",
              "<table border=\"1\" class=\"dataframe\">\n",
              "  <thead>\n",
              "    <tr style=\"text-align: right;\">\n",
              "      <th></th>\n",
              "      <th>End Year</th>\n",
              "      <th>District Code</th>\n",
              "      <th>District</th>\n",
              "      <th>School Code</th>\n",
              "      <th>School</th>\n",
              "      <th>Proficiency Rate</th>\n",
              "      <th>Classification</th>\n",
              "      <th>Reported Spending per student</th>\n",
              "      <th>Money Difference per school</th>\n",
              "      <th>Money Difference per student</th>\n",
              "      <th>Estimated Spending per student</th>\n",
              "      <th>Predicted Classification</th>\n",
              "    </tr>\n",
              "  </thead>\n",
              "  <tbody>\n",
              "    <tr>\n",
              "      <th>0</th>\n",
              "      <td>2012</td>\n",
              "      <td>1</td>\n",
              "      <td>Adair County</td>\n",
              "      <td>1016</td>\n",
              "      <td>Adair County Elementary School</td>\n",
              "      <td>63</td>\n",
              "      <td>Proficient</td>\n",
              "      <td>7,260.00</td>\n",
              "      <td>-33,800.00</td>\n",
              "      <td>-60.00</td>\n",
              "      <td>7,204.00</td>\n",
              "      <td>Proficient</td>\n",
              "    </tr>\n",
              "    <tr>\n",
              "      <th>1</th>\n",
              "      <td>2012</td>\n",
              "      <td>1</td>\n",
              "      <td>Adair County</td>\n",
              "      <td>1010</td>\n",
              "      <td>Adair County High School</td>\n",
              "      <td>55</td>\n",
              "      <td>Needs Improvement</td>\n",
              "      <td>6,460.00</td>\n",
              "      <td>-36,400.00</td>\n",
              "      <td>-50.00</td>\n",
              "      <td>6,405.00</td>\n",
              "      <td>Needs Improvement</td>\n",
              "    </tr>\n",
              "    <tr>\n",
              "      <th>2</th>\n",
              "      <td>2012</td>\n",
              "      <td>1</td>\n",
              "      <td>Adair County</td>\n",
              "      <td>1014</td>\n",
              "      <td>Adair County Middle School</td>\n",
              "      <td>48</td>\n",
              "      <td>Needs Improvement</td>\n",
              "      <td>6,720.00</td>\n",
              "      <td>-55,700.00</td>\n",
              "      <td>-140.00</td>\n",
              "      <td>6,575.00</td>\n",
              "      <td>Needs Improvement</td>\n",
              "    </tr>\n",
              "    <tr>\n",
              "      <th>3</th>\n",
              "      <td>2012</td>\n",
              "      <td>5</td>\n",
              "      <td>Allen County</td>\n",
              "      <td>5060</td>\n",
              "      <td>Allen County Intermediate Center</td>\n",
              "      <td>56</td>\n",
              "      <td>Needs Improvement</td>\n",
              "      <td>6,570.00</td>\n",
              "      <td>114,200.00</td>\n",
              "      <td>160.00</td>\n",
              "      <td>6,728.00</td>\n",
              "      <td>Needs Improvement</td>\n",
              "    </tr>\n",
              "    <tr>\n",
              "      <th>4</th>\n",
              "      <td>2012</td>\n",
              "      <td>5</td>\n",
              "      <td>Allen County</td>\n",
              "      <td>5010</td>\n",
              "      <td>Allen County Primary Center</td>\n",
              "      <td>50</td>\n",
              "      <td>Needs Improvement</td>\n",
              "      <td>7,930.00</td>\n",
              "      <td>190,500.00</td>\n",
              "      <td>210.00</td>\n",
              "      <td>8,137.00</td>\n",
              "      <td>Needs Improvement</td>\n",
              "    </tr>\n",
              "    <tr>\n",
              "      <th>...</th>\n",
              "      <td>...</td>\n",
              "      <td>...</td>\n",
              "      <td>...</td>\n",
              "      <td>...</td>\n",
              "      <td>...</td>\n",
              "      <td>...</td>\n",
              "      <td>...</td>\n",
              "      <td>...</td>\n",
              "      <td>...</td>\n",
              "      <td>...</td>\n",
              "      <td>...</td>\n",
              "      <td>...</td>\n",
              "    </tr>\n",
              "    <tr>\n",
              "      <th>9887</th>\n",
              "      <td>2022</td>\n",
              "      <td>601</td>\n",
              "      <td>Woodford County</td>\n",
              "      <td>601090</td>\n",
              "      <td>Huntertown Elementary School</td>\n",
              "      <td>77</td>\n",
              "      <td>Distinguished</td>\n",
              "      <td>10,847.50</td>\n",
              "      <td>115,625.00</td>\n",
              "      <td>247.50</td>\n",
              "      <td>11,094.25</td>\n",
              "      <td>Distinguished</td>\n",
              "    </tr>\n",
              "    <tr>\n",
              "      <th>9888</th>\n",
              "      <td>2022</td>\n",
              "      <td>601</td>\n",
              "      <td>Woodford County</td>\n",
              "      <td>601120</td>\n",
              "      <td>Northside Elementary School</td>\n",
              "      <td>69</td>\n",
              "      <td>Proficient</td>\n",
              "      <td>12,173.75</td>\n",
              "      <td>47,887.50</td>\n",
              "      <td>151.25</td>\n",
              "      <td>12,324.50</td>\n",
              "      <td>Proficient</td>\n",
              "    </tr>\n",
              "    <tr>\n",
              "      <th>9889</th>\n",
              "      <td>2022</td>\n",
              "      <td>601</td>\n",
              "      <td>Woodford County</td>\n",
              "      <td>601075</td>\n",
              "      <td>Simmons Elementary School</td>\n",
              "      <td>70</td>\n",
              "      <td>Proficient</td>\n",
              "      <td>12,065.00</td>\n",
              "      <td>-14,650.00</td>\n",
              "      <td>-30.00</td>\n",
              "      <td>12,033.38</td>\n",
              "      <td>Proficient</td>\n",
              "    </tr>\n",
              "    <tr>\n",
              "      <th>9890</th>\n",
              "      <td>2022</td>\n",
              "      <td>601</td>\n",
              "      <td>Woodford County</td>\n",
              "      <td>601050</td>\n",
              "      <td>Southside Elementary School</td>\n",
              "      <td>75</td>\n",
              "      <td>Distinguished</td>\n",
              "      <td>10,725.00</td>\n",
              "      <td>70,762.50</td>\n",
              "      <td>136.25</td>\n",
              "      <td>10,861.75</td>\n",
              "      <td>Distinguished</td>\n",
              "    </tr>\n",
              "    <tr>\n",
              "      <th>9891</th>\n",
              "      <td>2022</td>\n",
              "      <td>601</td>\n",
              "      <td>Woodford County</td>\n",
              "      <td>601084</td>\n",
              "      <td>Woodford County High School</td>\n",
              "      <td>68</td>\n",
              "      <td>Distinguished</td>\n",
              "      <td>9,492.50</td>\n",
              "      <td>28,962.50</td>\n",
              "      <td>23.75</td>\n",
              "      <td>9,515.38</td>\n",
              "      <td>Proficient</td>\n",
              "    </tr>\n",
              "  </tbody>\n",
              "</table>\n",
              "<p>9892 rows × 12 columns</p>\n",
              "</div>\n",
              "      <button class=\"colab-df-convert\" onclick=\"convertToInteractive('df-37fb269d-4ee3-4a61-a330-25fa5a50d884')\"\n",
              "              title=\"Convert this dataframe to an interactive table.\"\n",
              "              style=\"display:none;\">\n",
              "        \n",
              "  <svg xmlns=\"http://www.w3.org/2000/svg\" height=\"24px\"viewBox=\"0 0 24 24\"\n",
              "       width=\"24px\">\n",
              "    <path d=\"M0 0h24v24H0V0z\" fill=\"none\"/>\n",
              "    <path d=\"M18.56 5.44l.94 2.06.94-2.06 2.06-.94-2.06-.94-.94-2.06-.94 2.06-2.06.94zm-11 1L8.5 8.5l.94-2.06 2.06-.94-2.06-.94L8.5 2.5l-.94 2.06-2.06.94zm10 10l.94 2.06.94-2.06 2.06-.94-2.06-.94-.94-2.06-.94 2.06-2.06.94z\"/><path d=\"M17.41 7.96l-1.37-1.37c-.4-.4-.92-.59-1.43-.59-.52 0-1.04.2-1.43.59L10.3 9.45l-7.72 7.72c-.78.78-.78 2.05 0 2.83L4 21.41c.39.39.9.59 1.41.59.51 0 1.02-.2 1.41-.59l7.78-7.78 2.81-2.81c.8-.78.8-2.07 0-2.86zM5.41 20L4 18.59l7.72-7.72 1.47 1.35L5.41 20z\"/>\n",
              "  </svg>\n",
              "      </button>\n",
              "      \n",
              "  <style>\n",
              "    .colab-df-container {\n",
              "      display:flex;\n",
              "      flex-wrap:wrap;\n",
              "      gap: 12px;\n",
              "    }\n",
              "\n",
              "    .colab-df-convert {\n",
              "      background-color: #E8F0FE;\n",
              "      border: none;\n",
              "      border-radius: 50%;\n",
              "      cursor: pointer;\n",
              "      display: none;\n",
              "      fill: #1967D2;\n",
              "      height: 32px;\n",
              "      padding: 0 0 0 0;\n",
              "      width: 32px;\n",
              "    }\n",
              "\n",
              "    .colab-df-convert:hover {\n",
              "      background-color: #E2EBFA;\n",
              "      box-shadow: 0px 1px 2px rgba(60, 64, 67, 0.3), 0px 1px 3px 1px rgba(60, 64, 67, 0.15);\n",
              "      fill: #174EA6;\n",
              "    }\n",
              "\n",
              "    [theme=dark] .colab-df-convert {\n",
              "      background-color: #3B4455;\n",
              "      fill: #D2E3FC;\n",
              "    }\n",
              "\n",
              "    [theme=dark] .colab-df-convert:hover {\n",
              "      background-color: #434B5C;\n",
              "      box-shadow: 0px 1px 3px 1px rgba(0, 0, 0, 0.15);\n",
              "      filter: drop-shadow(0px 1px 2px rgba(0, 0, 0, 0.3));\n",
              "      fill: #FFFFFF;\n",
              "    }\n",
              "  </style>\n",
              "\n",
              "      <script>\n",
              "        const buttonEl =\n",
              "          document.querySelector('#df-37fb269d-4ee3-4a61-a330-25fa5a50d884 button.colab-df-convert');\n",
              "        buttonEl.style.display =\n",
              "          google.colab.kernel.accessAllowed ? 'block' : 'none';\n",
              "\n",
              "        async function convertToInteractive(key) {\n",
              "          const element = document.querySelector('#df-37fb269d-4ee3-4a61-a330-25fa5a50d884');\n",
              "          const dataTable =\n",
              "            await google.colab.kernel.invokeFunction('convertToInteractive',\n",
              "                                                     [key], {});\n",
              "          if (!dataTable) return;\n",
              "\n",
              "          const docLinkHtml = 'Like what you see? Visit the ' +\n",
              "            '<a target=\"_blank\" href=https://colab.research.google.com/notebooks/data_table.ipynb>data table notebook</a>'\n",
              "            + ' to learn more about interactive tables.';\n",
              "          element.innerHTML = '';\n",
              "          dataTable['output_type'] = 'display_data';\n",
              "          await google.colab.output.renderOutput(dataTable, element);\n",
              "          const docLink = document.createElement('div');\n",
              "          docLink.innerHTML = docLinkHtml;\n",
              "          element.appendChild(docLink);\n",
              "        }\n",
              "      </script>\n",
              "    </div>\n",
              "  </div>\n",
              "  "
            ]
          },
          "metadata": {},
          "execution_count": 62
        }
      ]
    },
    {
      "cell_type": "code",
      "source": [
        "predict_df[predict_df['School Code']==231190.]"
      ],
      "metadata": {
        "colab": {
          "base_uri": "https://localhost:8080/",
          "height": 896
        },
        "id": "__OqnrxWFbf2",
        "outputId": "a22baf45-b927-4b07-e2c1-eaf159060ca1"
      },
      "execution_count": 63,
      "outputs": [
        {
          "output_type": "execute_result",
          "data": {
            "text/plain": [
              "      End Year  District Code       District  School Code  \\\n",
              "399       2012            231  Hardin County       231190   \n",
              "1469      2013            231  Hardin County       231190   \n",
              "2542      2014            231  Hardin County       231190   \n",
              "3629      2015            231  Hardin County       231190   \n",
              "4718      2016            231  Hardin County       231190   \n",
              "5812      2017            231  Hardin County       231190   \n",
              "6921      2018            231  Hardin County       231190   \n",
              "8047      2019            231  Hardin County       231190   \n",
              "9184      2022            231  Hardin County       231190   \n",
              "\n",
              "                          School  Proficiency Rate     Classification  \\\n",
              "399   Central Hardin High School                61         Proficient   \n",
              "1469  Central Hardin High School                66      Distinguished   \n",
              "2542  Central Hardin High School                79      Distinguished   \n",
              "3629  Central Hardin High School                79      Distinguished   \n",
              "4718  Central Hardin High School                81      Distinguished   \n",
              "5812  Central Hardin High School                72         Proficient   \n",
              "6921  Central Hardin High School                65  Needs Improvement   \n",
              "8047  Central Hardin High School                59         Proficient   \n",
              "9184  Central Hardin High School                66      Distinguished   \n",
              "\n",
              "      Reported Spending per student  Money Difference per school  \\\n",
              "399                        5,410.00                   -12,500.00   \n",
              "1469                       6,510.00                   -53,300.00   \n",
              "2542                       6,310.00                   -72,700.00   \n",
              "3629                       6,550.00                   -48,100.00   \n",
              "4718                       6,270.00                  -177,400.00   \n",
              "5812                       6,760.00                   -95,700.00   \n",
              "6921                      16,740.00                   -83,400.00   \n",
              "8047                      18,580.00                   -64,900.00   \n",
              "9184                       9,141.25                   -76,000.00   \n",
              "\n",
              "      Money Difference per student  Estimated Spending per student  \\\n",
              "399                         -10.00                        5,403.00   \n",
              "1469                        -30.00                        6,478.00   \n",
              "2542                        -40.00                        6,273.00   \n",
              "3629                        -30.00                        6,520.00   \n",
              "4718                       -100.00                        6,170.00   \n",
              "5812                        -60.00                        6,708.00   \n",
              "6921                        -50.00                       16,692.00   \n",
              "8047                        -40.00                       18,545.00   \n",
              "9184                        -45.00                        9,098.62   \n",
              "\n",
              "     Predicted Classification  \n",
              "399                Proficient  \n",
              "1469               Proficient  \n",
              "2542            Distinguished  \n",
              "3629            Distinguished  \n",
              "4718            Distinguished  \n",
              "5812               Proficient  \n",
              "6921        Needs Improvement  \n",
              "8047        Needs Improvement  \n",
              "9184               Proficient  "
            ],
            "text/html": [
              "\n",
              "  <div id=\"df-5e559982-4948-4bf8-84db-72230478e9c9\">\n",
              "    <div class=\"colab-df-container\">\n",
              "      <div>\n",
              "<style scoped>\n",
              "    .dataframe tbody tr th:only-of-type {\n",
              "        vertical-align: middle;\n",
              "    }\n",
              "\n",
              "    .dataframe tbody tr th {\n",
              "        vertical-align: top;\n",
              "    }\n",
              "\n",
              "    .dataframe thead th {\n",
              "        text-align: right;\n",
              "    }\n",
              "</style>\n",
              "<table border=\"1\" class=\"dataframe\">\n",
              "  <thead>\n",
              "    <tr style=\"text-align: right;\">\n",
              "      <th></th>\n",
              "      <th>End Year</th>\n",
              "      <th>District Code</th>\n",
              "      <th>District</th>\n",
              "      <th>School Code</th>\n",
              "      <th>School</th>\n",
              "      <th>Proficiency Rate</th>\n",
              "      <th>Classification</th>\n",
              "      <th>Reported Spending per student</th>\n",
              "      <th>Money Difference per school</th>\n",
              "      <th>Money Difference per student</th>\n",
              "      <th>Estimated Spending per student</th>\n",
              "      <th>Predicted Classification</th>\n",
              "    </tr>\n",
              "  </thead>\n",
              "  <tbody>\n",
              "    <tr>\n",
              "      <th>399</th>\n",
              "      <td>2012</td>\n",
              "      <td>231</td>\n",
              "      <td>Hardin County</td>\n",
              "      <td>231190</td>\n",
              "      <td>Central Hardin High School</td>\n",
              "      <td>61</td>\n",
              "      <td>Proficient</td>\n",
              "      <td>5,410.00</td>\n",
              "      <td>-12,500.00</td>\n",
              "      <td>-10.00</td>\n",
              "      <td>5,403.00</td>\n",
              "      <td>Proficient</td>\n",
              "    </tr>\n",
              "    <tr>\n",
              "      <th>1469</th>\n",
              "      <td>2013</td>\n",
              "      <td>231</td>\n",
              "      <td>Hardin County</td>\n",
              "      <td>231190</td>\n",
              "      <td>Central Hardin High School</td>\n",
              "      <td>66</td>\n",
              "      <td>Distinguished</td>\n",
              "      <td>6,510.00</td>\n",
              "      <td>-53,300.00</td>\n",
              "      <td>-30.00</td>\n",
              "      <td>6,478.00</td>\n",
              "      <td>Proficient</td>\n",
              "    </tr>\n",
              "    <tr>\n",
              "      <th>2542</th>\n",
              "      <td>2014</td>\n",
              "      <td>231</td>\n",
              "      <td>Hardin County</td>\n",
              "      <td>231190</td>\n",
              "      <td>Central Hardin High School</td>\n",
              "      <td>79</td>\n",
              "      <td>Distinguished</td>\n",
              "      <td>6,310.00</td>\n",
              "      <td>-72,700.00</td>\n",
              "      <td>-40.00</td>\n",
              "      <td>6,273.00</td>\n",
              "      <td>Distinguished</td>\n",
              "    </tr>\n",
              "    <tr>\n",
              "      <th>3629</th>\n",
              "      <td>2015</td>\n",
              "      <td>231</td>\n",
              "      <td>Hardin County</td>\n",
              "      <td>231190</td>\n",
              "      <td>Central Hardin High School</td>\n",
              "      <td>79</td>\n",
              "      <td>Distinguished</td>\n",
              "      <td>6,550.00</td>\n",
              "      <td>-48,100.00</td>\n",
              "      <td>-30.00</td>\n",
              "      <td>6,520.00</td>\n",
              "      <td>Distinguished</td>\n",
              "    </tr>\n",
              "    <tr>\n",
              "      <th>4718</th>\n",
              "      <td>2016</td>\n",
              "      <td>231</td>\n",
              "      <td>Hardin County</td>\n",
              "      <td>231190</td>\n",
              "      <td>Central Hardin High School</td>\n",
              "      <td>81</td>\n",
              "      <td>Distinguished</td>\n",
              "      <td>6,270.00</td>\n",
              "      <td>-177,400.00</td>\n",
              "      <td>-100.00</td>\n",
              "      <td>6,170.00</td>\n",
              "      <td>Distinguished</td>\n",
              "    </tr>\n",
              "    <tr>\n",
              "      <th>5812</th>\n",
              "      <td>2017</td>\n",
              "      <td>231</td>\n",
              "      <td>Hardin County</td>\n",
              "      <td>231190</td>\n",
              "      <td>Central Hardin High School</td>\n",
              "      <td>72</td>\n",
              "      <td>Proficient</td>\n",
              "      <td>6,760.00</td>\n",
              "      <td>-95,700.00</td>\n",
              "      <td>-60.00</td>\n",
              "      <td>6,708.00</td>\n",
              "      <td>Proficient</td>\n",
              "    </tr>\n",
              "    <tr>\n",
              "      <th>6921</th>\n",
              "      <td>2018</td>\n",
              "      <td>231</td>\n",
              "      <td>Hardin County</td>\n",
              "      <td>231190</td>\n",
              "      <td>Central Hardin High School</td>\n",
              "      <td>65</td>\n",
              "      <td>Needs Improvement</td>\n",
              "      <td>16,740.00</td>\n",
              "      <td>-83,400.00</td>\n",
              "      <td>-50.00</td>\n",
              "      <td>16,692.00</td>\n",
              "      <td>Needs Improvement</td>\n",
              "    </tr>\n",
              "    <tr>\n",
              "      <th>8047</th>\n",
              "      <td>2019</td>\n",
              "      <td>231</td>\n",
              "      <td>Hardin County</td>\n",
              "      <td>231190</td>\n",
              "      <td>Central Hardin High School</td>\n",
              "      <td>59</td>\n",
              "      <td>Proficient</td>\n",
              "      <td>18,580.00</td>\n",
              "      <td>-64,900.00</td>\n",
              "      <td>-40.00</td>\n",
              "      <td>18,545.00</td>\n",
              "      <td>Needs Improvement</td>\n",
              "    </tr>\n",
              "    <tr>\n",
              "      <th>9184</th>\n",
              "      <td>2022</td>\n",
              "      <td>231</td>\n",
              "      <td>Hardin County</td>\n",
              "      <td>231190</td>\n",
              "      <td>Central Hardin High School</td>\n",
              "      <td>66</td>\n",
              "      <td>Distinguished</td>\n",
              "      <td>9,141.25</td>\n",
              "      <td>-76,000.00</td>\n",
              "      <td>-45.00</td>\n",
              "      <td>9,098.62</td>\n",
              "      <td>Proficient</td>\n",
              "    </tr>\n",
              "  </tbody>\n",
              "</table>\n",
              "</div>\n",
              "      <button class=\"colab-df-convert\" onclick=\"convertToInteractive('df-5e559982-4948-4bf8-84db-72230478e9c9')\"\n",
              "              title=\"Convert this dataframe to an interactive table.\"\n",
              "              style=\"display:none;\">\n",
              "        \n",
              "  <svg xmlns=\"http://www.w3.org/2000/svg\" height=\"24px\"viewBox=\"0 0 24 24\"\n",
              "       width=\"24px\">\n",
              "    <path d=\"M0 0h24v24H0V0z\" fill=\"none\"/>\n",
              "    <path d=\"M18.56 5.44l.94 2.06.94-2.06 2.06-.94-2.06-.94-.94-2.06-.94 2.06-2.06.94zm-11 1L8.5 8.5l.94-2.06 2.06-.94-2.06-.94L8.5 2.5l-.94 2.06-2.06.94zm10 10l.94 2.06.94-2.06 2.06-.94-2.06-.94-.94-2.06-.94 2.06-2.06.94z\"/><path d=\"M17.41 7.96l-1.37-1.37c-.4-.4-.92-.59-1.43-.59-.52 0-1.04.2-1.43.59L10.3 9.45l-7.72 7.72c-.78.78-.78 2.05 0 2.83L4 21.41c.39.39.9.59 1.41.59.51 0 1.02-.2 1.41-.59l7.78-7.78 2.81-2.81c.8-.78.8-2.07 0-2.86zM5.41 20L4 18.59l7.72-7.72 1.47 1.35L5.41 20z\"/>\n",
              "  </svg>\n",
              "      </button>\n",
              "      \n",
              "  <style>\n",
              "    .colab-df-container {\n",
              "      display:flex;\n",
              "      flex-wrap:wrap;\n",
              "      gap: 12px;\n",
              "    }\n",
              "\n",
              "    .colab-df-convert {\n",
              "      background-color: #E8F0FE;\n",
              "      border: none;\n",
              "      border-radius: 50%;\n",
              "      cursor: pointer;\n",
              "      display: none;\n",
              "      fill: #1967D2;\n",
              "      height: 32px;\n",
              "      padding: 0 0 0 0;\n",
              "      width: 32px;\n",
              "    }\n",
              "\n",
              "    .colab-df-convert:hover {\n",
              "      background-color: #E2EBFA;\n",
              "      box-shadow: 0px 1px 2px rgba(60, 64, 67, 0.3), 0px 1px 3px 1px rgba(60, 64, 67, 0.15);\n",
              "      fill: #174EA6;\n",
              "    }\n",
              "\n",
              "    [theme=dark] .colab-df-convert {\n",
              "      background-color: #3B4455;\n",
              "      fill: #D2E3FC;\n",
              "    }\n",
              "\n",
              "    [theme=dark] .colab-df-convert:hover {\n",
              "      background-color: #434B5C;\n",
              "      box-shadow: 0px 1px 3px 1px rgba(0, 0, 0, 0.15);\n",
              "      filter: drop-shadow(0px 1px 2px rgba(0, 0, 0, 0.3));\n",
              "      fill: #FFFFFF;\n",
              "    }\n",
              "  </style>\n",
              "\n",
              "      <script>\n",
              "        const buttonEl =\n",
              "          document.querySelector('#df-5e559982-4948-4bf8-84db-72230478e9c9 button.colab-df-convert');\n",
              "        buttonEl.style.display =\n",
              "          google.colab.kernel.accessAllowed ? 'block' : 'none';\n",
              "\n",
              "        async function convertToInteractive(key) {\n",
              "          const element = document.querySelector('#df-5e559982-4948-4bf8-84db-72230478e9c9');\n",
              "          const dataTable =\n",
              "            await google.colab.kernel.invokeFunction('convertToInteractive',\n",
              "                                                     [key], {});\n",
              "          if (!dataTable) return;\n",
              "\n",
              "          const docLinkHtml = 'Like what you see? Visit the ' +\n",
              "            '<a target=\"_blank\" href=https://colab.research.google.com/notebooks/data_table.ipynb>data table notebook</a>'\n",
              "            + ' to learn more about interactive tables.';\n",
              "          element.innerHTML = '';\n",
              "          dataTable['output_type'] = 'display_data';\n",
              "          await google.colab.output.renderOutput(dataTable, element);\n",
              "          const docLink = document.createElement('div');\n",
              "          docLink.innerHTML = docLinkHtml;\n",
              "          element.appendChild(docLink);\n",
              "        }\n",
              "      </script>\n",
              "    </div>\n",
              "  </div>\n",
              "  "
            ]
          },
          "metadata": {},
          "execution_count": 63
        }
      ]
    },
    {
      "cell_type": "code",
      "source": [],
      "metadata": {
        "id": "cMyH6WW4-Nl_"
      },
      "execution_count": 63,
      "outputs": []
    },
    {
      "cell_type": "code",
      "source": [
        "predict_df.drop(['Predicted Classification'], axis=1, inplace=True)"
      ],
      "metadata": {
        "id": "Gu3FpG6peJE6"
      },
      "execution_count": 64,
      "outputs": []
    },
    {
      "cell_type": "code",
      "source": [
        "predict_df.to_csv('/content/drive/MyDrive/Colab Data/KY EPSB/All Years/predict_df.csv', index = False)"
      ],
      "metadata": {
        "id": "3Ld2ayflXgz_"
      },
      "execution_count": 65,
      "outputs": []
    },
    {
      "cell_type": "markdown",
      "source": [
        "# Nested Model"
      ],
      "metadata": {
        "id": "wgXytIDPa8-t"
      }
    },
    {
      "cell_type": "markdown",
      "source": [
        "## Shuffle, Balance, Split, Scale"
      ],
      "metadata": {
        "id": "50rTim3-1Qv7"
      }
    },
    {
      "cell_type": "code",
      "source": [
        "original_class = df.loc[:,['End Year', 'School Code', 'Classification']]"
      ],
      "metadata": {
        "id": "Zn57zyMkaaGh"
      },
      "execution_count": 66,
      "outputs": []
    },
    {
      "cell_type": "code",
      "source": [
        "original_class.columns = ['End Year', 'School Code', '5 Classifications']"
      ],
      "metadata": {
        "id": "lMMw8W3ncRYg"
      },
      "execution_count": 67,
      "outputs": []
    },
    {
      "cell_type": "code",
      "source": [
        "original_class.replace('Distinguished', np.NaN, inplace=True)\n",
        "original_class.replace('Proficient', np.NaN, inplace=True)\n",
        "original_class.replace('Needs Improvement', np.NaN, inplace=True)"
      ],
      "metadata": {
        "id": "X3rrIR_mc-ar"
      },
      "execution_count": 68,
      "outputs": []
    },
    {
      "cell_type": "code",
      "source": [
        "original_class"
      ],
      "metadata": {
        "colab": {
          "base_uri": "https://localhost:8080/",
          "height": 423
        },
        "id": "XUkrvLOHcRU4",
        "outputId": "792c46ea-1bbc-4583-ec05-9a4a41a18188"
      },
      "execution_count": 69,
      "outputs": [
        {
          "output_type": "execute_result",
          "data": {
            "text/plain": [
              "      End Year  School Code 5 Classifications\n",
              "0         2012         1016               NaN\n",
              "1         2012         1010               NaN\n",
              "2         2012         1014               NaN\n",
              "3         2012         5060               NaN\n",
              "4         2012         5010               NaN\n",
              "...        ...          ...               ...\n",
              "9887      2022       601090              High\n",
              "9888      2022       601120            Medium\n",
              "9889      2022       601075            Medium\n",
              "9890      2022       601050              High\n",
              "9891      2022       601084              High\n",
              "\n",
              "[9892 rows x 3 columns]"
            ],
            "text/html": [
              "\n",
              "  <div id=\"df-dda0b993-4e91-4de2-b430-c554144998df\">\n",
              "    <div class=\"colab-df-container\">\n",
              "      <div>\n",
              "<style scoped>\n",
              "    .dataframe tbody tr th:only-of-type {\n",
              "        vertical-align: middle;\n",
              "    }\n",
              "\n",
              "    .dataframe tbody tr th {\n",
              "        vertical-align: top;\n",
              "    }\n",
              "\n",
              "    .dataframe thead th {\n",
              "        text-align: right;\n",
              "    }\n",
              "</style>\n",
              "<table border=\"1\" class=\"dataframe\">\n",
              "  <thead>\n",
              "    <tr style=\"text-align: right;\">\n",
              "      <th></th>\n",
              "      <th>End Year</th>\n",
              "      <th>School Code</th>\n",
              "      <th>5 Classifications</th>\n",
              "    </tr>\n",
              "  </thead>\n",
              "  <tbody>\n",
              "    <tr>\n",
              "      <th>0</th>\n",
              "      <td>2012</td>\n",
              "      <td>1016</td>\n",
              "      <td>NaN</td>\n",
              "    </tr>\n",
              "    <tr>\n",
              "      <th>1</th>\n",
              "      <td>2012</td>\n",
              "      <td>1010</td>\n",
              "      <td>NaN</td>\n",
              "    </tr>\n",
              "    <tr>\n",
              "      <th>2</th>\n",
              "      <td>2012</td>\n",
              "      <td>1014</td>\n",
              "      <td>NaN</td>\n",
              "    </tr>\n",
              "    <tr>\n",
              "      <th>3</th>\n",
              "      <td>2012</td>\n",
              "      <td>5060</td>\n",
              "      <td>NaN</td>\n",
              "    </tr>\n",
              "    <tr>\n",
              "      <th>4</th>\n",
              "      <td>2012</td>\n",
              "      <td>5010</td>\n",
              "      <td>NaN</td>\n",
              "    </tr>\n",
              "    <tr>\n",
              "      <th>...</th>\n",
              "      <td>...</td>\n",
              "      <td>...</td>\n",
              "      <td>...</td>\n",
              "    </tr>\n",
              "    <tr>\n",
              "      <th>9887</th>\n",
              "      <td>2022</td>\n",
              "      <td>601090</td>\n",
              "      <td>High</td>\n",
              "    </tr>\n",
              "    <tr>\n",
              "      <th>9888</th>\n",
              "      <td>2022</td>\n",
              "      <td>601120</td>\n",
              "      <td>Medium</td>\n",
              "    </tr>\n",
              "    <tr>\n",
              "      <th>9889</th>\n",
              "      <td>2022</td>\n",
              "      <td>601075</td>\n",
              "      <td>Medium</td>\n",
              "    </tr>\n",
              "    <tr>\n",
              "      <th>9890</th>\n",
              "      <td>2022</td>\n",
              "      <td>601050</td>\n",
              "      <td>High</td>\n",
              "    </tr>\n",
              "    <tr>\n",
              "      <th>9891</th>\n",
              "      <td>2022</td>\n",
              "      <td>601084</td>\n",
              "      <td>High</td>\n",
              "    </tr>\n",
              "  </tbody>\n",
              "</table>\n",
              "<p>9892 rows × 3 columns</p>\n",
              "</div>\n",
              "      <button class=\"colab-df-convert\" onclick=\"convertToInteractive('df-dda0b993-4e91-4de2-b430-c554144998df')\"\n",
              "              title=\"Convert this dataframe to an interactive table.\"\n",
              "              style=\"display:none;\">\n",
              "        \n",
              "  <svg xmlns=\"http://www.w3.org/2000/svg\" height=\"24px\"viewBox=\"0 0 24 24\"\n",
              "       width=\"24px\">\n",
              "    <path d=\"M0 0h24v24H0V0z\" fill=\"none\"/>\n",
              "    <path d=\"M18.56 5.44l.94 2.06.94-2.06 2.06-.94-2.06-.94-.94-2.06-.94 2.06-2.06.94zm-11 1L8.5 8.5l.94-2.06 2.06-.94-2.06-.94L8.5 2.5l-.94 2.06-2.06.94zm10 10l.94 2.06.94-2.06 2.06-.94-2.06-.94-.94-2.06-.94 2.06-2.06.94z\"/><path d=\"M17.41 7.96l-1.37-1.37c-.4-.4-.92-.59-1.43-.59-.52 0-1.04.2-1.43.59L10.3 9.45l-7.72 7.72c-.78.78-.78 2.05 0 2.83L4 21.41c.39.39.9.59 1.41.59.51 0 1.02-.2 1.41-.59l7.78-7.78 2.81-2.81c.8-.78.8-2.07 0-2.86zM5.41 20L4 18.59l7.72-7.72 1.47 1.35L5.41 20z\"/>\n",
              "  </svg>\n",
              "      </button>\n",
              "      \n",
              "  <style>\n",
              "    .colab-df-container {\n",
              "      display:flex;\n",
              "      flex-wrap:wrap;\n",
              "      gap: 12px;\n",
              "    }\n",
              "\n",
              "    .colab-df-convert {\n",
              "      background-color: #E8F0FE;\n",
              "      border: none;\n",
              "      border-radius: 50%;\n",
              "      cursor: pointer;\n",
              "      display: none;\n",
              "      fill: #1967D2;\n",
              "      height: 32px;\n",
              "      padding: 0 0 0 0;\n",
              "      width: 32px;\n",
              "    }\n",
              "\n",
              "    .colab-df-convert:hover {\n",
              "      background-color: #E2EBFA;\n",
              "      box-shadow: 0px 1px 2px rgba(60, 64, 67, 0.3), 0px 1px 3px 1px rgba(60, 64, 67, 0.15);\n",
              "      fill: #174EA6;\n",
              "    }\n",
              "\n",
              "    [theme=dark] .colab-df-convert {\n",
              "      background-color: #3B4455;\n",
              "      fill: #D2E3FC;\n",
              "    }\n",
              "\n",
              "    [theme=dark] .colab-df-convert:hover {\n",
              "      background-color: #434B5C;\n",
              "      box-shadow: 0px 1px 3px 1px rgba(0, 0, 0, 0.15);\n",
              "      filter: drop-shadow(0px 1px 2px rgba(0, 0, 0, 0.3));\n",
              "      fill: #FFFFFF;\n",
              "    }\n",
              "  </style>\n",
              "\n",
              "      <script>\n",
              "        const buttonEl =\n",
              "          document.querySelector('#df-dda0b993-4e91-4de2-b430-c554144998df button.colab-df-convert');\n",
              "        buttonEl.style.display =\n",
              "          google.colab.kernel.accessAllowed ? 'block' : 'none';\n",
              "\n",
              "        async function convertToInteractive(key) {\n",
              "          const element = document.querySelector('#df-dda0b993-4e91-4de2-b430-c554144998df');\n",
              "          const dataTable =\n",
              "            await google.colab.kernel.invokeFunction('convertToInteractive',\n",
              "                                                     [key], {});\n",
              "          if (!dataTable) return;\n",
              "\n",
              "          const docLinkHtml = 'Like what you see? Visit the ' +\n",
              "            '<a target=\"_blank\" href=https://colab.research.google.com/notebooks/data_table.ipynb>data table notebook</a>'\n",
              "            + ' to learn more about interactive tables.';\n",
              "          element.innerHTML = '';\n",
              "          dataTable['output_type'] = 'display_data';\n",
              "          await google.colab.output.renderOutput(dataTable, element);\n",
              "          const docLink = document.createElement('div');\n",
              "          docLink.innerHTML = docLinkHtml;\n",
              "          element.appendChild(docLink);\n",
              "        }\n",
              "      </script>\n",
              "    </div>\n",
              "  </div>\n",
              "  "
            ]
          },
          "metadata": {},
          "execution_count": 69
        }
      ]
    },
    {
      "cell_type": "code",
      "source": [
        "original_class['5 Classifications'].value_counts(dropna=False)"
      ],
      "metadata": {
        "colab": {
          "base_uri": "https://localhost:8080/"
        },
        "id": "A23RpHLHcRbp",
        "outputId": "331ba405-e5f2-415a-9fcd-6efc2c63e62b"
      },
      "execution_count": 70,
      "outputs": [
        {
          "output_type": "execute_result",
          "data": {
            "text/plain": [
              "NaN          7829\n",
              "Medium        689\n",
              "Low           587\n",
              "High          449\n",
              "Very Low      175\n",
              "Very High     163\n",
              "Name: 5 Classifications, dtype: int64"
            ]
          },
          "metadata": {},
          "execution_count": 70
        }
      ]
    },
    {
      "cell_type": "code",
      "source": [
        "nested_predict_df = pd.merge(predict_df, original_class, on=['End Year', 'School Code'])"
      ],
      "metadata": {
        "id": "JAYEGJsDaaI4"
      },
      "execution_count": 71,
      "outputs": []
    },
    {
      "cell_type": "code",
      "source": [
        "nested_predict_df.columns"
      ],
      "metadata": {
        "colab": {
          "base_uri": "https://localhost:8080/"
        },
        "id": "NNZe_Mz8v3-t",
        "outputId": "c8c19c63-0f29-4031-daab-abf670602f6e"
      },
      "execution_count": 72,
      "outputs": [
        {
          "output_type": "execute_result",
          "data": {
            "text/plain": [
              "Index(['End Year', 'District Code', 'District', 'School Code', 'School',\n",
              "       'Proficiency Rate', 'Classification', 'Reported Spending per student',\n",
              "       'Money Difference per school', 'Money Difference per student',\n",
              "       'Estimated Spending per student', '5 Classifications'],\n",
              "      dtype='object')"
            ]
          },
          "metadata": {},
          "execution_count": 72
        }
      ]
    },
    {
      "cell_type": "code",
      "source": [
        "unscaled_nested_df = nested_predict_df[['Proficiency Rate', 'Classification', '5 Classifications']]\n",
        "\n",
        "unscaled_nested_df.dropna(axis =0, inplace=True)\n",
        "unscaled_nested_df.reset_index(drop=True, inplace=True)"
      ],
      "metadata": {
        "colab": {
          "base_uri": "https://localhost:8080/"
        },
        "id": "9SyLaveXu7-H",
        "outputId": "a44b9999-8051-4664-db2a-9c6fd8d34a9e"
      },
      "execution_count": 73,
      "outputs": [
        {
          "output_type": "stream",
          "name": "stderr",
          "text": [
            "/usr/local/lib/python3.8/dist-packages/pandas/util/_decorators.py:311: SettingWithCopyWarning: \n",
            "A value is trying to be set on a copy of a slice from a DataFrame\n",
            "\n",
            "See the caveats in the documentation: https://pandas.pydata.org/pandas-docs/stable/user_guide/indexing.html#returning-a-view-versus-a-copy\n",
            "  return func(*args, **kwargs)\n"
          ]
        }
      ]
    },
    {
      "cell_type": "code",
      "source": [
        "unscaled_nested_df['Classification'] = unscaled_nested_df['Classification'].map({'Distinguished': 0, 'Proficient':1, 'Needs Improvement':2})"
      ],
      "metadata": {
        "colab": {
          "base_uri": "https://localhost:8080/"
        },
        "id": "OxB31rfDxRK9",
        "outputId": "1115c979-6800-4a95-94b4-e3490718ab89"
      },
      "execution_count": 74,
      "outputs": [
        {
          "output_type": "stream",
          "name": "stderr",
          "text": [
            "<ipython-input-74-d270971af138>:1: SettingWithCopyWarning: \n",
            "A value is trying to be set on a copy of a slice from a DataFrame.\n",
            "Try using .loc[row_indexer,col_indexer] = value instead\n",
            "\n",
            "See the caveats in the documentation: https://pandas.pydata.org/pandas-docs/stable/user_guide/indexing.html#returning-a-view-versus-a-copy\n",
            "  unscaled_nested_df['Classification'] = unscaled_nested_df['Classification'].map({'Distinguished': 0, 'Proficient':1, 'Needs Improvement':2})\n"
          ]
        }
      ]
    },
    {
      "cell_type": "code",
      "source": [
        "nested_predict_df['5 Classifications'].value_counts(dropna=False)"
      ],
      "metadata": {
        "colab": {
          "base_uri": "https://localhost:8080/"
        },
        "id": "Iz3Ve6xwaaLO",
        "outputId": "d0c94f71-8f0b-4908-90f9-7a2fd8726050"
      },
      "execution_count": 75,
      "outputs": [
        {
          "output_type": "execute_result",
          "data": {
            "text/plain": [
              "NaN          7829\n",
              "Medium        689\n",
              "Low           587\n",
              "High          449\n",
              "Very Low      175\n",
              "Very High     163\n",
              "Name: 5 Classifications, dtype: int64"
            ]
          },
          "metadata": {},
          "execution_count": 75
        }
      ]
    },
    {
      "cell_type": "code",
      "source": [
        "unscaled_nested_df['5 Classifications'] = unscaled_nested_df['5 Classifications'].map({'Very High':0, 'High':1, 'Medium':2, 'Low':3, 'Very Low':4})"
      ],
      "metadata": {
        "colab": {
          "base_uri": "https://localhost:8080/"
        },
        "id": "Xqirba4qxb2e",
        "outputId": "8fe4e261-393d-4f1c-a610-5f5b57c01be2"
      },
      "execution_count": 76,
      "outputs": [
        {
          "output_type": "stream",
          "name": "stderr",
          "text": [
            "<ipython-input-76-11d862d05644>:1: SettingWithCopyWarning: \n",
            "A value is trying to be set on a copy of a slice from a DataFrame.\n",
            "Try using .loc[row_indexer,col_indexer] = value instead\n",
            "\n",
            "See the caveats in the documentation: https://pandas.pydata.org/pandas-docs/stable/user_guide/indexing.html#returning-a-view-versus-a-copy\n",
            "  unscaled_nested_df['5 Classifications'] = unscaled_nested_df['5 Classifications'].map({'Very High':0, 'High':1, 'Medium':2, 'Low':3, 'Very Low':4})\n"
          ]
        }
      ]
    },
    {
      "cell_type": "code",
      "source": [
        "unscaled_nested_df"
      ],
      "metadata": {
        "colab": {
          "base_uri": "https://localhost:8080/",
          "height": 423
        },
        "id": "41SdBV2-y33d",
        "outputId": "905abd48-dbaf-4437-9027-68d8cc91a5e0"
      },
      "execution_count": 77,
      "outputs": [
        {
          "output_type": "execute_result",
          "data": {
            "text/plain": [
              "      Proficiency Rate  Classification  5 Classifications\n",
              "0                   72               1                  2\n",
              "1                   58               1                  2\n",
              "2                   78               0                  1\n",
              "3                   72               1                  2\n",
              "4                   75               1                  2\n",
              "...                ...             ...                ...\n",
              "2058                77               0                  1\n",
              "2059                69               1                  2\n",
              "2060                70               1                  2\n",
              "2061                75               0                  1\n",
              "2062                68               0                  1\n",
              "\n",
              "[2063 rows x 3 columns]"
            ],
            "text/html": [
              "\n",
              "  <div id=\"df-b01f44eb-8139-4733-9d1e-1e4eb337be7e\">\n",
              "    <div class=\"colab-df-container\">\n",
              "      <div>\n",
              "<style scoped>\n",
              "    .dataframe tbody tr th:only-of-type {\n",
              "        vertical-align: middle;\n",
              "    }\n",
              "\n",
              "    .dataframe tbody tr th {\n",
              "        vertical-align: top;\n",
              "    }\n",
              "\n",
              "    .dataframe thead th {\n",
              "        text-align: right;\n",
              "    }\n",
              "</style>\n",
              "<table border=\"1\" class=\"dataframe\">\n",
              "  <thead>\n",
              "    <tr style=\"text-align: right;\">\n",
              "      <th></th>\n",
              "      <th>Proficiency Rate</th>\n",
              "      <th>Classification</th>\n",
              "      <th>5 Classifications</th>\n",
              "    </tr>\n",
              "  </thead>\n",
              "  <tbody>\n",
              "    <tr>\n",
              "      <th>0</th>\n",
              "      <td>72</td>\n",
              "      <td>1</td>\n",
              "      <td>2</td>\n",
              "    </tr>\n",
              "    <tr>\n",
              "      <th>1</th>\n",
              "      <td>58</td>\n",
              "      <td>1</td>\n",
              "      <td>2</td>\n",
              "    </tr>\n",
              "    <tr>\n",
              "      <th>2</th>\n",
              "      <td>78</td>\n",
              "      <td>0</td>\n",
              "      <td>1</td>\n",
              "    </tr>\n",
              "    <tr>\n",
              "      <th>3</th>\n",
              "      <td>72</td>\n",
              "      <td>1</td>\n",
              "      <td>2</td>\n",
              "    </tr>\n",
              "    <tr>\n",
              "      <th>4</th>\n",
              "      <td>75</td>\n",
              "      <td>1</td>\n",
              "      <td>2</td>\n",
              "    </tr>\n",
              "    <tr>\n",
              "      <th>...</th>\n",
              "      <td>...</td>\n",
              "      <td>...</td>\n",
              "      <td>...</td>\n",
              "    </tr>\n",
              "    <tr>\n",
              "      <th>2058</th>\n",
              "      <td>77</td>\n",
              "      <td>0</td>\n",
              "      <td>1</td>\n",
              "    </tr>\n",
              "    <tr>\n",
              "      <th>2059</th>\n",
              "      <td>69</td>\n",
              "      <td>1</td>\n",
              "      <td>2</td>\n",
              "    </tr>\n",
              "    <tr>\n",
              "      <th>2060</th>\n",
              "      <td>70</td>\n",
              "      <td>1</td>\n",
              "      <td>2</td>\n",
              "    </tr>\n",
              "    <tr>\n",
              "      <th>2061</th>\n",
              "      <td>75</td>\n",
              "      <td>0</td>\n",
              "      <td>1</td>\n",
              "    </tr>\n",
              "    <tr>\n",
              "      <th>2062</th>\n",
              "      <td>68</td>\n",
              "      <td>0</td>\n",
              "      <td>1</td>\n",
              "    </tr>\n",
              "  </tbody>\n",
              "</table>\n",
              "<p>2063 rows × 3 columns</p>\n",
              "</div>\n",
              "      <button class=\"colab-df-convert\" onclick=\"convertToInteractive('df-b01f44eb-8139-4733-9d1e-1e4eb337be7e')\"\n",
              "              title=\"Convert this dataframe to an interactive table.\"\n",
              "              style=\"display:none;\">\n",
              "        \n",
              "  <svg xmlns=\"http://www.w3.org/2000/svg\" height=\"24px\"viewBox=\"0 0 24 24\"\n",
              "       width=\"24px\">\n",
              "    <path d=\"M0 0h24v24H0V0z\" fill=\"none\"/>\n",
              "    <path d=\"M18.56 5.44l.94 2.06.94-2.06 2.06-.94-2.06-.94-.94-2.06-.94 2.06-2.06.94zm-11 1L8.5 8.5l.94-2.06 2.06-.94-2.06-.94L8.5 2.5l-.94 2.06-2.06.94zm10 10l.94 2.06.94-2.06 2.06-.94-2.06-.94-.94-2.06-.94 2.06-2.06.94z\"/><path d=\"M17.41 7.96l-1.37-1.37c-.4-.4-.92-.59-1.43-.59-.52 0-1.04.2-1.43.59L10.3 9.45l-7.72 7.72c-.78.78-.78 2.05 0 2.83L4 21.41c.39.39.9.59 1.41.59.51 0 1.02-.2 1.41-.59l7.78-7.78 2.81-2.81c.8-.78.8-2.07 0-2.86zM5.41 20L4 18.59l7.72-7.72 1.47 1.35L5.41 20z\"/>\n",
              "  </svg>\n",
              "      </button>\n",
              "      \n",
              "  <style>\n",
              "    .colab-df-container {\n",
              "      display:flex;\n",
              "      flex-wrap:wrap;\n",
              "      gap: 12px;\n",
              "    }\n",
              "\n",
              "    .colab-df-convert {\n",
              "      background-color: #E8F0FE;\n",
              "      border: none;\n",
              "      border-radius: 50%;\n",
              "      cursor: pointer;\n",
              "      display: none;\n",
              "      fill: #1967D2;\n",
              "      height: 32px;\n",
              "      padding: 0 0 0 0;\n",
              "      width: 32px;\n",
              "    }\n",
              "\n",
              "    .colab-df-convert:hover {\n",
              "      background-color: #E2EBFA;\n",
              "      box-shadow: 0px 1px 2px rgba(60, 64, 67, 0.3), 0px 1px 3px 1px rgba(60, 64, 67, 0.15);\n",
              "      fill: #174EA6;\n",
              "    }\n",
              "\n",
              "    [theme=dark] .colab-df-convert {\n",
              "      background-color: #3B4455;\n",
              "      fill: #D2E3FC;\n",
              "    }\n",
              "\n",
              "    [theme=dark] .colab-df-convert:hover {\n",
              "      background-color: #434B5C;\n",
              "      box-shadow: 0px 1px 3px 1px rgba(0, 0, 0, 0.15);\n",
              "      filter: drop-shadow(0px 1px 2px rgba(0, 0, 0, 0.3));\n",
              "      fill: #FFFFFF;\n",
              "    }\n",
              "  </style>\n",
              "\n",
              "      <script>\n",
              "        const buttonEl =\n",
              "          document.querySelector('#df-b01f44eb-8139-4733-9d1e-1e4eb337be7e button.colab-df-convert');\n",
              "        buttonEl.style.display =\n",
              "          google.colab.kernel.accessAllowed ? 'block' : 'none';\n",
              "\n",
              "        async function convertToInteractive(key) {\n",
              "          const element = document.querySelector('#df-b01f44eb-8139-4733-9d1e-1e4eb337be7e');\n",
              "          const dataTable =\n",
              "            await google.colab.kernel.invokeFunction('convertToInteractive',\n",
              "                                                     [key], {});\n",
              "          if (!dataTable) return;\n",
              "\n",
              "          const docLinkHtml = 'Like what you see? Visit the ' +\n",
              "            '<a target=\"_blank\" href=https://colab.research.google.com/notebooks/data_table.ipynb>data table notebook</a>'\n",
              "            + ' to learn more about interactive tables.';\n",
              "          element.innerHTML = '';\n",
              "          dataTable['output_type'] = 'display_data';\n",
              "          await google.colab.output.renderOutput(dataTable, element);\n",
              "          const docLink = document.createElement('div');\n",
              "          docLink.innerHTML = docLinkHtml;\n",
              "          element.appendChild(docLink);\n",
              "        }\n",
              "      </script>\n",
              "    </div>\n",
              "  </div>\n",
              "  "
            ]
          },
          "metadata": {},
          "execution_count": 77
        }
      ]
    },
    {
      "cell_type": "code",
      "source": [
        "for column in unscaled_nested_df.columns:\n",
        "  unscaled_nested_df[column] = unscaled_nested_df[column].astype(np.float32)"
      ],
      "metadata": {
        "colab": {
          "base_uri": "https://localhost:8080/"
        },
        "id": "Z-9Us6JfxTcR",
        "outputId": "6c67b623-e9d9-4746-f73b-cd5d0370c162"
      },
      "execution_count": 78,
      "outputs": [
        {
          "output_type": "stream",
          "name": "stderr",
          "text": [
            "<ipython-input-78-5b64fef833e6>:2: SettingWithCopyWarning: \n",
            "A value is trying to be set on a copy of a slice from a DataFrame.\n",
            "Try using .loc[row_indexer,col_indexer] = value instead\n",
            "\n",
            "See the caveats in the documentation: https://pandas.pydata.org/pandas-docs/stable/user_guide/indexing.html#returning-a-view-versus-a-copy\n",
            "  unscaled_nested_df[column] = unscaled_nested_df[column].astype(np.float32)\n"
          ]
        }
      ]
    },
    {
      "cell_type": "code",
      "source": [
        "#Shuffle df\n",
        "unscaled_nested_df = unscaled_nested_df.sample(frac=1, random_state=23)"
      ],
      "metadata": {
        "id": "tGwXPQgDxTeo"
      },
      "execution_count": 79,
      "outputs": []
    },
    {
      "cell_type": "code",
      "source": [
        "unscaled_nested_df['Classification'].value_counts(dropna=False)"
      ],
      "metadata": {
        "colab": {
          "base_uri": "https://localhost:8080/"
        },
        "id": "jSFT5BRB1CAc",
        "outputId": "ec0ff2bc-acc0-41aa-93b6-f2dc33384b64"
      },
      "execution_count": 80,
      "outputs": [
        {
          "output_type": "execute_result",
          "data": {
            "text/plain": [
              "2.00    762\n",
              "1.00    689\n",
              "0.00    612\n",
              "Name: Classification, dtype: int64"
            ]
          },
          "metadata": {},
          "execution_count": 80
        }
      ]
    },
    {
      "cell_type": "code",
      "source": [
        "unscaled_nested_df['5 Classifications'].value_counts(dropna=False)"
      ],
      "metadata": {
        "colab": {
          "base_uri": "https://localhost:8080/"
        },
        "id": "wHFRpoRbyqpN",
        "outputId": "91d62dbb-1544-4875-f85a-74075797f952"
      },
      "execution_count": 81,
      "outputs": [
        {
          "output_type": "execute_result",
          "data": {
            "text/plain": [
              "2.00    689\n",
              "3.00    587\n",
              "1.00    449\n",
              "4.00    175\n",
              "0.00    163\n",
              "Name: 5 Classifications, dtype: int64"
            ]
          },
          "metadata": {},
          "execution_count": 81
        }
      ]
    },
    {
      "cell_type": "code",
      "source": [
        "# Balanced in 3 classifications, and the high/low classidfications are balanced too."
      ],
      "metadata": {
        "id": "CYniz16J2oaN"
      },
      "execution_count": 82,
      "outputs": []
    },
    {
      "cell_type": "code",
      "source": [
        "unscaled_nested_df"
      ],
      "metadata": {
        "colab": {
          "base_uri": "https://localhost:8080/",
          "height": 423
        },
        "id": "AnerFc_GxThJ",
        "outputId": "1c725b37-b3c6-4786-862e-8ea6241d0d92"
      },
      "execution_count": 83,
      "outputs": [
        {
          "output_type": "execute_result",
          "data": {
            "text/plain": [
              "      Proficiency Rate  Classification  5 Classifications\n",
              "868              38.00            2.00               4.00\n",
              "511              56.00            2.00               4.00\n",
              "236              81.00            0.00               1.00\n",
              "379              75.00            1.00               2.00\n",
              "1866             82.00            0.00               0.00\n",
              "...                ...             ...                ...\n",
              "1512             40.00            2.00               3.00\n",
              "1993             58.00            1.00               2.00\n",
              "1064             68.00            1.00               2.00\n",
              "742              90.00            0.00               0.00\n",
              "595              54.00            2.00               3.00\n",
              "\n",
              "[2063 rows x 3 columns]"
            ],
            "text/html": [
              "\n",
              "  <div id=\"df-70e223f2-995e-4e53-b591-6b3b55dbe04a\">\n",
              "    <div class=\"colab-df-container\">\n",
              "      <div>\n",
              "<style scoped>\n",
              "    .dataframe tbody tr th:only-of-type {\n",
              "        vertical-align: middle;\n",
              "    }\n",
              "\n",
              "    .dataframe tbody tr th {\n",
              "        vertical-align: top;\n",
              "    }\n",
              "\n",
              "    .dataframe thead th {\n",
              "        text-align: right;\n",
              "    }\n",
              "</style>\n",
              "<table border=\"1\" class=\"dataframe\">\n",
              "  <thead>\n",
              "    <tr style=\"text-align: right;\">\n",
              "      <th></th>\n",
              "      <th>Proficiency Rate</th>\n",
              "      <th>Classification</th>\n",
              "      <th>5 Classifications</th>\n",
              "    </tr>\n",
              "  </thead>\n",
              "  <tbody>\n",
              "    <tr>\n",
              "      <th>868</th>\n",
              "      <td>38.00</td>\n",
              "      <td>2.00</td>\n",
              "      <td>4.00</td>\n",
              "    </tr>\n",
              "    <tr>\n",
              "      <th>511</th>\n",
              "      <td>56.00</td>\n",
              "      <td>2.00</td>\n",
              "      <td>4.00</td>\n",
              "    </tr>\n",
              "    <tr>\n",
              "      <th>236</th>\n",
              "      <td>81.00</td>\n",
              "      <td>0.00</td>\n",
              "      <td>1.00</td>\n",
              "    </tr>\n",
              "    <tr>\n",
              "      <th>379</th>\n",
              "      <td>75.00</td>\n",
              "      <td>1.00</td>\n",
              "      <td>2.00</td>\n",
              "    </tr>\n",
              "    <tr>\n",
              "      <th>1866</th>\n",
              "      <td>82.00</td>\n",
              "      <td>0.00</td>\n",
              "      <td>0.00</td>\n",
              "    </tr>\n",
              "    <tr>\n",
              "      <th>...</th>\n",
              "      <td>...</td>\n",
              "      <td>...</td>\n",
              "      <td>...</td>\n",
              "    </tr>\n",
              "    <tr>\n",
              "      <th>1512</th>\n",
              "      <td>40.00</td>\n",
              "      <td>2.00</td>\n",
              "      <td>3.00</td>\n",
              "    </tr>\n",
              "    <tr>\n",
              "      <th>1993</th>\n",
              "      <td>58.00</td>\n",
              "      <td>1.00</td>\n",
              "      <td>2.00</td>\n",
              "    </tr>\n",
              "    <tr>\n",
              "      <th>1064</th>\n",
              "      <td>68.00</td>\n",
              "      <td>1.00</td>\n",
              "      <td>2.00</td>\n",
              "    </tr>\n",
              "    <tr>\n",
              "      <th>742</th>\n",
              "      <td>90.00</td>\n",
              "      <td>0.00</td>\n",
              "      <td>0.00</td>\n",
              "    </tr>\n",
              "    <tr>\n",
              "      <th>595</th>\n",
              "      <td>54.00</td>\n",
              "      <td>2.00</td>\n",
              "      <td>3.00</td>\n",
              "    </tr>\n",
              "  </tbody>\n",
              "</table>\n",
              "<p>2063 rows × 3 columns</p>\n",
              "</div>\n",
              "      <button class=\"colab-df-convert\" onclick=\"convertToInteractive('df-70e223f2-995e-4e53-b591-6b3b55dbe04a')\"\n",
              "              title=\"Convert this dataframe to an interactive table.\"\n",
              "              style=\"display:none;\">\n",
              "        \n",
              "  <svg xmlns=\"http://www.w3.org/2000/svg\" height=\"24px\"viewBox=\"0 0 24 24\"\n",
              "       width=\"24px\">\n",
              "    <path d=\"M0 0h24v24H0V0z\" fill=\"none\"/>\n",
              "    <path d=\"M18.56 5.44l.94 2.06.94-2.06 2.06-.94-2.06-.94-.94-2.06-.94 2.06-2.06.94zm-11 1L8.5 8.5l.94-2.06 2.06-.94-2.06-.94L8.5 2.5l-.94 2.06-2.06.94zm10 10l.94 2.06.94-2.06 2.06-.94-2.06-.94-.94-2.06-.94 2.06-2.06.94z\"/><path d=\"M17.41 7.96l-1.37-1.37c-.4-.4-.92-.59-1.43-.59-.52 0-1.04.2-1.43.59L10.3 9.45l-7.72 7.72c-.78.78-.78 2.05 0 2.83L4 21.41c.39.39.9.59 1.41.59.51 0 1.02-.2 1.41-.59l7.78-7.78 2.81-2.81c.8-.78.8-2.07 0-2.86zM5.41 20L4 18.59l7.72-7.72 1.47 1.35L5.41 20z\"/>\n",
              "  </svg>\n",
              "      </button>\n",
              "      \n",
              "  <style>\n",
              "    .colab-df-container {\n",
              "      display:flex;\n",
              "      flex-wrap:wrap;\n",
              "      gap: 12px;\n",
              "    }\n",
              "\n",
              "    .colab-df-convert {\n",
              "      background-color: #E8F0FE;\n",
              "      border: none;\n",
              "      border-radius: 50%;\n",
              "      cursor: pointer;\n",
              "      display: none;\n",
              "      fill: #1967D2;\n",
              "      height: 32px;\n",
              "      padding: 0 0 0 0;\n",
              "      width: 32px;\n",
              "    }\n",
              "\n",
              "    .colab-df-convert:hover {\n",
              "      background-color: #E2EBFA;\n",
              "      box-shadow: 0px 1px 2px rgba(60, 64, 67, 0.3), 0px 1px 3px 1px rgba(60, 64, 67, 0.15);\n",
              "      fill: #174EA6;\n",
              "    }\n",
              "\n",
              "    [theme=dark] .colab-df-convert {\n",
              "      background-color: #3B4455;\n",
              "      fill: #D2E3FC;\n",
              "    }\n",
              "\n",
              "    [theme=dark] .colab-df-convert:hover {\n",
              "      background-color: #434B5C;\n",
              "      box-shadow: 0px 1px 3px 1px rgba(0, 0, 0, 0.15);\n",
              "      filter: drop-shadow(0px 1px 2px rgba(0, 0, 0, 0.3));\n",
              "      fill: #FFFFFF;\n",
              "    }\n",
              "  </style>\n",
              "\n",
              "      <script>\n",
              "        const buttonEl =\n",
              "          document.querySelector('#df-70e223f2-995e-4e53-b591-6b3b55dbe04a button.colab-df-convert');\n",
              "        buttonEl.style.display =\n",
              "          google.colab.kernel.accessAllowed ? 'block' : 'none';\n",
              "\n",
              "        async function convertToInteractive(key) {\n",
              "          const element = document.querySelector('#df-70e223f2-995e-4e53-b591-6b3b55dbe04a');\n",
              "          const dataTable =\n",
              "            await google.colab.kernel.invokeFunction('convertToInteractive',\n",
              "                                                     [key], {});\n",
              "          if (!dataTable) return;\n",
              "\n",
              "          const docLinkHtml = 'Like what you see? Visit the ' +\n",
              "            '<a target=\"_blank\" href=https://colab.research.google.com/notebooks/data_table.ipynb>data table notebook</a>'\n",
              "            + ' to learn more about interactive tables.';\n",
              "          element.innerHTML = '';\n",
              "          dataTable['output_type'] = 'display_data';\n",
              "          await google.colab.output.renderOutput(dataTable, element);\n",
              "          const docLink = document.createElement('div');\n",
              "          docLink.innerHTML = docLinkHtml;\n",
              "          element.appendChild(docLink);\n",
              "        }\n",
              "      </script>\n",
              "    </div>\n",
              "  </div>\n",
              "  "
            ]
          },
          "metadata": {},
          "execution_count": 83
        }
      ]
    },
    {
      "cell_type": "code",
      "source": [
        "unscaled_nested_df[unscaled_nested_df.isnull().any(axis=1)]"
      ],
      "metadata": {
        "colab": {
          "base_uri": "https://localhost:8080/",
          "height": 49
        },
        "id": "haxu5YmQ17TT",
        "outputId": "fcd0d769-939c-44e2-8d6d-6bbe7ec206f1"
      },
      "execution_count": 84,
      "outputs": [
        {
          "output_type": "execute_result",
          "data": {
            "text/plain": [
              "Empty DataFrame\n",
              "Columns: [Proficiency Rate, Classification, 5 Classifications]\n",
              "Index: []"
            ],
            "text/html": [
              "\n",
              "  <div id=\"df-a9d729b9-bc9f-4283-a8ac-0200934d117a\">\n",
              "    <div class=\"colab-df-container\">\n",
              "      <div>\n",
              "<style scoped>\n",
              "    .dataframe tbody tr th:only-of-type {\n",
              "        vertical-align: middle;\n",
              "    }\n",
              "\n",
              "    .dataframe tbody tr th {\n",
              "        vertical-align: top;\n",
              "    }\n",
              "\n",
              "    .dataframe thead th {\n",
              "        text-align: right;\n",
              "    }\n",
              "</style>\n",
              "<table border=\"1\" class=\"dataframe\">\n",
              "  <thead>\n",
              "    <tr style=\"text-align: right;\">\n",
              "      <th></th>\n",
              "      <th>Proficiency Rate</th>\n",
              "      <th>Classification</th>\n",
              "      <th>5 Classifications</th>\n",
              "    </tr>\n",
              "  </thead>\n",
              "  <tbody>\n",
              "  </tbody>\n",
              "</table>\n",
              "</div>\n",
              "      <button class=\"colab-df-convert\" onclick=\"convertToInteractive('df-a9d729b9-bc9f-4283-a8ac-0200934d117a')\"\n",
              "              title=\"Convert this dataframe to an interactive table.\"\n",
              "              style=\"display:none;\">\n",
              "        \n",
              "  <svg xmlns=\"http://www.w3.org/2000/svg\" height=\"24px\"viewBox=\"0 0 24 24\"\n",
              "       width=\"24px\">\n",
              "    <path d=\"M0 0h24v24H0V0z\" fill=\"none\"/>\n",
              "    <path d=\"M18.56 5.44l.94 2.06.94-2.06 2.06-.94-2.06-.94-.94-2.06-.94 2.06-2.06.94zm-11 1L8.5 8.5l.94-2.06 2.06-.94-2.06-.94L8.5 2.5l-.94 2.06-2.06.94zm10 10l.94 2.06.94-2.06 2.06-.94-2.06-.94-.94-2.06-.94 2.06-2.06.94z\"/><path d=\"M17.41 7.96l-1.37-1.37c-.4-.4-.92-.59-1.43-.59-.52 0-1.04.2-1.43.59L10.3 9.45l-7.72 7.72c-.78.78-.78 2.05 0 2.83L4 21.41c.39.39.9.59 1.41.59.51 0 1.02-.2 1.41-.59l7.78-7.78 2.81-2.81c.8-.78.8-2.07 0-2.86zM5.41 20L4 18.59l7.72-7.72 1.47 1.35L5.41 20z\"/>\n",
              "  </svg>\n",
              "      </button>\n",
              "      \n",
              "  <style>\n",
              "    .colab-df-container {\n",
              "      display:flex;\n",
              "      flex-wrap:wrap;\n",
              "      gap: 12px;\n",
              "    }\n",
              "\n",
              "    .colab-df-convert {\n",
              "      background-color: #E8F0FE;\n",
              "      border: none;\n",
              "      border-radius: 50%;\n",
              "      cursor: pointer;\n",
              "      display: none;\n",
              "      fill: #1967D2;\n",
              "      height: 32px;\n",
              "      padding: 0 0 0 0;\n",
              "      width: 32px;\n",
              "    }\n",
              "\n",
              "    .colab-df-convert:hover {\n",
              "      background-color: #E2EBFA;\n",
              "      box-shadow: 0px 1px 2px rgba(60, 64, 67, 0.3), 0px 1px 3px 1px rgba(60, 64, 67, 0.15);\n",
              "      fill: #174EA6;\n",
              "    }\n",
              "\n",
              "    [theme=dark] .colab-df-convert {\n",
              "      background-color: #3B4455;\n",
              "      fill: #D2E3FC;\n",
              "    }\n",
              "\n",
              "    [theme=dark] .colab-df-convert:hover {\n",
              "      background-color: #434B5C;\n",
              "      box-shadow: 0px 1px 3px 1px rgba(0, 0, 0, 0.15);\n",
              "      filter: drop-shadow(0px 1px 2px rgba(0, 0, 0, 0.3));\n",
              "      fill: #FFFFFF;\n",
              "    }\n",
              "  </style>\n",
              "\n",
              "      <script>\n",
              "        const buttonEl =\n",
              "          document.querySelector('#df-a9d729b9-bc9f-4283-a8ac-0200934d117a button.colab-df-convert');\n",
              "        buttonEl.style.display =\n",
              "          google.colab.kernel.accessAllowed ? 'block' : 'none';\n",
              "\n",
              "        async function convertToInteractive(key) {\n",
              "          const element = document.querySelector('#df-a9d729b9-bc9f-4283-a8ac-0200934d117a');\n",
              "          const dataTable =\n",
              "            await google.colab.kernel.invokeFunction('convertToInteractive',\n",
              "                                                     [key], {});\n",
              "          if (!dataTable) return;\n",
              "\n",
              "          const docLinkHtml = 'Like what you see? Visit the ' +\n",
              "            '<a target=\"_blank\" href=https://colab.research.google.com/notebooks/data_table.ipynb>data table notebook</a>'\n",
              "            + ' to learn more about interactive tables.';\n",
              "          element.innerHTML = '';\n",
              "          dataTable['output_type'] = 'display_data';\n",
              "          await google.colab.output.renderOutput(dataTable, element);\n",
              "          const docLink = document.createElement('div');\n",
              "          docLink.innerHTML = docLinkHtml;\n",
              "          element.appendChild(docLink);\n",
              "        }\n",
              "      </script>\n",
              "    </div>\n",
              "  </div>\n",
              "  "
            ]
          },
          "metadata": {},
          "execution_count": 84
        }
      ]
    },
    {
      "cell_type": "code",
      "source": [
        "unscaled_nested_inputs = unscaled_nested_df.values[:,:-1]\n",
        "nested_targets = unscaled_nested_df.values[:,-1]"
      ],
      "metadata": {
        "id": "K0K0HTAP3D5l"
      },
      "execution_count": 85,
      "outputs": []
    },
    {
      "cell_type": "code",
      "source": [
        "# Split into training, validation, and test sets\n",
        "\n",
        "unscaled_nested_X_train, unscaled_nested_X_set, nested_y_train, nested_y_set = train_test_split(unscaled_nested_inputs, nested_targets, test_size=0.2, random_state=15)\n",
        "unscaled_nested_X_valid, unscaled_nested_X_test, nested_y_valid, nested_y_test = train_test_split(unscaled_nested_X_set, nested_y_set, test_size=0.5, random_state=13)"
      ],
      "metadata": {
        "id": "ZgZjiRnC3EGt"
      },
      "execution_count": 86,
      "outputs": []
    },
    {
      "cell_type": "code",
      "source": [
        "# Scale data\n",
        "\n",
        "nested_model_scaler = StandardScaler()\n",
        "\n",
        "# Calculate and store the mean and sd\n",
        "nested_model_scaler.fit(unscaled_nested_X_train)\n",
        "\n",
        "# Apply the scaler\n",
        "nested_X_train = nested_model_scaler.transform(unscaled_nested_X_train)\n",
        "nested_X_valid = nested_model_scaler.transform(unscaled_nested_X_valid)\n",
        "nested_X_test = nested_model_scaler.transform(unscaled_nested_X_test)"
      ],
      "metadata": {
        "id": "ur3VDezy3EEC"
      },
      "execution_count": 87,
      "outputs": []
    },
    {
      "cell_type": "code",
      "source": [
        "nested_y_valid.shape"
      ],
      "metadata": {
        "colab": {
          "base_uri": "https://localhost:8080/"
        },
        "id": "OVnye7Ue3EJU",
        "outputId": "12e77d68-1b62-40c5-fe9e-e627af9795db"
      },
      "execution_count": 88,
      "outputs": [
        {
          "output_type": "execute_result",
          "data": {
            "text/plain": [
              "(206,)"
            ]
          },
          "metadata": {},
          "execution_count": 88
        }
      ]
    },
    {
      "cell_type": "code",
      "source": [
        "nested_X_train.shape"
      ],
      "metadata": {
        "colab": {
          "base_uri": "https://localhost:8080/"
        },
        "id": "McxFR5Li3EME",
        "outputId": "d0e7feb0-5631-4d2e-b255-a0fdca105abe"
      },
      "execution_count": 89,
      "outputs": [
        {
          "output_type": "execute_result",
          "data": {
            "text/plain": [
              "(1650, 2)"
            ]
          },
          "metadata": {},
          "execution_count": 89
        }
      ]
    },
    {
      "cell_type": "markdown",
      "source": [
        "## Model"
      ],
      "metadata": {
        "id": "BnuZeBNMvXrV"
      }
    },
    {
      "cell_type": "code",
      "source": [
        "# Create the model\n",
        "# Ran different rounds of the below model.  Some of the options I put in comments to the right.\n",
        "\n",
        "input_size = 2\n",
        "output_size = 5\n",
        "hidden_layer_size = 15 # also tried 20, 50, 10\n",
        "\n",
        "nested_model = tf.keras.Sequential([\n",
        "    #tf.keras.layers.Dense(hidden_layer_size, activation='relu'),    \n",
        "    tf.keras.layers.Dense(hidden_layer_size, activation='linear'),\n",
        "    tf.keras.layers.Dense(output_size, activation='softmax') \n",
        "    ])\n",
        "\n",
        "nested_model.compile(optimizer='adam', loss='sparse_categorical_crossentropy', metrics=['accuracy'])\n",
        "\n",
        "# tanh, tanh, softmax - val accuracy .8983\n",
        "# relu, relu, softmax - val accuracy .9027\n",
        "# relu, tanh, softmax - val accuracy .8982\n",
        "# relu, linear, softmax - val accuracy .9071\n",
        "# linear, softmax - val accuracy .9115\n",
        "# relu, softmax - val accuracy .8982"
      ],
      "metadata": {
        "id": "rd57uxxm63b-"
      },
      "execution_count": 90,
      "outputs": []
    },
    {
      "cell_type": "code",
      "source": [
        "# Fit the model\n",
        "\n",
        "batch_size = 150  # alternatives tried 50, 200, 75\n",
        "max_epochs = 100 \n",
        "\n",
        "early_stopping = tf.keras.callbacks.EarlyStopping(patience=3) # the adam optimizer has a learning rate of 0.001, so I added more patience \n",
        "\n",
        "nested_model.fit(nested_X_train, \n",
        "          nested_y_train, \n",
        "          batch_size=batch_size,\n",
        "          epochs = max_epochs,\n",
        "          callbacks = [early_stopping],\n",
        "          validation_data = (nested_X_valid, nested_y_valid),\n",
        "          verbose =2)\n"
      ],
      "metadata": {
        "colab": {
          "base_uri": "https://localhost:8080/"
        },
        "id": "sy2pmZmE63ej",
        "outputId": "7a047408-7ce2-42d1-97bf-f8abca0edf9b"
      },
      "execution_count": 91,
      "outputs": [
        {
          "output_type": "stream",
          "name": "stdout",
          "text": [
            "Epoch 1/100\n",
            "11/11 - 1s - loss: 1.6888 - accuracy: 0.1618 - val_loss: 1.6345 - val_accuracy: 0.1748 - 561ms/epoch - 51ms/step\n",
            "Epoch 2/100\n",
            "11/11 - 0s - loss: 1.5924 - accuracy: 0.2042 - val_loss: 1.5466 - val_accuracy: 0.3204 - 45ms/epoch - 4ms/step\n",
            "Epoch 3/100\n",
            "11/11 - 0s - loss: 1.5053 - accuracy: 0.4945 - val_loss: 1.4688 - val_accuracy: 0.5777 - 37ms/epoch - 3ms/step\n",
            "Epoch 4/100\n",
            "11/11 - 0s - loss: 1.4279 - accuracy: 0.6067 - val_loss: 1.4005 - val_accuracy: 0.5777 - 54ms/epoch - 5ms/step\n",
            "Epoch 5/100\n",
            "11/11 - 0s - loss: 1.3607 - accuracy: 0.6248 - val_loss: 1.3407 - val_accuracy: 0.5922 - 35ms/epoch - 3ms/step\n",
            "Epoch 6/100\n",
            "11/11 - 0s - loss: 1.3010 - accuracy: 0.6430 - val_loss: 1.2886 - val_accuracy: 0.6068 - 37ms/epoch - 3ms/step\n",
            "Epoch 7/100\n",
            "11/11 - 0s - loss: 1.2494 - accuracy: 0.6582 - val_loss: 1.2425 - val_accuracy: 0.6262 - 44ms/epoch - 4ms/step\n",
            "Epoch 8/100\n",
            "11/11 - 0s - loss: 1.2037 - accuracy: 0.6855 - val_loss: 1.2016 - val_accuracy: 0.6553 - 37ms/epoch - 3ms/step\n",
            "Epoch 9/100\n",
            "11/11 - 0s - loss: 1.1631 - accuracy: 0.6958 - val_loss: 1.1651 - val_accuracy: 0.6845 - 38ms/epoch - 3ms/step\n",
            "Epoch 10/100\n",
            "11/11 - 0s - loss: 1.1264 - accuracy: 0.7170 - val_loss: 1.1312 - val_accuracy: 0.6942 - 42ms/epoch - 4ms/step\n",
            "Epoch 11/100\n",
            "11/11 - 0s - loss: 1.0932 - accuracy: 0.7279 - val_loss: 1.1003 - val_accuracy: 0.7039 - 36ms/epoch - 3ms/step\n",
            "Epoch 12/100\n",
            "11/11 - 0s - loss: 1.0624 - accuracy: 0.7412 - val_loss: 1.0710 - val_accuracy: 0.7087 - 36ms/epoch - 3ms/step\n",
            "Epoch 13/100\n",
            "11/11 - 0s - loss: 1.0338 - accuracy: 0.7539 - val_loss: 1.0436 - val_accuracy: 0.7330 - 41ms/epoch - 4ms/step\n",
            "Epoch 14/100\n",
            "11/11 - 0s - loss: 1.0069 - accuracy: 0.7600 - val_loss: 1.0178 - val_accuracy: 0.7621 - 43ms/epoch - 4ms/step\n",
            "Epoch 15/100\n",
            "11/11 - 0s - loss: 0.9815 - accuracy: 0.7800 - val_loss: 0.9930 - val_accuracy: 0.7621 - 36ms/epoch - 3ms/step\n",
            "Epoch 16/100\n",
            "11/11 - 0s - loss: 0.9574 - accuracy: 0.7879 - val_loss: 0.9691 - val_accuracy: 0.7961 - 54ms/epoch - 5ms/step\n",
            "Epoch 17/100\n",
            "11/11 - 0s - loss: 0.9342 - accuracy: 0.7982 - val_loss: 0.9463 - val_accuracy: 0.8058 - 58ms/epoch - 5ms/step\n",
            "Epoch 18/100\n",
            "11/11 - 0s - loss: 0.9122 - accuracy: 0.8115 - val_loss: 0.9239 - val_accuracy: 0.8058 - 40ms/epoch - 4ms/step\n",
            "Epoch 19/100\n",
            "11/11 - 0s - loss: 0.8909 - accuracy: 0.8188 - val_loss: 0.9030 - val_accuracy: 0.8155 - 38ms/epoch - 3ms/step\n",
            "Epoch 20/100\n",
            "11/11 - 0s - loss: 0.8703 - accuracy: 0.8248 - val_loss: 0.8826 - val_accuracy: 0.8155 - 38ms/epoch - 3ms/step\n",
            "Epoch 21/100\n",
            "11/11 - 0s - loss: 0.8506 - accuracy: 0.8339 - val_loss: 0.8624 - val_accuracy: 0.8252 - 59ms/epoch - 5ms/step\n",
            "Epoch 22/100\n",
            "11/11 - 0s - loss: 0.8315 - accuracy: 0.8358 - val_loss: 0.8431 - val_accuracy: 0.8252 - 38ms/epoch - 3ms/step\n",
            "Epoch 23/100\n",
            "11/11 - 0s - loss: 0.8131 - accuracy: 0.8370 - val_loss: 0.8248 - val_accuracy: 0.8252 - 39ms/epoch - 4ms/step\n",
            "Epoch 24/100\n",
            "11/11 - 0s - loss: 0.7950 - accuracy: 0.8370 - val_loss: 0.8068 - val_accuracy: 0.8252 - 46ms/epoch - 4ms/step\n",
            "Epoch 25/100\n",
            "11/11 - 0s - loss: 0.7777 - accuracy: 0.8370 - val_loss: 0.7894 - val_accuracy: 0.8252 - 42ms/epoch - 4ms/step\n",
            "Epoch 26/100\n",
            "11/11 - 0s - loss: 0.7608 - accuracy: 0.8370 - val_loss: 0.7724 - val_accuracy: 0.8252 - 45ms/epoch - 4ms/step\n",
            "Epoch 27/100\n",
            "11/11 - 0s - loss: 0.7445 - accuracy: 0.8370 - val_loss: 0.7558 - val_accuracy: 0.8252 - 36ms/epoch - 3ms/step\n",
            "Epoch 28/100\n",
            "11/11 - 0s - loss: 0.7287 - accuracy: 0.8370 - val_loss: 0.7397 - val_accuracy: 0.8252 - 39ms/epoch - 4ms/step\n",
            "Epoch 29/100\n",
            "11/11 - 0s - loss: 0.7132 - accuracy: 0.8370 - val_loss: 0.7247 - val_accuracy: 0.8252 - 45ms/epoch - 4ms/step\n",
            "Epoch 30/100\n",
            "11/11 - 0s - loss: 0.6983 - accuracy: 0.8382 - val_loss: 0.7096 - val_accuracy: 0.8252 - 36ms/epoch - 3ms/step\n",
            "Epoch 31/100\n",
            "11/11 - 0s - loss: 0.6837 - accuracy: 0.8382 - val_loss: 0.6950 - val_accuracy: 0.8301 - 38ms/epoch - 3ms/step\n",
            "Epoch 32/100\n",
            "11/11 - 0s - loss: 0.6695 - accuracy: 0.8382 - val_loss: 0.6809 - val_accuracy: 0.8350 - 46ms/epoch - 4ms/step\n",
            "Epoch 33/100\n",
            "11/11 - 0s - loss: 0.6559 - accuracy: 0.8382 - val_loss: 0.6673 - val_accuracy: 0.8398 - 38ms/epoch - 3ms/step\n",
            "Epoch 34/100\n",
            "11/11 - 0s - loss: 0.6425 - accuracy: 0.8394 - val_loss: 0.6539 - val_accuracy: 0.8398 - 36ms/epoch - 3ms/step\n",
            "Epoch 35/100\n",
            "11/11 - 0s - loss: 0.6295 - accuracy: 0.8424 - val_loss: 0.6408 - val_accuracy: 0.8398 - 44ms/epoch - 4ms/step\n",
            "Epoch 36/100\n",
            "11/11 - 0s - loss: 0.6170 - accuracy: 0.8448 - val_loss: 0.6284 - val_accuracy: 0.8398 - 37ms/epoch - 3ms/step\n",
            "Epoch 37/100\n",
            "11/11 - 0s - loss: 0.6048 - accuracy: 0.8461 - val_loss: 0.6161 - val_accuracy: 0.8398 - 37ms/epoch - 3ms/step\n",
            "Epoch 38/100\n",
            "11/11 - 0s - loss: 0.5929 - accuracy: 0.8473 - val_loss: 0.6043 - val_accuracy: 0.8398 - 41ms/epoch - 4ms/step\n",
            "Epoch 39/100\n",
            "11/11 - 0s - loss: 0.5815 - accuracy: 0.8491 - val_loss: 0.5931 - val_accuracy: 0.8398 - 40ms/epoch - 4ms/step\n",
            "Epoch 40/100\n",
            "11/11 - 0s - loss: 0.5704 - accuracy: 0.8491 - val_loss: 0.5819 - val_accuracy: 0.8398 - 38ms/epoch - 3ms/step\n",
            "Epoch 41/100\n",
            "11/11 - 0s - loss: 0.5596 - accuracy: 0.8491 - val_loss: 0.5713 - val_accuracy: 0.8398 - 38ms/epoch - 3ms/step\n",
            "Epoch 42/100\n",
            "11/11 - 0s - loss: 0.5492 - accuracy: 0.8491 - val_loss: 0.5613 - val_accuracy: 0.8398 - 54ms/epoch - 5ms/step\n",
            "Epoch 43/100\n",
            "11/11 - 0s - loss: 0.5390 - accuracy: 0.8497 - val_loss: 0.5512 - val_accuracy: 0.8447 - 39ms/epoch - 4ms/step\n",
            "Epoch 44/100\n",
            "11/11 - 0s - loss: 0.5293 - accuracy: 0.8503 - val_loss: 0.5415 - val_accuracy: 0.8447 - 42ms/epoch - 4ms/step\n",
            "Epoch 45/100\n",
            "11/11 - 0s - loss: 0.5199 - accuracy: 0.8533 - val_loss: 0.5321 - val_accuracy: 0.8447 - 38ms/epoch - 3ms/step\n",
            "Epoch 46/100\n",
            "11/11 - 0s - loss: 0.5107 - accuracy: 0.8533 - val_loss: 0.5234 - val_accuracy: 0.8447 - 42ms/epoch - 4ms/step\n",
            "Epoch 47/100\n",
            "11/11 - 0s - loss: 0.5019 - accuracy: 0.8558 - val_loss: 0.5146 - val_accuracy: 0.8447 - 46ms/epoch - 4ms/step\n",
            "Epoch 48/100\n",
            "11/11 - 0s - loss: 0.4934 - accuracy: 0.8564 - val_loss: 0.5066 - val_accuracy: 0.8447 - 45ms/epoch - 4ms/step\n",
            "Epoch 49/100\n",
            "11/11 - 0s - loss: 0.4853 - accuracy: 0.8558 - val_loss: 0.4985 - val_accuracy: 0.8447 - 35ms/epoch - 3ms/step\n",
            "Epoch 50/100\n",
            "11/11 - 0s - loss: 0.4776 - accuracy: 0.8582 - val_loss: 0.4906 - val_accuracy: 0.8447 - 49ms/epoch - 4ms/step\n",
            "Epoch 51/100\n",
            "11/11 - 0s - loss: 0.4697 - accuracy: 0.8594 - val_loss: 0.4831 - val_accuracy: 0.8447 - 39ms/epoch - 4ms/step\n",
            "Epoch 52/100\n",
            "11/11 - 0s - loss: 0.4624 - accuracy: 0.8612 - val_loss: 0.4761 - val_accuracy: 0.8447 - 39ms/epoch - 4ms/step\n",
            "Epoch 53/100\n",
            "11/11 - 0s - loss: 0.4553 - accuracy: 0.8624 - val_loss: 0.4693 - val_accuracy: 0.8447 - 43ms/epoch - 4ms/step\n",
            "Epoch 54/100\n",
            "11/11 - 0s - loss: 0.4485 - accuracy: 0.8630 - val_loss: 0.4626 - val_accuracy: 0.8447 - 40ms/epoch - 4ms/step\n",
            "Epoch 55/100\n",
            "11/11 - 0s - loss: 0.4421 - accuracy: 0.8612 - val_loss: 0.4563 - val_accuracy: 0.8447 - 38ms/epoch - 3ms/step\n",
            "Epoch 56/100\n",
            "11/11 - 0s - loss: 0.4359 - accuracy: 0.8648 - val_loss: 0.4500 - val_accuracy: 0.8447 - 54ms/epoch - 5ms/step\n",
            "Epoch 57/100\n",
            "11/11 - 0s - loss: 0.4294 - accuracy: 0.8655 - val_loss: 0.4441 - val_accuracy: 0.8447 - 38ms/epoch - 3ms/step\n",
            "Epoch 58/100\n",
            "11/11 - 0s - loss: 0.4235 - accuracy: 0.8655 - val_loss: 0.4385 - val_accuracy: 0.8447 - 35ms/epoch - 3ms/step\n",
            "Epoch 59/100\n",
            "11/11 - 0s - loss: 0.4180 - accuracy: 0.8655 - val_loss: 0.4329 - val_accuracy: 0.8447 - 42ms/epoch - 4ms/step\n",
            "Epoch 60/100\n",
            "11/11 - 0s - loss: 0.4124 - accuracy: 0.8655 - val_loss: 0.4279 - val_accuracy: 0.8447 - 39ms/epoch - 4ms/step\n",
            "Epoch 61/100\n",
            "11/11 - 0s - loss: 0.4073 - accuracy: 0.8655 - val_loss: 0.4229 - val_accuracy: 0.8447 - 36ms/epoch - 3ms/step\n",
            "Epoch 62/100\n",
            "11/11 - 0s - loss: 0.4021 - accuracy: 0.8661 - val_loss: 0.4179 - val_accuracy: 0.8447 - 42ms/epoch - 4ms/step\n",
            "Epoch 63/100\n",
            "11/11 - 0s - loss: 0.3973 - accuracy: 0.8685 - val_loss: 0.4134 - val_accuracy: 0.8447 - 43ms/epoch - 4ms/step\n",
            "Epoch 64/100\n",
            "11/11 - 0s - loss: 0.3926 - accuracy: 0.8691 - val_loss: 0.4087 - val_accuracy: 0.8447 - 38ms/epoch - 3ms/step\n",
            "Epoch 65/100\n",
            "11/11 - 0s - loss: 0.3882 - accuracy: 0.8697 - val_loss: 0.4043 - val_accuracy: 0.8447 - 38ms/epoch - 3ms/step\n",
            "Epoch 66/100\n",
            "11/11 - 0s - loss: 0.3839 - accuracy: 0.8697 - val_loss: 0.4002 - val_accuracy: 0.8495 - 44ms/epoch - 4ms/step\n",
            "Epoch 67/100\n",
            "11/11 - 0s - loss: 0.3795 - accuracy: 0.8715 - val_loss: 0.3964 - val_accuracy: 0.8447 - 39ms/epoch - 4ms/step\n",
            "Epoch 68/100\n",
            "11/11 - 0s - loss: 0.3755 - accuracy: 0.8715 - val_loss: 0.3928 - val_accuracy: 0.8447 - 39ms/epoch - 4ms/step\n",
            "Epoch 69/100\n",
            "11/11 - 0s - loss: 0.3720 - accuracy: 0.8709 - val_loss: 0.3892 - val_accuracy: 0.8495 - 50ms/epoch - 5ms/step\n",
            "Epoch 70/100\n",
            "11/11 - 0s - loss: 0.3685 - accuracy: 0.8715 - val_loss: 0.3857 - val_accuracy: 0.8447 - 45ms/epoch - 4ms/step\n",
            "Epoch 71/100\n",
            "11/11 - 0s - loss: 0.3648 - accuracy: 0.8758 - val_loss: 0.3819 - val_accuracy: 0.8447 - 40ms/epoch - 4ms/step\n",
            "Epoch 72/100\n",
            "11/11 - 0s - loss: 0.3611 - accuracy: 0.8782 - val_loss: 0.3787 - val_accuracy: 0.8447 - 37ms/epoch - 3ms/step\n",
            "Epoch 73/100\n",
            "11/11 - 0s - loss: 0.3577 - accuracy: 0.8782 - val_loss: 0.3758 - val_accuracy: 0.8398 - 39ms/epoch - 4ms/step\n",
            "Epoch 74/100\n",
            "11/11 - 0s - loss: 0.3549 - accuracy: 0.8770 - val_loss: 0.3728 - val_accuracy: 0.8447 - 36ms/epoch - 3ms/step\n",
            "Epoch 75/100\n",
            "11/11 - 0s - loss: 0.3516 - accuracy: 0.8794 - val_loss: 0.3701 - val_accuracy: 0.8398 - 58ms/epoch - 5ms/step\n",
            "Epoch 76/100\n",
            "11/11 - 0s - loss: 0.3487 - accuracy: 0.8794 - val_loss: 0.3673 - val_accuracy: 0.8447 - 41ms/epoch - 4ms/step\n",
            "Epoch 77/100\n",
            "11/11 - 0s - loss: 0.3461 - accuracy: 0.8836 - val_loss: 0.3647 - val_accuracy: 0.8447 - 42ms/epoch - 4ms/step\n",
            "Epoch 78/100\n",
            "11/11 - 0s - loss: 0.3433 - accuracy: 0.8836 - val_loss: 0.3622 - val_accuracy: 0.8447 - 59ms/epoch - 5ms/step\n",
            "Epoch 79/100\n",
            "11/11 - 0s - loss: 0.3407 - accuracy: 0.8879 - val_loss: 0.3595 - val_accuracy: 0.8447 - 38ms/epoch - 3ms/step\n",
            "Epoch 80/100\n",
            "11/11 - 0s - loss: 0.3382 - accuracy: 0.8897 - val_loss: 0.3574 - val_accuracy: 0.8447 - 38ms/epoch - 3ms/step\n",
            "Epoch 81/100\n",
            "11/11 - 0s - loss: 0.3358 - accuracy: 0.8897 - val_loss: 0.3552 - val_accuracy: 0.8447 - 38ms/epoch - 3ms/step\n",
            "Epoch 82/100\n",
            "11/11 - 0s - loss: 0.3335 - accuracy: 0.8897 - val_loss: 0.3531 - val_accuracy: 0.8447 - 49ms/epoch - 4ms/step\n",
            "Epoch 83/100\n",
            "11/11 - 0s - loss: 0.3314 - accuracy: 0.8897 - val_loss: 0.3515 - val_accuracy: 0.8447 - 38ms/epoch - 3ms/step\n",
            "Epoch 84/100\n",
            "11/11 - 0s - loss: 0.3292 - accuracy: 0.8897 - val_loss: 0.3492 - val_accuracy: 0.8447 - 34ms/epoch - 3ms/step\n",
            "Epoch 85/100\n",
            "11/11 - 0s - loss: 0.3276 - accuracy: 0.8952 - val_loss: 0.3471 - val_accuracy: 0.8495 - 43ms/epoch - 4ms/step\n",
            "Epoch 86/100\n",
            "11/11 - 0s - loss: 0.3258 - accuracy: 0.8945 - val_loss: 0.3452 - val_accuracy: 0.8544 - 41ms/epoch - 4ms/step\n",
            "Epoch 87/100\n",
            "11/11 - 0s - loss: 0.3234 - accuracy: 0.8945 - val_loss: 0.3437 - val_accuracy: 0.8495 - 38ms/epoch - 3ms/step\n",
            "Epoch 88/100\n",
            "11/11 - 0s - loss: 0.3222 - accuracy: 0.8958 - val_loss: 0.3424 - val_accuracy: 0.8495 - 41ms/epoch - 4ms/step\n",
            "Epoch 89/100\n",
            "11/11 - 0s - loss: 0.3199 - accuracy: 0.8945 - val_loss: 0.3405 - val_accuracy: 0.8544 - 43ms/epoch - 4ms/step\n",
            "Epoch 90/100\n",
            "11/11 - 0s - loss: 0.3193 - accuracy: 0.8970 - val_loss: 0.3387 - val_accuracy: 0.8544 - 41ms/epoch - 4ms/step\n",
            "Epoch 91/100\n",
            "11/11 - 0s - loss: 0.3173 - accuracy: 0.8945 - val_loss: 0.3384 - val_accuracy: 0.8495 - 56ms/epoch - 5ms/step\n",
            "Epoch 92/100\n",
            "11/11 - 0s - loss: 0.3154 - accuracy: 0.8976 - val_loss: 0.3360 - val_accuracy: 0.8495 - 48ms/epoch - 4ms/step\n",
            "Epoch 93/100\n",
            "11/11 - 0s - loss: 0.3138 - accuracy: 0.8994 - val_loss: 0.3349 - val_accuracy: 0.8544 - 41ms/epoch - 4ms/step\n",
            "Epoch 94/100\n",
            "11/11 - 0s - loss: 0.3124 - accuracy: 0.8988 - val_loss: 0.3333 - val_accuracy: 0.8544 - 41ms/epoch - 4ms/step\n",
            "Epoch 95/100\n",
            "11/11 - 0s - loss: 0.3109 - accuracy: 0.8988 - val_loss: 0.3322 - val_accuracy: 0.8544 - 44ms/epoch - 4ms/step\n",
            "Epoch 96/100\n",
            "11/11 - 0s - loss: 0.3097 - accuracy: 0.8988 - val_loss: 0.3313 - val_accuracy: 0.8544 - 36ms/epoch - 3ms/step\n",
            "Epoch 97/100\n",
            "11/11 - 0s - loss: 0.3085 - accuracy: 0.8988 - val_loss: 0.3303 - val_accuracy: 0.8544 - 40ms/epoch - 4ms/step\n",
            "Epoch 98/100\n",
            "11/11 - 0s - loss: 0.3075 - accuracy: 0.8933 - val_loss: 0.3282 - val_accuracy: 0.8544 - 39ms/epoch - 4ms/step\n",
            "Epoch 99/100\n",
            "11/11 - 0s - loss: 0.3064 - accuracy: 0.8933 - val_loss: 0.3278 - val_accuracy: 0.8544 - 43ms/epoch - 4ms/step\n",
            "Epoch 100/100\n",
            "11/11 - 0s - loss: 0.3052 - accuracy: 0.8988 - val_loss: 0.3268 - val_accuracy: 0.8544 - 37ms/epoch - 3ms/step\n"
          ]
        },
        {
          "output_type": "execute_result",
          "data": {
            "text/plain": [
              "<keras.callbacks.History at 0x7f8db66c3e20>"
            ]
          },
          "metadata": {},
          "execution_count": 91
        }
      ]
    },
    {
      "cell_type": "code",
      "source": [
        "# test the model\n",
        "nested_test_loss, nested_test_accuracy = nested_model.evaluate(nested_X_test, nested_y_test)\n",
        "\n",
        "\n",
        "# Print Pretty\n",
        "print('\\nNested Test loss: {0:.2f}. Nested Test accuracy: {1:.2f}%'.format(nested_test_loss, nested_test_accuracy*100.))"
      ],
      "metadata": {
        "colab": {
          "base_uri": "https://localhost:8080/"
        },
        "id": "5Hh0hkpX63g5",
        "outputId": "c06d7c97-c92f-4317-c52e-3bec4094908e"
      },
      "execution_count": 92,
      "outputs": [
        {
          "output_type": "stream",
          "name": "stdout",
          "text": [
            "7/7 [==============================] - 0s 2ms/step - loss: 0.2558 - accuracy: 0.9227\n",
            "\n",
            "Nested Test loss: 0.26. Nested Test accuracy: 92.27%\n"
          ]
        }
      ]
    },
    {
      "cell_type": "code",
      "source": [
        "# Save model\n",
        "# Test accuracy for the saved model is 91.59%\n",
        "#tf.keras.models.save_model(nested_model, '/content/drive/MyDrive/Colab Data/KY EPSB/nested_model', include_optimizer=True)"
      ],
      "metadata": {
        "id": "7yQKv1AN63jP"
      },
      "execution_count": 93,
      "outputs": []
    },
    {
      "cell_type": "markdown",
      "source": [
        "## Nested Predict"
      ],
      "metadata": {
        "id": "r-qUzl4bL2zk"
      }
    },
    {
      "cell_type": "code",
      "source": [
        "nested_inputs = nested_predict_df.loc[:,['Proficiency Rate', 'Classification']]\n",
        "\n",
        "nested_inputs['Classification'] = nested_inputs['Classification'].map({'Distinguished': 0, 'Proficient':1, 'Needs Improvement':2})"
      ],
      "metadata": {
        "id": "jd6WyixiL-P2"
      },
      "execution_count": 94,
      "outputs": []
    },
    {
      "cell_type": "code",
      "source": [
        "# Scale data  \n",
        "nested_inputs = nested_model_scaler.transform(nested_inputs.values)\n"
      ],
      "metadata": {
        "id": "f4_eD4weL-SH"
      },
      "execution_count": 95,
      "outputs": []
    },
    {
      "cell_type": "code",
      "source": [
        "nested_classifications = nested_model.predict(nested_inputs)"
      ],
      "metadata": {
        "colab": {
          "base_uri": "https://localhost:8080/"
        },
        "id": "c6BueGUWL-U8",
        "outputId": "24e22498-d5aa-4c8c-a467-16d973f64a92"
      },
      "execution_count": 96,
      "outputs": [
        {
          "output_type": "stream",
          "name": "stdout",
          "text": [
            "310/310 [==============================] - 0s 1ms/step\n"
          ]
        }
      ]
    },
    {
      "cell_type": "code",
      "source": [
        "nested_classifications.shape"
      ],
      "metadata": {
        "colab": {
          "base_uri": "https://localhost:8080/"
        },
        "id": "XXXLEw4L63ma",
        "outputId": "e6f3d4c8-4e2a-4f93-9402-86efc97da3f1"
      },
      "execution_count": 97,
      "outputs": [
        {
          "output_type": "execute_result",
          "data": {
            "text/plain": [
              "(9892, 5)"
            ]
          },
          "metadata": {},
          "execution_count": 97
        }
      ]
    },
    {
      "cell_type": "code",
      "source": [
        "nested_classifications"
      ],
      "metadata": {
        "colab": {
          "base_uri": "https://localhost:8080/"
        },
        "id": "Q5AVpvjmRpOb",
        "outputId": "92fdcd60-3667-47d2-8c67-de0443faef23"
      },
      "execution_count": 98,
      "outputs": [
        {
          "output_type": "execute_result",
          "data": {
            "text/plain": [
              "array([[3.8657184e-03, 1.7006550e-02, 9.5604396e-01, 2.0029845e-02,\n",
              "        3.0539285e-03],\n",
              "       [2.5172599e-07, 3.7873258e-07, 2.4450660e-02, 9.0971935e-01,\n",
              "        6.5829307e-02],\n",
              "       [3.2654444e-08, 1.3217246e-07, 1.2717063e-02, 8.2515055e-01,\n",
              "        1.6213226e-01],\n",
              "       ...,\n",
              "       [1.5360738e-02, 2.5119087e-02, 9.4749820e-01, 1.1382780e-02,\n",
              "        6.3915364e-04],\n",
              "       [1.1638303e-01, 8.5047263e-01, 3.3143945e-02, 2.8455736e-07,\n",
              "        5.1656059e-08],\n",
              "       [4.5869429e-02, 9.0175498e-01, 5.2374441e-02, 7.8417804e-07,\n",
              "        3.8653610e-07]], dtype=float32)"
            ]
          },
          "metadata": {},
          "execution_count": 98
        }
      ]
    },
    {
      "cell_type": "code",
      "source": [
        "# Convert to a df\n",
        "nested_classifications = pd.DataFrame(nested_classifications, columns=['Very High', 'High', 'Medium', 'Low', 'Very Low'])\n",
        "\n",
        "# Select the column with the highest percentage\n",
        "nested_classifications = nested_classifications.idxmax(axis=1)"
      ],
      "metadata": {
        "id": "NEn60mmaLk9n"
      },
      "execution_count": 99,
      "outputs": []
    },
    {
      "cell_type": "code",
      "source": [
        "nested_predict_df['Predicted 5 Classifications'] = nested_classifications"
      ],
      "metadata": {
        "id": "PKz6yN9vsFBW"
      },
      "execution_count": 100,
      "outputs": []
    },
    {
      "cell_type": "code",
      "source": [
        "nested_predict_df['Predicted 5 Classifications'].value_counts(dropna=False)"
      ],
      "metadata": {
        "colab": {
          "base_uri": "https://localhost:8080/"
        },
        "id": "jpIVbIEeRNNU",
        "outputId": "b5bd1a66-b653-42fa-a483-766597705738"
      },
      "execution_count": 101,
      "outputs": [
        {
          "output_type": "execute_result",
          "data": {
            "text/plain": [
              "Low          4292\n",
              "Medium       2763\n",
              "High         2419\n",
              "Very High     252\n",
              "Very Low      162\n",
              "NaN             4\n",
              "Name: Predicted 5 Classifications, dtype: int64"
            ]
          },
          "metadata": {},
          "execution_count": 101
        }
      ]
    },
    {
      "cell_type": "code",
      "source": [
        "nested_predict_df['5 Classifications'].fillna(nested_predict_df['Predicted 5 Classifications'], inplace = True)"
      ],
      "metadata": {
        "id": "bhPNiJeyUeDv"
      },
      "execution_count": 102,
      "outputs": []
    },
    {
      "cell_type": "code",
      "source": [
        "nested_predict_df.drop(['Predicted 5 Classifications'], axis=1, inplace=True)"
      ],
      "metadata": {
        "id": "UXUI4XOBUeGk"
      },
      "execution_count": 103,
      "outputs": []
    },
    {
      "cell_type": "code",
      "source": [
        "nested_predict_df['5 Classifications'].value_counts()"
      ],
      "metadata": {
        "colab": {
          "base_uri": "https://localhost:8080/"
        },
        "id": "EoWedAiJUeI3",
        "outputId": "8ef22f00-eb6e-4f26-d98f-fd1e69f7f581"
      },
      "execution_count": 104,
      "outputs": [
        {
          "output_type": "execute_result",
          "data": {
            "text/plain": [
              "Low          4210\n",
              "Medium       2763\n",
              "High         2332\n",
              "Very High     339\n",
              "Very Low      244\n",
              "Name: 5 Classifications, dtype: int64"
            ]
          },
          "metadata": {},
          "execution_count": 104
        }
      ]
    },
    {
      "cell_type": "code",
      "source": [
        "nested_predict_df"
      ],
      "metadata": {
        "id": "D3WZnHiuemBN",
        "colab": {
          "base_uri": "https://localhost:8080/",
          "height": 849
        },
        "outputId": "3af80b9a-01bd-4bd4-bbfe-bcc9317ebc29"
      },
      "execution_count": 105,
      "outputs": [
        {
          "output_type": "execute_result",
          "data": {
            "text/plain": [
              "      End Year  District Code         District  School Code  \\\n",
              "0         2012              1     Adair County         1016   \n",
              "1         2012              1     Adair County         1010   \n",
              "2         2012              1     Adair County         1014   \n",
              "3         2012              5     Allen County         5060   \n",
              "4         2012              5     Allen County         5010   \n",
              "...        ...            ...              ...          ...   \n",
              "9887      2022            601  Woodford County       601090   \n",
              "9888      2022            601  Woodford County       601120   \n",
              "9889      2022            601  Woodford County       601075   \n",
              "9890      2022            601  Woodford County       601050   \n",
              "9891      2022            601  Woodford County       601084   \n",
              "\n",
              "                                School  Proficiency Rate     Classification  \\\n",
              "0       Adair County Elementary School                63         Proficient   \n",
              "1             Adair County High School                55  Needs Improvement   \n",
              "2           Adair County Middle School                48  Needs Improvement   \n",
              "3     Allen County Intermediate Center                56  Needs Improvement   \n",
              "4          Allen County Primary Center                50  Needs Improvement   \n",
              "...                                ...               ...                ...   \n",
              "9887      Huntertown Elementary School                77      Distinguished   \n",
              "9888       Northside Elementary School                69         Proficient   \n",
              "9889         Simmons Elementary School                70         Proficient   \n",
              "9890       Southside Elementary School                75      Distinguished   \n",
              "9891       Woodford County High School                68      Distinguished   \n",
              "\n",
              "      Reported Spending per student  Money Difference per school  \\\n",
              "0                          7,260.00                   -33,800.00   \n",
              "1                          6,460.00                   -36,400.00   \n",
              "2                          6,720.00                   -55,700.00   \n",
              "3                          6,570.00                   114,200.00   \n",
              "4                          7,930.00                   190,500.00   \n",
              "...                             ...                          ...   \n",
              "9887                      10,847.50                   115,625.00   \n",
              "9888                      12,173.75                    47,887.50   \n",
              "9889                      12,065.00                   -14,650.00   \n",
              "9890                      10,725.00                    70,762.50   \n",
              "9891                       9,492.50                    28,962.50   \n",
              "\n",
              "      Money Difference per student  Estimated Spending per student  \\\n",
              "0                           -60.00                        7,204.00   \n",
              "1                           -50.00                        6,405.00   \n",
              "2                          -140.00                        6,575.00   \n",
              "3                           160.00                        6,728.00   \n",
              "4                           210.00                        8,137.00   \n",
              "...                            ...                             ...   \n",
              "9887                        247.50                       11,094.25   \n",
              "9888                        151.25                       12,324.50   \n",
              "9889                        -30.00                       12,033.38   \n",
              "9890                        136.25                       10,861.75   \n",
              "9891                         23.75                        9,515.38   \n",
              "\n",
              "     5 Classifications  \n",
              "0               Medium  \n",
              "1                  Low  \n",
              "2                  Low  \n",
              "3                  Low  \n",
              "4                  Low  \n",
              "...                ...  \n",
              "9887              High  \n",
              "9888            Medium  \n",
              "9889            Medium  \n",
              "9890              High  \n",
              "9891              High  \n",
              "\n",
              "[9892 rows x 12 columns]"
            ],
            "text/html": [
              "\n",
              "  <div id=\"df-bbf00df2-af3a-4c9c-9afe-9483d76acd6d\">\n",
              "    <div class=\"colab-df-container\">\n",
              "      <div>\n",
              "<style scoped>\n",
              "    .dataframe tbody tr th:only-of-type {\n",
              "        vertical-align: middle;\n",
              "    }\n",
              "\n",
              "    .dataframe tbody tr th {\n",
              "        vertical-align: top;\n",
              "    }\n",
              "\n",
              "    .dataframe thead th {\n",
              "        text-align: right;\n",
              "    }\n",
              "</style>\n",
              "<table border=\"1\" class=\"dataframe\">\n",
              "  <thead>\n",
              "    <tr style=\"text-align: right;\">\n",
              "      <th></th>\n",
              "      <th>End Year</th>\n",
              "      <th>District Code</th>\n",
              "      <th>District</th>\n",
              "      <th>School Code</th>\n",
              "      <th>School</th>\n",
              "      <th>Proficiency Rate</th>\n",
              "      <th>Classification</th>\n",
              "      <th>Reported Spending per student</th>\n",
              "      <th>Money Difference per school</th>\n",
              "      <th>Money Difference per student</th>\n",
              "      <th>Estimated Spending per student</th>\n",
              "      <th>5 Classifications</th>\n",
              "    </tr>\n",
              "  </thead>\n",
              "  <tbody>\n",
              "    <tr>\n",
              "      <th>0</th>\n",
              "      <td>2012</td>\n",
              "      <td>1</td>\n",
              "      <td>Adair County</td>\n",
              "      <td>1016</td>\n",
              "      <td>Adair County Elementary School</td>\n",
              "      <td>63</td>\n",
              "      <td>Proficient</td>\n",
              "      <td>7,260.00</td>\n",
              "      <td>-33,800.00</td>\n",
              "      <td>-60.00</td>\n",
              "      <td>7,204.00</td>\n",
              "      <td>Medium</td>\n",
              "    </tr>\n",
              "    <tr>\n",
              "      <th>1</th>\n",
              "      <td>2012</td>\n",
              "      <td>1</td>\n",
              "      <td>Adair County</td>\n",
              "      <td>1010</td>\n",
              "      <td>Adair County High School</td>\n",
              "      <td>55</td>\n",
              "      <td>Needs Improvement</td>\n",
              "      <td>6,460.00</td>\n",
              "      <td>-36,400.00</td>\n",
              "      <td>-50.00</td>\n",
              "      <td>6,405.00</td>\n",
              "      <td>Low</td>\n",
              "    </tr>\n",
              "    <tr>\n",
              "      <th>2</th>\n",
              "      <td>2012</td>\n",
              "      <td>1</td>\n",
              "      <td>Adair County</td>\n",
              "      <td>1014</td>\n",
              "      <td>Adair County Middle School</td>\n",
              "      <td>48</td>\n",
              "      <td>Needs Improvement</td>\n",
              "      <td>6,720.00</td>\n",
              "      <td>-55,700.00</td>\n",
              "      <td>-140.00</td>\n",
              "      <td>6,575.00</td>\n",
              "      <td>Low</td>\n",
              "    </tr>\n",
              "    <tr>\n",
              "      <th>3</th>\n",
              "      <td>2012</td>\n",
              "      <td>5</td>\n",
              "      <td>Allen County</td>\n",
              "      <td>5060</td>\n",
              "      <td>Allen County Intermediate Center</td>\n",
              "      <td>56</td>\n",
              "      <td>Needs Improvement</td>\n",
              "      <td>6,570.00</td>\n",
              "      <td>114,200.00</td>\n",
              "      <td>160.00</td>\n",
              "      <td>6,728.00</td>\n",
              "      <td>Low</td>\n",
              "    </tr>\n",
              "    <tr>\n",
              "      <th>4</th>\n",
              "      <td>2012</td>\n",
              "      <td>5</td>\n",
              "      <td>Allen County</td>\n",
              "      <td>5010</td>\n",
              "      <td>Allen County Primary Center</td>\n",
              "      <td>50</td>\n",
              "      <td>Needs Improvement</td>\n",
              "      <td>7,930.00</td>\n",
              "      <td>190,500.00</td>\n",
              "      <td>210.00</td>\n",
              "      <td>8,137.00</td>\n",
              "      <td>Low</td>\n",
              "    </tr>\n",
              "    <tr>\n",
              "      <th>...</th>\n",
              "      <td>...</td>\n",
              "      <td>...</td>\n",
              "      <td>...</td>\n",
              "      <td>...</td>\n",
              "      <td>...</td>\n",
              "      <td>...</td>\n",
              "      <td>...</td>\n",
              "      <td>...</td>\n",
              "      <td>...</td>\n",
              "      <td>...</td>\n",
              "      <td>...</td>\n",
              "      <td>...</td>\n",
              "    </tr>\n",
              "    <tr>\n",
              "      <th>9887</th>\n",
              "      <td>2022</td>\n",
              "      <td>601</td>\n",
              "      <td>Woodford County</td>\n",
              "      <td>601090</td>\n",
              "      <td>Huntertown Elementary School</td>\n",
              "      <td>77</td>\n",
              "      <td>Distinguished</td>\n",
              "      <td>10,847.50</td>\n",
              "      <td>115,625.00</td>\n",
              "      <td>247.50</td>\n",
              "      <td>11,094.25</td>\n",
              "      <td>High</td>\n",
              "    </tr>\n",
              "    <tr>\n",
              "      <th>9888</th>\n",
              "      <td>2022</td>\n",
              "      <td>601</td>\n",
              "      <td>Woodford County</td>\n",
              "      <td>601120</td>\n",
              "      <td>Northside Elementary School</td>\n",
              "      <td>69</td>\n",
              "      <td>Proficient</td>\n",
              "      <td>12,173.75</td>\n",
              "      <td>47,887.50</td>\n",
              "      <td>151.25</td>\n",
              "      <td>12,324.50</td>\n",
              "      <td>Medium</td>\n",
              "    </tr>\n",
              "    <tr>\n",
              "      <th>9889</th>\n",
              "      <td>2022</td>\n",
              "      <td>601</td>\n",
              "      <td>Woodford County</td>\n",
              "      <td>601075</td>\n",
              "      <td>Simmons Elementary School</td>\n",
              "      <td>70</td>\n",
              "      <td>Proficient</td>\n",
              "      <td>12,065.00</td>\n",
              "      <td>-14,650.00</td>\n",
              "      <td>-30.00</td>\n",
              "      <td>12,033.38</td>\n",
              "      <td>Medium</td>\n",
              "    </tr>\n",
              "    <tr>\n",
              "      <th>9890</th>\n",
              "      <td>2022</td>\n",
              "      <td>601</td>\n",
              "      <td>Woodford County</td>\n",
              "      <td>601050</td>\n",
              "      <td>Southside Elementary School</td>\n",
              "      <td>75</td>\n",
              "      <td>Distinguished</td>\n",
              "      <td>10,725.00</td>\n",
              "      <td>70,762.50</td>\n",
              "      <td>136.25</td>\n",
              "      <td>10,861.75</td>\n",
              "      <td>High</td>\n",
              "    </tr>\n",
              "    <tr>\n",
              "      <th>9891</th>\n",
              "      <td>2022</td>\n",
              "      <td>601</td>\n",
              "      <td>Woodford County</td>\n",
              "      <td>601084</td>\n",
              "      <td>Woodford County High School</td>\n",
              "      <td>68</td>\n",
              "      <td>Distinguished</td>\n",
              "      <td>9,492.50</td>\n",
              "      <td>28,962.50</td>\n",
              "      <td>23.75</td>\n",
              "      <td>9,515.38</td>\n",
              "      <td>High</td>\n",
              "    </tr>\n",
              "  </tbody>\n",
              "</table>\n",
              "<p>9892 rows × 12 columns</p>\n",
              "</div>\n",
              "      <button class=\"colab-df-convert\" onclick=\"convertToInteractive('df-bbf00df2-af3a-4c9c-9afe-9483d76acd6d')\"\n",
              "              title=\"Convert this dataframe to an interactive table.\"\n",
              "              style=\"display:none;\">\n",
              "        \n",
              "  <svg xmlns=\"http://www.w3.org/2000/svg\" height=\"24px\"viewBox=\"0 0 24 24\"\n",
              "       width=\"24px\">\n",
              "    <path d=\"M0 0h24v24H0V0z\" fill=\"none\"/>\n",
              "    <path d=\"M18.56 5.44l.94 2.06.94-2.06 2.06-.94-2.06-.94-.94-2.06-.94 2.06-2.06.94zm-11 1L8.5 8.5l.94-2.06 2.06-.94-2.06-.94L8.5 2.5l-.94 2.06-2.06.94zm10 10l.94 2.06.94-2.06 2.06-.94-2.06-.94-.94-2.06-.94 2.06-2.06.94z\"/><path d=\"M17.41 7.96l-1.37-1.37c-.4-.4-.92-.59-1.43-.59-.52 0-1.04.2-1.43.59L10.3 9.45l-7.72 7.72c-.78.78-.78 2.05 0 2.83L4 21.41c.39.39.9.59 1.41.59.51 0 1.02-.2 1.41-.59l7.78-7.78 2.81-2.81c.8-.78.8-2.07 0-2.86zM5.41 20L4 18.59l7.72-7.72 1.47 1.35L5.41 20z\"/>\n",
              "  </svg>\n",
              "      </button>\n",
              "      \n",
              "  <style>\n",
              "    .colab-df-container {\n",
              "      display:flex;\n",
              "      flex-wrap:wrap;\n",
              "      gap: 12px;\n",
              "    }\n",
              "\n",
              "    .colab-df-convert {\n",
              "      background-color: #E8F0FE;\n",
              "      border: none;\n",
              "      border-radius: 50%;\n",
              "      cursor: pointer;\n",
              "      display: none;\n",
              "      fill: #1967D2;\n",
              "      height: 32px;\n",
              "      padding: 0 0 0 0;\n",
              "      width: 32px;\n",
              "    }\n",
              "\n",
              "    .colab-df-convert:hover {\n",
              "      background-color: #E2EBFA;\n",
              "      box-shadow: 0px 1px 2px rgba(60, 64, 67, 0.3), 0px 1px 3px 1px rgba(60, 64, 67, 0.15);\n",
              "      fill: #174EA6;\n",
              "    }\n",
              "\n",
              "    [theme=dark] .colab-df-convert {\n",
              "      background-color: #3B4455;\n",
              "      fill: #D2E3FC;\n",
              "    }\n",
              "\n",
              "    [theme=dark] .colab-df-convert:hover {\n",
              "      background-color: #434B5C;\n",
              "      box-shadow: 0px 1px 3px 1px rgba(0, 0, 0, 0.15);\n",
              "      filter: drop-shadow(0px 1px 2px rgba(0, 0, 0, 0.3));\n",
              "      fill: #FFFFFF;\n",
              "    }\n",
              "  </style>\n",
              "\n",
              "      <script>\n",
              "        const buttonEl =\n",
              "          document.querySelector('#df-bbf00df2-af3a-4c9c-9afe-9483d76acd6d button.colab-df-convert');\n",
              "        buttonEl.style.display =\n",
              "          google.colab.kernel.accessAllowed ? 'block' : 'none';\n",
              "\n",
              "        async function convertToInteractive(key) {\n",
              "          const element = document.querySelector('#df-bbf00df2-af3a-4c9c-9afe-9483d76acd6d');\n",
              "          const dataTable =\n",
              "            await google.colab.kernel.invokeFunction('convertToInteractive',\n",
              "                                                     [key], {});\n",
              "          if (!dataTable) return;\n",
              "\n",
              "          const docLinkHtml = 'Like what you see? Visit the ' +\n",
              "            '<a target=\"_blank\" href=https://colab.research.google.com/notebooks/data_table.ipynb>data table notebook</a>'\n",
              "            + ' to learn more about interactive tables.';\n",
              "          element.innerHTML = '';\n",
              "          dataTable['output_type'] = 'display_data';\n",
              "          await google.colab.output.renderOutput(dataTable, element);\n",
              "          const docLink = document.createElement('div');\n",
              "          docLink.innerHTML = docLinkHtml;\n",
              "          element.appendChild(docLink);\n",
              "        }\n",
              "      </script>\n",
              "    </div>\n",
              "  </div>\n",
              "  "
            ]
          },
          "metadata": {},
          "execution_count": 105
        }
      ]
    },
    {
      "cell_type": "code",
      "source": [
        "nested_predict_df.to_csv('/content/drive/MyDrive/Colab Data/KY EPSB/All Years/nested_predict_df.csv', index = False)"
      ],
      "metadata": {
        "id": "keY41StVemDh"
      },
      "execution_count": 106,
      "outputs": []
    },
    {
      "cell_type": "code",
      "source": [
        "# Pull all the rows that have this in the School column\n",
        "nested_predict_df[nested_predict_df['School'].str.contains(\"Metcalfe County High\")]"
      ],
      "metadata": {
        "id": "VRfy5AYIemF5",
        "colab": {
          "base_uri": "https://localhost:8080/",
          "height": 896
        },
        "outputId": "2e63d828-dcf1-4956-ffb9-47cf7ffda2f8"
      },
      "execution_count": 107,
      "outputs": [
        {
          "output_type": "execute_result",
          "data": {
            "text/plain": [
              "      End Year  District Code         District  School Code  \\\n",
              "797       2012            425  Metcalfe County       425050   \n",
              "1867      2013            425  Metcalfe County       425050   \n",
              "2945      2014            425  Metcalfe County       425050   \n",
              "4031      2015            425  Metcalfe County       425050   \n",
              "5123      2016            425  Metcalfe County       425050   \n",
              "6220      2017            425  Metcalfe County       425050   \n",
              "7335      2018            425  Metcalfe County       425050   \n",
              "8462      2019            425  Metcalfe County       425050   \n",
              "9601      2022            425  Metcalfe County       425050   \n",
              "\n",
              "                           School  Proficiency Rate     Classification  \\\n",
              "797   Metcalfe County High School                61         Proficient   \n",
              "1867  Metcalfe County High School                64      Distinguished   \n",
              "2945  Metcalfe County High School                75         Proficient   \n",
              "4031  Metcalfe County High School                72         Proficient   \n",
              "5123  Metcalfe County High School                70         Proficient   \n",
              "6220  Metcalfe County High School                57  Needs Improvement   \n",
              "7335  Metcalfe County High School                59  Needs Improvement   \n",
              "8462  Metcalfe County High School                48  Needs Improvement   \n",
              "9601  Metcalfe County High School                44  Needs Improvement   \n",
              "\n",
              "      Reported Spending per student  Money Difference per school  \\\n",
              "797                        3,740.00                    28,800.00   \n",
              "1867                       9,780.00                    24,500.00   \n",
              "2945                       9,710.00                    47,900.00   \n",
              "4031                      11,890.00                    17,300.00   \n",
              "5123                      10,480.00                     4,200.00   \n",
              "6220                       9,260.00                     4,300.00   \n",
              "7335                      13,700.00                     2,500.00   \n",
              "8462                      16,660.00                    10,800.00   \n",
              "9601                      10,652.50                    17,537.50   \n",
              "\n",
              "      Money Difference per student  Estimated Spending per student  \\\n",
              "797                          70.00                        3,805.00   \n",
              "1867                         50.00                        9,832.00   \n",
              "2945                        110.00                        9,823.00   \n",
              "4031                         40.00                       11,924.00   \n",
              "5123                         10.00                       10,489.00   \n",
              "6220                         10.00                        9,269.00   \n",
              "7335                          0.00                       13,708.00   \n",
              "8462                         20.00                       16,686.00   \n",
              "9601                         38.75                       10,692.00   \n",
              "\n",
              "     5 Classifications  \n",
              "797             Medium  \n",
              "1867              High  \n",
              "2945            Medium  \n",
              "4031            Medium  \n",
              "5123            Medium  \n",
              "6220               Low  \n",
              "7335               Low  \n",
              "8462               Low  \n",
              "9601               Low  "
            ],
            "text/html": [
              "\n",
              "  <div id=\"df-255e71d7-5c92-4328-8d7a-3a2eaef08a3b\">\n",
              "    <div class=\"colab-df-container\">\n",
              "      <div>\n",
              "<style scoped>\n",
              "    .dataframe tbody tr th:only-of-type {\n",
              "        vertical-align: middle;\n",
              "    }\n",
              "\n",
              "    .dataframe tbody tr th {\n",
              "        vertical-align: top;\n",
              "    }\n",
              "\n",
              "    .dataframe thead th {\n",
              "        text-align: right;\n",
              "    }\n",
              "</style>\n",
              "<table border=\"1\" class=\"dataframe\">\n",
              "  <thead>\n",
              "    <tr style=\"text-align: right;\">\n",
              "      <th></th>\n",
              "      <th>End Year</th>\n",
              "      <th>District Code</th>\n",
              "      <th>District</th>\n",
              "      <th>School Code</th>\n",
              "      <th>School</th>\n",
              "      <th>Proficiency Rate</th>\n",
              "      <th>Classification</th>\n",
              "      <th>Reported Spending per student</th>\n",
              "      <th>Money Difference per school</th>\n",
              "      <th>Money Difference per student</th>\n",
              "      <th>Estimated Spending per student</th>\n",
              "      <th>5 Classifications</th>\n",
              "    </tr>\n",
              "  </thead>\n",
              "  <tbody>\n",
              "    <tr>\n",
              "      <th>797</th>\n",
              "      <td>2012</td>\n",
              "      <td>425</td>\n",
              "      <td>Metcalfe County</td>\n",
              "      <td>425050</td>\n",
              "      <td>Metcalfe County High School</td>\n",
              "      <td>61</td>\n",
              "      <td>Proficient</td>\n",
              "      <td>3,740.00</td>\n",
              "      <td>28,800.00</td>\n",
              "      <td>70.00</td>\n",
              "      <td>3,805.00</td>\n",
              "      <td>Medium</td>\n",
              "    </tr>\n",
              "    <tr>\n",
              "      <th>1867</th>\n",
              "      <td>2013</td>\n",
              "      <td>425</td>\n",
              "      <td>Metcalfe County</td>\n",
              "      <td>425050</td>\n",
              "      <td>Metcalfe County High School</td>\n",
              "      <td>64</td>\n",
              "      <td>Distinguished</td>\n",
              "      <td>9,780.00</td>\n",
              "      <td>24,500.00</td>\n",
              "      <td>50.00</td>\n",
              "      <td>9,832.00</td>\n",
              "      <td>High</td>\n",
              "    </tr>\n",
              "    <tr>\n",
              "      <th>2945</th>\n",
              "      <td>2014</td>\n",
              "      <td>425</td>\n",
              "      <td>Metcalfe County</td>\n",
              "      <td>425050</td>\n",
              "      <td>Metcalfe County High School</td>\n",
              "      <td>75</td>\n",
              "      <td>Proficient</td>\n",
              "      <td>9,710.00</td>\n",
              "      <td>47,900.00</td>\n",
              "      <td>110.00</td>\n",
              "      <td>9,823.00</td>\n",
              "      <td>Medium</td>\n",
              "    </tr>\n",
              "    <tr>\n",
              "      <th>4031</th>\n",
              "      <td>2015</td>\n",
              "      <td>425</td>\n",
              "      <td>Metcalfe County</td>\n",
              "      <td>425050</td>\n",
              "      <td>Metcalfe County High School</td>\n",
              "      <td>72</td>\n",
              "      <td>Proficient</td>\n",
              "      <td>11,890.00</td>\n",
              "      <td>17,300.00</td>\n",
              "      <td>40.00</td>\n",
              "      <td>11,924.00</td>\n",
              "      <td>Medium</td>\n",
              "    </tr>\n",
              "    <tr>\n",
              "      <th>5123</th>\n",
              "      <td>2016</td>\n",
              "      <td>425</td>\n",
              "      <td>Metcalfe County</td>\n",
              "      <td>425050</td>\n",
              "      <td>Metcalfe County High School</td>\n",
              "      <td>70</td>\n",
              "      <td>Proficient</td>\n",
              "      <td>10,480.00</td>\n",
              "      <td>4,200.00</td>\n",
              "      <td>10.00</td>\n",
              "      <td>10,489.00</td>\n",
              "      <td>Medium</td>\n",
              "    </tr>\n",
              "    <tr>\n",
              "      <th>6220</th>\n",
              "      <td>2017</td>\n",
              "      <td>425</td>\n",
              "      <td>Metcalfe County</td>\n",
              "      <td>425050</td>\n",
              "      <td>Metcalfe County High School</td>\n",
              "      <td>57</td>\n",
              "      <td>Needs Improvement</td>\n",
              "      <td>9,260.00</td>\n",
              "      <td>4,300.00</td>\n",
              "      <td>10.00</td>\n",
              "      <td>9,269.00</td>\n",
              "      <td>Low</td>\n",
              "    </tr>\n",
              "    <tr>\n",
              "      <th>7335</th>\n",
              "      <td>2018</td>\n",
              "      <td>425</td>\n",
              "      <td>Metcalfe County</td>\n",
              "      <td>425050</td>\n",
              "      <td>Metcalfe County High School</td>\n",
              "      <td>59</td>\n",
              "      <td>Needs Improvement</td>\n",
              "      <td>13,700.00</td>\n",
              "      <td>2,500.00</td>\n",
              "      <td>0.00</td>\n",
              "      <td>13,708.00</td>\n",
              "      <td>Low</td>\n",
              "    </tr>\n",
              "    <tr>\n",
              "      <th>8462</th>\n",
              "      <td>2019</td>\n",
              "      <td>425</td>\n",
              "      <td>Metcalfe County</td>\n",
              "      <td>425050</td>\n",
              "      <td>Metcalfe County High School</td>\n",
              "      <td>48</td>\n",
              "      <td>Needs Improvement</td>\n",
              "      <td>16,660.00</td>\n",
              "      <td>10,800.00</td>\n",
              "      <td>20.00</td>\n",
              "      <td>16,686.00</td>\n",
              "      <td>Low</td>\n",
              "    </tr>\n",
              "    <tr>\n",
              "      <th>9601</th>\n",
              "      <td>2022</td>\n",
              "      <td>425</td>\n",
              "      <td>Metcalfe County</td>\n",
              "      <td>425050</td>\n",
              "      <td>Metcalfe County High School</td>\n",
              "      <td>44</td>\n",
              "      <td>Needs Improvement</td>\n",
              "      <td>10,652.50</td>\n",
              "      <td>17,537.50</td>\n",
              "      <td>38.75</td>\n",
              "      <td>10,692.00</td>\n",
              "      <td>Low</td>\n",
              "    </tr>\n",
              "  </tbody>\n",
              "</table>\n",
              "</div>\n",
              "      <button class=\"colab-df-convert\" onclick=\"convertToInteractive('df-255e71d7-5c92-4328-8d7a-3a2eaef08a3b')\"\n",
              "              title=\"Convert this dataframe to an interactive table.\"\n",
              "              style=\"display:none;\">\n",
              "        \n",
              "  <svg xmlns=\"http://www.w3.org/2000/svg\" height=\"24px\"viewBox=\"0 0 24 24\"\n",
              "       width=\"24px\">\n",
              "    <path d=\"M0 0h24v24H0V0z\" fill=\"none\"/>\n",
              "    <path d=\"M18.56 5.44l.94 2.06.94-2.06 2.06-.94-2.06-.94-.94-2.06-.94 2.06-2.06.94zm-11 1L8.5 8.5l.94-2.06 2.06-.94-2.06-.94L8.5 2.5l-.94 2.06-2.06.94zm10 10l.94 2.06.94-2.06 2.06-.94-2.06-.94-.94-2.06-.94 2.06-2.06.94z\"/><path d=\"M17.41 7.96l-1.37-1.37c-.4-.4-.92-.59-1.43-.59-.52 0-1.04.2-1.43.59L10.3 9.45l-7.72 7.72c-.78.78-.78 2.05 0 2.83L4 21.41c.39.39.9.59 1.41.59.51 0 1.02-.2 1.41-.59l7.78-7.78 2.81-2.81c.8-.78.8-2.07 0-2.86zM5.41 20L4 18.59l7.72-7.72 1.47 1.35L5.41 20z\"/>\n",
              "  </svg>\n",
              "      </button>\n",
              "      \n",
              "  <style>\n",
              "    .colab-df-container {\n",
              "      display:flex;\n",
              "      flex-wrap:wrap;\n",
              "      gap: 12px;\n",
              "    }\n",
              "\n",
              "    .colab-df-convert {\n",
              "      background-color: #E8F0FE;\n",
              "      border: none;\n",
              "      border-radius: 50%;\n",
              "      cursor: pointer;\n",
              "      display: none;\n",
              "      fill: #1967D2;\n",
              "      height: 32px;\n",
              "      padding: 0 0 0 0;\n",
              "      width: 32px;\n",
              "    }\n",
              "\n",
              "    .colab-df-convert:hover {\n",
              "      background-color: #E2EBFA;\n",
              "      box-shadow: 0px 1px 2px rgba(60, 64, 67, 0.3), 0px 1px 3px 1px rgba(60, 64, 67, 0.15);\n",
              "      fill: #174EA6;\n",
              "    }\n",
              "\n",
              "    [theme=dark] .colab-df-convert {\n",
              "      background-color: #3B4455;\n",
              "      fill: #D2E3FC;\n",
              "    }\n",
              "\n",
              "    [theme=dark] .colab-df-convert:hover {\n",
              "      background-color: #434B5C;\n",
              "      box-shadow: 0px 1px 3px 1px rgba(0, 0, 0, 0.15);\n",
              "      filter: drop-shadow(0px 1px 2px rgba(0, 0, 0, 0.3));\n",
              "      fill: #FFFFFF;\n",
              "    }\n",
              "  </style>\n",
              "\n",
              "      <script>\n",
              "        const buttonEl =\n",
              "          document.querySelector('#df-255e71d7-5c92-4328-8d7a-3a2eaef08a3b button.colab-df-convert');\n",
              "        buttonEl.style.display =\n",
              "          google.colab.kernel.accessAllowed ? 'block' : 'none';\n",
              "\n",
              "        async function convertToInteractive(key) {\n",
              "          const element = document.querySelector('#df-255e71d7-5c92-4328-8d7a-3a2eaef08a3b');\n",
              "          const dataTable =\n",
              "            await google.colab.kernel.invokeFunction('convertToInteractive',\n",
              "                                                     [key], {});\n",
              "          if (!dataTable) return;\n",
              "\n",
              "          const docLinkHtml = 'Like what you see? Visit the ' +\n",
              "            '<a target=\"_blank\" href=https://colab.research.google.com/notebooks/data_table.ipynb>data table notebook</a>'\n",
              "            + ' to learn more about interactive tables.';\n",
              "          element.innerHTML = '';\n",
              "          dataTable['output_type'] = 'display_data';\n",
              "          await google.colab.output.renderOutput(dataTable, element);\n",
              "          const docLink = document.createElement('div');\n",
              "          docLink.innerHTML = docLinkHtml;\n",
              "          element.appendChild(docLink);\n",
              "        }\n",
              "      </script>\n",
              "    </div>\n",
              "  </div>\n",
              "  "
            ]
          },
          "metadata": {},
          "execution_count": 107
        }
      ]
    },
    {
      "cell_type": "markdown",
      "source": [
        "# Most Impacted schools"
      ],
      "metadata": {
        "id": "UbO8I6LSsqr0"
      }
    },
    {
      "cell_type": "code",
      "source": [
        "# This makes us start with the predict_df. \n",
        "\n",
        "published_ky_df = nested_predict_df.copy()\n",
        "published_ky_df.reset_index(drop=True, inplace=True)"
      ],
      "metadata": {
        "id": "3L2vXWsbl0yr"
      },
      "execution_count": 108,
      "outputs": []
    },
    {
      "cell_type": "code",
      "source": [
        "published_ky_df.index"
      ],
      "metadata": {
        "colab": {
          "base_uri": "https://localhost:8080/"
        },
        "id": "7sfQwOI2cI1O",
        "outputId": "2561c278-bcf6-4326-8d5e-6ad451d9d08e"
      },
      "execution_count": 109,
      "outputs": [
        {
          "output_type": "execute_result",
          "data": {
            "text/plain": [
              "RangeIndex(start=0, stop=9892, step=1)"
            ]
          },
          "metadata": {},
          "execution_count": 109
        }
      ]
    },
    {
      "cell_type": "markdown",
      "source": [
        "## Top/Bottom Percentile"
      ],
      "metadata": {
        "id": "BsSiCfScQMad"
      }
    },
    {
      "cell_type": "code",
      "source": [
        "# Select value between 0-100. The selected value will be changed to a percent.  Then used to pull the data below. \n",
        "\n",
        "select_percent = 5\n",
        "selected_percentile = (100 - select_percent) / 100"
      ],
      "metadata": {
        "id": "W9q5vElltDPE"
      },
      "execution_count": 110,
      "outputs": []
    },
    {
      "cell_type": "code",
      "source": [
        "published_ky_df[published_ky_df['End Year']==2018].quantile(q=selected_percentile)"
      ],
      "metadata": {
        "colab": {
          "base_uri": "https://localhost:8080/"
        },
        "id": "DB7Cj4sHvTkA",
        "outputId": "6c6bf2fb-0671-4eb4-aee0-aa837c238b4c"
      },
      "execution_count": 111,
      "outputs": [
        {
          "output_type": "execute_result",
          "data": {
            "text/plain": [
              "End Year                           2,018.00\n",
              "District Code                        571.00\n",
              "School Code                      571,009.65\n",
              "Proficiency Rate                      91.00\n",
              "Reported Spending per student     21,874.00\n",
              "Money Difference per school      175,780.00\n",
              "Money Difference per student         309.50\n",
              "Estimated Spending per student    21,939.65\n",
              "Name: 0.95, dtype: float64"
            ]
          },
          "metadata": {},
          "execution_count": 111
        }
      ]
    },
    {
      "cell_type": "code",
      "source": [
        "# Creates / Resets df\n",
        "highly_impacted_schools = published_ky_df.iloc[0:0,:]\n",
        "\n",
        "# Append highest/lowest pctl to df based on the year\n",
        "for i in published_ky_df.index:\n",
        "  year = published_ky_df['End Year'][i]\n",
        "  highest_pctl = published_ky_df[published_ky_df['End Year']==year].quantile(q=selected_percentile)\n",
        "  lowest_pctl = published_ky_df[published_ky_df['End Year']==year].quantile(q=(1-selected_percentile))\n",
        "\n",
        "  if published_ky_df['Money Difference per school'][i] > highest_pctl['Money Difference per school'] or published_ky_df['Money Difference per school'][i] < lowest_pctl['Money Difference per school']:\n",
        "    highly_impacted_schools = highly_impacted_schools.append(published_ky_df.loc[i,])\n",
        "  elif published_ky_df['Estimated Spending per student'][i] > highest_pctl['Estimated Spending per student'] or published_ky_df['Estimated Spending per student'][i] < lowest_pctl['Estimated Spending per student']:\n",
        "    highly_impacted_schools = highly_impacted_schools.append(published_ky_df.loc[i,])\n",
        "  elif published_ky_df['Proficiency Rate'][i] > highest_pctl['Proficiency Rate'] or published_ky_df['Proficiency Rate'][i] < lowest_pctl['Proficiency Rate']:\n",
        "    highly_impacted_schools = highly_impacted_schools.append(published_ky_df.loc[i,])\n",
        "\n",
        "# Drop duplicated rows\n",
        "highly_impacted_schools.drop_duplicates(inplace=True)\n",
        "\n",
        "# Reset index\n",
        "highly_impacted_schools.reset_index(drop=True, inplace=True)"
      ],
      "metadata": {
        "id": "vcAsl3gavuUc"
      },
      "execution_count": 112,
      "outputs": []
    },
    {
      "cell_type": "code",
      "source": [
        "# Without including the Proficeny Rate high and low, there were 1941 records, and 701 schools.\n",
        "# Including the proficency rate raises the number of records to 2483 from 817 schools.\n",
        "\n",
        "highly_impacted_schools.info()"
      ],
      "metadata": {
        "id": "gZNrI4vU1rX7",
        "colab": {
          "base_uri": "https://localhost:8080/"
        },
        "outputId": "93ebf95b-4f73-465b-a09b-34b0c812927d"
      },
      "execution_count": 113,
      "outputs": [
        {
          "output_type": "stream",
          "name": "stdout",
          "text": [
            "<class 'pandas.core.frame.DataFrame'>\n",
            "RangeIndex: 2417 entries, 0 to 2416\n",
            "Data columns (total 12 columns):\n",
            " #   Column                          Non-Null Count  Dtype  \n",
            "---  ------                          --------------  -----  \n",
            " 0   End Year                        2417 non-null   int64  \n",
            " 1   District Code                   2417 non-null   int64  \n",
            " 2   District                        2417 non-null   object \n",
            " 3   School Code                     2417 non-null   int64  \n",
            " 4   School                          2417 non-null   object \n",
            " 5   Proficiency Rate                2417 non-null   int64  \n",
            " 6   Classification                  2417 non-null   object \n",
            " 7   Reported Spending per student   2417 non-null   float64\n",
            " 8   Money Difference per school     2417 non-null   float64\n",
            " 9   Money Difference per student    2417 non-null   float64\n",
            " 10  Estimated Spending per student  2417 non-null   float64\n",
            " 11  5 Classifications               2417 non-null   object \n",
            "dtypes: float64(4), int64(4), object(4)\n",
            "memory usage: 226.7+ KB\n"
          ]
        }
      ]
    },
    {
      "cell_type": "code",
      "source": [
        "highly_impacted_schools.nunique()"
      ],
      "metadata": {
        "id": "5SIThKZF1svK",
        "colab": {
          "base_uri": "https://localhost:8080/"
        },
        "outputId": "1bcb5507-8c87-4244-ea85-b904fca7c319"
      },
      "execution_count": 114,
      "outputs": [
        {
          "output_type": "execute_result",
          "data": {
            "text/plain": [
              "End Year                             9\n",
              "District Code                      152\n",
              "District                           152\n",
              "School Code                        730\n",
              "School                             721\n",
              "Proficiency Rate                    96\n",
              "Classification                       3\n",
              "Reported Spending per student     1390\n",
              "Money Difference per school       2007\n",
              "Money Difference per student       388\n",
              "Estimated Spending per student    2225\n",
              "5 Classifications                    5\n",
              "dtype: int64"
            ]
          },
          "metadata": {},
          "execution_count": 114
        }
      ]
    },
    {
      "cell_type": "code",
      "source": [
        "highly_impacted_schools.sort_values(by=['Money Difference per school'], inplace=True)"
      ],
      "metadata": {
        "id": "oIuZ9P5EDVpr"
      },
      "execution_count": 115,
      "outputs": []
    },
    {
      "cell_type": "markdown",
      "source": [
        "## Multiple Years Impacted - Detailed"
      ],
      "metadata": {
        "id": "xpakTgq2e2WC"
      }
    },
    {
      "cell_type": "code",
      "source": [
        "# If school code frequency is >= 5, then they remain.  \n",
        "# Then the rest of their 10 year data is pulled. "
      ],
      "metadata": {
        "id": "2uFz8FcWn7LR"
      },
      "execution_count": 116,
      "outputs": []
    },
    {
      "cell_type": "code",
      "source": [
        "id_freq_schools = highly_impacted_schools.groupby('School Code').count()"
      ],
      "metadata": {
        "id": "4xji5owN1zm1"
      },
      "execution_count": 117,
      "outputs": []
    },
    {
      "cell_type": "code",
      "source": [
        "id_freq_schools"
      ],
      "metadata": {
        "id": "4eDAD7AVOYpS",
        "colab": {
          "base_uri": "https://localhost:8080/",
          "height": 551
        },
        "outputId": "beff0a9b-ee98-436f-8e48-a54aca60b59a"
      },
      "execution_count": 118,
      "outputs": [
        {
          "output_type": "execute_result",
          "data": {
            "text/plain": [
              "             End Year  District Code  District  School  Proficiency Rate  \\\n",
              "School Code                                                                \n",
              "5010                2              2         2       2                 2   \n",
              "5015                2              2         2       2                 2   \n",
              "5020                3              3         3       3                 3   \n",
              "5060                1              1         1       1                 1   \n",
              "6010                9              9         9       9                 9   \n",
              "...               ...            ...       ...     ...               ...   \n",
              "601050              1              1         1       1                 1   \n",
              "601075              1              1         1       1                 1   \n",
              "601084              1              1         1       1                 1   \n",
              "601090              1              1         1       1                 1   \n",
              "601120              2              2         2       2                 2   \n",
              "\n",
              "             Classification  Reported Spending per student  \\\n",
              "School Code                                                  \n",
              "5010                      2                              2   \n",
              "5015                      2                              2   \n",
              "5020                      3                              3   \n",
              "5060                      1                              1   \n",
              "6010                      9                              9   \n",
              "...                     ...                            ...   \n",
              "601050                    1                              1   \n",
              "601075                    1                              1   \n",
              "601084                    1                              1   \n",
              "601090                    1                              1   \n",
              "601120                    2                              2   \n",
              "\n",
              "             Money Difference per school  Money Difference per student  \\\n",
              "School Code                                                              \n",
              "5010                                   2                             2   \n",
              "5015                                   2                             2   \n",
              "5020                                   3                             3   \n",
              "5060                                   1                             1   \n",
              "6010                                   9                             9   \n",
              "...                                  ...                           ...   \n",
              "601050                                 1                             1   \n",
              "601075                                 1                             1   \n",
              "601084                                 1                             1   \n",
              "601090                                 1                             1   \n",
              "601120                                 2                             2   \n",
              "\n",
              "             Estimated Spending per student  5 Classifications  \n",
              "School Code                                                     \n",
              "5010                                      2                  2  \n",
              "5015                                      2                  2  \n",
              "5020                                      3                  3  \n",
              "5060                                      1                  1  \n",
              "6010                                      9                  9  \n",
              "...                                     ...                ...  \n",
              "601050                                    1                  1  \n",
              "601075                                    1                  1  \n",
              "601084                                    1                  1  \n",
              "601090                                    1                  1  \n",
              "601120                                    2                  2  \n",
              "\n",
              "[730 rows x 11 columns]"
            ],
            "text/html": [
              "\n",
              "  <div id=\"df-b77c4c4b-260b-4dde-ac06-f1d559c8be1d\">\n",
              "    <div class=\"colab-df-container\">\n",
              "      <div>\n",
              "<style scoped>\n",
              "    .dataframe tbody tr th:only-of-type {\n",
              "        vertical-align: middle;\n",
              "    }\n",
              "\n",
              "    .dataframe tbody tr th {\n",
              "        vertical-align: top;\n",
              "    }\n",
              "\n",
              "    .dataframe thead th {\n",
              "        text-align: right;\n",
              "    }\n",
              "</style>\n",
              "<table border=\"1\" class=\"dataframe\">\n",
              "  <thead>\n",
              "    <tr style=\"text-align: right;\">\n",
              "      <th></th>\n",
              "      <th>End Year</th>\n",
              "      <th>District Code</th>\n",
              "      <th>District</th>\n",
              "      <th>School</th>\n",
              "      <th>Proficiency Rate</th>\n",
              "      <th>Classification</th>\n",
              "      <th>Reported Spending per student</th>\n",
              "      <th>Money Difference per school</th>\n",
              "      <th>Money Difference per student</th>\n",
              "      <th>Estimated Spending per student</th>\n",
              "      <th>5 Classifications</th>\n",
              "    </tr>\n",
              "    <tr>\n",
              "      <th>School Code</th>\n",
              "      <th></th>\n",
              "      <th></th>\n",
              "      <th></th>\n",
              "      <th></th>\n",
              "      <th></th>\n",
              "      <th></th>\n",
              "      <th></th>\n",
              "      <th></th>\n",
              "      <th></th>\n",
              "      <th></th>\n",
              "      <th></th>\n",
              "    </tr>\n",
              "  </thead>\n",
              "  <tbody>\n",
              "    <tr>\n",
              "      <th>5010</th>\n",
              "      <td>2</td>\n",
              "      <td>2</td>\n",
              "      <td>2</td>\n",
              "      <td>2</td>\n",
              "      <td>2</td>\n",
              "      <td>2</td>\n",
              "      <td>2</td>\n",
              "      <td>2</td>\n",
              "      <td>2</td>\n",
              "      <td>2</td>\n",
              "      <td>2</td>\n",
              "    </tr>\n",
              "    <tr>\n",
              "      <th>5015</th>\n",
              "      <td>2</td>\n",
              "      <td>2</td>\n",
              "      <td>2</td>\n",
              "      <td>2</td>\n",
              "      <td>2</td>\n",
              "      <td>2</td>\n",
              "      <td>2</td>\n",
              "      <td>2</td>\n",
              "      <td>2</td>\n",
              "      <td>2</td>\n",
              "      <td>2</td>\n",
              "    </tr>\n",
              "    <tr>\n",
              "      <th>5020</th>\n",
              "      <td>3</td>\n",
              "      <td>3</td>\n",
              "      <td>3</td>\n",
              "      <td>3</td>\n",
              "      <td>3</td>\n",
              "      <td>3</td>\n",
              "      <td>3</td>\n",
              "      <td>3</td>\n",
              "      <td>3</td>\n",
              "      <td>3</td>\n",
              "      <td>3</td>\n",
              "    </tr>\n",
              "    <tr>\n",
              "      <th>5060</th>\n",
              "      <td>1</td>\n",
              "      <td>1</td>\n",
              "      <td>1</td>\n",
              "      <td>1</td>\n",
              "      <td>1</td>\n",
              "      <td>1</td>\n",
              "      <td>1</td>\n",
              "      <td>1</td>\n",
              "      <td>1</td>\n",
              "      <td>1</td>\n",
              "      <td>1</td>\n",
              "    </tr>\n",
              "    <tr>\n",
              "      <th>6010</th>\n",
              "      <td>9</td>\n",
              "      <td>9</td>\n",
              "      <td>9</td>\n",
              "      <td>9</td>\n",
              "      <td>9</td>\n",
              "      <td>9</td>\n",
              "      <td>9</td>\n",
              "      <td>9</td>\n",
              "      <td>9</td>\n",
              "      <td>9</td>\n",
              "      <td>9</td>\n",
              "    </tr>\n",
              "    <tr>\n",
              "      <th>...</th>\n",
              "      <td>...</td>\n",
              "      <td>...</td>\n",
              "      <td>...</td>\n",
              "      <td>...</td>\n",
              "      <td>...</td>\n",
              "      <td>...</td>\n",
              "      <td>...</td>\n",
              "      <td>...</td>\n",
              "      <td>...</td>\n",
              "      <td>...</td>\n",
              "      <td>...</td>\n",
              "    </tr>\n",
              "    <tr>\n",
              "      <th>601050</th>\n",
              "      <td>1</td>\n",
              "      <td>1</td>\n",
              "      <td>1</td>\n",
              "      <td>1</td>\n",
              "      <td>1</td>\n",
              "      <td>1</td>\n",
              "      <td>1</td>\n",
              "      <td>1</td>\n",
              "      <td>1</td>\n",
              "      <td>1</td>\n",
              "      <td>1</td>\n",
              "    </tr>\n",
              "    <tr>\n",
              "      <th>601075</th>\n",
              "      <td>1</td>\n",
              "      <td>1</td>\n",
              "      <td>1</td>\n",
              "      <td>1</td>\n",
              "      <td>1</td>\n",
              "      <td>1</td>\n",
              "      <td>1</td>\n",
              "      <td>1</td>\n",
              "      <td>1</td>\n",
              "      <td>1</td>\n",
              "      <td>1</td>\n",
              "    </tr>\n",
              "    <tr>\n",
              "      <th>601084</th>\n",
              "      <td>1</td>\n",
              "      <td>1</td>\n",
              "      <td>1</td>\n",
              "      <td>1</td>\n",
              "      <td>1</td>\n",
              "      <td>1</td>\n",
              "      <td>1</td>\n",
              "      <td>1</td>\n",
              "      <td>1</td>\n",
              "      <td>1</td>\n",
              "      <td>1</td>\n",
              "    </tr>\n",
              "    <tr>\n",
              "      <th>601090</th>\n",
              "      <td>1</td>\n",
              "      <td>1</td>\n",
              "      <td>1</td>\n",
              "      <td>1</td>\n",
              "      <td>1</td>\n",
              "      <td>1</td>\n",
              "      <td>1</td>\n",
              "      <td>1</td>\n",
              "      <td>1</td>\n",
              "      <td>1</td>\n",
              "      <td>1</td>\n",
              "    </tr>\n",
              "    <tr>\n",
              "      <th>601120</th>\n",
              "      <td>2</td>\n",
              "      <td>2</td>\n",
              "      <td>2</td>\n",
              "      <td>2</td>\n",
              "      <td>2</td>\n",
              "      <td>2</td>\n",
              "      <td>2</td>\n",
              "      <td>2</td>\n",
              "      <td>2</td>\n",
              "      <td>2</td>\n",
              "      <td>2</td>\n",
              "    </tr>\n",
              "  </tbody>\n",
              "</table>\n",
              "<p>730 rows × 11 columns</p>\n",
              "</div>\n",
              "      <button class=\"colab-df-convert\" onclick=\"convertToInteractive('df-b77c4c4b-260b-4dde-ac06-f1d559c8be1d')\"\n",
              "              title=\"Convert this dataframe to an interactive table.\"\n",
              "              style=\"display:none;\">\n",
              "        \n",
              "  <svg xmlns=\"http://www.w3.org/2000/svg\" height=\"24px\"viewBox=\"0 0 24 24\"\n",
              "       width=\"24px\">\n",
              "    <path d=\"M0 0h24v24H0V0z\" fill=\"none\"/>\n",
              "    <path d=\"M18.56 5.44l.94 2.06.94-2.06 2.06-.94-2.06-.94-.94-2.06-.94 2.06-2.06.94zm-11 1L8.5 8.5l.94-2.06 2.06-.94-2.06-.94L8.5 2.5l-.94 2.06-2.06.94zm10 10l.94 2.06.94-2.06 2.06-.94-2.06-.94-.94-2.06-.94 2.06-2.06.94z\"/><path d=\"M17.41 7.96l-1.37-1.37c-.4-.4-.92-.59-1.43-.59-.52 0-1.04.2-1.43.59L10.3 9.45l-7.72 7.72c-.78.78-.78 2.05 0 2.83L4 21.41c.39.39.9.59 1.41.59.51 0 1.02-.2 1.41-.59l7.78-7.78 2.81-2.81c.8-.78.8-2.07 0-2.86zM5.41 20L4 18.59l7.72-7.72 1.47 1.35L5.41 20z\"/>\n",
              "  </svg>\n",
              "      </button>\n",
              "      \n",
              "  <style>\n",
              "    .colab-df-container {\n",
              "      display:flex;\n",
              "      flex-wrap:wrap;\n",
              "      gap: 12px;\n",
              "    }\n",
              "\n",
              "    .colab-df-convert {\n",
              "      background-color: #E8F0FE;\n",
              "      border: none;\n",
              "      border-radius: 50%;\n",
              "      cursor: pointer;\n",
              "      display: none;\n",
              "      fill: #1967D2;\n",
              "      height: 32px;\n",
              "      padding: 0 0 0 0;\n",
              "      width: 32px;\n",
              "    }\n",
              "\n",
              "    .colab-df-convert:hover {\n",
              "      background-color: #E2EBFA;\n",
              "      box-shadow: 0px 1px 2px rgba(60, 64, 67, 0.3), 0px 1px 3px 1px rgba(60, 64, 67, 0.15);\n",
              "      fill: #174EA6;\n",
              "    }\n",
              "\n",
              "    [theme=dark] .colab-df-convert {\n",
              "      background-color: #3B4455;\n",
              "      fill: #D2E3FC;\n",
              "    }\n",
              "\n",
              "    [theme=dark] .colab-df-convert:hover {\n",
              "      background-color: #434B5C;\n",
              "      box-shadow: 0px 1px 3px 1px rgba(0, 0, 0, 0.15);\n",
              "      filter: drop-shadow(0px 1px 2px rgba(0, 0, 0, 0.3));\n",
              "      fill: #FFFFFF;\n",
              "    }\n",
              "  </style>\n",
              "\n",
              "      <script>\n",
              "        const buttonEl =\n",
              "          document.querySelector('#df-b77c4c4b-260b-4dde-ac06-f1d559c8be1d button.colab-df-convert');\n",
              "        buttonEl.style.display =\n",
              "          google.colab.kernel.accessAllowed ? 'block' : 'none';\n",
              "\n",
              "        async function convertToInteractive(key) {\n",
              "          const element = document.querySelector('#df-b77c4c4b-260b-4dde-ac06-f1d559c8be1d');\n",
              "          const dataTable =\n",
              "            await google.colab.kernel.invokeFunction('convertToInteractive',\n",
              "                                                     [key], {});\n",
              "          if (!dataTable) return;\n",
              "\n",
              "          const docLinkHtml = 'Like what you see? Visit the ' +\n",
              "            '<a target=\"_blank\" href=https://colab.research.google.com/notebooks/data_table.ipynb>data table notebook</a>'\n",
              "            + ' to learn more about interactive tables.';\n",
              "          element.innerHTML = '';\n",
              "          dataTable['output_type'] = 'display_data';\n",
              "          await google.colab.output.renderOutput(dataTable, element);\n",
              "          const docLink = document.createElement('div');\n",
              "          docLink.innerHTML = docLinkHtml;\n",
              "          element.appendChild(docLink);\n",
              "        }\n",
              "      </script>\n",
              "    </div>\n",
              "  </div>\n",
              "  "
            ]
          },
          "metadata": {},
          "execution_count": 118
        }
      ]
    },
    {
      "cell_type": "code",
      "source": [
        "sns.countplot(id_freq_schools['End Year'], label='count')"
      ],
      "metadata": {
        "id": "2waB27JSOIcH",
        "colab": {
          "base_uri": "https://localhost:8080/",
          "height": 351
        },
        "outputId": "eb9c41e0-1477-4687-9538-b5c3d1fef226"
      },
      "execution_count": 119,
      "outputs": [
        {
          "output_type": "stream",
          "name": "stderr",
          "text": [
            "/usr/local/lib/python3.8/dist-packages/seaborn/_decorators.py:36: FutureWarning: Pass the following variable as a keyword arg: x. From version 0.12, the only valid positional argument will be `data`, and passing other arguments without an explicit keyword will result in an error or misinterpretation.\n",
            "  warnings.warn(\n"
          ]
        },
        {
          "output_type": "execute_result",
          "data": {
            "text/plain": [
              "<matplotlib.axes._subplots.AxesSubplot at 0x7f8db1ec38e0>"
            ]
          },
          "metadata": {},
          "execution_count": 119
        },
        {
          "output_type": "display_data",
          "data": {
            "text/plain": [
              "<Figure size 432x288 with 1 Axes>"
            ],
            "image/png": "[encoded data removed]"
          },
          "metadata": {
            "needs_background": "light"
          }
        }
      ]
    },
    {
      "cell_type": "code",
      "source": [
        "# Select frequency that a school appears in either the top or bottom percentile of the highly impacted schools\n",
        "# There should be a default selected. \n",
        "\n",
        "select_frequency = 5\n",
        "\n",
        "# If school code frequency is >= 5 years, then they remain. Unless above variable is updated to a different number.   \n",
        "\n",
        "for i in id_freq_schools.index:\n",
        "  if id_freq_schools['End Year'][i] < select_frequency:\n",
        "    id_freq_schools.drop([i], axis= 0, inplace=True)\n",
        "\n",
        "freq_school_code = id_freq_schools.index.unique().sort_values()"
      ],
      "metadata": {
        "id": "PTNMBs3DrIhY"
      },
      "execution_count": 120,
      "outputs": []
    },
    {
      "cell_type": "code",
      "source": [
        "freq_school_code"
      ],
      "metadata": {
        "colab": {
          "base_uri": "https://localhost:8080/"
        },
        "id": "hdbCv_um2Tqa",
        "outputId": "113ea094-3f48-483f-d9dd-3f9c14cca976"
      },
      "execution_count": 121,
      "outputs": [
        {
          "output_type": "execute_result",
          "data": {
            "text/plain": [
              "Int64Index([  6010,  11022,  11025,  21027,  21150,  26010,  26020,  35011,\n",
              "             35015,  35020,\n",
              "            ...\n",
              "            525014, 537010, 567020, 571002, 571230, 585050, 585125, 585130,\n",
              "            591061, 591062],\n",
              "           dtype='int64', name='School Code', length=194)"
            ]
          },
          "metadata": {},
          "execution_count": 121
        }
      ]
    },
    {
      "cell_type": "code",
      "source": [
        "# This is the detailed schools who are repeatedly in the top/bottom.\n",
        "# Pulls all of their school data. \n",
        "\n",
        "ten_year_impacted = published_ky_df.iloc[0:0,:]\n",
        "\n",
        "for code in freq_school_code:\n",
        "  school_ten_year = published_ky_df[published_ky_df['School Code'] == code]\n",
        "  ten_year_impacted = ten_year_impacted.append(school_ten_year)\n"
      ],
      "metadata": {
        "id": "mp_YTum1mQ8L"
      },
      "execution_count": 122,
      "outputs": []
    },
    {
      "cell_type": "code",
      "source": [
        "ten_year_impacted.sort_values(by=['Money Difference per school'], inplace=True)"
      ],
      "metadata": {
        "id": "kbnMp6tmhxVp"
      },
      "execution_count": 123,
      "outputs": []
    },
    {
      "cell_type": "code",
      "source": [
        "ten_year_impacted"
      ],
      "metadata": {
        "id": "14J-CnFNy0qc",
        "colab": {
          "base_uri": "https://localhost:8080/",
          "height": 849
        },
        "outputId": "4eeaa8e8-6bc1-4dbe-c348-c3aea10bb96b"
      },
      "execution_count": 124,
      "outputs": [
        {
          "output_type": "execute_result",
          "data": {
            "text/plain": [
              "      End Year  District Code          District  School Code  \\\n",
              "524       2012            275  Jefferson County       275620   \n",
              "8207      2019            275  Jefferson County       275155   \n",
              "3824      2015            275  Jefferson County       275033   \n",
              "5972      2017            275  Jefferson County       275155   \n",
              "594       2012            275  Jefferson County       275033   \n",
              "...        ...            ...               ...          ...   \n",
              "8204      2019            275  Jefferson County       275047   \n",
              "4929      2016            275  Jefferson County       275200   \n",
              "6024      2017            275  Jefferson County       275200   \n",
              "7133      2018            275  Jefferson County       275200   \n",
              "8259      2019            275  Jefferson County       275200   \n",
              "\n",
              "                                   School  Proficiency Rate  \\\n",
              "524   Frederick Law Olmsted Academy North                34   \n",
              "8207               Marion C. Moore School                40   \n",
              "3824                          Valley High                50   \n",
              "5972               Marion C. Moore School                47   \n",
              "594                           Valley High                31   \n",
              "...                                   ...               ...   \n",
              "8204                 Louisville Male High                78   \n",
              "4929                   duPont Manual High                91   \n",
              "6024                   duPont Manual High               100   \n",
              "7133                   duPont Manual High               105   \n",
              "8259                   duPont Manual High               102   \n",
              "\n",
              "         Classification  Reported Spending per student  \\\n",
              "524   Needs Improvement                      10,980.00   \n",
              "8207  Needs Improvement                      14,030.00   \n",
              "3824  Needs Improvement                      10,270.00   \n",
              "5972  Needs Improvement                      12,230.00   \n",
              "594   Needs Improvement                      10,290.00   \n",
              "...                 ...                            ...   \n",
              "8204      Distinguished                      12,640.00   \n",
              "4929      Distinguished                      11,740.00   \n",
              "6024      Distinguished                      12,380.00   \n",
              "7133      Distinguished                      13,460.00   \n",
              "8259      Distinguished                      19,210.00   \n",
              "\n",
              "      Money Difference per school  Money Difference per student  \\\n",
              "524                   -666,200.00                       -880.00   \n",
              "8207                  -643,000.00                       -290.00   \n",
              "3824                  -634,200.00                       -450.00   \n",
              "5972                  -621,500.00                       -310.00   \n",
              "594                   -551,700.00                       -600.00   \n",
              "...                           ...                           ...   \n",
              "8204                 1,071,800.00                        560.00   \n",
              "4929                 1,258,300.00                        670.00   \n",
              "6024                 1,265,600.00                        670.00   \n",
              "7133                 1,304,000.00                        680.00   \n",
              "8259                 1,497,800.00                        790.00   \n",
              "\n",
              "      Estimated Spending per student 5 Classifications  \n",
              "524                        10,097.00          Very Low  \n",
              "8207                       13,743.00               Low  \n",
              "3824                        9,822.00               Low  \n",
              "5972                       11,921.00               Low  \n",
              "594                         9,685.00          Very Low  \n",
              "...                              ...               ...  \n",
              "8204                       13,196.00         Very High  \n",
              "4929                       12,410.00         Very High  \n",
              "6024                       13,050.00         Very High  \n",
              "7133                       14,138.00         Very High  \n",
              "8259                       19,998.00         Very High  \n",
              "\n",
              "[1737 rows x 12 columns]"
            ],
            "text/html": [
              "\n",
              "  <div id=\"df-0df6f393-c3f7-4704-9521-20c30e4640fd\">\n",
              "    <div class=\"colab-df-container\">\n",
              "      <div>\n",
              "<style scoped>\n",
              "    .dataframe tbody tr th:only-of-type {\n",
              "        vertical-align: middle;\n",
              "    }\n",
              "\n",
              "    .dataframe tbody tr th {\n",
              "        vertical-align: top;\n",
              "    }\n",
              "\n",
              "    .dataframe thead th {\n",
              "        text-align: right;\n",
              "    }\n",
              "</style>\n",
              "<table border=\"1\" class=\"dataframe\">\n",
              "  <thead>\n",
              "    <tr style=\"text-align: right;\">\n",
              "      <th></th>\n",
              "      <th>End Year</th>\n",
              "      <th>District Code</th>\n",
              "      <th>District</th>\n",
              "      <th>School Code</th>\n",
              "      <th>School</th>\n",
              "      <th>Proficiency Rate</th>\n",
              "      <th>Classification</th>\n",
              "      <th>Reported Spending per student</th>\n",
              "      <th>Money Difference per school</th>\n",
              "      <th>Money Difference per student</th>\n",
              "      <th>Estimated Spending per student</th>\n",
              "      <th>5 Classifications</th>\n",
              "    </tr>\n",
              "  </thead>\n",
              "  <tbody>\n",
              "    <tr>\n",
              "      <th>524</th>\n",
              "      <td>2012</td>\n",
              "      <td>275</td>\n",
              "      <td>Jefferson County</td>\n",
              "      <td>275620</td>\n",
              "      <td>Frederick Law Olmsted Academy North</td>\n",
              "      <td>34</td>\n",
              "      <td>Needs Improvement</td>\n",
              "      <td>10,980.00</td>\n",
              "      <td>-666,200.00</td>\n",
              "      <td>-880.00</td>\n",
              "      <td>10,097.00</td>\n",
              "      <td>Very Low</td>\n",
              "    </tr>\n",
              "    <tr>\n",
              "      <th>8207</th>\n",
              "      <td>2019</td>\n",
              "      <td>275</td>\n",
              "      <td>Jefferson County</td>\n",
              "      <td>275155</td>\n",
              "      <td>Marion C. Moore School</td>\n",
              "      <td>40</td>\n",
              "      <td>Needs Improvement</td>\n",
              "      <td>14,030.00</td>\n",
              "      <td>-643,000.00</td>\n",
              "      <td>-290.00</td>\n",
              "      <td>13,743.00</td>\n",
              "      <td>Low</td>\n",
              "    </tr>\n",
              "    <tr>\n",
              "      <th>3824</th>\n",
              "      <td>2015</td>\n",
              "      <td>275</td>\n",
              "      <td>Jefferson County</td>\n",
              "      <td>275033</td>\n",
              "      <td>Valley High</td>\n",
              "      <td>50</td>\n",
              "      <td>Needs Improvement</td>\n",
              "      <td>10,270.00</td>\n",
              "      <td>-634,200.00</td>\n",
              "      <td>-450.00</td>\n",
              "      <td>9,822.00</td>\n",
              "      <td>Low</td>\n",
              "    </tr>\n",
              "    <tr>\n",
              "      <th>5972</th>\n",
              "      <td>2017</td>\n",
              "      <td>275</td>\n",
              "      <td>Jefferson County</td>\n",
              "      <td>275155</td>\n",
              "      <td>Marion C. Moore School</td>\n",
              "      <td>47</td>\n",
              "      <td>Needs Improvement</td>\n",
              "      <td>12,230.00</td>\n",
              "      <td>-621,500.00</td>\n",
              "      <td>-310.00</td>\n",
              "      <td>11,921.00</td>\n",
              "      <td>Low</td>\n",
              "    </tr>\n",
              "    <tr>\n",
              "      <th>594</th>\n",
              "      <td>2012</td>\n",
              "      <td>275</td>\n",
              "      <td>Jefferson County</td>\n",
              "      <td>275033</td>\n",
              "      <td>Valley High</td>\n",
              "      <td>31</td>\n",
              "      <td>Needs Improvement</td>\n",
              "      <td>10,290.00</td>\n",
              "      <td>-551,700.00</td>\n",
              "      <td>-600.00</td>\n",
              "      <td>9,685.00</td>\n",
              "      <td>Very Low</td>\n",
              "    </tr>\n",
              "    <tr>\n",
              "      <th>...</th>\n",
              "      <td>...</td>\n",
              "      <td>...</td>\n",
              "      <td>...</td>\n",
              "      <td>...</td>\n",
              "      <td>...</td>\n",
              "      <td>...</td>\n",
              "      <td>...</td>\n",
              "      <td>...</td>\n",
              "      <td>...</td>\n",
              "      <td>...</td>\n",
              "      <td>...</td>\n",
              "      <td>...</td>\n",
              "    </tr>\n",
              "    <tr>\n",
              "      <th>8204</th>\n",
              "      <td>2019</td>\n",
              "      <td>275</td>\n",
              "      <td>Jefferson County</td>\n",
              "      <td>275047</td>\n",
              "      <td>Louisville Male High</td>\n",
              "      <td>78</td>\n",
              "      <td>Distinguished</td>\n",
              "      <td>12,640.00</td>\n",
              "      <td>1,071,800.00</td>\n",
              "      <td>560.00</td>\n",
              "      <td>13,196.00</td>\n",
              "      <td>Very High</td>\n",
              "    </tr>\n",
              "    <tr>\n",
              "      <th>4929</th>\n",
              "      <td>2016</td>\n",
              "      <td>275</td>\n",
              "      <td>Jefferson County</td>\n",
              "      <td>275200</td>\n",
              "      <td>duPont Manual High</td>\n",
              "      <td>91</td>\n",
              "      <td>Distinguished</td>\n",
              "      <td>11,740.00</td>\n",
              "      <td>1,258,300.00</td>\n",
              "      <td>670.00</td>\n",
              "      <td>12,410.00</td>\n",
              "      <td>Very High</td>\n",
              "    </tr>\n",
              "    <tr>\n",
              "      <th>6024</th>\n",
              "      <td>2017</td>\n",
              "      <td>275</td>\n",
              "      <td>Jefferson County</td>\n",
              "      <td>275200</td>\n",
              "      <td>duPont Manual High</td>\n",
              "      <td>100</td>\n",
              "      <td>Distinguished</td>\n",
              "      <td>12,380.00</td>\n",
              "      <td>1,265,600.00</td>\n",
              "      <td>670.00</td>\n",
              "      <td>13,050.00</td>\n",
              "      <td>Very High</td>\n",
              "    </tr>\n",
              "    <tr>\n",
              "      <th>7133</th>\n",
              "      <td>2018</td>\n",
              "      <td>275</td>\n",
              "      <td>Jefferson County</td>\n",
              "      <td>275200</td>\n",
              "      <td>duPont Manual High</td>\n",
              "      <td>105</td>\n",
              "      <td>Distinguished</td>\n",
              "      <td>13,460.00</td>\n",
              "      <td>1,304,000.00</td>\n",
              "      <td>680.00</td>\n",
              "      <td>14,138.00</td>\n",
              "      <td>Very High</td>\n",
              "    </tr>\n",
              "    <tr>\n",
              "      <th>8259</th>\n",
              "      <td>2019</td>\n",
              "      <td>275</td>\n",
              "      <td>Jefferson County</td>\n",
              "      <td>275200</td>\n",
              "      <td>duPont Manual High</td>\n",
              "      <td>102</td>\n",
              "      <td>Distinguished</td>\n",
              "      <td>19,210.00</td>\n",
              "      <td>1,497,800.00</td>\n",
              "      <td>790.00</td>\n",
              "      <td>19,998.00</td>\n",
              "      <td>Very High</td>\n",
              "    </tr>\n",
              "  </tbody>\n",
              "</table>\n",
              "<p>1737 rows × 12 columns</p>\n",
              "</div>\n",
              "      <button class=\"colab-df-convert\" onclick=\"convertToInteractive('df-0df6f393-c3f7-4704-9521-20c30e4640fd')\"\n",
              "              title=\"Convert this dataframe to an interactive table.\"\n",
              "              style=\"display:none;\">\n",
              "        \n",
              "  <svg xmlns=\"http://www.w3.org/2000/svg\" height=\"24px\"viewBox=\"0 0 24 24\"\n",
              "       width=\"24px\">\n",
              "    <path d=\"M0 0h24v24H0V0z\" fill=\"none\"/>\n",
              "    <path d=\"M18.56 5.44l.94 2.06.94-2.06 2.06-.94-2.06-.94-.94-2.06-.94 2.06-2.06.94zm-11 1L8.5 8.5l.94-2.06 2.06-.94-2.06-.94L8.5 2.5l-.94 2.06-2.06.94zm10 10l.94 2.06.94-2.06 2.06-.94-2.06-.94-.94-2.06-.94 2.06-2.06.94z\"/><path d=\"M17.41 7.96l-1.37-1.37c-.4-.4-.92-.59-1.43-.59-.52 0-1.04.2-1.43.59L10.3 9.45l-7.72 7.72c-.78.78-.78 2.05 0 2.83L4 21.41c.39.39.9.59 1.41.59.51 0 1.02-.2 1.41-.59l7.78-7.78 2.81-2.81c.8-.78.8-2.07 0-2.86zM5.41 20L4 18.59l7.72-7.72 1.47 1.35L5.41 20z\"/>\n",
              "  </svg>\n",
              "      </button>\n",
              "      \n",
              "  <style>\n",
              "    .colab-df-container {\n",
              "      display:flex;\n",
              "      flex-wrap:wrap;\n",
              "      gap: 12px;\n",
              "    }\n",
              "\n",
              "    .colab-df-convert {\n",
              "      background-color: #E8F0FE;\n",
              "      border: none;\n",
              "      border-radius: 50%;\n",
              "      cursor: pointer;\n",
              "      display: none;\n",
              "      fill: #1967D2;\n",
              "      height: 32px;\n",
              "      padding: 0 0 0 0;\n",
              "      width: 32px;\n",
              "    }\n",
              "\n",
              "    .colab-df-convert:hover {\n",
              "      background-color: #E2EBFA;\n",
              "      box-shadow: 0px 1px 2px rgba(60, 64, 67, 0.3), 0px 1px 3px 1px rgba(60, 64, 67, 0.15);\n",
              "      fill: #174EA6;\n",
              "    }\n",
              "\n",
              "    [theme=dark] .colab-df-convert {\n",
              "      background-color: #3B4455;\n",
              "      fill: #D2E3FC;\n",
              "    }\n",
              "\n",
              "    [theme=dark] .colab-df-convert:hover {\n",
              "      background-color: #434B5C;\n",
              "      box-shadow: 0px 1px 3px 1px rgba(0, 0, 0, 0.15);\n",
              "      filter: drop-shadow(0px 1px 2px rgba(0, 0, 0, 0.3));\n",
              "      fill: #FFFFFF;\n",
              "    }\n",
              "  </style>\n",
              "\n",
              "      <script>\n",
              "        const buttonEl =\n",
              "          document.querySelector('#df-0df6f393-c3f7-4704-9521-20c30e4640fd button.colab-df-convert');\n",
              "        buttonEl.style.display =\n",
              "          google.colab.kernel.accessAllowed ? 'block' : 'none';\n",
              "\n",
              "        async function convertToInteractive(key) {\n",
              "          const element = document.querySelector('#df-0df6f393-c3f7-4704-9521-20c30e4640fd');\n",
              "          const dataTable =\n",
              "            await google.colab.kernel.invokeFunction('convertToInteractive',\n",
              "                                                     [key], {});\n",
              "          if (!dataTable) return;\n",
              "\n",
              "          const docLinkHtml = 'Like what you see? Visit the ' +\n",
              "            '<a target=\"_blank\" href=https://colab.research.google.com/notebooks/data_table.ipynb>data table notebook</a>'\n",
              "            + ' to learn more about interactive tables.';\n",
              "          element.innerHTML = '';\n",
              "          dataTable['output_type'] = 'display_data';\n",
              "          await google.colab.output.renderOutput(dataTable, element);\n",
              "          const docLink = document.createElement('div');\n",
              "          docLink.innerHTML = docLinkHtml;\n",
              "          element.appendChild(docLink);\n",
              "        }\n",
              "      </script>\n",
              "    </div>\n",
              "  </div>\n",
              "  "
            ]
          },
          "metadata": {},
          "execution_count": 124
        }
      ]
    },
    {
      "cell_type": "code",
      "source": [],
      "metadata": {
        "id": "BXKmJRNavgBQ"
      },
      "execution_count": 124,
      "outputs": []
    },
    {
      "cell_type": "code",
      "source": [],
      "metadata": {
        "id": "OTv_GQtAvgEH"
      },
      "execution_count": 124,
      "outputs": []
    }
  ]
}