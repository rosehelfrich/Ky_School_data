{
  "cells": [
    {
      "cell_type": "markdown",
      "metadata": {
        "id": "view-in-github",
        "colab_type": "text"
      },
      "source": [
        "<a href=\"https://colab.research.google.com/github/rosehelfrich/Ky_School_data/blob/main/additional/File_1_KY_EPSB_Preprocessing_data.ipynb\" target=\"_parent\"><img src=\"https://colab.research.google.com/assets/colab-badge.svg\" alt=\"Open In Colab\"/></a>"
      ]
    },
    {
      "cell_type": "code",
      "execution_count": 1,
      "metadata": {
        "id": "37X_5UYLZKv6"
      },
      "outputs": [],
      "source": [
        "import pandas as pd\n",
        "import numpy as np"
      ]
    },
    {
      "cell_type": "code",
      "execution_count": 2,
      "metadata": {
        "colab": {
          "base_uri": "https://localhost:8080/"
        },
        "id": "CHrkeD4_aXu7",
        "outputId": "480ae30d-b52a-4bb4-a745-4ce151ee2a09"
      },
      "outputs": [
        {
          "output_type": "stream",
          "name": "stdout",
          "text": [
            "Drive already mounted at /content/drive; to attempt to forcibly remount, call drive.mount(\"/content/drive\", force_remount=True).\n"
          ]
        }
      ],
      "source": [
        "from google.colab import drive\n",
        "drive.mount('/content/drive')"
      ]
    },
    {
      "cell_type": "code",
      "source": [
        "district_school_list = pd.read_csv('/content/drive/MyDrive/Colab Data/KY EPSB/All Years/df_header.csv')"
      ],
      "metadata": {
        "id": "xa4lng4hXMkA"
      },
      "execution_count": 3,
      "outputs": []
    },
    {
      "cell_type": "markdown",
      "source": [
        "Yes, I understand that Best Practices says that I should've imported all the read files here.  However with 30+ files to import, it would've been more difficult to comprehend the code.  So I deviated away from this Best Practice so that others could better understand my code.\n",
        "Rose"
      ],
      "metadata": {
        "id": "4to61RISPkoP"
      }
    },
    {
      "cell_type": "markdown",
      "metadata": {
        "id": "Zvgx0-aET84G"
      },
      "source": [
        "# School Data"
      ]
    },
    {
      "cell_type": "code",
      "source": [
        "# Rename the columns and replace the year\n",
        "# Drop the rows that contain overall district/state data\n",
        "\n",
        "def transform_environment_data(df, year):\n",
        "    df.columns = ['End Year', 'District', 'School Code', 'School', 'Reported Spending per student', 'Student Count',\n",
        "       'Educator Count', 'AVG TCHR experience by school']\n",
        "    df['End Year'] = year\n",
        "\n",
        "    df = df[~df['School'].str.startswith('---')]\n",
        "    df.reset_index(drop=True, inplace=True)\n",
        "\n",
        "    return df"
      ],
      "metadata": {
        "id": "DybBdH9sUYE8"
      },
      "execution_count": 4,
      "outputs": []
    },
    {
      "cell_type": "markdown",
      "metadata": {
        "id": "zEamO8JK9lBk"
      },
      "source": [
        "##2012 - 2017"
      ]
    },
    {
      "cell_type": "markdown",
      "source": [
        "Load and format columns for 2012-2017 data.  Data formating changed every year, so this had to be done for each individual year."
      ],
      "metadata": {
        "id": "Tf2rKqF9q6im"
      }
    },
    {
      "cell_type": "code",
      "execution_count": 5,
      "metadata": {
        "id": "OUv4jJeV-JIO"
      },
      "outputs": [],
      "source": [
        "raw_2012_learn = pd.read_csv('/content/drive/MyDrive/Colab Data/KY EPSB/2011-2012/LEARNING_ENVIRONMENT_STUDENTS-TEACHERS.csv', skipfooter=1, engine='python')\n",
        "envir_2012 = raw_2012_learn.loc[:,['SCH_YEAR','DIST_NAME', 'SCH_CD',  'SCH_NAME', 'SPENDING_PER_STDNT', 'MEMBERSHIP_TOTAL','FULLTIME_TCH_TOTAL', 'AVG_YRS_TCH_EXP']]\n",
        "envir_2012 = transform_environment_data(envir_2012, 2012)"
      ]
    },
    {
      "cell_type": "code",
      "execution_count": 6,
      "metadata": {
        "id": "QID0kapQUIiJ"
      },
      "outputs": [],
      "source": [
        "raw_2013_learn = pd.read_csv('/content/drive/MyDrive/Colab Data/KY EPSB/2012-2013/LEARNING_ENVIRONMENT_STUDENTS-TEACHERS.csv', skipfooter=1, engine='python')\n",
        "envir_2013 = raw_2013_learn.loc[:,['SCH_YEAR','DIST_NAME', 'SCH_CD',  'SCH_NAME', 'SPENDING_PER_STDNT', 'ENROLLMENT_TOTAL', 'FTE_TCH_TOTAL', 'AVG_YRS_TCH_EXP']]\n",
        "envir_2013 = transform_environment_data(envir_2013, 2013)"
      ]
    },
    {
      "cell_type": "code",
      "execution_count": 7,
      "metadata": {
        "id": "gDETIwz38PvA"
      },
      "outputs": [],
      "source": [
        "raw_2014_learn = pd.read_csv('/content/drive/MyDrive/Colab Data/KY EPSB/2013-2014/LEARNING_ENVIRONMENT_STUDENTS-TEACHERS.csv', skipfooter=1, engine='python')\n",
        "envir_2014 = raw_2014_learn.loc[:,['SCH_YEAR','DIST_NAME', 'SCH_CD',  'SCH_NAME', 'SPENDING_PER_STDNT', 'MEMBERSHIP_TOTAL', 'FTE_TCH_TOTAL', 'AVG_YRS_TCH_EXP']]\n",
        "envir_2014 = transform_environment_data(envir_2014, 2014)"
      ]
    },
    {
      "cell_type": "code",
      "execution_count": 8,
      "metadata": {
        "id": "xQr1yjC2ZWNt"
      },
      "outputs": [],
      "source": [
        "raw_2015_learn = pd.read_csv('/content/drive/MyDrive/Colab Data/KY EPSB/2014-2015/LEARNING_ENVIRONMENT_STUDENTS-TEACHERS.csv', skipfooter=1, engine='python')\n",
        "envir_2015 = raw_2015_learn.loc[:,['SCH_YEAR','DIST_NAME', 'SCH_CD',  'SCH_NAME', 'SPENDING_PER_STDNT', 'MEMBERSHIP_TOTAL', 'FTE_TCH_TOTAL', 'AVG_YRS_TCH_EXP']]\n",
        "envir_2015 = transform_environment_data(envir_2015, 2015)"
      ]
    },
    {
      "cell_type": "code",
      "execution_count": 9,
      "metadata": {
        "id": "NYSrq0GKbvoN"
      },
      "outputs": [],
      "source": [
        "raw_2016_learn = pd.read_csv('/content/drive/MyDrive/Colab Data/KY EPSB/2015-2016/LEARNING_ENVIRONMENT_STUDENTS-TEACHERS.csv', skipfooter=1, engine='python')\n",
        "envir_2016 = raw_2016_learn.loc[:,['SCH_YEAR','DIST_NAME', 'SCH_CD',  'SCH_NAME', 'SPENDING_PER_STDNT', 'MEMBERSHIP_TOTAL', 'FTE_TCH_TOTAL', 'AVG_YRS_TCH_EXP']]\n",
        "envir_2016 = transform_environment_data(envir_2016, 2016)"
      ]
    },
    {
      "cell_type": "code",
      "execution_count": 10,
      "metadata": {
        "id": "XCyULrDkdhTF"
      },
      "outputs": [],
      "source": [
        "raw_2017_learn = pd.read_csv('/content/drive/MyDrive/Colab Data/KY EPSB/2016-2017/LEARNING_ENVIRONMENT_STUDENTS-TEACHERS.csv', skipfooter=1, engine='python')\n",
        "envir_2017 = raw_2017_learn.loc[:,['SCH_YEAR','DIST_NAME', 'SCH_CD',  'SCH_NAME', 'SPENDING_PER_STDNT', 'MEMBERSHIP_TOTAL', 'FTE_TCH_TOTAL', 'AVG_YRS_TCH_EXP']]\n",
        "envir_2017 = transform_environment_data(envir_2017, 2017)"
      ]
    },
    {
      "cell_type": "markdown",
      "metadata": {
        "id": "kfZN0KLvoCZ7"
      },
      "source": [
        "##2018 - 2019"
      ]
    },
    {
      "cell_type": "markdown",
      "source": [
        "Load and format columns for 2018 - 2019 data. For reasons unknown, 2018 and 2019 data was very different from the prior years."
      ],
      "metadata": {
        "id": "zdA97JPnrEDp"
      }
    },
    {
      "cell_type": "code",
      "execution_count": 11,
      "metadata": {
        "id": "y2RZTC0lnGdg"
      },
      "outputs": [],
      "source": [
        "# 2018 data\n",
        "raw_2018_spending = pd.read_csv('/content/drive/MyDrive/Colab Data/KY EPSB/2017-2018/SPENDING_PER_STUDENT.csv')\n",
        "raw_2018_spending['School Code'] = (raw_2018_spending['DIST_NUMBER'] * 1000 + raw_2018_spending['SCH_NUMBER']).astype(int)\n",
        "raw_2018_spending = raw_2018_spending.loc[:, ['SCH_YEAR', 'DIST_NAME', 'School Code', 'SCH_NAME', 'TOTAL_PER_STU_ALLFUNDS']]\n",
        "\n",
        "raw_2018_student_count = pd.read_csv('/content/drive/MyDrive/Colab Data/KY EPSB/2017-2018/STUDENT_DEMOGRAPHIC_RACE_GENDER.csv', skipfooter=1, engine='python')\n",
        "raw_2018_student_count['School Code'] = (raw_2018_student_count['DIST_NUMBER'] * 1000 + raw_2018_student_count['SCH_NUMBER']) #.astype(float)\n",
        "raw_2018_student_count =  raw_2018_student_count.loc[:,['School Code', 'MEMBERSHIP_TOTAL']]\n",
        "raw_2018_student_count.dropna(inplace=True)\n",
        "\n",
        "raw_2018 = pd.merge(raw_2018_spending, raw_2018_student_count, how='left', on='School Code')\n",
        "\n",
        "raw_2018_tchr = pd.read_csv('/content/drive/MyDrive/Colab Data/KY EPSB/2017-2018/SCHOOL_EXPERIENCE.csv')\n",
        "raw_2018_tchr = raw_2018_tchr.loc[:,['SCH_CD','Teacher Count','AVGEXPERIENCEYEARS']]\n",
        "raw_2018_tchr.columns = ['School Code','Teacher Count','AVG TCHR EXPERIENCE YRS']\n",
        "\n",
        "envir_2018 = pd.merge(raw_2018, raw_2018_tchr, on=['School Code'], how='left')\n",
        "envir_2018 = transform_environment_data(envir_2018, 2018)\n"
      ]
    },
    {
      "cell_type": "code",
      "execution_count": 12,
      "metadata": {
        "id": "xAZGRrHBXSKo"
      },
      "outputs": [],
      "source": [
        "#2019 data\n",
        "raw_2019_spending = pd.read_csv('/content/drive/MyDrive/Colab Data/KY EPSB/2018-2019/SPENDING_PER_STUDENT.csv')\n",
        "raw_2019_spending['School Code'] = (raw_2019_spending['DIST_NUMBER'] * 1000 + raw_2019_spending['SCH_NUMBER'])\n",
        "raw_2019_spending = raw_2019_spending.loc[:, ['SCH_YEAR', 'DIST_NAME', 'School Code', 'SCH_NAME', 'TOTAL_PER_STU_ALLFUNDS']]\n",
        "\n",
        "raw_2019_student_count = pd.read_csv('/content/drive/MyDrive/Colab Data/KY EPSB/2018-2019/STUDENT_DEMOGRAPHIC_RACE_GENDER.csv')\n",
        "raw_2019_student_count['School Code'] = (raw_2019_student_count['DIST_NUMBER'] * 1000 + raw_2019_student_count['SCH_NUMBER'])\n",
        "raw_2019_student_count =  raw_2019_student_count.loc[:,['School Code', 'MEMBERSHIP_TOTAL']]\n",
        "raw_2019_student_count.dropna(inplace=True)\n",
        "\n",
        "raw_2019 = pd.merge(raw_2019_spending, raw_2019_student_count, how='left', on='School Code')\n",
        "\n",
        "raw_2019_tchr = pd.read_csv('/content/drive/MyDrive/Colab Data/KY EPSB/2018-2019/SCHOOL_EXPERIENCE.csv', skipfooter=1, engine='python')\n",
        "raw_2019_tchr = raw_2019_tchr.loc[:,['SCH_CD','Teacher Count','AVGEXPERIENCEYEARS']]\n",
        "raw_2019_tchr.columns = ['School Code','Teacher Count','AVG TCHR EXPERIENCE YRS']\n",
        "\n",
        "envir_2019 = pd.merge(raw_2019, raw_2019_tchr, on=['School Code'], how='left')\n",
        "envir_2019 = transform_environment_data(envir_2019, 2019)"
      ]
    },
    {
      "cell_type": "markdown",
      "metadata": {
        "id": "7wP6gzaIlHwq"
      },
      "source": [
        "## 2020"
      ]
    },
    {
      "cell_type": "markdown",
      "source": [
        "2020 data included but this data is eventually excluded from predict_df because no data exist for school test scores."
      ],
      "metadata": {
        "id": "Ch7j5u9YsVxY"
      }
    },
    {
      "cell_type": "code",
      "execution_count": 13,
      "metadata": {
        "id": "y0uQsy1jhUwU"
      },
      "outputs": [],
      "source": [
        "raw_2020_spending = pd.read_csv('/content/drive/MyDrive/Colab Data/KY EPSB/2019-2020/spending_per_student_2020.csv', skipfooter=1, engine='python')\n",
        "raw_2020_spending = raw_2020_spending.loc[:,['SCHOOL YEAR', 'DISTRICT NAME', 'SCHOOL CODE', 'SCHOOL NAME','Total Spending per Student - All Fund Sources', 'MEMBERSHIP']]\n",
        "raw_2020_spending.columns = ['SCHOOL YEAR', 'DISTRICT NAME', 'School Code', 'SCHOOL NAME','Total Spending per Student - All Fund Sources', 'MEMBERSHIP']"
      ]
    },
    {
      "cell_type": "code",
      "execution_count": 14,
      "metadata": {
        "id": "ZhScW1WRByYl"
      },
      "outputs": [],
      "source": [
        "raw_2020_tchr = pd.read_csv('/content/drive/MyDrive/Colab Data/KY EPSB/2019-2020/average_years_school_experience_2020.csv', skipfooter=1, engine='python')\n",
        "raw_2020_tchr = raw_2020_tchr.loc[:,['SCHOOL CODE','EDUCATOR COUNT', 'AVERAGE YEARS OF EXPERIENCE']]\n",
        "raw_2020_tchr.columns = ['School Code', 'Educator Count', 'AVG TCHR EXPERIENCE YRS']\n",
        "envir_2020 = pd.merge(raw_2020_spending, raw_2020_tchr, on=['School Code'], how='left')"
      ]
    },
    {
      "cell_type": "code",
      "source": [
        "envir_2020 = pd.merge(raw_2020_spending, raw_2020_tchr, on=['School Code'], how='left')\n",
        "envir_2020 = transform_environment_data(envir_2020, 2020)"
      ],
      "metadata": {
        "id": "yMZiB3alvDUC"
      },
      "execution_count": 15,
      "outputs": []
    },
    {
      "cell_type": "markdown",
      "metadata": {
        "id": "HnlvGeVhlqyE"
      },
      "source": [
        "## 2021 - 2022"
      ]
    },
    {
      "cell_type": "markdown",
      "source": [
        "Major formatting changes occurred again.  "
      ],
      "metadata": {
        "id": "l-roAEmsEcmv"
      }
    },
    {
      "cell_type": "code",
      "execution_count": 16,
      "metadata": {
        "id": "qmLbmcQhlt29"
      },
      "outputs": [],
      "source": [
        "# 2021 data\n",
        "raw_2021_spending = pd.read_csv('/content/drive/MyDrive/Colab Data/KY EPSB/2020-2021/spending_per_student_2021_by_school.csv', skipfooter=1, engine='python')\n",
        "raw_2021_spending = raw_2021_spending.loc[:,['SCHOOL YEAR', 'DISTRICT NAME', 'SCHOOL CODE', 'SCHOOL NAME','Total Spending per Student - All Fund Sources', 'MEMBERSHIP']]\n",
        "raw_2021_spending.columns  = ['End Year', 'District Name', 'School Code', 'School Name', 'REPORTED Spending per student', 'Student Count']\n",
        "\n",
        "raw_2021_tchr = pd.read_csv('/content/drive/MyDrive/Colab Data/KY EPSB/2020-2021/average_years_school_experience_2021_by_school.csv', skipfooter=1, engine='python')\n",
        "raw_2021_tchr = raw_2021_tchr.loc[:,['SCHOOL CODE','EDUCATOR COUNT', 'AVERAGE YEARS OF EXPERIENCE']]\n",
        "raw_2021_tchr.columns = ['School Code', 'Educator Count', 'AVG TCHR EXPERIENCE YRS']\n",
        "\n",
        "envir_2021 = pd.merge(raw_2021_spending, raw_2021_tchr, on=['School Code'], how='left')\n",
        "envir_2021 = transform_environment_data(envir_2021, 2021)"
      ]
    },
    {
      "cell_type": "code",
      "source": [
        "#2022 data\n",
        "raw_2022_spending = pd.read_csv('/content/drive/MyDrive/Colab Data/KY EPSB/2021-2022/spending_per_student_2022.csv')\n",
        "raw_2022_spending = raw_2022_spending.loc[:,['SCHOOL YEAR', 'DISTRICT NAME', 'SCHOOL CODE', 'SCHOOL NAME','Total Spending per Student - All Fund Sources', 'MEMBERSHIP']]\n",
        "raw_2022_spending.columns  = ['End Year', 'District Name', 'School Code', 'School Name', 'REPORTED Spending per student', 'Student Count']\n",
        "\n",
        "raw_2022_tchr = pd.read_csv('/content/drive/MyDrive/Colab Data/KY EPSB/2021-2022/average_years_school_experience_2022.csv')\n",
        "raw_2022_tchr = raw_2022_tchr.loc[:,['SCHOOL CODE', 'EDUCATOR COUNT', 'AVERAGE YEARS OF EXPERIENCE']]\n",
        "raw_2022_tchr.columns = ['School Code', 'Educator Count','AVG TCHR EXPERIENCE YRS']\n",
        "\n",
        "envir_2022 = pd.merge(raw_2022_spending, raw_2022_tchr, how='left', on='School Code')\n",
        "envir_2022 = transform_environment_data(envir_2022, 2022)"
      ],
      "metadata": {
        "id": "wglv1yNwAy9H"
      },
      "execution_count": 17,
      "outputs": []
    },
    {
      "cell_type": "markdown",
      "metadata": {
        "id": "LONVDsx4IT0q"
      },
      "source": [
        "## Compile years and update column names"
      ]
    },
    {
      "cell_type": "code",
      "source": [
        "# Combine years into one df\n",
        "envir_data = pd.concat([envir_2012, envir_2013, envir_2014, envir_2015, envir_2016,\n",
        "                       envir_2017, envir_2018, envir_2019, envir_2020, envir_2021, envir_2022],\n",
        "                       axis=0, ignore_index=True)\n",
        "\n",
        "# Define and reorder columns\n",
        "desired_columns = ['End Year', 'School Code', 'Reported Spending per student',\n",
        "                   'Student Count', 'Educator Count', 'AVG TCHR experience by school']\n",
        "envir_data = envir_data[desired_columns]\n",
        "\n",
        "# Use the district_school_list to clean school names and provide consistency across years\n",
        "header = district_school_list.loc[:,['District Code', 'District', 'School', 'School Code', 'Level']]\n",
        "school_envir = pd.merge(header, envir_data, on=['School Code'], how='left')\n",
        "school_envir.reset_index(drop=True, inplace=True)"
      ],
      "metadata": {
        "id": "zqENyLJBwjiD"
      },
      "execution_count": 18,
      "outputs": []
    },
    {
      "cell_type": "code",
      "source": [
        "school_envir = school_envir.round({'End Year': 0, 'Reported Spending per student':0, 'Student Count':0,'Educator Count':0,'AVG TCHR experience by school':0})"
      ],
      "metadata": {
        "id": "RDhRrjFF-Gy8"
      },
      "execution_count": 19,
      "outputs": []
    },
    {
      "cell_type": "code",
      "source": [
        "school_envir.to_csv('/content/drive/MyDrive/Colab Data/KY EPSB/All Years/Unpublished/school_envir.csv', index = False)"
      ],
      "metadata": {
        "id": "whFlArIoEvS4"
      },
      "execution_count": 20,
      "outputs": []
    },
    {
      "cell_type": "markdown",
      "metadata": {
        "id": "uwXBvI1a5Y3-"
      },
      "source": [
        "# District Salary Information"
      ]
    },
    {
      "cell_type": "code",
      "execution_count": 21,
      "metadata": {
        "id": "0s2JOEj65kpT"
      },
      "outputs": [],
      "source": [
        "# Import yearly salary information\n",
        "\n",
        "raw_2010_salary = pd.read_csv('/content/drive/MyDrive/Colab Data/KY EPSB/Salary schedules/fy 09-10 salary schedule.csv', skipfooter=1, engine='python')\n",
        "raw_2011_salary = pd.read_csv('/content/drive/MyDrive/Colab Data/KY EPSB/Salary schedules/fy 10-11 salary schedule.csv', skipfooter=1, engine='python')\n",
        "raw_2012_salary = pd.read_csv('/content/drive/MyDrive/Colab Data/KY EPSB/Salary schedules/fy 11-12 salary schedule.csv', skipfooter=1, engine='python')\n",
        "raw_2013_salary = pd.read_csv('/content/drive/MyDrive/Colab Data/KY EPSB/Salary schedules/fy 12-13 salary schedule.csv', skipfooter=1, engine='python')\n",
        "raw_2014_salary = pd.read_csv('/content/drive/MyDrive/Colab Data/KY EPSB/Salary schedules/fy 13-14 salary schedule.csv', skipfooter=1, engine='python')\n",
        "raw_2015_salary = pd.read_csv('/content/drive/MyDrive/Colab Data/KY EPSB/Salary schedules/fy 14-15 salary schedule.csv', skipfooter=1, engine='python')\n",
        "raw_2016_salary = pd.read_csv('/content/drive/MyDrive/Colab Data/KY EPSB/Salary schedules/fy 15-16 salary schedule.csv', skipfooter=1, engine='python')\n",
        "raw_2017_salary = pd.read_csv('/content/drive/MyDrive/Colab Data/KY EPSB/Salary schedules/fy 16-17 salary schedule.csv', skipfooter=1, engine='python')\n",
        "raw_2018_salary = pd.read_csv('/content/drive/MyDrive/Colab Data/KY EPSB/Salary schedules/fy 17-18 salary schedule.csv', skipfooter=1, engine='python')\n",
        "raw_2019_salary = pd.read_csv('/content/drive/MyDrive/Colab Data/KY EPSB/Salary schedules/fy 18-19 salary schedule.csv', skipfooter=1, engine='python')\n",
        "raw_2020_salary = pd.read_csv('/content/drive/MyDrive/Colab Data/KY EPSB/Salary schedules/fy 19-20 salary schedule.csv', skipfooter=1, engine='python')\n",
        "raw_2021_salary = pd.read_csv('/content/drive/MyDrive/Colab Data/KY EPSB/Salary schedules/fy 20-21 salary schedule.csv', skipfooter=9, engine='python')\n",
        "raw_2022_salary = pd.read_csv('/content/drive/MyDrive/Colab Data/KY EPSB/Salary schedules/fy 21-22 salary schedule.csv', skipfooter=1, engine='python')"
      ]
    },
    {
      "cell_type": "code",
      "source": [
        "# process teacher salaries per year, per district, and format salaries for further analysis\n",
        "\n",
        "def salary_schedule(schedule, year):\n",
        "    # Select only rows where the Rank is II\n",
        "    schedule = schedule[schedule['Rank'] == 'II'].copy()\n",
        "\n",
        "    # Compute the maximum salary for Rank II\n",
        "    salary = schedule[['I', 'II', 'III']].max(numeric_only=True ,axis=1)\n",
        "\n",
        "    # Add the 'Salary' column\n",
        "    schedule['Salary'] = salary\n",
        "\n",
        "    # Split the 'District' column into two columns and convert 'DISTRICT NUMBER' to integer\n",
        "    schedule[['District Code', 'District']] = schedule['District'].str.split(n=1, expand=True)\n",
        "    schedule['District Code'] = schedule['District Code'].astype(int)\n",
        "\n",
        "    # Select only the necessary columns\n",
        "    new_schedule = schedule.loc[:,['Fiscal Year', 'Years', 'District Code', 'District', 'Salary']].copy()\n",
        "\n",
        "    # Rename the columns\n",
        "    new_schedule = new_schedule.rename(columns={\n",
        "        'Fiscal Year': 'End Year',\n",
        "        'Years': 'AVG TCHR experience by school',\n",
        "        'Salary': 'TCHR SALARY based on experience in years'})\n",
        "\n",
        "    new_schedule['End Year'] = year\n",
        "\n",
        "    # Return the result\n",
        "    return new_schedule\n"
      ],
      "metadata": {
        "id": "nFpfcNWIs1nP"
      },
      "execution_count": 22,
      "outputs": []
    },
    {
      "cell_type": "code",
      "source": [
        "years = list(range(2010, 2023))\n",
        "salary_by_experience = pd.DataFrame()\n",
        "\n",
        "# Access raw data and concat into one df\n",
        "# Could've used this 'global' function with the school data info.\n",
        "for year in years:\n",
        "    raw_salary = globals()[f'raw_{year}_salary']\n",
        "    salary = salary_schedule(raw_salary, year)\n",
        "    salary_by_experience = pd.concat([salary_by_experience, salary], ignore_index=True)\n",
        "\n",
        "# This is the salary schedule by district, year, and experience.\n",
        "# This is based on a Rank II teacher status\n",
        "salary_by_experience.drop_duplicates(inplace=True, ignore_index=True)\n"
      ],
      "metadata": {
        "id": "PhqcSlbp5-GV"
      },
      "execution_count": 23,
      "outputs": []
    },
    {
      "cell_type": "code",
      "source": [
        "# Grab the df with the district avg salary\n",
        "avg_dist_salaries = '/content/drive/MyDrive/Colab Data/KY EPSB/Per District/Average Classroom Teacher Salaries (1989-2022) ADA.csv'\n",
        "raw_avg_salary = pd.read_csv(avg_dist_salaries, skipfooter=16, engine='python')\n",
        "\n",
        "# Select only the necessary columns\n",
        "avg_salary = raw_avg_salary.loc[:, ['Dist No', 'District name', '2009-10', '2010-11', '2011-12', '2012-13', '2013-14', '2014-15',\n",
        "       '2015-16', '2016-17', '2017-18', '2018-19', '2019-20', '2020-21', '2021-22']].copy()\n",
        "\n",
        "# Rename the columns\n",
        "new_column_names = ['District Code', 'District'] + list(range(2010, 2023))\n",
        "avg_salary.columns = new_column_names\n",
        "\n",
        "for year in range(2010, 2023):\n",
        "    avg_salary[year] = avg_salary[year].astype('Int64')\n",
        "\n",
        "# This is the avg teacher salaries per district per year.\n",
        "avg_salary.set_index('District Code', drop=True, inplace=True)"
      ],
      "metadata": {
        "id": "WRAp9fWfClmt"
      },
      "execution_count": 24,
      "outputs": []
    },
    {
      "cell_type": "code",
      "execution_count": 25,
      "metadata": {
        "id": "sDg9WEzymPQ1"
      },
      "outputs": [],
      "source": [
        "# Combine district avg salary with salaries by experience per year\n",
        "# This will be used to create an estimate of money spent per school.\n",
        "\n",
        "df_salary = salary_by_experience.copy()\n",
        "df_salary['AVG TCHR SALARY based on district avg'] = df_salary.apply(lambda row: avg_salary.loc[row['District Code'], row['End Year']], axis=1)\n",
        "df_salary.to_csv('/content/drive/MyDrive/Colab Data/KY EPSB/All Years/Unpublished/district_salary.csv', index = False)\n",
        "df_salary.drop(['District'], axis =1, inplace=True)"
      ]
    },
    {
      "cell_type": "markdown",
      "source": [
        "# School and District"
      ],
      "metadata": {
        "id": "d_NrR82Pl6pA"
      }
    },
    {
      "cell_type": "code",
      "execution_count": 26,
      "metadata": {
        "id": "TrmrZjBASW2i"
      },
      "outputs": [],
      "source": [
        "#Merge the school and district data.\n",
        "df_preprocessed = pd.merge(school_envir, df_salary, on=['End Year', 'District Code', 'AVG TCHR experience by school'], how='left')\n",
        "\n",
        "df_preprocessed.drop_duplicates(inplace=True) #drops 7 of 1 school\n",
        "df_preprocessed.dropna(subset=['End Year', 'Level'], inplace=True) # Drops two unique schools that had no other data.\n",
        "df_preprocessed.reset_index(drop=True, inplace=True)\n",
        "\n",
        "#Reorders the columns\n",
        "reordered_columns = ['End Year', 'District Code', 'District', 'School Code',\n",
        "                    'School', 'Level', 'Reported Spending per student', 'Student Count',\n",
        "                    'Educator Count', 'AVG TCHR experience by school', 'TCHR SALARY based on experience in years',\n",
        "                    'AVG TCHR SALARY based on district avg']\n",
        "\n",
        "df_preprocessed = df_preprocessed[reordered_columns]"
      ]
    },
    {
      "cell_type": "code",
      "source": [
        "# Replace the values that appear incorrect with np.Nan\n",
        "df_preprocessed.loc[df_preprocessed['Reported Spending per student'] < 2000, 'Reported Spending per student'] = np.NaN\n",
        "df_preprocessed.loc[df_preprocessed['Educator Count'] < 2, 'Educator Count'] = np.NaN\n",
        "df_preprocessed.loc[df_preprocessed['Student Count'] < 10, 'Student Count'] = np.NaN\n",
        "\n",
        "#Replace empty values with np.nan (doesn't remove data)\n",
        "null_mask = pd.isnull(df_preprocessed ['Reported Spending per student'])\n",
        "df_preprocessed.loc[null_mask, ['Money Difference per school', 'Money Difference per student']] = np.nan"
      ],
      "metadata": {
        "id": "nirL8ZxwmWeY"
      },
      "execution_count": 27,
      "outputs": []
    },
    {
      "cell_type": "code",
      "source": [
        "# Calculated estimated spending\n",
        "df_preprocessed['Money Difference per school'] = ((df_preprocessed['TCHR SALARY based on experience in years']\n",
        "                                                   - df_preprocessed['AVG TCHR SALARY based on district avg']) * df_preprocessed['Educator Count'])\n",
        "df_preprocessed['Money Difference per student'] = df_preprocessed['Money Difference per school'] / df_preprocessed['Student Count']\n",
        "df_preprocessed['Estimated Spending per student'] = df_preprocessed['Reported Spending per student'] + df_preprocessed['Money Difference per student']\n",
        "df_preprocessed = df_preprocessed.round({'Money Difference per school': 0, 'Money Difference per student': 0, 'Estimated Spending per student': 0})"
      ],
      "metadata": {
        "id": "0KP5K623mJf_"
      },
      "execution_count": 28,
      "outputs": []
    },
    {
      "cell_type": "code",
      "source": [
        "df_preprocessed.to_csv('/content/drive/MyDrive/Colab Data/KY EPSB/All Years/Unpublished/preprocessed_df.csv', index = False)"
      ],
      "metadata": {
        "id": "FB4ZgLgRmJnR"
      },
      "execution_count": 29,
      "outputs": []
    },
    {
      "cell_type": "code",
      "source": [
        "df_preprocessed"
      ],
      "metadata": {
        "colab": {
          "base_uri": "https://localhost:8080/",
          "height": 927
        },
        "id": "MLOt-XAj3w13",
        "outputId": "b4e020c8-41e1-4409-9ad3-d65e4cec6730"
      },
      "execution_count": 30,
      "outputs": [
        {
          "output_type": "execute_result",
          "data": {
            "text/plain": [
              "       End Year  District Code         District  School Code  \\\n",
              "0          2012              1     Adair County         1010   \n",
              "1          2013              1     Adair County         1010   \n",
              "2          2014              1     Adair County         1010   \n",
              "3          2015              1     Adair County         1010   \n",
              "4          2016              1     Adair County         1010   \n",
              "...         ...            ...              ...          ...   \n",
              "16119      2018            601  Woodford County       601120   \n",
              "16120      2019            601  Woodford County       601120   \n",
              "16121      2020            601  Woodford County       601120   \n",
              "16122      2021            601  Woodford County       601120   \n",
              "16123      2022            601  Woodford County       601120   \n",
              "\n",
              "                            School Level  Reported Spending per student  \\\n",
              "0         Adair County High School    HS                         6457.0   \n",
              "1         Adair County High School    HS                         6377.0   \n",
              "2         Adair County High School    HS                         6970.0   \n",
              "3         Adair County High School    HS                         9486.0   \n",
              "4         Adair County High School    HS                        10270.0   \n",
              "...                            ...   ...                            ...   \n",
              "16119  Northside Elementary School    ES                        13641.0   \n",
              "16120  Northside Elementary School    ES                        11865.0   \n",
              "16121  Northside Elementary School    ES                        13804.0   \n",
              "16122  Northside Elementary School    ES                        15563.0   \n",
              "16123  Northside Elementary School    ES                        15041.0   \n",
              "\n",
              "       Student Count  Educator Count  AVG TCHR experience by school  \\\n",
              "0              698.0            42.0                           17.0   \n",
              "1              750.0            42.0                           17.0   \n",
              "2              737.0            42.0                           17.0   \n",
              "3              771.0            48.0                           14.0   \n",
              "4              778.0            46.0                           14.0   \n",
              "...              ...             ...                            ...   \n",
              "16119          345.0            18.0                           15.0   \n",
              "16120          342.0            17.0                           16.0   \n",
              "16121          330.0            18.0                           15.0   \n",
              "16122          331.0            20.0                           17.0   \n",
              "16123          328.0            19.0                           16.0   \n",
              "\n",
              "       TCHR SALARY based on experience in years  \\\n",
              "0                                       47186.0   \n",
              "1                                       47186.0   \n",
              "2                                       47186.0   \n",
              "3                                       46648.0   \n",
              "4                                       47581.0   \n",
              "...                                         ...   \n",
              "16119                                   55200.0   \n",
              "16120                                   55465.0   \n",
              "16121                                   55200.0   \n",
              "16122                                   55728.0   \n",
              "16123                                   56574.0   \n",
              "\n",
              "       AVG TCHR SALARY based on district avg  Money Difference per school  \\\n",
              "0                                    48053.0                     -36414.0   \n",
              "1                                    48068.0                     -37044.0   \n",
              "2                                    47499.0                     -13146.0   \n",
              "3                                    47525.0                     -42096.0   \n",
              "4                                    47999.0                     -19228.0   \n",
              "...                                      ...                          ...   \n",
              "16119                                52324.0                      51768.0   \n",
              "16120                                52618.0                      48399.0   \n",
              "16121                                52650.0                      45900.0   \n",
              "16122                                53038.0                      53800.0   \n",
              "16123                                54266.0                      43852.0   \n",
              "\n",
              "       Money Difference per student  Estimated Spending per student  \n",
              "0                             -52.0                          6405.0  \n",
              "1                             -49.0                          6328.0  \n",
              "2                             -18.0                          6952.0  \n",
              "3                             -55.0                          9431.0  \n",
              "4                             -25.0                         10245.0  \n",
              "...                             ...                             ...  \n",
              "16119                         150.0                         13791.0  \n",
              "16120                         142.0                         12007.0  \n",
              "16121                         139.0                         13943.0  \n",
              "16122                         163.0                         15726.0  \n",
              "16123                         134.0                         15175.0  \n",
              "\n",
              "[16124 rows x 15 columns]"
            ],
            "text/html": [
              "\n",
              "  <div id=\"df-b936ef75-fedb-42ea-9ee2-9ce6f9c46231\" class=\"colab-df-container\">\n",
              "    <div>\n",
              "<style scoped>\n",
              "    .dataframe tbody tr th:only-of-type {\n",
              "        vertical-align: middle;\n",
              "    }\n",
              "\n",
              "    .dataframe tbody tr th {\n",
              "        vertical-align: top;\n",
              "    }\n",
              "\n",
              "    .dataframe thead th {\n",
              "        text-align: right;\n",
              "    }\n",
              "</style>\n",
              "<table border=\"1\" class=\"dataframe\">\n",
              "  <thead>\n",
              "    <tr style=\"text-align: right;\">\n",
              "      <th></th>\n",
              "      <th>End Year</th>\n",
              "      <th>District Code</th>\n",
              "      <th>District</th>\n",
              "      <th>School Code</th>\n",
              "      <th>School</th>\n",
              "      <th>Level</th>\n",
              "      <th>Reported Spending per student</th>\n",
              "      <th>Student Count</th>\n",
              "      <th>Educator Count</th>\n",
              "      <th>AVG TCHR experience by school</th>\n",
              "      <th>TCHR SALARY based on experience in years</th>\n",
              "      <th>AVG TCHR SALARY based on district avg</th>\n",
              "      <th>Money Difference per school</th>\n",
              "      <th>Money Difference per student</th>\n",
              "      <th>Estimated Spending per student</th>\n",
              "    </tr>\n",
              "  </thead>\n",
              "  <tbody>\n",
              "    <tr>\n",
              "      <th>0</th>\n",
              "      <td>2012</td>\n",
              "      <td>1</td>\n",
              "      <td>Adair County</td>\n",
              "      <td>1010</td>\n",
              "      <td>Adair County High School</td>\n",
              "      <td>HS</td>\n",
              "      <td>6457.0</td>\n",
              "      <td>698.0</td>\n",
              "      <td>42.0</td>\n",
              "      <td>17.0</td>\n",
              "      <td>47186.0</td>\n",
              "      <td>48053.0</td>\n",
              "      <td>-36414.0</td>\n",
              "      <td>-52.0</td>\n",
              "      <td>6405.0</td>\n",
              "    </tr>\n",
              "    <tr>\n",
              "      <th>1</th>\n",
              "      <td>2013</td>\n",
              "      <td>1</td>\n",
              "      <td>Adair County</td>\n",
              "      <td>1010</td>\n",
              "      <td>Adair County High School</td>\n",
              "      <td>HS</td>\n",
              "      <td>6377.0</td>\n",
              "      <td>750.0</td>\n",
              "      <td>42.0</td>\n",
              "      <td>17.0</td>\n",
              "      <td>47186.0</td>\n",
              "      <td>48068.0</td>\n",
              "      <td>-37044.0</td>\n",
              "      <td>-49.0</td>\n",
              "      <td>6328.0</td>\n",
              "    </tr>\n",
              "    <tr>\n",
              "      <th>2</th>\n",
              "      <td>2014</td>\n",
              "      <td>1</td>\n",
              "      <td>Adair County</td>\n",
              "      <td>1010</td>\n",
              "      <td>Adair County High School</td>\n",
              "      <td>HS</td>\n",
              "      <td>6970.0</td>\n",
              "      <td>737.0</td>\n",
              "      <td>42.0</td>\n",
              "      <td>17.0</td>\n",
              "      <td>47186.0</td>\n",
              "      <td>47499.0</td>\n",
              "      <td>-13146.0</td>\n",
              "      <td>-18.0</td>\n",
              "      <td>6952.0</td>\n",
              "    </tr>\n",
              "    <tr>\n",
              "      <th>3</th>\n",
              "      <td>2015</td>\n",
              "      <td>1</td>\n",
              "      <td>Adair County</td>\n",
              "      <td>1010</td>\n",
              "      <td>Adair County High School</td>\n",
              "      <td>HS</td>\n",
              "      <td>9486.0</td>\n",
              "      <td>771.0</td>\n",
              "      <td>48.0</td>\n",
              "      <td>14.0</td>\n",
              "      <td>46648.0</td>\n",
              "      <td>47525.0</td>\n",
              "      <td>-42096.0</td>\n",
              "      <td>-55.0</td>\n",
              "      <td>9431.0</td>\n",
              "    </tr>\n",
              "    <tr>\n",
              "      <th>4</th>\n",
              "      <td>2016</td>\n",
              "      <td>1</td>\n",
              "      <td>Adair County</td>\n",
              "      <td>1010</td>\n",
              "      <td>Adair County High School</td>\n",
              "      <td>HS</td>\n",
              "      <td>10270.0</td>\n",
              "      <td>778.0</td>\n",
              "      <td>46.0</td>\n",
              "      <td>14.0</td>\n",
              "      <td>47581.0</td>\n",
              "      <td>47999.0</td>\n",
              "      <td>-19228.0</td>\n",
              "      <td>-25.0</td>\n",
              "      <td>10245.0</td>\n",
              "    </tr>\n",
              "    <tr>\n",
              "      <th>...</th>\n",
              "      <td>...</td>\n",
              "      <td>...</td>\n",
              "      <td>...</td>\n",
              "      <td>...</td>\n",
              "      <td>...</td>\n",
              "      <td>...</td>\n",
              "      <td>...</td>\n",
              "      <td>...</td>\n",
              "      <td>...</td>\n",
              "      <td>...</td>\n",
              "      <td>...</td>\n",
              "      <td>...</td>\n",
              "      <td>...</td>\n",
              "      <td>...</td>\n",
              "      <td>...</td>\n",
              "    </tr>\n",
              "    <tr>\n",
              "      <th>16119</th>\n",
              "      <td>2018</td>\n",
              "      <td>601</td>\n",
              "      <td>Woodford County</td>\n",
              "      <td>601120</td>\n",
              "      <td>Northside Elementary School</td>\n",
              "      <td>ES</td>\n",
              "      <td>13641.0</td>\n",
              "      <td>345.0</td>\n",
              "      <td>18.0</td>\n",
              "      <td>15.0</td>\n",
              "      <td>55200.0</td>\n",
              "      <td>52324.0</td>\n",
              "      <td>51768.0</td>\n",
              "      <td>150.0</td>\n",
              "      <td>13791.0</td>\n",
              "    </tr>\n",
              "    <tr>\n",
              "      <th>16120</th>\n",
              "      <td>2019</td>\n",
              "      <td>601</td>\n",
              "      <td>Woodford County</td>\n",
              "      <td>601120</td>\n",
              "      <td>Northside Elementary School</td>\n",
              "      <td>ES</td>\n",
              "      <td>11865.0</td>\n",
              "      <td>342.0</td>\n",
              "      <td>17.0</td>\n",
              "      <td>16.0</td>\n",
              "      <td>55465.0</td>\n",
              "      <td>52618.0</td>\n",
              "      <td>48399.0</td>\n",
              "      <td>142.0</td>\n",
              "      <td>12007.0</td>\n",
              "    </tr>\n",
              "    <tr>\n",
              "      <th>16121</th>\n",
              "      <td>2020</td>\n",
              "      <td>601</td>\n",
              "      <td>Woodford County</td>\n",
              "      <td>601120</td>\n",
              "      <td>Northside Elementary School</td>\n",
              "      <td>ES</td>\n",
              "      <td>13804.0</td>\n",
              "      <td>330.0</td>\n",
              "      <td>18.0</td>\n",
              "      <td>15.0</td>\n",
              "      <td>55200.0</td>\n",
              "      <td>52650.0</td>\n",
              "      <td>45900.0</td>\n",
              "      <td>139.0</td>\n",
              "      <td>13943.0</td>\n",
              "    </tr>\n",
              "    <tr>\n",
              "      <th>16122</th>\n",
              "      <td>2021</td>\n",
              "      <td>601</td>\n",
              "      <td>Woodford County</td>\n",
              "      <td>601120</td>\n",
              "      <td>Northside Elementary School</td>\n",
              "      <td>ES</td>\n",
              "      <td>15563.0</td>\n",
              "      <td>331.0</td>\n",
              "      <td>20.0</td>\n",
              "      <td>17.0</td>\n",
              "      <td>55728.0</td>\n",
              "      <td>53038.0</td>\n",
              "      <td>53800.0</td>\n",
              "      <td>163.0</td>\n",
              "      <td>15726.0</td>\n",
              "    </tr>\n",
              "    <tr>\n",
              "      <th>16123</th>\n",
              "      <td>2022</td>\n",
              "      <td>601</td>\n",
              "      <td>Woodford County</td>\n",
              "      <td>601120</td>\n",
              "      <td>Northside Elementary School</td>\n",
              "      <td>ES</td>\n",
              "      <td>15041.0</td>\n",
              "      <td>328.0</td>\n",
              "      <td>19.0</td>\n",
              "      <td>16.0</td>\n",
              "      <td>56574.0</td>\n",
              "      <td>54266.0</td>\n",
              "      <td>43852.0</td>\n",
              "      <td>134.0</td>\n",
              "      <td>15175.0</td>\n",
              "    </tr>\n",
              "  </tbody>\n",
              "</table>\n",
              "<p>16124 rows × 15 columns</p>\n",
              "</div>\n",
              "    <div class=\"colab-df-buttons\">\n",
              "\n",
              "  <div class=\"colab-df-container\">\n",
              "    <button class=\"colab-df-convert\" onclick=\"convertToInteractive('df-b936ef75-fedb-42ea-9ee2-9ce6f9c46231')\"\n",
              "            title=\"Convert this dataframe to an interactive table.\"\n",
              "            style=\"display:none;\">\n",
              "\n",
              "  <svg xmlns=\"http://www.w3.org/2000/svg\" height=\"24px\" viewBox=\"0 -960 960 960\">\n",
              "    <path d=\"M120-120v-720h720v720H120Zm60-500h600v-160H180v160Zm220 220h160v-160H400v160Zm0 220h160v-160H400v160ZM180-400h160v-160H180v160Zm440 0h160v-160H620v160ZM180-180h160v-160H180v160Zm440 0h160v-160H620v160Z\"/>\n",
              "  </svg>\n",
              "    </button>\n",
              "\n",
              "  <style>\n",
              "    .colab-df-container {\n",
              "      display:flex;\n",
              "      gap: 12px;\n",
              "    }\n",
              "\n",
              "    .colab-df-convert {\n",
              "      background-color: #E8F0FE;\n",
              "      border: none;\n",
              "      border-radius: 50%;\n",
              "      cursor: pointer;\n",
              "      display: none;\n",
              "      fill: #1967D2;\n",
              "      height: 32px;\n",
              "      padding: 0 0 0 0;\n",
              "      width: 32px;\n",
              "    }\n",
              "\n",
              "    .colab-df-convert:hover {\n",
              "      background-color: #E2EBFA;\n",
              "      box-shadow: 0px 1px 2px rgba(60, 64, 67, 0.3), 0px 1px 3px 1px rgba(60, 64, 67, 0.15);\n",
              "      fill: #174EA6;\n",
              "    }\n",
              "\n",
              "    .colab-df-buttons div {\n",
              "      margin-bottom: 4px;\n",
              "    }\n",
              "\n",
              "    [theme=dark] .colab-df-convert {\n",
              "      background-color: #3B4455;\n",
              "      fill: #D2E3FC;\n",
              "    }\n",
              "\n",
              "    [theme=dark] .colab-df-convert:hover {\n",
              "      background-color: #434B5C;\n",
              "      box-shadow: 0px 1px 3px 1px rgba(0, 0, 0, 0.15);\n",
              "      filter: drop-shadow(0px 1px 2px rgba(0, 0, 0, 0.3));\n",
              "      fill: #FFFFFF;\n",
              "    }\n",
              "  </style>\n",
              "\n",
              "    <script>\n",
              "      const buttonEl =\n",
              "        document.querySelector('#df-b936ef75-fedb-42ea-9ee2-9ce6f9c46231 button.colab-df-convert');\n",
              "      buttonEl.style.display =\n",
              "        google.colab.kernel.accessAllowed ? 'block' : 'none';\n",
              "\n",
              "      async function convertToInteractive(key) {\n",
              "        const element = document.querySelector('#df-b936ef75-fedb-42ea-9ee2-9ce6f9c46231');\n",
              "        const dataTable =\n",
              "          await google.colab.kernel.invokeFunction('convertToInteractive',\n",
              "                                                    [key], {});\n",
              "        if (!dataTable) return;\n",
              "\n",
              "        const docLinkHtml = 'Like what you see? Visit the ' +\n",
              "          '<a target=\"_blank\" href=https://colab.research.google.com/notebooks/data_table.ipynb>data table notebook</a>'\n",
              "          + ' to learn more about interactive tables.';\n",
              "        element.innerHTML = '';\n",
              "        dataTable['output_type'] = 'display_data';\n",
              "        await google.colab.output.renderOutput(dataTable, element);\n",
              "        const docLink = document.createElement('div');\n",
              "        docLink.innerHTML = docLinkHtml;\n",
              "        element.appendChild(docLink);\n",
              "      }\n",
              "    </script>\n",
              "  </div>\n",
              "\n",
              "\n",
              "<div id=\"df-2fe5ed57-f2e2-4f4b-adb4-72afe8cde41b\">\n",
              "  <button class=\"colab-df-quickchart\" onclick=\"quickchart('df-2fe5ed57-f2e2-4f4b-adb4-72afe8cde41b')\"\n",
              "            title=\"Suggest charts.\"\n",
              "            style=\"display:none;\">\n",
              "\n",
              "<svg xmlns=\"http://www.w3.org/2000/svg\" height=\"24px\"viewBox=\"0 0 24 24\"\n",
              "     width=\"24px\">\n",
              "    <g>\n",
              "        <path d=\"M19 3H5c-1.1 0-2 .9-2 2v14c0 1.1.9 2 2 2h14c1.1 0 2-.9 2-2V5c0-1.1-.9-2-2-2zM9 17H7v-7h2v7zm4 0h-2V7h2v10zm4 0h-2v-4h2v4z\"/>\n",
              "    </g>\n",
              "</svg>\n",
              "  </button>\n",
              "\n",
              "<style>\n",
              "  .colab-df-quickchart {\n",
              "      --bg-color: #E8F0FE;\n",
              "      --fill-color: #1967D2;\n",
              "      --hover-bg-color: #E2EBFA;\n",
              "      --hover-fill-color: #174EA6;\n",
              "      --disabled-fill-color: #AAA;\n",
              "      --disabled-bg-color: #DDD;\n",
              "  }\n",
              "\n",
              "  [theme=dark] .colab-df-quickchart {\n",
              "      --bg-color: #3B4455;\n",
              "      --fill-color: #D2E3FC;\n",
              "      --hover-bg-color: #434B5C;\n",
              "      --hover-fill-color: #FFFFFF;\n",
              "      --disabled-bg-color: #3B4455;\n",
              "      --disabled-fill-color: #666;\n",
              "  }\n",
              "\n",
              "  .colab-df-quickchart {\n",
              "    background-color: var(--bg-color);\n",
              "    border: none;\n",
              "    border-radius: 50%;\n",
              "    cursor: pointer;\n",
              "    display: none;\n",
              "    fill: var(--fill-color);\n",
              "    height: 32px;\n",
              "    padding: 0;\n",
              "    width: 32px;\n",
              "  }\n",
              "\n",
              "  .colab-df-quickchart:hover {\n",
              "    background-color: var(--hover-bg-color);\n",
              "    box-shadow: 0 1px 2px rgba(60, 64, 67, 0.3), 0 1px 3px 1px rgba(60, 64, 67, 0.15);\n",
              "    fill: var(--button-hover-fill-color);\n",
              "  }\n",
              "\n",
              "  .colab-df-quickchart-complete:disabled,\n",
              "  .colab-df-quickchart-complete:disabled:hover {\n",
              "    background-color: var(--disabled-bg-color);\n",
              "    fill: var(--disabled-fill-color);\n",
              "    box-shadow: none;\n",
              "  }\n",
              "\n",
              "  .colab-df-spinner {\n",
              "    border: 2px solid var(--fill-color);\n",
              "    border-color: transparent;\n",
              "    border-bottom-color: var(--fill-color);\n",
              "    animation:\n",
              "      spin 1s steps(1) infinite;\n",
              "  }\n",
              "\n",
              "  @keyframes spin {\n",
              "    0% {\n",
              "      border-color: transparent;\n",
              "      border-bottom-color: var(--fill-color);\n",
              "      border-left-color: var(--fill-color);\n",
              "    }\n",
              "    20% {\n",
              "      border-color: transparent;\n",
              "      border-left-color: var(--fill-color);\n",
              "      border-top-color: var(--fill-color);\n",
              "    }\n",
              "    30% {\n",
              "      border-color: transparent;\n",
              "      border-left-color: var(--fill-color);\n",
              "      border-top-color: var(--fill-color);\n",
              "      border-right-color: var(--fill-color);\n",
              "    }\n",
              "    40% {\n",
              "      border-color: transparent;\n",
              "      border-right-color: var(--fill-color);\n",
              "      border-top-color: var(--fill-color);\n",
              "    }\n",
              "    60% {\n",
              "      border-color: transparent;\n",
              "      border-right-color: var(--fill-color);\n",
              "    }\n",
              "    80% {\n",
              "      border-color: transparent;\n",
              "      border-right-color: var(--fill-color);\n",
              "      border-bottom-color: var(--fill-color);\n",
              "    }\n",
              "    90% {\n",
              "      border-color: transparent;\n",
              "      border-bottom-color: var(--fill-color);\n",
              "    }\n",
              "  }\n",
              "</style>\n",
              "\n",
              "  <script>\n",
              "    async function quickchart(key) {\n",
              "      const quickchartButtonEl =\n",
              "        document.querySelector('#' + key + ' button');\n",
              "      quickchartButtonEl.disabled = true;  // To prevent multiple clicks.\n",
              "      quickchartButtonEl.classList.add('colab-df-spinner');\n",
              "      try {\n",
              "        const charts = await google.colab.kernel.invokeFunction(\n",
              "            'suggestCharts', [key], {});\n",
              "      } catch (error) {\n",
              "        console.error('Error during call to suggestCharts:', error);\n",
              "      }\n",
              "      quickchartButtonEl.classList.remove('colab-df-spinner');\n",
              "      quickchartButtonEl.classList.add('colab-df-quickchart-complete');\n",
              "    }\n",
              "    (() => {\n",
              "      let quickchartButtonEl =\n",
              "        document.querySelector('#df-2fe5ed57-f2e2-4f4b-adb4-72afe8cde41b button');\n",
              "      quickchartButtonEl.style.display =\n",
              "        google.colab.kernel.accessAllowed ? 'block' : 'none';\n",
              "    })();\n",
              "  </script>\n",
              "</div>\n",
              "    </div>\n",
              "  </div>\n"
            ]
          },
          "metadata": {},
          "execution_count": 30
        }
      ]
    }
  ],
  "metadata": {
    "colab": {
      "provenance": [],
      "authorship_tag": "ABX9TyPrV2sFbxK4B0uOT3kZAl0p",
      "include_colab_link": true
    },
    "kernelspec": {
      "display_name": "Python 3",
      "name": "python3"
    },
    "language_info": {
      "name": "python"
    }
  },
  "nbformat": 4,
  "nbformat_minor": 0
}