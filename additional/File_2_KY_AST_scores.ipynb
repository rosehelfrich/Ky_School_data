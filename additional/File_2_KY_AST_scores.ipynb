{
  "nbformat": 4,
  "nbformat_minor": 0,
  "metadata": {
    "colab": {
      "provenance": [],
      "toc_visible": true,
      "authorship_tag": "ABX9TyNHh6W9VHc529Rs9MSCkTou",
      "include_colab_link": true
    },
    "kernelspec": {
      "name": "python3",
      "display_name": "Python 3"
    },
    "language_info": {
      "name": "python"
    }
  },
  "cells": [
    {
      "cell_type": "markdown",
      "metadata": {
        "id": "view-in-github",
        "colab_type": "text"
      },
      "source": [
        "<a href=\"https://colab.research.google.com/github/rosehelfrich/Ky_School_data/blob/main/additional/File_2_KY_AST_scores.ipynb\" target=\"_parent\"><img src=\"https://colab.research.google.com/assets/colab-badge.svg\" alt=\"Open In Colab\"/></a>"
      ]
    },
    {
      "cell_type": "code",
      "execution_count": 1,
      "metadata": {
        "id": "1Yrn-Lwy6Jdh"
      },
      "outputs": [],
      "source": [
        "import pandas as pd\n",
        "import numpy as np"
      ]
    },
    {
      "cell_type": "code",
      "source": [
        "from google.colab import drive\n",
        "drive.mount('/content/drive')"
      ],
      "metadata": {
        "colab": {
          "base_uri": "https://localhost:8080/"
        },
        "id": "HM6eD5ub6Vgt",
        "outputId": "afe8b463-9d8b-4a91-bb39-3b56bfd00c94"
      },
      "execution_count": 3,
      "outputs": [
        {
          "output_type": "stream",
          "name": "stdout",
          "text": [
            "Drive already mounted at /content/drive; to attempt to forcibly remount, call drive.mount(\"/content/drive\", force_remount=True).\n"
          ]
        }
      ]
    },
    {
      "cell_type": "code",
      "source": [
        "pd.options.display.max_columns = None\n",
        "pd.set_option('display.precision', 2)\n",
        "\n",
        "df = pd.read_csv('/content/drive/MyDrive/Colab Data/KY EPSB/All Years/df_header.csv')\n",
        "\n",
        "df_header = df.loc[:,['District Code', 'District', 'School Code', 'School', 'Level']]"
      ],
      "metadata": {
        "id": "Op0s0EHv6Vog"
      },
      "execution_count": 4,
      "outputs": []
    },
    {
      "cell_type": "markdown",
      "source": [
        "# Load reports"
      ],
      "metadata": {
        "id": "ukG_k4oQCBh3"
      }
    },
    {
      "cell_type": "code",
      "source": [
        "profile_2012 = pd.read_csv('/content/drive/MyDrive/Colab Data/KY EPSB/2011-2012/ACCOUNTABILITY_PROFILE-2012.csv') # total points available\n",
        "profile_2013 = pd.read_csv('/content/drive/MyDrive/Colab Data/KY EPSB/2012-2013/ACCOUNTABILITY_PROFILE-2013.csv') # total points available\n",
        "profile_2014 = pd.read_csv('/content/drive/MyDrive/Colab Data/KY EPSB/2013-2014/ACCOUNTABILITY_PROFILE-2014.csv')\n",
        "profile_2015 = pd.read_csv('/content/drive/MyDrive/Colab Data/KY EPSB/2014-2015/ACCOUNTABILITY_PROFILE-2015.csv')\n",
        "profile_2016 = pd.read_csv('/content/drive/MyDrive/Colab Data/KY EPSB/2015-2016/ACCOUNTABILITY_PROFILE-2016.csv')\n",
        "\n",
        "profile_2017 = pd.read_csv('/content/drive/MyDrive/Colab Data/KY EPSB/2016-2017/ACCOUNTABILITY_ACHIEVEMENT_SUMMARY.csv') # 'Overall Score' are all null\n",
        "profile_2018 = pd.read_csv('/content/drive/MyDrive/Colab Data/KY EPSB/2017-2018/ACCOUNTABILITY_SUMMARY-2018.csv')\n",
        "profile_2019 = pd.read_csv('/content/drive/MyDrive/Colab Data/KY EPSB/2018-2019/ACCOUNTABILITY_PROFILE-2019.csv')\n",
        "\n",
        "profile_2022 = pd.read_csv('/content/drive/MyDrive/Colab Data/KY EPSB/2021-2022/accountability_profile_2022.csv')"
      ],
      "metadata": {
        "id": "chGUYTwtQqYK"
      },
      "execution_count": 5,
      "outputs": []
    },
    {
      "cell_type": "code",
      "source": [
        "profile_2017 = profile_2017[~profile_2017['SCH_NAME'].str.contains(\"---\")]\n",
        "profile_2017 = profile_2017[profile_2017['PERFORMANCE_TYPE'] == 'Points']\n",
        "profile_2017 = profile_2017[profile_2017['ACCT_TYPE'] == 'ACH']\n",
        "profile_2017.reset_index(drop=True, inplace=True)"
      ],
      "metadata": {
        "id": "b2CVZuNYvFep"
      },
      "execution_count": 6,
      "outputs": []
    },
    {
      "cell_type": "code",
      "source": [
        "profile_2019 = profile_2019[~profile_2019['SCH_NAME'].str.contains(\"---\")]\n",
        "profile_2019.reset_index(drop=True, inplace=True)"
      ],
      "metadata": {
        "id": "q_UIOX9YtgPQ"
      },
      "execution_count": 7,
      "outputs": []
    },
    {
      "cell_type": "code",
      "source": [
        "profile_2022.dropna(subset='SCHOOL TYPE', axis =0, inplace=True)\n",
        "profile_2022.reset_index(drop=True, inplace=True)"
      ],
      "metadata": {
        "id": "wvPechkZc48z"
      },
      "execution_count": 8,
      "outputs": []
    },
    {
      "cell_type": "code",
      "source": [
        "score_2012 = profile_2012.loc[:,['SCH_YEAR', 'SCH_CD', 'OVERALL_SCORE', 'CLASSIFICATION', 'CONTENT_LEVEL']]\n",
        "score_2013 = profile_2013.loc[:,['SCH_YEAR', 'SCH_CD', 'OVERALL_SCORE', 'CLASSIFICATION', 'CONTENT_LEVEL']]\n",
        "score_2014 = profile_2014.loc[:,['SCH_YEAR', 'SCH_CD', 'OVERALL_SCORE', 'CLASSIFICATION', 'CONTENT_LEVEL']]\n",
        "score_2015 = profile_2015.loc[:,['SCH_YEAR', 'SCH_CD', 'OVERALL_SCORE', 'CLASSIFICATION', 'CONTENT_LEVEL']]\n",
        "score_2016 = profile_2016.loc[:,['SCH_YEAR', 'SCH_CD', 'OVERALL_SCORE', 'CLASSIFICATION', 'CONTENT_LEVEL']]\n",
        "\n",
        "score_2017 = profile_2017.loc[:,['SCH_YEAR', 'SCH_CD', 'TOTAL_POINTS', 'CONTENT_LEVEL']]\n",
        "score_2018 = profile_2018.loc[:,['SCH_YEAR', 'SCH_CD', 'PROFICIENCY_RATE', 'LEVEL']] # All Null values for Proficiency Rating\n",
        "\n",
        "score_2019 = profile_2019.loc[:,['SCH_YEAR', 'SCH_CD', 'PROFICIENCY_RATE', 'PROFICIENCY_RATING', 'LEVEL']] # PROFICIENCY rate available\n",
        "score_2022 = profile_2022.loc[:,['SCHOOL YEAR','SCHOOL CODE', 'OVERALL INDICATOR RATE', 'OVERALL INDICATOR RATING', 'LEVEL']]  # PROFICIENCY scores NOT available\n"
      ],
      "metadata": {
        "id": "8bbc3oIaUC7d"
      },
      "execution_count": 9,
      "outputs": []
    },
    {
      "cell_type": "code",
      "source": [
        "# Rename columns\n",
        "\n",
        "def four_columns_renamed(df, end_year):\n",
        "  df.columns = ['End Year', 'School Code', 'Proficiency Rate', 'Classification', 'Level']\n",
        "  df.replace(df['End Year'][0], end_year, inplace=True)\n",
        "\n",
        "four_columns_renamed(score_2012, 2012)\n",
        "four_columns_renamed(score_2013, 2013)\n",
        "four_columns_renamed(score_2014, 2014)\n",
        "four_columns_renamed(score_2015, 2015)\n",
        "four_columns_renamed(score_2016, 2016)\n",
        "four_columns_renamed(score_2019, 2019)\n",
        "four_columns_renamed(score_2022, 2022)\n",
        "\n",
        "def three_columns_renamed(df, end_year):\n",
        "  df.columns = ['End Year', 'School Code', 'Proficiency Rate', 'Level']\n",
        "  df.replace(df['End Year'][0], end_year, inplace=True)\n",
        "\n",
        "three_columns_renamed(score_2017, 2017)\n",
        "three_columns_renamed(score_2018, 2018)\n"
      ],
      "metadata": {
        "id": "MCfH02P6K4S_"
      },
      "execution_count": 10,
      "outputs": []
    },
    {
      "cell_type": "markdown",
      "source": [
        "# Concat and remove duplicates"
      ],
      "metadata": {
        "id": "_9y-cXXdXOZE"
      }
    },
    {
      "cell_type": "code",
      "source": [
        "all_scores = pd.concat([score_2012, score_2013, score_2014, score_2015, score_2016,\n",
        "                        score_2017, score_2018, score_2019, score_2022], axis =0)\n",
        "all_scores.reset_index(drop=True, inplace=True)"
      ],
      "metadata": {
        "id": "HPXt3TugUNGY"
      },
      "execution_count": 11,
      "outputs": []
    },
    {
      "cell_type": "code",
      "source": [
        "# Clean up Classification values\n",
        "all_scores['Level'].replace(['Elementary School', 'Middle School', 'High School'], ['ES', 'MS', 'HS'], inplace=True)\n",
        "all_scores['Classification'].replace([1,2,3,4,5], [0,1,2,3,4], inplace=True)\n",
        "all_scores['Classification'].replace(['Needs Improvement/Progressing', 'Proficient/Progressing', 'Distinguished/Progressing'],\n",
        "                                     ['Needs Improvement', 'Proficient', 'Distinguished'], inplace=True)\n",
        "all_scores['Classification'].replace(['Very Low', 'Low', 'Medium', 'High', 'Very High'],\n",
        "                     [0,1,2,3,4], inplace=True)"
      ],
      "metadata": {
        "id": "flcEHSxFnkI3"
      },
      "execution_count": 12,
      "outputs": []
    },
    {
      "cell_type": "code",
      "source": [
        "# Create a new column 'Rating' in df_scores\n",
        "all_scores['Rating Code'] = all_scores['Classification']\n",
        "all_scores['Rating Code'].replace(['Needs Improvement', 'Proficient', 'Distinguished'], np.NaN, inplace=True)\n",
        "all_scores['Classification'].replace([0,1,2,3,4], np.NaN, inplace=True)\n"
      ],
      "metadata": {
        "id": "wWrfZxn-19BW"
      },
      "execution_count": 13,
      "outputs": []
    },
    {
      "cell_type": "markdown",
      "source": [
        "# Merge with header"
      ],
      "metadata": {
        "id": "dzopqRaRUUqU"
      }
    },
    {
      "cell_type": "code",
      "source": [
        "df_scores = pd.merge(df_header, all_scores, on=['School Code', 'Level'], how='inner')\n",
        "df_scores.sort_values(by=['End Year', 'District', 'School'], ascending=True, inplace=True)\n",
        "df_scores.reset_index(drop=True, inplace=True)"
      ],
      "metadata": {
        "id": "jqz5-HqZWaQX"
      },
      "execution_count": 14,
      "outputs": []
    },
    {
      "cell_type": "code",
      "source": [
        "# Reorder columns\n",
        "reordered_columns = ['End Year', 'District Code', 'District', 'School Code', 'School', 'Level',\n",
        "                     'Proficiency Rate', 'Classification', 'Rating Code']\n",
        "df_scores = df_scores[reordered_columns]"
      ],
      "metadata": {
        "id": "5pHoYuV4WfjD"
      },
      "execution_count": 15,
      "outputs": []
    },
    {
      "cell_type": "code",
      "source": [
        "df_scores.to_csv('/content/drive/MyDrive/Colab Data/KY EPSB/All Years/Unpublished/df_scores.csv', index = False)"
      ],
      "metadata": {
        "id": "M24CUJJJkVxp"
      },
      "execution_count": 16,
      "outputs": []
    }
  ]
}